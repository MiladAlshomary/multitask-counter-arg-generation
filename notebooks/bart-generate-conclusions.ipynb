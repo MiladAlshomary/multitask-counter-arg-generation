{
 "cells": [
  {
   "cell_type": "code",
   "execution_count": 1,
   "metadata": {},
   "outputs": [],
   "source": [
    "import sys\n",
    "sys.path.append('../src-py/')"
   ]
  },
  {
   "cell_type": "code",
   "execution_count": 2,
   "metadata": {},
   "outputs": [],
   "source": [
    "from generate_conclusions import *"
   ]
  },
  {
   "cell_type": "code",
   "execution_count": 3,
   "metadata": {},
   "outputs": [],
   "source": [
    "import pandas as pd\n",
    "from tqdm import tqdm\n",
    "tqdm.pandas()\n",
    "\n",
    "pd.set_option('display.max_colwidth', None)"
   ]
  },
  {
   "cell_type": "code",
   "execution_count": 4,
   "metadata": {},
   "outputs": [],
   "source": [
    "import torch"
   ]
  },
  {
   "cell_type": "code",
   "execution_count": 5,
   "metadata": {},
   "outputs": [
    {
     "data": {
      "text/plain": [
       "'1.9.0+cu111'"
      ]
     },
     "execution_count": 5,
     "metadata": {},
     "output_type": "execute_result"
    }
   ],
   "source": [
    "torch.__version__"
   ]
  },
  {
   "cell_type": "code",
   "execution_count": 6,
   "metadata": {},
   "outputs": [],
   "source": [
    "gen_kwargs = {\n",
    "    \"do_sample\": True, \n",
    "    \"max_length\":200,\n",
    "    \"top_p\":0.95, \n",
    "    \"top_k\":50,\n",
    "}"
   ]
  },
  {
   "cell_type": "markdown",
   "metadata": {},
   "source": [
    "### Generate conclusions for the comments on the training dataset:"
   ]
  },
  {
   "cell_type": "markdown",
   "metadata": {},
   "source": [
    "We might probably use these auto-generated conclusions to train the model instead of taking the whole comment"
   ]
  },
  {
   "cell_type": "code",
   "execution_count": 4,
   "metadata": {},
   "outputs": [],
   "source": [
    "train_df = pd.read_pickle('../../../data-ceph/arguana/arg-generation/multi-taks-counter-argument-generation/reddit_data/conclusion_and_ca_generation/train_conclusion_comp_remove_75sem_perc.pkl')"
   ]
  },
  {
   "cell_type": "code",
   "execution_count": 5,
   "metadata": {},
   "outputs": [
    {
     "data": {
      "text/plain": [
       "92397"
      ]
     },
     "execution_count": 5,
     "metadata": {},
     "output_type": "execute_result"
    }
   ],
   "source": [
    "len(train_df)"
   ]
  },
  {
   "cell_type": "code",
   "execution_count": 6,
   "metadata": {
    "scrolled": true,
    "tags": []
   },
   "outputs": [
    {
     "data": {
      "text/html": [
       "<div>\n",
       "<style scoped>\n",
       "    .dataframe tbody tr th:only-of-type {\n",
       "        vertical-align: middle;\n",
       "    }\n",
       "\n",
       "    .dataframe tbody tr th {\n",
       "        vertical-align: top;\n",
       "    }\n",
       "\n",
       "    .dataframe thead th {\n",
       "        text-align: right;\n",
       "    }\n",
       "</style>\n",
       "<table border=\"1\" class=\"dataframe\">\n",
       "  <thead>\n",
       "    <tr style=\"text-align: right;\">\n",
       "      <th></th>\n",
       "      <th>post_id</th>\n",
       "      <th>split</th>\n",
       "      <th>comment_id</th>\n",
       "      <th>title</th>\n",
       "      <th>post</th>\n",
       "      <th>n_sentences</th>\n",
       "      <th>counter</th>\n",
       "      <th>num_cand_conc</th>\n",
       "      <th>masked_premises</th>\n",
       "      <th>premises_with_conclusion</th>\n",
       "    </tr>\n",
       "  </thead>\n",
       "  <tbody>\n",
       "    <tr>\n",
       "      <th>0</th>\n",
       "      <td>t3_1u4mmo</td>\n",
       "      <td>train</td>\n",
       "      <td>t1_ceehlbn</td>\n",
       "      <td>I believe that churches and other religious institutions should have to pay taxes.</td>\n",
       "      <td>[i believe that a church is like any other profit making business and therefore most pay similar taxes., i am not a religious person myself so i do not know the complete logistics of the revenue and spending of a church but i do understand they can yield a good amount of cash., not entirely sure how accurate this article is, but it states that we could gain an additional 71 billion dollars per year and in a time where we as a country are in trillions of dollars of debt taxing a church seems reasonable to me., cmv]</td>\n",
       "      <td>4</td>\n",
       "      <td>[i have heard this before ofc but when it is said louder than, or separate from the same issue when applied to corporations, or other non profits, i just think it's just religious discrimination., most, if not all corporations pay a much smaller percentage of their income in taxes than i do., why not focus on closing corporate loopholes first?, it would generate a lot more income than targeting religious institutions., why not focus on non religious nonprofits?, tons of those are shams where the head of said organization makes 7 figures., many are politically motivated, and actually are for profit in the sense that they are for changing laws and policies that allow third parties to become more profitable., i just don't have much respect for the taxing religions thing because you can apply the same arguments to different organizations resulting in higher tax revenue., i mean, sure., if some tv preacher is pulling in 7 figures selling 'prayer rags' then yeah, close whatever loopholes make that possible., but at the same time you have to close those same loopholes for non religious nonprofits, else it's just discrimination.]</td>\n",
       "      <td>1</td>\n",
       "      <td>[i believe that a church is like any other profit making business and therefore most pay similar taxes., i am not a religious person myself so i do not know the complete logistics of the revenue and spending of a church but i do understand they can yield a good amount of cash., not entirely sure how accurate this article is, but it states that we could gain an additional 71 billion dollars per year and in a time where we as a country are in trillions of dollars of debt taxing a church seems reasonable to me., cmv]</td>\n",
       "      <td>[i believe that a church is like any other profit making business and therefore most pay similar taxes., i am not a religious person myself so i do not know the complete logistics of the revenue and spending of a church but i do understand they can yield a good amount of cash., not entirely sure how accurate this article is, but it states that we could gain an additional 71 billion dollars per year and in a time where we as a country are in trillions of dollars of debt taxing a church seems reasonable to me., cmv, Therefore, I believe that churches and other religious institutions should have to pay taxes. ]</td>\n",
       "    </tr>\n",
       "    <tr>\n",
       "      <th>1</th>\n",
       "      <td>t3_1u4mmo</td>\n",
       "      <td>train</td>\n",
       "      <td>t1_ceei77d</td>\n",
       "      <td>I believe that churches and other religious institutions should have to pay taxes.</td>\n",
       "      <td>[i believe that a church is like any other profit making business and therefore most pay similar taxes., i am not a religious person myself so i do not know the complete logistics of the revenue and spending of a church but i do understand they can yield a good amount of cash., not entirely sure how accurate this article is, but it states that we could gain an additional 71 billion dollars per year and in a time where we as a country are in trillions of dollars of debt taxing a church seems reasonable to me., cmv]</td>\n",
       "      <td>4</td>\n",
       "      <td>[one of the historical methods of repressing out of favor religions is to make them pay exorbitant taxes., the blanket religious tax exemption is one of the ways we comply with the first amendment., many atheists seem to forget it guarantees the free exercise of religion in addition to forbidding the establishment of a state religion., taxing them like everyone else doesn't make sense because everyone else pays widely varying tax rates., should they be taxed as a commercial entity or an industrial one?, which subtype?, some religious practices involve wine., does that mean the churches will need permits taxes fees licenses as a resturant?, some christian sects consider the use of wine critical to the ceremony, others consider grape juice to be fine because it is symbolism., the rules and regulations answering those questions will burden some religions sects more than others., this then becomes a ripe area for both intentional and unintentional discrimination against out of favor religious groups., this will be hugely problematic for the free exercise clause., it is just as problematic for the establishment clause., as per the current justification for emminent domain, increased tax revenue is a justifying public good., taxing churches like everyone else would allow a state or locality to use eminent domain foreclosures in order to build a new mega church., the baptists catholics whoever will pay greater taxes than the mosque temple out of favor group currently on that corner., back to the wine example, the sect that doesn't use wine now has a significant financial advantage over the one that does., if the existence of a cross shaped veterans memorial is an establishment of religion, then surely providing tax advantages is.]</td>\n",
       "      <td>1</td>\n",
       "      <td>[i believe that a church is like any other profit making business and therefore most pay similar taxes., i am not a religious person myself so i do not know the complete logistics of the revenue and spending of a church but i do understand they can yield a good amount of cash., not entirely sure how accurate this article is, but it states that we could gain an additional 71 billion dollars per year and in a time where we as a country are in trillions of dollars of debt taxing a church seems reasonable to me., cmv]</td>\n",
       "      <td>[i believe that a church is like any other profit making business and therefore most pay similar taxes., i am not a religious person myself so i do not know the complete logistics of the revenue and spending of a church but i do understand they can yield a good amount of cash., not entirely sure how accurate this article is, but it states that we could gain an additional 71 billion dollars per year and in a time where we as a country are in trillions of dollars of debt taxing a church seems reasonable to me., cmv, Therefore, I believe that churches and other religious institutions should have to pay taxes. ]</td>\n",
       "    </tr>\n",
       "    <tr>\n",
       "      <th>2</th>\n",
       "      <td>t3_1u4mmo</td>\n",
       "      <td>train</td>\n",
       "      <td>t1_ceei9ab</td>\n",
       "      <td>I believe that churches and other religious institutions should have to pay taxes.</td>\n",
       "      <td>[i believe that a church is like any other profit making business and therefore most pay similar taxes., i am not a religious person myself so i do not know the complete logistics of the revenue and spending of a church but i do understand they can yield a good amount of cash., not entirely sure how accurate this article is, but it states that we could gain an additional 71 billion dollars per year and in a time where we as a country are in trillions of dollars of debt taxing a church seems reasonable to me., cmv]</td>\n",
       "      <td>4</td>\n",
       "      <td>[from someone who's grown up in the christian church:churches receive their income primarily through 'tithes,' which is a voluntary donation of sorts that each congregation member is expected to give yes, i know, 'voluntary' and 'expected to give. ', it's confusing for churchgoers, too ., the tithe is at a 10 standard., this is the means through which the church has to pay for property values, utilities, staffing, etc., churches have operated based on a realistic tithe income based on current income and membership growth., there are some churches that are very well off and probably wouldn't suffer too much from taxing., other churches barely struggle to pay their bills and staff because of tithing issues or other extenuating circumstances like natural disasters or whatever., let's say we implement a flat tax at 5 of the church's revenue., the church is expected to operate at 95 revenue while still maintaining 100 output., the church could, in response, raise the expected tithe to compensate for that cut., the congregation would respond by saying that that isn't the biblical expectation for the congregation., which it isn't., and since the tithing is optional, revenue would either stay the same or go down., the natural reaction is that people just wouldn't tithe., it could actually go further in reality., what i expect if the church were to be taxed would be that secret churches would start to meet like the ones that happen where christianity is illegal., the government can't really track that stuff too well though i wouldn't put it past them anymore ., so scratch that, we could do a tax rate that increases based on the church's revenue., then we would get the problem that plagues the united states taxes churches would just split up into smaller units and record their income at the lowest rate; likely one where the church isn't taxed at all., so there's how that revenue works and the probable results., hope this helps!]</td>\n",
       "      <td>1</td>\n",
       "      <td>[i believe that a church is like any other profit making business and therefore most pay similar taxes., i am not a religious person myself so i do not know the complete logistics of the revenue and spending of a church but i do understand they can yield a good amount of cash., not entirely sure how accurate this article is, but it states that we could gain an additional 71 billion dollars per year and in a time where we as a country are in trillions of dollars of debt taxing a church seems reasonable to me., cmv]</td>\n",
       "      <td>[i believe that a church is like any other profit making business and therefore most pay similar taxes., i am not a religious person myself so i do not know the complete logistics of the revenue and spending of a church but i do understand they can yield a good amount of cash., not entirely sure how accurate this article is, but it states that we could gain an additional 71 billion dollars per year and in a time where we as a country are in trillions of dollars of debt taxing a church seems reasonable to me., cmv, Therefore, I believe that churches and other religious institutions should have to pay taxes. ]</td>\n",
       "    </tr>\n",
       "    <tr>\n",
       "      <th>3</th>\n",
       "      <td>t3_1u4mmo</td>\n",
       "      <td>train</td>\n",
       "      <td>t1_ceeimbl</td>\n",
       "      <td>I believe that churches and other religious institutions should have to pay taxes.</td>\n",
       "      <td>[i believe that a church is like any other profit making business and therefore most pay similar taxes., i am not a religious person myself so i do not know the complete logistics of the revenue and spending of a church but i do understand they can yield a good amount of cash., not entirely sure how accurate this article is, but it states that we could gain an additional 71 billion dollars per year and in a time where we as a country are in trillions of dollars of debt taxing a church seems reasonable to me., cmv]</td>\n",
       "      <td>4</td>\n",
       "      <td>[i've served on my local church's council and i understand the perception of the church having a lot of money., that being said, while the church i attend brings in a lot of money a little less than 500k year 100 of it goes into supporting the church as a whole staff wages, operational expenses, building mortgage, etc and the church mission local community outreach programs such as food banks and soup kitchens, national outreach through monetary donations, etc ., lets look at the simple budget for my church next year: 500,000 that's a good chunk of change., 91 of that money is donated without the expectation of receiving any tangible thing., the remaining 9 is mainly collected from rental fees by individuals and organizations that want to use the church for their activities., now on how the money is spent nearly 50 of the budget is spent on staff salaries, benefits and payroll., seeing as i live in a state where the cost of living is quite high, we try very hard to pay our pastor, youth minister and administrative assistant competitive wages while we aren't 100 with getting a comparable wage we do try., 10 of the budget is spent on benevolence straight up donating 10 of our income to the greater church., remaining 40 operations and community outreach, and future set asides., the church has regular expenses just like any other entity., we have a mortgage to pay, electrical bills, insurance, advertising, pastoral training, running a twice weekly soup kitchen, twice a sunday services, etc., now lets add an 'income tax' onto this while thing., as you can see most every penny that goes into the church, goes right back out to the community at large., the nominal corporate tax rate is 35 ., so let's knock 175,000 right out of the budget., so instead of 500k, we have 325,000 basically enough to cover competitive pastoral wages, benefits, and have 75,000 left over for everything else., it boils down to local community benefit., the federal government isn't concerned with making sure people are hungry are fed, the naked clothed, and the downtrodden consoled., churches and religious communities are some of the only organizations that have the ability to directly influence the lives of people in their community., taxing religious organizations is a bad idea because of the community outreach that a lot of these organizations provide., i'm not saying there aren't bad apples, but i'd say 95 of churches provide a bigger community benefit by direct outreach, instead of letting the government come in and take finances out of your community.]</td>\n",
       "      <td>1</td>\n",
       "      <td>[i believe that a church is like any other profit making business and therefore most pay similar taxes., i am not a religious person myself so i do not know the complete logistics of the revenue and spending of a church but i do understand they can yield a good amount of cash., not entirely sure how accurate this article is, but it states that we could gain an additional 71 billion dollars per year and in a time where we as a country are in trillions of dollars of debt taxing a church seems reasonable to me., cmv]</td>\n",
       "      <td>[i believe that a church is like any other profit making business and therefore most pay similar taxes., i am not a religious person myself so i do not know the complete logistics of the revenue and spending of a church but i do understand they can yield a good amount of cash., not entirely sure how accurate this article is, but it states that we could gain an additional 71 billion dollars per year and in a time where we as a country are in trillions of dollars of debt taxing a church seems reasonable to me., cmv, Therefore, I believe that churches and other religious institutions should have to pay taxes. ]</td>\n",
       "    </tr>\n",
       "    <tr>\n",
       "      <th>4</th>\n",
       "      <td>t3_1u4mmo</td>\n",
       "      <td>train</td>\n",
       "      <td>t1_ceeix3p</td>\n",
       "      <td>I believe that churches and other religious institutions should have to pay taxes.</td>\n",
       "      <td>[i believe that a church is like any other profit making business and therefore most pay similar taxes., i am not a religious person myself so i do not know the complete logistics of the revenue and spending of a church but i do understand they can yield a good amount of cash., not entirely sure how accurate this article is, but it states that we could gain an additional 71 billion dollars per year and in a time where we as a country are in trillions of dollars of debt taxing a church seems reasonable to me., cmv]</td>\n",
       "      <td>4</td>\n",
       "      <td>[consider also the effect this could have taxing the church makes it more difficult to run, so smaller ones are likely to close up., you may end up seeing: more 'mega'churches, with greater congregations., inadvertent suppression of faiths due to low demand the above point resulting in larger polarization of religion i. e., less personal interfaith interaction as communities shift so people can attended a church temple mosque of their faithwe could therefore lose fluidity in the workforce people won't work somewhere they can't find an appropriate chapel both within an abroad i. e., harder to attract retain workers we would want for the same reasons ., additionally, there is potential long term unrest from community segregation even though any segregation would be implicit, not explicit ., less actual interaction with different religions could result in prejudices developing, especially if some communities end up better worse off 'we don't like to go to the restaurants in that neighborhood' creating economic disparity against religious minorities ., of course i wouldn't say we are free of these issues as is, but i see taxation as possibly agitating these issues.]</td>\n",
       "      <td>1</td>\n",
       "      <td>[i believe that a church is like any other profit making business and therefore most pay similar taxes., i am not a religious person myself so i do not know the complete logistics of the revenue and spending of a church but i do understand they can yield a good amount of cash., not entirely sure how accurate this article is, but it states that we could gain an additional 71 billion dollars per year and in a time where we as a country are in trillions of dollars of debt taxing a church seems reasonable to me., cmv]</td>\n",
       "      <td>[i believe that a church is like any other profit making business and therefore most pay similar taxes., i am not a religious person myself so i do not know the complete logistics of the revenue and spending of a church but i do understand they can yield a good amount of cash., not entirely sure how accurate this article is, but it states that we could gain an additional 71 billion dollars per year and in a time where we as a country are in trillions of dollars of debt taxing a church seems reasonable to me., cmv, Therefore, I believe that churches and other religious institutions should have to pay taxes. ]</td>\n",
       "    </tr>\n",
       "  </tbody>\n",
       "</table>\n",
       "</div>"
      ],
      "text/plain": [
       "     post_id  split  comment_id  \\\n",
       "0  t3_1u4mmo  train  t1_ceehlbn   \n",
       "1  t3_1u4mmo  train  t1_ceei77d   \n",
       "2  t3_1u4mmo  train  t1_ceei9ab   \n",
       "3  t3_1u4mmo  train  t1_ceeimbl   \n",
       "4  t3_1u4mmo  train  t1_ceeix3p   \n",
       "\n",
       "                                                                                 title  \\\n",
       "0  I believe that churches and other religious institutions should have to pay taxes.    \n",
       "1  I believe that churches and other religious institutions should have to pay taxes.    \n",
       "2  I believe that churches and other religious institutions should have to pay taxes.    \n",
       "3  I believe that churches and other religious institutions should have to pay taxes.    \n",
       "4  I believe that churches and other religious institutions should have to pay taxes.    \n",
       "\n",
       "                                                                                                                                                                                                                                                                                                                                                                                                                                                                                                                                      post  \\\n",
       "0  [i believe that a church is like any other profit making business and therefore most pay similar taxes., i am not a religious person myself so i do not know the complete logistics of the revenue and spending of a church but i do understand they can yield a good amount of cash., not entirely sure how accurate this article is, but it states that we could gain an additional 71 billion dollars per year and in a time where we as a country are in trillions of dollars of debt taxing a church seems reasonable to me., cmv]   \n",
       "1  [i believe that a church is like any other profit making business and therefore most pay similar taxes., i am not a religious person myself so i do not know the complete logistics of the revenue and spending of a church but i do understand they can yield a good amount of cash., not entirely sure how accurate this article is, but it states that we could gain an additional 71 billion dollars per year and in a time where we as a country are in trillions of dollars of debt taxing a church seems reasonable to me., cmv]   \n",
       "2  [i believe that a church is like any other profit making business and therefore most pay similar taxes., i am not a religious person myself so i do not know the complete logistics of the revenue and spending of a church but i do understand they can yield a good amount of cash., not entirely sure how accurate this article is, but it states that we could gain an additional 71 billion dollars per year and in a time where we as a country are in trillions of dollars of debt taxing a church seems reasonable to me., cmv]   \n",
       "3  [i believe that a church is like any other profit making business and therefore most pay similar taxes., i am not a religious person myself so i do not know the complete logistics of the revenue and spending of a church but i do understand they can yield a good amount of cash., not entirely sure how accurate this article is, but it states that we could gain an additional 71 billion dollars per year and in a time where we as a country are in trillions of dollars of debt taxing a church seems reasonable to me., cmv]   \n",
       "4  [i believe that a church is like any other profit making business and therefore most pay similar taxes., i am not a religious person myself so i do not know the complete logistics of the revenue and spending of a church but i do understand they can yield a good amount of cash., not entirely sure how accurate this article is, but it states that we could gain an additional 71 billion dollars per year and in a time where we as a country are in trillions of dollars of debt taxing a church seems reasonable to me., cmv]   \n",
       "\n",
       "   n_sentences  \\\n",
       "0            4   \n",
       "1            4   \n",
       "2            4   \n",
       "3            4   \n",
       "4            4   \n",
       "\n",
       "                                                                                                                                                                                                                                                                                                                                                                                                                                                                                                                                                                                                                                                                                                                                                                                                                                                                                                                                                                                                                                                                                                                                                                                                                                                                                                                                                                                                                                                                                                                                                                                                                                                                                                                                                                                                                                                                                                                                                                                                                                                                                                                                                                                                                                                                                                                                                                                                                                                                                                                                                                                                                                                                     counter  \\\n",
       "0                                                                                                                                                                                                                                                                                                                                                                                                                                                                                                                                                                                                                                                                                                                                                                                                                                                                                                                                                                                                                                                                                                                                                                                                                                                                                                                                                                                                                                                                                        [i have heard this before ofc but when it is said louder than, or separate from the same issue when applied to corporations, or other non profits, i just think it's just religious discrimination., most, if not all corporations pay a much smaller percentage of their income in taxes than i do., why not focus on closing corporate loopholes first?, it would generate a lot more income than targeting religious institutions., why not focus on non religious nonprofits?, tons of those are shams where the head of said organization makes 7 figures., many are politically motivated, and actually are for profit in the sense that they are for changing laws and policies that allow third parties to become more profitable., i just don't have much respect for the taxing religions thing because you can apply the same arguments to different organizations resulting in higher tax revenue., i mean, sure., if some tv preacher is pulling in 7 figures selling 'prayer rags' then yeah, close whatever loopholes make that possible., but at the same time you have to close those same loopholes for non religious nonprofits, else it's just discrimination.]   \n",
       "1                                                                                                                                                                                                                                                                                                                                                                                                                                                                                                                                                                                                                                                                                                                                                                                                                                                  [one of the historical methods of repressing out of favor religions is to make them pay exorbitant taxes., the blanket religious tax exemption is one of the ways we comply with the first amendment., many atheists seem to forget it guarantees the free exercise of religion in addition to forbidding the establishment of a state religion., taxing them like everyone else doesn't make sense because everyone else pays widely varying tax rates., should they be taxed as a commercial entity or an industrial one?, which subtype?, some religious practices involve wine., does that mean the churches will need permits taxes fees licenses as a resturant?, some christian sects consider the use of wine critical to the ceremony, others consider grape juice to be fine because it is symbolism., the rules and regulations answering those questions will burden some religions sects more than others., this then becomes a ripe area for both intentional and unintentional discrimination against out of favor religious groups., this will be hugely problematic for the free exercise clause., it is just as problematic for the establishment clause., as per the current justification for emminent domain, increased tax revenue is a justifying public good., taxing churches like everyone else would allow a state or locality to use eminent domain foreclosures in order to build a new mega church., the baptists catholics whoever will pay greater taxes than the mosque temple out of favor group currently on that corner., back to the wine example, the sect that doesn't use wine now has a significant financial advantage over the one that does., if the existence of a cross shaped veterans memorial is an establishment of religion, then surely providing tax advantages is.]   \n",
       "2                                                                                                                                                                                                                                                                                                                                                                                                                                                                                                                                                                                                                                           [from someone who's grown up in the christian church:churches receive their income primarily through 'tithes,' which is a voluntary donation of sorts that each congregation member is expected to give yes, i know, 'voluntary' and 'expected to give. ', it's confusing for churchgoers, too ., the tithe is at a 10 standard., this is the means through which the church has to pay for property values, utilities, staffing, etc., churches have operated based on a realistic tithe income based on current income and membership growth., there are some churches that are very well off and probably wouldn't suffer too much from taxing., other churches barely struggle to pay their bills and staff because of tithing issues or other extenuating circumstances like natural disasters or whatever., let's say we implement a flat tax at 5 of the church's revenue., the church is expected to operate at 95 revenue while still maintaining 100 output., the church could, in response, raise the expected tithe to compensate for that cut., the congregation would respond by saying that that isn't the biblical expectation for the congregation., which it isn't., and since the tithing is optional, revenue would either stay the same or go down., the natural reaction is that people just wouldn't tithe., it could actually go further in reality., what i expect if the church were to be taxed would be that secret churches would start to meet like the ones that happen where christianity is illegal., the government can't really track that stuff too well though i wouldn't put it past them anymore ., so scratch that, we could do a tax rate that increases based on the church's revenue., then we would get the problem that plagues the united states taxes churches would just split up into smaller units and record their income at the lowest rate; likely one where the church isn't taxed at all., so there's how that revenue works and the probable results., hope this helps!]   \n",
       "3  [i've served on my local church's council and i understand the perception of the church having a lot of money., that being said, while the church i attend brings in a lot of money a little less than 500k year 100 of it goes into supporting the church as a whole staff wages, operational expenses, building mortgage, etc and the church mission local community outreach programs such as food banks and soup kitchens, national outreach through monetary donations, etc ., lets look at the simple budget for my church next year: 500,000 that's a good chunk of change., 91 of that money is donated without the expectation of receiving any tangible thing., the remaining 9 is mainly collected from rental fees by individuals and organizations that want to use the church for their activities., now on how the money is spent nearly 50 of the budget is spent on staff salaries, benefits and payroll., seeing as i live in a state where the cost of living is quite high, we try very hard to pay our pastor, youth minister and administrative assistant competitive wages while we aren't 100 with getting a comparable wage we do try., 10 of the budget is spent on benevolence straight up donating 10 of our income to the greater church., remaining 40 operations and community outreach, and future set asides., the church has regular expenses just like any other entity., we have a mortgage to pay, electrical bills, insurance, advertising, pastoral training, running a twice weekly soup kitchen, twice a sunday services, etc., now lets add an 'income tax' onto this while thing., as you can see most every penny that goes into the church, goes right back out to the community at large., the nominal corporate tax rate is 35 ., so let's knock 175,000 right out of the budget., so instead of 500k, we have 325,000 basically enough to cover competitive pastoral wages, benefits, and have 75,000 left over for everything else., it boils down to local community benefit., the federal government isn't concerned with making sure people are hungry are fed, the naked clothed, and the downtrodden consoled., churches and religious communities are some of the only organizations that have the ability to directly influence the lives of people in their community., taxing religious organizations is a bad idea because of the community outreach that a lot of these organizations provide., i'm not saying there aren't bad apples, but i'd say 95 of churches provide a bigger community benefit by direct outreach, instead of letting the government come in and take finances out of your community.]   \n",
       "4                                                                                                                                                                                                                                                                                                                                                                                                                                                                                                                                                                                                                                                                                                                                                                                                                                                                                                                                                                                                                                                                                                                                                                                                                                                                                                                                                                                                                                               [consider also the effect this could have taxing the church makes it more difficult to run, so smaller ones are likely to close up., you may end up seeing: more 'mega'churches, with greater congregations., inadvertent suppression of faiths due to low demand the above point resulting in larger polarization of religion i. e., less personal interfaith interaction as communities shift so people can attended a church temple mosque of their faithwe could therefore lose fluidity in the workforce people won't work somewhere they can't find an appropriate chapel both within an abroad i. e., harder to attract retain workers we would want for the same reasons ., additionally, there is potential long term unrest from community segregation even though any segregation would be implicit, not explicit ., less actual interaction with different religions could result in prejudices developing, especially if some communities end up better worse off 'we don't like to go to the restaurants in that neighborhood' creating economic disparity against religious minorities ., of course i wouldn't say we are free of these issues as is, but i see taxation as possibly agitating these issues.]   \n",
       "\n",
       "   num_cand_conc  \\\n",
       "0              1   \n",
       "1              1   \n",
       "2              1   \n",
       "3              1   \n",
       "4              1   \n",
       "\n",
       "                                                                                                                                                                                                                                                                                                                                                                                                                                                                                                                           masked_premises  \\\n",
       "0  [i believe that a church is like any other profit making business and therefore most pay similar taxes., i am not a religious person myself so i do not know the complete logistics of the revenue and spending of a church but i do understand they can yield a good amount of cash., not entirely sure how accurate this article is, but it states that we could gain an additional 71 billion dollars per year and in a time where we as a country are in trillions of dollars of debt taxing a church seems reasonable to me., cmv]   \n",
       "1  [i believe that a church is like any other profit making business and therefore most pay similar taxes., i am not a religious person myself so i do not know the complete logistics of the revenue and spending of a church but i do understand they can yield a good amount of cash., not entirely sure how accurate this article is, but it states that we could gain an additional 71 billion dollars per year and in a time where we as a country are in trillions of dollars of debt taxing a church seems reasonable to me., cmv]   \n",
       "2  [i believe that a church is like any other profit making business and therefore most pay similar taxes., i am not a religious person myself so i do not know the complete logistics of the revenue and spending of a church but i do understand they can yield a good amount of cash., not entirely sure how accurate this article is, but it states that we could gain an additional 71 billion dollars per year and in a time where we as a country are in trillions of dollars of debt taxing a church seems reasonable to me., cmv]   \n",
       "3  [i believe that a church is like any other profit making business and therefore most pay similar taxes., i am not a religious person myself so i do not know the complete logistics of the revenue and spending of a church but i do understand they can yield a good amount of cash., not entirely sure how accurate this article is, but it states that we could gain an additional 71 billion dollars per year and in a time where we as a country are in trillions of dollars of debt taxing a church seems reasonable to me., cmv]   \n",
       "4  [i believe that a church is like any other profit making business and therefore most pay similar taxes., i am not a religious person myself so i do not know the complete logistics of the revenue and spending of a church but i do understand they can yield a good amount of cash., not entirely sure how accurate this article is, but it states that we could gain an additional 71 billion dollars per year and in a time where we as a country are in trillions of dollars of debt taxing a church seems reasonable to me., cmv]   \n",
       "\n",
       "                                                                                                                                                                                                                                                                                                                                                                                                                                                                                                                                                                                                                  premises_with_conclusion  \n",
       "0  [i believe that a church is like any other profit making business and therefore most pay similar taxes., i am not a religious person myself so i do not know the complete logistics of the revenue and spending of a church but i do understand they can yield a good amount of cash., not entirely sure how accurate this article is, but it states that we could gain an additional 71 billion dollars per year and in a time where we as a country are in trillions of dollars of debt taxing a church seems reasonable to me., cmv, Therefore, I believe that churches and other religious institutions should have to pay taxes. ]  \n",
       "1  [i believe that a church is like any other profit making business and therefore most pay similar taxes., i am not a religious person myself so i do not know the complete logistics of the revenue and spending of a church but i do understand they can yield a good amount of cash., not entirely sure how accurate this article is, but it states that we could gain an additional 71 billion dollars per year and in a time where we as a country are in trillions of dollars of debt taxing a church seems reasonable to me., cmv, Therefore, I believe that churches and other religious institutions should have to pay taxes. ]  \n",
       "2  [i believe that a church is like any other profit making business and therefore most pay similar taxes., i am not a religious person myself so i do not know the complete logistics of the revenue and spending of a church but i do understand they can yield a good amount of cash., not entirely sure how accurate this article is, but it states that we could gain an additional 71 billion dollars per year and in a time where we as a country are in trillions of dollars of debt taxing a church seems reasonable to me., cmv, Therefore, I believe that churches and other religious institutions should have to pay taxes. ]  \n",
       "3  [i believe that a church is like any other profit making business and therefore most pay similar taxes., i am not a religious person myself so i do not know the complete logistics of the revenue and spending of a church but i do understand they can yield a good amount of cash., not entirely sure how accurate this article is, but it states that we could gain an additional 71 billion dollars per year and in a time where we as a country are in trillions of dollars of debt taxing a church seems reasonable to me., cmv, Therefore, I believe that churches and other religious institutions should have to pay taxes. ]  \n",
       "4  [i believe that a church is like any other profit making business and therefore most pay similar taxes., i am not a religious person myself so i do not know the complete logistics of the revenue and spending of a church but i do understand they can yield a good amount of cash., not entirely sure how accurate this article is, but it states that we could gain an additional 71 billion dollars per year and in a time where we as a country are in trillions of dollars of debt taxing a church seems reasonable to me., cmv, Therefore, I believe that churches and other religious institutions should have to pay taxes. ]  "
      ]
     },
     "execution_count": 6,
     "metadata": {},
     "output_type": "execute_result"
    }
   ],
   "source": [
    "train_df.head()"
   ]
  },
  {
   "cell_type": "code",
   "execution_count": null,
   "metadata": {},
   "outputs": [
    {
     "data": {
      "application/vnd.jupyter.widget-view+json": {
       "model_id": "2e3952c457b141258648bb6c5358ffbc",
       "version_major": 2,
       "version_minor": 0
      },
      "text/plain": [
       "  0%|          | 0/93 [00:00<?, ?ba/s]"
      ]
     },
     "metadata": {},
     "output_type": "display_data"
    }
   ],
   "source": [
    "conclusions = generate_conclusion(train_df.masked_premises.tolist(), gen_kwargs, batch_size=16)"
   ]
  },
  {
   "cell_type": "code",
   "execution_count": null,
   "metadata": {},
   "outputs": [],
   "source": [
    "train_df['bart_conclusion'] = conclusions"
   ]
  },
  {
   "cell_type": "code",
   "execution_count": 21,
   "metadata": {
    "scrolled": true,
    "tags": []
   },
   "outputs": [
    {
     "data": {
      "application/vnd.jupyter.widget-view+json": {
       "model_id": "1f484cb5305b4ac8ba8f505a5f545ab9",
       "version_major": 2,
       "version_minor": 0
      },
      "text/plain": [
       "  0%|          | 0/93 [00:00<?, ?ba/s]"
      ]
     },
     "metadata": {},
     "output_type": "display_data"
    }
   ],
   "source": [
    "train_df['counter_bart_conclusion'] =  generate_conclusion(train_df.counter.tolist(), gen_kwargs, batch_size=16)"
   ]
  },
  {
   "cell_type": "code",
   "execution_count": 23,
   "metadata": {
    "scrolled": true,
    "tags": []
   },
   "outputs": [
    {
     "data": {
      "text/html": [
       "<div>\n",
       "<style scoped>\n",
       "    .dataframe tbody tr th:only-of-type {\n",
       "        vertical-align: middle;\n",
       "    }\n",
       "\n",
       "    .dataframe tbody tr th {\n",
       "        vertical-align: top;\n",
       "    }\n",
       "\n",
       "    .dataframe thead th {\n",
       "        text-align: right;\n",
       "    }\n",
       "</style>\n",
       "<table border=\"1\" class=\"dataframe\">\n",
       "  <thead>\n",
       "    <tr style=\"text-align: right;\">\n",
       "      <th></th>\n",
       "      <th>post_id</th>\n",
       "      <th>split</th>\n",
       "      <th>comment_id</th>\n",
       "      <th>title</th>\n",
       "      <th>post</th>\n",
       "      <th>n_sentences</th>\n",
       "      <th>counter</th>\n",
       "      <th>num_cand_conc</th>\n",
       "      <th>masked_premises</th>\n",
       "      <th>premises_with_conclusion</th>\n",
       "      <th>bart_conclusion</th>\n",
       "      <th>counter_bart_conclusion</th>\n",
       "    </tr>\n",
       "  </thead>\n",
       "  <tbody>\n",
       "    <tr>\n",
       "      <th>0</th>\n",
       "      <td>t3_1u4mmo</td>\n",
       "      <td>train</td>\n",
       "      <td>t1_ceehlbn</td>\n",
       "      <td>I believe that churches and other religious institutions should have to pay taxes.</td>\n",
       "      <td>[i believe that a church is like any other profit making business and therefore most pay similar taxes., i am not a religious person myself so i do not know the complete logistics of the revenue and spending of a church but i do understand they can yield a good amount of cash., not entirely sure how accurate this article is, but it states that we could gain an additional 71 billion dollars per year and in a time where we as a country are in trillions of dollars of debt taxing a church seems reasonable to me., cmv]</td>\n",
       "      <td>4</td>\n",
       "      <td>[i have heard this before ofc but when it is said louder than, or separate from the same issue when applied to corporations, or other non profits, i just think it's just religious discrimination., most, if not all corporations pay a much smaller percentage of their income in taxes than i do., why not focus on closing corporate loopholes first?, it would generate a lot more income than targeting religious institutions., why not focus on non religious nonprofits?, tons of those are shams where the head of said organization makes 7 figures., many are politically motivated, and actually are for profit in the sense that they are for changing laws and policies that allow third parties to become more profitable., i just don't have much respect for the taxing religions thing because you can apply the same arguments to different organizations resulting in higher tax revenue., i mean, sure., if some tv preacher is pulling in 7 figures selling 'prayer rags' then yeah, close whatever loopholes make that possible., but at the same time you have to close those same loopholes for non religious nonprofits, else it's just discrimination.]</td>\n",
       "      <td>1</td>\n",
       "      <td>[i believe that a church is like any other profit making business and therefore most pay similar taxes., i am not a religious person myself so i do not know the complete logistics of the revenue and spending of a church but i do understand they can yield a good amount of cash., not entirely sure how accurate this article is, but it states that we could gain an additional 71 billion dollars per year and in a time where we as a country are in trillions of dollars of debt taxing a church seems reasonable to me., cmv]</td>\n",
       "      <td>[i believe that a church is like any other profit making business and therefore most pay similar taxes., i am not a religious person myself so i do not know the complete logistics of the revenue and spending of a church but i do understand they can yield a good amount of cash., not entirely sure how accurate this article is, but it states that we could gain an additional 71 billion dollars per year and in a time where we as a country are in trillions of dollars of debt taxing a church seems reasonable to me., cmv, Therefore, I believe that churches and other religious institutions should have to pay taxes. ]</td>\n",
       "      <td>i believe that churches should have to pay taxes.</td>\n",
       "      <td>i think corporate tax is just religious discrimination.</td>\n",
       "    </tr>\n",
       "    <tr>\n",
       "      <th>1</th>\n",
       "      <td>t3_1u4mmo</td>\n",
       "      <td>train</td>\n",
       "      <td>t1_ceei77d</td>\n",
       "      <td>I believe that churches and other religious institutions should have to pay taxes.</td>\n",
       "      <td>[i believe that a church is like any other profit making business and therefore most pay similar taxes., i am not a religious person myself so i do not know the complete logistics of the revenue and spending of a church but i do understand they can yield a good amount of cash., not entirely sure how accurate this article is, but it states that we could gain an additional 71 billion dollars per year and in a time where we as a country are in trillions of dollars of debt taxing a church seems reasonable to me., cmv]</td>\n",
       "      <td>4</td>\n",
       "      <td>[one of the historical methods of repressing out of favor religions is to make them pay exorbitant taxes., the blanket religious tax exemption is one of the ways we comply with the first amendment., many atheists seem to forget it guarantees the free exercise of religion in addition to forbidding the establishment of a state religion., taxing them like everyone else doesn't make sense because everyone else pays widely varying tax rates., should they be taxed as a commercial entity or an industrial one?, which subtype?, some religious practices involve wine., does that mean the churches will need permits taxes fees licenses as a resturant?, some christian sects consider the use of wine critical to the ceremony, others consider grape juice to be fine because it is symbolism., the rules and regulations answering those questions will burden some religions sects more than others., this then becomes a ripe area for both intentional and unintentional discrimination against out of favor religious groups., this will be hugely problematic for the free exercise clause., it is just as problematic for the establishment clause., as per the current justification for emminent domain, increased tax revenue is a justifying public good., taxing churches like everyone else would allow a state or locality to use eminent domain foreclosures in order to build a new mega church., the baptists catholics whoever will pay greater taxes than the mosque temple out of favor group currently on that corner., back to the wine example, the sect that doesn't use wine now has a significant financial advantage over the one that does., if the existence of a cross shaped veterans memorial is an establishment of religion, then surely providing tax advantages is.]</td>\n",
       "      <td>1</td>\n",
       "      <td>[i believe that a church is like any other profit making business and therefore most pay similar taxes., i am not a religious person myself so i do not know the complete logistics of the revenue and spending of a church but i do understand they can yield a good amount of cash., not entirely sure how accurate this article is, but it states that we could gain an additional 71 billion dollars per year and in a time where we as a country are in trillions of dollars of debt taxing a church seems reasonable to me., cmv]</td>\n",
       "      <td>[i believe that a church is like any other profit making business and therefore most pay similar taxes., i am not a religious person myself so i do not know the complete logistics of the revenue and spending of a church but i do understand they can yield a good amount of cash., not entirely sure how accurate this article is, but it states that we could gain an additional 71 billion dollars per year and in a time where we as a country are in trillions of dollars of debt taxing a church seems reasonable to me., cmv, Therefore, I believe that churches and other religious institutions should have to pay taxes. ]</td>\n",
       "      <td>i believe that churches should have to pay taxes.</td>\n",
       "      <td>Religious tax exemptions are a violation of the first amendment and should be abolished</td>\n",
       "    </tr>\n",
       "    <tr>\n",
       "      <th>2</th>\n",
       "      <td>t3_1u4mmo</td>\n",
       "      <td>train</td>\n",
       "      <td>t1_ceei9ab</td>\n",
       "      <td>I believe that churches and other religious institutions should have to pay taxes.</td>\n",
       "      <td>[i believe that a church is like any other profit making business and therefore most pay similar taxes., i am not a religious person myself so i do not know the complete logistics of the revenue and spending of a church but i do understand they can yield a good amount of cash., not entirely sure how accurate this article is, but it states that we could gain an additional 71 billion dollars per year and in a time where we as a country are in trillions of dollars of debt taxing a church seems reasonable to me., cmv]</td>\n",
       "      <td>4</td>\n",
       "      <td>[from someone who's grown up in the christian church:churches receive their income primarily through 'tithes,' which is a voluntary donation of sorts that each congregation member is expected to give yes, i know, 'voluntary' and 'expected to give. ', it's confusing for churchgoers, too ., the tithe is at a 10 standard., this is the means through which the church has to pay for property values, utilities, staffing, etc., churches have operated based on a realistic tithe income based on current income and membership growth., there are some churches that are very well off and probably wouldn't suffer too much from taxing., other churches barely struggle to pay their bills and staff because of tithing issues or other extenuating circumstances like natural disasters or whatever., let's say we implement a flat tax at 5 of the church's revenue., the church is expected to operate at 95 revenue while still maintaining 100 output., the church could, in response, raise the expected tithe to compensate for that cut., the congregation would respond by saying that that isn't the biblical expectation for the congregation., which it isn't., and since the tithing is optional, revenue would either stay the same or go down., the natural reaction is that people just wouldn't tithe., it could actually go further in reality., what i expect if the church were to be taxed would be that secret churches would start to meet like the ones that happen where christianity is illegal., the government can't really track that stuff too well though i wouldn't put it past them anymore ., so scratch that, we could do a tax rate that increases based on the church's revenue., then we would get the problem that plagues the united states taxes churches would just split up into smaller units and record their income at the lowest rate; likely one where the church isn't taxed at all., so there's how that revenue works and the probable results., hope this helps!]</td>\n",
       "      <td>1</td>\n",
       "      <td>[i believe that a church is like any other profit making business and therefore most pay similar taxes., i am not a religious person myself so i do not know the complete logistics of the revenue and spending of a church but i do understand they can yield a good amount of cash., not entirely sure how accurate this article is, but it states that we could gain an additional 71 billion dollars per year and in a time where we as a country are in trillions of dollars of debt taxing a church seems reasonable to me., cmv]</td>\n",
       "      <td>[i believe that a church is like any other profit making business and therefore most pay similar taxes., i am not a religious person myself so i do not know the complete logistics of the revenue and spending of a church but i do understand they can yield a good amount of cash., not entirely sure how accurate this article is, but it states that we could gain an additional 71 billion dollars per year and in a time where we as a country are in trillions of dollars of debt taxing a church seems reasonable to me., cmv, Therefore, I believe that churches and other religious institutions should have to pay taxes. ]</td>\n",
       "      <td>i believe that churches should have to pay taxes.</td>\n",
       "      <td>I believe churches in the United States should not be taxed.</td>\n",
       "    </tr>\n",
       "    <tr>\n",
       "      <th>3</th>\n",
       "      <td>t3_1u4mmo</td>\n",
       "      <td>train</td>\n",
       "      <td>t1_ceeimbl</td>\n",
       "      <td>I believe that churches and other religious institutions should have to pay taxes.</td>\n",
       "      <td>[i believe that a church is like any other profit making business and therefore most pay similar taxes., i am not a religious person myself so i do not know the complete logistics of the revenue and spending of a church but i do understand they can yield a good amount of cash., not entirely sure how accurate this article is, but it states that we could gain an additional 71 billion dollars per year and in a time where we as a country are in trillions of dollars of debt taxing a church seems reasonable to me., cmv]</td>\n",
       "      <td>4</td>\n",
       "      <td>[i've served on my local church's council and i understand the perception of the church having a lot of money., that being said, while the church i attend brings in a lot of money a little less than 500k year 100 of it goes into supporting the church as a whole staff wages, operational expenses, building mortgage, etc and the church mission local community outreach programs such as food banks and soup kitchens, national outreach through monetary donations, etc ., lets look at the simple budget for my church next year: 500,000 that's a good chunk of change., 91 of that money is donated without the expectation of receiving any tangible thing., the remaining 9 is mainly collected from rental fees by individuals and organizations that want to use the church for their activities., now on how the money is spent nearly 50 of the budget is spent on staff salaries, benefits and payroll., seeing as i live in a state where the cost of living is quite high, we try very hard to pay our pastor, youth minister and administrative assistant competitive wages while we aren't 100 with getting a comparable wage we do try., 10 of the budget is spent on benevolence straight up donating 10 of our income to the greater church., remaining 40 operations and community outreach, and future set asides., the church has regular expenses just like any other entity., we have a mortgage to pay, electrical bills, insurance, advertising, pastoral training, running a twice weekly soup kitchen, twice a sunday services, etc., now lets add an 'income tax' onto this while thing., as you can see most every penny that goes into the church, goes right back out to the community at large., the nominal corporate tax rate is 35 ., so let's knock 175,000 right out of the budget., so instead of 500k, we have 325,000 basically enough to cover competitive pastoral wages, benefits, and have 75,000 left over for everything else., it boils down to local community benefit., the federal government isn't concerned with making sure people are hungry are fed, the naked clothed, and the downtrodden consoled., churches and religious communities are some of the only organizations that have the ability to directly influence the lives of people in their community., taxing religious organizations is a bad idea because of the community outreach that a lot of these organizations provide., i'm not saying there aren't bad apples, but i'd say 95 of churches provide a bigger community benefit by direct outreach, instead of letting the government come in and take finances out of your community.]</td>\n",
       "      <td>1</td>\n",
       "      <td>[i believe that a church is like any other profit making business and therefore most pay similar taxes., i am not a religious person myself so i do not know the complete logistics of the revenue and spending of a church but i do understand they can yield a good amount of cash., not entirely sure how accurate this article is, but it states that we could gain an additional 71 billion dollars per year and in a time where we as a country are in trillions of dollars of debt taxing a church seems reasonable to me., cmv]</td>\n",
       "      <td>[i believe that a church is like any other profit making business and therefore most pay similar taxes., i am not a religious person myself so i do not know the complete logistics of the revenue and spending of a church but i do understand they can yield a good amount of cash., not entirely sure how accurate this article is, but it states that we could gain an additional 71 billion dollars per year and in a time where we as a country are in trillions of dollars of debt taxing a church seems reasonable to me., cmv, Therefore, I believe that churches and other religious institutions should have to pay taxes. ]</td>\n",
       "      <td>i believe that churches should have to pay taxes.</td>\n",
       "      <td>I believe churches and religious communities should be tax exempt.</td>\n",
       "    </tr>\n",
       "    <tr>\n",
       "      <th>4</th>\n",
       "      <td>t3_1u4mmo</td>\n",
       "      <td>train</td>\n",
       "      <td>t1_ceeix3p</td>\n",
       "      <td>I believe that churches and other religious institutions should have to pay taxes.</td>\n",
       "      <td>[i believe that a church is like any other profit making business and therefore most pay similar taxes., i am not a religious person myself so i do not know the complete logistics of the revenue and spending of a church but i do understand they can yield a good amount of cash., not entirely sure how accurate this article is, but it states that we could gain an additional 71 billion dollars per year and in a time where we as a country are in trillions of dollars of debt taxing a church seems reasonable to me., cmv]</td>\n",
       "      <td>4</td>\n",
       "      <td>[consider also the effect this could have taxing the church makes it more difficult to run, so smaller ones are likely to close up., you may end up seeing: more 'mega'churches, with greater congregations., inadvertent suppression of faiths due to low demand the above point resulting in larger polarization of religion i. e., less personal interfaith interaction as communities shift so people can attended a church temple mosque of their faithwe could therefore lose fluidity in the workforce people won't work somewhere they can't find an appropriate chapel both within an abroad i. e., harder to attract retain workers we would want for the same reasons ., additionally, there is potential long term unrest from community segregation even though any segregation would be implicit, not explicit ., less actual interaction with different religions could result in prejudices developing, especially if some communities end up better worse off 'we don't like to go to the restaurants in that neighborhood' creating economic disparity against religious minorities ., of course i wouldn't say we are free of these issues as is, but i see taxation as possibly agitating these issues.]</td>\n",
       "      <td>1</td>\n",
       "      <td>[i believe that a church is like any other profit making business and therefore most pay similar taxes., i am not a religious person myself so i do not know the complete logistics of the revenue and spending of a church but i do understand they can yield a good amount of cash., not entirely sure how accurate this article is, but it states that we could gain an additional 71 billion dollars per year and in a time where we as a country are in trillions of dollars of debt taxing a church seems reasonable to me., cmv]</td>\n",
       "      <td>[i believe that a church is like any other profit making business and therefore most pay similar taxes., i am not a religious person myself so i do not know the complete logistics of the revenue and spending of a church but i do understand they can yield a good amount of cash., not entirely sure how accurate this article is, but it states that we could gain an additional 71 billion dollars per year and in a time where we as a country are in trillions of dollars of debt taxing a church seems reasonable to me., cmv, Therefore, I believe that churches and other religious institutions should have to pay taxes. ]</td>\n",
       "      <td>i believe that churches should have to pay taxes.</td>\n",
       "      <td>Taxing churches would lead to a larger divide in society</td>\n",
       "    </tr>\n",
       "  </tbody>\n",
       "</table>\n",
       "</div>"
      ],
      "text/plain": [
       "     post_id  split  comment_id  \\\n",
       "0  t3_1u4mmo  train  t1_ceehlbn   \n",
       "1  t3_1u4mmo  train  t1_ceei77d   \n",
       "2  t3_1u4mmo  train  t1_ceei9ab   \n",
       "3  t3_1u4mmo  train  t1_ceeimbl   \n",
       "4  t3_1u4mmo  train  t1_ceeix3p   \n",
       "\n",
       "                                                                                 title  \\\n",
       "0  I believe that churches and other religious institutions should have to pay taxes.    \n",
       "1  I believe that churches and other religious institutions should have to pay taxes.    \n",
       "2  I believe that churches and other religious institutions should have to pay taxes.    \n",
       "3  I believe that churches and other religious institutions should have to pay taxes.    \n",
       "4  I believe that churches and other religious institutions should have to pay taxes.    \n",
       "\n",
       "                                                                                                                                                                                                                                                                                                                                                                                                                                                                                                                                      post  \\\n",
       "0  [i believe that a church is like any other profit making business and therefore most pay similar taxes., i am not a religious person myself so i do not know the complete logistics of the revenue and spending of a church but i do understand they can yield a good amount of cash., not entirely sure how accurate this article is, but it states that we could gain an additional 71 billion dollars per year and in a time where we as a country are in trillions of dollars of debt taxing a church seems reasonable to me., cmv]   \n",
       "1  [i believe that a church is like any other profit making business and therefore most pay similar taxes., i am not a religious person myself so i do not know the complete logistics of the revenue and spending of a church but i do understand they can yield a good amount of cash., not entirely sure how accurate this article is, but it states that we could gain an additional 71 billion dollars per year and in a time where we as a country are in trillions of dollars of debt taxing a church seems reasonable to me., cmv]   \n",
       "2  [i believe that a church is like any other profit making business and therefore most pay similar taxes., i am not a religious person myself so i do not know the complete logistics of the revenue and spending of a church but i do understand they can yield a good amount of cash., not entirely sure how accurate this article is, but it states that we could gain an additional 71 billion dollars per year and in a time where we as a country are in trillions of dollars of debt taxing a church seems reasonable to me., cmv]   \n",
       "3  [i believe that a church is like any other profit making business and therefore most pay similar taxes., i am not a religious person myself so i do not know the complete logistics of the revenue and spending of a church but i do understand they can yield a good amount of cash., not entirely sure how accurate this article is, but it states that we could gain an additional 71 billion dollars per year and in a time where we as a country are in trillions of dollars of debt taxing a church seems reasonable to me., cmv]   \n",
       "4  [i believe that a church is like any other profit making business and therefore most pay similar taxes., i am not a religious person myself so i do not know the complete logistics of the revenue and spending of a church but i do understand they can yield a good amount of cash., not entirely sure how accurate this article is, but it states that we could gain an additional 71 billion dollars per year and in a time where we as a country are in trillions of dollars of debt taxing a church seems reasonable to me., cmv]   \n",
       "\n",
       "   n_sentences  \\\n",
       "0            4   \n",
       "1            4   \n",
       "2            4   \n",
       "3            4   \n",
       "4            4   \n",
       "\n",
       "                                                                                                                                                                                                                                                                                                                                                                                                                                                                                                                                                                                                                                                                                                                                                                                                                                                                                                                                                                                                                                                                                                                                                                                                                                                                                                                                                                                                                                                                                                                                                                                                                                                                                                                                                                                                                                                                                                                                                                                                                                                                                                                                                                                                                                                                                                                                                                                                                                                                                                                                                                                                                                                                     counter  \\\n",
       "0                                                                                                                                                                                                                                                                                                                                                                                                                                                                                                                                                                                                                                                                                                                                                                                                                                                                                                                                                                                                                                                                                                                                                                                                                                                                                                                                                                                                                                                                                        [i have heard this before ofc but when it is said louder than, or separate from the same issue when applied to corporations, or other non profits, i just think it's just religious discrimination., most, if not all corporations pay a much smaller percentage of their income in taxes than i do., why not focus on closing corporate loopholes first?, it would generate a lot more income than targeting religious institutions., why not focus on non religious nonprofits?, tons of those are shams where the head of said organization makes 7 figures., many are politically motivated, and actually are for profit in the sense that they are for changing laws and policies that allow third parties to become more profitable., i just don't have much respect for the taxing religions thing because you can apply the same arguments to different organizations resulting in higher tax revenue., i mean, sure., if some tv preacher is pulling in 7 figures selling 'prayer rags' then yeah, close whatever loopholes make that possible., but at the same time you have to close those same loopholes for non religious nonprofits, else it's just discrimination.]   \n",
       "1                                                                                                                                                                                                                                                                                                                                                                                                                                                                                                                                                                                                                                                                                                                                                                                                                                                  [one of the historical methods of repressing out of favor religions is to make them pay exorbitant taxes., the blanket religious tax exemption is one of the ways we comply with the first amendment., many atheists seem to forget it guarantees the free exercise of religion in addition to forbidding the establishment of a state religion., taxing them like everyone else doesn't make sense because everyone else pays widely varying tax rates., should they be taxed as a commercial entity or an industrial one?, which subtype?, some religious practices involve wine., does that mean the churches will need permits taxes fees licenses as a resturant?, some christian sects consider the use of wine critical to the ceremony, others consider grape juice to be fine because it is symbolism., the rules and regulations answering those questions will burden some religions sects more than others., this then becomes a ripe area for both intentional and unintentional discrimination against out of favor religious groups., this will be hugely problematic for the free exercise clause., it is just as problematic for the establishment clause., as per the current justification for emminent domain, increased tax revenue is a justifying public good., taxing churches like everyone else would allow a state or locality to use eminent domain foreclosures in order to build a new mega church., the baptists catholics whoever will pay greater taxes than the mosque temple out of favor group currently on that corner., back to the wine example, the sect that doesn't use wine now has a significant financial advantage over the one that does., if the existence of a cross shaped veterans memorial is an establishment of religion, then surely providing tax advantages is.]   \n",
       "2                                                                                                                                                                                                                                                                                                                                                                                                                                                                                                                                                                                                                                           [from someone who's grown up in the christian church:churches receive their income primarily through 'tithes,' which is a voluntary donation of sorts that each congregation member is expected to give yes, i know, 'voluntary' and 'expected to give. ', it's confusing for churchgoers, too ., the tithe is at a 10 standard., this is the means through which the church has to pay for property values, utilities, staffing, etc., churches have operated based on a realistic tithe income based on current income and membership growth., there are some churches that are very well off and probably wouldn't suffer too much from taxing., other churches barely struggle to pay their bills and staff because of tithing issues or other extenuating circumstances like natural disasters or whatever., let's say we implement a flat tax at 5 of the church's revenue., the church is expected to operate at 95 revenue while still maintaining 100 output., the church could, in response, raise the expected tithe to compensate for that cut., the congregation would respond by saying that that isn't the biblical expectation for the congregation., which it isn't., and since the tithing is optional, revenue would either stay the same or go down., the natural reaction is that people just wouldn't tithe., it could actually go further in reality., what i expect if the church were to be taxed would be that secret churches would start to meet like the ones that happen where christianity is illegal., the government can't really track that stuff too well though i wouldn't put it past them anymore ., so scratch that, we could do a tax rate that increases based on the church's revenue., then we would get the problem that plagues the united states taxes churches would just split up into smaller units and record their income at the lowest rate; likely one where the church isn't taxed at all., so there's how that revenue works and the probable results., hope this helps!]   \n",
       "3  [i've served on my local church's council and i understand the perception of the church having a lot of money., that being said, while the church i attend brings in a lot of money a little less than 500k year 100 of it goes into supporting the church as a whole staff wages, operational expenses, building mortgage, etc and the church mission local community outreach programs such as food banks and soup kitchens, national outreach through monetary donations, etc ., lets look at the simple budget for my church next year: 500,000 that's a good chunk of change., 91 of that money is donated without the expectation of receiving any tangible thing., the remaining 9 is mainly collected from rental fees by individuals and organizations that want to use the church for their activities., now on how the money is spent nearly 50 of the budget is spent on staff salaries, benefits and payroll., seeing as i live in a state where the cost of living is quite high, we try very hard to pay our pastor, youth minister and administrative assistant competitive wages while we aren't 100 with getting a comparable wage we do try., 10 of the budget is spent on benevolence straight up donating 10 of our income to the greater church., remaining 40 operations and community outreach, and future set asides., the church has regular expenses just like any other entity., we have a mortgage to pay, electrical bills, insurance, advertising, pastoral training, running a twice weekly soup kitchen, twice a sunday services, etc., now lets add an 'income tax' onto this while thing., as you can see most every penny that goes into the church, goes right back out to the community at large., the nominal corporate tax rate is 35 ., so let's knock 175,000 right out of the budget., so instead of 500k, we have 325,000 basically enough to cover competitive pastoral wages, benefits, and have 75,000 left over for everything else., it boils down to local community benefit., the federal government isn't concerned with making sure people are hungry are fed, the naked clothed, and the downtrodden consoled., churches and religious communities are some of the only organizations that have the ability to directly influence the lives of people in their community., taxing religious organizations is a bad idea because of the community outreach that a lot of these organizations provide., i'm not saying there aren't bad apples, but i'd say 95 of churches provide a bigger community benefit by direct outreach, instead of letting the government come in and take finances out of your community.]   \n",
       "4                                                                                                                                                                                                                                                                                                                                                                                                                                                                                                                                                                                                                                                                                                                                                                                                                                                                                                                                                                                                                                                                                                                                                                                                                                                                                                                                                                                                                                               [consider also the effect this could have taxing the church makes it more difficult to run, so smaller ones are likely to close up., you may end up seeing: more 'mega'churches, with greater congregations., inadvertent suppression of faiths due to low demand the above point resulting in larger polarization of religion i. e., less personal interfaith interaction as communities shift so people can attended a church temple mosque of their faithwe could therefore lose fluidity in the workforce people won't work somewhere they can't find an appropriate chapel both within an abroad i. e., harder to attract retain workers we would want for the same reasons ., additionally, there is potential long term unrest from community segregation even though any segregation would be implicit, not explicit ., less actual interaction with different religions could result in prejudices developing, especially if some communities end up better worse off 'we don't like to go to the restaurants in that neighborhood' creating economic disparity against religious minorities ., of course i wouldn't say we are free of these issues as is, but i see taxation as possibly agitating these issues.]   \n",
       "\n",
       "   num_cand_conc  \\\n",
       "0              1   \n",
       "1              1   \n",
       "2              1   \n",
       "3              1   \n",
       "4              1   \n",
       "\n",
       "                                                                                                                                                                                                                                                                                                                                                                                                                                                                                                                           masked_premises  \\\n",
       "0  [i believe that a church is like any other profit making business and therefore most pay similar taxes., i am not a religious person myself so i do not know the complete logistics of the revenue and spending of a church but i do understand they can yield a good amount of cash., not entirely sure how accurate this article is, but it states that we could gain an additional 71 billion dollars per year and in a time where we as a country are in trillions of dollars of debt taxing a church seems reasonable to me., cmv]   \n",
       "1  [i believe that a church is like any other profit making business and therefore most pay similar taxes., i am not a religious person myself so i do not know the complete logistics of the revenue and spending of a church but i do understand they can yield a good amount of cash., not entirely sure how accurate this article is, but it states that we could gain an additional 71 billion dollars per year and in a time where we as a country are in trillions of dollars of debt taxing a church seems reasonable to me., cmv]   \n",
       "2  [i believe that a church is like any other profit making business and therefore most pay similar taxes., i am not a religious person myself so i do not know the complete logistics of the revenue and spending of a church but i do understand they can yield a good amount of cash., not entirely sure how accurate this article is, but it states that we could gain an additional 71 billion dollars per year and in a time where we as a country are in trillions of dollars of debt taxing a church seems reasonable to me., cmv]   \n",
       "3  [i believe that a church is like any other profit making business and therefore most pay similar taxes., i am not a religious person myself so i do not know the complete logistics of the revenue and spending of a church but i do understand they can yield a good amount of cash., not entirely sure how accurate this article is, but it states that we could gain an additional 71 billion dollars per year and in a time where we as a country are in trillions of dollars of debt taxing a church seems reasonable to me., cmv]   \n",
       "4  [i believe that a church is like any other profit making business and therefore most pay similar taxes., i am not a religious person myself so i do not know the complete logistics of the revenue and spending of a church but i do understand they can yield a good amount of cash., not entirely sure how accurate this article is, but it states that we could gain an additional 71 billion dollars per year and in a time where we as a country are in trillions of dollars of debt taxing a church seems reasonable to me., cmv]   \n",
       "\n",
       "                                                                                                                                                                                                                                                                                                                                                                                                                                                                                                                                                                                                                  premises_with_conclusion  \\\n",
       "0  [i believe that a church is like any other profit making business and therefore most pay similar taxes., i am not a religious person myself so i do not know the complete logistics of the revenue and spending of a church but i do understand they can yield a good amount of cash., not entirely sure how accurate this article is, but it states that we could gain an additional 71 billion dollars per year and in a time where we as a country are in trillions of dollars of debt taxing a church seems reasonable to me., cmv, Therefore, I believe that churches and other religious institutions should have to pay taxes. ]   \n",
       "1  [i believe that a church is like any other profit making business and therefore most pay similar taxes., i am not a religious person myself so i do not know the complete logistics of the revenue and spending of a church but i do understand they can yield a good amount of cash., not entirely sure how accurate this article is, but it states that we could gain an additional 71 billion dollars per year and in a time where we as a country are in trillions of dollars of debt taxing a church seems reasonable to me., cmv, Therefore, I believe that churches and other religious institutions should have to pay taxes. ]   \n",
       "2  [i believe that a church is like any other profit making business and therefore most pay similar taxes., i am not a religious person myself so i do not know the complete logistics of the revenue and spending of a church but i do understand they can yield a good amount of cash., not entirely sure how accurate this article is, but it states that we could gain an additional 71 billion dollars per year and in a time where we as a country are in trillions of dollars of debt taxing a church seems reasonable to me., cmv, Therefore, I believe that churches and other religious institutions should have to pay taxes. ]   \n",
       "3  [i believe that a church is like any other profit making business and therefore most pay similar taxes., i am not a religious person myself so i do not know the complete logistics of the revenue and spending of a church but i do understand they can yield a good amount of cash., not entirely sure how accurate this article is, but it states that we could gain an additional 71 billion dollars per year and in a time where we as a country are in trillions of dollars of debt taxing a church seems reasonable to me., cmv, Therefore, I believe that churches and other religious institutions should have to pay taxes. ]   \n",
       "4  [i believe that a church is like any other profit making business and therefore most pay similar taxes., i am not a religious person myself so i do not know the complete logistics of the revenue and spending of a church but i do understand they can yield a good amount of cash., not entirely sure how accurate this article is, but it states that we could gain an additional 71 billion dollars per year and in a time where we as a country are in trillions of dollars of debt taxing a church seems reasonable to me., cmv, Therefore, I believe that churches and other religious institutions should have to pay taxes. ]   \n",
       "\n",
       "                                     bart_conclusion  \\\n",
       "0  i believe that churches should have to pay taxes.   \n",
       "1  i believe that churches should have to pay taxes.   \n",
       "2  i believe that churches should have to pay taxes.   \n",
       "3  i believe that churches should have to pay taxes.   \n",
       "4  i believe that churches should have to pay taxes.   \n",
       "\n",
       "                                                                   counter_bart_conclusion  \n",
       "0                                  i think corporate tax is just religious discrimination.  \n",
       "1  Religious tax exemptions are a violation of the first amendment and should be abolished  \n",
       "2                             I believe churches in the United States should not be taxed.  \n",
       "3                       I believe churches and religious communities should be tax exempt.  \n",
       "4                                 Taxing churches would lead to a larger divide in society  "
      ]
     },
     "execution_count": 23,
     "metadata": {},
     "output_type": "execute_result"
    }
   ],
   "source": [
    "train_df.head()"
   ]
  },
  {
   "cell_type": "code",
   "execution_count": 25,
   "metadata": {},
   "outputs": [],
   "source": [
    "train_df.to_pickle('../../../data-ceph/arguana/arg-generation/multi-taks-counter-argument-generation/reddit_data/conclusion_and_ca_generation/train_conclusion_comp_remove_75sem_perc_with_added_conclusions.pkl')"
   ]
  },
  {
   "cell_type": "markdown",
   "metadata": {},
   "source": [
    "### Generate comclusions for the validation set:"
   ]
  },
  {
   "cell_type": "code",
   "execution_count": 8,
   "metadata": {},
   "outputs": [],
   "source": [
    "valid_df = pd.read_pickle('../../../data-ceph/arguana/arg-generation/multi-taks-counter-argument-generation/reddit_data/conclusion_and_ca_generation/valid_conclusion_comp_remove_75sem_perc_with_targets.pkl')"
   ]
  },
  {
   "cell_type": "code",
   "execution_count": 9,
   "metadata": {},
   "outputs": [],
   "source": [
    "post_dict = list(pd.Series(valid_df.masked_premises.values, index=valid_df.post_id).to_dict().items())"
   ]
  },
  {
   "cell_type": "code",
   "execution_count": 10,
   "metadata": {},
   "outputs": [],
   "source": [
    "post_ids, posts = zip(*post_dict)"
   ]
  },
  {
   "cell_type": "code",
   "execution_count": 11,
   "metadata": {},
   "outputs": [
    {
     "data": {
      "text/plain": [
       "2531"
      ]
     },
     "execution_count": 11,
     "metadata": {},
     "output_type": "execute_result"
    }
   ],
   "source": [
    "len(post_ids)"
   ]
  },
  {
   "cell_type": "code",
   "execution_count": 12,
   "metadata": {},
   "outputs": [
    {
     "data": {
      "application/vnd.jupyter.widget-view+json": {
       "model_id": "bedd9582bf8241ec94ca8910b9d55508",
       "version_major": 2,
       "version_minor": 0
      },
      "text/plain": [
       "  0%|          | 0/3 [00:00<?, ?ba/s]"
      ]
     },
     "metadata": {},
     "output_type": "display_data"
    },
    {
     "name": "stderr",
     "output_type": "stream",
     "text": [
      "/usr/local/lib/python3.6/dist-packages/torch/_tensor.py:575: UserWarning: floor_divide is deprecated, and will be removed in a future version of pytorch. It currently rounds toward 0 (like the 'trunc' function NOT 'floor'). This results in incorrect rounding for negative values.\n",
      "To keep the current behavior, use torch.div(a, b, rounding_mode='trunc'), or for actual floor division, use torch.div(a, b, rounding_mode='floor'). (Triggered internally at  /pytorch/aten/src/ATen/native/BinaryOps.cpp:467.)\n",
      "  return torch.floor_divide(self, other)\n"
     ]
    }
   ],
   "source": [
    "pred_conclusions = generate_conclusion(posts, gen_kwargs, batch_size=8)"
   ]
  },
  {
   "cell_type": "code",
   "execution_count": 13,
   "metadata": {},
   "outputs": [],
   "source": [
    "post_pred_conclusions = {x[0]: x[1] for x in zip(post_ids, pred_conclusions)}"
   ]
  },
  {
   "cell_type": "code",
   "execution_count": 14,
   "metadata": {},
   "outputs": [],
   "source": [
    "valid_df['bart_conclusion'] = valid_df.post_id.apply(lambda x: post_pred_conclusions[x])"
   ]
  },
  {
   "cell_type": "code",
   "execution_count": 15,
   "metadata": {
    "scrolled": true,
    "tags": []
   },
   "outputs": [
    {
     "data": {
      "text/html": [
       "<div>\n",
       "<style scoped>\n",
       "    .dataframe tbody tr th:only-of-type {\n",
       "        vertical-align: middle;\n",
       "    }\n",
       "\n",
       "    .dataframe tbody tr th {\n",
       "        vertical-align: top;\n",
       "    }\n",
       "\n",
       "    .dataframe thead th {\n",
       "        text-align: right;\n",
       "    }\n",
       "</style>\n",
       "<table border=\"1\" class=\"dataframe\">\n",
       "  <thead>\n",
       "    <tr style=\"text-align: right;\">\n",
       "      <th></th>\n",
       "      <th>title</th>\n",
       "      <th>bart_conclusion</th>\n",
       "      <th>post</th>\n",
       "    </tr>\n",
       "  </thead>\n",
       "  <tbody>\n",
       "    <tr>\n",
       "      <th>410484</th>\n",
       "      <td>People who unironically use the NPC meme represent \"the NPC\" more so than the liberals they claim are NPCs.</td>\n",
       "      <td>people who unironically use the nPC meme are basically 'nPCs'.</td>\n",
       "      <td>[yeah, i know, popular opinion, but i do want to hear the other side., i don't think i've ever seen a unique argument by someone who unironically uses the npc meme., pretty much all of their comments are: 'npc liberals' 'orange man bad' ' lt;insert code here gt;' and there's no actual unique meme made by said users., when questioned on how repetitive they are, they claim 'liberals are the real npcs. ', i get that they're 'imitating the liberal npc,' but they don't actually respond to unique thoughts., instead, they repeat the same few phrases over and over again, therefore being more like an npc than the ones they claim are npcs., cmv.]</td>\n",
       "    </tr>\n",
       "    <tr>\n",
       "      <th>356767</th>\n",
       "      <td>NATO should be dissolved.</td>\n",
       "      <td>The united states should form a new \"police union\"</td>\n",
       "      <td>[nato was formed at the end of wwii and the beginning of the cold war to deter a strong soviet union from invading a europe still in ashes., it successfully accomplished that goal., russia is now a shadow of its former self, while the european union as a whole is the wealthiest region in the world., a land invasion from the east is no longer a realistic possibility., additionally, the only occasions where article 5 has been invoked has been to invade smaller countries in response to terrorist threats dragging other countries into small conflicts that they have no business being involved in., the united states should not be the world's policeman., nato should be dissolved over time ., the eu should form its own defense, which then signs a bilateral deal with the united states.]</td>\n",
       "    </tr>\n",
       "    <tr>\n",
       "      <th>317720</th>\n",
       "      <td>I think most people in this world are stupid.</td>\n",
       "      <td>people are stupid. (please read before responding)</td>\n",
       "      <td>[firstly i assure anyone that replies i am very open to change., my reasoning for my thoughts are mostly unrelated to iq and competence., most of my thoughts are based on experience and what i see around me., i think people are stupid because they are unable to think for themselves, critically think or perform any sort of self analysis., when asked why they do the things they do, they do not know as most of their decisions and actions are spontaneous and aren't made with a conscious effort., people cannot make decisions on their own and their actions are based off what others do or say., their future is decided by what trends exist and how their social circle feel., opinions are formed unconsciously and without any effort., they need to be constantly occupied and entertained by physical activities or social media, when left alone with nothing except them and their thoughts, their minds are either unoccupied or filled with meaningless thoughts like 'what should i have for dinner? ', they do not self reflect., ever., when their opinions or actions are questioned or challenged in any way shape or form, they either get emotional and or avoid the topic as a whole., i am sorry to those i have not replied to, its become a little overwhelming answering the same questions over and over.]</td>\n",
       "    </tr>\n",
       "    <tr>\n",
       "      <th>303772</th>\n",
       "      <td>Religion enshrines the values of a certain time period within a society. Its effects are good or bad according to whether these values are true or false.</td>\n",
       "      <td>Religion enshrines the values of a certain time period within a society.</td>\n",
       "      <td>[i'm speaking from the perspective of atheism and moral realism., i am trying to determine what effects religious belief generally has, so that i can determine whether and how to combat it., my current hypothesis is that religion enshrines the values of a specific time period within a society., what this means is that the religion forms at a certain point in time, so it will advocate the values present in the culture at that point in time., adherents of the religion adopt and preserve those values over the subsequent decades, centuries, or millenia because they have faith in the religion., if the values are true, the effects of the religion are good, and if they are false, its effects are bad., two examples: 1., the stoics discovered the idea of justice and natural rights, which was integrated into a faith based christian context during the middle ages., this is an example of a religious belief having positive effects, including arguably a the founding of the united states and b martin luther king's advocacy of civil rights for blacks., 2., the hindu caste system is an example of a religious belief that has harmful effects., the caste system was originally due to historical factors, but because it was integrated into the hindu religion, it took on a faith based dimension which preserved it more or less to the present day., i would argue that this must have caused incalculable injustice and suffering., i don't take myself to know that this hypothesis is correct, it's just what currently strikes me as plausible., if you can make a strong case that religion is more plastic than i have allowed, or that the effects of religious belief are invariably or almost invariably harmful or positive , i'll award a delta.]</td>\n",
       "    </tr>\n",
       "    <tr>\n",
       "      <th>299935</th>\n",
       "      <td>We as a society need to re-evaluate how we deal with the issue of paedophilia.</td>\n",
       "      <td>I believe that we need to re-evaluate how we deal with the issue of paedophilia.</td>\n",
       "      <td>[pretty sure this post is going to get me put on a list or something, so straight off the bat i want to categorically state that i am not a paedophile., i simply just finished watching the episode from season three of black mirror with all the paedophiles, and it got me thinking., as a society, our view on paedophilia seems to be quite simple., we don t like paedophiles, we think they re disgusting, we think they re evil, and we lock them up as soon as they inevitably act on their urges., while this stance is most definitely understandable, in my opinion it is also one that is extremely dated, and needs to be changed., the main reason why i hold this stance can be summed up quite simply: nobody wants to, or would consciously choose to be a paedophile., it s similar though not identical to the argument around whether members of the lgbt community choose their sexual orientation., the obvious answer to this question of course is that they don t., now, before people get up in arms about me equating homosexuality to paedophilia, let me clarify that that is not my intention., paedophilia is not a sexual orientation., i m not an expert on the science, nor the terminology surrounding this area, but i believe it is safe to describe paedophilia as a sexual perversion., so why should we change our treatment of those affected by this perversion?, for starters, in my opinion paedophiles are not, by design, evil., a paedophile should only be described as evil once they begin to act on their urges in a dangerous or harmful manner that affects others, whether that be the consumption or production of child pornography, or worse., at that point, of course they have crossed serious, serious lines and should be duly punished., with the current systems that are in place, an individual who is unfortunate enough to become affected by such a perversion is left totally alone, with no real way to cope with or possibly even overcome their affliction., in my opinion, real investment and research should be put into systems to support paedophiles, to help them to cope with and control their urges, whether it be through therapy, medication, etc., i cannot claim to know anything about the science around this area but i assume something can be done., an important thing to keep in mind also, is that the benefits of such an initiative would be twofold., not only would it provide much needed support and assistance to possibly the most isolated and stigmatized section of our population, but even more importantly it would hopefully reduce the number of victims who fall prey to paedophiles each year., a paedophile left feeling alone, shunned and stigmatized by society is surely significantly more likely to act on their impulses and do something horrific., with the right treatment and support system in place, they would surely be more likely to seek help and try to control their condition., with a committed, well planned approach at tackling the issue of paedophilia, we could surely expect to see a noticeable fall in the horrific crimes associated with the issue.]</td>\n",
       "    </tr>\n",
       "  </tbody>\n",
       "</table>\n",
       "</div>"
      ],
      "text/plain": [
       "                                                                                                                                                             title  \\\n",
       "410484                                                 People who unironically use the NPC meme represent \"the NPC\" more so than the liberals they claim are NPCs.   \n",
       "356767                                                                                                                                   NATO should be dissolved.   \n",
       "317720                                                                                                               I think most people in this world are stupid.   \n",
       "303772   Religion enshrines the values of a certain time period within a society. Its effects are good or bad according to whether these values are true or false.   \n",
       "299935                                                                              We as a society need to re-evaluate how we deal with the issue of paedophilia.   \n",
       "\n",
       "                                                                         bart_conclusion  \\\n",
       "410484                    people who unironically use the nPC meme are basically 'nPCs'.   \n",
       "356767                                The united states should form a new \"police union\"   \n",
       "317720                                people are stupid. (please read before responding)   \n",
       "303772          Religion enshrines the values of a certain time period within a society.   \n",
       "299935  I believe that we need to re-evaluate how we deal with the issue of paedophilia.   \n",
       "\n",
       "                                                                                                                                                                                                                                                                                                                                                                                                                                                                                                                                                                                                                                                                                                                                                                                                                                                                                                                                                                                                                                                                                                                                                                                                                                                                                                                                                                                                                                                                                                                                                                                                                                                                                                                                                                                                                                                                                                                                                                                                                                                                                                                                                                                                                                                                                                                                                                                                                                                                                                                                                                                                                                                                                                                                                                                                                                                                                                                                                                                                                                                                                                                                                                                                             post  \n",
       "410484                                                                                                                                                                                                                                                                                                                                                                                                                                                                                                                                                                                                                                                                                                                                                                                                                                                                                                                                                                                                                                                                                                                                                                                                                                                                                                                                                                                                                                                                                                                                                                                                                                                                                                                                                                                                                                                                                                                                                                                                                                                                                                                                                                                                                                                                                                                                                                                                                                                                                                                                       [yeah, i know, popular opinion, but i do want to hear the other side., i don't think i've ever seen a unique argument by someone who unironically uses the npc meme., pretty much all of their comments are: 'npc liberals' 'orange man bad' ' lt;insert code here gt;' and there's no actual unique meme made by said users., when questioned on how repetitive they are, they claim 'liberals are the real npcs. ', i get that they're 'imitating the liberal npc,' but they don't actually respond to unique thoughts., instead, they repeat the same few phrases over and over again, therefore being more like an npc than the ones they claim are npcs., cmv.]  \n",
       "356767                                                                                                                                                                                                                                                                                                                                                                                                                                                                                                                                                                                                                                                                                                                                                                                                                                                                                                                                                                                                                                                                                                                                                                                                                                                                                                                                                                                                                                                                                                                                                                                                                                                                                                                                                                                                                                                                                                                                                                                                                                                                                                                                                                                                                                                                                                                                                                                        [nato was formed at the end of wwii and the beginning of the cold war to deter a strong soviet union from invading a europe still in ashes., it successfully accomplished that goal., russia is now a shadow of its former self, while the european union as a whole is the wealthiest region in the world., a land invasion from the east is no longer a realistic possibility., additionally, the only occasions where article 5 has been invoked has been to invade smaller countries in response to terrorist threats dragging other countries into small conflicts that they have no business being involved in., the united states should not be the world's policeman., nato should be dissolved over time ., the eu should form its own defense, which then signs a bilateral deal with the united states.]  \n",
       "317720                                                                                                                                                                                                                                                                                                                                                                                                                                                                                                                                                                                                                                                                                                                                                                                                                                                                                                                                                                                                                                                                                                                                                                                                                                                                                                                                                                                                                                                                                                                                                                                                                                                                                                                                                                                                                                                        [firstly i assure anyone that replies i am very open to change., my reasoning for my thoughts are mostly unrelated to iq and competence., most of my thoughts are based on experience and what i see around me., i think people are stupid because they are unable to think for themselves, critically think or perform any sort of self analysis., when asked why they do the things they do, they do not know as most of their decisions and actions are spontaneous and aren't made with a conscious effort., people cannot make decisions on their own and their actions are based off what others do or say., their future is decided by what trends exist and how their social circle feel., opinions are formed unconsciously and without any effort., they need to be constantly occupied and entertained by physical activities or social media, when left alone with nothing except them and their thoughts, their minds are either unoccupied or filled with meaningless thoughts like 'what should i have for dinner? ', they do not self reflect., ever., when their opinions or actions are questioned or challenged in any way shape or form, they either get emotional and or avoid the topic as a whole., i am sorry to those i have not replied to, its become a little overwhelming answering the same questions over and over.]  \n",
       "303772                                                                                                                                                                                                                                                                                                                                                                                                                                                                                                                                                                                                                                                                                                                                                                                                                                                                                                                                                                                                                                                                                                                                                                                                                                                                                                                                                                                                   [i'm speaking from the perspective of atheism and moral realism., i am trying to determine what effects religious belief generally has, so that i can determine whether and how to combat it., my current hypothesis is that religion enshrines the values of a specific time period within a society., what this means is that the religion forms at a certain point in time, so it will advocate the values present in the culture at that point in time., adherents of the religion adopt and preserve those values over the subsequent decades, centuries, or millenia because they have faith in the religion., if the values are true, the effects of the religion are good, and if they are false, its effects are bad., two examples: 1., the stoics discovered the idea of justice and natural rights, which was integrated into a faith based christian context during the middle ages., this is an example of a religious belief having positive effects, including arguably a the founding of the united states and b martin luther king's advocacy of civil rights for blacks., 2., the hindu caste system is an example of a religious belief that has harmful effects., the caste system was originally due to historical factors, but because it was integrated into the hindu religion, it took on a faith based dimension which preserved it more or less to the present day., i would argue that this must have caused incalculable injustice and suffering., i don't take myself to know that this hypothesis is correct, it's just what currently strikes me as plausible., if you can make a strong case that religion is more plastic than i have allowed, or that the effects of religious belief are invariably or almost invariably harmful or positive , i'll award a delta.]  \n",
       "299935  [pretty sure this post is going to get me put on a list or something, so straight off the bat i want to categorically state that i am not a paedophile., i simply just finished watching the episode from season three of black mirror with all the paedophiles, and it got me thinking., as a society, our view on paedophilia seems to be quite simple., we don t like paedophiles, we think they re disgusting, we think they re evil, and we lock them up as soon as they inevitably act on their urges., while this stance is most definitely understandable, in my opinion it is also one that is extremely dated, and needs to be changed., the main reason why i hold this stance can be summed up quite simply: nobody wants to, or would consciously choose to be a paedophile., it s similar though not identical to the argument around whether members of the lgbt community choose their sexual orientation., the obvious answer to this question of course is that they don t., now, before people get up in arms about me equating homosexuality to paedophilia, let me clarify that that is not my intention., paedophilia is not a sexual orientation., i m not an expert on the science, nor the terminology surrounding this area, but i believe it is safe to describe paedophilia as a sexual perversion., so why should we change our treatment of those affected by this perversion?, for starters, in my opinion paedophiles are not, by design, evil., a paedophile should only be described as evil once they begin to act on their urges in a dangerous or harmful manner that affects others, whether that be the consumption or production of child pornography, or worse., at that point, of course they have crossed serious, serious lines and should be duly punished., with the current systems that are in place, an individual who is unfortunate enough to become affected by such a perversion is left totally alone, with no real way to cope with or possibly even overcome their affliction., in my opinion, real investment and research should be put into systems to support paedophiles, to help them to cope with and control their urges, whether it be through therapy, medication, etc., i cannot claim to know anything about the science around this area but i assume something can be done., an important thing to keep in mind also, is that the benefits of such an initiative would be twofold., not only would it provide much needed support and assistance to possibly the most isolated and stigmatized section of our population, but even more importantly it would hopefully reduce the number of victims who fall prey to paedophiles each year., a paedophile left feeling alone, shunned and stigmatized by society is surely significantly more likely to act on their impulses and do something horrific., with the right treatment and support system in place, they would surely be more likely to seek help and try to control their condition., with a committed, well planned approach at tackling the issue of paedophilia, we could surely expect to see a noticeable fall in the horrific crimes associated with the issue.]  "
      ]
     },
     "execution_count": 15,
     "metadata": {},
     "output_type": "execute_result"
    }
   ],
   "source": [
    "valid_df[['title', 'bart_conclusion', 'post']].sample(10).head()"
   ]
  },
  {
   "cell_type": "code",
   "execution_count": 16,
   "metadata": {},
   "outputs": [],
   "source": [
    "valid_df.to_pickle('../../../data-ceph/arguana/arg-generation/multi-taks-counter-argument-generation/reddit_data/conclusion_and_ca_generation/valid_conclusion_comp_remove_75sem_perc_with_targets.pkl')valid_conclusion_all_sample"
   ]
  },
  {
   "cell_type": "markdown",
   "metadata": {},
   "source": [
    "### Generate conclusions for the test-dateset:"
   ]
  },
  {
   "cell_type": "code",
   "execution_count": 7,
   "metadata": {},
   "outputs": [],
   "source": [
    "test_df = pd.read_pickle('../../../data-ceph/arguana/arg-generation/multi-taks-counter-argument-generation/reddit_data/conclusion_and_ca_generation/test_conclusion_comp_remove_75sem_perc_with_targets.pkl')"
   ]
  },
  {
   "cell_type": "code",
   "execution_count": 8,
   "metadata": {
    "scrolled": true,
    "tags": []
   },
   "outputs": [
    {
     "data": {
      "application/vnd.jupyter.widget-view+json": {
       "model_id": "158afe4c1a9b40f6a2dddc5a56e949fb",
       "version_major": 2,
       "version_minor": 0
      },
      "text/plain": [
       "  0%|          | 0/3 [00:00<?, ?ba/s]"
      ]
     },
     "metadata": {},
     "output_type": "display_data"
    },
    {
     "name": "stderr",
     "output_type": "stream",
     "text": [
      "/usr/local/lib/python3.6/dist-packages/torch/_tensor.py:575: UserWarning: floor_divide is deprecated, and will be removed in a future version of pytorch. It currently rounds toward 0 (like the 'trunc' function NOT 'floor'). This results in incorrect rounding for negative values.\n",
      "To keep the current behavior, use torch.div(a, b, rounding_mode='trunc'), or for actual floor division, use torch.div(a, b, rounding_mode='floor'). (Triggered internally at  /pytorch/aten/src/ATen/native/BinaryOps.cpp:467.)\n",
      "  return torch.floor_divide(self, other)\n"
     ]
    }
   ],
   "source": [
    "post_dict = list(pd.Series(test_df.masked_premises.values, index=test_df.post_id).to_dict().items())\n",
    "post_ids, posts = zip(*post_dict)\n",
    "pred_conclusions = generate_conclusion(posts, gen_kwargs, batch_size=8)\n",
    "post_pred_conclusions = {x[0]: x[1] for x in zip(post_ids, pred_conclusions)}\n",
    "test_df['bart_conclusion'] = test_df.post_id.apply(lambda x: post_pred_conclusions[x])\n",
    "test_df.to_pickle('../../../data-ceph/arguana/arg-generation/multi-taks-counter-argument-generation/reddit_data/conclusion_and_ca_generation/test_conclusion_comp_remove_75sem_perc_with_targets.pkl')"
   ]
  },
  {
   "cell_type": "code",
   "execution_count": null,
   "metadata": {},
   "outputs": [],
   "source": [
    "#Now generate conclusions using ArgLexRank "
   ]
  },
  {
   "cell_type": "markdown",
   "metadata": {},
   "source": [
    "### Generate conclusions for the valid-all dataset:"
   ]
  },
  {
   "cell_type": "code",
   "execution_count": 9,
   "metadata": {},
   "outputs": [],
   "source": [
    "test_df = pd.read_pickle('../../../data-ceph/arguana/arg-generation/multi-taks-counter-argument-generation/reddit_data/conclusion_and_ca_generation/valid_conclusion_all_sample_with_targets.pkl')"
   ]
  },
  {
   "cell_type": "code",
   "execution_count": 10,
   "metadata": {},
   "outputs": [
    {
     "data": {
      "application/vnd.jupyter.widget-view+json": {
       "model_id": "794beebe7e664f748a155c61d2553e87",
       "version_major": 2,
       "version_minor": 0
      },
      "text/plain": [
       "  0%|          | 0/2 [00:00<?, ?ba/s]"
      ]
     },
     "metadata": {},
     "output_type": "display_data"
    }
   ],
   "source": [
    "post_dict = list(pd.Series(test_df.post.values, index=test_df.post_id).to_dict().items())\n",
    "post_ids, posts = zip(*post_dict)\n",
    "pred_conclusions = generate_conclusion(posts, gen_kwargs, batch_size=8)\n",
    "post_pred_conclusions = {x[0]: x[1] for x in zip(post_ids, pred_conclusions)}\n",
    "test_df['bart_conclusion'] = test_df.post_id.apply(lambda x: post_pred_conclusions[x])\n",
    "test_df.to_pickle('../../../data-ceph/arguana/arg-generation/multi-taks-counter-argument-generation/reddit_data/conclusion_and_ca_generation/valid_conclusion_all_sample_with_targets.pkl')"
   ]
  },
  {
   "cell_type": "code",
   "execution_count": 7,
   "metadata": {},
   "outputs": [
    {
     "data": {
      "application/vnd.jupyter.widget-view+json": {
       "model_id": "bb8fe8dbc5bd444f9115700acd3e0827",
       "version_major": 2,
       "version_minor": 0
      },
      "text/plain": [
       "  0%|          | 0/2 [00:00<?, ?ba/s]"
      ]
     },
     "metadata": {},
     "output_type": "display_data"
    },
    {
     "name": "stderr",
     "output_type": "stream",
     "text": [
      "/usr/local/lib/python3.6/dist-packages/torch/_tensor.py:575: UserWarning: floor_divide is deprecated, and will be removed in a future version of pytorch. It currently rounds toward 0 (like the 'trunc' function NOT 'floor'). This results in incorrect rounding for negative values.\n",
      "To keep the current behavior, use torch.div(a, b, rounding_mode='trunc'), or for actual floor division, use torch.div(a, b, rounding_mode='floor'). (Triggered internally at  /pytorch/aten/src/ATen/native/BinaryOps.cpp:467.)\n",
      "  return torch.floor_divide(self, other)\n"
     ]
    }
   ],
   "source": [
    "test_df = pd.read_pickle('../../../data-ceph/arguana/arg-generation/multi-taks-counter-argument-generation/reddit_data/conclusion_and_ca_generation/test_conclusion_all_sample_with_targets.pkl')\n",
    "post_dict = list(pd.Series(test_df.post.values, index=test_df.post_id).to_dict().items())\n",
    "post_ids, posts = zip(*post_dict)\n",
    "pred_conclusions = generate_conclusion(posts, gen_kwargs, batch_size=8)\n",
    "post_pred_conclusions = {x[0]: x[1] for x in zip(post_ids, pred_conclusions)}\n",
    "test_df['bart_conclusion'] = test_df.post_id.apply(lambda x: post_pred_conclusions[x])\n",
    "test_df.to_pickle('../../../data-ceph/arguana/arg-generation/multi-taks-counter-argument-generation/reddit_data/conclusion_and_ca_generation/test_conclusion_all_sample_with_targets.pkl')"
   ]
  },
  {
   "cell_type": "code",
   "execution_count": null,
   "metadata": {},
   "outputs": [],
   "source": []
  }
 ],
 "metadata": {
  "interpreter": {
   "hash": "16043b4afea6df4cc9c8277bea4f74cd7012ce4985455d3fd8e496ab2325b686"
  },
  "kernelspec": {
   "display_name": "Python 3",
   "language": "python",
   "name": "python3"
  },
  "language_info": {
   "codemirror_mode": {
    "name": "ipython",
    "version": 3
   },
   "file_extension": ".py",
   "mimetype": "text/x-python",
   "name": "python",
   "nbconvert_exporter": "python",
   "pygments_lexer": "ipython3",
   "version": "3.6.9"
  }
 },
 "nbformat": 4,
 "nbformat_minor": 4
}
