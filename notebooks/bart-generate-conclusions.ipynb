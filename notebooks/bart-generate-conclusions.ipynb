{
 "cells": [
  {
   "cell_type": "code",
   "execution_count": 1,
   "metadata": {},
   "outputs": [],
   "source": [
    "import sys\n",
    "import os\n",
    "sys.path.append('../src-py/')\n",
    "os.environ[\"CUDA_VISIBLE_DEVICES\"]=\"1\""
   ]
  },
  {
   "cell_type": "code",
   "execution_count": 2,
   "metadata": {},
   "outputs": [
    {
     "name": "stdout",
     "output_type": "stream",
     "text": [
      "2022-05-19 18:28:39,883 loading file ../../../data-ceph/arguana/arg-generation/claim-target-tagger/model/final-model.pt\n",
      "2022-05-19 18:29:10,250 SequenceTagger predicts: Dictionary with 5 tags: O, S-CT, B-CT, E-CT, I-CT\n"
     ]
    }
   ],
   "source": [
    "from ca_utils import *"
   ]
  },
  {
   "cell_type": "code",
   "execution_count": 3,
   "metadata": {},
   "outputs": [],
   "source": [
    "import pandas as pd\n",
    "from tqdm import tqdm\n",
    "tqdm.pandas()\n",
    "\n",
    "pd.set_option('display.max_colwidth', None)"
   ]
  },
  {
   "cell_type": "code",
   "execution_count": 4,
   "metadata": {},
   "outputs": [],
   "source": [
    "import torch"
   ]
  },
  {
   "cell_type": "code",
   "execution_count": 5,
   "metadata": {},
   "outputs": [
    {
     "data": {
      "text/plain": [
       "device(type='cuda')"
      ]
     },
     "execution_count": 5,
     "metadata": {},
     "output_type": "execute_result"
    }
   ],
   "source": [
    "torch.device('cuda') if torch.cuda.is_available() else torch.device('cpu')"
   ]
  },
  {
   "cell_type": "markdown",
   "metadata": {},
   "source": [
    "### Generate conclusions for the posts:"
   ]
  },
  {
   "cell_type": "code",
   "execution_count": 10,
   "metadata": {},
   "outputs": [],
   "source": [
    "def generate_post_conclusions(df):\n",
    "    \n",
    "    gen_kwargs = {\n",
    "        \"do_sample\": True, \n",
    "        \"max_length\":20,\n",
    "        \"top_p\":0.95, \n",
    "        \"num_beams\":1\n",
    "    }\n",
    "\n",
    "    post_dict = list(pd.Series(df.post.values, index=df.post_id).to_dict().items())\n",
    "    post_ids, posts = zip(*post_dict)\n",
    "    pred_conclusions = generate_conclusion(posts, gen_kwargs, batch_size=8)\n",
    "    post_pred_conclusions = {x[0]: x[1] for x in zip(post_ids, pred_conclusions)}\n",
    "    df['bart_conclusion'] = df.post_id.apply(lambda x: post_pred_conclusions[x])\n",
    "    \n",
    "    return df"
   ]
  },
  {
   "cell_type": "markdown",
   "metadata": {},
   "source": [
    "#### For a sample of the test-dataset:"
   ]
  },
  {
   "cell_type": "code",
   "execution_count": 8,
   "metadata": {},
   "outputs": [],
   "source": [
    "test_df = pd.read_pickle('../../../data-ceph/arguana/arg-generation/multi-taks-counter-argument-generation/reddit_data/conclusion_and_ca_generation/sample_test_conclusion_all.pkl')\n",
    "test_df = generate_post_conclusions(test_df)\n",
    "test_df.to_pickle('../../../data-ceph/arguana/arg-generation/multi-taks-counter-argument-generation/reddit_data/conclusion_and_ca_generation/sample_test_conclusion_all_preprocessed.pkl')"
   ]
  },
  {
   "cell_type": "markdown",
   "metadata": {},
   "source": [
    "#### For a sample of the valid-dataset:"
   ]
  },
  {
   "cell_type": "code",
   "execution_count": 11,
   "metadata": {},
   "outputs": [
    {
     "data": {
      "application/vnd.jupyter.widget-view+json": {
       "model_id": "f25ee7998bd840749a2ba863d6820662",
       "version_major": 2,
       "version_minor": 0
      },
      "text/plain": [
       "  0%|          | 0/2 [00:00<?, ?ba/s]"
      ]
     },
     "metadata": {},
     "output_type": "display_data"
    },
    {
     "name": "stderr",
     "output_type": "stream",
     "text": [
      "/usr/local/lib/python3.6/dist-packages/transformers/generation_utils.py:2142: UserWarning: __floordiv__ is deprecated, and its behavior will change in a future version of pytorch. It currently rounds toward 0 (like the 'trunc' function NOT 'floor'). This results in incorrect rounding for negative values. To keep the current behavior, use torch.div(a, b, rounding_mode='trunc'), or for actual floor division, use torch.div(a, b, rounding_mode='floor').\n",
      "  next_indices = next_tokens // vocab_size\n"
     ]
    }
   ],
   "source": [
    "valid_df = pd.read_pickle('../../../data-ceph/arguana/arg-generation/multi-taks-counter-argument-generation/reddit_data/conclusion_and_ca_generation/sample_valid_conclusion_all.pkl')\n",
    "test_df = generate_post_conclusions(valid_df)\n",
    "valid_df.to_pickle('../../../data-ceph/arguana/arg-generation/multi-taks-counter-argument-generation/reddit_data/conclusion_and_ca_generation/sample_valid_conclusion_all_preprocessed.pkl')"
   ]
  },
  {
   "cell_type": "markdown",
   "metadata": {},
   "source": [
    "#### For the whole test-dataset:"
   ]
  },
  {
   "cell_type": "code",
   "execution_count": 16,
   "metadata": {},
   "outputs": [
    {
     "data": {
      "application/vnd.jupyter.widget-view+json": {
       "model_id": "e06e32cf54b045458ae9eeef11551e06",
       "version_major": 2,
       "version_minor": 0
      },
      "text/plain": [
       "  0%|          | 0/9 [00:00<?, ?ba/s]"
      ]
     },
     "metadata": {},
     "output_type": "display_data"
    }
   ],
   "source": [
    "test_df = pd.read_pickle('../../../data-ceph/arguana/arg-generation/multi-taks-counter-argument-generation/reddit_data/conclusion_and_ca_generation/test_conclusion_all.pkl')\n",
    "test_df = test_df.drop_duplicates('post_id')\n",
    "test_df = generate_post_conclusions(test_df)\n",
    "test_df.to_pickle('../../../data-ceph/arguana/arg-generation/multi-taks-counter-argument-generation/reddit_data/conclusion_and_ca_generation/test_conclusion_all_preprocessed.pkl')"
   ]
  },
  {
   "cell_type": "code",
   "execution_count": 17,
   "metadata": {},
   "outputs": [
    {
     "data": {
      "text/html": [
       "<div>\n",
       "<style scoped>\n",
       "    .dataframe tbody tr th:only-of-type {\n",
       "        vertical-align: middle;\n",
       "    }\n",
       "\n",
       "    .dataframe tbody tr th {\n",
       "        vertical-align: top;\n",
       "    }\n",
       "\n",
       "    .dataframe thead th {\n",
       "        text-align: right;\n",
       "    }\n",
       "</style>\n",
       "<table border=\"1\" class=\"dataframe\">\n",
       "  <thead>\n",
       "    <tr style=\"text-align: right;\">\n",
       "      <th></th>\n",
       "      <th>title</th>\n",
       "      <th>bart_conclusion</th>\n",
       "    </tr>\n",
       "  </thead>\n",
       "  <tbody>\n",
       "    <tr>\n",
       "      <th>410850</th>\n",
       "      <td>people should come with instructions</td>\n",
       "      <td>i think people should be required by law to use a cheat sheet if they meet someone they</td>\n",
       "    </tr>\n",
       "    <tr>\n",
       "      <th>410858</th>\n",
       "      <td>People should not be heavily criticized for things they put on social media in the distant past</td>\n",
       "      <td>i think the internet should stop being as harsh on people for things they put on social</td>\n",
       "    </tr>\n",
       "    <tr>\n",
       "      <th>410902</th>\n",
       "      <td>We shouldn't focus on slowing climate change</td>\n",
       "      <td>joint statement:: there are other environmental issues that are a greater problem for</td>\n",
       "    </tr>\n",
       "    <tr>\n",
       "      <th>410910</th>\n",
       "      <td>The Australian PM was right to tell students to stop activism around global warming</td>\n",
       "      <td>I believe that activism is a terrible way to combat climate change</td>\n",
       "    </tr>\n",
       "    <tr>\n",
       "      <th>410916</th>\n",
       "      <td>Feeding cats or dogs a diet with meat is indefensible.</td>\n",
       "      <td>if a cat or dog eats her life then it's a animal killer and they should be</td>\n",
       "    </tr>\n",
       "  </tbody>\n",
       "</table>\n",
       "</div>"
      ],
      "text/plain": [
       "                                                                                                   title  \\\n",
       "410850                                                              people should come with instructions   \n",
       "410858   People should not be heavily criticized for things they put on social media in the distant past   \n",
       "410902                                                      We shouldn't focus on slowing climate change   \n",
       "410910               The Australian PM was right to tell students to stop activism around global warming   \n",
       "410916                                            Feeding cats or dogs a diet with meat is indefensible.   \n",
       "\n",
       "                                                                                bart_conclusion  \n",
       "410850  i think people should be required by law to use a cheat sheet if they meet someone they  \n",
       "410858  i think the internet should stop being as harsh on people for things they put on social  \n",
       "410902    joint statement:: there are other environmental issues that are a greater problem for  \n",
       "410910                       I believe that activism is a terrible way to combat climate change  \n",
       "410916               if a cat or dog eats her life then it's a animal killer and they should be  "
      ]
     },
     "execution_count": 17,
     "metadata": {},
     "output_type": "execute_result"
    }
   ],
   "source": [
    "test_df[['title', 'bart_conclusion']].head()"
   ]
  },
  {
   "cell_type": "code",
   "execution_count": 18,
   "metadata": {},
   "outputs": [
    {
     "data": {
      "text/plain": [
       "8535"
      ]
     },
     "execution_count": 18,
     "metadata": {},
     "output_type": "execute_result"
    }
   ],
   "source": [
    "len(test_df)"
   ]
  }
 ],
 "metadata": {
  "interpreter": {
   "hash": "16043b4afea6df4cc9c8277bea4f74cd7012ce4985455d3fd8e496ab2325b686"
  },
  "kernelspec": {
   "display_name": "Python 3",
   "language": "python",
   "name": "python3"
  },
  "language_info": {
   "codemirror_mode": {
    "name": "ipython",
    "version": 3
   },
   "file_extension": ".py",
   "mimetype": "text/x-python",
   "name": "python",
   "nbconvert_exporter": "python",
   "pygments_lexer": "ipython3",
   "version": "3.8.10"
  }
 },
 "nbformat": 4,
 "nbformat_minor": 4
}
