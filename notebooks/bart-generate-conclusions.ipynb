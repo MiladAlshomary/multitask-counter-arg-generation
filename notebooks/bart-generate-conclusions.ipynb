{
 "cells": [
  {
   "cell_type": "code",
   "execution_count": 1,
   "metadata": {},
   "outputs": [],
   "source": [
    "import sys\n",
    "import os\n",
    "sys.path.append('../src-py/')\n",
    "os.environ[\"CUDA_VISIBLE_DEVICES\"]=\"1\""
   ]
  },
  {
   "cell_type": "code",
   "execution_count": 2,
   "metadata": {},
   "outputs": [
    {
     "name": "stdout",
     "output_type": "stream",
     "text": [
      "2022-05-13 12:09:03,390 loading file ../../../data-ceph/arguana/arg-generation/claim-target-tagger/model/final-model.pt\n",
      "2022-05-13 12:09:14,866 SequenceTagger predicts: Dictionary with 5 tags: O, S-CT, B-CT, E-CT, I-CT\n"
     ]
    }
   ],
   "source": [
    "from ca_utils import *"
   ]
  },
  {
   "cell_type": "code",
   "execution_count": 3,
   "metadata": {},
   "outputs": [],
   "source": [
    "import pandas as pd\n",
    "from tqdm import tqdm\n",
    "tqdm.pandas()\n",
    "\n",
    "pd.set_option('display.max_colwidth', None)"
   ]
  },
  {
   "cell_type": "code",
   "execution_count": 4,
   "metadata": {},
   "outputs": [],
   "source": [
    "import torch"
   ]
  },
  {
   "cell_type": "code",
   "execution_count": 5,
   "metadata": {},
   "outputs": [
    {
     "data": {
      "text/plain": [
       "device(type='cuda')"
      ]
     },
     "execution_count": 5,
     "metadata": {},
     "output_type": "execute_result"
    }
   ],
   "source": [
    "torch.device('cuda') if torch.cuda.is_available() else torch.device('cpu')"
   ]
  },
  {
   "cell_type": "code",
   "execution_count": 50,
   "metadata": {},
   "outputs": [],
   "source": [
    "gen_kwargs = {\n",
    "    \"do_sample\": True, \n",
    "    \"max_length\":200,\n",
    "    \"top_p\":0.90, \n",
    "    \"num_return_sequences\":10\n",
    "}"
   ]
  },
  {
   "cell_type": "markdown",
   "metadata": {},
   "source": [
    "### Generate conclusions for the comments in training and validation dataset:"
   ]
  },
  {
   "cell_type": "code",
   "execution_count": 114,
   "metadata": {},
   "outputs": [],
   "source": [
    "def chunks(lst, n):\n",
    "    \"\"\"Yield successive n-sized chunks from lst.\"\"\"\n",
    "    for i in range(0, len(lst), n):\n",
    "        yield lst[i:i + n]\n",
    "        \n",
    "def get_best_conclusion(stance_scores):\n",
    "    res = list(zip(stance_scores[0], stance_scores[1][1], stance_scores[1][2]))\n",
    "    filtered_res = [x for x in res if x[1]==1] #keep only the ones that looks like countering the argument's conclusion\n",
    "    if len(res) > len(filtered_res):\n",
    "        print('Filtered out {} of {}'.format(len(res) - len(filtered_res), len(res)))\n",
    "        #print(res)\n",
    "        #print(filtered_res)\n",
    "    return sorted(res, key=lambda x: -x[2])[0][0] #pick the one that the model is sure of the most\n",
    "\n",
    "def generate_counter_conclusions(arg_conclusions, counters):\n",
    "    #generate the conclusions\n",
    "    conclusions = generate_conclusion(counters, gen_kwargs, batch_size=8)\n",
    "    #remove dublicate conclusions so we don't have to process them\n",
    "    conclusions = [list(set(c)) for c in chunks(conclusions, 10)] \n",
    "    arg_conclusion_and_counter_conclusions = list(zip(arg_conclusions, conclusions))\n",
    "    \n",
    "    #compute stances of generated conclusions towards the original argument's conclusion\n",
    "    stance_scores = []\n",
    "    for c in arg_conclusion_and_counter_conclusions:\n",
    "        stance_scores.append((c[1], get_stance_scores([c[0]] * len(c[1]), c[1])))\n",
    "    \n",
    "    #get best conclusion of the candidates\n",
    "    final_conclusions = [ get_best_conclusion(conc_set) for conc_set in stance_scores]\n",
    "    return final_conclusions"
   ]
  },
  {
   "cell_type": "code",
   "execution_count": 115,
   "metadata": {},
   "outputs": [],
   "source": [
    "train_df = pd.read_pickle('../../../data-ceph/arguana/arg-generation/multi-taks-counter-argument-generation/reddit_data/conclusion_and_ca_generation/preprocessed_train_conclusion_all.pkl')\n",
    "valid_df = pd.read_pickle('../../../data-ceph/arguana/arg-generation/multi-taks-counter-argument-generation/reddit_data/conclusion_and_ca_generation/sample_valid_conclusion_all.pkl')"
   ]
  },
  {
   "cell_type": "code",
   "execution_count": null,
   "metadata": {
    "scrolled": true,
    "tags": []
   },
   "outputs": [
    {
     "data": {
      "application/vnd.jupyter.widget-view+json": {
       "model_id": "c4f68b4e96b84492b41b883cf49e324a",
       "version_major": 2,
       "version_minor": 0
      },
      "text/plain": [
       "  0%|          | 0/26 [00:00<?, ?ba/s]"
      ]
     },
     "metadata": {},
     "output_type": "display_data"
    }
   ],
   "source": [
    "counter_conclusions = generate_counter_conclusions(train_df['title'].tolist(),  train_df['counter'].tolist())"
   ]
  },
  {
   "cell_type": "code",
   "execution_count": null,
   "metadata": {
    "scrolled": true,
    "tags": []
   },
   "outputs": [],
   "source": [
    "train_df['counter_conclusions'] = counter_conclusions"
   ]
  },
  {
   "cell_type": "code",
   "execution_count": 126,
   "metadata": {},
   "outputs": [
    {
     "data": {
      "text/html": [
       "<div>\n",
       "<style scoped>\n",
       "    .dataframe tbody tr th:only-of-type {\n",
       "        vertical-align: middle;\n",
       "    }\n",
       "\n",
       "    .dataframe tbody tr th {\n",
       "        vertical-align: top;\n",
       "    }\n",
       "\n",
       "    .dataframe thead th {\n",
       "        text-align: right;\n",
       "    }\n",
       "</style>\n",
       "<table border=\"1\" class=\"dataframe\">\n",
       "  <thead>\n",
       "    <tr style=\"text-align: right;\">\n",
       "      <th></th>\n",
       "      <th>title</th>\n",
       "      <th>counter_conclusion</th>\n",
       "    </tr>\n",
       "  </thead>\n",
       "  <tbody>\n",
       "    <tr>\n",
       "      <th>0</th>\n",
       "      <td>I believe that churches and other religious institutions should have to pay taxes.</td>\n",
       "      <td>Tax exemptions are a privilege and should not automatically be granted to any organisation, including churches.</td>\n",
       "    </tr>\n",
       "    <tr>\n",
       "      <th>22</th>\n",
       "      <td>I don't believe it is acceptable to attack the person that your SO cheated on you with.</td>\n",
       "      <td>I believe that physical violence against a cheating partner is no different than other types of violence,</td>\n",
       "    </tr>\n",
       "    <tr>\n",
       "      <th>38</th>\n",
       "      <td>There is no viable alternative to capitalism, though the current system can be altered to serve people's needs.</td>\n",
       "      <td>Capitalism is not the ideal system, there are alternatives.</td>\n",
       "    </tr>\n",
       "    <tr>\n",
       "      <th>50</th>\n",
       "      <td>Given the option to draft either a QB with elite passing AND elite running skills or a QB with elite passing skills ONLY, NFL teams should almost always draft the QB with elite passing skills only.</td>\n",
       "      <td>Bben roethlesberger is overrated</td>\n",
       "    </tr>\n",
       "    <tr>\n",
       "      <th>54</th>\n",
       "      <td>I don't think promiscuity is a bad thing. .</td>\n",
       "      <td>There are dangers to casual sex. (NSFW)</td>\n",
       "    </tr>\n",
       "  </tbody>\n",
       "</table>\n",
       "</div>"
      ],
      "text/plain": [
       "                                                                                                                                                                                                     title  \\\n",
       "0                                                                                                                      I believe that churches and other religious institutions should have to pay taxes.    \n",
       "22                                                                                                                I don't believe it is acceptable to attack the person that your SO cheated on you with.    \n",
       "38                                                                                        There is no viable alternative to capitalism, though the current system can be altered to serve people's needs.    \n",
       "50  Given the option to draft either a QB with elite passing AND elite running skills or a QB with elite passing skills ONLY, NFL teams should almost always draft the QB with elite passing skills only.    \n",
       "54                                                                                                                                                             I don't think promiscuity is a bad thing. .   \n",
       "\n",
       "                                                                                                 counter_conclusion  \n",
       "0   Tax exemptions are a privilege and should not automatically be granted to any organisation, including churches.  \n",
       "22        I believe that physical violence against a cheating partner is no different than other types of violence,  \n",
       "38                                                      Capitalism is not the ideal system, there are alternatives.  \n",
       "50                                                                                 Bben roethlesberger is overrated  \n",
       "54                                                                          There are dangers to casual sex. (NSFW)  "
      ]
     },
     "execution_count": 126,
     "metadata": {},
     "output_type": "execute_result"
    }
   ],
   "source": [
    "train_df[['title', 'counter_conclusion']].head()"
   ]
  },
  {
   "cell_type": "code",
   "execution_count": null,
   "metadata": {},
   "outputs": [],
   "source": [
    "train_df.to_pickle('../../../data-ceph/arguana/arg-generation/multi-taks-counter-argument-generation/reddit_data/conclusion_and_ca_generation/preprocessed_train_conclusion_all.pkl')"
   ]
  },
  {
   "cell_type": "markdown",
   "metadata": {},
   "source": [
    "##### On valid:"
   ]
  },
  {
   "cell_type": "code",
   "execution_count": null,
   "metadata": {
    "scrolled": true,
    "tags": []
   },
   "outputs": [],
   "source": [
    "counter_conclusions = generate_counter_conclusions(valid_df['title'].tolist(),  valid_df['counter'].tolist())\n",
    "valid_df['counter_conclusion'] = counter_conclusions"
   ]
  },
  {
   "cell_type": "code",
   "execution_count": null,
   "metadata": {},
   "outputs": [],
   "source": [
    "valid_df.to_pickle('../../../data-ceph/arguana/arg-generation/multi-taks-counter-argument-generation/reddit_data/conclusion_and_ca_generation/sample_valid_conclusion_all.pkl')"
   ]
  },
  {
   "cell_type": "code",
   "execution_count": 125,
   "metadata": {},
   "outputs": [
    {
     "name": "stdout",
     "output_type": "stream",
     "text": [
      "donee\n"
     ]
    }
   ],
   "source": [
    "print('donee')"
   ]
  },
  {
   "cell_type": "code",
   "execution_count": 127,
   "metadata": {},
   "outputs": [
    {
     "data": {
      "text/html": [
       "<div>\n",
       "<style scoped>\n",
       "    .dataframe tbody tr th:only-of-type {\n",
       "        vertical-align: middle;\n",
       "    }\n",
       "\n",
       "    .dataframe tbody tr th {\n",
       "        vertical-align: top;\n",
       "    }\n",
       "\n",
       "    .dataframe thead th {\n",
       "        text-align: right;\n",
       "    }\n",
       "</style>\n",
       "<table border=\"1\" class=\"dataframe\">\n",
       "  <thead>\n",
       "    <tr style=\"text-align: right;\">\n",
       "      <th></th>\n",
       "      <th>title</th>\n",
       "      <th>counter_conclusion</th>\n",
       "    </tr>\n",
       "  </thead>\n",
       "  <tbody>\n",
       "    <tr>\n",
       "      <th>358034</th>\n",
       "      <td>It is fine to let teenagers/kids play video games that feature violence.</td>\n",
       "      <td>A parent should be allowed to let their child play video games.</td>\n",
       "    </tr>\n",
       "    <tr>\n",
       "      <th>309893</th>\n",
       "      <td>The content on subreddits such as r/uncensorednews aren't bad enough to justify banning them</td>\n",
       "      <td>It was right to ban the pineapple on pizza.</td>\n",
       "    </tr>\n",
       "    <tr>\n",
       "      <th>409946</th>\n",
       "      <td>\"Positive Discrimination\"/\"Affirmative Action\" is immoral and has no place in society.</td>\n",
       "      <td>It is very difficult to tell from aggregate statistics \\(for example, a police department's arrest records\\) whether racial profiling is driving a racial disparity in arrest statistics.</td>\n",
       "    </tr>\n",
       "    <tr>\n",
       "      <th>375438</th>\n",
       "      <td>Watching TV is good for you</td>\n",
       "      <td>i think watching tv is a waste of time.</td>\n",
       "    </tr>\n",
       "    <tr>\n",
       "      <th>391572</th>\n",
       "      <td>The Muslim community (and Islam) need a social reformation</td>\n",
       "      <td>i don't think we need a reformation for muslims.</td>\n",
       "    </tr>\n",
       "  </tbody>\n",
       "</table>\n",
       "</div>"
      ],
      "text/plain": [
       "                                                                                                title  \\\n",
       "358034                       It is fine to let teenagers/kids play video games that feature violence.   \n",
       "309893   The content on subreddits such as r/uncensorednews aren't bad enough to justify banning them   \n",
       "409946         \"Positive Discrimination\"/\"Affirmative Action\" is immoral and has no place in society.   \n",
       "375438                                                                    Watching TV is good for you   \n",
       "391572                                     The Muslim community (and Islam) need a social reformation   \n",
       "\n",
       "                                                                                                                                                                               counter_conclusion  \n",
       "358034                                                                                                                            A parent should be allowed to let their child play video games.  \n",
       "309893                                                                                                                                                It was right to ban the pineapple on pizza.  \n",
       "409946  It is very difficult to tell from aggregate statistics \\(for example, a police department's arrest records\\) whether racial profiling is driving a racial disparity in arrest statistics.  \n",
       "375438                                                                                                                                                    i think watching tv is a waste of time.  \n",
       "391572                                                                                                                                           i don't think we need a reformation for muslims.  "
      ]
     },
     "execution_count": 127,
     "metadata": {},
     "output_type": "execute_result"
    }
   ],
   "source": [
    "valid_df[['title', 'counter_conclusion']].head()"
   ]
  },
  {
   "cell_type": "markdown",
   "metadata": {},
   "source": [
    "### Generate conclusions for the valid-all dataset:"
   ]
  },
  {
   "cell_type": "code",
   "execution_count": 8,
   "metadata": {},
   "outputs": [],
   "source": [
    "test_df = pd.read_pickle('../../../data-ceph/arguana/arg-generation/multi-taks-counter-argument-generation/reddit_data/conclusion_and_ca_generation/sample_test_conclusion_all.pkl')"
   ]
  },
  {
   "cell_type": "code",
   "execution_count": 9,
   "metadata": {},
   "outputs": [
    {
     "data": {
      "application/vnd.jupyter.widget-view+json": {
       "model_id": "c124b4ea5720440283b34a9880f5c584",
       "version_major": 2,
       "version_minor": 0
      },
      "text/plain": [
       "  0%|          | 0/2 [00:00<?, ?ba/s]"
      ]
     },
     "metadata": {},
     "output_type": "display_data"
    },
    {
     "name": "stderr",
     "output_type": "stream",
     "text": [
      "/usr/local/lib/python3.6/dist-packages/transformers/generation_utils.py:2142: UserWarning: __floordiv__ is deprecated, and its behavior will change in a future version of pytorch. It currently rounds toward 0 (like the 'trunc' function NOT 'floor'). This results in incorrect rounding for negative values. To keep the current behavior, use torch.div(a, b, rounding_mode='trunc'), or for actual floor division, use torch.div(a, b, rounding_mode='floor').\n",
      "  next_indices = next_tokens // vocab_size\n"
     ]
    }
   ],
   "source": [
    "post_dict = list(pd.Series(test_df.post.values, index=test_df.post_id).to_dict().items())\n",
    "post_ids, posts = zip(*post_dict)\n",
    "pred_conclusions = generate_conclusion(posts, gen_kwargs, batch_size=8)\n",
    "post_pred_conclusions = {x[0]: x[1] for x in zip(post_ids, pred_conclusions)}\n",
    "test_df['bart_conclusion'] = test_df.post_id.apply(lambda x: post_pred_conclusions[x])"
   ]
  },
  {
   "cell_type": "code",
   "execution_count": 10,
   "metadata": {},
   "outputs": [],
   "source": [
    "test_df.to_pickle('../../../data-ceph/arguana/arg-generation/multi-taks-counter-argument-generation/reddit_data/conclusion_and_ca_generation/sample_test_conclusion_all_preprocessed.pkl')"
   ]
  },
  {
   "cell_type": "code",
   "execution_count": 11,
   "metadata": {},
   "outputs": [
    {
     "data": {
      "application/vnd.jupyter.widget-view+json": {
       "model_id": "f25ee7998bd840749a2ba863d6820662",
       "version_major": 2,
       "version_minor": 0
      },
      "text/plain": [
       "  0%|          | 0/2 [00:00<?, ?ba/s]"
      ]
     },
     "metadata": {},
     "output_type": "display_data"
    },
    {
     "name": "stderr",
     "output_type": "stream",
     "text": [
      "/usr/local/lib/python3.6/dist-packages/transformers/generation_utils.py:2142: UserWarning: __floordiv__ is deprecated, and its behavior will change in a future version of pytorch. It currently rounds toward 0 (like the 'trunc' function NOT 'floor'). This results in incorrect rounding for negative values. To keep the current behavior, use torch.div(a, b, rounding_mode='trunc'), or for actual floor division, use torch.div(a, b, rounding_mode='floor').\n",
      "  next_indices = next_tokens // vocab_size\n"
     ]
    }
   ],
   "source": [
    "test_df = pd.read_pickle('../../../data-ceph/arguana/arg-generation/multi-taks-counter-argument-generation/reddit_data/conclusion_and_ca_generation/sample_valid_conclusion_all.pkl')\n",
    "post_dict = list(pd.Series(test_df.post.values, index=test_df.post_id).to_dict().items())\n",
    "post_ids, posts = zip(*post_dict)\n",
    "pred_conclusions = generate_conclusion(posts, gen_kwargs, batch_size=8)\n",
    "post_pred_conclusions = {x[0]: x[1] for x in zip(post_ids, pred_conclusions)}\n",
    "test_df['bart_conclusion'] = test_df.post_id.apply(lambda x: post_pred_conclusions[x])\n",
    "test_df.to_pickle('../../../data-ceph/arguana/arg-generation/multi-taks-counter-argument-generation/reddit_data/conclusion_and_ca_generation/sample_valid_conclusion_all_preprocessed.pkl')"
   ]
  }
 ],
 "metadata": {
  "interpreter": {
   "hash": "16043b4afea6df4cc9c8277bea4f74cd7012ce4985455d3fd8e496ab2325b686"
  },
  "kernelspec": {
   "display_name": "Python 3",
   "language": "python",
   "name": "python3"
  },
  "language_info": {
   "codemirror_mode": {
    "name": "ipython",
    "version": 3
   },
   "file_extension": ".py",
   "mimetype": "text/x-python",
   "name": "python",
   "nbconvert_exporter": "python",
   "pygments_lexer": "ipython3",
   "version": "3.6.9"
  }
 },
 "nbformat": 4,
 "nbformat_minor": 4
}
