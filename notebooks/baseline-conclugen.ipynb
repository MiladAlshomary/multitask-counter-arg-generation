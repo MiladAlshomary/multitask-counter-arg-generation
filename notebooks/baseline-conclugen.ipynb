{
 "cells": [
  {
   "cell_type": "code",
   "execution_count": 3,
   "metadata": {},
   "outputs": [],
   "source": [
    "from transformers import AutoModelForSeq2SeqLM, AutoTokenizer, pipeline\n",
    "import pandas as pd\n",
    "from tqdm import tqdm\n",
    "tqdm.pandas()"
   ]
  },
  {
   "cell_type": "code",
   "execution_count": 12,
   "metadata": {},
   "outputs": [],
   "source": [
    "tokenizer = AutoTokenizer.from_pretrained(\"../models/conclugen-bart-large-all/\")\n",
    "model = AutoModelForSeq2SeqLM.from_pretrained(\"../models/conclugen-bart-large-all/\")\n",
    "conclugen_pipeline = pipeline(\"summarization\", tokenizer=tokenizer, model=model)"
   ]
  },
  {
   "cell_type": "code",
   "execution_count": 4,
   "metadata": {},
   "outputs": [],
   "source": [
    "data = pd.read_csv(\"../data/model_predictions.csv\", keep_default_na=False)"
   ]
  },
  {
   "cell_type": "code",
   "execution_count": 13,
   "metadata": {},
   "outputs": [
    {
     "data": {
      "text/plain": [
       "conclusion             523\n",
       "premises               523\n",
       "argument               523\n",
       "gt                     523\n",
       "masked_conc_attacks    523\n",
       "known_conc_attacks     523\n",
       "dtype: int64"
      ]
     },
     "execution_count": 13,
     "metadata": {},
     "output_type": "execute_result"
    }
   ],
   "source": [
    "data.count()"
   ]
  },
  {
   "cell_type": "code",
   "execution_count": 8,
   "metadata": {},
   "outputs": [],
   "source": [
    "def truncate_text(text, remove_extra_tokens=0):\n",
    "        for i in range(3):\n",
    "            tokens = tokenizer(\n",
    "                text, return_tensors=\"pt\", truncation=True\n",
    "            ).input_ids\n",
    "            max_model_length = tokens.size()[1]\n",
    "            truncated_tokens = tokens[0][: max_model_length - remove_extra_tokens]\n",
    "            text = tokenizer.decode(\n",
    "                truncated_tokens, clean_up_tokenization_spaces=True\n",
    "            )\n",
    "            without_truncate_length = tokenizer(\n",
    "                text, return_tensors=\"pt\"\n",
    "            ).input_ids.size()[1]\n",
    "            if max_model_length > without_truncate_length:\n",
    "                return tokens, text\n",
    "        return truncate_text(text, remove_extra_tokens=remove_extra_tokens + 5)"
   ]
  },
  {
   "cell_type": "code",
   "execution_count": 21,
   "metadata": {},
   "outputs": [
    {
     "data": {
      "text/plain": [
       "\"as a non american but one interested in politics, i've seen many discussions about american politics that have talked about the level of anger between the two different parties and they typically blame the two equally. a typical complaint from republicans is that they're treated like they're racist, misogynistic, bigoted, ignorant, selfish and or foolish. from their lies over actual policy issues like health their embrace of white identity politics republicans seem far more interested in cultural issues like nfl protests and sexual assault allegations than issues like the economy and america's standing in the world. their support of trump, roy moore and brett kavanaugh suggests they view improved treatment respect for women as something to be actively fought and a danger to men's justified dominance. their concerns over the deficit rapidly vanished once trump was elected suggesting the tea party movement was as much about race as anything. their support of tax cuts suggests they're mostly interested in short term economic and political benefits for the wealthy over any actual improvement to the country as a whole. their support of trump, a man who fits virtually every negative stereotype people have of republicans voters, makes them seem bigoted and ignorant, as well as suggesting they favour the interests of their party over their country.\""
      ]
     },
     "execution_count": 21,
     "metadata": {},
     "output_type": "execute_result"
    }
   ],
   "source": [
    "sample = data['premises'].tolist()[0]\n",
    "sample"
   ]
  },
  {
   "cell_type": "code",
   "execution_count": 22,
   "metadata": {},
   "outputs": [
    {
     "data": {
      "text/plain": [
       "\"<s><s><s><s>as a non american but one interested in politics, i've seen many discussions about american politics that have talked about the level of anger between the two different parties and they typically blame the two equally. a typical complaint from republicans is that they're treated like they're racist, misogynistic, bigoted, ignorant, selfish and or foolish. from their lies over actual policy issues like health their embrace of white identity politics republicans seem far more interested in cultural issues like nfl protests and sexual assault allegations than issues like the economy and america's standing in the world. their support of trump, roy moore and brett kavanaugh suggests they view improved treatment respect for women as something to be actively fought and a danger to men's justified dominance. their concerns over the deficit rapidly vanished once trump was elected suggesting the tea party movement was as much about race as anything. their support of tax cuts suggests they're mostly interested in short term economic and political benefits for the wealthy over any actual improvement to the country as a whole. their support of trump, a man who fits virtually every negative stereotype people have of republicans voters, makes them seem bigoted and ignorant, as well as suggesting they favour the interests of their party over their country\""
      ]
     },
     "execution_count": 22,
     "metadata": {},
     "output_type": "execute_result"
    }
   ],
   "source": [
    "tokens, text = truncate_text(sample)\n",
    "text"
   ]
  },
  {
   "cell_type": "code",
   "execution_count": 23,
   "metadata": {},
   "outputs": [
    {
     "data": {
      "text/plain": [
       "'the republicans are just as bad as the tea party.'"
      ]
     },
     "execution_count": 23,
     "metadata": {},
     "output_type": "execute_result"
    }
   ],
   "source": [
    "conclugen = conclugen_pipeline(text, clean_up_tokenization_spaces=True)\n",
    "conclusion = conclugen[0]['summary_text']\n",
    "conclusion"
   ]
  },
  {
   "cell_type": "code",
   "execution_count": 24,
   "metadata": {},
   "outputs": [],
   "source": [
    "def generate_conclusion(row):\n",
    "    premises = row['premises']\n",
    "    tokens, processed_premises = truncate_text(premises)\n",
    "    conclugen = conclugen_pipeline(processed_premises, clean_up_tokenization_spaces=True)\n",
    "    conclusion = conclugen[0]['summary_text']\n",
    "    row['baseline_conclugen'] = conclusion.strip()\n",
    "    return row\n",
    "\n",
    "    "
   ]
  },
  {
   "cell_type": "code",
   "execution_count": 25,
   "metadata": {},
   "outputs": [
    {
     "name": "stderr",
     "output_type": "stream",
     "text": [
      "  3%|▎         | 16/523 [01:03<36:17,  4.30s/it]Your max_length is set to 62, but you input_length is only 24. You might consider decreasing max_length manually, e.g. summarizer('...', max_length=50)\n",
      "  4%|▍         | 23/523 [01:28<32:24,  3.89s/it]Your max_length is set to 62, but you input_length is only 42. You might consider decreasing max_length manually, e.g. summarizer('...', max_length=50)\n",
      "  6%|▌         | 29/523 [01:59<42:39,  5.18s/it]Token indices sequence length is longer than the specified maximum sequence length for this model (1026 > 1024). Running this sequence through the model will result in indexing errors\n",
      "  6%|▌         | 32/523 [02:20<48:14,  5.90s/it]Your max_length is set to 62, but you input_length is only 43. You might consider decreasing max_length manually, e.g. summarizer('...', max_length=50)\n",
      "  8%|▊         | 44/523 [03:17<43:10,  5.41s/it]Your max_length is set to 62, but you input_length is only 9. You might consider decreasing max_length manually, e.g. summarizer('...', max_length=50)\n",
      " 10%|▉         | 50/523 [03:35<28:10,  3.57s/it]Your max_length is set to 62, but you input_length is only 49. You might consider decreasing max_length manually, e.g. summarizer('...', max_length=50)\n",
      " 14%|█▎        | 71/523 [05:02<30:21,  4.03s/it]Your max_length is set to 62, but you input_length is only 18. You might consider decreasing max_length manually, e.g. summarizer('...', max_length=50)\n",
      " 14%|█▍        | 72/523 [05:04<25:34,  3.40s/it]Your max_length is set to 62, but you input_length is only 53. You might consider decreasing max_length manually, e.g. summarizer('...', max_length=50)\n",
      " 15%|█▍        | 77/523 [05:30<39:07,  5.26s/it]Your max_length is set to 62, but you input_length is only 47. You might consider decreasing max_length manually, e.g. summarizer('...', max_length=50)\n",
      " 15%|█▍        | 78/523 [05:32<32:36,  4.40s/it]Your max_length is set to 62, but you input_length is only 49. You might consider decreasing max_length manually, e.g. summarizer('...', max_length=50)\n",
      " 15%|█▌        | 80/523 [05:41<33:22,  4.52s/it]Your max_length is set to 62, but you input_length is only 39. You might consider decreasing max_length manually, e.g. summarizer('...', max_length=50)\n",
      " 17%|█▋        | 88/523 [06:14<30:13,  4.17s/it]Your max_length is set to 62, but you input_length is only 41. You might consider decreasing max_length manually, e.g. summarizer('...', max_length=50)\n",
      " 18%|█▊        | 92/523 [06:30<32:38,  4.54s/it]Your max_length is set to 62, but you input_length is only 34. You might consider decreasing max_length manually, e.g. summarizer('...', max_length=50)\n",
      " 22%|██▏       | 115/523 [08:02<27:02,  3.98s/it]Your max_length is set to 62, but you input_length is only 52. You might consider decreasing max_length manually, e.g. summarizer('...', max_length=50)\n",
      " 23%|██▎       | 122/523 [08:30<27:46,  4.16s/it]Your max_length is set to 62, but you input_length is only 61. You might consider decreasing max_length manually, e.g. summarizer('...', max_length=50)\n",
      " 24%|██▍       | 125/523 [08:40<25:46,  3.89s/it]Your max_length is set to 62, but you input_length is only 47. You might consider decreasing max_length manually, e.g. summarizer('...', max_length=50)\n",
      " 25%|██▌       | 131/523 [09:03<25:29,  3.90s/it]Your max_length is set to 62, but you input_length is only 57. You might consider decreasing max_length manually, e.g. summarizer('...', max_length=50)\n",
      " 25%|██▌       | 133/523 [09:08<21:42,  3.34s/it]Your max_length is set to 62, but you input_length is only 12. You might consider decreasing max_length manually, e.g. summarizer('...', max_length=50)\n",
      " 27%|██▋       | 143/523 [09:49<25:02,  3.95s/it]Your max_length is set to 62, but you input_length is only 24. You might consider decreasing max_length manually, e.g. summarizer('...', max_length=50)\n",
      " 32%|███▏      | 167/523 [11:32<27:43,  4.67s/it]Your max_length is set to 62, but you input_length is only 39. You might consider decreasing max_length manually, e.g. summarizer('...', max_length=50)\n",
      " 35%|███▌      | 184/523 [12:39<23:39,  4.19s/it]Your max_length is set to 62, but you input_length is only 50. You might consider decreasing max_length manually, e.g. summarizer('...', max_length=50)\n",
      " 36%|███▌      | 186/523 [12:46<21:05,  3.75s/it]Your max_length is set to 62, but you input_length is only 37. You might consider decreasing max_length manually, e.g. summarizer('...', max_length=50)\n",
      " 37%|███▋      | 194/523 [13:20<22:17,  4.07s/it]Your max_length is set to 62, but you input_length is only 48. You might consider decreasing max_length manually, e.g. summarizer('...', max_length=50)\n",
      " 38%|███▊      | 200/523 [13:46<23:32,  4.37s/it]Your max_length is set to 62, but you input_length is only 56. You might consider decreasing max_length manually, e.g. summarizer('...', max_length=50)\n",
      " 40%|████      | 211/523 [14:32<23:45,  4.57s/it]Your max_length is set to 62, but you input_length is only 13. You might consider decreasing max_length manually, e.g. summarizer('...', max_length=50)\n",
      " 41%|████      | 213/523 [14:37<18:23,  3.56s/it]Your max_length is set to 62, but you input_length is only 41. You might consider decreasing max_length manually, e.g. summarizer('...', max_length=50)\n",
      " 42%|████▏     | 220/523 [15:07<20:13,  4.00s/it]Your max_length is set to 62, but you input_length is only 37. You might consider decreasing max_length manually, e.g. summarizer('...', max_length=50)\n",
      " 44%|████▍     | 229/523 [15:47<23:15,  4.75s/it]Your max_length is set to 62, but you input_length is only 24. You might consider decreasing max_length manually, e.g. summarizer('...', max_length=50)\n",
      " 50%|████▉     | 260/523 [18:28<27:46,  6.34s/it]Your max_length is set to 62, but you input_length is only 59. You might consider decreasing max_length manually, e.g. summarizer('...', max_length=50)\n",
      " 50%|████▉     | 261/523 [18:31<23:35,  5.40s/it]Your max_length is set to 62, but you input_length is only 47. You might consider decreasing max_length manually, e.g. summarizer('...', max_length=50)\n",
      " 52%|█████▏    | 273/523 [19:27<20:10,  4.84s/it]Your max_length is set to 62, but you input_length is only 44. You might consider decreasing max_length manually, e.g. summarizer('...', max_length=50)\n",
      " 55%|█████▌    | 289/523 [20:26<14:16,  3.66s/it]Your max_length is set to 62, but you input_length is only 59. You might consider decreasing max_length manually, e.g. summarizer('...', max_length=50)\n",
      " 60%|█████▉    | 313/523 [22:16<12:56,  3.70s/it]Your max_length is set to 62, but you input_length is only 26. You might consider decreasing max_length manually, e.g. summarizer('...', max_length=50)\n",
      " 62%|██████▏   | 322/523 [22:56<15:27,  4.62s/it]Your max_length is set to 62, but you input_length is only 35. You might consider decreasing max_length manually, e.g. summarizer('...', max_length=50)\n",
      " 64%|██████▍   | 334/523 [23:34<08:53,  2.82s/it]Your max_length is set to 62, but you input_length is only 16. You might consider decreasing max_length manually, e.g. summarizer('...', max_length=50)\n",
      " 72%|███████▏  | 375/523 [26:14<10:35,  4.29s/it]Your max_length is set to 62, but you input_length is only 59. You might consider decreasing max_length manually, e.g. summarizer('...', max_length=50)\n",
      " 74%|███████▍  | 386/523 [26:57<09:45,  4.27s/it]Your max_length is set to 62, but you input_length is only 32. You might consider decreasing max_length manually, e.g. summarizer('...', max_length=50)\n",
      " 75%|███████▍  | 392/523 [27:16<07:21,  3.37s/it]Your max_length is set to 62, but you input_length is only 48. You might consider decreasing max_length manually, e.g. summarizer('...', max_length=50)\n",
      " 75%|███████▌  | 393/523 [27:18<06:23,  2.95s/it]Your max_length is set to 62, but you input_length is only 54. You might consider decreasing max_length manually, e.g. summarizer('...', max_length=50)\n",
      " 78%|███████▊  | 408/523 [28:11<08:02,  4.20s/it]Your max_length is set to 62, but you input_length is only 19. You might consider decreasing max_length manually, e.g. summarizer('...', max_length=50)\n",
      " 79%|███████▉  | 414/523 [28:35<07:40,  4.23s/it]Your max_length is set to 62, but you input_length is only 42. You might consider decreasing max_length manually, e.g. summarizer('...', max_length=50)\n",
      " 79%|███████▉  | 415/523 [28:38<06:52,  3.82s/it]Your max_length is set to 62, but you input_length is only 49. You might consider decreasing max_length manually, e.g. summarizer('...', max_length=50)\n",
      " 80%|████████  | 420/523 [29:02<08:03,  4.69s/it]Your max_length is set to 62, but you input_length is only 52. You might consider decreasing max_length manually, e.g. summarizer('...', max_length=50)\n",
      " 85%|████████▍ | 444/523 [30:45<05:57,  4.52s/it]Your max_length is set to 62, but you input_length is only 43. You might consider decreasing max_length manually, e.g. summarizer('...', max_length=50)\n",
      " 89%|████████▊ | 464/523 [32:13<05:24,  5.50s/it]Your max_length is set to 62, but you input_length is only 14. You might consider decreasing max_length manually, e.g. summarizer('...', max_length=50)\n",
      " 90%|█████████ | 471/523 [32:39<03:11,  3.69s/it]Your max_length is set to 62, but you input_length is only 57. You might consider decreasing max_length manually, e.g. summarizer('...', max_length=50)\n",
      " 95%|█████████▍| 496/523 [34:31<01:47,  3.98s/it]Your max_length is set to 62, but you input_length is only 47. You might consider decreasing max_length manually, e.g. summarizer('...', max_length=50)\n",
      " 97%|█████████▋| 505/523 [35:03<01:16,  4.25s/it]Your max_length is set to 62, but you input_length is only 46. You might consider decreasing max_length manually, e.g. summarizer('...', max_length=50)\n",
      "100%|██████████| 523/523 [36:11<00:00,  4.15s/it]\n"
     ]
    }
   ],
   "source": [
    "conclugen_df = data.progress_apply(generate_conclusion, axis=1)"
   ]
  },
  {
   "cell_type": "code",
   "execution_count": 26,
   "metadata": {},
   "outputs": [
    {
     "data": {
      "text/html": [
       "<div>\n",
       "<style scoped>\n",
       "    .dataframe tbody tr th:only-of-type {\n",
       "        vertical-align: middle;\n",
       "    }\n",
       "\n",
       "    .dataframe tbody tr th {\n",
       "        vertical-align: top;\n",
       "    }\n",
       "\n",
       "    .dataframe thead th {\n",
       "        text-align: right;\n",
       "    }\n",
       "</style>\n",
       "<table border=\"1\" class=\"dataframe\">\n",
       "  <thead>\n",
       "    <tr style=\"text-align: right;\">\n",
       "      <th></th>\n",
       "      <th>conclusion</th>\n",
       "      <th>premises</th>\n",
       "      <th>argument</th>\n",
       "      <th>gt</th>\n",
       "      <th>masked_conc_attacks</th>\n",
       "      <th>known_conc_attacks</th>\n",
       "      <th>baseline_conclugen</th>\n",
       "    </tr>\n",
       "  </thead>\n",
       "  <tbody>\n",
       "    <tr>\n",
       "      <th>0</th>\n",
       "      <td>The anger many liberal Americans feel towards...</td>\n",
       "      <td>as a non american but one interested in politi...</td>\n",
       "      <td>The anger many liberal Americans feel towards...</td>\n",
       "      <td>the ultimate thing i can tell you is to always...</td>\n",
       "      <td>i'm not sure what you mean by 'bigoted' or 'bi...</td>\n",
       "      <td>i agree with you that the anger is justified, ...</td>\n",
       "      <td>the republicans are just as bad as the tea party.</td>\n",
       "    </tr>\n",
       "    <tr>\n",
       "      <th>1</th>\n",
       "      <td>Killing an innocent life is wrong</td>\n",
       "      <td>it stemmed from a pro life statement i made. t...</td>\n",
       "      <td>Killing an innocent life is wrong : it stemme...</td>\n",
       "      <td>if i had to the power to go back in time and k...</td>\n",
       "      <td>i'm not sure what you mean by 'rationalized to...</td>\n",
       "      <td>i'm not sure what you're trying to say here, b...</td>\n",
       "      <td>i think it's wrong to pull the lever because s...</td>\n",
       "    </tr>\n",
       "    <tr>\n",
       "      <th>2</th>\n",
       "      <td>High schools should not have credit requirements</td>\n",
       "      <td>according to the national research council and...</td>\n",
       "      <td>High schools should not have credit requireme...</td>\n",
       "      <td>let's use my own undergraduate school, the uni...</td>\n",
       "      <td>i'm not sure what you mean by 'well rounded.'i...</td>\n",
       "      <td>i don't think it's fair to say that high schoo...</td>\n",
       "      <td>Students should be required to take more class...</td>\n",
       "    </tr>\n",
       "    <tr>\n",
       "      <th>3</th>\n",
       "      <td>god existing would make sense</td>\n",
       "      <td>the two biggest problems with people believing...</td>\n",
       "      <td>god existing would make sense : the two bigge...</td>\n",
       "      <td>i am in a bit of an interesting position to an...</td>\n",
       "      <td>i don't think there is any reason to believe t...</td>\n",
       "      <td>i don't think it would make sense for god to e...</td>\n",
       "      <td>I believe that god exists and that he is respo...</td>\n",
       "    </tr>\n",
       "    <tr>\n",
       "      <th>4</th>\n",
       "      <td>A pill to stop gender dysphoria would be obje...</td>\n",
       "      <td>this seemed to offend people and i don't get w...</td>\n",
       "      <td>A pill to stop gender dysphoria would be obje...</td>\n",
       "      <td>yeh the thing is i wouldn't want to take such ...</td>\n",
       "      <td>i don't think it's fair to mandate people to t...</td>\n",
       "      <td>i don't think it would be objectively a better...</td>\n",
       "      <td>i don't think people with gender dysphoria sho...</td>\n",
       "    </tr>\n",
       "  </tbody>\n",
       "</table>\n",
       "</div>"
      ],
      "text/plain": [
       "                                          conclusion  \\\n",
       "0   The anger many liberal Americans feel towards...   \n",
       "1                  Killing an innocent life is wrong   \n",
       "2   High schools should not have credit requirements   \n",
       "3                      god existing would make sense   \n",
       "4   A pill to stop gender dysphoria would be obje...   \n",
       "\n",
       "                                            premises  \\\n",
       "0  as a non american but one interested in politi...   \n",
       "1  it stemmed from a pro life statement i made. t...   \n",
       "2  according to the national research council and...   \n",
       "3  the two biggest problems with people believing...   \n",
       "4  this seemed to offend people and i don't get w...   \n",
       "\n",
       "                                            argument  \\\n",
       "0   The anger many liberal Americans feel towards...   \n",
       "1   Killing an innocent life is wrong : it stemme...   \n",
       "2   High schools should not have credit requireme...   \n",
       "3   god existing would make sense : the two bigge...   \n",
       "4   A pill to stop gender dysphoria would be obje...   \n",
       "\n",
       "                                                  gt  \\\n",
       "0  the ultimate thing i can tell you is to always...   \n",
       "1  if i had to the power to go back in time and k...   \n",
       "2  let's use my own undergraduate school, the uni...   \n",
       "3  i am in a bit of an interesting position to an...   \n",
       "4  yeh the thing is i wouldn't want to take such ...   \n",
       "\n",
       "                                 masked_conc_attacks  \\\n",
       "0  i'm not sure what you mean by 'bigoted' or 'bi...   \n",
       "1  i'm not sure what you mean by 'rationalized to...   \n",
       "2  i'm not sure what you mean by 'well rounded.'i...   \n",
       "3  i don't think there is any reason to believe t...   \n",
       "4  i don't think it's fair to mandate people to t...   \n",
       "\n",
       "                                  known_conc_attacks  \\\n",
       "0  i agree with you that the anger is justified, ...   \n",
       "1  i'm not sure what you're trying to say here, b...   \n",
       "2  i don't think it's fair to say that high schoo...   \n",
       "3  i don't think it would make sense for god to e...   \n",
       "4  i don't think it would be objectively a better...   \n",
       "\n",
       "                                  baseline_conclugen  \n",
       "0  the republicans are just as bad as the tea party.  \n",
       "1  i think it's wrong to pull the lever because s...  \n",
       "2  Students should be required to take more class...  \n",
       "3  I believe that god exists and that he is respo...  \n",
       "4  i don't think people with gender dysphoria sho...  "
      ]
     },
     "execution_count": 26,
     "metadata": {},
     "output_type": "execute_result"
    }
   ],
   "source": [
    "conclugen_df.head()"
   ]
  },
  {
   "cell_type": "code",
   "execution_count": 27,
   "metadata": {},
   "outputs": [],
   "source": [
    "premises = conclugen_df['premises'].tolist()\n",
    "references = conclugen_df['conclusion'].tolist()\n",
    "baseline_conclugen_predictions = conclugen_df['baseline_conclugen'].tolist()"
   ]
  },
  {
   "cell_type": "code",
   "execution_count": 30,
   "metadata": {},
   "outputs": [],
   "source": [
    "with open('../data/baseline_conclugen_predictions.txt','w', encoding='utf-8') as outf:\n",
    "    for line in baseline_conclugen_predictions:\n",
    "        outf.write(line)\n",
    "        outf.write(\"\\n\")"
   ]
  },
  {
   "cell_type": "code",
   "execution_count": null,
   "metadata": {},
   "outputs": [],
   "source": []
  }
 ],
 "metadata": {
  "interpreter": {
   "hash": "16043b4afea6df4cc9c8277bea4f74cd7012ce4985455d3fd8e496ab2325b686"
  },
  "kernelspec": {
   "display_name": "Python 3.8.6 64-bit ('visummeval-backend': pyenv)",
   "language": "python",
   "name": "python3"
  },
  "language_info": {
   "codemirror_mode": {
    "name": "ipython",
    "version": 3
   },
   "file_extension": ".py",
   "mimetype": "text/x-python",
   "name": "python",
   "nbconvert_exporter": "python",
   "pygments_lexer": "ipython3",
   "version": "3.8.6"
  },
  "orig_nbformat": 4
 },
 "nbformat": 4,
 "nbformat_minor": 2
}
