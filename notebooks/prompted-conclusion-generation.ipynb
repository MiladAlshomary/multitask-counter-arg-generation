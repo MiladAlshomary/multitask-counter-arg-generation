{
 "cells": [
  {
   "cell_type": "code",
   "execution_count": 1,
   "metadata": {},
   "outputs": [],
   "source": [
    "import os\n",
    "import sys\n",
    "sys.path.append('../src-py/')\n",
    "os.environ[\"CUDA_VISIBLE_DEVICES\"]=\"0\""
   ]
  },
  {
   "cell_type": "code",
   "execution_count": 2,
   "metadata": {},
   "outputs": [],
   "source": [
    "import pandas as pd\n",
    "pd.set_option('display.max_colwidth', None)"
   ]
  },
  {
   "cell_type": "code",
   "execution_count": 3,
   "metadata": {},
   "outputs": [],
   "source": [
    "import spacy\n",
    "\n",
    "nlp = spacy.load(\"en_core_web_sm\")"
   ]
  },
  {
   "cell_type": "code",
   "execution_count": 5,
   "metadata": {},
   "outputs": [],
   "source": [
    "from transformers import AutoModelForSeq2SeqLM, AutoTokenizer, pipeline\n",
    "from datasets import load_dataset, load_metric, Dataset\n",
    "import torch\n",
    "from project_debater_api import *\n",
    "import pandas as pd\n",
    "from tqdm import tqdm\n",
    "tqdm.pandas()\n",
    "\n",
    "device = torch.device('cuda') if torch.cuda.is_available() else torch.device('cpu')\n",
    "    \n",
    "tokenizer = AutoTokenizer.from_pretrained(\"../../../data-ceph/arguana/arg-generation/conclusion-generation-models/dbart\")\n",
    "model = AutoModelForSeq2SeqLM.from_pretrained(\"../../../data-ceph/arguana/arg-generation/conclusion-generation-models/dbart\").to(device)"
   ]
  },
  {
   "cell_type": "code",
   "execution_count": 6,
   "metadata": {},
   "outputs": [],
   "source": [
    "valid_df = pd.read_pickle('../../../data-ceph/arguana/arg-generation/multi-taks-counter-argument-generation/reddit_data/conclusion_and_ca_generation/valid_conclusion_comp_remove_75sem_perc_with_targets.pkl')"
   ]
  },
  {
   "cell_type": "code",
   "execution_count": 7,
   "metadata": {
    "scrolled": true,
    "tags": []
   },
   "outputs": [
    {
     "data": {
      "text/html": [
       "<div>\n",
       "<style scoped>\n",
       "    .dataframe tbody tr th:only-of-type {\n",
       "        vertical-align: middle;\n",
       "    }\n",
       "\n",
       "    .dataframe tbody tr th {\n",
       "        vertical-align: top;\n",
       "    }\n",
       "\n",
       "    .dataframe thead th {\n",
       "        text-align: right;\n",
       "    }\n",
       "</style>\n",
       "<table border=\"1\" class=\"dataframe\">\n",
       "  <thead>\n",
       "    <tr style=\"text-align: right;\">\n",
       "      <th></th>\n",
       "      <th>masked_premises</th>\n",
       "      <th>title</th>\n",
       "    </tr>\n",
       "  </thead>\n",
       "  <tbody>\n",
       "    <tr>\n",
       "      <th>295914</th>\n",
       "      <td>[i understand the need for more precise naming when you're doing something artsy., what i'm focusing on is how we describe colors in everyday life., pink is just a light shade of the color red., we already have a ton of precedence for just calling something a light or dark color., when people see a light or dark blue object, they just call it light blue or dark blue., when the see a light or dark green thing, they call it light green or dark green., for some reason, when we see something that is light red we call it pink., i don't see any rhyme or reason to this distinction and i don't think pink deserves it's name.]</td>\n",
       "      <td>Pink is just light red and doesn't deserve it's own name.</td>\n",
       "    </tr>\n",
       "    <tr>\n",
       "      <th>295915</th>\n",
       "      <td>[i understand the need for more precise naming when you're doing something artsy., what i'm focusing on is how we describe colors in everyday life., pink is just a light shade of the color red., we already have a ton of precedence for just calling something a light or dark color., when people see a light or dark blue object, they just call it light blue or dark blue., when the see a light or dark green thing, they call it light green or dark green., for some reason, when we see something that is light red we call it pink., i don't see any rhyme or reason to this distinction and i don't think pink deserves it's name.]</td>\n",
       "      <td>Pink is just light red and doesn't deserve it's own name.</td>\n",
       "    </tr>\n",
       "    <tr>\n",
       "      <th>295916</th>\n",
       "      <td>[i understand the need for more precise naming when you're doing something artsy., what i'm focusing on is how we describe colors in everyday life., pink is just a light shade of the color red., we already have a ton of precedence for just calling something a light or dark color., when people see a light or dark blue object, they just call it light blue or dark blue., when the see a light or dark green thing, they call it light green or dark green., for some reason, when we see something that is light red we call it pink., i don't see any rhyme or reason to this distinction and i don't think pink deserves it's name.]</td>\n",
       "      <td>Pink is just light red and doesn't deserve it's own name.</td>\n",
       "    </tr>\n",
       "    <tr>\n",
       "      <th>295917</th>\n",
       "      <td>[i understand the need for more precise naming when you're doing something artsy., what i'm focusing on is how we describe colors in everyday life., pink is just a light shade of the color red., we already have a ton of precedence for just calling something a light or dark color., when people see a light or dark blue object, they just call it light blue or dark blue., when the see a light or dark green thing, they call it light green or dark green., for some reason, when we see something that is light red we call it pink., i don't see any rhyme or reason to this distinction and i don't think pink deserves it's name.]</td>\n",
       "      <td>Pink is just light red and doesn't deserve it's own name.</td>\n",
       "    </tr>\n",
       "    <tr>\n",
       "      <th>295918</th>\n",
       "      <td>[i understand the need for more precise naming when you're doing something artsy., what i'm focusing on is how we describe colors in everyday life., pink is just a light shade of the color red., we already have a ton of precedence for just calling something a light or dark color., when people see a light or dark blue object, they just call it light blue or dark blue., when the see a light or dark green thing, they call it light green or dark green., for some reason, when we see something that is light red we call it pink., i don't see any rhyme or reason to this distinction and i don't think pink deserves it's name.]</td>\n",
       "      <td>Pink is just light red and doesn't deserve it's own name.</td>\n",
       "    </tr>\n",
       "  </tbody>\n",
       "</table>\n",
       "</div>"
      ],
      "text/plain": [
       "                                                                                                                                                                                                                                                                                                                                                                                                                                                                                                                                                                                                                                         masked_premises  \\\n",
       "295914  [i understand the need for more precise naming when you're doing something artsy., what i'm focusing on is how we describe colors in everyday life., pink is just a light shade of the color red., we already have a ton of precedence for just calling something a light or dark color., when people see a light or dark blue object, they just call it light blue or dark blue., when the see a light or dark green thing, they call it light green or dark green., for some reason, when we see something that is light red we call it pink., i don't see any rhyme or reason to this distinction and i don't think pink deserves it's name.]   \n",
       "295915  [i understand the need for more precise naming when you're doing something artsy., what i'm focusing on is how we describe colors in everyday life., pink is just a light shade of the color red., we already have a ton of precedence for just calling something a light or dark color., when people see a light or dark blue object, they just call it light blue or dark blue., when the see a light or dark green thing, they call it light green or dark green., for some reason, when we see something that is light red we call it pink., i don't see any rhyme or reason to this distinction and i don't think pink deserves it's name.]   \n",
       "295916  [i understand the need for more precise naming when you're doing something artsy., what i'm focusing on is how we describe colors in everyday life., pink is just a light shade of the color red., we already have a ton of precedence for just calling something a light or dark color., when people see a light or dark blue object, they just call it light blue or dark blue., when the see a light or dark green thing, they call it light green or dark green., for some reason, when we see something that is light red we call it pink., i don't see any rhyme or reason to this distinction and i don't think pink deserves it's name.]   \n",
       "295917  [i understand the need for more precise naming when you're doing something artsy., what i'm focusing on is how we describe colors in everyday life., pink is just a light shade of the color red., we already have a ton of precedence for just calling something a light or dark color., when people see a light or dark blue object, they just call it light blue or dark blue., when the see a light or dark green thing, they call it light green or dark green., for some reason, when we see something that is light red we call it pink., i don't see any rhyme or reason to this distinction and i don't think pink deserves it's name.]   \n",
       "295918  [i understand the need for more precise naming when you're doing something artsy., what i'm focusing on is how we describe colors in everyday life., pink is just a light shade of the color red., we already have a ton of precedence for just calling something a light or dark color., when people see a light or dark blue object, they just call it light blue or dark blue., when the see a light or dark green thing, they call it light green or dark green., for some reason, when we see something that is light red we call it pink., i don't see any rhyme or reason to this distinction and i don't think pink deserves it's name.]   \n",
       "\n",
       "                                                             title  \n",
       "295914   Pink is just light red and doesn't deserve it's own name.  \n",
       "295915   Pink is just light red and doesn't deserve it's own name.  \n",
       "295916   Pink is just light red and doesn't deserve it's own name.  \n",
       "295917   Pink is just light red and doesn't deserve it's own name.  \n",
       "295918   Pink is just light red and doesn't deserve it's own name.  "
      ]
     },
     "execution_count": 7,
     "metadata": {},
     "output_type": "execute_result"
    }
   ],
   "source": [
    "valid_df[['masked_premises', 'title']].head()"
   ]
  },
  {
   "cell_type": "markdown",
   "metadata": {},
   "source": [
    "#### Mining important concepts from posts:"
   ]
  },
  {
   "cell_type": "code",
   "execution_count": 8,
   "metadata": {},
   "outputs": [],
   "source": [
    "post = ['while i ve been pro choice for as long as i have been aware of the existence of abortion, i can somewhat sympathize with elements of the pro life mindset.',\n",
    " 'after all, if you truly believed that a fertilized egg is the same thing as a baby, then naturally you d regard abortion as child murder, and being angry hateful towards perceived murderers of children is pretty understandable.',\n",
    " 'under that mindset, taking political action to ensure as few abortions as possible is sensible and relatable.',\n",
    " 'where i lose that sympathy is in seeing the sum total of their political goals, related back to the idea that abortion is essentially child murder.',\n",
    " 'for example, expanded access to contraceptives and comprehensive sex education are both shown to reduce the rates of both unintended pregnancy and abortion.',\n",
    " 'if i truly believed that every abortion was a murdered baby, one could reasonably expect me to support pretty much any policy that would decrease the number of abortions, including these two.',\n",
    " 'yet most of the same people who equate abortion with murder also support policies that restrict sex education and access to contraceptives, which go against the fundamental idea of preventing abortions.',\n",
    " 'my belief is that pro lifers want fewer abortions only in the context of an overall socially conservative atmosphere, of which fewer abortions is just one small part.',\n",
    " 'i believe that this worldview is more concerned with not being the sort of society where on demand abortion is legal than it is with the actual abortions themselves.']"
   ]
  },
  {
   "cell_type": "code",
   "execution_count": 28,
   "metadata": {},
   "outputs": [],
   "source": [
    "%autoreload\n",
    "from project_debater_api import *"
   ]
  },
  {
   "cell_type": "code",
   "execution_count": 48,
   "metadata": {
    "scrolled": true,
    "tags": []
   },
   "outputs": [],
   "source": [
    "def get_wiki_concepts(posts, min_len=1, max_concepts=3):\n",
    "    post_concepts = []\n",
    "    for post in posts:\n",
    "        doc = nlp(' '.join(post)) if type(post) == list else nlp(post)\n",
    "        ncs = [np.text for np in doc.noun_chunks]\n",
    "        wiki_concepts = term_wikifier(ncs)\n",
    "        wiki_concepts = filter(lambda x: len(x[0].split()) > 1, wiki_concepts)\n",
    "        wiki_concepts = sorted(list(set(wiki_concepts)),key=lambda x: -x[1])\n",
    "        #take top max_concepts\n",
    "        post_concepts.append([x[0] for x in wiki_concepts[:max_concepts]])\n",
    "        \n",
    "    return post_concepts"
   ]
  },
  {
   "cell_type": "code",
   "execution_count": 41,
   "metadata": {
    "scrolled": true,
    "tags": []
   },
   "outputs": [
    {
     "name": "stderr",
     "output_type": "stream",
     "text": [
      "TermWikifierClient: 100%|██████████| 71/71 [00:00<00:00, 175.08it/s]"
     ]
    }
   ],
   "source": [
    "post_nps = get_wiki_concepts([post])"
   ]
  },
  {
   "cell_type": "code",
   "execution_count": 42,
   "metadata": {},
   "outputs": [
    {
     "data": {
      "text/plain": [
       "[[('Birth control', 2159),\n",
       "  ('Social conservatism', 1716),\n",
       "  ('Anti-abortion movement', 1613)]]"
      ]
     },
     "execution_count": 42,
     "metadata": {},
     "output_type": "execute_result"
    },
    {
     "name": "stderr",
     "output_type": "stream",
     "text": [
      "TermWikifierClient: 100%|██████████| 71/71 [00:10<00:00, 175.08it/s]"
     ]
    }
   ],
   "source": [
    "post_nps"
   ]
  },
  {
   "cell_type": "markdown",
   "metadata": {},
   "source": [
    "### Generate multiple conclusions:"
   ]
  },
  {
   "cell_type": "code",
   "execution_count": 62,
   "metadata": {},
   "outputs": [],
   "source": [
    "gen_kwargs = {\n",
    "    \"do_sample\": True, \n",
    "    \"max_length\":20,\n",
    "    \"top_p\":0.95, \n",
    "    \"num_beams\":1\n",
    "}"
   ]
  },
  {
   "cell_type": "code",
   "execution_count": 63,
   "metadata": {},
   "outputs": [],
   "source": [
    "from transformers.generation_logits_process import * \n",
    "\n",
    "class PrefixConstrainedLogitsProcessor(LogitsProcessor):\n",
    "    r\"\"\"\n",
    "    [`LogitsProcessor`] that enforces constrained generation and is useful for prefix-conditioned constrained\n",
    "    generation. See [Autoregressive Entity Retrieval](https://arxiv.org/abs/2010.00904) for more information.\n",
    "\n",
    "    Args:\n",
    "        prefix_allowed_tokens_fn: (`Callable[[int, torch.Tensor], List[int]]`):\n",
    "            This function constraints the beam search to allowed tokens only at each step. This function takes 2\n",
    "            arguments `inputs_ids` and the batch ID `batch_id`. It has to return a list with the allowed tokens for the\n",
    "            next generation step conditioned on the previously generated tokens `inputs_ids` and the batch ID\n",
    "            `batch_id`.\n",
    "    \"\"\"\n",
    "\n",
    "    def __init__(self, prefix_allowed_tokens_fn: Callable[[int, torch.Tensor], List[int]], num_beams: int):\n",
    "        self._prefix_allowed_tokens_fn = prefix_allowed_tokens_fn\n",
    "        self._num_beams = num_beams\n",
    "\n",
    "    def __call__(self, input_ids: torch.LongTensor, scores: torch.FloatTensor) -> torch.FloatTensor:\n",
    "        mask = torch.full_like(scores, -math.inf)\n",
    "        for batch_id, beam_sent in enumerate(input_ids.view(-1, self._num_beams, input_ids.shape[-1])):\n",
    "            for beam_id, sent in enumerate(beam_sent):\n",
    "                enforced_vocab = self._prefix_allowed_tokens_fn(batch_id, sent)\n",
    "                if enforced_vocab != None:\n",
    "                    mask[batch_id * self._num_beams + beam_id, enforced_vocab] = 0\n",
    "                else:\n",
    "                    mask[batch_id * self._num_beams + beam_id, :] = 0\n",
    "\n",
    "        return scores + mask\n",
    "\n",
    "def allowed_prefix(prefixs, tokenizer, batch_id, sent):\n",
    "    #print(batch_id)\n",
    "    #print(sent)\n",
    "    prefix     = prefixs[batch_id]\n",
    "    gen_tokens = sent[1:]\n",
    "    encoded_pref = tokenizer.encode(prefix, add_special_tokens=False)\n",
    "    decoded_sent = tokenizer.decode(gen_tokens)\n",
    "    \n",
    "    remained_tokens = [x for x in encoded_pref if x not in gen_tokens]\n",
    "    \n",
    "    if len(remained_tokens) > 0: #just control the first token\n",
    "        #print('rest: ', remained_tokens)\n",
    "        return remained_tokens\n",
    "    else:\n",
    "        None"
   ]
  },
  {
   "cell_type": "code",
   "execution_count": 60,
   "metadata": {},
   "outputs": [],
   "source": [
    "def generate_conclusion(premises, prefixs, gen_kwargs, batch_size=16):\n",
    "    \n",
    "    processors = LogitsProcessorList()\n",
    "    processors.append(PrefixConstrainedLogitsProcessor(\n",
    "        lambda batch_id, sent: allowed_prefix(prefixs, tokenizer, batch_id, sent), gen_kwargs['num_beams'] // 1))\n",
    "\n",
    "    if type(premises[0]) == list:\n",
    "        premises = [' '.join(x) for x in premises]\n",
    "    \n",
    "    ds = Dataset.from_dict({'premises': premises})\n",
    "    ds = ds.map(lambda x :tokenizer(x['premises'], max_length=512, truncation=True, padding='max_length') , batched=True)\n",
    "    ds.set_format(type='torch', columns=['input_ids', 'attention_mask'])\n",
    "    dataloader = torch.utils.data.DataLoader(ds, batch_size=batch_size)\n",
    "\n",
    "    generated_conclusion = []\n",
    "\n",
    "    model.eval()\n",
    "    with torch.no_grad():\n",
    "        for batch in dataloader:\n",
    "            input_ids = batch['input_ids'].to(device)\n",
    "            attention_mask = batch['attention_mask'].to(device)\n",
    "\n",
    "            generated_tokens = model.generate(\n",
    "                input_ids,\n",
    "                attention_mask=attention_mask,\n",
    "                logits_processor = processors,\n",
    "                **gen_kwargs\n",
    "            )\n",
    "\n",
    "            generated_tokens = generated_tokens.cpu().numpy()\n",
    "\n",
    "            if isinstance(generated_tokens, tuple):\n",
    "                generated_tokens = generated_tokens[0]\n",
    "\n",
    "            decoded_preds = tokenizer.batch_decode(generated_tokens, skip_special_tokens=True)\n",
    "\n",
    "            generated_conclusion += decoded_preds\n",
    "\n",
    "    return generated_conclusion"
   ]
  },
  {
   "cell_type": "code",
   "execution_count": 27,
   "metadata": {
    "scrolled": true,
    "tags": []
   },
   "outputs": [],
   "source": [
    "#valid_df[valid_df.post.str.len() < 50][['post', 'title']].sample(10).head()"
   ]
  },
  {
   "cell_type": "code",
   "execution_count": 28,
   "metadata": {},
   "outputs": [],
   "source": [
    "#sample_posts = valid_df[valid_df.post.str.len() < 50].sample(10)['post'].tolist()"
   ]
  },
  {
   "cell_type": "code",
   "execution_count": 43,
   "metadata": {
    "scrolled": true,
    "tags": []
   },
   "outputs": [],
   "source": [
    "sample_posts = post"
   ]
  },
  {
   "cell_type": "code",
   "execution_count": 41,
   "metadata": {},
   "outputs": [
    {
     "data": {
      "application/vnd.jupyter.widget-view+json": {
       "model_id": "2e91cc8e079c4d86b80f2e0c0a9683a9",
       "version_major": 2,
       "version_minor": 0
      },
      "text/plain": [
       "  0%|          | 0/1 [00:00<?, ?ba/s]"
      ]
     },
     "metadata": {},
     "output_type": "display_data"
    },
    {
     "data": {
      "text/plain": [
       "['Gun control  is an sensible and relatable viewpoint',\n",
       " 'It is important to preserve the artistic integrity of great works of art like Huckleberry Finn',\n",
       " 'He is a good choice! The state and school could use fortifications and escape routes to']"
      ]
     },
     "execution_count": 41,
     "metadata": {},
     "output_type": "execute_result"
    }
   ],
   "source": [
    "generate_conclusion(sample_posts[:3],['Gun control ', 'It is', 'He is'], gen_kwargs)"
   ]
  },
  {
   "cell_type": "markdown",
   "metadata": {},
   "source": [
    "### Generate multiple conclusions for development dataset:"
   ]
  },
  {
   "cell_type": "code",
   "execution_count": 70,
   "metadata": {},
   "outputs": [],
   "source": [
    "sample_df = valid_df[valid_df.post.str.len() < 50].sample(10)"
   ]
  },
  {
   "cell_type": "code",
   "execution_count": 73,
   "metadata": {
    "scrolled": true,
    "tags": []
   },
   "outputs": [],
   "source": [
    "sample_df['post_concepts'] = get_wiki_concepts(sample_df['post'].tolist(), max_concepts=5)\n",
    "\n",
    "sample_posts_conclusions = []\n",
    "for i in range(5):\n",
    "    control_codes = [x[i] if len(x) > i else '' for x in sample_df['post_concepts'].tolist()]\n",
    "    conclusions   = generate_conclusion(sample_df['post'].tolist(), control_codes, gen_kwargs)\n",
    "    sample_posts_conclusions.append(conclusions)\n",
    "\n",
    "sample_df['post_conclusions'] = list(map(list, zip(*sample_posts_conclusions))) # transpose"
   ]
  },
  {
   "cell_type": "code",
   "execution_count": 74,
   "metadata": {},
   "outputs": [
    {
     "data": {
      "text/html": [
       "<div>\n",
       "<style scoped>\n",
       "    .dataframe tbody tr th:only-of-type {\n",
       "        vertical-align: middle;\n",
       "    }\n",
       "\n",
       "    .dataframe tbody tr th {\n",
       "        vertical-align: top;\n",
       "    }\n",
       "\n",
       "    .dataframe thead th {\n",
       "        text-align: right;\n",
       "    }\n",
       "</style>\n",
       "<table border=\"1\" class=\"dataframe\">\n",
       "  <thead>\n",
       "    <tr style=\"text-align: right;\">\n",
       "      <th></th>\n",
       "      <th>title</th>\n",
       "      <th>post_concepts</th>\n",
       "      <th>post_conclusions</th>\n",
       "    </tr>\n",
       "  </thead>\n",
       "  <tbody>\n",
       "    <tr>\n",
       "      <th>349404</th>\n",
       "      <td>Canadian is also an ethnicity.</td>\n",
       "      <td>[Ethnic group, Social group]</td>\n",
       "      <td>[Ethnic group can be explained as 'CanAD',  groupSocial in person i feel canadian is real, Canada canadi is a real ethnicity., i believe the existence of a \"Canada\" (or some \"Canrad ethnicity, i believe canadian is a real ethnicity and denying that canadian does not mean]</td>\n",
       "    </tr>\n",
       "    <tr>\n",
       "      <th>402340</th>\n",
       "      <td>Juul is having a positive social impact and should be allowed to do lifestyle advertisement</td>\n",
       "      <td>[Electronic cigarette, Health effect, Health risk assessment]</td>\n",
       "      <td>[Electronic cigarette makers (i.e. Juul) should be allowed to use their, Health effect Juul should be allowed to continue with lifestyle ads., Health risk assessment is biased against Juul. (i'm seeing a few examples here), I support juul's right to continue with lifestyle advertisement, I think juul is having a positive social impact and should be allowed to]</td>\n",
       "    </tr>\n",
       "    <tr>\n",
       "      <th>341265</th>\n",
       "      <td>Necrophilia is a harmless fetish that shouldn’t be demonized the same way other predatory fetishes like pedophilia are</td>\n",
       "      <td>[Social stigma, Sexual fetishism, Violent crime, Sex toy, Inventive step and non-obviousness]</td>\n",
       "      <td>[Social stigma surrounding necrophilia is inaccurate and could actually have a positive impact., Sexual fetishism should be decriminalized. (for the most part), ent crimeViolence offenders should be able to receive the same punishment/society license as, Sex toy manufacturers should be allowed to sell necrophilia, Inventive non-obvious and stepness for necrophilia (e.g]</td>\n",
       "    </tr>\n",
       "    <tr>\n",
       "      <th>334234</th>\n",
       "      <td>True Altruism Doesn't Exist, People only Do Altruistic Things in Inflate their Ego's</td>\n",
       "      <td>[]</td>\n",
       "      <td>[True Altruism doesn't exist... we are all people., True altruism does exist. It is all self reflection., You Are The Man and People Do It For Their own Eops,  true Altruism does not exist, we are all programmed, True Altruism Doesn't Exist, People only Do Altruistic things.]</td>\n",
       "    </tr>\n",
       "    <tr>\n",
       "      <th>302694</th>\n",
       "      <td>People that want to further regulate or bans guns to save lives should also be willing to further regulate or ban alcohol.</td>\n",
       "      <td>[Mental health, Political corruption, Mass shooting, Logical disjunction, Common sense]</td>\n",
       "      <td>[Mental health arguments for gun control law can be based on logic., Political corruption, the fact that most of us are gun-ed is a good thing because, Mass shooting victims should not be tried like if alcohol does not., junctionLogical disencies with respect to alcohol, Common sense alcohol regulations do more harm than good (in the US)]</td>\n",
       "    </tr>\n",
       "  </tbody>\n",
       "</table>\n",
       "</div>"
      ],
      "text/plain": [
       "                                                                                                                              title  \\\n",
       "349404                                                                                               Canadian is also an ethnicity.   \n",
       "402340                                  Juul is having a positive social impact and should be allowed to do lifestyle advertisement   \n",
       "341265       Necrophilia is a harmless fetish that shouldn’t be demonized the same way other predatory fetishes like pedophilia are   \n",
       "334234                                         True Altruism Doesn't Exist, People only Do Altruistic Things in Inflate their Ego's   \n",
       "302694   People that want to further regulate or bans guns to save lives should also be willing to further regulate or ban alcohol.   \n",
       "\n",
       "                                                                                        post_concepts  \\\n",
       "349404                                                                   [Ethnic group, Social group]   \n",
       "402340                                  [Electronic cigarette, Health effect, Health risk assessment]   \n",
       "341265  [Social stigma, Sexual fetishism, Violent crime, Sex toy, Inventive step and non-obviousness]   \n",
       "334234                                                                                             []   \n",
       "302694        [Mental health, Political corruption, Mass shooting, Logical disjunction, Common sense]   \n",
       "\n",
       "                                                                                                                                                                                                                                                                                                                                                                            post_conclusions  \n",
       "349404                                                                                                      [Ethnic group can be explained as 'CanAD',  groupSocial in person i feel canadian is real, Canada canadi is a real ethnicity., i believe the existence of a \"Canada\" (or some \"Canrad ethnicity, i believe canadian is a real ethnicity and denying that canadian does not mean]  \n",
       "402340            [Electronic cigarette makers (i.e. Juul) should be allowed to use their, Health effect Juul should be allowed to continue with lifestyle ads., Health risk assessment is biased against Juul. (i'm seeing a few examples here), I support juul's right to continue with lifestyle advertisement, I think juul is having a positive social impact and should be allowed to]  \n",
       "341265  [Social stigma surrounding necrophilia is inaccurate and could actually have a positive impact., Sexual fetishism should be decriminalized. (for the most part), ent crimeViolence offenders should be able to receive the same punishment/society license as, Sex toy manufacturers should be allowed to sell necrophilia, Inventive non-obvious and stepness for necrophilia (e.g]  \n",
       "334234                                                                                                  [True Altruism doesn't exist... we are all people., True altruism does exist. It is all self reflection., You Are The Man and People Do It For Their own Eops,  true Altruism does not exist, we are all programmed, True Altruism Doesn't Exist, People only Do Altruistic things.]  \n",
       "302694                                  [Mental health arguments for gun control law can be based on logic., Political corruption, the fact that most of us are gun-ed is a good thing because, Mass shooting victims should not be tried like if alcohol does not., junctionLogical disencies with respect to alcohol, Common sense alcohol regulations do more harm than good (in the US)]  "
      ]
     },
     "execution_count": 74,
     "metadata": {},
     "output_type": "execute_result"
    }
   ],
   "source": [
    "sample_df[['title', 'post_concepts', 'post_conclusions']].head()"
   ]
  },
  {
   "cell_type": "code",
   "execution_count": null,
   "metadata": {},
   "outputs": [],
   "source": []
  }
 ],
 "metadata": {
  "kernelspec": {
   "display_name": "Python 3",
   "language": "python",
   "name": "python3"
  },
  "language_info": {
   "codemirror_mode": {
    "name": "ipython",
    "version": 3
   },
   "file_extension": ".py",
   "mimetype": "text/x-python",
   "name": "python",
   "nbconvert_exporter": "python",
   "pygments_lexer": "ipython3",
   "version": "3.6.9"
  }
 },
 "nbformat": 4,
 "nbformat_minor": 4
}
