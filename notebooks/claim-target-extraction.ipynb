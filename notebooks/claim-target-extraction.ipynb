{
 "cells": [
  {
   "cell_type": "code",
   "execution_count": 1,
   "metadata": {},
   "outputs": [],
   "source": [
    "import sys\n",
    "sys.path.append('../src-py/')"
   ]
  },
  {
   "cell_type": "code",
   "execution_count": 2,
   "metadata": {},
   "outputs": [],
   "source": [
    "from generate_conclusions import *"
   ]
  },
  {
   "cell_type": "code",
   "execution_count": 3,
   "metadata": {},
   "outputs": [],
   "source": [
    "import pandas as pd\n",
    "from tqdm import tqdm\n",
    "tqdm.pandas()\n",
    "\n",
    "pd.set_option('display.max_colwidth', None)"
   ]
  },
  {
   "cell_type": "code",
   "execution_count": 11,
   "metadata": {},
   "outputs": [],
   "source": [
    "import torch"
   ]
  },
  {
   "cell_type": "code",
   "execution_count": 12,
   "metadata": {},
   "outputs": [
    {
     "data": {
      "text/plain": [
       "'1.9.0+cu111'"
      ]
     },
     "execution_count": 12,
     "metadata": {},
     "output_type": "execute_result"
    }
   ],
   "source": [
    "torch.__version__"
   ]
  },
  {
   "cell_type": "code",
   "execution_count": 4,
   "metadata": {},
   "outputs": [],
   "source": [
    "train_df = pd.read_pickle('../../../data-ceph/arguana/arg-generation/multi-taks-counter-argument-generation/reddit_data/conclusion_and_ca_generation/train_conclusion_comp_remove_75sem_perc.pkl')"
   ]
  },
  {
   "cell_type": "code",
   "execution_count": 5,
   "metadata": {},
   "outputs": [
    {
     "data": {
      "text/plain": [
       "92397"
      ]
     },
     "execution_count": 5,
     "metadata": {},
     "output_type": "execute_result"
    }
   ],
   "source": [
    "len(train_df)"
   ]
  },
  {
   "cell_type": "code",
   "execution_count": 6,
   "metadata": {
    "scrolled": true,
    "tags": []
   },
   "outputs": [
    {
     "data": {
      "text/html": [
       "<div>\n",
       "<style scoped>\n",
       "    .dataframe tbody tr th:only-of-type {\n",
       "        vertical-align: middle;\n",
       "    }\n",
       "\n",
       "    .dataframe tbody tr th {\n",
       "        vertical-align: top;\n",
       "    }\n",
       "\n",
       "    .dataframe thead th {\n",
       "        text-align: right;\n",
       "    }\n",
       "</style>\n",
       "<table border=\"1\" class=\"dataframe\">\n",
       "  <thead>\n",
       "    <tr style=\"text-align: right;\">\n",
       "      <th></th>\n",
       "      <th>post_id</th>\n",
       "      <th>split</th>\n",
       "      <th>comment_id</th>\n",
       "      <th>title</th>\n",
       "      <th>post</th>\n",
       "      <th>n_sentences</th>\n",
       "      <th>counter</th>\n",
       "      <th>num_cand_conc</th>\n",
       "      <th>masked_premises</th>\n",
       "      <th>premises_with_conclusion</th>\n",
       "    </tr>\n",
       "  </thead>\n",
       "  <tbody>\n",
       "    <tr>\n",
       "      <th>0</th>\n",
       "      <td>t3_1u4mmo</td>\n",
       "      <td>train</td>\n",
       "      <td>t1_ceehlbn</td>\n",
       "      <td>I believe that churches and other religious institutions should have to pay taxes.</td>\n",
       "      <td>[i believe that a church is like any other profit making business and therefore most pay similar taxes., i am not a religious person myself so i do not know the complete logistics of the revenue and spending of a church but i do understand they can yield a good amount of cash., not entirely sure how accurate this article is, but it states that we could gain an additional 71 billion dollars per year and in a time where we as a country are in trillions of dollars of debt taxing a church seems reasonable to me., cmv]</td>\n",
       "      <td>4</td>\n",
       "      <td>[i have heard this before ofc but when it is said louder than, or separate from the same issue when applied to corporations, or other non profits, i just think it's just religious discrimination., most, if not all corporations pay a much smaller percentage of their income in taxes than i do., why not focus on closing corporate loopholes first?, it would generate a lot more income than targeting religious institutions., why not focus on non religious nonprofits?, tons of those are shams where the head of said organization makes 7 figures., many are politically motivated, and actually are for profit in the sense that they are for changing laws and policies that allow third parties to become more profitable., i just don't have much respect for the taxing religions thing because you can apply the same arguments to different organizations resulting in higher tax revenue., i mean, sure., if some tv preacher is pulling in 7 figures selling 'prayer rags' then yeah, close whatever loopholes make that possible., but at the same time you have to close those same loopholes for non religious nonprofits, else it's just discrimination.]</td>\n",
       "      <td>1</td>\n",
       "      <td>[i believe that a church is like any other profit making business and therefore most pay similar taxes., i am not a religious person myself so i do not know the complete logistics of the revenue and spending of a church but i do understand they can yield a good amount of cash., not entirely sure how accurate this article is, but it states that we could gain an additional 71 billion dollars per year and in a time where we as a country are in trillions of dollars of debt taxing a church seems reasonable to me., cmv]</td>\n",
       "      <td>[i believe that a church is like any other profit making business and therefore most pay similar taxes., i am not a religious person myself so i do not know the complete logistics of the revenue and spending of a church but i do understand they can yield a good amount of cash., not entirely sure how accurate this article is, but it states that we could gain an additional 71 billion dollars per year and in a time where we as a country are in trillions of dollars of debt taxing a church seems reasonable to me., cmv, Therefore, I believe that churches and other religious institutions should have to pay taxes. ]</td>\n",
       "    </tr>\n",
       "    <tr>\n",
       "      <th>1</th>\n",
       "      <td>t3_1u4mmo</td>\n",
       "      <td>train</td>\n",
       "      <td>t1_ceei77d</td>\n",
       "      <td>I believe that churches and other religious institutions should have to pay taxes.</td>\n",
       "      <td>[i believe that a church is like any other profit making business and therefore most pay similar taxes., i am not a religious person myself so i do not know the complete logistics of the revenue and spending of a church but i do understand they can yield a good amount of cash., not entirely sure how accurate this article is, but it states that we could gain an additional 71 billion dollars per year and in a time where we as a country are in trillions of dollars of debt taxing a church seems reasonable to me., cmv]</td>\n",
       "      <td>4</td>\n",
       "      <td>[one of the historical methods of repressing out of favor religions is to make them pay exorbitant taxes., the blanket religious tax exemption is one of the ways we comply with the first amendment., many atheists seem to forget it guarantees the free exercise of religion in addition to forbidding the establishment of a state religion., taxing them like everyone else doesn't make sense because everyone else pays widely varying tax rates., should they be taxed as a commercial entity or an industrial one?, which subtype?, some religious practices involve wine., does that mean the churches will need permits taxes fees licenses as a resturant?, some christian sects consider the use of wine critical to the ceremony, others consider grape juice to be fine because it is symbolism., the rules and regulations answering those questions will burden some religions sects more than others., this then becomes a ripe area for both intentional and unintentional discrimination against out of favor religious groups., this will be hugely problematic for the free exercise clause., it is just as problematic for the establishment clause., as per the current justification for emminent domain, increased tax revenue is a justifying public good., taxing churches like everyone else would allow a state or locality to use eminent domain foreclosures in order to build a new mega church., the baptists catholics whoever will pay greater taxes than the mosque temple out of favor group currently on that corner., back to the wine example, the sect that doesn't use wine now has a significant financial advantage over the one that does., if the existence of a cross shaped veterans memorial is an establishment of religion, then surely providing tax advantages is.]</td>\n",
       "      <td>1</td>\n",
       "      <td>[i believe that a church is like any other profit making business and therefore most pay similar taxes., i am not a religious person myself so i do not know the complete logistics of the revenue and spending of a church but i do understand they can yield a good amount of cash., not entirely sure how accurate this article is, but it states that we could gain an additional 71 billion dollars per year and in a time where we as a country are in trillions of dollars of debt taxing a church seems reasonable to me., cmv]</td>\n",
       "      <td>[i believe that a church is like any other profit making business and therefore most pay similar taxes., i am not a religious person myself so i do not know the complete logistics of the revenue and spending of a church but i do understand they can yield a good amount of cash., not entirely sure how accurate this article is, but it states that we could gain an additional 71 billion dollars per year and in a time where we as a country are in trillions of dollars of debt taxing a church seems reasonable to me., cmv, Therefore, I believe that churches and other religious institutions should have to pay taxes. ]</td>\n",
       "    </tr>\n",
       "    <tr>\n",
       "      <th>2</th>\n",
       "      <td>t3_1u4mmo</td>\n",
       "      <td>train</td>\n",
       "      <td>t1_ceei9ab</td>\n",
       "      <td>I believe that churches and other religious institutions should have to pay taxes.</td>\n",
       "      <td>[i believe that a church is like any other profit making business and therefore most pay similar taxes., i am not a religious person myself so i do not know the complete logistics of the revenue and spending of a church but i do understand they can yield a good amount of cash., not entirely sure how accurate this article is, but it states that we could gain an additional 71 billion dollars per year and in a time where we as a country are in trillions of dollars of debt taxing a church seems reasonable to me., cmv]</td>\n",
       "      <td>4</td>\n",
       "      <td>[from someone who's grown up in the christian church:churches receive their income primarily through 'tithes,' which is a voluntary donation of sorts that each congregation member is expected to give yes, i know, 'voluntary' and 'expected to give. ', it's confusing for churchgoers, too ., the tithe is at a 10 standard., this is the means through which the church has to pay for property values, utilities, staffing, etc., churches have operated based on a realistic tithe income based on current income and membership growth., there are some churches that are very well off and probably wouldn't suffer too much from taxing., other churches barely struggle to pay their bills and staff because of tithing issues or other extenuating circumstances like natural disasters or whatever., let's say we implement a flat tax at 5 of the church's revenue., the church is expected to operate at 95 revenue while still maintaining 100 output., the church could, in response, raise the expected tithe to compensate for that cut., the congregation would respond by saying that that isn't the biblical expectation for the congregation., which it isn't., and since the tithing is optional, revenue would either stay the same or go down., the natural reaction is that people just wouldn't tithe., it could actually go further in reality., what i expect if the church were to be taxed would be that secret churches would start to meet like the ones that happen where christianity is illegal., the government can't really track that stuff too well though i wouldn't put it past them anymore ., so scratch that, we could do a tax rate that increases based on the church's revenue., then we would get the problem that plagues the united states taxes churches would just split up into smaller units and record their income at the lowest rate; likely one where the church isn't taxed at all., so there's how that revenue works and the probable results., hope this helps!]</td>\n",
       "      <td>1</td>\n",
       "      <td>[i believe that a church is like any other profit making business and therefore most pay similar taxes., i am not a religious person myself so i do not know the complete logistics of the revenue and spending of a church but i do understand they can yield a good amount of cash., not entirely sure how accurate this article is, but it states that we could gain an additional 71 billion dollars per year and in a time where we as a country are in trillions of dollars of debt taxing a church seems reasonable to me., cmv]</td>\n",
       "      <td>[i believe that a church is like any other profit making business and therefore most pay similar taxes., i am not a religious person myself so i do not know the complete logistics of the revenue and spending of a church but i do understand they can yield a good amount of cash., not entirely sure how accurate this article is, but it states that we could gain an additional 71 billion dollars per year and in a time where we as a country are in trillions of dollars of debt taxing a church seems reasonable to me., cmv, Therefore, I believe that churches and other religious institutions should have to pay taxes. ]</td>\n",
       "    </tr>\n",
       "    <tr>\n",
       "      <th>3</th>\n",
       "      <td>t3_1u4mmo</td>\n",
       "      <td>train</td>\n",
       "      <td>t1_ceeimbl</td>\n",
       "      <td>I believe that churches and other religious institutions should have to pay taxes.</td>\n",
       "      <td>[i believe that a church is like any other profit making business and therefore most pay similar taxes., i am not a religious person myself so i do not know the complete logistics of the revenue and spending of a church but i do understand they can yield a good amount of cash., not entirely sure how accurate this article is, but it states that we could gain an additional 71 billion dollars per year and in a time where we as a country are in trillions of dollars of debt taxing a church seems reasonable to me., cmv]</td>\n",
       "      <td>4</td>\n",
       "      <td>[i've served on my local church's council and i understand the perception of the church having a lot of money., that being said, while the church i attend brings in a lot of money a little less than 500k year 100 of it goes into supporting the church as a whole staff wages, operational expenses, building mortgage, etc and the church mission local community outreach programs such as food banks and soup kitchens, national outreach through monetary donations, etc ., lets look at the simple budget for my church next year: 500,000 that's a good chunk of change., 91 of that money is donated without the expectation of receiving any tangible thing., the remaining 9 is mainly collected from rental fees by individuals and organizations that want to use the church for their activities., now on how the money is spent nearly 50 of the budget is spent on staff salaries, benefits and payroll., seeing as i live in a state where the cost of living is quite high, we try very hard to pay our pastor, youth minister and administrative assistant competitive wages while we aren't 100 with getting a comparable wage we do try., 10 of the budget is spent on benevolence straight up donating 10 of our income to the greater church., remaining 40 operations and community outreach, and future set asides., the church has regular expenses just like any other entity., we have a mortgage to pay, electrical bills, insurance, advertising, pastoral training, running a twice weekly soup kitchen, twice a sunday services, etc., now lets add an 'income tax' onto this while thing., as you can see most every penny that goes into the church, goes right back out to the community at large., the nominal corporate tax rate is 35 ., so let's knock 175,000 right out of the budget., so instead of 500k, we have 325,000 basically enough to cover competitive pastoral wages, benefits, and have 75,000 left over for everything else., it boils down to local community benefit., the federal government isn't concerned with making sure people are hungry are fed, the naked clothed, and the downtrodden consoled., churches and religious communities are some of the only organizations that have the ability to directly influence the lives of people in their community., taxing religious organizations is a bad idea because of the community outreach that a lot of these organizations provide., i'm not saying there aren't bad apples, but i'd say 95 of churches provide a bigger community benefit by direct outreach, instead of letting the government come in and take finances out of your community.]</td>\n",
       "      <td>1</td>\n",
       "      <td>[i believe that a church is like any other profit making business and therefore most pay similar taxes., i am not a religious person myself so i do not know the complete logistics of the revenue and spending of a church but i do understand they can yield a good amount of cash., not entirely sure how accurate this article is, but it states that we could gain an additional 71 billion dollars per year and in a time where we as a country are in trillions of dollars of debt taxing a church seems reasonable to me., cmv]</td>\n",
       "      <td>[i believe that a church is like any other profit making business and therefore most pay similar taxes., i am not a religious person myself so i do not know the complete logistics of the revenue and spending of a church but i do understand they can yield a good amount of cash., not entirely sure how accurate this article is, but it states that we could gain an additional 71 billion dollars per year and in a time where we as a country are in trillions of dollars of debt taxing a church seems reasonable to me., cmv, Therefore, I believe that churches and other religious institutions should have to pay taxes. ]</td>\n",
       "    </tr>\n",
       "    <tr>\n",
       "      <th>4</th>\n",
       "      <td>t3_1u4mmo</td>\n",
       "      <td>train</td>\n",
       "      <td>t1_ceeix3p</td>\n",
       "      <td>I believe that churches and other religious institutions should have to pay taxes.</td>\n",
       "      <td>[i believe that a church is like any other profit making business and therefore most pay similar taxes., i am not a religious person myself so i do not know the complete logistics of the revenue and spending of a church but i do understand they can yield a good amount of cash., not entirely sure how accurate this article is, but it states that we could gain an additional 71 billion dollars per year and in a time where we as a country are in trillions of dollars of debt taxing a church seems reasonable to me., cmv]</td>\n",
       "      <td>4</td>\n",
       "      <td>[consider also the effect this could have taxing the church makes it more difficult to run, so smaller ones are likely to close up., you may end up seeing: more 'mega'churches, with greater congregations., inadvertent suppression of faiths due to low demand the above point resulting in larger polarization of religion i. e., less personal interfaith interaction as communities shift so people can attended a church temple mosque of their faithwe could therefore lose fluidity in the workforce people won't work somewhere they can't find an appropriate chapel both within an abroad i. e., harder to attract retain workers we would want for the same reasons ., additionally, there is potential long term unrest from community segregation even though any segregation would be implicit, not explicit ., less actual interaction with different religions could result in prejudices developing, especially if some communities end up better worse off 'we don't like to go to the restaurants in that neighborhood' creating economic disparity against religious minorities ., of course i wouldn't say we are free of these issues as is, but i see taxation as possibly agitating these issues.]</td>\n",
       "      <td>1</td>\n",
       "      <td>[i believe that a church is like any other profit making business and therefore most pay similar taxes., i am not a religious person myself so i do not know the complete logistics of the revenue and spending of a church but i do understand they can yield a good amount of cash., not entirely sure how accurate this article is, but it states that we could gain an additional 71 billion dollars per year and in a time where we as a country are in trillions of dollars of debt taxing a church seems reasonable to me., cmv]</td>\n",
       "      <td>[i believe that a church is like any other profit making business and therefore most pay similar taxes., i am not a religious person myself so i do not know the complete logistics of the revenue and spending of a church but i do understand they can yield a good amount of cash., not entirely sure how accurate this article is, but it states that we could gain an additional 71 billion dollars per year and in a time where we as a country are in trillions of dollars of debt taxing a church seems reasonable to me., cmv, Therefore, I believe that churches and other religious institutions should have to pay taxes. ]</td>\n",
       "    </tr>\n",
       "  </tbody>\n",
       "</table>\n",
       "</div>"
      ],
      "text/plain": [
       "     post_id  split  comment_id  \\\n",
       "0  t3_1u4mmo  train  t1_ceehlbn   \n",
       "1  t3_1u4mmo  train  t1_ceei77d   \n",
       "2  t3_1u4mmo  train  t1_ceei9ab   \n",
       "3  t3_1u4mmo  train  t1_ceeimbl   \n",
       "4  t3_1u4mmo  train  t1_ceeix3p   \n",
       "\n",
       "                                                                                 title  \\\n",
       "0  I believe that churches and other religious institutions should have to pay taxes.    \n",
       "1  I believe that churches and other religious institutions should have to pay taxes.    \n",
       "2  I believe that churches and other religious institutions should have to pay taxes.    \n",
       "3  I believe that churches and other religious institutions should have to pay taxes.    \n",
       "4  I believe that churches and other religious institutions should have to pay taxes.    \n",
       "\n",
       "                                                                                                                                                                                                                                                                                                                                                                                                                                                                                                                                      post  \\\n",
       "0  [i believe that a church is like any other profit making business and therefore most pay similar taxes., i am not a religious person myself so i do not know the complete logistics of the revenue and spending of a church but i do understand they can yield a good amount of cash., not entirely sure how accurate this article is, but it states that we could gain an additional 71 billion dollars per year and in a time where we as a country are in trillions of dollars of debt taxing a church seems reasonable to me., cmv]   \n",
       "1  [i believe that a church is like any other profit making business and therefore most pay similar taxes., i am not a religious person myself so i do not know the complete logistics of the revenue and spending of a church but i do understand they can yield a good amount of cash., not entirely sure how accurate this article is, but it states that we could gain an additional 71 billion dollars per year and in a time where we as a country are in trillions of dollars of debt taxing a church seems reasonable to me., cmv]   \n",
       "2  [i believe that a church is like any other profit making business and therefore most pay similar taxes., i am not a religious person myself so i do not know the complete logistics of the revenue and spending of a church but i do understand they can yield a good amount of cash., not entirely sure how accurate this article is, but it states that we could gain an additional 71 billion dollars per year and in a time where we as a country are in trillions of dollars of debt taxing a church seems reasonable to me., cmv]   \n",
       "3  [i believe that a church is like any other profit making business and therefore most pay similar taxes., i am not a religious person myself so i do not know the complete logistics of the revenue and spending of a church but i do understand they can yield a good amount of cash., not entirely sure how accurate this article is, but it states that we could gain an additional 71 billion dollars per year and in a time where we as a country are in trillions of dollars of debt taxing a church seems reasonable to me., cmv]   \n",
       "4  [i believe that a church is like any other profit making business and therefore most pay similar taxes., i am not a religious person myself so i do not know the complete logistics of the revenue and spending of a church but i do understand they can yield a good amount of cash., not entirely sure how accurate this article is, but it states that we could gain an additional 71 billion dollars per year and in a time where we as a country are in trillions of dollars of debt taxing a church seems reasonable to me., cmv]   \n",
       "\n",
       "   n_sentences  \\\n",
       "0            4   \n",
       "1            4   \n",
       "2            4   \n",
       "3            4   \n",
       "4            4   \n",
       "\n",
       "                                                                                                                                                                                                                                                                                                                                                                                                                                                                                                                                                                                                                                                                                                                                                                                                                                                                                                                                                                                                                                                                                                                                                                                                                                                                                                                                                                                                                                                                                                                                                                                                                                                                                                                                                                                                                                                                                                                                                                                                                                                                                                                                                                                                                                                                                                                                                                                                                                                                                                                                                                                                                                                                     counter  \\\n",
       "0                                                                                                                                                                                                                                                                                                                                                                                                                                                                                                                                                                                                                                                                                                                                                                                                                                                                                                                                                                                                                                                                                                                                                                                                                                                                                                                                                                                                                                                                                        [i have heard this before ofc but when it is said louder than, or separate from the same issue when applied to corporations, or other non profits, i just think it's just religious discrimination., most, if not all corporations pay a much smaller percentage of their income in taxes than i do., why not focus on closing corporate loopholes first?, it would generate a lot more income than targeting religious institutions., why not focus on non religious nonprofits?, tons of those are shams where the head of said organization makes 7 figures., many are politically motivated, and actually are for profit in the sense that they are for changing laws and policies that allow third parties to become more profitable., i just don't have much respect for the taxing religions thing because you can apply the same arguments to different organizations resulting in higher tax revenue., i mean, sure., if some tv preacher is pulling in 7 figures selling 'prayer rags' then yeah, close whatever loopholes make that possible., but at the same time you have to close those same loopholes for non religious nonprofits, else it's just discrimination.]   \n",
       "1                                                                                                                                                                                                                                                                                                                                                                                                                                                                                                                                                                                                                                                                                                                                                                                                                                                  [one of the historical methods of repressing out of favor religions is to make them pay exorbitant taxes., the blanket religious tax exemption is one of the ways we comply with the first amendment., many atheists seem to forget it guarantees the free exercise of religion in addition to forbidding the establishment of a state religion., taxing them like everyone else doesn't make sense because everyone else pays widely varying tax rates., should they be taxed as a commercial entity or an industrial one?, which subtype?, some religious practices involve wine., does that mean the churches will need permits taxes fees licenses as a resturant?, some christian sects consider the use of wine critical to the ceremony, others consider grape juice to be fine because it is symbolism., the rules and regulations answering those questions will burden some religions sects more than others., this then becomes a ripe area for both intentional and unintentional discrimination against out of favor religious groups., this will be hugely problematic for the free exercise clause., it is just as problematic for the establishment clause., as per the current justification for emminent domain, increased tax revenue is a justifying public good., taxing churches like everyone else would allow a state or locality to use eminent domain foreclosures in order to build a new mega church., the baptists catholics whoever will pay greater taxes than the mosque temple out of favor group currently on that corner., back to the wine example, the sect that doesn't use wine now has a significant financial advantage over the one that does., if the existence of a cross shaped veterans memorial is an establishment of religion, then surely providing tax advantages is.]   \n",
       "2                                                                                                                                                                                                                                                                                                                                                                                                                                                                                                                                                                                                                                           [from someone who's grown up in the christian church:churches receive their income primarily through 'tithes,' which is a voluntary donation of sorts that each congregation member is expected to give yes, i know, 'voluntary' and 'expected to give. ', it's confusing for churchgoers, too ., the tithe is at a 10 standard., this is the means through which the church has to pay for property values, utilities, staffing, etc., churches have operated based on a realistic tithe income based on current income and membership growth., there are some churches that are very well off and probably wouldn't suffer too much from taxing., other churches barely struggle to pay their bills and staff because of tithing issues or other extenuating circumstances like natural disasters or whatever., let's say we implement a flat tax at 5 of the church's revenue., the church is expected to operate at 95 revenue while still maintaining 100 output., the church could, in response, raise the expected tithe to compensate for that cut., the congregation would respond by saying that that isn't the biblical expectation for the congregation., which it isn't., and since the tithing is optional, revenue would either stay the same or go down., the natural reaction is that people just wouldn't tithe., it could actually go further in reality., what i expect if the church were to be taxed would be that secret churches would start to meet like the ones that happen where christianity is illegal., the government can't really track that stuff too well though i wouldn't put it past them anymore ., so scratch that, we could do a tax rate that increases based on the church's revenue., then we would get the problem that plagues the united states taxes churches would just split up into smaller units and record their income at the lowest rate; likely one where the church isn't taxed at all., so there's how that revenue works and the probable results., hope this helps!]   \n",
       "3  [i've served on my local church's council and i understand the perception of the church having a lot of money., that being said, while the church i attend brings in a lot of money a little less than 500k year 100 of it goes into supporting the church as a whole staff wages, operational expenses, building mortgage, etc and the church mission local community outreach programs such as food banks and soup kitchens, national outreach through monetary donations, etc ., lets look at the simple budget for my church next year: 500,000 that's a good chunk of change., 91 of that money is donated without the expectation of receiving any tangible thing., the remaining 9 is mainly collected from rental fees by individuals and organizations that want to use the church for their activities., now on how the money is spent nearly 50 of the budget is spent on staff salaries, benefits and payroll., seeing as i live in a state where the cost of living is quite high, we try very hard to pay our pastor, youth minister and administrative assistant competitive wages while we aren't 100 with getting a comparable wage we do try., 10 of the budget is spent on benevolence straight up donating 10 of our income to the greater church., remaining 40 operations and community outreach, and future set asides., the church has regular expenses just like any other entity., we have a mortgage to pay, electrical bills, insurance, advertising, pastoral training, running a twice weekly soup kitchen, twice a sunday services, etc., now lets add an 'income tax' onto this while thing., as you can see most every penny that goes into the church, goes right back out to the community at large., the nominal corporate tax rate is 35 ., so let's knock 175,000 right out of the budget., so instead of 500k, we have 325,000 basically enough to cover competitive pastoral wages, benefits, and have 75,000 left over for everything else., it boils down to local community benefit., the federal government isn't concerned with making sure people are hungry are fed, the naked clothed, and the downtrodden consoled., churches and religious communities are some of the only organizations that have the ability to directly influence the lives of people in their community., taxing religious organizations is a bad idea because of the community outreach that a lot of these organizations provide., i'm not saying there aren't bad apples, but i'd say 95 of churches provide a bigger community benefit by direct outreach, instead of letting the government come in and take finances out of your community.]   \n",
       "4                                                                                                                                                                                                                                                                                                                                                                                                                                                                                                                                                                                                                                                                                                                                                                                                                                                                                                                                                                                                                                                                                                                                                                                                                                                                                                                                                                                                                                               [consider also the effect this could have taxing the church makes it more difficult to run, so smaller ones are likely to close up., you may end up seeing: more 'mega'churches, with greater congregations., inadvertent suppression of faiths due to low demand the above point resulting in larger polarization of religion i. e., less personal interfaith interaction as communities shift so people can attended a church temple mosque of their faithwe could therefore lose fluidity in the workforce people won't work somewhere they can't find an appropriate chapel both within an abroad i. e., harder to attract retain workers we would want for the same reasons ., additionally, there is potential long term unrest from community segregation even though any segregation would be implicit, not explicit ., less actual interaction with different religions could result in prejudices developing, especially if some communities end up better worse off 'we don't like to go to the restaurants in that neighborhood' creating economic disparity against religious minorities ., of course i wouldn't say we are free of these issues as is, but i see taxation as possibly agitating these issues.]   \n",
       "\n",
       "   num_cand_conc  \\\n",
       "0              1   \n",
       "1              1   \n",
       "2              1   \n",
       "3              1   \n",
       "4              1   \n",
       "\n",
       "                                                                                                                                                                                                                                                                                                                                                                                                                                                                                                                           masked_premises  \\\n",
       "0  [i believe that a church is like any other profit making business and therefore most pay similar taxes., i am not a religious person myself so i do not know the complete logistics of the revenue and spending of a church but i do understand they can yield a good amount of cash., not entirely sure how accurate this article is, but it states that we could gain an additional 71 billion dollars per year and in a time where we as a country are in trillions of dollars of debt taxing a church seems reasonable to me., cmv]   \n",
       "1  [i believe that a church is like any other profit making business and therefore most pay similar taxes., i am not a religious person myself so i do not know the complete logistics of the revenue and spending of a church but i do understand they can yield a good amount of cash., not entirely sure how accurate this article is, but it states that we could gain an additional 71 billion dollars per year and in a time where we as a country are in trillions of dollars of debt taxing a church seems reasonable to me., cmv]   \n",
       "2  [i believe that a church is like any other profit making business and therefore most pay similar taxes., i am not a religious person myself so i do not know the complete logistics of the revenue and spending of a church but i do understand they can yield a good amount of cash., not entirely sure how accurate this article is, but it states that we could gain an additional 71 billion dollars per year and in a time where we as a country are in trillions of dollars of debt taxing a church seems reasonable to me., cmv]   \n",
       "3  [i believe that a church is like any other profit making business and therefore most pay similar taxes., i am not a religious person myself so i do not know the complete logistics of the revenue and spending of a church but i do understand they can yield a good amount of cash., not entirely sure how accurate this article is, but it states that we could gain an additional 71 billion dollars per year and in a time where we as a country are in trillions of dollars of debt taxing a church seems reasonable to me., cmv]   \n",
       "4  [i believe that a church is like any other profit making business and therefore most pay similar taxes., i am not a religious person myself so i do not know the complete logistics of the revenue and spending of a church but i do understand they can yield a good amount of cash., not entirely sure how accurate this article is, but it states that we could gain an additional 71 billion dollars per year and in a time where we as a country are in trillions of dollars of debt taxing a church seems reasonable to me., cmv]   \n",
       "\n",
       "                                                                                                                                                                                                                                                                                                                                                                                                                                                                                                                                                                                                                  premises_with_conclusion  \n",
       "0  [i believe that a church is like any other profit making business and therefore most pay similar taxes., i am not a religious person myself so i do not know the complete logistics of the revenue and spending of a church but i do understand they can yield a good amount of cash., not entirely sure how accurate this article is, but it states that we could gain an additional 71 billion dollars per year and in a time where we as a country are in trillions of dollars of debt taxing a church seems reasonable to me., cmv, Therefore, I believe that churches and other religious institutions should have to pay taxes. ]  \n",
       "1  [i believe that a church is like any other profit making business and therefore most pay similar taxes., i am not a religious person myself so i do not know the complete logistics of the revenue and spending of a church but i do understand they can yield a good amount of cash., not entirely sure how accurate this article is, but it states that we could gain an additional 71 billion dollars per year and in a time where we as a country are in trillions of dollars of debt taxing a church seems reasonable to me., cmv, Therefore, I believe that churches and other religious institutions should have to pay taxes. ]  \n",
       "2  [i believe that a church is like any other profit making business and therefore most pay similar taxes., i am not a religious person myself so i do not know the complete logistics of the revenue and spending of a church but i do understand they can yield a good amount of cash., not entirely sure how accurate this article is, but it states that we could gain an additional 71 billion dollars per year and in a time where we as a country are in trillions of dollars of debt taxing a church seems reasonable to me., cmv, Therefore, I believe that churches and other religious institutions should have to pay taxes. ]  \n",
       "3  [i believe that a church is like any other profit making business and therefore most pay similar taxes., i am not a religious person myself so i do not know the complete logistics of the revenue and spending of a church but i do understand they can yield a good amount of cash., not entirely sure how accurate this article is, but it states that we could gain an additional 71 billion dollars per year and in a time where we as a country are in trillions of dollars of debt taxing a church seems reasonable to me., cmv, Therefore, I believe that churches and other religious institutions should have to pay taxes. ]  \n",
       "4  [i believe that a church is like any other profit making business and therefore most pay similar taxes., i am not a religious person myself so i do not know the complete logistics of the revenue and spending of a church but i do understand they can yield a good amount of cash., not entirely sure how accurate this article is, but it states that we could gain an additional 71 billion dollars per year and in a time where we as a country are in trillions of dollars of debt taxing a church seems reasonable to me., cmv, Therefore, I believe that churches and other religious institutions should have to pay taxes. ]  "
      ]
     },
     "execution_count": 6,
     "metadata": {},
     "output_type": "execute_result"
    }
   ],
   "source": [
    "train_df.head()"
   ]
  },
  {
   "cell_type": "code",
   "execution_count": null,
   "metadata": {},
   "outputs": [
    {
     "data": {
      "application/vnd.jupyter.widget-view+json": {
       "model_id": "2e3952c457b141258648bb6c5358ffbc",
       "version_major": 2,
       "version_minor": 0
      },
      "text/plain": [
       "  0%|          | 0/93 [00:00<?, ?ba/s]"
      ]
     },
     "metadata": {},
     "output_type": "display_data"
    }
   ],
   "source": [
    "gen_kwargs = {\n",
    "    \"do_sample\": True, \n",
    "    \"max_length\":200,\n",
    "    \"top_p\":0.95, \n",
    "    \"top_k\":50,\n",
    "}\n",
    "\n",
    "conclusions = generate_conclusion(train_df.masked_premises.tolist(), gen_kwargs, batch_size=16)"
   ]
  },
  {
   "cell_type": "code",
   "execution_count": null,
   "metadata": {},
   "outputs": [],
   "source": [
    "train_df['bart_conclusion'] = conclusions"
   ]
  },
  {
   "cell_type": "code",
   "execution_count": null,
   "metadata": {
    "scrolled": true,
    "tags": []
   },
   "outputs": [
    {
     "data": {
      "application/vnd.jupyter.widget-view+json": {
       "model_id": "1f484cb5305b4ac8ba8f505a5f545ab9",
       "version_major": 2,
       "version_minor": 0
      },
      "text/plain": [
       "  0%|          | 0/93 [00:00<?, ?ba/s]"
      ]
     },
     "metadata": {},
     "output_type": "display_data"
    }
   ],
   "source": [
    "train_df['counter_bart_conclusion'] =  generate_conclusion(train_df.counter.tolist(), gen_kwargs, batch_size=16)"
   ]
  },
  {
   "cell_type": "code",
   "execution_count": null,
   "metadata": {},
   "outputs": [],
   "source": [
    "train_df.head()"
   ]
  },
  {
   "cell_type": "code",
   "execution_count": null,
   "metadata": {},
   "outputs": [],
   "source": []
  }
 ],
 "metadata": {
  "interpreter": {
   "hash": "16043b4afea6df4cc9c8277bea4f74cd7012ce4985455d3fd8e496ab2325b686"
  },
  "kernelspec": {
   "display_name": "Python 3",
   "language": "python",
   "name": "python3"
  },
  "language_info": {
   "codemirror_mode": {
    "name": "ipython",
    "version": 3
   },
   "file_extension": ".py",
   "mimetype": "text/x-python",
   "name": "python",
   "nbconvert_exporter": "python",
   "pygments_lexer": "ipython3",
   "version": "3.6.9"
  }
 },
 "nbformat": 4,
 "nbformat_minor": 4
}
