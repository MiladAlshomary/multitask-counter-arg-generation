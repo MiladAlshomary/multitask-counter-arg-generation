{
 "cells": [
  {
   "cell_type": "code",
   "execution_count": 1,
   "metadata": {},
   "outputs": [],
   "source": [
    "import pandas as pd\n",
    "import numpy as np\n",
    "import json\n",
    "import matplotlib.pyplot as plt\n",
    "\n",
    "pd.set_option('display.max_colwidth', None)"
   ]
  },
  {
   "cell_type": "code",
   "execution_count": 2,
   "metadata": {},
   "outputs": [],
   "source": [
    "data_path = '/home/sile2804/data-ceph/arguana/arg-generation/argument-undermining/'"
   ]
  },
  {
   "cell_type": "code",
   "execution_count": 3,
   "metadata": {},
   "outputs": [],
   "source": [
    "jo_df =  pd.read_pickle(data_path + \"jo_data/gen_data.pickle\")\n",
    "\n",
    "training_df = jo_df[jo_df.split =='train']\n",
    "valid_df = jo_df[jo_df.split =='val']"
   ]
  },
  {
   "cell_type": "code",
   "execution_count": 4,
   "metadata": {
    "scrolled": true,
    "tags": []
   },
   "outputs": [
    {
     "data": {
      "text/html": [
       "<div>\n",
       "<style scoped>\n",
       "    .dataframe tbody tr th:only-of-type {\n",
       "        vertical-align: middle;\n",
       "    }\n",
       "\n",
       "    .dataframe tbody tr th {\n",
       "        vertical-align: top;\n",
       "    }\n",
       "\n",
       "    .dataframe thead th {\n",
       "        text-align: right;\n",
       "    }\n",
       "</style>\n",
       "<table border=\"1\" class=\"dataframe\">\n",
       "  <thead>\n",
       "    <tr style=\"text-align: right;\">\n",
       "      <th></th>\n",
       "      <th>post_id</th>\n",
       "      <th>split</th>\n",
       "      <th>comment_id</th>\n",
       "      <th>title</th>\n",
       "      <th>post</th>\n",
       "      <th>comment</th>\n",
       "      <th>n_sentences</th>\n",
       "      <th>direct_sents</th>\n",
       "      <th>all_4_sents</th>\n",
       "      <th>comment_sents</th>\n",
       "      <th>premise_counter_premise_pairs</th>\n",
       "      <th>num_attacks</th>\n",
       "    </tr>\n",
       "  </thead>\n",
       "  <tbody>\n",
       "    <tr>\n",
       "      <th>0</th>\n",
       "      <td>t3_1u4mmo</td>\n",
       "      <td>train</td>\n",
       "      <td>t1_ceei4mi</td>\n",
       "      <td>I believe that churches and other religious institutions should have to pay taxes.</td>\n",
       "      <td>[i believe that a church is like any other profit making business and therefore most pay similar taxes., i am not a religious person myself so i do not know the complete logistics of the revenue and spending of a church but i do understand they can yield a good amount of cash., not entirely sure how accurate this article is, but it states that we could gain an additional 71 billion dollars per year and in a time where we as a country are in trillions of dollars of debt taxing a church seems reasonable to me., cmv]</td>\n",
       "      <td>&amp;gt;I believe that a church is like any other profit making business and therefore most pay similar taxes. I am not a religious person myself so I do not know the complete logistics of the revenue and spending of a church but I do understand they can yield a good amount of cash. \\n\\nChurches, like all other non-profits, must make money to continue to exist.  The difference between a non-profit and a for-profit is that all profits in a non-profit go to expand the core mission whereas profits in a for-profit can be distributed to the owners.  Do you want to eliminate deductions for all nonprofits, or only for religious ones?</td>\n",
       "      <td>4</td>\n",
       "      <td>[0, 1]</td>\n",
       "      <td>[]</td>\n",
       "      <td>[i believe that a church is like any other profit making business and therefore most pay similar taxes., i am not a religious person myself so i do not know the complete logistics of the revenue and spending of a church but i do understand they can yield a good amount of cash., churches, like all other non profits, must make money to continue to exist., the difference between a non profit and a for profit is that all profits in a non profit go to expand the core mission whereas profits in a for profit can be distributed to the owners., do you want to eliminate deductions for all nonprofits, or only for religious ones?]</td>\n",
       "      <td>[[[i believe that a church is like any other profit making business and therefore most pay similar taxes., i am not a religious person myself so i do not know the complete logistics of the revenue and spending of a church but i do understand they can yield a good amount of cash.], churches, like all other non profits, must make money to continue to exist. the difference between a non profit and a for profit is that all profits in a non profit go to expand the core mission whereas profits in a for profit can be distributed to the owners. do you want to eliminate deductions for all nonprofits, or only for religious ones?]]</td>\n",
       "      <td>1</td>\n",
       "    </tr>\n",
       "    <tr>\n",
       "      <th>1</th>\n",
       "      <td>t3_1u4mmo</td>\n",
       "      <td>train</td>\n",
       "      <td>t1_ceemale</td>\n",
       "      <td>I believe that churches and other religious institutions should have to pay taxes.</td>\n",
       "      <td>[i believe that a church is like any other profit making business and therefore most pay similar taxes., i am not a religious person myself so i do not know the complete logistics of the revenue and spending of a church but i do understand they can yield a good amount of cash., not entirely sure how accurate this article is, but it states that we could gain an additional 71 billion dollars per year and in a time where we as a country are in trillions of dollars of debt taxing a church seems reasonable to me., cmv]</td>\n",
       "      <td>&amp;gt; I believe that a church is like any other profit making business and therefore most pay similar taxes.\\n\\nTo the contrary, churches are not businesses and aren't for profit. The simplest answer is that they aren't taxed because not-for-profit organizations get tax exemptions. A church could randomly decide one day that it was no longer interested in religion and only wants to be a not-for-profit charity and their tax situation would be the same.\\n\\nOf course, with the benefits of tax exempt status comes regulation -- for example, they are not supposed to be involved in political campaigning.</td>\n",
       "      <td>4</td>\n",
       "      <td>[0]</td>\n",
       "      <td>[]</td>\n",
       "      <td>[i believe that a church is like any other profit making business and therefore most pay similar taxes., to the contrary, churches are not businesses and aren't for profit., the simplest answer is that they aren't taxed because not for profit organizations get tax exemptions., a church could randomly decide one day that it was no longer interested in religion and only wants to be a not for profit charity and their tax situation would be the same., of course, with the benefits of tax exempt status comes regulation for example, they are not supposed to be involved in political campaigning.]</td>\n",
       "      <td>[[[i believe that a church is like any other profit making business and therefore most pay similar taxes.], to the contrary, churches are not businesses and aren't for profit. the simplest answer is that they aren't taxed because not for profit organizations get tax exemptions. a church could randomly decide one day that it was no longer interested in religion and only wants to be a not for profit charity and their tax situation would be the same. of course, with the benefits of tax exempt status comes regulation for example, they are not supposed to be involved in political campaigning.]]</td>\n",
       "      <td>1</td>\n",
       "    </tr>\n",
       "    <tr>\n",
       "      <th>2</th>\n",
       "      <td>t3_1u4mmo</td>\n",
       "      <td>train</td>\n",
       "      <td>t1_ceeuch1</td>\n",
       "      <td>I believe that churches and other religious institutions should have to pay taxes.</td>\n",
       "      <td>[i believe that a church is like any other profit making business and therefore most pay similar taxes., i am not a religious person myself so i do not know the complete logistics of the revenue and spending of a church but i do understand they can yield a good amount of cash., not entirely sure how accurate this article is, but it states that we could gain an additional 71 billion dollars per year and in a time where we as a country are in trillions of dollars of debt taxing a church seems reasonable to me., cmv]</td>\n",
       "      <td>&amp;gt; I believe that a church is like any other profit making business and therefore most pay similar taxes.\\n\\nWhy do you believe that profit-making businesses should have to pay taxes?</td>\n",
       "      <td>4</td>\n",
       "      <td>[0]</td>\n",
       "      <td>[]</td>\n",
       "      <td>[i believe that a church is like any other profit making business and therefore most pay similar taxes., why do you believe that profit making businesses should have to pay taxes?]</td>\n",
       "      <td>[[[i believe that a church is like any other profit making business and therefore most pay similar taxes.], why do you believe that profit making businesses should have to pay taxes?]]</td>\n",
       "      <td>1</td>\n",
       "    </tr>\n",
       "    <tr>\n",
       "      <th>3</th>\n",
       "      <td>t3_1u4mo5</td>\n",
       "      <td>train</td>\n",
       "      <td>t1_ceegjxv</td>\n",
       "      <td>I don't believe it is acceptable to attack the person that your SO cheated on you with.</td>\n",
       "      <td>[so it seems to be common that, when caught cheating, violence is directed toward the person the significant other so cheated with., i don't understand why., you were in a relationship with your so., you had no agreement with the other party., if you are going to beat the shit out of anyone, it should be your so., s he is the one that cheated on you., the other party, provided they aren't a friend or acquaintance doesn't owe you anything., why should beating the ever loving shit out of your so's cheat mate be acceptable?]</td>\n",
       "      <td>&amp;gt;So it seems to be common that, when caught cheating, violence is directed toward the person the significant other (SO) cheated with.\\n\\nIt is not common, and the vast majority of people do not see it as \"acceptable\". They aren't always surprised when it happens, but that doesn't mean they approve of it. \\n\\nIf it seems common, that probably has more to do with how often you hear about it than with how often it occurs. It's not the rarest thing in the world, but it's certainly not something most people do.</td>\n",
       "      <td>8</td>\n",
       "      <td>[0]</td>\n",
       "      <td>[]</td>\n",
       "      <td>[so it seems to be common that, when caught cheating, violence is directed toward the person the significant other so cheated with., it is not common, and the vast majority of people do not see it as 'acceptable'., they aren't always surprised when it happens, but that doesn't mean they approve of it., if it seems common, that probably has more to do with how often you hear about it than with how often it occurs., it's not the rarest thing in the world, but it's certainly not something most people do.]</td>\n",
       "      <td>[[[so it seems to be common that, when caught cheating, violence is directed toward the person the significant other so cheated with.], it is not common, and the vast majority of people do not see it as 'acceptable'. they aren't always surprised when it happens, but that doesn't mean they approve of it. if it seems common, that probably has more to do with how often you hear about it than with how often it occurs. it's not the rarest thing in the world, but it's certainly not something most people do.]]</td>\n",
       "      <td>1</td>\n",
       "    </tr>\n",
       "    <tr>\n",
       "      <th>4</th>\n",
       "      <td>t3_1u4mo5</td>\n",
       "      <td>train</td>\n",
       "      <td>t1_ceeqk73</td>\n",
       "      <td>I don't believe it is acceptable to attack the person that your SO cheated on you with.</td>\n",
       "      <td>[so it seems to be common that, when caught cheating, violence is directed toward the person the significant other so cheated with., i don't understand why., you were in a relationship with your so., you had no agreement with the other party., if you are going to beat the shit out of anyone, it should be your so., s he is the one that cheated on you., the other party, provided they aren't a friend or acquaintance doesn't owe you anything., why should beating the ever loving shit out of your so's cheat mate be acceptable?]</td>\n",
       "      <td>&amp;gt; You were in a relationship with your SO. You had no agreement with the other party.\\n\\nExactly. You have no relationship to this other person. Why wouldn't you take out your anger on them? Your mate you might actually want to sort things out with once you calm down, but they person they cheated on you with? Why the fuck would you give a shit about their feelings/well being?\\n\\nWell, I mean, that's an -explanation- for it. I don't know why you're asking us to -justify- violence, though?</td>\n",
       "      <td>8</td>\n",
       "      <td>[2, 3]</td>\n",
       "      <td>[]</td>\n",
       "      <td>[you were in a relationship with your so., you had no agreement with the other party., exactly., you have no relationship to this other person., why wouldn't you take out your anger on them?, your mate you might actually want to sort things out with once you calm down, but they person they cheated on you with?, why the fuck would you give a shit about their feelings well being?, well, i mean, that's an explanation for it., i don't know why you're asking us to justify violence, though?]</td>\n",
       "      <td>[[[you were in a relationship with your so., you had no agreement with the other party.], exactly. you have no relationship to this other person. why wouldn't you take out your anger on them? your mate you might actually want to sort things out with once you calm down, but they person they cheated on you with? why the fuck would you give a shit about their feelings well being?]]</td>\n",
       "      <td>1</td>\n",
       "    </tr>\n",
       "  </tbody>\n",
       "</table>\n",
       "</div>"
      ],
      "text/plain": [
       "     post_id  split  comment_id  \\\n",
       "0  t3_1u4mmo  train  t1_ceei4mi   \n",
       "1  t3_1u4mmo  train  t1_ceemale   \n",
       "2  t3_1u4mmo  train  t1_ceeuch1   \n",
       "3  t3_1u4mo5  train  t1_ceegjxv   \n",
       "4  t3_1u4mo5  train  t1_ceeqk73   \n",
       "\n",
       "                                                                                      title  \\\n",
       "0       I believe that churches and other religious institutions should have to pay taxes.    \n",
       "1       I believe that churches and other religious institutions should have to pay taxes.    \n",
       "2       I believe that churches and other religious institutions should have to pay taxes.    \n",
       "3  I don't believe it is acceptable to attack the person that your SO cheated on you with.    \n",
       "4  I don't believe it is acceptable to attack the person that your SO cheated on you with.    \n",
       "\n",
       "                                                                                                                                                                                                                                                                                                                                                                                                                                                                                                                                              post  \\\n",
       "0          [i believe that a church is like any other profit making business and therefore most pay similar taxes., i am not a religious person myself so i do not know the complete logistics of the revenue and spending of a church but i do understand they can yield a good amount of cash., not entirely sure how accurate this article is, but it states that we could gain an additional 71 billion dollars per year and in a time where we as a country are in trillions of dollars of debt taxing a church seems reasonable to me., cmv]   \n",
       "1          [i believe that a church is like any other profit making business and therefore most pay similar taxes., i am not a religious person myself so i do not know the complete logistics of the revenue and spending of a church but i do understand they can yield a good amount of cash., not entirely sure how accurate this article is, but it states that we could gain an additional 71 billion dollars per year and in a time where we as a country are in trillions of dollars of debt taxing a church seems reasonable to me., cmv]   \n",
       "2          [i believe that a church is like any other profit making business and therefore most pay similar taxes., i am not a religious person myself so i do not know the complete logistics of the revenue and spending of a church but i do understand they can yield a good amount of cash., not entirely sure how accurate this article is, but it states that we could gain an additional 71 billion dollars per year and in a time where we as a country are in trillions of dollars of debt taxing a church seems reasonable to me., cmv]   \n",
       "3  [so it seems to be common that, when caught cheating, violence is directed toward the person the significant other so cheated with., i don't understand why., you were in a relationship with your so., you had no agreement with the other party., if you are going to beat the shit out of anyone, it should be your so., s he is the one that cheated on you., the other party, provided they aren't a friend or acquaintance doesn't owe you anything., why should beating the ever loving shit out of your so's cheat mate be acceptable?]   \n",
       "4  [so it seems to be common that, when caught cheating, violence is directed toward the person the significant other so cheated with., i don't understand why., you were in a relationship with your so., you had no agreement with the other party., if you are going to beat the shit out of anyone, it should be your so., s he is the one that cheated on you., the other party, provided they aren't a friend or acquaintance doesn't owe you anything., why should beating the ever loving shit out of your so's cheat mate be acceptable?]   \n",
       "\n",
       "                                                                                                                                                                                                                                                                                                                                                                                                                                                                                                                                                                                                                                                  comment  \\\n",
       "0  &gt;I believe that a church is like any other profit making business and therefore most pay similar taxes. I am not a religious person myself so I do not know the complete logistics of the revenue and spending of a church but I do understand they can yield a good amount of cash. \\n\\nChurches, like all other non-profits, must make money to continue to exist.  The difference between a non-profit and a for-profit is that all profits in a non-profit go to expand the core mission whereas profits in a for-profit can be distributed to the owners.  Do you want to eliminate deductions for all nonprofits, or only for religious ones?   \n",
       "1                             &gt; I believe that a church is like any other profit making business and therefore most pay similar taxes.\\n\\nTo the contrary, churches are not businesses and aren't for profit. The simplest answer is that they aren't taxed because not-for-profit organizations get tax exemptions. A church could randomly decide one day that it was no longer interested in religion and only wants to be a not-for-profit charity and their tax situation would be the same.\\n\\nOf course, with the benefits of tax exempt status comes regulation -- for example, they are not supposed to be involved in political campaigning.   \n",
       "2                                                                                                                                                                                                                                                                                                                                                                                                                                                               &gt; I believe that a church is like any other profit making business and therefore most pay similar taxes.\\n\\nWhy do you believe that profit-making businesses should have to pay taxes?   \n",
       "3                                                                                                                     &gt;So it seems to be common that, when caught cheating, violence is directed toward the person the significant other (SO) cheated with.\\n\\nIt is not common, and the vast majority of people do not see it as \"acceptable\". They aren't always surprised when it happens, but that doesn't mean they approve of it. \\n\\nIf it seems common, that probably has more to do with how often you hear about it than with how often it occurs. It's not the rarest thing in the world, but it's certainly not something most people do.    \n",
       "4                                                                                                                                         &gt; You were in a relationship with your SO. You had no agreement with the other party.\\n\\nExactly. You have no relationship to this other person. Why wouldn't you take out your anger on them? Your mate you might actually want to sort things out with once you calm down, but they person they cheated on you with? Why the fuck would you give a shit about their feelings/well being?\\n\\nWell, I mean, that's an -explanation- for it. I don't know why you're asking us to -justify- violence, though?   \n",
       "\n",
       "   n_sentences direct_sents all_4_sents  \\\n",
       "0            4       [0, 1]          []   \n",
       "1            4          [0]          []   \n",
       "2            4          [0]          []   \n",
       "3            8          [0]          []   \n",
       "4            8       [2, 3]          []   \n",
       "\n",
       "                                                                                                                                                                                                                                                                                                                                                                                                                                                                                                                                                                                                                                        comment_sents  \\\n",
       "0  [i believe that a church is like any other profit making business and therefore most pay similar taxes., i am not a religious person myself so i do not know the complete logistics of the revenue and spending of a church but i do understand they can yield a good amount of cash., churches, like all other non profits, must make money to continue to exist., the difference between a non profit and a for profit is that all profits in a non profit go to expand the core mission whereas profits in a for profit can be distributed to the owners., do you want to eliminate deductions for all nonprofits, or only for religious ones?]   \n",
       "1                                 [i believe that a church is like any other profit making business and therefore most pay similar taxes., to the contrary, churches are not businesses and aren't for profit., the simplest answer is that they aren't taxed because not for profit organizations get tax exemptions., a church could randomly decide one day that it was no longer interested in religion and only wants to be a not for profit charity and their tax situation would be the same., of course, with the benefits of tax exempt status comes regulation for example, they are not supposed to be involved in political campaigning.]   \n",
       "2                                                                                                                                                                                                                                                                                                                                                                                                                                                                [i believe that a church is like any other profit making business and therefore most pay similar taxes., why do you believe that profit making businesses should have to pay taxes?]   \n",
       "3                                                                                                                         [so it seems to be common that, when caught cheating, violence is directed toward the person the significant other so cheated with., it is not common, and the vast majority of people do not see it as 'acceptable'., they aren't always surprised when it happens, but that doesn't mean they approve of it., if it seems common, that probably has more to do with how often you hear about it than with how often it occurs., it's not the rarest thing in the world, but it's certainly not something most people do.]   \n",
       "4                                                                                                                                          [you were in a relationship with your so., you had no agreement with the other party., exactly., you have no relationship to this other person., why wouldn't you take out your anger on them?, your mate you might actually want to sort things out with once you calm down, but they person they cheated on you with?, why the fuck would you give a shit about their feelings well being?, well, i mean, that's an explanation for it., i don't know why you're asking us to justify violence, though?]   \n",
       "\n",
       "                                                                                                                                                                                                                                                                                                                                                                                                                                                                                                                                                                                                                          premise_counter_premise_pairs  \\\n",
       "0  [[[i believe that a church is like any other profit making business and therefore most pay similar taxes., i am not a religious person myself so i do not know the complete logistics of the revenue and spending of a church but i do understand they can yield a good amount of cash.], churches, like all other non profits, must make money to continue to exist. the difference between a non profit and a for profit is that all profits in a non profit go to expand the core mission whereas profits in a for profit can be distributed to the owners. do you want to eliminate deductions for all nonprofits, or only for religious ones?]]   \n",
       "1                                  [[[i believe that a church is like any other profit making business and therefore most pay similar taxes.], to the contrary, churches are not businesses and aren't for profit. the simplest answer is that they aren't taxed because not for profit organizations get tax exemptions. a church could randomly decide one day that it was no longer interested in religion and only wants to be a not for profit charity and their tax situation would be the same. of course, with the benefits of tax exempt status comes regulation for example, they are not supposed to be involved in political campaigning.]]   \n",
       "2                                                                                                                                                                                                                                                                                                                                                                                                                                                              [[[i believe that a church is like any other profit making business and therefore most pay similar taxes.], why do you believe that profit making businesses should have to pay taxes?]]   \n",
       "3                                                                                                                          [[[so it seems to be common that, when caught cheating, violence is directed toward the person the significant other so cheated with.], it is not common, and the vast majority of people do not see it as 'acceptable'. they aren't always surprised when it happens, but that doesn't mean they approve of it. if it seems common, that probably has more to do with how often you hear about it than with how often it occurs. it's not the rarest thing in the world, but it's certainly not something most people do.]]   \n",
       "4                                                                                                                                                                                                                                                         [[[you were in a relationship with your so., you had no agreement with the other party.], exactly. you have no relationship to this other person. why wouldn't you take out your anger on them? your mate you might actually want to sort things out with once you calm down, but they person they cheated on you with? why the fuck would you give a shit about their feelings well being?]]   \n",
       "\n",
       "   num_attacks  \n",
       "0            1  \n",
       "1            1  \n",
       "2            1  \n",
       "3            1  \n",
       "4            1  "
      ]
     },
     "execution_count": 4,
     "metadata": {},
     "output_type": "execute_result"
    }
   ],
   "source": [
    "training_df.head()"
   ]
  },
  {
   "cell_type": "code",
   "execution_count": 3,
   "metadata": {},
   "outputs": [],
   "source": [
    "def convert_df(df, path, sample=None):\n",
    "    examples = []\n",
    "    if sample is not None:\n",
    "        df = df.sample(sample)\n",
    "    \n",
    "    for idx, post in df.iterrows():\n",
    "        for attack in post['premise_counter_premise_pairs']:\n",
    "            examples.append(\n",
    "                {\n",
    "                    'conclusion': post['title'],\n",
    "                    'premises': post['post'],\n",
    "                    'weak_premises': attack[0],\n",
    "                    'counter' : attack[1],\n",
    "                }\n",
    "            )\n",
    "    \n",
    "    print('Number of examples: {}'.format(len(examples)))\n",
    "    new_df = pd.DataFrame(examples)\n",
    "    return new_df\n",
    "    #json.dump(examples, open(path, 'w'))"
   ]
  },
  {
   "cell_type": "code",
   "execution_count": 6,
   "metadata": {},
   "outputs": [
    {
     "name": "stdout",
     "output_type": "stream",
     "text": [
      "Number of examples: 90426\n"
     ]
    }
   ],
   "source": [
    "new_training_df = convert_df(training_df, '../data/train.json')"
   ]
  },
  {
   "cell_type": "code",
   "execution_count": 7,
   "metadata": {},
   "outputs": [
    {
     "name": "stdout",
     "output_type": "stream",
     "text": [
      "Number of examples: 29940\n"
     ]
    }
   ],
   "source": [
    "new_valid_df = convert_df(valid_df, '../data/valid.json')"
   ]
  },
  {
   "cell_type": "code",
   "execution_count": 12,
   "metadata": {},
   "outputs": [],
   "source": [
    "new_training_df.to_pickle('../data/train.pkl')\n",
    "new_valid_df.to_pickle('../data/valid.pkl')"
   ]
  },
  {
   "cell_type": "code",
   "execution_count": 10,
   "metadata": {},
   "outputs": [],
   "source": [
    "new_training_df.to_csv('../data/train.csv', index=False)\n",
    "new_valid_df.to_csv('../data/valid.csv', index=False)"
   ]
  },
  {
   "cell_type": "markdown",
   "metadata": {},
   "source": [
    "### Prepare data for conclusion comprehension for CA generation task:"
   ]
  },
  {
   "cell_type": "code",
   "execution_count": 6,
   "metadata": {
    "scrolled": true,
    "tags": []
   },
   "outputs": [],
   "source": [
    "from fuzzywuzzy import fuzz\n",
    "from fuzzywuzzy import process\n",
    "\n",
    "import nltk\n",
    "from nltk.corpus import stopwords\n",
    "en_stopwords = stopwords.words('english')\n",
    "\n",
    "from sentence_transformers import SentenceTransformer, util\n",
    "import torch\n",
    "model = SentenceTransformer('all-MiniLM-L6-v2')"
   ]
  },
  {
   "cell_type": "code",
   "execution_count": 7,
   "metadata": {},
   "outputs": [],
   "source": [
    "def content_token_overlap(text1, text2):\n",
    "    tokens1 = set([x for x in nltk.word_tokenize(text1.lower()) if x not in en_stopwords])\n",
    "    tokens2 = set([x for x in nltk.word_tokenize(text2.lower()) if x not in en_stopwords])\n",
    "    \n",
    "    return round(len(tokens1.intersection(tokens2))/len(tokens1.union(tokens2)), 5)"
   ]
  },
  {
   "cell_type": "code",
   "execution_count": 8,
   "metadata": {},
   "outputs": [],
   "source": [
    "df = pd.read_pickle(data_path + \"jo_data/argument_rebuttals.pkl\")"
   ]
  },
  {
   "cell_type": "markdown",
   "metadata": {},
   "source": [
    "#### Test on a sample:"
   ]
  },
  {
   "cell_type": "code",
   "execution_count": null,
   "metadata": {},
   "outputs": [],
   "source": [
    "sample_df = df.sample(1000)"
   ]
  },
  {
   "cell_type": "code",
   "execution_count": 11,
   "metadata": {},
   "outputs": [],
   "source": [
    "#sample_df['conclusions_in_argument'] = sample_df.apply(lambda x: process.extract(x['title'], x['post'], scorer=fuzz.token_set_ratio, limit=500), axis=1)\n",
    "sample_df['conclusions_in_argument'] = sample_df.apply(lambda x: [(sent, content_token_overlap(x['title'], sent)) for sent in x['post']], axis=1)"
   ]
  },
  {
   "cell_type": "code",
   "execution_count": 47,
   "metadata": {},
   "outputs": [],
   "source": [
    "#Compute semantic similarity\n",
    "sample_df['conclusion_embeddings'] = model.encode(sample_df['title'].tolist()).tolist()\n",
    "sample_df['premises_embeddings'] = sample_df['post'].apply(lambda x: model.encode(x))\n",
    "sample_df['conclusions_in_argument'] = sample_df.apply(lambda x: util.pytorch_cos_sim(torch.tensor(x['conclusion_embeddings']), \n",
    "                                                                                      torch.tensor(x['premises_embeddings'])\n",
    "                                                                ).tolist()[0], axis=1)\n",
    "sample_df['conclusions_in_argument'] = sample_df.apply(lambda x: list(zip(x['post'], x['conclusions_in_argument'])), axis=1)"
   ]
  },
  {
   "cell_type": "code",
   "execution_count": 54,
   "metadata": {
    "scrolled": true,
    "tags": []
   },
   "outputs": [
    {
     "data": {
      "text/html": [
       "<div>\n",
       "<style scoped>\n",
       "    .dataframe tbody tr th:only-of-type {\n",
       "        vertical-align: middle;\n",
       "    }\n",
       "\n",
       "    .dataframe tbody tr th {\n",
       "        vertical-align: top;\n",
       "    }\n",
       "\n",
       "    .dataframe thead th {\n",
       "        text-align: right;\n",
       "    }\n",
       "</style>\n",
       "<table border=\"1\" class=\"dataframe\">\n",
       "  <thead>\n",
       "    <tr style=\"text-align: right;\">\n",
       "      <th></th>\n",
       "      <th>title</th>\n",
       "      <th>post</th>\n",
       "      <th>conclusions_in_argument</th>\n",
       "    </tr>\n",
       "  </thead>\n",
       "  <tbody>\n",
       "    <tr>\n",
       "      <th>290103</th>\n",
       "      <td>Shaming women for sleeping with many is no better than shaming men for sleeping with few</td>\n",
       "      <td>[i see this a lot, where women say it's unfair to get shamed for sleeping around, but when men do they're praised for it, called a 'player', 'stud', etc., but nobody talks about how men get shamed for still being a virgin or 'not getting some', while women get praised for it., at the end of the day, aren't people getting shamed both ways for being themselves?, 'patriarchy' won't change my mind, as both are parties that are getting hurt., whether or not a guy being shamed is of the same gender that created the rules in the first place makes no difference to me, and i fail to see why it should., in my opinion, that's like saying people in the middle east shouldn't complain because their dictator shares the same nationality., the 'accusers' are both men and women as well, for either shaming., since both demographics are guilty of this, why should there be a difference?, going away for a bit, i'll probably read responses, though i can't promise to reply., thanks to everyone who took the effort to give me perspective!]</td>\n",
       "      <td>[(i see this a lot, where women say it's unfair to get shamed for sleeping around, but when men do they're praised for it, called a 'player', 'stud', etc., 0.5033611059188843), (but nobody talks about how men get shamed for still being a virgin or 'not getting some', while women get praised for it., 0.45310935378074646), (at the end of the day, aren't people getting shamed both ways for being themselves?, 0.32762911915779114), ('patriarchy' won't change my mind, as both are parties that are getting hurt., 0.33749765157699585), (whether or not a guy being shamed is of the same gender that created the rules in the first place makes no difference to me, and i fail to see why it should., 0.4704388380050659), (in my opinion, that's like saying people in the middle east shouldn't complain because their dictator shares the same nationality., 0.2672026753425598), (the 'accusers' are both men and women as well, for either shaming., 0.552834689617157), (since both demographics are guilty of this, why should there be a difference?, 0.336520254611969), (going away for a bit, i'll probably read responses, though i can't promise to reply., 0.10098472982645035), (thanks to everyone who took the effort to give me perspective!, 0.1411144733428955)]</td>\n",
       "    </tr>\n",
       "    <tr>\n",
       "      <th>262589</th>\n",
       "      <td>If you know your friend's significant other is cheating on her, you should not tell her.</td>\n",
       "      <td>[scenario: you have a close female friend., you find information that 100 demonstrates her significant other boyfriend, husband, girlfriend, wife is cheating on her., you should not tell her anything point blank., i once had a close friend whose boyfriend kept hitting on me for months., i finally told her., she didn't thank me., she said i was making it up because i wanted him for myself., she stopped speaking to me., a second time me and my friend karlie found out our friend's june's boyfriend was cheating and asking girls to come to his house to fuck him., we told june., june didn't believe us., we stayed friends but things got weird., third time broke the camel's back for me., i caught my best friend's boyfriend holding hands with another girl., i told her., he actually didn't deny it., they broke up., then she took him back., he was awkward around me afterwards., i know my experience may be anecdotal but 'shooting the messenger' is 100 real., people don't want to accept things that are painful., sometimes the truth is too painful to accept., instead of accepting it, they would rather shoot the messenger and hope that he she is lying rather than accept the truth., your friend is not going to want to believe her husband boyfriend is cheating., she's going to shoot you as the messenger., telling her risks damaging your friendship., 1 she's either not going to believe you., and or she'll turn it on you, shoot you as the messenger and that will affect your friendship., 2 if you have 100 proof that he's cheating, don't think your problems won't be so great., she still might shoot the messenger., she has to be angry at someone., she's not going to want to be angry with him, so she's going to lash her anger on you., or imagine if she sees the proof, but forgives him, or takes him back., every time she sees you it will remind her of his infidelity, and it will put you and your friendship in a compromising position., imagine how uncomfortable it will be for him to be around you knowing you ratted him out the first time., he might just get her to turn against you or make her distance herself from you., i think for the sake of preserving your friendship, you should pretend you don't know anything.]</td>\n",
       "      <td>[(scenario: you have a close female friend., 0.4608636498451233), (you find information that 100 demonstrates her significant other boyfriend, husband, girlfriend, wife is cheating on her., 0.44560033082962036), (you should not tell her anything point blank., 0.47355973720550537), (i once had a close friend whose boyfriend kept hitting on me for months., 0.2932227849960327), (i finally told her., 0.3399260938167572), (she didn't thank me., 0.14144739508628845), (she said i was making it up because i wanted him for myself., 0.24966466426849365), (she stopped speaking to me., 0.1269458383321762), (a second time me and my friend karlie found out our friend's june's boyfriend was cheating and asking girls to come to his house to fuck him., 0.4063212275505066), (we told june., 0.10412606596946716), (june didn't believe us., 0.013479788787662983), (we stayed friends but things got weird., 0.16105791926383972), (third time broke the camel's back for me., 0.01407548412680626), (i caught my best friend's boyfriend holding hands with another girl., 0.4584948718547821), (i told her., 0.35941949486732483), (he actually didn't deny it., 0.17056645452976227), (they broke up., 0.10108734667301178), (then she took him back., 0.18650037050247192), (he was awkward around me afterwards., 0.06080975756049156), (i know my experience may be anecdotal but 'shooting the messenger' is 100 real., 0.08207506686449051), (people don't want to accept things that are painful., -0.019714226946234703), (sometimes the truth is too painful to accept., 0.06558113545179367), (instead of accepting it, they would rather shoot the messenger and hope that he she is lying rather than accept the truth., 0.298552930355072), (your friend is not going to want to believe her husband boyfriend is cheating., 0.675557017326355), (she's going to shoot you as the messenger., 0.2137022614479065), (telling her risks damaging your friendship., 0.5580143928527832), (1 she's either not going to believe you., 0.2631455063819885), (and or she'll turn it on you, shoot you as the messenger and that will affect your friendship., 0.406234472990036), (2 if you have 100 proof that he's cheating, don't think your problems won't be so great., 0.35977545380592346), (she still might shoot the messenger., 0.2530425488948822), (she has to be angry at someone., 0.26239821314811707), (she's not going to want to be angry with him, so she's going to lash her anger on you., 0.3427543044090271), (or imagine if she sees the proof, but forgives him, or takes him back., 0.34219783544540405), (every time she sees you it will remind her of his infidelity, and it will put you and your friendship in a compromising position., 0.5617641806602478), (imagine how uncomfortable it will be for him to be around you knowing you ratted him out the first time., 0.2165759801864624), (he might just get her to turn against you or make her distance herself from you., 0.2786720395088196), (i think for the sake of preserving your friendship, you should pretend you don't know anything., 0.35419991612434387)]</td>\n",
       "    </tr>\n",
       "    <tr>\n",
       "      <th>53431</th>\n",
       "      <td>I think Niccolo Machiavelli has an undeservedly poor reputation.</td>\n",
       "      <td>[it seems to me that niccolo machiavelli has an undeservedly poor legacy., the term machiavellian comes to mind we only ever use it to refer to political realists who do bad things., for example, the fictional character francis underwood from house of cards is frequently called the picture of a machiavellian character., while i would say that this is true, i think that it leads to an undue association between machaivelli and being bad ., i've read the prince and i'm partway through discourses on livy and neither of them ever outright endorses doing evil things., if nothing else, it seems to me like machiavelli only ever advocated doing morally questionable things if it would end up being either for the greater good or the preservation of the state with the preservation of the state being inherently neither good nor bad ., what is perhaps worse in my view is that machiavelli seems to only be popularly known for the prince , a rather short work at least compared to discourses that, it's my understanding, was written with the goal of getting into the good graces of the medici family and for little other reason., now, i'm not one of those who will argue that it's a satire i think an honest reading of the prince itself shows that it is clearly serious but i would argue that the prince is not the most accurate picture of machiavelli's view of politics., history and discourses as well as one of the first chapters in the prince show us that machiavelli was much more in favor of a republic of the people rather than an autocracy., i think that's all, for now., i feel like i'm missing something or maybe formatted what i did write rather poorly, but i can't exactly figure how i would want to fix it right now, either.]</td>\n",
       "      <td>[(it seems to me that niccolo machiavelli has an undeservedly poor legacy., 0.8205562829971313), (the term machiavellian comes to mind we only ever use it to refer to political realists who do bad things., 0.522111177444458), (for example, the fictional character francis underwood from house of cards is frequently called the picture of a machiavellian character., 0.40450960397720337), (while i would say that this is true, i think that it leads to an undue association between machaivelli and being bad ., 0.6246120929718018), (i've read the prince and i'm partway through discourses on livy and neither of them ever outright endorses doing evil things., 0.40886950492858887), (if nothing else, it seems to me like machiavelli only ever advocated doing morally questionable things if it would end up being either for the greater good or the preservation of the state with the preservation of the state being inherently neither good nor bad ., 0.5931152701377869), (what is perhaps worse in my view is that machiavelli seems to only be popularly known for the prince , a rather short work at least compared to discourses that, it's my understanding, was written with the goal of getting into the good graces of the medici family and for little other reason., 0.6545915603637695), (now, i'm not one of those who will argue that it's a satire i think an honest reading of the prince itself shows that it is clearly serious but i would argue that the prince is not the most accurate picture of machiavelli's view of politics., 0.5333380699157715), (history and discourses as well as one of the first chapters in the prince show us that machiavelli was much more in favor of a republic of the people rather than an autocracy., 0.49781712889671326), (i think that's all, for now., 0.1129864752292633), (i feel like i'm missing something or maybe formatted what i did write rather poorly, but i can't exactly figure how i would want to fix it right now, either., 0.06864472478628159)]</td>\n",
       "    </tr>\n",
       "    <tr>\n",
       "      <th>387208</th>\n",
       "      <td>Dual loyalty to two countries is impossible</td>\n",
       "      <td>[i believe it is inherently impossible to claim that you are loyal to two counties sovereign states., my view basically boils down to one question., if, at some point, both countries were at war and asking you to fight for them, who would you choose?, you can't say neither, and your answer is who you're loyal to., this works purely as a theoretical question., doesn't matter if the situation will likely never arise, the answer shows which countries interests you care about more., even the closest allies have times where they disagree on matters, and sometimes those matters are purely because both countries only stand to benefit from opposite resolutions., not necessarily right or wrong, just who do i want coming out on top., so my view is that because countries always have their own self interests at heart, they will eventually have conflicts even with their allies again, no right or wrong, just who comes out on top , and having to choose a side in the conflict is your loyalty., the fact that these countries may not currently have conflict has absolutely not bearing on this.]</td>\n",
       "      <td>[(i believe it is inherently impossible to claim that you are loyal to two counties sovereign states., 0.5237057209014893), (my view basically boils down to one question., 0.10486392676830292), (if, at some point, both countries were at war and asking you to fight for them, who would you choose?, 0.33221620321273804), (you can't say neither, and your answer is who you're loyal to., 0.2211238145828247), (this works purely as a theoretical question., 0.15174034237861633), (doesn't matter if the situation will likely never arise, the answer shows which countries interests you care about more., 0.38977453112602234), (even the closest allies have times where they disagree on matters, and sometimes those matters are purely because both countries only stand to benefit from opposite resolutions., 0.44510453939437866), (not necessarily right or wrong, just who do i want coming out on top., 0.11762990057468414), (so my view is that because countries always have their own self interests at heart, they will eventually have conflicts even with their allies again, no right or wrong, just who comes out on top , and having to choose a side in the conflict is your loyalty., 0.5874720811843872), (the fact that these countries may not currently have conflict has absolutely not bearing on this., 0.3360975980758667)]</td>\n",
       "    </tr>\n",
       "    <tr>\n",
       "      <th>285839</th>\n",
       "      <td>I believe that sex education should be in the home from parents and not the jobs of educators at school.</td>\n",
       "      <td>[i think it shouldn t be the job of people at school to teach sex education because., 1., a lot of times they teach abstinence is the only form of safe sex and that s extremely dangerous because that s when you have the problems of teen pregnancy because we were all teens once and seriously?, you re going to tell me that i can never experiment sexually, at all., then teens go, and they aren t on b c and have never even learned about different forms of sex from anywhere besides possibly porn., now they ve got an entirely skewed view on sex., then they end in shame or don t know about consent and that s how we end up with rape culture 2., it ends up being like that scene from mean girls don t have sex because you ll get pregnant and die., here s some condoms 3., it becomes a joke because you always have the class clowns that turn it into a joke when there s actually kids that are curious but too afraid to ask., then sex isn t taken seriously., 4., you really want someone you ve met at most once or twice maybe if your lucky 4 times once per quarter teaching your kids about something that detrimental in literally everyone s life?]</td>\n",
       "      <td>[(i think it shouldn t be the job of people at school to teach sex education because., 0.8578989505767822), (1., -0.0358453169465065), (a lot of times they teach abstinence is the only form of safe sex and that s extremely dangerous because that s when you have the problems of teen pregnancy because we were all teens once and seriously?, 0.46461886167526245), (you re going to tell me that i can never experiment sexually, at all., 0.2142387181520462), (then teens go, and they aren t on b c and have never even learned about different forms of sex from anywhere besides possibly porn., 0.4366942048072815), (now they ve got an entirely skewed view on sex., 0.38941001892089844), (then they end in shame or don t know about consent and that s how we end up with rape culture 2., 0.3235386610031128), (it ends up being like that scene from mean girls don t have sex because you ll get pregnant and die., 0.2665000259876251), (here s some condoms 3., 0.15831732749938965), (it becomes a joke because you always have the class clowns that turn it into a joke when there s actually kids that are curious but too afraid to ask., 0.2873208522796631), (then sex isn t taken seriously., 0.36585360765457153), (4., -0.03017510287463665), (you really want someone you ve met at most once or twice maybe if your lucky 4 times once per quarter teaching your kids about something that detrimental in literally everyone s life?, 0.24228256940841675)]</td>\n",
       "    </tr>\n",
       "  </tbody>\n",
       "</table>\n",
       "</div>"
      ],
      "text/plain": [
       "                                                                                                            title  \\\n",
       "290103                   Shaming women for sleeping with many is no better than shaming men for sleeping with few   \n",
       "262589                   If you know your friend's significant other is cheating on her, you should not tell her.   \n",
       "53431                                            I think Niccolo Machiavelli has an undeservedly poor reputation.   \n",
       "387208                                                                Dual loyalty to two countries is impossible   \n",
       "285839   I believe that sex education should be in the home from parents and not the jobs of educators at school.   \n",
       "\n",
       "                                                                                                                                                                                                                                                                                                                                                                                                                                                                                                                                                                                                                                                                                                                                                                                                                                                                                                                                                                                                                                                                                                                                                                                                                                                                                                                                                                                                                                                                                                                                                                                                                                                                                                                                                                                                                                                                                                                                                                                                                                                                                                                                                                                                                                                                                                                         post  \\\n",
       "290103                                                                                                                                                                                                                                                                                                                                                                                                                                                                                                                                                                                                                                                                                                                                                                                                                                                                                                                                                                                                                                                                                                                                                                                                                                                  [i see this a lot, where women say it's unfair to get shamed for sleeping around, but when men do they're praised for it, called a 'player', 'stud', etc., but nobody talks about how men get shamed for still being a virgin or 'not getting some', while women get praised for it., at the end of the day, aren't people getting shamed both ways for being themselves?, 'patriarchy' won't change my mind, as both are parties that are getting hurt., whether or not a guy being shamed is of the same gender that created the rules in the first place makes no difference to me, and i fail to see why it should., in my opinion, that's like saying people in the middle east shouldn't complain because their dictator shares the same nationality., the 'accusers' are both men and women as well, for either shaming., since both demographics are guilty of this, why should there be a difference?, going away for a bit, i'll probably read responses, though i can't promise to reply., thanks to everyone who took the effort to give me perspective!]   \n",
       "262589  [scenario: you have a close female friend., you find information that 100 demonstrates her significant other boyfriend, husband, girlfriend, wife is cheating on her., you should not tell her anything point blank., i once had a close friend whose boyfriend kept hitting on me for months., i finally told her., she didn't thank me., she said i was making it up because i wanted him for myself., she stopped speaking to me., a second time me and my friend karlie found out our friend's june's boyfriend was cheating and asking girls to come to his house to fuck him., we told june., june didn't believe us., we stayed friends but things got weird., third time broke the camel's back for me., i caught my best friend's boyfriend holding hands with another girl., i told her., he actually didn't deny it., they broke up., then she took him back., he was awkward around me afterwards., i know my experience may be anecdotal but 'shooting the messenger' is 100 real., people don't want to accept things that are painful., sometimes the truth is too painful to accept., instead of accepting it, they would rather shoot the messenger and hope that he she is lying rather than accept the truth., your friend is not going to want to believe her husband boyfriend is cheating., she's going to shoot you as the messenger., telling her risks damaging your friendship., 1 she's either not going to believe you., and or she'll turn it on you, shoot you as the messenger and that will affect your friendship., 2 if you have 100 proof that he's cheating, don't think your problems won't be so great., she still might shoot the messenger., she has to be angry at someone., she's not going to want to be angry with him, so she's going to lash her anger on you., or imagine if she sees the proof, but forgives him, or takes him back., every time she sees you it will remind her of his infidelity, and it will put you and your friendship in a compromising position., imagine how uncomfortable it will be for him to be around you knowing you ratted him out the first time., he might just get her to turn against you or make her distance herself from you., i think for the sake of preserving your friendship, you should pretend you don't know anything.]   \n",
       "53431                                                                                                                                                                                                                                                                                                                                                                                                                                                                                                                 [it seems to me that niccolo machiavelli has an undeservedly poor legacy., the term machiavellian comes to mind we only ever use it to refer to political realists who do bad things., for example, the fictional character francis underwood from house of cards is frequently called the picture of a machiavellian character., while i would say that this is true, i think that it leads to an undue association between machaivelli and being bad ., i've read the prince and i'm partway through discourses on livy and neither of them ever outright endorses doing evil things., if nothing else, it seems to me like machiavelli only ever advocated doing morally questionable things if it would end up being either for the greater good or the preservation of the state with the preservation of the state being inherently neither good nor bad ., what is perhaps worse in my view is that machiavelli seems to only be popularly known for the prince , a rather short work at least compared to discourses that, it's my understanding, was written with the goal of getting into the good graces of the medici family and for little other reason., now, i'm not one of those who will argue that it's a satire i think an honest reading of the prince itself shows that it is clearly serious but i would argue that the prince is not the most accurate picture of machiavelli's view of politics., history and discourses as well as one of the first chapters in the prince show us that machiavelli was much more in favor of a republic of the people rather than an autocracy., i think that's all, for now., i feel like i'm missing something or maybe formatted what i did write rather poorly, but i can't exactly figure how i would want to fix it right now, either.]   \n",
       "387208                                                                                                                                                                                                                                                                                                                                                                                                                                                                                                                                                                                                                                                                                                                                                                                                                                                                                                                                                                                                                                                                                                                                                                                    [i believe it is inherently impossible to claim that you are loyal to two counties sovereign states., my view basically boils down to one question., if, at some point, both countries were at war and asking you to fight for them, who would you choose?, you can't say neither, and your answer is who you're loyal to., this works purely as a theoretical question., doesn't matter if the situation will likely never arise, the answer shows which countries interests you care about more., even the closest allies have times where they disagree on matters, and sometimes those matters are purely because both countries only stand to benefit from opposite resolutions., not necessarily right or wrong, just who do i want coming out on top., so my view is that because countries always have their own self interests at heart, they will eventually have conflicts even with their allies again, no right or wrong, just who comes out on top , and having to choose a side in the conflict is your loyalty., the fact that these countries may not currently have conflict has absolutely not bearing on this.]   \n",
       "285839                                                                                                                                                                                                                                                                                                                                                                                                                                                                                                                                                                                                                                                                                                                                                                                                                                                                                                                                                                                                                                                                                                                               [i think it shouldn t be the job of people at school to teach sex education because., 1., a lot of times they teach abstinence is the only form of safe sex and that s extremely dangerous because that s when you have the problems of teen pregnancy because we were all teens once and seriously?, you re going to tell me that i can never experiment sexually, at all., then teens go, and they aren t on b c and have never even learned about different forms of sex from anywhere besides possibly porn., now they ve got an entirely skewed view on sex., then they end in shame or don t know about consent and that s how we end up with rape culture 2., it ends up being like that scene from mean girls don t have sex because you ll get pregnant and die., here s some condoms 3., it becomes a joke because you always have the class clowns that turn it into a joke when there s actually kids that are curious but too afraid to ask., then sex isn t taken seriously., 4., you really want someone you ve met at most once or twice maybe if your lucky 4 times once per quarter teaching your kids about something that detrimental in literally everyone s life?]   \n",
       "\n",
       "                                                                                                                                                                                                                                                                                                                                                                                                                                                                                                                                                                                                                                                                                                                                                                                                                                                                                                                                                                                                                                                                                                                                                                                                                                                                                                                                                                                                                                                                                                                                                                                                                                                                                                                                                                                                                                                                                                                                                                                                                                                                                                                                                                                                                                                                                                                                                                                                                                                                                                                                                                                                                                                                                                                                                                                                                                                                                                                                                                                                                                                                                                                                                                        conclusions_in_argument  \n",
       "290103                                                                                                                                                                                                                                                                                                                                                                                                                                                                                                                                                                                                                                                                                                                                                                                                                                                                                                                                                                                                                                                                                                                                                                                                                                                                                                                                                                                                                                                                                                                                                                                                                                                                                                                                                                                                                                                                                      [(i see this a lot, where women say it's unfair to get shamed for sleeping around, but when men do they're praised for it, called a 'player', 'stud', etc., 0.5033611059188843), (but nobody talks about how men get shamed for still being a virgin or 'not getting some', while women get praised for it., 0.45310935378074646), (at the end of the day, aren't people getting shamed both ways for being themselves?, 0.32762911915779114), ('patriarchy' won't change my mind, as both are parties that are getting hurt., 0.33749765157699585), (whether or not a guy being shamed is of the same gender that created the rules in the first place makes no difference to me, and i fail to see why it should., 0.4704388380050659), (in my opinion, that's like saying people in the middle east shouldn't complain because their dictator shares the same nationality., 0.2672026753425598), (the 'accusers' are both men and women as well, for either shaming., 0.552834689617157), (since both demographics are guilty of this, why should there be a difference?, 0.336520254611969), (going away for a bit, i'll probably read responses, though i can't promise to reply., 0.10098472982645035), (thanks to everyone who took the effort to give me perspective!, 0.1411144733428955)]  \n",
       "262589  [(scenario: you have a close female friend., 0.4608636498451233), (you find information that 100 demonstrates her significant other boyfriend, husband, girlfriend, wife is cheating on her., 0.44560033082962036), (you should not tell her anything point blank., 0.47355973720550537), (i once had a close friend whose boyfriend kept hitting on me for months., 0.2932227849960327), (i finally told her., 0.3399260938167572), (she didn't thank me., 0.14144739508628845), (she said i was making it up because i wanted him for myself., 0.24966466426849365), (she stopped speaking to me., 0.1269458383321762), (a second time me and my friend karlie found out our friend's june's boyfriend was cheating and asking girls to come to his house to fuck him., 0.4063212275505066), (we told june., 0.10412606596946716), (june didn't believe us., 0.013479788787662983), (we stayed friends but things got weird., 0.16105791926383972), (third time broke the camel's back for me., 0.01407548412680626), (i caught my best friend's boyfriend holding hands with another girl., 0.4584948718547821), (i told her., 0.35941949486732483), (he actually didn't deny it., 0.17056645452976227), (they broke up., 0.10108734667301178), (then she took him back., 0.18650037050247192), (he was awkward around me afterwards., 0.06080975756049156), (i know my experience may be anecdotal but 'shooting the messenger' is 100 real., 0.08207506686449051), (people don't want to accept things that are painful., -0.019714226946234703), (sometimes the truth is too painful to accept., 0.06558113545179367), (instead of accepting it, they would rather shoot the messenger and hope that he she is lying rather than accept the truth., 0.298552930355072), (your friend is not going to want to believe her husband boyfriend is cheating., 0.675557017326355), (she's going to shoot you as the messenger., 0.2137022614479065), (telling her risks damaging your friendship., 0.5580143928527832), (1 she's either not going to believe you., 0.2631455063819885), (and or she'll turn it on you, shoot you as the messenger and that will affect your friendship., 0.406234472990036), (2 if you have 100 proof that he's cheating, don't think your problems won't be so great., 0.35977545380592346), (she still might shoot the messenger., 0.2530425488948822), (she has to be angry at someone., 0.26239821314811707), (she's not going to want to be angry with him, so she's going to lash her anger on you., 0.3427543044090271), (or imagine if she sees the proof, but forgives him, or takes him back., 0.34219783544540405), (every time she sees you it will remind her of his infidelity, and it will put you and your friendship in a compromising position., 0.5617641806602478), (imagine how uncomfortable it will be for him to be around you knowing you ratted him out the first time., 0.2165759801864624), (he might just get her to turn against you or make her distance herself from you., 0.2786720395088196), (i think for the sake of preserving your friendship, you should pretend you don't know anything., 0.35419991612434387)]  \n",
       "53431                                                                                                                                                                                                                                                                                                                                                                                                                                                                                                                                                                                                                                                                                                                                                                                                                                                                                                                                                                                                                                                                                                                              [(it seems to me that niccolo machiavelli has an undeservedly poor legacy., 0.8205562829971313), (the term machiavellian comes to mind we only ever use it to refer to political realists who do bad things., 0.522111177444458), (for example, the fictional character francis underwood from house of cards is frequently called the picture of a machiavellian character., 0.40450960397720337), (while i would say that this is true, i think that it leads to an undue association between machaivelli and being bad ., 0.6246120929718018), (i've read the prince and i'm partway through discourses on livy and neither of them ever outright endorses doing evil things., 0.40886950492858887), (if nothing else, it seems to me like machiavelli only ever advocated doing morally questionable things if it would end up being either for the greater good or the preservation of the state with the preservation of the state being inherently neither good nor bad ., 0.5931152701377869), (what is perhaps worse in my view is that machiavelli seems to only be popularly known for the prince , a rather short work at least compared to discourses that, it's my understanding, was written with the goal of getting into the good graces of the medici family and for little other reason., 0.6545915603637695), (now, i'm not one of those who will argue that it's a satire i think an honest reading of the prince itself shows that it is clearly serious but i would argue that the prince is not the most accurate picture of machiavelli's view of politics., 0.5333380699157715), (history and discourses as well as one of the first chapters in the prince show us that machiavelli was much more in favor of a republic of the people rather than an autocracy., 0.49781712889671326), (i think that's all, for now., 0.1129864752292633), (i feel like i'm missing something or maybe formatted what i did write rather poorly, but i can't exactly figure how i would want to fix it right now, either., 0.06864472478628159)]  \n",
       "387208                                                                                                                                                                                                                                                                                                                                                                                                                                                                                                                                                                                                                                                                                                                                                                                                                                                                                                                                                                                                                                                                                                                                                                                                                                                                                                                                                                                                                                                                                                                                                                                                                                                                                                                                                                                                                    [(i believe it is inherently impossible to claim that you are loyal to two counties sovereign states., 0.5237057209014893), (my view basically boils down to one question., 0.10486392676830292), (if, at some point, both countries were at war and asking you to fight for them, who would you choose?, 0.33221620321273804), (you can't say neither, and your answer is who you're loyal to., 0.2211238145828247), (this works purely as a theoretical question., 0.15174034237861633), (doesn't matter if the situation will likely never arise, the answer shows which countries interests you care about more., 0.38977453112602234), (even the closest allies have times where they disagree on matters, and sometimes those matters are purely because both countries only stand to benefit from opposite resolutions., 0.44510453939437866), (not necessarily right or wrong, just who do i want coming out on top., 0.11762990057468414), (so my view is that because countries always have their own self interests at heart, they will eventually have conflicts even with their allies again, no right or wrong, just who comes out on top , and having to choose a side in the conflict is your loyalty., 0.5874720811843872), (the fact that these countries may not currently have conflict has absolutely not bearing on this., 0.3360975980758667)]  \n",
       "285839                                                                                                                                                                                                                                                                                                                                                                                                                                                                                                                                                                                                                                                                                                                                                                                                                                                                                                                                                                                                                                                                                                                                                                                                                                                                                                                                                                                                                                                                                                                                                                                                                                                                                           [(i think it shouldn t be the job of people at school to teach sex education because., 0.8578989505767822), (1., -0.0358453169465065), (a lot of times they teach abstinence is the only form of safe sex and that s extremely dangerous because that s when you have the problems of teen pregnancy because we were all teens once and seriously?, 0.46461886167526245), (you re going to tell me that i can never experiment sexually, at all., 0.2142387181520462), (then teens go, and they aren t on b c and have never even learned about different forms of sex from anywhere besides possibly porn., 0.4366942048072815), (now they ve got an entirely skewed view on sex., 0.38941001892089844), (then they end in shame or don t know about consent and that s how we end up with rape culture 2., 0.3235386610031128), (it ends up being like that scene from mean girls don t have sex because you ll get pregnant and die., 0.2665000259876251), (here s some condoms 3., 0.15831732749938965), (it becomes a joke because you always have the class clowns that turn it into a joke when there s actually kids that are curious but too afraid to ask., 0.2873208522796631), (then sex isn t taken seriously., 0.36585360765457153), (4., -0.03017510287463665), (you really want someone you ve met at most once or twice maybe if your lucky 4 times once per quarter teaching your kids about something that detrimental in literally everyone s life?, 0.24228256940841675)]  "
      ]
     },
     "execution_count": 54,
     "metadata": {},
     "output_type": "execute_result"
    }
   ],
   "source": [
    "sample_df[['title', 'post', 'conclusions_in_argument']].head()"
   ]
  },
  {
   "cell_type": "code",
   "execution_count": 55,
   "metadata": {},
   "outputs": [],
   "source": [
    "similarity_dist = [cand[1] for cands in sample_df['conclusions_in_argument'].tolist() for cand in cands]"
   ]
  },
  {
   "cell_type": "code",
   "execution_count": 56,
   "metadata": {},
   "outputs": [
    {
     "data": {
      "image/png": "[encoded data removed]",
      "text/plain": [
       "<Figure size 432x288 with 1 Axes>"
      ]
     },
     "metadata": {
      "needs_background": "light"
     },
     "output_type": "display_data"
    }
   ],
   "source": [
    "plt.hist(similarity_dist, bins=np.arange(0, 1, 0.1))\n",
    "plt.show()"
   ]
  },
  {
   "cell_type": "code",
   "execution_count": 69,
   "metadata": {},
   "outputs": [],
   "source": [
    "sample_df['top_conclusions_in_argument'] = sample_df['conclusions_in_argument'].apply(lambda item: [x for x in item if x[1] > 0.75])"
   ]
  },
  {
   "cell_type": "code",
   "execution_count": 70,
   "metadata": {},
   "outputs": [
    {
     "data": {
      "text/plain": [
       "294"
      ]
     },
     "execution_count": 70,
     "metadata": {},
     "output_type": "execute_result"
    }
   ],
   "source": [
    "len(sample_df[sample_df['top_conclusions_in_argument'].str.len() > 0])"
   ]
  },
  {
   "cell_type": "code",
   "execution_count": 71,
   "metadata": {
    "scrolled": true,
    "tags": []
   },
   "outputs": [
    {
     "data": {
      "text/html": [
       "<div>\n",
       "<style scoped>\n",
       "    .dataframe tbody tr th:only-of-type {\n",
       "        vertical-align: middle;\n",
       "    }\n",
       "\n",
       "    .dataframe tbody tr th {\n",
       "        vertical-align: top;\n",
       "    }\n",
       "\n",
       "    .dataframe thead th {\n",
       "        text-align: right;\n",
       "    }\n",
       "</style>\n",
       "<table border=\"1\" class=\"dataframe\">\n",
       "  <thead>\n",
       "    <tr style=\"text-align: right;\">\n",
       "      <th></th>\n",
       "      <th>title</th>\n",
       "      <th>top_conclusions_in_argument</th>\n",
       "    </tr>\n",
       "  </thead>\n",
       "  <tbody>\n",
       "    <tr>\n",
       "      <th>53431</th>\n",
       "      <td>I think Niccolo Machiavelli has an undeservedly poor reputation.</td>\n",
       "      <td>[(it seems to me that niccolo machiavelli has an undeservedly poor legacy., 0.8205562829971313)]</td>\n",
       "    </tr>\n",
       "    <tr>\n",
       "      <th>285839</th>\n",
       "      <td>I believe that sex education should be in the home from parents and not the jobs of educators at school.</td>\n",
       "      <td>[(i think it shouldn t be the job of people at school to teach sex education because., 0.8578989505767822)]</td>\n",
       "    </tr>\n",
       "    <tr>\n",
       "      <th>442976</th>\n",
       "      <td>Dr. Phil and similar TV shows are the modern, socially acceptable equivalent of circus freak shows</td>\n",
       "      <td>[(shows like dr. phil are not much different from a freak show., 0.801140546798706)]</td>\n",
       "    </tr>\n",
       "    <tr>\n",
       "      <th>435963</th>\n",
       "      <td>Transgender/trans-affirming people cannot define the word “man” or “woman”</td>\n",
       "      <td>[(but so far, i have yet to hear a clear, meaningful definition of the term man or woman from someone who affirms transgenderism., 0.8030619025230408), (when i ask transgender trans affirming people for a definition, i typically get answers like this: a man is someone who says they are a man , a man is someone who experiences life as a man ., 0.7689554691314697)]</td>\n",
       "    </tr>\n",
       "    <tr>\n",
       "      <th>392617</th>\n",
       "      <td>Nothing I can do as a cyclist will ever make drivers stop hating me.</td>\n",
       "      <td>[(it seems like, no matter what i do, drivers will hate me and want me to stop riding., 0.7634909749031067), (i'm not going to stop, but it really feels like i'm doing everything that can be reasonably expected of a cyclist and drivers still hate me being on the road., 0.8047007322311401)]</td>\n",
       "    </tr>\n",
       "    <tr>\n",
       "      <th>...</th>\n",
       "      <td>...</td>\n",
       "      <td>...</td>\n",
       "    </tr>\n",
       "    <tr>\n",
       "      <th>314122</th>\n",
       "      <td>Dark Souls isn’t as great of a game as everyone says it and the difficulty seems like a gimmick.</td>\n",
       "      <td>[(i want to clarify a few things before i start: 1 i m in no way saying that dark souls is a bad game, just overrated., 0.7539910674095154), (now my argument is that the original dark souls is only rated so highly because a lot of mainstream games nowadays aren t very difficult., 0.782929003238678), (i do like it when a game is challenging but i m arguing that dark souls is only difficult because it creates unfair situations for the player., 0.8246773481369019)]</td>\n",
       "    </tr>\n",
       "    <tr>\n",
       "      <th>41530</th>\n",
       "      <td>I believe a fetus has rights worth protecting.</td>\n",
       "      <td>[(i simply believe that since there can be no informed decision made by the fetus, we have an obligation to protect it., 0.8215245008468628)]</td>\n",
       "    </tr>\n",
       "    <tr>\n",
       "      <th>339971</th>\n",
       "      <td>There should be no separate minimum wage for waiters or \"tipped\" employees. And tipping should not be a social \"expectation\" in pretty much every dining situation &amp;amp; other places where tips are \"expected\" as a given. Waiters &amp;amp; others should get paid a fair market wage by employers.</td>\n",
       "      <td>[(i think that waiters, hairdressers, valets, and other professions who have a tipping expectation should just be paid a fair market wage paid by their employers and there should be no pressure or expectation of tips from pretty much every customer., 0.8191947340965271)]</td>\n",
       "    </tr>\n",
       "    <tr>\n",
       "      <th>467351</th>\n",
       "      <td>you have no moral obligation to disclose the fact that a meal is vegan to people eating it</td>\n",
       "      <td>[(so, why should people have to 'disclose' that a meal is vegan?, 0.8401384949684143)]</td>\n",
       "    </tr>\n",
       "    <tr>\n",
       "      <th>470751</th>\n",
       "      <td>People who can't afford kids shouldn't have them.</td>\n",
       "      <td>[(i'm not opposed to this happening, but it is worth noting it wouldnt generally even have to be a thing if people who cant afford kids didnt have them., 0.7804848551750183)]</td>\n",
       "    </tr>\n",
       "  </tbody>\n",
       "</table>\n",
       "<p>100 rows × 2 columns</p>\n",
       "</div>"
      ],
      "text/plain": [
       "                                                                                                                                                                                                                                                                                                     title  \\\n",
       "53431                                                                                                                                                                                                                                     I think Niccolo Machiavelli has an undeservedly poor reputation.   \n",
       "285839                                                                                                                                                                                            I believe that sex education should be in the home from parents and not the jobs of educators at school.   \n",
       "442976                                                                                                                                                                                                  Dr. Phil and similar TV shows are the modern, socially acceptable equivalent of circus freak shows   \n",
       "435963                                                                                                                                                                                                                          Transgender/trans-affirming people cannot define the word “man” or “woman”   \n",
       "392617                                                                                                                                                                                                                                Nothing I can do as a cyclist will ever make drivers stop hating me.   \n",
       "...                                                                                                                                                                                                                                                                                                    ...   \n",
       "314122                                                                                                                                                                                                    Dark Souls isn’t as great of a game as everyone says it and the difficulty seems like a gimmick.   \n",
       "41530                                                                                                                                                                                                                                                       I believe a fetus has rights worth protecting.   \n",
       "339971   There should be no separate minimum wage for waiters or \"tipped\" employees. And tipping should not be a social \"expectation\" in pretty much every dining situation &amp; other places where tips are \"expected\" as a given. Waiters &amp; others should get paid a fair market wage by employers.   \n",
       "467351                                                                                                                                                                                                          you have no moral obligation to disclose the fact that a meal is vegan to people eating it   \n",
       "470751                                                                                                                                                                                                                                                   People who can't afford kids shouldn't have them.   \n",
       "\n",
       "                                                                                                                                                                                                                                                                                                                                                                                                                                                               top_conclusions_in_argument  \n",
       "53431                                                                                                                                                                                                                                                                                                                                                                                     [(it seems to me that niccolo machiavelli has an undeservedly poor legacy., 0.8205562829971313)]  \n",
       "285839                                                                                                                                                                                                                                                                                                                                                                         [(i think it shouldn t be the job of people at school to teach sex education because., 0.8578989505767822)]  \n",
       "442976                                                                                                                                                                                                                                                                                                                                                                                                [(shows like dr. phil are not much different from a freak show., 0.801140546798706)]  \n",
       "435963                                                                                                       [(but so far, i have yet to hear a clear, meaningful definition of the term man or woman from someone who affirms transgenderism., 0.8030619025230408), (when i ask transgender trans affirming people for a definition, i typically get answers like this: a man is someone who says they are a man , a man is someone who experiences life as a man ., 0.7689554691314697)]  \n",
       "392617                                                                                                                                                                                  [(it seems like, no matter what i do, drivers will hate me and want me to stop riding., 0.7634909749031067), (i'm not going to stop, but it really feels like i'm doing everything that can be reasonably expected of a cyclist and drivers still hate me being on the road., 0.8047007322311401)]  \n",
       "...                                                                                                                                                                                                                                                                                                                                                                                                                                                                                    ...  \n",
       "314122  [(i want to clarify a few things before i start: 1 i m in no way saying that dark souls is a bad game, just overrated., 0.7539910674095154), (now my argument is that the original dark souls is only rated so highly because a lot of mainstream games nowadays aren t very difficult., 0.782929003238678), (i do like it when a game is challenging but i m arguing that dark souls is only difficult because it creates unfair situations for the player., 0.8246773481369019)]  \n",
       "41530                                                                                                                                                                                                                                                                                                                                        [(i simply believe that since there can be no informed decision made by the fetus, we have an obligation to protect it., 0.8215245008468628)]  \n",
       "339971                                                                                                                                                                                                     [(i think that waiters, hairdressers, valets, and other professions who have a tipping expectation should just be paid a fair market wage paid by their employers and there should be no pressure or expectation of tips from pretty much every customer., 0.8191947340965271)]  \n",
       "467351                                                                                                                                                                                                                                                                                                                                                                                              [(so, why should people have to 'disclose' that a meal is vegan?, 0.8401384949684143)]  \n",
       "470751                                                                                                                                                                                                                                                                                                      [(i'm not opposed to this happening, but it is worth noting it wouldnt generally even have to be a thing if people who cant afford kids didnt have them., 0.7804848551750183)]  \n",
       "\n",
       "[100 rows x 2 columns]"
      ]
     },
     "execution_count": 71,
     "metadata": {},
     "output_type": "execute_result"
    }
   ],
   "source": [
    "sample_df[sample_df['top_conclusions_in_argument'].str.len() > 0][['title', 'top_conclusions_in_argument']].head(n=100)"
   ]
  },
  {
   "cell_type": "markdown",
   "metadata": {},
   "source": [
    "#### Mask conclusions in arguments:"
   ]
  },
  {
   "cell_type": "code",
   "execution_count": 5,
   "metadata": {},
   "outputs": [],
   "source": [
    "df = pd.read_pickle(data_path + \"jo_data/argument_rebuttals.pkl\")"
   ]
  },
  {
   "cell_type": "code",
   "execution_count": 13,
   "metadata": {},
   "outputs": [],
   "source": [
    "#First save all the data without masking..\n",
    "train_df = df[df['split'] == 'train']\n",
    "dev_df   = df[df['split'] == 'val']\n",
    "test_df  = df[df['split'] == 'test']\n",
    "\n",
    "train_df.to_pickle('../../../data-ceph/arguana/arg-generation/multi-taks-counter-argument-generation/reddit_data/conclusion_and_ca_generation/train_conclusion_all.pkl')\n",
    "dev_df.to_pickle('../../../data-ceph/arguana/arg-generation/multi-taks-counter-argument-generation/reddit_data/conclusion_and_ca_generation/valid_conclusion_all.pkl')\n",
    "test_df.to_pickle('../../../data-ceph/arguana/arg-generation/multi-taks-counter-argument-generation/reddit_data/conclusion_and_ca_generation/test_concusion_all.pkl')"
   ]
  },
  {
   "cell_type": "code",
   "execution_count": 14,
   "metadata": {},
   "outputs": [
    {
     "data": {
      "text/plain": [
       "Index(['post_id', 'split', 'comment_id', 'title', 'post', 'n_sentences',\n",
       "       'counter'],\n",
       "      dtype='object')"
      ]
     },
     "execution_count": 14,
     "metadata": {},
     "output_type": "execute_result"
    }
   ],
   "source": [
    "df.columns"
   ]
  },
  {
   "cell_type": "code",
   "execution_count": 15,
   "metadata": {
    "scrolled": true,
    "tags": []
   },
   "outputs": [
    {
     "data": {
      "text/html": [
       "<div>\n",
       "<style scoped>\n",
       "    .dataframe tbody tr th:only-of-type {\n",
       "        vertical-align: middle;\n",
       "    }\n",
       "\n",
       "    .dataframe tbody tr th {\n",
       "        vertical-align: top;\n",
       "    }\n",
       "\n",
       "    .dataframe thead th {\n",
       "        text-align: right;\n",
       "    }\n",
       "</style>\n",
       "<table border=\"1\" class=\"dataframe\">\n",
       "  <thead>\n",
       "    <tr style=\"text-align: right;\">\n",
       "      <th></th>\n",
       "      <th>post_id</th>\n",
       "      <th>split</th>\n",
       "      <th>comment_id</th>\n",
       "      <th>title</th>\n",
       "      <th>post</th>\n",
       "      <th>n_sentences</th>\n",
       "      <th>counter</th>\n",
       "    </tr>\n",
       "  </thead>\n",
       "  <tbody>\n",
       "    <tr>\n",
       "      <th>0</th>\n",
       "      <td>t3_1u4mmo</td>\n",
       "      <td>train</td>\n",
       "      <td>t1_ceehlbn</td>\n",
       "      <td>I believe that churches and other religious institutions should have to pay taxes.</td>\n",
       "      <td>[i believe that a church is like any other profit making business and therefore most pay similar taxes., i am not a religious person myself so i do not know the complete logistics of the revenue and spending of a church but i do understand they can yield a good amount of cash., not entirely sure how accurate this article is, but it states that we could gain an additional 71 billion dollars per year and in a time where we as a country are in trillions of dollars of debt taxing a church seems reasonable to me., cmv]</td>\n",
       "      <td>4</td>\n",
       "      <td>[i have heard this before ofc but when it is said louder than, or separate from the same issue when applied to corporations, or other non profits, i just think it's just religious discrimination., most, if not all corporations pay a much smaller percentage of their income in taxes than i do., why not focus on closing corporate loopholes first?, it would generate a lot more income than targeting religious institutions., why not focus on non religious nonprofits?, tons of those are shams where the head of said organization makes 7 figures., many are politically motivated, and actually are for profit in the sense that they are for changing laws and policies that allow third parties to become more profitable., i just don't have much respect for the taxing religions thing because you can apply the same arguments to different organizations resulting in higher tax revenue., i mean, sure., if some tv preacher is pulling in 7 figures selling 'prayer rags' then yeah, close whatever loopholes make that possible., but at the same time you have to close those same loopholes for non religious nonprofits, else it's just discrimination.]</td>\n",
       "    </tr>\n",
       "    <tr>\n",
       "      <th>1</th>\n",
       "      <td>t3_1u4mmo</td>\n",
       "      <td>train</td>\n",
       "      <td>t1_ceei77d</td>\n",
       "      <td>I believe that churches and other religious institutions should have to pay taxes.</td>\n",
       "      <td>[i believe that a church is like any other profit making business and therefore most pay similar taxes., i am not a religious person myself so i do not know the complete logistics of the revenue and spending of a church but i do understand they can yield a good amount of cash., not entirely sure how accurate this article is, but it states that we could gain an additional 71 billion dollars per year and in a time where we as a country are in trillions of dollars of debt taxing a church seems reasonable to me., cmv]</td>\n",
       "      <td>4</td>\n",
       "      <td>[one of the historical methods of repressing out of favor religions is to make them pay exorbitant taxes., the blanket religious tax exemption is one of the ways we comply with the first amendment., many atheists seem to forget it guarantees the free exercise of religion in addition to forbidding the establishment of a state religion., taxing them like everyone else doesn't make sense because everyone else pays widely varying tax rates., should they be taxed as a commercial entity or an industrial one?, which subtype?, some religious practices involve wine., does that mean the churches will need permits taxes fees licenses as a resturant?, some christian sects consider the use of wine critical to the ceremony, others consider grape juice to be fine because it is symbolism., the rules and regulations answering those questions will burden some religions sects more than others., this then becomes a ripe area for both intentional and unintentional discrimination against out of favor religious groups., this will be hugely problematic for the free exercise clause., it is just as problematic for the establishment clause., as per the current justification for emminent domain, increased tax revenue is a justifying public good., taxing churches like everyone else would allow a state or locality to use eminent domain foreclosures in order to build a new mega church., the baptists catholics whoever will pay greater taxes than the mosque temple out of favor group currently on that corner., back to the wine example, the sect that doesn't use wine now has a significant financial advantage over the one that does., if the existence of a cross shaped veterans memorial is an establishment of religion, then surely providing tax advantages is.]</td>\n",
       "    </tr>\n",
       "    <tr>\n",
       "      <th>2</th>\n",
       "      <td>t3_1u4mmo</td>\n",
       "      <td>train</td>\n",
       "      <td>t1_ceei9ab</td>\n",
       "      <td>I believe that churches and other religious institutions should have to pay taxes.</td>\n",
       "      <td>[i believe that a church is like any other profit making business and therefore most pay similar taxes., i am not a religious person myself so i do not know the complete logistics of the revenue and spending of a church but i do understand they can yield a good amount of cash., not entirely sure how accurate this article is, but it states that we could gain an additional 71 billion dollars per year and in a time where we as a country are in trillions of dollars of debt taxing a church seems reasonable to me., cmv]</td>\n",
       "      <td>4</td>\n",
       "      <td>[from someone who's grown up in the christian church:churches receive their income primarily through 'tithes,' which is a voluntary donation of sorts that each congregation member is expected to give yes, i know, 'voluntary' and 'expected to give. ', it's confusing for churchgoers, too ., the tithe is at a 10 standard., this is the means through which the church has to pay for property values, utilities, staffing, etc., churches have operated based on a realistic tithe income based on current income and membership growth., there are some churches that are very well off and probably wouldn't suffer too much from taxing., other churches barely struggle to pay their bills and staff because of tithing issues or other extenuating circumstances like natural disasters or whatever., let's say we implement a flat tax at 5 of the church's revenue., the church is expected to operate at 95 revenue while still maintaining 100 output., the church could, in response, raise the expected tithe to compensate for that cut., the congregation would respond by saying that that isn't the biblical expectation for the congregation., which it isn't., and since the tithing is optional, revenue would either stay the same or go down., the natural reaction is that people just wouldn't tithe., it could actually go further in reality., what i expect if the church were to be taxed would be that secret churches would start to meet like the ones that happen where christianity is illegal., the government can't really track that stuff too well though i wouldn't put it past them anymore ., so scratch that, we could do a tax rate that increases based on the church's revenue., then we would get the problem that plagues the united states taxes churches would just split up into smaller units and record their income at the lowest rate; likely one where the church isn't taxed at all., so there's how that revenue works and the probable results., hope this helps!]</td>\n",
       "    </tr>\n",
       "    <tr>\n",
       "      <th>3</th>\n",
       "      <td>t3_1u4mmo</td>\n",
       "      <td>train</td>\n",
       "      <td>t1_ceeimbl</td>\n",
       "      <td>I believe that churches and other religious institutions should have to pay taxes.</td>\n",
       "      <td>[i believe that a church is like any other profit making business and therefore most pay similar taxes., i am not a religious person myself so i do not know the complete logistics of the revenue and spending of a church but i do understand they can yield a good amount of cash., not entirely sure how accurate this article is, but it states that we could gain an additional 71 billion dollars per year and in a time where we as a country are in trillions of dollars of debt taxing a church seems reasonable to me., cmv]</td>\n",
       "      <td>4</td>\n",
       "      <td>[i've served on my local church's council and i understand the perception of the church having a lot of money., that being said, while the church i attend brings in a lot of money a little less than 500k year 100 of it goes into supporting the church as a whole staff wages, operational expenses, building mortgage, etc and the church mission local community outreach programs such as food banks and soup kitchens, national outreach through monetary donations, etc ., lets look at the simple budget for my church next year: 500,000 that's a good chunk of change., 91 of that money is donated without the expectation of receiving any tangible thing., the remaining 9 is mainly collected from rental fees by individuals and organizations that want to use the church for their activities., now on how the money is spent nearly 50 of the budget is spent on staff salaries, benefits and payroll., seeing as i live in a state where the cost of living is quite high, we try very hard to pay our pastor, youth minister and administrative assistant competitive wages while we aren't 100 with getting a comparable wage we do try., 10 of the budget is spent on benevolence straight up donating 10 of our income to the greater church., remaining 40 operations and community outreach, and future set asides., the church has regular expenses just like any other entity., we have a mortgage to pay, electrical bills, insurance, advertising, pastoral training, running a twice weekly soup kitchen, twice a sunday services, etc., now lets add an 'income tax' onto this while thing., as you can see most every penny that goes into the church, goes right back out to the community at large., the nominal corporate tax rate is 35 ., so let's knock 175,000 right out of the budget., so instead of 500k, we have 325,000 basically enough to cover competitive pastoral wages, benefits, and have 75,000 left over for everything else., it boils down to local community benefit., the federal government isn't concerned with making sure people are hungry are fed, the naked clothed, and the downtrodden consoled., churches and religious communities are some of the only organizations that have the ability to directly influence the lives of people in their community., taxing religious organizations is a bad idea because of the community outreach that a lot of these organizations provide., i'm not saying there aren't bad apples, but i'd say 95 of churches provide a bigger community benefit by direct outreach, instead of letting the government come in and take finances out of your community.]</td>\n",
       "    </tr>\n",
       "    <tr>\n",
       "      <th>4</th>\n",
       "      <td>t3_1u4mmo</td>\n",
       "      <td>train</td>\n",
       "      <td>t1_ceeix3p</td>\n",
       "      <td>I believe that churches and other religious institutions should have to pay taxes.</td>\n",
       "      <td>[i believe that a church is like any other profit making business and therefore most pay similar taxes., i am not a religious person myself so i do not know the complete logistics of the revenue and spending of a church but i do understand they can yield a good amount of cash., not entirely sure how accurate this article is, but it states that we could gain an additional 71 billion dollars per year and in a time where we as a country are in trillions of dollars of debt taxing a church seems reasonable to me., cmv]</td>\n",
       "      <td>4</td>\n",
       "      <td>[consider also the effect this could have taxing the church makes it more difficult to run, so smaller ones are likely to close up., you may end up seeing: more 'mega'churches, with greater congregations., inadvertent suppression of faiths due to low demand the above point resulting in larger polarization of religion i. e., less personal interfaith interaction as communities shift so people can attended a church temple mosque of their faithwe could therefore lose fluidity in the workforce people won't work somewhere they can't find an appropriate chapel both within an abroad i. e., harder to attract retain workers we would want for the same reasons ., additionally, there is potential long term unrest from community segregation even though any segregation would be implicit, not explicit ., less actual interaction with different religions could result in prejudices developing, especially if some communities end up better worse off 'we don't like to go to the restaurants in that neighborhood' creating economic disparity against religious minorities ., of course i wouldn't say we are free of these issues as is, but i see taxation as possibly agitating these issues.]</td>\n",
       "    </tr>\n",
       "  </tbody>\n",
       "</table>\n",
       "</div>"
      ],
      "text/plain": [
       "     post_id  split  comment_id  \\\n",
       "0  t3_1u4mmo  train  t1_ceehlbn   \n",
       "1  t3_1u4mmo  train  t1_ceei77d   \n",
       "2  t3_1u4mmo  train  t1_ceei9ab   \n",
       "3  t3_1u4mmo  train  t1_ceeimbl   \n",
       "4  t3_1u4mmo  train  t1_ceeix3p   \n",
       "\n",
       "                                                                                 title  \\\n",
       "0  I believe that churches and other religious institutions should have to pay taxes.    \n",
       "1  I believe that churches and other religious institutions should have to pay taxes.    \n",
       "2  I believe that churches and other religious institutions should have to pay taxes.    \n",
       "3  I believe that churches and other religious institutions should have to pay taxes.    \n",
       "4  I believe that churches and other religious institutions should have to pay taxes.    \n",
       "\n",
       "                                                                                                                                                                                                                                                                                                                                                                                                                                                                                                                                      post  \\\n",
       "0  [i believe that a church is like any other profit making business and therefore most pay similar taxes., i am not a religious person myself so i do not know the complete logistics of the revenue and spending of a church but i do understand they can yield a good amount of cash., not entirely sure how accurate this article is, but it states that we could gain an additional 71 billion dollars per year and in a time where we as a country are in trillions of dollars of debt taxing a church seems reasonable to me., cmv]   \n",
       "1  [i believe that a church is like any other profit making business and therefore most pay similar taxes., i am not a religious person myself so i do not know the complete logistics of the revenue and spending of a church but i do understand they can yield a good amount of cash., not entirely sure how accurate this article is, but it states that we could gain an additional 71 billion dollars per year and in a time where we as a country are in trillions of dollars of debt taxing a church seems reasonable to me., cmv]   \n",
       "2  [i believe that a church is like any other profit making business and therefore most pay similar taxes., i am not a religious person myself so i do not know the complete logistics of the revenue and spending of a church but i do understand they can yield a good amount of cash., not entirely sure how accurate this article is, but it states that we could gain an additional 71 billion dollars per year and in a time where we as a country are in trillions of dollars of debt taxing a church seems reasonable to me., cmv]   \n",
       "3  [i believe that a church is like any other profit making business and therefore most pay similar taxes., i am not a religious person myself so i do not know the complete logistics of the revenue and spending of a church but i do understand they can yield a good amount of cash., not entirely sure how accurate this article is, but it states that we could gain an additional 71 billion dollars per year and in a time where we as a country are in trillions of dollars of debt taxing a church seems reasonable to me., cmv]   \n",
       "4  [i believe that a church is like any other profit making business and therefore most pay similar taxes., i am not a religious person myself so i do not know the complete logistics of the revenue and spending of a church but i do understand they can yield a good amount of cash., not entirely sure how accurate this article is, but it states that we could gain an additional 71 billion dollars per year and in a time where we as a country are in trillions of dollars of debt taxing a church seems reasonable to me., cmv]   \n",
       "\n",
       "   n_sentences  \\\n",
       "0            4   \n",
       "1            4   \n",
       "2            4   \n",
       "3            4   \n",
       "4            4   \n",
       "\n",
       "                                                                                                                                                                                                                                                                                                                                                                                                                                                                                                                                                                                                                                                                                                                                                                                                                                                                                                                                                                                                                                                                                                                                                                                                                                                                                                                                                                                                                                                                                                                                                                                                                                                                                                                                                                                                                                                                                                                                                                                                                                                                                                                                                                                                                                                                                                                                                                                                                                                                                                                                                                                                                                                                     counter  \n",
       "0                                                                                                                                                                                                                                                                                                                                                                                                                                                                                                                                                                                                                                                                                                                                                                                                                                                                                                                                                                                                                                                                                                                                                                                                                                                                                                                                                                                                                                                                                        [i have heard this before ofc but when it is said louder than, or separate from the same issue when applied to corporations, or other non profits, i just think it's just religious discrimination., most, if not all corporations pay a much smaller percentage of their income in taxes than i do., why not focus on closing corporate loopholes first?, it would generate a lot more income than targeting religious institutions., why not focus on non religious nonprofits?, tons of those are shams where the head of said organization makes 7 figures., many are politically motivated, and actually are for profit in the sense that they are for changing laws and policies that allow third parties to become more profitable., i just don't have much respect for the taxing religions thing because you can apply the same arguments to different organizations resulting in higher tax revenue., i mean, sure., if some tv preacher is pulling in 7 figures selling 'prayer rags' then yeah, close whatever loopholes make that possible., but at the same time you have to close those same loopholes for non religious nonprofits, else it's just discrimination.]  \n",
       "1                                                                                                                                                                                                                                                                                                                                                                                                                                                                                                                                                                                                                                                                                                                                                                                                                                                  [one of the historical methods of repressing out of favor religions is to make them pay exorbitant taxes., the blanket religious tax exemption is one of the ways we comply with the first amendment., many atheists seem to forget it guarantees the free exercise of religion in addition to forbidding the establishment of a state religion., taxing them like everyone else doesn't make sense because everyone else pays widely varying tax rates., should they be taxed as a commercial entity or an industrial one?, which subtype?, some religious practices involve wine., does that mean the churches will need permits taxes fees licenses as a resturant?, some christian sects consider the use of wine critical to the ceremony, others consider grape juice to be fine because it is symbolism., the rules and regulations answering those questions will burden some religions sects more than others., this then becomes a ripe area for both intentional and unintentional discrimination against out of favor religious groups., this will be hugely problematic for the free exercise clause., it is just as problematic for the establishment clause., as per the current justification for emminent domain, increased tax revenue is a justifying public good., taxing churches like everyone else would allow a state or locality to use eminent domain foreclosures in order to build a new mega church., the baptists catholics whoever will pay greater taxes than the mosque temple out of favor group currently on that corner., back to the wine example, the sect that doesn't use wine now has a significant financial advantage over the one that does., if the existence of a cross shaped veterans memorial is an establishment of religion, then surely providing tax advantages is.]  \n",
       "2                                                                                                                                                                                                                                                                                                                                                                                                                                                                                                                                                                                                                                           [from someone who's grown up in the christian church:churches receive their income primarily through 'tithes,' which is a voluntary donation of sorts that each congregation member is expected to give yes, i know, 'voluntary' and 'expected to give. ', it's confusing for churchgoers, too ., the tithe is at a 10 standard., this is the means through which the church has to pay for property values, utilities, staffing, etc., churches have operated based on a realistic tithe income based on current income and membership growth., there are some churches that are very well off and probably wouldn't suffer too much from taxing., other churches barely struggle to pay their bills and staff because of tithing issues or other extenuating circumstances like natural disasters or whatever., let's say we implement a flat tax at 5 of the church's revenue., the church is expected to operate at 95 revenue while still maintaining 100 output., the church could, in response, raise the expected tithe to compensate for that cut., the congregation would respond by saying that that isn't the biblical expectation for the congregation., which it isn't., and since the tithing is optional, revenue would either stay the same or go down., the natural reaction is that people just wouldn't tithe., it could actually go further in reality., what i expect if the church were to be taxed would be that secret churches would start to meet like the ones that happen where christianity is illegal., the government can't really track that stuff too well though i wouldn't put it past them anymore ., so scratch that, we could do a tax rate that increases based on the church's revenue., then we would get the problem that plagues the united states taxes churches would just split up into smaller units and record their income at the lowest rate; likely one where the church isn't taxed at all., so there's how that revenue works and the probable results., hope this helps!]  \n",
       "3  [i've served on my local church's council and i understand the perception of the church having a lot of money., that being said, while the church i attend brings in a lot of money a little less than 500k year 100 of it goes into supporting the church as a whole staff wages, operational expenses, building mortgage, etc and the church mission local community outreach programs such as food banks and soup kitchens, national outreach through monetary donations, etc ., lets look at the simple budget for my church next year: 500,000 that's a good chunk of change., 91 of that money is donated without the expectation of receiving any tangible thing., the remaining 9 is mainly collected from rental fees by individuals and organizations that want to use the church for their activities., now on how the money is spent nearly 50 of the budget is spent on staff salaries, benefits and payroll., seeing as i live in a state where the cost of living is quite high, we try very hard to pay our pastor, youth minister and administrative assistant competitive wages while we aren't 100 with getting a comparable wage we do try., 10 of the budget is spent on benevolence straight up donating 10 of our income to the greater church., remaining 40 operations and community outreach, and future set asides., the church has regular expenses just like any other entity., we have a mortgage to pay, electrical bills, insurance, advertising, pastoral training, running a twice weekly soup kitchen, twice a sunday services, etc., now lets add an 'income tax' onto this while thing., as you can see most every penny that goes into the church, goes right back out to the community at large., the nominal corporate tax rate is 35 ., so let's knock 175,000 right out of the budget., so instead of 500k, we have 325,000 basically enough to cover competitive pastoral wages, benefits, and have 75,000 left over for everything else., it boils down to local community benefit., the federal government isn't concerned with making sure people are hungry are fed, the naked clothed, and the downtrodden consoled., churches and religious communities are some of the only organizations that have the ability to directly influence the lives of people in their community., taxing religious organizations is a bad idea because of the community outreach that a lot of these organizations provide., i'm not saying there aren't bad apples, but i'd say 95 of churches provide a bigger community benefit by direct outreach, instead of letting the government come in and take finances out of your community.]  \n",
       "4                                                                                                                                                                                                                                                                                                                                                                                                                                                                                                                                                                                                                                                                                                                                                                                                                                                                                                                                                                                                                                                                                                                                                                                                                                                                                                                                                                                                                                               [consider also the effect this could have taxing the church makes it more difficult to run, so smaller ones are likely to close up., you may end up seeing: more 'mega'churches, with greater congregations., inadvertent suppression of faiths due to low demand the above point resulting in larger polarization of religion i. e., less personal interfaith interaction as communities shift so people can attended a church temple mosque of their faithwe could therefore lose fluidity in the workforce people won't work somewhere they can't find an appropriate chapel both within an abroad i. e., harder to attract retain workers we would want for the same reasons ., additionally, there is potential long term unrest from community segregation even though any segregation would be implicit, not explicit ., less actual interaction with different religions could result in prejudices developing, especially if some communities end up better worse off 'we don't like to go to the restaurants in that neighborhood' creating economic disparity against religious minorities ., of course i wouldn't say we are free of these issues as is, but i see taxation as possibly agitating these issues.]  "
      ]
     },
     "execution_count": 15,
     "metadata": {},
     "output_type": "execute_result"
    }
   ],
   "source": [
    "df.head()"
   ]
  },
  {
   "cell_type": "code",
   "execution_count": 12,
   "metadata": {},
   "outputs": [
    {
     "data": {
      "text/plain": [
       "train    295914\n",
       "test     130828\n",
       "val      114936\n",
       "Name: split, dtype: int64"
      ]
     },
     "execution_count": 12,
     "metadata": {},
     "output_type": "execute_result"
    }
   ],
   "source": [
    "df.split.value_counts()"
   ]
  },
  {
   "cell_type": "code",
   "execution_count": 73,
   "metadata": {},
   "outputs": [],
   "source": [
    "# df['conclusions_in_argument'] = df.apply(lambda x: [x[0] for x in process.extract(x['title'], x['post'], scorer=fuzz.token_set_ratio, limit=500) if x[1] > 50], axis=1)\n",
    "# df['conclusions_in_argument'] = df.apply(lambda x: [(sent, content_token_overlap(x['title'], sent)) for sent in x['post']], axis=1)\n",
    "# df['conclusions_in_argument'] = df.apply(lambda x: [x for x in x['conclusions_in_argument'] if x[1] > 0.1], axis=1)"
   ]
  },
  {
   "cell_type": "code",
   "execution_count": 7,
   "metadata": {},
   "outputs": [],
   "source": [
    "#Compute semantic similarity\n",
    "df['conclusion_embeddings']   = model.encode(df['title'].tolist()).tolist()\n",
    "df['premises_embeddings']     = df['post'].apply(lambda x: model.encode(x))\n",
    "df['conclusions_in_argument'] = df.apply(lambda x: util.pytorch_cos_sim(torch.tensor(x['conclusion_embeddings']), \n",
    "                                                                                      torch.tensor(x['premises_embeddings'])\n",
    "                                                                ).tolist()[0], axis=1)\n",
    "df['conclusions_in_argument'] = df.apply(lambda x: list(zip(x['post'], x['conclusions_in_argument'])), axis=1)"
   ]
  },
  {
   "cell_type": "code",
   "execution_count": 8,
   "metadata": {},
   "outputs": [],
   "source": [
    "#filter-out sentences with semantic overlap of more than 0.75\n",
    "df['conclusions_in_argument'] = df.apply(lambda x: [x for x in x['conclusions_in_argument'] if x[1] > 0.75], axis=1)"
   ]
  },
  {
   "cell_type": "code",
   "execution_count": 9,
   "metadata": {},
   "outputs": [],
   "source": [
    "df['num_cand_conc'] = df['conclusions_in_argument'].apply(lambda x: len(x))"
   ]
  },
  {
   "cell_type": "code",
   "execution_count": 10,
   "metadata": {},
   "outputs": [],
   "source": [
    "df['masked_premises'] = df.apply(lambda row: [p for p in row['post'] if p not in row['conclusions_in_argument']] , axis=1)\n",
    "df['premises_with_conclusion'] = df.apply(lambda row: row['post'] + ['Therefore, '+row['title']], axis=1)\n",
    "\n",
    "df = df[df.masked_premises.str.len() > 0]\n",
    "df = df[df.title!='']"
   ]
  },
  {
   "cell_type": "code",
   "execution_count": 19,
   "metadata": {},
   "outputs": [
    {
     "data": {
      "text/plain": [
       "162202"
      ]
     },
     "execution_count": 19,
     "metadata": {},
     "output_type": "execute_result"
    }
   ],
   "source": [
    "len(df)"
   ]
  },
  {
   "cell_type": "code",
   "execution_count": 12,
   "metadata": {},
   "outputs": [
    {
     "data": {
      "text/plain": [
       "Index(['post_id', 'split', 'comment_id', 'title', 'post', 'n_sentences',\n",
       "       'comment_sents', 'conclusion_embeddings', 'premises_embeddings',\n",
       "       'conclusions_in_argument', 'num_cand_conc', 'masked_premises',\n",
       "       'premises_with_conclusion'],\n",
       "      dtype='object')"
      ]
     },
     "execution_count": 12,
     "metadata": {},
     "output_type": "execute_result"
    }
   ],
   "source": [
    "df.columns"
   ]
  },
  {
   "cell_type": "code",
   "execution_count": 10,
   "metadata": {},
   "outputs": [],
   "source": [
    "df = df.rename(columns={\n",
    "    'comment_sents' : 'counter',\n",
    "})"
   ]
  },
  {
   "cell_type": "code",
   "execution_count": 14,
   "metadata": {},
   "outputs": [],
   "source": [
    "df = df[df.num_cand_conc > 0]"
   ]
  },
  {
   "cell_type": "code",
   "execution_count": 15,
   "metadata": {},
   "outputs": [
    {
     "data": {
      "text/plain": [
       "train    92397\n",
       "test     36627\n",
       "val      33178\n",
       "Name: split, dtype: int64"
      ]
     },
     "execution_count": 15,
     "metadata": {},
     "output_type": "execute_result"
    }
   ],
   "source": [
    "df.split.value_counts()"
   ]
  },
  {
   "cell_type": "code",
   "execution_count": 16,
   "metadata": {},
   "outputs": [],
   "source": [
    "train_df = df[df['split'] == 'train']\n",
    "dev_df   = df[df['split'] == 'val']\n",
    "test_df  = df[df['split'] == 'test']"
   ]
  },
  {
   "cell_type": "code",
   "execution_count": 17,
   "metadata": {},
   "outputs": [],
   "source": [
    "train_df = train_df.drop(columns=['conclusion_embeddings', 'premises_embeddings', 'conclusions_in_argument'])\n",
    "dev_df   = dev_df.drop(columns=['conclusion_embeddings', 'premises_embeddings', 'conclusions_in_argument'])\n",
    "test_df = test_df.drop(columns=['conclusion_embeddings', 'premises_embeddings', 'conclusions_in_argument'])"
   ]
  },
  {
   "cell_type": "code",
   "execution_count": 20,
   "metadata": {},
   "outputs": [],
   "source": [
    "train_df.to_pickle('../../../data-ceph/arguana/arg-generation/multi-taks-counter-argument-generation/reddit_data/conclusion_and_ca_generation/train_conclusion_comp_remove_75sem_perc.pkl')\n",
    "dev_df.to_pickle('../../../data-ceph/arguana/arg-generation/multi-taks-counter-argument-generation/reddit_data/conclusion_and_ca_generation/valid_conclusion_comp_remove_75sem_perc.pkl')\n",
    "test_df.to_pickle('../../../data-ceph/arguana/arg-generation/multi-taks-counter-argument-generation/reddit_data/conclusion_and_ca_generation/test_concusion_comp_remove_75sem_perc.pkl')"
   ]
  },
  {
   "cell_type": "markdown",
   "metadata": {},
   "source": [
    "### Analyze the overlap between conclusions and counters:"
   ]
  },
  {
   "cell_type": "code",
   "execution_count": 3,
   "metadata": {},
   "outputs": [],
   "source": [
    "df = pd.read_pickle('../../../data-ceph/arguana/arg-generation/multi-taks-counter-argument-generation/reddit_data/conclusion_and_ca_generation/train_conclusion_comp_remove_75sem_perc.pkl')"
   ]
  },
  {
   "cell_type": "code",
   "execution_count": 4,
   "metadata": {},
   "outputs": [],
   "source": [
    "sample_df = df.sample(1000)"
   ]
  },
  {
   "cell_type": "code",
   "execution_count": 8,
   "metadata": {},
   "outputs": [],
   "source": [
    "#Compute semantic similarity\n",
    "sample_df['counter_embeddings']   = model.encode([' '.join(x) for x in sample_df['counter'].tolist()]).tolist()"
   ]
  },
  {
   "cell_type": "code",
   "execution_count": 12,
   "metadata": {},
   "outputs": [],
   "source": [
    "sample_df['conclusion_embeddings']   = model.encode(sample_df['title'].tolist()).tolist()"
   ]
  },
  {
   "cell_type": "code",
   "execution_count": 9,
   "metadata": {},
   "outputs": [],
   "source": [
    "#sample_df['sim_to_conc'] = sample_df.apply(lambda x: fuzz.token_sort_ratio(x['title'], ' '.join(x['counter'])), axis=1)\n",
    "#sample_df['sim_to_conc'] = sample_df.apply(lambda x: content_token_overlap(x['title'], ' '.join(x['counter'])), axis=1)"
   ]
  },
  {
   "cell_type": "code",
   "execution_count": 13,
   "metadata": {},
   "outputs": [],
   "source": [
    "similarities_to_premises = []\n",
    "similarities_to_conclusion= []\n",
    "for idx, arg in sample_df.iterrows():\n",
    "    \n",
    "    #simlarities to premises\n",
    "    premises = arg['masked_premises']\n",
    "    premises_embeddings = model.encode(premises)\n",
    "    sims = util.pytorch_cos_sim(torch.tensor(arg['conclusion_embeddings']), \n",
    "                         torch.tensor(premises_embeddings)).numpy()\n",
    "    \n",
    "    similarities_to_premises.append(np.mean(sims))\n",
    "    \n",
    "    #similarities to conclusion\n",
    "    similarities_to_conclusion.append(util.pytorch_cos_sim(torch.tensor(arg['conclusion_embeddings']), \n",
    "                         torch.tensor(arg['counter_embeddings'])).item())"
   ]
  },
  {
   "cell_type": "code",
   "execution_count": 14,
   "metadata": {},
   "outputs": [
    {
     "data": {
      "image/png": "[encoded data removed]",
      "text/plain": [
       "<Figure size 432x288 with 1 Axes>"
      ]
     },
     "metadata": {
      "needs_background": "light"
     },
     "output_type": "display_data"
    }
   ],
   "source": [
    "plt.hist(similarities_to_conclusion, label='sim to conc')\n",
    "plt.hist(similarities_to_premises, label='sim to premises', alpha=.3)\n",
    "\n",
    "plt.legend()\n",
    "plt.show()"
   ]
  },
  {
   "cell_type": "code",
   "execution_count": 15,
   "metadata": {
    "scrolled": true,
    "tags": []
   },
   "outputs": [
    {
     "data": {
      "text/html": [
       "<div>\n",
       "<style scoped>\n",
       "    .dataframe tbody tr th:only-of-type {\n",
       "        vertical-align: middle;\n",
       "    }\n",
       "\n",
       "    .dataframe tbody tr th {\n",
       "        vertical-align: top;\n",
       "    }\n",
       "\n",
       "    .dataframe thead th {\n",
       "        text-align: right;\n",
       "    }\n",
       "</style>\n",
       "<table border=\"1\" class=\"dataframe\">\n",
       "  <thead>\n",
       "    <tr style=\"text-align: right;\">\n",
       "      <th></th>\n",
       "      <th>post</th>\n",
       "      <th>title</th>\n",
       "      <th>counter</th>\n",
       "    </tr>\n",
       "  </thead>\n",
       "  <tbody>\n",
       "    <tr>\n",
       "      <th>139261</th>\n",
       "      <td>[in my opinion, socialism is superior to capitalism in many regards: 1., democratic control of the means of production is necessary in a fair and free society., in a capitalist system, the ruling class decides what is produced, and they usually do so because they're only human to benefit themselves and not the people as a whole., additionally, in capitalism, being rich is advantageous and will give you more say in what is produced., therefore, not only do a handful of people have the power to make selfish decisions at the cost of the people, they are encouraged to do so., in a socialist system, this problem would be solved by giving everyone an equal say in what is produced., people would still make decisions in their own self interest, of course, but since everybody has the same amount of say, nobody would be able to make decisions at the expense of others., in addition, because everyone would be able to vote in their own self interests and be fairly represented, there would be no reason for ills like poverty to exist., 2., more innovation would occur under socialism., despite capitalist claims to the contrary, it is my view that in a socialist system more innovation occur., why?, because if one individual or corporation has a monopoly, or large amounts of influence in an economic sphere, it is his or her self interest to prevent competition in that sphere, because people buying from a different company hurts sales., therefore it is advantageous to stomp our new ideas., in socialism, this would not occur because everyone would have an equal amount of control of the economy, and there would be no reason for anyone to have the desire to prevent innovation., those are my main, and best, reasons i have for supporting socialism., if i think of any more, i will the text and add them., i look forward to a healthy and challenging discussion.]</td>\n",
       "      <td>Socialism is superior to capitalism.</td>\n",
       "      <td>[re 1 ., democratic control of the means of production yields two basic problems: efficiency because the process is democratic majority rules then the normal distribution of skill in a society produces bias towards the averagely or even the poorly skilled which hampers both the best use of resources and towards inability to fully comprehend the issue more uneducated people than educated ones see how democratic choices are made in today's society, far from perfect., practical management it might work in small groups of people but just as running a 100m country is more complex than a 10m or 1m country so is running a 1bn country., if you take a look at how insanely convoluted, amoral, corrupt and removed from the common man while also inefficient, wasteful, obstinate all the democratic structures of power are in any large country you should be able to imagine how those structures would work when producing something within 24 hours is necessary., notice that democratic structures take a long time to work while production and trade often need to be managed quickly., there is another issue that has to do with the fact that in capitalist society you are paid for your work whether you are happy with it is another matter while in socialist society not necessarily., therefore if you happen to be the minority view in socialism and the means of production are utilized agianst your wishes you are losing more than under capitalism., there is huge potential for socialism to distort the decisionmaking process in large companies and i mean starting around 100 people which is not a lot and not only the corporations so much that more people end up losing out under socialism than under capitalism., re 2 : innovation is really something that occurs as a process of evolution of information neither socialism nor capitalism which are the systems of ownership have have much influence since information cannot be owned ., therefore any attempt to take it over whether for private gain capitalism or the society's gain through democratic government control socialism is essentially at odds with the nature of free flow of information., there are issues as to how research and study can be funded but that is entirely derivative of the fundamental cause: can we force others to behave with regards to information as we want them to ., in other words if you can force people to do your bidding then you can both own information and introduce slavery both deeply unnatural states., the only way for innovation to occur is as it did with science through 'info anarchy' so to speak., and it would also be the progress that would be most beneficial to society as it would remove all barriers to participation., socialism has proven time and time again to be a failure in society., every socialist system has either collapsed under its own inefficiency anarchist spain being so inefficient that the bolsheviks took over, makhnoist ukraine being simply conquered and unable to resist or slowly descends into a totalitarian authoritarian elitist police state where the people in power increase their oppression of society to hide economic inefficiencies., the failure of socialism lies in its unrealistic premises as to how the goals would be implemented not necessarily in the general ideas it upholds and the social and economic aims it wants to achieve., your main problem stems from the fact that as most socialists you seem to misunderstand the difference between how economic exchange with people and political force people action in society works i did use the terms arbitrarily leadership and influence is under 'economic' here since it provides a gain to followers ., you assume that political action solves issues while economic action creates them when in reality it is exactly the opposite because economic action has to take into consideration what the other side wants while political action only takes into consideration at which point the other side will resist., therefore most pathological situations on the market happen when government is brought to bear on one side of the deal or the other whether to aid corporations, labour unions, rich, poor,military, church, industrialists,landowners, peasants, workers that's where most of the distortion occurs and as long as we gloss over it and pretend like it's something natural which it is in a biological sense it's animalistic and animals kill each other just as we do then no constructive solution to any economic problem in society is possible., therefore the real axis of conflict isn't private or communal ownership of means of production capitalism socialism but coercive and voluntary participation state anarchy ., there are some things which work better under socialism and some under capitalism and to achieve maximum gains we might need both at the same time but in different areas but the one thing that we never can mix is forcing people to obey in one area and letting them be free in another., it will always end up being authoritarian everywhere., power being an unsustainable entropy like phenomenon abhors vacuum and always expands until it expends all resources available or collapses under its own weight.]</td>\n",
       "    </tr>\n",
       "    <tr>\n",
       "      <th>227733</th>\n",
       "      <td>[let's say that you are someone who does not want to donate or are never open to do a donation., i'm not just talking about kidneys or part of you liver, but also about stemcells, blood or other tissue., this way you are not improving someones life quality or chances to live., we have a shortage of organs and the list is growing for people waiting for a donation., according to donatelife every 10 minutes someone is added to the transplant waiting list., every day 22 people die and we have 118,000 people waiting for a donation., the numbers are big and we already have a certain ruling about who should get the organs., so i want to add another criterium for the priority selection., people who were not open to donate should not receive an organ when they need one., this ruling is only used when there is a shortage of organs which is almost always ., ofcourse when there is enough for everybody then the people who aren't open to donate should receive their organs., but for now i don't think that hypocrits should be benefiting of a system that they are not open to join even when they know they can save lives., i know there are some points where you can say that donating might not be possible for someone., those people should be excluded., also it is known that donating a kidney increases health problems., my point is that you don't have to donate a kidney to help someone., everything can help., if we force people to help others in our society we will be able to help many many people., think about the lives you can save., think about the fact that one day your family member or your friends being able to survive due to people being open to donate., when we look at the recent bombings or attacks here in europe we see many people donating blood., so many people are donating that there are too many donations which is maybe the best thing to have an excessive amount of., donating should be also very important in this day and age., we are improving everyday in the medical science and we should be taking advantage of that., we have the capability to help many people but we aren't using it the way we should., if you want to see the impact one donation can have i recommend watching this vox video, in the video you see that one donation is able to help multiple people., so when we look back at the transplant waiting list you see that we don't need 118,000 donations, but even less than that., 118,000 is a big number, but the amount of people who can donate makes this number look miniscule., so we know the statistics, the numbers and the reasons why donation is such an important thing., it might come over as forcing people to donate, but sometimes a little push does more good than harm., sometimes you should force people into a corner and make them do certain things to improve our society.]</td>\n",
       "      <td>People who aren't open to donate their own organs or another body part should not be given one when they need it themselves.</td>\n",
       "      <td>[you're basically talking about the free rider problem., it presents itself in many ways and is always frustrating., those paying into the system want to see those that are not coerced into participating., your solution to the organ shortage would probably work, but it goes beyond coercive and is actually punitive., that may be what you want, but medical decisions shouldn't be based on punishment, otherwise felons should never get organ donations, regardless of their willingness to donate., and there is a much easier and softer method of coercion we haven't tried in the united states: opt out registration., right now, you have to opt in to being an organ donor., switch it so everyone is presumed to be an organ donor unless they opt out., most people don't care about organ donation unless it effects them in some way., and most people won't go out of their way to do something if they don't care about it., that cuts both ways., just like most people aren't going out of their way to register as organ donors, most won't go out of their way to de register., the pool of available organs would shoot way up., i'd much rather try that soft coercion than outright punishing people for not being altruistic.]</td>\n",
       "    </tr>\n",
       "    <tr>\n",
       "      <th>173699</th>\n",
       "      <td>[an otherwise normal person, with all the normal human characteristics, digestive system etc. but they also had the ability to produce energy through photosynthesis., this would be an amazing addition to human skills for survival and therefore this person would be seen as attractive, even if they had an unusual feature like green skin., i believe science has shown us that people favor an 'average' looking person for procreation, but should not such an amazing mutation cause people to find the photosynthesizing person attractive for procreation?, generally any large jump in characteristics that boost survival skills should be considered valuable should it not?]</td>\n",
       "      <td>A person who through a genetic mutation developed the ability to photosynthesize would be thought of as attractive.</td>\n",
       "      <td>[there will not be any noticable gain from a survival standpoint, as someone else pointed out., you'd get the same energy you get by lying in the sun for a full day from snacking on an apple., you move, you think, every single cell in your body is more complex and energy consuming then plant cells., a tree big tree will produce maybe a dozen or so apples in a year and grow a couple cm's., how much impact will the energy otherwise stored in dozen or so apples have spread out through the year?]</td>\n",
       "    </tr>\n",
       "    <tr>\n",
       "      <th>279835</th>\n",
       "      <td>[according to merriam webster, the definition of feminism is the theory of the political, economic, and social equality of the sexes., so since the principle of feminism is based on equality, why should the future be only female?, i am a female feminist myself, but i believe that in order to reach the goal of equality of women and men we need to work together., if men feel like the feminist movement is trying to rise above them, not beside them, why would they want to help promote it?, change my view!]</td>\n",
       "      <td>‘The Future is Female’ movement should r really be ‘The Future is Equal.’</td>\n",
       "      <td>[no one gets off their asses for 'the future is equal', and while you stand to incite more critics with 'the future is female', you also incite more passionate people to your cause by making a statement that pushes the current status quo., the former statement doesn't have any clear call to action nor challenge against the established way of thinking because the established way of thinking is that we are already equal., the latter statement carries with it a call to action, a suggestion that in a world where historical inequalities still lie ingrained in our various systems, we may have to over correct these systems by emphasizing the needs of women specifically., we may have to put women's issues at the forefront of our minds and actions to see real results in those issues.]</td>\n",
       "    </tr>\n",
       "    <tr>\n",
       "      <th>78976</th>\n",
       "      <td>[hi!, people complain about political correctness all the time and some, i think, genuinely feel that it is something oppressive., for example, a lot of anti gay people complain about how it's not fair that they're not 'allowed' to express their opinions about gay people without being judged., people who support the redskins team name think it's unfair that people think they should give up their team name just because some people find it offensive., however, to me, it seems like demanding to be allowed to be 'politically incorrect' sounds a lot like asking to be able to insult people without them thinking you're a jerk., part of having manners is sometimes neglecting your own comfort for the comfort of others., for example, you may like chewing with your mouth open or picking your nose, but you might not want to do that in front of other people because it's gross, and living in society means you have to make some concessions for others., i don't think, if you insisted that you should be able to chew with your mouth open at the dinner table, that you have a right to be offended when no one invites you to dinner parties., similarly, if i were to walk up to a stranger and insult their outfit, that person would have every right to think i was an asshole., for me, this is where the 'well, you should be tolerant of my intolerance! ', argument falls apart., because i don't think unkindness is a thing that should be tolerated., asking someone to not walk up to someone and insult their outfit is a lot different than thinking the person that does that is a jerk., i think political correctness is important in the same way i think manners are important., i think we all need to at least put a decent effort forth into not actively trying to hurt people's feelings because we think it makes us look cool and edgy and i think if we do hurt someone's feelings, we shouldn't try to make it into a thing where we act as though they are oppressing us for saying we shouldn't do that., so far i haven't really changed my view, although i find a lot of this interesting., i think what i'm starting to think is that if we thought of being pc as simply being considerate and kind to people, it might be a better place to work from than where we're working from now.]</td>\n",
       "      <td>Political correctness is just good manners.</td>\n",
       "      <td>[i agree that thinking of political correctness more as just good manners rather than some crazy obligation is a better way of looking at the problem., but at the same time i think it's fairly easy to prove that political correctness in this day and age is basically turning social norms into laws i. e., hate speech laws., so i think that's the better way to understand the issue but i disagree that that's what it really means from a legal standpoint., if we had any brains we'd just keep it as a social thing and stop trying to enact a mini cultural revolution all the time., i agree with your idea but i disagree that pc politeness at the moment.]</td>\n",
       "    </tr>\n",
       "  </tbody>\n",
       "</table>\n",
       "</div>"
      ],
      "text/plain": [
       "                                                                                                                                                                                                                                                                                                                                                                                                                                                                                                                                                                                                                                                                                                                                                                                                                                                                                                                                                                                                                                                                                                                                                                                                                                                                                                                                                                                                                                                                                                                                                                                                                                                                                                                                                                                                                                                                                                                                                                                                                                                                                                                                                                                                                                                                                                                                                                                                                                                                                                                                                                                                                                                                                                                                                                                                                                                                                                                                          post  \\\n",
       "139261                                                                                                                                                                                                                                                                                                                                                                                                                                                                                                                                                                                                                                                                                                                                                                                                                                                                                                                                                                                             [in my opinion, socialism is superior to capitalism in many regards: 1., democratic control of the means of production is necessary in a fair and free society., in a capitalist system, the ruling class decides what is produced, and they usually do so because they're only human to benefit themselves and not the people as a whole., additionally, in capitalism, being rich is advantageous and will give you more say in what is produced., therefore, not only do a handful of people have the power to make selfish decisions at the cost of the people, they are encouraged to do so., in a socialist system, this problem would be solved by giving everyone an equal say in what is produced., people would still make decisions in their own self interest, of course, but since everybody has the same amount of say, nobody would be able to make decisions at the expense of others., in addition, because everyone would be able to vote in their own self interests and be fairly represented, there would be no reason for ills like poverty to exist., 2., more innovation would occur under socialism., despite capitalist claims to the contrary, it is my view that in a socialist system more innovation occur., why?, because if one individual or corporation has a monopoly, or large amounts of influence in an economic sphere, it is his or her self interest to prevent competition in that sphere, because people buying from a different company hurts sales., therefore it is advantageous to stomp our new ideas., in socialism, this would not occur because everyone would have an equal amount of control of the economy, and there would be no reason for anyone to have the desire to prevent innovation., those are my main, and best, reasons i have for supporting socialism., if i think of any more, i will the text and add them., i look forward to a healthy and challenging discussion.]   \n",
       "227733  [let's say that you are someone who does not want to donate or are never open to do a donation., i'm not just talking about kidneys or part of you liver, but also about stemcells, blood or other tissue., this way you are not improving someones life quality or chances to live., we have a shortage of organs and the list is growing for people waiting for a donation., according to donatelife every 10 minutes someone is added to the transplant waiting list., every day 22 people die and we have 118,000 people waiting for a donation., the numbers are big and we already have a certain ruling about who should get the organs., so i want to add another criterium for the priority selection., people who were not open to donate should not receive an organ when they need one., this ruling is only used when there is a shortage of organs which is almost always ., ofcourse when there is enough for everybody then the people who aren't open to donate should receive their organs., but for now i don't think that hypocrits should be benefiting of a system that they are not open to join even when they know they can save lives., i know there are some points where you can say that donating might not be possible for someone., those people should be excluded., also it is known that donating a kidney increases health problems., my point is that you don't have to donate a kidney to help someone., everything can help., if we force people to help others in our society we will be able to help many many people., think about the lives you can save., think about the fact that one day your family member or your friends being able to survive due to people being open to donate., when we look at the recent bombings or attacks here in europe we see many people donating blood., so many people are donating that there are too many donations which is maybe the best thing to have an excessive amount of., donating should be also very important in this day and age., we are improving everyday in the medical science and we should be taking advantage of that., we have the capability to help many people but we aren't using it the way we should., if you want to see the impact one donation can have i recommend watching this vox video, in the video you see that one donation is able to help multiple people., so when we look back at the transplant waiting list you see that we don't need 118,000 donations, but even less than that., 118,000 is a big number, but the amount of people who can donate makes this number look miniscule., so we know the statistics, the numbers and the reasons why donation is such an important thing., it might come over as forcing people to donate, but sometimes a little push does more good than harm., sometimes you should force people into a corner and make them do certain things to improve our society.]   \n",
       "173699                                                                                                                                                                                                                                                                                                                                                                                                                                                                                                                                                                                                                                                                                                                                                                                                                                                                                                                                                                                                                                                                                                                                                                                                                                                                                                                                                                                                                                                                                                                                                                                                                                                                                                                                                                                                                                                                                                                                                                                                                                                                                                                                                                                                                                            [an otherwise normal person, with all the normal human characteristics, digestive system etc. but they also had the ability to produce energy through photosynthesis., this would be an amazing addition to human skills for survival and therefore this person would be seen as attractive, even if they had an unusual feature like green skin., i believe science has shown us that people favor an 'average' looking person for procreation, but should not such an amazing mutation cause people to find the photosynthesizing person attractive for procreation?, generally any large jump in characteristics that boost survival skills should be considered valuable should it not?]   \n",
       "279835                                                                                                                                                                                                                                                                                                                                                                                                                                                                                                                                                                                                                                                                                                                                                                                                                                                                                                                                                                                                                                                                                                                                                                                                                                                                                                                                                                                                                                                                                                                                                                                                                                                                                                                                                                                                                                                                                                                                                                                                                                                                                                                                                                                                                                                                                                                                                                                                             [according to merriam webster, the definition of feminism is the theory of the political, economic, and social equality of the sexes., so since the principle of feminism is based on equality, why should the future be only female?, i am a female feminist myself, but i believe that in order to reach the goal of equality of women and men we need to work together., if men feel like the feminist movement is trying to rise above them, not beside them, why would they want to help promote it?, change my view!]   \n",
       "78976                                                                                                                                                                                                                                                                                                                                                                                                                                                                                                                                                                         [hi!, people complain about political correctness all the time and some, i think, genuinely feel that it is something oppressive., for example, a lot of anti gay people complain about how it's not fair that they're not 'allowed' to express their opinions about gay people without being judged., people who support the redskins team name think it's unfair that people think they should give up their team name just because some people find it offensive., however, to me, it seems like demanding to be allowed to be 'politically incorrect' sounds a lot like asking to be able to insult people without them thinking you're a jerk., part of having manners is sometimes neglecting your own comfort for the comfort of others., for example, you may like chewing with your mouth open or picking your nose, but you might not want to do that in front of other people because it's gross, and living in society means you have to make some concessions for others., i don't think, if you insisted that you should be able to chew with your mouth open at the dinner table, that you have a right to be offended when no one invites you to dinner parties., similarly, if i were to walk up to a stranger and insult their outfit, that person would have every right to think i was an asshole., for me, this is where the 'well, you should be tolerant of my intolerance! ', argument falls apart., because i don't think unkindness is a thing that should be tolerated., asking someone to not walk up to someone and insult their outfit is a lot different than thinking the person that does that is a jerk., i think political correctness is important in the same way i think manners are important., i think we all need to at least put a decent effort forth into not actively trying to hurt people's feelings because we think it makes us look cool and edgy and i think if we do hurt someone's feelings, we shouldn't try to make it into a thing where we act as though they are oppressing us for saying we shouldn't do that., so far i haven't really changed my view, although i find a lot of this interesting., i think what i'm starting to think is that if we thought of being pc as simply being considerate and kind to people, it might be a better place to work from than where we're working from now.]   \n",
       "\n",
       "                                                                                                                               title  \\\n",
       "139261                                                                                          Socialism is superior to capitalism.   \n",
       "227733  People who aren't open to donate their own organs or another body part should not be given one when they need it themselves.   \n",
       "173699           A person who through a genetic mutation developed the ability to photosynthesize would be thought of as attractive.   \n",
       "279835                                                     ‘The Future is Female’ movement should r really be ‘The Future is Equal.’   \n",
       "78976                                                                                    Political correctness is just good manners.   \n",
       "\n",
       "                                                                                                                                                                                                                                                                                                                                                                                                                                                                                                                                                                                                                                                                                                                                                                                                                                                                                                                                                                                                                                                                                                                                                                                                                                                                                                                                                                                                                                                                                                                                                                                                                                                                                                                                                                                                                                                                                                                                                                                                                                                                                                                                                                                                                                                                                                                                                                                                                                                                                                                                                                                                                                                                                                                                                                                                                                                                                                                                                                                                                                                                                                                                                                                                                                                                                                                                                                                                                                                                                                                                                                                                                                                                                                                                                                                                                                                                                                                                                                                                                                                                                                                                                                                                                                                                                                                                                                                                                                                                                                                                                                                                                                                                                                                                                                                                                                                                                                                                                                                                                                                                                                                                                                                                                                                                                                                                                                                                         counter  \n",
       "139261  [re 1 ., democratic control of the means of production yields two basic problems: efficiency because the process is democratic majority rules then the normal distribution of skill in a society produces bias towards the averagely or even the poorly skilled which hampers both the best use of resources and towards inability to fully comprehend the issue more uneducated people than educated ones see how democratic choices are made in today's society, far from perfect., practical management it might work in small groups of people but just as running a 100m country is more complex than a 10m or 1m country so is running a 1bn country., if you take a look at how insanely convoluted, amoral, corrupt and removed from the common man while also inefficient, wasteful, obstinate all the democratic structures of power are in any large country you should be able to imagine how those structures would work when producing something within 24 hours is necessary., notice that democratic structures take a long time to work while production and trade often need to be managed quickly., there is another issue that has to do with the fact that in capitalist society you are paid for your work whether you are happy with it is another matter while in socialist society not necessarily., therefore if you happen to be the minority view in socialism and the means of production are utilized agianst your wishes you are losing more than under capitalism., there is huge potential for socialism to distort the decisionmaking process in large companies and i mean starting around 100 people which is not a lot and not only the corporations so much that more people end up losing out under socialism than under capitalism., re 2 : innovation is really something that occurs as a process of evolution of information neither socialism nor capitalism which are the systems of ownership have have much influence since information cannot be owned ., therefore any attempt to take it over whether for private gain capitalism or the society's gain through democratic government control socialism is essentially at odds with the nature of free flow of information., there are issues as to how research and study can be funded but that is entirely derivative of the fundamental cause: can we force others to behave with regards to information as we want them to ., in other words if you can force people to do your bidding then you can both own information and introduce slavery both deeply unnatural states., the only way for innovation to occur is as it did with science through 'info anarchy' so to speak., and it would also be the progress that would be most beneficial to society as it would remove all barriers to participation., socialism has proven time and time again to be a failure in society., every socialist system has either collapsed under its own inefficiency anarchist spain being so inefficient that the bolsheviks took over, makhnoist ukraine being simply conquered and unable to resist or slowly descends into a totalitarian authoritarian elitist police state where the people in power increase their oppression of society to hide economic inefficiencies., the failure of socialism lies in its unrealistic premises as to how the goals would be implemented not necessarily in the general ideas it upholds and the social and economic aims it wants to achieve., your main problem stems from the fact that as most socialists you seem to misunderstand the difference between how economic exchange with people and political force people action in society works i did use the terms arbitrarily leadership and influence is under 'economic' here since it provides a gain to followers ., you assume that political action solves issues while economic action creates them when in reality it is exactly the opposite because economic action has to take into consideration what the other side wants while political action only takes into consideration at which point the other side will resist., therefore most pathological situations on the market happen when government is brought to bear on one side of the deal or the other whether to aid corporations, labour unions, rich, poor,military, church, industrialists,landowners, peasants, workers that's where most of the distortion occurs and as long as we gloss over it and pretend like it's something natural which it is in a biological sense it's animalistic and animals kill each other just as we do then no constructive solution to any economic problem in society is possible., therefore the real axis of conflict isn't private or communal ownership of means of production capitalism socialism but coercive and voluntary participation state anarchy ., there are some things which work better under socialism and some under capitalism and to achieve maximum gains we might need both at the same time but in different areas but the one thing that we never can mix is forcing people to obey in one area and letting them be free in another., it will always end up being authoritarian everywhere., power being an unsustainable entropy like phenomenon abhors vacuum and always expands until it expends all resources available or collapses under its own weight.]  \n",
       "227733                                                                                                                                                                                                                                                                                                                                                                                                                                                                                                                                                                                                                                                                                                                                                                                                                                                                                                                                                                                                                                                                                                                                                                                                                                                                                                                                                                                                                                                                                                                                                                                                                                                                                                                                                                                                                                                                                                                                                                                                                                                                                                                                                                                                                                                                                                                                                                                                                                                                                                                                                                                                                                                                                                                                                                                                                                                                                                                                                                                                                                                                                                                                                                                                                                                                                                                                                                                                                                                                                                                                                                                                                                                                                                                                                                                                                                                                                                                                                                                                                                                                                                                                            [you're basically talking about the free rider problem., it presents itself in many ways and is always frustrating., those paying into the system want to see those that are not coerced into participating., your solution to the organ shortage would probably work, but it goes beyond coercive and is actually punitive., that may be what you want, but medical decisions shouldn't be based on punishment, otherwise felons should never get organ donations, regardless of their willingness to donate., and there is a much easier and softer method of coercion we haven't tried in the united states: opt out registration., right now, you have to opt in to being an organ donor., switch it so everyone is presumed to be an organ donor unless they opt out., most people don't care about organ donation unless it effects them in some way., and most people won't go out of their way to do something if they don't care about it., that cuts both ways., just like most people aren't going out of their way to register as organ donors, most won't go out of their way to de register., the pool of available organs would shoot way up., i'd much rather try that soft coercion than outright punishing people for not being altruistic.]  \n",
       "173699                                                                                                                                                                                                                                                                                                                                                                                                                                                                                                                                                                                                                                                                                                                                                                                                                                                                                                                                                                                                                                                                                                                                                                                                                                                                                                                                                                                                                                                                                                                                                                                                                                                                                                                                                                                                                                                                                                                                                                                                                                                                                                                                                                                                                                                                                                                                                                                                                                                                                                                                                                                                                                                                                                                                                                                                                                                                                                                                                                                                                                                                                                                                                                                                                                                                                                                                                                                                                                                                                                                                                                                                                                                                                                                                                                                                                                                                                                                                                                                                                                                                                                                                                                                                                                                                                                                                                                                                                                                                                                                                                                                                                                                                                                                                                                                                                                                                                         [there will not be any noticable gain from a survival standpoint, as someone else pointed out., you'd get the same energy you get by lying in the sun for a full day from snacking on an apple., you move, you think, every single cell in your body is more complex and energy consuming then plant cells., a tree big tree will produce maybe a dozen or so apples in a year and grow a couple cm's., how much impact will the energy otherwise stored in dozen or so apples have spread out through the year?]  \n",
       "279835                                                                                                                                                                                                                                                                                                                                                                                                                                                                                                                                                                                                                                                                                                                                                                                                                                                                                                                                                                                                                                                                                                                                                                                                                                                                                                                                                                                                                                                                                                                                                                                                                                                                                                                                                                                                                                                                                                                                                                                                                                                                                                                                                                                                                                                                                                                                                                                                                                                                                                                                                                                                                                                                                                                                                                                                                                                                                                                                                                                                                                                                                                                                                                                                                                                                                                                                                                                                                                                                                                                                                                                                                                                                                                                                                                                                                                                                                                                                                                                                                                                                                                                                                                                                                                                                                                                                                                                                                                                                                                                                                                                        [no one gets off their asses for 'the future is equal', and while you stand to incite more critics with 'the future is female', you also incite more passionate people to your cause by making a statement that pushes the current status quo., the former statement doesn't have any clear call to action nor challenge against the established way of thinking because the established way of thinking is that we are already equal., the latter statement carries with it a call to action, a suggestion that in a world where historical inequalities still lie ingrained in our various systems, we may have to over correct these systems by emphasizing the needs of women specifically., we may have to put women's issues at the forefront of our minds and actions to see real results in those issues.]  \n",
       "78976                                                                                                                                                                                                                                                                                                                                                                                                                                                                                                                                                                                                                                                                                                                                                                                                                                                                                                                                                                                                                                                                                                                                                                                                                                                                                                                                                                                                                                                                                                                                                                                                                                                                                                                                                                                                                                                                                                                                                                                                                                                                                                                                                                                                                                                                                                                                                                                                                                                                                                                                                                                                                                                                                                                                                                                                                                                                                                                                                                                                                                                                                                                                                                                                                                                                                                                                                                                                                                                                                                                                                                                                                                                                                                                                                                                                                                                                                                                                                                                                                                                                                                                                                                                                                                                                                                                                                                                                                                                                                                                                                                                                                                                                                                                                [i agree that thinking of political correctness more as just good manners rather than some crazy obligation is a better way of looking at the problem., but at the same time i think it's fairly easy to prove that political correctness in this day and age is basically turning social norms into laws i. e., hate speech laws., so i think that's the better way to understand the issue but i disagree that that's what it really means from a legal standpoint., if we had any brains we'd just keep it as a social thing and stop trying to enact a mini cultural revolution all the time., i agree with your idea but i disagree that pc politeness at the moment.]  "
      ]
     },
     "execution_count": 15,
     "metadata": {},
     "output_type": "execute_result"
    }
   ],
   "source": [
    "sample_df[['post', 'title', 'counter']].head()"
   ]
  },
  {
   "cell_type": "code",
   "execution_count": null,
   "metadata": {},
   "outputs": [],
   "source": []
  }
 ],
 "metadata": {
  "kernelspec": {
   "display_name": "Python 3",
   "language": "python",
   "name": "python3"
  },
  "language_info": {
   "codemirror_mode": {
    "name": "ipython",
    "version": 3
   },
   "file_extension": ".py",
   "mimetype": "text/x-python",
   "name": "python",
   "nbconvert_exporter": "python",
   "pygments_lexer": "ipython3",
   "version": "3.6.9"
  }
 },
 "nbformat": 4,
 "nbformat_minor": 4
}
