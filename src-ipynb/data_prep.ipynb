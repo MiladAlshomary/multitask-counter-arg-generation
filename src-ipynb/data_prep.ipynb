{
 "cells": [
  {
   "cell_type": "code",
   "execution_count": 1,
   "metadata": {},
   "outputs": [],
   "source": [
    "import pandas as pd\n",
    "import numpy as np\n",
    "import json\n",
    "import matplotlib.pyplot as plt\n",
    "\n",
    "pd.set_option('display.max_colwidth', None)"
   ]
  },
  {
   "cell_type": "code",
   "execution_count": 2,
   "metadata": {},
   "outputs": [],
   "source": [
    "data_path = '/home/sile2804/data-ceph/arguana/arg-generation/argument-undermining/'"
   ]
  },
  {
   "cell_type": "code",
   "execution_count": 3,
   "metadata": {},
   "outputs": [],
   "source": [
    "jo_df =  pd.read_pickle(data_path + \"jo_data/gen_data.pickle\")\n",
    "\n",
    "training_df = jo_df[jo_df.split =='train']\n",
    "valid_df = jo_df[jo_df.split =='val']"
   ]
  },
  {
   "cell_type": "code",
   "execution_count": 4,
   "metadata": {
    "scrolled": true,
    "tags": []
   },
   "outputs": [
    {
     "data": {
      "text/html": [
       "<div>\n",
       "<style scoped>\n",
       "    .dataframe tbody tr th:only-of-type {\n",
       "        vertical-align: middle;\n",
       "    }\n",
       "\n",
       "    .dataframe tbody tr th {\n",
       "        vertical-align: top;\n",
       "    }\n",
       "\n",
       "    .dataframe thead th {\n",
       "        text-align: right;\n",
       "    }\n",
       "</style>\n",
       "<table border=\"1\" class=\"dataframe\">\n",
       "  <thead>\n",
       "    <tr style=\"text-align: right;\">\n",
       "      <th></th>\n",
       "      <th>post_id</th>\n",
       "      <th>split</th>\n",
       "      <th>comment_id</th>\n",
       "      <th>title</th>\n",
       "      <th>post</th>\n",
       "      <th>comment</th>\n",
       "      <th>n_sentences</th>\n",
       "      <th>direct_sents</th>\n",
       "      <th>all_4_sents</th>\n",
       "      <th>comment_sents</th>\n",
       "      <th>premise_counter_premise_pairs</th>\n",
       "      <th>num_attacks</th>\n",
       "    </tr>\n",
       "  </thead>\n",
       "  <tbody>\n",
       "    <tr>\n",
       "      <th>0</th>\n",
       "      <td>t3_1u4mmo</td>\n",
       "      <td>train</td>\n",
       "      <td>t1_ceei4mi</td>\n",
       "      <td>I believe that churches and other religious institutions should have to pay taxes.</td>\n",
       "      <td>[i believe that a church is like any other profit making business and therefore most pay similar taxes., i am not a religious person myself so i do not know the complete logistics of the revenue and spending of a church but i do understand they can yield a good amount of cash., not entirely sure how accurate this article is, but it states that we could gain an additional 71 billion dollars per year and in a time where we as a country are in trillions of dollars of debt taxing a church seems reasonable to me., cmv]</td>\n",
       "      <td>&amp;gt;I believe that a church is like any other profit making business and therefore most pay similar taxes. I am not a religious person myself so I do not know the complete logistics of the revenue and spending of a church but I do understand they can yield a good amount of cash. \\n\\nChurches, like all other non-profits, must make money to continue to exist.  The difference between a non-profit and a for-profit is that all profits in a non-profit go to expand the core mission whereas profits in a for-profit can be distributed to the owners.  Do you want to eliminate deductions for all nonprofits, or only for religious ones?</td>\n",
       "      <td>4</td>\n",
       "      <td>[0, 1]</td>\n",
       "      <td>[]</td>\n",
       "      <td>[i believe that a church is like any other profit making business and therefore most pay similar taxes., i am not a religious person myself so i do not know the complete logistics of the revenue and spending of a church but i do understand they can yield a good amount of cash., churches, like all other non profits, must make money to continue to exist., the difference between a non profit and a for profit is that all profits in a non profit go to expand the core mission whereas profits in a for profit can be distributed to the owners., do you want to eliminate deductions for all nonprofits, or only for religious ones?]</td>\n",
       "      <td>[[[i believe that a church is like any other profit making business and therefore most pay similar taxes., i am not a religious person myself so i do not know the complete logistics of the revenue and spending of a church but i do understand they can yield a good amount of cash.], churches, like all other non profits, must make money to continue to exist. the difference between a non profit and a for profit is that all profits in a non profit go to expand the core mission whereas profits in a for profit can be distributed to the owners. do you want to eliminate deductions for all nonprofits, or only for religious ones?]]</td>\n",
       "      <td>1</td>\n",
       "    </tr>\n",
       "    <tr>\n",
       "      <th>1</th>\n",
       "      <td>t3_1u4mmo</td>\n",
       "      <td>train</td>\n",
       "      <td>t1_ceemale</td>\n",
       "      <td>I believe that churches and other religious institutions should have to pay taxes.</td>\n",
       "      <td>[i believe that a church is like any other profit making business and therefore most pay similar taxes., i am not a religious person myself so i do not know the complete logistics of the revenue and spending of a church but i do understand they can yield a good amount of cash., not entirely sure how accurate this article is, but it states that we could gain an additional 71 billion dollars per year and in a time where we as a country are in trillions of dollars of debt taxing a church seems reasonable to me., cmv]</td>\n",
       "      <td>&amp;gt; I believe that a church is like any other profit making business and therefore most pay similar taxes.\\n\\nTo the contrary, churches are not businesses and aren't for profit. The simplest answer is that they aren't taxed because not-for-profit organizations get tax exemptions. A church could randomly decide one day that it was no longer interested in religion and only wants to be a not-for-profit charity and their tax situation would be the same.\\n\\nOf course, with the benefits of tax exempt status comes regulation -- for example, they are not supposed to be involved in political campaigning.</td>\n",
       "      <td>4</td>\n",
       "      <td>[0]</td>\n",
       "      <td>[]</td>\n",
       "      <td>[i believe that a church is like any other profit making business and therefore most pay similar taxes., to the contrary, churches are not businesses and aren't for profit., the simplest answer is that they aren't taxed because not for profit organizations get tax exemptions., a church could randomly decide one day that it was no longer interested in religion and only wants to be a not for profit charity and their tax situation would be the same., of course, with the benefits of tax exempt status comes regulation for example, they are not supposed to be involved in political campaigning.]</td>\n",
       "      <td>[[[i believe that a church is like any other profit making business and therefore most pay similar taxes.], to the contrary, churches are not businesses and aren't for profit. the simplest answer is that they aren't taxed because not for profit organizations get tax exemptions. a church could randomly decide one day that it was no longer interested in religion and only wants to be a not for profit charity and their tax situation would be the same. of course, with the benefits of tax exempt status comes regulation for example, they are not supposed to be involved in political campaigning.]]</td>\n",
       "      <td>1</td>\n",
       "    </tr>\n",
       "    <tr>\n",
       "      <th>2</th>\n",
       "      <td>t3_1u4mmo</td>\n",
       "      <td>train</td>\n",
       "      <td>t1_ceeuch1</td>\n",
       "      <td>I believe that churches and other religious institutions should have to pay taxes.</td>\n",
       "      <td>[i believe that a church is like any other profit making business and therefore most pay similar taxes., i am not a religious person myself so i do not know the complete logistics of the revenue and spending of a church but i do understand they can yield a good amount of cash., not entirely sure how accurate this article is, but it states that we could gain an additional 71 billion dollars per year and in a time where we as a country are in trillions of dollars of debt taxing a church seems reasonable to me., cmv]</td>\n",
       "      <td>&amp;gt; I believe that a church is like any other profit making business and therefore most pay similar taxes.\\n\\nWhy do you believe that profit-making businesses should have to pay taxes?</td>\n",
       "      <td>4</td>\n",
       "      <td>[0]</td>\n",
       "      <td>[]</td>\n",
       "      <td>[i believe that a church is like any other profit making business and therefore most pay similar taxes., why do you believe that profit making businesses should have to pay taxes?]</td>\n",
       "      <td>[[[i believe that a church is like any other profit making business and therefore most pay similar taxes.], why do you believe that profit making businesses should have to pay taxes?]]</td>\n",
       "      <td>1</td>\n",
       "    </tr>\n",
       "    <tr>\n",
       "      <th>3</th>\n",
       "      <td>t3_1u4mo5</td>\n",
       "      <td>train</td>\n",
       "      <td>t1_ceegjxv</td>\n",
       "      <td>I don't believe it is acceptable to attack the person that your SO cheated on you with.</td>\n",
       "      <td>[so it seems to be common that, when caught cheating, violence is directed toward the person the significant other so cheated with., i don't understand why., you were in a relationship with your so., you had no agreement with the other party., if you are going to beat the shit out of anyone, it should be your so., s he is the one that cheated on you., the other party, provided they aren't a friend or acquaintance doesn't owe you anything., why should beating the ever loving shit out of your so's cheat mate be acceptable?]</td>\n",
       "      <td>&amp;gt;So it seems to be common that, when caught cheating, violence is directed toward the person the significant other (SO) cheated with.\\n\\nIt is not common, and the vast majority of people do not see it as \"acceptable\". They aren't always surprised when it happens, but that doesn't mean they approve of it. \\n\\nIf it seems common, that probably has more to do with how often you hear about it than with how often it occurs. It's not the rarest thing in the world, but it's certainly not something most people do.</td>\n",
       "      <td>8</td>\n",
       "      <td>[0]</td>\n",
       "      <td>[]</td>\n",
       "      <td>[so it seems to be common that, when caught cheating, violence is directed toward the person the significant other so cheated with., it is not common, and the vast majority of people do not see it as 'acceptable'., they aren't always surprised when it happens, but that doesn't mean they approve of it., if it seems common, that probably has more to do with how often you hear about it than with how often it occurs., it's not the rarest thing in the world, but it's certainly not something most people do.]</td>\n",
       "      <td>[[[so it seems to be common that, when caught cheating, violence is directed toward the person the significant other so cheated with.], it is not common, and the vast majority of people do not see it as 'acceptable'. they aren't always surprised when it happens, but that doesn't mean they approve of it. if it seems common, that probably has more to do with how often you hear about it than with how often it occurs. it's not the rarest thing in the world, but it's certainly not something most people do.]]</td>\n",
       "      <td>1</td>\n",
       "    </tr>\n",
       "    <tr>\n",
       "      <th>4</th>\n",
       "      <td>t3_1u4mo5</td>\n",
       "      <td>train</td>\n",
       "      <td>t1_ceeqk73</td>\n",
       "      <td>I don't believe it is acceptable to attack the person that your SO cheated on you with.</td>\n",
       "      <td>[so it seems to be common that, when caught cheating, violence is directed toward the person the significant other so cheated with., i don't understand why., you were in a relationship with your so., you had no agreement with the other party., if you are going to beat the shit out of anyone, it should be your so., s he is the one that cheated on you., the other party, provided they aren't a friend or acquaintance doesn't owe you anything., why should beating the ever loving shit out of your so's cheat mate be acceptable?]</td>\n",
       "      <td>&amp;gt; You were in a relationship with your SO. You had no agreement with the other party.\\n\\nExactly. You have no relationship to this other person. Why wouldn't you take out your anger on them? Your mate you might actually want to sort things out with once you calm down, but they person they cheated on you with? Why the fuck would you give a shit about their feelings/well being?\\n\\nWell, I mean, that's an -explanation- for it. I don't know why you're asking us to -justify- violence, though?</td>\n",
       "      <td>8</td>\n",
       "      <td>[2, 3]</td>\n",
       "      <td>[]</td>\n",
       "      <td>[you were in a relationship with your so., you had no agreement with the other party., exactly., you have no relationship to this other person., why wouldn't you take out your anger on them?, your mate you might actually want to sort things out with once you calm down, but they person they cheated on you with?, why the fuck would you give a shit about their feelings well being?, well, i mean, that's an explanation for it., i don't know why you're asking us to justify violence, though?]</td>\n",
       "      <td>[[[you were in a relationship with your so., you had no agreement with the other party.], exactly. you have no relationship to this other person. why wouldn't you take out your anger on them? your mate you might actually want to sort things out with once you calm down, but they person they cheated on you with? why the fuck would you give a shit about their feelings well being?]]</td>\n",
       "      <td>1</td>\n",
       "    </tr>\n",
       "  </tbody>\n",
       "</table>\n",
       "</div>"
      ],
      "text/plain": [
       "     post_id  split  comment_id  \\\n",
       "0  t3_1u4mmo  train  t1_ceei4mi   \n",
       "1  t3_1u4mmo  train  t1_ceemale   \n",
       "2  t3_1u4mmo  train  t1_ceeuch1   \n",
       "3  t3_1u4mo5  train  t1_ceegjxv   \n",
       "4  t3_1u4mo5  train  t1_ceeqk73   \n",
       "\n",
       "                                                                                      title  \\\n",
       "0       I believe that churches and other religious institutions should have to pay taxes.    \n",
       "1       I believe that churches and other religious institutions should have to pay taxes.    \n",
       "2       I believe that churches and other religious institutions should have to pay taxes.    \n",
       "3  I don't believe it is acceptable to attack the person that your SO cheated on you with.    \n",
       "4  I don't believe it is acceptable to attack the person that your SO cheated on you with.    \n",
       "\n",
       "                                                                                                                                                                                                                                                                                                                                                                                                                                                                                                                                              post  \\\n",
       "0          [i believe that a church is like any other profit making business and therefore most pay similar taxes., i am not a religious person myself so i do not know the complete logistics of the revenue and spending of a church but i do understand they can yield a good amount of cash., not entirely sure how accurate this article is, but it states that we could gain an additional 71 billion dollars per year and in a time where we as a country are in trillions of dollars of debt taxing a church seems reasonable to me., cmv]   \n",
       "1          [i believe that a church is like any other profit making business and therefore most pay similar taxes., i am not a religious person myself so i do not know the complete logistics of the revenue and spending of a church but i do understand they can yield a good amount of cash., not entirely sure how accurate this article is, but it states that we could gain an additional 71 billion dollars per year and in a time where we as a country are in trillions of dollars of debt taxing a church seems reasonable to me., cmv]   \n",
       "2          [i believe that a church is like any other profit making business and therefore most pay similar taxes., i am not a religious person myself so i do not know the complete logistics of the revenue and spending of a church but i do understand they can yield a good amount of cash., not entirely sure how accurate this article is, but it states that we could gain an additional 71 billion dollars per year and in a time where we as a country are in trillions of dollars of debt taxing a church seems reasonable to me., cmv]   \n",
       "3  [so it seems to be common that, when caught cheating, violence is directed toward the person the significant other so cheated with., i don't understand why., you were in a relationship with your so., you had no agreement with the other party., if you are going to beat the shit out of anyone, it should be your so., s he is the one that cheated on you., the other party, provided they aren't a friend or acquaintance doesn't owe you anything., why should beating the ever loving shit out of your so's cheat mate be acceptable?]   \n",
       "4  [so it seems to be common that, when caught cheating, violence is directed toward the person the significant other so cheated with., i don't understand why., you were in a relationship with your so., you had no agreement with the other party., if you are going to beat the shit out of anyone, it should be your so., s he is the one that cheated on you., the other party, provided they aren't a friend or acquaintance doesn't owe you anything., why should beating the ever loving shit out of your so's cheat mate be acceptable?]   \n",
       "\n",
       "                                                                                                                                                                                                                                                                                                                                                                                                                                                                                                                                                                                                                                                  comment  \\\n",
       "0  &gt;I believe that a church is like any other profit making business and therefore most pay similar taxes. I am not a religious person myself so I do not know the complete logistics of the revenue and spending of a church but I do understand they can yield a good amount of cash. \\n\\nChurches, like all other non-profits, must make money to continue to exist.  The difference between a non-profit and a for-profit is that all profits in a non-profit go to expand the core mission whereas profits in a for-profit can be distributed to the owners.  Do you want to eliminate deductions for all nonprofits, or only for religious ones?   \n",
       "1                             &gt; I believe that a church is like any other profit making business and therefore most pay similar taxes.\\n\\nTo the contrary, churches are not businesses and aren't for profit. The simplest answer is that they aren't taxed because not-for-profit organizations get tax exemptions. A church could randomly decide one day that it was no longer interested in religion and only wants to be a not-for-profit charity and their tax situation would be the same.\\n\\nOf course, with the benefits of tax exempt status comes regulation -- for example, they are not supposed to be involved in political campaigning.   \n",
       "2                                                                                                                                                                                                                                                                                                                                                                                                                                                               &gt; I believe that a church is like any other profit making business and therefore most pay similar taxes.\\n\\nWhy do you believe that profit-making businesses should have to pay taxes?   \n",
       "3                                                                                                                     &gt;So it seems to be common that, when caught cheating, violence is directed toward the person the significant other (SO) cheated with.\\n\\nIt is not common, and the vast majority of people do not see it as \"acceptable\". They aren't always surprised when it happens, but that doesn't mean they approve of it. \\n\\nIf it seems common, that probably has more to do with how often you hear about it than with how often it occurs. It's not the rarest thing in the world, but it's certainly not something most people do.    \n",
       "4                                                                                                                                         &gt; You were in a relationship with your SO. You had no agreement with the other party.\\n\\nExactly. You have no relationship to this other person. Why wouldn't you take out your anger on them? Your mate you might actually want to sort things out with once you calm down, but they person they cheated on you with? Why the fuck would you give a shit about their feelings/well being?\\n\\nWell, I mean, that's an -explanation- for it. I don't know why you're asking us to -justify- violence, though?   \n",
       "\n",
       "   n_sentences direct_sents all_4_sents  \\\n",
       "0            4       [0, 1]          []   \n",
       "1            4          [0]          []   \n",
       "2            4          [0]          []   \n",
       "3            8          [0]          []   \n",
       "4            8       [2, 3]          []   \n",
       "\n",
       "                                                                                                                                                                                                                                                                                                                                                                                                                                                                                                                                                                                                                                        comment_sents  \\\n",
       "0  [i believe that a church is like any other profit making business and therefore most pay similar taxes., i am not a religious person myself so i do not know the complete logistics of the revenue and spending of a church but i do understand they can yield a good amount of cash., churches, like all other non profits, must make money to continue to exist., the difference between a non profit and a for profit is that all profits in a non profit go to expand the core mission whereas profits in a for profit can be distributed to the owners., do you want to eliminate deductions for all nonprofits, or only for religious ones?]   \n",
       "1                                 [i believe that a church is like any other profit making business and therefore most pay similar taxes., to the contrary, churches are not businesses and aren't for profit., the simplest answer is that they aren't taxed because not for profit organizations get tax exemptions., a church could randomly decide one day that it was no longer interested in religion and only wants to be a not for profit charity and their tax situation would be the same., of course, with the benefits of tax exempt status comes regulation for example, they are not supposed to be involved in political campaigning.]   \n",
       "2                                                                                                                                                                                                                                                                                                                                                                                                                                                                [i believe that a church is like any other profit making business and therefore most pay similar taxes., why do you believe that profit making businesses should have to pay taxes?]   \n",
       "3                                                                                                                         [so it seems to be common that, when caught cheating, violence is directed toward the person the significant other so cheated with., it is not common, and the vast majority of people do not see it as 'acceptable'., they aren't always surprised when it happens, but that doesn't mean they approve of it., if it seems common, that probably has more to do with how often you hear about it than with how often it occurs., it's not the rarest thing in the world, but it's certainly not something most people do.]   \n",
       "4                                                                                                                                          [you were in a relationship with your so., you had no agreement with the other party., exactly., you have no relationship to this other person., why wouldn't you take out your anger on them?, your mate you might actually want to sort things out with once you calm down, but they person they cheated on you with?, why the fuck would you give a shit about their feelings well being?, well, i mean, that's an explanation for it., i don't know why you're asking us to justify violence, though?]   \n",
       "\n",
       "                                                                                                                                                                                                                                                                                                                                                                                                                                                                                                                                                                                                                          premise_counter_premise_pairs  \\\n",
       "0  [[[i believe that a church is like any other profit making business and therefore most pay similar taxes., i am not a religious person myself so i do not know the complete logistics of the revenue and spending of a church but i do understand they can yield a good amount of cash.], churches, like all other non profits, must make money to continue to exist. the difference between a non profit and a for profit is that all profits in a non profit go to expand the core mission whereas profits in a for profit can be distributed to the owners. do you want to eliminate deductions for all nonprofits, or only for religious ones?]]   \n",
       "1                                  [[[i believe that a church is like any other profit making business and therefore most pay similar taxes.], to the contrary, churches are not businesses and aren't for profit. the simplest answer is that they aren't taxed because not for profit organizations get tax exemptions. a church could randomly decide one day that it was no longer interested in religion and only wants to be a not for profit charity and their tax situation would be the same. of course, with the benefits of tax exempt status comes regulation for example, they are not supposed to be involved in political campaigning.]]   \n",
       "2                                                                                                                                                                                                                                                                                                                                                                                                                                                              [[[i believe that a church is like any other profit making business and therefore most pay similar taxes.], why do you believe that profit making businesses should have to pay taxes?]]   \n",
       "3                                                                                                                          [[[so it seems to be common that, when caught cheating, violence is directed toward the person the significant other so cheated with.], it is not common, and the vast majority of people do not see it as 'acceptable'. they aren't always surprised when it happens, but that doesn't mean they approve of it. if it seems common, that probably has more to do with how often you hear about it than with how often it occurs. it's not the rarest thing in the world, but it's certainly not something most people do.]]   \n",
       "4                                                                                                                                                                                                                                                         [[[you were in a relationship with your so., you had no agreement with the other party.], exactly. you have no relationship to this other person. why wouldn't you take out your anger on them? your mate you might actually want to sort things out with once you calm down, but they person they cheated on you with? why the fuck would you give a shit about their feelings well being?]]   \n",
       "\n",
       "   num_attacks  \n",
       "0            1  \n",
       "1            1  \n",
       "2            1  \n",
       "3            1  \n",
       "4            1  "
      ]
     },
     "execution_count": 4,
     "metadata": {},
     "output_type": "execute_result"
    }
   ],
   "source": [
    "training_df.head()"
   ]
  },
  {
   "cell_type": "code",
   "execution_count": 3,
   "metadata": {},
   "outputs": [],
   "source": [
    "def convert_df(df, path, sample=None):\n",
    "    examples = []\n",
    "    if sample is not None:\n",
    "        df = df.sample(sample)\n",
    "    \n",
    "    for idx, post in df.iterrows():\n",
    "        for attack in post['premise_counter_premise_pairs']:\n",
    "            examples.append(\n",
    "                {\n",
    "                    'conclusion': post['title'],\n",
    "                    'premises': post['post'],\n",
    "                    'weak_premises': attack[0],\n",
    "                    'counter' : attack[1],\n",
    "                }\n",
    "            )\n",
    "    \n",
    "    print('Number of examples: {}'.format(len(examples)))\n",
    "    new_df = pd.DataFrame(examples)\n",
    "    return new_df\n",
    "    #json.dump(examples, open(path, 'w'))"
   ]
  },
  {
   "cell_type": "code",
   "execution_count": 6,
   "metadata": {},
   "outputs": [
    {
     "name": "stdout",
     "output_type": "stream",
     "text": [
      "Number of examples: 90426\n"
     ]
    }
   ],
   "source": [
    "new_training_df = convert_df(training_df, '../data/train.json')"
   ]
  },
  {
   "cell_type": "code",
   "execution_count": 7,
   "metadata": {},
   "outputs": [
    {
     "name": "stdout",
     "output_type": "stream",
     "text": [
      "Number of examples: 29940\n"
     ]
    }
   ],
   "source": [
    "new_valid_df = convert_df(valid_df, '../data/valid.json')"
   ]
  },
  {
   "cell_type": "code",
   "execution_count": 12,
   "metadata": {},
   "outputs": [],
   "source": [
    "new_training_df.to_pickle('../data/train.pkl')\n",
    "new_valid_df.to_pickle('../data/valid.pkl')"
   ]
  },
  {
   "cell_type": "code",
   "execution_count": 10,
   "metadata": {},
   "outputs": [],
   "source": [
    "new_training_df.to_csv('../data/train.csv', index=False)\n",
    "new_valid_df.to_csv('../data/valid.csv', index=False)"
   ]
  },
  {
   "cell_type": "markdown",
   "metadata": {},
   "source": [
    "### Prepare data for conclusion comprehension for CA generation task:"
   ]
  },
  {
   "cell_type": "code",
   "execution_count": 3,
   "metadata": {
    "scrolled": true,
    "tags": []
   },
   "outputs": [],
   "source": [
    "from fuzzywuzzy import fuzz\n",
    "from fuzzywuzzy import process\n",
    "\n",
    "import nltk\n",
    "from nltk.corpus import stopwords\n",
    "en_stopwords = stopwords.words('english')\n",
    "\n",
    "from sentence_transformers import SentenceTransformer, util\n",
    "import torch\n",
    "model = SentenceTransformer('all-MiniLM-L6-v2')"
   ]
  },
  {
   "cell_type": "code",
   "execution_count": 4,
   "metadata": {},
   "outputs": [],
   "source": [
    "def content_token_overlap(text1, text2):\n",
    "    tokens1 = set([x for x in nltk.word_tokenize(text1.lower()) if x not in en_stopwords])\n",
    "    tokens2 = set([x for x in nltk.word_tokenize(text2.lower()) if x not in en_stopwords])\n",
    "    \n",
    "    return round(len(tokens1.intersection(tokens2))/len(tokens1.union(tokens2)), 5)"
   ]
  },
  {
   "cell_type": "code",
   "execution_count": 8,
   "metadata": {},
   "outputs": [],
   "source": [
    "df = pd.read_pickle(data_path + \"jo_data/argument_rebuttals.pkl\")"
   ]
  },
  {
   "cell_type": "code",
   "execution_count": 10,
   "metadata": {},
   "outputs": [],
   "source": [
    "sample_df = df.sample(1000)"
   ]
  },
  {
   "cell_type": "code",
   "execution_count": 11,
   "metadata": {},
   "outputs": [],
   "source": [
    "#sample_df['conclusions_in_argument'] = sample_df.apply(lambda x: process.extract(x['title'], x['post'], scorer=fuzz.token_set_ratio, limit=500), axis=1)\n",
    "sample_df['conclusions_in_argument'] = sample_df.apply(lambda x: [(sent, content_token_overlap(x['title'], sent)) for sent in x['post']], axis=1)"
   ]
  },
  {
   "cell_type": "code",
   "execution_count": 47,
   "metadata": {},
   "outputs": [],
   "source": [
    "#Compute semantic similarity\n",
    "sample_df['conclusion_embeddings'] = model.encode(sample_df['title'].tolist()).tolist()\n",
    "sample_df['premises_embeddings'] = sample_df['post'].apply(lambda x: model.encode(x))\n",
    "sample_df['conclusions_in_argument'] = sample_df.apply(lambda x: util.pytorch_cos_sim(torch.tensor(x['conclusion_embeddings']), \n",
    "                                                                                      torch.tensor(x['premises_embeddings'])\n",
    "                                                                ).tolist()[0], axis=1)\n",
    "sample_df['conclusions_in_argument'] = sample_df.apply(lambda x: list(zip(x['post'], x['conclusions_in_argument'])), axis=1)"
   ]
  },
  {
   "cell_type": "code",
   "execution_count": 54,
   "metadata": {
    "scrolled": true,
    "tags": []
   },
   "outputs": [
    {
     "data": {
      "text/html": [
       "<div>\n",
       "<style scoped>\n",
       "    .dataframe tbody tr th:only-of-type {\n",
       "        vertical-align: middle;\n",
       "    }\n",
       "\n",
       "    .dataframe tbody tr th {\n",
       "        vertical-align: top;\n",
       "    }\n",
       "\n",
       "    .dataframe thead th {\n",
       "        text-align: right;\n",
       "    }\n",
       "</style>\n",
       "<table border=\"1\" class=\"dataframe\">\n",
       "  <thead>\n",
       "    <tr style=\"text-align: right;\">\n",
       "      <th></th>\n",
       "      <th>title</th>\n",
       "      <th>post</th>\n",
       "      <th>conclusions_in_argument</th>\n",
       "    </tr>\n",
       "  </thead>\n",
       "  <tbody>\n",
       "    <tr>\n",
       "      <th>290103</th>\n",
       "      <td>Shaming women for sleeping with many is no better than shaming men for sleeping with few</td>\n",
       "      <td>[i see this a lot, where women say it's unfair to get shamed for sleeping around, but when men do they're praised for it, called a 'player', 'stud', etc., but nobody talks about how men get shamed for still being a virgin or 'not getting some', while women get praised for it., at the end of the day, aren't people getting shamed both ways for being themselves?, 'patriarchy' won't change my mind, as both are parties that are getting hurt., whether or not a guy being shamed is of the same gender that created the rules in the first place makes no difference to me, and i fail to see why it should., in my opinion, that's like saying people in the middle east shouldn't complain because their dictator shares the same nationality., the 'accusers' are both men and women as well, for either shaming., since both demographics are guilty of this, why should there be a difference?, going away for a bit, i'll probably read responses, though i can't promise to reply., thanks to everyone who took the effort to give me perspective!]</td>\n",
       "      <td>[(i see this a lot, where women say it's unfair to get shamed for sleeping around, but when men do they're praised for it, called a 'player', 'stud', etc., 0.5033611059188843), (but nobody talks about how men get shamed for still being a virgin or 'not getting some', while women get praised for it., 0.45310935378074646), (at the end of the day, aren't people getting shamed both ways for being themselves?, 0.32762911915779114), ('patriarchy' won't change my mind, as both are parties that are getting hurt., 0.33749765157699585), (whether or not a guy being shamed is of the same gender that created the rules in the first place makes no difference to me, and i fail to see why it should., 0.4704388380050659), (in my opinion, that's like saying people in the middle east shouldn't complain because their dictator shares the same nationality., 0.2672026753425598), (the 'accusers' are both men and women as well, for either shaming., 0.552834689617157), (since both demographics are guilty of this, why should there be a difference?, 0.336520254611969), (going away for a bit, i'll probably read responses, though i can't promise to reply., 0.10098472982645035), (thanks to everyone who took the effort to give me perspective!, 0.1411144733428955)]</td>\n",
       "    </tr>\n",
       "    <tr>\n",
       "      <th>262589</th>\n",
       "      <td>If you know your friend's significant other is cheating on her, you should not tell her.</td>\n",
       "      <td>[scenario: you have a close female friend., you find information that 100 demonstrates her significant other boyfriend, husband, girlfriend, wife is cheating on her., you should not tell her anything point blank., i once had a close friend whose boyfriend kept hitting on me for months., i finally told her., she didn't thank me., she said i was making it up because i wanted him for myself., she stopped speaking to me., a second time me and my friend karlie found out our friend's june's boyfriend was cheating and asking girls to come to his house to fuck him., we told june., june didn't believe us., we stayed friends but things got weird., third time broke the camel's back for me., i caught my best friend's boyfriend holding hands with another girl., i told her., he actually didn't deny it., they broke up., then she took him back., he was awkward around me afterwards., i know my experience may be anecdotal but 'shooting the messenger' is 100 real., people don't want to accept things that are painful., sometimes the truth is too painful to accept., instead of accepting it, they would rather shoot the messenger and hope that he she is lying rather than accept the truth., your friend is not going to want to believe her husband boyfriend is cheating., she's going to shoot you as the messenger., telling her risks damaging your friendship., 1 she's either not going to believe you., and or she'll turn it on you, shoot you as the messenger and that will affect your friendship., 2 if you have 100 proof that he's cheating, don't think your problems won't be so great., she still might shoot the messenger., she has to be angry at someone., she's not going to want to be angry with him, so she's going to lash her anger on you., or imagine if she sees the proof, but forgives him, or takes him back., every time she sees you it will remind her of his infidelity, and it will put you and your friendship in a compromising position., imagine how uncomfortable it will be for him to be around you knowing you ratted him out the first time., he might just get her to turn against you or make her distance herself from you., i think for the sake of preserving your friendship, you should pretend you don't know anything.]</td>\n",
       "      <td>[(scenario: you have a close female friend., 0.4608636498451233), (you find information that 100 demonstrates her significant other boyfriend, husband, girlfriend, wife is cheating on her., 0.44560033082962036), (you should not tell her anything point blank., 0.47355973720550537), (i once had a close friend whose boyfriend kept hitting on me for months., 0.2932227849960327), (i finally told her., 0.3399260938167572), (she didn't thank me., 0.14144739508628845), (she said i was making it up because i wanted him for myself., 0.24966466426849365), (she stopped speaking to me., 0.1269458383321762), (a second time me and my friend karlie found out our friend's june's boyfriend was cheating and asking girls to come to his house to fuck him., 0.4063212275505066), (we told june., 0.10412606596946716), (june didn't believe us., 0.013479788787662983), (we stayed friends but things got weird., 0.16105791926383972), (third time broke the camel's back for me., 0.01407548412680626), (i caught my best friend's boyfriend holding hands with another girl., 0.4584948718547821), (i told her., 0.35941949486732483), (he actually didn't deny it., 0.17056645452976227), (they broke up., 0.10108734667301178), (then she took him back., 0.18650037050247192), (he was awkward around me afterwards., 0.06080975756049156), (i know my experience may be anecdotal but 'shooting the messenger' is 100 real., 0.08207506686449051), (people don't want to accept things that are painful., -0.019714226946234703), (sometimes the truth is too painful to accept., 0.06558113545179367), (instead of accepting it, they would rather shoot the messenger and hope that he she is lying rather than accept the truth., 0.298552930355072), (your friend is not going to want to believe her husband boyfriend is cheating., 0.675557017326355), (she's going to shoot you as the messenger., 0.2137022614479065), (telling her risks damaging your friendship., 0.5580143928527832), (1 she's either not going to believe you., 0.2631455063819885), (and or she'll turn it on you, shoot you as the messenger and that will affect your friendship., 0.406234472990036), (2 if you have 100 proof that he's cheating, don't think your problems won't be so great., 0.35977545380592346), (she still might shoot the messenger., 0.2530425488948822), (she has to be angry at someone., 0.26239821314811707), (she's not going to want to be angry with him, so she's going to lash her anger on you., 0.3427543044090271), (or imagine if she sees the proof, but forgives him, or takes him back., 0.34219783544540405), (every time she sees you it will remind her of his infidelity, and it will put you and your friendship in a compromising position., 0.5617641806602478), (imagine how uncomfortable it will be for him to be around you knowing you ratted him out the first time., 0.2165759801864624), (he might just get her to turn against you or make her distance herself from you., 0.2786720395088196), (i think for the sake of preserving your friendship, you should pretend you don't know anything., 0.35419991612434387)]</td>\n",
       "    </tr>\n",
       "    <tr>\n",
       "      <th>53431</th>\n",
       "      <td>I think Niccolo Machiavelli has an undeservedly poor reputation.</td>\n",
       "      <td>[it seems to me that niccolo machiavelli has an undeservedly poor legacy., the term machiavellian comes to mind we only ever use it to refer to political realists who do bad things., for example, the fictional character francis underwood from house of cards is frequently called the picture of a machiavellian character., while i would say that this is true, i think that it leads to an undue association between machaivelli and being bad ., i've read the prince and i'm partway through discourses on livy and neither of them ever outright endorses doing evil things., if nothing else, it seems to me like machiavelli only ever advocated doing morally questionable things if it would end up being either for the greater good or the preservation of the state with the preservation of the state being inherently neither good nor bad ., what is perhaps worse in my view is that machiavelli seems to only be popularly known for the prince , a rather short work at least compared to discourses that, it's my understanding, was written with the goal of getting into the good graces of the medici family and for little other reason., now, i'm not one of those who will argue that it's a satire i think an honest reading of the prince itself shows that it is clearly serious but i would argue that the prince is not the most accurate picture of machiavelli's view of politics., history and discourses as well as one of the first chapters in the prince show us that machiavelli was much more in favor of a republic of the people rather than an autocracy., i think that's all, for now., i feel like i'm missing something or maybe formatted what i did write rather poorly, but i can't exactly figure how i would want to fix it right now, either.]</td>\n",
       "      <td>[(it seems to me that niccolo machiavelli has an undeservedly poor legacy., 0.8205562829971313), (the term machiavellian comes to mind we only ever use it to refer to political realists who do bad things., 0.522111177444458), (for example, the fictional character francis underwood from house of cards is frequently called the picture of a machiavellian character., 0.40450960397720337), (while i would say that this is true, i think that it leads to an undue association between machaivelli and being bad ., 0.6246120929718018), (i've read the prince and i'm partway through discourses on livy and neither of them ever outright endorses doing evil things., 0.40886950492858887), (if nothing else, it seems to me like machiavelli only ever advocated doing morally questionable things if it would end up being either for the greater good or the preservation of the state with the preservation of the state being inherently neither good nor bad ., 0.5931152701377869), (what is perhaps worse in my view is that machiavelli seems to only be popularly known for the prince , a rather short work at least compared to discourses that, it's my understanding, was written with the goal of getting into the good graces of the medici family and for little other reason., 0.6545915603637695), (now, i'm not one of those who will argue that it's a satire i think an honest reading of the prince itself shows that it is clearly serious but i would argue that the prince is not the most accurate picture of machiavelli's view of politics., 0.5333380699157715), (history and discourses as well as one of the first chapters in the prince show us that machiavelli was much more in favor of a republic of the people rather than an autocracy., 0.49781712889671326), (i think that's all, for now., 0.1129864752292633), (i feel like i'm missing something or maybe formatted what i did write rather poorly, but i can't exactly figure how i would want to fix it right now, either., 0.06864472478628159)]</td>\n",
       "    </tr>\n",
       "    <tr>\n",
       "      <th>387208</th>\n",
       "      <td>Dual loyalty to two countries is impossible</td>\n",
       "      <td>[i believe it is inherently impossible to claim that you are loyal to two counties sovereign states., my view basically boils down to one question., if, at some point, both countries were at war and asking you to fight for them, who would you choose?, you can't say neither, and your answer is who you're loyal to., this works purely as a theoretical question., doesn't matter if the situation will likely never arise, the answer shows which countries interests you care about more., even the closest allies have times where they disagree on matters, and sometimes those matters are purely because both countries only stand to benefit from opposite resolutions., not necessarily right or wrong, just who do i want coming out on top., so my view is that because countries always have their own self interests at heart, they will eventually have conflicts even with their allies again, no right or wrong, just who comes out on top , and having to choose a side in the conflict is your loyalty., the fact that these countries may not currently have conflict has absolutely not bearing on this.]</td>\n",
       "      <td>[(i believe it is inherently impossible to claim that you are loyal to two counties sovereign states., 0.5237057209014893), (my view basically boils down to one question., 0.10486392676830292), (if, at some point, both countries were at war and asking you to fight for them, who would you choose?, 0.33221620321273804), (you can't say neither, and your answer is who you're loyal to., 0.2211238145828247), (this works purely as a theoretical question., 0.15174034237861633), (doesn't matter if the situation will likely never arise, the answer shows which countries interests you care about more., 0.38977453112602234), (even the closest allies have times where they disagree on matters, and sometimes those matters are purely because both countries only stand to benefit from opposite resolutions., 0.44510453939437866), (not necessarily right or wrong, just who do i want coming out on top., 0.11762990057468414), (so my view is that because countries always have their own self interests at heart, they will eventually have conflicts even with their allies again, no right or wrong, just who comes out on top , and having to choose a side in the conflict is your loyalty., 0.5874720811843872), (the fact that these countries may not currently have conflict has absolutely not bearing on this., 0.3360975980758667)]</td>\n",
       "    </tr>\n",
       "    <tr>\n",
       "      <th>285839</th>\n",
       "      <td>I believe that sex education should be in the home from parents and not the jobs of educators at school.</td>\n",
       "      <td>[i think it shouldn t be the job of people at school to teach sex education because., 1., a lot of times they teach abstinence is the only form of safe sex and that s extremely dangerous because that s when you have the problems of teen pregnancy because we were all teens once and seriously?, you re going to tell me that i can never experiment sexually, at all., then teens go, and they aren t on b c and have never even learned about different forms of sex from anywhere besides possibly porn., now they ve got an entirely skewed view on sex., then they end in shame or don t know about consent and that s how we end up with rape culture 2., it ends up being like that scene from mean girls don t have sex because you ll get pregnant and die., here s some condoms 3., it becomes a joke because you always have the class clowns that turn it into a joke when there s actually kids that are curious but too afraid to ask., then sex isn t taken seriously., 4., you really want someone you ve met at most once or twice maybe if your lucky 4 times once per quarter teaching your kids about something that detrimental in literally everyone s life?]</td>\n",
       "      <td>[(i think it shouldn t be the job of people at school to teach sex education because., 0.8578989505767822), (1., -0.0358453169465065), (a lot of times they teach abstinence is the only form of safe sex and that s extremely dangerous because that s when you have the problems of teen pregnancy because we were all teens once and seriously?, 0.46461886167526245), (you re going to tell me that i can never experiment sexually, at all., 0.2142387181520462), (then teens go, and they aren t on b c and have never even learned about different forms of sex from anywhere besides possibly porn., 0.4366942048072815), (now they ve got an entirely skewed view on sex., 0.38941001892089844), (then they end in shame or don t know about consent and that s how we end up with rape culture 2., 0.3235386610031128), (it ends up being like that scene from mean girls don t have sex because you ll get pregnant and die., 0.2665000259876251), (here s some condoms 3., 0.15831732749938965), (it becomes a joke because you always have the class clowns that turn it into a joke when there s actually kids that are curious but too afraid to ask., 0.2873208522796631), (then sex isn t taken seriously., 0.36585360765457153), (4., -0.03017510287463665), (you really want someone you ve met at most once or twice maybe if your lucky 4 times once per quarter teaching your kids about something that detrimental in literally everyone s life?, 0.24228256940841675)]</td>\n",
       "    </tr>\n",
       "  </tbody>\n",
       "</table>\n",
       "</div>"
      ],
      "text/plain": [
       "                                                                                                            title  \\\n",
       "290103                   Shaming women for sleeping with many is no better than shaming men for sleeping with few   \n",
       "262589                   If you know your friend's significant other is cheating on her, you should not tell her.   \n",
       "53431                                            I think Niccolo Machiavelli has an undeservedly poor reputation.   \n",
       "387208                                                                Dual loyalty to two countries is impossible   \n",
       "285839   I believe that sex education should be in the home from parents and not the jobs of educators at school.   \n",
       "\n",
       "                                                                                                                                                                                                                                                                                                                                                                                                                                                                                                                                                                                                                                                                                                                                                                                                                                                                                                                                                                                                                                                                                                                                                                                                                                                                                                                                                                                                                                                                                                                                                                                                                                                                                                                                                                                                                                                                                                                                                                                                                                                                                                                                                                                                                                                                                                                         post  \\\n",
       "290103                                                                                                                                                                                                                                                                                                                                                                                                                                                                                                                                                                                                                                                                                                                                                                                                                                                                                                                                                                                                                                                                                                                                                                                                                                                  [i see this a lot, where women say it's unfair to get shamed for sleeping around, but when men do they're praised for it, called a 'player', 'stud', etc., but nobody talks about how men get shamed for still being a virgin or 'not getting some', while women get praised for it., at the end of the day, aren't people getting shamed both ways for being themselves?, 'patriarchy' won't change my mind, as both are parties that are getting hurt., whether or not a guy being shamed is of the same gender that created the rules in the first place makes no difference to me, and i fail to see why it should., in my opinion, that's like saying people in the middle east shouldn't complain because their dictator shares the same nationality., the 'accusers' are both men and women as well, for either shaming., since both demographics are guilty of this, why should there be a difference?, going away for a bit, i'll probably read responses, though i can't promise to reply., thanks to everyone who took the effort to give me perspective!]   \n",
       "262589  [scenario: you have a close female friend., you find information that 100 demonstrates her significant other boyfriend, husband, girlfriend, wife is cheating on her., you should not tell her anything point blank., i once had a close friend whose boyfriend kept hitting on me for months., i finally told her., she didn't thank me., she said i was making it up because i wanted him for myself., she stopped speaking to me., a second time me and my friend karlie found out our friend's june's boyfriend was cheating and asking girls to come to his house to fuck him., we told june., june didn't believe us., we stayed friends but things got weird., third time broke the camel's back for me., i caught my best friend's boyfriend holding hands with another girl., i told her., he actually didn't deny it., they broke up., then she took him back., he was awkward around me afterwards., i know my experience may be anecdotal but 'shooting the messenger' is 100 real., people don't want to accept things that are painful., sometimes the truth is too painful to accept., instead of accepting it, they would rather shoot the messenger and hope that he she is lying rather than accept the truth., your friend is not going to want to believe her husband boyfriend is cheating., she's going to shoot you as the messenger., telling her risks damaging your friendship., 1 she's either not going to believe you., and or she'll turn it on you, shoot you as the messenger and that will affect your friendship., 2 if you have 100 proof that he's cheating, don't think your problems won't be so great., she still might shoot the messenger., she has to be angry at someone., she's not going to want to be angry with him, so she's going to lash her anger on you., or imagine if she sees the proof, but forgives him, or takes him back., every time she sees you it will remind her of his infidelity, and it will put you and your friendship in a compromising position., imagine how uncomfortable it will be for him to be around you knowing you ratted him out the first time., he might just get her to turn against you or make her distance herself from you., i think for the sake of preserving your friendship, you should pretend you don't know anything.]   \n",
       "53431                                                                                                                                                                                                                                                                                                                                                                                                                                                                                                                 [it seems to me that niccolo machiavelli has an undeservedly poor legacy., the term machiavellian comes to mind we only ever use it to refer to political realists who do bad things., for example, the fictional character francis underwood from house of cards is frequently called the picture of a machiavellian character., while i would say that this is true, i think that it leads to an undue association between machaivelli and being bad ., i've read the prince and i'm partway through discourses on livy and neither of them ever outright endorses doing evil things., if nothing else, it seems to me like machiavelli only ever advocated doing morally questionable things if it would end up being either for the greater good or the preservation of the state with the preservation of the state being inherently neither good nor bad ., what is perhaps worse in my view is that machiavelli seems to only be popularly known for the prince , a rather short work at least compared to discourses that, it's my understanding, was written with the goal of getting into the good graces of the medici family and for little other reason., now, i'm not one of those who will argue that it's a satire i think an honest reading of the prince itself shows that it is clearly serious but i would argue that the prince is not the most accurate picture of machiavelli's view of politics., history and discourses as well as one of the first chapters in the prince show us that machiavelli was much more in favor of a republic of the people rather than an autocracy., i think that's all, for now., i feel like i'm missing something or maybe formatted what i did write rather poorly, but i can't exactly figure how i would want to fix it right now, either.]   \n",
       "387208                                                                                                                                                                                                                                                                                                                                                                                                                                                                                                                                                                                                                                                                                                                                                                                                                                                                                                                                                                                                                                                                                                                                                                                    [i believe it is inherently impossible to claim that you are loyal to two counties sovereign states., my view basically boils down to one question., if, at some point, both countries were at war and asking you to fight for them, who would you choose?, you can't say neither, and your answer is who you're loyal to., this works purely as a theoretical question., doesn't matter if the situation will likely never arise, the answer shows which countries interests you care about more., even the closest allies have times where they disagree on matters, and sometimes those matters are purely because both countries only stand to benefit from opposite resolutions., not necessarily right or wrong, just who do i want coming out on top., so my view is that because countries always have their own self interests at heart, they will eventually have conflicts even with their allies again, no right or wrong, just who comes out on top , and having to choose a side in the conflict is your loyalty., the fact that these countries may not currently have conflict has absolutely not bearing on this.]   \n",
       "285839                                                                                                                                                                                                                                                                                                                                                                                                                                                                                                                                                                                                                                                                                                                                                                                                                                                                                                                                                                                                                                                                                                                               [i think it shouldn t be the job of people at school to teach sex education because., 1., a lot of times they teach abstinence is the only form of safe sex and that s extremely dangerous because that s when you have the problems of teen pregnancy because we were all teens once and seriously?, you re going to tell me that i can never experiment sexually, at all., then teens go, and they aren t on b c and have never even learned about different forms of sex from anywhere besides possibly porn., now they ve got an entirely skewed view on sex., then they end in shame or don t know about consent and that s how we end up with rape culture 2., it ends up being like that scene from mean girls don t have sex because you ll get pregnant and die., here s some condoms 3., it becomes a joke because you always have the class clowns that turn it into a joke when there s actually kids that are curious but too afraid to ask., then sex isn t taken seriously., 4., you really want someone you ve met at most once or twice maybe if your lucky 4 times once per quarter teaching your kids about something that detrimental in literally everyone s life?]   \n",
       "\n",
       "                                                                                                                                                                                                                                                                                                                                                                                                                                                                                                                                                                                                                                                                                                                                                                                                                                                                                                                                                                                                                                                                                                                                                                                                                                                                                                                                                                                                                                                                                                                                                                                                                                                                                                                                                                                                                                                                                                                                                                                                                                                                                                                                                                                                                                                                                                                                                                                                                                                                                                                                                                                                                                                                                                                                                                                                                                                                                                                                                                                                                                                                                                                                                                        conclusions_in_argument  \n",
       "290103                                                                                                                                                                                                                                                                                                                                                                                                                                                                                                                                                                                                                                                                                                                                                                                                                                                                                                                                                                                                                                                                                                                                                                                                                                                                                                                                                                                                                                                                                                                                                                                                                                                                                                                                                                                                                                                                                      [(i see this a lot, where women say it's unfair to get shamed for sleeping around, but when men do they're praised for it, called a 'player', 'stud', etc., 0.5033611059188843), (but nobody talks about how men get shamed for still being a virgin or 'not getting some', while women get praised for it., 0.45310935378074646), (at the end of the day, aren't people getting shamed both ways for being themselves?, 0.32762911915779114), ('patriarchy' won't change my mind, as both are parties that are getting hurt., 0.33749765157699585), (whether or not a guy being shamed is of the same gender that created the rules in the first place makes no difference to me, and i fail to see why it should., 0.4704388380050659), (in my opinion, that's like saying people in the middle east shouldn't complain because their dictator shares the same nationality., 0.2672026753425598), (the 'accusers' are both men and women as well, for either shaming., 0.552834689617157), (since both demographics are guilty of this, why should there be a difference?, 0.336520254611969), (going away for a bit, i'll probably read responses, though i can't promise to reply., 0.10098472982645035), (thanks to everyone who took the effort to give me perspective!, 0.1411144733428955)]  \n",
       "262589  [(scenario: you have a close female friend., 0.4608636498451233), (you find information that 100 demonstrates her significant other boyfriend, husband, girlfriend, wife is cheating on her., 0.44560033082962036), (you should not tell her anything point blank., 0.47355973720550537), (i once had a close friend whose boyfriend kept hitting on me for months., 0.2932227849960327), (i finally told her., 0.3399260938167572), (she didn't thank me., 0.14144739508628845), (she said i was making it up because i wanted him for myself., 0.24966466426849365), (she stopped speaking to me., 0.1269458383321762), (a second time me and my friend karlie found out our friend's june's boyfriend was cheating and asking girls to come to his house to fuck him., 0.4063212275505066), (we told june., 0.10412606596946716), (june didn't believe us., 0.013479788787662983), (we stayed friends but things got weird., 0.16105791926383972), (third time broke the camel's back for me., 0.01407548412680626), (i caught my best friend's boyfriend holding hands with another girl., 0.4584948718547821), (i told her., 0.35941949486732483), (he actually didn't deny it., 0.17056645452976227), (they broke up., 0.10108734667301178), (then she took him back., 0.18650037050247192), (he was awkward around me afterwards., 0.06080975756049156), (i know my experience may be anecdotal but 'shooting the messenger' is 100 real., 0.08207506686449051), (people don't want to accept things that are painful., -0.019714226946234703), (sometimes the truth is too painful to accept., 0.06558113545179367), (instead of accepting it, they would rather shoot the messenger and hope that he she is lying rather than accept the truth., 0.298552930355072), (your friend is not going to want to believe her husband boyfriend is cheating., 0.675557017326355), (she's going to shoot you as the messenger., 0.2137022614479065), (telling her risks damaging your friendship., 0.5580143928527832), (1 she's either not going to believe you., 0.2631455063819885), (and or she'll turn it on you, shoot you as the messenger and that will affect your friendship., 0.406234472990036), (2 if you have 100 proof that he's cheating, don't think your problems won't be so great., 0.35977545380592346), (she still might shoot the messenger., 0.2530425488948822), (she has to be angry at someone., 0.26239821314811707), (she's not going to want to be angry with him, so she's going to lash her anger on you., 0.3427543044090271), (or imagine if she sees the proof, but forgives him, or takes him back., 0.34219783544540405), (every time she sees you it will remind her of his infidelity, and it will put you and your friendship in a compromising position., 0.5617641806602478), (imagine how uncomfortable it will be for him to be around you knowing you ratted him out the first time., 0.2165759801864624), (he might just get her to turn against you or make her distance herself from you., 0.2786720395088196), (i think for the sake of preserving your friendship, you should pretend you don't know anything., 0.35419991612434387)]  \n",
       "53431                                                                                                                                                                                                                                                                                                                                                                                                                                                                                                                                                                                                                                                                                                                                                                                                                                                                                                                                                                                                                                                                                                                              [(it seems to me that niccolo machiavelli has an undeservedly poor legacy., 0.8205562829971313), (the term machiavellian comes to mind we only ever use it to refer to political realists who do bad things., 0.522111177444458), (for example, the fictional character francis underwood from house of cards is frequently called the picture of a machiavellian character., 0.40450960397720337), (while i would say that this is true, i think that it leads to an undue association between machaivelli and being bad ., 0.6246120929718018), (i've read the prince and i'm partway through discourses on livy and neither of them ever outright endorses doing evil things., 0.40886950492858887), (if nothing else, it seems to me like machiavelli only ever advocated doing morally questionable things if it would end up being either for the greater good or the preservation of the state with the preservation of the state being inherently neither good nor bad ., 0.5931152701377869), (what is perhaps worse in my view is that machiavelli seems to only be popularly known for the prince , a rather short work at least compared to discourses that, it's my understanding, was written with the goal of getting into the good graces of the medici family and for little other reason., 0.6545915603637695), (now, i'm not one of those who will argue that it's a satire i think an honest reading of the prince itself shows that it is clearly serious but i would argue that the prince is not the most accurate picture of machiavelli's view of politics., 0.5333380699157715), (history and discourses as well as one of the first chapters in the prince show us that machiavelli was much more in favor of a republic of the people rather than an autocracy., 0.49781712889671326), (i think that's all, for now., 0.1129864752292633), (i feel like i'm missing something or maybe formatted what i did write rather poorly, but i can't exactly figure how i would want to fix it right now, either., 0.06864472478628159)]  \n",
       "387208                                                                                                                                                                                                                                                                                                                                                                                                                                                                                                                                                                                                                                                                                                                                                                                                                                                                                                                                                                                                                                                                                                                                                                                                                                                                                                                                                                                                                                                                                                                                                                                                                                                                                                                                                                                                                    [(i believe it is inherently impossible to claim that you are loyal to two counties sovereign states., 0.5237057209014893), (my view basically boils down to one question., 0.10486392676830292), (if, at some point, both countries were at war and asking you to fight for them, who would you choose?, 0.33221620321273804), (you can't say neither, and your answer is who you're loyal to., 0.2211238145828247), (this works purely as a theoretical question., 0.15174034237861633), (doesn't matter if the situation will likely never arise, the answer shows which countries interests you care about more., 0.38977453112602234), (even the closest allies have times where they disagree on matters, and sometimes those matters are purely because both countries only stand to benefit from opposite resolutions., 0.44510453939437866), (not necessarily right or wrong, just who do i want coming out on top., 0.11762990057468414), (so my view is that because countries always have their own self interests at heart, they will eventually have conflicts even with their allies again, no right or wrong, just who comes out on top , and having to choose a side in the conflict is your loyalty., 0.5874720811843872), (the fact that these countries may not currently have conflict has absolutely not bearing on this., 0.3360975980758667)]  \n",
       "285839                                                                                                                                                                                                                                                                                                                                                                                                                                                                                                                                                                                                                                                                                                                                                                                                                                                                                                                                                                                                                                                                                                                                                                                                                                                                                                                                                                                                                                                                                                                                                                                                                                                                                           [(i think it shouldn t be the job of people at school to teach sex education because., 0.8578989505767822), (1., -0.0358453169465065), (a lot of times they teach abstinence is the only form of safe sex and that s extremely dangerous because that s when you have the problems of teen pregnancy because we were all teens once and seriously?, 0.46461886167526245), (you re going to tell me that i can never experiment sexually, at all., 0.2142387181520462), (then teens go, and they aren t on b c and have never even learned about different forms of sex from anywhere besides possibly porn., 0.4366942048072815), (now they ve got an entirely skewed view on sex., 0.38941001892089844), (then they end in shame or don t know about consent and that s how we end up with rape culture 2., 0.3235386610031128), (it ends up being like that scene from mean girls don t have sex because you ll get pregnant and die., 0.2665000259876251), (here s some condoms 3., 0.15831732749938965), (it becomes a joke because you always have the class clowns that turn it into a joke when there s actually kids that are curious but too afraid to ask., 0.2873208522796631), (then sex isn t taken seriously., 0.36585360765457153), (4., -0.03017510287463665), (you really want someone you ve met at most once or twice maybe if your lucky 4 times once per quarter teaching your kids about something that detrimental in literally everyone s life?, 0.24228256940841675)]  "
      ]
     },
     "execution_count": 54,
     "metadata": {},
     "output_type": "execute_result"
    }
   ],
   "source": [
    "sample_df[['title', 'post', 'conclusions_in_argument']].head()"
   ]
  },
  {
   "cell_type": "code",
   "execution_count": 55,
   "metadata": {},
   "outputs": [],
   "source": [
    "similarity_dist = [cand[1] for cands in sample_df['conclusions_in_argument'].tolist() for cand in cands]"
   ]
  },
  {
   "cell_type": "code",
   "execution_count": 56,
   "metadata": {},
   "outputs": [
    {
     "data": {
      "image/png": "[encoded data removed]",
      "text/plain": [
       "<Figure size 432x288 with 1 Axes>"
      ]
     },
     "metadata": {
      "needs_background": "light"
     },
     "output_type": "display_data"
    }
   ],
   "source": [
    "plt.hist(similarity_dist, bins=np.arange(0, 1, 0.1))\n",
    "plt.show()"
   ]
  },
  {
   "cell_type": "code",
   "execution_count": 69,
   "metadata": {},
   "outputs": [],
   "source": [
    "sample_df['top_conclusions_in_argument'] = sample_df['conclusions_in_argument'].apply(lambda item: [x for x in item if x[1] > 0.75])"
   ]
  },
  {
   "cell_type": "code",
   "execution_count": 70,
   "metadata": {},
   "outputs": [
    {
     "data": {
      "text/plain": [
       "294"
      ]
     },
     "execution_count": 70,
     "metadata": {},
     "output_type": "execute_result"
    }
   ],
   "source": [
    "len(sample_df[sample_df['top_conclusions_in_argument'].str.len() > 0])"
   ]
  },
  {
   "cell_type": "code",
   "execution_count": 71,
   "metadata": {
    "scrolled": true,
    "tags": []
   },
   "outputs": [
    {
     "data": {
      "text/html": [
       "<div>\n",
       "<style scoped>\n",
       "    .dataframe tbody tr th:only-of-type {\n",
       "        vertical-align: middle;\n",
       "    }\n",
       "\n",
       "    .dataframe tbody tr th {\n",
       "        vertical-align: top;\n",
       "    }\n",
       "\n",
       "    .dataframe thead th {\n",
       "        text-align: right;\n",
       "    }\n",
       "</style>\n",
       "<table border=\"1\" class=\"dataframe\">\n",
       "  <thead>\n",
       "    <tr style=\"text-align: right;\">\n",
       "      <th></th>\n",
       "      <th>title</th>\n",
       "      <th>top_conclusions_in_argument</th>\n",
       "    </tr>\n",
       "  </thead>\n",
       "  <tbody>\n",
       "    <tr>\n",
       "      <th>53431</th>\n",
       "      <td>I think Niccolo Machiavelli has an undeservedly poor reputation.</td>\n",
       "      <td>[(it seems to me that niccolo machiavelli has an undeservedly poor legacy., 0.8205562829971313)]</td>\n",
       "    </tr>\n",
       "    <tr>\n",
       "      <th>285839</th>\n",
       "      <td>I believe that sex education should be in the home from parents and not the jobs of educators at school.</td>\n",
       "      <td>[(i think it shouldn t be the job of people at school to teach sex education because., 0.8578989505767822)]</td>\n",
       "    </tr>\n",
       "    <tr>\n",
       "      <th>442976</th>\n",
       "      <td>Dr. Phil and similar TV shows are the modern, socially acceptable equivalent of circus freak shows</td>\n",
       "      <td>[(shows like dr. phil are not much different from a freak show., 0.801140546798706)]</td>\n",
       "    </tr>\n",
       "    <tr>\n",
       "      <th>435963</th>\n",
       "      <td>Transgender/trans-affirming people cannot define the word “man” or “woman”</td>\n",
       "      <td>[(but so far, i have yet to hear a clear, meaningful definition of the term man or woman from someone who affirms transgenderism., 0.8030619025230408), (when i ask transgender trans affirming people for a definition, i typically get answers like this: a man is someone who says they are a man , a man is someone who experiences life as a man ., 0.7689554691314697)]</td>\n",
       "    </tr>\n",
       "    <tr>\n",
       "      <th>392617</th>\n",
       "      <td>Nothing I can do as a cyclist will ever make drivers stop hating me.</td>\n",
       "      <td>[(it seems like, no matter what i do, drivers will hate me and want me to stop riding., 0.7634909749031067), (i'm not going to stop, but it really feels like i'm doing everything that can be reasonably expected of a cyclist and drivers still hate me being on the road., 0.8047007322311401)]</td>\n",
       "    </tr>\n",
       "    <tr>\n",
       "      <th>...</th>\n",
       "      <td>...</td>\n",
       "      <td>...</td>\n",
       "    </tr>\n",
       "    <tr>\n",
       "      <th>314122</th>\n",
       "      <td>Dark Souls isn’t as great of a game as everyone says it and the difficulty seems like a gimmick.</td>\n",
       "      <td>[(i want to clarify a few things before i start: 1 i m in no way saying that dark souls is a bad game, just overrated., 0.7539910674095154), (now my argument is that the original dark souls is only rated so highly because a lot of mainstream games nowadays aren t very difficult., 0.782929003238678), (i do like it when a game is challenging but i m arguing that dark souls is only difficult because it creates unfair situations for the player., 0.8246773481369019)]</td>\n",
       "    </tr>\n",
       "    <tr>\n",
       "      <th>41530</th>\n",
       "      <td>I believe a fetus has rights worth protecting.</td>\n",
       "      <td>[(i simply believe that since there can be no informed decision made by the fetus, we have an obligation to protect it., 0.8215245008468628)]</td>\n",
       "    </tr>\n",
       "    <tr>\n",
       "      <th>339971</th>\n",
       "      <td>There should be no separate minimum wage for waiters or \"tipped\" employees. And tipping should not be a social \"expectation\" in pretty much every dining situation &amp;amp; other places where tips are \"expected\" as a given. Waiters &amp;amp; others should get paid a fair market wage by employers.</td>\n",
       "      <td>[(i think that waiters, hairdressers, valets, and other professions who have a tipping expectation should just be paid a fair market wage paid by their employers and there should be no pressure or expectation of tips from pretty much every customer., 0.8191947340965271)]</td>\n",
       "    </tr>\n",
       "    <tr>\n",
       "      <th>467351</th>\n",
       "      <td>you have no moral obligation to disclose the fact that a meal is vegan to people eating it</td>\n",
       "      <td>[(so, why should people have to 'disclose' that a meal is vegan?, 0.8401384949684143)]</td>\n",
       "    </tr>\n",
       "    <tr>\n",
       "      <th>470751</th>\n",
       "      <td>People who can't afford kids shouldn't have them.</td>\n",
       "      <td>[(i'm not opposed to this happening, but it is worth noting it wouldnt generally even have to be a thing if people who cant afford kids didnt have them., 0.7804848551750183)]</td>\n",
       "    </tr>\n",
       "  </tbody>\n",
       "</table>\n",
       "<p>100 rows × 2 columns</p>\n",
       "</div>"
      ],
      "text/plain": [
       "                                                                                                                                                                                                                                                                                                     title  \\\n",
       "53431                                                                                                                                                                                                                                     I think Niccolo Machiavelli has an undeservedly poor reputation.   \n",
       "285839                                                                                                                                                                                            I believe that sex education should be in the home from parents and not the jobs of educators at school.   \n",
       "442976                                                                                                                                                                                                  Dr. Phil and similar TV shows are the modern, socially acceptable equivalent of circus freak shows   \n",
       "435963                                                                                                                                                                                                                          Transgender/trans-affirming people cannot define the word “man” or “woman”   \n",
       "392617                                                                                                                                                                                                                                Nothing I can do as a cyclist will ever make drivers stop hating me.   \n",
       "...                                                                                                                                                                                                                                                                                                    ...   \n",
       "314122                                                                                                                                                                                                    Dark Souls isn’t as great of a game as everyone says it and the difficulty seems like a gimmick.   \n",
       "41530                                                                                                                                                                                                                                                       I believe a fetus has rights worth protecting.   \n",
       "339971   There should be no separate minimum wage for waiters or \"tipped\" employees. And tipping should not be a social \"expectation\" in pretty much every dining situation &amp; other places where tips are \"expected\" as a given. Waiters &amp; others should get paid a fair market wage by employers.   \n",
       "467351                                                                                                                                                                                                          you have no moral obligation to disclose the fact that a meal is vegan to people eating it   \n",
       "470751                                                                                                                                                                                                                                                   People who can't afford kids shouldn't have them.   \n",
       "\n",
       "                                                                                                                                                                                                                                                                                                                                                                                                                                                               top_conclusions_in_argument  \n",
       "53431                                                                                                                                                                                                                                                                                                                                                                                     [(it seems to me that niccolo machiavelli has an undeservedly poor legacy., 0.8205562829971313)]  \n",
       "285839                                                                                                                                                                                                                                                                                                                                                                         [(i think it shouldn t be the job of people at school to teach sex education because., 0.8578989505767822)]  \n",
       "442976                                                                                                                                                                                                                                                                                                                                                                                                [(shows like dr. phil are not much different from a freak show., 0.801140546798706)]  \n",
       "435963                                                                                                       [(but so far, i have yet to hear a clear, meaningful definition of the term man or woman from someone who affirms transgenderism., 0.8030619025230408), (when i ask transgender trans affirming people for a definition, i typically get answers like this: a man is someone who says they are a man , a man is someone who experiences life as a man ., 0.7689554691314697)]  \n",
       "392617                                                                                                                                                                                  [(it seems like, no matter what i do, drivers will hate me and want me to stop riding., 0.7634909749031067), (i'm not going to stop, but it really feels like i'm doing everything that can be reasonably expected of a cyclist and drivers still hate me being on the road., 0.8047007322311401)]  \n",
       "...                                                                                                                                                                                                                                                                                                                                                                                                                                                                                    ...  \n",
       "314122  [(i want to clarify a few things before i start: 1 i m in no way saying that dark souls is a bad game, just overrated., 0.7539910674095154), (now my argument is that the original dark souls is only rated so highly because a lot of mainstream games nowadays aren t very difficult., 0.782929003238678), (i do like it when a game is challenging but i m arguing that dark souls is only difficult because it creates unfair situations for the player., 0.8246773481369019)]  \n",
       "41530                                                                                                                                                                                                                                                                                                                                        [(i simply believe that since there can be no informed decision made by the fetus, we have an obligation to protect it., 0.8215245008468628)]  \n",
       "339971                                                                                                                                                                                                     [(i think that waiters, hairdressers, valets, and other professions who have a tipping expectation should just be paid a fair market wage paid by their employers and there should be no pressure or expectation of tips from pretty much every customer., 0.8191947340965271)]  \n",
       "467351                                                                                                                                                                                                                                                                                                                                                                                              [(so, why should people have to 'disclose' that a meal is vegan?, 0.8401384949684143)]  \n",
       "470751                                                                                                                                                                                                                                                                                                      [(i'm not opposed to this happening, but it is worth noting it wouldnt generally even have to be a thing if people who cant afford kids didnt have them., 0.7804848551750183)]  \n",
       "\n",
       "[100 rows x 2 columns]"
      ]
     },
     "execution_count": 71,
     "metadata": {},
     "output_type": "execute_result"
    }
   ],
   "source": [
    "sample_df[sample_df['top_conclusions_in_argument'].str.len() > 0][['title', 'top_conclusions_in_argument']].head(n=100)"
   ]
  },
  {
   "cell_type": "markdown",
   "metadata": {},
   "source": [
    "#### Mask conclusions in arguments:"
   ]
  },
  {
   "cell_type": "code",
   "execution_count": 5,
   "metadata": {},
   "outputs": [],
   "source": [
    "df = pd.read_pickle(data_path + \"jo_data/argument_rebuttals.pkl\")"
   ]
  },
  {
   "cell_type": "code",
   "execution_count": 6,
   "metadata": {},
   "outputs": [
    {
     "name": "stdout",
     "output_type": "stream",
     "text": [
      "541678\n"
     ]
    }
   ],
   "source": [
    "print(len(df))"
   ]
  },
  {
   "cell_type": "code",
   "execution_count": 73,
   "metadata": {},
   "outputs": [],
   "source": [
    "# df['conclusions_in_argument'] = df.apply(lambda x: [x[0] for x in process.extract(x['title'], x['post'], scorer=fuzz.token_set_ratio, limit=500) if x[1] > 50], axis=1)\n",
    "# df['conclusions_in_argument'] = df.apply(lambda x: [(sent, content_token_overlap(x['title'], sent)) for sent in x['post']], axis=1)\n",
    "# df['conclusions_in_argument'] = df.apply(lambda x: [x for x in x['conclusions_in_argument'] if x[1] > 0.1], axis=1)"
   ]
  },
  {
   "cell_type": "code",
   "execution_count": 7,
   "metadata": {},
   "outputs": [],
   "source": [
    "#Compute semantic similarity\n",
    "df['conclusion_embeddings']   = model.encode(df['title'].tolist()).tolist()\n",
    "df['premises_embeddings']     = df['post'].apply(lambda x: model.encode(x))\n",
    "df['conclusions_in_argument'] = df.apply(lambda x: util.pytorch_cos_sim(torch.tensor(x['conclusion_embeddings']), \n",
    "                                                                                      torch.tensor(x['premises_embeddings'])\n",
    "                                                                ).tolist()[0], axis=1)\n",
    "df['conclusions_in_argument'] = df.apply(lambda x: list(zip(x['post'], x['conclusions_in_argument'])), axis=1)"
   ]
  },
  {
   "cell_type": "code",
   "execution_count": 8,
   "metadata": {},
   "outputs": [],
   "source": [
    "#filter-out sentences with semantic overlap of more than 0.75\n",
    "df['conclusions_in_argument'] = df.apply(lambda x: [x for x in x['conclusions_in_argument'] if x[1] > 0.75], axis=1)"
   ]
  },
  {
   "cell_type": "code",
   "execution_count": 9,
   "metadata": {},
   "outputs": [],
   "source": [
    "df['num_cand_conc'] = df['conclusions_in_argument'].apply(lambda x: len(x))"
   ]
  },
  {
   "cell_type": "code",
   "execution_count": 10,
   "metadata": {},
   "outputs": [],
   "source": [
    "df['masked_premises'] = df.apply(lambda row: [p for p in row['post'] if p not in row['conclusions_in_argument']] , axis=1)\n",
    "df['premises_with_conclusion'] = df.apply(lambda row: row['post'] + ['Therefore, '+row['title']], axis=1)\n",
    "\n",
    "df = df[df.masked_premises.str.len() > 0]\n",
    "df = df[df.title!='']"
   ]
  },
  {
   "cell_type": "code",
   "execution_count": 19,
   "metadata": {},
   "outputs": [
    {
     "data": {
      "text/plain": [
       "162202"
      ]
     },
     "execution_count": 19,
     "metadata": {},
     "output_type": "execute_result"
    }
   ],
   "source": [
    "len(df)"
   ]
  },
  {
   "cell_type": "code",
   "execution_count": 12,
   "metadata": {},
   "outputs": [
    {
     "data": {
      "text/plain": [
       "Index(['post_id', 'split', 'comment_id', 'title', 'post', 'n_sentences',\n",
       "       'comment_sents', 'conclusion_embeddings', 'premises_embeddings',\n",
       "       'conclusions_in_argument', 'num_cand_conc', 'masked_premises',\n",
       "       'premises_with_conclusion'],\n",
       "      dtype='object')"
      ]
     },
     "execution_count": 12,
     "metadata": {},
     "output_type": "execute_result"
    }
   ],
   "source": [
    "df.columns"
   ]
  },
  {
   "cell_type": "code",
   "execution_count": 13,
   "metadata": {},
   "outputs": [],
   "source": [
    "df = df.rename(columns={\n",
    "    'comment_sents' : 'counter',\n",
    "})"
   ]
  },
  {
   "cell_type": "code",
   "execution_count": 14,
   "metadata": {},
   "outputs": [],
   "source": [
    "df = df[df.num_cand_conc > 0]"
   ]
  },
  {
   "cell_type": "code",
   "execution_count": 15,
   "metadata": {},
   "outputs": [
    {
     "data": {
      "text/plain": [
       "train    92397\n",
       "test     36627\n",
       "val      33178\n",
       "Name: split, dtype: int64"
      ]
     },
     "execution_count": 15,
     "metadata": {},
     "output_type": "execute_result"
    }
   ],
   "source": [
    "df.split.value_counts()"
   ]
  },
  {
   "cell_type": "code",
   "execution_count": 16,
   "metadata": {},
   "outputs": [],
   "source": [
    "train_df = df[df['split'] == 'train']\n",
    "dev_df   = df[df['split'] == 'val']\n",
    "test_df  = df[df['split'] == 'test']"
   ]
  },
  {
   "cell_type": "code",
   "execution_count": 17,
   "metadata": {},
   "outputs": [],
   "source": [
    "train_df = train_df.drop(columns=['conclusion_embeddings', 'premises_embeddings', 'conclusions_in_argument'])\n",
    "dev_df   = dev_df.drop(columns=['conclusion_embeddings', 'premises_embeddings', 'conclusions_in_argument'])\n",
    "test_df = test_df.drop(columns=['conclusion_embeddings', 'premises_embeddings', 'conclusions_in_argument'])"
   ]
  },
  {
   "cell_type": "code",
   "execution_count": 20,
   "metadata": {},
   "outputs": [],
   "source": [
    "train_df.to_pickle('../../../data-ceph/arguana/arg-generation/multi-taks-counter-argument-generation/reddit_data/conclusion_and_ca_generation/train_conclusion_comp_remove_75sem_perc.pkl')\n",
    "dev_df.to_pickle('../../../data-ceph/arguana/arg-generation/multi-taks-counter-argument-generation/reddit_data/conclusion_and_ca_generation/valid_conclusion_comp_remove_75sem_perc.pkl')\n",
    "test_df.to_pickle('../../../data-ceph/arguana/arg-generation/multi-taks-counter-argument-generation/reddit_data/conclusion_and_ca_generation/test_concusion_comp_remove_75sem_perc.pkl')"
   ]
  },
  {
   "cell_type": "markdown",
   "metadata": {},
   "source": [
    "### Analyze the overlap between conclusions and counters:"
   ]
  },
  {
   "cell_type": "code",
   "execution_count": 18,
   "metadata": {},
   "outputs": [],
   "source": [
    "df = pd.read_pickle('../../../data-ceph/arguana/arg-generation/multi-taks-counter-argument-generation/reddit_data/conclusion_and_ca_generation/train_conclusion_comp_remove_75sem_perc.pkl')"
   ]
  },
  {
   "cell_type": "code",
   "execution_count": 19,
   "metadata": {},
   "outputs": [],
   "source": [
    "sample_df = df.sample(1000)"
   ]
  },
  {
   "cell_type": "code",
   "execution_count": 20,
   "metadata": {},
   "outputs": [],
   "source": [
    "#Compute semantic similarity\n",
    "sample_df['counter_embeddings']   = model.encode([' '.join(x) for x in sample_df['counter'].tolist()]).tolist()"
   ]
  },
  {
   "cell_type": "code",
   "execution_count": 21,
   "metadata": {},
   "outputs": [],
   "source": [
    "#sample_df['sim_to_conc'] = sample_df.apply(lambda x: fuzz.token_sort_ratio(x['title'], ' '.join(x['counter'])), axis=1)\n",
    "#sample_df['sim_to_conc'] = sample_df.apply(lambda x: content_token_overlap(x['title'], ' '.join(x['counter'])), axis=1)"
   ]
  },
  {
   "cell_type": "code",
   "execution_count": 35,
   "metadata": {},
   "outputs": [],
   "source": [
    "similarities_to_premises = []\n",
    "similarities_to_conclusion= []\n",
    "for idx, arg in sample_df.iterrows():\n",
    "    \n",
    "    #simlarities to premises\n",
    "    premises = arg['masked_premises']\n",
    "    premises_embeddings = model.encode(premises)\n",
    "    sims = util.pytorch_cos_sim(torch.tensor(arg['conclusion_embeddings']), \n",
    "                         torch.tensor(premises_embeddings)).numpy()\n",
    "    \n",
    "    similarities_to_premises.append(np.mean(sims))\n",
    "    \n",
    "    #similarities to conclusion\n",
    "    similarities_to_conclusion.append(util.pytorch_cos_sim(torch.tensor(arg['conclusion_embeddings']), \n",
    "                         torch.tensor(arg['counter_embeddings'])).item())"
   ]
  },
  {
   "cell_type": "code",
   "execution_count": 36,
   "metadata": {},
   "outputs": [
    {
     "data": {
      "image/png": "[encoded data removed]",
      "text/plain": [
       "<Figure size 432x288 with 1 Axes>"
      ]
     },
     "metadata": {
      "needs_background": "light"
     },
     "output_type": "display_data"
    }
   ],
   "source": [
    "plt.hist(similarities_to_conclusion, label='sim to conc')\n",
    "plt.hist(similarities_to_premises, label='sim to premises', alpha=.3)\n",
    "\n",
    "plt.legend()\n",
    "plt.show()"
   ]
  },
  {
   "cell_type": "code",
   "execution_count": null,
   "metadata": {},
   "outputs": [],
   "source": []
  }
 ],
 "metadata": {
  "kernelspec": {
   "display_name": "Python 3",
   "language": "python",
   "name": "python3"
  },
  "language_info": {
   "codemirror_mode": {
    "name": "ipython",
    "version": 3
   },
   "file_extension": ".py",
   "mimetype": "text/x-python",
   "name": "python",
   "nbconvert_exporter": "python",
   "pygments_lexer": "ipython3",
   "version": "3.6.9"
  }
 },
 "nbformat": 4,
 "nbformat_minor": 4
}
