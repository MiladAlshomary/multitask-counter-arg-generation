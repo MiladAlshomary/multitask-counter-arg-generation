{
 "cells": [
  {
   "cell_type": "code",
   "execution_count": 2,
   "metadata": {},
   "outputs": [],
   "source": [
    "import pandas as pd\n",
    "import numpy as np\n",
    "import json\n",
    "import matplotlib.pyplot as plt\n",
    "\n",
    "import nltk\n",
    "from nltk.corpus import stopwords\n",
    "en_stopwords = stopwords.words('english')\n",
    "\n",
    "pd.set_option('display.max_colwidth', None)"
   ]
  },
  {
   "cell_type": "code",
   "execution_count": 3,
   "metadata": {
    "scrolled": true,
    "tags": []
   },
   "outputs": [
    {
     "data": {
      "application/vnd.jupyter.widget-view+json": {
       "model_id": "625d2d63d2bc4637a14ccd64a5b048c7",
       "version_major": 2,
       "version_minor": 0
      },
      "text/plain": [
       "Downloading:   0%|          | 0.00/28.0 [00:00<?, ?B/s]"
      ]
     },
     "metadata": {},
     "output_type": "display_data"
    },
    {
     "data": {
      "application/vnd.jupyter.widget-view+json": {
       "model_id": "6a46fae16d904447bc9eede68640c86b",
       "version_major": 2,
       "version_minor": 0
      },
      "text/plain": [
       "Downloading:   0%|          | 0.00/570 [00:00<?, ?B/s]"
      ]
     },
     "metadata": {},
     "output_type": "display_data"
    },
    {
     "data": {
      "application/vnd.jupyter.widget-view+json": {
       "model_id": "2b8d1abb71ce4360bc58c340e11d5cd7",
       "version_major": 2,
       "version_minor": 0
      },
      "text/plain": [
       "Downloading:   0%|          | 0.00/226k [00:00<?, ?B/s]"
      ]
     },
     "metadata": {},
     "output_type": "display_data"
    },
    {
     "data": {
      "application/vnd.jupyter.widget-view+json": {
       "model_id": "4af1818d2ace43bca71872c677e9c285",
       "version_major": 2,
       "version_minor": 0
      },
      "text/plain": [
       "Downloading:   0%|          | 0.00/455k [00:00<?, ?B/s]"
      ]
     },
     "metadata": {},
     "output_type": "display_data"
    },
    {
     "name": "stdout",
     "output_type": "stream",
     "text": [
      "2022-08-08 16:10:06,766 loading file ../../data-ceph/arguana/arg-generation/claim-target-tagger/model/final-model.pt\n",
      "2022-08-08 16:10:33,694 SequenceTagger predicts: Dictionary with 4 tags: <unk>, B-CT, I-CT, O\n"
     ]
    }
   ],
   "source": [
    "import sys\n",
    "import os\n",
    "sys.path.append('../src-py/')\n",
    "os.environ[\"CUDA_VISIBLE_DEVICES\"]=\"0\"\n",
    "\n",
    "from ca_utils import *"
   ]
  },
  {
   "cell_type": "code",
   "execution_count": 3,
   "metadata": {},
   "outputs": [
    {
     "data": {
      "text/plain": [
       "device(type='cuda')"
      ]
     },
     "execution_count": 3,
     "metadata": {},
     "output_type": "execute_result"
    }
   ],
   "source": [
    "torch.device('cuda') if torch.cuda.is_available() else torch.device('cpu')"
   ]
  },
  {
   "cell_type": "code",
   "execution_count": 4,
   "metadata": {},
   "outputs": [],
   "source": [
    "from transformers import BertForSequenceClassification, AutoTokenizer, TextClassificationPipeline\n",
    "\n",
    "#take top quality counter from the dataset!\n",
    "gretz_model = BertForSequenceClassification.from_pretrained('../../../data-ceph/arguana/arg-generation/argument-quality/argument-quality-model/checkpoint-9000', local_files_only=True, cache_dir='cache')\n",
    "tokenizer = AutoTokenizer.from_pretrained('bert-base-uncased', cache_dir='cache')\n",
    "\n",
    "arg_quality_pipeline = TextClassificationPipeline(model=gretz_model, tokenizer=tokenizer, framework='pt', task='ArgQ', device=0)\n",
    "\n",
    "def get_best_argumentative_comment(comments):    \n",
    "    comments = [' '.join(x) for x in comments]\n",
    "    # set the pipeline\n",
    "    results = arg_quality_pipeline(comments, truncation=True)\n",
    "    comments_scores = []\n",
    "    for result_dict in results:\n",
    "        comments_scores.append(result_dict['score'])\n",
    "    \n",
    "    comments = sorted(list(zip(comments, comments_scores)), key= lambda x: -x[1])\n",
    "    return comments[0][0]"
   ]
  },
  {
   "cell_type": "markdown",
   "metadata": {},
   "source": [
    "### Preparing the data:\n",
    "- Starting from jo_data, remove all cases where the comment qoutes the post --> considered undermining\n",
    "- Second remove bot comments\n",
    "- Third, split into training, testing, and validation\n",
    "- For the training process further to only select the comments with good argumentative quality\n",
    "- .."
   ]
  },
  {
   "cell_type": "code",
   "execution_count": 3,
   "metadata": {},
   "outputs": [],
   "source": [
    "rebuttal_df = pd.read_pickle(\"../../../data-ceph/arguana/arg-generation/argument-undermining/jo_data/argument_rebuttals.pkl\")"
   ]
  },
  {
   "cell_type": "code",
   "execution_count": 4,
   "metadata": {},
   "outputs": [],
   "source": [
    "#First save all the data without masking..\n",
    "train_df = rebuttal_df[rebuttal_df['split'] == 'train']\n",
    "dev_df   = rebuttal_df[rebuttal_df['split'] == 'val']\n",
    "test_df  = rebuttal_df[rebuttal_df['split'] == 'test']"
   ]
  },
  {
   "cell_type": "code",
   "execution_count": 8,
   "metadata": {},
   "outputs": [
    {
     "data": {
      "text/plain": [
       "25704"
      ]
     },
     "execution_count": 8,
     "metadata": {},
     "output_type": "execute_result"
    }
   ],
   "source": [
    "train_df.post_id.nunique()"
   ]
  },
  {
   "cell_type": "code",
   "execution_count": 9,
   "metadata": {},
   "outputs": [
    {
     "data": {
      "text/plain": [
       "8721"
      ]
     },
     "execution_count": 9,
     "metadata": {},
     "output_type": "execute_result"
    }
   ],
   "source": [
    "dev_df.post_id.nunique()"
   ]
  },
  {
   "cell_type": "markdown",
   "metadata": {},
   "source": [
    "#### Removing the undermining-cases:"
   ]
  },
  {
   "cell_type": "markdown",
   "metadata": {},
   "source": [
    "The code for this in the arg-undermining project"
   ]
  },
  {
   "cell_type": "markdown",
   "metadata": {},
   "source": [
    "#### Removing bot comments:"
   ]
  },
  {
   "cell_type": "code",
   "execution_count": null,
   "metadata": {},
   "outputs": [],
   "source": [
    "#1.Remove all cases where there is a bot comment\n",
    "df['bot_comment'] = df.comment.apply(lambda x:  'i am a bot, and this action was performed automatically.' in ' '.join(x))\n",
    "df = df.drop(df[df.bot_comment].index)"
   ]
  },
  {
   "cell_type": "markdown",
   "metadata": {},
   "source": [
    "#### Split the corpus:"
   ]
  },
  {
   "cell_type": "code",
   "execution_count": 31,
   "metadata": {},
   "outputs": [],
   "source": [
    "#First save all the data without masking..\n",
    "train_df = rebuttal_df[rebuttal_df['split'] == 'train']\n",
    "dev_df   = rebuttal_df[rebuttal_df['split'] == 'val']\n",
    "test_df  = rebuttal_df[rebuttal_df['split'] == 'test']"
   ]
  },
  {
   "cell_type": "code",
   "execution_count": null,
   "metadata": {},
   "outputs": [],
   "source": [
    "dev_df.to_pickle('../../../data-ceph/arguana/arg-generation/multi-taks-counter-argument-generation/reddit_data/conclusion_and_ca_generation/valid_conclusion_all.pkl')\n",
    "test_df.to_pickle('../../../data-ceph/arguana/arg-generation/multi-taks-counter-argument-generation/reddit_data/conclusion_and_ca_generation/test_conclusion_all.pkl')\n",
    "\n",
    "#Also save a sample for rapid test\n",
    "dev_df.drop_duplicates('post_id').sample(2000).to_pickle('../../../data-ceph/arguana/arg-generation/multi-taks-counter-argument-generation/reddit_data/conclusion_and_ca_generation/sample_valid_conclusion_all.pkl')\n",
    "test_df.drop_duplicates('post_id').sample(2000).to_pickle('../../../data-ceph/arguana/arg-generation/multi-taks-counter-argument-generation/reddit_data/conclusion_and_ca_generation/sample_test_conclusion_all.pkl')"
   ]
  },
  {
   "cell_type": "markdown",
   "metadata": {},
   "source": [
    "#### Prepare the training data:"
   ]
  },
  {
   "cell_type": "code",
   "execution_count": 4,
   "metadata": {},
   "outputs": [],
   "source": [
    "train_df = pd.read_pickle('../../../data-ceph/arguana/arg-generation/multi-taks-counter-argument-generation/reddit_data/conclusion_and_ca_generation/preprocessed_train_conclusion_all.pkl')"
   ]
  },
  {
   "cell_type": "code",
   "execution_count": 5,
   "metadata": {
    "scrolled": true,
    "tags": []
   },
   "outputs": [
    {
     "data": {
      "text/html": [
       "<div>\n",
       "<style scoped>\n",
       "    .dataframe tbody tr th:only-of-type {\n",
       "        vertical-align: middle;\n",
       "    }\n",
       "\n",
       "    .dataframe tbody tr th {\n",
       "        vertical-align: top;\n",
       "    }\n",
       "\n",
       "    .dataframe thead th {\n",
       "        text-align: right;\n",
       "    }\n",
       "</style>\n",
       "<table border=\"1\" class=\"dataframe\">\n",
       "  <thead>\n",
       "    <tr style=\"text-align: right;\">\n",
       "      <th></th>\n",
       "      <th>post_id</th>\n",
       "      <th>split</th>\n",
       "      <th>comment_id</th>\n",
       "      <th>title</th>\n",
       "      <th>post</th>\n",
       "      <th>n_sentences</th>\n",
       "      <th>counter</th>\n",
       "      <th>bot_comment</th>\n",
       "      <th>counter_conclusion</th>\n",
       "      <th>counter_conclusions</th>\n",
       "    </tr>\n",
       "  </thead>\n",
       "  <tbody>\n",
       "    <tr>\n",
       "      <th>0</th>\n",
       "      <td>t3_1u4mmo</td>\n",
       "      <td>train</td>\n",
       "      <td>t1_ceehlbn</td>\n",
       "      <td>I believe that churches and other religious institutions should have to pay taxes.</td>\n",
       "      <td>[i believe that a church is like any other profit making business and therefore most pay similar taxes., i am not a religious person myself so i do not know the complete logistics of the revenue and spending of a church but i do understand they can yield a good amount of cash., not entirely sure how accurate this article is, but it states that we could gain an additional 71 billion dollars per year and in a time where we as a country are in trillions of dollars of debt taxing a church seems reasonable to me., cmv]</td>\n",
       "      <td>4</td>\n",
       "      <td>1. it can be used as a chilling effect that can be enforced in discriminating ways. 2. just because the nation is in debt does not justify collecting additional taxes. they've already proven themselves irresponsible with the trillions they do collect. collecting more won't cause them to become responsible. 3. other non profit organizations are tax exempt. 4. taxing someone subjects them to governmental oversight which creates an intermingling of church and state. when money exchanges between government and an institution the two infiltrate and influence one another.</td>\n",
       "      <td>False</td>\n",
       "      <td>Tax exemptions are a privilege and should not automatically be granted to any organisation, including churches.</td>\n",
       "      <td>Taxes are theft because the money is used for purposes that the taxed may find abhorrent; it thus violates people's freedom to spend their money.</td>\n",
       "    </tr>\n",
       "    <tr>\n",
       "      <th>22</th>\n",
       "      <td>t3_1u4mo5</td>\n",
       "      <td>train</td>\n",
       "      <td>t1_ceegi4s</td>\n",
       "      <td>I don't believe it is acceptable to attack the person that your SO cheated on you with.</td>\n",
       "      <td>[so it seems to be common that, when caught cheating, violence is directed toward the person the significant other so cheated with., i don't understand why., you were in a relationship with your so., you had no agreement with the other party., if you are going to beat the shit out of anyone, it should be your so., s he is the one that cheated on you., the other party, provided they aren't a friend or acquaintance doesn't owe you anything., why should beating the ever loving shit out of your so's cheat mate be acceptable?]</td>\n",
       "      <td>8</td>\n",
       "      <td>you presumably love your so and hope to fix your relationship, so attacking them would be counterproductive. as for the violence itself, i think the level of emotional damage caused by being cheated on is significantly worse than getting punched a few times i don't see why people have such a prejudice against physical violence compared to other, more subtle and painful forms of injury such as emotional.</td>\n",
       "      <td>False</td>\n",
       "      <td>I believe that physical violence is never more harmful than other forms of violence.</td>\n",
       "      <td>I believe that physical violence against a partner is more harmful than any other form of violence.</td>\n",
       "    </tr>\n",
       "    <tr>\n",
       "      <th>38</th>\n",
       "      <td>t3_1u4txm</td>\n",
       "      <td>train</td>\n",
       "      <td>t1_ceeioxh</td>\n",
       "      <td>There is no viable alternative to capitalism, though the current system can be altered to serve people's needs.</td>\n",
       "      <td>[i've tried researching discussions on this topic before but i only found ones involving incredibly biased participants., hope you guys can do better i honestly don't understand how there is a significant number of people who believe that capitalism can be replaced., history shows that absolutely no ruler in a socialist or communist regime is capable of upholding their ideals., if you subscribe to the notion that socialism communism is supposed to exist without a state, then i respond that in any circumstance, whether it's survival or business, etc, people will gravitate towards leaders, whether it's in a formal or informal fashion for instance, my workplace has a fairly 'flat' structure but even within my group, i always seek the advice of the more experienced people ., furthermore, even though i do agree that everyone has the right to have their most basic needs fulfilled via, say, some basic income that allows people to eat, drink water and practice basic hygiene with anything else having to be worked for , i don't understand how one can transition to an economic system that no longer seeks profit., yes, infinite growth in a finite world and all that, but without profit, we have stagnation., if you were to tell me that my income would not change for the rest of my life, i would only do the bare minimum to get by, regardless of how much i enjoyed my job., i deserve to be rewarded for my efforts., therefore i do not understand why is it not possible to simply retool the existing system by enforcing tax laws more harshly on large fortunes and boosting the welfare state, for instance to allow everyone to have a living wage., yes, some might call it implausible but i find it much less implausible than the alternative., forgive my lack of coherence and i understand i might have some incorrect notions about this topic but that's what i am here for., i await a hopefully enlightening discussion., note: let's be exact here: i also think that when people online call for the end of capitalism, most of them are referring to the capitalism practiced in the united states: as a european citizen, i honestly look at said system more as borderline cyberpunk esque anarcho capitalism more than anything else., do you think the discussions i mentioned are mostly a result of semantic differences?, i have heavily considered this as well ., if so, please mention it below.]</td>\n",
       "      <td>16</td>\n",
       "      <td>the system you are describing is not capitalism. under capitalism, do you get directly rewarded for your hard work? no, most of the hardest workers get paid piecemeal wages, and live in terrible conditions. it's never going to be profitable to meet everyones needs. welfare states are built off the exploitation of foreign workers, you can't have a global system that would adquetely satisfy need. there are viable alternatives. socialism, where industry is worker owned, is viable, and has existed. you can still have market socialism where there is still a profit motive, but it's not capitalism, so it is a 'viable alternative' while fitting your idea of what you think is viable. many other forms of socialism, while being non market, reward people for their contribution, directly for their hard work. so, your ideal system is actually socialism, which is an alternative to capitalism.</td>\n",
       "      <td>False</td>\n",
       "      <td>Capitalism is not the ideal system, there are alternatives.</td>\n",
       "      <td>Capitalism is not the ideal system, there are alternatives.</td>\n",
       "    </tr>\n",
       "    <tr>\n",
       "      <th>50</th>\n",
       "      <td>t3_1u4wid</td>\n",
       "      <td>train</td>\n",
       "      <td>t1_ceejljb</td>\n",
       "      <td>Given the option to draft either a QB with elite passing AND elite running skills or a QB with elite passing skills ONLY, NFL teams should almost always draft the QB with elite passing skills only.</td>\n",
       "      <td>[i say 'almost always' because you never know when a lebron type athletic qb will come along., my only caveat is a bona fide freak of nature., i've yet to see such a player., my reasons: 1., the nfl is a pass first league., without an elite passer, teams cannot compete for super bowls., aside from a few anomalies, this is a hard and fast rule., the role of the qb is to get the ball to the open man downfield., a completed pass, on average, nets more yardage than a run, therefore a completed pass is more valuable than a run., teams that put a high value on a qb's ability to run the ball are over valuing this skill., 2., qb's that have the ability to run learn from a young age to bail on pass plays too early whenever they feel the rush closing in., they have likely been the best and fastest athletes on the field during their entire amateur careers, so running has likely led to big plays., in the nfl, the defenses are bigger and faster and can close on a qb much more quickly than high school or college defenders., 3., qb's with elite running ability take more risks during a game., by holding the ball or leaving the pocket, they are opening themselves up to big hits resulting in fumbles and devastating injuries., injured qb's have no value to their team., chronically injured qb's drafted as a franchise qb not only have no value, but they can leave a team wallowing in mediocrity for years decades., injuries must be avoided at all costs., 4., most running qb's have to be 'broken' of their penchant for scrambling in lieu of keeping their eyes downfield., this causes their development to be stunted in comparison to qb's whose sole focus has been honing their elite passing skills only., in a league where the continued employment of coaches and gm's is contingent upon winning right now, a delay in the development of a qb can cost seasons and jobs and thus continuity ., franchises with frequent management turnover are not competitive., 5., tom brady, peyton manning, drew brees all have basically zero running skills whatsoever yet all three are the best of their generation and super bowl champs., the following is an aside and not meant to be part of my view that needs changing., in conclusion and just to add a little more controversy to my ramblings , it is my position that cam newton, rg 3, and colin kaepernick will never win a super bowl., if we look ahead to the 2014 nfl draft, my belief is that the biggest gamble and potential franchise killer amongst the available qb's is johnny manziel., if my analysis holds true, any team that uses a high first round pick on manziel to be their franchise qb is likely betting their future on a player that has an extremely small probability to lead them to a super bowl win., change my view.]</td>\n",
       "      <td>32</td>\n",
       "      <td>ben roethlesberger led the league at least one season in runs for a qb. donovan mcnabb was an elite qb who had many great seasons, and was considered a run threat. i agree that vince young type players aren't going to win any superbowls, but that has to do with the fact that he wasn't that elite as a passer to be honest, and he was too risky with his runs. there are qbs that utilize the run with success that you don't even think of as running qbs because they are smart about it and take less risks. i wouldn't choose my qb solely on whether he can run or not. i would judge him on his situational awareness. if its poor, then why do i want him anyways?</td>\n",
       "      <td>False</td>\n",
       "      <td>Biden roethlesberger wasn't that great of a player.</td>\n",
       "      <td>Biden roethlesberger wasn't that great of a player.</td>\n",
       "    </tr>\n",
       "    <tr>\n",
       "      <th>54</th>\n",
       "      <td>t3_1u5fux</td>\n",
       "      <td>train</td>\n",
       "      <td>t1_ceeop1s</td>\n",
       "      <td>I don't think promiscuity is a bad thing. .</td>\n",
       "      <td>[i don't think that having lots of sex negatively affects people., if you are safe and smart, there aren't many, maybe not any, negative consequences., i like my body, i like the things my body can do, and i like the way it feels when i have sex., so i have a lot of sex., if a slut is a girl who has a lot of sex, i'm a slut., i don't see why being a slut is something i should avoid., i don't see why people act like having sex causes some deep psychological scars., sex crimes, like the one i was a victim of, are bad and hurtful and cause permanent damage., but after a lot of therapy and time i was able to recognize that sex is something fun that makes you feel close to other people., i think a relationship is when you find someone who is the only person you want to feel so close to., i'm in a serious relationship, and for some reason i actually don't know why he is the only person i want to be with., i love him, i love being with him, and i love when we have sex., so if sex is all good warm soft things, then why would being a girl who has lots of sex, or in my situation used to have lots of sex, be a bad or shameful thing?]</td>\n",
       "      <td>13</td>\n",
       "      <td>i mostly agree with you, but there are some dangers to casual sex. having sex with strangers can cause you to form bonds to people who you are better off avoiding. this opens you to manipulation and abuse. it is difficult to be wary of someone you are having sex with. additionally, casual sex can hurt the other person. even if you are honest with your partners about your intentions and level of commitment they can still be hurt. if a partner becomes attached to you and you do not return their interest their feelings will be hurt and they may feel used. like you said, 'sex makes you feel close to other people'. this closeness is not always mutual and sometimes you will feel close to people you are better off avoiding.</td>\n",
       "      <td>False</td>\n",
       "      <td>i think casual sex is a bad idea</td>\n",
       "      <td>i think casual sex can be dangerous.</td>\n",
       "    </tr>\n",
       "  </tbody>\n",
       "</table>\n",
       "</div>"
      ],
      "text/plain": [
       "      post_id  split  comment_id  \\\n",
       "0   t3_1u4mmo  train  t1_ceehlbn   \n",
       "22  t3_1u4mo5  train  t1_ceegi4s   \n",
       "38  t3_1u4txm  train  t1_ceeioxh   \n",
       "50  t3_1u4wid  train  t1_ceejljb   \n",
       "54  t3_1u5fux  train  t1_ceeop1s   \n",
       "\n",
       "                                                                                                                                                                                                     title  \\\n",
       "0                                                                                                                      I believe that churches and other religious institutions should have to pay taxes.    \n",
       "22                                                                                                                I don't believe it is acceptable to attack the person that your SO cheated on you with.    \n",
       "38                                                                                        There is no viable alternative to capitalism, though the current system can be altered to serve people's needs.    \n",
       "50  Given the option to draft either a QB with elite passing AND elite running skills or a QB with elite passing skills ONLY, NFL teams should almost always draft the QB with elite passing skills only.    \n",
       "54                                                                                                                                                             I don't think promiscuity is a bad thing. .   \n",
       "\n",
       "                                                                                                                                                                                                                                                                                                                                                                                                                                                                                                                                                                                                                                                                                                                                                                                                                                                                                                                                                                                                                                                                                                                                                                                                                                                                                                                                                                                                                                                                                                                                                                                                                                                                                                                                                                                                                                                                                                                                                                                                                                                                                                                                                                                                                                                                                                                                                                                                                                                                                                                                                                                                                                                                                                                                                                                                                                                                              post  \\\n",
       "0                                                                                                                                                                                                                                                                                                                                                                                                                                                                                                                                                                                                                                                                                                                                                                                                                                                                                                                                                                                                                                                                                                                                                                                                                                                                                                                                                                                                                                                                                                                                                                                                                                                                                                                                                                                                                                                                                                                                                                                                                                                                                                                                                                                                                                                                                                                                          [i believe that a church is like any other profit making business and therefore most pay similar taxes., i am not a religious person myself so i do not know the complete logistics of the revenue and spending of a church but i do understand they can yield a good amount of cash., not entirely sure how accurate this article is, but it states that we could gain an additional 71 billion dollars per year and in a time where we as a country are in trillions of dollars of debt taxing a church seems reasonable to me., cmv]   \n",
       "22                                                                                                                                                                                                                                                                                                                                                                                                                                                                                                                                                                                                                                                                                                                                                                                                                                                                                                                                                                                                                                                                                                                                                                                                                                                                                                                                                                                                                                                                                                                                                                                                                                                                                                                                                                                                                                                                                                                                                                                                                                                                                                                                                                                                                                                                                                                                 [so it seems to be common that, when caught cheating, violence is directed toward the person the significant other so cheated with., i don't understand why., you were in a relationship with your so., you had no agreement with the other party., if you are going to beat the shit out of anyone, it should be your so., s he is the one that cheated on you., the other party, provided they aren't a friend or acquaintance doesn't owe you anything., why should beating the ever loving shit out of your so's cheat mate be acceptable?]   \n",
       "38                                                                                                                                                                                                                                                                                                                                                                                        [i've tried researching discussions on this topic before but i only found ones involving incredibly biased participants., hope you guys can do better i honestly don't understand how there is a significant number of people who believe that capitalism can be replaced., history shows that absolutely no ruler in a socialist or communist regime is capable of upholding their ideals., if you subscribe to the notion that socialism communism is supposed to exist without a state, then i respond that in any circumstance, whether it's survival or business, etc, people will gravitate towards leaders, whether it's in a formal or informal fashion for instance, my workplace has a fairly 'flat' structure but even within my group, i always seek the advice of the more experienced people ., furthermore, even though i do agree that everyone has the right to have their most basic needs fulfilled via, say, some basic income that allows people to eat, drink water and practice basic hygiene with anything else having to be worked for , i don't understand how one can transition to an economic system that no longer seeks profit., yes, infinite growth in a finite world and all that, but without profit, we have stagnation., if you were to tell me that my income would not change for the rest of my life, i would only do the bare minimum to get by, regardless of how much i enjoyed my job., i deserve to be rewarded for my efforts., therefore i do not understand why is it not possible to simply retool the existing system by enforcing tax laws more harshly on large fortunes and boosting the welfare state, for instance to allow everyone to have a living wage., yes, some might call it implausible but i find it much less implausible than the alternative., forgive my lack of coherence and i understand i might have some incorrect notions about this topic but that's what i am here for., i await a hopefully enlightening discussion., note: let's be exact here: i also think that when people online call for the end of capitalism, most of them are referring to the capitalism practiced in the united states: as a european citizen, i honestly look at said system more as borderline cyberpunk esque anarcho capitalism more than anything else., do you think the discussions i mentioned are mostly a result of semantic differences?, i have heavily considered this as well ., if so, please mention it below.]   \n",
       "50  [i say 'almost always' because you never know when a lebron type athletic qb will come along., my only caveat is a bona fide freak of nature., i've yet to see such a player., my reasons: 1., the nfl is a pass first league., without an elite passer, teams cannot compete for super bowls., aside from a few anomalies, this is a hard and fast rule., the role of the qb is to get the ball to the open man downfield., a completed pass, on average, nets more yardage than a run, therefore a completed pass is more valuable than a run., teams that put a high value on a qb's ability to run the ball are over valuing this skill., 2., qb's that have the ability to run learn from a young age to bail on pass plays too early whenever they feel the rush closing in., they have likely been the best and fastest athletes on the field during their entire amateur careers, so running has likely led to big plays., in the nfl, the defenses are bigger and faster and can close on a qb much more quickly than high school or college defenders., 3., qb's with elite running ability take more risks during a game., by holding the ball or leaving the pocket, they are opening themselves up to big hits resulting in fumbles and devastating injuries., injured qb's have no value to their team., chronically injured qb's drafted as a franchise qb not only have no value, but they can leave a team wallowing in mediocrity for years decades., injuries must be avoided at all costs., 4., most running qb's have to be 'broken' of their penchant for scrambling in lieu of keeping their eyes downfield., this causes their development to be stunted in comparison to qb's whose sole focus has been honing their elite passing skills only., in a league where the continued employment of coaches and gm's is contingent upon winning right now, a delay in the development of a qb can cost seasons and jobs and thus continuity ., franchises with frequent management turnover are not competitive., 5., tom brady, peyton manning, drew brees all have basically zero running skills whatsoever yet all three are the best of their generation and super bowl champs., the following is an aside and not meant to be part of my view that needs changing., in conclusion and just to add a little more controversy to my ramblings , it is my position that cam newton, rg 3, and colin kaepernick will never win a super bowl., if we look ahead to the 2014 nfl draft, my belief is that the biggest gamble and potential franchise killer amongst the available qb's is johnny manziel., if my analysis holds true, any team that uses a high first round pick on manziel to be their franchise qb is likely betting their future on a player that has an extremely small probability to lead them to a super bowl win., change my view.]   \n",
       "54                                                                                                                                                                                                                                                                                                                                                                                                                                                                                                                                                                                                                                                                                                                                                                                                                                                                                                                                                                                                                                                                                                                                                                                                                                                                                                                                                                                                                                                                                                                                                                                                                                                                                            [i don't think that having lots of sex negatively affects people., if you are safe and smart, there aren't many, maybe not any, negative consequences., i like my body, i like the things my body can do, and i like the way it feels when i have sex., so i have a lot of sex., if a slut is a girl who has a lot of sex, i'm a slut., i don't see why being a slut is something i should avoid., i don't see why people act like having sex causes some deep psychological scars., sex crimes, like the one i was a victim of, are bad and hurtful and cause permanent damage., but after a lot of therapy and time i was able to recognize that sex is something fun that makes you feel close to other people., i think a relationship is when you find someone who is the only person you want to feel so close to., i'm in a serious relationship, and for some reason i actually don't know why he is the only person i want to be with., i love him, i love being with him, and i love when we have sex., so if sex is all good warm soft things, then why would being a girl who has lots of sex, or in my situation used to have lots of sex, be a bad or shameful thing?]   \n",
       "\n",
       "    n_sentences  \\\n",
       "0             4   \n",
       "22            8   \n",
       "38           16   \n",
       "50           32   \n",
       "54           13   \n",
       "\n",
       "                                                                                                                                                                                                                                                                                                                                                                                                                                                                                                                                                                                                                                                                                                                                                                                                                                                                                                                       counter  \\\n",
       "0                                                                                                                                                                                                                                                                                                                                 1. it can be used as a chilling effect that can be enforced in discriminating ways. 2. just because the nation is in debt does not justify collecting additional taxes. they've already proven themselves irresponsible with the trillions they do collect. collecting more won't cause them to become responsible. 3. other non profit organizations are tax exempt. 4. taxing someone subjects them to governmental oversight which creates an intermingling of church and state. when money exchanges between government and an institution the two infiltrate and influence one another.   \n",
       "22                                                                                                                                                                                                                                                                                                                                                                                                                                                                                                      you presumably love your so and hope to fix your relationship, so attacking them would be counterproductive. as for the violence itself, i think the level of emotional damage caused by being cheated on is significantly worse than getting punched a few times i don't see why people have such a prejudice against physical violence compared to other, more subtle and painful forms of injury such as emotional.   \n",
       "38  the system you are describing is not capitalism. under capitalism, do you get directly rewarded for your hard work? no, most of the hardest workers get paid piecemeal wages, and live in terrible conditions. it's never going to be profitable to meet everyones needs. welfare states are built off the exploitation of foreign workers, you can't have a global system that would adquetely satisfy need. there are viable alternatives. socialism, where industry is worker owned, is viable, and has existed. you can still have market socialism where there is still a profit motive, but it's not capitalism, so it is a 'viable alternative' while fitting your idea of what you think is viable. many other forms of socialism, while being non market, reward people for their contribution, directly for their hard work. so, your ideal system is actually socialism, which is an alternative to capitalism.   \n",
       "50                                                                                                                                                                                                                                           ben roethlesberger led the league at least one season in runs for a qb. donovan mcnabb was an elite qb who had many great seasons, and was considered a run threat. i agree that vince young type players aren't going to win any superbowls, but that has to do with the fact that he wasn't that elite as a passer to be honest, and he was too risky with his runs. there are qbs that utilize the run with success that you don't even think of as running qbs because they are smart about it and take less risks. i wouldn't choose my qb solely on whether he can run or not. i would judge him on his situational awareness. if its poor, then why do i want him anyways?   \n",
       "54                                                                                                                                                                      i mostly agree with you, but there are some dangers to casual sex. having sex with strangers can cause you to form bonds to people who you are better off avoiding. this opens you to manipulation and abuse. it is difficult to be wary of someone you are having sex with. additionally, casual sex can hurt the other person. even if you are honest with your partners about your intentions and level of commitment they can still be hurt. if a partner becomes attached to you and you do not return their interest their feelings will be hurt and they may feel used. like you said, 'sex makes you feel close to other people'. this closeness is not always mutual and sometimes you will feel close to people you are better off avoiding.   \n",
       "\n",
       "    bot_comment  \\\n",
       "0         False   \n",
       "22        False   \n",
       "38        False   \n",
       "50        False   \n",
       "54        False   \n",
       "\n",
       "                                                                                                 counter_conclusion  \\\n",
       "0   Tax exemptions are a privilege and should not automatically be granted to any organisation, including churches.   \n",
       "22                             I believe that physical violence is never more harmful than other forms of violence.   \n",
       "38                                                      Capitalism is not the ideal system, there are alternatives.   \n",
       "50                                                              Biden roethlesberger wasn't that great of a player.   \n",
       "54                                                                                 i think casual sex is a bad idea   \n",
       "\n",
       "                                                                                                                                  counter_conclusions  \n",
       "0   Taxes are theft because the money is used for purposes that the taxed may find abhorrent; it thus violates people's freedom to spend their money.  \n",
       "22                                                I believe that physical violence against a partner is more harmful than any other form of violence.  \n",
       "38                                                                                        Capitalism is not the ideal system, there are alternatives.  \n",
       "50                                                                                                Biden roethlesberger wasn't that great of a player.  \n",
       "54                                                                                                               i think casual sex can be dangerous.  "
      ]
     },
     "execution_count": 5,
     "metadata": {},
     "output_type": "execute_result"
    }
   ],
   "source": [
    "train_df.head()"
   ]
  },
  {
   "cell_type": "markdown",
   "metadata": {},
   "source": [
    "##### Select high quality comments to be the counters"
   ]
  },
  {
   "cell_type": "code",
   "execution_count": null,
   "metadata": {},
   "outputs": [],
   "source": [
    "post_to_comments_df = train_df.groupby('post_id').agg({'counter': lambda x: list(x)}).reset_index()\n",
    "post_to_comments_df['best_comment'] = post_to_comments_df.counter.apply(lambda x: get_best_argumentative_comment(x))\n",
    "post_to_best_comment = pd.Series(post_to_comments_df.best_comment.values,index=post_to_comments_df.post_id).to_dict()"
   ]
  },
  {
   "cell_type": "code",
   "execution_count": null,
   "metadata": {},
   "outputs": [],
   "source": [
    "train_df['counter'] = train_df.post_id.apply(lambda x: post_to_best_comment[x]) #override the comments with the best one..."
   ]
  },
  {
   "cell_type": "code",
   "execution_count": null,
   "metadata": {},
   "outputs": [],
   "source": [
    "train_df.drop_duplicates('post_id').to_pickle('../../../data-ceph/arguana/arg-generation/multi-taks-counter-argument-generation/reddit_data/conclusion_and_ca_generation/preprocessed_train_conclusion_all.pkl')"
   ]
  },
  {
   "cell_type": "markdown",
   "metadata": {},
   "source": [
    "##### Generate conclusions for the comments:"
   ]
  },
  {
   "cell_type": "code",
   "execution_count": 36,
   "metadata": {
    "scrolled": true,
    "tags": []
   },
   "outputs": [],
   "source": [
    "train_df = pd.read_pickle('../../../data-ceph/arguana/arg-generation/multi-taks-counter-argument-generation/reddit_data/conclusion_and_ca_generation/preprocessed_train_conclusion_all.pkl')\n",
    "#Load the preprocessed one because we already generated the targets and stances from the claim-target-extration notebook\n",
    "valid_df = pd.read_pickle('../../../data-ceph/arguana/arg-generation/multi-taks-counter-argument-generation/reddit_data/conclusion_and_ca_generation/sample_valid_conclusion_all_preprocessed.pkl') \n",
    "#Load the preprocessed one because we already generated the targets and stances from the claim-target-extration notebook\n",
    "test_df  = pd.read_pickle('../../../data-ceph/arguana/arg-generation/multi-taks-counter-argument-generation/reddit_data/conclusion_and_ca_generation/sample_test_conclusion_all_preprocessed.pkl')"
   ]
  },
  {
   "cell_type": "code",
   "execution_count": 37,
   "metadata": {},
   "outputs": [],
   "source": [
    "num_seq = 5\n",
    "\n",
    "gen_kwargs = {\n",
    "    \"do_sample\": True, \n",
    "    \"max_length\":200,\n",
    "    \"top_p\":0.90, \n",
    "    \"num_return_sequences\":num_seq\n",
    "}\n",
    "\n",
    "def chunks(lst, n):\n",
    "    \"\"\"Yield successive n-sized chunks from lst.\"\"\"\n",
    "    for i in range(0, len(lst), n):\n",
    "        yield lst[i:i + n]\n",
    "        \n",
    "def get_best_conclusion(stance_scores):\n",
    "    res = list(zip(stance_scores[0], stance_scores[1][1], stance_scores[1][2]))\n",
    "    filtered_res = [x for x in res if x[1]==1] #keep only the ones that looks like countering the argument's conclusion\n",
    "    if len(filtered_res) > 0:\n",
    "        return sorted(filtered_res, key=lambda x: -x[2])[0][0] #pick the one that the model is sure of the most\n",
    "    else:\n",
    "        return sorted(res, key=lambda x: -x[2])[0][0] #pick the one that the model is sure of the most\n",
    "\n",
    "def generate_counter_conclusions(arg_conclusions, counters):\n",
    "    #generate the conclusions\n",
    "    conclusions = generate_conclusion(counters, gen_kwargs, batch_size=8)\n",
    "    #remove dublicate conclusions so we don't have to process them\n",
    "    conclusions = [list(set(c)) for c in chunks(conclusions, num_seq)] \n",
    "    arg_conclusion_and_counter_conclusions = list(zip(arg_conclusions, conclusions))\n",
    "    \n",
    "    #compute stances of generated conclusions towards the original argument's conclusion\n",
    "    stance_scores = []\n",
    "    for c in arg_conclusion_and_counter_conclusions:\n",
    "        stance_scores.append((c[1], get_stance_scores([c[0]] * len(c[1]), c[1])))\n",
    "    \n",
    "    #get best conclusion of the candidates\n",
    "    final_conclusions = [ get_best_conclusion(conc_set) for conc_set in stance_scores]\n",
    "    return final_conclusions"
   ]
  },
  {
   "cell_type": "code",
   "execution_count": 42,
   "metadata": {
    "scrolled": true,
    "tags": []
   },
   "outputs": [
    {
     "data": {
      "application/vnd.jupyter.widget-view+json": {
       "model_id": "93843955712641329a4a28a3d6b9eb3b",
       "version_major": 2,
       "version_minor": 0
      },
      "text/plain": [
       "  0%|          | 0/26 [00:00<?, ?ba/s]"
      ]
     },
     "metadata": {},
     "output_type": "display_data"
    },
    {
     "name": "stderr",
     "output_type": "stream",
     "text": [
      "/usr/local/lib/python3.6/dist-packages/transformers/pipelines/base.py:998: UserWarning: You seem to be using the pipelines sequentially on GPU. In order to maximize efficiency please use a dataset\n",
      "  UserWarning,\n"
     ]
    }
   ],
   "source": [
    "counter_conclusions = generate_counter_conclusions(train_df['title'].tolist(),  train_df['counter'].tolist())\n",
    "train_df['counter_conclusion'] = counter_conclusions"
   ]
  },
  {
   "cell_type": "code",
   "execution_count": 43,
   "metadata": {},
   "outputs": [],
   "source": [
    "train_df.to_pickle('../../../data-ceph/arguana/arg-generation/multi-taks-counter-argument-generation/reddit_data/conclusion_and_ca_generation/preprocessed_train_conclusion_all.pkl') "
   ]
  },
  {
   "cell_type": "code",
   "execution_count": 44,
   "metadata": {},
   "outputs": [
    {
     "data": {
      "application/vnd.jupyter.widget-view+json": {
       "model_id": "4f17db270d4b463a8ec26cc631bfaa91",
       "version_major": 2,
       "version_minor": 0
      },
      "text/plain": [
       "  0%|          | 0/2 [00:00<?, ?ba/s]"
      ]
     },
     "metadata": {},
     "output_type": "display_data"
    },
    {
     "name": "stderr",
     "output_type": "stream",
     "text": [
      "/usr/local/lib/python3.6/dist-packages/transformers/pipelines/base.py:998: UserWarning: You seem to be using the pipelines sequentially on GPU. In order to maximize efficiency please use a dataset\n",
      "  UserWarning,\n"
     ]
    }
   ],
   "source": [
    "counter_conclusions = generate_counter_conclusions(valid_df['title'].tolist(),  valid_df['counter'].tolist())\n",
    "valid_df['counter_conclusion'] = counter_conclusions\n",
    "valid_df.to_pickle('../../../data-ceph/arguana/arg-generation/multi-taks-counter-argument-generation/reddit_data/conclusion_and_ca_generation/sample_valid_conclusion_all_preprocessed.pkl') "
   ]
  },
  {
   "cell_type": "code",
   "execution_count": 45,
   "metadata": {},
   "outputs": [
    {
     "data": {
      "application/vnd.jupyter.widget-view+json": {
       "model_id": "497b152c596a4ea698d3264af24cbef7",
       "version_major": 2,
       "version_minor": 0
      },
      "text/plain": [
       "  0%|          | 0/2 [00:00<?, ?ba/s]"
      ]
     },
     "metadata": {},
     "output_type": "display_data"
    }
   ],
   "source": [
    "counter_conclusions = generate_counter_conclusions(test_df['title'].tolist(), test_df['counter'].tolist())\n",
    "test_df['counter_conclusion'] = counter_conclusions\n",
    "test_df.to_pickle('../../../data-ceph/arguana/arg-generation/multi-taks-counter-argument-generation/reddit_data/conclusion_and_ca_generation/sample_test_conclusion_all_preprocessed.pkl') "
   ]
  },
  {
   "cell_type": "markdown",
   "metadata": {
    "tags": []
   },
   "source": [
    "### Data Analysis:"
   ]
  },
  {
   "cell_type": "code",
   "execution_count": 5,
   "metadata": {},
   "outputs": [],
   "source": [
    "df = pd.read_pickle('../../../data-ceph/arguana/arg-generation/multi-taks-counter-argument-generation/reddit_data/conclusion_and_ca_generation/preprocessed_train_conclusion_all.pkl')"
   ]
  },
  {
   "cell_type": "code",
   "execution_count": 19,
   "metadata": {},
   "outputs": [],
   "source": [
    "df['arg_len'] = df['post'].apply(lambda x: len(' '.join(x).split()))\n",
    "df['counter_conclusion_len'] = df['counter_conclusion'].apply(lambda x: len(' '.join(x).split()))\n",
    "df['counter_len'] = df['counter'].apply(lambda x: len(' '.join(x).split()))"
   ]
  },
  {
   "cell_type": "code",
   "execution_count": 21,
   "metadata": {},
   "outputs": [
    {
     "name": "stdout",
     "output_type": "stream",
     "text": [
      "DescribeResult(nobs=25704, minmax=(18, 7720), mean=609.5545051353874, variance=256135.31547439232, skewness=3.1203514361245084, kurtosis=19.270959098792662)\n"
     ]
    },
    {
     "data": {
      "image/png": "[encoded data removed]",
      "text/plain": [
       "<Figure size 432x288 with 1 Axes>"
      ]
     },
     "metadata": {
      "needs_background": "light"
     },
     "output_type": "display_data"
    }
   ],
   "source": [
    "df.counter_len.hist()\n",
    "print(stats.describe(df.counter_len))"
   ]
  },
  {
   "cell_type": "code",
   "execution_count": 22,
   "metadata": {},
   "outputs": [
    {
     "name": "stdout",
     "output_type": "stream",
     "text": [
      "DescribeResult(nobs=25704, minmax=(14, 259), mean=56.36258948023654, variance=408.28084916329595, skewness=1.2817425734335934, kurtosis=3.110149983781798)\n"
     ]
    },
    {
     "data": {
      "image/png": "[encoded data removed]",
      "text/plain": [
       "<Figure size 432x288 with 1 Axes>"
      ]
     },
     "metadata": {
      "needs_background": "light"
     },
     "output_type": "display_data"
    }
   ],
   "source": [
    "df.counter_conclusion_len.hist()\n",
    "print(stats.describe(df.counter_conclusion_len))"
   ]
  },
  {
   "cell_type": "code",
   "execution_count": 10,
   "metadata": {},
   "outputs": [
    {
     "data": {
      "text/plain": [
       "<matplotlib.axes._subplots.AxesSubplot at 0x7f8269789f98>"
      ]
     },
     "execution_count": 10,
     "metadata": {},
     "output_type": "execute_result"
    },
    {
     "data": {
      "image/png": "[encoded data removed]",
      "text/plain": [
       "<Figure size 432x288 with 1 Axes>"
      ]
     },
     "metadata": {
      "needs_background": "light"
     },
     "output_type": "display_data"
    }
   ],
   "source": [
    "df.arg_len.hist()"
   ]
  },
  {
   "cell_type": "code",
   "execution_count": 12,
   "metadata": {},
   "outputs": [],
   "source": [
    "import scipy.stats as stats"
   ]
  },
  {
   "cell_type": "code",
   "execution_count": 14,
   "metadata": {},
   "outputs": [
    {
     "data": {
      "text/plain": [
       "DescribeResult(nobs=25704, minmax=(37, 6098), mean=325.7589091192032, variance=69359.20705597836, skewness=4.015820669815308, kurtosis=40.21213988492746)"
      ]
     },
     "execution_count": 14,
     "metadata": {},
     "output_type": "execute_result"
    }
   ],
   "source": [
    "stats.describe(df.arg_len)"
   ]
  }
 ],
 "metadata": {
  "kernelspec": {
   "display_name": "Python 3",
   "language": "python",
   "name": "python3"
  },
  "language_info": {
   "codemirror_mode": {
    "name": "ipython",
    "version": 3
   },
   "file_extension": ".py",
   "mimetype": "text/x-python",
   "name": "python",
   "nbconvert_exporter": "python",
   "pygments_lexer": "ipython3",
   "version": "3.8.10"
  }
 },
 "nbformat": 4,
 "nbformat_minor": 4
}
