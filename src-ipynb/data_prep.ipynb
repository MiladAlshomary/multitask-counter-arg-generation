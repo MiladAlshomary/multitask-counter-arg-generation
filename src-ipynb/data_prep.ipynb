{
 "cells": [
  {
   "cell_type": "code",
   "execution_count": 2,
   "metadata": {},
   "outputs": [],
   "source": [
    "import pandas as pd\n",
    "import numpy as np\n",
    "import json\n",
    "import matplotlib.pyplot as plt\n",
    "\n",
    "import nltk\n",
    "from nltk.corpus import stopwords\n",
    "en_stopwords = stopwords.words('english')\n",
    "\n",
    "pd.set_option('display.max_colwidth', None)"
   ]
  },
  {
   "cell_type": "code",
   "execution_count": 3,
   "metadata": {
    "scrolled": true,
    "tags": []
   },
   "outputs": [
    {
     "name": "stdout",
     "output_type": "stream",
     "text": [
      "2022-08-12 10:03:56,075 loading file ../../data-ceph/arguana/arg-generation/claim-target-tagger/model/final-model.pt\n",
      "2022-08-12 10:04:25,321 SequenceTagger predicts: Dictionary with 4 tags: <unk>, B-CT, I-CT, O\n"
     ]
    }
   ],
   "source": [
    "import sys\n",
    "import os\n",
    "sys.path.append('../src-py/')\n",
    "os.environ[\"CUDA_VISIBLE_DEVICES\"]=\"0\"\n",
    "\n",
    "from ca_utils import *"
   ]
  },
  {
   "cell_type": "code",
   "execution_count": 4,
   "metadata": {},
   "outputs": [
    {
     "data": {
      "text/plain": [
       "device(type='cuda')"
      ]
     },
     "execution_count": 4,
     "metadata": {},
     "output_type": "execute_result"
    }
   ],
   "source": [
    "torch.device('cuda') if torch.cuda.is_available() else torch.device('cpu')"
   ]
  },
  {
   "cell_type": "code",
   "execution_count": 15,
   "metadata": {},
   "outputs": [],
   "source": [
    "path_to_arg_quality_model='../sample-data/argument-quality-model'\n",
    "data_path = '../sample-data/'"
   ]
  },
  {
   "cell_type": "code",
   "execution_count": 9,
   "metadata": {},
   "outputs": [],
   "source": [
    "from transformers import BertForSequenceClassification, AutoTokenizer, TextClassificationPipeline\n",
    "\n",
    "#take top quality counter from the dataset!\n",
    "gretz_model = BertForSequenceClassification.from_pretrained(path_to_arg_quality_model, local_files_only=True, cache_dir='cache')\n",
    "tokenizer = AutoTokenizer.from_pretrained('bert-base-uncased', cache_dir='cache')\n",
    "\n",
    "arg_quality_pipeline = TextClassificationPipeline(model=gretz_model, tokenizer=tokenizer, framework='pt', task='ArgQ', device=0)\n",
    "\n",
    "def get_best_argumentative_comment(comments):    \n",
    "    comments = [' '.join(x) for x in comments]\n",
    "    # set the pipeline\n",
    "    results = arg_quality_pipeline(comments, truncation=True)\n",
    "    comments_scores = []\n",
    "    for result_dict in results:\n",
    "        comments_scores.append(result_dict['score'])\n",
    "    \n",
    "    comments = sorted(list(zip(comments, comments_scores)), key= lambda x: -x[1])\n",
    "    return comments[0][0]"
   ]
  },
  {
   "cell_type": "markdown",
   "metadata": {},
   "source": [
    "### Preparing the data:\n",
    "- Starting from jo_data, remove all cases where the comment qoutes the post --> considered undermining\n",
    "- Second remove bot comments\n",
    "- Third, split into training, testing, and validation\n",
    "- For the training process further to only select the comments with good argumentative quality\n",
    "- .."
   ]
  },
  {
   "cell_type": "code",
   "execution_count": 11,
   "metadata": {},
   "outputs": [],
   "source": [
    "rebuttal_df = pd.read_pickle(\"../sample-data/sample_argument_rebuttals.pkl\")"
   ]
  },
  {
   "cell_type": "code",
   "execution_count": 12,
   "metadata": {},
   "outputs": [],
   "source": [
    "#First save all the data without masking..\n",
    "train_df = rebuttal_df[rebuttal_df['split'] == 'train']\n",
    "dev_df   = rebuttal_df[rebuttal_df['split'] == 'val']\n",
    "test_df  = rebuttal_df[rebuttal_df['split'] == 'test']"
   ]
  },
  {
   "cell_type": "code",
   "execution_count": 13,
   "metadata": {},
   "outputs": [
    {
     "data": {
      "text/plain": [
       "1094"
      ]
     },
     "execution_count": 13,
     "metadata": {},
     "output_type": "execute_result"
    }
   ],
   "source": [
    "train_df.post_id.nunique()"
   ]
  },
  {
   "cell_type": "code",
   "execution_count": 14,
   "metadata": {},
   "outputs": [
    {
     "data": {
      "text/plain": [
       "413"
      ]
     },
     "execution_count": 14,
     "metadata": {},
     "output_type": "execute_result"
    }
   ],
   "source": [
    "dev_df.post_id.nunique()"
   ]
  },
  {
   "cell_type": "markdown",
   "metadata": {},
   "source": [
    "#### Removing the undermining-cases:"
   ]
  },
  {
   "cell_type": "markdown",
   "metadata": {},
   "source": [
    "The code for this in the arg-undermining project"
   ]
  },
  {
   "cell_type": "markdown",
   "metadata": {},
   "source": [
    "#### Removing bot comments:"
   ]
  },
  {
   "cell_type": "code",
   "execution_count": null,
   "metadata": {},
   "outputs": [],
   "source": [
    "#1.Remove all cases where there is a bot comment\n",
    "df['bot_comment'] = df.comment.apply(lambda x:  'i am a bot, and this action was performed automatically.' in ' '.join(x))\n",
    "df = df.drop(df[df.bot_comment].index)"
   ]
  },
  {
   "cell_type": "markdown",
   "metadata": {},
   "source": [
    "#### Split the corpus:"
   ]
  },
  {
   "cell_type": "code",
   "execution_count": 16,
   "metadata": {},
   "outputs": [],
   "source": [
    "#First save all the data without masking..\n",
    "train_df = rebuttal_df[rebuttal_df['split'] == 'train']\n",
    "dev_df   = rebuttal_df[rebuttal_df['split'] == 'val']\n",
    "test_df  = rebuttal_df[rebuttal_df['split'] == 'test']"
   ]
  },
  {
   "cell_type": "code",
   "execution_count": 17,
   "metadata": {},
   "outputs": [],
   "source": [
    "dev_df.to_pickle(data_path + '/valid_conclusion_all.pkl')\n",
    "test_df.to_pickle(data_path + '/test_conclusion_all.pkl')\n",
    "\n",
    "#Also save a sample for rapid test\n",
    "dev_df.drop_duplicates('post_id').sample(200).to_pickle(data_path  + '/sample_valid_conclusion_all.pkl')\n",
    "test_df.drop_duplicates('post_id').sample(200).to_pickle(data_path + '/sample_test_conclusion_all.pkl')"
   ]
  },
  {
   "cell_type": "markdown",
   "metadata": {},
   "source": [
    "#### Prepare the training data:"
   ]
  },
  {
   "cell_type": "markdown",
   "metadata": {},
   "source": [
    "##### Select high quality comments to be the counters"
   ]
  },
  {
   "cell_type": "code",
   "execution_count": 18,
   "metadata": {},
   "outputs": [
    {
     "name": "stderr",
     "output_type": "stream",
     "text": [
      "/usr/local/lib/python3.8/dist-packages/transformers/pipelines/base.py:996: UserWarning: You seem to be using the pipelines sequentially on GPU. In order to maximize efficiency please use a dataset\n",
      "  warnings.warn(\n"
     ]
    }
   ],
   "source": [
    "post_to_comments_df = train_df.groupby('post_id').agg({'counter': lambda x: list(x)}).reset_index()\n",
    "post_to_comments_df['best_comment'] = post_to_comments_df.counter.apply(lambda x: get_best_argumentative_comment(x))\n",
    "post_to_best_comment = pd.Series(post_to_comments_df.best_comment.values,index=post_to_comments_df.post_id).to_dict()"
   ]
  },
  {
   "cell_type": "code",
   "execution_count": 19,
   "metadata": {},
   "outputs": [
    {
     "name": "stderr",
     "output_type": "stream",
     "text": [
      "<ipython-input-19-631f10eb3b57>:1: SettingWithCopyWarning: \n",
      "A value is trying to be set on a copy of a slice from a DataFrame.\n",
      "Try using .loc[row_indexer,col_indexer] = value instead\n",
      "\n",
      "See the caveats in the documentation: https://pandas.pydata.org/pandas-docs/stable/user_guide/indexing.html#returning-a-view-versus-a-copy\n",
      "  train_df['counter'] = train_df.post_id.apply(lambda x: post_to_best_comment[x]) #override the comments with the best one...\n"
     ]
    }
   ],
   "source": [
    "train_df['counter'] = train_df.post_id.apply(lambda x: post_to_best_comment[x]) #override the comments with the best one..."
   ]
  },
  {
   "cell_type": "code",
   "execution_count": 21,
   "metadata": {},
   "outputs": [],
   "source": [
    "train_df.drop_duplicates('post_id').to_pickle(data_path + '/preprocessed_train_conclusion_all.pkl')"
   ]
  }
 ],
 "metadata": {
  "kernelspec": {
   "display_name": "Python 3",
   "language": "python",
   "name": "python3"
  },
  "language_info": {
   "codemirror_mode": {
    "name": "ipython",
    "version": 3
   },
   "file_extension": ".py",
   "mimetype": "text/x-python",
   "name": "python",
   "nbconvert_exporter": "python",
   "pygments_lexer": "ipython3",
   "version": "3.8.10"
  }
 },
 "nbformat": 4,
 "nbformat_minor": 4
}
