{
 "cells": [
  {
   "cell_type": "code",
   "execution_count": 1,
   "metadata": {},
   "outputs": [],
   "source": [
    "import pandas as pd\n",
    "import numpy as np\n",
    "import json\n",
    "import matplotlib.pyplot as plt\n",
    "\n",
    "pd.set_option('display.max_colwidth', None)"
   ]
  },
  {
   "cell_type": "code",
   "execution_count": 2,
   "metadata": {},
   "outputs": [],
   "source": [
    "data_path = '/home/sile2804/data-ceph/arguana/arg-generation/argument-undermining/'"
   ]
  },
  {
   "cell_type": "code",
   "execution_count": 4,
   "metadata": {},
   "outputs": [],
   "source": [
    "jo_df =  pd.read_pickle(data_path + \"jo_data/gen_data.pickle\")\n",
    "\n",
    "training_df = jo_df[jo_df.split =='train']\n",
    "valid_df = jo_df[jo_df.split =='val']"
   ]
  },
  {
   "cell_type": "code",
   "execution_count": 4,
   "metadata": {
    "scrolled": true,
    "tags": []
   },
   "outputs": [
    {
     "data": {
      "text/html": [
       "<div>\n",
       "<style scoped>\n",
       "    .dataframe tbody tr th:only-of-type {\n",
       "        vertical-align: middle;\n",
       "    }\n",
       "\n",
       "    .dataframe tbody tr th {\n",
       "        vertical-align: top;\n",
       "    }\n",
       "\n",
       "    .dataframe thead th {\n",
       "        text-align: right;\n",
       "    }\n",
       "</style>\n",
       "<table border=\"1\" class=\"dataframe\">\n",
       "  <thead>\n",
       "    <tr style=\"text-align: right;\">\n",
       "      <th></th>\n",
       "      <th>post_id</th>\n",
       "      <th>split</th>\n",
       "      <th>comment_id</th>\n",
       "      <th>title</th>\n",
       "      <th>post</th>\n",
       "      <th>comment</th>\n",
       "      <th>n_sentences</th>\n",
       "      <th>direct_sents</th>\n",
       "      <th>all_4_sents</th>\n",
       "      <th>comment_sents</th>\n",
       "      <th>premise_counter_premise_pairs</th>\n",
       "      <th>num_attacks</th>\n",
       "    </tr>\n",
       "  </thead>\n",
       "  <tbody>\n",
       "    <tr>\n",
       "      <th>0</th>\n",
       "      <td>t3_1u4mmo</td>\n",
       "      <td>train</td>\n",
       "      <td>t1_ceei4mi</td>\n",
       "      <td>I believe that churches and other religious institutions should have to pay taxes.</td>\n",
       "      <td>[i believe that a church is like any other profit making business and therefore most pay similar taxes., i am not a religious person myself so i do not know the complete logistics of the revenue and spending of a church but i do understand they can yield a good amount of cash., not entirely sure how accurate this article is, but it states that we could gain an additional 71 billion dollars per year and in a time where we as a country are in trillions of dollars of debt taxing a church seems reasonable to me., cmv]</td>\n",
       "      <td>&amp;gt;I believe that a church is like any other profit making business and therefore most pay similar taxes. I am not a religious person myself so I do not know the complete logistics of the revenue and spending of a church but I do understand they can yield a good amount of cash. \\n\\nChurches, like all other non-profits, must make money to continue to exist.  The difference between a non-profit and a for-profit is that all profits in a non-profit go to expand the core mission whereas profits in a for-profit can be distributed to the owners.  Do you want to eliminate deductions for all nonprofits, or only for religious ones?</td>\n",
       "      <td>4</td>\n",
       "      <td>[0, 1]</td>\n",
       "      <td>[]</td>\n",
       "      <td>[i believe that a church is like any other profit making business and therefore most pay similar taxes., i am not a religious person myself so i do not know the complete logistics of the revenue and spending of a church but i do understand they can yield a good amount of cash., churches, like all other non profits, must make money to continue to exist., the difference between a non profit and a for profit is that all profits in a non profit go to expand the core mission whereas profits in a for profit can be distributed to the owners., do you want to eliminate deductions for all nonprofits, or only for religious ones?]</td>\n",
       "      <td>[[[i believe that a church is like any other profit making business and therefore most pay similar taxes., i am not a religious person myself so i do not know the complete logistics of the revenue and spending of a church but i do understand they can yield a good amount of cash.], churches, like all other non profits, must make money to continue to exist. the difference between a non profit and a for profit is that all profits in a non profit go to expand the core mission whereas profits in a for profit can be distributed to the owners. do you want to eliminate deductions for all nonprofits, or only for religious ones?]]</td>\n",
       "      <td>1</td>\n",
       "    </tr>\n",
       "    <tr>\n",
       "      <th>1</th>\n",
       "      <td>t3_1u4mmo</td>\n",
       "      <td>train</td>\n",
       "      <td>t1_ceemale</td>\n",
       "      <td>I believe that churches and other religious institutions should have to pay taxes.</td>\n",
       "      <td>[i believe that a church is like any other profit making business and therefore most pay similar taxes., i am not a religious person myself so i do not know the complete logistics of the revenue and spending of a church but i do understand they can yield a good amount of cash., not entirely sure how accurate this article is, but it states that we could gain an additional 71 billion dollars per year and in a time where we as a country are in trillions of dollars of debt taxing a church seems reasonable to me., cmv]</td>\n",
       "      <td>&amp;gt; I believe that a church is like any other profit making business and therefore most pay similar taxes.\\n\\nTo the contrary, churches are not businesses and aren't for profit. The simplest answer is that they aren't taxed because not-for-profit organizations get tax exemptions. A church could randomly decide one day that it was no longer interested in religion and only wants to be a not-for-profit charity and their tax situation would be the same.\\n\\nOf course, with the benefits of tax exempt status comes regulation -- for example, they are not supposed to be involved in political campaigning.</td>\n",
       "      <td>4</td>\n",
       "      <td>[0]</td>\n",
       "      <td>[]</td>\n",
       "      <td>[i believe that a church is like any other profit making business and therefore most pay similar taxes., to the contrary, churches are not businesses and aren't for profit., the simplest answer is that they aren't taxed because not for profit organizations get tax exemptions., a church could randomly decide one day that it was no longer interested in religion and only wants to be a not for profit charity and their tax situation would be the same., of course, with the benefits of tax exempt status comes regulation for example, they are not supposed to be involved in political campaigning.]</td>\n",
       "      <td>[[[i believe that a church is like any other profit making business and therefore most pay similar taxes.], to the contrary, churches are not businesses and aren't for profit. the simplest answer is that they aren't taxed because not for profit organizations get tax exemptions. a church could randomly decide one day that it was no longer interested in religion and only wants to be a not for profit charity and their tax situation would be the same. of course, with the benefits of tax exempt status comes regulation for example, they are not supposed to be involved in political campaigning.]]</td>\n",
       "      <td>1</td>\n",
       "    </tr>\n",
       "    <tr>\n",
       "      <th>2</th>\n",
       "      <td>t3_1u4mmo</td>\n",
       "      <td>train</td>\n",
       "      <td>t1_ceeuch1</td>\n",
       "      <td>I believe that churches and other religious institutions should have to pay taxes.</td>\n",
       "      <td>[i believe that a church is like any other profit making business and therefore most pay similar taxes., i am not a religious person myself so i do not know the complete logistics of the revenue and spending of a church but i do understand they can yield a good amount of cash., not entirely sure how accurate this article is, but it states that we could gain an additional 71 billion dollars per year and in a time where we as a country are in trillions of dollars of debt taxing a church seems reasonable to me., cmv]</td>\n",
       "      <td>&amp;gt; I believe that a church is like any other profit making business and therefore most pay similar taxes.\\n\\nWhy do you believe that profit-making businesses should have to pay taxes?</td>\n",
       "      <td>4</td>\n",
       "      <td>[0]</td>\n",
       "      <td>[]</td>\n",
       "      <td>[i believe that a church is like any other profit making business and therefore most pay similar taxes., why do you believe that profit making businesses should have to pay taxes?]</td>\n",
       "      <td>[[[i believe that a church is like any other profit making business and therefore most pay similar taxes.], why do you believe that profit making businesses should have to pay taxes?]]</td>\n",
       "      <td>1</td>\n",
       "    </tr>\n",
       "    <tr>\n",
       "      <th>3</th>\n",
       "      <td>t3_1u4mo5</td>\n",
       "      <td>train</td>\n",
       "      <td>t1_ceegjxv</td>\n",
       "      <td>I don't believe it is acceptable to attack the person that your SO cheated on you with.</td>\n",
       "      <td>[so it seems to be common that, when caught cheating, violence is directed toward the person the significant other so cheated with., i don't understand why., you were in a relationship with your so., you had no agreement with the other party., if you are going to beat the shit out of anyone, it should be your so., s he is the one that cheated on you., the other party, provided they aren't a friend or acquaintance doesn't owe you anything., why should beating the ever loving shit out of your so's cheat mate be acceptable?]</td>\n",
       "      <td>&amp;gt;So it seems to be common that, when caught cheating, violence is directed toward the person the significant other (SO) cheated with.\\n\\nIt is not common, and the vast majority of people do not see it as \"acceptable\". They aren't always surprised when it happens, but that doesn't mean they approve of it. \\n\\nIf it seems common, that probably has more to do with how often you hear about it than with how often it occurs. It's not the rarest thing in the world, but it's certainly not something most people do.</td>\n",
       "      <td>8</td>\n",
       "      <td>[0]</td>\n",
       "      <td>[]</td>\n",
       "      <td>[so it seems to be common that, when caught cheating, violence is directed toward the person the significant other so cheated with., it is not common, and the vast majority of people do not see it as 'acceptable'., they aren't always surprised when it happens, but that doesn't mean they approve of it., if it seems common, that probably has more to do with how often you hear about it than with how often it occurs., it's not the rarest thing in the world, but it's certainly not something most people do.]</td>\n",
       "      <td>[[[so it seems to be common that, when caught cheating, violence is directed toward the person the significant other so cheated with.], it is not common, and the vast majority of people do not see it as 'acceptable'. they aren't always surprised when it happens, but that doesn't mean they approve of it. if it seems common, that probably has more to do with how often you hear about it than with how often it occurs. it's not the rarest thing in the world, but it's certainly not something most people do.]]</td>\n",
       "      <td>1</td>\n",
       "    </tr>\n",
       "    <tr>\n",
       "      <th>4</th>\n",
       "      <td>t3_1u4mo5</td>\n",
       "      <td>train</td>\n",
       "      <td>t1_ceeqk73</td>\n",
       "      <td>I don't believe it is acceptable to attack the person that your SO cheated on you with.</td>\n",
       "      <td>[so it seems to be common that, when caught cheating, violence is directed toward the person the significant other so cheated with., i don't understand why., you were in a relationship with your so., you had no agreement with the other party., if you are going to beat the shit out of anyone, it should be your so., s he is the one that cheated on you., the other party, provided they aren't a friend or acquaintance doesn't owe you anything., why should beating the ever loving shit out of your so's cheat mate be acceptable?]</td>\n",
       "      <td>&amp;gt; You were in a relationship with your SO. You had no agreement with the other party.\\n\\nExactly. You have no relationship to this other person. Why wouldn't you take out your anger on them? Your mate you might actually want to sort things out with once you calm down, but they person they cheated on you with? Why the fuck would you give a shit about their feelings/well being?\\n\\nWell, I mean, that's an -explanation- for it. I don't know why you're asking us to -justify- violence, though?</td>\n",
       "      <td>8</td>\n",
       "      <td>[2, 3]</td>\n",
       "      <td>[]</td>\n",
       "      <td>[you were in a relationship with your so., you had no agreement with the other party., exactly., you have no relationship to this other person., why wouldn't you take out your anger on them?, your mate you might actually want to sort things out with once you calm down, but they person they cheated on you with?, why the fuck would you give a shit about their feelings well being?, well, i mean, that's an explanation for it., i don't know why you're asking us to justify violence, though?]</td>\n",
       "      <td>[[[you were in a relationship with your so., you had no agreement with the other party.], exactly. you have no relationship to this other person. why wouldn't you take out your anger on them? your mate you might actually want to sort things out with once you calm down, but they person they cheated on you with? why the fuck would you give a shit about their feelings well being?]]</td>\n",
       "      <td>1</td>\n",
       "    </tr>\n",
       "  </tbody>\n",
       "</table>\n",
       "</div>"
      ],
      "text/plain": [
       "     post_id  split  comment_id  \\\n",
       "0  t3_1u4mmo  train  t1_ceei4mi   \n",
       "1  t3_1u4mmo  train  t1_ceemale   \n",
       "2  t3_1u4mmo  train  t1_ceeuch1   \n",
       "3  t3_1u4mo5  train  t1_ceegjxv   \n",
       "4  t3_1u4mo5  train  t1_ceeqk73   \n",
       "\n",
       "                                                                                      title  \\\n",
       "0       I believe that churches and other religious institutions should have to pay taxes.    \n",
       "1       I believe that churches and other religious institutions should have to pay taxes.    \n",
       "2       I believe that churches and other religious institutions should have to pay taxes.    \n",
       "3  I don't believe it is acceptable to attack the person that your SO cheated on you with.    \n",
       "4  I don't believe it is acceptable to attack the person that your SO cheated on you with.    \n",
       "\n",
       "                                                                                                                                                                                                                                                                                                                                                                                                                                                                                                                                              post  \\\n",
       "0          [i believe that a church is like any other profit making business and therefore most pay similar taxes., i am not a religious person myself so i do not know the complete logistics of the revenue and spending of a church but i do understand they can yield a good amount of cash., not entirely sure how accurate this article is, but it states that we could gain an additional 71 billion dollars per year and in a time where we as a country are in trillions of dollars of debt taxing a church seems reasonable to me., cmv]   \n",
       "1          [i believe that a church is like any other profit making business and therefore most pay similar taxes., i am not a religious person myself so i do not know the complete logistics of the revenue and spending of a church but i do understand they can yield a good amount of cash., not entirely sure how accurate this article is, but it states that we could gain an additional 71 billion dollars per year and in a time where we as a country are in trillions of dollars of debt taxing a church seems reasonable to me., cmv]   \n",
       "2          [i believe that a church is like any other profit making business and therefore most pay similar taxes., i am not a religious person myself so i do not know the complete logistics of the revenue and spending of a church but i do understand they can yield a good amount of cash., not entirely sure how accurate this article is, but it states that we could gain an additional 71 billion dollars per year and in a time where we as a country are in trillions of dollars of debt taxing a church seems reasonable to me., cmv]   \n",
       "3  [so it seems to be common that, when caught cheating, violence is directed toward the person the significant other so cheated with., i don't understand why., you were in a relationship with your so., you had no agreement with the other party., if you are going to beat the shit out of anyone, it should be your so., s he is the one that cheated on you., the other party, provided they aren't a friend or acquaintance doesn't owe you anything., why should beating the ever loving shit out of your so's cheat mate be acceptable?]   \n",
       "4  [so it seems to be common that, when caught cheating, violence is directed toward the person the significant other so cheated with., i don't understand why., you were in a relationship with your so., you had no agreement with the other party., if you are going to beat the shit out of anyone, it should be your so., s he is the one that cheated on you., the other party, provided they aren't a friend or acquaintance doesn't owe you anything., why should beating the ever loving shit out of your so's cheat mate be acceptable?]   \n",
       "\n",
       "                                                                                                                                                                                                                                                                                                                                                                                                                                                                                                                                                                                                                                                  comment  \\\n",
       "0  &gt;I believe that a church is like any other profit making business and therefore most pay similar taxes. I am not a religious person myself so I do not know the complete logistics of the revenue and spending of a church but I do understand they can yield a good amount of cash. \\n\\nChurches, like all other non-profits, must make money to continue to exist.  The difference between a non-profit and a for-profit is that all profits in a non-profit go to expand the core mission whereas profits in a for-profit can be distributed to the owners.  Do you want to eliminate deductions for all nonprofits, or only for religious ones?   \n",
       "1                             &gt; I believe that a church is like any other profit making business and therefore most pay similar taxes.\\n\\nTo the contrary, churches are not businesses and aren't for profit. The simplest answer is that they aren't taxed because not-for-profit organizations get tax exemptions. A church could randomly decide one day that it was no longer interested in religion and only wants to be a not-for-profit charity and their tax situation would be the same.\\n\\nOf course, with the benefits of tax exempt status comes regulation -- for example, they are not supposed to be involved in political campaigning.   \n",
       "2                                                                                                                                                                                                                                                                                                                                                                                                                                                               &gt; I believe that a church is like any other profit making business and therefore most pay similar taxes.\\n\\nWhy do you believe that profit-making businesses should have to pay taxes?   \n",
       "3                                                                                                                     &gt;So it seems to be common that, when caught cheating, violence is directed toward the person the significant other (SO) cheated with.\\n\\nIt is not common, and the vast majority of people do not see it as \"acceptable\". They aren't always surprised when it happens, but that doesn't mean they approve of it. \\n\\nIf it seems common, that probably has more to do with how often you hear about it than with how often it occurs. It's not the rarest thing in the world, but it's certainly not something most people do.    \n",
       "4                                                                                                                                         &gt; You were in a relationship with your SO. You had no agreement with the other party.\\n\\nExactly. You have no relationship to this other person. Why wouldn't you take out your anger on them? Your mate you might actually want to sort things out with once you calm down, but they person they cheated on you with? Why the fuck would you give a shit about their feelings/well being?\\n\\nWell, I mean, that's an -explanation- for it. I don't know why you're asking us to -justify- violence, though?   \n",
       "\n",
       "   n_sentences direct_sents all_4_sents  \\\n",
       "0            4       [0, 1]          []   \n",
       "1            4          [0]          []   \n",
       "2            4          [0]          []   \n",
       "3            8          [0]          []   \n",
       "4            8       [2, 3]          []   \n",
       "\n",
       "                                                                                                                                                                                                                                                                                                                                                                                                                                                                                                                                                                                                                                        comment_sents  \\\n",
       "0  [i believe that a church is like any other profit making business and therefore most pay similar taxes., i am not a religious person myself so i do not know the complete logistics of the revenue and spending of a church but i do understand they can yield a good amount of cash., churches, like all other non profits, must make money to continue to exist., the difference between a non profit and a for profit is that all profits in a non profit go to expand the core mission whereas profits in a for profit can be distributed to the owners., do you want to eliminate deductions for all nonprofits, or only for religious ones?]   \n",
       "1                                 [i believe that a church is like any other profit making business and therefore most pay similar taxes., to the contrary, churches are not businesses and aren't for profit., the simplest answer is that they aren't taxed because not for profit organizations get tax exemptions., a church could randomly decide one day that it was no longer interested in religion and only wants to be a not for profit charity and their tax situation would be the same., of course, with the benefits of tax exempt status comes regulation for example, they are not supposed to be involved in political campaigning.]   \n",
       "2                                                                                                                                                                                                                                                                                                                                                                                                                                                                [i believe that a church is like any other profit making business and therefore most pay similar taxes., why do you believe that profit making businesses should have to pay taxes?]   \n",
       "3                                                                                                                         [so it seems to be common that, when caught cheating, violence is directed toward the person the significant other so cheated with., it is not common, and the vast majority of people do not see it as 'acceptable'., they aren't always surprised when it happens, but that doesn't mean they approve of it., if it seems common, that probably has more to do with how often you hear about it than with how often it occurs., it's not the rarest thing in the world, but it's certainly not something most people do.]   \n",
       "4                                                                                                                                          [you were in a relationship with your so., you had no agreement with the other party., exactly., you have no relationship to this other person., why wouldn't you take out your anger on them?, your mate you might actually want to sort things out with once you calm down, but they person they cheated on you with?, why the fuck would you give a shit about their feelings well being?, well, i mean, that's an explanation for it., i don't know why you're asking us to justify violence, though?]   \n",
       "\n",
       "                                                                                                                                                                                                                                                                                                                                                                                                                                                                                                                                                                                                                          premise_counter_premise_pairs  \\\n",
       "0  [[[i believe that a church is like any other profit making business and therefore most pay similar taxes., i am not a religious person myself so i do not know the complete logistics of the revenue and spending of a church but i do understand they can yield a good amount of cash.], churches, like all other non profits, must make money to continue to exist. the difference between a non profit and a for profit is that all profits in a non profit go to expand the core mission whereas profits in a for profit can be distributed to the owners. do you want to eliminate deductions for all nonprofits, or only for religious ones?]]   \n",
       "1                                  [[[i believe that a church is like any other profit making business and therefore most pay similar taxes.], to the contrary, churches are not businesses and aren't for profit. the simplest answer is that they aren't taxed because not for profit organizations get tax exemptions. a church could randomly decide one day that it was no longer interested in religion and only wants to be a not for profit charity and their tax situation would be the same. of course, with the benefits of tax exempt status comes regulation for example, they are not supposed to be involved in political campaigning.]]   \n",
       "2                                                                                                                                                                                                                                                                                                                                                                                                                                                              [[[i believe that a church is like any other profit making business and therefore most pay similar taxes.], why do you believe that profit making businesses should have to pay taxes?]]   \n",
       "3                                                                                                                          [[[so it seems to be common that, when caught cheating, violence is directed toward the person the significant other so cheated with.], it is not common, and the vast majority of people do not see it as 'acceptable'. they aren't always surprised when it happens, but that doesn't mean they approve of it. if it seems common, that probably has more to do with how often you hear about it than with how often it occurs. it's not the rarest thing in the world, but it's certainly not something most people do.]]   \n",
       "4                                                                                                                                                                                                                                                         [[[you were in a relationship with your so., you had no agreement with the other party.], exactly. you have no relationship to this other person. why wouldn't you take out your anger on them? your mate you might actually want to sort things out with once you calm down, but they person they cheated on you with? why the fuck would you give a shit about their feelings well being?]]   \n",
       "\n",
       "   num_attacks  \n",
       "0            1  \n",
       "1            1  \n",
       "2            1  \n",
       "3            1  \n",
       "4            1  "
      ]
     },
     "execution_count": 4,
     "metadata": {},
     "output_type": "execute_result"
    }
   ],
   "source": [
    "training_df.head()"
   ]
  },
  {
   "cell_type": "code",
   "execution_count": 3,
   "metadata": {},
   "outputs": [],
   "source": [
    "def convert_df(df, path, sample=None):\n",
    "    examples = []\n",
    "    if sample is not None:\n",
    "        df = df.sample(sample)\n",
    "    \n",
    "    for idx, post in df.iterrows():\n",
    "        for attack in post['premise_counter_premise_pairs']:\n",
    "            examples.append(\n",
    "                {\n",
    "                    'conclusion': post['title'],\n",
    "                    'premises': post['post'],\n",
    "                    'weak_premises': attack[0],\n",
    "                    'counter' : attack[1],\n",
    "                }\n",
    "            )\n",
    "    \n",
    "    print('Number of examples: {}'.format(len(examples)))\n",
    "    new_df = pd.DataFrame(examples)\n",
    "    return new_df\n",
    "    #json.dump(examples, open(path, 'w'))"
   ]
  },
  {
   "cell_type": "code",
   "execution_count": 6,
   "metadata": {},
   "outputs": [
    {
     "name": "stdout",
     "output_type": "stream",
     "text": [
      "Number of examples: 90426\n"
     ]
    }
   ],
   "source": [
    "new_training_df = convert_df(training_df, '../data/train.json')"
   ]
  },
  {
   "cell_type": "code",
   "execution_count": 7,
   "metadata": {},
   "outputs": [
    {
     "name": "stdout",
     "output_type": "stream",
     "text": [
      "Number of examples: 29940\n"
     ]
    }
   ],
   "source": [
    "new_valid_df = convert_df(valid_df, '../data/valid.json')"
   ]
  },
  {
   "cell_type": "code",
   "execution_count": 12,
   "metadata": {},
   "outputs": [],
   "source": [
    "new_training_df.to_pickle('../data/train.pkl')\n",
    "new_valid_df.to_pickle('../data/valid.pkl')"
   ]
  },
  {
   "cell_type": "code",
   "execution_count": 10,
   "metadata": {},
   "outputs": [],
   "source": [
    "new_training_df.to_csv('../data/train.csv', index=False)\n",
    "new_valid_df.to_csv('../data/valid.csv', index=False)"
   ]
  },
  {
   "cell_type": "markdown",
   "metadata": {},
   "source": [
    "### Prepare data for conclusion comprehension for CA generation task:"
   ]
  },
  {
   "cell_type": "code",
   "execution_count": 3,
   "metadata": {
    "scrolled": true,
    "tags": []
   },
   "outputs": [],
   "source": [
    "from fuzzywuzzy import fuzz\n",
    "from fuzzywuzzy import process\n",
    "\n",
    "import nltk\n",
    "from nltk.corpus import stopwords\n",
    "en_stopwords = stopwords.words('english')\n",
    "\n",
    "#from sentence_transformers import SentenceTransformer, util\n",
    "#import torch\n",
    "#model = SentenceTransformer('all-MiniLM-L6-v2')"
   ]
  },
  {
   "cell_type": "code",
   "execution_count": 15,
   "metadata": {},
   "outputs": [],
   "source": [
    "def content_token_overlap(text1, text2):\n",
    "    tokens1 = set([x for x in nltk.word_tokenize(text1.lower()) if x not in en_stopwords])\n",
    "    tokens2 = set([x for x in nltk.word_tokenize(text2.lower()) if x not in en_stopwords])\n",
    "    \n",
    "    return round(len(tokens1.intersection(tokens2))/len(tokens1.union(tokens2)), 5)"
   ]
  },
  {
   "cell_type": "code",
   "execution_count": 8,
   "metadata": {},
   "outputs": [],
   "source": [
    "df = pd.read_pickle(data_path + \"jo_data/argument_rebuttals.pkl\")"
   ]
  },
  {
   "cell_type": "markdown",
   "metadata": {},
   "source": [
    "#### Test on a sample:"
   ]
  },
  {
   "cell_type": "code",
   "execution_count": null,
   "metadata": {},
   "outputs": [],
   "source": [
    "sample_df = df.sample(1000)"
   ]
  },
  {
   "cell_type": "code",
   "execution_count": 11,
   "metadata": {},
   "outputs": [],
   "source": [
    "#sample_df['conclusions_in_argument'] = sample_df.apply(lambda x: process.extract(x['title'], x['post'], scorer=fuzz.token_set_ratio, limit=500), axis=1)\n",
    "sample_df['conclusions_in_argument'] = sample_df.apply(lambda x: [(sent, content_token_overlap(x['title'], sent)) for sent in x['post']], axis=1)"
   ]
  },
  {
   "cell_type": "code",
   "execution_count": 47,
   "metadata": {},
   "outputs": [],
   "source": [
    "#Compute semantic similarity\n",
    "sample_df['conclusion_embeddings'] = model.encode(sample_df['title'].tolist()).tolist()\n",
    "sample_df['premises_embeddings'] = sample_df['post'].apply(lambda x: model.encode(x))\n",
    "sample_df['conclusions_in_argument'] = sample_df.apply(lambda x: util.pytorch_cos_sim(torch.tensor(x['conclusion_embeddings']), \n",
    "                                                                                      torch.tensor(x['premises_embeddings'])\n",
    "                                                                ).tolist()[0], axis=1)\n",
    "sample_df['conclusions_in_argument'] = sample_df.apply(lambda x: list(zip(x['post'], x['conclusions_in_argument'])), axis=1)"
   ]
  },
  {
   "cell_type": "code",
   "execution_count": 54,
   "metadata": {
    "scrolled": true,
    "tags": []
   },
   "outputs": [
    {
     "data": {
      "text/html": [
       "<div>\n",
       "<style scoped>\n",
       "    .dataframe tbody tr th:only-of-type {\n",
       "        vertical-align: middle;\n",
       "    }\n",
       "\n",
       "    .dataframe tbody tr th {\n",
       "        vertical-align: top;\n",
       "    }\n",
       "\n",
       "    .dataframe thead th {\n",
       "        text-align: right;\n",
       "    }\n",
       "</style>\n",
       "<table border=\"1\" class=\"dataframe\">\n",
       "  <thead>\n",
       "    <tr style=\"text-align: right;\">\n",
       "      <th></th>\n",
       "      <th>title</th>\n",
       "      <th>post</th>\n",
       "      <th>conclusions_in_argument</th>\n",
       "    </tr>\n",
       "  </thead>\n",
       "  <tbody>\n",
       "    <tr>\n",
       "      <th>290103</th>\n",
       "      <td>Shaming women for sleeping with many is no better than shaming men for sleeping with few</td>\n",
       "      <td>[i see this a lot, where women say it's unfair to get shamed for sleeping around, but when men do they're praised for it, called a 'player', 'stud', etc., but nobody talks about how men get shamed for still being a virgin or 'not getting some', while women get praised for it., at the end of the day, aren't people getting shamed both ways for being themselves?, 'patriarchy' won't change my mind, as both are parties that are getting hurt., whether or not a guy being shamed is of the same gender that created the rules in the first place makes no difference to me, and i fail to see why it should., in my opinion, that's like saying people in the middle east shouldn't complain because their dictator shares the same nationality., the 'accusers' are both men and women as well, for either shaming., since both demographics are guilty of this, why should there be a difference?, going away for a bit, i'll probably read responses, though i can't promise to reply., thanks to everyone who took the effort to give me perspective!]</td>\n",
       "      <td>[(i see this a lot, where women say it's unfair to get shamed for sleeping around, but when men do they're praised for it, called a 'player', 'stud', etc., 0.5033611059188843), (but nobody talks about how men get shamed for still being a virgin or 'not getting some', while women get praised for it., 0.45310935378074646), (at the end of the day, aren't people getting shamed both ways for being themselves?, 0.32762911915779114), ('patriarchy' won't change my mind, as both are parties that are getting hurt., 0.33749765157699585), (whether or not a guy being shamed is of the same gender that created the rules in the first place makes no difference to me, and i fail to see why it should., 0.4704388380050659), (in my opinion, that's like saying people in the middle east shouldn't complain because their dictator shares the same nationality., 0.2672026753425598), (the 'accusers' are both men and women as well, for either shaming., 0.552834689617157), (since both demographics are guilty of this, why should there be a difference?, 0.336520254611969), (going away for a bit, i'll probably read responses, though i can't promise to reply., 0.10098472982645035), (thanks to everyone who took the effort to give me perspective!, 0.1411144733428955)]</td>\n",
       "    </tr>\n",
       "    <tr>\n",
       "      <th>262589</th>\n",
       "      <td>If you know your friend's significant other is cheating on her, you should not tell her.</td>\n",
       "      <td>[scenario: you have a close female friend., you find information that 100 demonstrates her significant other boyfriend, husband, girlfriend, wife is cheating on her., you should not tell her anything point blank., i once had a close friend whose boyfriend kept hitting on me for months., i finally told her., she didn't thank me., she said i was making it up because i wanted him for myself., she stopped speaking to me., a second time me and my friend karlie found out our friend's june's boyfriend was cheating and asking girls to come to his house to fuck him., we told june., june didn't believe us., we stayed friends but things got weird., third time broke the camel's back for me., i caught my best friend's boyfriend holding hands with another girl., i told her., he actually didn't deny it., they broke up., then she took him back., he was awkward around me afterwards., i know my experience may be anecdotal but 'shooting the messenger' is 100 real., people don't want to accept things that are painful., sometimes the truth is too painful to accept., instead of accepting it, they would rather shoot the messenger and hope that he she is lying rather than accept the truth., your friend is not going to want to believe her husband boyfriend is cheating., she's going to shoot you as the messenger., telling her risks damaging your friendship., 1 she's either not going to believe you., and or she'll turn it on you, shoot you as the messenger and that will affect your friendship., 2 if you have 100 proof that he's cheating, don't think your problems won't be so great., she still might shoot the messenger., she has to be angry at someone., she's not going to want to be angry with him, so she's going to lash her anger on you., or imagine if she sees the proof, but forgives him, or takes him back., every time she sees you it will remind her of his infidelity, and it will put you and your friendship in a compromising position., imagine how uncomfortable it will be for him to be around you knowing you ratted him out the first time., he might just get her to turn against you or make her distance herself from you., i think for the sake of preserving your friendship, you should pretend you don't know anything.]</td>\n",
       "      <td>[(scenario: you have a close female friend., 0.4608636498451233), (you find information that 100 demonstrates her significant other boyfriend, husband, girlfriend, wife is cheating on her., 0.44560033082962036), (you should not tell her anything point blank., 0.47355973720550537), (i once had a close friend whose boyfriend kept hitting on me for months., 0.2932227849960327), (i finally told her., 0.3399260938167572), (she didn't thank me., 0.14144739508628845), (she said i was making it up because i wanted him for myself., 0.24966466426849365), (she stopped speaking to me., 0.1269458383321762), (a second time me and my friend karlie found out our friend's june's boyfriend was cheating and asking girls to come to his house to fuck him., 0.4063212275505066), (we told june., 0.10412606596946716), (june didn't believe us., 0.013479788787662983), (we stayed friends but things got weird., 0.16105791926383972), (third time broke the camel's back for me., 0.01407548412680626), (i caught my best friend's boyfriend holding hands with another girl., 0.4584948718547821), (i told her., 0.35941949486732483), (he actually didn't deny it., 0.17056645452976227), (they broke up., 0.10108734667301178), (then she took him back., 0.18650037050247192), (he was awkward around me afterwards., 0.06080975756049156), (i know my experience may be anecdotal but 'shooting the messenger' is 100 real., 0.08207506686449051), (people don't want to accept things that are painful., -0.019714226946234703), (sometimes the truth is too painful to accept., 0.06558113545179367), (instead of accepting it, they would rather shoot the messenger and hope that he she is lying rather than accept the truth., 0.298552930355072), (your friend is not going to want to believe her husband boyfriend is cheating., 0.675557017326355), (she's going to shoot you as the messenger., 0.2137022614479065), (telling her risks damaging your friendship., 0.5580143928527832), (1 she's either not going to believe you., 0.2631455063819885), (and or she'll turn it on you, shoot you as the messenger and that will affect your friendship., 0.406234472990036), (2 if you have 100 proof that he's cheating, don't think your problems won't be so great., 0.35977545380592346), (she still might shoot the messenger., 0.2530425488948822), (she has to be angry at someone., 0.26239821314811707), (she's not going to want to be angry with him, so she's going to lash her anger on you., 0.3427543044090271), (or imagine if she sees the proof, but forgives him, or takes him back., 0.34219783544540405), (every time she sees you it will remind her of his infidelity, and it will put you and your friendship in a compromising position., 0.5617641806602478), (imagine how uncomfortable it will be for him to be around you knowing you ratted him out the first time., 0.2165759801864624), (he might just get her to turn against you or make her distance herself from you., 0.2786720395088196), (i think for the sake of preserving your friendship, you should pretend you don't know anything., 0.35419991612434387)]</td>\n",
       "    </tr>\n",
       "    <tr>\n",
       "      <th>53431</th>\n",
       "      <td>I think Niccolo Machiavelli has an undeservedly poor reputation.</td>\n",
       "      <td>[it seems to me that niccolo machiavelli has an undeservedly poor legacy., the term machiavellian comes to mind we only ever use it to refer to political realists who do bad things., for example, the fictional character francis underwood from house of cards is frequently called the picture of a machiavellian character., while i would say that this is true, i think that it leads to an undue association between machaivelli and being bad ., i've read the prince and i'm partway through discourses on livy and neither of them ever outright endorses doing evil things., if nothing else, it seems to me like machiavelli only ever advocated doing morally questionable things if it would end up being either for the greater good or the preservation of the state with the preservation of the state being inherently neither good nor bad ., what is perhaps worse in my view is that machiavelli seems to only be popularly known for the prince , a rather short work at least compared to discourses that, it's my understanding, was written with the goal of getting into the good graces of the medici family and for little other reason., now, i'm not one of those who will argue that it's a satire i think an honest reading of the prince itself shows that it is clearly serious but i would argue that the prince is not the most accurate picture of machiavelli's view of politics., history and discourses as well as one of the first chapters in the prince show us that machiavelli was much more in favor of a republic of the people rather than an autocracy., i think that's all, for now., i feel like i'm missing something or maybe formatted what i did write rather poorly, but i can't exactly figure how i would want to fix it right now, either.]</td>\n",
       "      <td>[(it seems to me that niccolo machiavelli has an undeservedly poor legacy., 0.8205562829971313), (the term machiavellian comes to mind we only ever use it to refer to political realists who do bad things., 0.522111177444458), (for example, the fictional character francis underwood from house of cards is frequently called the picture of a machiavellian character., 0.40450960397720337), (while i would say that this is true, i think that it leads to an undue association between machaivelli and being bad ., 0.6246120929718018), (i've read the prince and i'm partway through discourses on livy and neither of them ever outright endorses doing evil things., 0.40886950492858887), (if nothing else, it seems to me like machiavelli only ever advocated doing morally questionable things if it would end up being either for the greater good or the preservation of the state with the preservation of the state being inherently neither good nor bad ., 0.5931152701377869), (what is perhaps worse in my view is that machiavelli seems to only be popularly known for the prince , a rather short work at least compared to discourses that, it's my understanding, was written with the goal of getting into the good graces of the medici family and for little other reason., 0.6545915603637695), (now, i'm not one of those who will argue that it's a satire i think an honest reading of the prince itself shows that it is clearly serious but i would argue that the prince is not the most accurate picture of machiavelli's view of politics., 0.5333380699157715), (history and discourses as well as one of the first chapters in the prince show us that machiavelli was much more in favor of a republic of the people rather than an autocracy., 0.49781712889671326), (i think that's all, for now., 0.1129864752292633), (i feel like i'm missing something or maybe formatted what i did write rather poorly, but i can't exactly figure how i would want to fix it right now, either., 0.06864472478628159)]</td>\n",
       "    </tr>\n",
       "    <tr>\n",
       "      <th>387208</th>\n",
       "      <td>Dual loyalty to two countries is impossible</td>\n",
       "      <td>[i believe it is inherently impossible to claim that you are loyal to two counties sovereign states., my view basically boils down to one question., if, at some point, both countries were at war and asking you to fight for them, who would you choose?, you can't say neither, and your answer is who you're loyal to., this works purely as a theoretical question., doesn't matter if the situation will likely never arise, the answer shows which countries interests you care about more., even the closest allies have times where they disagree on matters, and sometimes those matters are purely because both countries only stand to benefit from opposite resolutions., not necessarily right or wrong, just who do i want coming out on top., so my view is that because countries always have their own self interests at heart, they will eventually have conflicts even with their allies again, no right or wrong, just who comes out on top , and having to choose a side in the conflict is your loyalty., the fact that these countries may not currently have conflict has absolutely not bearing on this.]</td>\n",
       "      <td>[(i believe it is inherently impossible to claim that you are loyal to two counties sovereign states., 0.5237057209014893), (my view basically boils down to one question., 0.10486392676830292), (if, at some point, both countries were at war and asking you to fight for them, who would you choose?, 0.33221620321273804), (you can't say neither, and your answer is who you're loyal to., 0.2211238145828247), (this works purely as a theoretical question., 0.15174034237861633), (doesn't matter if the situation will likely never arise, the answer shows which countries interests you care about more., 0.38977453112602234), (even the closest allies have times where they disagree on matters, and sometimes those matters are purely because both countries only stand to benefit from opposite resolutions., 0.44510453939437866), (not necessarily right or wrong, just who do i want coming out on top., 0.11762990057468414), (so my view is that because countries always have their own self interests at heart, they will eventually have conflicts even with their allies again, no right or wrong, just who comes out on top , and having to choose a side in the conflict is your loyalty., 0.5874720811843872), (the fact that these countries may not currently have conflict has absolutely not bearing on this., 0.3360975980758667)]</td>\n",
       "    </tr>\n",
       "    <tr>\n",
       "      <th>285839</th>\n",
       "      <td>I believe that sex education should be in the home from parents and not the jobs of educators at school.</td>\n",
       "      <td>[i think it shouldn t be the job of people at school to teach sex education because., 1., a lot of times they teach abstinence is the only form of safe sex and that s extremely dangerous because that s when you have the problems of teen pregnancy because we were all teens once and seriously?, you re going to tell me that i can never experiment sexually, at all., then teens go, and they aren t on b c and have never even learned about different forms of sex from anywhere besides possibly porn., now they ve got an entirely skewed view on sex., then they end in shame or don t know about consent and that s how we end up with rape culture 2., it ends up being like that scene from mean girls don t have sex because you ll get pregnant and die., here s some condoms 3., it becomes a joke because you always have the class clowns that turn it into a joke when there s actually kids that are curious but too afraid to ask., then sex isn t taken seriously., 4., you really want someone you ve met at most once or twice maybe if your lucky 4 times once per quarter teaching your kids about something that detrimental in literally everyone s life?]</td>\n",
       "      <td>[(i think it shouldn t be the job of people at school to teach sex education because., 0.8578989505767822), (1., -0.0358453169465065), (a lot of times they teach abstinence is the only form of safe sex and that s extremely dangerous because that s when you have the problems of teen pregnancy because we were all teens once and seriously?, 0.46461886167526245), (you re going to tell me that i can never experiment sexually, at all., 0.2142387181520462), (then teens go, and they aren t on b c and have never even learned about different forms of sex from anywhere besides possibly porn., 0.4366942048072815), (now they ve got an entirely skewed view on sex., 0.38941001892089844), (then they end in shame or don t know about consent and that s how we end up with rape culture 2., 0.3235386610031128), (it ends up being like that scene from mean girls don t have sex because you ll get pregnant and die., 0.2665000259876251), (here s some condoms 3., 0.15831732749938965), (it becomes a joke because you always have the class clowns that turn it into a joke when there s actually kids that are curious but too afraid to ask., 0.2873208522796631), (then sex isn t taken seriously., 0.36585360765457153), (4., -0.03017510287463665), (you really want someone you ve met at most once or twice maybe if your lucky 4 times once per quarter teaching your kids about something that detrimental in literally everyone s life?, 0.24228256940841675)]</td>\n",
       "    </tr>\n",
       "  </tbody>\n",
       "</table>\n",
       "</div>"
      ],
      "text/plain": [
       "                                                                                                            title  \\\n",
       "290103                   Shaming women for sleeping with many is no better than shaming men for sleeping with few   \n",
       "262589                   If you know your friend's significant other is cheating on her, you should not tell her.   \n",
       "53431                                            I think Niccolo Machiavelli has an undeservedly poor reputation.   \n",
       "387208                                                                Dual loyalty to two countries is impossible   \n",
       "285839   I believe that sex education should be in the home from parents and not the jobs of educators at school.   \n",
       "\n",
       "                                                                                                                                                                                                                                                                                                                                                                                                                                                                                                                                                                                                                                                                                                                                                                                                                                                                                                                                                                                                                                                                                                                                                                                                                                                                                                                                                                                                                                                                                                                                                                                                                                                                                                                                                                                                                                                                                                                                                                                                                                                                                                                                                                                                                                                                                                                         post  \\\n",
       "290103                                                                                                                                                                                                                                                                                                                                                                                                                                                                                                                                                                                                                                                                                                                                                                                                                                                                                                                                                                                                                                                                                                                                                                                                                                                  [i see this a lot, where women say it's unfair to get shamed for sleeping around, but when men do they're praised for it, called a 'player', 'stud', etc., but nobody talks about how men get shamed for still being a virgin or 'not getting some', while women get praised for it., at the end of the day, aren't people getting shamed both ways for being themselves?, 'patriarchy' won't change my mind, as both are parties that are getting hurt., whether or not a guy being shamed is of the same gender that created the rules in the first place makes no difference to me, and i fail to see why it should., in my opinion, that's like saying people in the middle east shouldn't complain because their dictator shares the same nationality., the 'accusers' are both men and women as well, for either shaming., since both demographics are guilty of this, why should there be a difference?, going away for a bit, i'll probably read responses, though i can't promise to reply., thanks to everyone who took the effort to give me perspective!]   \n",
       "262589  [scenario: you have a close female friend., you find information that 100 demonstrates her significant other boyfriend, husband, girlfriend, wife is cheating on her., you should not tell her anything point blank., i once had a close friend whose boyfriend kept hitting on me for months., i finally told her., she didn't thank me., she said i was making it up because i wanted him for myself., she stopped speaking to me., a second time me and my friend karlie found out our friend's june's boyfriend was cheating and asking girls to come to his house to fuck him., we told june., june didn't believe us., we stayed friends but things got weird., third time broke the camel's back for me., i caught my best friend's boyfriend holding hands with another girl., i told her., he actually didn't deny it., they broke up., then she took him back., he was awkward around me afterwards., i know my experience may be anecdotal but 'shooting the messenger' is 100 real., people don't want to accept things that are painful., sometimes the truth is too painful to accept., instead of accepting it, they would rather shoot the messenger and hope that he she is lying rather than accept the truth., your friend is not going to want to believe her husband boyfriend is cheating., she's going to shoot you as the messenger., telling her risks damaging your friendship., 1 she's either not going to believe you., and or she'll turn it on you, shoot you as the messenger and that will affect your friendship., 2 if you have 100 proof that he's cheating, don't think your problems won't be so great., she still might shoot the messenger., she has to be angry at someone., she's not going to want to be angry with him, so she's going to lash her anger on you., or imagine if she sees the proof, but forgives him, or takes him back., every time she sees you it will remind her of his infidelity, and it will put you and your friendship in a compromising position., imagine how uncomfortable it will be for him to be around you knowing you ratted him out the first time., he might just get her to turn against you or make her distance herself from you., i think for the sake of preserving your friendship, you should pretend you don't know anything.]   \n",
       "53431                                                                                                                                                                                                                                                                                                                                                                                                                                                                                                                 [it seems to me that niccolo machiavelli has an undeservedly poor legacy., the term machiavellian comes to mind we only ever use it to refer to political realists who do bad things., for example, the fictional character francis underwood from house of cards is frequently called the picture of a machiavellian character., while i would say that this is true, i think that it leads to an undue association between machaivelli and being bad ., i've read the prince and i'm partway through discourses on livy and neither of them ever outright endorses doing evil things., if nothing else, it seems to me like machiavelli only ever advocated doing morally questionable things if it would end up being either for the greater good or the preservation of the state with the preservation of the state being inherently neither good nor bad ., what is perhaps worse in my view is that machiavelli seems to only be popularly known for the prince , a rather short work at least compared to discourses that, it's my understanding, was written with the goal of getting into the good graces of the medici family and for little other reason., now, i'm not one of those who will argue that it's a satire i think an honest reading of the prince itself shows that it is clearly serious but i would argue that the prince is not the most accurate picture of machiavelli's view of politics., history and discourses as well as one of the first chapters in the prince show us that machiavelli was much more in favor of a republic of the people rather than an autocracy., i think that's all, for now., i feel like i'm missing something or maybe formatted what i did write rather poorly, but i can't exactly figure how i would want to fix it right now, either.]   \n",
       "387208                                                                                                                                                                                                                                                                                                                                                                                                                                                                                                                                                                                                                                                                                                                                                                                                                                                                                                                                                                                                                                                                                                                                                                                    [i believe it is inherently impossible to claim that you are loyal to two counties sovereign states., my view basically boils down to one question., if, at some point, both countries were at war and asking you to fight for them, who would you choose?, you can't say neither, and your answer is who you're loyal to., this works purely as a theoretical question., doesn't matter if the situation will likely never arise, the answer shows which countries interests you care about more., even the closest allies have times where they disagree on matters, and sometimes those matters are purely because both countries only stand to benefit from opposite resolutions., not necessarily right or wrong, just who do i want coming out on top., so my view is that because countries always have their own self interests at heart, they will eventually have conflicts even with their allies again, no right or wrong, just who comes out on top , and having to choose a side in the conflict is your loyalty., the fact that these countries may not currently have conflict has absolutely not bearing on this.]   \n",
       "285839                                                                                                                                                                                                                                                                                                                                                                                                                                                                                                                                                                                                                                                                                                                                                                                                                                                                                                                                                                                                                                                                                                                               [i think it shouldn t be the job of people at school to teach sex education because., 1., a lot of times they teach abstinence is the only form of safe sex and that s extremely dangerous because that s when you have the problems of teen pregnancy because we were all teens once and seriously?, you re going to tell me that i can never experiment sexually, at all., then teens go, and they aren t on b c and have never even learned about different forms of sex from anywhere besides possibly porn., now they ve got an entirely skewed view on sex., then they end in shame or don t know about consent and that s how we end up with rape culture 2., it ends up being like that scene from mean girls don t have sex because you ll get pregnant and die., here s some condoms 3., it becomes a joke because you always have the class clowns that turn it into a joke when there s actually kids that are curious but too afraid to ask., then sex isn t taken seriously., 4., you really want someone you ve met at most once or twice maybe if your lucky 4 times once per quarter teaching your kids about something that detrimental in literally everyone s life?]   \n",
       "\n",
       "                                                                                                                                                                                                                                                                                                                                                                                                                                                                                                                                                                                                                                                                                                                                                                                                                                                                                                                                                                                                                                                                                                                                                                                                                                                                                                                                                                                                                                                                                                                                                                                                                                                                                                                                                                                                                                                                                                                                                                                                                                                                                                                                                                                                                                                                                                                                                                                                                                                                                                                                                                                                                                                                                                                                                                                                                                                                                                                                                                                                                                                                                                                                                                        conclusions_in_argument  \n",
       "290103                                                                                                                                                                                                                                                                                                                                                                                                                                                                                                                                                                                                                                                                                                                                                                                                                                                                                                                                                                                                                                                                                                                                                                                                                                                                                                                                                                                                                                                                                                                                                                                                                                                                                                                                                                                                                                                                                      [(i see this a lot, where women say it's unfair to get shamed for sleeping around, but when men do they're praised for it, called a 'player', 'stud', etc., 0.5033611059188843), (but nobody talks about how men get shamed for still being a virgin or 'not getting some', while women get praised for it., 0.45310935378074646), (at the end of the day, aren't people getting shamed both ways for being themselves?, 0.32762911915779114), ('patriarchy' won't change my mind, as both are parties that are getting hurt., 0.33749765157699585), (whether or not a guy being shamed is of the same gender that created the rules in the first place makes no difference to me, and i fail to see why it should., 0.4704388380050659), (in my opinion, that's like saying people in the middle east shouldn't complain because their dictator shares the same nationality., 0.2672026753425598), (the 'accusers' are both men and women as well, for either shaming., 0.552834689617157), (since both demographics are guilty of this, why should there be a difference?, 0.336520254611969), (going away for a bit, i'll probably read responses, though i can't promise to reply., 0.10098472982645035), (thanks to everyone who took the effort to give me perspective!, 0.1411144733428955)]  \n",
       "262589  [(scenario: you have a close female friend., 0.4608636498451233), (you find information that 100 demonstrates her significant other boyfriend, husband, girlfriend, wife is cheating on her., 0.44560033082962036), (you should not tell her anything point blank., 0.47355973720550537), (i once had a close friend whose boyfriend kept hitting on me for months., 0.2932227849960327), (i finally told her., 0.3399260938167572), (she didn't thank me., 0.14144739508628845), (she said i was making it up because i wanted him for myself., 0.24966466426849365), (she stopped speaking to me., 0.1269458383321762), (a second time me and my friend karlie found out our friend's june's boyfriend was cheating and asking girls to come to his house to fuck him., 0.4063212275505066), (we told june., 0.10412606596946716), (june didn't believe us., 0.013479788787662983), (we stayed friends but things got weird., 0.16105791926383972), (third time broke the camel's back for me., 0.01407548412680626), (i caught my best friend's boyfriend holding hands with another girl., 0.4584948718547821), (i told her., 0.35941949486732483), (he actually didn't deny it., 0.17056645452976227), (they broke up., 0.10108734667301178), (then she took him back., 0.18650037050247192), (he was awkward around me afterwards., 0.06080975756049156), (i know my experience may be anecdotal but 'shooting the messenger' is 100 real., 0.08207506686449051), (people don't want to accept things that are painful., -0.019714226946234703), (sometimes the truth is too painful to accept., 0.06558113545179367), (instead of accepting it, they would rather shoot the messenger and hope that he she is lying rather than accept the truth., 0.298552930355072), (your friend is not going to want to believe her husband boyfriend is cheating., 0.675557017326355), (she's going to shoot you as the messenger., 0.2137022614479065), (telling her risks damaging your friendship., 0.5580143928527832), (1 she's either not going to believe you., 0.2631455063819885), (and or she'll turn it on you, shoot you as the messenger and that will affect your friendship., 0.406234472990036), (2 if you have 100 proof that he's cheating, don't think your problems won't be so great., 0.35977545380592346), (she still might shoot the messenger., 0.2530425488948822), (she has to be angry at someone., 0.26239821314811707), (she's not going to want to be angry with him, so she's going to lash her anger on you., 0.3427543044090271), (or imagine if she sees the proof, but forgives him, or takes him back., 0.34219783544540405), (every time she sees you it will remind her of his infidelity, and it will put you and your friendship in a compromising position., 0.5617641806602478), (imagine how uncomfortable it will be for him to be around you knowing you ratted him out the first time., 0.2165759801864624), (he might just get her to turn against you or make her distance herself from you., 0.2786720395088196), (i think for the sake of preserving your friendship, you should pretend you don't know anything., 0.35419991612434387)]  \n",
       "53431                                                                                                                                                                                                                                                                                                                                                                                                                                                                                                                                                                                                                                                                                                                                                                                                                                                                                                                                                                                                                                                                                                                              [(it seems to me that niccolo machiavelli has an undeservedly poor legacy., 0.8205562829971313), (the term machiavellian comes to mind we only ever use it to refer to political realists who do bad things., 0.522111177444458), (for example, the fictional character francis underwood from house of cards is frequently called the picture of a machiavellian character., 0.40450960397720337), (while i would say that this is true, i think that it leads to an undue association between machaivelli and being bad ., 0.6246120929718018), (i've read the prince and i'm partway through discourses on livy and neither of them ever outright endorses doing evil things., 0.40886950492858887), (if nothing else, it seems to me like machiavelli only ever advocated doing morally questionable things if it would end up being either for the greater good or the preservation of the state with the preservation of the state being inherently neither good nor bad ., 0.5931152701377869), (what is perhaps worse in my view is that machiavelli seems to only be popularly known for the prince , a rather short work at least compared to discourses that, it's my understanding, was written with the goal of getting into the good graces of the medici family and for little other reason., 0.6545915603637695), (now, i'm not one of those who will argue that it's a satire i think an honest reading of the prince itself shows that it is clearly serious but i would argue that the prince is not the most accurate picture of machiavelli's view of politics., 0.5333380699157715), (history and discourses as well as one of the first chapters in the prince show us that machiavelli was much more in favor of a republic of the people rather than an autocracy., 0.49781712889671326), (i think that's all, for now., 0.1129864752292633), (i feel like i'm missing something or maybe formatted what i did write rather poorly, but i can't exactly figure how i would want to fix it right now, either., 0.06864472478628159)]  \n",
       "387208                                                                                                                                                                                                                                                                                                                                                                                                                                                                                                                                                                                                                                                                                                                                                                                                                                                                                                                                                                                                                                                                                                                                                                                                                                                                                                                                                                                                                                                                                                                                                                                                                                                                                                                                                                                                                    [(i believe it is inherently impossible to claim that you are loyal to two counties sovereign states., 0.5237057209014893), (my view basically boils down to one question., 0.10486392676830292), (if, at some point, both countries were at war and asking you to fight for them, who would you choose?, 0.33221620321273804), (you can't say neither, and your answer is who you're loyal to., 0.2211238145828247), (this works purely as a theoretical question., 0.15174034237861633), (doesn't matter if the situation will likely never arise, the answer shows which countries interests you care about more., 0.38977453112602234), (even the closest allies have times where they disagree on matters, and sometimes those matters are purely because both countries only stand to benefit from opposite resolutions., 0.44510453939437866), (not necessarily right or wrong, just who do i want coming out on top., 0.11762990057468414), (so my view is that because countries always have their own self interests at heart, they will eventually have conflicts even with their allies again, no right or wrong, just who comes out on top , and having to choose a side in the conflict is your loyalty., 0.5874720811843872), (the fact that these countries may not currently have conflict has absolutely not bearing on this., 0.3360975980758667)]  \n",
       "285839                                                                                                                                                                                                                                                                                                                                                                                                                                                                                                                                                                                                                                                                                                                                                                                                                                                                                                                                                                                                                                                                                                                                                                                                                                                                                                                                                                                                                                                                                                                                                                                                                                                                                           [(i think it shouldn t be the job of people at school to teach sex education because., 0.8578989505767822), (1., -0.0358453169465065), (a lot of times they teach abstinence is the only form of safe sex and that s extremely dangerous because that s when you have the problems of teen pregnancy because we were all teens once and seriously?, 0.46461886167526245), (you re going to tell me that i can never experiment sexually, at all., 0.2142387181520462), (then teens go, and they aren t on b c and have never even learned about different forms of sex from anywhere besides possibly porn., 0.4366942048072815), (now they ve got an entirely skewed view on sex., 0.38941001892089844), (then they end in shame or don t know about consent and that s how we end up with rape culture 2., 0.3235386610031128), (it ends up being like that scene from mean girls don t have sex because you ll get pregnant and die., 0.2665000259876251), (here s some condoms 3., 0.15831732749938965), (it becomes a joke because you always have the class clowns that turn it into a joke when there s actually kids that are curious but too afraid to ask., 0.2873208522796631), (then sex isn t taken seriously., 0.36585360765457153), (4., -0.03017510287463665), (you really want someone you ve met at most once or twice maybe if your lucky 4 times once per quarter teaching your kids about something that detrimental in literally everyone s life?, 0.24228256940841675)]  "
      ]
     },
     "execution_count": 54,
     "metadata": {},
     "output_type": "execute_result"
    }
   ],
   "source": [
    "sample_df[['title', 'post', 'conclusions_in_argument']].head()"
   ]
  },
  {
   "cell_type": "code",
   "execution_count": 55,
   "metadata": {},
   "outputs": [],
   "source": [
    "similarity_dist = [cand[1] for cands in sample_df['conclusions_in_argument'].tolist() for cand in cands]"
   ]
  },
  {
   "cell_type": "code",
   "execution_count": 56,
   "metadata": {},
   "outputs": [
    {
     "data": {
      "image/png": "[encoded data removed]",
      "text/plain": [
       "<Figure size 432x288 with 1 Axes>"
      ]
     },
     "metadata": {
      "needs_background": "light"
     },
     "output_type": "display_data"
    }
   ],
   "source": [
    "plt.hist(similarity_dist, bins=np.arange(0, 1, 0.1))\n",
    "plt.show()"
   ]
  },
  {
   "cell_type": "code",
   "execution_count": 69,
   "metadata": {},
   "outputs": [],
   "source": [
    "sample_df['top_conclusions_in_argument'] = sample_df['conclusions_in_argument'].apply(lambda item: [x for x in item if x[1] > 0.75])"
   ]
  },
  {
   "cell_type": "code",
   "execution_count": 70,
   "metadata": {},
   "outputs": [
    {
     "data": {
      "text/plain": [
       "294"
      ]
     },
     "execution_count": 70,
     "metadata": {},
     "output_type": "execute_result"
    }
   ],
   "source": [
    "len(sample_df[sample_df['top_conclusions_in_argument'].str.len() > 0])"
   ]
  },
  {
   "cell_type": "code",
   "execution_count": 71,
   "metadata": {
    "scrolled": true,
    "tags": []
   },
   "outputs": [
    {
     "data": {
      "text/html": [
       "<div>\n",
       "<style scoped>\n",
       "    .dataframe tbody tr th:only-of-type {\n",
       "        vertical-align: middle;\n",
       "    }\n",
       "\n",
       "    .dataframe tbody tr th {\n",
       "        vertical-align: top;\n",
       "    }\n",
       "\n",
       "    .dataframe thead th {\n",
       "        text-align: right;\n",
       "    }\n",
       "</style>\n",
       "<table border=\"1\" class=\"dataframe\">\n",
       "  <thead>\n",
       "    <tr style=\"text-align: right;\">\n",
       "      <th></th>\n",
       "      <th>title</th>\n",
       "      <th>top_conclusions_in_argument</th>\n",
       "    </tr>\n",
       "  </thead>\n",
       "  <tbody>\n",
       "    <tr>\n",
       "      <th>53431</th>\n",
       "      <td>I think Niccolo Machiavelli has an undeservedly poor reputation.</td>\n",
       "      <td>[(it seems to me that niccolo machiavelli has an undeservedly poor legacy., 0.8205562829971313)]</td>\n",
       "    </tr>\n",
       "    <tr>\n",
       "      <th>285839</th>\n",
       "      <td>I believe that sex education should be in the home from parents and not the jobs of educators at school.</td>\n",
       "      <td>[(i think it shouldn t be the job of people at school to teach sex education because., 0.8578989505767822)]</td>\n",
       "    </tr>\n",
       "    <tr>\n",
       "      <th>442976</th>\n",
       "      <td>Dr. Phil and similar TV shows are the modern, socially acceptable equivalent of circus freak shows</td>\n",
       "      <td>[(shows like dr. phil are not much different from a freak show., 0.801140546798706)]</td>\n",
       "    </tr>\n",
       "    <tr>\n",
       "      <th>435963</th>\n",
       "      <td>Transgender/trans-affirming people cannot define the word “man” or “woman”</td>\n",
       "      <td>[(but so far, i have yet to hear a clear, meaningful definition of the term man or woman from someone who affirms transgenderism., 0.8030619025230408), (when i ask transgender trans affirming people for a definition, i typically get answers like this: a man is someone who says they are a man , a man is someone who experiences life as a man ., 0.7689554691314697)]</td>\n",
       "    </tr>\n",
       "    <tr>\n",
       "      <th>392617</th>\n",
       "      <td>Nothing I can do as a cyclist will ever make drivers stop hating me.</td>\n",
       "      <td>[(it seems like, no matter what i do, drivers will hate me and want me to stop riding., 0.7634909749031067), (i'm not going to stop, but it really feels like i'm doing everything that can be reasonably expected of a cyclist and drivers still hate me being on the road., 0.8047007322311401)]</td>\n",
       "    </tr>\n",
       "    <tr>\n",
       "      <th>...</th>\n",
       "      <td>...</td>\n",
       "      <td>...</td>\n",
       "    </tr>\n",
       "    <tr>\n",
       "      <th>314122</th>\n",
       "      <td>Dark Souls isn’t as great of a game as everyone says it and the difficulty seems like a gimmick.</td>\n",
       "      <td>[(i want to clarify a few things before i start: 1 i m in no way saying that dark souls is a bad game, just overrated., 0.7539910674095154), (now my argument is that the original dark souls is only rated so highly because a lot of mainstream games nowadays aren t very difficult., 0.782929003238678), (i do like it when a game is challenging but i m arguing that dark souls is only difficult because it creates unfair situations for the player., 0.8246773481369019)]</td>\n",
       "    </tr>\n",
       "    <tr>\n",
       "      <th>41530</th>\n",
       "      <td>I believe a fetus has rights worth protecting.</td>\n",
       "      <td>[(i simply believe that since there can be no informed decision made by the fetus, we have an obligation to protect it., 0.8215245008468628)]</td>\n",
       "    </tr>\n",
       "    <tr>\n",
       "      <th>339971</th>\n",
       "      <td>There should be no separate minimum wage for waiters or \"tipped\" employees. And tipping should not be a social \"expectation\" in pretty much every dining situation &amp;amp; other places where tips are \"expected\" as a given. Waiters &amp;amp; others should get paid a fair market wage by employers.</td>\n",
       "      <td>[(i think that waiters, hairdressers, valets, and other professions who have a tipping expectation should just be paid a fair market wage paid by their employers and there should be no pressure or expectation of tips from pretty much every customer., 0.8191947340965271)]</td>\n",
       "    </tr>\n",
       "    <tr>\n",
       "      <th>467351</th>\n",
       "      <td>you have no moral obligation to disclose the fact that a meal is vegan to people eating it</td>\n",
       "      <td>[(so, why should people have to 'disclose' that a meal is vegan?, 0.8401384949684143)]</td>\n",
       "    </tr>\n",
       "    <tr>\n",
       "      <th>470751</th>\n",
       "      <td>People who can't afford kids shouldn't have them.</td>\n",
       "      <td>[(i'm not opposed to this happening, but it is worth noting it wouldnt generally even have to be a thing if people who cant afford kids didnt have them., 0.7804848551750183)]</td>\n",
       "    </tr>\n",
       "  </tbody>\n",
       "</table>\n",
       "<p>100 rows × 2 columns</p>\n",
       "</div>"
      ],
      "text/plain": [
       "                                                                                                                                                                                                                                                                                                     title  \\\n",
       "53431                                                                                                                                                                                                                                     I think Niccolo Machiavelli has an undeservedly poor reputation.   \n",
       "285839                                                                                                                                                                                            I believe that sex education should be in the home from parents and not the jobs of educators at school.   \n",
       "442976                                                                                                                                                                                                  Dr. Phil and similar TV shows are the modern, socially acceptable equivalent of circus freak shows   \n",
       "435963                                                                                                                                                                                                                          Transgender/trans-affirming people cannot define the word “man” or “woman”   \n",
       "392617                                                                                                                                                                                                                                Nothing I can do as a cyclist will ever make drivers stop hating me.   \n",
       "...                                                                                                                                                                                                                                                                                                    ...   \n",
       "314122                                                                                                                                                                                                    Dark Souls isn’t as great of a game as everyone says it and the difficulty seems like a gimmick.   \n",
       "41530                                                                                                                                                                                                                                                       I believe a fetus has rights worth protecting.   \n",
       "339971   There should be no separate minimum wage for waiters or \"tipped\" employees. And tipping should not be a social \"expectation\" in pretty much every dining situation &amp; other places where tips are \"expected\" as a given. Waiters &amp; others should get paid a fair market wage by employers.   \n",
       "467351                                                                                                                                                                                                          you have no moral obligation to disclose the fact that a meal is vegan to people eating it   \n",
       "470751                                                                                                                                                                                                                                                   People who can't afford kids shouldn't have them.   \n",
       "\n",
       "                                                                                                                                                                                                                                                                                                                                                                                                                                                               top_conclusions_in_argument  \n",
       "53431                                                                                                                                                                                                                                                                                                                                                                                     [(it seems to me that niccolo machiavelli has an undeservedly poor legacy., 0.8205562829971313)]  \n",
       "285839                                                                                                                                                                                                                                                                                                                                                                         [(i think it shouldn t be the job of people at school to teach sex education because., 0.8578989505767822)]  \n",
       "442976                                                                                                                                                                                                                                                                                                                                                                                                [(shows like dr. phil are not much different from a freak show., 0.801140546798706)]  \n",
       "435963                                                                                                       [(but so far, i have yet to hear a clear, meaningful definition of the term man or woman from someone who affirms transgenderism., 0.8030619025230408), (when i ask transgender trans affirming people for a definition, i typically get answers like this: a man is someone who says they are a man , a man is someone who experiences life as a man ., 0.7689554691314697)]  \n",
       "392617                                                                                                                                                                                  [(it seems like, no matter what i do, drivers will hate me and want me to stop riding., 0.7634909749031067), (i'm not going to stop, but it really feels like i'm doing everything that can be reasonably expected of a cyclist and drivers still hate me being on the road., 0.8047007322311401)]  \n",
       "...                                                                                                                                                                                                                                                                                                                                                                                                                                                                                    ...  \n",
       "314122  [(i want to clarify a few things before i start: 1 i m in no way saying that dark souls is a bad game, just overrated., 0.7539910674095154), (now my argument is that the original dark souls is only rated so highly because a lot of mainstream games nowadays aren t very difficult., 0.782929003238678), (i do like it when a game is challenging but i m arguing that dark souls is only difficult because it creates unfair situations for the player., 0.8246773481369019)]  \n",
       "41530                                                                                                                                                                                                                                                                                                                                        [(i simply believe that since there can be no informed decision made by the fetus, we have an obligation to protect it., 0.8215245008468628)]  \n",
       "339971                                                                                                                                                                                                     [(i think that waiters, hairdressers, valets, and other professions who have a tipping expectation should just be paid a fair market wage paid by their employers and there should be no pressure or expectation of tips from pretty much every customer., 0.8191947340965271)]  \n",
       "467351                                                                                                                                                                                                                                                                                                                                                                                              [(so, why should people have to 'disclose' that a meal is vegan?, 0.8401384949684143)]  \n",
       "470751                                                                                                                                                                                                                                                                                                      [(i'm not opposed to this happening, but it is worth noting it wouldnt generally even have to be a thing if people who cant afford kids didnt have them., 0.7804848551750183)]  \n",
       "\n",
       "[100 rows x 2 columns]"
      ]
     },
     "execution_count": 71,
     "metadata": {},
     "output_type": "execute_result"
    }
   ],
   "source": [
    "sample_df[sample_df['top_conclusions_in_argument'].str.len() > 0][['title', 'top_conclusions_in_argument']].head(n=100)"
   ]
  },
  {
   "cell_type": "markdown",
   "metadata": {},
   "source": [
    "-----------"
   ]
  },
  {
   "cell_type": "code",
   "execution_count": 66,
   "metadata": {},
   "outputs": [],
   "source": [
    "df = pd.read_pickle(data_path + \"jo_data/argument_rebuttals.pkl\")"
   ]
  },
  {
   "cell_type": "code",
   "execution_count": 67,
   "metadata": {
    "scrolled": true,
    "tags": []
   },
   "outputs": [
    {
     "data": {
      "text/html": [
       "<div>\n",
       "<style scoped>\n",
       "    .dataframe tbody tr th:only-of-type {\n",
       "        vertical-align: middle;\n",
       "    }\n",
       "\n",
       "    .dataframe tbody tr th {\n",
       "        vertical-align: top;\n",
       "    }\n",
       "\n",
       "    .dataframe thead th {\n",
       "        text-align: right;\n",
       "    }\n",
       "</style>\n",
       "<table border=\"1\" class=\"dataframe\">\n",
       "  <thead>\n",
       "    <tr style=\"text-align: right;\">\n",
       "      <th></th>\n",
       "      <th>post_id</th>\n",
       "      <th>split</th>\n",
       "      <th>comment_id</th>\n",
       "      <th>title</th>\n",
       "      <th>post</th>\n",
       "      <th>n_sentences</th>\n",
       "      <th>comment_sents</th>\n",
       "    </tr>\n",
       "  </thead>\n",
       "  <tbody>\n",
       "    <tr>\n",
       "      <th>0</th>\n",
       "      <td>t3_1u4mmo</td>\n",
       "      <td>train</td>\n",
       "      <td>t1_ceehlbn</td>\n",
       "      <td>I believe that churches and other religious institutions should have to pay taxes.</td>\n",
       "      <td>[i believe that a church is like any other profit making business and therefore most pay similar taxes., i am not a religious person myself so i do not know the complete logistics of the revenue and spending of a church but i do understand they can yield a good amount of cash., not entirely sure how accurate this article is, but it states that we could gain an additional 71 billion dollars per year and in a time where we as a country are in trillions of dollars of debt taxing a church seems reasonable to me., cmv]</td>\n",
       "      <td>4</td>\n",
       "      <td>[i have heard this before ofc but when it is said louder than, or separate from the same issue when applied to corporations, or other non profits, i just think it's just religious discrimination., most, if not all corporations pay a much smaller percentage of their income in taxes than i do., why not focus on closing corporate loopholes first?, it would generate a lot more income than targeting religious institutions., why not focus on non religious nonprofits?, tons of those are shams where the head of said organization makes 7 figures., many are politically motivated, and actually are for profit in the sense that they are for changing laws and policies that allow third parties to become more profitable., i just don't have much respect for the taxing religions thing because you can apply the same arguments to different organizations resulting in higher tax revenue., i mean, sure., if some tv preacher is pulling in 7 figures selling 'prayer rags' then yeah, close whatever loopholes make that possible., but at the same time you have to close those same loopholes for non religious nonprofits, else it's just discrimination.]</td>\n",
       "    </tr>\n",
       "    <tr>\n",
       "      <th>1</th>\n",
       "      <td>t3_1u4mmo</td>\n",
       "      <td>train</td>\n",
       "      <td>t1_ceei77d</td>\n",
       "      <td>I believe that churches and other religious institutions should have to pay taxes.</td>\n",
       "      <td>[i believe that a church is like any other profit making business and therefore most pay similar taxes., i am not a religious person myself so i do not know the complete logistics of the revenue and spending of a church but i do understand they can yield a good amount of cash., not entirely sure how accurate this article is, but it states that we could gain an additional 71 billion dollars per year and in a time where we as a country are in trillions of dollars of debt taxing a church seems reasonable to me., cmv]</td>\n",
       "      <td>4</td>\n",
       "      <td>[one of the historical methods of repressing out of favor religions is to make them pay exorbitant taxes., the blanket religious tax exemption is one of the ways we comply with the first amendment., many atheists seem to forget it guarantees the free exercise of religion in addition to forbidding the establishment of a state religion., taxing them like everyone else doesn't make sense because everyone else pays widely varying tax rates., should they be taxed as a commercial entity or an industrial one?, which subtype?, some religious practices involve wine., does that mean the churches will need permits taxes fees licenses as a resturant?, some christian sects consider the use of wine critical to the ceremony, others consider grape juice to be fine because it is symbolism., the rules and regulations answering those questions will burden some religions sects more than others., this then becomes a ripe area for both intentional and unintentional discrimination against out of favor religious groups., this will be hugely problematic for the free exercise clause., it is just as problematic for the establishment clause., as per the current justification for emminent domain, increased tax revenue is a justifying public good., taxing churches like everyone else would allow a state or locality to use eminent domain foreclosures in order to build a new mega church., the baptists catholics whoever will pay greater taxes than the mosque temple out of favor group currently on that corner., back to the wine example, the sect that doesn't use wine now has a significant financial advantage over the one that does., if the existence of a cross shaped veterans memorial is an establishment of religion, then surely providing tax advantages is.]</td>\n",
       "    </tr>\n",
       "    <tr>\n",
       "      <th>2</th>\n",
       "      <td>t3_1u4mmo</td>\n",
       "      <td>train</td>\n",
       "      <td>t1_ceei9ab</td>\n",
       "      <td>I believe that churches and other religious institutions should have to pay taxes.</td>\n",
       "      <td>[i believe that a church is like any other profit making business and therefore most pay similar taxes., i am not a religious person myself so i do not know the complete logistics of the revenue and spending of a church but i do understand they can yield a good amount of cash., not entirely sure how accurate this article is, but it states that we could gain an additional 71 billion dollars per year and in a time where we as a country are in trillions of dollars of debt taxing a church seems reasonable to me., cmv]</td>\n",
       "      <td>4</td>\n",
       "      <td>[from someone who's grown up in the christian church:churches receive their income primarily through 'tithes,' which is a voluntary donation of sorts that each congregation member is expected to give yes, i know, 'voluntary' and 'expected to give. ', it's confusing for churchgoers, too ., the tithe is at a 10 standard., this is the means through which the church has to pay for property values, utilities, staffing, etc., churches have operated based on a realistic tithe income based on current income and membership growth., there are some churches that are very well off and probably wouldn't suffer too much from taxing., other churches barely struggle to pay their bills and staff because of tithing issues or other extenuating circumstances like natural disasters or whatever., let's say we implement a flat tax at 5 of the church's revenue., the church is expected to operate at 95 revenue while still maintaining 100 output., the church could, in response, raise the expected tithe to compensate for that cut., the congregation would respond by saying that that isn't the biblical expectation for the congregation., which it isn't., and since the tithing is optional, revenue would either stay the same or go down., the natural reaction is that people just wouldn't tithe., it could actually go further in reality., what i expect if the church were to be taxed would be that secret churches would start to meet like the ones that happen where christianity is illegal., the government can't really track that stuff too well though i wouldn't put it past them anymore ., so scratch that, we could do a tax rate that increases based on the church's revenue., then we would get the problem that plagues the united states taxes churches would just split up into smaller units and record their income at the lowest rate; likely one where the church isn't taxed at all., so there's how that revenue works and the probable results., hope this helps!]</td>\n",
       "    </tr>\n",
       "    <tr>\n",
       "      <th>3</th>\n",
       "      <td>t3_1u4mmo</td>\n",
       "      <td>train</td>\n",
       "      <td>t1_ceeimbl</td>\n",
       "      <td>I believe that churches and other religious institutions should have to pay taxes.</td>\n",
       "      <td>[i believe that a church is like any other profit making business and therefore most pay similar taxes., i am not a religious person myself so i do not know the complete logistics of the revenue and spending of a church but i do understand they can yield a good amount of cash., not entirely sure how accurate this article is, but it states that we could gain an additional 71 billion dollars per year and in a time where we as a country are in trillions of dollars of debt taxing a church seems reasonable to me., cmv]</td>\n",
       "      <td>4</td>\n",
       "      <td>[i've served on my local church's council and i understand the perception of the church having a lot of money., that being said, while the church i attend brings in a lot of money a little less than 500k year 100 of it goes into supporting the church as a whole staff wages, operational expenses, building mortgage, etc and the church mission local community outreach programs such as food banks and soup kitchens, national outreach through monetary donations, etc ., lets look at the simple budget for my church next year: 500,000 that's a good chunk of change., 91 of that money is donated without the expectation of receiving any tangible thing., the remaining 9 is mainly collected from rental fees by individuals and organizations that want to use the church for their activities., now on how the money is spent nearly 50 of the budget is spent on staff salaries, benefits and payroll., seeing as i live in a state where the cost of living is quite high, we try very hard to pay our pastor, youth minister and administrative assistant competitive wages while we aren't 100 with getting a comparable wage we do try., 10 of the budget is spent on benevolence straight up donating 10 of our income to the greater church., remaining 40 operations and community outreach, and future set asides., the church has regular expenses just like any other entity., we have a mortgage to pay, electrical bills, insurance, advertising, pastoral training, running a twice weekly soup kitchen, twice a sunday services, etc., now lets add an 'income tax' onto this while thing., as you can see most every penny that goes into the church, goes right back out to the community at large., the nominal corporate tax rate is 35 ., so let's knock 175,000 right out of the budget., so instead of 500k, we have 325,000 basically enough to cover competitive pastoral wages, benefits, and have 75,000 left over for everything else., it boils down to local community benefit., the federal government isn't concerned with making sure people are hungry are fed, the naked clothed, and the downtrodden consoled., churches and religious communities are some of the only organizations that have the ability to directly influence the lives of people in their community., taxing religious organizations is a bad idea because of the community outreach that a lot of these organizations provide., i'm not saying there aren't bad apples, but i'd say 95 of churches provide a bigger community benefit by direct outreach, instead of letting the government come in and take finances out of your community.]</td>\n",
       "    </tr>\n",
       "    <tr>\n",
       "      <th>4</th>\n",
       "      <td>t3_1u4mmo</td>\n",
       "      <td>train</td>\n",
       "      <td>t1_ceeix3p</td>\n",
       "      <td>I believe that churches and other religious institutions should have to pay taxes.</td>\n",
       "      <td>[i believe that a church is like any other profit making business and therefore most pay similar taxes., i am not a religious person myself so i do not know the complete logistics of the revenue and spending of a church but i do understand they can yield a good amount of cash., not entirely sure how accurate this article is, but it states that we could gain an additional 71 billion dollars per year and in a time where we as a country are in trillions of dollars of debt taxing a church seems reasonable to me., cmv]</td>\n",
       "      <td>4</td>\n",
       "      <td>[consider also the effect this could have taxing the church makes it more difficult to run, so smaller ones are likely to close up., you may end up seeing: more 'mega'churches, with greater congregations., inadvertent suppression of faiths due to low demand the above point resulting in larger polarization of religion i. e., less personal interfaith interaction as communities shift so people can attended a church temple mosque of their faithwe could therefore lose fluidity in the workforce people won't work somewhere they can't find an appropriate chapel both within an abroad i. e., harder to attract retain workers we would want for the same reasons ., additionally, there is potential long term unrest from community segregation even though any segregation would be implicit, not explicit ., less actual interaction with different religions could result in prejudices developing, especially if some communities end up better worse off 'we don't like to go to the restaurants in that neighborhood' creating economic disparity against religious minorities ., of course i wouldn't say we are free of these issues as is, but i see taxation as possibly agitating these issues.]</td>\n",
       "    </tr>\n",
       "  </tbody>\n",
       "</table>\n",
       "</div>"
      ],
      "text/plain": [
       "     post_id  split  comment_id  \\\n",
       "0  t3_1u4mmo  train  t1_ceehlbn   \n",
       "1  t3_1u4mmo  train  t1_ceei77d   \n",
       "2  t3_1u4mmo  train  t1_ceei9ab   \n",
       "3  t3_1u4mmo  train  t1_ceeimbl   \n",
       "4  t3_1u4mmo  train  t1_ceeix3p   \n",
       "\n",
       "                                                                                 title  \\\n",
       "0  I believe that churches and other religious institutions should have to pay taxes.    \n",
       "1  I believe that churches and other religious institutions should have to pay taxes.    \n",
       "2  I believe that churches and other religious institutions should have to pay taxes.    \n",
       "3  I believe that churches and other religious institutions should have to pay taxes.    \n",
       "4  I believe that churches and other religious institutions should have to pay taxes.    \n",
       "\n",
       "                                                                                                                                                                                                                                                                                                                                                                                                                                                                                                                                      post  \\\n",
       "0  [i believe that a church is like any other profit making business and therefore most pay similar taxes., i am not a religious person myself so i do not know the complete logistics of the revenue and spending of a church but i do understand they can yield a good amount of cash., not entirely sure how accurate this article is, but it states that we could gain an additional 71 billion dollars per year and in a time where we as a country are in trillions of dollars of debt taxing a church seems reasonable to me., cmv]   \n",
       "1  [i believe that a church is like any other profit making business and therefore most pay similar taxes., i am not a religious person myself so i do not know the complete logistics of the revenue and spending of a church but i do understand they can yield a good amount of cash., not entirely sure how accurate this article is, but it states that we could gain an additional 71 billion dollars per year and in a time where we as a country are in trillions of dollars of debt taxing a church seems reasonable to me., cmv]   \n",
       "2  [i believe that a church is like any other profit making business and therefore most pay similar taxes., i am not a religious person myself so i do not know the complete logistics of the revenue and spending of a church but i do understand they can yield a good amount of cash., not entirely sure how accurate this article is, but it states that we could gain an additional 71 billion dollars per year and in a time where we as a country are in trillions of dollars of debt taxing a church seems reasonable to me., cmv]   \n",
       "3  [i believe that a church is like any other profit making business and therefore most pay similar taxes., i am not a religious person myself so i do not know the complete logistics of the revenue and spending of a church but i do understand they can yield a good amount of cash., not entirely sure how accurate this article is, but it states that we could gain an additional 71 billion dollars per year and in a time where we as a country are in trillions of dollars of debt taxing a church seems reasonable to me., cmv]   \n",
       "4  [i believe that a church is like any other profit making business and therefore most pay similar taxes., i am not a religious person myself so i do not know the complete logistics of the revenue and spending of a church but i do understand they can yield a good amount of cash., not entirely sure how accurate this article is, but it states that we could gain an additional 71 billion dollars per year and in a time where we as a country are in trillions of dollars of debt taxing a church seems reasonable to me., cmv]   \n",
       "\n",
       "   n_sentences  \\\n",
       "0            4   \n",
       "1            4   \n",
       "2            4   \n",
       "3            4   \n",
       "4            4   \n",
       "\n",
       "                                                                                                                                                                                                                                                                                                                                                                                                                                                                                                                                                                                                                                                                                                                                                                                                                                                                                                                                                                                                                                                                                                                                                                                                                                                                                                                                                                                                                                                                                                                                                                                                                                                                                                                                                                                                                                                                                                                                                                                                                                                                                                                                                                                                                                                                                                                                                                                                                                                                                                                                                                                                                                                               comment_sents  \n",
       "0                                                                                                                                                                                                                                                                                                                                                                                                                                                                                                                                                                                                                                                                                                                                                                                                                                                                                                                                                                                                                                                                                                                                                                                                                                                                                                                                                                                                                                                                                        [i have heard this before ofc but when it is said louder than, or separate from the same issue when applied to corporations, or other non profits, i just think it's just religious discrimination., most, if not all corporations pay a much smaller percentage of their income in taxes than i do., why not focus on closing corporate loopholes first?, it would generate a lot more income than targeting religious institutions., why not focus on non religious nonprofits?, tons of those are shams where the head of said organization makes 7 figures., many are politically motivated, and actually are for profit in the sense that they are for changing laws and policies that allow third parties to become more profitable., i just don't have much respect for the taxing religions thing because you can apply the same arguments to different organizations resulting in higher tax revenue., i mean, sure., if some tv preacher is pulling in 7 figures selling 'prayer rags' then yeah, close whatever loopholes make that possible., but at the same time you have to close those same loopholes for non religious nonprofits, else it's just discrimination.]  \n",
       "1                                                                                                                                                                                                                                                                                                                                                                                                                                                                                                                                                                                                                                                                                                                                                                                                                                                  [one of the historical methods of repressing out of favor religions is to make them pay exorbitant taxes., the blanket religious tax exemption is one of the ways we comply with the first amendment., many atheists seem to forget it guarantees the free exercise of religion in addition to forbidding the establishment of a state religion., taxing them like everyone else doesn't make sense because everyone else pays widely varying tax rates., should they be taxed as a commercial entity or an industrial one?, which subtype?, some religious practices involve wine., does that mean the churches will need permits taxes fees licenses as a resturant?, some christian sects consider the use of wine critical to the ceremony, others consider grape juice to be fine because it is symbolism., the rules and regulations answering those questions will burden some religions sects more than others., this then becomes a ripe area for both intentional and unintentional discrimination against out of favor religious groups., this will be hugely problematic for the free exercise clause., it is just as problematic for the establishment clause., as per the current justification for emminent domain, increased tax revenue is a justifying public good., taxing churches like everyone else would allow a state or locality to use eminent domain foreclosures in order to build a new mega church., the baptists catholics whoever will pay greater taxes than the mosque temple out of favor group currently on that corner., back to the wine example, the sect that doesn't use wine now has a significant financial advantage over the one that does., if the existence of a cross shaped veterans memorial is an establishment of religion, then surely providing tax advantages is.]  \n",
       "2                                                                                                                                                                                                                                                                                                                                                                                                                                                                                                                                                                                                                                           [from someone who's grown up in the christian church:churches receive their income primarily through 'tithes,' which is a voluntary donation of sorts that each congregation member is expected to give yes, i know, 'voluntary' and 'expected to give. ', it's confusing for churchgoers, too ., the tithe is at a 10 standard., this is the means through which the church has to pay for property values, utilities, staffing, etc., churches have operated based on a realistic tithe income based on current income and membership growth., there are some churches that are very well off and probably wouldn't suffer too much from taxing., other churches barely struggle to pay their bills and staff because of tithing issues or other extenuating circumstances like natural disasters or whatever., let's say we implement a flat tax at 5 of the church's revenue., the church is expected to operate at 95 revenue while still maintaining 100 output., the church could, in response, raise the expected tithe to compensate for that cut., the congregation would respond by saying that that isn't the biblical expectation for the congregation., which it isn't., and since the tithing is optional, revenue would either stay the same or go down., the natural reaction is that people just wouldn't tithe., it could actually go further in reality., what i expect if the church were to be taxed would be that secret churches would start to meet like the ones that happen where christianity is illegal., the government can't really track that stuff too well though i wouldn't put it past them anymore ., so scratch that, we could do a tax rate that increases based on the church's revenue., then we would get the problem that plagues the united states taxes churches would just split up into smaller units and record their income at the lowest rate; likely one where the church isn't taxed at all., so there's how that revenue works and the probable results., hope this helps!]  \n",
       "3  [i've served on my local church's council and i understand the perception of the church having a lot of money., that being said, while the church i attend brings in a lot of money a little less than 500k year 100 of it goes into supporting the church as a whole staff wages, operational expenses, building mortgage, etc and the church mission local community outreach programs such as food banks and soup kitchens, national outreach through monetary donations, etc ., lets look at the simple budget for my church next year: 500,000 that's a good chunk of change., 91 of that money is donated without the expectation of receiving any tangible thing., the remaining 9 is mainly collected from rental fees by individuals and organizations that want to use the church for their activities., now on how the money is spent nearly 50 of the budget is spent on staff salaries, benefits and payroll., seeing as i live in a state where the cost of living is quite high, we try very hard to pay our pastor, youth minister and administrative assistant competitive wages while we aren't 100 with getting a comparable wage we do try., 10 of the budget is spent on benevolence straight up donating 10 of our income to the greater church., remaining 40 operations and community outreach, and future set asides., the church has regular expenses just like any other entity., we have a mortgage to pay, electrical bills, insurance, advertising, pastoral training, running a twice weekly soup kitchen, twice a sunday services, etc., now lets add an 'income tax' onto this while thing., as you can see most every penny that goes into the church, goes right back out to the community at large., the nominal corporate tax rate is 35 ., so let's knock 175,000 right out of the budget., so instead of 500k, we have 325,000 basically enough to cover competitive pastoral wages, benefits, and have 75,000 left over for everything else., it boils down to local community benefit., the federal government isn't concerned with making sure people are hungry are fed, the naked clothed, and the downtrodden consoled., churches and religious communities are some of the only organizations that have the ability to directly influence the lives of people in their community., taxing religious organizations is a bad idea because of the community outreach that a lot of these organizations provide., i'm not saying there aren't bad apples, but i'd say 95 of churches provide a bigger community benefit by direct outreach, instead of letting the government come in and take finances out of your community.]  \n",
       "4                                                                                                                                                                                                                                                                                                                                                                                                                                                                                                                                                                                                                                                                                                                                                                                                                                                                                                                                                                                                                                                                                                                                                                                                                                                                                                                                                                                                                                               [consider also the effect this could have taxing the church makes it more difficult to run, so smaller ones are likely to close up., you may end up seeing: more 'mega'churches, with greater congregations., inadvertent suppression of faiths due to low demand the above point resulting in larger polarization of religion i. e., less personal interfaith interaction as communities shift so people can attended a church temple mosque of their faithwe could therefore lose fluidity in the workforce people won't work somewhere they can't find an appropriate chapel both within an abroad i. e., harder to attract retain workers we would want for the same reasons ., additionally, there is potential long term unrest from community segregation even though any segregation would be implicit, not explicit ., less actual interaction with different religions could result in prejudices developing, especially if some communities end up better worse off 'we don't like to go to the restaurants in that neighborhood' creating economic disparity against religious minorities ., of course i wouldn't say we are free of these issues as is, but i see taxation as possibly agitating these issues.]  "
      ]
     },
     "execution_count": 67,
     "metadata": {},
     "output_type": "execute_result"
    }
   ],
   "source": [
    "df.head()"
   ]
  },
  {
   "cell_type": "code",
   "execution_count": 68,
   "metadata": {},
   "outputs": [],
   "source": [
    "df['bot_comment'] = df.comment_sents.apply(lambda x:  'i am a bot, and this action was performed automatically.' in ' '.join(x))"
   ]
  },
  {
   "cell_type": "code",
   "execution_count": 69,
   "metadata": {},
   "outputs": [
    {
     "data": {
      "text/plain": [
       "False    539707\n",
       "True       1971\n",
       "Name: bot_comment, dtype: int64"
      ]
     },
     "execution_count": 69,
     "metadata": {},
     "output_type": "execute_result"
    }
   ],
   "source": [
    "df.bot_comment.value_counts()"
   ]
  },
  {
   "cell_type": "code",
   "execution_count": 70,
   "metadata": {},
   "outputs": [],
   "source": [
    "df = df.drop(df[df.bot_comment].index)"
   ]
  },
  {
   "cell_type": "code",
   "execution_count": 71,
   "metadata": {},
   "outputs": [],
   "source": [
    "df = df.rename(columns={\n",
    "    'comment_sents' : 'counter',\n",
    "})"
   ]
  },
  {
   "cell_type": "markdown",
   "metadata": {},
   "source": [
    "##### Checking how many cases we have where the comment contains exactly the conclusion:"
   ]
  },
  {
   "cell_type": "markdown",
   "metadata": {},
   "source": [
    "Based on the overlap between the comment and the conclusion:"
   ]
  },
  {
   "cell_type": "code",
   "execution_count": 74,
   "metadata": {},
   "outputs": [
    {
     "name": "stderr",
     "output_type": "stream",
     "text": [
      "WARNING:root:Applied processor reduces input query to empty string, all comparisons will have score 0. [Query: '']\n",
      "WARNING:root:Applied processor reduces input query to empty string, all comparisons will have score 0. [Query: '']\n",
      "WARNING:root:Applied processor reduces input query to empty string, all comparisons will have score 0. [Query: '']\n",
      "WARNING:root:Applied processor reduces input query to empty string, all comparisons will have score 0. [Query: '']\n",
      "WARNING:root:Applied processor reduces input query to empty string, all comparisons will have score 0. [Query: '']\n",
      "WARNING:root:Applied processor reduces input query to empty string, all comparisons will have score 0. [Query: '']\n",
      "WARNING:root:Applied processor reduces input query to empty string, all comparisons will have score 0. [Query: '']\n",
      "WARNING:root:Applied processor reduces input query to empty string, all comparisons will have score 0. [Query: '']\n"
     ]
    },
    {
     "data": {
      "image/png": "[encoded data removed]",
      "text/plain": [
       "<Figure size 432x288 with 1 Axes>"
      ]
     },
     "metadata": {
      "needs_background": "light"
     },
     "output_type": "display_data"
    }
   ],
   "source": [
    "#compute overlap between the whole comment and the conclusion of the argument\n",
    "df['conclusions_in_comment'] = df.apply(lambda x: process.extract(x['title'], x['counter'], scorer=fuzz.partial_ratio, limit=500), axis=1)\n",
    "conc_sim_to_comment = [sent[1] for comment in df.conclusions_in_comment.tolist() for sent in comment]\n",
    "plt.hist(conc_sim_to_comment)\n",
    "plt.show()"
   ]
  },
  {
   "cell_type": "code",
   "execution_count": 82,
   "metadata": {},
   "outputs": [],
   "source": [
    "df['top_conclusions_in_comment'] = df.conclusions_in_comment.apply(lambda l: [x for x in l if x[1] > 70])\n",
    "df['count_of_conc_in_comments'] = df.top_conclusions_in_comment.apply(lambda l: len(l))"
   ]
  },
  {
   "cell_type": "code",
   "execution_count": 83,
   "metadata": {},
   "outputs": [
    {
     "name": "stdout",
     "output_type": "stream",
     "text": [
      "30743 Rebuttal cases of 539707\n"
     ]
    }
   ],
   "source": [
    "print('{} Rebuttal cases of {}'.format(len(df[df.count_of_conc_in_comments > 0]), len(df)))"
   ]
  },
  {
   "cell_type": "code",
   "execution_count": 84,
   "metadata": {
    "scrolled": true,
    "tags": []
   },
   "outputs": [
    {
     "data": {
      "text/html": [
       "<div>\n",
       "<style scoped>\n",
       "    .dataframe tbody tr th:only-of-type {\n",
       "        vertical-align: middle;\n",
       "    }\n",
       "\n",
       "    .dataframe tbody tr th {\n",
       "        vertical-align: top;\n",
       "    }\n",
       "\n",
       "    .dataframe thead th {\n",
       "        text-align: right;\n",
       "    }\n",
       "</style>\n",
       "<table border=\"1\" class=\"dataframe\">\n",
       "  <thead>\n",
       "    <tr style=\"text-align: right;\">\n",
       "      <th></th>\n",
       "      <th>title</th>\n",
       "      <th>post</th>\n",
       "      <th>counter</th>\n",
       "    </tr>\n",
       "  </thead>\n",
       "  <tbody>\n",
       "    <tr>\n",
       "      <th>13</th>\n",
       "      <td>I believe that churches and other religious institutions should have to pay taxes.</td>\n",
       "      <td>[i believe that a church is like any other profit making business and therefore most pay similar taxes., i am not a religious person myself so i do not know the complete logistics of the revenue and spending of a church but i do understand they can yield a good amount of cash., not entirely sure how accurate this article is, but it states that we could gain an additional 71 billion dollars per year and in a time where we as a country are in trillions of dollars of debt taxing a church seems reasonable to me., cmv]</td>\n",
       "      <td>[first, when religious institutions 'generate revenue', they are typically and by a vast majority doing this through donations of their followers., this is similar to how charities work., the donations are tax deductable for the person making the donation like charities., and many churches also provide free services for the community in the same way a charity would for example, my church has a 'meals on wheels' program that feeds the homeless ., by removing the tax exemption from religious institutions, it would be a small step to say that we should eliminate tax exemptions for charities as well., aside from that, if we treat churches and other religious institutions as companies that pay taxes, there will inevitably be an issue with tax breaks., it would not take long for any or all religions to have lobbyists bribe i mean, lobby politicians to get tax breaks that favor them., as one religion gets better tax breaks than others, you will quickly find that the government is either inadvertently or even purposefully unofficially establishing the country's religion.]</td>\n",
       "    </tr>\n",
       "    <tr>\n",
       "      <th>47</th>\n",
       "      <td>There is no viable alternative to capitalism, though the current system can be altered to serve people's needs.</td>\n",
       "      <td>[i've tried researching discussions on this topic before but i only found ones involving incredibly biased participants., hope you guys can do better i honestly don't understand how there is a significant number of people who believe that capitalism can be replaced., history shows that absolutely no ruler in a socialist or communist regime is capable of upholding their ideals., if you subscribe to the notion that socialism communism is supposed to exist without a state, then i respond that in any circumstance, whether it's survival or business, etc, people will gravitate towards leaders, whether it's in a formal or informal fashion for instance, my workplace has a fairly 'flat' structure but even within my group, i always seek the advice of the more experienced people ., furthermore, even though i do agree that everyone has the right to have their most basic needs fulfilled via, say, some basic income that allows people to eat, drink water and practice basic hygiene with anything else having to be worked for , i don't understand how one can transition to an economic system that no longer seeks profit., yes, infinite growth in a finite world and all that, but without profit, we have stagnation., if you were to tell me that my income would not change for the rest of my life, i would only do the bare minimum to get by, regardless of how much i enjoyed my job., i deserve to be rewarded for my efforts., therefore i do not understand why is it not possible to simply retool the existing system by enforcing tax laws more harshly on large fortunes and boosting the welfare state, for instance to allow everyone to have a living wage., yes, some might call it implausible but i find it much less implausible than the alternative., forgive my lack of coherence and i understand i might have some incorrect notions about this topic but that's what i am here for., i await a hopefully enlightening discussion., note: let's be exact here: i also think that when people online call for the end of capitalism, most of them are referring to the capitalism practiced in the united states: as a european citizen, i honestly look at said system more as borderline cyberpunk esque anarcho capitalism more than anything else., do you think the discussions i mentioned are mostly a result of semantic differences?, i have heavily considered this as well ., if so, please mention it below.]</td>\n",
       "      <td>[the system you are describing is not capitalism., under capitalism, do you get directly rewarded for your hard work?, no, most of the hardest workers get paid piecemeal wages, and live in terrible conditions., it's never going to be profitable to meet everyones needs., welfare states are built off the exploitation of foreign workers, you can't have a global system that would adquetely satisfy need., there are viable alternatives., socialism, where industry is worker owned, is viable, and has existed., you can still have market socialism where there is still a profit motive, but it's not capitalism, so it is a 'viable alternative' while fitting your idea of what you think is viable., many other forms of socialism, while being non market, reward people for their contribution, directly for their hard work., so, your ideal system is actually socialism, which is an alternative to capitalism.]</td>\n",
       "    </tr>\n",
       "    <tr>\n",
       "      <th>48</th>\n",
       "      <td>There is no viable alternative to capitalism, though the current system can be altered to serve people's needs.</td>\n",
       "      <td>[i've tried researching discussions on this topic before but i only found ones involving incredibly biased participants., hope you guys can do better i honestly don't understand how there is a significant number of people who believe that capitalism can be replaced., history shows that absolutely no ruler in a socialist or communist regime is capable of upholding their ideals., if you subscribe to the notion that socialism communism is supposed to exist without a state, then i respond that in any circumstance, whether it's survival or business, etc, people will gravitate towards leaders, whether it's in a formal or informal fashion for instance, my workplace has a fairly 'flat' structure but even within my group, i always seek the advice of the more experienced people ., furthermore, even though i do agree that everyone has the right to have their most basic needs fulfilled via, say, some basic income that allows people to eat, drink water and practice basic hygiene with anything else having to be worked for , i don't understand how one can transition to an economic system that no longer seeks profit., yes, infinite growth in a finite world and all that, but without profit, we have stagnation., if you were to tell me that my income would not change for the rest of my life, i would only do the bare minimum to get by, regardless of how much i enjoyed my job., i deserve to be rewarded for my efforts., therefore i do not understand why is it not possible to simply retool the existing system by enforcing tax laws more harshly on large fortunes and boosting the welfare state, for instance to allow everyone to have a living wage., yes, some might call it implausible but i find it much less implausible than the alternative., forgive my lack of coherence and i understand i might have some incorrect notions about this topic but that's what i am here for., i await a hopefully enlightening discussion., note: let's be exact here: i also think that when people online call for the end of capitalism, most of them are referring to the capitalism practiced in the united states: as a european citizen, i honestly look at said system more as borderline cyberpunk esque anarcho capitalism more than anything else., do you think the discussions i mentioned are mostly a result of semantic differences?, i have heavily considered this as well ., if so, please mention it below.]</td>\n",
       "      <td>[feudalism was a viable alternative to capitalism., it worked alright for hundreds of years.]</td>\n",
       "    </tr>\n",
       "    <tr>\n",
       "      <th>61</th>\n",
       "      <td>I don't think promiscuity is a bad thing. .</td>\n",
       "      <td>[i don't think that having lots of sex negatively affects people., if you are safe and smart, there aren't many, maybe not any, negative consequences., i like my body, i like the things my body can do, and i like the way it feels when i have sex., so i have a lot of sex., if a slut is a girl who has a lot of sex, i'm a slut., i don't see why being a slut is something i should avoid., i don't see why people act like having sex causes some deep psychological scars., sex crimes, like the one i was a victim of, are bad and hurtful and cause permanent damage., but after a lot of therapy and time i was able to recognize that sex is something fun that makes you feel close to other people., i think a relationship is when you find someone who is the only person you want to feel so close to., i'm in a serious relationship, and for some reason i actually don't know why he is the only person i want to be with., i love him, i love being with him, and i love when we have sex., so if sex is all good warm soft things, then why would being a girl who has lots of sex, or in my situation used to have lots of sex, be a bad or shameful thing?]</td>\n",
       "      <td>[answering from a purely personal perspective i would not want a relationship with someone who is promiscuous., i am not promiscuous and i have rejected relationships with promiscuous people in the past., for me, sex is a very intimate act that i only share with people that i very much trust., a person who is promiscuous obviously does not feel that way about sex., that would create an imbalance of power within the relationship that could be very hurtful for me., in a sense, it is a form of insecurity, but its emotional, not sexual insecurity., i need to feel safe with a person to have sex with them and i do not feel safe if they would share that intimacy with other people., in case my user name is ambiguous, i am male., i have had two long term relationships with plenty of sex involved., i usually find that women i date try to get sex from me before i am ready though i understand that is not the usual pattern., it's my experience women are less inclined to monogamy than men, you are an example of that., for me, the 'men are only after one thing' idea seems to be mostly projection by women who are only after one thing., i don't think promiscuity is bad exactly., it's a choice people make, it has consequences like any other choice., but it's not my choice and that's why i reject those people.]</td>\n",
       "    </tr>\n",
       "    <tr>\n",
       "      <th>125</th>\n",
       "      <td>I don't believe in the institution of marriage. .</td>\n",
       "      <td>[i'll preface this by saying that this is my first post here, so i hope i'm doing this correctly., everything in this post is based entirely on my own observations., for the sake of laziness, i'm going to leave out the 'i statements' and let you pretend there's one in front of every one of my opinions., i should also mention that i'm an atheist, but i don't take issue with marriage because it is an institution of religion., my problem with marriage is that i don't think humans in general have the psychological capacity to devote themselves to, and accept the devotion of, another human being., first i'll say that i understand that everyone defines marriage differently., to me, marriage is when two people can say to each other 'i care about you and trust you so much that i am literally willing to do anything i can fathom you asking of me and anything within reason to protect you and our relationship, until death do us part. ', the problem is that no one can fully comprehend marriage and still believe that they and their partner can succeed at it., it's an impossible promise to fulfill., it is impossible to know someone so well that you know for a fact that they will never betray you, ever., the marriages that end due to natural death of old age and have never been violated by either party are few and far between., if we could extend the human life expectancy another 50 years i don't doubt they would have ended in divorce., i understand that marriage isn't supposed to be perfect or easy., it's supposed to be difficult., you're supposed to work together through the rough times., however if a person or their so consciously violate the marriage, or even if you just eventually get tired of being married, then what is the point in being married at all?, and i think given enough time, every marriage will have at least one party who after all is said and done would move on if they could., i think it would be much better to say, 'i care about you and trust you so much that i am literally willing to do anything i can fathom you asking of me and anything within reason to protect you and our relationship, as long as i still feel like it. ', people get bored of each other., they learn things about each other they don't like., they meet someone new and exciting and better than their partner that they'd like to explore a relationship with., they should be free to move on when they're not into it anymore without the stigma of divorce., i am 100 for monogamy., relationships should remain exclusive unless both parties explicitly agree otherwise., cheating is never okay., change my view., i hope i didn't offend anyone; i don't mean to insult anyone by insinuating that they're foolish for getting married., i just think that society has unrealistic expectations of the human attention span when it comes to relationships., also, it's early in the morning and i haven't slept., i've proofread twice, but i'm on a new phone and i'm still getting used to the keyboard., thanks ahead of time for your responses., thanks to u electrostaticrain and everyone else who made the argument that many of the things i thought were a requirement of marriage, are not actually required by law .]</td>\n",
       "      <td>[i know you defined 'marriage' in your own particular way, but if you are talking about the institution of marriage, the only truly objective point of reference for discussing its value is that of the law., in that sense, marriage is less of a contract of 'i will never hurt you and i will stay with you amp;c. amp;c. ' it's really a contract of 'my assets and your assets are now our assets. ', things marriage guarantees:if one part dies, they inherit their partner's assets instead of it being handed to another next of kin., any children are legally bound to both parties., debts and assets including property have common ownership., if a split occurs, the parties are bound to divide their assets between each other equally or in line with a contract., and so on., these are the real benefits of the institution of marriage, not some promise for the future whether carried out or not .]</td>\n",
       "    </tr>\n",
       "  </tbody>\n",
       "</table>\n",
       "</div>"
      ],
      "text/plain": [
       "                                                                                                                title  \\\n",
       "13                                I believe that churches and other religious institutions should have to pay taxes.    \n",
       "47   There is no viable alternative to capitalism, though the current system can be altered to serve people's needs.    \n",
       "48   There is no viable alternative to capitalism, though the current system can be altered to serve people's needs.    \n",
       "61                                                                        I don't think promiscuity is a bad thing. .   \n",
       "125                                                                 I don't believe in the institution of marriage. .   \n",
       "\n",
       "                                                                                                                                                                                                                                                                                                                                                                                                                                                                                                                                                                                                                                                                                                                                                                                                                                                                                                                                                                                                                                                                                                                                                                                                                                                                                                                                                                                                                                                                                                                                                                                                                                                                                                                                                                                                                                                                                                                                                                                                                                                                                                                                                                                                                                                                                                                                                                                                                                                                                                                                                                                                                                                                                                                                                                                                                                                                                                                                                                                                                                                                                                                                                                                                                                                                                                                                        post  \\\n",
       "13                                                                                                                                                                                                                                                                                                                                                                                                                                                                                                                                                                                                                                                                                                                                                                                                                                                                                                                                                                                                                                                                                                                                                                                                                                                                                                                                                                                                                                                                                                                                                                                                                                                                                                                                                                                                                                                                                                                                                                                                                                                                                                                                                                                                                                                                                                                                                                                                                                                                                                                                                                                                                                                                                                                                                                                                   [i believe that a church is like any other profit making business and therefore most pay similar taxes., i am not a religious person myself so i do not know the complete logistics of the revenue and spending of a church but i do understand they can yield a good amount of cash., not entirely sure how accurate this article is, but it states that we could gain an additional 71 billion dollars per year and in a time where we as a country are in trillions of dollars of debt taxing a church seems reasonable to me., cmv]   \n",
       "47                                                                                                                                                                                                                                                                                                                                                                                                                                                                                                                                                                                                                                                                                                                                                                                                                                                  [i've tried researching discussions on this topic before but i only found ones involving incredibly biased participants., hope you guys can do better i honestly don't understand how there is a significant number of people who believe that capitalism can be replaced., history shows that absolutely no ruler in a socialist or communist regime is capable of upholding their ideals., if you subscribe to the notion that socialism communism is supposed to exist without a state, then i respond that in any circumstance, whether it's survival or business, etc, people will gravitate towards leaders, whether it's in a formal or informal fashion for instance, my workplace has a fairly 'flat' structure but even within my group, i always seek the advice of the more experienced people ., furthermore, even though i do agree that everyone has the right to have their most basic needs fulfilled via, say, some basic income that allows people to eat, drink water and practice basic hygiene with anything else having to be worked for , i don't understand how one can transition to an economic system that no longer seeks profit., yes, infinite growth in a finite world and all that, but without profit, we have stagnation., if you were to tell me that my income would not change for the rest of my life, i would only do the bare minimum to get by, regardless of how much i enjoyed my job., i deserve to be rewarded for my efforts., therefore i do not understand why is it not possible to simply retool the existing system by enforcing tax laws more harshly on large fortunes and boosting the welfare state, for instance to allow everyone to have a living wage., yes, some might call it implausible but i find it much less implausible than the alternative., forgive my lack of coherence and i understand i might have some incorrect notions about this topic but that's what i am here for., i await a hopefully enlightening discussion., note: let's be exact here: i also think that when people online call for the end of capitalism, most of them are referring to the capitalism practiced in the united states: as a european citizen, i honestly look at said system more as borderline cyberpunk esque anarcho capitalism more than anything else., do you think the discussions i mentioned are mostly a result of semantic differences?, i have heavily considered this as well ., if so, please mention it below.]   \n",
       "48                                                                                                                                                                                                                                                                                                                                                                                                                                                                                                                                                                                                                                                                                                                                                                                                                                                  [i've tried researching discussions on this topic before but i only found ones involving incredibly biased participants., hope you guys can do better i honestly don't understand how there is a significant number of people who believe that capitalism can be replaced., history shows that absolutely no ruler in a socialist or communist regime is capable of upholding their ideals., if you subscribe to the notion that socialism communism is supposed to exist without a state, then i respond that in any circumstance, whether it's survival or business, etc, people will gravitate towards leaders, whether it's in a formal or informal fashion for instance, my workplace has a fairly 'flat' structure but even within my group, i always seek the advice of the more experienced people ., furthermore, even though i do agree that everyone has the right to have their most basic needs fulfilled via, say, some basic income that allows people to eat, drink water and practice basic hygiene with anything else having to be worked for , i don't understand how one can transition to an economic system that no longer seeks profit., yes, infinite growth in a finite world and all that, but without profit, we have stagnation., if you were to tell me that my income would not change for the rest of my life, i would only do the bare minimum to get by, regardless of how much i enjoyed my job., i deserve to be rewarded for my efforts., therefore i do not understand why is it not possible to simply retool the existing system by enforcing tax laws more harshly on large fortunes and boosting the welfare state, for instance to allow everyone to have a living wage., yes, some might call it implausible but i find it much less implausible than the alternative., forgive my lack of coherence and i understand i might have some incorrect notions about this topic but that's what i am here for., i await a hopefully enlightening discussion., note: let's be exact here: i also think that when people online call for the end of capitalism, most of them are referring to the capitalism practiced in the united states: as a european citizen, i honestly look at said system more as borderline cyberpunk esque anarcho capitalism more than anything else., do you think the discussions i mentioned are mostly a result of semantic differences?, i have heavily considered this as well ., if so, please mention it below.]   \n",
       "61                                                                                                                                                                                                                                                                                                                                                                                                                                                                                                                                                                                                                                                                                                                                                                                                                                                                                                                                                                                                                                                                                                                                                                                                                                                                                                                                                                                                                                                                                                                                                                                                                                                                                                                                                                                                                                                                                                                                                                                                                                                                                                                                                      [i don't think that having lots of sex negatively affects people., if you are safe and smart, there aren't many, maybe not any, negative consequences., i like my body, i like the things my body can do, and i like the way it feels when i have sex., so i have a lot of sex., if a slut is a girl who has a lot of sex, i'm a slut., i don't see why being a slut is something i should avoid., i don't see why people act like having sex causes some deep psychological scars., sex crimes, like the one i was a victim of, are bad and hurtful and cause permanent damage., but after a lot of therapy and time i was able to recognize that sex is something fun that makes you feel close to other people., i think a relationship is when you find someone who is the only person you want to feel so close to., i'm in a serious relationship, and for some reason i actually don't know why he is the only person i want to be with., i love him, i love being with him, and i love when we have sex., so if sex is all good warm soft things, then why would being a girl who has lots of sex, or in my situation used to have lots of sex, be a bad or shameful thing?]   \n",
       "125  [i'll preface this by saying that this is my first post here, so i hope i'm doing this correctly., everything in this post is based entirely on my own observations., for the sake of laziness, i'm going to leave out the 'i statements' and let you pretend there's one in front of every one of my opinions., i should also mention that i'm an atheist, but i don't take issue with marriage because it is an institution of religion., my problem with marriage is that i don't think humans in general have the psychological capacity to devote themselves to, and accept the devotion of, another human being., first i'll say that i understand that everyone defines marriage differently., to me, marriage is when two people can say to each other 'i care about you and trust you so much that i am literally willing to do anything i can fathom you asking of me and anything within reason to protect you and our relationship, until death do us part. ', the problem is that no one can fully comprehend marriage and still believe that they and their partner can succeed at it., it's an impossible promise to fulfill., it is impossible to know someone so well that you know for a fact that they will never betray you, ever., the marriages that end due to natural death of old age and have never been violated by either party are few and far between., if we could extend the human life expectancy another 50 years i don't doubt they would have ended in divorce., i understand that marriage isn't supposed to be perfect or easy., it's supposed to be difficult., you're supposed to work together through the rough times., however if a person or their so consciously violate the marriage, or even if you just eventually get tired of being married, then what is the point in being married at all?, and i think given enough time, every marriage will have at least one party who after all is said and done would move on if they could., i think it would be much better to say, 'i care about you and trust you so much that i am literally willing to do anything i can fathom you asking of me and anything within reason to protect you and our relationship, as long as i still feel like it. ', people get bored of each other., they learn things about each other they don't like., they meet someone new and exciting and better than their partner that they'd like to explore a relationship with., they should be free to move on when they're not into it anymore without the stigma of divorce., i am 100 for monogamy., relationships should remain exclusive unless both parties explicitly agree otherwise., cheating is never okay., change my view., i hope i didn't offend anyone; i don't mean to insult anyone by insinuating that they're foolish for getting married., i just think that society has unrealistic expectations of the human attention span when it comes to relationships., also, it's early in the morning and i haven't slept., i've proofread twice, but i'm on a new phone and i'm still getting used to the keyboard., thanks ahead of time for your responses., thanks to u electrostaticrain and everyone else who made the argument that many of the things i thought were a requirement of marriage, are not actually required by law .]   \n",
       "\n",
       "                                                                                                                                                                                                                                                                                                                                                                                                                                                                                                                                                                                                                                                                                                                                                                                                                                                                                                                                                                                                                                                                                                                                                                                                                                                                                                                                                               counter  \n",
       "13                                                                                                                                                                                                                                            [first, when religious institutions 'generate revenue', they are typically and by a vast majority doing this through donations of their followers., this is similar to how charities work., the donations are tax deductable for the person making the donation like charities., and many churches also provide free services for the community in the same way a charity would for example, my church has a 'meals on wheels' program that feeds the homeless ., by removing the tax exemption from religious institutions, it would be a small step to say that we should eliminate tax exemptions for charities as well., aside from that, if we treat churches and other religious institutions as companies that pay taxes, there will inevitably be an issue with tax breaks., it would not take long for any or all religions to have lobbyists bribe i mean, lobby politicians to get tax breaks that favor them., as one religion gets better tax breaks than others, you will quickly find that the government is either inadvertently or even purposefully unofficially establishing the country's religion.]  \n",
       "47                                                                                                                                                                                                                                                                                                                                                                                                                               [the system you are describing is not capitalism., under capitalism, do you get directly rewarded for your hard work?, no, most of the hardest workers get paid piecemeal wages, and live in terrible conditions., it's never going to be profitable to meet everyones needs., welfare states are built off the exploitation of foreign workers, you can't have a global system that would adquetely satisfy need., there are viable alternatives., socialism, where industry is worker owned, is viable, and has existed., you can still have market socialism where there is still a profit motive, but it's not capitalism, so it is a 'viable alternative' while fitting your idea of what you think is viable., many other forms of socialism, while being non market, reward people for their contribution, directly for their hard work., so, your ideal system is actually socialism, which is an alternative to capitalism.]  \n",
       "48                                                                                                                                                                                                                                                                                                                                                                                                                                                                                                                                                                                                                                                                                                                                                                                                                                                                                                                                                                                                                                                                                                                                                                                                                                                                       [feudalism was a viable alternative to capitalism., it worked alright for hundreds of years.]  \n",
       "61   [answering from a purely personal perspective i would not want a relationship with someone who is promiscuous., i am not promiscuous and i have rejected relationships with promiscuous people in the past., for me, sex is a very intimate act that i only share with people that i very much trust., a person who is promiscuous obviously does not feel that way about sex., that would create an imbalance of power within the relationship that could be very hurtful for me., in a sense, it is a form of insecurity, but its emotional, not sexual insecurity., i need to feel safe with a person to have sex with them and i do not feel safe if they would share that intimacy with other people., in case my user name is ambiguous, i am male., i have had two long term relationships with plenty of sex involved., i usually find that women i date try to get sex from me before i am ready though i understand that is not the usual pattern., it's my experience women are less inclined to monogamy than men, you are an example of that., for me, the 'men are only after one thing' idea seems to be mostly projection by women who are only after one thing., i don't think promiscuity is bad exactly., it's a choice people make, it has consequences like any other choice., but it's not my choice and that's why i reject those people.]  \n",
       "125                                                                                                                                                                                                                                                                                                                                                                                                                                        [i know you defined 'marriage' in your own particular way, but if you are talking about the institution of marriage, the only truly objective point of reference for discussing its value is that of the law., in that sense, marriage is less of a contract of 'i will never hurt you and i will stay with you amp;c. amp;c. ' it's really a contract of 'my assets and your assets are now our assets. ', things marriage guarantees:if one part dies, they inherit their partner's assets instead of it being handed to another next of kin., any children are legally bound to both parties., debts and assets including property have common ownership., if a split occurs, the parties are bound to divide their assets between each other equally or in line with a contract., and so on., these are the real benefits of the institution of marriage, not some promise for the future whether carried out or not .]  "
      ]
     },
     "execution_count": 84,
     "metadata": {},
     "output_type": "execute_result"
    }
   ],
   "source": [
    "df[df.count_of_conc_in_comments > 0][['title', 'post', 'counter']].head()"
   ]
  },
  {
   "cell_type": "code",
   "execution_count": 85,
   "metadata": {},
   "outputs": [],
   "source": [
    "df.to_pickle(data_path + \"jo_data/argument_rebuttals.pkl\")"
   ]
  },
  {
   "cell_type": "markdown",
   "metadata": {},
   "source": [
    "Based on the overlap between the counter's conclusion and the argument conclusion:"
   ]
  },
  {
   "cell_type": "code",
   "execution_count": 61,
   "metadata": {},
   "outputs": [],
   "source": [
    "train_df = pd.read_pickle('../../../data-ceph/arguana/arg-generation/multi-taks-counter-argument-generation/reddit_data/conclusion_and_ca_generation/preprocessed_train_conclusion_all.pkl')\n",
    "\n",
    "#compuate the overlap between the conclusion of the argument and the conclusion of the counter\n",
    "train_df['rebuttal_prop'] = train_df.apply(lambda x: fuzz.partial_ratio(x['title'], x['counter_conclusion']), axis=1)"
   ]
  },
  {
   "cell_type": "code",
   "execution_count": 62,
   "metadata": {},
   "outputs": [
    {
     "data": {
      "image/png": "[encoded data removed]",
      "text/plain": [
       "<Figure size 432x288 with 1 Axes>"
      ]
     },
     "metadata": {
      "needs_background": "light"
     },
     "output_type": "display_data"
    }
   ],
   "source": [
    "train_df['rebuttal_prop'].hist()\n",
    "plt.show()"
   ]
  },
  {
   "cell_type": "code",
   "execution_count": 64,
   "metadata": {
    "scrolled": true,
    "tags": []
   },
   "outputs": [
    {
     "data": {
      "text/html": [
       "<div>\n",
       "<style scoped>\n",
       "    .dataframe tbody tr th:only-of-type {\n",
       "        vertical-align: middle;\n",
       "    }\n",
       "\n",
       "    .dataframe tbody tr th {\n",
       "        vertical-align: top;\n",
       "    }\n",
       "\n",
       "    .dataframe thead th {\n",
       "        text-align: right;\n",
       "    }\n",
       "</style>\n",
       "<table border=\"1\" class=\"dataframe\">\n",
       "  <thead>\n",
       "    <tr style=\"text-align: right;\">\n",
       "      <th></th>\n",
       "      <th>title</th>\n",
       "      <th>counter</th>\n",
       "      <th>counter_conclusion</th>\n",
       "      <th>rebuttal_prop</th>\n",
       "    </tr>\n",
       "  </thead>\n",
       "  <tbody>\n",
       "    <tr>\n",
       "      <th>361</th>\n",
       "      <td>I believe that cyberbullying isn't a real form of bullying. ?</td>\n",
       "      <td>people with low self esteem can have their identity tied to the perceived success of an online profile, meaning any trolling or sincere hate can be just like having someone yell in your face. that's only one example why cyber bullying is a real thing like bullying.</td>\n",
       "      <td>cyber bullying is a very real form of bullying.</td>\n",
       "      <td>88</td>\n",
       "    </tr>\n",
       "    <tr>\n",
       "      <th>371</th>\n",
       "      <td>People who claim the Civil War had nothing to do with slavery are wrong,</td>\n",
       "      <td>slavery quite literally had nothing to do with the civil war. slavery was only a relevant issue to the south, who didn't start or want to fight the war in the first place. in fact, they never even invaded. slavery was a central reason why the south wanted to leave the union, but it was not at all relevant to the war. the civil war was fought because the south did not have the legal authority to leave the union, and did not first rally to hold a constitutional convention. basically what they did to the union was unconstitutional, and their action was seen as a grave threat to american national security amp; sovereignty. the civil war was fought to protect these things, to exert the sovereignty of the union over the south. it wouldn't have mattered why they wanted to leave, what matters is how they decided to leave. our constitution was a compromise signed by the founders. the american state the union is empowered by it to do anything necessary to preserve it. the south woefully underestimated the lengths that the union would go to protect it. read sherman. he'll tell you all about the civil war, and why atlanta was burned down, and how slavery had nothing to do with. who cares what the apologists down south have to say? we never forgot their treason up here :</td>\n",
       "      <td>the south had nothing to do with the civil war</td>\n",
       "      <td>65</td>\n",
       "    </tr>\n",
       "    <tr>\n",
       "      <th>404</th>\n",
       "      <td>I believe that its far too easy to be a teacher, and that teachers should be masters of their fields.</td>\n",
       "      <td>ideally, yes. no one will argue about increasing experience levels of teachers. however, it isn't feasible to hire 'masters of the field'. someone who takes the time to become a master in a field expects a generous income; one that already struggling school systems cannot afford. experience isn't necessary. someone with a masters in engineering doesn't need to be teaching entry level java or pre calculus. a physicist isn't necessary to teach basic high school physics. someone with a broad teaching degree can understand the material and teach it effectively</td>\n",
       "      <td>It is not feasible to hire a master of the field</td>\n",
       "      <td>62</td>\n",
       "    </tr>\n",
       "    <tr>\n",
       "      <th>649</th>\n",
       "      <td>I think having 'cliques' in high school is perfectly fine.</td>\n",
       "      <td>you don't give enough details, so i was hoping you could tell us which of these is going on:some administrators dislike 'cliques' in the negative sense i understand them: a group that walls itself off from the outside. by forcing students to go outside their walls and step outside their comfort zone, it really does help students understand their classmates better and grow as people. some administrators fear strong friend groups because those form an alternative to their power. if you can like trust good friends, then you can rely on them and that weakens teachers' power to control their students. since you say 'high school', can i assume it's the first? when i was in school, deliberately breaking up friendships was more an elementary school thing than high school, but is this still true?</td>\n",
       "      <td>i think high school is a good thing</td>\n",
       "      <td>63</td>\n",
       "    </tr>\n",
       "    <tr>\n",
       "      <th>654</th>\n",
       "      <td>I believe that drug tests should be mandatory to receive welfare.</td>\n",
       "      <td>outside of it being a pretty basic violation of medical privacy, it simply isn't worth the cost. drug test are very expensive and you could help so many more families that need it with savings. also, should drug tests be mandatory for elected officials? should they be mandatory for all workers who receive any type of compensation from the government including employees and those awarded money in court ? anyone who does is receiving taxpayer money, so should they be tested?</td>\n",
       "      <td>I don't think drug tests should be mandatory for elected officials.</td>\n",
       "      <td>68</td>\n",
       "    </tr>\n",
       "    <tr>\n",
       "      <th>668</th>\n",
       "      <td>I think prisoners, terminal patients, and others should be able to opt in to experimentation if consent can be guaranteed.</td>\n",
       "      <td>so, in summation:assuming utopia, disprove utopia? ok, i'll give it a shot. religion: the human body is held to be sacred by most. experimentation violates this principle, regardless of consent. philosophically: aside from the fact that large scale consent cannot be guaranteed, experimentation dehumanises both those experimented on and those experimenting, reducing them entirely to objects. psychologically: anyone who consents to such treatment is likely mentally ill. moreover, such treatment would likely induce mental illness, so a persons consent would retroactively become void. consent is continuous. anthropologically: in certain cultures such as japan, people may feel culturally pressured to conform and consent en masse. sociologically: in america, those in prisons tend to be from ill treated groups along racial, ethnic and class lines. furthermore, there's the slippery slop argument to contend with, which in this case seems valid. scientifically: science and scientists have been struggling over the last few decades to dissociate themselves from past misdeeds and create robust ethical standards. your proposal would undermine that. lastly and most importantly, could people opt out while and experiment is ongoing? if not, then consent is irrelevant and your proposal is immoral. if so, then data is corrupted and your proposal is impractical.</td>\n",
       "      <td>the human body is sacred: experiment and large-scale consent cannot be guaranteed</td>\n",
       "      <td>65</td>\n",
       "    </tr>\n",
       "    <tr>\n",
       "      <th>741</th>\n",
       "      <td>I think marriage is a bad idea.</td>\n",
       "      <td>i, personally, am happy to be married. even before me and my wife were married, we were basically living that way for years, living together, sharing income, ect. marriage is a complicated thing; it's two people agreeing to merge their lives, their income, their home, their well being, and to tie it to each other; in order for it to work, you have to care very much about the other person, and you have to work to make the pair of you succeed. and if you do, you're probably better off; there have been a number of studies showing that married people tend to be happier, healthier, and live longer then single people. it's true that it sometimes does end in divorce, but that doesn't mean the institution is flawed, it just means that not every pair of people can make it work.</td>\n",
       "      <td>I think marriage is a good thing</td>\n",
       "      <td>78</td>\n",
       "    </tr>\n",
       "    <tr>\n",
       "      <th>751</th>\n",
       "      <td>I believe that \"two wrongs don't make a right\" can never be used to show that what someone did is wrong.</td>\n",
       "      <td>in the literal sense, punching someone back has not created a situation in which nobody was punched. i've never heard that argument used without the shared basic assumption that the initial act is intrinsically wrong i. e. 'punching is wrong' . arguing that two wrongs don't make a right supports that initial assumption. a punching b is bad because punching is wrong, so in order to say that b is not wrong in hitting a, you have to modify the initial assumption. you would then have to argue that punching is not inherently wrong and is only made so by certain circumstances. put more simply, if action a is intrinsically wrong, no amount of repetition will strip that inherent wrongness. if something wrong is made not wrong by another wrong, it is not intrinsically wrong.</td>\n",
       "      <td>the argument \"two wrongs don't make a right\" is flawed</td>\n",
       "      <td>72</td>\n",
       "    </tr>\n",
       "    <tr>\n",
       "      <th>756</th>\n",
       "      <td>I believe racial pride in any form is bad</td>\n",
       "      <td>pride itself requires a comparative evaluation of another person in order to make yourself feel better. it is essentially a feeling of superiority over another person. because of this, i believe that all pride is bad. however, it's great to be pleased with yourself and your accomplishments and have realistic evaluations of your own capabilities. it is the difference between feeling good about an accomplishment or yourself and feeling good because you believe that you are 'better' than someone else. pride in something that you have no control over is doubly problematic. it can only be false and has no basis in actual accomplishment. something a group does without your direct involvement should never be the basis for your own feelings of self worth. this can only be false.</td>\n",
       "      <td>I believe that pride is bad.</td>\n",
       "      <td>75</td>\n",
       "    </tr>\n",
       "    <tr>\n",
       "      <th>925</th>\n",
       "      <td>Comparing children raised by homosexual parents to children raised by \"traditional\" heterosexual parents is not a fair study.</td>\n",
       "      <td>i agree that the study is not fair, but the reasons are different from the ones you've given: homosexual couples adopting children achieve far better results in any of these studies because they face far more obstacles before adoption. they need to put in more effort, an effort you might not make if you aren't absolutely sure you want to have a child. homosexual parents are hand picked and therefor feature far less bad apples. comparing that group to heterosexuals having their own children is extremely unfair if you consider that about half of pregnancies are accidental. you're comparing a group of which almost everyone is 100 committed to their cause with a group where 50 didn't even choose that cause. even by comparing them to heterosexual couples that have also adopted, stability is still an issue. just as with marriage, homosexual couples are statistically more committed to take these steps when they take them. they're made aware of far more issues that affect both relationships equally than heterosexual couples, meaning they're likely to have put far more prior thought into said issues. i know quite a few married gay couples of which all are in no danger of separating, something i cannot say for the heterosexual couples i know. why? because all of the homosexual couples turned a stable relationship into a stable marriage, while quite a few of the heterosexual couples just shouldn't have gotten married at all. this will probably change in the future, when more and more of the affected people have grown up knowing they will be allowed to adopt and marry freely, no matter what sexual orientation.</td>\n",
       "      <td>i think comparing adoption to homosexual parents is unfair.</td>\n",
       "      <td>61</td>\n",
       "    </tr>\n",
       "  </tbody>\n",
       "</table>\n",
       "</div>"
      ],
      "text/plain": [
       "                                                                                                                              title  \\\n",
       "361                                                                   I believe that cyberbullying isn't a real form of bullying. ?   \n",
       "371                                                       People who claim the Civil War had nothing to do with slavery are wrong,    \n",
       "404                          I believe that its far too easy to be a teacher, and that teachers should be masters of their fields.    \n",
       "649                                                                     I think having 'cliques' in high school is perfectly fine.    \n",
       "654                                                              I believe that drug tests should be mandatory to receive welfare.    \n",
       "668     I think prisoners, terminal patients, and others should be able to opt in to experimentation if consent can be guaranteed.    \n",
       "741                                                                                                I think marriage is a bad idea.    \n",
       "751                       I believe that \"two wrongs don't make a right\" can never be used to show that what someone did is wrong.    \n",
       "756                                                                                      I believe racial pride in any form is bad    \n",
       "925  Comparing children raised by homosexual parents to children raised by \"traditional\" heterosexual parents is not a fair study.    \n",
       "\n",
       "                                                                                                                                                                                                                                                                                                                                                                                                                                                                                                                                                                                                                                                                                                                                                                                                                                                                                                                                                                                                                                                                                                                                                                                                                                                                                                                                                                                                                                                                                                                                                                                                                                                                                       counter  \\\n",
       "361                                                                                                                                                                                                                                                                                                                                                                                                                                                                                                                                                                                                                                                                                                                                                                                                                                                                                                                                                                                                                                                                                                                                                                                                                                                                                                                                                                                                                  people with low self esteem can have their identity tied to the perceived success of an online profile, meaning any trolling or sincere hate can be just like having someone yell in your face. that's only one example why cyber bullying is a real thing like bullying.   \n",
       "371                                                                                                                                                                                                                                                                                                                                                             slavery quite literally had nothing to do with the civil war. slavery was only a relevant issue to the south, who didn't start or want to fight the war in the first place. in fact, they never even invaded. slavery was a central reason why the south wanted to leave the union, but it was not at all relevant to the war. the civil war was fought because the south did not have the legal authority to leave the union, and did not first rally to hold a constitutional convention. basically what they did to the union was unconstitutional, and their action was seen as a grave threat to american national security amp; sovereignty. the civil war was fought to protect these things, to exert the sovereignty of the union over the south. it wouldn't have mattered why they wanted to leave, what matters is how they decided to leave. our constitution was a compromise signed by the founders. the american state the union is empowered by it to do anything necessary to preserve it. the south woefully underestimated the lengths that the union would go to protect it. read sherman. he'll tell you all about the civil war, and why atlanta was burned down, and how slavery had nothing to do with. who cares what the apologists down south have to say? we never forgot their treason up here :   \n",
       "404                                                                                                                                                                                                                                                                                                                                                                                                                                                                                                                                                                                                                                                                                                                                                                                                                                                                                                                                                                                                                                                                                                         ideally, yes. no one will argue about increasing experience levels of teachers. however, it isn't feasible to hire 'masters of the field'. someone who takes the time to become a master in a field expects a generous income; one that already struggling school systems cannot afford. experience isn't necessary. someone with a masters in engineering doesn't need to be teaching entry level java or pre calculus. a physicist isn't necessary to teach basic high school physics. someone with a broad teaching degree can understand the material and teach it effectively   \n",
       "649                                                                                                                                                                                                                                                                                                                                                                                                                                                                                                                                                                                                                                                                                                                                                                                                                                                             you don't give enough details, so i was hoping you could tell us which of these is going on:some administrators dislike 'cliques' in the negative sense i understand them: a group that walls itself off from the outside. by forcing students to go outside their walls and step outside their comfort zone, it really does help students understand their classmates better and grow as people. some administrators fear strong friend groups because those form an alternative to their power. if you can like trust good friends, then you can rely on them and that weakens teachers' power to control their students. since you say 'high school', can i assume it's the first? when i was in school, deliberately breaking up friendships was more an elementary school thing than high school, but is this still true?   \n",
       "654                                                                                                                                                                                                                                                                                                                                                                                                                                                                                                                                                                                                                                                                                                                                                                                                                                                                                                                                                                                                                                                                                                                                                                                              outside of it being a pretty basic violation of medical privacy, it simply isn't worth the cost. drug test are very expensive and you could help so many more families that need it with savings. also, should drug tests be mandatory for elected officials? should they be mandatory for all workers who receive any type of compensation from the government including employees and those awarded money in court ? anyone who does is receiving taxpayer money, so should they be tested?   \n",
       "668                                                                                                                                                                                                                                                                       so, in summation:assuming utopia, disprove utopia? ok, i'll give it a shot. religion: the human body is held to be sacred by most. experimentation violates this principle, regardless of consent. philosophically: aside from the fact that large scale consent cannot be guaranteed, experimentation dehumanises both those experimented on and those experimenting, reducing them entirely to objects. psychologically: anyone who consents to such treatment is likely mentally ill. moreover, such treatment would likely induce mental illness, so a persons consent would retroactively become void. consent is continuous. anthropologically: in certain cultures such as japan, people may feel culturally pressured to conform and consent en masse. sociologically: in america, those in prisons tend to be from ill treated groups along racial, ethnic and class lines. furthermore, there's the slippery slop argument to contend with, which in this case seems valid. scientifically: science and scientists have been struggling over the last few decades to dissociate themselves from past misdeeds and create robust ethical standards. your proposal would undermine that. lastly and most importantly, could people opt out while and experiment is ongoing? if not, then consent is irrelevant and your proposal is immoral. if so, then data is corrupted and your proposal is impractical.   \n",
       "741                                                                                                                                                                                                                                                                                                                                                                                                                                                                                                                                                                                                                                                                                                                                                                                                                                                                                i, personally, am happy to be married. even before me and my wife were married, we were basically living that way for years, living together, sharing income, ect. marriage is a complicated thing; it's two people agreeing to merge their lives, their income, their home, their well being, and to tie it to each other; in order for it to work, you have to care very much about the other person, and you have to work to make the pair of you succeed. and if you do, you're probably better off; there have been a number of studies showing that married people tend to be happier, healthier, and live longer then single people. it's true that it sometimes does end in divorce, but that doesn't mean the institution is flawed, it just means that not every pair of people can make it work.   \n",
       "751                                                                                                                                                                                                                                                                                                                                                                                                                                                                                                                                                                                                                                                                                                                                                                                                                                                                                   in the literal sense, punching someone back has not created a situation in which nobody was punched. i've never heard that argument used without the shared basic assumption that the initial act is intrinsically wrong i. e. 'punching is wrong' . arguing that two wrongs don't make a right supports that initial assumption. a punching b is bad because punching is wrong, so in order to say that b is not wrong in hitting a, you have to modify the initial assumption. you would then have to argue that punching is not inherently wrong and is only made so by certain circumstances. put more simply, if action a is intrinsically wrong, no amount of repetition will strip that inherent wrongness. if something wrong is made not wrong by another wrong, it is not intrinsically wrong.   \n",
       "756                                                                                                                                                                                                                                                                                                                                                                                                                                                                                                                                                                                                                                                                                                                                                                                                                                                                              pride itself requires a comparative evaluation of another person in order to make yourself feel better. it is essentially a feeling of superiority over another person. because of this, i believe that all pride is bad. however, it's great to be pleased with yourself and your accomplishments and have realistic evaluations of your own capabilities. it is the difference between feeling good about an accomplishment or yourself and feeling good because you believe that you are 'better' than someone else. pride in something that you have no control over is doubly problematic. it can only be false and has no basis in actual accomplishment. something a group does without your direct involvement should never be the basis for your own feelings of self worth. this can only be false.   \n",
       "925  i agree that the study is not fair, but the reasons are different from the ones you've given: homosexual couples adopting children achieve far better results in any of these studies because they face far more obstacles before adoption. they need to put in more effort, an effort you might not make if you aren't absolutely sure you want to have a child. homosexual parents are hand picked and therefor feature far less bad apples. comparing that group to heterosexuals having their own children is extremely unfair if you consider that about half of pregnancies are accidental. you're comparing a group of which almost everyone is 100 committed to their cause with a group where 50 didn't even choose that cause. even by comparing them to heterosexual couples that have also adopted, stability is still an issue. just as with marriage, homosexual couples are statistically more committed to take these steps when they take them. they're made aware of far more issues that affect both relationships equally than heterosexual couples, meaning they're likely to have put far more prior thought into said issues. i know quite a few married gay couples of which all are in no danger of separating, something i cannot say for the heterosexual couples i know. why? because all of the homosexual couples turned a stable relationship into a stable marriage, while quite a few of the heterosexual couples just shouldn't have gotten married at all. this will probably change in the future, when more and more of the affected people have grown up knowing they will be allowed to adopt and marry freely, no matter what sexual orientation.   \n",
       "\n",
       "                                                                    counter_conclusion  \\\n",
       "361                                    cyber bullying is a very real form of bullying.   \n",
       "371                                     the south had nothing to do with the civil war   \n",
       "404                                   It is not feasible to hire a master of the field   \n",
       "649                                                i think high school is a good thing   \n",
       "654                I don't think drug tests should be mandatory for elected officials.   \n",
       "668  the human body is sacred: experiment and large-scale consent cannot be guaranteed   \n",
       "741                                                   I think marriage is a good thing   \n",
       "751                             the argument \"two wrongs don't make a right\" is flawed   \n",
       "756                                                       I believe that pride is bad.   \n",
       "925                        i think comparing adoption to homosexual parents is unfair.   \n",
       "\n",
       "     rebuttal_prop  \n",
       "361             88  \n",
       "371             65  \n",
       "404             62  \n",
       "649             63  \n",
       "654             68  \n",
       "668             65  \n",
       "741             78  \n",
       "751             72  \n",
       "756             75  \n",
       "925             61  "
      ]
     },
     "execution_count": 64,
     "metadata": {},
     "output_type": "execute_result"
    }
   ],
   "source": [
    "train_df[train_df.rebuttal_prop > 60][['title', 'counter', 'counter_conclusion', 'rebuttal_prop']].head(n=10)"
   ]
  },
  {
   "cell_type": "code",
   "execution_count": 65,
   "metadata": {},
   "outputs": [
    {
     "name": "stdout",
     "output_type": "stream",
     "text": [
      "2310 Rebuttal cases of 25704\n"
     ]
    }
   ],
   "source": [
    "print('{} Rebuttal cases of {}'.format(len(train_df[train_df.rebuttal_prop > 60]), len(train_df)))"
   ]
  },
  {
   "cell_type": "markdown",
   "metadata": {},
   "source": [
    "--------"
   ]
  },
  {
   "cell_type": "code",
   "execution_count": 11,
   "metadata": {},
   "outputs": [],
   "source": [
    "#First save all the data without masking..\n",
    "train_df = df[df['split'] == 'train']\n",
    "dev_df   = df[df['split'] == 'val']\n",
    "test_df  = df[df['split'] == 'test']"
   ]
  },
  {
   "cell_type": "markdown",
   "metadata": {},
   "source": [
    "#### Prepare the data for training:\n",
    "- Choose top argumentative comments"
   ]
  },
  {
   "cell_type": "code",
   "execution_count": 4,
   "metadata": {},
   "outputs": [],
   "source": [
    "import torch\n",
    "\n",
    "device = torch.device('cuda') if torch.cuda.is_available() else torch.device('cpu')"
   ]
  },
  {
   "cell_type": "code",
   "execution_count": 13,
   "metadata": {},
   "outputs": [],
   "source": [
    "from transformers import BertForSequenceClassification, AutoTokenizer, TextClassificationPipeline\n",
    "\n",
    "#take top quality counter from the dataset!\n",
    "gretz_model = BertForSequenceClassification.from_pretrained('../../../data-ceph/arguana/arg-generation/argument-quality/argument-quality-model/checkpoint-9000', local_files_only=True, cache_dir='cache')\n",
    "tokenizer = AutoTokenizer.from_pretrained('bert-base-uncased', cache_dir='cache')\n",
    "\n",
    "arg_quality_pipeline = TextClassificationPipeline(model=gretz_model, tokenizer=tokenizer, framework='pt', task='ArgQ', device=0)"
   ]
  },
  {
   "cell_type": "code",
   "execution_count": 16,
   "metadata": {},
   "outputs": [],
   "source": [
    "def get_best_argumentative_comment(comments):    \n",
    "    comments = [' '.join(x) for x in comments]\n",
    "    # set the pipeline\n",
    "    results = arg_quality_pipeline(comments, truncation=True)\n",
    "    comments_scores = []\n",
    "    for result_dict in results:\n",
    "        comments_scores.append(result_dict['score'])\n",
    "    \n",
    "    comments = sorted(list(zip(comments, comments_scores)), key= lambda x: -x[1])\n",
    "    return comments[0][0]"
   ]
  },
  {
   "cell_type": "code",
   "execution_count": null,
   "metadata": {
    "scrolled": true,
    "tags": []
   },
   "outputs": [],
   "source": [
    "post_to_comments_df = train_df.groupby('post_id').agg({'counter': lambda x: list(x)}).reset_index()\n",
    "post_to_comments_df['best_comment'] = post_to_comments_df.counter.apply(lambda x: get_best_argumentative_comment(x))\n",
    "post_to_best_comment = pd.Series(post_to_comments_df.best_comment.values,index=post_to_comments_df.post_id).to_dict()"
   ]
  },
  {
   "cell_type": "code",
   "execution_count": null,
   "metadata": {},
   "outputs": [],
   "source": [
    "train_df['counter'] = train_df.post_id.apply(lambda x: post_to_best_comment[x]) #override the comments with the best one..."
   ]
  },
  {
   "cell_type": "code",
   "execution_count": null,
   "metadata": {},
   "outputs": [],
   "source": [
    "train_df.drop_duplicates('post_id').to_pickle('../../../data-ceph/arguana/arg-generation/multi-taks-counter-argument-generation/reddit_data/conclusion_and_ca_generation/preprocessed_train_conclusion_all.pkl')"
   ]
  },
  {
   "cell_type": "code",
   "execution_count": 18,
   "metadata": {},
   "outputs": [],
   "source": [
    "dev_df.to_pickle('../../../data-ceph/arguana/arg-generation/multi-taks-counter-argument-generation/reddit_data/conclusion_and_ca_generation/valid_conclusion_all.pkl')\n",
    "test_df.to_pickle('../../../data-ceph/arguana/arg-generation/multi-taks-counter-argument-generation/reddit_data/conclusion_and_ca_generation/test_conclusion_all.pkl')"
   ]
  },
  {
   "cell_type": "code",
   "execution_count": 20,
   "metadata": {},
   "outputs": [],
   "source": [
    "dev_df.drop_duplicates('post_id').sample(2000).to_pickle('../../../data-ceph/arguana/arg-generation/multi-taks-counter-argument-generation/reddit_data/conclusion_and_ca_generation/sample_valid_conclusion_all.pkl')\n",
    "test_df.drop_duplicates('post_id').sample(2000).to_pickle('../../../data-ceph/arguana/arg-generation/multi-taks-counter-argument-generation/reddit_data/conclusion_and_ca_generation/sample_test_conclusion_all.pkl')"
   ]
  }
 ],
 "metadata": {
  "kernelspec": {
   "display_name": "Python 3",
   "language": "python",
   "name": "python3"
  },
  "language_info": {
   "codemirror_mode": {
    "name": "ipython",
    "version": 3
   },
   "file_extension": ".py",
   "mimetype": "text/x-python",
   "name": "python",
   "nbconvert_exporter": "python",
   "pygments_lexer": "ipython3",
   "version": "3.6.9"
  }
 },
 "nbformat": 4,
 "nbformat_minor": 4
}
