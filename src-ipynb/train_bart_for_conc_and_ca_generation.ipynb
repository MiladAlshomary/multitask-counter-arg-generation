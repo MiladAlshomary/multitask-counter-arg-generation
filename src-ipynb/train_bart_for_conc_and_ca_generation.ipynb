{
 "cells": [
  {
   "cell_type": "markdown",
   "metadata": {},
   "source": [
    "### This notebook is to train BART model to generate the counter given a ground-truth/automatic conclusion"
   ]
  },
  {
   "cell_type": "code",
   "execution_count": 1,
   "metadata": {},
   "outputs": [],
   "source": [
    "import os\n",
    "os.environ[\"CUDA_DEVICE_ORDER\"]=\"PCI_BUS_ID\"   # see issue #152\n",
    "os.environ[\"CUDA_VISIBLE_DEVICES\"]=\"1\""
   ]
  },
  {
   "cell_type": "code",
   "execution_count": 2,
   "metadata": {},
   "outputs": [
    {
     "name": "stdout",
     "output_type": "stream",
     "text": [
      "Running on transformers v4.9.1 and datasets v1.10.2\n"
     ]
    }
   ],
   "source": [
    "import transformers\n",
    "import datasets\n",
    "\n",
    "print(f\"Running on transformers v{transformers.__version__} and datasets v{datasets.__version__}\")"
   ]
  },
  {
   "cell_type": "code",
   "execution_count": 3,
   "metadata": {},
   "outputs": [],
   "source": [
    "import torch\n",
    "import json\n",
    "\n",
    "import nltk\n",
    "import numpy as np\n",
    "import pandas as pd\n",
    "\n",
    "from pathlib import Path\n",
    "from datasets import load_dataset, load_metric, Dataset\n",
    "\n",
    "from transformers import AutoModelForSeq2SeqLM, DataCollatorForSeq2Seq, Seq2SeqTrainingArguments, Seq2SeqTrainer\n",
    "from transformers import BartTokenizer, BartForConditionalGeneration"
   ]
  },
  {
   "cell_type": "code",
   "execution_count": 4,
   "metadata": {},
   "outputs": [],
   "source": [
    "train_ds = Dataset.from_pandas(pd.read_pickle('../data/train_conclusion_comp_remove_50perc.pkl'))\n",
    "valid_ds = Dataset.from_pandas(pd.read_pickle('../data/valid_conclusion_comp_remove_50perc.pkl'))"
   ]
  },
  {
   "cell_type": "code",
   "execution_count": 5,
   "metadata": {},
   "outputs": [],
   "source": [
    "max_input_length = 512\n",
    "max_target_length = 200\n",
    "\n",
    "rouge_metric = load_metric(\"rouge\")\n",
    "bertscore_metric = load_metric('bertscore')\n",
    "\n",
    "def preprocess_function(examples, input_clm, output_clm):\n",
    "    text_inputs = examples[input_clm]\n",
    "    text_outputs = examples[output_clm]\n",
    "    \n",
    "    if isinstance(text_inputs[0], list):\n",
    "        text_inputs = [' '.join(x) for x in text_inputs]\n",
    "    \n",
    "    model_inputs = tokenizer(text_inputs, max_length=max_input_length, truncation=True)\n",
    "    \n",
    "    \n",
    "    if isinstance(text_outputs[0], list):\n",
    "        text_outputs = [' '.join(x) for x in text_outputs]\n",
    "        \n",
    "    # Setup the tokenizer for targets\n",
    "    with tokenizer.as_target_tokenizer():\n",
    "        labels = tokenizer(text_outputs, max_length=max_target_length, truncation=True)\n",
    "\n",
    "    model_inputs[\"labels\"] = labels[\"input_ids\"]\n",
    "    return model_inputs\n",
    "\n",
    "def compute_metrics(eval_pred):\n",
    "    predictions, labels = eval_pred\n",
    "    decoded_preds = tokenizer.batch_decode(predictions, skip_special_tokens=True)\n",
    "    # Replace -100 in the labels as we can't decode them.\n",
    "    labels = np.where(labels != -100, labels, tokenizer.pad_token_id)\n",
    "    decoded_labels = tokenizer.batch_decode(labels, skip_special_tokens=True)\n",
    "    \n",
    "    # Rouge expects a newline after each sentence\n",
    "    decoded_preds = [\"\\n\".join(nltk.sent_tokenize(pred.strip())) for pred in decoded_preds]\n",
    "    decoded_labels = [\"\\n\".join(nltk.sent_tokenize(label.strip())) for label in decoded_labels]\n",
    "    \n",
    "    result = rouge_metric.compute(predictions=decoded_preds, references=decoded_labels, use_stemmer=True)\n",
    "    # Extract a few results\n",
    "    result = {key: value.mid.fmeasure * 100 for key, value in result.items()}\n",
    "    \n",
    "    # Add mean generated length\n",
    "    prediction_lens = [np.count_nonzero(pred != tokenizer.pad_token_id) for pred in predictions]\n",
    "    result[\"gen_len\"] = np.mean(prediction_lens)\n",
    "    \n",
    "    return {k: round(v, 4) for k, v in result.items()}"
   ]
  },
  {
   "cell_type": "code",
   "execution_count": 6,
   "metadata": {
    "scrolled": true,
    "tags": []
   },
   "outputs": [],
   "source": [
    "tokenizer = BartTokenizer.from_pretrained('facebook/bart-base')\n",
    "model = BartForConditionalGeneration.from_pretrained('facebook/bart-base')"
   ]
  },
  {
   "cell_type": "code",
   "execution_count": 43,
   "metadata": {},
   "outputs": [],
   "source": [
    "#downsample the training dataset\n",
    "tmp_ds = train_ds.train_test_split(0.1)\n",
    "train_ds = tmp_ds['test']"
   ]
  },
  {
   "cell_type": "code",
   "execution_count": 7,
   "metadata": {},
   "outputs": [
    {
     "data": {
      "text/plain": [
       "271923"
      ]
     },
     "execution_count": 7,
     "metadata": {},
     "output_type": "execute_result"
    }
   ],
   "source": [
    "len(train_ds)"
   ]
  },
  {
   "cell_type": "code",
   "execution_count": 8,
   "metadata": {},
   "outputs": [],
   "source": [
    "#downsample the valid dataset\n",
    "tmp_ds = valid_ds.train_test_split(0.01)\n",
    "valid_ds = tmp_ds['test']"
   ]
  },
  {
   "cell_type": "code",
   "execution_count": 9,
   "metadata": {},
   "outputs": [
    {
     "data": {
      "text/plain": [
       "1046"
      ]
     },
     "execution_count": 9,
     "metadata": {},
     "output_type": "execute_result"
    }
   ],
   "source": [
    "len(valid_ds)"
   ]
  },
  {
   "cell_type": "code",
   "execution_count": 10,
   "metadata": {},
   "outputs": [
    {
     "data": {
      "application/vnd.jupyter.widget-view+json": {
       "model_id": "38b6ec03a2d74f52aaf11731dda3df7d",
       "version_major": 2,
       "version_minor": 0
      },
      "text/plain": [
       "  0%|          | 0/272 [00:00<?, ?ba/s]"
      ]
     },
     "metadata": {},
     "output_type": "display_data"
    },
    {
     "data": {
      "application/vnd.jupyter.widget-view+json": {
       "model_id": "b68565572f73470bb5199d5016e2d743",
       "version_major": 2,
       "version_minor": 0
      },
      "text/plain": [
       "  0%|          | 0/2 [00:00<?, ?ba/s]"
      ]
     },
     "metadata": {},
     "output_type": "display_data"
    }
   ],
   "source": [
    "train_tokenized_premises_w_conc_ds = train_ds.map(lambda x :preprocess_function(x, 'premises_with_conclusion', 'counter'), batched=True)\n",
    "valid_tokenized_premises_w_conc_ds = valid_ds.map(lambda x :preprocess_function(x, 'premises_with_conclusion', 'counter'), batched=True)"
   ]
  },
  {
   "cell_type": "code",
   "execution_count": 11,
   "metadata": {},
   "outputs": [],
   "source": [
    "batch_size = 16\n",
    "args = Seq2SeqTrainingArguments(\n",
    "    \"../data/output/known-conclusion-bart-model\",\n",
    "    evaluation_strategy = \"epoch\",\n",
    "    learning_rate=2e-5,\n",
    "    per_device_train_batch_size=batch_size,\n",
    "    per_device_eval_batch_size=batch_size,\n",
    "    weight_decay=0.01,\n",
    "    save_total_limit=3,\n",
    "    num_train_epochs=1,\n",
    "    predict_with_generate=True\n",
    ")"
   ]
  },
  {
   "cell_type": "code",
   "execution_count": 12,
   "metadata": {},
   "outputs": [],
   "source": [
    "data_collator = DataCollatorForSeq2Seq(tokenizer, model=model)"
   ]
  },
  {
   "cell_type": "code",
   "execution_count": 13,
   "metadata": {},
   "outputs": [],
   "source": [
    "trainer = Seq2SeqTrainer(\n",
    "    model,\n",
    "    args,\n",
    "    train_dataset=train_tokenized_premises_w_conc_ds,\n",
    "    eval_dataset=valid_tokenized_premises_w_conc_ds,\n",
    "    data_collator=data_collator,\n",
    "    tokenizer=tokenizer,\n",
    "    compute_metrics=compute_metrics\n",
    ")"
   ]
  },
  {
   "cell_type": "code",
   "execution_count": 14,
   "metadata": {
    "scrolled": true,
    "tags": []
   },
   "outputs": [
    {
     "name": "stderr",
     "output_type": "stream",
     "text": [
      "The following columns in the training set  don't have a corresponding argument in `BartForConditionalGeneration.forward` and have been ignored: conclusions_in_argument, post, comment_id, n_sentences, num_cand_conc, post_id, title, counter, __index_level_0__, masked_premises, premises_with_conclusion, split.\n",
      "***** Running training *****\n",
      "  Num examples = 271923\n",
      "  Num Epochs = 1\n",
      "  Instantaneous batch size per device = 16\n",
      "  Total train batch size (w. parallel, distributed & accumulation) = 16\n",
      "  Gradient Accumulation steps = 1\n",
      "  Total optimization steps = 16996\n"
     ]
    },
    {
     "data": {
      "text/html": [
       "\n",
       "    <div>\n",
       "      \n",
       "      <progress value='16996' max='16996' style='width:300px; height:20px; vertical-align: middle;'></progress>\n",
       "      [16996/16996 46:44, Epoch 1/1]\n",
       "    </div>\n",
       "    <table border=\"1\" class=\"dataframe\">\n",
       "  <thead>\n",
       "    <tr style=\"text-align: left;\">\n",
       "      <th>Epoch</th>\n",
       "      <th>Training Loss</th>\n",
       "      <th>Validation Loss</th>\n",
       "      <th>Rouge1</th>\n",
       "      <th>Rouge2</th>\n",
       "      <th>Rougel</th>\n",
       "      <th>Rougelsum</th>\n",
       "      <th>Gen Len</th>\n",
       "    </tr>\n",
       "  </thead>\n",
       "  <tbody>\n",
       "    <tr>\n",
       "      <td>1</td>\n",
       "      <td>3.543500</td>\n",
       "      <td>3.346712</td>\n",
       "      <td>12.623100</td>\n",
       "      <td>2.248500</td>\n",
       "      <td>9.312900</td>\n",
       "      <td>11.168400</td>\n",
       "      <td>19.882400</td>\n",
       "    </tr>\n",
       "  </tbody>\n",
       "</table><p>"
      ],
      "text/plain": [
       "<IPython.core.display.HTML object>"
      ]
     },
     "metadata": {},
     "output_type": "display_data"
    },
    {
     "name": "stderr",
     "output_type": "stream",
     "text": [
      "Saving model checkpoint to ../data/output/known-conclusion-bart-model/checkpoint-500\n",
      "Configuration saved in ../data/output/known-conclusion-bart-model/checkpoint-500/config.json\n",
      "Model weights saved in ../data/output/known-conclusion-bart-model/checkpoint-500/pytorch_model.bin\n",
      "tokenizer config file saved in ../data/output/known-conclusion-bart-model/checkpoint-500/tokenizer_config.json\n",
      "Special tokens file saved in ../data/output/known-conclusion-bart-model/checkpoint-500/special_tokens_map.json\n",
      "Deleting older checkpoint [../data/output/known-conclusion-bart-model/checkpoint-26500] due to args.save_total_limit\n",
      "Saving model checkpoint to ../data/output/known-conclusion-bart-model/checkpoint-1000\n",
      "Configuration saved in ../data/output/known-conclusion-bart-model/checkpoint-1000/config.json\n",
      "Model weights saved in ../data/output/known-conclusion-bart-model/checkpoint-1000/pytorch_model.bin\n",
      "tokenizer config file saved in ../data/output/known-conclusion-bart-model/checkpoint-1000/tokenizer_config.json\n",
      "Special tokens file saved in ../data/output/known-conclusion-bart-model/checkpoint-1000/special_tokens_map.json\n",
      "Deleting older checkpoint [../data/output/known-conclusion-bart-model/checkpoint-27000] due to args.save_total_limit\n",
      "Saving model checkpoint to ../data/output/known-conclusion-bart-model/checkpoint-1500\n",
      "Configuration saved in ../data/output/known-conclusion-bart-model/checkpoint-1500/config.json\n",
      "Model weights saved in ../data/output/known-conclusion-bart-model/checkpoint-1500/pytorch_model.bin\n",
      "tokenizer config file saved in ../data/output/known-conclusion-bart-model/checkpoint-1500/tokenizer_config.json\n",
      "Special tokens file saved in ../data/output/known-conclusion-bart-model/checkpoint-1500/special_tokens_map.json\n",
      "Deleting older checkpoint [../data/output/known-conclusion-bart-model/checkpoint-27500] due to args.save_total_limit\n",
      "Saving model checkpoint to ../data/output/known-conclusion-bart-model/checkpoint-2000\n",
      "Configuration saved in ../data/output/known-conclusion-bart-model/checkpoint-2000/config.json\n",
      "Model weights saved in ../data/output/known-conclusion-bart-model/checkpoint-2000/pytorch_model.bin\n",
      "tokenizer config file saved in ../data/output/known-conclusion-bart-model/checkpoint-2000/tokenizer_config.json\n",
      "Special tokens file saved in ../data/output/known-conclusion-bart-model/checkpoint-2000/special_tokens_map.json\n",
      "Deleting older checkpoint [../data/output/known-conclusion-bart-model/checkpoint-500] due to args.save_total_limit\n",
      "Saving model checkpoint to ../data/output/known-conclusion-bart-model/checkpoint-2500\n",
      "Configuration saved in ../data/output/known-conclusion-bart-model/checkpoint-2500/config.json\n",
      "Model weights saved in ../data/output/known-conclusion-bart-model/checkpoint-2500/pytorch_model.bin\n",
      "tokenizer config file saved in ../data/output/known-conclusion-bart-model/checkpoint-2500/tokenizer_config.json\n",
      "Special tokens file saved in ../data/output/known-conclusion-bart-model/checkpoint-2500/special_tokens_map.json\n",
      "Deleting older checkpoint [../data/output/known-conclusion-bart-model/checkpoint-1000] due to args.save_total_limit\n",
      "Saving model checkpoint to ../data/output/known-conclusion-bart-model/checkpoint-3000\n",
      "Configuration saved in ../data/output/known-conclusion-bart-model/checkpoint-3000/config.json\n",
      "Model weights saved in ../data/output/known-conclusion-bart-model/checkpoint-3000/pytorch_model.bin\n",
      "tokenizer config file saved in ../data/output/known-conclusion-bart-model/checkpoint-3000/tokenizer_config.json\n",
      "Special tokens file saved in ../data/output/known-conclusion-bart-model/checkpoint-3000/special_tokens_map.json\n",
      "Deleting older checkpoint [../data/output/known-conclusion-bart-model/checkpoint-1500] due to args.save_total_limit\n",
      "Saving model checkpoint to ../data/output/known-conclusion-bart-model/checkpoint-3500\n",
      "Configuration saved in ../data/output/known-conclusion-bart-model/checkpoint-3500/config.json\n",
      "Model weights saved in ../data/output/known-conclusion-bart-model/checkpoint-3500/pytorch_model.bin\n",
      "tokenizer config file saved in ../data/output/known-conclusion-bart-model/checkpoint-3500/tokenizer_config.json\n",
      "Special tokens file saved in ../data/output/known-conclusion-bart-model/checkpoint-3500/special_tokens_map.json\n",
      "Deleting older checkpoint [../data/output/known-conclusion-bart-model/checkpoint-2000] due to args.save_total_limit\n",
      "Saving model checkpoint to ../data/output/known-conclusion-bart-model/checkpoint-4000\n",
      "Configuration saved in ../data/output/known-conclusion-bart-model/checkpoint-4000/config.json\n",
      "Model weights saved in ../data/output/known-conclusion-bart-model/checkpoint-4000/pytorch_model.bin\n",
      "tokenizer config file saved in ../data/output/known-conclusion-bart-model/checkpoint-4000/tokenizer_config.json\n",
      "Special tokens file saved in ../data/output/known-conclusion-bart-model/checkpoint-4000/special_tokens_map.json\n",
      "Deleting older checkpoint [../data/output/known-conclusion-bart-model/checkpoint-2500] due to args.save_total_limit\n",
      "Saving model checkpoint to ../data/output/known-conclusion-bart-model/checkpoint-4500\n",
      "Configuration saved in ../data/output/known-conclusion-bart-model/checkpoint-4500/config.json\n",
      "Model weights saved in ../data/output/known-conclusion-bart-model/checkpoint-4500/pytorch_model.bin\n",
      "tokenizer config file saved in ../data/output/known-conclusion-bart-model/checkpoint-4500/tokenizer_config.json\n",
      "Special tokens file saved in ../data/output/known-conclusion-bart-model/checkpoint-4500/special_tokens_map.json\n",
      "Deleting older checkpoint [../data/output/known-conclusion-bart-model/checkpoint-3000] due to args.save_total_limit\n",
      "Saving model checkpoint to ../data/output/known-conclusion-bart-model/checkpoint-5000\n",
      "Configuration saved in ../data/output/known-conclusion-bart-model/checkpoint-5000/config.json\n",
      "Model weights saved in ../data/output/known-conclusion-bart-model/checkpoint-5000/pytorch_model.bin\n",
      "tokenizer config file saved in ../data/output/known-conclusion-bart-model/checkpoint-5000/tokenizer_config.json\n",
      "Special tokens file saved in ../data/output/known-conclusion-bart-model/checkpoint-5000/special_tokens_map.json\n",
      "Deleting older checkpoint [../data/output/known-conclusion-bart-model/checkpoint-3500] due to args.save_total_limit\n",
      "Saving model checkpoint to ../data/output/known-conclusion-bart-model/checkpoint-5500\n",
      "Configuration saved in ../data/output/known-conclusion-bart-model/checkpoint-5500/config.json\n",
      "Model weights saved in ../data/output/known-conclusion-bart-model/checkpoint-5500/pytorch_model.bin\n",
      "tokenizer config file saved in ../data/output/known-conclusion-bart-model/checkpoint-5500/tokenizer_config.json\n",
      "Special tokens file saved in ../data/output/known-conclusion-bart-model/checkpoint-5500/special_tokens_map.json\n",
      "Deleting older checkpoint [../data/output/known-conclusion-bart-model/checkpoint-4000] due to args.save_total_limit\n",
      "Saving model checkpoint to ../data/output/known-conclusion-bart-model/checkpoint-6000\n",
      "Configuration saved in ../data/output/known-conclusion-bart-model/checkpoint-6000/config.json\n",
      "Model weights saved in ../data/output/known-conclusion-bart-model/checkpoint-6000/pytorch_model.bin\n",
      "tokenizer config file saved in ../data/output/known-conclusion-bart-model/checkpoint-6000/tokenizer_config.json\n",
      "Special tokens file saved in ../data/output/known-conclusion-bart-model/checkpoint-6000/special_tokens_map.json\n",
      "Deleting older checkpoint [../data/output/known-conclusion-bart-model/checkpoint-4500] due to args.save_total_limit\n",
      "Saving model checkpoint to ../data/output/known-conclusion-bart-model/checkpoint-6500\n",
      "Configuration saved in ../data/output/known-conclusion-bart-model/checkpoint-6500/config.json\n",
      "Model weights saved in ../data/output/known-conclusion-bart-model/checkpoint-6500/pytorch_model.bin\n",
      "tokenizer config file saved in ../data/output/known-conclusion-bart-model/checkpoint-6500/tokenizer_config.json\n",
      "Special tokens file saved in ../data/output/known-conclusion-bart-model/checkpoint-6500/special_tokens_map.json\n",
      "Deleting older checkpoint [../data/output/known-conclusion-bart-model/checkpoint-5000] due to args.save_total_limit\n",
      "Saving model checkpoint to ../data/output/known-conclusion-bart-model/checkpoint-7000\n",
      "Configuration saved in ../data/output/known-conclusion-bart-model/checkpoint-7000/config.json\n",
      "Model weights saved in ../data/output/known-conclusion-bart-model/checkpoint-7000/pytorch_model.bin\n",
      "tokenizer config file saved in ../data/output/known-conclusion-bart-model/checkpoint-7000/tokenizer_config.json\n",
      "Special tokens file saved in ../data/output/known-conclusion-bart-model/checkpoint-7000/special_tokens_map.json\n",
      "Deleting older checkpoint [../data/output/known-conclusion-bart-model/checkpoint-5500] due to args.save_total_limit\n",
      "Saving model checkpoint to ../data/output/known-conclusion-bart-model/checkpoint-7500\n",
      "Configuration saved in ../data/output/known-conclusion-bart-model/checkpoint-7500/config.json\n",
      "Model weights saved in ../data/output/known-conclusion-bart-model/checkpoint-7500/pytorch_model.bin\n",
      "tokenizer config file saved in ../data/output/known-conclusion-bart-model/checkpoint-7500/tokenizer_config.json\n",
      "Special tokens file saved in ../data/output/known-conclusion-bart-model/checkpoint-7500/special_tokens_map.json\n",
      "Deleting older checkpoint [../data/output/known-conclusion-bart-model/checkpoint-6000] due to args.save_total_limit\n",
      "Saving model checkpoint to ../data/output/known-conclusion-bart-model/checkpoint-8000\n",
      "Configuration saved in ../data/output/known-conclusion-bart-model/checkpoint-8000/config.json\n",
      "Model weights saved in ../data/output/known-conclusion-bart-model/checkpoint-8000/pytorch_model.bin\n",
      "tokenizer config file saved in ../data/output/known-conclusion-bart-model/checkpoint-8000/tokenizer_config.json\n",
      "Special tokens file saved in ../data/output/known-conclusion-bart-model/checkpoint-8000/special_tokens_map.json\n",
      "Deleting older checkpoint [../data/output/known-conclusion-bart-model/checkpoint-6500] due to args.save_total_limit\n",
      "Saving model checkpoint to ../data/output/known-conclusion-bart-model/checkpoint-8500\n",
      "Configuration saved in ../data/output/known-conclusion-bart-model/checkpoint-8500/config.json\n",
      "Model weights saved in ../data/output/known-conclusion-bart-model/checkpoint-8500/pytorch_model.bin\n",
      "tokenizer config file saved in ../data/output/known-conclusion-bart-model/checkpoint-8500/tokenizer_config.json\n",
      "Special tokens file saved in ../data/output/known-conclusion-bart-model/checkpoint-8500/special_tokens_map.json\n",
      "Deleting older checkpoint [../data/output/known-conclusion-bart-model/checkpoint-7000] due to args.save_total_limit\n",
      "Saving model checkpoint to ../data/output/known-conclusion-bart-model/checkpoint-9000\n",
      "Configuration saved in ../data/output/known-conclusion-bart-model/checkpoint-9000/config.json\n",
      "Model weights saved in ../data/output/known-conclusion-bart-model/checkpoint-9000/pytorch_model.bin\n",
      "tokenizer config file saved in ../data/output/known-conclusion-bart-model/checkpoint-9000/tokenizer_config.json\n",
      "Special tokens file saved in ../data/output/known-conclusion-bart-model/checkpoint-9000/special_tokens_map.json\n",
      "Deleting older checkpoint [../data/output/known-conclusion-bart-model/checkpoint-7500] due to args.save_total_limit\n",
      "Saving model checkpoint to ../data/output/known-conclusion-bart-model/checkpoint-9500\n",
      "Configuration saved in ../data/output/known-conclusion-bart-model/checkpoint-9500/config.json\n",
      "Model weights saved in ../data/output/known-conclusion-bart-model/checkpoint-9500/pytorch_model.bin\n",
      "tokenizer config file saved in ../data/output/known-conclusion-bart-model/checkpoint-9500/tokenizer_config.json\n",
      "Special tokens file saved in ../data/output/known-conclusion-bart-model/checkpoint-9500/special_tokens_map.json\n",
      "Deleting older checkpoint [../data/output/known-conclusion-bart-model/checkpoint-8000] due to args.save_total_limit\n",
      "Saving model checkpoint to ../data/output/known-conclusion-bart-model/checkpoint-10000\n",
      "Configuration saved in ../data/output/known-conclusion-bart-model/checkpoint-10000/config.json\n",
      "Model weights saved in ../data/output/known-conclusion-bart-model/checkpoint-10000/pytorch_model.bin\n",
      "tokenizer config file saved in ../data/output/known-conclusion-bart-model/checkpoint-10000/tokenizer_config.json\n",
      "Special tokens file saved in ../data/output/known-conclusion-bart-model/checkpoint-10000/special_tokens_map.json\n",
      "Deleting older checkpoint [../data/output/known-conclusion-bart-model/checkpoint-8500] due to args.save_total_limit\n",
      "Saving model checkpoint to ../data/output/known-conclusion-bart-model/checkpoint-10500\n",
      "Configuration saved in ../data/output/known-conclusion-bart-model/checkpoint-10500/config.json\n",
      "Model weights saved in ../data/output/known-conclusion-bart-model/checkpoint-10500/pytorch_model.bin\n",
      "tokenizer config file saved in ../data/output/known-conclusion-bart-model/checkpoint-10500/tokenizer_config.json\n",
      "Special tokens file saved in ../data/output/known-conclusion-bart-model/checkpoint-10500/special_tokens_map.json\n",
      "Deleting older checkpoint [../data/output/known-conclusion-bart-model/checkpoint-9000] due to args.save_total_limit\n",
      "Saving model checkpoint to ../data/output/known-conclusion-bart-model/checkpoint-11000\n",
      "Configuration saved in ../data/output/known-conclusion-bart-model/checkpoint-11000/config.json\n",
      "Model weights saved in ../data/output/known-conclusion-bart-model/checkpoint-11000/pytorch_model.bin\n",
      "tokenizer config file saved in ../data/output/known-conclusion-bart-model/checkpoint-11000/tokenizer_config.json\n",
      "Special tokens file saved in ../data/output/known-conclusion-bart-model/checkpoint-11000/special_tokens_map.json\n",
      "Deleting older checkpoint [../data/output/known-conclusion-bart-model/checkpoint-9500] due to args.save_total_limit\n",
      "Saving model checkpoint to ../data/output/known-conclusion-bart-model/checkpoint-11500\n",
      "Configuration saved in ../data/output/known-conclusion-bart-model/checkpoint-11500/config.json\n",
      "Model weights saved in ../data/output/known-conclusion-bart-model/checkpoint-11500/pytorch_model.bin\n",
      "tokenizer config file saved in ../data/output/known-conclusion-bart-model/checkpoint-11500/tokenizer_config.json\n",
      "Special tokens file saved in ../data/output/known-conclusion-bart-model/checkpoint-11500/special_tokens_map.json\n",
      "Deleting older checkpoint [../data/output/known-conclusion-bart-model/checkpoint-10000] due to args.save_total_limit\n",
      "Saving model checkpoint to ../data/output/known-conclusion-bart-model/checkpoint-12000\n",
      "Configuration saved in ../data/output/known-conclusion-bart-model/checkpoint-12000/config.json\n",
      "Model weights saved in ../data/output/known-conclusion-bart-model/checkpoint-12000/pytorch_model.bin\n",
      "tokenizer config file saved in ../data/output/known-conclusion-bart-model/checkpoint-12000/tokenizer_config.json\n",
      "Special tokens file saved in ../data/output/known-conclusion-bart-model/checkpoint-12000/special_tokens_map.json\n",
      "Deleting older checkpoint [../data/output/known-conclusion-bart-model/checkpoint-10500] due to args.save_total_limit\n",
      "Saving model checkpoint to ../data/output/known-conclusion-bart-model/checkpoint-12500\n",
      "Configuration saved in ../data/output/known-conclusion-bart-model/checkpoint-12500/config.json\n",
      "Model weights saved in ../data/output/known-conclusion-bart-model/checkpoint-12500/pytorch_model.bin\n",
      "tokenizer config file saved in ../data/output/known-conclusion-bart-model/checkpoint-12500/tokenizer_config.json\n",
      "Special tokens file saved in ../data/output/known-conclusion-bart-model/checkpoint-12500/special_tokens_map.json\n",
      "Deleting older checkpoint [../data/output/known-conclusion-bart-model/checkpoint-11000] due to args.save_total_limit\n",
      "Saving model checkpoint to ../data/output/known-conclusion-bart-model/checkpoint-13000\n",
      "Configuration saved in ../data/output/known-conclusion-bart-model/checkpoint-13000/config.json\n",
      "Model weights saved in ../data/output/known-conclusion-bart-model/checkpoint-13000/pytorch_model.bin\n",
      "tokenizer config file saved in ../data/output/known-conclusion-bart-model/checkpoint-13000/tokenizer_config.json\n",
      "Special tokens file saved in ../data/output/known-conclusion-bart-model/checkpoint-13000/special_tokens_map.json\n",
      "Deleting older checkpoint [../data/output/known-conclusion-bart-model/checkpoint-11500] due to args.save_total_limit\n",
      "Saving model checkpoint to ../data/output/known-conclusion-bart-model/checkpoint-13500\n",
      "Configuration saved in ../data/output/known-conclusion-bart-model/checkpoint-13500/config.json\n",
      "Model weights saved in ../data/output/known-conclusion-bart-model/checkpoint-13500/pytorch_model.bin\n",
      "tokenizer config file saved in ../data/output/known-conclusion-bart-model/checkpoint-13500/tokenizer_config.json\n",
      "Special tokens file saved in ../data/output/known-conclusion-bart-model/checkpoint-13500/special_tokens_map.json\n",
      "Deleting older checkpoint [../data/output/known-conclusion-bart-model/checkpoint-12000] due to args.save_total_limit\n",
      "Saving model checkpoint to ../data/output/known-conclusion-bart-model/checkpoint-14000\n",
      "Configuration saved in ../data/output/known-conclusion-bart-model/checkpoint-14000/config.json\n",
      "Model weights saved in ../data/output/known-conclusion-bart-model/checkpoint-14000/pytorch_model.bin\n",
      "tokenizer config file saved in ../data/output/known-conclusion-bart-model/checkpoint-14000/tokenizer_config.json\n",
      "Special tokens file saved in ../data/output/known-conclusion-bart-model/checkpoint-14000/special_tokens_map.json\n",
      "Deleting older checkpoint [../data/output/known-conclusion-bart-model/checkpoint-12500] due to args.save_total_limit\n",
      "Saving model checkpoint to ../data/output/known-conclusion-bart-model/checkpoint-14500\n",
      "Configuration saved in ../data/output/known-conclusion-bart-model/checkpoint-14500/config.json\n",
      "Model weights saved in ../data/output/known-conclusion-bart-model/checkpoint-14500/pytorch_model.bin\n",
      "tokenizer config file saved in ../data/output/known-conclusion-bart-model/checkpoint-14500/tokenizer_config.json\n",
      "Special tokens file saved in ../data/output/known-conclusion-bart-model/checkpoint-14500/special_tokens_map.json\n",
      "Deleting older checkpoint [../data/output/known-conclusion-bart-model/checkpoint-13000] due to args.save_total_limit\n",
      "Saving model checkpoint to ../data/output/known-conclusion-bart-model/checkpoint-15000\n",
      "Configuration saved in ../data/output/known-conclusion-bart-model/checkpoint-15000/config.json\n",
      "Model weights saved in ../data/output/known-conclusion-bart-model/checkpoint-15000/pytorch_model.bin\n",
      "tokenizer config file saved in ../data/output/known-conclusion-bart-model/checkpoint-15000/tokenizer_config.json\n",
      "Special tokens file saved in ../data/output/known-conclusion-bart-model/checkpoint-15000/special_tokens_map.json\n",
      "Deleting older checkpoint [../data/output/known-conclusion-bart-model/checkpoint-13500] due to args.save_total_limit\n",
      "Saving model checkpoint to ../data/output/known-conclusion-bart-model/checkpoint-15500\n",
      "Configuration saved in ../data/output/known-conclusion-bart-model/checkpoint-15500/config.json\n",
      "Model weights saved in ../data/output/known-conclusion-bart-model/checkpoint-15500/pytorch_model.bin\n",
      "tokenizer config file saved in ../data/output/known-conclusion-bart-model/checkpoint-15500/tokenizer_config.json\n",
      "Special tokens file saved in ../data/output/known-conclusion-bart-model/checkpoint-15500/special_tokens_map.json\n",
      "Deleting older checkpoint [../data/output/known-conclusion-bart-model/checkpoint-14000] due to args.save_total_limit\n",
      "Saving model checkpoint to ../data/output/known-conclusion-bart-model/checkpoint-16000\n",
      "Configuration saved in ../data/output/known-conclusion-bart-model/checkpoint-16000/config.json\n",
      "Model weights saved in ../data/output/known-conclusion-bart-model/checkpoint-16000/pytorch_model.bin\n",
      "tokenizer config file saved in ../data/output/known-conclusion-bart-model/checkpoint-16000/tokenizer_config.json\n",
      "Special tokens file saved in ../data/output/known-conclusion-bart-model/checkpoint-16000/special_tokens_map.json\n",
      "Deleting older checkpoint [../data/output/known-conclusion-bart-model/checkpoint-14500] due to args.save_total_limit\n",
      "Saving model checkpoint to ../data/output/known-conclusion-bart-model/checkpoint-16500\n",
      "Configuration saved in ../data/output/known-conclusion-bart-model/checkpoint-16500/config.json\n",
      "Model weights saved in ../data/output/known-conclusion-bart-model/checkpoint-16500/pytorch_model.bin\n",
      "tokenizer config file saved in ../data/output/known-conclusion-bart-model/checkpoint-16500/tokenizer_config.json\n",
      "Special tokens file saved in ../data/output/known-conclusion-bart-model/checkpoint-16500/special_tokens_map.json\n",
      "Deleting older checkpoint [../data/output/known-conclusion-bart-model/checkpoint-15000] due to args.save_total_limit\n",
      "The following columns in the evaluation set  don't have a corresponding argument in `BartForConditionalGeneration.forward` and have been ignored: conclusions_in_argument, post, comment_id, n_sentences, num_cand_conc, post_id, title, counter, __index_level_0__, masked_premises, premises_with_conclusion, split.\n",
      "***** Running Evaluation *****\n",
      "  Num examples = 1046\n",
      "  Batch size = 16\n",
      "/usr/local/lib/python3.6/dist-packages/torch/_tensor.py:575: UserWarning: floor_divide is deprecated, and will be removed in a future version of pytorch. It currently rounds toward 0 (like the 'trunc' function NOT 'floor'). This results in incorrect rounding for negative values.\n",
      "To keep the current behavior, use torch.div(a, b, rounding_mode='trunc'), or for actual floor division, use torch.div(a, b, rounding_mode='floor'). (Triggered internally at  /pytorch/aten/src/ATen/native/BinaryOps.cpp:467.)\n",
      "  return torch.floor_divide(self, other)\n",
      "\n",
      "\n",
      "Training completed. Do not forget to share your model on huggingface.co/models =)\n",
      "\n",
      "\n"
     ]
    },
    {
     "data": {
      "text/plain": [
       "TrainOutput(global_step=16996, training_loss=3.6040863446500278, metrics={'train_runtime': 2805.1905, 'train_samples_per_second': 96.936, 'train_steps_per_second': 6.059, 'total_flos': 1.151809377997824e+17, 'train_loss': 3.6040863446500278, 'epoch': 1.0})"
      ]
     },
     "execution_count": 14,
     "metadata": {},
     "output_type": "execute_result"
    }
   ],
   "source": [
    "trainer.train()"
   ]
  },
  {
   "cell_type": "code",
   "execution_count": 73,
   "metadata": {},
   "outputs": [
    {
     "name": "stderr",
     "output_type": "stream",
     "text": [
      "The following columns in the evaluation set  don't have a corresponding argument in `BartForConditionalGeneration.forward` and have been ignored: counter, conclusions_in_argument, __index_level_0__, weak_premises, masked_premises, premises_with_conclusion, premises, conclusion.\n",
      "***** Running Evaluation *****\n",
      "  Num examples = 898\n",
      "  Batch size = 2\n"
     ]
    },
    {
     "data": {
      "text/html": [
       "\n",
       "    <div>\n",
       "      \n",
       "      <progress value='449' max='449' style='width:300px; height:20px; vertical-align: middle;'></progress>\n",
       "      [449/449 01:17]\n",
       "    </div>\n",
       "    "
      ],
      "text/plain": [
       "<IPython.core.display.HTML object>"
      ]
     },
     "metadata": {},
     "output_type": "display_data"
    },
    {
     "data": {
      "text/plain": [
       "{'eval_loss': 2.9925241470336914,\n",
       " 'eval_rouge1': 11.3275,\n",
       " 'eval_rouge2': 1.6403,\n",
       " 'eval_rougeL': 8.6976,\n",
       " 'eval_rougeLsum': 10.1471,\n",
       " 'eval_gen_len': 18.3552,\n",
       " 'eval_runtime': 83.7533,\n",
       " 'eval_samples_per_second': 10.722,\n",
       " 'eval_steps_per_second': 5.361,\n",
       " 'epoch': 3.0}"
      ]
     },
     "execution_count": 73,
     "metadata": {},
     "output_type": "execute_result"
    }
   ],
   "source": [
    "trainer.evaluate()"
   ]
  }
 ],
 "metadata": {
  "kernelspec": {
   "display_name": "Python 3",
   "language": "python",
   "name": "python3"
  },
  "language_info": {
   "codemirror_mode": {
    "name": "ipython",
    "version": 3
   },
   "file_extension": ".py",
   "mimetype": "text/x-python",
   "name": "python",
   "nbconvert_exporter": "python",
   "pygments_lexer": "ipython3",
   "version": "3.6.9"
  }
 },
 "nbformat": 4,
 "nbformat_minor": 4
}
