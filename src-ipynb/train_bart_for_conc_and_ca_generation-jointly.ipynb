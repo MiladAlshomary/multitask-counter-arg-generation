{
 "cells": [
  {
   "cell_type": "markdown",
   "metadata": {},
   "source": [
    "### This notebook is to jointly train BART-v2 model for both generating the conclusion and the counter"
   ]
  },
  {
   "cell_type": "code",
   "execution_count": 2,
   "metadata": {},
   "outputs": [],
   "source": [
    "import os\n",
    "import sys\n",
    "os.environ[\"CUDA_DEVICE_ORDER\"]=\"PCI_BUS_ID\"   # see issue #152\n",
    "os.environ[\"CUDA_VISIBLE_DEVICES\"]=\"1\""
   ]
  },
  {
   "cell_type": "code",
   "execution_count": 3,
   "metadata": {},
   "outputs": [],
   "source": [
    "sys.path.append('../src-py')"
   ]
  },
  {
   "cell_type": "code",
   "execution_count": 5,
   "metadata": {},
   "outputs": [
    {
     "name": "stdout",
     "output_type": "stream",
     "text": [
      "Running on transformers v4.9.1 and datasets v1.10.2\n"
     ]
    }
   ],
   "source": [
    "import transformers\n",
    "import datasets\n",
    "from mt_bart_v2 import *\n",
    "\n",
    "print(f\"Running on transformers v{transformers.__version__} and datasets v{datasets.__version__}\")"
   ]
  },
  {
   "cell_type": "code",
   "execution_count": 7,
   "metadata": {},
   "outputs": [],
   "source": [
    "import torch\n",
    "import json\n",
    "\n",
    "import nltk\n",
    "import numpy as np\n",
    "import pandas as pd\n",
    "\n",
    "from pathlib import Path\n",
    "from datasets import load_dataset, load_metric, Dataset\n",
    "\n",
    "from transformers import AutoModelForSeq2SeqLM, DataCollatorForSeq2Seq, Seq2SeqTrainingArguments, Seq2SeqTrainer\n",
    "from transformers import BartTokenizer, BartForConditionalGeneration"
   ]
  },
  {
   "cell_type": "code",
   "execution_count": 9,
   "metadata": {},
   "outputs": [],
   "source": [
    "data_fold = '../../../data-ceph/arguana/arg-generation/multi-taks-counter-argument-generation/'"
   ]
  },
  {
   "cell_type": "code",
   "execution_count": 10,
   "metadata": {},
   "outputs": [],
   "source": [
    "train_ds = Dataset.from_pandas(pd.read_pickle(data_fold+'/reddit_data/conclusion_and_ca_generation/train_conclusion_comp_remove_75sem_perc.pkl'))\n",
    "valid_ds = Dataset.from_pandas(pd.read_pickle(data_fold+'/reddit_data/conclusion_and_ca_generation/valid_conclusion_comp_remove_75sem_perc.pkl'))"
   ]
  },
  {
   "cell_type": "code",
   "execution_count": 32,
   "metadata": {},
   "outputs": [],
   "source": [
    "max_input_length = 512\n",
    "max_target_length = 200\n",
    "\n",
    "rouge_metric = load_metric(\"rouge\")\n",
    "bertscore_metric = load_metric('bertscore')\n",
    "\n",
    "#Encoding function for joint generation of conclusion and counter\n",
    "def preprocess_function(examples, tokenizer, premises_clm, counter_clm, conclusion_clm, max_input_length=512, max_conc_length=100, max_counter_length=200):\n",
    "    premises   = examples[premises_clm]\n",
    "    conclusions = examples[conclusion_clm]\n",
    "    counters = examples[counter_clm]\n",
    "    \n",
    "        \n",
    "    premises = [' '.join(x) for x in premises] if isinstance(premises[0], list) else premises\n",
    "    counters = [' '.join(x) for x in counters] if isinstance(counters[0], list) else counters\n",
    "    conclusions = [' '.join(x) for x in conclusions] if isinstance(conclusions[0], list) else conclusions\n",
    "    \n",
    "    model_inputs = tokenizer(premises, max_length=max_input_length, truncation=True, padding='max_length')\n",
    "        \n",
    "    # Setup the tokenizer for targets\n",
    "    with tokenizer.as_target_tokenizer():\n",
    "        counter_labels = tokenizer(counters, max_length=max_counter_length, truncation=True, padding='max_length')\n",
    "        conclusion_labels = tokenizer(conclusions, max_length=max_conc_length, truncation=True, padding='max_length')\n",
    "\n",
    "    #     print(text_inputs[0])\n",
    "    #     print(model_inputs['input_ids'][0])\n",
    "    #     print('-----------------')\n",
    "    #     print(text_outputs[0])\n",
    "    #     print(labels[\"input_ids\"][0])\n",
    "    \n",
    "    \n",
    "    model_inputs[\"conclusion_labels\"] = conclusion_labels[\"input_ids\"]\n",
    "    model_inputs[\"counter_labels\"] = counter_labels[\"input_ids\"]\n",
    "    model_inputs[\"counter_decoder_attention_mask\"] = counter_labels['attention_mask']\n",
    "    model_inputs[\"conclusion_decoder_attention_mask\"] = conclusion_labels['attention_mask']\n",
    "    \n",
    "    return model_inputs\n",
    "\n",
    "def compute_metrics(eval_pred, tokenizer):\n",
    "    predictions, labels = eval_pred\n",
    "    decoded_preds = tokenizer.batch_decode(predictions, skip_special_tokens=True)\n",
    "    # Replace -100 in the labels as we can't decode them.\n",
    "    labels = np.where(labels != -100, labels, tokenizer.pad_token_id)\n",
    "    decoded_labels = tokenizer.batch_decode(labels, skip_special_tokens=True)\n",
    "    \n",
    "    # Rouge expects a newline after each sentence\n",
    "    decoded_preds = [\"\\n\".join(nltk.sent_tokenize(pred.strip())) for pred in decoded_preds]\n",
    "    decoded_labels = [\"\\n\".join(nltk.sent_tokenize(label.strip())) for label in decoded_labels]\n",
    "    \n",
    "    result = rouge_metric.compute(predictions=decoded_preds, references=decoded_labels, use_stemmer=True)\n",
    "    # Extract a few results\n",
    "    result = {key: value.mid.fmeasure * 100 for key, value in result.items()}\n",
    "    \n",
    "    #compute BertScore bertscore_metric\n",
    "    bertscore_result = bertscore_metric.compute(predictions=decoded_preds, references=decoded_labels, lang='en', rescale_with_baseline=True)\n",
    "    result['bert-fscore'] = round(np.mean(bertscore_result['f1']), 2)"
   ]
  },
  {
   "cell_type": "code",
   "execution_count": 15,
   "metadata": {},
   "outputs": [],
   "source": [
    "# Input to the model should be:\n",
    "# input_ids: the encoded premises\n",
    "# attention_mask: the attention mask of the premises\n",
    "# conclusion_decoder_input_ids: the encoded conclusion\n",
    "# conclusion_decoder_attention_mask: the attention mask of the conclusion\n",
    "# counter_decoder_input_ids: the encoded counter\n",
    "# counter_decoder_attention_mask: the attention mask of the counter\n",
    "# conclusion_labels: this is the encoded conclusion again\n",
    "# counter_labels: this is the encoded counter again"
   ]
  },
  {
   "cell_type": "code",
   "execution_count": 11,
   "metadata": {
    "scrolled": true,
    "tags": []
   },
   "outputs": [
    {
     "name": "stderr",
     "output_type": "stream",
     "text": [
      "Some weights of BartModelV2 were not initialized from the model checkpoint at facebook/bart-base and are newly initialized: ['conclusion_decoder.layers.2.fc1.bias', 'conclusion_decoder.layers.0.encoder_attn_layer_norm.weight', 'conclusion_decoder.layers.2.encoder_attn.v_proj.bias', 'counter_decoder.layers.1.final_layer_norm.bias', 'conclusion_decoder.layers.0.self_attn.out_proj.weight', 'counter_decoder.layers.4.self_attn_layer_norm.bias', 'conclusion_decoder.layers.3.encoder_attn.out_proj.weight', 'counter_decoder.layers.3.fc1.weight', 'counter_decoder.layers.0.self_attn.out_proj.weight', 'counter_decoder.layers.4.encoder_attn_layer_norm.weight', 'conclusion_decoder.layers.2.self_attn.k_proj.bias', 'counter_decoder.layers.3.encoder_attn.q_proj.bias', 'counter_decoder.layers.1.self_attn.k_proj.bias', 'counter_decoder.layers.0.fc1.weight', 'conclusion_decoder.layers.5.self_attn.out_proj.weight', 'conclusion_decoder.layers.0.encoder_attn_layer_norm.bias', 'conclusion_decoder.layers.2.final_layer_norm.weight', 'conclusion_decoder.layers.0.self_attn.k_proj.bias', 'counter_decoder.layers.1.fc2.weight', 'conclusion_decoder.layers.0.self_attn.q_proj.bias', 'counter_decoder.layers.3.encoder_attn_layer_norm.weight', 'conclusion_decoder.layers.1.self_attn_layer_norm.bias', 'conclusion_decoder.layers.0.encoder_attn.q_proj.bias', 'counter_decoder.layers.0.self_attn.q_proj.weight', 'counter_decoder.layers.1.encoder_attn.k_proj.bias', 'counter_decoder.layers.2.fc2.weight', 'counter_decoder.layers.0.self_attn.out_proj.bias', 'conclusion_decoder.layers.5.self_attn_layer_norm.bias', 'counter_decoder.layers.3.self_attn_layer_norm.bias', 'counter_decoder.layers.3.encoder_attn.v_proj.weight', 'conclusion_decoder.layers.3.encoder_attn.k_proj.bias', 'conclusion_decoder.layers.1.encoder_attn.k_proj.weight', 'counter_decoder.layers.0.fc2.weight', 'conclusion_decoder.layers.5.final_layer_norm.bias', 'conclusion_decoder.layers.2.fc2.bias', 'counter_decoder.layers.3.encoder_attn.out_proj.weight', 'counter_decoder.layers.5.self_attn_layer_norm.weight', 'conclusion_decoder.layers.5.encoder_attn_layer_norm.bias', 'conclusion_decoder.layers.2.encoder_attn.v_proj.weight', 'conclusion_decoder.layers.5.fc1.bias', 'conclusion_decoder.layers.0.encoder_attn.out_proj.weight', 'conclusion_decoder.layers.3.encoder_attn.k_proj.weight', 'counter_decoder.layers.5.encoder_attn.out_proj.bias', 'conclusion_decoder.layers.3.self_attn.q_proj.bias', 'counter_decoder.layers.1.encoder_attn.out_proj.bias', 'counter_decoder.layers.0.encoder_attn.v_proj.weight', 'counter_decoder.layers.3.encoder_attn_layer_norm.bias', 'conclusion_decoder.layers.4.encoder_attn.v_proj.weight', 'conclusion_decoder.layers.0.encoder_attn.k_proj.bias', 'counter_decoder.layers.3.self_attn.q_proj.bias', 'conclusion_decoder.layers.0.final_layer_norm.weight', 'conclusion_decoder.layers.2.self_attn.k_proj.weight', 'counter_decoder.layers.2.self_attn_layer_norm.weight', 'counter_decoder.layers.1.self_attn.k_proj.weight', 'counter_decoder.layers.2.encoder_attn.v_proj.weight', 'counter_decoder.layers.3.self_attn.v_proj.weight', 'counter_decoder.layers.3.self_attn.k_proj.weight', 'conclusion_decoder.layers.2.encoder_attn.k_proj.weight', 'conclusion_decoder.layers.3.encoder_attn_layer_norm.bias', 'conclusion_decoder.layers.0.fc2.bias', 'conclusion_decoder.layers.3.self_attn.v_proj.weight', 'conclusion_decoder.layers.4.self_attn.k_proj.bias', 'conclusion_decoder.layers.2.encoder_attn.q_proj.bias', 'conclusion_decoder.layers.5.fc1.weight', 'conclusion_decoder.layers.4.self_attn.v_proj.weight', 'counter_decoder.layers.2.fc1.bias', 'conclusion_decoder.layers.0.encoder_attn.v_proj.weight', 'conclusion_decoder.embed_tokens.weight', 'conclusion_decoder.layers.5.encoder_attn.v_proj.weight', 'conclusion_decoder.layers.0.self_attn.k_proj.weight', 'counter_decoder.layers.3.self_attn_layer_norm.weight', 'conclusion_decoder.layers.5.self_attn.v_proj.weight', 'counter_decoder.layers.0.final_layer_norm.bias', 'counter_decoder.layers.1.fc1.weight', 'conclusion_decoder.layers.4.self_attn.v_proj.bias', 'counter_decoder.layers.1.self_attn.v_proj.weight', 'conclusion_decoder.layers.0.encoder_attn.k_proj.weight', 'conclusion_decoder.layers.1.final_layer_norm.bias', 'counter_decoder.layers.1.fc1.bias', 'conclusion_decoder.layers.0.encoder_attn.v_proj.bias', 'conclusion_decoder.layers.2.self_attn.out_proj.bias', 'conclusion_decoder.layers.2.self_attn.v_proj.bias', 'counter_decoder.layers.5.self_attn.out_proj.weight', 'counter_decoder.layers.3.final_layer_norm.bias', 'counter_decoder.layers.0.fc1.bias', 'conclusion_decoder.layers.4.self_attn.out_proj.bias', 'counter_decoder.layers.0.self_attn_layer_norm.weight', 'counter_decoder.layers.2.encoder_attn_layer_norm.weight', 'counter_decoder.layers.3.self_attn.q_proj.weight', 'counter_decoder.layers.2.self_attn.v_proj.bias', 'conclusion_decoder.layers.5.self_attn.out_proj.bias', 'conclusion_decoder.layers.4.fc2.weight', 'conclusion_decoder.embed_positions.weight', 'conclusion_decoder.layers.3.self_attn.k_proj.weight', 'counter_decoder.layers.4.fc1.weight', 'counter_decoder.layers.0.self_attn_layer_norm.bias', 'counter_decoder.layers.1.encoder_attn.v_proj.bias', 'counter_decoder.layers.0.encoder_attn_layer_norm.weight', 'conclusion_decoder.layers.3.fc1.weight', 'counter_decoder.layers.2.encoder_attn.q_proj.weight', 'counter_decoder.layers.4.final_layer_norm.weight', 'counter_decoder.layers.2.encoder_attn.q_proj.bias', 'counter_decoder.layers.1.self_attn_layer_norm.bias', 'conclusion_decoder.layernorm_embedding.bias', 'counter_decoder.layers.3.self_attn.k_proj.bias', 'counter_decoder.layers.2.fc2.bias', 'conclusion_decoder.layers.0.self_attn.v_proj.bias', 'counter_decoder.layers.0.encoder_attn.q_proj.weight', 'counter_decoder.layers.1.self_attn.q_proj.weight', 'counter_decoder.layers.4.self_attn_layer_norm.weight', 'conclusion_decoder.layers.5.self_attn.v_proj.bias', 'counter_decoder.layers.0.encoder_attn.q_proj.bias', 'conclusion_decoder.layers.1.self_attn.k_proj.weight', 'counter_decoder.layers.0.self_attn.k_proj.weight', 'counter_decoder.layernorm_embedding.weight', 'conclusion_decoder.layers.1.self_attn.v_proj.weight', 'conclusion_decoder.layers.1.encoder_attn.out_proj.bias', 'conclusion_decoder.layers.5.encoder_attn.k_proj.weight', 'conclusion_decoder.layers.0.fc2.weight', 'conclusion_decoder.layers.4.self_attn_layer_norm.weight', 'counter_decoder.layers.1.final_layer_norm.weight', 'conclusion_decoder.layers.5.fc2.bias', 'conclusion_decoder.layers.4.self_attn.q_proj.weight', 'counter_decoder.layers.5.self_attn.v_proj.bias', 'conclusion_decoder.layers.1.encoder_attn.v_proj.bias', 'conclusion_decoder.layers.3.fc1.bias', 'conclusion_decoder.layers.1.encoder_attn_layer_norm.weight', 'conclusion_decoder.layers.4.encoder_attn_layer_norm.bias', 'conclusion_decoder.layers.5.encoder_attn.k_proj.bias', 'conclusion_decoder.layers.1.fc2.weight', 'counter_decoder.layers.5.self_attn.q_proj.weight', 'counter_decoder.layers.2.encoder_attn.out_proj.bias', 'counter_decoder.layers.1.encoder_attn.out_proj.weight', 'counter_decoder.layers.4.final_layer_norm.bias', 'counter_decoder.layers.3.self_attn.out_proj.bias', 'counter_decoder.layers.5.self_attn.q_proj.bias', 'counter_decoder.layers.5.encoder_attn.q_proj.weight', 'conclusion_decoder.layers.2.fc1.weight', 'conclusion_decoder.layers.5.encoder_attn_layer_norm.weight', 'conclusion_decoder.layers.0.encoder_attn.q_proj.weight', 'counter_decoder.layers.0.self_attn.q_proj.bias', 'counter_decoder.layers.5.encoder_attn.v_proj.bias', 'counter_decoder.layers.1.encoder_attn.v_proj.weight', 'counter_decoder.layers.4.encoder_attn.v_proj.bias', 'conclusion_decoder.layers.2.encoder_attn.out_proj.weight', 'conclusion_decoder.layers.2.self_attn.v_proj.weight', 'conclusion_decoder.layers.4.encoder_attn.k_proj.weight', 'counter_decoder.layers.1.encoder_attn.q_proj.weight', 'conclusion_decoder.layers.5.encoder_attn.v_proj.bias', 'counter_decoder.layers.4.fc2.weight', 'conclusion_decoder.layers.2.self_attn.q_proj.bias', 'conclusion_decoder.layers.4.self_attn.q_proj.bias', 'counter_decoder.layers.4.encoder_attn.q_proj.weight', 'conclusion_decoder.layers.4.final_layer_norm.weight', 'counter_decoder.layers.0.fc2.bias', 'counter_decoder.layers.4.fc1.bias', 'conclusion_decoder.layers.1.fc1.bias', 'conclusion_decoder.layers.1.encoder_attn.q_proj.bias', 'counter_decoder.layers.2.self_attn.k_proj.weight', 'conclusion_decoder.layers.3.final_layer_norm.weight', 'conclusion_decoder.layers.4.fc1.weight', 'conclusion_decoder.layers.0.self_attn_layer_norm.weight', 'conclusion_decoder.layers.5.encoder_attn.q_proj.bias', 'conclusion_decoder.layers.1.fc2.bias', 'counter_decoder.layers.4.encoder_attn.k_proj.weight', 'counter_decoder.layers.3.self_attn.v_proj.bias', 'conclusion_decoder.layers.3.self_attn_layer_norm.weight', 'counter_decoder.layers.0.encoder_attn_layer_norm.bias', 'counter_decoder.layers.5.self_attn.k_proj.weight', 'conclusion_decoder.layers.5.self_attn.q_proj.bias', 'conclusion_decoder.layers.2.self_attn.q_proj.weight', 'counter_decoder.layers.4.self_attn.k_proj.bias', 'counter_decoder.layers.1.self_attn.v_proj.bias', 'counter_decoder.layers.1.self_attn_layer_norm.weight', 'counter_decoder.layers.5.self_attn_layer_norm.bias', 'counter_decoder.layers.4.encoder_attn.out_proj.weight', 'counter_decoder.layers.0.encoder_attn.out_proj.bias', 'conclusion_decoder.layers.4.encoder_attn.q_proj.weight', 'counter_decoder.layers.2.self_attn.v_proj.weight', 'conclusion_decoder.layers.1.self_attn.q_proj.bias', 'counter_decoder.layers.0.self_attn.k_proj.bias', 'conclusion_decoder.layers.0.fc1.weight', 'conclusion_decoder.layers.5.self_attn.k_proj.weight', 'counter_decoder.layers.4.self_attn.q_proj.weight', 'counter_decoder.layers.4.self_attn.k_proj.weight', 'conclusion_decoder.layers.0.fc1.bias', 'conclusion_decoder.layers.1.encoder_attn.k_proj.bias', 'conclusion_decoder.layers.2.encoder_attn.out_proj.bias', 'conclusion_decoder.layers.3.self_attn_layer_norm.bias', 'conclusion_decoder.layers.3.encoder_attn.v_proj.weight', 'conclusion_decoder.layers.5.self_attn.q_proj.weight', 'counter_decoder.layers.4.self_attn.v_proj.weight', 'conclusion_decoder.layers.3.final_layer_norm.bias', 'counter_decoder.layers.3.fc2.bias', 'counter_decoder.layers.5.encoder_attn.k_proj.bias', 'conclusion_decoder.layers.5.final_layer_norm.weight', 'counter_decoder.layers.5.encoder_attn.k_proj.weight', 'counter_decoder.layers.2.encoder_attn.out_proj.weight', 'counter_decoder.embed_positions.weight', 'conclusion_decoder.layers.0.final_layer_norm.bias', 'conclusion_decoder.layers.4.encoder_attn.q_proj.bias', 'counter_decoder.layers.4.encoder_attn.out_proj.bias', 'conclusion_decoder.layers.5.self_attn.k_proj.bias', 'counter_decoder.layers.4.self_attn.q_proj.bias', 'counter_decoder.layers.2.encoder_attn.k_proj.bias', 'conclusion_decoder.layers.3.encoder_attn.q_proj.weight', 'counter_decoder.layers.2.self_attn.k_proj.bias', 'conclusion_decoder.layers.4.encoder_attn_layer_norm.weight', 'conclusion_decoder.layers.0.self_attn.out_proj.bias', 'conclusion_decoder.layers.4.encoder_attn.k_proj.bias', 'conclusion_decoder.layers.4.self_attn.out_proj.weight', 'counter_decoder.layers.2.final_layer_norm.weight', 'counter_decoder.layers.5.fc2.weight', 'counter_decoder.layers.5.encoder_attn.q_proj.bias', 'counter_decoder.layers.2.self_attn.q_proj.bias', 'conclusion_decoder.layers.5.fc2.weight', 'counter_decoder.layers.4.self_attn.out_proj.weight', 'counter_decoder.layers.0.self_attn.v_proj.weight', 'conclusion_decoder.layers.4.encoder_attn.out_proj.bias', 'counter_decoder.layers.2.fc1.weight', 'conclusion_decoder.layers.4.fc1.bias', 'conclusion_decoder.layers.1.encoder_attn_layer_norm.bias', 'counter_decoder.layers.1.encoder_attn_layer_norm.weight', 'counter_decoder.layers.1.fc2.bias', 'counter_decoder.layers.3.final_layer_norm.weight', 'counter_decoder.layers.2.self_attn.out_proj.weight', 'counter_decoder.layers.5.encoder_attn.v_proj.weight', 'conclusion_decoder.layers.1.encoder_attn.out_proj.weight', 'counter_decoder.layers.0.encoder_attn.k_proj.weight', 'counter_decoder.layers.5.fc1.bias', 'conclusion_decoder.layers.1.self_attn.out_proj.weight', 'conclusion_decoder.layers.2.self_attn.out_proj.weight', 'conclusion_decoder.layers.0.self_attn.v_proj.weight', 'counter_decoder.layers.1.self_attn.out_proj.bias', 'conclusion_decoder.layers.4.self_attn.k_proj.weight', 'counter_decoder.layers.2.self_attn.q_proj.weight', 'conclusion_decoder.layers.1.self_attn.q_proj.weight', 'counter_decoder.layers.5.final_layer_norm.weight', 'conclusion_decoder.layers.2.encoder_attn.k_proj.bias', 'counter_decoder.layers.5.encoder_attn_layer_norm.weight', 'conclusion_decoder.layers.3.self_attn.v_proj.bias', 'conclusion_decoder.layers.3.encoder_attn.out_proj.bias', 'counter_decoder.layers.3.encoder_attn.k_proj.bias', 'counter_decoder.layers.5.self_attn.v_proj.weight', 'counter_decoder.layers.1.encoder_attn.q_proj.bias', 'counter_decoder.layers.1.encoder_attn.k_proj.weight', 'conclusion_decoder.layers.2.self_attn_layer_norm.bias', 'counter_decoder.layers.4.self_attn.out_proj.bias', 'counter_decoder.layers.0.encoder_attn.k_proj.bias', 'counter_decoder.layers.5.encoder_attn.out_proj.weight', 'conclusion_decoder.layers.5.encoder_attn.q_proj.weight', 'counter_decoder.layers.2.self_attn.out_proj.bias', 'conclusion_decoder.layers.2.final_layer_norm.bias', 'counter_decoder.layers.1.self_attn.q_proj.bias', 'counter_decoder.layers.5.fc1.weight', 'conclusion_decoder.layers.3.encoder_attn_layer_norm.weight', 'counter_decoder.layers.0.final_layer_norm.weight', 'counter_decoder.layers.0.encoder_attn.out_proj.weight', 'counter_decoder.layernorm_embedding.bias', 'counter_decoder.layers.5.self_attn.k_proj.bias', 'conclusion_decoder.layers.2.encoder_attn_layer_norm.bias', 'conclusion_decoder.layers.1.self_attn.v_proj.bias', 'counter_decoder.layers.0.self_attn.v_proj.bias', 'conclusion_decoder.layers.2.encoder_attn.q_proj.weight', 'conclusion_decoder.layers.0.encoder_attn.out_proj.bias', 'conclusion_decoder.layers.1.encoder_attn.q_proj.weight', 'conclusion_decoder.layernorm_embedding.weight', 'counter_decoder.layers.5.self_attn.out_proj.bias', 'conclusion_decoder.layers.1.self_attn.k_proj.bias', 'conclusion_decoder.layers.1.fc1.weight', 'counter_decoder.layers.3.fc1.bias', 'conclusion_decoder.layers.3.self_attn.k_proj.bias', 'counter_decoder.layers.5.final_layer_norm.bias', 'counter_decoder.layers.4.fc2.bias', 'conclusion_decoder.layers.0.self_attn_layer_norm.bias', 'conclusion_decoder.layers.5.encoder_attn.out_proj.bias', 'conclusion_decoder.layers.3.encoder_attn.q_proj.bias', 'counter_decoder.layers.5.encoder_attn_layer_norm.bias', 'conclusion_decoder.layers.1.final_layer_norm.weight', 'conclusion_decoder.layers.4.encoder_attn.out_proj.weight', 'conclusion_decoder.layers.2.fc2.weight', 'conclusion_decoder.layers.4.final_layer_norm.bias', 'counter_decoder.layers.2.final_layer_norm.bias', 'conclusion_decoder.layers.2.encoder_attn_layer_norm.weight', 'counter_decoder.layers.4.encoder_attn_layer_norm.bias', 'conclusion_decoder.layers.5.self_attn_layer_norm.weight', 'conclusion_decoder.layers.3.encoder_attn.v_proj.bias', 'conclusion_decoder.layers.3.self_attn.out_proj.weight', 'conclusion_decoder.layers.1.encoder_attn.v_proj.weight', 'conclusion_decoder.layers.1.self_attn.out_proj.bias', 'conclusion_decoder.layers.3.self_attn.q_proj.weight', 'counter_decoder.layers.4.encoder_attn.v_proj.weight', 'counter_decoder.layers.2.encoder_attn.v_proj.bias', 'counter_decoder.layers.4.encoder_attn.q_proj.bias', 'counter_decoder.layers.3.encoder_attn.k_proj.weight', 'conclusion_decoder.layers.3.self_attn.out_proj.bias', 'conclusion_decoder.layers.4.encoder_attn.v_proj.bias', 'counter_decoder.layers.1.encoder_attn_layer_norm.bias', 'counter_decoder.layers.3.encoder_attn.q_proj.weight', 'counter_decoder.embed_tokens.weight', 'counter_decoder.layers.3.fc2.weight', 'conclusion_decoder.layers.5.encoder_attn.out_proj.weight', 'counter_decoder.layers.2.encoder_attn.k_proj.weight', 'counter_decoder.layers.1.self_attn.out_proj.weight', 'counter_decoder.layers.0.encoder_attn.v_proj.bias', 'counter_decoder.layers.2.encoder_attn_layer_norm.bias', 'counter_decoder.layers.4.encoder_attn.k_proj.bias', 'conclusion_decoder.layers.0.self_attn.q_proj.weight', 'conclusion_decoder.layers.2.self_attn_layer_norm.weight', 'counter_decoder.layers.4.self_attn.v_proj.bias', 'conclusion_decoder.layers.3.fc2.bias', 'counter_decoder.layers.3.self_attn.out_proj.weight', 'counter_decoder.layers.5.fc2.bias', 'conclusion_decoder.layers.4.fc2.bias', 'conclusion_decoder.layers.3.fc2.weight', 'counter_decoder.layers.2.self_attn_layer_norm.bias', 'counter_decoder.layers.3.encoder_attn.v_proj.bias', 'conclusion_decoder.layers.4.self_attn_layer_norm.bias', 'conclusion_decoder.layers.1.self_attn_layer_norm.weight', 'counter_decoder.layers.3.encoder_attn.out_proj.bias']\n",
      "You should probably TRAIN this model on a down-stream task to be able to use it for predictions and inference.\n"
     ]
    },
    {
     "data": {
      "text/plain": [
       "<All keys matched successfully>"
      ]
     },
     "execution_count": 11,
     "metadata": {},
     "output_type": "execute_result"
    }
   ],
   "source": [
    "tokenizer = BartTokenizer.from_pretrained('facebook/bart-base')\n",
    "model     = BartModelV2.from_pretrained('facebook/bart-base')\n",
    "original_bart_model = BartModel.from_pretrained('facebook/bart-base')\n",
    "#load the weights of the two decoders\n",
    "model.conclusion_decoder.load_state_dict(original_bart_model.decoder.state_dict())\n",
    "model.counter_decoder.load_state_dict(original_bart_model.decoder.state_dict())"
   ]
  },
  {
   "cell_type": "code",
   "execution_count": 16,
   "metadata": {},
   "outputs": [],
   "source": [
    "#downsample the training dataset\n",
    "tmp_ds = train_ds.train_test_split(0.01)\n",
    "train_ds = tmp_ds['test']"
   ]
  },
  {
   "cell_type": "code",
   "execution_count": 17,
   "metadata": {},
   "outputs": [
    {
     "data": {
      "text/plain": [
       "924"
      ]
     },
     "execution_count": 17,
     "metadata": {},
     "output_type": "execute_result"
    }
   ],
   "source": [
    "len(train_ds)"
   ]
  },
  {
   "cell_type": "code",
   "execution_count": 18,
   "metadata": {},
   "outputs": [],
   "source": [
    "#downsample the valid dataset\n",
    "tmp_ds = valid_ds.train_test_split(0.01)\n",
    "valid_ds = tmp_ds['test']"
   ]
  },
  {
   "cell_type": "code",
   "execution_count": 19,
   "metadata": {},
   "outputs": [
    {
     "data": {
      "text/plain": [
       "332"
      ]
     },
     "execution_count": 19,
     "metadata": {},
     "output_type": "execute_result"
    }
   ],
   "source": [
    "len(valid_ds)"
   ]
  },
  {
   "cell_type": "code",
   "execution_count": 39,
   "metadata": {},
   "outputs": [
    {
     "data": {
      "application/vnd.jupyter.widget-view+json": {
       "model_id": "56b81778be864d45b3b736ae08f4b3f3",
       "version_major": 2,
       "version_minor": 0
      },
      "text/plain": [
       "  0%|          | 0/1 [00:00<?, ?ba/s]"
      ]
     },
     "metadata": {},
     "output_type": "display_data"
    },
    {
     "data": {
      "application/vnd.jupyter.widget-view+json": {
       "model_id": "5a76cd91dca143deac825f69411a8f75",
       "version_major": 2,
       "version_minor": 0
      },
      "text/plain": [
       "  0%|          | 0/1 [00:00<?, ?ba/s]"
      ]
     },
     "metadata": {},
     "output_type": "display_data"
    }
   ],
   "source": [
    "train_tokenized_ds = train_ds.map(lambda x :preprocess_function(x, tokenizer, 'masked_premises', 'counter', 'title'), batched=True)\n",
    "valid_tokenized_ds = valid_ds.map(lambda x :preprocess_function(x, tokenizer, 'masked_premises', 'counter', 'title'), batched=True)"
   ]
  },
  {
   "cell_type": "code",
   "execution_count": 40,
   "metadata": {},
   "outputs": [],
   "source": [
    "batch_size = 16\n",
    "args = Seq2SeqTrainingArguments(\n",
    "    \"../data/output/join-con-counter-bart-model\",\n",
    "    evaluation_strategy = \"epoch\",\n",
    "    learning_rate=2e-5,\n",
    "    per_device_train_batch_size=batch_size,\n",
    "    per_device_eval_batch_size=batch_size,\n",
    "    weight_decay=0.01,\n",
    "    save_total_limit=3,\n",
    "    num_train_epochs=1,\n",
    "    predict_with_generate=True\n",
    ")"
   ]
  },
  {
   "cell_type": "code",
   "execution_count": 41,
   "metadata": {},
   "outputs": [],
   "source": [
    "data_collator = DataCollatorForSeq2Seq(tokenizer, model=model)"
   ]
  },
  {
   "cell_type": "code",
   "execution_count": 42,
   "metadata": {},
   "outputs": [],
   "source": [
    "trainer = Seq2SeqTrainer(\n",
    "    model,\n",
    "    args,\n",
    "    train_dataset=train_tokenized_ds,\n",
    "    eval_dataset=valid_tokenized_ds,\n",
    "    data_collator=data_collator,\n",
    "    tokenizer=tokenizer,\n",
    "    compute_metrics=compute_metrics\n",
    ")"
   ]
  },
  {
   "cell_type": "code",
   "execution_count": 43,
   "metadata": {
    "scrolled": true,
    "tags": []
   },
   "outputs": [
    {
     "name": "stderr",
     "output_type": "stream",
     "text": [
      "The following columns in the training set  don't have a corresponding argument in `BartModelV2.forward` and have been ignored: n_sentences, split, counter, masked_premises, comment_id, title, __index_level_0__, post, post_id, premises_with_conclusion, num_cand_conc.\n",
      "***** Running training *****\n",
      "  Num examples = 924\n",
      "  Num Epochs = 1\n",
      "  Instantaneous batch size per device = 16\n",
      "  Total train batch size (w. parallel, distributed & accumulation) = 16\n",
      "  Gradient Accumulation steps = 1\n",
      "  Total optimization steps = 58\n"
     ]
    },
    {
     "ename": "RuntimeError",
     "evalue": "The size of tensor a (100) must match the size of tensor b (512) at non-singleton dimension 3",
     "output_type": "error",
     "traceback": [
      "\u001b[0;31m---------------------------------------------------------------------------\u001b[0m",
      "\u001b[0;31mRuntimeError\u001b[0m                              Traceback (most recent call last)",
      "\u001b[0;32m<ipython-input-43-3435b262f1ae>\u001b[0m in \u001b[0;36m<module>\u001b[0;34m\u001b[0m\n\u001b[0;32m----> 1\u001b[0;31m \u001b[0mtrainer\u001b[0m\u001b[0;34m.\u001b[0m\u001b[0mtrain\u001b[0m\u001b[0;34m(\u001b[0m\u001b[0;34m)\u001b[0m\u001b[0;34m\u001b[0m\u001b[0;34m\u001b[0m\u001b[0m\n\u001b[0m",
      "\u001b[0;32m/usr/local/lib/python3.6/dist-packages/transformers/trainer.py\u001b[0m in \u001b[0;36mtrain\u001b[0;34m(self, resume_from_checkpoint, trial, ignore_keys_for_eval, **kwargs)\u001b[0m\n\u001b[1;32m   1278\u001b[0m                         \u001b[0mtr_loss\u001b[0m \u001b[0;34m+=\u001b[0m \u001b[0mself\u001b[0m\u001b[0;34m.\u001b[0m\u001b[0mtraining_step\u001b[0m\u001b[0;34m(\u001b[0m\u001b[0mmodel\u001b[0m\u001b[0;34m,\u001b[0m \u001b[0minputs\u001b[0m\u001b[0;34m)\u001b[0m\u001b[0;34m\u001b[0m\u001b[0;34m\u001b[0m\u001b[0m\n\u001b[1;32m   1279\u001b[0m                 \u001b[0;32melse\u001b[0m\u001b[0;34m:\u001b[0m\u001b[0;34m\u001b[0m\u001b[0;34m\u001b[0m\u001b[0m\n\u001b[0;32m-> 1280\u001b[0;31m                     \u001b[0mtr_loss\u001b[0m \u001b[0;34m+=\u001b[0m \u001b[0mself\u001b[0m\u001b[0;34m.\u001b[0m\u001b[0mtraining_step\u001b[0m\u001b[0;34m(\u001b[0m\u001b[0mmodel\u001b[0m\u001b[0;34m,\u001b[0m \u001b[0minputs\u001b[0m\u001b[0;34m)\u001b[0m\u001b[0;34m\u001b[0m\u001b[0;34m\u001b[0m\u001b[0m\n\u001b[0m\u001b[1;32m   1281\u001b[0m                 \u001b[0mself\u001b[0m\u001b[0;34m.\u001b[0m\u001b[0mcurrent_flos\u001b[0m \u001b[0;34m+=\u001b[0m \u001b[0mfloat\u001b[0m\u001b[0;34m(\u001b[0m\u001b[0mself\u001b[0m\u001b[0;34m.\u001b[0m\u001b[0mfloating_point_ops\u001b[0m\u001b[0;34m(\u001b[0m\u001b[0minputs\u001b[0m\u001b[0;34m)\u001b[0m\u001b[0;34m)\u001b[0m\u001b[0;34m\u001b[0m\u001b[0;34m\u001b[0m\u001b[0m\n\u001b[1;32m   1282\u001b[0m \u001b[0;34m\u001b[0m\u001b[0m\n",
      "\u001b[0;32m/usr/local/lib/python3.6/dist-packages/transformers/trainer.py\u001b[0m in \u001b[0;36mtraining_step\u001b[0;34m(self, model, inputs)\u001b[0m\n\u001b[1;32m   1771\u001b[0m                 \u001b[0mloss\u001b[0m \u001b[0;34m=\u001b[0m \u001b[0mself\u001b[0m\u001b[0;34m.\u001b[0m\u001b[0mcompute_loss\u001b[0m\u001b[0;34m(\u001b[0m\u001b[0mmodel\u001b[0m\u001b[0;34m,\u001b[0m \u001b[0minputs\u001b[0m\u001b[0;34m)\u001b[0m\u001b[0;34m\u001b[0m\u001b[0;34m\u001b[0m\u001b[0m\n\u001b[1;32m   1772\u001b[0m         \u001b[0;32melse\u001b[0m\u001b[0;34m:\u001b[0m\u001b[0;34m\u001b[0m\u001b[0;34m\u001b[0m\u001b[0m\n\u001b[0;32m-> 1773\u001b[0;31m             \u001b[0mloss\u001b[0m \u001b[0;34m=\u001b[0m \u001b[0mself\u001b[0m\u001b[0;34m.\u001b[0m\u001b[0mcompute_loss\u001b[0m\u001b[0;34m(\u001b[0m\u001b[0mmodel\u001b[0m\u001b[0;34m,\u001b[0m \u001b[0minputs\u001b[0m\u001b[0;34m)\u001b[0m\u001b[0;34m\u001b[0m\u001b[0;34m\u001b[0m\u001b[0m\n\u001b[0m\u001b[1;32m   1774\u001b[0m \u001b[0;34m\u001b[0m\u001b[0m\n\u001b[1;32m   1775\u001b[0m         \u001b[0;32mif\u001b[0m \u001b[0mself\u001b[0m\u001b[0;34m.\u001b[0m\u001b[0margs\u001b[0m\u001b[0;34m.\u001b[0m\u001b[0mn_gpu\u001b[0m \u001b[0;34m>\u001b[0m \u001b[0;36m1\u001b[0m\u001b[0;34m:\u001b[0m\u001b[0;34m\u001b[0m\u001b[0;34m\u001b[0m\u001b[0m\n",
      "\u001b[0;32m/usr/local/lib/python3.6/dist-packages/transformers/trainer.py\u001b[0m in \u001b[0;36mcompute_loss\u001b[0;34m(self, model, inputs, return_outputs)\u001b[0m\n\u001b[1;32m   1803\u001b[0m         \u001b[0;32melse\u001b[0m\u001b[0;34m:\u001b[0m\u001b[0;34m\u001b[0m\u001b[0;34m\u001b[0m\u001b[0m\n\u001b[1;32m   1804\u001b[0m             \u001b[0mlabels\u001b[0m \u001b[0;34m=\u001b[0m \u001b[0;32mNone\u001b[0m\u001b[0;34m\u001b[0m\u001b[0;34m\u001b[0m\u001b[0m\n\u001b[0;32m-> 1805\u001b[0;31m         \u001b[0moutputs\u001b[0m \u001b[0;34m=\u001b[0m \u001b[0mmodel\u001b[0m\u001b[0;34m(\u001b[0m\u001b[0;34m**\u001b[0m\u001b[0minputs\u001b[0m\u001b[0;34m)\u001b[0m\u001b[0;34m\u001b[0m\u001b[0;34m\u001b[0m\u001b[0m\n\u001b[0m\u001b[1;32m   1806\u001b[0m         \u001b[0;31m# Save past state if it exists\u001b[0m\u001b[0;34m\u001b[0m\u001b[0;34m\u001b[0m\u001b[0;34m\u001b[0m\u001b[0m\n\u001b[1;32m   1807\u001b[0m         \u001b[0;31m# TODO: this needs to be fixed and made cleaner later.\u001b[0m\u001b[0;34m\u001b[0m\u001b[0;34m\u001b[0m\u001b[0;34m\u001b[0m\u001b[0m\n",
      "\u001b[0;32m/usr/local/lib/python3.6/dist-packages/torch/nn/modules/module.py\u001b[0m in \u001b[0;36m_call_impl\u001b[0;34m(self, *input, **kwargs)\u001b[0m\n\u001b[1;32m   1049\u001b[0m         if not (self._backward_hooks or self._forward_hooks or self._forward_pre_hooks or _global_backward_hooks\n\u001b[1;32m   1050\u001b[0m                 or _global_forward_hooks or _global_forward_pre_hooks):\n\u001b[0;32m-> 1051\u001b[0;31m             \u001b[0;32mreturn\u001b[0m \u001b[0mforward_call\u001b[0m\u001b[0;34m(\u001b[0m\u001b[0;34m*\u001b[0m\u001b[0minput\u001b[0m\u001b[0;34m,\u001b[0m \u001b[0;34m**\u001b[0m\u001b[0mkwargs\u001b[0m\u001b[0;34m)\u001b[0m\u001b[0;34m\u001b[0m\u001b[0;34m\u001b[0m\u001b[0m\n\u001b[0m\u001b[1;32m   1052\u001b[0m         \u001b[0;31m# Do not call functions when jit is used\u001b[0m\u001b[0;34m\u001b[0m\u001b[0;34m\u001b[0m\u001b[0;34m\u001b[0m\u001b[0m\n\u001b[1;32m   1053\u001b[0m         \u001b[0mfull_backward_hooks\u001b[0m\u001b[0;34m,\u001b[0m \u001b[0mnon_full_backward_hooks\u001b[0m \u001b[0;34m=\u001b[0m \u001b[0;34m[\u001b[0m\u001b[0;34m]\u001b[0m\u001b[0;34m,\u001b[0m \u001b[0;34m[\u001b[0m\u001b[0;34m]\u001b[0m\u001b[0;34m\u001b[0m\u001b[0;34m\u001b[0m\u001b[0m\n",
      "\u001b[0;32m/home/sile2804/data-tmp/multitask-counter-arg-generation/src-py/mt_bart_v2.py\u001b[0m in \u001b[0;36mforward\u001b[0;34m(self, input_ids, attention_mask, conclusion_decoder_input_ids, conclusion_decoder_attention_mask, counter_decoder_input_ids, counter_decoder_attention_mask, head_mask, decoder_head_mask, cross_attn_head_mask, encoder_outputs, past_key_values, inputs_embeds, conclusion_decoder_inputs_embeds, counter_decoder_inputs_embeds, use_cache, output_attentions, output_hidden_states, return_dict, conclusion_labels, counter_labels)\u001b[0m\n\u001b[1;32m    119\u001b[0m             \u001b[0moutput_attentions\u001b[0m\u001b[0;34m=\u001b[0m\u001b[0moutput_attentions\u001b[0m\u001b[0;34m,\u001b[0m\u001b[0;34m\u001b[0m\u001b[0;34m\u001b[0m\u001b[0m\n\u001b[1;32m    120\u001b[0m             \u001b[0moutput_hidden_states\u001b[0m\u001b[0;34m=\u001b[0m\u001b[0moutput_hidden_states\u001b[0m\u001b[0;34m,\u001b[0m\u001b[0;34m\u001b[0m\u001b[0;34m\u001b[0m\u001b[0m\n\u001b[0;32m--> 121\u001b[0;31m             \u001b[0mreturn_dict\u001b[0m\u001b[0;34m=\u001b[0m\u001b[0mreturn_dict\u001b[0m\u001b[0;34m,\u001b[0m\u001b[0;34m\u001b[0m\u001b[0;34m\u001b[0m\u001b[0m\n\u001b[0m\u001b[1;32m    122\u001b[0m         )\n\u001b[1;32m    123\u001b[0m \u001b[0;34m\u001b[0m\u001b[0m\n",
      "\u001b[0;32m/usr/local/lib/python3.6/dist-packages/torch/nn/modules/module.py\u001b[0m in \u001b[0;36m_call_impl\u001b[0;34m(self, *input, **kwargs)\u001b[0m\n\u001b[1;32m   1049\u001b[0m         if not (self._backward_hooks or self._forward_hooks or self._forward_pre_hooks or _global_backward_hooks\n\u001b[1;32m   1050\u001b[0m                 or _global_forward_hooks or _global_forward_pre_hooks):\n\u001b[0;32m-> 1051\u001b[0;31m             \u001b[0;32mreturn\u001b[0m \u001b[0mforward_call\u001b[0m\u001b[0;34m(\u001b[0m\u001b[0;34m*\u001b[0m\u001b[0minput\u001b[0m\u001b[0;34m,\u001b[0m \u001b[0;34m**\u001b[0m\u001b[0mkwargs\u001b[0m\u001b[0;34m)\u001b[0m\u001b[0;34m\u001b[0m\u001b[0;34m\u001b[0m\u001b[0m\n\u001b[0m\u001b[1;32m   1052\u001b[0m         \u001b[0;31m# Do not call functions when jit is used\u001b[0m\u001b[0;34m\u001b[0m\u001b[0;34m\u001b[0m\u001b[0;34m\u001b[0m\u001b[0m\n\u001b[1;32m   1053\u001b[0m         \u001b[0mfull_backward_hooks\u001b[0m\u001b[0;34m,\u001b[0m \u001b[0mnon_full_backward_hooks\u001b[0m \u001b[0;34m=\u001b[0m \u001b[0;34m[\u001b[0m\u001b[0;34m]\u001b[0m\u001b[0;34m,\u001b[0m \u001b[0;34m[\u001b[0m\u001b[0;34m]\u001b[0m\u001b[0;34m\u001b[0m\u001b[0;34m\u001b[0m\u001b[0m\n",
      "\u001b[0;32m/usr/local/lib/python3.6/dist-packages/transformers/models/bart/modeling_bart.py\u001b[0m in \u001b[0;36mforward\u001b[0;34m(self, input_ids, attention_mask, encoder_hidden_states, encoder_attention_mask, head_mask, cross_attn_head_mask, past_key_values, inputs_embeds, use_cache, output_attentions, output_hidden_states, return_dict)\u001b[0m\n\u001b[1;32m    983\u001b[0m \u001b[0;34m\u001b[0m\u001b[0m\n\u001b[1;32m    984\u001b[0m         attention_mask = self._prepare_decoder_attention_mask(\n\u001b[0;32m--> 985\u001b[0;31m             \u001b[0mattention_mask\u001b[0m\u001b[0;34m,\u001b[0m \u001b[0minput_shape\u001b[0m\u001b[0;34m,\u001b[0m \u001b[0minputs_embeds\u001b[0m\u001b[0;34m,\u001b[0m \u001b[0mpast_key_values_length\u001b[0m\u001b[0;34m\u001b[0m\u001b[0;34m\u001b[0m\u001b[0m\n\u001b[0m\u001b[1;32m    986\u001b[0m         )\n\u001b[1;32m    987\u001b[0m \u001b[0;34m\u001b[0m\u001b[0m\n",
      "\u001b[0;32m/usr/local/lib/python3.6/dist-packages/transformers/models/bart/modeling_bart.py\u001b[0m in \u001b[0;36m_prepare_decoder_attention_mask\u001b[0;34m(self, attention_mask, input_shape, inputs_embeds, past_key_values_length)\u001b[0m\n\u001b[1;32m    870\u001b[0m             \u001b[0mexpanded_attn_mask\u001b[0m \u001b[0;34m=\u001b[0m \u001b[0m_expand_mask\u001b[0m\u001b[0;34m(\u001b[0m\u001b[0mattention_mask\u001b[0m\u001b[0;34m,\u001b[0m \u001b[0minputs_embeds\u001b[0m\u001b[0;34m.\u001b[0m\u001b[0mdtype\u001b[0m\u001b[0;34m,\u001b[0m \u001b[0mtgt_len\u001b[0m\u001b[0;34m=\u001b[0m\u001b[0minput_shape\u001b[0m\u001b[0;34m[\u001b[0m\u001b[0;34m-\u001b[0m\u001b[0;36m1\u001b[0m\u001b[0;34m]\u001b[0m\u001b[0;34m)\u001b[0m\u001b[0;34m\u001b[0m\u001b[0;34m\u001b[0m\u001b[0m\n\u001b[1;32m    871\u001b[0m             combined_attention_mask = (\n\u001b[0;32m--> 872\u001b[0;31m                 \u001b[0mexpanded_attn_mask\u001b[0m \u001b[0;32mif\u001b[0m \u001b[0mcombined_attention_mask\u001b[0m \u001b[0;32mis\u001b[0m \u001b[0;32mNone\u001b[0m \u001b[0;32melse\u001b[0m \u001b[0mexpanded_attn_mask\u001b[0m \u001b[0;34m+\u001b[0m \u001b[0mcombined_attention_mask\u001b[0m\u001b[0;34m\u001b[0m\u001b[0;34m\u001b[0m\u001b[0m\n\u001b[0m\u001b[1;32m    873\u001b[0m             )\n\u001b[1;32m    874\u001b[0m \u001b[0;34m\u001b[0m\u001b[0m\n",
      "\u001b[0;31mRuntimeError\u001b[0m: The size of tensor a (100) must match the size of tensor b (512) at non-singleton dimension 3"
     ]
    }
   ],
   "source": [
    "trainer.train()"
   ]
  },
  {
   "cell_type": "code",
   "execution_count": 73,
   "metadata": {},
   "outputs": [
    {
     "name": "stderr",
     "output_type": "stream",
     "text": [
      "The following columns in the evaluation set  don't have a corresponding argument in `BartForConditionalGeneration.forward` and have been ignored: counter, conclusions_in_argument, __index_level_0__, weak_premises, masked_premises, premises_with_conclusion, premises, conclusion.\n",
      "***** Running Evaluation *****\n",
      "  Num examples = 898\n",
      "  Batch size = 2\n"
     ]
    },
    {
     "data": {
      "text/html": [
       "\n",
       "    <div>\n",
       "      \n",
       "      <progress value='449' max='449' style='width:300px; height:20px; vertical-align: middle;'></progress>\n",
       "      [449/449 01:17]\n",
       "    </div>\n",
       "    "
      ],
      "text/plain": [
       "<IPython.core.display.HTML object>"
      ]
     },
     "metadata": {},
     "output_type": "display_data"
    },
    {
     "data": {
      "text/plain": [
       "{'eval_loss': 2.9925241470336914,\n",
       " 'eval_rouge1': 11.3275,\n",
       " 'eval_rouge2': 1.6403,\n",
       " 'eval_rougeL': 8.6976,\n",
       " 'eval_rougeLsum': 10.1471,\n",
       " 'eval_gen_len': 18.3552,\n",
       " 'eval_runtime': 83.7533,\n",
       " 'eval_samples_per_second': 10.722,\n",
       " 'eval_steps_per_second': 5.361,\n",
       " 'epoch': 3.0}"
      ]
     },
     "execution_count": 73,
     "metadata": {},
     "output_type": "execute_result"
    }
   ],
   "source": [
    "trainer.evaluate()"
   ]
  }
 ],
 "metadata": {
  "kernelspec": {
   "display_name": "Python 3",
   "language": "python",
   "name": "python3"
  },
  "language_info": {
   "codemirror_mode": {
    "name": "ipython",
    "version": 3
   },
   "file_extension": ".py",
   "mimetype": "text/x-python",
   "name": "python",
   "nbconvert_exporter": "python",
   "pygments_lexer": "ipython3",
   "version": "3.6.9"
  }
 },
 "nbformat": 4,
 "nbformat_minor": 4
}
