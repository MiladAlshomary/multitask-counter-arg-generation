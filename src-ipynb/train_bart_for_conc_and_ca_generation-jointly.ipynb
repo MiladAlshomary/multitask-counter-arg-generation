{
 "cells": [
  {
   "cell_type": "markdown",
   "metadata": {},
   "source": [
    "### This notebook is to jointly train BART-v2 model for both generating the conclusion and the counter"
   ]
  },
  {
   "cell_type": "code",
   "execution_count": 8,
   "metadata": {},
   "outputs": [],
   "source": [
    "import os\n",
    "import sys\n",
    "os.environ[\"CUDA_DEVICE_ORDER\"]=\"PCI_BUS_ID\"   # see issue #152\n",
    "os.environ[\"CUDA_VISIBLE_DEVICES\"]=\"1\""
   ]
  },
  {
   "cell_type": "code",
   "execution_count": 10,
   "metadata": {},
   "outputs": [],
   "source": [
    "sys.path.append('../src-py')"
   ]
  },
  {
   "cell_type": "code",
   "execution_count": 12,
   "metadata": {},
   "outputs": [
    {
     "name": "stdout",
     "output_type": "stream",
     "text": [
      "Running on transformers v4.9.1 and datasets v1.10.2\n"
     ]
    }
   ],
   "source": [
    "import transformers\n",
    "import datasets\n",
    "from utils import *\n",
    "from mt_bart_v2 import *\n",
    "\n",
    "print(f\"Running on transformers v{transformers.__version__} and datasets v{datasets.__version__}\")"
   ]
  },
  {
   "cell_type": "code",
   "execution_count": 13,
   "metadata": {},
   "outputs": [],
   "source": [
    "import torch\n",
    "import json\n",
    "\n",
    "import nltk\n",
    "import numpy as np\n",
    "import pandas as pd\n",
    "\n",
    "from pathlib import Path\n",
    "from datasets import load_dataset, load_metric, Dataset\n",
    "\n",
    "from transformers import AutoModelForSeq2SeqLM, DataCollatorForSeq2Seq, Seq2SeqTrainingArguments, Seq2SeqTrainer\n",
    "from transformers import BartTokenizer, BartForConditionalGeneration\n",
    "\n",
    "import ray\n",
    "from ray.tune.suggest.hyperopt import HyperOptSearch\n",
    "from ray.tune.schedulers import PopulationBasedTraining\n",
    "from ray import tune\n",
    "from ray.tune import CLIReporter"
   ]
  },
  {
   "cell_type": "code",
   "execution_count": 14,
   "metadata": {},
   "outputs": [],
   "source": [
    "device = torch.device('cuda') if torch.cuda.is_available() else torch.device('cpu')"
   ]
  },
  {
   "cell_type": "code",
   "execution_count": 15,
   "metadata": {},
   "outputs": [
    {
     "data": {
      "text/plain": [
       "device(type='cuda')"
      ]
     },
     "execution_count": 15,
     "metadata": {},
     "output_type": "execute_result"
    }
   ],
   "source": [
    "device"
   ]
  },
  {
   "cell_type": "code",
   "execution_count": 16,
   "metadata": {},
   "outputs": [],
   "source": [
    "tokenizer = BartTokenizer.from_pretrained('facebook/bart-base')"
   ]
  },
  {
   "cell_type": "code",
   "execution_count": 17,
   "metadata": {
    "scrolled": true,
    "tags": []
   },
   "outputs": [],
   "source": [
    "def get_model(params):\n",
    "    compute_dynamic_weights=False\n",
    "    conc_loss_weight=0.5 if params == None else params['conc_loss_weight']\n",
    "    counter_loss_weight=0.5 if params == None else params['counter_loss_weight']\n",
    "    attention_to_conc=False\n",
    "    conc_decoder=True\n",
    "    model     = BartModelV2.from_pretrained('facebook/bart-base', compute_dynamic_weights=False, \n",
    "                                            conc_loss_weight = conc_loss_weight, \n",
    "                                            counter_loss_weight=counter_loss_weight, \n",
    "                                            attention_to_conc=attention_to_conc, \n",
    "                                            conc_decoder=conc_decoder).to(device)\n",
    "\n",
    "    original_bart_model = BartModel.from_pretrained('facebook/bart-base').to(device)\n",
    "\n",
    "    #load the weights of the two decoders\n",
    "    model.conclusion_decoder.load_state_dict(original_bart_model.decoder.state_dict())\n",
    "    model.counter_decoder.load_state_dict(original_bart_model.decoder.state_dict())\n",
    "    \n",
    "    data_collator= DataCollatorForSeq2Seq(tokenizer, model)\n",
    "    \n",
    "    return data_collator, model"
   ]
  },
  {
   "cell_type": "code",
   "execution_count": 19,
   "metadata": {},
   "outputs": [],
   "source": [
    "data_fold = '../../../data-ceph/arguana/arg-generation/multi-taks-counter-argument-generation/'"
   ]
  },
  {
   "cell_type": "code",
   "execution_count": 20,
   "metadata": {},
   "outputs": [],
   "source": [
    "#Taking unique posts from valid dataset and sample only 1500 instances\n",
    "# valid_df = pd.read_pickle(data_fold+'/reddit_data/conclusion_and_ca_generation/valid_conclusion_comp_remove_75sem_perc.pkl')\n",
    "# valid_unique_df = valid_df.drop_duplicates('post_id')\n",
    "# valid_sample_df = valid_unique_df.sample(1500)\n",
    "# valid_sample_df.to_pickle(data_fold+'/reddit_data/conclusion_and_ca_generation/valid_conclusion_comp_remove_75sem_perc_sample.pkl')\n",
    "\n",
    "# test_df = pd.read_pickle(data_fold+'/reddit_data/conclusion_and_ca_generation/test_concusion_comp_remove_75sem_perc.pkl')\n",
    "# test_unique_df = test_df.drop_duplicates('post_id')\n",
    "# test_unique_df.to_pickle(data_fold+'/reddit_data/conclusion_and_ca_generation/test_concusion_comp_remove_75sem_perc_sample.pkl')\n",
    "\n",
    "#Taking unique posts from valid dataset and sample only 1500 instances\n",
    "# valid_df = pd.read_pickle(data_fold+'/reddit_data/conclusion_and_ca_generation/valid_conclusion_all.pkl')\n",
    "# valid_unique_df = valid_df.drop_duplicates('post_id')\n",
    "# valid_sample_df = valid_unique_df.sample(1500)\n",
    "# valid_sample_df.to_pickle(data_fold+'/reddit_data/conclusion_and_ca_generation/valid_conclusion_all_sample.pkl')\n",
    "\n",
    "# test_df = pd.read_pickle(data_fold+'/reddit_data/conclusion_and_ca_generation/test_concusion_all.pkl')\n",
    "# test_unique_df = test_df.drop_duplicates('post_id')\n",
    "# test_unique_df = test_df.sample(2500)\n",
    "# test_unique_df.to_pickle(data_fold+'/reddit_data/conclusion_and_ca_generation/test_concusion_all_sample.pkl')"
   ]
  },
  {
   "cell_type": "code",
   "execution_count": 21,
   "metadata": {},
   "outputs": [],
   "source": [
    "# train_ds = Dataset.from_pandas(pd.read_pickle(data_fold+'/reddit_data/conclusion_and_ca_generation/train_conclusion_comp_remove_75sem_perc.pkl'))\n",
    "# valid_ds = Dataset.from_pandas(pd.read_pickle(data_fold+'/reddit_data/conclusion_and_ca_generation/valid_conclusion_comp_remove_75sem_perc_sample.pkl'))\n",
    "\n",
    "train_ds = Dataset.from_pandas(pd.read_pickle(data_fold+'/reddit_data/conclusion_and_ca_generation/train_conclusion_all.pkl'))\n",
    "valid_ds = Dataset.from_pandas(pd.read_pickle(data_fold+'/reddit_data/conclusion_and_ca_generation/valid_conclusion_all_sample.pkl'))"
   ]
  },
  {
   "cell_type": "code",
   "execution_count": 22,
   "metadata": {},
   "outputs": [],
   "source": [
    "#Encoding function for joint generation of conclusion and counter\n",
    "def preprocess_function(examples, tokenizer, premises_clm, counter_clm, conclusion_clm, max_input_length=512, max_conc_length=100, max_counter_length=200):\n",
    "    premises   = examples[premises_clm]\n",
    "    conclusions = examples[conclusion_clm]\n",
    "    counters = examples[counter_clm]\n",
    "    \n",
    "        \n",
    "    premises = [' '.join(x) for x in premises] if isinstance(premises[0], list) else premises\n",
    "    counters = [' '.join(x) for x in counters] if isinstance(counters[0], list) else counters\n",
    "    conclusions = [' '.join(x) for x in conclusions] if isinstance(conclusions[0], list) else conclusions\n",
    "    \n",
    "    model_inputs = tokenizer(premises, max_length=max_input_length, truncation=True, padding='max_length')\n",
    "        \n",
    "    # Setup the tokenizer for targets\n",
    "    with tokenizer.as_target_tokenizer():\n",
    "        counter_labels = tokenizer(counters, max_length=max_counter_length, truncation=True, padding='max_length')\n",
    "        conclusion_labels = tokenizer(conclusions, max_length=max_conc_length, truncation=True, padding='max_length')\n",
    "\n",
    "    model_inputs[\"conclusion_labels\"] = conclusion_labels[\"input_ids\"]\n",
    "    model_inputs[\"conclusion_decoder_attention_mask\"] = conclusion_labels['attention_mask']\n",
    "    model_inputs[\"labels\"] = counter_labels[\"input_ids\"]\n",
    "    model_inputs[\"decoder_attention_mask\"] = counter_labels['attention_mask']\n",
    "    \n",
    "    return model_inputs"
   ]
  },
  {
   "cell_type": "code",
   "execution_count": 23,
   "metadata": {},
   "outputs": [],
   "source": [
    "#downsample the training dataset\n",
    "#tmp_ds = train_ds.train_test_split(0.005)\n",
    "#train_ds = tmp_ds['test']"
   ]
  },
  {
   "cell_type": "code",
   "execution_count": 24,
   "metadata": {},
   "outputs": [
    {
     "data": {
      "text/plain": [
       "295914"
      ]
     },
     "execution_count": 24,
     "metadata": {},
     "output_type": "execute_result"
    }
   ],
   "source": [
    "len(train_ds)"
   ]
  },
  {
   "cell_type": "code",
   "execution_count": 25,
   "metadata": {},
   "outputs": [
    {
     "data": {
      "text/plain": [
       "1500"
      ]
     },
     "execution_count": 25,
     "metadata": {},
     "output_type": "execute_result"
    }
   ],
   "source": [
    "len(valid_ds)"
   ]
  },
  {
   "cell_type": "code",
   "execution_count": 26,
   "metadata": {},
   "outputs": [
    {
     "data": {
      "application/vnd.jupyter.widget-view+json": {
       "model_id": "d6a42abc914a456da41034a5990c4744",
       "version_major": 2,
       "version_minor": 0
      },
      "text/plain": [
       "  0%|          | 0/296 [00:00<?, ?ba/s]"
      ]
     },
     "metadata": {},
     "output_type": "display_data"
    },
    {
     "data": {
      "application/vnd.jupyter.widget-view+json": {
       "model_id": "b5818d69d8254229af5adfc332099a42",
       "version_major": 2,
       "version_minor": 0
      },
      "text/plain": [
       "  0%|          | 0/2 [00:00<?, ?ba/s]"
      ]
     },
     "metadata": {},
     "output_type": "display_data"
    }
   ],
   "source": [
    "# train_tokenized_ds = train_ds.map(lambda x :preprocess_function(x, tokenizer, 'masked_premises', 'counter', 'title'), batched=True)\n",
    "# valid_tokenized_ds = valid_ds.map(lambda x :preprocess_function(x, tokenizer, 'masked_premises', 'counter', 'title'), batched=True)\n",
    "\n",
    "train_tokenized_ds = train_ds.map(lambda x :preprocess_function(x, tokenizer, 'post', 'counter', 'title'), batched=True)\n",
    "valid_tokenized_ds = valid_ds.map(lambda x :preprocess_function(x, tokenizer, 'post', 'counter', 'title'), batched=True)"
   ]
  },
  {
   "cell_type": "code",
   "execution_count": 17,
   "metadata": {
    "scrolled": true,
    "tags": []
   },
   "outputs": [],
   "source": [
    "# #Train the model for different config\n",
    "# batch_size = 32\n",
    "# for conc_loss_weight, count_loss_weight in [(0.0, 1.0), (0.8, 0.2), (0.6, 0.4)]:\n",
    "#         data_collator, model = get_model({'conc_loss_weight': conc_loss_weight, 'counter_loss_weight': count_loss_weight})\n",
    "#         args = Seq2SeqTrainingArguments(\n",
    "#             \"../data/output/joint-con-counter-bart-model-no-attention-finetuned/{}-{}\".format(str(conc_loss_weight).replace('.','-'), str(count_loss_weight).replace('.','-')),\n",
    "#             evaluation_strategy = \"steps\",\n",
    "#             learning_rate=2e-5,\n",
    "#             per_device_train_batch_size=batch_size,\n",
    "#             per_device_eval_batch_size=batch_size,\n",
    "#             weight_decay=0.01,\n",
    "#             save_total_limit=5,\n",
    "#             num_train_epochs=3,\n",
    "#             load_best_model_at_end=True,\n",
    "#             predict_with_generate=True,\n",
    "#             metric_for_best_model='bert-fscore',\n",
    "#             label_names=['conclusion_labels', 'counter_labels']\n",
    "#         )\n",
    "\n",
    "#         trainer = Seq2TwoSeqTrainer(\n",
    "#             model,\n",
    "#             args,\n",
    "#             train_dataset=train_tokenized_ds,\n",
    "#             eval_dataset=valid_tokenized_ds,\n",
    "#             data_collator=data_collator,\n",
    "#             tokenizer=tokenizer,\n",
    "#             compute_metrics=lambda x : compute_metrics(x, tokenizer)\n",
    "#         )\n",
    "        \n",
    "#         trainer.train()\n",
    "#         trainer.save_model()"
   ]
  },
  {
   "cell_type": "markdown",
   "metadata": {},
   "source": [
    "#### Train a dyanmic weighting model:"
   ]
  },
  {
   "cell_type": "code",
   "execution_count": 27,
   "metadata": {},
   "outputs": [],
   "source": [
    "batch_size = 32"
   ]
  },
  {
   "cell_type": "code",
   "execution_count": 28,
   "metadata": {
    "scrolled": true,
    "tags": []
   },
   "outputs": [
    {
     "name": "stderr",
     "output_type": "stream",
     "text": [
      "Some weights of BartModelV2 were not initialized from the model checkpoint at facebook/bart-base and are newly initialized: ['conclusion_decoder.layernorm_embedding.bias', 'log_vars', 'conclusion_decoder.embed_tokens.weight', 'conclusion_decoder.layernorm_embedding.weight', 'conclusion_decoder.embed_positions.weight']\n",
      "You should probably TRAIN this model on a down-stream task to be able to use it for predictions and inference.\n"
     ]
    }
   ],
   "source": [
    "model = BartModelV2.from_pretrained('facebook/bart-base', compute_dynamic_weights=True, conc_decoder=True).to(device)"
   ]
  },
  {
   "cell_type": "code",
   "execution_count": 29,
   "metadata": {
    "scrolled": true,
    "tags": []
   },
   "outputs": [
    {
     "data": {
      "text/plain": [
       "<All keys matched successfully>"
      ]
     },
     "execution_count": 29,
     "metadata": {},
     "output_type": "execute_result"
    }
   ],
   "source": [
    "original_bart_model = BartModel.from_pretrained('facebook/bart-base').to(device)\n",
    "#load the weights of the two decoders\n",
    "model.conclusion_decoder.load_state_dict(original_bart_model.decoder.state_dict())"
   ]
  },
  {
   "cell_type": "code",
   "execution_count": 30,
   "metadata": {
    "scrolled": true,
    "tags": []
   },
   "outputs": [],
   "source": [
    "# data_collator= DataCollatorForSeq2Seq(tokenizer, model)\n",
    "\n",
    "# args = Seq2SeqTrainingArguments(\n",
    "#     \"../data/output/joint-con-counter-bart-model-no-attention-finetuned/dynamic-weight\",\n",
    "#     evaluation_strategy = \"steps\",\n",
    "#     eval_steps=500,\n",
    "#     learning_rate=2e-5,\n",
    "#     per_device_train_batch_size=batch_size,\n",
    "#     per_device_eval_batch_size=batch_size,\n",
    "#     weight_decay=0.01,\n",
    "#     save_total_limit=5,\n",
    "#     num_train_epochs=6,\n",
    "#     load_best_model_at_end=True,\n",
    "#     predict_with_generate=True,\n",
    "#     metric_for_best_model='bert-fscore',\n",
    "#     label_names=['labels', 'conclusion_labels']\n",
    "# )\n",
    "\n",
    "# trainer = Seq2SeqTrainer(\n",
    "#     model,\n",
    "#     args,\n",
    "#     train_dataset=train_tokenized_ds,\n",
    "#     eval_dataset=valid_tokenized_ds,\n",
    "#     data_collator=data_collator,\n",
    "#     tokenizer=tokenizer,\n",
    "#     compute_metrics=lambda x : compute_metrics(x, tokenizer)\n",
    "# )\n",
    "\n",
    "data_collator= DataCollatorForSeq2Seq(tokenizer, model)\n",
    "\n",
    "args = Seq2SeqTrainingArguments(\n",
    "    \"../data/output/joint-con-counter-bart-model-no-attention-finetuned-on-all-data/dynamic-weight\",\n",
    "    evaluation_strategy = \"steps\",\n",
    "    eval_steps=500,\n",
    "    learning_rate=2e-5,\n",
    "    per_device_train_batch_size=batch_size,\n",
    "    per_device_eval_batch_size=batch_size,\n",
    "    weight_decay=0.01,\n",
    "    save_total_limit=5,\n",
    "    num_train_epochs=6,\n",
    "    load_best_model_at_end=True,\n",
    "    predict_with_generate=True,\n",
    "    metric_for_best_model='bert-fscore',\n",
    "    label_names=['labels', 'conclusion_labels']\n",
    ")\n",
    "\n",
    "trainer = Seq2SeqTrainer(\n",
    "    model,\n",
    "    args,\n",
    "    train_dataset=train_tokenized_ds,\n",
    "    eval_dataset=valid_tokenized_ds,\n",
    "    data_collator=data_collator,\n",
    "    tokenizer=tokenizer,\n",
    "    compute_metrics=lambda x : compute_metrics(x, tokenizer)\n",
    ")"
   ]
  },
  {
   "cell_type": "code",
   "execution_count": null,
   "metadata": {
    "scrolled": true,
    "tags": []
   },
   "outputs": [
    {
     "name": "stderr",
     "output_type": "stream",
     "text": [
      "The following columns in the training set  don't have a corresponding argument in `BartModelV2.forward` and have been ignored: title, split, comment_id, post, counter, n_sentences, __index_level_0__, post_id.\n",
      "***** Running training *****\n",
      "  Num examples = 295914\n",
      "  Num Epochs = 6\n",
      "  Instantaneous batch size per device = 32\n",
      "  Total train batch size (w. parallel, distributed & accumulation) = 32\n",
      "  Gradient Accumulation steps = 1\n",
      "  Total optimization steps = 55488\n"
     ]
    },
    {
     "data": {
      "text/html": [
       "\n",
       "    <div>\n",
       "      \n",
       "      <progress value='393' max='55488' style='width:300px; height:20px; vertical-align: middle;'></progress>\n",
       "      [  393/55488 02:17 < 5:22:28, 2.85 it/s, Epoch 0.04/6]\n",
       "    </div>\n",
       "    <table border=\"1\" class=\"dataframe\">\n",
       "  <thead>\n",
       "    <tr style=\"text-align: left;\">\n",
       "      <th>Step</th>\n",
       "      <th>Training Loss</th>\n",
       "      <th>Validation Loss</th>\n",
       "    </tr>\n",
       "  </thead>\n",
       "  <tbody>\n",
       "  </tbody>\n",
       "</table><p>"
      ],
      "text/plain": [
       "<IPython.core.display.HTML object>"
      ]
     },
     "metadata": {},
     "output_type": "display_data"
    }
   ],
   "source": [
    "trainer.train()\n",
    "trainer.save_model()"
   ]
  },
  {
   "cell_type": "code",
   "execution_count": null,
   "metadata": {},
   "outputs": [],
   "source": []
  }
 ],
 "metadata": {
  "kernelspec": {
   "display_name": "Python 3",
   "language": "python",
   "name": "python3"
  },
  "language_info": {
   "codemirror_mode": {
    "name": "ipython",
    "version": 3
   },
   "file_extension": ".py",
   "mimetype": "text/x-python",
   "name": "python",
   "nbconvert_exporter": "python",
   "pygments_lexer": "ipython3",
   "version": "3.6.9"
  }
 },
 "nbformat": 4,
 "nbformat_minor": 4
}
