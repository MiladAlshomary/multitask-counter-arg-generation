{
 "cells": [
  {
   "cell_type": "markdown",
   "metadata": {},
   "source": [
    "### This notebook is to jointly train BART-v2 model for both generating the conclusion and the counter"
   ]
  },
  {
   "cell_type": "code",
   "execution_count": 1,
   "metadata": {},
   "outputs": [],
   "source": [
    "import os\n",
    "import sys\n",
    "os.environ[\"CUDA_DEVICE_ORDER\"]=\"PCI_BUS_ID\"   # see issue #152\n",
    "os.environ[\"CUDA_VISIBLE_DEVICES\"]=\"1\""
   ]
  },
  {
   "cell_type": "code",
   "execution_count": 2,
   "metadata": {},
   "outputs": [],
   "source": [
    "sys.path.append('../src-py')"
   ]
  },
  {
   "cell_type": "code",
   "execution_count": 3,
   "metadata": {},
   "outputs": [
    {
     "name": "stdout",
     "output_type": "stream",
     "text": [
      "Running on transformers v4.9.1 and datasets v1.10.2\n"
     ]
    }
   ],
   "source": [
    "import transformers\n",
    "import datasets\n",
    "from mt_bart_v2 import *\n",
    "\n",
    "print(f\"Running on transformers v{transformers.__version__} and datasets v{datasets.__version__}\")"
   ]
  },
  {
   "cell_type": "code",
   "execution_count": 4,
   "metadata": {},
   "outputs": [],
   "source": [
    "import torch\n",
    "import json\n",
    "\n",
    "import nltk\n",
    "import numpy as np\n",
    "import pandas as pd\n",
    "\n",
    "from pathlib import Path\n",
    "from datasets import load_dataset, load_metric, Dataset\n",
    "\n",
    "from transformers import AutoModelForSeq2SeqLM, DataCollatorForSeq2Seq, Seq2SeqTrainingArguments, Seq2SeqTrainer\n",
    "from transformers import BartTokenizer, BartForConditionalGeneration"
   ]
  },
  {
   "cell_type": "code",
   "execution_count": 5,
   "metadata": {},
   "outputs": [],
   "source": [
    "device = torch.device('cuda') if torch.cuda.is_available() else torch.device('cpu')"
   ]
  },
  {
   "cell_type": "code",
   "execution_count": 6,
   "metadata": {
    "scrolled": true,
    "tags": []
   },
   "outputs": [
    {
     "name": "stderr",
     "output_type": "stream",
     "text": [
      "Some weights of the model checkpoint at facebook/bart-base were not used when initializing BartModelV2: ['decoder.layers.1.final_layer_norm.bias', 'decoder.layers.5.encoder_attn.q_proj.weight', 'decoder.layers.0.encoder_attn.v_proj.weight', 'decoder.layers.0.encoder_attn.out_proj.bias', 'decoder.layers.2.fc1.weight', 'decoder.layers.4.fc2.weight', 'decoder.layers.5.self_attn.k_proj.weight', 'decoder.layers.3.self_attn.k_proj.weight', 'decoder.layers.0.self_attn.k_proj.bias', 'decoder.layers.4.final_layer_norm.weight', 'decoder.layers.4.encoder_attn.k_proj.bias', 'decoder.layers.1.fc2.weight', 'decoder.layers.1.self_attn.out_proj.bias', 'decoder.layers.3.encoder_attn_layer_norm.bias', 'decoder.layers.1.encoder_attn.v_proj.bias', 'decoder.layers.2.self_attn_layer_norm.bias', 'decoder.layers.5.self_attn.v_proj.weight', 'decoder.layers.2.encoder_attn.k_proj.bias', 'decoder.layers.0.encoder_attn.q_proj.weight', 'decoder.layers.2.self_attn.q_proj.weight', 'decoder.layers.5.encoder_attn.k_proj.bias', 'decoder.layers.0.encoder_attn.v_proj.bias', 'decoder.layers.1.encoder_attn.out_proj.bias', 'decoder.layers.1.fc2.bias', 'decoder.layers.0.encoder_attn.out_proj.weight', 'decoder.layers.5.self_attn.out_proj.weight', 'decoder.layers.4.self_attn.k_proj.bias', 'decoder.layers.4.encoder_attn_layer_norm.bias', 'decoder.layers.3.self_attn.out_proj.weight', 'decoder.layers.2.self_attn.v_proj.weight', 'decoder.layers.5.fc1.bias', 'decoder.layers.3.self_attn.q_proj.bias', 'decoder.layers.5.encoder_attn_layer_norm.weight', 'decoder.layers.4.encoder_attn.q_proj.weight', 'decoder.layernorm_embedding.bias', 'decoder.layers.3.encoder_attn.out_proj.weight', 'decoder.layers.1.encoder_attn.out_proj.weight', 'decoder.layers.2.self_attn_layer_norm.weight', 'decoder.layers.2.self_attn.k_proj.weight', 'decoder.layers.5.encoder_attn.out_proj.bias', 'decoder.layers.4.self_attn.out_proj.weight', 'decoder.layers.3.encoder_attn.q_proj.weight', 'decoder.layers.3.fc2.bias', 'decoder.layers.1.final_layer_norm.weight', 'decoder.layers.0.fc2.weight', 'decoder.embed_positions.weight', 'decoder.layers.1.fc1.weight', 'decoder.layers.4.self_attn.out_proj.bias', 'decoder.layers.4.encoder_attn.k_proj.weight', 'decoder.layers.4.encoder_attn.q_proj.bias', 'decoder.layers.1.self_attn.q_proj.bias', 'decoder.layers.2.final_layer_norm.bias', 'decoder.layers.1.fc1.bias', 'decoder.layers.2.fc1.bias', 'decoder.layers.3.encoder_attn.k_proj.weight', 'decoder.layers.3.final_layer_norm.bias', 'decoder.layers.5.final_layer_norm.bias', 'decoder.layers.0.encoder_attn.q_proj.bias', 'decoder.layers.2.self_attn.out_proj.bias', 'decoder.layers.5.self_attn.k_proj.bias', 'decoder.layers.4.self_attn.v_proj.bias', 'decoder.layers.2.encoder_attn.q_proj.weight', 'decoder.layers.4.final_layer_norm.bias', 'decoder.layers.5.encoder_attn.v_proj.bias', 'decoder.layers.3.self_attn.v_proj.weight', 'decoder.layers.3.fc2.weight', 'decoder.layers.0.self_attn.k_proj.weight', 'decoder.layers.4.encoder_attn.out_proj.bias', 'decoder.layers.5.final_layer_norm.weight', 'decoder.layers.2.encoder_attn.k_proj.weight', 'decoder.layers.2.final_layer_norm.weight', 'decoder.layers.5.encoder_attn.q_proj.bias', 'decoder.layers.0.encoder_attn_layer_norm.bias', 'decoder.layers.3.encoder_attn.v_proj.weight', 'decoder.layers.3.encoder_attn.v_proj.bias', 'decoder.layers.3.encoder_attn.q_proj.bias', 'decoder.layers.5.fc2.bias', 'decoder.layers.5.fc1.weight', 'decoder.layers.3.self_attn.v_proj.bias', 'decoder.layers.2.encoder_attn.out_proj.bias', 'decoder.layers.4.fc2.bias', 'decoder.layers.5.self_attn.out_proj.bias', 'decoder.layers.2.encoder_attn_layer_norm.bias', 'decoder.layers.5.fc2.weight', 'decoder.layers.2.encoder_attn.out_proj.weight', 'decoder.layers.4.fc1.weight', 'decoder.layers.5.self_attn.q_proj.weight', 'decoder.layers.2.self_attn.q_proj.bias', 'decoder.layers.1.encoder_attn.k_proj.bias', 'decoder.layers.4.encoder_attn.v_proj.weight', 'decoder.layers.0.encoder_attn_layer_norm.weight', 'decoder.layers.0.fc1.weight', 'decoder.layers.0.self_attn.q_proj.bias', 'decoder.layers.5.self_attn_layer_norm.weight', 'decoder.layers.3.fc1.bias', 'decoder.layernorm_embedding.weight', 'decoder.layers.0.self_attn.out_proj.bias', 'decoder.layers.4.encoder_attn.out_proj.weight', 'decoder.layers.0.final_layer_norm.bias', 'decoder.layers.1.encoder_attn.k_proj.weight', 'decoder.layers.0.self_attn.q_proj.weight', 'decoder.layers.0.fc1.bias', 'decoder.layers.5.encoder_attn_layer_norm.bias', 'decoder.layers.0.final_layer_norm.weight', 'decoder.layers.5.self_attn.q_proj.bias', 'decoder.layers.2.encoder_attn.q_proj.bias', 'decoder.layers.0.self_attn.v_proj.weight', 'decoder.layers.1.self_attn_layer_norm.weight', 'decoder.embed_tokens.weight', 'decoder.layers.5.encoder_attn.k_proj.weight', 'decoder.layers.3.self_attn.k_proj.bias', 'decoder.layers.0.self_attn_layer_norm.weight', 'decoder.layers.3.self_attn.q_proj.weight', 'decoder.layers.2.self_attn.out_proj.weight', 'decoder.layers.4.self_attn.q_proj.bias', 'decoder.layers.3.self_attn_layer_norm.bias', 'decoder.layers.1.self_attn.k_proj.bias', 'decoder.layers.1.encoder_attn_layer_norm.bias', 'decoder.layers.2.fc2.weight', 'decoder.layers.2.encoder_attn.v_proj.bias', 'decoder.layers.0.self_attn.v_proj.bias', 'decoder.layers.1.encoder_attn_layer_norm.weight', 'decoder.layers.3.fc1.weight', 'decoder.layers.3.encoder_attn.k_proj.bias', 'decoder.layers.3.encoder_attn_layer_norm.weight', 'decoder.layers.4.encoder_attn.v_proj.bias', 'decoder.layers.2.self_attn.k_proj.bias', 'decoder.layers.4.fc1.bias', 'decoder.layers.1.self_attn.v_proj.bias', 'decoder.layers.1.self_attn.k_proj.weight', 'decoder.layers.0.encoder_attn.k_proj.weight', 'decoder.layers.0.self_attn.out_proj.weight', 'decoder.layers.4.self_attn_layer_norm.weight', 'decoder.layers.3.encoder_attn.out_proj.bias', 'decoder.layers.2.encoder_attn.v_proj.weight', 'decoder.layers.3.final_layer_norm.weight', 'decoder.layers.3.self_attn_layer_norm.weight', 'decoder.layers.5.encoder_attn.out_proj.weight', 'decoder.layers.1.self_attn.out_proj.weight', 'decoder.layers.2.self_attn.v_proj.bias', 'decoder.layers.2.fc2.bias', 'decoder.layers.0.encoder_attn.k_proj.bias', 'decoder.layers.2.encoder_attn_layer_norm.weight', 'decoder.layers.0.fc2.bias', 'decoder.layers.1.self_attn_layer_norm.bias', 'decoder.layers.1.encoder_attn.q_proj.weight', 'decoder.layers.4.self_attn.k_proj.weight', 'decoder.layers.4.self_attn_layer_norm.bias', 'decoder.layers.1.encoder_attn.v_proj.weight', 'decoder.layers.5.self_attn.v_proj.bias', 'decoder.layers.3.self_attn.out_proj.bias', 'decoder.layers.4.self_attn.q_proj.weight', 'decoder.layers.5.encoder_attn.v_proj.weight', 'decoder.layers.1.self_attn.q_proj.weight', 'decoder.layers.5.self_attn_layer_norm.bias', 'decoder.layers.4.self_attn.v_proj.weight', 'decoder.layers.1.encoder_attn.q_proj.bias', 'decoder.layers.1.self_attn.v_proj.weight', 'decoder.layers.4.encoder_attn_layer_norm.weight', 'decoder.layers.0.self_attn_layer_norm.bias']\n",
      "- This IS expected if you are initializing BartModelV2 from the checkpoint of a model trained on another task or with another architecture (e.g. initializing a BertForSequenceClassification model from a BertForPreTraining model).\n",
      "- This IS NOT expected if you are initializing BartModelV2 from the checkpoint of a model that you expect to be exactly identical (initializing a BertForSequenceClassification model from a BertForSequenceClassification model).\n",
      "Some weights of BartModelV2 were not initialized from the model checkpoint at facebook/bart-base and are newly initialized: ['conclusion_decoder.layers.4.fc1.bias', 'counter_decoder.layers.4.self_attn.q_proj.bias', 'counter_decoder.layers.2.encoder_attn.k_proj.bias', 'counter_decoder.layers.4.fc2.weight', 'counter_decoder.layers.3.self_attn_layer_norm.weight', 'counter_decoder.layers.0.encoder_attn_layer_norm.weight', 'conclusion_decoder.layers.2.encoder_attn.q_proj.weight', 'conclusion_decoder.layers.1.encoder_attn.k_proj.bias', 'conclusion_decoder.layers.0.fc1.bias', 'conclusion_decoder.layers.1.self_attn.k_proj.bias', 'counter_decoder.layers.4.encoder_attn.q_proj.bias', 'conclusion_decoder.layers.0.encoder_attn.k_proj.weight', 'conclusion_decoder.layers.4.fc2.weight', 'conclusion_decoder.layers.2.encoder_attn.v_proj.weight', 'counter_decoder.layers.5.encoder_attn.out_proj.weight', 'conclusion_decoder.layers.0.self_attn_layer_norm.weight', 'counter_decoder.layers.5.final_layer_norm.weight', 'counter_decoder.layers.2.encoder_attn.out_proj.weight', 'counter_decoder.layers.3.fc1.weight', 'counter_decoder.layers.1.self_attn.q_proj.bias', 'counter_decoder.layers.5.encoder_attn.v_proj.bias', 'counter_decoder.embed_tokens.weight', 'counter_decoder.layers.0.self_attn_layer_norm.weight', 'conclusion_decoder.layers.2.fc2.bias', 'counter_decoder.layers.4.self_attn.out_proj.weight', 'counter_decoder.layers.1.self_attn.k_proj.bias', 'counter_decoder.layers.0.fc1.weight', 'counter_decoder.layers.5.encoder_attn.q_proj.bias', 'counter_decoder.layers.1.final_layer_norm.weight', 'conclusion_decoder.layers.1.final_layer_norm.weight', 'counter_decoder.layers.4.encoder_attn.q_proj.weight', 'conclusion_decoder.layers.5.final_layer_norm.weight', 'conclusion_decoder.layers.4.encoder_attn.k_proj.bias', 'conclusion_decoder.layers.1.self_attn.out_proj.weight', 'conclusion_decoder.layers.4.encoder_attn_layer_norm.weight', 'conclusion_decoder.layers.3.encoder_attn_layer_norm.weight', 'counter_decoder.layers.0.final_layer_norm.bias', 'counter_decoder.layers.4.self_attn.k_proj.weight', 'conclusion_decoder.layers.0.encoder_attn.out_proj.weight', 'counter_decoder.layers.0.encoder_attn.q_proj.bias', 'conclusion_decoder.layers.1.fc1.weight', 'conclusion_decoder.layers.2.fc1.bias', 'conclusion_decoder.layers.4.self_attn_layer_norm.weight', 'counter_decoder.layernorm_embedding.weight', 'conclusion_decoder.layers.2.encoder_attn_layer_norm.weight', 'counter_decoder.layers.4.self_attn.v_proj.bias', 'counter_decoder.layers.4.encoder_attn.v_proj.bias', 'conclusion_decoder.layers.3.fc2.weight', 'conclusion_decoder.layers.0.final_layer_norm.bias', 'counter_decoder.layers.1.encoder_attn.v_proj.bias', 'counter_decoder.layers.2.encoder_attn_layer_norm.bias', 'counter_decoder.layers.0.fc2.bias', 'conclusion_decoder.layers.1.fc1.bias', 'counter_decoder.layers.0.encoder_attn.v_proj.bias', 'conclusion_decoder.layers.0.self_attn_layer_norm.bias', 'conclusion_decoder.layers.2.self_attn.k_proj.weight', 'counter_decoder.layers.5.self_attn.q_proj.weight', 'counter_decoder.layers.5.self_attn.k_proj.bias', 'conclusion_decoder.layers.4.self_attn.k_proj.bias', 'counter_decoder.layers.0.self_attn.out_proj.weight', 'counter_decoder.layers.0.self_attn.out_proj.bias', 'counter_decoder.layers.2.fc1.weight', 'conclusion_decoder.layers.0.self_attn.k_proj.bias', 'counter_decoder.layers.4.encoder_attn_layer_norm.bias', 'counter_decoder.layers.1.self_attn.out_proj.bias', 'conclusion_decoder.layers.1.self_attn.k_proj.weight', 'conclusion_decoder.layers.0.encoder_attn.k_proj.bias', 'conclusion_decoder.layers.2.self_attn_layer_norm.bias', 'counter_decoder.layers.4.encoder_attn.k_proj.weight', 'counter_decoder.layers.0.encoder_attn.k_proj.bias', 'conclusion_decoder.layers.5.self_attn.q_proj.weight', 'conclusion_decoder.layers.2.encoder_attn.out_proj.bias', 'counter_decoder.layers.5.self_attn_layer_norm.weight', 'counter_decoder.layers.2.final_layer_norm.weight', 'counter_decoder.layers.1.fc2.weight', 'conclusion_decoder.layers.4.encoder_attn.out_proj.weight', 'counter_decoder.layers.4.final_layer_norm.weight', 'counter_decoder.layers.1.fc1.bias', 'conclusion_decoder.layers.0.fc1.weight', 'conclusion_decoder.embed_positions.weight', 'conclusion_decoder.layers.0.self_attn.v_proj.weight', 'counter_decoder.layers.1.encoder_attn.q_proj.weight', 'counter_decoder.layers.5.self_attn.v_proj.bias', 'conclusion_decoder.layers.4.encoder_attn.out_proj.bias', 'conclusion_decoder.layers.4.self_attn.q_proj.bias', 'conclusion_decoder.layers.0.encoder_attn.q_proj.bias', 'conclusion_decoder.layers.4.self_attn_layer_norm.bias', 'conclusion_decoder.layers.4.final_layer_norm.bias', 'counter_decoder.layers.0.fc2.weight', 'conclusion_decoder.layers.0.fc2.bias', 'count_lm_head.weight', 'conclusion_decoder.layers.0.encoder_attn.v_proj.bias', 'conclusion_decoder.layers.1.encoder_attn.k_proj.weight', 'counter_decoder.layers.2.self_attn.v_proj.weight', 'counter_decoder.layers.0.self_attn.v_proj.weight', 'counter_decoder.layers.5.encoder_attn.v_proj.weight', 'counter_decoder.layers.5.self_attn_layer_norm.bias', 'counter_decoder.layers.1.encoder_attn.q_proj.bias', 'conclusion_decoder.layers.3.self_attn_layer_norm.bias', 'counter_decoder.layers.2.encoder_attn.v_proj.weight', 'conclusion_decoder.embed_tokens.weight', 'conclusion_decoder.layers.0.self_attn.out_proj.bias', 'conclusion_decoder.layers.0.fc2.weight', 'counter_decoder.layers.1.fc1.weight', 'conclusion_decoder.layers.4.self_attn.v_proj.weight', 'conclusion_decoder.layers.1.encoder_attn.out_proj.weight', 'conclusion_decoder.layers.5.encoder_attn_layer_norm.bias', 'conclusion_decoder.layers.5.self_attn.q_proj.bias', 'conclusion_decoder.layers.4.encoder_attn.k_proj.weight', 'counter_decoder.layers.3.self_attn.q_proj.weight', 'conclusion_decoder.layers.2.self_attn.v_proj.bias', 'conclusion_decoder.layers.5.self_attn_layer_norm.bias', 'conclusion_decoder.layers.0.encoder_attn_layer_norm.weight', 'conclusion_decoder.layers.3.self_attn.v_proj.bias', 'conclusion_decoder.layers.5.encoder_attn.v_proj.bias', 'conclusion_decoder.layers.4.encoder_attn.v_proj.weight', 'counter_decoder.layers.3.encoder_attn.out_proj.bias', 'counter_decoder.layers.3.self_attn.out_proj.weight', 'counter_decoder.layernorm_embedding.bias', 'conclusion_decoder.layers.4.fc2.bias', 'conclusion_decoder.layers.0.encoder_attn_layer_norm.bias', 'conclusion_decoder.layers.1.self_attn.out_proj.bias', 'counter_decoder.layers.2.self_attn.q_proj.weight', 'conclusion_decoder.layers.2.encoder_attn.q_proj.bias', 'conclusion_decoder.layers.3.encoder_attn.k_proj.weight', 'conclusion_decoder.layers.3.fc1.bias', 'conclusion_decoder.layers.2.self_attn.v_proj.weight', 'counter_decoder.layers.1.encoder_attn.k_proj.bias', 'counter_decoder.layers.3.encoder_attn.v_proj.bias', 'conclusion_decoder.layers.5.self_attn.out_proj.bias', 'conclusion_decoder.layers.4.self_attn.k_proj.weight', 'counter_decoder.layers.3.encoder_attn.k_proj.bias', 'counter_decoder.layers.3.encoder_attn_layer_norm.weight', 'conclusion_decoder.layers.2.self_attn.q_proj.bias', 'counter_decoder.layers.2.encoder_attn.k_proj.weight', 'conclusion_decoder.layers.5.encoder_attn.k_proj.weight', 'conclusion_decoder.layers.3.final_layer_norm.weight', 'conclusion_decoder.layers.5.fc2.bias', 'counter_decoder.layers.3.fc2.weight', 'counter_decoder.layers.1.encoder_attn_layer_norm.bias', 'counter_decoder.layers.0.encoder_attn.q_proj.weight', 'counter_decoder.layers.1.encoder_attn.out_proj.weight', 'counter_decoder.layers.2.final_layer_norm.bias', 'counter_decoder.layers.3.encoder_attn.q_proj.weight', 'counter_decoder.layers.0.encoder_attn.v_proj.weight', 'counter_decoder.layers.5.fc2.weight', 'conclusion_decoder.layers.1.encoder_attn.v_proj.bias', 'counter_decoder.layers.3.self_attn.v_proj.bias', 'counter_decoder.layers.3.encoder_attn_layer_norm.bias', 'conclusion_decoder.layers.5.final_layer_norm.bias', 'conclusion_decoder.layers.0.encoder_attn.q_proj.weight', 'counter_decoder.layers.0.encoder_attn.out_proj.weight', 'conclusion_decoder.layers.1.encoder_attn_layer_norm.bias', 'conclusion_decoder.layers.5.self_attn_layer_norm.weight', 'conclusion_decoder.layers.1.self_attn.q_proj.weight', 'conclusion_decoder.layers.0.self_attn.q_proj.bias', 'conclusion_decoder.layers.2.self_attn.k_proj.bias', 'counter_decoder.layers.3.final_layer_norm.weight', 'counter_decoder.layers.5.encoder_attn_layer_norm.weight', 'counter_decoder.layers.0.self_attn.q_proj.weight', 'conclusion_decoder.layers.4.encoder_attn.v_proj.bias', 'counter_decoder.layers.1.final_layer_norm.bias', 'conclusion_decoder.layers.3.encoder_attn.out_proj.weight', 'counter_decoder.layers.3.self_attn.k_proj.bias', 'conclusion_decoder.layers.4.fc1.weight', 'counter_decoder.layers.5.fc1.weight', 'conclusion_decoder.layers.3.fc2.bias', 'conclusion_decoder.layers.4.self_attn.out_proj.weight', 'conclusion_decoder.layers.5.encoder_attn_layer_norm.weight', 'conclusion_decoder.layers.1.self_attn_layer_norm.weight', 'counter_decoder.layers.3.encoder_attn.k_proj.weight', 'counter_decoder.layers.2.self_attn.k_proj.bias', 'counter_decoder.layers.5.encoder_attn_layer_norm.bias', 'conclusion_decoder.layers.1.fc2.bias', 'counter_decoder.layers.1.self_attn.v_proj.bias', 'counter_decoder.layers.4.fc1.bias', 'conclusion_decoder.layers.5.self_attn.out_proj.weight', 'conclusion_decoder.layers.3.fc1.weight', 'counter_decoder.embed_positions.weight', 'conclusion_decoder.layers.1.self_attn_layer_norm.bias', 'counter_decoder.layers.1.self_attn.k_proj.weight', 'counter_decoder.layers.0.encoder_attn.k_proj.weight', 'counter_decoder.layers.2.encoder_attn.q_proj.bias', 'conclusion_decoder.layers.3.encoder_attn.v_proj.weight', 'conclusion_decoder.layers.5.encoder_attn.out_proj.bias', 'conclusion_decoder.layers.3.self_attn.q_proj.bias', 'counter_decoder.layers.4.self_attn_layer_norm.weight', 'counter_decoder.layers.3.self_attn.out_proj.bias', 'counter_decoder.layers.1.self_attn.out_proj.weight', 'conclusion_decoder.layers.3.self_attn.out_proj.weight', 'counter_decoder.layers.4.self_attn.k_proj.bias', 'counter_decoder.layers.2.fc1.bias', 'conclusion_decoder.layers.5.self_attn.v_proj.bias', 'conclusion_decoder.layers.2.encoder_attn.k_proj.weight', 'conclusion_decoder.layers.5.encoder_attn.k_proj.bias', 'conclusion_decoder.layers.2.fc1.weight', 'conclusion_decoder.layers.3.self_attn.k_proj.weight', 'conclusion_decoder.layers.3.encoder_attn.q_proj.bias', 'conclusion_decoder.layers.0.self_attn.k_proj.weight', 'counter_decoder.layers.2.self_attn.q_proj.bias', 'counter_decoder.layers.4.encoder_attn.out_proj.weight', 'counter_decoder.layers.4.encoder_attn_layer_norm.weight', 'counter_decoder.layers.4.self_attn.v_proj.weight', 'conc_lm_head.weight', 'counter_decoder.layers.0.self_attn.v_proj.bias', 'conclusion_decoder.layers.5.fc1.weight', 'conclusion_decoder.layers.3.encoder_attn.k_proj.bias', 'conclusion_decoder.layers.3.final_layer_norm.bias', 'counter_decoder.layers.5.final_layer_norm.bias', 'conclusion_decoder.layers.2.self_attn_layer_norm.weight', 'counter_decoder.layers.0.encoder_attn_layer_norm.bias', 'counter_decoder.layers.1.self_attn_layer_norm.weight', 'conclusion_decoder.layers.2.final_layer_norm.weight', 'counter_decoder.layers.3.encoder_attn.q_proj.bias', 'conclusion_decoder.layers.0.encoder_attn.out_proj.bias', 'counter_decoder.layers.4.fc1.weight', 'conclusion_decoder.layers.1.self_attn.v_proj.weight', 'conclusion_decoder.layers.5.encoder_attn.v_proj.weight', 'counter_decoder.layers.0.self_attn_layer_norm.bias', 'conclusion_decoder.layernorm_embedding.weight', 'counter_decoder.layers.4.fc2.bias', 'conclusion_decoder.layers.1.self_attn.v_proj.bias', 'conclusion_decoder.layers.2.encoder_attn_layer_norm.bias', 'counter_decoder.layers.5.encoder_attn.k_proj.weight', 'conclusion_decoder.layers.3.encoder_attn.out_proj.bias', 'counter_decoder.layers.1.encoder_attn_layer_norm.weight', 'counter_decoder.layers.5.fc2.bias', 'conclusion_decoder.layers.0.encoder_attn.v_proj.weight', 'conclusion_decoder.layers.2.fc2.weight', 'conclusion_decoder.layers.0.self_attn.q_proj.weight', 'counter_decoder.layers.5.fc1.bias', 'counter_decoder.layers.0.self_attn.q_proj.bias', 'conclusion_decoder.layers.3.self_attn.out_proj.bias', 'counter_decoder.layers.2.fc2.bias', 'conclusion_decoder.layers.2.self_attn.q_proj.weight', 'conclusion_decoder.layers.5.encoder_attn.out_proj.weight', 'conclusion_decoder.layers.5.encoder_attn.q_proj.weight', 'conclusion_decoder.layers.3.encoder_attn.v_proj.bias', 'counter_decoder.layers.5.self_attn.out_proj.bias', 'counter_decoder.layers.1.self_attn.v_proj.weight', 'counter_decoder.layers.3.final_layer_norm.bias', 'conclusion_decoder.layers.5.fc1.bias', 'conclusion_decoder.layernorm_embedding.bias', 'conclusion_decoder.layers.2.encoder_attn.v_proj.bias', 'counter_decoder.layers.0.self_attn.k_proj.weight', 'conclusion_decoder.layers.0.self_attn.out_proj.weight', 'conclusion_decoder.layers.0.self_attn.v_proj.bias', 'counter_decoder.layers.5.encoder_attn.k_proj.bias', 'counter_decoder.layers.4.final_layer_norm.bias', 'counter_decoder.layers.0.fc1.bias', 'counter_decoder.layers.5.encoder_attn.out_proj.bias', 'counter_decoder.layers.0.final_layer_norm.weight', 'conclusion_decoder.layers.5.fc2.weight', 'conclusion_decoder.layers.4.encoder_attn_layer_norm.bias', 'conclusion_decoder.layers.1.encoder_attn.q_proj.bias', 'counter_decoder.layers.2.self_attn_layer_norm.weight', 'conclusion_decoder.layers.1.final_layer_norm.bias', 'conclusion_decoder.layers.3.self_attn.k_proj.bias', 'counter_decoder.layers.2.self_attn_layer_norm.bias', 'counter_decoder.layers.2.self_attn.k_proj.weight', 'conclusion_decoder.layers.3.encoder_attn_layer_norm.bias', 'counter_decoder.layers.2.encoder_attn.out_proj.bias', 'counter_decoder.layers.4.encoder_attn.k_proj.bias', 'counter_decoder.layers.5.self_attn.v_proj.weight', 'counter_decoder.layers.3.fc1.bias', 'conclusion_decoder.layers.2.encoder_attn.out_proj.weight', 'counter_decoder.layers.5.self_attn.q_proj.bias', 'final_logits_bias', 'conclusion_decoder.layers.4.encoder_attn.q_proj.weight', 'conclusion_decoder.layers.0.final_layer_norm.weight', 'counter_decoder.layers.5.self_attn.out_proj.weight', 'conclusion_decoder.layers.5.self_attn.k_proj.weight', 'conclusion_decoder.layers.1.encoder_attn.q_proj.weight', 'counter_decoder.layers.1.encoder_attn.v_proj.weight', 'counter_decoder.layers.4.self_attn_layer_norm.bias', 'counter_decoder.layers.2.self_attn.v_proj.bias', 'conclusion_decoder.layers.1.encoder_attn.out_proj.bias', 'conclusion_decoder.layers.3.self_attn_layer_norm.weight', 'conclusion_decoder.layers.4.final_layer_norm.weight', 'counter_decoder.layers.2.self_attn.out_proj.weight', 'counter_decoder.layers.4.encoder_attn.out_proj.bias', 'counter_decoder.layers.1.self_attn_layer_norm.bias', 'conclusion_decoder.layers.2.self_attn.out_proj.weight', 'conclusion_decoder.layers.1.encoder_attn_layer_norm.weight', 'conclusion_decoder.layers.2.self_attn.out_proj.bias', 'conclusion_decoder.layers.3.encoder_attn.q_proj.weight', 'conclusion_decoder.layers.1.self_attn.q_proj.bias', 'counter_decoder.layers.2.encoder_attn_layer_norm.weight', 'conclusion_decoder.layers.3.self_attn.v_proj.weight', 'conclusion_decoder.layers.1.fc2.weight', 'counter_decoder.layers.1.encoder_attn.k_proj.weight', 'conclusion_decoder.layers.4.self_attn.v_proj.bias', 'counter_decoder.layers.5.self_attn.k_proj.weight', 'counter_decoder.layers.1.fc2.bias', 'counter_decoder.layers.3.self_attn.v_proj.weight', 'counter_decoder.layers.4.encoder_attn.v_proj.weight', 'conclusion_decoder.layers.5.self_attn.v_proj.weight', 'counter_decoder.layers.1.encoder_attn.out_proj.bias', 'conclusion_decoder.layers.4.self_attn.out_proj.bias', 'counter_decoder.layers.2.fc2.weight', 'counter_decoder.layers.3.fc2.bias', 'counter_decoder.layers.3.self_attn.q_proj.bias', 'counter_decoder.layers.3.encoder_attn.out_proj.weight', 'conclusion_decoder.layers.2.final_layer_norm.bias', 'conclusion_decoder.layers.2.encoder_attn.k_proj.bias', 'conclusion_decoder.layers.1.encoder_attn.v_proj.weight', 'counter_decoder.layers.4.self_attn.out_proj.bias', 'counter_decoder.layers.2.encoder_attn.q_proj.weight', 'conclusion_decoder.layers.5.encoder_attn.q_proj.bias', 'conclusion_decoder.layers.4.encoder_attn.q_proj.bias', 'conclusion_decoder.layers.4.self_attn.q_proj.weight', 'counter_decoder.layers.0.encoder_attn.out_proj.bias', 'counter_decoder.layers.4.self_attn.q_proj.weight', 'counter_decoder.layers.0.self_attn.k_proj.bias', 'conclusion_decoder.layers.3.self_attn.q_proj.weight', 'counter_decoder.layers.3.self_attn_layer_norm.bias', 'counter_decoder.layers.2.encoder_attn.v_proj.bias', 'counter_decoder.layers.5.encoder_attn.q_proj.weight', 'counter_decoder.layers.3.encoder_attn.v_proj.weight', 'counter_decoder.layers.2.self_attn.out_proj.bias', 'conclusion_decoder.layers.5.self_attn.k_proj.bias', 'counter_decoder.layers.3.self_attn.k_proj.weight', 'counter_decoder.layers.1.self_attn.q_proj.weight']\n",
      "You should probably TRAIN this model on a down-stream task to be able to use it for predictions and inference.\n"
     ]
    },
    {
     "data": {
      "text/plain": [
       "<All keys matched successfully>"
      ]
     },
     "execution_count": 6,
     "metadata": {},
     "output_type": "execute_result"
    }
   ],
   "source": [
    "# Input to the model should be:\n",
    "# input_ids: the encoded premises\n",
    "# attention_mask: the attention mask of the premises\n",
    "# conclusion_decoder_input_ids: the encoded conclusion\n",
    "# conclusion_decoder_attention_mask: the attention mask of the conclusion\n",
    "# counter_decoder_input_ids: the encoded counter\n",
    "# counter_decoder_attention_mask: the attention mask of the counter\n",
    "# conclusion_labels: this is the encoded conclusion again\n",
    "# counter_labels: this is the encoded counter again\n",
    "\n",
    "tokenizer = BartTokenizer.from_pretrained('facebook/bart-base')\n",
    "model     = BartModelV2.from_pretrained('facebook/bart-base', conc_loss_weight = 0.5, counter_loss_weight=0.5).to(device)\n",
    "original_bart_model = BartModel.from_pretrained('facebook/bart-base').to(device)\n",
    "#load the weights of the two decoders\n",
    "model.conclusion_decoder.load_state_dict(original_bart_model.decoder.state_dict())\n",
    "model.counter_decoder.load_state_dict(original_bart_model.decoder.state_dict())"
   ]
  },
  {
   "cell_type": "code",
   "execution_count": 7,
   "metadata": {},
   "outputs": [],
   "source": [
    "data_fold = '../../../data-ceph/arguana/arg-generation/multi-taks-counter-argument-generation/'"
   ]
  },
  {
   "cell_type": "code",
   "execution_count": 32,
   "metadata": {},
   "outputs": [],
   "source": [
    "train_ds = Dataset.from_pandas(pd.read_pickle(data_fold+'/reddit_data/conclusion_and_ca_generation/train_conclusion_comp_remove_75sem_perc.pkl'))\n",
    "valid_ds = Dataset.from_pandas(pd.read_pickle(data_fold+'/reddit_data/conclusion_and_ca_generation/valid_conclusion_comp_remove_75sem_perc.pkl'))"
   ]
  },
  {
   "cell_type": "code",
   "execution_count": 33,
   "metadata": {},
   "outputs": [],
   "source": [
    "max_input_length = 512\n",
    "max_target_length = 200\n",
    "\n",
    "rouge_metric = load_metric(\"rouge\")\n",
    "bertscore_metric = load_metric('bertscore')\n",
    "\n",
    "#Encoding function for joint generation of conclusion and counter\n",
    "def preprocess_function(examples, tokenizer, premises_clm, counter_clm, conclusion_clm, max_input_length=512, max_conc_length=100, max_counter_length=200):\n",
    "    premises   = examples[premises_clm]\n",
    "    conclusions = examples[conclusion_clm]\n",
    "    counters = examples[counter_clm]\n",
    "    \n",
    "        \n",
    "    premises = [' '.join(x) for x in premises] if isinstance(premises[0], list) else premises\n",
    "    counters = [' '.join(x) for x in counters] if isinstance(counters[0], list) else counters\n",
    "    conclusions = [' '.join(x) for x in conclusions] if isinstance(conclusions[0], list) else conclusions\n",
    "    \n",
    "    model_inputs = tokenizer(premises, max_length=max_input_length, truncation=True, padding='max_length')\n",
    "        \n",
    "    # Setup the tokenizer for targets\n",
    "    with tokenizer.as_target_tokenizer():\n",
    "        counter_labels = tokenizer(counters, max_length=max_counter_length, truncation=True, padding='max_length')\n",
    "        conclusion_labels = tokenizer(conclusions, max_length=max_conc_length, truncation=True, padding='max_length')\n",
    "\n",
    "    #     print(text_inputs[0])\n",
    "    #     print(model_inputs['input_ids'][0])\n",
    "    #     print('-----------------')\n",
    "    #     print(text_outputs[0])\n",
    "    #     print(labels[\"input_ids\"][0])\n",
    "    \n",
    "    \n",
    "    model_inputs[\"conclusion_labels\"] = conclusion_labels[\"input_ids\"]\n",
    "    model_inputs[\"counter_labels\"] = counter_labels[\"input_ids\"]\n",
    "    #model_inputs[\"counter_decoder_attention_mask\"] = counter_labels['attention_mask']\n",
    "    #model_inputs[\"conclusion_decoder_attention_mask\"] = conclusion_labels['attention_mask']\n",
    "    \n",
    "    return model_inputs\n",
    "\n",
    "def compute_metrics(eval_pred, tokenizer):\n",
    "    predictions, labels = eval_pred\n",
    "    decoded_preds = tokenizer.batch_decode(predictions, skip_special_tokens=True)\n",
    "    # Replace -100 in the labels as we can't decode them.\n",
    "    labels = np.where(labels != -100, labels, tokenizer.pad_token_id)\n",
    "    decoded_labels = tokenizer.batch_decode(labels, skip_special_tokens=True)\n",
    "    \n",
    "    # Rouge expects a newline after each sentence\n",
    "    decoded_preds = [\"\\n\".join(nltk.sent_tokenize(pred.strip())) for pred in decoded_preds]\n",
    "    decoded_labels = [\"\\n\".join(nltk.sent_tokenize(label.strip())) for label in decoded_labels]\n",
    "    \n",
    "    result = rouge_metric.compute(predictions=decoded_preds, references=decoded_labels, use_stemmer=True)\n",
    "    # Extract a few results\n",
    "    result = {key: value.mid.fmeasure * 100 for key, value in result.items()}\n",
    "    \n",
    "    #compute BertScore bertscore_metric\n",
    "    bertscore_result = bertscore_metric.compute(predictions=decoded_preds, references=decoded_labels, lang='en', rescale_with_baseline=True)\n",
    "    result['bert-fscore'] = round(np.mean(bertscore_result['f1']), 2)"
   ]
  },
  {
   "cell_type": "code",
   "execution_count": 34,
   "metadata": {},
   "outputs": [],
   "source": [
    "#downsample the training dataset\n",
    "# tmp_ds = train_ds.train_test_split(0.01)\n",
    "# train_ds = tmp_ds['test']"
   ]
  },
  {
   "cell_type": "code",
   "execution_count": 35,
   "metadata": {},
   "outputs": [
    {
     "data": {
      "text/plain": [
       "92397"
      ]
     },
     "execution_count": 35,
     "metadata": {},
     "output_type": "execute_result"
    }
   ],
   "source": [
    "len(train_ds)"
   ]
  },
  {
   "cell_type": "code",
   "execution_count": 36,
   "metadata": {},
   "outputs": [],
   "source": [
    "#downsample the valid dataset\n",
    "tmp_ds = valid_ds.train_test_split(0.1)\n",
    "valid_ds = tmp_ds['test']"
   ]
  },
  {
   "cell_type": "code",
   "execution_count": 37,
   "metadata": {},
   "outputs": [
    {
     "data": {
      "text/plain": [
       "3318"
      ]
     },
     "execution_count": 37,
     "metadata": {},
     "output_type": "execute_result"
    }
   ],
   "source": [
    "len(valid_ds)"
   ]
  },
  {
   "cell_type": "code",
   "execution_count": 38,
   "metadata": {},
   "outputs": [
    {
     "data": {
      "application/vnd.jupyter.widget-view+json": {
       "model_id": "bef0c4c352e64df2b202459353e922cb",
       "version_major": 2,
       "version_minor": 0
      },
      "text/plain": [
       "  0%|          | 0/93 [00:00<?, ?ba/s]"
      ]
     },
     "metadata": {},
     "output_type": "display_data"
    },
    {
     "data": {
      "application/vnd.jupyter.widget-view+json": {
       "model_id": "6a00b2a105904020878ba2ebf6cd740a",
       "version_major": 2,
       "version_minor": 0
      },
      "text/plain": [
       "  0%|          | 0/4 [00:00<?, ?ba/s]"
      ]
     },
     "metadata": {},
     "output_type": "display_data"
    }
   ],
   "source": [
    "train_tokenized_ds = train_ds.map(lambda x :preprocess_function(x, tokenizer, 'masked_premises', 'counter', 'title'), batched=True)\n",
    "valid_tokenized_ds = valid_ds.map(lambda x :preprocess_function(x, tokenizer, 'masked_premises', 'counter', 'title'), batched=True)"
   ]
  },
  {
   "cell_type": "code",
   "execution_count": 39,
   "metadata": {},
   "outputs": [
    {
     "name": "stderr",
     "output_type": "stream",
     "text": [
      "PyTorch: setting up devices\n",
      "The default value for the training argument `--report_to` will change in v5 (from all installed integrations to none). In v5, you will need to use `--report_to all` to get the same behavior as now. You should start updating your code and make this info disappear :-).\n"
     ]
    }
   ],
   "source": [
    "batch_size = 16\n",
    "args = Seq2SeqTrainingArguments(\n",
    "    \"../data/output/joint-con-counter-bart-model-50-50\",\n",
    "    evaluation_strategy = \"steps\",\n",
    "    eval_steps=1000,\n",
    "    learning_rate=2e-5,\n",
    "    per_device_train_batch_size=batch_size,\n",
    "    per_device_eval_batch_size=batch_size,\n",
    "    weight_decay=0.01,\n",
    "    save_total_limit=10,\n",
    "    num_train_epochs=6,\n",
    "    predict_with_generate=False\n",
    ")"
   ]
  },
  {
   "cell_type": "code",
   "execution_count": 40,
   "metadata": {},
   "outputs": [],
   "source": [
    "data_collator = DataCollatorForSeq2Seq(tokenizer, model=model)"
   ]
  },
  {
   "cell_type": "code",
   "execution_count": 41,
   "metadata": {},
   "outputs": [],
   "source": [
    "trainer = Seq2SeqTrainer(\n",
    "    model,\n",
    "    args,\n",
    "    train_dataset=train_tokenized_ds,\n",
    "    eval_dataset=valid_tokenized_ds,\n",
    "    data_collator=data_collator,\n",
    "    tokenizer=tokenizer,\n",
    "    #compute_metrics=compute_metrics\n",
    ")"
   ]
  },
  {
   "cell_type": "code",
   "execution_count": null,
   "metadata": {
    "scrolled": true,
    "tags": []
   },
   "outputs": [
    {
     "name": "stderr",
     "output_type": "stream",
     "text": [
      "The following columns in the training set  don't have a corresponding argument in `BartModelV2.forward` and have been ignored: counter, __index_level_0__, premises_with_conclusion, bart_conclusion, post, split, masked_premises, title, post_id, comment_id, num_cand_conc, n_sentences.\n",
      "***** Running training *****\n",
      "  Num examples = 92397\n",
      "  Num Epochs = 6\n",
      "  Instantaneous batch size per device = 16\n",
      "  Total train batch size (w. parallel, distributed & accumulation) = 16\n",
      "  Gradient Accumulation steps = 1\n",
      "  Total optimization steps = 34650\n"
     ]
    },
    {
     "data": {
      "text/html": [
       "\n",
       "    <div>\n",
       "      \n",
       "      <progress value='6005' max='34650' style='width:300px; height:20px; vertical-align: middle;'></progress>\n",
       "      [ 6005/34650 22:46 < 1:48:38, 4.39 it/s, Epoch 1.04/6]\n",
       "    </div>\n",
       "    <table border=\"1\" class=\"dataframe\">\n",
       "  <thead>\n",
       "    <tr style=\"text-align: left;\">\n",
       "      <th>Step</th>\n",
       "      <th>Training Loss</th>\n",
       "      <th>Validation Loss</th>\n",
       "    </tr>\n",
       "  </thead>\n",
       "  <tbody>\n",
       "    <tr>\n",
       "      <td>1000</td>\n",
       "      <td>2.558900</td>\n",
       "      <td>No log</td>\n",
       "    </tr>\n",
       "    <tr>\n",
       "      <td>2000</td>\n",
       "      <td>2.491800</td>\n",
       "      <td>No log</td>\n",
       "    </tr>\n",
       "    <tr>\n",
       "      <td>3000</td>\n",
       "      <td>2.494000</td>\n",
       "      <td>No log</td>\n",
       "    </tr>\n",
       "    <tr>\n",
       "      <td>4000</td>\n",
       "      <td>2.466800</td>\n",
       "      <td>No log</td>\n",
       "    </tr>\n",
       "    <tr>\n",
       "      <td>5000</td>\n",
       "      <td>2.251800</td>\n",
       "      <td>No log</td>\n",
       "    </tr>\n",
       "    <tr>\n",
       "      <td>6000</td>\n",
       "      <td>2.108500</td>\n",
       "      <td>No log</td>\n",
       "    </tr>\n",
       "  </tbody>\n",
       "</table><p>"
      ],
      "text/plain": [
       "<IPython.core.display.HTML object>"
      ]
     },
     "metadata": {},
     "output_type": "display_data"
    },
    {
     "name": "stderr",
     "output_type": "stream",
     "text": [
      "Saving model checkpoint to ../data/output/joint-con-counter-bart-model-50-50/checkpoint-500\n",
      "Configuration saved in ../data/output/joint-con-counter-bart-model-50-50/checkpoint-500/config.json\n",
      "Model weights saved in ../data/output/joint-con-counter-bart-model-50-50/checkpoint-500/pytorch_model.bin\n",
      "tokenizer config file saved in ../data/output/joint-con-counter-bart-model-50-50/checkpoint-500/tokenizer_config.json\n",
      "Special tokens file saved in ../data/output/joint-con-counter-bart-model-50-50/checkpoint-500/special_tokens_map.json\n",
      "The following columns in the evaluation set  don't have a corresponding argument in `BartModelV2.forward` and have been ignored: counter, __index_level_0__, premises_with_conclusion, post, split, masked_premises, title, post_id, comment_id, num_cand_conc, n_sentences.\n",
      "***** Running Evaluation *****\n",
      "  Num examples = 3318\n",
      "  Batch size = 16\n",
      "Saving model checkpoint to ../data/output/joint-con-counter-bart-model-50-50/checkpoint-1000\n",
      "Configuration saved in ../data/output/joint-con-counter-bart-model-50-50/checkpoint-1000/config.json\n",
      "Model weights saved in ../data/output/joint-con-counter-bart-model-50-50/checkpoint-1000/pytorch_model.bin\n",
      "tokenizer config file saved in ../data/output/joint-con-counter-bart-model-50-50/checkpoint-1000/tokenizer_config.json\n",
      "Special tokens file saved in ../data/output/joint-con-counter-bart-model-50-50/checkpoint-1000/special_tokens_map.json\n",
      "Saving model checkpoint to ../data/output/joint-con-counter-bart-model-50-50/checkpoint-1500\n",
      "Configuration saved in ../data/output/joint-con-counter-bart-model-50-50/checkpoint-1500/config.json\n",
      "Model weights saved in ../data/output/joint-con-counter-bart-model-50-50/checkpoint-1500/pytorch_model.bin\n",
      "tokenizer config file saved in ../data/output/joint-con-counter-bart-model-50-50/checkpoint-1500/tokenizer_config.json\n",
      "Special tokens file saved in ../data/output/joint-con-counter-bart-model-50-50/checkpoint-1500/special_tokens_map.json\n",
      "The following columns in the evaluation set  don't have a corresponding argument in `BartModelV2.forward` and have been ignored: counter, __index_level_0__, premises_with_conclusion, post, split, masked_premises, title, post_id, comment_id, num_cand_conc, n_sentences.\n",
      "***** Running Evaluation *****\n",
      "  Num examples = 3318\n",
      "  Batch size = 16\n",
      "Saving model checkpoint to ../data/output/joint-con-counter-bart-model-50-50/checkpoint-2000\n",
      "Configuration saved in ../data/output/joint-con-counter-bart-model-50-50/checkpoint-2000/config.json\n",
      "Model weights saved in ../data/output/joint-con-counter-bart-model-50-50/checkpoint-2000/pytorch_model.bin\n",
      "tokenizer config file saved in ../data/output/joint-con-counter-bart-model-50-50/checkpoint-2000/tokenizer_config.json\n",
      "Special tokens file saved in ../data/output/joint-con-counter-bart-model-50-50/checkpoint-2000/special_tokens_map.json\n",
      "Saving model checkpoint to ../data/output/joint-con-counter-bart-model-50-50/checkpoint-2500\n",
      "Configuration saved in ../data/output/joint-con-counter-bart-model-50-50/checkpoint-2500/config.json\n",
      "Model weights saved in ../data/output/joint-con-counter-bart-model-50-50/checkpoint-2500/pytorch_model.bin\n",
      "tokenizer config file saved in ../data/output/joint-con-counter-bart-model-50-50/checkpoint-2500/tokenizer_config.json\n",
      "Special tokens file saved in ../data/output/joint-con-counter-bart-model-50-50/checkpoint-2500/special_tokens_map.json\n",
      "The following columns in the evaluation set  don't have a corresponding argument in `BartModelV2.forward` and have been ignored: counter, __index_level_0__, premises_with_conclusion, post, split, masked_premises, title, post_id, comment_id, num_cand_conc, n_sentences.\n",
      "***** Running Evaluation *****\n",
      "  Num examples = 3318\n",
      "  Batch size = 16\n",
      "Saving model checkpoint to ../data/output/joint-con-counter-bart-model-50-50/checkpoint-3000\n",
      "Configuration saved in ../data/output/joint-con-counter-bart-model-50-50/checkpoint-3000/config.json\n",
      "Model weights saved in ../data/output/joint-con-counter-bart-model-50-50/checkpoint-3000/pytorch_model.bin\n",
      "tokenizer config file saved in ../data/output/joint-con-counter-bart-model-50-50/checkpoint-3000/tokenizer_config.json\n",
      "Special tokens file saved in ../data/output/joint-con-counter-bart-model-50-50/checkpoint-3000/special_tokens_map.json\n",
      "Saving model checkpoint to ../data/output/joint-con-counter-bart-model-50-50/checkpoint-3500\n",
      "Configuration saved in ../data/output/joint-con-counter-bart-model-50-50/checkpoint-3500/config.json\n",
      "Model weights saved in ../data/output/joint-con-counter-bart-model-50-50/checkpoint-3500/pytorch_model.bin\n",
      "tokenizer config file saved in ../data/output/joint-con-counter-bart-model-50-50/checkpoint-3500/tokenizer_config.json\n",
      "Special tokens file saved in ../data/output/joint-con-counter-bart-model-50-50/checkpoint-3500/special_tokens_map.json\n",
      "The following columns in the evaluation set  don't have a corresponding argument in `BartModelV2.forward` and have been ignored: counter, __index_level_0__, premises_with_conclusion, post, split, masked_premises, title, post_id, comment_id, num_cand_conc, n_sentences.\n",
      "***** Running Evaluation *****\n",
      "  Num examples = 3318\n",
      "  Batch size = 16\n",
      "Saving model checkpoint to ../data/output/joint-con-counter-bart-model-50-50/checkpoint-4000\n",
      "Configuration saved in ../data/output/joint-con-counter-bart-model-50-50/checkpoint-4000/config.json\n",
      "Model weights saved in ../data/output/joint-con-counter-bart-model-50-50/checkpoint-4000/pytorch_model.bin\n",
      "tokenizer config file saved in ../data/output/joint-con-counter-bart-model-50-50/checkpoint-4000/tokenizer_config.json\n",
      "Special tokens file saved in ../data/output/joint-con-counter-bart-model-50-50/checkpoint-4000/special_tokens_map.json\n",
      "Saving model checkpoint to ../data/output/joint-con-counter-bart-model-50-50/checkpoint-4500\n",
      "Configuration saved in ../data/output/joint-con-counter-bart-model-50-50/checkpoint-4500/config.json\n",
      "Model weights saved in ../data/output/joint-con-counter-bart-model-50-50/checkpoint-4500/pytorch_model.bin\n",
      "tokenizer config file saved in ../data/output/joint-con-counter-bart-model-50-50/checkpoint-4500/tokenizer_config.json\n",
      "Special tokens file saved in ../data/output/joint-con-counter-bart-model-50-50/checkpoint-4500/special_tokens_map.json\n",
      "The following columns in the evaluation set  don't have a corresponding argument in `BartModelV2.forward` and have been ignored: counter, __index_level_0__, premises_with_conclusion, post, split, masked_premises, title, post_id, comment_id, num_cand_conc, n_sentences.\n",
      "***** Running Evaluation *****\n",
      "  Num examples = 3318\n",
      "  Batch size = 16\n",
      "Saving model checkpoint to ../data/output/joint-con-counter-bart-model-50-50/checkpoint-5000\n",
      "Configuration saved in ../data/output/joint-con-counter-bart-model-50-50/checkpoint-5000/config.json\n",
      "Model weights saved in ../data/output/joint-con-counter-bart-model-50-50/checkpoint-5000/pytorch_model.bin\n",
      "tokenizer config file saved in ../data/output/joint-con-counter-bart-model-50-50/checkpoint-5000/tokenizer_config.json\n",
      "Special tokens file saved in ../data/output/joint-con-counter-bart-model-50-50/checkpoint-5000/special_tokens_map.json\n",
      "Saving model checkpoint to ../data/output/joint-con-counter-bart-model-50-50/checkpoint-5500\n",
      "Configuration saved in ../data/output/joint-con-counter-bart-model-50-50/checkpoint-5500/config.json\n",
      "Model weights saved in ../data/output/joint-con-counter-bart-model-50-50/checkpoint-5500/pytorch_model.bin\n",
      "tokenizer config file saved in ../data/output/joint-con-counter-bart-model-50-50/checkpoint-5500/tokenizer_config.json\n",
      "Special tokens file saved in ../data/output/joint-con-counter-bart-model-50-50/checkpoint-5500/special_tokens_map.json\n",
      "Deleting older checkpoint [../data/output/joint-con-counter-bart-model-50-50/checkpoint-500] due to args.save_total_limit\n",
      "The following columns in the evaluation set  don't have a corresponding argument in `BartModelV2.forward` and have been ignored: counter, __index_level_0__, premises_with_conclusion, post, split, masked_premises, title, post_id, comment_id, num_cand_conc, n_sentences.\n",
      "***** Running Evaluation *****\n",
      "  Num examples = 3318\n",
      "  Batch size = 16\n",
      "Saving model checkpoint to ../data/output/joint-con-counter-bart-model-50-50/checkpoint-6000\n",
      "Configuration saved in ../data/output/joint-con-counter-bart-model-50-50/checkpoint-6000/config.json\n",
      "Model weights saved in ../data/output/joint-con-counter-bart-model-50-50/checkpoint-6000/pytorch_model.bin\n",
      "tokenizer config file saved in ../data/output/joint-con-counter-bart-model-50-50/checkpoint-6000/tokenizer_config.json\n",
      "Special tokens file saved in ../data/output/joint-con-counter-bart-model-50-50/checkpoint-6000/special_tokens_map.json\n",
      "Deleting older checkpoint [../data/output/joint-con-counter-bart-model-50-50/checkpoint-1000] due to args.save_total_limit\n"
     ]
    }
   ],
   "source": [
    "trainer.train()"
   ]
  },
  {
   "cell_type": "code",
   "execution_count": null,
   "metadata": {},
   "outputs": [],
   "source": []
  }
 ],
 "metadata": {
  "kernelspec": {
   "display_name": "Python 3",
   "language": "python",
   "name": "python3"
  },
  "language_info": {
   "codemirror_mode": {
    "name": "ipython",
    "version": 3
   },
   "file_extension": ".py",
   "mimetype": "text/x-python",
   "name": "python",
   "nbconvert_exporter": "python",
   "pygments_lexer": "ipython3",
   "version": "3.6.9"
  }
 },
 "nbformat": 4,
 "nbformat_minor": 4
}
