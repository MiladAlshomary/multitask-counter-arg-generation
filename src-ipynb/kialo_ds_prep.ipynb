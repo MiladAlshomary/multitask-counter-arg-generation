{
 "cells": [
  {
   "cell_type": "code",
   "execution_count": 1,
   "metadata": {},
   "outputs": [],
   "source": [
    "import pandas as pd\n",
    "import numpy as np\n",
    "import json\n",
    "import matplotlib.pyplot as plt\n",
    "\n",
    "import glob\n",
    "import sys\n",
    "import re\n",
    "\n",
    "sys.path.append('../src-py/')\n",
    "pd.set_option('display.max_colwidth', None)"
   ]
  },
  {
   "cell_type": "code",
   "execution_count": 2,
   "metadata": {},
   "outputs": [],
   "source": [
    "kialo_json = json.load(open('../../../data-ceph/arguana/arg-generation/multi-taks-counter-argument-generation/kialo_data/kialo_corpus.json'))"
   ]
  },
  {
   "cell_type": "code",
   "execution_count": 3,
   "metadata": {},
   "outputs": [],
   "source": [
    "import random"
   ]
  },
  {
   "cell_type": "code",
   "execution_count": 12,
   "metadata": {},
   "outputs": [],
   "source": [
    "kialo_ds = []\n",
    "added_counters = set()\n",
    "for item in kialo_json:\n",
    "    debate_id = item['id'].split('.')[0]\n",
    "    premises = [x['text'] for x in random.sample(item['pro'], 5)] if len(item['pro']) > 5 else [x['text'] for x in item['pro']]\n",
    "    if len(premises) < 3:\n",
    "        continue\n",
    "    #if item['text'] in added_counters: #this to avoide having claim in the input and the output\n",
    "    #    continue\n",
    "    for counter in item['con']:\n",
    "        kialo_ds.append({\n",
    "            'debate_id': debate_id,\n",
    "            'conclusion_id': item['id'],\n",
    "            'conclusion_text': item['text'],\n",
    "            'premises': premises,\n",
    "            'counter' : counter['text']\n",
    "        })\n",
    "        #added_counters.add(counter['text'])\n",
    "\n",
    "kialo_df = pd.DataFrame(kialo_ds)"
   ]
  },
  {
   "cell_type": "code",
   "execution_count": 13,
   "metadata": {},
   "outputs": [],
   "source": [
    "#clean up kialo df from links\n",
    "kialo_df['conclusion_text'] = kialo_df.conclusion_text.apply(lambda x: re.sub(r\"\\[(.*?)\\]([^\\s]+)\", r\"\\1\", x))\n",
    "kialo_df['premises'] = kialo_df.premises.apply(lambda premises: [re.sub(r\"\\[(.*?)\\]([^\\s]+)\", r\"\\1\", x) for x in premises])\n",
    "kialo_df['counter'] = kialo_df.counter.apply(lambda x: re.sub(r\"\\[(.*?)\\]([^\\s]+)\", r\"\\1\", x))\n",
    "\n",
    "kialo_df['conclusion_text'] = kialo_df.conclusion_text.apply(lambda x: re.sub(r'http\\S+', ' ', x))\n",
    "kialo_df['premises'] = kialo_df.premises.apply(lambda premises: [re.sub(r'http\\S+', ' ', x) for x in premises])\n",
    "kialo_df['counter'] = kialo_df.counter.apply(lambda x: re.sub(r'http\\S+', ' ', x))"
   ]
  },
  {
   "cell_type": "code",
   "execution_count": 14,
   "metadata": {
    "tags": []
   },
   "outputs": [
    {
     "data": {
      "text/html": [
       "<div>\n",
       "<style scoped>\n",
       "    .dataframe tbody tr th:only-of-type {\n",
       "        vertical-align: middle;\n",
       "    }\n",
       "\n",
       "    .dataframe tbody tr th {\n",
       "        vertical-align: top;\n",
       "    }\n",
       "\n",
       "    .dataframe thead th {\n",
       "        text-align: right;\n",
       "    }\n",
       "</style>\n",
       "<table border=\"1\" class=\"dataframe\">\n",
       "  <thead>\n",
       "    <tr style=\"text-align: right;\">\n",
       "      <th></th>\n",
       "      <th>debate_id</th>\n",
       "      <th>conclusion_id</th>\n",
       "      <th>conclusion_text</th>\n",
       "      <th>premises</th>\n",
       "      <th>counter</th>\n",
       "    </tr>\n",
       "  </thead>\n",
       "  <tbody>\n",
       "    <tr>\n",
       "      <th>46623</th>\n",
       "      <td>2408</td>\n",
       "      <td>2408.221</td>\n",
       "      <td>The construction of these memorials are done to put forward ideologies. For example the individuals are posed heroically, with positive messages.</td>\n",
       "      <td>[Monuments carry with them the connotation of honoring the thing depicted. Monuments to the tragic still honor some human aspect worth holding up as good. Regardless of words, a proud, towering statue implies this was something to be respected., A tall plinth that makes the subject tower over the observer inherently places the subject in a position of moral superiority., A statue is not merely a reminder that history happened; it is a depiction of how we choose to remember it. Replacing the statues with new art that reflects current values shows that our values as a country have changed., It is impossible to honor a person or event without the invocation of ideology; to \"honor\" something requires that you ascribe normative value to it, and normative values only exist in the context of ideology. That is, you cannot say \"this thing is good, and deserves to be honored\" without presupposing some definition of 'good.' That supposition of what is 'good' is a normative belief, and therefore definitionally an element of ideology., For example the dedication of Hood's Texas brigade monument included statements about the inferiority of black people. books.google.co.uk]</td>\n",
       "      <td>Monuments do not signify the enduring morality of the subject, but celebrate an aspect of their character within the context. Sometimes monuments celebrate nothing except a person's importance to history, good or bad.</td>\n",
       "    </tr>\n",
       "    <tr>\n",
       "      <th>26726</th>\n",
       "      <td>2868</td>\n",
       "      <td>2868.16</td>\n",
       "      <td>One person should not have the power to singlehandedly overturn justice.</td>\n",
       "      <td>[The President is particularly poorly positioned to exercise this power., It should only be exercised on the advice of a panel comprising all three arms of government - the Attorney-General, Chief Justice or an Associate Justice of the Supreme Court, and the Chairman of the House or Senate Judiciary Committee. It should not be exercised by the President at his own motion without being supported by advice from each arm., If the goal is to have checks and balances then the Judiciary &amp; Executive branch must bi-laterally agree., The president can act as a balancing agent to a politically charged Supreme Court.]</td>\n",
       "      <td>Pardons act as a possible protection for people who did something morally correct but technically illegal. \\n\\nExample: Edward Snowden revealing bipartisan 4th Amendment violating domestic spying program was morally correct but under the law revealing classified information is illegal.</td>\n",
       "    </tr>\n",
       "    <tr>\n",
       "      <th>48762</th>\n",
       "      <td>18042</td>\n",
       "      <td>18042.178</td>\n",
       "      <td>Trans women and cis women have more commonalities than differences. As a result, they should share the same spaces.</td>\n",
       "      <td>[Both cis women and trans women experience sexual harassment, Not all cis people have the same struggles, so exluding trans women on the basis of \"their experiences aren't the same as ours\" would also need us to exclude cis women who are of different classes, different sexuality , etc. this would only lead to polarisation, which is something we need to avoid., Given there are less trans women than cis women, it may be harder to have a space just for trans women, when there are less of them who can be members. This can be due to, for example, a lack of funds or a lack of members to hold certain kinds of meetings., Trans women will self select into the women only spaces where their experiences are most closely aligned to those of the cis women currently involved. As a result, the commonalities, rather than the differences, between the two groups will be most apparent in their interactions., Both trans and cis women are discriminated against by patriarchal society.]</td>\n",
       "      <td>societally they face very different kinds of harassment</td>\n",
       "    </tr>\n",
       "    <tr>\n",
       "      <th>37345</th>\n",
       "      <td>15978</td>\n",
       "      <td>15978.3</td>\n",
       "      <td>Using chosen pronouns make people feel comfortable and accepted.</td>\n",
       "      <td>[It is common respect to call somebody by their chosen name and not some other name. Denying to call a person by their chosen name is a bullying tactic. The same goes for chosen pronouns., Gender is a deeply-seated need for many persons. We all participate in the social conventions of gender and it requires cooperation and support if we are to create the conditions for everybody's gender to be expressed., People with discriminatory beliefs about the trans community may use misgendering as a tactic for harassment and bullying., If a person says they prefer they/them then that’s what they should be called. They are people too and therefore should also be respected., When referring to something applicable to any/all members of a coed group \\(i.e. humankind or another species, and subsets of either/both\\) using gender-neutral terms is preferable to listing the membership's full complement of gendered terms, for it cultivates sustainable unity by honoring every member equally.]</td>\n",
       "      <td>Forcing people to use different words will do nothing to help the lives of people that are deeply affected by discrimination and sexism.</td>\n",
       "    </tr>\n",
       "    <tr>\n",
       "      <th>54820</th>\n",
       "      <td>15434</td>\n",
       "      <td>15434.6783</td>\n",
       "      <td>Secular causes have cause several times as many war deaths throughout history</td>\n",
       "      <td>[People have been led to do terrible things outside of religion. Some of the greatest atrocities in history had no religious motivation. For example: the Great Leap and the outbreak of World War II, During the 20th century, the Soviet Union ended killing around 20 million of their own people, despite the fact it was a secular society., The Soviet Union, an officially anti-religious nation, functionally killed tens of millions of people due to abuse of power; this was fueled by an ideology unrelated to religious ideology. Any ideology can be harmful, not exclusively a religious one.]</td>\n",
       "      <td>False dilemma. Most of societies throughout history were religious, yet made wars for secular causes.</td>\n",
       "    </tr>\n",
       "    <tr>\n",
       "      <th>58081</th>\n",
       "      <td>14491</td>\n",
       "      <td>14491.53</td>\n",
       "      <td>Cultural appropriation can disrespect the sacred traditions and items of a group.</td>\n",
       "      <td>[The headdress of some Native American tribes, worn ceremoniously, or as an adornment of honor for good deeds in war and within the tribe, is offensive when sold as party costumes or music festival adornments., Appropriation uproots the culture of its context., Cultural appropriation, with intent or without intent, is a type of microaggression, Aspects of cultures have significant cultural/spiritual meaning. Using these parts of culture for fashion or play trivializes their importance. Adoption or appreciation would require understanding and use in a way that is in accordance with the culture.]</td>\n",
       "      <td>Cultural appropriation as a concept fails to distinguish respectful engagement with other cultures from disrespectful engagement. Respect is a more useful concept for distinguishing permissible engagement with a cultural practice outside ones culture and impermissible engagement.</td>\n",
       "    </tr>\n",
       "    <tr>\n",
       "      <th>45021</th>\n",
       "      <td>2206</td>\n",
       "      <td>2206.254</td>\n",
       "      <td>Equality before the law is one of the pillars of democratic governance. Yet European monarchs are often 'above the law', meaning that they cannot be brought into court and punished.</td>\n",
       "      <td>[Although not required by the Constitution, in Spain the former King Juan Carlos and the Queen have been made \"aforados\", meaning they can only be tried by the Supreme Court. Past actions carried out during his time as King are still immune to judgement., In constitutional monarchies it is believed that \"the king can do no wrong” and the monarch can therefore not be brought into court or punished., In constitutional monarchies the sovereign is the historical origin of the authority which creates the courts. Thus, the courts have no power to compel the sovereign to be bound by the courts, as they were created by the sovereign for the protection of their subjects.]</td>\n",
       "      <td>Legal immunity is not limited to monarchs. Some countries, such as Greece, grant legal immunity to members of parliament.</td>\n",
       "    </tr>\n",
       "    <tr>\n",
       "      <th>22000</th>\n",
       "      <td>25244</td>\n",
       "      <td>25244.103</td>\n",
       "      <td>The theory of evolution demonstrates that no omnipotent creator is needed to create complex life. Creation can occur without a creator. It is thus highly probable that such a creator does not exist.</td>\n",
       "      <td>[The Oparin-Haldane hypothesis postulated that the random interactions of various chemicals gave rise to all living organisms., Dawin's \"warm little pond\" hypothesis marked the beginning of decades of research published to explain creation., The Miller-Urey Experiment - which attempted to simulate the conditions of early Earth to investigate the origin of life - provided further support for this theory]</td>\n",
       "      <td>A creator need not necessarily create the living being, or even the organism from which it evolves. If a creator makes a universe that is set up from the beginning of time to facilitate and result in life emerging, they can also be credited with creating life itself.</td>\n",
       "    </tr>\n",
       "    <tr>\n",
       "      <th>17586</th>\n",
       "      <td>5904</td>\n",
       "      <td>5904.6</td>\n",
       "      <td>Having equal pay between men and women would increase economic growth in the long run.</td>\n",
       "      <td>[Gender discrimination in the employment market would mean that the labour force could not operate at maximum potential., Equal pay would benefit the economy because it would allow for more diversity in the workplace., Equal pay would properly incentivize women to work harder., Gender equality in the labor market would increase labor productivity and benefits, If women on average earned as much as men, the economy would benefit as women could consume more goods and services.]</td>\n",
       "      <td>Equal pay would increase the cost of human capital, which would make businesses less profitable and stifle their growth, thereby negatively damaging overall economic growth.</td>\n",
       "    </tr>\n",
       "    <tr>\n",
       "      <th>12892</th>\n",
       "      <td>3143</td>\n",
       "      <td>3143.1</td>\n",
       "      <td>Humans should not procreate.</td>\n",
       "      <td>[There is a considerable risk that the child will suffer incurable diseases., People who don't exist are not aware of the possibility of life, they are not missing out on anything. Scenario A: X doesn't exist so absence of pleasure \\(not bad\\), absence of pain \\(good\\). Scenario B: X does exist so presence of pleasure \\(good\\), presence of pain \\(bad\\)., Procreation comes with great risks for the mother., Procreating is selfish., Procreation is imposing life on another being that didn't ask for it.]</td>\n",
       "      <td>Procreating assures that there will be someone there to care for parents when they are elderly.</td>\n",
       "    </tr>\n",
       "  </tbody>\n",
       "</table>\n",
       "</div>"
      ],
      "text/plain": [
       "      debate_id conclusion_id  \\\n",
       "46623      2408      2408.221   \n",
       "26726      2868       2868.16   \n",
       "48762     18042     18042.178   \n",
       "37345     15978       15978.3   \n",
       "54820     15434    15434.6783   \n",
       "58081     14491      14491.53   \n",
       "45021      2206      2206.254   \n",
       "22000     25244     25244.103   \n",
       "17586      5904        5904.6   \n",
       "12892      3143        3143.1   \n",
       "\n",
       "                                                                                                                                                                                              conclusion_text  \\\n",
       "46623                                                       The construction of these memorials are done to put forward ideologies. For example the individuals are posed heroically, with positive messages.   \n",
       "26726                                                                                                                                One person should not have the power to singlehandedly overturn justice.   \n",
       "48762                                                                                     Trans women and cis women have more commonalities than differences. As a result, they should share the same spaces.   \n",
       "37345                                                                                                                                        Using chosen pronouns make people feel comfortable and accepted.   \n",
       "54820                                                                                                                           Secular causes have cause several times as many war deaths throughout history   \n",
       "58081                                                                                                                       Cultural appropriation can disrespect the sacred traditions and items of a group.   \n",
       "45021                   Equality before the law is one of the pillars of democratic governance. Yet European monarchs are often 'above the law', meaning that they cannot be brought into court and punished.   \n",
       "22000  The theory of evolution demonstrates that no omnipotent creator is needed to create complex life. Creation can occur without a creator. It is thus highly probable that such a creator does not exist.   \n",
       "17586                                                                                                                  Having equal pay between men and women would increase economic growth in the long run.   \n",
       "12892                                                                                                                                                                            Humans should not procreate.   \n",
       "\n",
       "                                                                                                                                                                                                                                                                                                                                                                                                                                                                                                                                                                                                                                                                                                                                                                                                                                                                                                                                                                                                                                                                                                                                                                                                                        premises  \\\n",
       "46623  [Monuments carry with them the connotation of honoring the thing depicted. Monuments to the tragic still honor some human aspect worth holding up as good. Regardless of words, a proud, towering statue implies this was something to be respected., A tall plinth that makes the subject tower over the observer inherently places the subject in a position of moral superiority., A statue is not merely a reminder that history happened; it is a depiction of how we choose to remember it. Replacing the statues with new art that reflects current values shows that our values as a country have changed., It is impossible to honor a person or event without the invocation of ideology; to \"honor\" something requires that you ascribe normative value to it, and normative values only exist in the context of ideology. That is, you cannot say \"this thing is good, and deserves to be honored\" without presupposing some definition of 'good.' That supposition of what is 'good' is a normative belief, and therefore definitionally an element of ideology., For example the dedication of Hood's Texas brigade monument included statements about the inferiority of black people. books.google.co.uk]   \n",
       "26726                                                                                                                                                                                                                                                                                                                                                                                                                                                                                                                                                                                     [The President is particularly poorly positioned to exercise this power., It should only be exercised on the advice of a panel comprising all three arms of government - the Attorney-General, Chief Justice or an Associate Justice of the Supreme Court, and the Chairman of the House or Senate Judiciary Committee. It should not be exercised by the President at his own motion without being supported by advice from each arm., If the goal is to have checks and balances then the Judiciary & Executive branch must bi-laterally agree., The president can act as a balancing agent to a politically charged Supreme Court.]   \n",
       "48762                                                                                                                                                                                                          [Both cis women and trans women experience sexual harassment, Not all cis people have the same struggles, so exluding trans women on the basis of \"their experiences aren't the same as ours\" would also need us to exclude cis women who are of different classes, different sexuality , etc. this would only lead to polarisation, which is something we need to avoid., Given there are less trans women than cis women, it may be harder to have a space just for trans women, when there are less of them who can be members. This can be due to, for example, a lack of funds or a lack of members to hold certain kinds of meetings., Trans women will self select into the women only spaces where their experiences are most closely aligned to those of the cis women currently involved. As a result, the commonalities, rather than the differences, between the two groups will be most apparent in their interactions., Both trans and cis women are discriminated against by patriarchal society.]   \n",
       "37345                                                                                                                                                                                                [It is common respect to call somebody by their chosen name and not some other name. Denying to call a person by their chosen name is a bullying tactic. The same goes for chosen pronouns., Gender is a deeply-seated need for many persons. We all participate in the social conventions of gender and it requires cooperation and support if we are to create the conditions for everybody's gender to be expressed., People with discriminatory beliefs about the trans community may use misgendering as a tactic for harassment and bullying., If a person says they prefer they/them then that’s what they should be called. They are people too and therefore should also be respected., When referring to something applicable to any/all members of a coed group \\(i.e. humankind or another species, and subsets of either/both\\) using gender-neutral terms is preferable to listing the membership's full complement of gendered terms, for it cultivates sustainable unity by honoring every member equally.]   \n",
       "54820                                                                                                                                                                                                                                                                                                                                                                                                                                                                                                                                                                                                              [People have been led to do terrible things outside of religion. Some of the greatest atrocities in history had no religious motivation. For example: the Great Leap and the outbreak of World War II, During the 20th century, the Soviet Union ended killing around 20 million of their own people, despite the fact it was a secular society., The Soviet Union, an officially anti-religious nation, functionally killed tens of millions of people due to abuse of power; this was fueled by an ideology unrelated to religious ideology. Any ideology can be harmful, not exclusively a religious one.]   \n",
       "58081                                                                                                                                                                                                                                                                                                                                                                                                                                                                                                                                                                                                  [The headdress of some Native American tribes, worn ceremoniously, or as an adornment of honor for good deeds in war and within the tribe, is offensive when sold as party costumes or music festival adornments., Appropriation uproots the culture of its context., Cultural appropriation, with intent or without intent, is a type of microaggression, Aspects of cultures have significant cultural/spiritual meaning. Using these parts of culture for fashion or play trivializes their importance. Adoption or appreciation would require understanding and use in a way that is in accordance with the culture.]   \n",
       "45021                                                                                                                                                                                                                                                                                                                                                                                                                                                                                                                            [Although not required by the Constitution, in Spain the former King Juan Carlos and the Queen have been made \"aforados\", meaning they can only be tried by the Supreme Court. Past actions carried out during his time as King are still immune to judgement., In constitutional monarchies it is believed that \"the king can do no wrong” and the monarch can therefore not be brought into court or punished., In constitutional monarchies the sovereign is the historical origin of the authority which creates the courts. Thus, the courts have no power to compel the sovereign to be bound by the courts, as they were created by the sovereign for the protection of their subjects.]   \n",
       "22000                                                                                                                                                                                                                                                                                                                                                                                                                                                                                                                                                                                                                                                                                                                                                                                                     [The Oparin-Haldane hypothesis postulated that the random interactions of various chemicals gave rise to all living organisms., Dawin's \"warm little pond\" hypothesis marked the beginning of decades of research published to explain creation., The Miller-Urey Experiment - which attempted to simulate the conditions of early Earth to investigate the origin of life - provided further support for this theory]   \n",
       "17586                                                                                                                                                                                                                                                                                                                                                                                                                                                                                                                                                                                                                                                                                                                           [Gender discrimination in the employment market would mean that the labour force could not operate at maximum potential., Equal pay would benefit the economy because it would allow for more diversity in the workplace., Equal pay would properly incentivize women to work harder., Gender equality in the labor market would increase labor productivity and benefits, If women on average earned as much as men, the economy would benefit as women could consume more goods and services.]   \n",
       "12892                                                                                                                                                                                                                                                                                                                                                                                                                                                                                                                                                                                                                                                                                                   [There is a considerable risk that the child will suffer incurable diseases., People who don't exist are not aware of the possibility of life, they are not missing out on anything. Scenario A: X doesn't exist so absence of pleasure \\(not bad\\), absence of pain \\(good\\). Scenario B: X does exist so presence of pleasure \\(good\\), presence of pain \\(bad\\)., Procreation comes with great risks for the mother., Procreating is selfish., Procreation is imposing life on another being that didn't ask for it.]   \n",
       "\n",
       "                                                                                                                                                                                                                                                                                              counter  \n",
       "46623                                                                       Monuments do not signify the enduring morality of the subject, but celebrate an aspect of their character within the context. Sometimes monuments celebrate nothing except a person's importance to history, good or bad.  \n",
       "26726  Pardons act as a possible protection for people who did something morally correct but technically illegal. \\n\\nExample: Edward Snowden revealing bipartisan 4th Amendment violating domestic spying program was morally correct but under the law revealing classified information is illegal.  \n",
       "48762                                                                                                                                                                                                                                         societally they face very different kinds of harassment  \n",
       "37345                                                                                                                                                        Forcing people to use different words will do nothing to help the lives of people that are deeply affected by discrimination and sexism.  \n",
       "54820                                                                                                                                                                                           False dilemma. Most of societies throughout history were religious, yet made wars for secular causes.  \n",
       "58081        Cultural appropriation as a concept fails to distinguish respectful engagement with other cultures from disrespectful engagement. Respect is a more useful concept for distinguishing permissible engagement with a cultural practice outside ones culture and impermissible engagement.  \n",
       "45021                                                                                                                                                                       Legal immunity is not limited to monarchs. Some countries, such as Greece, grant legal immunity to members of parliament.  \n",
       "22000                     A creator need not necessarily create the living being, or even the organism from which it evolves. If a creator makes a universe that is set up from the beginning of time to facilitate and result in life emerging, they can also be credited with creating life itself.  \n",
       "17586                                                                                                                   Equal pay would increase the cost of human capital, which would make businesses less profitable and stifle their growth, thereby negatively damaging overall economic growth.  \n",
       "12892                                                                                                                                                                                                 Procreating assures that there will be someone there to care for parents when they are elderly.  "
      ]
     },
     "execution_count": 14,
     "metadata": {},
     "output_type": "execute_result"
    }
   ],
   "source": [
    "kialo_df.sample(10).head(n=10)"
   ]
  },
  {
   "cell_type": "code",
   "execution_count": 15,
   "metadata": {},
   "outputs": [
    {
     "name": "stdout",
     "output_type": "stream",
     "text": [
      "Total number of instances: 75133\n",
      "Total number of unique arguments: 16990\n",
      "Total number of debates: 1582\n"
     ]
    }
   ],
   "source": [
    "print('Total number of instances:', len(kialo_df))\n",
    "print('Total number of unique arguments:', kialo_df.conclusion_id.nunique())\n",
    "print('Total number of debates:', kialo_df.debate_id.nunique())"
   ]
  },
  {
   "cell_type": "code",
   "execution_count": 16,
   "metadata": {},
   "outputs": [],
   "source": [
    "#TODO split into train/test/valid per debate_id\n",
    "debate_ids = list(set(kialo_df.debate_id.tolist()))\n",
    "kialo_train = kialo_df[kialo_df.debate_id.isin(debate_ids[0:1200])]\n",
    "kialo_valid = kialo_df[kialo_df.debate_id.isin(debate_ids[1200:1300])]\n",
    "kialo_test = kialo_df[kialo_df.debate_id.isin(debate_ids[1300:])]"
   ]
  },
  {
   "cell_type": "code",
   "execution_count": 17,
   "metadata": {},
   "outputs": [
    {
     "name": "stdout",
     "output_type": "stream",
     "text": [
      "Total number of training instances: 59417\n",
      "Total number of valid instances: 4127\n",
      "Total number of test instances: 11589\n",
      "--------\n",
      "Total number of training arguments: 13178\n",
      "Total number of valid arguments: 967\n",
      "Total number of test arguments: 2845\n"
     ]
    }
   ],
   "source": [
    "print('Total number of training instances:', len(kialo_train))\n",
    "print('Total number of valid instances:', len(kialo_valid))\n",
    "print('Total number of test instances:', len(kialo_test))\n",
    "print('--------')\n",
    "print('Total number of training arguments:', kialo_train.conclusion_id.nunique())\n",
    "print('Total number of valid arguments:', kialo_valid.conclusion_id.nunique())\n",
    "print('Total number of test arguments:', kialo_test.conclusion_id.nunique())"
   ]
  },
  {
   "cell_type": "code",
   "execution_count": 18,
   "metadata": {},
   "outputs": [],
   "source": [
    "kialo_train.to_pickle('../../../data-ceph/arguana/arg-generation/multi-taks-counter-argument-generation/kialo_data/kialo_train_df.pkl')\n",
    "kialo_test.to_pickle('../../../data-ceph/arguana/arg-generation/multi-taks-counter-argument-generation/kialo_data/kialo_test_df.pkl')\n",
    "kialo_valid.to_pickle('../../../data-ceph/arguana/arg-generation/multi-taks-counter-argument-generation/kialo_data/kialo_valid_df.pkl')"
   ]
  },
  {
   "cell_type": "markdown",
   "metadata": {},
   "source": [
    "### Save unique arguments:"
   ]
  },
  {
   "cell_type": "code",
   "execution_count": 19,
   "metadata": {},
   "outputs": [],
   "source": [
    "kialo_train = pd.read_pickle('../../../data-ceph/arguana/arg-generation/multi-taks-counter-argument-generation/kialo_data/kialo_train_df.pkl')\n",
    "kialo_test  = pd.read_pickle('../../../data-ceph/arguana/arg-generation/multi-taks-counter-argument-generation/kialo_data/kialo_test_df.pkl')\n",
    "kialo_valid = pd.read_pickle('../../../data-ceph/arguana/arg-generation/multi-taks-counter-argument-generation/kialo_data/kialo_valid_df.pkl')"
   ]
  },
  {
   "cell_type": "code",
   "execution_count": 20,
   "metadata": {},
   "outputs": [],
   "source": [
    "#save unique arguments without replicated counters\n",
    "kialo_train_unique = kialo_train.drop_duplicates('conclusion_id')\n",
    "kialo_test_unique = kialo_test.drop_duplicates('conclusion_id')\n",
    "kialo_valid_unique = kialo_valid.drop_duplicates('conclusion_id')"
   ]
  },
  {
   "cell_type": "code",
   "execution_count": 21,
   "metadata": {},
   "outputs": [],
   "source": [
    "kialo_train_unique.to_pickle('../../../data-ceph/arguana/arg-generation/multi-taks-counter-argument-generation/kialo_data/unique_kialo_train_df.pkl')\n",
    "kialo_test_unique.to_pickle('../../../data-ceph/arguana/arg-generation/multi-taks-counter-argument-generation/kialo_data/unique_kialo_test_df.pkl')\n",
    "kialo_valid_unique.to_pickle('../../../data-ceph/arguana/arg-generation/multi-taks-counter-argument-generation/kialo_data/unique_kialo_valid_df.pkl')"
   ]
  },
  {
   "cell_type": "code",
   "execution_count": 4,
   "metadata": {},
   "outputs": [],
   "source": [
    "df = pd.read_pickle('../../../data-ceph/arguana/arg-generation/multi-taks-counter-argument-generation/kialo_data/kialo_valid_df.pkl')"
   ]
  },
  {
   "cell_type": "markdown",
   "metadata": {},
   "source": [
    "#### Analyzing the data:"
   ]
  },
  {
   "cell_type": "code",
   "execution_count": 8,
   "metadata": {},
   "outputs": [],
   "source": [
    "import nltk\n",
    "import matplotlib.pyplot as plt"
   ]
  },
  {
   "cell_type": "code",
   "execution_count": 4,
   "metadata": {},
   "outputs": [],
   "source": [
    "kialo_train_unique = pd.read_pickle('../../../data-ceph/arguana/arg-generation/multi-taks-counter-argument-generation/kialo_data/unique_kialo_train_df.pkl')"
   ]
  },
  {
   "cell_type": "code",
   "execution_count": 13,
   "metadata": {},
   "outputs": [
    {
     "data": {
      "text/html": [
       "<div>\n",
       "<style scoped>\n",
       "    .dataframe tbody tr th:only-of-type {\n",
       "        vertical-align: middle;\n",
       "    }\n",
       "\n",
       "    .dataframe tbody tr th {\n",
       "        vertical-align: top;\n",
       "    }\n",
       "\n",
       "    .dataframe thead th {\n",
       "        text-align: right;\n",
       "    }\n",
       "</style>\n",
       "<table border=\"1\" class=\"dataframe\">\n",
       "  <thead>\n",
       "    <tr style=\"text-align: right;\">\n",
       "      <th></th>\n",
       "      <th>debate_id</th>\n",
       "      <th>conclusion_id</th>\n",
       "      <th>conclusion_text</th>\n",
       "      <th>premises</th>\n",
       "      <th>counter</th>\n",
       "    </tr>\n",
       "  </thead>\n",
       "  <tbody>\n",
       "    <tr>\n",
       "      <th>11015</th>\n",
       "      <td>9389</td>\n",
       "      <td>9389.3</td>\n",
       "      <td>If the ox's labor is such that it is not fed by it's own labor, having sex with the ox is ethically equivalent.</td>\n",
       "      <td>[If I use the ox to pull my cart around town for work, and feed myself better than the ox, it appears to be the ethical equivalent to having sex with the ox, since the ox might have me do that rather than pull my cart around town.]</td>\n",
       "      <td>It's not equivalent. Labouring of animals is considered less stressful for an animal than penetrating its body.</td>\n",
       "    </tr>\n",
       "    <tr>\n",
       "      <th>4097</th>\n",
       "      <td>6067</td>\n",
       "      <td>6067.109</td>\n",
       "      <td>Il n'y a pas de bonne raison que la société prenne autant en charge le coupable que l'innocent. Le coupable devrait autant que faire se peut être livré à lui-même. Qu'il apprenne à manger et travailler avec ses pieds, la faim le guidera. Si il n'y parvient pas, qu'il recoive la mort qu'il a demandée par son crime.</td>\n",
       "      <td>[Le véritable prix du crime n'est pas le prix atténué que la société cherchera à donner à la victime, mais le prix complet que représente la vie brisée avec les conséquences du crime., En coupant les bras, le coupable devrait avoir pensé qu'il exposait sa victime à l'impossible.]</td>\n",
       "      <td>On risque la double peine. La personne souffrant de handicap a droit à la compassion de la société.</td>\n",
       "    </tr>\n",
       "    <tr>\n",
       "      <th>11772</th>\n",
       "      <td>12304</td>\n",
       "      <td>12304.218</td>\n",
       "      <td>Female genital mutilation \\(FGM\\) is a massive problem world wide, which feminists work to end.</td>\n",
       "      <td>[Feminists work to highlight the problems of FGM, seeking to end the practice.  Feminist.com: Spotlight of FGM\\n\\nFeminist.org: Violence against women: FGM]</td>\n",
       "      <td>100+ male infants die in the US each year due to circumcision. Some feminists disregard male genital mutilation as on par with FGM. This could be seen as hypocritical because both issues impede on a person's right to body autonomy, right to give consent, and risk life-long sexual dysfunction.</td>\n",
       "    </tr>\n",
       "    <tr>\n",
       "      <th>30893</th>\n",
       "      <td>14478</td>\n",
       "      <td>14478.486</td>\n",
       "      <td>Modi follows an army of trolls on twitter who routinely issue rape threats, death threats and indulge in communal incitement.</td>\n",
       "      <td>[Recently, the foreign affairs minister was attacked on Twitter by such trolls who know no boundaries - \\(Islamic Kidney ....\\) By following trolls, the PM has made the actions of such trolls acceptable.]</td>\n",
       "      <td>Following trolls doesn't necessarily mean that he supports them; Modi could simply be keeping an eye on people whom he considers to be potential troublemakers.</td>\n",
       "    </tr>\n",
       "    <tr>\n",
       "      <th>15122</th>\n",
       "      <td>31850</td>\n",
       "      <td>31850.19</td>\n",
       "      <td>The Liberal Democrats would be popular with those who wish for the UK to remain in the EU.</td>\n",
       "      <td>[Liberal Democrat leader, Jo Swinson, has vowed to stop the Brexit process if the party were to win the election. This is an inviting proposition for many 'remain' voters, as well as 'leave' voters who have changed their mind on the issue since the initial referendum.]</td>\n",
       "      <td>A majority of the UK electorate voted to leave the EU. The Liberal Democrats are likely to alienate these 17.4 million people with their anti-Brexit stance</td>\n",
       "    </tr>\n",
       "  </tbody>\n",
       "</table>\n",
       "</div>"
      ],
      "text/plain": [
       "      debate_id conclusion_id  \\\n",
       "11015      9389        9389.3   \n",
       "4097       6067      6067.109   \n",
       "11772     12304     12304.218   \n",
       "30893     14478     14478.486   \n",
       "15122     31850      31850.19   \n",
       "\n",
       "                                                                                                                                                                                                                                                                                                                   conclusion_text  \\\n",
       "11015                                                                                                                                                                                                              If the ox's labor is such that it is not fed by it's own labor, having sex with the ox is ethically equivalent.   \n",
       "4097   Il n'y a pas de bonne raison que la société prenne autant en charge le coupable que l'innocent. Le coupable devrait autant que faire se peut être livré à lui-même. Qu'il apprenne à manger et travailler avec ses pieds, la faim le guidera. Si il n'y parvient pas, qu'il recoive la mort qu'il a demandée par son crime.   \n",
       "11772                                                                                                                                                                                                                              Female genital mutilation \\(FGM\\) is a massive problem world wide, which feminists work to end.   \n",
       "30893                                                                                                                                                                                                Modi follows an army of trolls on twitter who routinely issue rape threats, death threats and indulge in communal incitement.   \n",
       "15122                                                                                                                                                                                                                                   The Liberal Democrats would be popular with those who wish for the UK to remain in the EU.   \n",
       "\n",
       "                                                                                                                                                                                                                                                                                       premises  \\\n",
       "11015                                                   [If I use the ox to pull my cart around town for work, and feed myself better than the ox, it appears to be the ethical equivalent to having sex with the ox, since the ox might have me do that rather than pull my cart around town.]   \n",
       "4097   [Le véritable prix du crime n'est pas le prix atténué que la société cherchera à donner à la victime, mais le prix complet que représente la vie brisée avec les conséquences du crime., En coupant les bras, le coupable devrait avoir pensé qu'il exposait sa victime à l'impossible.]   \n",
       "11772                                                                                                                              [Feminists work to highlight the problems of FGM, seeking to end the practice.  Feminist.com: Spotlight of FGM\\n\\nFeminist.org: Violence against women: FGM]   \n",
       "30893                                                                              [Recently, the foreign affairs minister was attacked on Twitter by such trolls who know no boundaries - \\(Islamic Kidney ....\\) By following trolls, the PM has made the actions of such trolls acceptable.]   \n",
       "15122             [Liberal Democrat leader, Jo Swinson, has vowed to stop the Brexit process if the party were to win the election. This is an inviting proposition for many 'remain' voters, as well as 'leave' voters who have changed their mind on the issue since the initial referendum.]   \n",
       "\n",
       "                                                                                                                                                                                                                                                                                                     counter  \n",
       "11015                                                                                                                                                                                        It's not equivalent. Labouring of animals is considered less stressful for an animal than penetrating its body.  \n",
       "4097                                                                                                                                                                                                     On risque la double peine. La personne souffrant de handicap a droit à la compassion de la société.  \n",
       "11772  100+ male infants die in the US each year due to circumcision. Some feminists disregard male genital mutilation as on par with FGM. This could be seen as hypocritical because both issues impede on a person's right to body autonomy, right to give consent, and risk life-long sexual dysfunction.  \n",
       "30893                                                                                                                                        Following trolls doesn't necessarily mean that he supports them; Modi could simply be keeping an eye on people whom he considers to be potential troublemakers.  \n",
       "15122                                                                                                                                            A majority of the UK electorate voted to leave the EU. The Liberal Democrats are likely to alienate these 17.4 million people with their anti-Brexit stance  "
      ]
     },
     "execution_count": 13,
     "metadata": {},
     "output_type": "execute_result"
    }
   ],
   "source": [
    "kialo_train_unique.sample(10).head()"
   ]
  },
  {
   "cell_type": "code",
   "execution_count": 9,
   "metadata": {},
   "outputs": [],
   "source": [
    "input_token_length = kialo_train_unique.premises.apply(lambda x: len(nltk.word_tokenize(' '.join(x))))\n",
    "output_token_length = kialo_train_unique.conclusion_text.apply(lambda x: len(nltk.word_tokenize(x)))"
   ]
  },
  {
   "cell_type": "code",
   "execution_count": 10,
   "metadata": {},
   "outputs": [
    {
     "data": {
      "image/png": "[encoded data removed]",
      "text/plain": [
       "<Figure size 432x288 with 1 Axes>"
      ]
     },
     "metadata": {
      "needs_background": "light"
     },
     "output_type": "display_data"
    }
   ],
   "source": [
    "plt.hist(input_token_length)\n",
    "plt.show()"
   ]
  },
  {
   "cell_type": "code",
   "execution_count": 11,
   "metadata": {},
   "outputs": [
    {
     "data": {
      "image/png": "[encoded data removed]",
      "text/plain": [
       "<Figure size 432x288 with 1 Axes>"
      ]
     },
     "metadata": {
      "needs_background": "light"
     },
     "output_type": "display_data"
    }
   ],
   "source": [
    "plt.hist(output_token_length)\n",
    "plt.show()"
   ]
  },
  {
   "cell_type": "code",
   "execution_count": null,
   "metadata": {},
   "outputs": [],
   "source": [
    "ls"
   ]
  }
 ],
 "metadata": {
  "kernelspec": {
   "display_name": "Python 3",
   "language": "python",
   "name": "python3"
  },
  "language_info": {
   "codemirror_mode": {
    "name": "ipython",
    "version": 3
   },
   "file_extension": ".py",
   "mimetype": "text/x-python",
   "name": "python",
   "nbconvert_exporter": "python",
   "pygments_lexer": "ipython3",
   "version": "3.6.9"
  }
 },
 "nbformat": 4,
 "nbformat_minor": 4
}
