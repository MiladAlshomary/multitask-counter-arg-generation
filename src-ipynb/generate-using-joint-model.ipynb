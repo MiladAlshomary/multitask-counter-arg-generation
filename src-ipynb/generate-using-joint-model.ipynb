{
 "cells": [
  {
   "cell_type": "code",
   "execution_count": 1,
   "metadata": {},
   "outputs": [],
   "source": [
    "from transformers.generation_utils import *"
   ]
  },
  {
   "cell_type": "code",
   "execution_count": 2,
   "metadata": {},
   "outputs": [],
   "source": [
    "import os\n",
    "import sys\n",
    "import pandas as pd\n",
    "import numpy as np\n",
    "\n",
    "pd.set_option('display.max_colwidth', None)\n",
    "os.environ[\"CUDA_DEVICE_ORDER\"]=\"PCI_BUS_ID\"   # see issue #152\n",
    "os.environ[\"CUDA_VISIBLE_DEVICES\"]=\"1\""
   ]
  },
  {
   "cell_type": "code",
   "execution_count": 3,
   "metadata": {},
   "outputs": [
    {
     "name": "stdout",
     "output_type": "stream",
     "text": [
      "Running on transformers v4.9.1 and datasets v1.10.2\n"
     ]
    }
   ],
   "source": [
    "import transformers\n",
    "import datasets\n",
    "\n",
    "print(f\"Running on transformers v{transformers.__version__} and datasets v{datasets.__version__}\")"
   ]
  },
  {
   "cell_type": "code",
   "execution_count": 4,
   "metadata": {},
   "outputs": [
    {
     "name": "stdout",
     "output_type": "stream",
     "text": [
      "Running on transformers v4.9.1 and datasets v1.10.2\n"
     ]
    }
   ],
   "source": [
    "sys.path.append('../src-py')\n",
    "\n",
    "import transformers\n",
    "import datasets\n",
    "from mt_bart_v2 import *\n",
    "\n",
    "print(f\"Running on transformers v{transformers.__version__} and datasets v{datasets.__version__}\")"
   ]
  },
  {
   "cell_type": "code",
   "execution_count": 5,
   "metadata": {
    "scrolled": true,
    "tags": []
   },
   "outputs": [],
   "source": [
    "tokenizer = BartTokenizer.from_pretrained('../data/output/joint-con-counter-bart-model-no-attention/')\n",
    "\n",
    "#joint_attention_model = BartModelV2.from_pretrained('../data/output/joint-con-counter-bart-model-with-joint-attention/', conc_loss_weight = 0.2, counter_loss_weight=0.8, attention_to_conc=True, conc_decoder=True).to(device)\n",
    "nojoint_attention_model     = BartModelV2.from_pretrained('../data/output/joint-con-counter-bart-model-no-attention-finetuned/0-1-1-0/', conc_loss_weight = 0.1, counter_loss_weight=1.0, attention_to_conc=False, conc_decoder=True).to(device)\n",
    "#noconc_decoder_model = BartModelV2.from_pretrained('../data/output/joint-con-counter-bart-model-no-conc-decoder/', conc_loss_weight = 0.2, counter_loss_weight=0.8, attention_to_conc=False, conc_decoder=False).to(device)\n",
    "\n",
    "# tokenizer = BartTokenizer.from_pretrained('facebook/bart-base')\n",
    "# model     = BartModelV2.from_pretrained('facebook/bart-base', conc_loss_weight = 0.5, counter_loss_weight=0.5).to(device)\n",
    "# original_bart_model = BartModel.from_pretrained('facebook/bart-base').to(device)\n",
    "# #load the weights of the two decoders\n",
    "# model.conclusion_decoder.load_state_dict(original_bart_model.decoder.state_dict())\n",
    "# model.counter_decoder.load_state_dict(original_bart_model.decoder.state_dict())"
   ]
  },
  {
   "cell_type": "markdown",
   "metadata": {},
   "source": [
    "### Evaluating on Eval data:"
   ]
  },
  {
   "cell_type": "code",
   "execution_count": 6,
   "metadata": {},
   "outputs": [],
   "source": [
    "gen_kwargs = {\n",
    "    \"do_sample\": False, \n",
    "    \"max_length\":200,\n",
    "    \"top_p\":0.95, \n",
    "    \"top_k\":50,\n",
    "    \"num_beams\":1\n",
    "}"
   ]
  },
  {
   "cell_type": "code",
   "execution_count": 7,
   "metadata": {},
   "outputs": [],
   "source": [
    "ceph_dir = '/home/sile2804/data-ceph/arguana/arg-generation/multi-taks-counter-argument-generation'\n",
    "local_home_dir = '../data'\n",
    "\n",
    "valid_df = pd.read_pickle(ceph_dir + '/reddit_data/conclusion_and_ca_generation/valid_conclusion_comp_remove_75sem_perc_with_targets.pkl')"
   ]
  },
  {
   "cell_type": "code",
   "execution_count": 8,
   "metadata": {},
   "outputs": [],
   "source": [
    "valid_sample = valid_df.sample(5)"
   ]
  },
  {
   "cell_type": "code",
   "execution_count": 9,
   "metadata": {},
   "outputs": [],
   "source": [
    "premises = [' '.join(x) for x in valid_sample.masked_premises.tolist()]\n",
    "premise_input_ids = [tokenizer([x], return_tensors=\"pt\").input_ids.to(device) for x in premises]"
   ]
  },
  {
   "cell_type": "code",
   "execution_count": 10,
   "metadata": {},
   "outputs": [],
   "source": [
    "#valid_sample['noconc_counters']  = [tokenizer.decode(noconc_decoder_model.generate(x, **gen_kwargs)[1][0], skip_special_tokens=True) for x in premise_input_ids]\n",
    "valid_sample['con_noattention_counters']  = [tokenizer.decode(nojoint_attention_model.generate(x, **gen_kwargs)[0][0], skip_special_tokens=True) for x in premise_input_ids]\n",
    "#valid_sample['full_model_counters']  = [tokenizer.decode(joint_attention_model.generate(x, **gen_kwargs)[1][0], skip_special_tokens=True) for x in premise_input_ids]"
   ]
  },
  {
   "cell_type": "code",
   "execution_count": 11,
   "metadata": {
    "scrolled": true,
    "tags": []
   },
   "outputs": [
    {
     "data": {
      "text/html": [
       "<div>\n",
       "<style scoped>\n",
       "    .dataframe tbody tr th:only-of-type {\n",
       "        vertical-align: middle;\n",
       "    }\n",
       "\n",
       "    .dataframe tbody tr th {\n",
       "        vertical-align: top;\n",
       "    }\n",
       "\n",
       "    .dataframe thead th {\n",
       "        text-align: right;\n",
       "    }\n",
       "</style>\n",
       "<table border=\"1\" class=\"dataframe\">\n",
       "  <thead>\n",
       "    <tr style=\"text-align: right;\">\n",
       "      <th></th>\n",
       "      <th>masked_premises</th>\n",
       "      <th>title</th>\n",
       "      <th>con_noattention_counters</th>\n",
       "    </tr>\n",
       "  </thead>\n",
       "  <tbody>\n",
       "    <tr>\n",
       "      <th>323018</th>\n",
       "      <td>[i see appeals to sympathy all the time using the lives of children., somehow, something is worse or more worthy of caring if it primarily affects the lives of children., i see no reason to value the lives of children over an adult., logically i think it makes sense to value adults over children ., adults are much more likely to have accomplished something in their lives, they're more likely to be skilled in a particular field and more likely to be able to benefit society right now ., they have had more time to build meaningful relationships with a larger number of people, and their relationships will be much more than just 'they're a child family, so i automatically care about them' i know this is an extremely unpopular opinion., i get extremely strange looks irl anytime i even suggest that i hold this view., so cmv!]</td>\n",
       "      <td>I don't value the lives of children more than the lives of adults.</td>\n",
       "      <td>i think the problem is that the people who are doing the things that are worth the money are the people that are doing them. the people in the world are the ones who are making the money. the ones that are going to make the money, the people with the money and the people around them are the only people who will be able to pay for the money they are doing. the only thing that is going to help the people of the world is the people they are making money.</td>\n",
       "    </tr>\n",
       "    <tr>\n",
       "      <th>301385</th>\n",
       "      <td>[the second amendment to the constitution is the most cited defense of gun ownership in the usa., the claim is that gun ownership is allowed, largely unrestricted, because the constitution assures all law abiding citizens this right., ccw holders, specifically, are claimed to have the one of the lowest crime rates in american society, a question that i have had recently is this: what if the constitution was changed to carve out more restricted access to guns?, would the class of 'law abiding' ccw holders and gun owners comply with the new laws?, or would they see this change as unconstitutional and disobey the new law?, this act, of course, would render them no longer 'law abiding. ', i believe that no, most previously law abiding gun owners would not give up their weapons, despite now being criminals., if the argument is that gun owners are the most law abiding citizens, it follows that they should obey the new law., this is regardless of the morality, effectiveness, or popularity of the law law abiders follow all laws as closely as possible., many law abiding gun owners claim to respect the constitution, however, i honestly believe that if the second amendment were changed that most previously law abiding gun owners would not respect the new law., this does not make sense if the claim is that gun owners respect the constitution, since once an amendment is in the constitution it quite literally becomes constitutional., this would mean that law abiding gun owners do not actually care about following the law or holding up the constitution., what they actually care about is access to guns, and possibly upholding certain family or regional traditions., therefore gun owners do not actually respect the constitution, they just agree with the constitution because it justifies their beliefs in gun ownership., so can you change my view reddit?, my view is that 'law abiding' gun owners do not believe in the rule of law to the extent that they claim., if the constitution were changed to place more restrictions on access to firearms, most previously law abiding gun owners would rather become criminals than follow the new laws., therefore gun ownership has nothing to do with respect for the constitution or law and only has to do with the preservation of american gun culture.]</td>\n",
       "      <td>I don't think that law-abiding gun owners actually respect the constitution the way that they claim to</td>\n",
       "      <td>i think the problem with your view is that you are not saying that the constitution is the most effective way to make the law. you are saying that you don't care about the constitution, but you are arguing that the law is the best way to do that. you're saying that there are people who don't want to be a gun owner, and that they are not going to be the most 'good' gun owners. you have to say that you believe that the first amendment is the only way to get a gun. you can't say that the second amendment is a good idea, but it's not the best idea.</td>\n",
       "    </tr>\n",
       "    <tr>\n",
       "      <th>297638</th>\n",
       "      <td>[everywhere i go lately, there is a screaming child., dinner, movie theatre, target, everywhere., i was at a bar the other night and there were these two little toddlers running around, digging their grubby little hands into everyone's coat pockets and purses., they are constantly exposed to a barrage of illnesses., they are sticky and messy and loud, and their behavior from adults would never be accepted., so why is it okay for other people to force me to be around their children in public?, until children can learn to stay near their parents, keep their hands to themselves, and not scream every time someone tells them no, they should be kept out of public spaces., i realize i should maybe say what could change my view., i think if someone could show me that somehow, allowing screaming children in public is somehow beneficial to society as a whole, i would change my view.]</td>\n",
       "      <td>Before they learn to control themselves and their emotions, children should not be allowed in public spaces.</td>\n",
       "      <td>i think it's a good idea to have children in public. i think it is a good thing to have kids in public, but i think that it's not a good way to have them.</td>\n",
       "    </tr>\n",
       "    <tr>\n",
       "      <th>396105</th>\n",
       "      <td>[my view is based off the assertion that men and women should be treated equally on the principles of gender equality., the cultural norm that men should not hit women is wrong., it is not any worse for a man to hit a woman than the other way around., men should not have an obligation to take assault from a woman based solely on gender., gender should not be taken into account in violence, save for exceptions., let me give a few examples., scenario 1 gt; female hits male, male hits in self defense., female is at wrong because she assaulted someone., scenario 2 gt; female hits male, male knocks out female., both parties at wrong, male used too much force., scenario 3 gt; male hits female, female knocks out male., both parties at wrong, female used too much force., gender does not come into account in any of these instances.]</td>\n",
       "      <td>There is no difference between a man hitting a woman and vice-versa.</td>\n",
       "      <td>i think the issue is that the 'good' thing is that it is not the same as the 'natural' thing. it is the same thing as the bad thing. the bad things are not the bad. the good things are the bad, the bad people are the good people. the wrong things are just the bad ones.</td>\n",
       "    </tr>\n",
       "    <tr>\n",
       "      <th>330223</th>\n",
       "      <td>[two examples that come to mind are ghostbusters and ocean s 8., while i entirely support female leads in movies and female dominated casts, i think it is blatant pandering to recreate previously well received movies with female characters., i think this is a bad thing because while an interesting idea, it is often difficult to live up to the nostalgia of the original material and this ultimately hurts the movie more than it helps, even if the new movie itself is good in a vacuum., it is much more important to create new content using female leads., this way, it would allow the content to stand on its own and be judged on its own merit and not how it compared to the male version., movies like wonder woman are much more meaningful and impactful because it and it s source material are not of the but with women mentality that we see with the other movies i mentioned.]</td>\n",
       "      <td>Reimagining Existing Movies Except with Female Characters is Pandering and Not Worthwhile</td>\n",
       "      <td>i think it's a good idea to have women in movies. it's not a good thing to have men in movies, it's just a good way to make a good movie.</td>\n",
       "    </tr>\n",
       "  </tbody>\n",
       "</table>\n",
       "</div>"
      ],
      "text/plain": [
       "                                                                                                                                                                                                                                                                                                                                                                                                                                                                                                                                                                                                                                                                                                                                                                                                                                                                                                                                                                                                                                                                                                                                                                                                                                                                                                                                                                                                                                                                                                                                                                                                                                                                                                                                                                                                                                                                                                                                                                                                                                                                                                                                                                                                                                                                                                                                                                                        masked_premises  \\\n",
       "323018                                                                                                                                                                                                                                                                                                                                                                                                                                                                                                                                                                                                                                                                                                                                                                                                                                                                                                                                                                                                                                                                                                                                                                                                                                                                                                                                                                                                                                                                                                                                   [i see appeals to sympathy all the time using the lives of children., somehow, something is worse or more worthy of caring if it primarily affects the lives of children., i see no reason to value the lives of children over an adult., logically i think it makes sense to value adults over children ., adults are much more likely to have accomplished something in their lives, they're more likely to be skilled in a particular field and more likely to be able to benefit society right now ., they have had more time to build meaningful relationships with a larger number of people, and their relationships will be much more than just 'they're a child family, so i automatically care about them' i know this is an extremely unpopular opinion., i get extremely strange looks irl anytime i even suggest that i hold this view., so cmv!]   \n",
       "301385  [the second amendment to the constitution is the most cited defense of gun ownership in the usa., the claim is that gun ownership is allowed, largely unrestricted, because the constitution assures all law abiding citizens this right., ccw holders, specifically, are claimed to have the one of the lowest crime rates in american society, a question that i have had recently is this: what if the constitution was changed to carve out more restricted access to guns?, would the class of 'law abiding' ccw holders and gun owners comply with the new laws?, or would they see this change as unconstitutional and disobey the new law?, this act, of course, would render them no longer 'law abiding. ', i believe that no, most previously law abiding gun owners would not give up their weapons, despite now being criminals., if the argument is that gun owners are the most law abiding citizens, it follows that they should obey the new law., this is regardless of the morality, effectiveness, or popularity of the law law abiders follow all laws as closely as possible., many law abiding gun owners claim to respect the constitution, however, i honestly believe that if the second amendment were changed that most previously law abiding gun owners would not respect the new law., this does not make sense if the claim is that gun owners respect the constitution, since once an amendment is in the constitution it quite literally becomes constitutional., this would mean that law abiding gun owners do not actually care about following the law or holding up the constitution., what they actually care about is access to guns, and possibly upholding certain family or regional traditions., therefore gun owners do not actually respect the constitution, they just agree with the constitution because it justifies their beliefs in gun ownership., so can you change my view reddit?, my view is that 'law abiding' gun owners do not believe in the rule of law to the extent that they claim., if the constitution were changed to place more restrictions on access to firearms, most previously law abiding gun owners would rather become criminals than follow the new laws., therefore gun ownership has nothing to do with respect for the constitution or law and only has to do with the preservation of american gun culture.]   \n",
       "297638                                                                                                                                                                                                                                                                                                                                                                                                                                                                                                                                                                                                                                                                                                                                                                                                                                                                                                                                                                                                                                                                                                                                                                                                                                                                                                                                                                                                                                                                           [everywhere i go lately, there is a screaming child., dinner, movie theatre, target, everywhere., i was at a bar the other night and there were these two little toddlers running around, digging their grubby little hands into everyone's coat pockets and purses., they are constantly exposed to a barrage of illnesses., they are sticky and messy and loud, and their behavior from adults would never be accepted., so why is it okay for other people to force me to be around their children in public?, until children can learn to stay near their parents, keep their hands to themselves, and not scream every time someone tells them no, they should be kept out of public spaces., i realize i should maybe say what could change my view., i think if someone could show me that somehow, allowing screaming children in public is somehow beneficial to society as a whole, i would change my view.]   \n",
       "396105                                                                                                                                                                                                                                                                                                                                                                                                                                                                                                                                                                                                                                                                                                                                                                                                                                                                                                                                                                                                                                                                                                                                                                                                                                                                                                                                                                                                                                                                                                                              [my view is based off the assertion that men and women should be treated equally on the principles of gender equality., the cultural norm that men should not hit women is wrong., it is not any worse for a man to hit a woman than the other way around., men should not have an obligation to take assault from a woman based solely on gender., gender should not be taken into account in violence, save for exceptions., let me give a few examples., scenario 1 gt; female hits male, male hits in self defense., female is at wrong because she assaulted someone., scenario 2 gt; female hits male, male knocks out female., both parties at wrong, male used too much force., scenario 3 gt; male hits female, female knocks out male., both parties at wrong, female used too much force., gender does not come into account in any of these instances.]   \n",
       "330223                                                                                                                                                                                                                                                                                                                                                                                                                                                                                                                                                                                                                                                                                                                                                                                                                                                                                                                                                                                                                                                                                                                                                                                                                                                                                                                                                                                                                                                                                    [two examples that come to mind are ghostbusters and ocean s 8., while i entirely support female leads in movies and female dominated casts, i think it is blatant pandering to recreate previously well received movies with female characters., i think this is a bad thing because while an interesting idea, it is often difficult to live up to the nostalgia of the original material and this ultimately hurts the movie more than it helps, even if the new movie itself is good in a vacuum., it is much more important to create new content using female leads., this way, it would allow the content to stand on its own and be judged on its own merit and not how it compared to the male version., movies like wonder woman are much more meaningful and impactful because it and it s source material are not of the but with women mentality that we see with the other movies i mentioned.]   \n",
       "\n",
       "                                                                                                                title  \\\n",
       "323018                                             I don't value the lives of children more than the lives of adults.   \n",
       "301385         I don't think that law-abiding gun owners actually respect the constitution the way that they claim to   \n",
       "297638   Before they learn to control themselves and their emotions, children should not be allowed in public spaces.   \n",
       "396105                                           There is no difference between a man hitting a woman and vice-versa.   \n",
       "330223                      Reimagining Existing Movies Except with Female Characters is Pandering and Not Worthwhile   \n",
       "\n",
       "                                                                                                                                                                                                                                                                                                                                                                                                                                                                                                                                                      con_noattention_counters  \n",
       "323018                                                                                                 i think the problem is that the people who are doing the things that are worth the money are the people that are doing them. the people in the world are the ones who are making the money. the ones that are going to make the money, the people with the money and the people around them are the only people who will be able to pay for the money they are doing. the only thing that is going to help the people of the world is the people they are making money.  \n",
       "301385  i think the problem with your view is that you are not saying that the constitution is the most effective way to make the law. you are saying that you don't care about the constitution, but you are arguing that the law is the best way to do that. you're saying that there are people who don't want to be a gun owner, and that they are not going to be the most 'good' gun owners. you have to say that you believe that the first amendment is the only way to get a gun. you can't say that the second amendment is a good idea, but it's not the best idea.  \n",
       "297638                                                                                                                                                                                                                                                                                                                                                                                                              i think it's a good idea to have children in public. i think it is a good thing to have kids in public, but i think that it's not a good way to have them.  \n",
       "396105                                                                                                                                                                                                                                                                                           i think the issue is that the 'good' thing is that it is not the same as the 'natural' thing. it is the same thing as the bad thing. the bad things are not the bad. the good things are the bad, the bad people are the good people. the wrong things are just the bad ones.  \n",
       "330223                                                                                                                                                                                                                                                                                                                                                                                                                               i think it's a good idea to have women in movies. it's not a good thing to have men in movies, it's just a good way to make a good movie.  "
      ]
     },
     "execution_count": 11,
     "metadata": {},
     "output_type": "execute_result"
    }
   ],
   "source": [
    "valid_sample[['masked_premises', 'title', 'con_noattention_counters']].head()"
   ]
  },
  {
   "cell_type": "code",
   "execution_count": null,
   "metadata": {},
   "outputs": [],
   "source": []
  }
 ],
 "metadata": {
  "kernelspec": {
   "display_name": "Python 3",
   "language": "python",
   "name": "python3"
  },
  "language_info": {
   "codemirror_mode": {
    "name": "ipython",
    "version": 3
   },
   "file_extension": ".py",
   "mimetype": "text/x-python",
   "name": "python",
   "nbconvert_exporter": "python",
   "pygments_lexer": "ipython3",
   "version": "3.6.9"
  }
 },
 "nbformat": 4,
 "nbformat_minor": 4
}
