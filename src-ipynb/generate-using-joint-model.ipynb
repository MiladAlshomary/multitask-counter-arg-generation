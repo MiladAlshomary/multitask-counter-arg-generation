{
 "cells": [
  {
   "cell_type": "code",
   "execution_count": 1,
   "metadata": {},
   "outputs": [],
   "source": [
    "from transformers.generation_utils import *"
   ]
  },
  {
   "cell_type": "code",
   "execution_count": null,
   "metadata": {},
   "outputs": [],
   "source": [
    "import os\n",
    "import sys\n",
    "import pandas as pd\n",
    "import numpy as np\n",
    "\n",
    "pd.set_option('display.max_colwidth', None)\n",
    "os.environ[\"CUDA_DEVICE_ORDER\"]=\"PCI_BUS_ID\"   # see issue #152\n",
    "os.environ[\"CUDA_VISIBLE_DEVICES\"]=\"1\""
   ]
  },
  {
   "cell_type": "code",
   "execution_count": null,
   "metadata": {},
   "outputs": [],
   "source": [
    "import transformers\n",
    "import datasets\n",
    "\n",
    "print(f\"Running on transformers v{transformers.__version__} and datasets v{datasets.__version__}\")"
   ]
  },
  {
   "cell_type": "code",
   "execution_count": null,
   "metadata": {},
   "outputs": [],
   "source": [
    "sys.path.append('../src-py')\n",
    "\n",
    "import transformers\n",
    "import datasets\n",
    "from mt_bart_v2 import *\n",
    "\n",
    "print(f\"Running on transformers v{transformers.__version__} and datasets v{datasets.__version__}\")"
   ]
  },
  {
   "cell_type": "code",
   "execution_count": null,
   "metadata": {
    "scrolled": true,
    "tags": []
   },
   "outputs": [],
   "source": [
    "tokenizer = BartTokenizer.from_pretrained('../data/output/joint-con-counter-bart-model-no-attention/')\n",
    "\n",
    "#joint_attention_model = BartModelV2.from_pretrained('../data/output/joint-con-counter-bart-model-with-joint-attention/', conc_loss_weight = 0.2, counter_loss_weight=0.8, attention_to_conc=True, conc_decoder=True).to(device)\n",
    "nojoint_attention_model     = BartModelV2.from_pretrained('../data/output/joint-con-counter-bart-model-no-attention-finetuned/0-1-1-0/', conc_loss_weight = 0.1, counter_loss_weight=1.0, attention_to_conc=False, conc_decoder=True).to(device)\n",
    "#noconc_decoder_model = BartModelV2.from_pretrained('../data/output/joint-con-counter-bart-model-no-conc-decoder/', conc_loss_weight = 0.2, counter_loss_weight=0.8, attention_to_conc=False, conc_decoder=False).to(device)\n",
    "\n",
    "# tokenizer = BartTokenizer.from_pretrained('facebook/bart-base')\n",
    "# model     = BartModelV2.from_pretrained('facebook/bart-base', conc_loss_weight = 0.5, counter_loss_weight=0.5).to(device)\n",
    "# original_bart_model = BartModel.from_pretrained('facebook/bart-base').to(device)\n",
    "# #load the weights of the two decoders\n",
    "# model.conclusion_decoder.load_state_dict(original_bart_model.decoder.state_dict())\n",
    "# model.counter_decoder.load_state_dict(original_bart_model.decoder.state_dict())"
   ]
  },
  {
   "cell_type": "markdown",
   "metadata": {},
   "source": [
    "### Evaluating on Eval data:"
   ]
  },
  {
   "cell_type": "code",
   "execution_count": 6,
   "metadata": {},
   "outputs": [],
   "source": [
    "gen_kwargs = {\n",
    "    \"do_sample\": True, \n",
    "    \"max_length\":200,\n",
    "    \"top_p\":0.95, \n",
    "    \"top_k\":50,\n",
    "    \"num_beams\":1\n",
    "}"
   ]
  },
  {
   "cell_type": "code",
   "execution_count": 7,
   "metadata": {},
   "outputs": [],
   "source": [
    "ceph_dir = '/home/sile2804/data-ceph/arguana/arg-generation/multi-taks-counter-argument-generation'\n",
    "local_home_dir = '../data'\n",
    "\n",
    "valid_df = pd.read_pickle(ceph_dir + '/reddit_data/conclusion_and_ca_generation/valid_conclusion_comp_remove_75sem_perc_with_targets.pkl')"
   ]
  },
  {
   "cell_type": "code",
   "execution_count": 8,
   "metadata": {},
   "outputs": [],
   "source": [
    "valid_sample = valid_df.sample(5)"
   ]
  },
  {
   "cell_type": "code",
   "execution_count": 9,
   "metadata": {},
   "outputs": [],
   "source": [
    "premises = [' '.join(x) for x in valid_sample.masked_premises.tolist()]\n",
    "premise_input_ids = [tokenizer([x], return_tensors=\"pt\").input_ids.to(device) for x in premises]"
   ]
  },
  {
   "cell_type": "code",
   "execution_count": 10,
   "metadata": {},
   "outputs": [],
   "source": [
    "#valid_sample['noconc_counters']  = [tokenizer.decode(noconc_decoder_model.generate(x, **gen_kwargs)[1][0], skip_special_tokens=True) for x in premise_input_ids]\n",
    "valid_sample['con_noattention_counters']  = [tokenizer.decode(nojoint_attention_model.generate(x, **gen_kwargs)[1][0], skip_special_tokens=True) for x in premise_input_ids]\n",
    "#valid_sample['full_model_counters']  = [tokenizer.decode(joint_attention_model.generate(x, **gen_kwargs)[1][0], skip_special_tokens=True) for x in premise_input_ids]"
   ]
  },
  {
   "cell_type": "code",
   "execution_count": 11,
   "metadata": {
    "scrolled": true,
    "tags": []
   },
   "outputs": [
    {
     "data": {
      "text/html": [
       "<div>\n",
       "<style scoped>\n",
       "    .dataframe tbody tr th:only-of-type {\n",
       "        vertical-align: middle;\n",
       "    }\n",
       "\n",
       "    .dataframe tbody tr th {\n",
       "        vertical-align: top;\n",
       "    }\n",
       "\n",
       "    .dataframe thead th {\n",
       "        text-align: right;\n",
       "    }\n",
       "</style>\n",
       "<table border=\"1\" class=\"dataframe\">\n",
       "  <thead>\n",
       "    <tr style=\"text-align: right;\">\n",
       "      <th></th>\n",
       "      <th>masked_premises</th>\n",
       "      <th>title</th>\n",
       "      <th>con_noattention_counters</th>\n",
       "    </tr>\n",
       "  </thead>\n",
       "  <tbody>\n",
       "    <tr>\n",
       "      <th>392059</th>\n",
       "      <td>[i m a republican., but i believe that anyone can be married to anyone., as long as it doesn t hinder my rights you can marry whoever you want., you can spend the rest of your life with the any person you desire., the republican party believes in traditional marriage and voted against gay marriage in 2015., i can t believe it was not legal in the first place., things like that make me question the party continuously., my major beliefs belong to the republican party., therefore, i call myself republican., due to the political stereotypes running around, i sometimes call myself a centrist., i get slandered all the time by republicans calling me traitor or flat out ignoring me., i get assigned to the long belief list on the republican website., i actually hate many things republicans in power do., i don t like trump., i ve seen enough., this doesn t just apply to republicans though., it applies to all parties., i only know about the republican side because of my experience., we should stop assuming that people saying that they belong to a party automatically believes in everything it stands for.]</td>\n",
       "      <td>People should stop assuming that someone in a political party believes EVERYTHING that party believes in.</td>\n",
       "      <td>i'm a man and not a man. i am a woman. i should be able to keep my family around because i'm a dog.</td>\n",
       "    </tr>\n",
       "    <tr>\n",
       "      <th>404067</th>\n",
       "      <td>[i want to preface this that i like the idea behind automatic voter registration., it helps encourage the political process., but specifically, in my home state of florida, under the current system this would not be a good idea, for one main reason., in florida, the voter roll is public information., anyone can request a disk containing the entire voter roll including names, addresses, birthdays, mailing addresses, gender, race, etc. for free., there are several sites that offer searchable databases of this data., even if you could get your data off these sites some sites refuse to take stuff down , you also would have to file an exemption request, the only options available to a common citizen are: victim of sexual battery, aggravated child abuse, aggravated stalking, harassment, aggravated battery, or domestic violence., official verification of the crime is required certified participant in address confidentiality program only for victims of domestic violence you cannot simply request an exemption just because you want to be anonymous, or because you are afraid of a person who hasn't committed a specific provable crime against you., with automatic voter registration, we'd be putting a large amount of personal information in a public database, most likely without the knowledge of those being registered., this is a massive breach of privacy and can be a danger to society., as this is automatic, this database will begin to look more and more like a database of the names and addresses of the majority of floridians., a white supremacist could use the database to target ethnic minorities, as race is included in the database a person could use the information in the database to possibly commit identity theft a person could be stalked using the information in the database a victim of a crime, such as rape, that they did not report or that could not be prosecuted, could be found by their abuser a person of general popularity, such as an internet celebrity, could be doxxed quite simply, florida needs the way it handles i's citizens' personal data before implementing automatic voter registration.]</td>\n",
       "      <td>Automatic voter registration is NOT a good idea (specifically in Florida)</td>\n",
       "      <td>it's not like 'it's important to vote because you're just talking about people with nothing to do with themselves.'it's not that the majority of people need to be able to be taken down. it's that the government has already been responsible for being able to afford, therefore we are not talking about all the people who need to have control of this.</td>\n",
       "    </tr>\n",
       "    <tr>\n",
       "      <th>408080</th>\n",
       "      <td>[a lot of people seem to think it's rude to correct someone's english, and to me it seems that it's only rude if it's condescending or the person is a native english speaker., i think that if someone is learning english which is a difficult language to learn and makes a mistake then it'd be a good thing for someone to correct them., this way they'll learn something new about the language that they'll use later., if i were learning another language, then i know i'd want people to help me as long as they weren't being rude about it., one of the easiest ways to learn a language is by speaking to people who have already mastered said language, but a lot of that probably comes from them correcting your mistake., otherwise you'd have to hear the correct way to say write something multiple times before you'd realize you were making a mistake, and even then it'd be confusing since different rules apply to different words, for example, someone may think the plural of goose would be 'gooses' because someone said the plural of dog was 'dogs', so they'd just assume that plural means you add an s., if someone corrected them when they said 'gooses', then they'd learn right then instead of having to read the word 'geese' somewhere.]</td>\n",
       "      <td>It's not rude to correct someone's English if they're learning it as a second language.</td>\n",
       "      <td>this is not a common argument, however, if you believe that people should have a right to learn whether they want to or not. i'm sure it could be bad of them to believe that the words they haven't ever changed are bad for you.</td>\n",
       "    </tr>\n",
       "    <tr>\n",
       "      <th>400373</th>\n",
       "      <td>[i won't suffer if i work from home with only 2 other people., i won't go insane if i don't have friends., we are not 'social creatures'., i won't go insane with minimum amount of interaction and internet., people are overly obsessed with being social., and i doubt even staying alone will make you go insane., there are many hermits and monks that are not insane and live alone their whole lives., we don't depend on others for our own survival., we can go hunt or grow food for ourselves the statement we are social creatures is based on nothing., if we stop all sensory input, yes then you will go insane and die, but don't mistake this for going insane from no human interaction.]</td>\n",
       "      <td>We are not \"social creatures\".</td>\n",
       "      <td>i have been into the question of any 'free life' in the world, but the fact is that if i were to take a place in a population where i was not given a right to buy. the reason i wouldn't have a time to work for another person is because i am not a lifeer, i don't work in the end of the world or in a country where the economy is a lot harder and we're not a population and we can't have all a life. we should be trying to gain meaning from your life, and not have their life. if people are being an argument for that.</td>\n",
       "    </tr>\n",
       "    <tr>\n",
       "      <th>359706</th>\n",
       "      <td>[any omniscient, omnipotent god, in this universe, would be an immoral one., to serve a god, you know is evil, is to not stand against evil and to thereby be evil., what i grant, for this to be true: existence of natural evil., god has created a universe, where he lets children die of bone cancer when they are 4 years old., no theodicy justifies this., moral realism., the universe can be in an objectively better or worse moral state, dependent on how it allows for the flourishment of consciousness., all consciousness does not like, what it does not like, it can objectively be suffering or flourishing., more complex conscious experiences, such as that of a human, can provide greater suffering and agony, or greater flourishing, than less complex conscious experiences such as that of a rodent, which can't experience humanlike psychological agony for example., the moral landscape is a model of viewing various possible realities as being peaks and valleys, either highpoint or lowpoints for conscious flourishing., to behave morally, is to bear intent and commitment to pursue the reaching of a higher peak on the moral landscape., to achieve what is more moral, is to achieve a higher peak., morality is our interest in elevating the world on the moral landscape., if that is not what one is interested in, then i don't know what one would be talking about, you would not be talking about morality., we can exclude people who view morality as the pursuit of maximizing paperclips, from the conversation, as much as we would exclude anyone else with an equally irrelevant viewpoint., morality is something which our efforts can objectively move us towards it is objective., conclusion: the universe has natural evil., god would've created the universe, god could change the universe at any point., god would be aware of evil., god does not care about evil., worshipping god to get a ticket to heaven, is to endorse evil for selfish reasons., worshipping the god i described is evil., change my view.]</td>\n",
       "      <td>God is evil, and worship is objectively evil.</td>\n",
       "      <td>i'm not sure why you're being capable of taking an argument of good, but it seems like that's just not the case, but i don't think the actual solution is more important, which is to make sure that there's no problem with it. what i'm asking is why there's a difference between an fact or a reasoning. i do think there is a moral difference between a evidence and an argument for a human being to do anything but be 'procdating' which is simply not that important to me. this seems like a good idea in general, but not to me as an example. you don't need to be 'free' as a 'a 'better' part of a god. 'in a case of a human.'is that not the fact that everyone is'ssa' that has made it worth you to be sure.'yes, you'd say that the future will be more 'femen' because other people do,</td>\n",
       "    </tr>\n",
       "  </tbody>\n",
       "</table>\n",
       "</div>"
      ],
      "text/plain": [
       "                                                                                                                                                                                                                                                                                                                                                                                                                                                                                                                                                                                                                                                                                                                                                                                                                                                                                                                                                                                                                                                                                                                                                                                                                                                                                                                                                                                                                                                                                                                                                                                                                                                                                                                                                                                                                                                                                                                                                                                                                                                                                                                                                                                                       masked_premises  \\\n",
       "392059                                                                                                                                                                                                                                                                                                                                                                                                                                                                                                                                                                                                                                                                                                                                                                                                                                                                                                                                                                                                                                                          [i m a republican., but i believe that anyone can be married to anyone., as long as it doesn t hinder my rights you can marry whoever you want., you can spend the rest of your life with the any person you desire., the republican party believes in traditional marriage and voted against gay marriage in 2015., i can t believe it was not legal in the first place., things like that make me question the party continuously., my major beliefs belong to the republican party., therefore, i call myself republican., due to the political stereotypes running around, i sometimes call myself a centrist., i get slandered all the time by republicans calling me traitor or flat out ignoring me., i get assigned to the long belief list on the republican website., i actually hate many things republicans in power do., i don t like trump., i ve seen enough., this doesn t just apply to republicans though., it applies to all parties., i only know about the republican side because of my experience., we should stop assuming that people saying that they belong to a party automatically believes in everything it stands for.]   \n",
       "404067  [i want to preface this that i like the idea behind automatic voter registration., it helps encourage the political process., but specifically, in my home state of florida, under the current system this would not be a good idea, for one main reason., in florida, the voter roll is public information., anyone can request a disk containing the entire voter roll including names, addresses, birthdays, mailing addresses, gender, race, etc. for free., there are several sites that offer searchable databases of this data., even if you could get your data off these sites some sites refuse to take stuff down , you also would have to file an exemption request, the only options available to a common citizen are: victim of sexual battery, aggravated child abuse, aggravated stalking, harassment, aggravated battery, or domestic violence., official verification of the crime is required certified participant in address confidentiality program only for victims of domestic violence you cannot simply request an exemption just because you want to be anonymous, or because you are afraid of a person who hasn't committed a specific provable crime against you., with automatic voter registration, we'd be putting a large amount of personal information in a public database, most likely without the knowledge of those being registered., this is a massive breach of privacy and can be a danger to society., as this is automatic, this database will begin to look more and more like a database of the names and addresses of the majority of floridians., a white supremacist could use the database to target ethnic minorities, as race is included in the database a person could use the information in the database to possibly commit identity theft a person could be stalked using the information in the database a victim of a crime, such as rape, that they did not report or that could not be prosecuted, could be found by their abuser a person of general popularity, such as an internet celebrity, could be doxxed quite simply, florida needs the way it handles i's citizens' personal data before implementing automatic voter registration.]   \n",
       "408080                                                                                                                                                                                                                                                                                                                                                                                                                                                                                                                                                                                                                                                                                                                                                                                                                                                                                                                           [a lot of people seem to think it's rude to correct someone's english, and to me it seems that it's only rude if it's condescending or the person is a native english speaker., i think that if someone is learning english which is a difficult language to learn and makes a mistake then it'd be a good thing for someone to correct them., this way they'll learn something new about the language that they'll use later., if i were learning another language, then i know i'd want people to help me as long as they weren't being rude about it., one of the easiest ways to learn a language is by speaking to people who have already mastered said language, but a lot of that probably comes from them correcting your mistake., otherwise you'd have to hear the correct way to say write something multiple times before you'd realize you were making a mistake, and even then it'd be confusing since different rules apply to different words, for example, someone may think the plural of goose would be 'gooses' because someone said the plural of dog was 'dogs', so they'd just assume that plural means you add an s., if someone corrected them when they said 'gooses', then they'd learn right then instead of having to read the word 'geese' somewhere.]   \n",
       "400373                                                                                                                                                                                                                                                                                                                                                                                                                                                                                                                                                                                                                                                                                                                                                                                                                                                                                                                                                                                                                                                                                                                                                                                                                                                                                                                                                                                                                                                                                                    [i won't suffer if i work from home with only 2 other people., i won't go insane if i don't have friends., we are not 'social creatures'., i won't go insane with minimum amount of interaction and internet., people are overly obsessed with being social., and i doubt even staying alone will make you go insane., there are many hermits and monks that are not insane and live alone their whole lives., we don't depend on others for our own survival., we can go hunt or grow food for ourselves the statement we are social creatures is based on nothing., if we stop all sensory input, yes then you will go insane and die, but don't mistake this for going insane from no human interaction.]   \n",
       "359706                                                                                                                       [any omniscient, omnipotent god, in this universe, would be an immoral one., to serve a god, you know is evil, is to not stand against evil and to thereby be evil., what i grant, for this to be true: existence of natural evil., god has created a universe, where he lets children die of bone cancer when they are 4 years old., no theodicy justifies this., moral realism., the universe can be in an objectively better or worse moral state, dependent on how it allows for the flourishment of consciousness., all consciousness does not like, what it does not like, it can objectively be suffering or flourishing., more complex conscious experiences, such as that of a human, can provide greater suffering and agony, or greater flourishing, than less complex conscious experiences such as that of a rodent, which can't experience humanlike psychological agony for example., the moral landscape is a model of viewing various possible realities as being peaks and valleys, either highpoint or lowpoints for conscious flourishing., to behave morally, is to bear intent and commitment to pursue the reaching of a higher peak on the moral landscape., to achieve what is more moral, is to achieve a higher peak., morality is our interest in elevating the world on the moral landscape., if that is not what one is interested in, then i don't know what one would be talking about, you would not be talking about morality., we can exclude people who view morality as the pursuit of maximizing paperclips, from the conversation, as much as we would exclude anyone else with an equally irrelevant viewpoint., morality is something which our efforts can objectively move us towards it is objective., conclusion: the universe has natural evil., god would've created the universe, god could change the universe at any point., god would be aware of evil., god does not care about evil., worshipping god to get a ticket to heaven, is to endorse evil for selfish reasons., worshipping the god i described is evil., change my view.]   \n",
       "\n",
       "                                                                                                             title  \\\n",
       "392059   People should stop assuming that someone in a political party believes EVERYTHING that party believes in.   \n",
       "404067                                   Automatic voter registration is NOT a good idea (specifically in Florida)   \n",
       "408080                     It's not rude to correct someone's English if they're learning it as a second language.   \n",
       "400373                                                                              We are not \"social creatures\".   \n",
       "359706                                                               God is evil, and worship is objectively evil.   \n",
       "\n",
       "                                                                                                                                                                                                                                                                                                                                                                                                                                                                                                                                                                                                                                                                                                                                                                                            con_noattention_counters  \n",
       "392059                                                                                                                                                                                                                                                                                                                                                                                                                                                                                                                                                                                                                                                                                                           i'm a man and not a man. i am a woman. i should be able to keep my family around because i'm a dog.  \n",
       "404067                                                                                                                                                                                                                                                                                                                                                                                                                                                 it's not like 'it's important to vote because you're just talking about people with nothing to do with themselves.'it's not that the majority of people need to be able to be taken down. it's that the government has already been responsible for being able to afford, therefore we are not talking about all the people who need to have control of this.  \n",
       "408080                                                                                                                                                                                                                                                                                                                                                                                                                                                                                                                                                                            this is not a common argument, however, if you believe that people should have a right to learn whether they want to or not. i'm sure it could be bad of them to believe that the words they haven't ever changed are bad for you.  \n",
       "400373                                                                                                                                                                                                                                                                         i have been into the question of any 'free life' in the world, but the fact is that if i were to take a place in a population where i was not given a right to buy. the reason i wouldn't have a time to work for another person is because i am not a lifeer, i don't work in the end of the world or in a country where the economy is a lot harder and we're not a population and we can't have all a life. we should be trying to gain meaning from your life, and not have their life. if people are being an argument for that.  \n",
       "359706  i'm not sure why you're being capable of taking an argument of good, but it seems like that's just not the case, but i don't think the actual solution is more important, which is to make sure that there's no problem with it. what i'm asking is why there's a difference between an fact or a reasoning. i do think there is a moral difference between a evidence and an argument for a human being to do anything but be 'procdating' which is simply not that important to me. this seems like a good idea in general, but not to me as an example. you don't need to be 'free' as a 'a 'better' part of a god. 'in a case of a human.'is that not the fact that everyone is'ssa' that has made it worth you to be sure.'yes, you'd say that the future will be more 'femen' because other people do,  "
      ]
     },
     "execution_count": 11,
     "metadata": {},
     "output_type": "execute_result"
    }
   ],
   "source": [
    "valid_sample[['masked_premises', 'title', 'con_noattention_counters']].head()"
   ]
  },
  {
   "cell_type": "code",
   "execution_count": null,
   "metadata": {},
   "outputs": [],
   "source": []
  }
 ],
 "metadata": {
  "kernelspec": {
   "display_name": "Python 3",
   "language": "python",
   "name": "python3"
  },
  "language_info": {
   "codemirror_mode": {
    "name": "ipython",
    "version": 3
   },
   "file_extension": ".py",
   "mimetype": "text/x-python",
   "name": "python",
   "nbconvert_exporter": "python",
   "pygments_lexer": "ipython3",
   "version": "3.6.9"
  }
 },
 "nbformat": 4,
 "nbformat_minor": 4
}
