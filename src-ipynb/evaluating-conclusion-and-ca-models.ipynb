{
 "cells": [
  {
   "cell_type": "code",
   "execution_count": 1,
   "metadata": {},
   "outputs": [],
   "source": [
    "%load_ext autoreload"
   ]
  },
  {
   "cell_type": "code",
   "execution_count": 2,
   "metadata": {},
   "outputs": [],
   "source": [
    "import os\n",
    "import sys\n",
    "import re\n",
    "from argparse import Namespace\n",
    "\n",
    "sys.path.append('../src-py/')"
   ]
  },
  {
   "cell_type": "code",
   "execution_count": 3,
   "metadata": {},
   "outputs": [],
   "source": [
    "%autoreload\n",
    "\n",
    "from utils import *\n",
    "from project_debater_api import *\n",
    "from mt_bart_v2 import *"
   ]
  },
  {
   "cell_type": "code",
   "execution_count": 4,
   "metadata": {},
   "outputs": [],
   "source": [
    "import torch\n",
    "import json\n",
    "\n",
    "import nltk\n",
    "import numpy as np\n",
    "import pandas as pd\n",
    "\n",
    "from pathlib import Path\n",
    "from datasets import load_dataset, load_metric, Dataset\n",
    "\n",
    "from transformers import AutoModelForSeq2SeqLM, DataCollatorForSeq2Seq, Seq2SeqTrainingArguments, Seq2SeqTrainer\n",
    "from transformers import BartTokenizer, BartForConditionalGeneration"
   ]
  },
  {
   "cell_type": "code",
   "execution_count": 5,
   "metadata": {},
   "outputs": [],
   "source": [
    "import pandas as pd\n",
    "pd.set_option('display.max_colwidth', None)"
   ]
  },
  {
   "cell_type": "code",
   "execution_count": 6,
   "metadata": {},
   "outputs": [],
   "source": [
    "device = torch.device('cuda') if torch.cuda.is_available() else torch.device('cpu')"
   ]
  },
  {
   "cell_type": "code",
   "execution_count": 7,
   "metadata": {},
   "outputs": [],
   "source": [
    "ceph_dir = '/home/sile2804/data-ceph/arguana/arg-generation/multi-taks-counter-argument-generation'\n",
    "local_home_dir = '../data'"
   ]
  },
  {
   "cell_type": "code",
   "execution_count": 8,
   "metadata": {},
   "outputs": [],
   "source": [
    "#Evalute ROUGE scores\n",
    "gen_kwargs = {\n",
    "    \"do_sample\": False, \n",
    "    \"max_length\":200,\n",
    "    \"top_p\":0.95, \n",
    "    \"top_k\":50,\n",
    "    \"num_beams\":1\n",
    "}\n",
    "\n",
    "def generate_ds_attacks(ds, model, tokenizer, premises_clm, conclusion_clm, gen_kwargs, skip_special_tokens=True, batch_size=8):\n",
    "    ds = ds.map(lambda x :preprocess_function(x, tokenizer, premises_clm, 'counter', conclusion_clm=conclusion_clm), batched=True)\n",
    "    ds.set_format(type='torch', columns=['input_ids', 'attention_mask', 'labels'])\n",
    "    dataloader = torch.utils.data.DataLoader(ds, batch_size=batch_size)\n",
    "    attacks = generate_counters(model, tokenizer, dataloader, gen_kwargs, skip_special_tokens=skip_special_tokens)\n",
    "    \n",
    "    return attacks"
   ]
  },
  {
   "cell_type": "markdown",
   "metadata": {},
   "source": [
    "#### Load Testing data:"
   ]
  },
  {
   "cell_type": "markdown",
   "metadata": {},
   "source": [
    "##### Loading validation data from Reddit:"
   ]
  },
  {
   "cell_type": "code",
   "execution_count": 9,
   "metadata": {},
   "outputs": [],
   "source": [
    "valid_df = pd.read_pickle(ceph_dir + '/reddit_data/conclusion_and_ca_generation/valid_conclusion_comp_remove_75sem_perc_with_targets.pkl')"
   ]
  },
  {
   "cell_type": "code",
   "execution_count": 10,
   "metadata": {},
   "outputs": [],
   "source": [
    "#drop duplicate posts\n",
    "unique_valid_posts = valid_df.drop_duplicates('post_id')"
   ]
  },
  {
   "cell_type": "code",
   "execution_count": 13,
   "metadata": {},
   "outputs": [
    {
     "data": {
      "application/vnd.jupyter.widget-view+json": {
       "model_id": "084d10090b4946a59852a3ea28bb57bb",
       "version_major": 2,
       "version_minor": 0
      },
      "text/plain": [
       "  0%|          | 0/3 [00:00<?, ?ba/s]"
      ]
     },
     "metadata": {},
     "output_type": "display_data"
    }
   ],
   "source": [
    "valid_ds = Dataset.from_pandas(unique_valid_posts)\n",
    "tmp_ds = valid_ds.train_test_split(0.9)\n",
    "sample_valid_ds = tmp_ds['test']\n",
    "\n",
    "#saving the sample\n",
    "reddit_sample_valid_ds = sample_valid_ds.flatten_indices()\n",
    "reddit_sample_valid_ds.save_to_disk('../data/sample_valid_ds')"
   ]
  },
  {
   "cell_type": "code",
   "execution_count": 11,
   "metadata": {},
   "outputs": [],
   "source": [
    "#loading the random sample of validation dataset with the auto-generated conclusion\n",
    "reddit_sample_valid_ds = Dataset.load_from_disk('../data/sample_valid_ds/')"
   ]
  },
  {
   "cell_type": "code",
   "execution_count": 12,
   "metadata": {},
   "outputs": [
    {
     "data": {
      "text/plain": [
       "2278"
      ]
     },
     "execution_count": 12,
     "metadata": {},
     "output_type": "execute_result"
    }
   ],
   "source": [
    "len(reddit_sample_valid_ds)"
   ]
  },
  {
   "cell_type": "markdown",
   "metadata": {},
   "source": [
    "##### Loading validation data from Kialo:"
   ]
  },
  {
   "cell_type": "code",
   "execution_count": 29,
   "metadata": {},
   "outputs": [],
   "source": [
    "valid_ds = Dataset.from_pandas(pd.read_pickle(ceph_dir + '/kialo_data/kialo_valid_df.pkl'))"
   ]
  },
  {
   "cell_type": "code",
   "execution_count": 10,
   "metadata": {},
   "outputs": [
    {
     "data": {
      "application/vnd.jupyter.widget-view+json": {
       "model_id": "6c03a38a10684d2283d2c15593d19fbe",
       "version_major": 2,
       "version_minor": 0
      },
      "text/plain": [
       "  0%|          | 0/3 [00:00<?, ?ba/s]"
      ]
     },
     "metadata": {},
     "output_type": "display_data"
    }
   ],
   "source": [
    "tmp_ds = valid_ds.train_test_split(0.5)\n",
    "sample_valid_ds = tmp_ds['test']\n",
    "\n",
    "#saving the sample\n",
    "sample_valid_ds = sample_valid_ds.flatten_indices()\n",
    "sample_valid_ds.save_to_disk('../data/kialo_sample_valid_ds')"
   ]
  },
  {
   "cell_type": "code",
   "execution_count": 9,
   "metadata": {},
   "outputs": [],
   "source": [
    "sample_valid_ds = Dataset.load_from_disk('../data/kialo_sample_valid_ds')"
   ]
  },
  {
   "cell_type": "markdown",
   "metadata": {},
   "source": [
    "### Evaluating on Kialo:"
   ]
  },
  {
   "cell_type": "code",
   "execution_count": null,
   "metadata": {},
   "outputs": [],
   "source": [
    "#KIALO models\n",
    "masked_conclusion_kialo_model = BartForConditionalGeneration.from_pretrained(local_home_dir + '/output/masked-conclusion-kialo-model/').to(device)\n",
    "masked_conclusion_kialo_tokenizer = BartTokenizer.from_pretrained(local_home_dir + '/output/masked-conclusion-kialo-model/')\n",
    "known_conclusion_kialo_model = BartForConditionalGeneration.from_pretrained(local_home_dir + '/output/known-conclusion-kialo-model/').to(device)\n",
    "known_conclusion_kialo_tokenizer = BartTokenizer.from_pretrained(local_home_dir + '/output/known-conclusion-kialo-model/')\n",
    "\n",
    "#masked_conclusion_kialo_model = BartForConditionalGeneration.from_pretrained(local_home_dir + '/output/masked-conclusion-kialo-unique-model/').to(device)\n",
    "#known_conclusion_kialo_model = BartForConditionalGeneration.from_pretrained(local_home_dir + '/output/known-conclusion-kialo-unique-model/').to(device)"
   ]
  },
  {
   "cell_type": "code",
   "execution_count": 11,
   "metadata": {},
   "outputs": [
    {
     "data": {
      "application/vnd.jupyter.widget-view+json": {
       "model_id": "b66d28b388f7461c9e099af8505ba55c",
       "version_major": 2,
       "version_minor": 0
      },
      "text/plain": [
       "  0%|          | 0/3 [00:00<?, ?ba/s]"
      ]
     },
     "metadata": {},
     "output_type": "display_data"
    },
    {
     "name": "stderr",
     "output_type": "stream",
     "text": [
      "/usr/local/lib/python3.6/dist-packages/torch/_tensor.py:575: UserWarning: floor_divide is deprecated, and will be removed in a future version of pytorch. It currently rounds toward 0 (like the 'trunc' function NOT 'floor'). This results in incorrect rounding for negative values.\n",
      "To keep the current behavior, use torch.div(a, b, rounding_mode='trunc'), or for actual floor division, use torch.div(a, b, rounding_mode='floor'). (Triggered internally at  /pytorch/aten/src/ATen/native/BinaryOps.cpp:467.)\n",
      "  return torch.floor_divide(self, other)\n"
     ]
    },
    {
     "data": {
      "application/vnd.jupyter.widget-view+json": {
       "model_id": "d91be7cbf01341479ee42193c2e49d5c",
       "version_major": 2,
       "version_minor": 0
      },
      "text/plain": [
       "  0%|          | 0/3 [00:00<?, ?ba/s]"
      ]
     },
     "metadata": {},
     "output_type": "display_data"
    }
   ],
   "source": [
    "known_conc_attacks = generate_ds_attacks(sample_valid_ds, known_conclusion_kialo_model, known_conclusion_kialo_tokenizer, 'premises', 'conclusion_text', gen_kwargs)\n",
    "masked_conc_attacks = generate_ds_attacks(sample_valid_ds, masked_conclusion_kialo_model, masked_conclusion_kialo_tokenizer, 'premises', None, gen_kwargs)\n",
    "#auto_conc_attacks = generate_ds_attacks(sample_valid_ds, known_conclusion_model, tokenizer, 'masked_premises', 'auto_conclusion', gen_kwargs)"
   ]
  },
  {
   "cell_type": "code",
   "execution_count": 12,
   "metadata": {},
   "outputs": [],
   "source": [
    "kialo_pred_df = pd.DataFrame(list(zip(sample_valid_ds['conclusion_text'], sample_valid_ds['premises'], \n",
    "                                   sample_valid_ds['counter'], known_conc_attacks, masked_conc_attacks)), \n",
    "                      columns=['conclusion', 'premises', 'gt', 'known_conc_attacks', 'masked_conc_attacks'])\n",
    "\n",
    "kialo_pred_df['argument'] = kialo_pred_df.apply(lambda row: row['conclusion'] + ' : ' + ' '.join(row['premises']), axis=1)\n",
    "kialo_pred_df['premises'] = kialo_pred_df['premises'].apply(lambda x: ' '.join(x))"
   ]
  },
  {
   "cell_type": "markdown",
   "metadata": {},
   "source": [
    "### Generate predictions on Reddit:"
   ]
  },
  {
   "cell_type": "code",
   "execution_count": 26,
   "metadata": {},
   "outputs": [
    {
     "name": "stderr",
     "output_type": "stream",
     "text": [
      "ProConClient: 100%|██████████| 2172/2172 [1:48:35<00:00,  3.00s/it]\n"
     ]
    }
   ],
   "source": [
    "# Loading Reddit models\n",
    "\n",
    "#masked_conclusion_tokenizer = BartTokenizer.from_pretrained(local_home_dir + '/output/extended_tokenizer')\n",
    "#masked_conclusion_model = BartForConditionalGeneration.from_pretrained(local_home_dir + '/output/masked-conclusion-bart-model/').to(device)\n",
    "\n",
    "known_conclusion_model = BartForConditionalGeneration.from_pretrained(local_home_dir  + '/output/known-conclusion-bart-model').to(device)\n",
    "known_conclusion_tokenizer = BartTokenizer.from_pretrained(local_home_dir + '/output/extended_tokenizer')\n",
    "\n",
    "pred_conclusion_model = BartForConditionalGeneration.from_pretrained(local_home_dir  + '/output/pred-conclusion-bart-model/').to(device)\n",
    "pred_conclusion_tokenizer = BartTokenizer.from_pretrained(local_home_dir + '/output/pred-conclusion-bart-model/')\n",
    "\n",
    "join_model_tokenizer = BartTokenizer.from_pretrained('../data/output/joint-con-counter-bart-model-no-attention/')\n",
    "#join_model  = BartModelV2.from_pretrained('../data/output/joint-con-counter-bart-model-no-attention-finetuned/0-1-1-0/', conc_loss_weight = 0.1, counter_loss_weight=1.0, attention_to_conc=False, conc_decoder=True).to(device)\n",
    "join_model  = BartModelV2.from_pretrained('../data/output/joint-con-counter-bart-model-no-attention-finetuned/dynamic-weight', compute_dynamic_weights=True, conc_decoder=True).to(device)"
   ]
  },
  {
   "cell_type": "code",
   "execution_count": 27,
   "metadata": {},
   "outputs": [
    {
     "name": "stderr",
     "output_type": "stream",
     "text": [
      "WARNING:datasets.arrow_dataset:Loading cached processed dataset at ../data/sample_valid_ds/cache-31d14c2cedaf9bb0.arrow\n",
      "ProConClient: 100%|██████████| 2172/2172 [1:51:00<00:00,  3.07s/it]\n",
      "WARNING:datasets.arrow_dataset:Loading cached processed dataset at ../data/sample_valid_ds/cache-7b8209c54d589c68.arrow\n",
      "WARNING:datasets.arrow_dataset:Loading cached processed dataset at ../data/sample_valid_ds/cache-f4a02bf7c01659a0.arrow\n",
      "WARNING:datasets.arrow_dataset:Loading cached processed dataset at ../data/sample_valid_ds/cache-1ff9bc7492194f7f.arrow\n",
      "WARNING:datasets.arrow_dataset:Loading cached processed dataset at ../data/sample_valid_ds/cache-0d27e46c58959ccd.arrow\n"
     ]
    }
   ],
   "source": [
    "joint_attacks = generate_ds_attacks(reddit_sample_valid_ds, join_model, join_model_tokenizer, 'masked_premises', 'title', gen_kwargs)\n",
    "known_conc_attacks  = generate_ds_attacks(reddit_sample_valid_ds, known_conclusion_model, known_conclusion_tokenizer, 'masked_premises', 'title', gen_kwargs)\n",
    "bart_conc_attacks   = generate_ds_attacks(reddit_sample_valid_ds, known_conclusion_model, known_conclusion_tokenizer, 'masked_premises', 'bart_conclusion', gen_kwargs)\n",
    "masked_conc_attacks = generate_ds_attacks(reddit_sample_valid_ds, known_conclusion_model, known_conclusion_tokenizer, 'masked_premises', None, gen_kwargs)\n",
    "joint_conc_baseline_attacks  = generate_ds_attacks(reddit_sample_valid_ds, pred_conclusion_model, pred_conclusion_tokenizer, 'masked_premises', None, gen_kwargs, skip_special_tokens=False)\n",
    "#This model would predict the conclusion and then the counter in one sequence."
   ]
  },
  {
   "cell_type": "code",
   "execution_count": 28,
   "metadata": {},
   "outputs": [],
   "source": [
    "reddit_pred_df = pd.DataFrame(list(zip(\n",
    "                                       reddit_sample_valid_ds['post_id'],\n",
    "                                       reddit_sample_valid_ds['title'], \n",
    "                                       reddit_sample_valid_ds['conclusion_targets'],\n",
    "                                       reddit_sample_valid_ds['conclusion_stance'],\n",
    "                                       reddit_sample_valid_ds['bart_conclusion'], \n",
    "                                       reddit_sample_valid_ds['masked_premises'],\n",
    "                                       reddit_sample_valid_ds['counter'], \n",
    "                                       known_conc_attacks, masked_conc_attacks, \n",
    "                                       bart_conc_attacks, joint_attacks, joint_conc_baseline_attacks)), \n",
    "                columns=['post_id', 'conclusion', 'conclusion_target', 'conclusion_stance', 'bart_conclusion', 'premises', 'gt_attack', 'known_conc_attacks', \n",
    "                         'masked_conc_attacks', 'bart_conc_attacks', 'joint_conc_attacks', 'joint_conc_baseline_attacks'])\n",
    "\n",
    "reddit_pred_df['argument'] = reddit_pred_df.apply(lambda row: row['conclusion'] + ' : ' + ' '.join(row['premises']), axis=1)\n",
    "reddit_pred_df['premises'] = reddit_pred_df['premises'].apply(lambda x: ' '.join(x))\n",
    "\n",
    "#process the jointly generated conclusion and counter\n",
    "reddit_pred_df['joint_conc_baseline'] = reddit_pred_df['joint_conc_baseline_attacks'].apply (lambda x: x.split('<counter>')[0])\n",
    "reddit_pred_df['joint_conc_baseline_attacks'] = reddit_pred_df['joint_conc_baseline_attacks'].apply (lambda x: x.split('<counter>')[1] if '<counter>' in x else x)\n",
    "reddit_pred_df['joint_conc_baseline'] = reddit_pred_df['joint_conc_baseline'].apply (lambda x: re.sub('<s>|</s>|<conclusion>|<counter>|<pad>', '', x).strip())\n",
    "reddit_pred_df['joint_conc_baseline_attacks'] = reddit_pred_df['joint_conc_baseline_attacks'].apply (lambda x: re.sub('<s>|</s>|<conclusion>|<counter>|<pad>', '', x).strip())\n",
    "\n",
    "#save created pred_df\n",
    "reddit_pred_df.to_pickle('../data/output/reddit_pred_df-nosample.pkl')"
   ]
  },
  {
   "cell_type": "markdown",
   "metadata": {},
   "source": [
    "### Evaluate generated predictions:"
   ]
  },
  {
   "cell_type": "code",
   "execution_count": 29,
   "metadata": {},
   "outputs": [],
   "source": [
    "reddit_pred_df = pd.read_pickle('../data/output/reddit_pred_df-nosample.pkl')"
   ]
  },
  {
   "cell_type": "code",
   "execution_count": 30,
   "metadata": {
    "scrolled": true,
    "tags": []
   },
   "outputs": [
    {
     "data": {
      "text/html": [
       "<div>\n",
       "<style scoped>\n",
       "    .dataframe tbody tr th:only-of-type {\n",
       "        vertical-align: middle;\n",
       "    }\n",
       "\n",
       "    .dataframe tbody tr th {\n",
       "        vertical-align: top;\n",
       "    }\n",
       "\n",
       "    .dataframe thead th {\n",
       "        text-align: right;\n",
       "    }\n",
       "</style>\n",
       "<table border=\"1\" class=\"dataframe\">\n",
       "  <thead>\n",
       "    <tr style=\"text-align: right;\">\n",
       "      <th></th>\n",
       "      <th>argument</th>\n",
       "      <th>conclusion</th>\n",
       "      <th>joint_conc_baseline</th>\n",
       "      <th>masked_conc_attacks</th>\n",
       "      <th>known_conc_attacks</th>\n",
       "      <th>joint_conc_baseline_attacks</th>\n",
       "      <th>joint_conc_attacks</th>\n",
       "    </tr>\n",
       "  </thead>\n",
       "  <tbody>\n",
       "    <tr>\n",
       "      <th>1364</th>\n",
       "      <td>The fights in \"Naruto\" are better than the ones in \"Dragonball Z\" : to clear up confusion, this is naruto naruto shippuden vs dragonball z. not talking about the original dragonball or dragonball super. i love dragonball z. it was one of the first shows i've watched as a kid. seeing goku fight frieza was exciting to watch, and the fight between gohan and cell is hands down the best fight in the entire series and one of the best fights in anime history. however, overall, the battles that take place in the naruto anime are superior. reason 1: varied techniques if i were to choose to have either ki or chakra running through my body, the easy answer is chakra. chakra gives the user access to a potentially large arsenal of techniques known as 'jutsu' that can come in three basic forms: ninjutsu, genjutsu, and taijutsu. great example of taijutsu: the eight gates and 8 trigrams 32 palms great example of ninjutsu: rasenshuriken and chidori great example of genjutsu: tsukuyomi there's also fire style, water style, earth style, wind style, and more. it's always exciting to see characters that rely on completely different fighting methods and see how they face each other, such as lee's taijutsu vs gaara's sand , shino's insects vs kankuro's puppets , one character even fought with his bones. while dbz's fights are interesting to watch, the fighting is often limited to how many ki blasts they throw and how many punches they can land before the guy falls over. not nearly as much variety. reason 2: emotion in dragonball z, as good as the fights are, the truth is that they kinda just 'happen'. there's no real driving force making the characters battle other than the fact that 'he is the bad guy and so i need to protect the earth', admirable, but cliche. in naruto, there's always more to it's fights. in gaara vs lee , that was basically lee's shining moment, after years of being seen as a loser because he couldn't use ninjutsu or genjutsu, he was facing gaara, a ninja the series hyped up to be this monster, and he ended up mopping the floor with him for a good while. you ended up really rooting for him to win. another great example is part 1's naruto vs sasuke at the valley of end . sasuke, naruto's friend and rival was about to turn evil and leave the village. sasuke's goal was to kill his brother for murdering his clan, and in his mind revenge is the only thing he cared about. naruto knows the dark path that sasuke is heading down will only lead to sasuke's potential destruction, and so he does everything in his power to bring him back to the village. final reason: there's no dragonballs let's face it, who really cares if someone dies in dragonball, who cares? you can always wish them back. there's no dragonballs in naruto. only way of coming back in naruto is if you use the 'edo tensei' and i don't think they would be happy that you brought them back using the corpse of another dead ninja.</td>\n",
       "      <td>The fights in \"Naruto\" are better than the ones in \"Dragonball Z\"</td>\n",
       "      <td>Naruto vs Dragonball Z is superior to Dragonball z</td>\n",
       "      <td>i think you're missing the point. i think the main reason naruto is so good is because it's a very different series. i don't think you can really argue that naruto has a better series than dragonball z. i mean, i think naruto's main focus is on the characters, but i think it's also a very good series. the main focus of naruto was the characters' fighting style. i'm not sure i agree with you, but the main point is that narut is a very interesting series. it's not about the characters fighting, it's about the story. the story is about the main characters fighting each other, and the main character fighting the main villain. the primary focus of the series is the story, and i think that's the main thing that makes naruto so good. the characters are very different, and they're very different. the stories are very similar, but they're different. i would say that naruta</td>\n",
       "      <td>i think the main reason why you're not going to agree with me is that the fights in naruto are better than the ones in dragonball z. i think the fights are better because they're more complex and more complex. i don't think the fight in dragon ball z is as complex as the fight between gohan and cell. the fight is more complex than the fight of dragonball. the fights between goken and cell are more complex, and the fight with gohan is more complicated. the fighting between goku and cell is more intricate, and there's more variety in the fight than the fights of dragon ball. the battle between goka and cell isn't as complex, but the fight isn't. the main difference between the two is that both are more complicated than the other. the two are more similar, but they're also more complex in their own way. the same goes for the fight against gohan. the only difference is that gohan has more</td>\n",
       "      <td>i think the main reason why naruto is superior is because it's a more complex series. i think naruto has a lot of interesting characters, and i think the best ones are the ones that are more complex. i don't think narut is a better series than dragonball z, but i think it's more complex than dragonballs z. i'm not sure why the naruto anime is better than dragon ball z, and it's not a better show than dragon balls z.</td>\n",
       "      <td>i think you're missing the point of the comic. it's a movie about a character who is a hero. it is a movie that is about a person who is not a hero, and is a character that is not an hero. the character is a villain, and the character has to be a hero to be able to fight. the characters are not the only ones who are a hero or a hero in the movie. the people who are the hero are the ones who have to fight the hero.</td>\n",
       "    </tr>\n",
       "    <tr>\n",
       "      <th>218</th>\n",
       "      <td>Wooden Pencils are better than mechanical : wooden pencils are so much easier to use. not only can most wood pencils handle heavy handwriting, you can go for days before you need to resharpen. with mechanical pencils, you have to keep clicking twisting because your lead gets short after only a few minutes of writing. also, with most mechanical pencils, the eraser is the lead dispensing button, and once you use the eraser enough, it is near impossible to get into the lead container. i understand that you can just put in lead through the other hole, but sometimes the lead gets stuck or is too small to pull out and it would just save more time to get a new pencil. wooden pencil erasers tend to determine the life of that pencil, and even if you run out of the eraser, you can just pull off the metal part and fasten a new one on, as compared to a mechanical where if it's below the grip line, you need to get a new pencil altogether. wooden pencils are stronger and simply more convenient while mechanical pencils are just novelty items for children.</td>\n",
       "      <td>Wooden Pencils are better than mechanical</td>\n",
       "      <td>Wooden pencils are easier to use than mechanical pencils</td>\n",
       "      <td>i think the main reason wood is so much easier to use is because it's easier to hold. i think the reason wood pencils are so much more convenient is because they're easier to grip.</td>\n",
       "      <td>i think the main difference between wood and mechanical pencils is that they are easier to use. i think the difference is that wood is easier to write with than mechanical pencil.</td>\n",
       "      <td>i think you're missing the point. i'm not sure why you're using a mechanical pencil, but i think you should use a wood pencil.</td>\n",
       "      <td>i'm not sure how you can change your view on this. i'm not going to change your mind on this, but i'm going to try to change my view on the subject. i think you're missing the point of the'shaming' argument. i don't think you can do this with a knife. i've never seen a knife that could be used to make a knife, and i've always been able to use a knife to make it look like a knife and not a knife or a knife. i've also never been able for a knife in my life to be used as a knife because it's a knife with a fork. i have never been used to using a knife at all. i can't do it with a spoon. i could just use a fork and use a spoon to do it. i also don't like the idea of using a fork at all, and it's not like i'm using a spoon at all to do anything.</td>\n",
       "    </tr>\n",
       "    <tr>\n",
       "      <th>692</th>\n",
       "      <td>The Government must control all online and offline dating relationships. : if the government controlled how people date online and offline, we would have less problems with divorce, no more children without fathers. more people will be able to meet their true love without getting their heart broken. the government has more money and power than the dating industry combined. everyone will be background checked to keep people safe from dating bad people. this will solve many problems with the economy too. the government can even invest in research and development to scientifically build real relationships that are not fake like contemporary online dating where no one takes each other seriously anymore. i strongly believe that dating should be heavily regulated by the government to prevent serious problems with discrimination, violence and health concerns. it will also solve a lot of problems in workplace amp; reddit too. please change my view.</td>\n",
       "      <td>The Government must control all online and offline dating relationships.</td>\n",
       "      <td>The government should regulate how people date online and offline.</td>\n",
       "      <td>i think the government should be regulated. it's not just the government that is regulating dating. it is the government who is regulating the internet. it has the power to regulate the internet and the government to regulate it.</td>\n",
       "      <td>the government should control all online and offline dating relationships. the government should be able to regulate all online dating relationships, and not just the ones that are online.</td>\n",
       "      <td>i think that the government should be heavily regulated.</td>\n",
       "      <td>i think you're missing the point. the government is a government. it's a government, and it's the government that has the power to control all online and online dating. it is the government, not the people.</td>\n",
       "    </tr>\n",
       "    <tr>\n",
       "      <th>1992</th>\n",
       "      <td>In the specific context of 'black power', anything other than an emphasis on science and technology is a frivolity. : athletics, rap, slogans, entertainment, etc are trivialities. expertise in biochemistry, nuclear physics, or even 'just' computer science does light years of progress for the idea of 'black power' than any superficial displays balling up a fist, wearing a dashiki, etc ever could. 'black is intelligent' is much more useful mantra than 'black is beautiful'. why do i believe this? a person with expertise in science and technology is, for all practical considerations, god. s he can affect the environment just as much as the environment affects such a person. heck, if a person wants to be beautiful, science knows how. plastic surgery, genetic tampering, toying with human psychology and perception that's what science is about. solving problems. society depends on the stem folks for its livelihood. why bother with music or rap when the people capable of making the high quality microphones, instruments, etc aren't around? why bother with art when the programmers who do the image encoding, or the chemists who design the pigments, synthesize the silver nitrate, etc don't exist? at a national level, stem research can significantly drive any nation's economy and position and place in the world, forward. a majority black nation which places overwhelming even to an unhealthy extent emphasis on science and technology, becomes a black powerful nation. this is fact. i think it's what asian societies, indians, etc have figured out and that's what makes them so powerful. need more? any black singer probably uses a shure, yamaha, casio, moog, korg, etc. that stuff tends to be designed by mostly asian and white people. that contributes to 'asian white power' please, don't read the 'white power' in the neo nazi kkk context of the term, thank you . the daws many black producers use, run mostly on processors developed by intel, ibm, etc. heck, fruity loops is a software developed by a belgian company, image line the v12's, lambos, etc many people consider symbols of status, were designed by a team of likely caucasian mechanical engineers. designing high quality gold jewellery requires a working knowledge of metallurgy and even a decent amount of chemistry and materials science. perfecting dye technology for a dashiki, requires knowledge of chemistry. any given black athlete or basketballer likely has a team of biomedical engineers, medics, etc preserving his success, who re attach dissociated spines and sinews, seek ways to optimize performance and so on. your favourite wealthy black person likely has a team of statisticians, mathematical analysts, etc helping him compete in a capitalist system. hence, this is why i believe that mae jemison jemison for example, means far more to the 'black power' narrative than beyonce herself ever could. heck, i'm no conservative but even ben carson means a lot more for black power than cornel west for example , ever could. a black person who masters pure mathematics or applied mathematics mathematics or both , does far more for black power than someone who masters supreme mathematics nation supreme mathematics . memorizing the entire chemical nomenclature nomenclature is far more relevant to black power than memorizing aave vernacular english , or even swahili or some other african language. any anonymous young or old black scientist engineer doctor does far more for the cause of 'black power' than such a person ever could with a degree in political science, or even african studies itself. it's only really after stem power has been sorted out and attained, than anyone can afford the luxury to talk about art, history, language, culture, etc. tl;dr: the only meaningful way for blacks, african blacks, etc to exercise 'black power', is to place an overwhelming emphasis on science and technology. everything else is merely a luxury, if not entirely meaningless to the idea of 'black power'.</td>\n",
       "      <td>In the specific context of 'black power', anything other than an emphasis on science and technology is a frivolity.</td>\n",
       "      <td>\"Black Power\" is a trivial concept</td>\n",
       "      <td>i think the problem with your view is that it's not about the people who make the music. it's about the individuals who make it. the people that make it, the people making it, are the people whose work is the most important. the person who makes it is the person that makes it.</td>\n",
       "      <td>i think the problem with the term 'black power' is that it's a frivolity. it's not about the people who make the music, it's about the individuals who make it. it is about the individual's ability to make it, and the individual who makes it. the people that make it are the people whose ability to create it.</td>\n",
       "      <td>i think you're missing the point. i think the idea of black power is a bit silly. i don't think it's a trivial thing to say. i'm not sure what you're talking about. i'd say that the idea that black power exists is a silly one. i mean, i think it is a valid point, but i think that's a bit of a stretch. i would say that it's not a trivial idea. i've never heard of a black person wearing a dashiki, but it's pretty common. i have heard of people wearing a shure, but that's not the case. i know that it is not a 'black power' thing. i also don't know if it's the same thing as a 'white power' or not. i do know that the concept of 'black' is a very common one.</td>\n",
       "      <td>i think you're missing the point of the term. it's a term that is used to describe a group of people who are not in the same category as the majority of the population. it is used in a way that is not used in the context of the word. it doesn't mean that the majority is 'white' or 'white'. it means that the minority is 'black' and that the group is 'good' and 'good'. it's not a term to describe the group. it means the group that is 'better' and is 'bad' and not the group who is 'best'. it is a term used to refer to the group of individuals who are 'good', 'good,' or 'bad'. it doesn t mean that they are 'bad', or 'good.'it means they are not 'good,''good and 'bad. '</td>\n",
       "    </tr>\n",
       "    <tr>\n",
       "      <th>996</th>\n",
       "      <td>Professional wrestling isn’t a sport and should be replaced in popularity by amateur wrestling : note: professional wrestling refers to the entertainment form. amateur wrestling refers to the competitive sport. background: this year, i competed in my first season of scholastic wrestling, and i learned two things: 1. wrestling requires a ton of mental involvement 2. wrestling requires a shit ton of physical discipline i m probably not going to continue wrestling next year, because it was nothing short of tough. every day was jogging, push ups, and a fuck ton of shadow wrestling. i would wake up with my back sore and my legs aching. despite all of this, i still enjoyed the experience. this past winter was the most in shape i ve ever been, and it made the rest of my day seem like more of a break. any scholastic wrestlers out there; keep doing what you re doing. anyway, professional wrestling ie. wwe requires none of that. the matches are slow, and they are almost always predetermined. in addition, it takes a fight club stance on rules: there are none. this is the nail in the coffin for professional wrestling. if there were no rules in amateur wrestling, it wouldn t take a while before the full nelsons, illegal chokeholds, and coin purse grabbing got dangerous. the only reason the wwe isn t the human equivalent of a dogfight is because all wwe is is a kabuki theatre show about people pretending to beat each other up. people need to stop obsessing over professional wrestling and realize that it is just a more entertaining and unathletic knockoff of amateur wrestling.</td>\n",
       "      <td>Professional wrestling isn’t a sport and should be replaced in popularity by amateur wrestling</td>\n",
       "      <td>Professional Wrestling is a more entertaining and unathletic form of wrestling than amateur Wrestling.</td>\n",
       "      <td>i think the main difference between professional wrestling and amateur wrestling is that it is a more entertaining form of entertainment. it is not a competitive sport. it's a competitive form of entertaining entertainment.</td>\n",
       "      <td>i think the main reason professional wrestling is so popular is because it's a sport that's not a competition. it's not just a sport. it is a sport, and it's an entertainment form. it isn't a competition, it's just a competition for the best.</td>\n",
       "      <td>i think you're missing the point. professional wrestling is a form of entertainment. it's a form that is not a form for the entertainment.</td>\n",
       "      <td>i think it's important to note that the 'natural' aspect of sports is not the 'wrong' part. it's the 'bad' part that makes it so difficult to get a job. it is not a sport that is 'natural'. it is a sport which is not 'natural', but it is 'normal'. it's not a sports that is not considered 'natural,' it's a sport. it has a 'natural'effect. it doesn't have to be 'natural.'it's just a form of physical activity. it can be 'normal' or 'natural'? it's 'natural'' or 'normal. '</td>\n",
       "    </tr>\n",
       "    <tr>\n",
       "      <th>678</th>\n",
       "      <td>It is unethical to produce a child when adoption is within a parent's or couple's means. : there is a lot of social pressure to adopt pets in need of rescue to keep them from languishing in shelters rather than buying or breeding. however, when it comes to children, that pressure is nearly nonexistent. i realize that adoption is not accessible to all parents, but for those to whom it is in reach, it seems to me that producing children when the world is already overpopulated and countless children are suffering unimaginably without families and support systems is simply unethical. i find this especially galling in the case of ivf or other similar procedures. such a process requires tons of money, paperwork, and inconvenience, and that a couple is willing to expend that to create a child which carries their genes but not to adopt a child in need strikes me as incredibly narcissistic. reddit, can you change my view?</td>\n",
       "      <td>It is unethical to produce a child when adoption is within a parent's or couple's means.</td>\n",
       "      <td>Adoption is unethical</td>\n",
       "      <td>i think the problem with this is that it's not a social pressure. it's a social obligation to adopt a child. it is a social responsibility to adopt children. it isn't a social duty to adopt. it just isn't an obligation to do so.</td>\n",
       "      <td>i think you're missing the point. it's not unethical to produce a child when adoption is within a parent's or couple's means. it is unethical to have a child that is not within a couple's or pair's means, but it's unethical to not have a kid that is in need of adoption.</td>\n",
       "      <td>i think it's a good idea to adopt a child. i think it is a good thing to adopt children.</td>\n",
       "      <td>i think you're missing the point. it's not a problem that people are trying to do it, it's a problem of the people who are doing it. it is a problem because people are doing something that is not a good thing.</td>\n",
       "    </tr>\n",
       "    <tr>\n",
       "      <th>1331</th>\n",
       "      <td>There are significant, genetic differences in IQ between races. : i know you guys get this a lot, but i really don't want to think this way. i want to be able to whole heartedly believe in racial equality. to my knowledge, the available studies tend to agree that there are differences in iq between asians, whites, hispanics, and africans in descending order . the controversy isn't about whether differences exist, but about whether the differences are genetic. the most convincing evidence for the 'herarian' i've seen is admixture studies. biracial individuals tend to have higher scores than monoracial africans but lower iq scores than white folks. the adoption studies are also very convincing. just thinking logically, why would we expect that evolution stopped at the neck? if there are racial differences in height and athleticism, why wouldn't there be differences in intelligence? beyond the scientific evidence, imo racial differences in intelligence explain the lack of development in africa prior to colonialism. i know people love to bring up mali, nubia, great zimbabwe, or the swahili city states; honestly, i don't know how anyone could seriously believe that these civilizations were as advanced as those in europe, asia, or even mesoamerica. why didn't major empires or nation states develop in equatorial or southern africa? overall, i haven't seen convincing evidence supporting a purely environmental explanation of racial differences in iq. thanks.</td>\n",
       "      <td>There are significant, genetic differences in IQ between races.</td>\n",
       "      <td>There is no evidence that racial differences in intelligence explain the lack of development in Africa prior to colonialism.</td>\n",
       "      <td>i think you're missing the point. iq is a very complex and complex concept. it's not a complex concept, it's a complex and complicated concept. i think it's important to understand that the differences in iq are not necessarily genetic. i'm not sure if you're aware of the differences between asians and whites, but i think you should be aware that there are differences in intelligence. i don't think you can really say that there is a genetic difference between asian and white people. i mean, i'm sure there are genetic differences between the two groups, but that's not the point of the argument.</td>\n",
       "      <td>i think you're missing the point. iq is a measure of intelligence. it's a measure that measures the intelligence of a person. i don't think you can argue that the differences in intelligence are due to genetic differences. i think the difference is that the difference in intelligence is not due to genetics. it is due to the fact that the intelligence is different between races. the difference between the two is not necessarily due to differences in the intelligence. the differences between the different races are not due in part to genetics, but to the differences of the different cultures. the only reason that the two races are different is because the differences are not related to the intelligence itself. the reason that they are different in intelligence isn't because of genetics, it's because the two cultures are different. the genetic differences are due in some way to the different culture. the fact is that there are differences in iq between the races is not a coincidence. the genetics of the two groups are not</td>\n",
       "      <td>i think you're missing the point. i'm not sure why you think that's a good thing. i think it's because you're not a scientist.</td>\n",
       "      <td>i'm not sure if this is a valid argument, but i think it's a valid one. i'm not a scientist, but it's not a valid reason to assume that the differences in intelligence are genetic. i don't think it is, but there are differences in iq in the us. i think the difference is that the average iq of the us is higher than the average of the other races. i would argue that the difference in iqs is due to the fact that the us has a higher iq than the other groups. i believe that the 'natural' differences in the average intelligence are due to a natural selection. i also think that the genetic differences are due in part to the natural selection of the species. i'd argue that this is because the species is more likely to have a genetic defect than the species that is more developed.</td>\n",
       "    </tr>\n",
       "    <tr>\n",
       "      <th>1062</th>\n",
       "      <td>Everyone is Bi-sexual (at least in terms of entertainment, possibly not for finding partners for relationships.) : for me it seems the terms 'straight' and 'gay' are entirely socially constructed. now i understand there is biological genetic reasons to want to reproduce and thus you would need to find a partner to do so. that is why i would say most straight or gay people probably are sexually how they identify when it comes to relationships and finding a long lasting partner. but when it comes to entertainment i feel like everyone is bi sexual. this is very prominent when people males specifically go to prison. most of those men who engage in homosexual activity in prison would consider themselves straight, even after doing homosexual acts. because most probably still only want relationships with the opposite sex, however for entertainment they did engage in a homosexual act. this is also prevalent in women who 'experiment' but still consider themselves straight. but will engage in homosexual acts. i am what society would deem 'straight' however if i ever wanted to have sex with another guy for some reason, i wouldn't be like 'oh i'm straight i can't have sex with you'.</td>\n",
       "      <td>Everyone is Bi-sexual (at least in terms of entertainment, possibly not for finding partners for relationships.)</td>\n",
       "      <td>I think the terms \"straight\" and \"gay\" are entirely socially constructed</td>\n",
       "      <td>i think you're missing the point. i'm not sure what you mean by'straight' or 'gay' but i think you are missing the distinction. i think the distinction is important to understand. i don't think you can define'straight'. i think it's important to recognize that the distinction between'straight and gay' is not necessarily a distinction between the two.</td>\n",
       "      <td>i think you're missing the point. i'm not saying that everyone is bisexual, but i think that there are some people who are. i think it's important to understand that there is a difference between being bisexual and being gay.</td>\n",
       "      <td>i think you're missing the point. i'm not sure if you're aware of the fact that the term'straight' is a misnomer. i think it's a mis misnomers term.</td>\n",
       "      <td>i'm not sure if this is a 'natural' thing, but i think it's a 'normal' thing. i'm not a'real' person, but it's not a natural thing. it's just a social construct. i don't think it is a natural construct.</td>\n",
       "    </tr>\n",
       "    <tr>\n",
       "      <th>1292</th>\n",
       "      <td>Iota is an alternative to the traditional banking system. : the traditional banking system is shady, corrupt, and is responsible for funneling billions of ill gotten gains. iota, a cryptocurrency that is a derivative of blockchain is fast enough to handle all bank transactions worldwide, and it is visible to not only law enforcement but to everyday users who want to view monetary flows. as soon as the identity of a wallet has been discovered, you can easily trace the money back throughout time. iota is not backed by any law or decree except its own scarcity. the amount of iota in circulation today is the maximum there will ever be, and as more people lose iota losing the wallet, death, happenstance etc the amount of iota in circulation will naturally decline. in addition, various governments utilize the banking system as an economic punishment to freeze money of other people worldwide. the people who get their accounts frozen many times have not harmed anyone, they are merely political dissidents. in addition, many governments print massive amounts of money, essentially stealing money from their constituents. change my view that the current banking system is hopelessly corrupt and skewed towards those with political and social economic power, and that cryptocurrency in general and iota ethereum bitcoin in particular are the only chance to have a trustworthy economic system.</td>\n",
       "      <td>Iota is an alternative to the traditional banking system.</td>\n",
       "      <td>Bitcoin is the only cryptocurrency that can be trusted and backed by a trustworthy economic system.</td>\n",
       "      <td>iota is a derivative of the traditional banking system. iota is not backed by any law or decree except its own scarcity. i don't think the traditional bank system is corrupt, but iota has a lot of potential to be corrupt.</td>\n",
       "      <td>iota is a decentralized currency that is not backed by any law or decree except its own scarcity. iota is not a decentralized system. i don't think it's a good idea to have a decentralized bank.</td>\n",
       "      <td>i think the problem with the current banking system is that it is a corrupt system. iota is a decentralized currency that is decentralized and decentralized. i think the main problem with this is that the system is corrupt. i don't think it is corrupt, but it is not a good idea to have a system that is corrupt and corrupt.</td>\n",
       "      <td>i think the problem with the system is that it is not a good idea to have a system that is designed to be a monopoly. it is a system where the government is the only one who can control the amount of money that is in the market. the system that you are talking about is a monopoly that is not the only thing that can be used to control the money that you have. it's a system with a system which is designed for the government to control all of the money you have in the economy. it has a system of regulations that are designed to protect the government from the government. it can be a system in which the government can control all the money they have in their hands. it could be a model where the people who have the money are the ones who are the most likely to be able to control it.</td>\n",
       "    </tr>\n",
       "    <tr>\n",
       "      <th>210</th>\n",
       "      <td>The Fight Against Slut-Shaming Is Pointless and Will Never Work : let's start by defining what 'slut shaming' means. amp; x200b; according to dictionary. com slut shaming is 'the action or fact of stigmatizing a woman for engaging in behavior judged to be promiscuous or sexually provocative. ' amp; x200b; note: this definition does not intel rape or harassment but simple judgment from people. amp; x200b; i see many women, especially celebrity women like amber rose, fighting this battle against slut shaming and i find this so pointless and it is so clear to me that it will be a battle that will never be 'won'. amp; x200b; here are my points: amp; x200b; 1. 'slut' cannot be define: the definition of slut changes depending on who you ask. there is simply not one definition that can be agreed upon regarding what a slut is. your idea of what makes someone a slut will always be different from someone else's idea. a 'slut' to you may be someone who sleeps with more than 5 people, a 'slut' to someone else may be someone who sleeps with 100 people, a 'slut' to another person may be someone who sleeps with more than one person in a short amount of slut. fighting a battle regarding something that is not universally defined as one specific thing makes no sense. 2. you're only slut shamed if you think you're an actual slut: if the actions that you are partaken in are 'slutty' according to someone and that person tries to shame you for them but they are not slutty according to you, why would you feel shame in them? it is only if you think know that you're being slutty that you would feel ashamed. the only reason you would feel ashamed of doing something is if that something that you are doing is something you know is wrong according to your own standards. 3. slut shaming was created to make you feel better about what you think is your slutty behavior: now, i want to make it clear, everyone has the right to sleep and do whatever they want as long as they are not hurting anyone else. i don't care if someone sleeps with 100 people, 1,000 people or no people. my point is that, the creation of this 'movement' was mostly created by women who want to make themselves feel better about the behavior they hold that deep down they find crass. by this i mean, if you want to take your clothes off and take a picture and post it online, do it. it is your right and if someone doesn't like it then they should just exit out. but don't create a pointless movement in order to defend the fact that you wanted to take a nude. it is okay to take nudes if that is what you want, stand by your decision behavior without having to create a movement to defend it. 4. it is your right to do as you please, but the right is also for others: you cannot tell someone that they cannot judge you or anyone else. is judging people bad? maybe. but you cannot tell someone to stop judging if that is what they want to do. in conclusion; i think slut shaming was created by people who do things that fall under their personal definition of what a slut is but want to feel validated or like what they are doing is not wrong. the truth is that you should live by your own standards. do what you think is right and if you do wrong don't expect people to have to inherit think otherwise. if someone calls you a slut and you know that what you're doing is not slutty by your own definition of the word you shouldn't feel ashamed. you can only feel ashamed if you know that what you're doing falls under the definition of what a slut is. it's pointless to have walks and movements for things that are not based on anything other than the opinions of people. you can't be shamed by something you believe is not shameful. you are only ashamed of it if you think is wrong.</td>\n",
       "      <td>The Fight Against Slut-Shaming Is Pointless and Will Never Work</td>\n",
       "      <td>Slut shaming is pointless and should never be fought</td>\n",
       "      <td>i think you're missing the point. i think you are misunderstanding the definition of slut shaming. it's not about the definition, it's about the definitions of what slut shaming is. it is about the idea that a person is slutty because they are not. it doesn't mean that they are slutty. it means that they have a right to be slutty, but that they don't have a responsibility to be.</td>\n",
       "      <td>i think you're missing the point. i think the problem with slut shaming is that it's not about the actions of the person who is slut shaming. it's about the behavior of the individual. it is about the person that is slut shamed. it isn't about the people who are slut shaming. it just is about how the person is slutshamed.</td>\n",
       "      <td>i think you're missing the point. i think it's important to understand that the definition of slut shaming is not a specific one. it's a very broad one. i don't think it is a specific definition, but it's not a broad one, and i think you can make a broad enough definition.</td>\n",
       "      <td>i think you're missing the point. the term 'bad' is used to describe a person who is not a bad person. it's a term used to refer to a person that is not bad. it is used in a way that is offensive to a certain group of people. it can be used to mean something like 'bad'. it's used to say that a person is bad for themselves, but it's not a word that is used for any group of women. it also means that it's offensive to someone who is bad.</td>\n",
       "    </tr>\n",
       "  </tbody>\n",
       "</table>\n",
       "</div>"
      ],
      "text/plain": [
       "                                                                                                                                                                                                                                                                                                                                                                                                                                                                                                                                                                                                                                                                                                                                                                                                                                                                                                                                                                                                                                                                                                                                                                                                                                                                                                                                                                                                                                                                                                                                                                                                                                                                                                                                                                                                                                                                                                                                                                                                                                                                                                                                                                                                                                                                                                                                                                                                                                                                                                                                                                                                                                                                                                                                                                                                                                                                                                                                                                                                                                                                                                                                                                                                                                                                                                                                                                                                                                                                                                                                                                                                                                                                                                                                                                                                                                                                                                                                                                                                                                                                                                                                               argument  \\\n",
       "1364                                                                                                                                                                                                                                                                                                                                                                                                                                                                                                                                                                                                                                                                                                                                                                                                                                                                                                                                                                                                                                                                                                  The fights in \"Naruto\" are better than the ones in \"Dragonball Z\" : to clear up confusion, this is naruto naruto shippuden vs dragonball z. not talking about the original dragonball or dragonball super. i love dragonball z. it was one of the first shows i've watched as a kid. seeing goku fight frieza was exciting to watch, and the fight between gohan and cell is hands down the best fight in the entire series and one of the best fights in anime history. however, overall, the battles that take place in the naruto anime are superior. reason 1: varied techniques if i were to choose to have either ki or chakra running through my body, the easy answer is chakra. chakra gives the user access to a potentially large arsenal of techniques known as 'jutsu' that can come in three basic forms: ninjutsu, genjutsu, and taijutsu. great example of taijutsu: the eight gates and 8 trigrams 32 palms great example of ninjutsu: rasenshuriken and chidori great example of genjutsu: tsukuyomi there's also fire style, water style, earth style, wind style, and more. it's always exciting to see characters that rely on completely different fighting methods and see how they face each other, such as lee's taijutsu vs gaara's sand , shino's insects vs kankuro's puppets , one character even fought with his bones. while dbz's fights are interesting to watch, the fighting is often limited to how many ki blasts they throw and how many punches they can land before the guy falls over. not nearly as much variety. reason 2: emotion in dragonball z, as good as the fights are, the truth is that they kinda just 'happen'. there's no real driving force making the characters battle other than the fact that 'he is the bad guy and so i need to protect the earth', admirable, but cliche. in naruto, there's always more to it's fights. in gaara vs lee , that was basically lee's shining moment, after years of being seen as a loser because he couldn't use ninjutsu or genjutsu, he was facing gaara, a ninja the series hyped up to be this monster, and he ended up mopping the floor with him for a good while. you ended up really rooting for him to win. another great example is part 1's naruto vs sasuke at the valley of end . sasuke, naruto's friend and rival was about to turn evil and leave the village. sasuke's goal was to kill his brother for murdering his clan, and in his mind revenge is the only thing he cared about. naruto knows the dark path that sasuke is heading down will only lead to sasuke's potential destruction, and so he does everything in his power to bring him back to the village. final reason: there's no dragonballs let's face it, who really cares if someone dies in dragonball, who cares? you can always wish them back. there's no dragonballs in naruto. only way of coming back in naruto is if you use the 'edo tensei' and i don't think they would be happy that you brought them back using the corpse of another dead ninja.   \n",
       "218                                                                                                                                                                                                                                                                                                                                                                                                                                                                                                                                                                                                                                                                                                                                                                                                                                                                                                                                                                                                                                                                                                                                                                                                                                                                                                                                                                                                                                                                                                                                                                                                                                                                                                                                                                                                                                                                                                                                                                                                                                                                                                                                                                                                                                                                                                                                                                                                                                                                                                                                                                                                                                                                                                                                                                                                                                                                                                                                                                                                                                                    Wooden Pencils are better than mechanical : wooden pencils are so much easier to use. not only can most wood pencils handle heavy handwriting, you can go for days before you need to resharpen. with mechanical pencils, you have to keep clicking twisting because your lead gets short after only a few minutes of writing. also, with most mechanical pencils, the eraser is the lead dispensing button, and once you use the eraser enough, it is near impossible to get into the lead container. i understand that you can just put in lead through the other hole, but sometimes the lead gets stuck or is too small to pull out and it would just save more time to get a new pencil. wooden pencil erasers tend to determine the life of that pencil, and even if you run out of the eraser, you can just pull off the metal part and fasten a new one on, as compared to a mechanical where if it's below the grip line, you need to get a new pencil altogether. wooden pencils are stronger and simply more convenient while mechanical pencils are just novelty items for children.   \n",
       "692                                                                                                                                                                                                                                                                                                                                                                                                                                                                                                                                                                                                                                                                                                                                                                                                                                                                                                                                                                                                                                                                                                                                                                                                                                                                                                                                                                                                                                                                                                                                                                                                                                                                                                                                                                                                                                                                                                                                                                                                                                                                                                                                                                                                                                                                                                                                                                                                                                                                                                                                                                                                                                                                                                                                                                                                                                                                                                                                                                                                                                                                                                                                                          The Government must control all online and offline dating relationships. : if the government controlled how people date online and offline, we would have less problems with divorce, no more children without fathers. more people will be able to meet their true love without getting their heart broken. the government has more money and power than the dating industry combined. everyone will be background checked to keep people safe from dating bad people. this will solve many problems with the economy too. the government can even invest in research and development to scientifically build real relationships that are not fake like contemporary online dating where no one takes each other seriously anymore. i strongly believe that dating should be heavily regulated by the government to prevent serious problems with discrimination, violence and health concerns. it will also solve a lot of problems in workplace amp; reddit too. please change my view.   \n",
       "1992   In the specific context of 'black power', anything other than an emphasis on science and technology is a frivolity. : athletics, rap, slogans, entertainment, etc are trivialities. expertise in biochemistry, nuclear physics, or even 'just' computer science does light years of progress for the idea of 'black power' than any superficial displays balling up a fist, wearing a dashiki, etc ever could. 'black is intelligent' is much more useful mantra than 'black is beautiful'. why do i believe this? a person with expertise in science and technology is, for all practical considerations, god. s he can affect the environment just as much as the environment affects such a person. heck, if a person wants to be beautiful, science knows how. plastic surgery, genetic tampering, toying with human psychology and perception that's what science is about. solving problems. society depends on the stem folks for its livelihood. why bother with music or rap when the people capable of making the high quality microphones, instruments, etc aren't around? why bother with art when the programmers who do the image encoding, or the chemists who design the pigments, synthesize the silver nitrate, etc don't exist? at a national level, stem research can significantly drive any nation's economy and position and place in the world, forward. a majority black nation which places overwhelming even to an unhealthy extent emphasis on science and technology, becomes a black powerful nation. this is fact. i think it's what asian societies, indians, etc have figured out and that's what makes them so powerful. need more? any black singer probably uses a shure, yamaha, casio, moog, korg, etc. that stuff tends to be designed by mostly asian and white people. that contributes to 'asian white power' please, don't read the 'white power' in the neo nazi kkk context of the term, thank you . the daws many black producers use, run mostly on processors developed by intel, ibm, etc. heck, fruity loops is a software developed by a belgian company, image line the v12's, lambos, etc many people consider symbols of status, were designed by a team of likely caucasian mechanical engineers. designing high quality gold jewellery requires a working knowledge of metallurgy and even a decent amount of chemistry and materials science. perfecting dye technology for a dashiki, requires knowledge of chemistry. any given black athlete or basketballer likely has a team of biomedical engineers, medics, etc preserving his success, who re attach dissociated spines and sinews, seek ways to optimize performance and so on. your favourite wealthy black person likely has a team of statisticians, mathematical analysts, etc helping him compete in a capitalist system. hence, this is why i believe that mae jemison jemison for example, means far more to the 'black power' narrative than beyonce herself ever could. heck, i'm no conservative but even ben carson means a lot more for black power than cornel west for example , ever could. a black person who masters pure mathematics or applied mathematics mathematics or both , does far more for black power than someone who masters supreme mathematics nation supreme mathematics . memorizing the entire chemical nomenclature nomenclature is far more relevant to black power than memorizing aave vernacular english , or even swahili or some other african language. any anonymous young or old black scientist engineer doctor does far more for the cause of 'black power' than such a person ever could with a degree in political science, or even african studies itself. it's only really after stem power has been sorted out and attained, than anyone can afford the luxury to talk about art, history, language, culture, etc. tl;dr: the only meaningful way for blacks, african blacks, etc to exercise 'black power', is to place an overwhelming emphasis on science and technology. everything else is merely a luxury, if not entirely meaningless to the idea of 'black power'.   \n",
       "996                                                                                                                                                                                                                                                                                                                                                                                                                                                                                                                                                                                                                                                                                                                                                                                                                                                                                                                                                                                                                                                                                                                                                                                                                                                                                                                                                                                                                                                                                                                                                                                                                                                                                                                                                                                                                                                                                                                                                                                                                                                                                                                                                                                                                                                                                                                                                                                                                                                                                                Professional wrestling isn’t a sport and should be replaced in popularity by amateur wrestling : note: professional wrestling refers to the entertainment form. amateur wrestling refers to the competitive sport. background: this year, i competed in my first season of scholastic wrestling, and i learned two things: 1. wrestling requires a ton of mental involvement 2. wrestling requires a shit ton of physical discipline i m probably not going to continue wrestling next year, because it was nothing short of tough. every day was jogging, push ups, and a fuck ton of shadow wrestling. i would wake up with my back sore and my legs aching. despite all of this, i still enjoyed the experience. this past winter was the most in shape i ve ever been, and it made the rest of my day seem like more of a break. any scholastic wrestlers out there; keep doing what you re doing. anyway, professional wrestling ie. wwe requires none of that. the matches are slow, and they are almost always predetermined. in addition, it takes a fight club stance on rules: there are none. this is the nail in the coffin for professional wrestling. if there were no rules in amateur wrestling, it wouldn t take a while before the full nelsons, illegal chokeholds, and coin purse grabbing got dangerous. the only reason the wwe isn t the human equivalent of a dogfight is because all wwe is is a kabuki theatre show about people pretending to beat each other up. people need to stop obsessing over professional wrestling and realize that it is just a more entertaining and unathletic knockoff of amateur wrestling.   \n",
       "678                                                                                                                                                                                                                                                                                                                                                                                                                                                                                                                                                                                                                                                                                                                                                                                                                                                                                                                                                                                                                                                                                                                                                                                                                                                                                                                                                                                                                                                                                                                                                                                                                                                                                                                                                                                                                                                                                                                                                                                                                                                                                                                                                                                                                                                                                                                                                                                                                                                                                                                                                                                                                                                                                                                                                                                                                                                                                                                                                                                                                                                                                                                                                                                      It is unethical to produce a child when adoption is within a parent's or couple's means. : there is a lot of social pressure to adopt pets in need of rescue to keep them from languishing in shelters rather than buying or breeding. however, when it comes to children, that pressure is nearly nonexistent. i realize that adoption is not accessible to all parents, but for those to whom it is in reach, it seems to me that producing children when the world is already overpopulated and countless children are suffering unimaginably without families and support systems is simply unethical. i find this especially galling in the case of ivf or other similar procedures. such a process requires tons of money, paperwork, and inconvenience, and that a couple is willing to expend that to create a child which carries their genes but not to adopt a child in need strikes me as incredibly narcissistic. reddit, can you change my view?   \n",
       "1331                                                                                                                                                                                                                                                                                                                                                                                                                                                                                                                                                                                                                                                                                                                                                                                                                                                                                                                                                                                                                                                                                                                                                                                                                                                                                                                                                                                                                                                                                                                                                                                                                                                                                                                                                                                                                                                                                                                                                                                                                                                                                                                                                                                                                                                                                                                                                                                                                                                                                                                                                                                                                  There are significant, genetic differences in IQ between races. : i know you guys get this a lot, but i really don't want to think this way. i want to be able to whole heartedly believe in racial equality. to my knowledge, the available studies tend to agree that there are differences in iq between asians, whites, hispanics, and africans in descending order . the controversy isn't about whether differences exist, but about whether the differences are genetic. the most convincing evidence for the 'herarian' i've seen is admixture studies. biracial individuals tend to have higher scores than monoracial africans but lower iq scores than white folks. the adoption studies are also very convincing. just thinking logically, why would we expect that evolution stopped at the neck? if there are racial differences in height and athleticism, why wouldn't there be differences in intelligence? beyond the scientific evidence, imo racial differences in intelligence explain the lack of development in africa prior to colonialism. i know people love to bring up mali, nubia, great zimbabwe, or the swahili city states; honestly, i don't know how anyone could seriously believe that these civilizations were as advanced as those in europe, asia, or even mesoamerica. why didn't major empires or nation states develop in equatorial or southern africa? overall, i haven't seen convincing evidence supporting a purely environmental explanation of racial differences in iq. thanks.   \n",
       "1062                                                                                                                                                                                                                                                                                                                                                                                                                                                                                                                                                                                                                                                                                                                                                                                                                                                                                                                                                                                                                                                                                                                                                                                                                                                                                                                                                                                                                                                                                                                                                                                                                                                                                                                                                                                                                                                                                                                                                                                                                                                                                                                                                                                                                                                                                                                                                                                                                                                                                                                                                                                                                                                                                                                                                                                                                                                                                                              Everyone is Bi-sexual (at least in terms of entertainment, possibly not for finding partners for relationships.) : for me it seems the terms 'straight' and 'gay' are entirely socially constructed. now i understand there is biological genetic reasons to want to reproduce and thus you would need to find a partner to do so. that is why i would say most straight or gay people probably are sexually how they identify when it comes to relationships and finding a long lasting partner. but when it comes to entertainment i feel like everyone is bi sexual. this is very prominent when people males specifically go to prison. most of those men who engage in homosexual activity in prison would consider themselves straight, even after doing homosexual acts. because most probably still only want relationships with the opposite sex, however for entertainment they did engage in a homosexual act. this is also prevalent in women who 'experiment' but still consider themselves straight. but will engage in homosexual acts. i am what society would deem 'straight' however if i ever wanted to have sex with another guy for some reason, i wouldn't be like 'oh i'm straight i can't have sex with you'.   \n",
       "1292                                                                                                                                                                                                                                                                                                                                                                                                                                                                                                                                                                                                                                                                                                                                                                                                                                                                                                                                                                                                                                                                                                                                                                                                                                                                                                                                                                                                                                                                                                                                                                                                                                                                                                                                                                                                                                                                                                                                                                                                                                                                                                                                                                                                                                                                                                                                                                                                                                                                                                                                                                                                                                                                                               Iota is an alternative to the traditional banking system. : the traditional banking system is shady, corrupt, and is responsible for funneling billions of ill gotten gains. iota, a cryptocurrency that is a derivative of blockchain is fast enough to handle all bank transactions worldwide, and it is visible to not only law enforcement but to everyday users who want to view monetary flows. as soon as the identity of a wallet has been discovered, you can easily trace the money back throughout time. iota is not backed by any law or decree except its own scarcity. the amount of iota in circulation today is the maximum there will ever be, and as more people lose iota losing the wallet, death, happenstance etc the amount of iota in circulation will naturally decline. in addition, various governments utilize the banking system as an economic punishment to freeze money of other people worldwide. the people who get their accounts frozen many times have not harmed anyone, they are merely political dissidents. in addition, many governments print massive amounts of money, essentially stealing money from their constituents. change my view that the current banking system is hopelessly corrupt and skewed towards those with political and social economic power, and that cryptocurrency in general and iota ethereum bitcoin in particular are the only chance to have a trustworthy economic system.   \n",
       "210                                                                                                                                                                                                                                        The Fight Against Slut-Shaming Is Pointless and Will Never Work : let's start by defining what 'slut shaming' means. amp; x200b; according to dictionary. com slut shaming is 'the action or fact of stigmatizing a woman for engaging in behavior judged to be promiscuous or sexually provocative. ' amp; x200b; note: this definition does not intel rape or harassment but simple judgment from people. amp; x200b; i see many women, especially celebrity women like amber rose, fighting this battle against slut shaming and i find this so pointless and it is so clear to me that it will be a battle that will never be 'won'. amp; x200b; here are my points: amp; x200b; 1. 'slut' cannot be define: the definition of slut changes depending on who you ask. there is simply not one definition that can be agreed upon regarding what a slut is. your idea of what makes someone a slut will always be different from someone else's idea. a 'slut' to you may be someone who sleeps with more than 5 people, a 'slut' to someone else may be someone who sleeps with 100 people, a 'slut' to another person may be someone who sleeps with more than one person in a short amount of slut. fighting a battle regarding something that is not universally defined as one specific thing makes no sense. 2. you're only slut shamed if you think you're an actual slut: if the actions that you are partaken in are 'slutty' according to someone and that person tries to shame you for them but they are not slutty according to you, why would you feel shame in them? it is only if you think know that you're being slutty that you would feel ashamed. the only reason you would feel ashamed of doing something is if that something that you are doing is something you know is wrong according to your own standards. 3. slut shaming was created to make you feel better about what you think is your slutty behavior: now, i want to make it clear, everyone has the right to sleep and do whatever they want as long as they are not hurting anyone else. i don't care if someone sleeps with 100 people, 1,000 people or no people. my point is that, the creation of this 'movement' was mostly created by women who want to make themselves feel better about the behavior they hold that deep down they find crass. by this i mean, if you want to take your clothes off and take a picture and post it online, do it. it is your right and if someone doesn't like it then they should just exit out. but don't create a pointless movement in order to defend the fact that you wanted to take a nude. it is okay to take nudes if that is what you want, stand by your decision behavior without having to create a movement to defend it. 4. it is your right to do as you please, but the right is also for others: you cannot tell someone that they cannot judge you or anyone else. is judging people bad? maybe. but you cannot tell someone to stop judging if that is what they want to do. in conclusion; i think slut shaming was created by people who do things that fall under their personal definition of what a slut is but want to feel validated or like what they are doing is not wrong. the truth is that you should live by your own standards. do what you think is right and if you do wrong don't expect people to have to inherit think otherwise. if someone calls you a slut and you know that what you're doing is not slutty by your own definition of the word you shouldn't feel ashamed. you can only feel ashamed if you know that what you're doing falls under the definition of what a slut is. it's pointless to have walks and movements for things that are not based on anything other than the opinions of people. you can't be shamed by something you believe is not shameful. you are only ashamed of it if you think is wrong.   \n",
       "\n",
       "                                                                                                                conclusion  \\\n",
       "1364                                                     The fights in \"Naruto\" are better than the ones in \"Dragonball Z\"   \n",
       "218                                                                              Wooden Pencils are better than mechanical   \n",
       "692                                               The Government must control all online and offline dating relationships.   \n",
       "1992   In the specific context of 'black power', anything other than an emphasis on science and technology is a frivolity.   \n",
       "996                         Professional wrestling isn’t a sport and should be replaced in popularity by amateur wrestling   \n",
       "678                               It is unethical to produce a child when adoption is within a parent's or couple's means.   \n",
       "1331                                                       There are significant, genetic differences in IQ between races.   \n",
       "1062      Everyone is Bi-sexual (at least in terms of entertainment, possibly not for finding partners for relationships.)   \n",
       "1292                                                             Iota is an alternative to the traditional banking system.   \n",
       "210                                                        The Fight Against Slut-Shaming Is Pointless and Will Never Work   \n",
       "\n",
       "                                                                                                               joint_conc_baseline  \\\n",
       "1364                                                                            Naruto vs Dragonball Z is superior to Dragonball z   \n",
       "218                                                                       Wooden pencils are easier to use than mechanical pencils   \n",
       "692                                                             The government should regulate how people date online and offline.   \n",
       "1992                                                                                            \"Black Power\" is a trivial concept   \n",
       "996                         Professional Wrestling is a more entertaining and unathletic form of wrestling than amateur Wrestling.   \n",
       "678                                                                                                          Adoption is unethical   \n",
       "1331  There is no evidence that racial differences in intelligence explain the lack of development in Africa prior to colonialism.   \n",
       "1062                                                      I think the terms \"straight\" and \"gay\" are entirely socially constructed   \n",
       "1292                           Bitcoin is the only cryptocurrency that can be trusted and backed by a trustworthy economic system.   \n",
       "210                                                                           Slut shaming is pointless and should never be fought   \n",
       "\n",
       "                                                                                                                                                                                                                                                                                                                                                                                                                                                                                                                                                                                                                                                                                                                                                                                                                                                                                               masked_conc_attacks  \\\n",
       "1364  i think you're missing the point. i think the main reason naruto is so good is because it's a very different series. i don't think you can really argue that naruto has a better series than dragonball z. i mean, i think naruto's main focus is on the characters, but i think it's also a very good series. the main focus of naruto was the characters' fighting style. i'm not sure i agree with you, but the main point is that narut is a very interesting series. it's not about the characters fighting, it's about the story. the story is about the main characters fighting each other, and the main character fighting the main villain. the primary focus of the series is the story, and i think that's the main thing that makes naruto so good. the characters are very different, and they're very different. the stories are very similar, but they're different. i would say that naruta   \n",
       "218                                                                                                                                                                                                                                                                                                                                                                                                                                                                                                                                                                                                                                                                                                                           i think the main reason wood is so much easier to use is because it's easier to hold. i think the reason wood pencils are so much more convenient is because they're easier to grip.   \n",
       "692                                                                                                                                                                                                                                                                                                                                                                                                                                                                                                                                                                                                                                                                          i think the government should be regulated. it's not just the government that is regulating dating. it is the government who is regulating the internet. it has the power to regulate the internet and the government to regulate it.   \n",
       "1992                                                                                                                                                                                                                                                                                                                                                                                                                                                                                                                                                                                                                         i think the problem with your view is that it's not about the people who make the music. it's about the individuals who make it. the people that make it, the people making it, are the people whose work is the most important. the person who makes it is the person that makes it.   \n",
       "996                                                                                                                                                                                                                                                                                                                                                                                                                                                                                                                                                                                                                                                                                i think the main difference between professional wrestling and amateur wrestling is that it is a more entertaining form of entertainment. it is not a competitive sport. it's a competitive form of entertaining entertainment.   \n",
       "678                                                                                                                                                                                                                                                                                                                                                                                                                                                                                                                                                                                                                                                                           i think the problem with this is that it's not a social pressure. it's a social obligation to adopt a child. it is a social responsibility to adopt children. it isn't a social duty to adopt. it just isn't an obligation to do so.   \n",
       "1331                                                                                                                                                                                                                                                                                      i think you're missing the point. iq is a very complex and complex concept. it's not a complex concept, it's a complex and complicated concept. i think it's important to understand that the differences in iq are not necessarily genetic. i'm not sure if you're aware of the differences between asians and whites, but i think you should be aware that there are differences in intelligence. i don't think you can really say that there is a genetic difference between asian and white people. i mean, i'm sure there are genetic differences between the two groups, but that's not the point of the argument.   \n",
       "1062                                                                                                                                                                                                                                                                                                                                                                                                                                                                                                                                              i think you're missing the point. i'm not sure what you mean by'straight' or 'gay' but i think you are missing the distinction. i think the distinction is important to understand. i don't think you can define'straight'. i think it's important to recognize that the distinction between'straight and gay' is not necessarily a distinction between the two.   \n",
       "1292                                                                                                                                                                                                                                                                                                                                                                                                                                                                                                                                                                                                                                                                                 iota is a derivative of the traditional banking system. iota is not backed by any law or decree except its own scarcity. i don't think the traditional bank system is corrupt, but iota has a lot of potential to be corrupt.   \n",
       "210                                                                                                                                                                                                                                                                                                                                                                                                                                                                                                                  i think you're missing the point. i think you are misunderstanding the definition of slut shaming. it's not about the definition, it's about the definitions of what slut shaming is. it is about the idea that a person is slutty because they are not. it doesn't mean that they are slutty. it means that they have a right to be slutty, but that they don't have a responsibility to be.   \n",
       "\n",
       "                                                                                                                                                                                                                                                                                                                                                                                                                                                                                                                                                                                                                                                                                                                                                                                                                                                                                                                                                                                                                                                              known_conc_attacks  \\\n",
       "1364                                                                                                                                           i think the main reason why you're not going to agree with me is that the fights in naruto are better than the ones in dragonball z. i think the fights are better because they're more complex and more complex. i don't think the fight in dragon ball z is as complex as the fight between gohan and cell. the fight is more complex than the fight of dragonball. the fights between goken and cell are more complex, and the fight with gohan is more complicated. the fighting between goku and cell is more intricate, and there's more variety in the fight than the fights of dragon ball. the battle between goka and cell isn't as complex, but the fight isn't. the main difference between the two is that both are more complicated than the other. the two are more similar, but they're also more complex in their own way. the same goes for the fight against gohan. the only difference is that gohan has more   \n",
       "218                                                                                                                                                                                                                                                                                                                                                                                                                                                                                                                                                                                                                                                                                                                                                                                                                                                                                          i think the main difference between wood and mechanical pencils is that they are easier to use. i think the difference is that wood is easier to write with than mechanical pencil.   \n",
       "692                                                                                                                                                                                                                                                                                                                                                                                                                                                                                                                                                                                                                                                                                                                                                                                                                                                                                 the government should control all online and offline dating relationships. the government should be able to regulate all online dating relationships, and not just the ones that are online.   \n",
       "1992                                                                                                                                                                                                                                                                                                                                                                                                                                                                                                                                                                                                                                                                                                                                                        i think the problem with the term 'black power' is that it's a frivolity. it's not about the people who make the music, it's about the individuals who make it. it is about the individual's ability to make it, and the individual who makes it. the people that make it are the people whose ability to create it.   \n",
       "996                                                                                                                                                                                                                                                                                                                                                                                                                                                                                                                                                                                                                                                                                                                                                                                                                           i think the main reason professional wrestling is so popular is because it's a sport that's not a competition. it's not just a sport. it is a sport, and it's an entertainment form. it isn't a competition, it's just a competition for the best.   \n",
       "678                                                                                                                                                                                                                                                                                                                                                                                                                                                                                                                                                                                                                                                                                                                                                                                               i think you're missing the point. it's not unethical to produce a child when adoption is within a parent's or couple's means. it is unethical to have a child that is not within a couple's or pair's means, but it's unethical to not have a kid that is in need of adoption.   \n",
       "1331  i think you're missing the point. iq is a measure of intelligence. it's a measure that measures the intelligence of a person. i don't think you can argue that the differences in intelligence are due to genetic differences. i think the difference is that the difference in intelligence is not due to genetics. it is due to the fact that the intelligence is different between races. the difference between the two is not necessarily due to differences in the intelligence. the differences between the different races are not due in part to genetics, but to the differences of the different cultures. the only reason that the two races are different is because the differences are not related to the intelligence itself. the reason that they are different in intelligence isn't because of genetics, it's because the two cultures are different. the genetic differences are due in some way to the different culture. the fact is that there are differences in iq between the races is not a coincidence. the genetics of the two groups are not   \n",
       "1062                                                                                                                                                                                                                                                                                                                                                                                                                                                                                                                                                                                                                                                                                                                                                                                                                                           i think you're missing the point. i'm not saying that everyone is bisexual, but i think that there are some people who are. i think it's important to understand that there is a difference between being bisexual and being gay.   \n",
       "1292                                                                                                                                                                                                                                                                                                                                                                                                                                                                                                                                                                                                                                                                                                                                                                                                                                                                          iota is a decentralized currency that is not backed by any law or decree except its own scarcity. iota is not a decentralized system. i don't think it's a good idea to have a decentralized bank.   \n",
       "210                                                                                                                                                                                                                                                                                                                                                                                                                                                                                                                                                                                                                                                                                                                                          i think you're missing the point. i think the problem with slut shaming is that it's not about the actions of the person who is slut shaming. it's about the behavior of the individual. it is about the person that is slut shamed. it isn't about the people who are slut shaming. it just is about how the person is slutshamed.   \n",
       "\n",
       "                                                                                                                                                                                                                                                                                                                                                                                                                                                                                                                                                                                                                                                               joint_conc_baseline_attacks  \\\n",
       "1364                                                                                                                                                                                                                                                   i think the main reason why naruto is superior is because it's a more complex series. i think naruto has a lot of interesting characters, and i think the best ones are the ones that are more complex. i don't think narut is a better series than dragonball z, but i think it's more complex than dragonballs z. i'm not sure why the naruto anime is better than dragon ball z, and it's not a better show than dragon balls z.   \n",
       "218                                                                                                                                                                                                                                                                                                                                                                                                                                                                                                                                                         i think you're missing the point. i'm not sure why you're using a mechanical pencil, but i think you should use a wood pencil.   \n",
       "692                                                                                                                                                                                                                                                                                                                                                                                                                                                                                                                                                                                                                               i think that the government should be heavily regulated.   \n",
       "1992  i think you're missing the point. i think the idea of black power is a bit silly. i don't think it's a trivial thing to say. i'm not sure what you're talking about. i'd say that the idea that black power exists is a silly one. i mean, i think it is a valid point, but i think that's a bit of a stretch. i would say that it's not a trivial idea. i've never heard of a black person wearing a dashiki, but it's pretty common. i have heard of people wearing a shure, but that's not the case. i know that it is not a 'black power' thing. i also don't know if it's the same thing as a 'white power' or not. i do know that the concept of 'black' is a very common one.   \n",
       "996                                                                                                                                                                                                                                                                                                                                                                                                                                                                                                                                             i think you're missing the point. professional wrestling is a form of entertainment. it's a form that is not a form for the entertainment.   \n",
       "678                                                                                                                                                                                                                                                                                                                                                                                                                                                                                                                                                                                               i think it's a good idea to adopt a child. i think it is a good thing to adopt children.   \n",
       "1331                                                                                                                                                                                                                                                                                                                                                                                                                                                                                                                                                        i think you're missing the point. i'm not sure why you think that's a good thing. i think it's because you're not a scientist.   \n",
       "1062                                                                                                                                                                                                                                                                                                                                                                                                                                                                                                                                  i think you're missing the point. i'm not sure if you're aware of the fact that the term'straight' is a misnomer. i think it's a mis misnomers term.   \n",
       "1292                                                                                                                                                                                                                                                                                                                                                  i think the problem with the current banking system is that it is a corrupt system. iota is a decentralized currency that is decentralized and decentralized. i think the main problem with this is that the system is corrupt. i don't think it is corrupt, but it is not a good idea to have a system that is corrupt and corrupt.   \n",
       "210                                                                                                                                                                                                                                                                                                                                                                                                      i think you're missing the point. i think it's important to understand that the definition of slut shaming is not a specific one. it's a very broad one. i don't think it is a specific definition, but it's not a broad one, and i think you can make a broad enough definition.   \n",
       "\n",
       "                                                                                                                                                                                                                                                                                                                                                                                                                                                                                                                                                                                                                                                                                                                                                                                                        joint_conc_attacks  \n",
       "1364                                                                                                                                                                                                                                                                                                                                                                                     i think you're missing the point of the comic. it's a movie about a character who is a hero. it is a movie that is about a person who is not a hero, and is a character that is not an hero. the character is a villain, and the character has to be a hero to be able to fight. the characters are not the only ones who are a hero or a hero in the movie. the people who are the hero are the ones who have to fight the hero.  \n",
       "218                                         i'm not sure how you can change your view on this. i'm not going to change your mind on this, but i'm going to try to change my view on the subject. i think you're missing the point of the'shaming' argument. i don't think you can do this with a knife. i've never seen a knife that could be used to make a knife, and i've always been able to use a knife to make it look like a knife and not a knife or a knife. i've also never been able for a knife in my life to be used as a knife because it's a knife with a fork. i have never been used to using a knife at all. i can't do it with a spoon. i could just use a fork and use a spoon to do it. i also don't like the idea of using a fork at all, and it's not like i'm using a spoon at all to do anything.  \n",
       "692                                                                                                                                                                                                                                                                                                                                                                                                                                                                                                                                                                                                         i think you're missing the point. the government is a government. it's a government, and it's the government that has the power to control all online and online dating. it is the government, not the people.  \n",
       "1992                                                                                                                     i think you're missing the point of the term. it's a term that is used to describe a group of people who are not in the same category as the majority of the population. it is used in a way that is not used in the context of the word. it doesn't mean that the majority is 'white' or 'white'. it means that the minority is 'black' and that the group is 'good' and 'good'. it's not a term to describe the group. it means the group that is 'better' and is 'bad' and not the group who is 'best'. it is a term used to refer to the group of individuals who are 'good', 'good,' or 'bad'. it doesn t mean that they are 'bad', or 'good.'it means they are not 'good,''good and 'bad. '  \n",
       "996                                                                                                                                                                                                                                                                                                                              i think it's important to note that the 'natural' aspect of sports is not the 'wrong' part. it's the 'bad' part that makes it so difficult to get a job. it is not a sport that is 'natural'. it is a sport which is not 'natural', but it is 'normal'. it's not a sports that is not considered 'natural,' it's a sport. it has a 'natural'effect. it doesn't have to be 'natural.'it's just a form of physical activity. it can be 'normal' or 'natural'? it's 'natural'' or 'normal. '  \n",
       "678                                                                                                                                                                                                                                                                                                                                                                                                                                                                                                                                                                                                      i think you're missing the point. it's not a problem that people are trying to do it, it's a problem of the people who are doing it. it is a problem because people are doing something that is not a good thing.  \n",
       "1331        i'm not sure if this is a valid argument, but i think it's a valid one. i'm not a scientist, but it's not a valid reason to assume that the differences in intelligence are genetic. i don't think it is, but there are differences in iq in the us. i think the difference is that the average iq of the us is higher than the average of the other races. i would argue that the difference in iqs is due to the fact that the us has a higher iq than the other groups. i believe that the 'natural' differences in the average intelligence are due to a natural selection. i also think that the genetic differences are due in part to the natural selection of the species. i'd argue that this is because the species is more likely to have a genetic defect than the species that is more developed.  \n",
       "1062                                                                                                                                                                                                                                                                                                                                                                                                                                                                                                                                                                                                            i'm not sure if this is a 'natural' thing, but i think it's a 'normal' thing. i'm not a'real' person, but it's not a natural thing. it's just a social construct. i don't think it is a natural construct.  \n",
       "1292  i think the problem with the system is that it is not a good idea to have a system that is designed to be a monopoly. it is a system where the government is the only one who can control the amount of money that is in the market. the system that you are talking about is a monopoly that is not the only thing that can be used to control the money that you have. it's a system with a system which is designed for the government to control all of the money you have in the economy. it has a system of regulations that are designed to protect the government from the government. it can be a system in which the government can control all the money they have in their hands. it could be a model where the people who have the money are the ones who are the most likely to be able to control it.  \n",
       "210                                                                                                                                                                                                                                                                                                                                                                 i think you're missing the point. the term 'bad' is used to describe a person who is not a bad person. it's a term used to refer to a person that is not bad. it is used in a way that is offensive to a certain group of people. it can be used to mean something like 'bad'. it's used to say that a person is bad for themselves, but it's not a word that is used for any group of women. it also means that it's offensive to someone who is bad.  "
      ]
     },
     "execution_count": 30,
     "metadata": {},
     "output_type": "execute_result"
    }
   ],
   "source": [
    "reddit_pred_df[['argument', 'conclusion' , 'joint_conc_baseline', 'masked_conc_attacks', 'known_conc_attacks', 'joint_conc_baseline_attacks', 'joint_conc_attacks']].sample(10).head(n=10)"
   ]
  },
  {
   "cell_type": "code",
   "execution_count": 31,
   "metadata": {},
   "outputs": [],
   "source": [
    "#collect references\n",
    "arg_counters = valid_df.groupby('post_id').agg({\n",
    "    'counter': lambda x: [' '.join(c) for c in x]\n",
    "}).reset_index()\n",
    "arg_counters = pd.Series(arg_counters.counter.values, index=arg_counters.post_id).to_dict()\n",
    "\n",
    "reddit_pred_df['gt_attack'] = reddit_pred_df['gt_attack'].apply(lambda x: str(x))\n",
    "reddit_pred_df['all_counters'] = reddit_pred_df['post_id'].apply(lambda x: arg_counters[x])"
   ]
  },
  {
   "cell_type": "code",
   "execution_count": 32,
   "metadata": {},
   "outputs": [],
   "source": [
    "reddit_pred_df = reddit_pred_df[reddit_pred_df.all_counters.map(len) > 0]"
   ]
  },
  {
   "cell_type": "code",
   "execution_count": 33,
   "metadata": {
    "scrolled": true,
    "tags": []
   },
   "outputs": [
    {
     "name": "stderr",
     "output_type": "stream",
     "text": [
      "Warning: Empty reference sentence detected; setting recall to be 0.\n",
      "Warning: Empty reference sentence detected; setting recall to be 0.\n",
      "Warning: Empty reference sentence detected; setting recall to be 0.\n",
      "Warning: Empty reference sentence detected; setting recall to be 0.\n",
      "Warning: Empty reference sentence detected; setting recall to be 0.\n",
      "Warning: Empty reference sentence detected; setting recall to be 0.\n",
      "Warning: Empty reference sentence detected; setting recall to be 0.\n",
      "Warning: Empty reference sentence detected; setting recall to be 0.\n",
      "Warning: Empty reference sentence detected; setting recall to be 0.\n",
      "Warning: Empty reference sentence detected; setting recall to be 0.\n",
      "Warning: Empty reference sentence detected; setting recall to be 0.\n",
      "Warning: Empty reference sentence detected; setting recall to be 0.\n",
      "Warning: Empty reference sentence detected; setting recall to be 0.\n",
      "Warning: Empty reference sentence detected; setting recall to be 0.\n",
      "Warning: Empty reference sentence detected; setting recall to be 0.\n",
      "Warning: Empty reference sentence detected; setting recall to be 0.\n",
      "Warning: Empty reference sentence detected; setting recall to be 0.\n",
      "Warning: Empty reference sentence detected; setting recall to be 0.\n",
      "Warning: Empty reference sentence detected; setting recall to be 0.\n",
      "Warning: Empty reference sentence detected; setting recall to be 0.\n",
      "Warning: Empty reference sentence detected; setting recall to be 0.\n",
      "Warning: Empty reference sentence detected; setting recall to be 0.\n",
      "Warning: Empty reference sentence detected; setting recall to be 0.\n",
      "Warning: Empty reference sentence detected; setting recall to be 0.\n",
      "Warning: Empty reference sentence detected; setting recall to be 0.\n",
      "Warning: Empty reference sentence detected; setting recall to be 0.\n",
      "Warning: Empty reference sentence detected; setting recall to be 0.\n",
      "Warning: Empty reference sentence detected; setting recall to be 0.\n",
      "Warning: Empty reference sentence detected; setting recall to be 0.\n",
      "Warning: Empty reference sentence detected; setting recall to be 0.\n",
      "Warning: Empty reference sentence detected; setting recall to be 0.\n",
      "Warning: Empty reference sentence detected; setting recall to be 0.\n",
      "Warning: Empty reference sentence detected; setting recall to be 0.\n",
      "Warning: Empty reference sentence detected; setting recall to be 0.\n",
      "Warning: Empty reference sentence detected; setting recall to be 0.\n",
      "Warning: Empty reference sentence detected; setting recall to be 0.\n",
      "Warning: Empty reference sentence detected; setting recall to be 0.\n",
      "Warning: Empty reference sentence detected; setting recall to be 0.\n",
      "Warning: Empty reference sentence detected; setting recall to be 0.\n",
      "Warning: Empty reference sentence detected; setting recall to be 0.\n",
      "Warning: Empty reference sentence detected; setting recall to be 0.\n",
      "Warning: Empty reference sentence detected; setting recall to be 0.\n",
      "Warning: Empty reference sentence detected; setting recall to be 0.\n",
      "Warning: Empty reference sentence detected; setting recall to be 0.\n",
      "Warning: Empty reference sentence detected; setting recall to be 0.\n"
     ]
    }
   ],
   "source": [
    "masked_conc_eval = evaluate_gen_attacks(reddit_pred_df['masked_conc_attacks'].tolist(), reddit_pred_df['all_counters'].tolist())\n",
    "known_conc_eval = evaluate_gen_attacks(reddit_pred_df['known_conc_attacks'].tolist(), reddit_pred_df['all_counters'].tolist())\n",
    "bart_conc_eval = evaluate_gen_attacks(reddit_pred_df['bart_conc_attacks'].tolist(), reddit_pred_df['all_counters'].tolist())\n",
    "pred_conc_eval = evaluate_gen_attacks(reddit_pred_df['joint_conc_baseline_attacks'].tolist(), reddit_pred_df['all_counters'].tolist())\n",
    "joint_conc_eval = evaluate_gen_attacks(reddit_pred_df['joint_conc_attacks'].tolist(), reddit_pred_df['all_counters'].tolist())"
   ]
  },
  {
   "cell_type": "markdown",
   "metadata": {},
   "source": [
    "##### Test stance correcteness:"
   ]
  },
  {
   "cell_type": "code",
   "execution_count": 34,
   "metadata": {},
   "outputs": [],
   "source": [
    "filtered_reddit_pred_df = reddit_pred_df[pd.notna(reddit_pred_df.conclusion_target)]"
   ]
  },
  {
   "cell_type": "code",
   "execution_count": 35,
   "metadata": {
    "scrolled": true,
    "tags": []
   },
   "outputs": [
    {
     "name": "stderr",
     "output_type": "stream",
     "text": [
      "ProConClient: 100%|██████████| 2172/2172 [00:32<00:00, 59.94it/s]/usr/local/lib/python3.6/dist-packages/ipykernel_launcher.py:2: SettingWithCopyWarning: \n",
      "A value is trying to be set on a copy of a slice from a DataFrame.\n",
      "Try using .loc[row_indexer,col_indexer] = value instead\n",
      "\n",
      "See the caveats in the documentation: https://pandas.pydata.org/pandas-docs/stable/user_guide/indexing.html#returning-a-view-versus-a-copy\n",
      "  \n",
      "\n",
      "ProConClient: 100%|██████████| 2172/2172 [00:37<00:00, 57.21it/s]\n",
      "\n",
      "ProConClient:  23%|██▎       | 500/2172 [00:05<00:16, 99.16it/s]\u001b[A\n",
      "ProConClient:  46%|████▌     | 1000/2172 [00:11<00:13, 89.11it/s]\u001b[A\n",
      "ProConClient:  69%|██████▉   | 1500/2172 [00:17<00:07, 86.21it/s]\u001b[A\n",
      "ProConClient:  92%|█████████▏| 2000/2172 [00:23<00:02, 84.92it/s]\u001b[A\n",
      "ProConClient: 100%|██████████| 2172/2172 [00:30<00:00, 60.93it/s]\u001b[A/usr/local/lib/python3.6/dist-packages/ipykernel_launcher.py:3: SettingWithCopyWarning: \n",
      "A value is trying to be set on a copy of a slice from a DataFrame.\n",
      "Try using .loc[row_indexer,col_indexer] = value instead\n",
      "\n",
      "See the caveats in the documentation: https://pandas.pydata.org/pandas-docs/stable/user_guide/indexing.html#returning-a-view-versus-a-copy\n",
      "  This is separate from the ipykernel package so we can avoid doing imports until\n",
      "ProConClient:  46%|████▌     | 1000/2172 [00:11<00:13, 88.50it/s]\n",
      "ProConClient: 100%|██████████| 2172/2172 [00:29<00:00, 64.62it/s]\u001b[A/usr/local/lib/python3.6/dist-packages/ipykernel_launcher.py:4: SettingWithCopyWarning: \n",
      "A value is trying to be set on a copy of a slice from a DataFrame.\n",
      "Try using .loc[row_indexer,col_indexer] = value instead\n",
      "\n",
      "See the caveats in the documentation: https://pandas.pydata.org/pandas-docs/stable/user_guide/indexing.html#returning-a-view-versus-a-copy\n",
      "  after removing the cwd from sys.path.\n",
      "ProConClient: 100%|██████████| 2172/2172 [00:29<00:00, 74.60it/s]\n",
      "ProConClient: 100%|██████████| 2172/2172 [00:30<00:00, 65.33it/s]/usr/local/lib/python3.6/dist-packages/ipykernel_launcher.py:5: SettingWithCopyWarning: \n",
      "A value is trying to be set on a copy of a slice from a DataFrame.\n",
      "Try using .loc[row_indexer,col_indexer] = value instead\n",
      "\n",
      "See the caveats in the documentation: https://pandas.pydata.org/pandas-docs/stable/user_guide/indexing.html#returning-a-view-versus-a-copy\n",
      "  \"\"\"\n",
      "ProConClient: 100%|██████████| 2172/2172 [00:30<00:00, 72.05it/s]\n",
      "ProConClient: 100%|██████████| 2172/2172 [00:31<00:00, 69.04it/s]/usr/local/lib/python3.6/dist-packages/ipykernel_launcher.py:6: SettingWithCopyWarning: \n",
      "A value is trying to be set on a copy of a slice from a DataFrame.\n",
      "Try using .loc[row_indexer,col_indexer] = value instead\n",
      "\n",
      "See the caveats in the documentation: https://pandas.pydata.org/pandas-docs/stable/user_guide/indexing.html#returning-a-view-versus-a-copy\n",
      "  \n"
     ]
    }
   ],
   "source": [
    "#compute the stance of the generated counters towards the conclusion target\n",
    "filtered_reddit_pred_df['masked_conc_stances'] = get_stances(filtered_reddit_pred_df.conclusion_target.tolist(), filtered_reddit_pred_df.masked_conc_attacks.tolist())\n",
    "filtered_reddit_pred_df['known_conc_stances']  = get_stances(filtered_reddit_pred_df.conclusion_target.tolist(), filtered_reddit_pred_df.known_conc_attacks.tolist())\n",
    "filtered_reddit_pred_df['bart_conc_stances']   = get_stances(filtered_reddit_pred_df.conclusion_target.tolist(), filtered_reddit_pred_df.bart_conc_attacks.tolist())\n",
    "filtered_reddit_pred_df['pred_conc_stances']  = get_stances(filtered_reddit_pred_df.conclusion_target.tolist(), filtered_reddit_pred_df.joint_conc_baseline_attacks.tolist())\n",
    "filtered_reddit_pred_df['joint_conc_stances']  = get_stances(filtered_reddit_pred_df.conclusion_target.tolist(), filtered_reddit_pred_df.joint_conc_attacks.tolist())"
   ]
  },
  {
   "cell_type": "code",
   "execution_count": 36,
   "metadata": {},
   "outputs": [],
   "source": [
    "#compute the distance between the conclusion stance and the attack stance: the bigger the distance the better...\n",
    "masked_conc_stance_score1 = round(np.mean([abs(x[0] - x[1]) for x in zip(filtered_reddit_pred_df.masked_conc_stances.tolist(), filtered_reddit_pred_df.conclusion_stance.tolist())]), 2)\n",
    "known_conc_stance_score1 = round(np.mean([abs(x[0] - x[1]) for x in zip(filtered_reddit_pred_df.known_conc_stances.tolist(), filtered_reddit_pred_df.conclusion_stance.tolist())]), 2)\n",
    "bart_conc_stance_score1 = round(np.mean([abs(x[0] - x[1]) for x in zip(filtered_reddit_pred_df.bart_conc_stances.tolist(), filtered_reddit_pred_df.conclusion_stance.tolist())]), 2)\n",
    "pred_conc_stance_score1 = round(np.mean([abs(x[0] - x[1]) for x in zip(filtered_reddit_pred_df.pred_conc_stances.tolist(), filtered_reddit_pred_df.conclusion_stance.tolist())]), 2)\n",
    "joint_conc_stance_score1 = round(np.mean([abs(x[0] - x[1]) for x in zip(filtered_reddit_pred_df.joint_conc_stances.tolist(), filtered_reddit_pred_df.conclusion_stance.tolist())]), 2)\n",
    "\n",
    "#check if the two stances are contradicotry\n",
    "masked_conc_stance_score2 = round(sum([int(x[0] * x[1] < 0) for x in zip(filtered_reddit_pred_df.masked_conc_stances.tolist(), filtered_reddit_pred_df.conclusion_stance.tolist())])/len(filtered_reddit_pred_df), 2)\n",
    "known_conc_stance_score2  = round(sum([int(x[0] * x[1] < 0) for x in zip(filtered_reddit_pred_df.known_conc_stances.tolist(), filtered_reddit_pred_df.conclusion_stance.tolist())])/len(filtered_reddit_pred_df), 2)\n",
    "bart_conc_stance_score2   = round(sum([int(x[0] * x[1] < 0) for x in zip(filtered_reddit_pred_df.bart_conc_stances.tolist(), filtered_reddit_pred_df.conclusion_stance.tolist())])/len(filtered_reddit_pred_df), 2)\n",
    "pred_conc_stance_score2  = round(sum([int(x[0] * x[1] < 0) for x in zip(filtered_reddit_pred_df.pred_conc_stances.tolist(), filtered_reddit_pred_df.conclusion_stance.tolist())])/len(filtered_reddit_pred_df), 2)\n",
    "joint_conc_stance_score2  = round(sum([int(x[0] * x[1] < 0) for x in zip(filtered_reddit_pred_df.joint_conc_stances.tolist(), filtered_reddit_pred_df.conclusion_stance.tolist())])/len(filtered_reddit_pred_df), 2)"
   ]
  },
  {
   "cell_type": "code",
   "execution_count": 25,
   "metadata": {},
   "outputs": [
    {
     "name": "stdout",
     "output_type": "stream",
     "text": [
      "                               bleu    bert-f1score    stance-score (diff)    stance-score (agreement)\n",
      "---------------------------  ------  --------------  ---------------------  --------------------------\n",
      "Masked Conclusion              0.13            0.11                   0.85                        0.55\n",
      "BART Conclusion                0.13            0.12                   0.84                        0.54\n",
      "Joint Prediction (baseline)    0.15            0.15                   0.78                        0.54\n",
      "Joint Prediction               0.12            0.09                   0.78                        0.54\n",
      "Known Conclusion               0.14            0.13                   0.87                        0.55\n"
     ]
    }
   ],
   "source": [
    "from tabulate import tabulate\n",
    "\n",
    "print(tabulate([['Masked Conclusion'] + [round(masked_conc_eval['bleu'], 2), masked_conc_eval['bert-fscore'], masked_conc_stance_score1, masked_conc_stance_score2],\n",
    "                ['BART Conclusion'] + [round(bart_conc_eval['bleu'], 2), bart_conc_eval['bert-fscore'], bart_conc_stance_score1, bart_conc_stance_score2],\n",
    "                ['Joint Prediction (baseline)'] + [round(pred_conc_eval['bleu'], 2), pred_conc_eval['bert-fscore'], joint_conc_stance_score1, joint_conc_stance_score2],\n",
    "                ['Joint Prediction'] + [round(joint_conc_eval['bleu'], 2), joint_conc_eval['bert-fscore'], joint_conc_stance_score1, joint_conc_stance_score2],\n",
    "                ['Known Conclusion'] + [round(known_conc_eval['bleu'], 2), known_conc_eval['bert-fscore'], known_conc_stance_score1, known_conc_stance_score2],\n",
    "    ], headers=['bleu', 'bert-f1score', 'stance-score (diff)', 'stance-score (agreement)']))"
   ]
  },
  {
   "cell_type": "markdown",
   "metadata": {},
   "source": [
    "##### Similarity to conclusion:"
   ]
  },
  {
   "cell_type": "code",
   "execution_count": 15,
   "metadata": {},
   "outputs": [],
   "source": [
    "masked_conc_eval = evaluate_gen_attacks(reddit_pred_df['conclusion'], reddit_pred_df['masked_conc_attacks'].tolist())\n",
    "known_conc_eval  = evaluate_gen_attacks(reddit_pred_df['conclusion'], reddit_pred_df['known_conc_attacks'].tolist())\n",
    "#auto_conc_eval   = evaluate_gen_attacks(reddit_pred_df['conclusion'], reddit_pred_df['auto_conc_attacks'].tolist())\n",
    "pred_conc_eval   = evaluate_gen_attacks(reddit_pred_df['conclusion'], reddit_pred_df['pred_conc_attacks'].tolist())\n",
    "gt_attack_conc_eval = evaluate_gen_attacks(reddit_pred_df['conclusion'], reddit_pred_df['gt'].tolist())"
   ]
  },
  {
   "cell_type": "code",
   "execution_count": 17,
   "metadata": {},
   "outputs": [
    {
     "name": "stdout",
     "output_type": "stream",
     "text": [
      "             bleu    bert-f1score\n",
      "---------  ------  --------------\n",
      "masked       0               0.16\n",
      "pred         0.01            0.18\n",
      "known        0.03            0.33\n",
      "gt_attack    0              -0.03\n"
     ]
    }
   ],
   "source": [
    "from tabulate import tabulate\n",
    "\n",
    "print(tabulate([['masked'] + [round(masked_conc_eval['bleu'], 2), masked_conc_eval['bert-fscore']],\n",
    "                #['auto'] + list(auto_conc_eval.values()),\n",
    "                ['pred'] + [round(pred_conc_eval['bleu'], 2), pred_conc_eval['bert-fscore']],\n",
    "                ['known'] + [round(known_conc_eval['bleu'], 2), known_conc_eval['bert-fscore']],\n",
    "                ['gt_attack'] + [round(gt_attack_conc_eval['bleu'], 2), gt_attack_conc_eval['bert-fscore']]\n",
    "    ], headers=['bleu', 'bert-f1score']))"
   ]
  },
  {
   "cell_type": "code",
   "execution_count": null,
   "metadata": {},
   "outputs": [],
   "source": []
  }
 ],
 "metadata": {
  "kernelspec": {
   "display_name": "Python 3",
   "language": "python",
   "name": "python3"
  },
  "language_info": {
   "codemirror_mode": {
    "name": "ipython",
    "version": 3
   },
   "file_extension": ".py",
   "mimetype": "text/x-python",
   "name": "python",
   "nbconvert_exporter": "python",
   "pygments_lexer": "ipython3",
   "version": "3.6.9"
  }
 },
 "nbformat": 4,
 "nbformat_minor": 4
}
