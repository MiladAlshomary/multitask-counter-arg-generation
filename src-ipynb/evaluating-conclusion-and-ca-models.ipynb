{
 "cells": [
  {
   "cell_type": "code",
   "execution_count": 1,
   "metadata": {},
   "outputs": [],
   "source": [
    "%load_ext autoreload"
   ]
  },
  {
   "cell_type": "code",
   "execution_count": 2,
   "metadata": {},
   "outputs": [],
   "source": [
    "import os\n",
    "import sys\n",
    "import re\n",
    "from argparse import Namespace\n",
    "\n",
    "sys.path.append('../src-py/')"
   ]
  },
  {
   "cell_type": "code",
   "execution_count": 3,
   "metadata": {},
   "outputs": [],
   "source": [
    "%autoreload\n",
    "\n",
    "from utils import *\n",
    "from project_debater_api import *"
   ]
  },
  {
   "cell_type": "code",
   "execution_count": 4,
   "metadata": {},
   "outputs": [],
   "source": [
    "import torch\n",
    "import json\n",
    "\n",
    "import nltk\n",
    "import numpy as np\n",
    "import pandas as pd\n",
    "\n",
    "from pathlib import Path\n",
    "from datasets import load_dataset, load_metric, Dataset\n",
    "\n",
    "from transformers import AutoModelForSeq2SeqLM, DataCollatorForSeq2Seq, Seq2SeqTrainingArguments, Seq2SeqTrainer\n",
    "from transformers import BartTokenizer, BartForConditionalGeneration"
   ]
  },
  {
   "cell_type": "code",
   "execution_count": 5,
   "metadata": {},
   "outputs": [],
   "source": [
    "import pandas as pd\n",
    "pd.set_option('display.max_colwidth', None)"
   ]
  },
  {
   "cell_type": "code",
   "execution_count": 6,
   "metadata": {},
   "outputs": [],
   "source": [
    "device = torch.device('cuda') if torch.cuda.is_available() else torch.device('cpu')"
   ]
  },
  {
   "cell_type": "code",
   "execution_count": 7,
   "metadata": {},
   "outputs": [],
   "source": [
    "ceph_dir = '/home/sile2804/data-ceph/arguana/arg-generation/multi-taks-counter-argument-generation'\n",
    "local_home_dir = '../data'"
   ]
  },
  {
   "cell_type": "code",
   "execution_count": 8,
   "metadata": {},
   "outputs": [],
   "source": [
    "#Evalute ROUGE scores\n",
    "gen_kwargs = {\n",
    "    \"do_sample\": True, \n",
    "    \"max_length\":200,\n",
    "    \"top_p\":0.95, \n",
    "    \"top_k\":50,\n",
    "}\n",
    "\n",
    "def generate_ds_attacks(ds, model, tokenizer, premises_clm, conclusion_clm, gen_kwargs, skip_special_tokens=True, batch_size=8):\n",
    "    ds = ds.map(lambda x :preprocess_function(x, tokenizer, premises_clm, 'counter', conclusion_clm=conclusion_clm), batched=True)\n",
    "    ds.set_format(type='torch', columns=['input_ids', 'attention_mask', 'labels'])\n",
    "    dataloader = torch.utils.data.DataLoader(ds, batch_size=batch_size)\n",
    "    attacks = generate_counters(model, tokenizer, dataloader, gen_kwargs, skip_special_tokens=skip_special_tokens)\n",
    "    \n",
    "    return attacks"
   ]
  },
  {
   "cell_type": "markdown",
   "metadata": {},
   "source": [
    "#### Load Testing data:"
   ]
  },
  {
   "cell_type": "markdown",
   "metadata": {},
   "source": [
    "##### Loading validation data from Reddit:"
   ]
  },
  {
   "cell_type": "code",
   "execution_count": 9,
   "metadata": {},
   "outputs": [],
   "source": [
    "valid_df = pd.read_pickle(ceph_dir + '/reddit_data/conclusion_and_ca_generation/valid_conclusion_comp_remove_75sem_perc_with_targets.pkl')"
   ]
  },
  {
   "cell_type": "code",
   "execution_count": 10,
   "metadata": {},
   "outputs": [],
   "source": [
    "#drop duplicate posts\n",
    "unique_valid_posts = valid_df.drop_duplicates('post_id')"
   ]
  },
  {
   "cell_type": "code",
   "execution_count": 11,
   "metadata": {},
   "outputs": [
    {
     "data": {
      "application/vnd.jupyter.widget-view+json": {
       "model_id": "a19134b3beb4420ea2826fd1b6a2bfbf",
       "version_major": 2,
       "version_minor": 0
      },
      "text/plain": [
       "  0%|          | 0/3 [00:00<?, ?ba/s]"
      ]
     },
     "metadata": {},
     "output_type": "display_data"
    }
   ],
   "source": [
    "valid_ds = Dataset.from_pandas(unique_valid_posts)\n",
    "tmp_ds = valid_ds.train_test_split(0.9)\n",
    "sample_valid_ds = tmp_ds['test']\n",
    "\n",
    "#saving the sample\n",
    "reddit_sample_valid_ds = sample_valid_ds.flatten_indices()\n",
    "reddit_sample_valid_ds.save_to_disk('../data/sample_valid_ds')"
   ]
  },
  {
   "cell_type": "code",
   "execution_count": 13,
   "metadata": {},
   "outputs": [],
   "source": [
    "#loading the random sample of validation dataset with the auto-generated conclusion\n",
    "reddit_sample_valid_ds = Dataset.load_from_disk('../data/sample_valid_ds/')"
   ]
  },
  {
   "cell_type": "markdown",
   "metadata": {},
   "source": [
    "##### Loading validation data from Kialo:"
   ]
  },
  {
   "cell_type": "code",
   "execution_count": 29,
   "metadata": {},
   "outputs": [],
   "source": [
    "valid_ds = Dataset.from_pandas(pd.read_pickle(ceph_dir + '/kialo_data/kialo_valid_df.pkl'))"
   ]
  },
  {
   "cell_type": "code",
   "execution_count": 10,
   "metadata": {},
   "outputs": [
    {
     "data": {
      "application/vnd.jupyter.widget-view+json": {
       "model_id": "6c03a38a10684d2283d2c15593d19fbe",
       "version_major": 2,
       "version_minor": 0
      },
      "text/plain": [
       "  0%|          | 0/3 [00:00<?, ?ba/s]"
      ]
     },
     "metadata": {},
     "output_type": "display_data"
    }
   ],
   "source": [
    "tmp_ds = valid_ds.train_test_split(0.5)\n",
    "sample_valid_ds = tmp_ds['test']\n",
    "\n",
    "#saving the sample\n",
    "sample_valid_ds = sample_valid_ds.flatten_indices()\n",
    "sample_valid_ds.save_to_disk('../data/kialo_sample_valid_ds')"
   ]
  },
  {
   "cell_type": "code",
   "execution_count": 9,
   "metadata": {},
   "outputs": [],
   "source": [
    "sample_valid_ds = Dataset.load_from_disk('../data/kialo_sample_valid_ds')"
   ]
  },
  {
   "cell_type": "markdown",
   "metadata": {},
   "source": [
    "### Evaluating on Kialo:"
   ]
  },
  {
   "cell_type": "code",
   "execution_count": null,
   "metadata": {},
   "outputs": [],
   "source": [
    "#KIALO models\n",
    "masked_conclusion_kialo_model = BartForConditionalGeneration.from_pretrained(local_home_dir + '/output/masked-conclusion-kialo-model/').to(device)\n",
    "masked_conclusion_kialo_tokenizer = BartTokenizer.from_pretrained(local_home_dir + '/output/masked-conclusion-kialo-model/')\n",
    "known_conclusion_kialo_model = BartForConditionalGeneration.from_pretrained(local_home_dir + '/output/known-conclusion-kialo-model/').to(device)\n",
    "known_conclusion_kialo_tokenizer = BartTokenizer.from_pretrained(local_home_dir + '/output/known-conclusion-kialo-model/')\n",
    "\n",
    "#masked_conclusion_kialo_model = BartForConditionalGeneration.from_pretrained(local_home_dir + '/output/masked-conclusion-kialo-unique-model/').to(device)\n",
    "#known_conclusion_kialo_model = BartForConditionalGeneration.from_pretrained(local_home_dir + '/output/known-conclusion-kialo-unique-model/').to(device)"
   ]
  },
  {
   "cell_type": "code",
   "execution_count": 11,
   "metadata": {},
   "outputs": [
    {
     "data": {
      "application/vnd.jupyter.widget-view+json": {
       "model_id": "b66d28b388f7461c9e099af8505ba55c",
       "version_major": 2,
       "version_minor": 0
      },
      "text/plain": [
       "  0%|          | 0/3 [00:00<?, ?ba/s]"
      ]
     },
     "metadata": {},
     "output_type": "display_data"
    },
    {
     "name": "stderr",
     "output_type": "stream",
     "text": [
      "/usr/local/lib/python3.6/dist-packages/torch/_tensor.py:575: UserWarning: floor_divide is deprecated, and will be removed in a future version of pytorch. It currently rounds toward 0 (like the 'trunc' function NOT 'floor'). This results in incorrect rounding for negative values.\n",
      "To keep the current behavior, use torch.div(a, b, rounding_mode='trunc'), or for actual floor division, use torch.div(a, b, rounding_mode='floor'). (Triggered internally at  /pytorch/aten/src/ATen/native/BinaryOps.cpp:467.)\n",
      "  return torch.floor_divide(self, other)\n"
     ]
    },
    {
     "data": {
      "application/vnd.jupyter.widget-view+json": {
       "model_id": "d91be7cbf01341479ee42193c2e49d5c",
       "version_major": 2,
       "version_minor": 0
      },
      "text/plain": [
       "  0%|          | 0/3 [00:00<?, ?ba/s]"
      ]
     },
     "metadata": {},
     "output_type": "display_data"
    }
   ],
   "source": [
    "known_conc_attacks = generate_ds_attacks(sample_valid_ds, known_conclusion_kialo_model, known_conclusion_kialo_tokenizer, 'premises', 'conclusion_text', gen_kwargs)\n",
    "masked_conc_attacks = generate_ds_attacks(sample_valid_ds, masked_conclusion_kialo_model, masked_conclusion_kialo_tokenizer, 'premises', None, gen_kwargs)\n",
    "#auto_conc_attacks = generate_ds_attacks(sample_valid_ds, known_conclusion_model, tokenizer, 'masked_premises', 'auto_conclusion', gen_kwargs)"
   ]
  },
  {
   "cell_type": "code",
   "execution_count": 12,
   "metadata": {},
   "outputs": [],
   "source": [
    "kialo_pred_df = pd.DataFrame(list(zip(sample_valid_ds['conclusion_text'], sample_valid_ds['premises'], \n",
    "                                   sample_valid_ds['counter'], known_conc_attacks, masked_conc_attacks)), \n",
    "                      columns=['conclusion', 'premises', 'gt', 'known_conc_attacks', 'masked_conc_attacks'])\n",
    "\n",
    "kialo_pred_df['argument'] = kialo_pred_df.apply(lambda row: row['conclusion'] + ' : ' + ' '.join(row['premises']), axis=1)\n",
    "kialo_pred_df['premises'] = kialo_pred_df['premises'].apply(lambda x: ' '.join(x))"
   ]
  },
  {
   "cell_type": "code",
   "execution_count": 13,
   "metadata": {
    "scrolled": true,
    "tags": []
   },
   "outputs": [
    {
     "data": {
      "text/html": [
       "<div>\n",
       "<style scoped>\n",
       "    .dataframe tbody tr th:only-of-type {\n",
       "        vertical-align: middle;\n",
       "    }\n",
       "\n",
       "    .dataframe tbody tr th {\n",
       "        vertical-align: top;\n",
       "    }\n",
       "\n",
       "    .dataframe thead th {\n",
       "        text-align: right;\n",
       "    }\n",
       "</style>\n",
       "<table border=\"1\" class=\"dataframe\">\n",
       "  <thead>\n",
       "    <tr style=\"text-align: right;\">\n",
       "      <th></th>\n",
       "      <th>argument</th>\n",
       "      <th>gt</th>\n",
       "      <th>known_conc_attacks</th>\n",
       "      <th>masked_conc_attacks</th>\n",
       "    </tr>\n",
       "  </thead>\n",
       "  <tbody>\n",
       "    <tr>\n",
       "      <th>404</th>\n",
       "      <td>In some German states it is forbidden to host dance events and concerts on certain holidays. : This leads to a decrease in happiness and leisure activities for non-Christians. These bans have existed in Germany since at least the early 20th century Dance events and concerts contribute to the economy as food and beverages are generally consumed in large quantities, and tickets normally being required for attendance.</td>\n",
       "      <td>The German dance scene is similar to dance scenes in other countries where it is allowed to host dance events on Easter. Thus, no major economic effect is visible.</td>\n",
       "      <td>Some German states have banned cultural events and concerts on certain holidays, such as Christmas Eve and New Year's Eve.</td>\n",
       "      <td>Dance events and concerts contribute to the economy as food and beverages are generally consumed in large quantities, and tickets normally being required for attendance.</td>\n",
       "    </tr>\n",
       "    <tr>\n",
       "      <th>4</th>\n",
       "      <td>When one person is having sex only to get paid, that sex is not fully consensual and so should not be allowed or encouraged. : The sex industry is often a means of providing for oneself or a family when all other options have been exhausted. Choice is always contingent on circumstances; the most free choices are made when all options are equally viable. For sex workers, choosing not to have sex is not a viable choice because it directly undermines their livelihood. When many sex workers have a history of abuse, you cannot assume that consent can be given. Monetary exchange is an inequitable power dynamic that undermines free choice. We should not permit sexual activity that does not proceed from personal relationships that exist on a level field.</td>\n",
       "      <td>Under this logic, there are a series of jobs that should simply be banished, like mining, for instance: it's something miners are doing only to get paid, so taking action on the job is not fully consensual, and would thus configure slavery, and should not be allowed or encouraged.\\nThe same could be said of countless jobs.</td>\n",
       "      <td>The sex industry is often a means of providing for oneself or a family when all other options have been exhausted. Choice is always contingent on circumstances; the most free choices are made when all options are equally viable. For sex workers, choosing not to have sex is not a viable choice because it directly undermines their livelihood.</td>\n",
       "      <td>The sex industry is often a means of providing for oneself or a family when all other options have been exhausted. Choice is always contingent on circumstances; the most free choices are made when all options are equally viable. For sex workers, choosing not to have sex is not a viable choice because it directly undermines their livelihood. When many sex workers have a history of abuse, you cannot assume that consent can be given. Monetary exchange is an inequitable power dynamic that undermines free choice.</td>\n",
       "    </tr>\n",
       "    <tr>\n",
       "      <th>615</th>\n",
       "      <td>Judge by Intent : Friends gained in by judging their intent will want to be better with you Intention allows for failure in action that may not always be possible; if a friend truly cares for you, their sentiment is more important than their mistakes. The action is observable, so the judging actually occurs when we examine intent. Intent is hard to establish, because we rely on asking the offender to explain why they did what they did. We use clues, such as intonation of voice, expression of face, choice that led to action, previous actions etc, to determine the motivation and to judge the character and intent. The action is observable and a fact of occurence, not needing judgement.</td>\n",
       "      <td>Friends gained by intent may fail at certain actions causing complications to both lives</td>\n",
       "      <td>Intention is hard to establish, because we rely on asking the offender to explain why they did what they did. We use clues, such as intonation of voice, expression of face, choice that led to action, previous actions etc, to determine the motivation and to judge the character and intent. The action is observable and a fact of occurence, not needing judgement.</td>\n",
       "      <td>The intent is hard to establish, because we rely on asking the offender to explain why they did what they did. We use clues, such as intonation of voice, expression of face, choice that led to action, previous actions etc, to determine the motivation and to judge the character and intent. The action is observable and a fact of occurence, not needing judgement.</td>\n",
       "    </tr>\n",
       "    <tr>\n",
       "      <th>947</th>\n",
       "      <td>Der Verfassungsschutz sollte die AfD beobachten : Die AfD steht in Verbindung mit rechtsextremen und völkischen Gruppierungen. Einige AfD-Politiker bedienen sich auffälliger Nazi-Rethorik. Führende AfD-Spitzenpolitiker stehen trotz Unvereinbarkeitsbeschluss der rechtsextremen NPD nahe. zeit.de Teilorganisationen der AfD wurden vom Bundesverfassungsschutz bereits zum Verdachtsfall \\(Rechtsextremismus\\) erhoben. Zu einer Gedenkfeier für Opfer des Holocausts trug im Berliner Senat der AfD-Politiker Andreas Wild eine blaue Kornblume. Diese galt Nazis in Deutschland und Österreich von 1933 bis 1938 als Erkennungszeichen. Der Verfassungsschutz bewertet diese Blume auch heute noch als solches. rbb24.de</td>\n",
       "      <td>Eine Beobachtung durch das BfV spielt der AfD in die Karten.</td>\n",
       "      <td>Der Verfassungsschutz sollte die AfD beobachten. rbb24.de Teilorganisationen der AfD wurden bereits zum Verdachtsfall \\(Rechtsextremismus\\) erhoben.</td>\n",
       "      <td>Die AfD-Politiker können auf einer Gedenkfeier für Opfer des Holocausts trug auffälliger Nazi-Rethorik. rbb24.de</td>\n",
       "    </tr>\n",
       "    <tr>\n",
       "      <th>1963</th>\n",
       "      <td>Mariology , which is part of Jesus' story, prescribes the role of women in society and therewith makes emancipation more difficult. : The Bible's depiction of a virginal, revered yet subservient, Mary was an unconscious source for the continued oppression of women. The Catholic Church discriminates against women. Mary provided Catholic women an impossible ideal to which no woman could attain, with whom all women are invited to feel inadequate. Mary's chief qualification for exaltation is maternity. Even for Mary, biology is destiny. Mary serves as a function of female chastity</td>\n",
       "      <td>Love and reverence for Mary serve to further the well-being of women.</td>\n",
       "      <td>The Catholic Church discriminates against women. Mary provided Catholic women an impossible ideal to which no woman could attain, with whom all women are invited to feel inadequate. Mary's chief qualification for exaltation is maternity. Even for Mary, biology is destiny.</td>\n",
       "      <td>The Catholic Church discriminates against women. Mary provided Catholic women an impossible ideal to which no woman could attain, with whom all women are invited to feel inadequate. Mary's chief qualification for exaltation is maternity. Even for Mary, biology is destiny.</td>\n",
       "    </tr>\n",
       "    <tr>\n",
       "      <th>422</th>\n",
       "      <td>The historicity of the New Testament is questionable therefore so are these claims. : The circumstances of Jesus' birth are especially dubious \\(with references to the Census of Quirinius occurring before the death of Herod, for example, which contradicts the historical record\\). The New Testament contains contradictions. Many aspects of the gospels themselves are unprovable due to a lack of resources. There are no testimonies of any of Jesus' disciples. \"We know almost precisely nothing about what they thought, what they did, and what they came to believe.\" Jesus' genealogy contains multiple contradictions between the Gospel of Luke and the Gospel of Matthew.</td>\n",
       "      <td>There are multiple outside sources that confirm Jesus actually lived. probe.org en.wikipedia.org</td>\n",
       "      <td>The historicity of the New Testament is questionable therefore so are these claims.</td>\n",
       "      <td>The Gospel of Luke contains multiple contradictions.</td>\n",
       "    </tr>\n",
       "    <tr>\n",
       "      <th>1652</th>\n",
       "      <td>The Pope did not challenge the Croat Ustashi government that was prosecuting Jews according to Nazi laws. : It is impossible that the Pope did not know that the Ustashi murders amounted to genocide \\(p.38\\) The Papacy did not distribute the information of opposing Croat Bishop Stepinac to other Bishops across Europe \\(p.47\\) The Pope saw a chance to prevent more Croats turning to Orthodox belief or communism because the fascists supported Catholicism \\(p.32\\) The local Bishop denounced the killing but other Croation bishops did not follow suit. It is the Pope's responsibility to give clear directions \\(p.34\\)</td>\n",
       "      <td>There was little the Pope could do because the situation was very chaotic after the invasion of the Axis and the proclamation of an independent Croatia.</td>\n",
       "      <td>The Pope did not challenge the Ustashi government.</td>\n",
       "      <td>The Pope did not distribute the information of opposing Croat Bishop Stepinac to other Bishops across Europe \\(p.47\\)</td>\n",
       "    </tr>\n",
       "    <tr>\n",
       "      <th>1545</th>\n",
       "      <td>Legalising sex work will reduce stigmas surrounding sex and sexuality. : Legalization allows sex workers to better reshape interpretations of sex and sexuality in society. Legalising sex work reduces the stigmatization of sexually active women. Legalization will stop the punitive laws against prostitution that create double standards of sexual morality that result in stigmatizing not just prostitutes, but many unconventional women, as sluts or whores. With legalization, prostitution is allowed to function in a social climate freed from emotional prejudices. This is seen as major obstacle to socially sound prostitution \\(Ericsson, p. 365 Sex worker support organizations can freely inform the general public about life and problems in the sex industry.</td>\n",
       "      <td>Sex workers' rights must be legally established in addition to the legalization of prostitution to counter the stigmatisation of sex and sexuality.</td>\n",
       "      <td>Sex workers are unlikely to be able to change the stigma surrounding sex and sexuality.</td>\n",
       "      <td>Legalizing sex work will reduce the stigmatization of sexually active women. Legalization will stop the punitive laws against prostitution that create double standards of sexual morality that result in stigmatizing not just prostitutes, but many unconventional women, as sluts or whores.</td>\n",
       "    </tr>\n",
       "    <tr>\n",
       "      <th>5</th>\n",
       "      <td>Sex work is often part of business deals. This puts businesswomen at a disadvantage as they presumably find it more difficult to participate together with their male colleagues. : Bankers often offer sex workers to their clients. In South Korea business is sometimes done in brothels and karaoke bars where sex workers join to provide entertainment. Sex work is a widespread feature in deal-making in China The cases of Dominique Strauss-Kahn or Goldman Sachs illustrates how sex workers are often used in business deals.</td>\n",
       "      <td>These are usually not cases of conducting business in brothels, but of access to sex workers being used as incentives in business deals. This may not be particularly inclusive of women, but also does not exclude them from business in any obvious way.</td>\n",
       "      <td>Businesswomen are likely to find it difficult to participate together with their male colleagues.</td>\n",
       "      <td>Sex work is a widespread feature in deal-making in China The cases of Dominique Strauss-Kahn or Goldman Sachs illustrates how sex workers are often used in business deals.</td>\n",
       "    </tr>\n",
       "    <tr>\n",
       "      <th>1471</th>\n",
       "      <td>As a sovereign state under international law, North Korea has every right to develop and defend itself with nuclear weapons. : North Korea has only embraced a nuclear program because of a need to protect themselves from aggressive US imperialism. History gives justification for North Korea to still be wary of foreign powers, including the US. As an individual country the US is in no position to \"force\" other sovereign states to do anything. International security is the responsibility of international organisations. Unilateral action and interventionism undermine the development of international law North Korea is not a signatory of the Nuclear Non-Proliferation Treaty \\(NPT\\) which would prohibit it from developing and/or acquiring nuclear weapons. As the Korean War was never ended through a peace treaty \\(but only through an armistice\\), North Korea is right to consider itself still at war with South Korea and the US. It is only natural that it strives to protect itself.</td>\n",
       "      <td>In the case of North Korea, other considerations should outweigh its rights as a sovereign state under national law.</td>\n",
       "      <td>North Korea is not a sovereign state under international law, as the Korean War was never ended through a peace treaty \\(but only through an armistice\\), North Korea is right to consider itself still at war with South Korea and the US. It is only natural that it strives to protect itself.</td>\n",
       "      <td>The United States is not a signatory to the Nuclear Non-Proliferation Treaty \\(NPT\\) which would prohibit it from developing and/or acquiring nuclear weapons. As the Korean War was never ended through a peace treaty \\(but only through an armistice\\), North Korea is right to consider itself still at war with South Korea and the US. It is only natural that it strives to protect itself.</td>\n",
       "    </tr>\n",
       "  </tbody>\n",
       "</table>\n",
       "</div>"
      ],
      "text/plain": [
       "                                                                                                                                                                                                                                                                                                                                                                                                                                                                                                                                                                                                                                                                                                                                                                                                                                                                                                                                                                                                                         argument  \\\n",
       "404                                                                                                                                                                                                                                                                                                                                                                                                                                                                                                                                                                                            In some German states it is forbidden to host dance events and concerts on certain holidays. : This leads to a decrease in happiness and leisure activities for non-Christians. These bans have existed in Germany since at least the early 20th century Dance events and concerts contribute to the economy as food and beverages are generally consumed in large quantities, and tickets normally being required for attendance.   \n",
       "4                                                                                                                                                                                                                                            When one person is having sex only to get paid, that sex is not fully consensual and so should not be allowed or encouraged. : The sex industry is often a means of providing for oneself or a family when all other options have been exhausted. Choice is always contingent on circumstances; the most free choices are made when all options are equally viable. For sex workers, choosing not to have sex is not a viable choice because it directly undermines their livelihood. When many sex workers have a history of abuse, you cannot assume that consent can be given. Monetary exchange is an inequitable power dynamic that undermines free choice. We should not permit sexual activity that does not proceed from personal relationships that exist on a level field.   \n",
       "615                                                                                                                                                                                                                                                                                                           Judge by Intent : Friends gained in by judging their intent will want to be better with you Intention allows for failure in action that may not always be possible; if a friend truly cares for you, their sentiment is more important than their mistakes. The action is observable, so the judging actually occurs when we examine intent. Intent is hard to establish, because we rely on asking the offender to explain why they did what they did. We use clues, such as intonation of voice, expression of face, choice that led to action, previous actions etc, to determine the motivation and to judge the character and intent. The action is observable and a fact of occurence, not needing judgement.   \n",
       "947                                                                                                                                                                                                                                                                                              Der Verfassungsschutz sollte die AfD beobachten : Die AfD steht in Verbindung mit rechtsextremen und völkischen Gruppierungen. Einige AfD-Politiker bedienen sich auffälliger Nazi-Rethorik. Führende AfD-Spitzenpolitiker stehen trotz Unvereinbarkeitsbeschluss der rechtsextremen NPD nahe. zeit.de Teilorganisationen der AfD wurden vom Bundesverfassungsschutz bereits zum Verdachtsfall \\(Rechtsextremismus\\) erhoben. Zu einer Gedenkfeier für Opfer des Holocausts trug im Berliner Senat der AfD-Politiker Andreas Wild eine blaue Kornblume. Diese galt Nazis in Deutschland und Österreich von 1933 bis 1938 als Erkennungszeichen. Der Verfassungsschutz bewertet diese Blume auch heute noch als solches. rbb24.de   \n",
       "1963                                                                                                                                                                                                                                                                                                                                                                                                                      Mariology , which is part of Jesus' story, prescribes the role of women in society and therewith makes emancipation more difficult. : The Bible's depiction of a virginal, revered yet subservient, Mary was an unconscious source for the continued oppression of women. The Catholic Church discriminates against women. Mary provided Catholic women an impossible ideal to which no woman could attain, with whom all women are invited to feel inadequate. Mary's chief qualification for exaltation is maternity. Even for Mary, biology is destiny. Mary serves as a function of female chastity   \n",
       "422                                                                                                                                                                                                                                                                                                                                  The historicity of the New Testament is questionable therefore so are these claims. : The circumstances of Jesus' birth are especially dubious \\(with references to the Census of Quirinius occurring before the death of Herod, for example, which contradicts the historical record\\). The New Testament contains contradictions. Many aspects of the gospels themselves are unprovable due to a lack of resources. There are no testimonies of any of Jesus' disciples. \"We know almost precisely nothing about what they thought, what they did, and what they came to believe.\" Jesus' genealogy contains multiple contradictions between the Gospel of Luke and the Gospel of Matthew.   \n",
       "1652                                                                                                                                                                                                                                                                                                                                                                                     The Pope did not challenge the Croat Ustashi government that was prosecuting Jews according to Nazi laws. : It is impossible that the Pope did not know that the Ustashi murders amounted to genocide \\(p.38\\) The Papacy did not distribute the information of opposing Croat Bishop Stepinac to other Bishops across Europe \\(p.47\\) The Pope saw a chance to prevent more Croats turning to Orthodox belief or communism because the fascists supported Catholicism \\(p.32\\) The local Bishop denounced the killing but other Croation bishops did not follow suit. It is the Pope's responsibility to give clear directions \\(p.34\\)   \n",
       "1545                                                                                                                                                                                                                                      Legalising sex work will reduce stigmas surrounding sex and sexuality. : Legalization allows sex workers to better reshape interpretations of sex and sexuality in society. Legalising sex work reduces the stigmatization of sexually active women. Legalization will stop the punitive laws against prostitution that create double standards of sexual morality that result in stigmatizing not just prostitutes, but many unconventional women, as sluts or whores. With legalization, prostitution is allowed to function in a social climate freed from emotional prejudices. This is seen as major obstacle to socially sound prostitution \\(Ericsson, p. 365 Sex worker support organizations can freely inform the general public about life and problems in the sex industry.   \n",
       "5                                                                                                                                                                                                                                                                                                                                                                                                                                                                                       Sex work is often part of business deals. This puts businesswomen at a disadvantage as they presumably find it more difficult to participate together with their male colleagues. : Bankers often offer sex workers to their clients. In South Korea business is sometimes done in brothels and karaoke bars where sex workers join to provide entertainment. Sex work is a widespread feature in deal-making in China The cases of Dominique Strauss-Kahn or Goldman Sachs illustrates how sex workers are often used in business deals.   \n",
       "1471  As a sovereign state under international law, North Korea has every right to develop and defend itself with nuclear weapons. : North Korea has only embraced a nuclear program because of a need to protect themselves from aggressive US imperialism. History gives justification for North Korea to still be wary of foreign powers, including the US. As an individual country the US is in no position to \"force\" other sovereign states to do anything. International security is the responsibility of international organisations. Unilateral action and interventionism undermine the development of international law North Korea is not a signatory of the Nuclear Non-Proliferation Treaty \\(NPT\\) which would prohibit it from developing and/or acquiring nuclear weapons. As the Korean War was never ended through a peace treaty \\(but only through an armistice\\), North Korea is right to consider itself still at war with South Korea and the US. It is only natural that it strives to protect itself.   \n",
       "\n",
       "                                                                                                                                                                                                                                                                                                                                        gt  \\\n",
       "404                                                                                                                                                                    The German dance scene is similar to dance scenes in other countries where it is allowed to host dance events on Easter. Thus, no major economic effect is visible.   \n",
       "4     Under this logic, there are a series of jobs that should simply be banished, like mining, for instance: it's something miners are doing only to get paid, so taking action on the job is not fully consensual, and would thus configure slavery, and should not be allowed or encouraged.\\nThe same could be said of countless jobs.   \n",
       "615                                                                                                                                                                                                                                               Friends gained by intent may fail at certain actions causing complications to both lives   \n",
       "947                                                                                                                                                                                                                                                                           Eine Beobachtung durch das BfV spielt der AfD in die Karten.   \n",
       "1963                                                                                                                                                                                                                                                                 Love and reverence for Mary serve to further the well-being of women.   \n",
       "422                                                                                                                                                                                                                                       There are multiple outside sources that confirm Jesus actually lived. probe.org en.wikipedia.org   \n",
       "1652                                                                                                                                                                              There was little the Pope could do because the situation was very chaotic after the invasion of the Axis and the proclamation of an independent Croatia.   \n",
       "1545                                                                                                                                                                                   Sex workers' rights must be legally established in addition to the legalization of prostitution to counter the stigmatisation of sex and sexuality.   \n",
       "5                                                                               These are usually not cases of conducting business in brothels, but of access to sex workers being used as incentives in business deals. This may not be particularly inclusive of women, but also does not exclude them from business in any obvious way.   \n",
       "1471                                                                                                                                                                                                                  In the case of North Korea, other considerations should outweigh its rights as a sovereign state under national law.   \n",
       "\n",
       "                                                                                                                                                                                                                                                                                                                                                             known_conc_attacks  \\\n",
       "404                                                                                                                                                                                                                                                  Some German states have banned cultural events and concerts on certain holidays, such as Christmas Eve and New Year's Eve.   \n",
       "4                        The sex industry is often a means of providing for oneself or a family when all other options have been exhausted. Choice is always contingent on circumstances; the most free choices are made when all options are equally viable. For sex workers, choosing not to have sex is not a viable choice because it directly undermines their livelihood.   \n",
       "615   Intention is hard to establish, because we rely on asking the offender to explain why they did what they did. We use clues, such as intonation of voice, expression of face, choice that led to action, previous actions etc, to determine the motivation and to judge the character and intent. The action is observable and a fact of occurence, not needing judgement.   \n",
       "947                                                                                                                                                                                                                        Der Verfassungsschutz sollte die AfD beobachten. rbb24.de Teilorganisationen der AfD wurden bereits zum Verdachtsfall \\(Rechtsextremismus\\) erhoben.   \n",
       "1963                                                                                           The Catholic Church discriminates against women. Mary provided Catholic women an impossible ideal to which no woman could attain, with whom all women are invited to feel inadequate. Mary's chief qualification for exaltation is maternity. Even for Mary, biology is destiny.   \n",
       "422                                                                                                                                                                                                                                                                                         The historicity of the New Testament is questionable therefore so are these claims.   \n",
       "1652                                                                                                                                                                                                                                                                                                                         The Pope did not challenge the Ustashi government.   \n",
       "1545                                                                                                                                                                                                                                                                                    Sex workers are unlikely to be able to change the stigma surrounding sex and sexuality.   \n",
       "5                                                                                                                                                                                                                                                                             Businesswomen are likely to find it difficult to participate together with their male colleagues.   \n",
       "1471                                                                          North Korea is not a sovereign state under international law, as the Korean War was never ended through a peace treaty \\(but only through an armistice\\), North Korea is right to consider itself still at war with South Korea and the US. It is only natural that it strives to protect itself.   \n",
       "\n",
       "                                                                                                                                                                                                                                                                                                                                                                                                                                                                                                                    masked_conc_attacks  \n",
       "404                                                                                                                                                                                                                                                                                                                                                           Dance events and concerts contribute to the economy as food and beverages are generally consumed in large quantities, and tickets normally being required for attendance.  \n",
       "4     The sex industry is often a means of providing for oneself or a family when all other options have been exhausted. Choice is always contingent on circumstances; the most free choices are made when all options are equally viable. For sex workers, choosing not to have sex is not a viable choice because it directly undermines their livelihood. When many sex workers have a history of abuse, you cannot assume that consent can be given. Monetary exchange is an inequitable power dynamic that undermines free choice.  \n",
       "615                                                                                                                                                          The intent is hard to establish, because we rely on asking the offender to explain why they did what they did. We use clues, such as intonation of voice, expression of face, choice that led to action, previous actions etc, to determine the motivation and to judge the character and intent. The action is observable and a fact of occurence, not needing judgement.  \n",
       "947                                                                                                                                                                                                                                                                                                                                                                                                                    Die AfD-Politiker können auf einer Gedenkfeier für Opfer des Holocausts trug auffälliger Nazi-Rethorik. rbb24.de  \n",
       "1963                                                                                                                                                                                                                                                   The Catholic Church discriminates against women. Mary provided Catholic women an impossible ideal to which no woman could attain, with whom all women are invited to feel inadequate. Mary's chief qualification for exaltation is maternity. Even for Mary, biology is destiny.  \n",
       "422                                                                                                                                                                                                                                                                                                                                                                                                                                                                                The Gospel of Luke contains multiple contradictions.  \n",
       "1652                                                                                                                                                                                                                                                                                                                                                                                                              The Pope did not distribute the information of opposing Croat Bishop Stepinac to other Bishops across Europe \\(p.47\\)  \n",
       "1545                                                                                                                                                                                                                                    Legalizing sex work will reduce the stigmatization of sexually active women. Legalization will stop the punitive laws against prostitution that create double standards of sexual morality that result in stigmatizing not just prostitutes, but many unconventional women, as sluts or whores.  \n",
       "5                                                                                                                                                                                                                                                                                                                                                           Sex work is a widespread feature in deal-making in China The cases of Dominique Strauss-Kahn or Goldman Sachs illustrates how sex workers are often used in business deals.  \n",
       "1471                                                                                                                                 The United States is not a signatory to the Nuclear Non-Proliferation Treaty \\(NPT\\) which would prohibit it from developing and/or acquiring nuclear weapons. As the Korean War was never ended through a peace treaty \\(but only through an armistice\\), North Korea is right to consider itself still at war with South Korea and the US. It is only natural that it strives to protect itself.  "
      ]
     },
     "execution_count": 13,
     "metadata": {},
     "output_type": "execute_result"
    }
   ],
   "source": [
    "kialo_pred_df[['argument', 'gt', 'known_conc_attacks', 'masked_conc_attacks']].sample(10).head(n=10)"
   ]
  },
  {
   "cell_type": "markdown",
   "metadata": {},
   "source": [
    "### Generate predictions on Reddit:"
   ]
  },
  {
   "cell_type": "code",
   "execution_count": 14,
   "metadata": {},
   "outputs": [],
   "source": [
    "# Loading Reddit models\n",
    "\n",
    "#masked_conclusion_tokenizer = BartTokenizer.from_pretrained(local_home_dir + '/output/extended_tokenizer')\n",
    "#masked_conclusion_model = BartForConditionalGeneration.from_pretrained(local_home_dir + '/output/masked-conclusion-bart-model/').to(device)\n",
    "\n",
    "known_conclusion_model = BartForConditionalGeneration.from_pretrained(local_home_dir  + '/output/known-conclusion-bart-model').to(device)\n",
    "known_conclusion_tokenizer = BartTokenizer.from_pretrained(local_home_dir + '/output/extended_tokenizer')\n",
    "\n",
    "pred_conclusion_model = BartForConditionalGeneration.from_pretrained(local_home_dir  + '/output/pred-conclusion-bart-model/').to(device)\n",
    "pred_conclusion_tokenizer = BartTokenizer.from_pretrained(local_home_dir + '/output/pred-conclusion-bart-model/')"
   ]
  },
  {
   "cell_type": "code",
   "execution_count": 15,
   "metadata": {},
   "outputs": [
    {
     "data": {
      "application/vnd.jupyter.widget-view+json": {
       "model_id": "f3502a302fd34aa6bdd7b5439403246e",
       "version_major": 2,
       "version_minor": 0
      },
      "text/plain": [
       "  0%|          | 0/3 [00:00<?, ?ba/s]"
      ]
     },
     "metadata": {},
     "output_type": "display_data"
    },
    {
     "name": "stderr",
     "output_type": "stream",
     "text": [
      "/usr/local/lib/python3.6/dist-packages/torch/_tensor.py:575: UserWarning: floor_divide is deprecated, and will be removed in a future version of pytorch. It currently rounds toward 0 (like the 'trunc' function NOT 'floor'). This results in incorrect rounding for negative values.\n",
      "To keep the current behavior, use torch.div(a, b, rounding_mode='trunc'), or for actual floor division, use torch.div(a, b, rounding_mode='floor'). (Triggered internally at  /pytorch/aten/src/ATen/native/BinaryOps.cpp:467.)\n",
      "  return torch.floor_divide(self, other)\n"
     ]
    },
    {
     "data": {
      "application/vnd.jupyter.widget-view+json": {
       "model_id": "1e3766a3e90e4c179947d37493a55083",
       "version_major": 2,
       "version_minor": 0
      },
      "text/plain": [
       "  0%|          | 0/3 [00:00<?, ?ba/s]"
      ]
     },
     "metadata": {},
     "output_type": "display_data"
    },
    {
     "data": {
      "application/vnd.jupyter.widget-view+json": {
       "model_id": "acf58e9c6ef74febbef3faee88e48789",
       "version_major": 2,
       "version_minor": 0
      },
      "text/plain": [
       "  0%|          | 0/3 [00:00<?, ?ba/s]"
      ]
     },
     "metadata": {},
     "output_type": "display_data"
    },
    {
     "data": {
      "application/vnd.jupyter.widget-view+json": {
       "model_id": "8295a9e71cd9475284f5cb36b8206a68",
       "version_major": 2,
       "version_minor": 0
      },
      "text/plain": [
       "  0%|          | 0/3 [00:00<?, ?ba/s]"
      ]
     },
     "metadata": {},
     "output_type": "display_data"
    }
   ],
   "source": [
    "# Generate attacks for different settings\n",
    "known_conc_attacks  = generate_ds_attacks(reddit_sample_valid_ds, known_conclusion_model, known_conclusion_tokenizer, 'masked_premises', 'title', gen_kwargs)\n",
    "bart_conc_attacks   = generate_ds_attacks(reddit_sample_valid_ds, known_conclusion_model, known_conclusion_tokenizer, 'masked_premises', 'bart_conclusion', gen_kwargs)\n",
    "masked_conc_attacks = generate_ds_attacks(reddit_sample_valid_ds, known_conclusion_model, known_conclusion_tokenizer, 'masked_premises', None, gen_kwargs)\n",
    "#This model would predict the conclusion and then the counter in one sequence.\n",
    "joint_conc_attacks  = generate_ds_attacks(reddit_sample_valid_ds, pred_conclusion_model, pred_conclusion_tokenizer, 'masked_premises', None, gen_kwargs, skip_special_tokens=False)"
   ]
  },
  {
   "cell_type": "code",
   "execution_count": 16,
   "metadata": {},
   "outputs": [],
   "source": [
    "reddit_pred_df = pd.DataFrame(list(zip(\n",
    "                                       reddit_sample_valid_ds['post_id'],\n",
    "                                       reddit_sample_valid_ds['title'], \n",
    "                                       reddit_sample_valid_ds['conclusion_targets'],\n",
    "                                       reddit_sample_valid_ds['conclusion_stance'],\n",
    "                                       reddit_sample_valid_ds['bart_conclusion'], \n",
    "                                       reddit_sample_valid_ds['masked_premises'], \n",
    "                                       reddit_sample_valid_ds['counter'], \n",
    "                                       known_conc_attacks, masked_conc_attacks, \n",
    "                                       bart_conc_attacks, joint_conc_attacks)), \n",
    "                columns=['post_id', 'conclusion', 'conclusion_target', 'conclusion_stance', 'bart_conclusion', 'premises', 'gt_attack', 'known_conc_attacks', \n",
    "                         'masked_conc_attacks', 'bart_conc_attacks', 'joint_conc_attacks'])\n",
    "\n",
    "reddit_pred_df['argument'] = reddit_pred_df.apply(lambda row: row['conclusion'] + ' : ' + ' '.join(row['premises']), axis=1)\n",
    "reddit_pred_df['premises'] = reddit_pred_df['premises'].apply(lambda x: ' '.join(x))\n",
    "\n",
    "#process the jointly generated conclusion and counter\n",
    "reddit_pred_df['joint_conc'] = reddit_pred_df['joint_conc_attacks'].apply (lambda x: x.split('<counter>')[0])\n",
    "reddit_pred_df['joint_conc_attacks'] = reddit_pred_df['joint_conc_attacks'].apply (lambda x: x.split('<counter>')[1] if '<counter>' in x else x)\n",
    "reddit_pred_df['joint_conc'] = reddit_pred_df['joint_conc'].apply (lambda x: re.sub('<s>|</s>|<conclusion>|<counter>|<pad>', '', x).strip())\n",
    "reddit_pred_df['joint_conc_attacks'] = reddit_pred_df['joint_conc_attacks'].apply (lambda x: re.sub('<s>|</s>|<conclusion>|<counter>|<pad>', '', x).strip())\n",
    "\n",
    "#save created pred_df\n",
    "reddit_pred_df.to_pickle('../data/output/reddit_pred_df.pkl')"
   ]
  },
  {
   "cell_type": "code",
   "execution_count": 17,
   "metadata": {
    "scrolled": true,
    "tags": []
   },
   "outputs": [
    {
     "data": {
      "text/html": [
       "<div>\n",
       "<style scoped>\n",
       "    .dataframe tbody tr th:only-of-type {\n",
       "        vertical-align: middle;\n",
       "    }\n",
       "\n",
       "    .dataframe tbody tr th {\n",
       "        vertical-align: top;\n",
       "    }\n",
       "\n",
       "    .dataframe thead th {\n",
       "        text-align: right;\n",
       "    }\n",
       "</style>\n",
       "<table border=\"1\" class=\"dataframe\">\n",
       "  <thead>\n",
       "    <tr style=\"text-align: right;\">\n",
       "      <th></th>\n",
       "      <th>argument</th>\n",
       "      <th>conclusion</th>\n",
       "      <th>joint_conc</th>\n",
       "      <th>masked_conc_attacks</th>\n",
       "      <th>known_conc_attacks</th>\n",
       "      <th>joint_conc_attacks</th>\n",
       "    </tr>\n",
       "  </thead>\n",
       "  <tbody>\n",
       "    <tr>\n",
       "      <th>110</th>\n",
       "      <td>I am in favor of the establishment of quasi-national sports teams for indigenous groups within countries. : below are my two top points in favour the establishment of 'quasi national' sports teams. i look forward to your responses! 1. native american tribes rarely give their consent to have their image and culture used yet teams such as the cleveland indians frequently go ahead and used mascots inspired from indian culture regardless of if it will be deemed offensive or not. however, if quasi national sports teams are formed for indigenous groups they will then be able to reclaim their own culture. this effect, will also likely get those who are in marginalized indigenous groups to feel empowered and consequently cultivate an interest in sports. why is this important? because it would help them stay away from gangs, drugs, and other crime. 2. indigenous people were colonized. they had their own distinct culture and heritage prior to being imperialized. therefore, by giving indigenous people their own sports team they regain some long lost cultural individuality. also, it clearly would be way more fun for an indigenous person to root for a team dedicated specifically designed for them. by analogy, if a british guy is a fan of football he is likely not going to want to root for germany in the world cup if he can root for england instead. why? because germany has it's own distinct culture and history, and brits would rather root for something they relate too, i. e their country and culture.</td>\n",
       "      <td>I am in favor of the establishment of quasi-national sports teams for indigenous groups within countries.</td>\n",
       "      <td>I believe that there should be quasi-national sports teams for indigenous groups.</td>\n",
       "      <td>i don't think there is much of a difference between a 'quasi national' team and a 'national' team.</td>\n",
       "      <td>i don't think it's fair to say that native americans aren't interested in sports teams. it's not like they don't want to be involved in them. they're not interested in being involved in the culture of the native american people. they want to get involved in their country and culture.</td>\n",
       "      <td>i think the biggest problem with this idea is that it's not about the rights of indigenous people, it's about the right of the people to own their own sports team. i think it's important to understand that the idea of a quasi national sports team is a form of cultural appropriation.</td>\n",
       "    </tr>\n",
       "    <tr>\n",
       "      <th>1385</th>\n",
       "      <td>Children ought never to be put on psychiatric medication. : my main argument is this: children, physiologically speaking, have not reached maturity. duh. no one disagrees with this. their brains, bodies, emotions and basically everything about them is not mature. a child can display both acceptable and unacceptable behavior at any given time. when the behavior is deemed unacceptable and persistently so, this is when psychiatrists are called upon. this is bad news for the child. since children have not reached puberty, no less their formative years, their enduring personality along with their body, brain and character have only just begun to develop into what in the future can become a stable, integrated self. studies have shown the potential of stultification of children, stunting their growth after prolonged usage of adhd related drugs. interfering chemically with a brain not yet matured must then be seen as having the potential for tremendous, far reaching negative consequences. the idea i am challenging is believing a child and their bad or aberrant behavior necessarily equates to a brain based biological chemical imbalance and or disease process needing the treatment of a psychiatrist who will administer powerful brain and mind altering psychotropic chemicals to a still developing brain. that psychiatric medications certainly alter brain chemistry in anyone taking them is indisputable. premature psychiatric action upon developing children inherently stifles and impedes the natural course of growth that would otherwise occur had no medication been used. insofar as it is true that psychiatric medications correct no chemical imbalances in the brain and never cure so called mental illness, but rather interfere with natural development, children ought never to be put on psychiatric medication.</td>\n",
       "      <td>Children ought never to be put on psychiatric medication.</td>\n",
       "      <td>Children should not be put on psychiatric medication until they reach puberty.</td>\n",
       "      <td>the problem with your premise is that you are assuming that children have not reached maturity. this is not the case at all. the problem is that there is no evidence to support your claim that a child has not matured. if a child is not mature, they are not going to be able to be a productive member of society. they are going to have to learn to function as a part of society, and if they don't they will be unable to function in society. it's not that they are incapable of functioning in society, it's that they aren't capable of functioning as a whole. if you believe that children are not mature then you are correct, but you are not correct. i don't think there is any evidence that this is the case.</td>\n",
       "      <td>i think it's fair to say that children should not be put on psychiatric medication.</td>\n",
       "      <td>i think you're missing the point. children are not mature. they are developing in a way that is not a natural process.</td>\n",
       "    </tr>\n",
       "    <tr>\n",
       "      <th>2086</th>\n",
       "      <td>Abortion should be avoided since it is killing babies : abortion is killing babies and should be avoided. a fetus while having lesser value than a person that has been born still has value. we should avoid killing them and should instead search for a world where abortion is unnecessary. we should avoid it by improving adoption and or foster care systems, improving birth control methods, etc. i am not saying that we should immediately end abortion as it solves problems temporarily but instead we should make aborting illegal once we have reached the point where abortion is unnecessary. instead of glorifying those who have performed abortions we should glorify people who do their best to avoid it and seek better solutions.</td>\n",
       "      <td>Abortion should be avoided since it is killing babies</td>\n",
       "      <td>Abortion should be made illegal once we reach a point where it is unnecessary.</td>\n",
       "      <td>abortion is killing babies and should be avoided.</td>\n",
       "      <td>i don't think it's fair to say that a fetus has a higher value than a person that has been born, but that's not the same as saying that a person has no value.</td>\n",
       "      <td>i don't think this is a good argument, but i think it's a good one. if we want to avoid killing babies, we need to stop killing them. we don't want to end up with a world where we kill babies.</td>\n",
       "    </tr>\n",
       "    <tr>\n",
       "      <th>510</th>\n",
       "      <td>Idris Elba should not play as 007 in the next bond film because he is black. : don't worry, the triggering title is not as bad as it sounds. although the james bond franchise is a fictional storyline taking place in its own established world in terms of its events and outcomes, idris elba should not play as the next james bond. i have nothing against the actor being black, but my only issue is the continuity of the main actor who plays james bond being white. if they were to cast idris elba as a character for the spy network, forgive me as i forget the name of that organization, then he should have his own designation such as 009, 014, etc. , and play his own named character that takes the place of bond after he retires, dies, or disappears altogether, to keep the flow of the story in line and not have an awkward moment of the massive plot hole that would be like bond is suddenly black and no one notices a thing. james bond is probably the most iconic spy in the entire world, and one of the most iconic names in action movies altogether. it would be like putting terry crews in for terminator 4 as the terminator t 800? that arnold schwarzenegger plays. it wouldn't make sense based on what's been established in that storyline already. tl;dr: idris elba shouldn't play as bond himself, but as a new character and a new agent to replace bond if he does get cast as a new character.</td>\n",
       "      <td>Idris Elba should not play as 007 in the next bond film because he is black.</td>\n",
       "      <td>Idris Elba should not play James Bond in the next James Bond movie.</td>\n",
       "      <td>i don't know if i can change your view, but i think you're missing the point of the james bond franchise, which is to say that the main character is black. bond is black, and bond is white, and so is bond. i don't think that's the point. i think it's better to have a character who is black and a character that is white than one who is white.</td>\n",
       "      <td>i'm not sure what you're trying to say, but i think you're missing the point.</td>\n",
       "      <td>i agree with you, but i don't think it would be a good idea for james bond to be replaced by a black actor.</td>\n",
       "    </tr>\n",
       "    <tr>\n",
       "      <th>939</th>\n",
       "      <td>I had zero problems with the DNC hack as it exposed information that was true. : first off, i did not vote for trump. i do not like trump. i do not like a lot of his policies. i'm an independent. but i had zero problems with the dnc hack as it only exposed true information. it helped us realize who we were really voting for. if the information being leaked is so bad that it will cause people to not vote for a specific person that there is something to be said. i would have had zero problems if the leak exposed trump or both candidates. i get we don't want foreign countries interfering but i am all about knowing the truth. i do not think there is anything unethical about exposing unethical actions of a particular party candidate.</td>\n",
       "      <td>I had zero problems with the DNC hack as it exposed information that was true.</td>\n",
       "      <td>I had zero problems with the DNC hack.</td>\n",
       "      <td>i don't know if you are aware of the dnc hack or not, but i think it's fair to say that if you don't, then you probably won't vote for trump. if you do, then i don't think you should vote for him.</td>\n",
       "      <td>i don't think it's fair to say that the dnc hack exposed information that was true. i think it exposed a lot of things that were not true. it exposed things that weren't true. for example, if i had known that trump was going to win the election, i wouldn't have voted for him. if i knew that he would win, i would have voted against him. but if i know that he's going to lose, i won't vote for him because i don't want him to lose.</td>\n",
       "      <td>the problem with the dnc hack is that it doesn't expose the truth, it only exposes the lie.</td>\n",
       "    </tr>\n",
       "    <tr>\n",
       "      <th>1015</th>\n",
       "      <td>Hitler was a solid dude : he was crazy but he truly did what he thought was right. he had horrible misconceptions about reality but if you take those misconceptions into account and put yourself in his boots you see that he really did what he thought was best for his country. the holocaust was one of the greatest atrocities of all time, i'm obviously not denying that or trying to downplay it but it wasn't caused out of badness, just craziness. hitler tried to do good. his kind gentle personality is made even more evident from his intensely socialist and animal friendly policies. he fought for his country, got imprisoned, spent all his time in prison writing a book on how to improve his country, then when he left he put his ideas into action. hitler was a solid dude, just really mentally ill.</td>\n",
       "      <td>Hitler was a solid dude</td>\n",
       "      <td>Hitler was a crazy man.</td>\n",
       "      <td>i'm not sure what you mean by 'crazy' but i think you're missing the point of the holocaust. hitler was a bad guy. he did what he thought was best for his country, but he didn't do it out of badness, just because he thought it was best. he was a good guy, and he did his best to help his country. he wasn't a good person, he was just a bad person. he had horrible misconceptions about reality, but when he left he put himself in prison writing a book on how to improve his country's economy, then he put his ideas into action.</td>\n",
       "      <td>i don't think that hitler was a solid dude, just really mentally ill. the holocaust was one of the greatest atrocities of all time, but it wasn't caused out of badness, just craziness. he had horrible misconceptions about reality, but he really did what he thought was best for his country.</td>\n",
       "      <td>the holocaust was a horrible thing, but he did what he thought was best for his country.</td>\n",
       "    </tr>\n",
       "    <tr>\n",
       "      <th>2148</th>\n",
       "      <td>News networks that frequently sensationalize news should be forced to label themselves as Entertainment News in their titles. : media sensationalization for the sake of viewership and clicks is significantly changing the format of how we get news. there are very few major news networks that simply provide the public with facts and data free of partisanship, and commentary aimed at molding the viewers idea of how to interpret news stories. if a company wants to call themselves news they must refrain from the sensationalized and clickbait format of news casting. if not, they should be forced to identify themselves as entertainment news networks. for example, cnn entertainment or fox entertainment news. because in reality, they are about viewers, ad revenue and being interesting and not focused on informing the public accurately. although government sponsored, the best examples i can think of for actual news is npr and bbc. the rest focus too heavily on partisanship and ratings.</td>\n",
       "      <td>News networks that frequently sensationalize news should be forced to label themselves as Entertainment News in their titles.</td>\n",
       "      <td>News networks should cease to be entertainment news networks.</td>\n",
       "      <td>i'm not sure what you mean by'media sensationalization for the sake of viewership and clicks.'i'm not going to argue that it is. i'm just going to say that media sensationalization is significantly changing the format of how we get news.</td>\n",
       "      <td>there are plenty of entertainment news networks that frequently sensationalize news, but they are not really entertainment news. they are entertainment news for the sake of viewership and clicks.</td>\n",
       "      <td>there are a lot of things that people don't like about entertainment news, but i think it's important to remember that entertainment news isn't just about entertainment.</td>\n",
       "    </tr>\n",
       "    <tr>\n",
       "      <th>1949</th>\n",
       "      <td>The moon landing should be viewed as a global achievement. : there's been a lot of controversy about ryan gosling's new movie about the moon landing omitting references about the us' role in it. imo this is 100 correct. the united states didn't land on the moon, humanity did. the entirety of human history led the way to that monumental achievement and to chalk it up to just ''murica' is incredibly shortsighted. where would the us space program be without newtonian physics? or german pioneered engineering techniques. most of what the americans did was just a repackage of what the soviet union did previously. there's a lot of truth to 'you didn't build that'. the people who stepped foot on the moon first might have been u. s. citizens but they got there by standing on the shoulders of innumerable people from around the world. we should recognize the moon landing as an achievement for all humanity, not just one specific country. cmv!</td>\n",
       "      <td>The moon landing should be viewed as a global achievement.</td>\n",
       "      <td>The United States' role in the Moon landing is an important part of human history, not just one specific country</td>\n",
       "      <td>i don't think it's fair to say that ryan gosling's new movie about the moon landing omitting references about the us' role in it is incredibly shortsighted.</td>\n",
       "      <td>the moon landing was not a global achievement, it was a global effort. the us didn't build the moon, but the us did build it.</td>\n",
       "      <td>i think the main thing you need to understand about the moon landing is that it wasn't the us. the us was the first country to land on the moon. it was the only country to ever land on a moon. that's what the us did.</td>\n",
       "    </tr>\n",
       "    <tr>\n",
       "      <th>2095</th>\n",
       "      <td>It is literally impossible for /r/enoughpetersonspam to have the 5+ billion subscribers that it claims to have : according to the sidebar in r enoughpetersonspam, there are over 5 billion subscribers to that sub. i think this is extremely unlikely and thus there is something very suspicious going on in that sub. since obviously that number is being tampered with, who knows what other data in that sub is being manipulated? can we trust the upvote count? the comments? even the posts themselves? maybe even it's all bot generated like r subredditsimulator my main evidence for the 5 billion subscriber count being highly unlikely is that the total global internet user count , according to multiple sources is not even over 5 billion. at the end of 2017, there were this many total global internet users: accroding to wikipedia: 4,800,000,000 internet usage according to statista. com: 3,578,000,000 according to internetworldstats: 4,156,000,000 the chance that every single internet user in the world, from wallstreet bankers to african farmers with 2g cellphones, happens to be not only be a reddit user but a subscriber to r enoughpetersonspam is infinitesimal. my second piece of evidence is that every single post and comment in r enoughpetersonspam is in english. if every single internet user was subscribed to r enoughpetersonspam, where are all the posts and comments from these non english speaking users? where are all the chinese posts from the 1. 4 billion chinese subscribers? where are all the indian posts from the 1. 3 billion indian subscribers? not many chinese and indian citizens speak english as a second language so the chance that all those subscribers have the ability and are choosing to communicate there in english is practically nonexistent.</td>\n",
       "      <td>It is literally impossible for /r/enoughpetersonspam to have the 5+ billion subscribers that it claims to have</td>\n",
       "      <td>There is a very unlikely chance that there are over 5 billion subscribers to /r/enoughpetersonspam.</td>\n",
       "      <td>i don't think it's possible, but i don't see how it's impossible. i think you're missing an important part of the problem. if you're looking for evidence of something, you need to look at r enoughpetersonspam.</td>\n",
       "      <td>i don't think you have a good reason to believe that the 5 billion subscribers would be impossible to prove. i'm not sure how you could prove that it's impossible, but i would like to point out that the vast majority of people who subscribe to r enoughpetersonspam are non english speaking. in fact, i think it's likely that a large portion of those who subscribe don't speak english.</td>\n",
       "      <td>i think you're underestimating the amount of people who subscribe to the subreddit. i'm not sure how many people are subscribed to the sub.</td>\n",
       "    </tr>\n",
       "    <tr>\n",
       "      <th>2037</th>\n",
       "      <td>Children under the age of 5 should NEVER be admitted to any movies, even for children's movies. : there should a minimum age limit for children being admitted to any movies: no under the age of 5 should be admitted, even if accompanied by parents. even to movies to like the incredibles 2. they're simply too young to comprehend movies. to them, it's just moving pictures and noises, and they're either gonna just be restless and be disruptive or ve traumatized and be disruptive. and there's only so much a parent can do to keep them quiet. i understand that parents don't want to leave their younger children home alone, but it's not fair for anyone else to deal with their disruptions. they should either hire a babysitter, or just not go until they're mature enough.</td>\n",
       "      <td>Children under the age of 5 should NEVER be admitted to any movies, even for children's movies.</td>\n",
       "      <td>Children should not be allowed to go to movies unless accompanied by parents.</td>\n",
       "      <td>there should be a minimum age limit for children being admitted to any movies, even if accompanied by parents.</td>\n",
       "      <td>i don't think you're going to convince anyone that children under the age of 5 should ever be admitted to any movies, even for children's movies.</td>\n",
       "      <td>the age limit for movies is too high for the parents.</td>\n",
       "    </tr>\n",
       "  </tbody>\n",
       "</table>\n",
       "</div>"
      ],
      "text/plain": [
       "                                                                                                                                                                                                                                                                                                                                                                                                                                                                                                                                                                                                                                                                                                                                                                                                                                                                                                                                                                                                                                                                                                                                                                                                                                                                                                                                                                                                                                                                                                                                                                                                                                                                                                                                                                                                                                                                                              argument  \\\n",
       "110                                                                                                                                                                                                                                                                                                                           I am in favor of the establishment of quasi-national sports teams for indigenous groups within countries. : below are my two top points in favour the establishment of 'quasi national' sports teams. i look forward to your responses! 1. native american tribes rarely give their consent to have their image and culture used yet teams such as the cleveland indians frequently go ahead and used mascots inspired from indian culture regardless of if it will be deemed offensive or not. however, if quasi national sports teams are formed for indigenous groups they will then be able to reclaim their own culture. this effect, will also likely get those who are in marginalized indigenous groups to feel empowered and consequently cultivate an interest in sports. why is this important? because it would help them stay away from gangs, drugs, and other crime. 2. indigenous people were colonized. they had their own distinct culture and heritage prior to being imperialized. therefore, by giving indigenous people their own sports team they regain some long lost cultural individuality. also, it clearly would be way more fun for an indigenous person to root for a team dedicated specifically designed for them. by analogy, if a british guy is a fan of football he is likely not going to want to root for germany in the world cup if he can root for england instead. why? because germany has it's own distinct culture and history, and brits would rather root for something they relate too, i. e their country and culture.   \n",
       "1385   Children ought never to be put on psychiatric medication. : my main argument is this: children, physiologically speaking, have not reached maturity. duh. no one disagrees with this. their brains, bodies, emotions and basically everything about them is not mature. a child can display both acceptable and unacceptable behavior at any given time. when the behavior is deemed unacceptable and persistently so, this is when psychiatrists are called upon. this is bad news for the child. since children have not reached puberty, no less their formative years, their enduring personality along with their body, brain and character have only just begun to develop into what in the future can become a stable, integrated self. studies have shown the potential of stultification of children, stunting their growth after prolonged usage of adhd related drugs. interfering chemically with a brain not yet matured must then be seen as having the potential for tremendous, far reaching negative consequences. the idea i am challenging is believing a child and their bad or aberrant behavior necessarily equates to a brain based biological chemical imbalance and or disease process needing the treatment of a psychiatrist who will administer powerful brain and mind altering psychotropic chemicals to a still developing brain. that psychiatric medications certainly alter brain chemistry in anyone taking them is indisputable. premature psychiatric action upon developing children inherently stifles and impedes the natural course of growth that would otherwise occur had no medication been used. insofar as it is true that psychiatric medications correct no chemical imbalances in the brain and never cure so called mental illness, but rather interfere with natural development, children ought never to be put on psychiatric medication.   \n",
       "2086                                                                                                                                                                                                                                                                                                                                                                                                                                                                                                                                                                                                                                                                                                                                                                                                                                                                                                                                                                                                                                                                                                                                         Abortion should be avoided since it is killing babies : abortion is killing babies and should be avoided. a fetus while having lesser value than a person that has been born still has value. we should avoid killing them and should instead search for a world where abortion is unnecessary. we should avoid it by improving adoption and or foster care systems, improving birth control methods, etc. i am not saying that we should immediately end abortion as it solves problems temporarily but instead we should make aborting illegal once we have reached the point where abortion is unnecessary. instead of glorifying those who have performed abortions we should glorify people who do their best to avoid it and seek better solutions.   \n",
       "510                                                                                                                                                                                                                                                                                                                                                                                                                                               Idris Elba should not play as 007 in the next bond film because he is black. : don't worry, the triggering title is not as bad as it sounds. although the james bond franchise is a fictional storyline taking place in its own established world in terms of its events and outcomes, idris elba should not play as the next james bond. i have nothing against the actor being black, but my only issue is the continuity of the main actor who plays james bond being white. if they were to cast idris elba as a character for the spy network, forgive me as i forget the name of that organization, then he should have his own designation such as 009, 014, etc. , and play his own named character that takes the place of bond after he retires, dies, or disappears altogether, to keep the flow of the story in line and not have an awkward moment of the massive plot hole that would be like bond is suddenly black and no one notices a thing. james bond is probably the most iconic spy in the entire world, and one of the most iconic names in action movies altogether. it would be like putting terry crews in for terminator 4 as the terminator t 800? that arnold schwarzenegger plays. it wouldn't make sense based on what's been established in that storyline already. tl;dr: idris elba shouldn't play as bond himself, but as a new character and a new agent to replace bond if he does get cast as a new character.   \n",
       "939                                                                                                                                                                                                                                                                                                                                                                                                                                                                                                                                                                                                                                                                                                                                                                                                                                                                                                                                                                                                                                                                                                                                 I had zero problems with the DNC hack as it exposed information that was true. : first off, i did not vote for trump. i do not like trump. i do not like a lot of his policies. i'm an independent. but i had zero problems with the dnc hack as it only exposed true information. it helped us realize who we were really voting for. if the information being leaked is so bad that it will cause people to not vote for a specific person that there is something to be said. i would have had zero problems if the leak exposed trump or both candidates. i get we don't want foreign countries interfering but i am all about knowing the truth. i do not think there is anything unethical about exposing unethical actions of a particular party candidate.   \n",
       "1015                                                                                                                                                                                                                                                                                                                                                                                                                                                                                                                                                                                                                                                                                                                                                                                                                                                                                                                                                                                                                                                                Hitler was a solid dude : he was crazy but he truly did what he thought was right. he had horrible misconceptions about reality but if you take those misconceptions into account and put yourself in his boots you see that he really did what he thought was best for his country. the holocaust was one of the greatest atrocities of all time, i'm obviously not denying that or trying to downplay it but it wasn't caused out of badness, just craziness. hitler tried to do good. his kind gentle personality is made even more evident from his intensely socialist and animal friendly policies. he fought for his country, got imprisoned, spent all his time in prison writing a book on how to improve his country, then when he left he put his ideas into action. hitler was a solid dude, just really mentally ill.   \n",
       "2148                                                                                                                                                                                                                                                                                                                                                                                                                                                                                                                                                                                                                                                                                                                                                                                                                                                                    News networks that frequently sensationalize news should be forced to label themselves as Entertainment News in their titles. : media sensationalization for the sake of viewership and clicks is significantly changing the format of how we get news. there are very few major news networks that simply provide the public with facts and data free of partisanship, and commentary aimed at molding the viewers idea of how to interpret news stories. if a company wants to call themselves news they must refrain from the sensationalized and clickbait format of news casting. if not, they should be forced to identify themselves as entertainment news networks. for example, cnn entertainment or fox entertainment news. because in reality, they are about viewers, ad revenue and being interesting and not focused on informing the public accurately. although government sponsored, the best examples i can think of for actual news is npr and bbc. the rest focus too heavily on partisanship and ratings.   \n",
       "1949                                                                                                                                                                                                                                                                                                                                                                                                                                                                                                                                                                                                                                                                                                                                                                                                                                                                                                                  The moon landing should be viewed as a global achievement. : there's been a lot of controversy about ryan gosling's new movie about the moon landing omitting references about the us' role in it. imo this is 100 correct. the united states didn't land on the moon, humanity did. the entirety of human history led the way to that monumental achievement and to chalk it up to just ''murica' is incredibly shortsighted. where would the us space program be without newtonian physics? or german pioneered engineering techniques. most of what the americans did was just a repackage of what the soviet union did previously. there's a lot of truth to 'you didn't build that'. the people who stepped foot on the moon first might have been u. s. citizens but they got there by standing on the shoulders of innumerable people from around the world. we should recognize the moon landing as an achievement for all humanity, not just one specific country. cmv!   \n",
       "2095                                                     It is literally impossible for /r/enoughpetersonspam to have the 5+ billion subscribers that it claims to have : according to the sidebar in r enoughpetersonspam, there are over 5 billion subscribers to that sub. i think this is extremely unlikely and thus there is something very suspicious going on in that sub. since obviously that number is being tampered with, who knows what other data in that sub is being manipulated? can we trust the upvote count? the comments? even the posts themselves? maybe even it's all bot generated like r subredditsimulator my main evidence for the 5 billion subscriber count being highly unlikely is that the total global internet user count , according to multiple sources is not even over 5 billion. at the end of 2017, there were this many total global internet users: accroding to wikipedia: 4,800,000,000 internet usage according to statista. com: 3,578,000,000 according to internetworldstats: 4,156,000,000 the chance that every single internet user in the world, from wallstreet bankers to african farmers with 2g cellphones, happens to be not only be a reddit user but a subscriber to r enoughpetersonspam is infinitesimal. my second piece of evidence is that every single post and comment in r enoughpetersonspam is in english. if every single internet user was subscribed to r enoughpetersonspam, where are all the posts and comments from these non english speaking users? where are all the chinese posts from the 1. 4 billion chinese subscribers? where are all the indian posts from the 1. 3 billion indian subscribers? not many chinese and indian citizens speak english as a second language so the chance that all those subscribers have the ability and are choosing to communicate there in english is practically nonexistent.   \n",
       "2037                                                                                                                                                                                                                                                                                                                                                                                                                                                                                                                                                                                                                                                                                                                                                                                                                                                                                                                                                                                                                                                                                                Children under the age of 5 should NEVER be admitted to any movies, even for children's movies. : there should a minimum age limit for children being admitted to any movies: no under the age of 5 should be admitted, even if accompanied by parents. even to movies to like the incredibles 2. they're simply too young to comprehend movies. to them, it's just moving pictures and noises, and they're either gonna just be restless and be disruptive or ve traumatized and be disruptive. and there's only so much a parent can do to keep them quiet. i understand that parents don't want to leave their younger children home alone, but it's not fair for anyone else to deal with their disruptions. they should either hire a babysitter, or just not go until they're mature enough.   \n",
       "\n",
       "                                                                                                                          conclusion  \\\n",
       "110                        I am in favor of the establishment of quasi-national sports teams for indigenous groups within countries.   \n",
       "1385                                                                       Children ought never to be put on psychiatric medication.   \n",
       "2086                                                                           Abortion should be avoided since it is killing babies   \n",
       "510                                                     Idris Elba should not play as 007 in the next bond film because he is black.   \n",
       "939                                                   I had zero problems with the DNC hack as it exposed information that was true.   \n",
       "1015                                                                                                         Hitler was a solid dude   \n",
       "2148   News networks that frequently sensationalize news should be forced to label themselves as Entertainment News in their titles.   \n",
       "1949                                                                      The moon landing should be viewed as a global achievement.   \n",
       "2095                  It is literally impossible for /r/enoughpetersonspam to have the 5+ billion subscribers that it claims to have   \n",
       "2037                                 Children under the age of 5 should NEVER be admitted to any movies, even for children's movies.   \n",
       "\n",
       "                                                                                                            joint_conc  \\\n",
       "110                                  I believe that there should be quasi-national sports teams for indigenous groups.   \n",
       "1385                                    Children should not be put on psychiatric medication until they reach puberty.   \n",
       "2086                                    Abortion should be made illegal once we reach a point where it is unnecessary.   \n",
       "510                                                Idris Elba should not play James Bond in the next James Bond movie.   \n",
       "939                                                                             I had zero problems with the DNC hack.   \n",
       "1015                                                                                           Hitler was a crazy man.   \n",
       "2148                                                     News networks should cease to be entertainment news networks.   \n",
       "1949  The United States' role in the Moon landing is an important part of human history, not just one specific country   \n",
       "2095               There is a very unlikely chance that there are over 5 billion subscribers to /r/enoughpetersonspam.   \n",
       "2037                                     Children should not be allowed to go to movies unless accompanied by parents.   \n",
       "\n",
       "                                                                                                                                                                                                                                                                                                                                                                                                                                                                                                                                                                                                                                                                                                                     masked_conc_attacks  \\\n",
       "110                                                                                                                                                                                                                                                                                                                                                                                                                                                                                                                                                                                                                                   i don't think there is much of a difference between a 'quasi national' team and a 'national' team.   \n",
       "1385  the problem with your premise is that you are assuming that children have not reached maturity. this is not the case at all. the problem is that there is no evidence to support your claim that a child has not matured. if a child is not mature, they are not going to be able to be a productive member of society. they are going to have to learn to function as a part of society, and if they don't they will be unable to function in society. it's not that they are incapable of functioning in society, it's that they aren't capable of functioning as a whole. if you believe that children are not mature then you are correct, but you are not correct. i don't think there is any evidence that this is the case.   \n",
       "2086                                                                                                                                                                                                                                                                                                                                                                                                                                                                                                                                                                                                                                                                                   abortion is killing babies and should be avoided.   \n",
       "510                                                                                                                                                                                                                                                                                                                                                                              i don't know if i can change your view, but i think you're missing the point of the james bond franchise, which is to say that the main character is black. bond is black, and bond is white, and so is bond. i don't think that's the point. i think it's better to have a character who is black and a character that is white than one who is white.   \n",
       "939                                                                                                                                                                                                                                                                                                                                                                                                                                                                                                                                 i don't know if you are aware of the dnc hack or not, but i think it's fair to say that if you don't, then you probably won't vote for trump. if you do, then i don't think you should vote for him.   \n",
       "1015                                                                                                                                                                                      i'm not sure what you mean by 'crazy' but i think you're missing the point of the holocaust. hitler was a bad guy. he did what he thought was best for his country, but he didn't do it out of badness, just because he thought it was best. he was a good guy, and he did his best to help his country. he wasn't a good person, he was just a bad person. he had horrible misconceptions about reality, but when he left he put himself in prison writing a book on how to improve his country's economy, then he put his ideas into action.   \n",
       "2148                                                                                                                                                                                                                                                                                                                                                                                                                                                                                       i'm not sure what you mean by'media sensationalization for the sake of viewership and clicks.'i'm not going to argue that it is. i'm just going to say that media sensationalization is significantly changing the format of how we get news.   \n",
       "1949                                                                                                                                                                                                                                                                                                                                                                                                                                                                                                                                                                        i don't think it's fair to say that ryan gosling's new movie about the moon landing omitting references about the us' role in it is incredibly shortsighted.   \n",
       "2095                                                                                                                                                                                                                                                                                                                                                                                                                                                                                                                   i don't think it's possible, but i don't see how it's impossible. i think you're missing an important part of the problem. if you're looking for evidence of something, you need to look at r enoughpetersonspam.   \n",
       "2037                                                                                                                                                                                                                                                                                                                                                                                                                                                                                                                                                                                                                      there should be a minimum age limit for children being admitted to any movies, even if accompanied by parents.   \n",
       "\n",
       "                                                                                                                                                                                                                                                                                                                                                                                                                                   known_conc_attacks  \\\n",
       "110                                                                                                                                                      i don't think it's fair to say that native americans aren't interested in sports teams. it's not like they don't want to be involved in them. they're not interested in being involved in the culture of the native american people. they want to get involved in their country and culture.   \n",
       "1385                                                                                                                                                                                                                                                                                                                                                              i think it's fair to say that children should not be put on psychiatric medication.   \n",
       "2086                                                                                                                                                                                                                                                                                   i don't think it's fair to say that a fetus has a higher value than a person that has been born, but that's not the same as saying that a person has no value.   \n",
       "510                                                                                                                                                                                                                                                                                                                                                                     i'm not sure what you're trying to say, but i think you're missing the point.   \n",
       "939   i don't think it's fair to say that the dnc hack exposed information that was true. i think it exposed a lot of things that were not true. it exposed things that weren't true. for example, if i had known that trump was going to win the election, i wouldn't have voted for him. if i knew that he would win, i would have voted against him. but if i know that he's going to lose, i won't vote for him because i don't want him to lose.   \n",
       "1015                                                                                                                                               i don't think that hitler was a solid dude, just really mentally ill. the holocaust was one of the greatest atrocities of all time, but it wasn't caused out of badness, just craziness. he had horrible misconceptions about reality, but he really did what he thought was best for his country.   \n",
       "2148                                                                                                                                                                                                                                              there are plenty of entertainment news networks that frequently sensationalize news, but they are not really entertainment news. they are entertainment news for the sake of viewership and clicks.   \n",
       "1949                                                                                                                                                                                                                                                                                                                    the moon landing was not a global achievement, it was a global effort. the us didn't build the moon, but the us did build it.   \n",
       "2095                                                 i don't think you have a good reason to believe that the 5 billion subscribers would be impossible to prove. i'm not sure how you could prove that it's impossible, but i would like to point out that the vast majority of people who subscribe to r enoughpetersonspam are non english speaking. in fact, i think it's likely that a large portion of those who subscribe don't speak english.   \n",
       "2037                                                                                                                                                                                                                                                                                                i don't think you're going to convince anyone that children under the age of 5 should ever be admitted to any movies, even for children's movies.   \n",
       "\n",
       "                                                                                                                                                                                                                                                                               joint_conc_attacks  \n",
       "110   i think the biggest problem with this idea is that it's not about the rights of indigenous people, it's about the right of the people to own their own sports team. i think it's important to understand that the idea of a quasi national sports team is a form of cultural appropriation.  \n",
       "1385                                                                                                                                                                       i think you're missing the point. children are not mature. they are developing in a way that is not a natural process.  \n",
       "2086                                                                                             i don't think this is a good argument, but i think it's a good one. if we want to avoid killing babies, we need to stop killing them. we don't want to end up with a world where we kill babies.  \n",
       "510                                                                                                                                                                                   i agree with you, but i don't think it would be a good idea for james bond to be replaced by a black actor.  \n",
       "939                                                                                                                                                                                                   the problem with the dnc hack is that it doesn't expose the truth, it only exposes the lie.  \n",
       "1015                                                                                                                                                                                                     the holocaust was a horrible thing, but he did what he thought was best for his country.  \n",
       "2148                                                                                                                    there are a lot of things that people don't like about entertainment news, but i think it's important to remember that entertainment news isn't just about entertainment.  \n",
       "1949                                                                     i think the main thing you need to understand about the moon landing is that it wasn't the us. the us was the first country to land on the moon. it was the only country to ever land on a moon. that's what the us did.  \n",
       "2095                                                                                                                                                  i think you're underestimating the amount of people who subscribe to the subreddit. i'm not sure how many people are subscribed to the sub.  \n",
       "2037                                                                                                                                                                                                                                        the age limit for movies is too high for the parents.  "
      ]
     },
     "execution_count": 17,
     "metadata": {},
     "output_type": "execute_result"
    }
   ],
   "source": [
    "reddit_pred_df[['argument', 'conclusion' , 'joint_conc', 'masked_conc_attacks', 'known_conc_attacks', 'joint_conc_attacks']].sample(10).head(n=10)"
   ]
  },
  {
   "cell_type": "markdown",
   "metadata": {},
   "source": [
    "### Evaluate generated predictions:"
   ]
  },
  {
   "cell_type": "code",
   "execution_count": 33,
   "metadata": {},
   "outputs": [],
   "source": [
    "reddit_pred_df = pd.read_pickle('../data/output/reddit_pred_df.pkl')"
   ]
  },
  {
   "cell_type": "code",
   "execution_count": 34,
   "metadata": {},
   "outputs": [],
   "source": [
    "#collect references\n",
    "arg_counters = valid_df.groupby('post_id').agg({\n",
    "    'counter': lambda x: [' '.join(c) for c in x]\n",
    "}).reset_index()\n",
    "arg_counters = pd.Series(arg_counters.counter.values, index=arg_counters.post_id).to_dict()\n",
    "\n",
    "reddit_pred_df['gt_attack'] = reddit_pred_df['gt_attack'].apply(lambda x: str(x))\n",
    "reddit_pred_df['all_counters'] = reddit_pred_df['post_id'].apply(lambda x: arg_counters[x])"
   ]
  },
  {
   "cell_type": "code",
   "execution_count": 36,
   "metadata": {},
   "outputs": [],
   "source": [
    "reddit_pred_df = reddit_pred_df[reddit_pred_df.all_counters.map(len) > 0]"
   ]
  },
  {
   "cell_type": "code",
   "execution_count": 47,
   "metadata": {
    "scrolled": true,
    "tags": []
   },
   "outputs": [
    {
     "name": "stderr",
     "output_type": "stream",
     "text": [
      "Warning: Empty reference sentence detected; setting recall to be 0.\n",
      "Warning: Empty reference sentence detected; setting recall to be 0.\n",
      "Warning: Empty reference sentence detected; setting recall to be 0.\n",
      "Warning: Empty reference sentence detected; setting recall to be 0.\n",
      "Warning: Empty reference sentence detected; setting recall to be 0.\n",
      "Warning: Empty reference sentence detected; setting recall to be 0.\n",
      "Warning: Empty reference sentence detected; setting recall to be 0.\n",
      "Warning: Empty reference sentence detected; setting recall to be 0.\n",
      "Warning: Empty reference sentence detected; setting recall to be 0.\n",
      "Warning: Empty reference sentence detected; setting recall to be 0.\n",
      "Warning: Empty reference sentence detected; setting recall to be 0.\n",
      "Warning: Empty reference sentence detected; setting recall to be 0.\n",
      "Warning: Empty reference sentence detected; setting recall to be 0.\n",
      "Warning: Empty reference sentence detected; setting recall to be 0.\n",
      "Warning: Empty reference sentence detected; setting recall to be 0.\n",
      "Warning: Empty reference sentence detected; setting recall to be 0.\n",
      "Warning: Empty reference sentence detected; setting recall to be 0.\n",
      "Warning: Empty reference sentence detected; setting recall to be 0.\n",
      "Warning: Empty reference sentence detected; setting recall to be 0.\n",
      "Warning: Empty reference sentence detected; setting recall to be 0.\n",
      "Warning: Empty reference sentence detected; setting recall to be 0.\n",
      "Warning: Empty reference sentence detected; setting recall to be 0.\n",
      "Warning: Empty reference sentence detected; setting recall to be 0.\n",
      "Warning: Empty reference sentence detected; setting recall to be 0.\n",
      "Warning: Empty reference sentence detected; setting recall to be 0.\n",
      "Warning: Empty reference sentence detected; setting recall to be 0.\n",
      "Warning: Empty reference sentence detected; setting recall to be 0.\n",
      "Warning: Empty reference sentence detected; setting recall to be 0.\n",
      "Warning: Empty reference sentence detected; setting recall to be 0.\n",
      "Warning: Empty reference sentence detected; setting recall to be 0.\n",
      "Warning: Empty reference sentence detected; setting recall to be 0.\n",
      "Warning: Empty reference sentence detected; setting recall to be 0.\n",
      "Warning: Empty reference sentence detected; setting recall to be 0.\n",
      "Warning: Empty reference sentence detected; setting recall to be 0.\n",
      "Warning: Empty reference sentence detected; setting recall to be 0.\n",
      "Warning: Empty reference sentence detected; setting recall to be 0.\n"
     ]
    }
   ],
   "source": [
    "masked_conc_eval = evaluate_gen_attacks(reddit_pred_df['masked_conc_attacks'].tolist(), reddit_pred_df['all_counters'].tolist())\n",
    "known_conc_eval = evaluate_gen_attacks(reddit_pred_df['known_conc_attacks'].tolist(), reddit_pred_df['all_counters'].tolist())\n",
    "bart_conc_eval = evaluate_gen_attacks(reddit_pred_df['bart_conc_attacks'].tolist(), reddit_pred_df['all_counters'].tolist())\n",
    "pred_conc_eval = evaluate_gen_attacks(reddit_pred_df['joint_conc_attacks'].tolist(), reddit_pred_df['all_counters'].tolist())"
   ]
  },
  {
   "cell_type": "markdown",
   "metadata": {},
   "source": [
    "##### Test stance correcteness:"
   ]
  },
  {
   "cell_type": "code",
   "execution_count": 21,
   "metadata": {},
   "outputs": [],
   "source": [
    "filtered_reddit_pred_df = reddit_pred_df[pd.notna(reddit_pred_df.conclusion_target)]"
   ]
  },
  {
   "cell_type": "code",
   "execution_count": 22,
   "metadata": {
    "scrolled": true,
    "tags": []
   },
   "outputs": [
    {
     "name": "stderr",
     "output_type": "stream",
     "text": [
      "ProConClient: 100%|██████████| 2172/2172 [00:37<00:00, 54.74it/s]/usr/local/lib/python3.6/dist-packages/ipykernel_launcher.py:2: SettingWithCopyWarning: \n",
      "A value is trying to be set on a copy of a slice from a DataFrame.\n",
      "Try using .loc[row_indexer,col_indexer] = value instead\n",
      "\n",
      "See the caveats in the documentation: https://pandas.pydata.org/pandas-docs/stable/user_guide/indexing.html#returning-a-view-versus-a-copy\n",
      "  \n",
      "ProConClient: 100%|██████████| 2172/2172 [00:37<00:00, 57.53it/s]\n",
      "ProConClient: 100%|██████████| 2172/2172 [00:37<00:00, 59.12it/s]/usr/local/lib/python3.6/dist-packages/ipykernel_launcher.py:3: SettingWithCopyWarning: \n",
      "A value is trying to be set on a copy of a slice from a DataFrame.\n",
      "Try using .loc[row_indexer,col_indexer] = value instead\n",
      "\n",
      "See the caveats in the documentation: https://pandas.pydata.org/pandas-docs/stable/user_guide/indexing.html#returning-a-view-versus-a-copy\n",
      "  This is separate from the ipykernel package so we can avoid doing imports until\n",
      "\n",
      "ProConClient:   0%|          | 0/2172 [00:00<?, ?it/s]\u001b[A\n",
      "ProConClient: 100%|██████████| 2172/2172 [00:52<00:00, 59.12it/s][A\n",
      "ProConClient:  46%|████▌     | 1000/2172 [00:17<00:18, 64.15it/s]\u001b[A\n",
      "ProConClient: 100%|██████████| 2172/2172 [01:15<00:00, 28.62it/s]\u001b[A\n",
      "\n",
      "ProConClient:  92%|█████████▏| 2000/2172 [00:38<00:03, 53.33it/s]\u001b[A\n",
      "ProConClient: 100%|██████████| 2172/2172 [00:41<00:00, 52.48it/s]\u001b[A/usr/local/lib/python3.6/dist-packages/ipykernel_launcher.py:4: SettingWithCopyWarning: \n",
      "A value is trying to be set on a copy of a slice from a DataFrame.\n",
      "Try using .loc[row_indexer,col_indexer] = value instead\n",
      "\n",
      "See the caveats in the documentation: https://pandas.pydata.org/pandas-docs/stable/user_guide/indexing.html#returning-a-view-versus-a-copy\n",
      "  after removing the cwd from sys.path.\n",
      "ProConClient:  23%|██▎       | 500/2172 [00:11<00:38, 43.36it/s]\n",
      "ProConClient: 100%|██████████| 2172/2172 [00:40<00:00, 57.11it/s]\u001b[A/usr/local/lib/python3.6/dist-packages/ipykernel_launcher.py:5: SettingWithCopyWarning: \n",
      "A value is trying to be set on a copy of a slice from a DataFrame.\n",
      "Try using .loc[row_indexer,col_indexer] = value instead\n",
      "\n",
      "See the caveats in the documentation: https://pandas.pydata.org/pandas-docs/stable/user_guide/indexing.html#returning-a-view-versus-a-copy\n",
      "  \"\"\"\n"
     ]
    }
   ],
   "source": [
    "#compute the stance of the generated counters towards the conclusion target\n",
    "filtered_reddit_pred_df['masked_conc_stances'] = get_stances(filtered_reddit_pred_df.conclusion_target.tolist(), filtered_reddit_pred_df.masked_conc_attacks.tolist())\n",
    "filtered_reddit_pred_df['known_conc_stances']  = get_stances(filtered_reddit_pred_df.conclusion_target.tolist(), filtered_reddit_pred_df.known_conc_attacks.tolist())\n",
    "filtered_reddit_pred_df['bart_conc_stances']   = get_stances(filtered_reddit_pred_df.conclusion_target.tolist(), filtered_reddit_pred_df.bart_conc_attacks.tolist())\n",
    "filtered_reddit_pred_df['joint_conc_stances']  = get_stances(filtered_reddit_pred_df.conclusion_target.tolist(), filtered_reddit_pred_df.joint_conc_attacks.tolist())"
   ]
  },
  {
   "cell_type": "code",
   "execution_count": 23,
   "metadata": {},
   "outputs": [],
   "source": [
    "#compute the distance between the conclusion stance and the attack stance: the bigger the distance the better...\n",
    "masked_conc_stance_score1 = round(np.mean([abs(x[0] - x[1]) for x in zip(filtered_reddit_pred_df.masked_conc_stances.tolist(), filtered_reddit_pred_df.conclusion_stance.tolist())]), 2)\n",
    "known_conc_stance_score1 = round(np.mean([abs(x[0] - x[1]) for x in zip(filtered_reddit_pred_df.known_conc_stances.tolist(), filtered_reddit_pred_df.conclusion_stance.tolist())]), 2)\n",
    "bart_conc_stance_score1 = round(np.mean([abs(x[0] - x[1]) for x in zip(filtered_reddit_pred_df.bart_conc_stances.tolist(), filtered_reddit_pred_df.conclusion_stance.tolist())]), 2)\n",
    "joint_conc_stance_score1 = round(np.mean([abs(x[0] - x[1]) for x in zip(filtered_reddit_pred_df.joint_conc_stances.tolist(), filtered_reddit_pred_df.conclusion_stance.tolist())]), 2)\n",
    "\n",
    "#check if the two stances are contradicotry\n",
    "masked_conc_stance_score2 = round(sum([int(x[0] * x[1] < 0) for x in zip(filtered_reddit_pred_df.masked_conc_stances.tolist(), filtered_reddit_pred_df.conclusion_stance.tolist())])/len(filtered_reddit_pred_df), 2)\n",
    "known_conc_stance_score2  = round(sum([int(x[0] * x[1] < 0) for x in zip(filtered_reddit_pred_df.known_conc_stances.tolist(), filtered_reddit_pred_df.conclusion_stance.tolist())])/len(filtered_reddit_pred_df), 2)\n",
    "bart_conc_stance_score2   = round(sum([int(x[0] * x[1] < 0) for x in zip(filtered_reddit_pred_df.bart_conc_stances.tolist(), filtered_reddit_pred_df.conclusion_stance.tolist())])/len(filtered_reddit_pred_df), 2)\n",
    "joint_conc_stance_score2  = round(sum([int(x[0] * x[1] < 0) for x in zip(filtered_reddit_pred_df.joint_conc_stances.tolist(), filtered_reddit_pred_df.conclusion_stance.tolist())])/len(filtered_reddit_pred_df), 2)"
   ]
  },
  {
   "cell_type": "code",
   "execution_count": 24,
   "metadata": {},
   "outputs": [
    {
     "name": "stdout",
     "output_type": "stream",
     "text": [
      "                     bleu    bert-f1score    stance-score (diff)    stance-score (agreement)\n",
      "-----------------  ------  --------------  ---------------------  --------------------------\n",
      "Masked Conclusion    0.16            0.14                   0.82                        0.55\n",
      "BART Conclusion      0.18            0.16                   0.85                        0.55\n",
      "Joint Prediction     0.17            0.16                   0.83                        0.55\n",
      "Known Conclusion     0.19            0.16                   0.85                        0.55\n"
     ]
    },
    {
     "name": "stderr",
     "output_type": "stream",
     "text": [
      "ProConClient: 100%|██████████| 2172/2172 [00:52<00:00, 57.11it/s]"
     ]
    }
   ],
   "source": [
    "from tabulate import tabulate\n",
    "\n",
    "print(tabulate([['Masked Conclusion'] + [round(masked_conc_eval['bleu'], 2), masked_conc_eval['bert-fscore'], masked_conc_stance_score1, masked_conc_stance_score2],\n",
    "                ['BART Conclusion'] + [round(bart_conc_eval['bleu'], 2), bart_conc_eval['bert-fscore'], bart_conc_stance_score1, bart_conc_stance_score2],\n",
    "                ['Joint Prediction'] + [round(pred_conc_eval['bleu'], 2), pred_conc_eval['bert-fscore'], joint_conc_stance_score1, joint_conc_stance_score2],\n",
    "                ['Known Conclusion'] + [round(known_conc_eval['bleu'], 2), known_conc_eval['bert-fscore'], known_conc_stance_score1, known_conc_stance_score2],\n",
    "    ], headers=['bleu', 'bert-f1score', 'stance-score (diff)', 'stance-score (agreement)']))"
   ]
  },
  {
   "cell_type": "markdown",
   "metadata": {},
   "source": [
    "##### Similarity to conclusion:"
   ]
  },
  {
   "cell_type": "code",
   "execution_count": 15,
   "metadata": {},
   "outputs": [],
   "source": [
    "masked_conc_eval = evaluate_gen_attacks(reddit_pred_df['conclusion'], reddit_pred_df['masked_conc_attacks'].tolist())\n",
    "known_conc_eval  = evaluate_gen_attacks(reddit_pred_df['conclusion'], reddit_pred_df['known_conc_attacks'].tolist())\n",
    "#auto_conc_eval   = evaluate_gen_attacks(reddit_pred_df['conclusion'], reddit_pred_df['auto_conc_attacks'].tolist())\n",
    "pred_conc_eval   = evaluate_gen_attacks(reddit_pred_df['conclusion'], reddit_pred_df['pred_conc_attacks'].tolist())\n",
    "gt_attack_conc_eval = evaluate_gen_attacks(reddit_pred_df['conclusion'], reddit_pred_df['gt'].tolist())"
   ]
  },
  {
   "cell_type": "code",
   "execution_count": 17,
   "metadata": {},
   "outputs": [
    {
     "name": "stdout",
     "output_type": "stream",
     "text": [
      "             bleu    bert-f1score\n",
      "---------  ------  --------------\n",
      "masked       0               0.16\n",
      "pred         0.01            0.18\n",
      "known        0.03            0.33\n",
      "gt_attack    0              -0.03\n"
     ]
    }
   ],
   "source": [
    "from tabulate import tabulate\n",
    "\n",
    "print(tabulate([['masked'] + [round(masked_conc_eval['bleu'], 2), masked_conc_eval['bert-fscore']],\n",
    "                #['auto'] + list(auto_conc_eval.values()),\n",
    "                ['pred'] + [round(pred_conc_eval['bleu'], 2), pred_conc_eval['bert-fscore']],\n",
    "                ['known'] + [round(known_conc_eval['bleu'], 2), known_conc_eval['bert-fscore']],\n",
    "                ['gt_attack'] + [round(gt_attack_conc_eval['bleu'], 2), gt_attack_conc_eval['bert-fscore']]\n",
    "    ], headers=['bleu', 'bert-f1score']))"
   ]
  },
  {
   "cell_type": "code",
   "execution_count": null,
   "metadata": {},
   "outputs": [],
   "source": []
  }
 ],
 "metadata": {
  "kernelspec": {
   "display_name": "Python 3",
   "language": "python",
   "name": "python3"
  },
  "language_info": {
   "codemirror_mode": {
    "name": "ipython",
    "version": 3
   },
   "file_extension": ".py",
   "mimetype": "text/x-python",
   "name": "python",
   "nbconvert_exporter": "python",
   "pygments_lexer": "ipython3",
   "version": "3.6.9"
  }
 },
 "nbformat": 4,
 "nbformat_minor": 4
}
