{
 "cells": [
  {
   "cell_type": "code",
   "execution_count": 2,
   "metadata": {},
   "outputs": [
    {
     "name": "stdout",
     "output_type": "stream",
     "text": [
      "The autoreload extension is already loaded. To reload it, use:\n",
      "  %reload_ext autoreload\n"
     ]
    }
   ],
   "source": [
    "%load_ext autoreload\n",
    "%matplotlib inline"
   ]
  },
  {
   "cell_type": "code",
   "execution_count": 3,
   "metadata": {},
   "outputs": [],
   "source": [
    "import os\n",
    "import sys\n",
    "import re\n",
    "import random\n",
    "from argparse import Namespace\n",
    "\n",
    "sys.path.append('../src-py/')\n",
    "\n",
    "os.environ[\"CUDA_VISIBLE_DEVICES\"]=\"0\""
   ]
  },
  {
   "cell_type": "code",
   "execution_count": 4,
   "metadata": {},
   "outputs": [],
   "source": [
    "%autoreload\n",
    "\n",
    "from utils import *\n",
    "from project_debater_api import *"
   ]
  },
  {
   "cell_type": "code",
   "execution_count": 5,
   "metadata": {},
   "outputs": [
    {
     "name": "stdout",
     "output_type": "stream",
     "text": [
      "2022-06-28 08:05:25,819 loading file ../../data-ceph/arguana/arg-generation/claim-target-tagger/model/final-model.pt\n"
     ]
    }
   ],
   "source": [
    "from mt_bart_v2 import *\n",
    "from ca_utils import *"
   ]
  },
  {
   "cell_type": "code",
   "execution_count": 6,
   "metadata": {},
   "outputs": [],
   "source": [
    "import pickle\n",
    "import torch\n",
    "import json\n",
    "\n",
    "import nltk\n",
    "import numpy as np\n",
    "import pandas as pd\n",
    "\n",
    "from pathlib import Path\n",
    "from tabulate import tabulate\n",
    "pd.set_option('display.max_colwidth', None)\n",
    "\n",
    "import matplotlib.pyplot as plt"
   ]
  },
  {
   "cell_type": "code",
   "execution_count": 7,
   "metadata": {},
   "outputs": [],
   "source": [
    "from datasets import load_dataset, load_metric, Dataset"
   ]
  },
  {
   "cell_type": "code",
   "execution_count": 8,
   "metadata": {},
   "outputs": [
    {
     "data": {
      "text/plain": [
       "device(type='cuda')"
      ]
     },
     "execution_count": 8,
     "metadata": {},
     "output_type": "execute_result"
    }
   ],
   "source": [
    "device = torch.device('cuda') if torch.cuda.is_available() else torch.device('cpu')\n",
    "device"
   ]
  },
  {
   "cell_type": "markdown",
   "metadata": {
    "jp-MarkdownHeadingCollapsed": true,
    "tags": []
   },
   "source": [
    "## General:"
   ]
  },
  {
   "cell_type": "code",
   "execution_count": 9,
   "metadata": {},
   "outputs": [],
   "source": [
    "ceph_dir = '/home/sile2804/data-ceph/arguana/arg-generation/multi-taks-counter-argument-generation'\n",
    "local_home_dir = '../data'"
   ]
  },
  {
   "cell_type": "code",
   "execution_count": 10,
   "metadata": {},
   "outputs": [],
   "source": [
    "def generate_ds_attacks(ds, model, tokenizer, premises_clm, conclusion_clm, gen_kwargs, skip_special_tokens=True, batch_size=5):\n",
    "    \n",
    "    ds = ds.map(lambda x :preprocess_function(x, tokenizer, premises_clm, 'counter', conclusion_clm=conclusion_clm), batched=True)\n",
    "    ds.set_format(type='torch', columns=['input_ids', 'attention_mask', 'labels'])\n",
    "    dataloader = torch.utils.data.DataLoader(ds, batch_size=batch_size)\n",
    "    attacks = generate_counters(model, tokenizer, dataloader, gen_kwargs, skip_special_tokens=skip_special_tokens)\n",
    "    \n",
    "    return attacks\n",
    "\n",
    "def create_predictions_df(reddit_sample_valid_ds, gen_kwargs, premises_clm='masked_premises'):\n",
    "    \n",
    "    #joint_attacks       = generate_ds_attacks(reddit_sample_valid_ds, join_model, join_model_tokenizer, premises_clm, None, gen_kwargs)\n",
    "    #noconc_attacks      = generate_ds_attacks(reddit_sample_valid_ds, no_conclusion_model, no_conclusion_tokenizer, premises_clm, None, gen_kwargs)\n",
    "    \n",
    "    known_conc_attacks  = generate_ds_attacks(reddit_sample_valid_ds, known_conclusion_model, known_conclusion_tokenizer, premises_clm, 'title', gen_kwargs)\n",
    "    bart_conc_attacks   = generate_ds_attacks(reddit_sample_valid_ds, known_conclusion_model, known_conclusion_tokenizer, premises_clm, 'bart_conclusion', gen_kwargs)\n",
    "    masked_conc_attacks = generate_ds_attacks(reddit_sample_valid_ds, known_conclusion_model, known_conclusion_tokenizer, premises_clm, None, gen_kwargs)\n",
    "    \n",
    "    #update max_gen_length to account to the generated conclusion\n",
    "    gen_kwargs['max_length'] = gen_kwargs['max_length'] + 50\n",
    "    joint_conc_baseline_attacks  = generate_ds_attacks(reddit_sample_valid_ds, pred_conclusion_model, pred_conclusion_tokenizer, premises_clm, None, gen_kwargs, skip_special_tokens=False)\n",
    "    \n",
    "    #gen_kwargs['max_length'] = gen_kwargs['max_length'] + 50\n",
    "    #planning_attacks         = generate_ds_attacks(reddit_sample_valid_ds, planning_model, planning_model_tokenizer, premises_clm, None, gen_kwargs, skip_special_tokens=False)\n",
    "\n",
    "    reddit_pred_df = pd.DataFrame(list(zip(\n",
    "                                           reddit_sample_valid_ds['post_id'],\n",
    "                                           reddit_sample_valid_ds['title'], \n",
    "                                           reddit_sample_valid_ds['conclusion_targets'],\n",
    "                                           reddit_sample_valid_ds['conclusion_stance'],\n",
    "                                           reddit_sample_valid_ds['bart_conclusion'], \n",
    "                                           reddit_sample_valid_ds[premises_clm],\n",
    "                                           reddit_sample_valid_ds['counter'], \n",
    "                                           known_conc_attacks, masked_conc_attacks, \n",
    "                                           bart_conc_attacks, joint_conc_baseline_attacks)), \n",
    "                    columns=['post_id', 'conclusion', 'conclusion_target', 'conclusion_stance', 'bart_conclusion', \n",
    "                             'premises', 'gt_attack', 'known_conc_attacks', 'masked_conc_attacks', \n",
    "                             'bart_conc_attacks',  'joint_conc_baseline_attacks'])\n",
    "\n",
    "    reddit_pred_df['argument'] = reddit_pred_df.apply(lambda row: row['conclusion'] + ' : ' + ' '.join(row['premises']), axis=1)\n",
    "    reddit_pred_df['premises'] = reddit_pred_df['premises'].apply(lambda x: ' '.join(x))\n",
    "\n",
    "    #process the jointly generated conclusion and counter\n",
    "    reddit_pred_df['joint_conc_baseline'] = reddit_pred_df['joint_conc_baseline_attacks'].apply (lambda x: x.split('<counter>')[0])\n",
    "    reddit_pred_df['joint_conc_baseline_attacks'] = reddit_pred_df['joint_conc_baseline_attacks'].apply (lambda x: x.split('<counter>')[1] if '<counter>' in x else x)\n",
    "    reddit_pred_df['joint_conc_baseline'] = reddit_pred_df['joint_conc_baseline'].apply (lambda x: re.sub('<s>|</s>|<conclusion>|<counter>|<pad>', '', x).strip())\n",
    "    reddit_pred_df['joint_conc_baseline_attacks'] = reddit_pred_df['joint_conc_baseline_attacks'].apply (lambda x: re.sub('<s>|</s>|<conclusion>|<counter>|<pad>', '', x).strip())\n",
    "\n",
    "    #similar to the jointly generated conclusion and counter\n",
    "    #reddit_pred_df['planning_counter_conclusion']  = reddit_pred_df['planning_attacks'].apply (lambda x: x.split('<claim>')[0])\n",
    "    #reddit_pred_df['planning_counter_attack'] = reddit_pred_df['planning_attacks'].apply (lambda x: x.split('<claim>')[1] if '<claim>' in x else x)\n",
    "    #reddit_pred_df['planning_counter_conclusion']  = reddit_pred_df['planning_counter_conclusion'].apply (lambda x: re.sub('<s>|</s>|<conclusion>|<counter>|<pad>', '', x).strip())\n",
    "    #reddit_pred_df['planning_counter_attack'] = reddit_pred_df['planning_counter_attack'].apply (lambda x: re.sub('<s>|</s>|<conclusion>|<counter>|<pad>', '', x).strip())\n",
    "\n",
    "    \n",
    "    return reddit_pred_df\n",
    "\n",
    "    \n",
    "def get_evaluation_results(reddit_pred_df, df_path, pred_clms, batched=False, detailed=False):\n",
    "    \n",
    "    #collect references\n",
    "    df = pd.read_pickle(df_path)\n",
    "    #Remove the first character from counter if it is a special character...\n",
    "    df['counter'] = df['counter'].apply(lambda counter_sents: [counter_sent for counter_sent in counter_sents if not counter_sent.startswith('!') and not counter_sent.startswith('.') and not counter_sent.startswith('?')])\n",
    "    arg_counters = df.groupby('post_id').agg({\n",
    "        'counter': lambda x: [' '.join(c) for c in x]\n",
    "    }).reset_index()\n",
    "\n",
    "    arg_counters = pd.Series(arg_counters.counter.values, index=arg_counters.post_id).to_dict()\n",
    "\n",
    "    reddit_pred_df['all_counters'] = reddit_pred_df['post_id'].apply(lambda x: arg_counters[x])\n",
    "    reddit_pred_df['all_counters'] = reddit_pred_df.all_counters.apply(lambda claims: [c for c in claims if len(c) > 0])\n",
    "    reddit_pred_df = reddit_pred_df[reddit_pred_df.all_counters.map(len) > 0]\n",
    "\n",
    "\n",
    "    #Test BLEU and BERT scores\n",
    "    eval_results = {}\n",
    "    for clm, clm_name in pred_clms.items():\n",
    "        eval_results[clm] = evaluate_gen_attacks(reddit_pred_df[clm_name].tolist(), reddit_pred_df['all_counters'].tolist(), detailed=detailed, batched=batched)\n",
    "        if detailed:\n",
    "            reddit_pred_df['{}_bleu'.format(clm_name)] = eval_results[clm]['bleu_scores']\n",
    "            reddit_pred_df['{}_bert'.format(clm_name)] = eval_results[clm]['bert-fscores']\n",
    "            \n",
    "    #Test stance correctness\n",
    "    #filtered_reddit_pred_df = reddit_pred_df[pd.notna(reddit_pred_df.conclusion_target)]\n",
    "    #print('Testing stance on only {} posts'.format(len(filtered_reddit_pred_df)))\n",
    "    \n",
    "    for clm, clm_name in pred_clms.items():\n",
    "        reddit_pred_df['{}_stances'.format(clm_name)] = get_stances(reddit_pred_df.conclusion_target.tolist(), \n",
    "                                                                        reddit_pred_df[clm_name].tolist())\n",
    "        eval_results[clm]['stance_score'] = round(np.mean([abs(x[0] - x[1]) for x in zip(reddit_pred_df['{}_stances'.format(clm_name)].tolist(), \n",
    "                                                                                         reddit_pred_df.conclusion_stance.tolist())]), 3)\n",
    "    \n",
    "    #compute stance scores using our trained stance classifier\n",
    "    for clm, clm_name in pred_clms.items():\n",
    "        _, labels, scores = get_stance_scores(reddit_pred_df.conclusion.tolist(), reddit_pred_df[clm_name].tolist())\n",
    "        scores = [x[1] if x[0] == 1 else -1 * x[1] for x in zip(labels, scores)] #postivie if opposing stance otherwise negative\n",
    "        eval_results[clm]['our_stance_score'] = (np.mean(scores), labels, scores)\n",
    "        if detailed:\n",
    "            reddit_pred_df['{}_our_stance_score'.format(clm_name)] = scores\n",
    "    \n",
    "    #compute argumentative quality\n",
    "    for clm, clm_name in pred_clms.items():\n",
    "        eval_results[clm]['quality_score'] = get_arg_quality(reddit_pred_df[clm_name].tolist())\n",
    "        \n",
    "        if detailed:\n",
    "            reddit_pred_df['{}_quality_score'.format(clm_name)] = eval_results[clm]['quality_score'][1]\n",
    "        \n",
    "    return eval_results, reddit_pred_df\n",
    "\n",
    "\n",
    "def print_results(pred_df_scores, stances_df, pred_clms, print_sig=False, sig_lvl=0.1):\n",
    "    for key in pred_clms:\n",
    "        for key2 in ['bleu', 'bert-fscore']:\n",
    "            pred_df_scores[key][key2] = round(pred_df_scores[key][key2], 3)\n",
    "    \n",
    "    results = []\n",
    "    for clm, _ in pred_clms.items():\n",
    "        clm_res = pred_df_scores[clm]\n",
    "        results.append([clm] + [clm_res['bleu'], clm_res['bert-fscore'], clm_res['stance_score'], clm_res['quality_score'][0], clm_res['our_stance_score'][0]])\n",
    "\n",
    "    res_table = tabulate(results, headers=['bleu', 'bert-f1score', 'stance-score (diff)', 'arg-quality', 'stance-score-2'])\n",
    "    \n",
    "    print(res_table)\n",
    "    \n",
    "    \n",
    "    if print_sig:\n",
    "        \n",
    "        #masked_conc_stance_scores= [abs(x[0] - x[1]) for x in zip(stances_df.masked_conc_attacks_stances.tolist(), stances_df.conclusion_stance.tolist())]\n",
    "        #bart_conc_stance_scores  = [abs(x[0] - x[1]) for x in zip(stances_df.bart_conc_attacks_stances.tolist(), stances_df.conclusion_stance.tolist())]\n",
    "        #pred_conc_stance_scores  = [abs(x[0] - x[1]) for x in zip(stances_df.joint_conc_baseline_attacks_stances.tolist(), stances_df.conclusion_stance.tolist())]\n",
    "        #multi_conc_pipeline_stance_scores = [abs(x[0] - x[1]) for x in zip(stances_df.multi_counter_pipeline_stances.tolist(), stances_df.conclusion_stance.tolist())]\n",
    "        #multi_conc_joint_stance_scores    = [abs(x[0] - x[1]) for x in zip(stances_df.multi_counter_joint_stances.tolist(), stances_df.conclusion_stance.tolist())]\n",
    "        #known_conc_stance_scores = [abs(x[0] - x[1]) for x in zip(stances_df.known_conc_attacks_stances.tolist(), stances_df.conclusion_stance.tolist())]\n",
    "        #shared_encoder_stance_scores = [abs(x[0] - x[1]) for x in zip(stances_df.shared_encoder_preds_stances.tolist(), stances_df.conclusion_stance.tolist())]\n",
    "        for clm, _ in pred_clms.items():\n",
    "            print('=======')\n",
    "            #Check significancy:\n",
    "            print('{} vs baseline (BLEU):'.format(clm), check_sig(pred_df_scores[clm]['bleu_scores'], pred_df_scores['Masked Conclusion']['bleu_scores'], alpha=sig_lvl))\n",
    "            print('{} vs baseline (BERT):'.format(clm), check_sig(pred_df_scores[clm]['bert-fscores'], pred_df_scores['Masked Conclusion']['bert-fscores'], alpha=sig_lvl))\n",
    "            #print('BART vs baseline (STANCE):', check_sig(bart_conc_stance_scores, masked_conc_stance_scores, alpha=sig_lvl))\n",
    "            print('{} vs baseline (STANCE-2):'.format(clm), check_sig(pred_df_scores[clm]['our_stance_score'][1], pred_df_scores['Masked Conclusion']['our_stance_score'][1], alpha=sig_lvl))\n",
    "        \n",
    "    return res_table\n",
    "\n",
    "\n",
    "def generate_manual_eval_df(df, clms=['masked_conc_attacks', 'multi_counter_joint', 'pred_counter_arguments_no_stance', 'bart_conc_attacks']):\n",
    "    data = []\n",
    "    for idx, row in df.iterrows():\n",
    "        i = 0\n",
    "        random.shuffle(clms)\n",
    "        for clm in clms :\n",
    "            if i == 0:\n",
    "                data.append([row['post_id'], row['argument'], row[clm], clm])\n",
    "            else:\n",
    "                data.append(['', '', row[clm], clm])\n",
    "            i+=1\n",
    "    \n",
    "    res_df = pd.DataFrame(data, columns=['ID', 'Argument', 'Counter', 'Approach name'])\n",
    "    \n",
    "    return res_df"
   ]
  },
  {
   "cell_type": "markdown",
   "metadata": {},
   "source": [
    "----------------------"
   ]
  },
  {
   "cell_type": "markdown",
   "metadata": {
    "jp-MarkdownHeadingCollapsed": true,
    "tags": []
   },
   "source": [
    "## Generated Predictions:"
   ]
  },
  {
   "cell_type": "code",
   "execution_count": 11,
   "metadata": {},
   "outputs": [],
   "source": [
    "#data_unique_path = '/reddit_data/conclusion_and_ca_generation/test_conclusion_all_preprocessed.pkl'\n",
    "data_unique_path = '/reddit_data/conclusion_and_ca_generation/sample_test_conclusion_all_preprocessed.pkl'\n",
    "data_path = '/reddit_data/conclusion_and_ca_generation/test_conclusion_all.pkl'"
   ]
  },
  {
   "cell_type": "code",
   "execution_count": 11,
   "metadata": {},
   "outputs": [],
   "source": [
    "# # Loading Reddit models\n",
    "#no_conclusion_model = BartForConditionalGeneration.from_pretrained('facebook/bart-large').to(device)\n",
    "#no_conclusion_tokenizer = BartTokenizer.from_pretrained('facebook/bart-large')\n",
    "#planning_model = BartForConditionalGeneration.from_pretrained(local_home_dir + '/output/ca-final-models/planning-model/checkpoint-9000').to(device)\n",
    "#planning_model_tokenizer = BartTokenizer.from_pretrained(local_home_dir + '/output/ca-final-models/planning-model/checkpoint-9000')\n",
    "#join_model_dws_tokenizer = BartTokenizer.from_pretrained(local_home_dir + '/output/ca-final-models/mt-model-dynamic-weighting-scheme/checkpoint-9500')\n",
    "#join_model_dws  = BartModelV2.from_pretrained(local_home_dir + '/output/ca-final-models/mt-model-dynamic-weighting-scheme/checkpoint-9500', compute_dynamic_weights=True, conc_decoder=True).to(device)\n",
    "#join_model_tokenizer = BartTokenizer.from_pretrained(local_home_dir + '/output/ca-final-models/mt-model-baseline-weighting-scheme/checkpoint-9500')\n",
    "#join_model  = BartModelV2.from_pretrained(local_home_dir + '/output/ca-final-models/mt-model-baseline-weighting-scheme/checkpoint-9500', compute_dynamic_weights=False, conc_decoder=True).to(device)\n",
    "\n",
    "known_conclusion_model = BartForConditionalGeneration.from_pretrained(local_home_dir + '/output/ca-final-models/known-conc-model/checkpoint-9500').to(device)\n",
    "known_conclusion_tokenizer = BartTokenizer.from_pretrained(local_home_dir + '/output/ca-final-models/known-conc-model/checkpoint-9500')\n",
    "\n",
    "pred_conclusion_model = BartForConditionalGeneration.from_pretrained(local_home_dir + '/output/ca-final-models/pred-conc-model').to(device)\n",
    "pred_conclusion_tokenizer = BartTokenizer.from_pretrained(local_home_dir + '/output/ca-final-models/pred-conc-model')"
   ]
  },
  {
   "cell_type": "code",
   "execution_count": null,
   "metadata": {},
   "outputs": [],
   "source": [
    "valid_df = pd.read_pickle(ceph_dir + data_unique_path)"
   ]
  },
  {
   "cell_type": "code",
   "execution_count": 89,
   "metadata": {
    "scrolled": true,
    "tags": []
   },
   "outputs": [
    {
     "name": "stdout",
     "output_type": "stream",
     "text": [
      "Testing on 2000 posts\n"
     ]
    },
    {
     "data": {
      "application/vnd.jupyter.widget-view+json": {
       "model_id": "6454f9f4571445fda82fae7d88e2bb8a",
       "version_major": 2,
       "version_minor": 0
      },
      "text/plain": [
       "Flattening the indices:   0%|          | 0/2 [00:00<?, ?ba/s]"
      ]
     },
     "metadata": {},
     "output_type": "display_data"
    }
   ],
   "source": [
    "#Create a dataset\n",
    "print('Testing on {} posts'.format(len(valid_df)))\n",
    "valid_ds = Dataset.from_pandas(valid_df)\n",
    "valid_ds = valid_ds.flatten_indices()"
   ]
  },
  {
   "cell_type": "code",
   "execution_count": 91,
   "metadata": {
    "scrolled": true,
    "tags": []
   },
   "outputs": [],
   "source": [
    "#Generate counters according to best parameters...\n",
    "gen_kwargs = {\n",
    "    \"do_sample\": False, \n",
    "    \"max_length\":100,\n",
    "    \"min_length\":50,\n",
    "    \"no_repeat_ngram_size\":3,\n",
    "    \"top_p\":0.95, \n",
    "    \"num_beams\":4\n",
    "}\n",
    "\n",
    "#generate predictions\n",
    "reddit_pred_df = create_predictions_df(valid_ds, gen_kwargs, premises_clm='post')\n",
    "reddit_pred_df.to_pickle('../data/output/reddit_pred_test_no_sampling_4beam_df.pkl')"
   ]
  },
  {
   "cell_type": "code",
   "execution_count": 92,
   "metadata": {},
   "outputs": [
    {
     "data": {
      "application/vnd.jupyter.widget-view+json": {
       "model_id": "7ddee04eebb94a75b20db696fcb7243d",
       "version_major": 2,
       "version_minor": 0
      },
      "text/plain": [
       "  0%|          | 0/2 [00:00<?, ?ba/s]"
      ]
     },
     "metadata": {},
     "output_type": "display_data"
    },
    {
     "data": {
      "application/vnd.jupyter.widget-view+json": {
       "model_id": "1038269881a64e1d82af369f6a41b16b",
       "version_major": 2,
       "version_minor": 0
      },
      "text/plain": [
       "  0%|          | 0/2 [00:00<?, ?ba/s]"
      ]
     },
     "metadata": {},
     "output_type": "display_data"
    },
    {
     "data": {
      "application/vnd.jupyter.widget-view+json": {
       "model_id": "e4d8c07ed7b2418582b30c4eb5a50876",
       "version_major": 2,
       "version_minor": 0
      },
      "text/plain": [
       "  0%|          | 0/2 [00:00<?, ?ba/s]"
      ]
     },
     "metadata": {},
     "output_type": "display_data"
    },
    {
     "data": {
      "application/vnd.jupyter.widget-view+json": {
       "model_id": "8421efaece524f9ab70a3e01ac367b05",
       "version_major": 2,
       "version_minor": 0
      },
      "text/plain": [
       "  0%|          | 0/2 [00:00<?, ?ba/s]"
      ]
     },
     "metadata": {},
     "output_type": "display_data"
    }
   ],
   "source": [
    "#Generate counters according to best parameters...\n",
    "gen_kwargs = {\n",
    "    \"do_sample\": True, \n",
    "    \"max_length\":100,\n",
    "    \"min_length\":50,\n",
    "    \"top_k\": 50,\n",
    "    \"no_repeat_ngram_size\":3,\n",
    "    \"top_p\":0.95, \n",
    "    \"num_beams\":4\n",
    "}\n",
    "\n",
    "#generate predictions\n",
    "reddit_pred_df = create_predictions_df(valid_ds, gen_kwargs, premises_clm='post')\n",
    "reddit_pred_df.to_pickle('../data/output/reddit_pred_test_with_sampling_4beam_df.pkl')"
   ]
  },
  {
   "cell_type": "markdown",
   "metadata": {},
   "source": [
    "### Load prediction dataframes:"
   ]
  },
  {
   "cell_type": "code",
   "execution_count": 11,
   "metadata": {},
   "outputs": [],
   "source": [
    "#reddit_pred_df = pd.read_pickle('../data/output/reddit_pred_test_with_sampling_1beam_df.pkl')\n",
    "reddit_pred_df = pd.read_pickle('../data/output/reddit_pred_test_with_sampling_4beam_df.pkl')\n",
    "#reddit_pred_df = pd.read_pickle('../data/output/reddit_pred_test_no_sampling_4beam_df.pkl')"
   ]
  },
  {
   "cell_type": "code",
   "execution_count": 12,
   "metadata": {},
   "outputs": [],
   "source": [
    "#multi_counter_preds_via_joint_model = pd.read_pickle('../data/output/multi_conclusions_via_joint_model.pkl')\n",
    "#multi_counter_preds_via_pipeline_model = pd.read_pickle('../data/output/multi_conclusions_via_pipeline_model.pkl')\n",
    "\n",
    "multi_counter_preds_via_joint_model = pd.read_pickle('../data/output/multi_conclusions_via_joint_model_withsampling_4beams.pkl')\n",
    "multi_counter_preds_via_pipeline_model = pd.read_pickle('../data/output/multi_conclusions_via_pipeline_model_withsample_4beam.pkl')\n",
    "\n",
    "#shared_encoder_preds = pd.read_pickle('../data/output/ca-final-models/mt-v2/predictions.pkl')\n",
    "\n",
    "stance_based_preds = pd.read_pickle('../data/output/ca-final-models/mt-v4/results/test_preds_df.pkl')\n",
    "#stance_based_preds = pd.read_pickle('../data/output/ca-final-models/mt-v4/results/test_prompts_preds_df.pkl')"
   ]
  },
  {
   "cell_type": "code",
   "execution_count": 13,
   "metadata": {
    "scrolled": true,
    "tags": []
   },
   "outputs": [],
   "source": [
    "reddit_pred_df = reddit_pred_df.merge(multi_counter_preds_via_joint_model[['post_id', 'best_counter']], on=['post_id'])\n",
    "reddit_pred_df= reddit_pred_df.rename(columns={'best_counter': 'multi_counter_joint'})\n",
    "\n",
    "reddit_pred_df = reddit_pred_df.merge(multi_counter_preds_via_pipeline_model[['post_id', 'best_counter']], on=['post_id'])\n",
    "reddit_pred_df= reddit_pred_df.rename(columns={'best_counter': 'multi_counter_pipeline'})\n",
    "\n",
    "#reddit_pred_df = reddit_pred_df.merge(shared_encoder_preds[['post_id', 'post_counter']], on=['post_id'])\n",
    "#reddit_pred_df = reddit_pred_df.rename(columns={'post_counter': 'shared_encoder_preds'})\n",
    "\n",
    "reddit_pred_df = reddit_pred_df.merge(stance_based_preds, on=['post_id'])"
   ]
  },
  {
   "cell_type": "markdown",
   "metadata": {},
   "source": [
    "-----------"
   ]
  },
  {
   "cell_type": "markdown",
   "metadata": {},
   "source": [
    "#### Automatic evaluation:"
   ]
  },
  {
   "cell_type": "code",
   "execution_count": 15,
   "metadata": {},
   "outputs": [],
   "source": [
    "pred_clms = {  \n",
    "    'Masked Conclusion': 'masked_conc_attacks',\n",
    "    'BART Conclusion': 'bart_conc_attacks',\n",
    "    'Joint Prediction': 'joint_conc_baseline_attacks',\n",
    "    'Multi Conclusions (pipeline prediction)': 'multi_counter_pipeline',\n",
    "    'Multi Conclusions (joint prediction)': 'multi_counter_joint',\n",
    "    'Stance Based CAG (w/o stance)': 'single_pred_counter_arguments_no_stance',\n",
    "    'Stance Based CAG (M- w/o stance)': 'pred_counter_arguments_no_stance',\n",
    "    'Known Conclusion': 'known_conc_attacks',\n",
    "}"
   ]
  },
  {
   "cell_type": "code",
   "execution_count": 15,
   "metadata": {
    "scrolled": true,
    "tags": []
   },
   "outputs": [
    {
     "name": "stderr",
     "output_type": "stream",
     "text": [
      "ProConClient: 100%|██████████| 2000/2000 [00:36<00:00, 54.38it/s]\n",
      "ProConClient: 100%|██████████| 2000/2000 [00:39<00:00, 50.31it/s]\n"
     ]
    }
   ],
   "source": [
    "eval_results, eval_df = get_evaluation_results(reddit_pred_df, ceph_dir + data_path, pred_clms=pred_clms, batched=False, detailed=True)"
   ]
  },
  {
   "cell_type": "code",
   "execution_count": 81,
   "metadata": {
    "scrolled": true,
    "tags": []
   },
   "outputs": [
    {
     "name": "stdout",
     "output_type": "stream",
     "text": [
      "                                           bleu    bert-f1score    stance-score (diff)    arg-quality    stance-score-2\n",
      "---------------------------------------  ------  --------------  ---------------------  -------------  ----------------\n",
      "Masked Conclusion                         0.154           0.137                  0.82            0.71          0.475111\n",
      "BART Conclusion                           0.157           0.146                  0.833           0.71          0.455469\n",
      "Joint Prediction                          0.148           0.162                  0.83            0.7           0.494504\n",
      "Multi Conclusions (pipeline prediction)   0.143           0.143                  0.892           0.71          0.613998\n",
      "Multi Conclusions (joint prediction)      0.146           0.146                  0.889           0.7           0.683338\n",
      "Stance Based CAG (w/o stance)             0.151           0.138                  0.817           0.7           0.483952\n",
      "Stance Based CAG (M- w/o stance)          0.164           0.147                  0.833           0.7           0.644385\n",
      "Known Conclusion                          0.174           0.159                  0.804           0.71          0.562475\n",
      "=======\n",
      "Masked Conclusion vs baseline (BLEU): False\n",
      "Masked Conclusion vs baseline (BERT): False\n",
      "Masked Conclusion vs baseline (STANCE-2): False\n",
      "=======\n",
      "BART Conclusion vs baseline (BLEU): False\n",
      "BART Conclusion vs baseline (BERT): True\n",
      "BART Conclusion vs baseline (STANCE-2): False\n",
      "=======\n",
      "Joint Prediction vs baseline (BLEU): False\n",
      "Joint Prediction vs baseline (BERT): True\n",
      "Joint Prediction vs baseline (STANCE-2): False\n",
      "=======\n",
      "Multi Conclusions (pipeline prediction) vs baseline (BLEU): False\n",
      "Multi Conclusions (pipeline prediction) vs baseline (BERT): True\n",
      "Multi Conclusions (pipeline prediction) vs baseline (STANCE-2): True\n",
      "=======\n",
      "Multi Conclusions (joint prediction) vs baseline (BLEU): False\n",
      "Multi Conclusions (joint prediction) vs baseline (BERT): True\n",
      "Multi Conclusions (joint prediction) vs baseline (STANCE-2): True\n",
      "=======\n",
      "Stance Based CAG (w/o stance) vs baseline (BLEU): False\n",
      "Stance Based CAG (w/o stance) vs baseline (BERT): False\n",
      "Stance Based CAG (w/o stance) vs baseline (STANCE-2): False\n",
      "=======\n",
      "Stance Based CAG (M- w/o stance) vs baseline (BLEU): True\n",
      "Stance Based CAG (M- w/o stance) vs baseline (BERT): True\n",
      "Stance Based CAG (M- w/o stance) vs baseline (STANCE-2): True\n",
      "=======\n",
      "Known Conclusion vs baseline (BLEU): True\n",
      "Known Conclusion vs baseline (BERT): True\n",
      "Known Conclusion vs baseline (STANCE-2): True\n"
     ]
    },
    {
     "name": "stderr",
     "output_type": "stream",
     "text": [
      "/usr/local/lib/python3.6/dist-packages/scipy/stats/morestats.py:1678: UserWarning: Input data for shapiro has range zero. The results may not be accurate.\n",
      "  warnings.warn(\"Input data for shapiro has range zero. The results \"\n"
     ]
    }
   ],
   "source": [
    "x = print_results(eval_results, eval_df, pred_clms, print_sig=True)"
   ]
  },
  {
   "cell_type": "code",
   "execution_count": 82,
   "metadata": {},
   "outputs": [],
   "source": [
    "eval_df = split_dataframe_per_conc_similarity(eval_df)"
   ]
  },
  {
   "cell_type": "code",
   "execution_count": 83,
   "metadata": {},
   "outputs": [],
   "source": [
    "eval_df['arg_len'] = eval_df.premises.apply(lambda x: len(x.split()))"
   ]
  },
  {
   "cell_type": "code",
   "execution_count": 104,
   "metadata": {},
   "outputs": [
    {
     "name": "stdout",
     "output_type": "stream",
     "text": [
      "Masked Conclusion score is: 0.463\n",
      "BART Conclusion score is: 0.48\n",
      "Joint Prediction score is: 0.4735\n",
      "Multi Conclusions (pipeline prediction) score is: 0.524\n",
      "Multi Conclusions (joint prediction) score is: 0.514\n",
      "Stance Based CAG (w/o stance) score is: 0.4575\n",
      "Stance Based CAG (M- w/o stance) score is: 0.491\n",
      "Known Conclusion score is: 0.4635\n"
     ]
    }
   ],
   "source": [
    "for clm_name, clm in pred_clms.items():\n",
    "    eval_df['{}_opposing'.format(clm)] = eval_df.apply(lambda row: 1 if row['{}_stances'.format(clm)] * row['conclusion_stance'] < 0 else 0, axis=1)\n",
    "    print('{} score is: {}'.format(clm_name, eval_df['{}_opposing'.format(clm)].mean()))"
   ]
  },
  {
   "cell_type": "code",
   "execution_count": 102,
   "metadata": {
    "scrolled": true,
    "tags": []
   },
   "outputs": [
    {
     "data": {
      "text/html": [
       "<div>\n",
       "<style scoped>\n",
       "    .dataframe tbody tr th:only-of-type {\n",
       "        vertical-align: middle;\n",
       "    }\n",
       "\n",
       "    .dataframe tbody tr th {\n",
       "        vertical-align: top;\n",
       "    }\n",
       "\n",
       "    .dataframe thead th {\n",
       "        text-align: right;\n",
       "    }\n",
       "</style>\n",
       "<table border=\"1\" class=\"dataframe\">\n",
       "  <thead>\n",
       "    <tr style=\"text-align: right;\">\n",
       "      <th></th>\n",
       "      <th>conclusion</th>\n",
       "      <th>conclusion_target</th>\n",
       "      <th>conclusion_stance</th>\n",
       "      <th>masked_conc_attacks_opposing</th>\n",
       "      <th>masked_conc_attacks_stances</th>\n",
       "    </tr>\n",
       "  </thead>\n",
       "  <tbody>\n",
       "    <tr>\n",
       "      <th>0</th>\n",
       "      <td>I Don't Believe in the Big Bang</td>\n",
       "      <td>the Big Bang</td>\n",
       "      <td>-0.972348</td>\n",
       "      <td>1</td>\n",
       "      <td>0.034053</td>\n",
       "    </tr>\n",
       "    <tr>\n",
       "      <th>1</th>\n",
       "      <td>There is no reason for Britain to remain in the EU.</td>\n",
       "      <td>Britain to remain in</td>\n",
       "      <td>-0.997971</td>\n",
       "      <td>1</td>\n",
       "      <td>0.949025</td>\n",
       "    </tr>\n",
       "    <tr>\n",
       "      <th>2</th>\n",
       "      <td>The Trump Administration Would Be Significantly More Harmful to US Domestic and International Policy W/out Moderates Like Mattis</td>\n",
       "      <td>Moderates Like Mattis</td>\n",
       "      <td>-0.775538</td>\n",
       "      <td>1</td>\n",
       "      <td>0.194553</td>\n",
       "    </tr>\n",
       "    <tr>\n",
       "      <th>3</th>\n",
       "      <td>Poisoning the well against fascists is a dishonest and therefore ineffective way of combating fascists</td>\n",
       "      <td>Poisoning the well against</td>\n",
       "      <td>0.860199</td>\n",
       "      <td>0</td>\n",
       "      <td>0.991565</td>\n",
       "    </tr>\n",
       "    <tr>\n",
       "      <th>4</th>\n",
       "      <td>Women have an easier time finding romantic partners than men</td>\n",
       "      <td>Women</td>\n",
       "      <td>0.042828</td>\n",
       "      <td>1</td>\n",
       "      <td>-0.289575</td>\n",
       "    </tr>\n",
       "    <tr>\n",
       "      <th>5</th>\n",
       "      <td>White people should not be berated for their past in colonialism, slavery, and genocide.</td>\n",
       "      <td>White people should not be berated for their past in colonialism, slavery, and genocide.</td>\n",
       "      <td>0.985865</td>\n",
       "      <td>0</td>\n",
       "      <td>0.597245</td>\n",
       "    </tr>\n",
       "    <tr>\n",
       "      <th>6</th>\n",
       "      <td>Free market Capitalism (Anarcho Capitalism, Laissez-Faire capitalism etc.) works the best, in opposition to Social-Democracy/Socialism, Communism.</td>\n",
       "      <td>Free market Capitalism</td>\n",
       "      <td>0.164403</td>\n",
       "      <td>1</td>\n",
       "      <td>-0.008470</td>\n",
       "    </tr>\n",
       "    <tr>\n",
       "      <th>7</th>\n",
       "      <td>Nuclear power in the current state is not a alternative to solar, water, wind and other renewable sources.</td>\n",
       "      <td>Nuclear power in the current state</td>\n",
       "      <td>-0.924555</td>\n",
       "      <td>1</td>\n",
       "      <td>0.997563</td>\n",
       "    </tr>\n",
       "    <tr>\n",
       "      <th>8</th>\n",
       "      <td>If Conflict theory is correct then White people and Asian people need to start fighting against diversity rhetoric</td>\n",
       "      <td>diversity rhetoric</td>\n",
       "      <td>-0.995260</td>\n",
       "      <td>0</td>\n",
       "      <td>-0.134029</td>\n",
       "    </tr>\n",
       "    <tr>\n",
       "      <th>9</th>\n",
       "      <td>It makes no sense (in secular occasions) to obsess over family themed holidays—such Thanksgiving and Christmas—when you have every other day of the year to be with family.</td>\n",
       "      <td>to obsess over family themed holidays — such Thanksgiving and Christmas</td>\n",
       "      <td>-0.352915</td>\n",
       "      <td>0</td>\n",
       "      <td>-0.371774</td>\n",
       "    </tr>\n",
       "    <tr>\n",
       "      <th>10</th>\n",
       "      <td>Adults should not be allowed to pose naked with children, even in the name of art.</td>\n",
       "      <td>to pose naked with children</td>\n",
       "      <td>-0.999095</td>\n",
       "      <td>0</td>\n",
       "      <td>-0.025545</td>\n",
       "    </tr>\n",
       "    <tr>\n",
       "      <th>11</th>\n",
       "      <td>suicide is the ultimate human right</td>\n",
       "      <td>suicide</td>\n",
       "      <td>-0.175233</td>\n",
       "      <td>0</td>\n",
       "      <td>-0.426019</td>\n",
       "    </tr>\n",
       "    <tr>\n",
       "      <th>12</th>\n",
       "      <td>Enlightenment, if truly possible through meditation or psychedelic substances, would be useless at best and possibly detrimental</td>\n",
       "      <td>Enlightenment , if truly possible through meditation or psychedelic substances</td>\n",
       "      <td>-0.998480</td>\n",
       "      <td>0</td>\n",
       "      <td>-0.094609</td>\n",
       "    </tr>\n",
       "    <tr>\n",
       "      <th>13</th>\n",
       "      <td>high profile political “whistle blowers” are mostly conniving opportunists</td>\n",
       "      <td>high profile political “ whistle blowers</td>\n",
       "      <td>-0.930624</td>\n",
       "      <td>0</td>\n",
       "      <td>-0.134704</td>\n",
       "    </tr>\n",
       "    <tr>\n",
       "      <th>14</th>\n",
       "      <td>It's 100% fine to be homophobic/hating of people who are LGBT.</td>\n",
       "      <td>to be homophobic / hating of people who are LGBT</td>\n",
       "      <td>-0.898317</td>\n",
       "      <td>0</td>\n",
       "      <td>-0.732355</td>\n",
       "    </tr>\n",
       "    <tr>\n",
       "      <th>15</th>\n",
       "      <td>Overtaxing prosperous business owners is detrimental to the wellbeing of society.</td>\n",
       "      <td>Overtaxing prosperous business owners</td>\n",
       "      <td>0.961711</td>\n",
       "      <td>0</td>\n",
       "      <td>0.948773</td>\n",
       "    </tr>\n",
       "    <tr>\n",
       "      <th>16</th>\n",
       "      <td>Women should not be allowed in combat units in the police or the military</td>\n",
       "      <td>Women</td>\n",
       "      <td>0.879801</td>\n",
       "      <td>0</td>\n",
       "      <td>0.179022</td>\n",
       "    </tr>\n",
       "    <tr>\n",
       "      <th>17</th>\n",
       "      <td>The modern women's march is a directionless movement and to liken it to the suffragette movement is completely absurd</td>\n",
       "      <td>The modern women 's march</td>\n",
       "      <td>-0.964883</td>\n",
       "      <td>1</td>\n",
       "      <td>0.620737</td>\n",
       "    </tr>\n",
       "    <tr>\n",
       "      <th>18</th>\n",
       "      <td>There should be an age cap that prevents politicians over 70 years old from holding public office.</td>\n",
       "      <td>over 70 years old</td>\n",
       "      <td>-0.359393</td>\n",
       "      <td>0</td>\n",
       "      <td>-0.121208</td>\n",
       "    </tr>\n",
       "    <tr>\n",
       "      <th>19</th>\n",
       "      <td>This world is doomed and will slide towards the death of at least half humanity within this century.</td>\n",
       "      <td>This world</td>\n",
       "      <td>-0.444297</td>\n",
       "      <td>1</td>\n",
       "      <td>0.905966</td>\n",
       "    </tr>\n",
       "  </tbody>\n",
       "</table>\n",
       "</div>"
      ],
      "text/plain": [
       "                                                                                                                                                                      conclusion  \\\n",
       "0                                                                                                                                                I Don't Believe in the Big Bang   \n",
       "1                                                                                                                            There is no reason for Britain to remain in the EU.   \n",
       "2                                               The Trump Administration Would Be Significantly More Harmful to US Domestic and International Policy W/out Moderates Like Mattis   \n",
       "3                                                                         Poisoning the well against fascists is a dishonest and therefore ineffective way of combating fascists   \n",
       "4                                                                                                                   Women have an easier time finding romantic partners than men   \n",
       "5                                                                                       White people should not be berated for their past in colonialism, slavery, and genocide.   \n",
       "6                             Free market Capitalism (Anarcho Capitalism, Laissez-Faire capitalism etc.) works the best, in opposition to Social-Democracy/Socialism, Communism.   \n",
       "7                                                                     Nuclear power in the current state is not a alternative to solar, water, wind and other renewable sources.   \n",
       "8                                                             If Conflict theory is correct then White people and Asian people need to start fighting against diversity rhetoric   \n",
       "9    It makes no sense (in secular occasions) to obsess over family themed holidays—such Thanksgiving and Christmas—when you have every other day of the year to be with family.   \n",
       "10                                                                                            Adults should not be allowed to pose naked with children, even in the name of art.   \n",
       "11                                                                                                                                           suicide is the ultimate human right   \n",
       "12                                              Enlightenment, if truly possible through meditation or psychedelic substances, would be useless at best and possibly detrimental   \n",
       "13                                                                                                    high profile political “whistle blowers” are mostly conniving opportunists   \n",
       "14                                                                                                                It's 100% fine to be homophobic/hating of people who are LGBT.   \n",
       "15                                                                                             Overtaxing prosperous business owners is detrimental to the wellbeing of society.   \n",
       "16                                                                                                     Women should not be allowed in combat units in the police or the military   \n",
       "17                                                         The modern women's march is a directionless movement and to liken it to the suffragette movement is completely absurd   \n",
       "18                                                                            There should be an age cap that prevents politicians over 70 years old from holding public office.   \n",
       "19                                                                          This world is doomed and will slide towards the death of at least half humanity within this century.   \n",
       "\n",
       "                                                                            conclusion_target  \\\n",
       "0                                                                                the Big Bang   \n",
       "1                                                                        Britain to remain in   \n",
       "2                                                                       Moderates Like Mattis   \n",
       "3                                                                  Poisoning the well against   \n",
       "4                                                                                       Women   \n",
       "5    White people should not be berated for their past in colonialism, slavery, and genocide.   \n",
       "6                                                                      Free market Capitalism   \n",
       "7                                                          Nuclear power in the current state   \n",
       "8                                                                          diversity rhetoric   \n",
       "9                     to obsess over family themed holidays — such Thanksgiving and Christmas   \n",
       "10                                                                to pose naked with children   \n",
       "11                                                                                    suicide   \n",
       "12             Enlightenment , if truly possible through meditation or psychedelic substances   \n",
       "13                                                   high profile political “ whistle blowers   \n",
       "14                                           to be homophobic / hating of people who are LGBT   \n",
       "15                                                      Overtaxing prosperous business owners   \n",
       "16                                                                                      Women   \n",
       "17                                                                  The modern women 's march   \n",
       "18                                                                          over 70 years old   \n",
       "19                                                                                 This world   \n",
       "\n",
       "    conclusion_stance  masked_conc_attacks_opposing  \\\n",
       "0           -0.972348                             1   \n",
       "1           -0.997971                             1   \n",
       "2           -0.775538                             1   \n",
       "3            0.860199                             0   \n",
       "4            0.042828                             1   \n",
       "5            0.985865                             0   \n",
       "6            0.164403                             1   \n",
       "7           -0.924555                             1   \n",
       "8           -0.995260                             0   \n",
       "9           -0.352915                             0   \n",
       "10          -0.999095                             0   \n",
       "11          -0.175233                             0   \n",
       "12          -0.998480                             0   \n",
       "13          -0.930624                             0   \n",
       "14          -0.898317                             0   \n",
       "15           0.961711                             0   \n",
       "16           0.879801                             0   \n",
       "17          -0.964883                             1   \n",
       "18          -0.359393                             0   \n",
       "19          -0.444297                             1   \n",
       "\n",
       "    masked_conc_attacks_stances  \n",
       "0                      0.034053  \n",
       "1                      0.949025  \n",
       "2                      0.194553  \n",
       "3                      0.991565  \n",
       "4                     -0.289575  \n",
       "5                      0.597245  \n",
       "6                     -0.008470  \n",
       "7                      0.997563  \n",
       "8                     -0.134029  \n",
       "9                     -0.371774  \n",
       "10                    -0.025545  \n",
       "11                    -0.426019  \n",
       "12                    -0.094609  \n",
       "13                    -0.134704  \n",
       "14                    -0.732355  \n",
       "15                     0.948773  \n",
       "16                     0.179022  \n",
       "17                     0.620737  \n",
       "18                    -0.121208  \n",
       "19                     0.905966  "
      ]
     },
     "execution_count": 102,
     "metadata": {},
     "output_type": "execute_result"
    }
   ],
   "source": [
    "eval_df[['conclusion', 'conclusion_target', 'conclusion_stance', '{}_opposing'.format(clm), '{}_stances'.format(clm)]].head(n=20)"
   ]
  },
  {
   "cell_type": "code",
   "execution_count": 106,
   "metadata": {
    "scrolled": true,
    "tags": []
   },
   "outputs": [
    {
     "data": {
      "text/html": [
       "<div>\n",
       "<style scoped>\n",
       "    .dataframe tbody tr th:only-of-type {\n",
       "        vertical-align: middle;\n",
       "    }\n",
       "\n",
       "    .dataframe tbody tr th {\n",
       "        vertical-align: top;\n",
       "    }\n",
       "\n",
       "    .dataframe thead th {\n",
       "        text-align: right;\n",
       "    }\n",
       "</style>\n",
       "<table border=\"1\" class=\"dataframe\">\n",
       "  <thead>\n",
       "    <tr style=\"text-align: right;\">\n",
       "      <th></th>\n",
       "      <th>conclusion</th>\n",
       "      <th>argument</th>\n",
       "      <th>masked_conc_attacks</th>\n",
       "      <th>multi_counter_pipeline</th>\n",
       "      <th>multi_counter_joint</th>\n",
       "      <th>pred_counter_arguments_no_stance</th>\n",
       "      <th>known_conc_attacks</th>\n",
       "    </tr>\n",
       "  </thead>\n",
       "  <tbody>\n",
       "    <tr>\n",
       "      <th>1080</th>\n",
       "      <td>\"Digging up old tweets\" is following the same path as #metoo</td>\n",
       "      <td>\"Digging up old tweets\" is following the same path as #metoo : only the progression is much faster this time around. this trend of celebrities using the court of public opinion to remove their competition or other obstacles to their careers started with sexual assault, a heinous crime. it worked spendidly, even in the cases where there was zero proof and the accused was not the correct sexual orientation, people bought the stories. then 'key members' of the movement started to get caught for the same stuff they are accusing others for, and they lost a great deal of credibility. time to rebrand! the lack of proof in most of these cases was beginning to be too much to just ignore as there were no attempts to try and explain it , people need facts to point to? time to dig up old tweets. normally, there is no issue. you wrote stupid things, you might get called out. however, once again this weapon is being turned against the ones who will use it amy schumer, sarah silverman, cheasea handler . it's being reported women can't be homophobic gt; in response, silverman, 48, shared a thread on twitter by greg hogben, an lgbt and women s rights advocate, who gave an explanation of why silverman and other female comedians comments on gay culture weren t homophobic. this is absurd, of course women can be homophobic. why is this falsehood being reported? simply, the backlash came before the chance to remove the men these people want gone has occured. until then, any criticism of 'digging up old tweets' will be ignored, downplayed and probably labelled as bigotry</td>\n",
       "      <td>the court of public opinion is not used to remove people's competition or other obstacles to their careers. it's used as a weapon to silence them. it has been used to silence many people in the past, and it is still being used against them.</td>\n",
       "      <td>the problem with deception is that it's not always a good thing. if you're lying to the public, then you're going to get called out for it. if someone is lying to you, and you don't believe them, then there's nothing you can do about it. that's not to say that lying is always a bad thing, but it's a very bad thing.</td>\n",
       "      <td>the court of public opinion is not used to remove competition or other obstacles to careers. it is used to protect the rights of the accused and protect the integrity of the accuser. the courts are not used for that purpose. the court is used for the protection of the public.</td>\n",
       "      <td>i'm going to take a different approach to this. i don't think it's a good idea to make a distinction between gay culture and lgbt culture. i think the difference between the two is that gay culture is a social movement, not a political movement.</td>\n",
       "      <td>the thing is, it's not the same thing as 'digging up old tweets' because it's an old tweet. it's a social media platform that is owned by the same company that owns amy schumer, sarah silverman, cheasea handler, and many of the other 'key members' of the'metoo' movement. the only difference is that there is no way to know if the tweets are old or new, but that doesn't mean</td>\n",
       "    </tr>\n",
       "    <tr>\n",
       "      <th>1124</th>\n",
       "      <td>Plants are the superior form of life</td>\n",
       "      <td>Plants are the superior form of life : from a purely pacifist productive point of view, and considering the metabolic pathways, plants are the final form of evolution. autotroph, nigh solipsistic, hurts noone and feeds everyone, continuous growth etc. in contrast to most other living organisms that are parasitical by nature. a plant generally sacrifices mobility for that kind of productivity, but pragmatically, most other life forms have used their mobility parasitically, foraging hunting extracting then moving to more bountiful areas. i would love to hear a rational point of view discussion.</td>\n",
       "      <td>plant life is not a purely pacifist productive point of view. it is the final form of evolution. plants are the only lifeforms that have ever evolved to the point where they are capable of killing other lifeforms. there is no other form of life that is capable of doing that.</td>\n",
       "      <td>i think you are misunderstanding the nature of lifeforms. lifeforms are not just lifeforms, they are the result of evolution. plants are lifeforms because they are part of the same ecological system as all other lifeforms in the universe.</td>\n",
       "      <td>all life forms have their limits. plants are not the end all. they have limits to the things they can do. there are limits to how fast they can grow, how much energy they can use, and how much water they can store. the limits of a plant's ability to grow are not based on how fast it is able to grow, but on how much it consumes.</td>\n",
       "      <td>i don't think plants are the final form of evolution, i think they are just a byproduct of evolution. i don't see how they are superior to other lifeforms in terms of productivity. i mean, i agree with you that some plants are more efficient than others, but that doesn't mean that they are better than other life forms. i think that if you look at it from a purely evolutionary point of view, there is no reason to think that plants are</td>\n",
       "      <td>plant life is the most efficient form of life because it is the only one that can adapt to environmental conditions. plants are the only ones that are able to adapt to changes in the environment in ways that other lifeforms cannot. for example, plants have adapted to survive in permafrost, which is a much warmer environment than hot, dry climates, and they adapt to the lack of sunlight in those conditions.</td>\n",
       "    </tr>\n",
       "    <tr>\n",
       "      <th>215</th>\n",
       "      <td>No word should have too much power</td>\n",
       "      <td>No word should have too much power : i think it s immature to give a word so much power. i think it s disrespectful to use a lot of these words in specific contexts. but if a white person is quoting someone else and uses the n word and someone gets insulted by that your clearly giving the word far too much power. when someone says f ggot but they re not referring to a gay man. context matters. people who automatically blacklist a person for use of a word are immature. sure if the word was used in a hateful manner i understand it. but just the word itself being enough to set someone off is silly.</td>\n",
       "      <td>using the word 'nigger' in a derogatory manner is not only disrespectful to the person using it, it is insulting to the people who are being insulted by it. if a white person is quoting someone else and using the word nigger, they are giving the word far too much power.</td>\n",
       "      <td>i don't think it's disrespectful to use the n word in specific contexts, but i think it is disrespectful to give a word so much power. i don't believe that people should use the word 'nigger' in general contexts. i think that it should be reserved for those who are in a position of power. for example, a white person can use the term 'nigga' to refer to a black person in a derogatory manner, but that doesn't</td>\n",
       "      <td>i don't think it's disrespectful to say the n word in certain contexts. i think it is disrespectful to call someone out for using the word in a derogatory way. it is not disrespectful to refer to someone as a nigger, it is insulting to them.</td>\n",
       "      <td>i don't think it's disrespectful to use the word 'nigga' in a derogatory way. i think the problem is that it's an offensive word. it's not a word, it's a slur. if you don't like the word, don't use it.</td>\n",
       "      <td>words have power. if you give a word too much power, you are giving it to someone who has no power over it. if a white person uses the word 'nigga' to refer to a black person, they are giving that word far more power than they would if they didn't use it.</td>\n",
       "    </tr>\n",
       "    <tr>\n",
       "      <th>1827</th>\n",
       "      <td>India did nothing wrong by bombing a terrorist camp in Pakistan</td>\n",
       "      <td>India did nothing wrong by bombing a terrorist camp in Pakistan : before you downvote me to hell given reddit's disdain for india, no i dont support us or any foreign military intervention and i think both sides need to find diplomatic ways to resolve tensions, especially considering that both countries have nuclear weapo . but i'm not going to pretend that india shouldn't have done anything, pakistanis constantly come on indian soil and commit devastating terrorist attacks such as 26 11 where hundreds of people died or the 2011 mumbai bombing among many othe s. the government encourages this behavior and when the bombings do occur, they simply ignore it or taunt india hell i believe osama bin laden was living a mere kilometer from a pakistani military base, which caused the us to supsend a third of its aid to pakista . recently a pakistani bombed a paramillitary convoy that killed 41 indian soliders, once again the paki government taunted india rather than apologizing and promising some sort of action to prevent this from happening aga . therefore, i think india retaliating was a good thing as a country cant keep taking terrorist attacks over and over again, eventually something needs to be do e. and quite frankly, i believe that pakistan should be the ones to blame for harboring terroris</td>\n",
       "      <td>pakistan is not to blame for harboring terroris. the pakistani government is to blame. pakistan has a long history of harboring terrorists and has done nothing to stop them. they are not responsible for mumbai and 26 11. the only reason they haven't done anything is because they are afraid of the us, and they don't want to draw the ire of the rest of the world.</td>\n",
       "      <td>pakistan is not responsible for the attacks on indian soil and that india has a good thing for it. the fact that pakistan has nuclear weapons doesn't mean they are responsible for these attacks. the only reason they do these attacks is because they want to.</td>\n",
       "      <td>i don't think it's right to blame pakistan for harboring terroris. i think the pakistani government is to blame for their actions. they are the ones harboring the terroris, not india. the only way to end this is to end the conflict between the two countries, which is going to take a long time.</td>\n",
       "      <td>i don't think it's fair to say that pakistan should be the ones to punish india. i think that india should have done more to stop pakistani terrorists in the first place. india has a right to defend itself, but that doesn't mean that it should be allowed to do so. if india doesn't want to go to war, then that's up to the people of india to decide whether or not they want to be</td>\n",
       "      <td>the problem is that pakistan and india both have nuclear weapons. it's not that india did nothing wrong by bombing a terrorist camp in Pakistan, it's that they both have a nuclear arsenal. india has the right to use it as a weapon of war against pakistani civilians.</td>\n",
       "    </tr>\n",
       "    <tr>\n",
       "      <th>1075</th>\n",
       "      <td>Arguing to convince others is a terrible, unproductive way to behave online</td>\n",
       "      <td>Arguing to convince others is a terrible, unproductive way to behave online : people who try to make others agree with them online almost always end up increasing polarization and antagonism. people should never argue against their opponents online because it treats the conversation as if it were a game or a war. and when someone wins that game or war, the result is not broader understanding, but a trophy to showcase their wit and intellect over the absurdity of the other side. the 'loser' feels invalidated and gets defensive. this is almost impossible to avoid in the heat of the moment, and the best way to get around it is to not start out with that mindset in the first place. arguments cannot lead to mutual understanding if everything is win or lose. people should instead approach arguments as opportunities to learn, rather than to convince others.</td>\n",
       "      <td>i don't think it's fair to say that people who try to make others agree with them online almost always end up increasing polarization and antagonism. i think the problem is that it's not that people don't agree with each other online, it's that they don't understand each other enough to be able to disagree with them.</td>\n",
       "      <td>i think you're overestimating the skill level of people who argue against people online. a lot of people are not that good at it, but they are good at trying to argue with people in public. i'm not saying that they are bad at it because they aren't good at arguing online, i'm just saying they are not good at doing it.</td>\n",
       "      <td>i don't think it's fair to say that people shouldn't argue against each other online, as long as they don't treat it as a war or a game. it's not a war, it's a debate.</td>\n",
       "      <td>i agree with you that people should never argue against their opponents online, but that doesn't mean that they should be allowed to argue against each other online. i don't think it's fair to say that arguing against your opponent online is a waste of time or energy.</td>\n",
       "      <td>arguing to convince others is a terrible, unproductive way to behave online. arguing to convince other people is not a bad way of behaving online. it is a way to communicate with others, and it is one of the best ways to interact with other people.</td>\n",
       "    </tr>\n",
       "    <tr>\n",
       "      <th>476</th>\n",
       "      <td>if the Soviet Union had won the Cold War we would be better able to manage the threat of climate change.</td>\n",
       "      <td>if the Soviet Union had won the Cold War we would be better able to manage the threat of climate change. : imagine a world where the soviet union and it s allies had won the cold war, and we were all living in a world with much higher levels of government control over the economy. i suggest this would enable our species to have a much greater chance to achieve the necessary level of transformational change in the economy necessary to manage global warming. there is a flaw in that communist ideology put the human at the centre of the universe, as evidenced by the truly appalling environmental damage caused by some soviet industries, but with science driving policy in the su, not the need to win votes, i contend government policy would eventually recognise global warming for the threat it is, and act accordingly. look at china s stance on gw vs the us.</td>\n",
       "      <td>the soviet union and it's allies had won the cold war, and we were all living in a world with much higher levels of government control over the economy. it would be a much greater chance to achieve the necessary level of transformational change in the economy necessary to manage global warming.</td>\n",
       "      <td>i think you're overestimating how effective a communist system would be at mitigating global warming. the soviet union and it's allies did a great deal to reduce pollution during the cold war, but the us has done a much better job of reducing pollution since then. china, for example, has been much more effective than the us at dealing with global warming, and the us is the world leader when it comes to dealing with climate change. it's not that ch</td>\n",
       "      <td>it's not about the economy, it's about the human race. the soviet union and it's allies had a huge impact on the world, but it wasn't enough to stop global warming.</td>\n",
       "      <td>i think you're overestimating the impact of global warming. global warming has the potential to have a huge impact on the rest of the world. if global warming were to happen, it would have a major impact on chinese and european economies, as well as the world as a whole.</td>\n",
       "      <td>i think it's a bit of a stretch to say that the soviet union would have been better able to manage the threat of climate change if they had won the cold war. if you look at the history of the world, there's a lot of evidence to suggest that the united states and the ussr have been doing a lot better than china and china has been doing. china is one of the fastest growing economies in the world and has been able</td>\n",
       "    </tr>\n",
       "    <tr>\n",
       "      <th>928</th>\n",
       "      <td>No job should require you to go bring a doctor's note unless they're willing to pay for your visit to the doctor</td>\n",
       "      <td>No job should require you to go bring a doctor's note unless they're willing to pay for your visit to the doctor : this applies mostly to low income jobs such as the fast food industry, movie theaters, or retail jobs. the fact of the matter is that going if i am working a job like that i most likely don't have a lot of money. the gas, the like of health care because i am poor, and the fact that i am genuinely sick make it all very difficult to go to a doctor over smaller things like the flu, or a cold. amp; x200b; unfortunately though, these jobs require you to go to the doctor as if everyone that works for them is a well off kid with parents to support them, and even if you do rely on your parents, it doesn't mean they can or are willing to pay for it either. i get that you want proof, but the proof should be in the amount of times you go. if you go once in a blue moon and it is clear that you are sick, you're not posting on social media, hanging out with friends or clearly dicking around? good. but if the person is 'sick' literally constantly all the time, and takes ridiculous amounts of days off and still constantly posts on facebook snapchat instagram twitter? doctors note or maybe just straight up discipline like normal. amp; x200b; cmv though, how is it okay to expect this and even threaten to fire people when you won't provide them with a wage that can afford it, or the health care to do it?</td>\n",
       "      <td>there's nothing wrong with requiring people to go to the doctor if they are sick, but it's not okay to expect them to do it if they do not have the money to pay for it. for example, if you're working a fast food job, you might not be able to afford it, but that doesn't mean that you can't afford to take care of yourself if you are sick.</td>\n",
       "      <td>the problem with this is that it would make it harder for people who are poor to find a job, and it would be a lot harder for them to get health insurance if they can't afford it. a lot of people don't have health insurance at all, and they don't even have the money to pay for it. if they have to go to the doctor every once in a blue moon, they are not going to be able to afford it, and if they</td>\n",
       "      <td>it's not unreasonable for employers to expect their employees to go see a doctor if they aren't making enough money to pay for it. it's also reasonable to expect employers to pay their employees more if they don't have to pay them more.</td>\n",
       "      <td>i don't think you're looking at it the wrong way. if you're going to a doctor because you're sick, you should go to the doctor because if you don't go, you're not going to see a doctor.</td>\n",
       "      <td>the problem with requiring a doctor's note is that it's not a way to ensure that the employer is willing to pay for the cost of the doctor's visit, it's a way for the employer to make sure that the employee is getting the care they need. if the employer does not have the money to pay, then the employee should be able to refuse to go to the doctor if they don't want to.</td>\n",
       "    </tr>\n",
       "    <tr>\n",
       "      <th>1867</th>\n",
       "      <td>To be fair, drunken consent should not accompany rape allegations unless of course you're passed out. The law is being sexist here.</td>\n",
       "      <td>To be fair, drunken consent should not accompany rape allegations unless of course you're passed out. The law is being sexist here. : i believe drunken consent is still consent, and doesn't automatically makes you a potential victim. consent to sex should just be as accountable as other acts done while being drunk by an adult person. when you're really passed out unable to communicate move etc. , however, then it doesn't even make the case for discussion. it's rape. period. i know of many people who drink alcohol just to lower their inhibitions before they willingly engage in a sexual activity. given that for rape the burden of proof lies on the accused already which is understandable and rape of men is not recognized by most societies, if two drunken people have sex, its only one party which is going to get punished. this sort of favoritism makes way for potential abuse of power which is not only unfair but is also inherently sexist. if there are scientific studies which quantify the minimum level of alcohol required to completely wear off agency, and agency itself, i'm ready to accept that as a justification. but in that case, drunk driving should see some leniency too or else drunk fucking should be made illegal for all the parties involved because at least one of the parties is not able to consent. people would be more careful that way.</td>\n",
       "      <td>it's important to note that drunk driving is not the same thing as rape. drunk driving doesn't make you a potential victim of rape, but it does make you more likely to be a victim of a crime. if you have sex with someone who is under the influence of alcohol, you are less likely to give consent.</td>\n",
       "      <td>i don't think it's fair to say that drunk driving is the only factor in determining whether or not someone is a victim of rape. there are many other factors to consider when determining whether someone is or isn't a victim. for example, if someone is driving drunk and they are driving drunk, they may not be able to give consent to sex, and they may be unable to give informed consent. drunk driving could also be a factor in deciding whether a person is a</td>\n",
       "      <td>i think you're looking at this the wrong way. i don't think it's wrong to drink, but i think it is wrong to have sex with someone who has been under the influence of alcohol. i'm not saying that it should be illegal, but it should not be condoned.</td>\n",
       "      <td>i don't think it's fair to say that someone who is drunk is a potential victim of rape, but i do think there is a difference between consenting to sex under the influence of alcohol and consenting in the absence of alcohol. in the case of a drunk person, i would argue that drunk driving is not a factor in determining whether or not someone is drunk enough to consent to sex.</td>\n",
       "      <td>it's not the burden of proof that lies on the accused, it's the responsibility of the victim to prove that they consented to the sexual act. if you're passed out drunk, you're not capable of giving informed consent.</td>\n",
       "    </tr>\n",
       "    <tr>\n",
       "      <th>1476</th>\n",
       "      <td>I think it's unfair that some publishers of short stories explicitly prioritize work from marginalized groups (QUILTBAG, Differently Abled, Native American, etc)</td>\n",
       "      <td>I think it's unfair that some publishers of short stories explicitly prioritize work from marginalized groups (QUILTBAG, Differently Abled, Native American, etc) : i am an aspiring author. i am white, male, straight, and from the first world. however, it is not my fault choice that i am these things, which is the same situation as any marginalized group. i think work should be judged on merit alone, but a vast amount of publishers explicitly state they will prioritize work from the groups mentioned in the title. this makes me lose respect for the publisher and, i feel, makes it harder for me to be published without a suitable backstory of oppression. whilst i understand that this feeling of having doors closed in your face is part of the experience of being oppressed, i am personally open minded and it's not my fault these groups have been marginalized. i was having a lovely chat with a literary agent, and this topic came up, so i expressed my views as above. that was the suddenly the end of the conversation. so i guess i'm an asshole, but i'm not sure why. please change my view.</td>\n",
       "      <td>it's not your fault that you are white, male, straight, and from the first world. it's your choice. you have a choice to be white and male and straight. it is not a choice that you have to be oppressed, it's a choice you have made. there is nothing wrong with wanting to be open minded, but it's not the same as being open minded about being oppressed.</td>\n",
       "      <td>i think the problem with your view is that you're conflating 'full potential' with'making it hard for them to reach their full potential'. you're right that it makes it hard to reach your full potential, but you're also wrong about why it's hard for you to reach it. it's not your fault choice that you are white, male, straight, and from the first world, it's your choice to be born into those circumstances. but it</td>\n",
       "      <td>it's not your fault that you are these things. it's the fault of society for treating you differently based on your race, gender, sexual orientation, etc.</td>\n",
       "      <td>i agree with you, but i don't think it's fair to say that white, male, straight, and from the first world are the only groups that should be judged on merit alone. they are all groups that have been oppressed in some way or another, and some of those groups have been marginalized in a way that makes it easier for them to get published. i'm not saying that these groups are all the same, but they all have some kind of oppression.</td>\n",
       "      <td>i think it's unfair to say that publishers should be judged on merit alone. it's not fair to judge a book by its content alone, but it's fair to say it should also be judged by how well it's written. i don't think there's anything wrong with being open minded, but i do think it is unfair to judge the quality of a book based on the content alone.</td>\n",
       "    </tr>\n",
       "    <tr>\n",
       "      <th>1253</th>\n",
       "      <td>Pro-lifers don't really think abortion is murder because they haven't taken up arms en mass to stop the genocide</td>\n",
       "      <td>Pro-lifers don't really think abortion is murder because they haven't taken up arms en mass to stop the genocide : if fetus' are people, then abortion is murder. since fetus' are essentially a class then abortion would be genocide by definition. given the number of abortions that take place every year, abortion would represent the largest scale genocide in human history. it is estimated that over 55 million abortion have taken place in the us alone, and currently there are hundreds of thousands of abortions that take place in the us every year. imagine any other class of people: jews. muslims. christians. homosexuals. people under the age of 10. if it was lawful to murder any other group of people, and the result was over 500,000 murders per year just in the us, would we not go apeshit? would we just debate it year after year after year, while people are being killed? no, that seems ridiculous. it would be too extreme of an event to simple debate in congress. arms would be called for. just as a german citizen had every moral right to take up arms against the nazis for their persecution of the jews, if abortion was really murder you would have every moral right to take up arms given its extreme scale. so, the fact that few pro lifers take up arms suggests to me that most do not really believe fetus' are people. not in their heart of hearts.</td>\n",
       "      <td>the problem is that abortion is a medical procedure, not a genocide. the fetus is not a person, and therefore cannot be considered a human being. if a fetus is a human, then it is a part of the human race and therefore has the same rights and responsibilities as any other human being, including children.</td>\n",
       "      <td>i think you're conflating the criminal right with the right to life. abortion is not murder, because it is not a crime. it is a medical procedure, and not a genocide. there is no such thing as a 'genocide' in the sense that it is the unlawful killing of a human being.</td>\n",
       "      <td>homosexuality isn't a class, it's a lifestyle. abortion is a lifestyle, and i don't think it's any different. you can't say that a fetus is a person, but you can say that the fetus is not a human being. if you're going to say that abortion is genocide, then you have to also say that it is not abortion. you don't have to agree with every definition of genocide, but that doesn't mean that abortion isn't genocide.</td>\n",
       "      <td>abortion is not murder. abortion is a medical procedure. it is not a genocide, it is a matter of life or death. if abortion were murder, then it would be illegal. if it were genocide, abortion would not be legal.</td>\n",
       "      <td>i don't think there's any way to change your view on whether or not a fetus is a person. i think it's important to distinguish between a person and a class of people. if a person is a class, then they are a class. if they are not a class then they don't have a right to life.</td>\n",
       "    </tr>\n",
       "  </tbody>\n",
       "</table>\n",
       "</div>"
      ],
      "text/plain": [
       "                                                                                                                                                              conclusion  \\\n",
       "1080                                                                                                        \"Digging up old tweets\" is following the same path as #metoo   \n",
       "1124                                                                                                                                Plants are the superior form of life   \n",
       "215                                                                                                                                   No word should have too much power   \n",
       "1827                                                                                                     India did nothing wrong by bombing a terrorist camp in Pakistan   \n",
       "1075                                                                                         Arguing to convince others is a terrible, unproductive way to behave online   \n",
       "476                                                             if the Soviet Union had won the Cold War we would be better able to manage the threat of climate change.   \n",
       "928                                                     No job should require you to go bring a doctor's note unless they're willing to pay for your visit to the doctor   \n",
       "1867                                 To be fair, drunken consent should not accompany rape allegations unless of course you're passed out. The law is being sexist here.   \n",
       "1476   I think it's unfair that some publishers of short stories explicitly prioritize work from marginalized groups (QUILTBAG, Differently Abled, Native American, etc)   \n",
       "1253                                                    Pro-lifers don't really think abortion is murder because they haven't taken up arms en mass to stop the genocide   \n",
       "\n",
       "                                                                                                                                                                                                                                                                                                                                                                                                                                                                                                                                                                                                                                                                                                                                                                                                                                                                                                                                                                                                                                                                                                                                                                                                                                                                                                                                                                                                                                                                                                                                                                                                                                     argument  \\\n",
       "1080   \"Digging up old tweets\" is following the same path as #metoo : only the progression is much faster this time around. this trend of celebrities using the court of public opinion to remove their competition or other obstacles to their careers started with sexual assault, a heinous crime. it worked spendidly, even in the cases where there was zero proof and the accused was not the correct sexual orientation, people bought the stories. then 'key members' of the movement started to get caught for the same stuff they are accusing others for, and they lost a great deal of credibility. time to rebrand! the lack of proof in most of these cases was beginning to be too much to just ignore as there were no attempts to try and explain it , people need facts to point to? time to dig up old tweets. normally, there is no issue. you wrote stupid things, you might get called out. however, once again this weapon is being turned against the ones who will use it amy schumer, sarah silverman, cheasea handler . it's being reported women can't be homophobic gt; in response, silverman, 48, shared a thread on twitter by greg hogben, an lgbt and women s rights advocate, who gave an explanation of why silverman and other female comedians comments on gay culture weren t homophobic. this is absurd, of course women can be homophobic. why is this falsehood being reported? simply, the backlash came before the chance to remove the men these people want gone has occured. until then, any criticism of 'digging up old tweets' will be ignored, downplayed and probably labelled as bigotry   \n",
       "1124                                                                                                                                                                                                                                                                                                                                                                                                                                                                                                                                                                                                                                                                                                                                                                                                                                                                                                                                                                                                                  Plants are the superior form of life : from a purely pacifist productive point of view, and considering the metabolic pathways, plants are the final form of evolution. autotroph, nigh solipsistic, hurts noone and feeds everyone, continuous growth etc. in contrast to most other living organisms that are parasitical by nature. a plant generally sacrifices mobility for that kind of productivity, but pragmatically, most other life forms have used their mobility parasitically, foraging hunting extracting then moving to more bountiful areas. i would love to hear a rational point of view discussion.   \n",
       "215                                                                                                                                                                                                                                                                                                                                                                                                                                                                                                                                                                                                                                                                                                                                                                                                                                                                                                                                                                                                                No word should have too much power : i think it s immature to give a word so much power. i think it s disrespectful to use a lot of these words in specific contexts. but if a white person is quoting someone else and uses the n word and someone gets insulted by that your clearly giving the word far too much power. when someone says f ggot but they re not referring to a gay man. context matters. people who automatically blacklist a person for use of a word are immature. sure if the word was used in a hateful manner i understand it. but just the word itself being enough to set someone off is silly.   \n",
       "1827                                                                                                                                                                                                                                                                           India did nothing wrong by bombing a terrorist camp in Pakistan : before you downvote me to hell given reddit's disdain for india, no i dont support us or any foreign military intervention and i think both sides need to find diplomatic ways to resolve tensions, especially considering that both countries have nuclear weapo . but i'm not going to pretend that india shouldn't have done anything, pakistanis constantly come on indian soil and commit devastating terrorist attacks such as 26 11 where hundreds of people died or the 2011 mumbai bombing among many othe s. the government encourages this behavior and when the bombings do occur, they simply ignore it or taunt india hell i believe osama bin laden was living a mere kilometer from a pakistani military base, which caused the us to supsend a third of its aid to pakista . recently a pakistani bombed a paramillitary convoy that killed 41 indian soliders, once again the paki government taunted india rather than apologizing and promising some sort of action to prevent this from happening aga . therefore, i think india retaliating was a good thing as a country cant keep taking terrorist attacks over and over again, eventually something needs to be do e. and quite frankly, i believe that pakistan should be the ones to blame for harboring terroris   \n",
       "1075                                                                                                                                                                                                                                                                                                                                                                                                                                                                                                                                                                                                                                                                                                                                           Arguing to convince others is a terrible, unproductive way to behave online : people who try to make others agree with them online almost always end up increasing polarization and antagonism. people should never argue against their opponents online because it treats the conversation as if it were a game or a war. and when someone wins that game or war, the result is not broader understanding, but a trophy to showcase their wit and intellect over the absurdity of the other side. the 'loser' feels invalidated and gets defensive. this is almost impossible to avoid in the heat of the moment, and the best way to get around it is to not start out with that mindset in the first place. arguments cannot lead to mutual understanding if everything is win or lose. people should instead approach arguments as opportunities to learn, rather than to convince others.   \n",
       "476                                                                                                                                                                                                                                                                                                                                                                                                                                                                                                                                                                                                                                                                                                                                            if the Soviet Union had won the Cold War we would be better able to manage the threat of climate change. : imagine a world where the soviet union and it s allies had won the cold war, and we were all living in a world with much higher levels of government control over the economy. i suggest this would enable our species to have a much greater chance to achieve the necessary level of transformational change in the economy necessary to manage global warming. there is a flaw in that communist ideology put the human at the centre of the universe, as evidenced by the truly appalling environmental damage caused by some soviet industries, but with science driving policy in the su, not the need to win votes, i contend government policy would eventually recognise global warming for the threat it is, and act accordingly. look at china s stance on gw vs the us.   \n",
       "928                                                                                                                                                             No job should require you to go bring a doctor's note unless they're willing to pay for your visit to the doctor : this applies mostly to low income jobs such as the fast food industry, movie theaters, or retail jobs. the fact of the matter is that going if i am working a job like that i most likely don't have a lot of money. the gas, the like of health care because i am poor, and the fact that i am genuinely sick make it all very difficult to go to a doctor over smaller things like the flu, or a cold. amp; x200b; unfortunately though, these jobs require you to go to the doctor as if everyone that works for them is a well off kid with parents to support them, and even if you do rely on your parents, it doesn't mean they can or are willing to pay for it either. i get that you want proof, but the proof should be in the amount of times you go. if you go once in a blue moon and it is clear that you are sick, you're not posting on social media, hanging out with friends or clearly dicking around? good. but if the person is 'sick' literally constantly all the time, and takes ridiculous amounts of days off and still constantly posts on facebook snapchat instagram twitter? doctors note or maybe just straight up discipline like normal. amp; x200b; cmv though, how is it okay to expect this and even threaten to fire people when you won't provide them with a wage that can afford it, or the health care to do it?   \n",
       "1867                                                                                                                                                                                                                       To be fair, drunken consent should not accompany rape allegations unless of course you're passed out. The law is being sexist here. : i believe drunken consent is still consent, and doesn't automatically makes you a potential victim. consent to sex should just be as accountable as other acts done while being drunk by an adult person. when you're really passed out unable to communicate move etc. , however, then it doesn't even make the case for discussion. it's rape. period. i know of many people who drink alcohol just to lower their inhibitions before they willingly engage in a sexual activity. given that for rape the burden of proof lies on the accused already which is understandable and rape of men is not recognized by most societies, if two drunken people have sex, its only one party which is going to get punished. this sort of favoritism makes way for potential abuse of power which is not only unfair but is also inherently sexist. if there are scientific studies which quantify the minimum level of alcohol required to completely wear off agency, and agency itself, i'm ready to accept that as a justification. but in that case, drunk driving should see some leniency too or else drunk fucking should be made illegal for all the parties involved because at least one of the parties is not able to consent. people would be more careful that way.   \n",
       "1476                                                                                                                                                                                                                                                                                                                                                                                                                                                                                                 I think it's unfair that some publishers of short stories explicitly prioritize work from marginalized groups (QUILTBAG, Differently Abled, Native American, etc) : i am an aspiring author. i am white, male, straight, and from the first world. however, it is not my fault choice that i am these things, which is the same situation as any marginalized group. i think work should be judged on merit alone, but a vast amount of publishers explicitly state they will prioritize work from the groups mentioned in the title. this makes me lose respect for the publisher and, i feel, makes it harder for me to be published without a suitable backstory of oppression. whilst i understand that this feeling of having doors closed in your face is part of the experience of being oppressed, i am personally open minded and it's not my fault these groups have been marginalized. i was having a lovely chat with a literary agent, and this topic came up, so i expressed my views as above. that was the suddenly the end of the conversation. so i guess i'm an asshole, but i'm not sure why. please change my view.   \n",
       "1253                                                                                                                                                                                                                        Pro-lifers don't really think abortion is murder because they haven't taken up arms en mass to stop the genocide : if fetus' are people, then abortion is murder. since fetus' are essentially a class then abortion would be genocide by definition. given the number of abortions that take place every year, abortion would represent the largest scale genocide in human history. it is estimated that over 55 million abortion have taken place in the us alone, and currently there are hundreds of thousands of abortions that take place in the us every year. imagine any other class of people: jews. muslims. christians. homosexuals. people under the age of 10. if it was lawful to murder any other group of people, and the result was over 500,000 murders per year just in the us, would we not go apeshit? would we just debate it year after year after year, while people are being killed? no, that seems ridiculous. it would be too extreme of an event to simple debate in congress. arms would be called for. just as a german citizen had every moral right to take up arms against the nazis for their persecution of the jews, if abortion was really murder you would have every moral right to take up arms given its extreme scale. so, the fact that few pro lifers take up arms suggests to me that most do not really believe fetus' are people. not in their heart of hearts.   \n",
       "\n",
       "                                                                                                                                                                                                                                                                                                                                                              masked_conc_attacks  \\\n",
       "1080                                                                                                                             the court of public opinion is not used to remove people's competition or other obstacles to their careers. it's used as a weapon to silence them. it has been used to silence many people in the past, and it is still being used against them.   \n",
       "1124                                                                                          plant life is not a purely pacifist productive point of view. it is the final form of evolution. plants are the only lifeforms that have ever evolved to the point where they are capable of killing other lifeforms. there is no other form of life that is capable of doing that.   \n",
       "215                                                                                                using the word 'nigger' in a derogatory manner is not only disrespectful to the person using it, it is insulting to the people who are being insulted by it. if a white person is quoting someone else and using the word nigger, they are giving the word far too much power.   \n",
       "1827  pakistan is not to blame for harboring terroris. the pakistani government is to blame. pakistan has a long history of harboring terrorists and has done nothing to stop them. they are not responsible for mumbai and 26 11. the only reason they haven't done anything is because they are afraid of the us, and they don't want to draw the ire of the rest of the world.   \n",
       "1075                                               i don't think it's fair to say that people who try to make others agree with them online almost always end up increasing polarization and antagonism. i think the problem is that it's not that people don't agree with each other online, it's that they don't understand each other enough to be able to disagree with them.   \n",
       "476                                                                       the soviet union and it's allies had won the cold war, and we were all living in a world with much higher levels of government control over the economy. it would be a much greater chance to achieve the necessary level of transformational change in the economy necessary to manage global warming.   \n",
       "928                            there's nothing wrong with requiring people to go to the doctor if they are sick, but it's not okay to expect them to do it if they do not have the money to pay for it. for example, if you're working a fast food job, you might not be able to afford it, but that doesn't mean that you can't afford to take care of yourself if you are sick.   \n",
       "1867                                                                     it's important to note that drunk driving is not the same thing as rape. drunk driving doesn't make you a potential victim of rape, but it does make you more likely to be a victim of a crime. if you have sex with someone who is under the influence of alcohol, you are less likely to give consent.   \n",
       "1476             it's not your fault that you are white, male, straight, and from the first world. it's your choice. you have a choice to be white and male and straight. it is not a choice that you have to be oppressed, it's a choice you have made. there is nothing wrong with wanting to be open minded, but it's not the same as being open minded about being oppressed.   \n",
       "1253                                                            the problem is that abortion is a medical procedure, not a genocide. the fetus is not a person, and therefore cannot be considered a human being. if a fetus is a human, then it is a part of the human race and therefore has the same rights and responsibilities as any other human being, including children.   \n",
       "\n",
       "                                                                                                                                                                                                                                                                                                                                                                                                                                                         multi_counter_pipeline  \\\n",
       "1080                                                                                                                                               the problem with deception is that it's not always a good thing. if you're lying to the public, then you're going to get called out for it. if someone is lying to you, and you don't believe them, then there's nothing you can do about it. that's not to say that lying is always a bad thing, but it's a very bad thing.   \n",
       "1124                                                                                                                                                                                                                             i think you are misunderstanding the nature of lifeforms. lifeforms are not just lifeforms, they are the result of evolution. plants are lifeforms because they are part of the same ecological system as all other lifeforms in the universe.   \n",
       "215                                                  i don't think it's disrespectful to use the n word in specific contexts, but i think it is disrespectful to give a word so much power. i don't believe that people should use the word 'nigger' in general contexts. i think that it should be reserved for those who are in a position of power. for example, a white person can use the term 'nigga' to refer to a black person in a derogatory manner, but that doesn't   \n",
       "1827                                                                                                                                                                                                          pakistan is not responsible for the attacks on indian soil and that india has a good thing for it. the fact that pakistan has nuclear weapons doesn't mean they are responsible for these attacks. the only reason they do these attacks is because they want to.   \n",
       "1075                                                                                                                                            i think you're overestimating the skill level of people who argue against people online. a lot of people are not that good at it, but they are good at trying to argue with people in public. i'm not saying that they are bad at it because they aren't good at arguing online, i'm just saying they are not good at doing it.   \n",
       "476         i think you're overestimating how effective a communist system would be at mitigating global warming. the soviet union and it's allies did a great deal to reduce pollution during the cold war, but the us has done a much better job of reducing pollution since then. china, for example, has been much more effective than the us at dealing with global warming, and the us is the world leader when it comes to dealing with climate change. it's not that ch   \n",
       "928                                                               the problem with this is that it would make it harder for people who are poor to find a job, and it would be a lot harder for them to get health insurance if they can't afford it. a lot of people don't have health insurance at all, and they don't even have the money to pay for it. if they have to go to the doctor every once in a blue moon, they are not going to be able to afford it, and if they   \n",
       "1867  i don't think it's fair to say that drunk driving is the only factor in determining whether or not someone is a victim of rape. there are many other factors to consider when determining whether someone is or isn't a victim. for example, if someone is driving drunk and they are driving drunk, they may not be able to give consent to sex, and they may be unable to give informed consent. drunk driving could also be a factor in deciding whether a person is a   \n",
       "1476                                           i think the problem with your view is that you're conflating 'full potential' with'making it hard for them to reach their full potential'. you're right that it makes it hard to reach your full potential, but you're also wrong about why it's hard for you to reach it. it's not your fault choice that you are white, male, straight, and from the first world, it's your choice to be born into those circumstances. but it   \n",
       "1253                                                                                                                                                                                               i think you're conflating the criminal right with the right to life. abortion is not murder, because it is not a crime. it is a medical procedure, and not a genocide. there is no such thing as a 'genocide' in the sense that it is the unlawful killing of a human being.   \n",
       "\n",
       "                                                                                                                                                                                                                                                                                                                                                                                                                 multi_counter_joint  \\\n",
       "1080                                                                                                                                            the court of public opinion is not used to remove competition or other obstacles to careers. it is used to protect the rights of the accused and protect the integrity of the accuser. the courts are not used for that purpose. the court is used for the protection of the public.   \n",
       "1124                                                                                       all life forms have their limits. plants are not the end all. they have limits to the things they can do. there are limits to how fast they can grow, how much energy they can use, and how much water they can store. the limits of a plant's ability to grow are not based on how fast it is able to grow, but on how much it consumes.   \n",
       "215                                                                                                                                                                                i don't think it's disrespectful to say the n word in certain contexts. i think it is disrespectful to call someone out for using the word in a derogatory way. it is not disrespectful to refer to someone as a nigger, it is insulting to them.   \n",
       "1827                                                                                                                          i don't think it's right to blame pakistan for harboring terroris. i think the pakistani government is to blame for their actions. they are the ones harboring the terroris, not india. the only way to end this is to end the conflict between the two countries, which is going to take a long time.   \n",
       "1075                                                                                                                                                                                                                                                         i don't think it's fair to say that people shouldn't argue against each other online, as long as they don't treat it as a war or a game. it's not a war, it's a debate.   \n",
       "476                                                                                                                                                                                                                                                             it's not about the economy, it's about the human race. the soviet union and it's allies had a huge impact on the world, but it wasn't enough to stop global warming.   \n",
       "928                                                                                                                                                                                     it's not unreasonable for employers to expect their employees to go see a doctor if they aren't making enough money to pay for it. it's also reasonable to expect employers to pay their employees more if they don't have to pay them more.   \n",
       "1867                                                                                                                                                                         i think you're looking at this the wrong way. i don't think it's wrong to drink, but i think it is wrong to have sex with someone who has been under the influence of alcohol. i'm not saying that it should be illegal, but it should not be condoned.   \n",
       "1476                                                                                                                                                                                                                                                                      it's not your fault that you are these things. it's the fault of society for treating you differently based on your race, gender, sexual orientation, etc.   \n",
       "1253  homosexuality isn't a class, it's a lifestyle. abortion is a lifestyle, and i don't think it's any different. you can't say that a fetus is a person, but you can say that the fetus is not a human being. if you're going to say that abortion is genocide, then you have to also say that it is not abortion. you don't have to agree with every definition of genocide, but that doesn't mean that abortion isn't genocide.   \n",
       "\n",
       "                                                                                                                                                                                                                                                                                                                                                                                                                           pred_counter_arguments_no_stance  \\\n",
       "1080                                                                                                                                                                                                  i'm going to take a different approach to this. i don't think it's a good idea to make a distinction between gay culture and lgbt culture. i think the difference between the two is that gay culture is a social movement, not a political movement.   \n",
       "1124  i don't think plants are the final form of evolution, i think they are just a byproduct of evolution. i don't see how they are superior to other lifeforms in terms of productivity. i mean, i agree with you that some plants are more efficient than others, but that doesn't mean that they are better than other life forms. i think that if you look at it from a purely evolutionary point of view, there is no reason to think that plants are   \n",
       "215                                                                                                                                                                                                                                               i don't think it's disrespectful to use the word 'nigga' in a derogatory way. i think the problem is that it's an offensive word. it's not a word, it's a slur. if you don't like the word, don't use it.   \n",
       "1827                                                            i don't think it's fair to say that pakistan should be the ones to punish india. i think that india should have done more to stop pakistani terrorists in the first place. india has a right to defend itself, but that doesn't mean that it should be allowed to do so. if india doesn't want to go to war, then that's up to the people of india to decide whether or not they want to be   \n",
       "1075                                                                                                                                                                           i agree with you that people should never argue against their opponents online, but that doesn't mean that they should be allowed to argue against each other online. i don't think it's fair to say that arguing against your opponent online is a waste of time or energy.   \n",
       "476                                                                                                                                                                         i think you're overestimating the impact of global warming. global warming has the potential to have a huge impact on the rest of the world. if global warming were to happen, it would have a major impact on chinese and european economies, as well as the world as a whole.   \n",
       "928                                                                                                                                                                                                                                                               i don't think you're looking at it the wrong way. if you're going to a doctor because you're sick, you should go to the doctor because if you don't go, you're not going to see a doctor.   \n",
       "1867                                                               i don't think it's fair to say that someone who is drunk is a potential victim of rape, but i do think there is a difference between consenting to sex under the influence of alcohol and consenting in the absence of alcohol. in the case of a drunk person, i would argue that drunk driving is not a factor in determining whether or not someone is drunk enough to consent to sex.   \n",
       "1476        i agree with you, but i don't think it's fair to say that white, male, straight, and from the first world are the only groups that should be judged on merit alone. they are all groups that have been oppressed in some way or another, and some of those groups have been marginalized in a way that makes it easier for them to get published. i'm not saying that these groups are all the same, but they all have some kind of oppression.   \n",
       "1253                                                                                                                                                                                                                                   abortion is not murder. abortion is a medical procedure. it is not a genocide, it is a matter of life or death. if abortion were murder, then it would be illegal. if it were genocide, abortion would not be legal.   \n",
       "\n",
       "                                                                                                                                                                                                                                                                                                                                                                                                                  known_conc_attacks  \n",
       "1080                                         the thing is, it's not the same thing as 'digging up old tweets' because it's an old tweet. it's a social media platform that is owned by the same company that owns amy schumer, sarah silverman, cheasea handler, and many of the other 'key members' of the'metoo' movement. the only difference is that there is no way to know if the tweets are old or new, but that doesn't mean  \n",
       "1124       plant life is the most efficient form of life because it is the only one that can adapt to environmental conditions. plants are the only ones that are able to adapt to changes in the environment in ways that other lifeforms cannot. for example, plants have adapted to survive in permafrost, which is a much warmer environment than hot, dry climates, and they adapt to the lack of sunlight in those conditions.  \n",
       "215                                                                                                                                                                  words have power. if you give a word too much power, you are giving it to someone who has no power over it. if a white person uses the word 'nigga' to refer to a black person, they are giving that word far more power than they would if they didn't use it.  \n",
       "1827                                                                                                                                                      the problem is that pakistan and india both have nuclear weapons. it's not that india did nothing wrong by bombing a terrorist camp in Pakistan, it's that they both have a nuclear arsenal. india has the right to use it as a weapon of war against pakistani civilians.  \n",
       "1075                                                                                                                                                                        arguing to convince others is a terrible, unproductive way to behave online. arguing to convince other people is not a bad way of behaving online. it is a way to communicate with others, and it is one of the best ways to interact with other people.  \n",
       "476   i think it's a bit of a stretch to say that the soviet union would have been better able to manage the threat of climate change if they had won the cold war. if you look at the history of the world, there's a lot of evidence to suggest that the united states and the ussr have been doing a lot better than china and china has been doing. china is one of the fastest growing economies in the world and has been able  \n",
       "928                                              the problem with requiring a doctor's note is that it's not a way to ensure that the employer is willing to pay for the cost of the doctor's visit, it's a way for the employer to make sure that the employee is getting the care they need. if the employer does not have the money to pay, then the employee should be able to refuse to go to the doctor if they don't want to.  \n",
       "1867                                                                                                                                                                                                         it's not the burden of proof that lies on the accused, it's the responsibility of the victim to prove that they consented to the sexual act. if you're passed out drunk, you're not capable of giving informed consent.  \n",
       "1476                                                                     i think it's unfair to say that publishers should be judged on merit alone. it's not fair to judge a book by its content alone, but it's fair to say it should also be judged by how well it's written. i don't think there's anything wrong with being open minded, but i do think it is unfair to judge the quality of a book based on the content alone.  \n",
       "1253                                                                                                                                             i don't think there's any way to change your view on whether or not a fetus is a person. i think it's important to distinguish between a person and a class of people. if a person is a class, then they are a class. if they are not a class then they don't have a right to life.  "
      ]
     },
     "execution_count": 106,
     "metadata": {},
     "output_type": "execute_result"
    }
   ],
   "source": [
    "eval_df[(eval_df.max_sim_to_conclusion > 0.0) & (eval_df.arg_len < 300) & (eval_df.masked_conc_attacks_opposing < eval_df.multi_counter_joint_opposing)][['conclusion', 'argument', 'masked_conc_attacks', 'multi_counter_pipeline', 'multi_counter_joint', 'pred_counter_arguments_no_stance', 'known_conc_attacks']].sample(10).head(n=10)"
   ]
  },
  {
   "cell_type": "code",
   "execution_count": 91,
   "metadata": {},
   "outputs": [],
   "source": [
    "eval_df.to_pickle('../data/output/automatic_evaluation_results.pkl')"
   ]
  },
  {
   "cell_type": "markdown",
   "metadata": {},
   "source": [
    "### Generate a sample for manual evaluation:"
   ]
  },
  {
   "cell_type": "code",
   "execution_count": 111,
   "metadata": {},
   "outputs": [],
   "source": [
    "reddit_pred_df['arg_len'] = reddit_pred_df.argument.apply(lambda x: len(x.split()))"
   ]
  },
  {
   "cell_type": "code",
   "execution_count": 116,
   "metadata": {},
   "outputs": [],
   "source": [
    "test_sample_df = reddit_pred_df[reddit_pred_df.arg_len < 1000].sample(100)\n",
    "\n",
    "test_sample_df = generate_manual_eval_df(test_sample_df, clms=['masked_conc_attacks', 'multi_counter_pipeline', 'multi_counter_joint', 'pred_counter_arguments_no_stance'])\n",
    "test_sample_df.to_pickle('../data/manual_evaluation/eval_sample_all.pkl')\n",
    "test_sample_df[['ID', 'Argument', 'Counter']].to_csv('../data/manual_evaluation/eval_sample_all.csv', index=False)"
   ]
  },
  {
   "cell_type": "code",
   "execution_count": 117,
   "metadata": {},
   "outputs": [],
   "source": [
    "test_sample_df['arg_len'] = test_sample_df.Argument.apply(lambda x: len(x.split()))"
   ]
  },
  {
   "cell_type": "code",
   "execution_count": 118,
   "metadata": {},
   "outputs": [
    {
     "data": {
      "image/png": "[encoded data removed]",
      "text/plain": [
       "<Figure size 432x288 with 1 Axes>"
      ]
     },
     "metadata": {
      "needs_background": "light"
     },
     "output_type": "display_data"
    }
   ],
   "source": [
    "test_sample_df.arg_len.hist()\n",
    "plt.show()"
   ]
  },
  {
   "cell_type": "markdown",
   "metadata": {
    "tags": []
   },
   "source": [
    "## Analyze automatic evaluation results:"
   ]
  },
  {
   "cell_type": "code",
   "execution_count": 11,
   "metadata": {},
   "outputs": [],
   "source": [
    "eval_df = pd.read_pickle('../data/output/automatic_evaluation_results.pkl')"
   ]
  },
  {
   "cell_type": "code",
   "execution_count": 12,
   "metadata": {},
   "outputs": [],
   "source": [
    "eval_df['arg_len'] = eval_df['argument'].apply(lambda x : len(x.split()))"
   ]
  },
  {
   "cell_type": "code",
   "execution_count": 13,
   "metadata": {},
   "outputs": [],
   "source": [
    "eval_df = split_dataframe_per_conc_similarity(eval_df)"
   ]
  },
  {
   "cell_type": "code",
   "execution_count": 63,
   "metadata": {},
   "outputs": [],
   "source": [
    "for clm_name, clm in pred_clms.items():\n",
    "    eval_df['{}_opposing'.format(clm)] = eval_df.apply(lambda row: 1 if row['{}_stances'.format(clm)] * row['conclusion_stance'] < 0 else 0, axis=1)"
   ]
  },
  {
   "cell_type": "code",
   "execution_count": 14,
   "metadata": {},
   "outputs": [
    {
     "data": {
      "text/plain": [
       "<AxesSubplot:>"
      ]
     },
     "execution_count": 14,
     "metadata": {},
     "output_type": "execute_result"
    },
    {
     "data": {
      "image/png": "[encoded data removed]",
      "text/plain": [
       "<Figure size 432x288 with 1 Axes>"
      ]
     },
     "metadata": {
      "needs_background": "light"
     },
     "output_type": "display_data"
    }
   ],
   "source": [
    "eval_df.arg_len.hist()"
   ]
  },
  {
   "cell_type": "code",
   "execution_count": 15,
   "metadata": {},
   "outputs": [
    {
     "data": {
      "text/plain": [
       "<AxesSubplot:>"
      ]
     },
     "execution_count": 15,
     "metadata": {},
     "output_type": "execute_result"
    },
    {
     "data": {
      "image/png": "[encoded data removed]",
      "text/plain": [
       "<Figure size 432x288 with 1 Axes>"
      ]
     },
     "metadata": {
      "needs_background": "light"
     },
     "output_type": "display_data"
    }
   ],
   "source": [
    "eval_df.max_sim_to_conclusion.hist()"
   ]
  },
  {
   "cell_type": "code",
   "execution_count": 67,
   "metadata": {},
   "outputs": [],
   "source": [
    "pred_clms = {  \n",
    "#     'BART Conclusion': 'bart_conc_attacks',\n",
    "#     'Joint Prediction': 'joint_conc_baseline_attacks',\n",
    "#     'Multi Conclusions (pipeline prediction)': 'multi_counter_pipeline',\n",
    "     'Multi Conclusions (joint prediction)': 'multi_counter_joint',\n",
    "#     'Stance Based CAG (w/o stance)': 'single_pred_counter_arguments_no_stance',\n",
    "#     'Stance Based CAG (M- w/o stance)': 'pred_counter_arguments_no_stance',\n",
    "#    'Known Conclusion': 'known_conc_attacks',\n",
    "    'Masked Conclusion': 'masked_conc_attacks',\n",
    "}\n",
    "\n",
    "def analyze_effetiveness1(df, clm, measure, num_rows=10, num_clms=3):\n",
    "    df  = df.sort_values('arg_len')\n",
    "    chunk_size = int(len(df)/num_rows)\n",
    "    score_dist = np.zeros((num_rows, num_clms))\n",
    "    for i in range(0, num_rows) :\n",
    "        df_row = df[i*chunk_size: (i+1) * chunk_size].copy()\n",
    "        chunk_arg_len = round(df_row['arg_len'].mean(), 2)\n",
    "        print('Number of samples is {} with average argument length = {}'.format(len(df_row), chunk_arg_len))\n",
    "        #now split per similarity\n",
    "        df_row = df_row.sort_values('max_sim_to_conclusion')\n",
    "        chunk_size1 = int(len(df_row)/num_clms)\n",
    "        for j in range(0, num_clms):\n",
    "            df_chunk = df_row[j*chunk_size1: (j+1) * chunk_size1].copy()\n",
    "            chunk_sim = round(df_chunk['max_sim_to_conclusion'].mean(), 2)\n",
    "            print('Number of samples is {} with average similarity to conclusion = {}'.format(len(df_chunk), chunk_sim))\n",
    "            score_dist[i,j] = round(df_chunk['{}_{}'.format(clm, measure)].mean(), 2)\n",
    "    \n",
    "    return score_dist\n",
    "\n",
    "def analyze_effetiveness2(df, clm, measure, dimension='arg_len', num_buckets=5):\n",
    "    df  = df.sort_values(dimension)\n",
    "    chunk_size = int(len(df)/num_buckets)\n",
    "    score_dist = []\n",
    "    for i in range(0, num_buckets) :\n",
    "        df_chunk = df[i*chunk_size: (i+1) * chunk_size].copy()\n",
    "        chunk_dim = round(df_chunk[dimension].mean(), 2)\n",
    "        print('Number of samples is {} with average dimension length = {}'.format(len(df_chunk), chunk_dim))\n",
    "        value = round(df_chunk['{}_{}'.format(clm, measure)].mean(), 2)\n",
    "        score_dist.append((chunk_dim, value))\n",
    "    \n",
    "    return score_dist\n",
    "\n",
    "def analyze_effetiveness3(df, clm, measure, sim_thresholds=[0, 0.4, 0.7, 1.0], len_thresholds=[0, 300, 500, 1000]):\n",
    "    score_dist = np.zeros((len(len_thresholds)-1, len(sim_thresholds)-1))\n",
    "    for i in range(0, len(len_thresholds) - 1):\n",
    "        df_row = df[(df.arg_len >= len_thresholds[i]) & (df.arg_len < len_thresholds[i+1])]\n",
    "        chunk_arg_len = round(df_row['arg_len'].mean(), 2)\n",
    "        print('Number of samples is {} with average argument length = {}'.format(len(df_row), chunk_arg_len))\n",
    "        #now split per similarity\n",
    "        for j in range(0, len(sim_thresholds) - 1):\n",
    "            df_chunk = df_row[(df_row.max_sim_to_conclusion >= sim_thresholds[j]) & (df_row.max_sim_to_conclusion < sim_thresholds[j+1])]\n",
    "            chunk_sim = round(df_chunk['max_sim_to_conclusion'].mean(), 2)\n",
    "            print('Number of samples is {} with average similarity to conclusion = {}'.format(len(df_chunk), chunk_sim))\n",
    "            score_dist[i,j] = round(df_chunk['{}_{}'.format(clm, measure)].mean(), 3)\n",
    "    \n",
    "    return score_dist"
   ]
  },
  {
   "cell_type": "code",
   "execution_count": 95,
   "metadata": {
    "scrolled": true,
    "tags": []
   },
   "outputs": [],
   "source": [
    "pred_clms = {  \n",
    "#     'BART Conclusion': 'bart_conc_attacks',\n",
    "#     'Joint Prediction': 'joint_conc_baseline_attacks',\n",
    "#     'Multi Conclusions (pipeline prediction)': 'multi_counter_pipeline',\n",
    "     'Multi Conclusions (joint prediction)': 'multi_counter_joint',\n",
    "#     'Stance Based CAG (w/o stance)': 'single_pred_counter_arguments_no_stance',\n",
    "    #'Stance Based CAG (M- w/o stance)': 'pred_counter_arguments_no_stance',\n",
    "    'Known Conclusion': 'known_conc_attacks',\n",
    "    'Masked Conclusion': 'masked_conc_attacks',\n",
    "}"
   ]
  },
  {
   "cell_type": "code",
   "execution_count": 97,
   "metadata": {},
   "outputs": [
    {
     "name": "stdout",
     "output_type": "stream",
     "text": [
      "Number of samples is 500 with average dimension length = 0.41\n",
      "Number of samples is 500 with average dimension length = 0.55\n",
      "Number of samples is 500 with average dimension length = 0.63\n",
      "Number of samples is 500 with average dimension length = 0.73\n",
      "Number of samples is 500 with average dimension length = 0.41\n",
      "Number of samples is 500 with average dimension length = 0.55\n",
      "Number of samples is 500 with average dimension length = 0.63\n",
      "Number of samples is 500 with average dimension length = 0.73\n",
      "Number of samples is 500 with average dimension length = 0.41\n",
      "Number of samples is 500 with average dimension length = 0.55\n",
      "Number of samples is 500 with average dimension length = 0.63\n",
      "Number of samples is 500 with average dimension length = 0.73\n"
     ]
    },
    {
     "data": {
      "image/png": "[encoded data removed]",
      "text/plain": [
       "<Figure size 1080x720 with 1 Axes>"
      ]
     },
     "metadata": {
      "needs_background": "light"
     },
     "output_type": "display_data"
    }
   ],
   "source": [
    "score_dist = {}\n",
    "for clm_name, clm in pred_clms.items():\n",
    "    score_dist[clm_name] = analyze_effetiveness2(eval_df, clm, 'our_stance_score', 'max_sim_to_conclusion', num_buckets=4)\n",
    "\n",
    "fig = plt.figure(figsize=(15,10))\n",
    "width = 0.2 #/len(score_dist)\n",
    "for i, item, in enumerate(score_dist.items()):\n",
    "    app, app_scores = item[0], item[1]\n",
    "    xs, ys = zip(*app_scores)\n",
    "    plt.bar([x + (i * width) for x in range(0, len(xs))], ys, width=width , label=app,)\n",
    "\n",
    "plt.xticks(range(0, len(x)), x)\n",
    "plt.legend()\n",
    "plt.savefig('./figures/conc_sim_to_stance_score_correlation.pdf')\n",
    "plt.show()"
   ]
  },
  {
   "cell_type": "code",
   "execution_count": 98,
   "metadata": {},
   "outputs": [
    {
     "name": "stdout",
     "output_type": "stream",
     "text": [
      "Number of samples is 500 with average dimension length = 0.41\n",
      "Number of samples is 500 with average dimension length = 0.55\n",
      "Number of samples is 500 with average dimension length = 0.63\n",
      "Number of samples is 500 with average dimension length = 0.73\n",
      "Number of samples is 500 with average dimension length = 0.41\n",
      "Number of samples is 500 with average dimension length = 0.55\n",
      "Number of samples is 500 with average dimension length = 0.63\n",
      "Number of samples is 500 with average dimension length = 0.73\n",
      "Number of samples is 500 with average dimension length = 0.41\n",
      "Number of samples is 500 with average dimension length = 0.55\n",
      "Number of samples is 500 with average dimension length = 0.63\n",
      "Number of samples is 500 with average dimension length = 0.73\n"
     ]
    },
    {
     "data": {
      "image/png": "[encoded data removed]",
      "text/plain": [
       "<Figure size 1080x720 with 1 Axes>"
      ]
     },
     "metadata": {
      "needs_background": "light"
     },
     "output_type": "display_data"
    }
   ],
   "source": [
    "score_dist = {}\n",
    "for clm_name, clm in pred_clms.items():\n",
    "    score_dist[clm_name] = analyze_effetiveness2(eval_df, clm, 'bert', 'max_sim_to_conclusion', num_buckets=4)\n",
    "\n",
    "fig = plt.figure(figsize=(15,10))\n",
    "width = 0.2 #/len(score_dist)\n",
    "for i, item, in enumerate(score_dist.items()):\n",
    "    app, app_scores = item[0], item[1]\n",
    "    xs, ys = zip(*app_scores)\n",
    "    plt.bar([x + (i * width) for x in range(0, len(xs))], ys, width=width , label=app,)\n",
    "\n",
    "plt.xticks(range(0, len(x)), x)\n",
    "plt.legend()\n",
    "plt.savefig('./figures/conc_sim_to_bert_correlation.pdf')\n",
    "plt.show()"
   ]
  },
  {
   "cell_type": "code",
   "execution_count": 100,
   "metadata": {},
   "outputs": [
    {
     "name": "stdout",
     "output_type": "stream",
     "text": [
      "Number of samples is 500 with average dimension length = 136.59\n",
      "Number of samples is 500 with average dimension length = 211.43\n",
      "Number of samples is 500 with average dimension length = 316.88\n",
      "Number of samples is 500 with average dimension length = 653.48\n",
      "Number of samples is 500 with average dimension length = 136.59\n",
      "Number of samples is 500 with average dimension length = 211.43\n",
      "Number of samples is 500 with average dimension length = 316.88\n",
      "Number of samples is 500 with average dimension length = 653.48\n",
      "Number of samples is 500 with average dimension length = 136.59\n",
      "Number of samples is 500 with average dimension length = 211.43\n",
      "Number of samples is 500 with average dimension length = 316.88\n",
      "Number of samples is 500 with average dimension length = 653.48\n"
     ]
    },
    {
     "data": {
      "image/png": "[encoded data removed]",
      "text/plain": [
       "<Figure size 1080x720 with 1 Axes>"
      ]
     },
     "metadata": {
      "needs_background": "light"
     },
     "output_type": "display_data"
    }
   ],
   "source": [
    "score_dist = {}\n",
    "for clm_name, clm in pred_clms.items():\n",
    "    score_dist[clm_name] = analyze_effetiveness2(eval_df, clm, 'our_stance_score', 'arg_len', num_buckets=4)\n",
    "\n",
    "fig = plt.figure(figsize=(15,10))\n",
    "width = 0.2 #/len(score_dist)\n",
    "for i, item, in enumerate(score_dist.items()):\n",
    "    app, app_scores = item[0], item[1]\n",
    "    xs, ys = zip(*app_scores)\n",
    "    plt.bar([x + (i * width) for x in range(0, len(xs))], ys, width=width , label=app,)\n",
    "\n",
    "plt.xticks(range(0, len(xs)), xs)\n",
    "plt.legend()\n",
    "plt.savefig('./figures/arg_len_to_stance_score_correlation.pdf')\n",
    "plt.show()"
   ]
  },
  {
   "cell_type": "code",
   "execution_count": 101,
   "metadata": {},
   "outputs": [
    {
     "name": "stdout",
     "output_type": "stream",
     "text": [
      "Number of samples is 500 with average dimension length = 136.59\n",
      "Number of samples is 500 with average dimension length = 211.43\n",
      "Number of samples is 500 with average dimension length = 316.88\n",
      "Number of samples is 500 with average dimension length = 653.48\n",
      "Number of samples is 500 with average dimension length = 136.59\n",
      "Number of samples is 500 with average dimension length = 211.43\n",
      "Number of samples is 500 with average dimension length = 316.88\n",
      "Number of samples is 500 with average dimension length = 653.48\n",
      "Number of samples is 500 with average dimension length = 136.59\n",
      "Number of samples is 500 with average dimension length = 211.43\n",
      "Number of samples is 500 with average dimension length = 316.88\n",
      "Number of samples is 500 with average dimension length = 653.48\n"
     ]
    },
    {
     "data": {
      "image/png": "[encoded data removed]",
      "text/plain": [
       "<Figure size 1080x720 with 1 Axes>"
      ]
     },
     "metadata": {
      "needs_background": "light"
     },
     "output_type": "display_data"
    }
   ],
   "source": [
    "score_dist = {}\n",
    "for clm_name, clm in pred_clms.items():\n",
    "    score_dist[clm_name] = analyze_effetiveness2(eval_df, clm, 'bert', 'arg_len', num_buckets=4)\n",
    "\n",
    "fig = plt.figure(figsize=(15,10))\n",
    "width = 0.2 #/len(score_dist)\n",
    "for i, item, in enumerate(score_dist.items()):\n",
    "    app, app_scores = item[0], item[1]\n",
    "    xs, ys = zip(*app_scores)\n",
    "    plt.bar([x + (i * width) for x in range(0, len(xs))], ys, width=width , label=app,)\n",
    "\n",
    "plt.xticks(range(0, len(xs)), xs)\n",
    "plt.legend()\n",
    "plt.savefig('./figures/arg_len_to_bert_correlation.pdf')\n",
    "plt.show()"
   ]
  },
  {
   "cell_type": "code",
   "execution_count": 179,
   "metadata": {
    "scrolled": true,
    "tags": []
   },
   "outputs": [],
   "source": [
    "#score_dist = analyze_effetiveness2(eval_df, 'masked_conc_attacks', 'bleu', len_thresholds=[0, 300, 600, 900, 1000], sim_thresholds=[0, 1.1])"
   ]
  },
  {
   "cell_type": "markdown",
   "metadata": {},
   "source": [
    "---------"
   ]
  },
  {
   "cell_type": "markdown",
   "metadata": {
    "tags": []
   },
   "source": [
    "## Manual evaluation results:"
   ]
  },
  {
   "cell_type": "code",
   "execution_count": 73,
   "metadata": {},
   "outputs": [],
   "source": [
    "mo_results_df = pd.read_excel('../data/manual_evaluation/results/counter_eval_mo.xlsx')\n",
    "sr_results_df = pd.read_excel('../data/manual_evaluation/results/counter_eval_sr.xlsx')\n",
    "\n",
    "eval_df = pd.read_pickle('../data/manual_evaluation/eval_sample_all.pkl')\n",
    "\n",
    "all_ann_df = mo_results_df\n",
    "all_ann_df['Rank2']    = sr_results_df['Rank'].tolist()\n",
    "all_ann_df['Comment2'] = sr_results_df['Comment'].tolist()\n",
    "all_ann_df['app_name'] = eval_df['Approach name'].tolist()\n",
    "all_ann_df['avg_rank'] = all_ann_df.apply(lambda row: (row['Rank'] + row['Rank2'])/2, axis=1)"
   ]
  },
  {
   "cell_type": "code",
   "execution_count": 74,
   "metadata": {},
   "outputs": [],
   "source": [
    "eval_df['num_sents'] = eval_df['Argument'].apply(lambda x: len(nltk.sent_tokenize(x)))\n",
    "eval_df['num_count_sents'] = eval_df['Counter'].apply(lambda x: len(nltk.sent_tokenize(x)))\n",
    "\n",
    "arg_len_dict = pd.Series(eval_df.num_sents.values, index=eval_df.ID).to_dict()"
   ]
  },
  {
   "cell_type": "code",
   "execution_count": 75,
   "metadata": {},
   "outputs": [
    {
     "name": "stdout",
     "output_type": "stream",
     "text": [
      "Avg argument num sents:  3.645\n",
      "Avg counter num sents:  3.545\n"
     ]
    }
   ],
   "source": [
    "print('Avg argument num sents: ', eval_df.num_sents.mean())\n",
    "print('Avg counter num sents: ', eval_df.num_count_sents.mean())"
   ]
  },
  {
   "cell_type": "code",
   "execution_count": 76,
   "metadata": {},
   "outputs": [],
   "source": [
    "all_ann_df['argument_len'] = all_ann_df.ID.apply(lambda x: arg_len_dict[x] if x is not np.nan else 0)"
   ]
  },
  {
   "cell_type": "code",
   "execution_count": 77,
   "metadata": {
    "scrolled": true,
    "tags": []
   },
   "outputs": [
    {
     "data": {
      "text/html": [
       "<div>\n",
       "<style scoped>\n",
       "    .dataframe tbody tr th:only-of-type {\n",
       "        vertical-align: middle;\n",
       "    }\n",
       "\n",
       "    .dataframe tbody tr th {\n",
       "        vertical-align: top;\n",
       "    }\n",
       "\n",
       "    .dataframe thead th {\n",
       "        text-align: right;\n",
       "    }\n",
       "</style>\n",
       "<table border=\"1\" class=\"dataframe\">\n",
       "  <thead>\n",
       "    <tr style=\"text-align: right;\">\n",
       "      <th></th>\n",
       "      <th>ID</th>\n",
       "      <th>Argument</th>\n",
       "      <th>Counter</th>\n",
       "      <th>Rank</th>\n",
       "      <th>Comment</th>\n",
       "      <th>Rank2</th>\n",
       "      <th>Comment2</th>\n",
       "      <th>app_name</th>\n",
       "      <th>avg_rank</th>\n",
       "      <th>argument_len</th>\n",
       "    </tr>\n",
       "  </thead>\n",
       "  <tbody>\n",
       "    <tr>\n",
       "      <th>0</th>\n",
       "      <td>t3_bu5s4p</td>\n",
       "      <td>abortion is murder and should be legal : to start, i m a catholic who would never get an abortion due to an accidental pregnancy. however, there are countless cases where abortion is necessary. if the mother s health is deteriorating due to the pregnancy, abortion is necessary to keep her alive. at that point, the baby can t live on its own, but the mother can, as long as she is no longer pregnant. further, if the child will die upon being born or is brain dead, then an abortion should be performed because pregnancy is dangerous and there s no point in carrying out something that could hurt the mother when there s literally no payoff for having the child because it could never live. if the pregnancy is caused by rape or incest, the emotional toll on the mother could be extremely substantial and no one has the right to declare that a woman be put through that constant pain. i would get an abortion for any of the above reasons. however, other people want to get abortions for accidental pregnancies. they want to get abortions because they can t afford the pregnancy, let alone raising the child. they want to get abortions so they can keep up in a competing field. they want to get abortions so they won t have disabled kids. they want to get abortions simply because they don t want kids. while i personally disagree with doing this, i do not know what their lives are like and cannot accurately judge them. neither can any politician. plenty of murders are legally justified in cases of self defense and i think abortion should be included, because it s practically the definition of self defense. someone is going to seriously harm, kill, or ruin your life, so you have the right to choose to kill them. i m not saying that i like the idea of killing a fetus, but it s justifiable, and laws are supposed to be just.</td>\n",
       "      <td>abortion is a medical procedure, not a medical necessity. if a woman is pregnant, she has a right to choose to abort. if she doesn't want to have the baby, she should be able to do so. abortion is not a choice, it is a necessity.</td>\n",
       "      <td>3</td>\n",
       "      <td>NaN</td>\n",
       "      <td>3</td>\n",
       "      <td>Should the last sentence perhaps be switched? Abortion is a necessity, not a choice?\\nThis would make more sense in the context of the argument, and would push the ranking of this argument to number 2.</td>\n",
       "      <td>pred_counter_arguments_no_stance</td>\n",
       "      <td>3.0</td>\n",
       "      <td>17</td>\n",
       "    </tr>\n",
       "    <tr>\n",
       "      <th>1</th>\n",
       "      <td>NaN</td>\n",
       "      <td>NaN</td>\n",
       "      <td>i don't think it's fair to use self defense as a justification for abortion. self defense is the act of killing another human being. abortion is the action of killing a human being for no other reason than that it is in the best interest of the mother. you can argue about whether or not the mother's health is deteriorating due to the pregnancy, but that doesn't change the fact that the fetus is not in danger of dying.</td>\n",
       "      <td>1</td>\n",
       "      <td>I choose this as the most compatible counter argument because it directly attacks the main argument's attempt to use self defence as a justification for abortion.</td>\n",
       "      <td>1</td>\n",
       "      <td>Directly challenges an argument posited in the original argument, and provides a good example to counter it.</td>\n",
       "      <td>multi_counter_joint</td>\n",
       "      <td>1.0</td>\n",
       "      <td>0</td>\n",
       "    </tr>\n",
       "    <tr>\n",
       "      <th>2</th>\n",
       "      <td>NaN</td>\n",
       "      <td>NaN</td>\n",
       "      <td>the problem with this is that it violates the first amendment, which protects the right to life of the mother. the fetus is not a human being, and it does not have a right to exist outside of the womb. it is a part of the woman's body, and her body has no right to harm it.</td>\n",
       "      <td>4</td>\n",
       "      <td>This is in no way against the main arguenment in fact, it offers a strong point that supports the argument.</td>\n",
       "      <td>2</td>\n",
       "      <td>NaN</td>\n",
       "      <td>multi_counter_pipeline</td>\n",
       "      <td>3.0</td>\n",
       "      <td>0</td>\n",
       "    </tr>\n",
       "    <tr>\n",
       "      <th>3</th>\n",
       "      <td>NaN</td>\n",
       "      <td>NaN</td>\n",
       "      <td>i'm a catholic who would never get an abortion due to an accidental pregnancy. i believe that abortion should be legal in cases where the mother's health is deteriorating due to the pregnancy, or if the fetus is not viable and the mother is in danger of dying. i don't believe that the fetus should have the same rights as the mother, but i do think that it should be allowed to exist.</td>\n",
       "      <td>2</td>\n",
       "      <td></td>\n",
       "      <td>4</td>\n",
       "      <td>This is essentially supporting all the points put forth in the original argument</td>\n",
       "      <td>masked_conc_attacks</td>\n",
       "      <td>3.0</td>\n",
       "      <td>0</td>\n",
       "    </tr>\n",
       "    <tr>\n",
       "      <th>4</th>\n",
       "      <td>t3_axbo12</td>\n",
       "      <td>We should stop using the word \"green\" in environmentalism messaging : i strongly believe the continued use of the word 'green' in branding the message of environmental conservation is hurting, rather than helping. amp; x200b; for example, the green new deal bill currently being discussed in the u. s. congress. the term green is outdated and calls to mind going green and an old 1990 s way of approaching environmentalism, where it was a new, cool thing to do . amp; x200b; this type of 'green' environmentalism is often lampooned much like the word environmentalism itself. the goofiness of these parodies undermines the severity of the issue. because of the potential worldwide crisis of climate change, and the potential devastation that could destroy our species and many others, i think the messaging calls for stronger language that everyone can really get behind. something more about surviving, rather than going greeeeen! ' even the anti environmentalist crowd of super conservative survivalists might be able to get behind the survival branding, rather that the 'going green' branding. amp; x200b; i have reached out to many people about this and received no feedback. so this makes me wonder if this is not as big of a deal as i think it is. can someone change my view, that 'green' is a perfectly good primary word to use to brand the cause of environmentalism?</td>\n",
       "      <td>the word 'green' is not outdated. it has been used for a long time to refer to environmental conservation efforts. it's been used as a synonym for environmentalism since the 1970s. there is no reason to stop using it.</td>\n",
       "      <td>1</td>\n",
       "      <td>I choose this as the best counter argument because of the way it directly supports the use of the word \"geen\" in environment conservation discussions</td>\n",
       "      <td>2</td>\n",
       "      <td>NaN</td>\n",
       "      <td>multi_counter_joint</td>\n",
       "      <td>1.5</td>\n",
       "      <td>11</td>\n",
       "    </tr>\n",
       "  </tbody>\n",
       "</table>\n",
       "</div>"
      ],
      "text/plain": [
       "          ID  \\\n",
       "0  t3_bu5s4p   \n",
       "1        NaN   \n",
       "2        NaN   \n",
       "3        NaN   \n",
       "4  t3_axbo12   \n",
       "\n",
       "                                                                                                                                                                                                                                                                                                                                                                                                                                                                                                                                                                                                                                                                                                                                                                                                                                                                                                                                                                                                                                                                                                                                                                                                                                                                                                                                                                                                                                                                                                                                                                                                                                                                                                                                                                                                                                                                                                   Argument  \\\n",
       "0   abortion is murder and should be legal : to start, i m a catholic who would never get an abortion due to an accidental pregnancy. however, there are countless cases where abortion is necessary. if the mother s health is deteriorating due to the pregnancy, abortion is necessary to keep her alive. at that point, the baby can t live on its own, but the mother can, as long as she is no longer pregnant. further, if the child will die upon being born or is brain dead, then an abortion should be performed because pregnancy is dangerous and there s no point in carrying out something that could hurt the mother when there s literally no payoff for having the child because it could never live. if the pregnancy is caused by rape or incest, the emotional toll on the mother could be extremely substantial and no one has the right to declare that a woman be put through that constant pain. i would get an abortion for any of the above reasons. however, other people want to get abortions for accidental pregnancies. they want to get abortions because they can t afford the pregnancy, let alone raising the child. they want to get abortions so they can keep up in a competing field. they want to get abortions so they won t have disabled kids. they want to get abortions simply because they don t want kids. while i personally disagree with doing this, i do not know what their lives are like and cannot accurately judge them. neither can any politician. plenty of murders are legally justified in cases of self defense and i think abortion should be included, because it s practically the definition of self defense. someone is going to seriously harm, kill, or ruin your life, so you have the right to choose to kill them. i m not saying that i like the idea of killing a fetus, but it s justifiable, and laws are supposed to be just.   \n",
       "1                                                                                                                                                                                                                                                                                                                                                                                                                                                                                                                                                                                                                                                                                                                                                                                                                                                                                                                                                                                                                                                                                                                                                                                                                                                                                                                                                                                                                                                                                                                                                                                                                                                                                                                                                                                                                                                                                                       NaN   \n",
       "2                                                                                                                                                                                                                                                                                                                                                                                                                                                                                                                                                                                                                                                                                                                                                                                                                                                                                                                                                                                                                                                                                                                                                                                                                                                                                                                                                                                                                                                                                                                                                                                                                                                                                                                                                                                                                                                                                                       NaN   \n",
       "3                                                                                                                                                                                                                                                                                                                                                                                                                                                                                                                                                                                                                                                                                                                                                                                                                                                                                                                                                                                                                                                                                                                                                                                                                                                                                                                                                                                                                                                                                                                                                                                                                                                                                                                                                                                                                                                                                                       NaN   \n",
       "4                                                                                                                                                                                                                                                                                                                                                                                                                                                                            We should stop using the word \"green\" in environmentalism messaging : i strongly believe the continued use of the word 'green' in branding the message of environmental conservation is hurting, rather than helping. amp; x200b; for example, the green new deal bill currently being discussed in the u. s. congress. the term green is outdated and calls to mind going green and an old 1990 s way of approaching environmentalism, where it was a new, cool thing to do . amp; x200b; this type of 'green' environmentalism is often lampooned much like the word environmentalism itself. the goofiness of these parodies undermines the severity of the issue. because of the potential worldwide crisis of climate change, and the potential devastation that could destroy our species and many others, i think the messaging calls for stronger language that everyone can really get behind. something more about surviving, rather than going greeeeen! ' even the anti environmentalist crowd of super conservative survivalists might be able to get behind the survival branding, rather that the 'going green' branding. amp; x200b; i have reached out to many people about this and received no feedback. so this makes me wonder if this is not as big of a deal as i think it is. can someone change my view, that 'green' is a perfectly good primary word to use to brand the cause of environmentalism?   \n",
       "\n",
       "                                                                                                                                                                                                                                                                                                                                                                                                                                 Counter  \\\n",
       "0                                                                                                                                                                                                  abortion is a medical procedure, not a medical necessity. if a woman is pregnant, she has a right to choose to abort. if she doesn't want to have the baby, she should be able to do so. abortion is not a choice, it is a necessity.   \n",
       "1  i don't think it's fair to use self defense as a justification for abortion. self defense is the act of killing another human being. abortion is the action of killing a human being for no other reason than that it is in the best interest of the mother. you can argue about whether or not the mother's health is deteriorating due to the pregnancy, but that doesn't change the fact that the fetus is not in danger of dying.   \n",
       "2                                                                                                                                                      the problem with this is that it violates the first amendment, which protects the right to life of the mother. the fetus is not a human being, and it does not have a right to exist outside of the womb. it is a part of the woman's body, and her body has no right to harm it.   \n",
       "3                                      i'm a catholic who would never get an abortion due to an accidental pregnancy. i believe that abortion should be legal in cases where the mother's health is deteriorating due to the pregnancy, or if the fetus is not viable and the mother is in danger of dying. i don't believe that the fetus should have the same rights as the mother, but i do think that it should be allowed to exist.   \n",
       "4                                                                                                                                                                                                              the word 'green' is not outdated. it has been used for a long time to refer to environmental conservation efforts. it's been used as a synonym for environmentalism since the 1970s. there is no reason to stop using it.   \n",
       "\n",
       "   Rank  \\\n",
       "0     3   \n",
       "1     1   \n",
       "2     4   \n",
       "3     2   \n",
       "4     1   \n",
       "\n",
       "                                                                                                                                                               Comment  \\\n",
       "0                                                                                                                                                                  NaN   \n",
       "1  I choose this as the most compatible counter argument because it directly attacks the main argument's attempt to use self defence as a justification for abortion.    \n",
       "2                                                          This is in no way against the main arguenment in fact, it offers a strong point that supports the argument.   \n",
       "3                                                                                                                                                                        \n",
       "4                I choose this as the best counter argument because of the way it directly supports the use of the word \"geen\" in environment conservation discussions   \n",
       "\n",
       "   Rank2  \\\n",
       "0      3   \n",
       "1      1   \n",
       "2      2   \n",
       "3      4   \n",
       "4      2   \n",
       "\n",
       "                                                                                                                                                                                                    Comment2  \\\n",
       "0  Should the last sentence perhaps be switched? Abortion is a necessity, not a choice?\\nThis would make more sense in the context of the argument, and would push the ranking of this argument to number 2.   \n",
       "1                                                                                               Directly challenges an argument posited in the original argument, and provides a good example to counter it.   \n",
       "2                                                                                                                                                                                                        NaN   \n",
       "3                                                                                                                           This is essentially supporting all the points put forth in the original argument   \n",
       "4                                                                                                                                                                                                        NaN   \n",
       "\n",
       "                           app_name  avg_rank  argument_len  \n",
       "0  pred_counter_arguments_no_stance       3.0            17  \n",
       "1               multi_counter_joint       1.0             0  \n",
       "2            multi_counter_pipeline       3.0             0  \n",
       "3               masked_conc_attacks       3.0             0  \n",
       "4               multi_counter_joint       1.5            11  "
      ]
     },
     "execution_count": 77,
     "metadata": {},
     "output_type": "execute_result"
    }
   ],
   "source": [
    "all_ann_df.head()"
   ]
  },
  {
   "cell_type": "code",
   "execution_count": 78,
   "metadata": {},
   "outputs": [
    {
     "data": {
      "text/html": [
       "<div>\n",
       "<style scoped>\n",
       "    .dataframe tbody tr th:only-of-type {\n",
       "        vertical-align: middle;\n",
       "    }\n",
       "\n",
       "    .dataframe tbody tr th {\n",
       "        vertical-align: top;\n",
       "    }\n",
       "\n",
       "    .dataframe thead th {\n",
       "        text-align: right;\n",
       "    }\n",
       "</style>\n",
       "<table border=\"1\" class=\"dataframe\">\n",
       "  <thead>\n",
       "    <tr style=\"text-align: right;\">\n",
       "      <th></th>\n",
       "      <th>Rank</th>\n",
       "    </tr>\n",
       "    <tr>\n",
       "      <th>app_name</th>\n",
       "      <th></th>\n",
       "    </tr>\n",
       "  </thead>\n",
       "  <tbody>\n",
       "    <tr>\n",
       "      <th>masked_conc_attacks</th>\n",
       "      <td>2.52</td>\n",
       "    </tr>\n",
       "    <tr>\n",
       "      <th>multi_counter_joint</th>\n",
       "      <td>2.43</td>\n",
       "    </tr>\n",
       "    <tr>\n",
       "      <th>multi_counter_pipeline</th>\n",
       "      <td>2.32</td>\n",
       "    </tr>\n",
       "    <tr>\n",
       "      <th>pred_counter_arguments_no_stance</th>\n",
       "      <td>2.71</td>\n",
       "    </tr>\n",
       "  </tbody>\n",
       "</table>\n",
       "</div>"
      ],
      "text/plain": [
       "                                  Rank\n",
       "app_name                              \n",
       "masked_conc_attacks               2.52\n",
       "multi_counter_joint               2.43\n",
       "multi_counter_pipeline            2.32\n",
       "pred_counter_arguments_no_stance  2.71"
      ]
     },
     "execution_count": 78,
     "metadata": {},
     "output_type": "execute_result"
    }
   ],
   "source": [
    "all_ann_df[['app_name', 'Rank']].groupby('app_name').agg({'Rank': lambda x: np.mean(x)})"
   ]
  },
  {
   "cell_type": "code",
   "execution_count": 79,
   "metadata": {},
   "outputs": [
    {
     "data": {
      "text/html": [
       "<div>\n",
       "<style scoped>\n",
       "    .dataframe tbody tr th:only-of-type {\n",
       "        vertical-align: middle;\n",
       "    }\n",
       "\n",
       "    .dataframe tbody tr th {\n",
       "        vertical-align: top;\n",
       "    }\n",
       "\n",
       "    .dataframe thead th {\n",
       "        text-align: right;\n",
       "    }\n",
       "</style>\n",
       "<table border=\"1\" class=\"dataframe\">\n",
       "  <thead>\n",
       "    <tr style=\"text-align: right;\">\n",
       "      <th></th>\n",
       "      <th>Rank2</th>\n",
       "    </tr>\n",
       "    <tr>\n",
       "      <th>app_name</th>\n",
       "      <th></th>\n",
       "    </tr>\n",
       "  </thead>\n",
       "  <tbody>\n",
       "    <tr>\n",
       "      <th>masked_conc_attacks</th>\n",
       "      <td>2.71</td>\n",
       "    </tr>\n",
       "    <tr>\n",
       "      <th>multi_counter_joint</th>\n",
       "      <td>2.39</td>\n",
       "    </tr>\n",
       "    <tr>\n",
       "      <th>multi_counter_pipeline</th>\n",
       "      <td>2.35</td>\n",
       "    </tr>\n",
       "    <tr>\n",
       "      <th>pred_counter_arguments_no_stance</th>\n",
       "      <td>2.56</td>\n",
       "    </tr>\n",
       "  </tbody>\n",
       "</table>\n",
       "</div>"
      ],
      "text/plain": [
       "                                  Rank2\n",
       "app_name                               \n",
       "masked_conc_attacks                2.71\n",
       "multi_counter_joint                2.39\n",
       "multi_counter_pipeline             2.35\n",
       "pred_counter_arguments_no_stance   2.56"
      ]
     },
     "execution_count": 79,
     "metadata": {},
     "output_type": "execute_result"
    }
   ],
   "source": [
    "all_ann_df[['app_name', 'Rank2']].groupby('app_name').agg({'Rank2': lambda x: np.mean(x)})"
   ]
  },
  {
   "cell_type": "code",
   "execution_count": 80,
   "metadata": {},
   "outputs": [
    {
     "data": {
      "text/html": [
       "<div>\n",
       "<style scoped>\n",
       "    .dataframe tbody tr th:only-of-type {\n",
       "        vertical-align: middle;\n",
       "    }\n",
       "\n",
       "    .dataframe tbody tr th {\n",
       "        vertical-align: top;\n",
       "    }\n",
       "\n",
       "    .dataframe thead th {\n",
       "        text-align: right;\n",
       "    }\n",
       "</style>\n",
       "<table border=\"1\" class=\"dataframe\">\n",
       "  <thead>\n",
       "    <tr style=\"text-align: right;\">\n",
       "      <th></th>\n",
       "      <th>avg_rank</th>\n",
       "    </tr>\n",
       "    <tr>\n",
       "      <th>app_name</th>\n",
       "      <th></th>\n",
       "    </tr>\n",
       "  </thead>\n",
       "  <tbody>\n",
       "    <tr>\n",
       "      <th>masked_conc_attacks</th>\n",
       "      <td>2.615</td>\n",
       "    </tr>\n",
       "    <tr>\n",
       "      <th>multi_counter_joint</th>\n",
       "      <td>2.410</td>\n",
       "    </tr>\n",
       "    <tr>\n",
       "      <th>multi_counter_pipeline</th>\n",
       "      <td>2.335</td>\n",
       "    </tr>\n",
       "    <tr>\n",
       "      <th>pred_counter_arguments_no_stance</th>\n",
       "      <td>2.635</td>\n",
       "    </tr>\n",
       "  </tbody>\n",
       "</table>\n",
       "</div>"
      ],
      "text/plain": [
       "                                  avg_rank\n",
       "app_name                                  \n",
       "masked_conc_attacks                  2.615\n",
       "multi_counter_joint                  2.410\n",
       "multi_counter_pipeline               2.335\n",
       "pred_counter_arguments_no_stance     2.635"
      ]
     },
     "execution_count": 80,
     "metadata": {},
     "output_type": "execute_result"
    }
   ],
   "source": [
    "all_ann_df[['app_name', 'avg_rank']].groupby('app_name').agg({'avg_rank': lambda x: np.mean(x)})"
   ]
  },
  {
   "cell_type": "code",
   "execution_count": 81,
   "metadata": {},
   "outputs": [
    {
     "name": "stdout",
     "output_type": "stream",
     "text": [
      "[(4.0, 12), (3.5, 22), (3.0, 13), (2.5, 19), (2.0, 12), (1.5, 8), (1.0, 14)]\n",
      "[(4.0, 6), (3.5, 15), (3.0, 19), (2.5, 12), (2.0, 13), (1.5, 18), (1.0, 17)]\n",
      "[(4.0, 13), (3.5, 12), (3.0, 16), (2.5, 12), (2.0, 15), (1.5, 14), (1.0, 18)]\n",
      "[(4.0, 10), (3.5, 22), (3.0, 17), (2.5, 13), (2.0, 22), (1.5, 6), (1.0, 10)]\n"
     ]
    },
    {
     "data": {
      "image/png": "[encoded data removed]",
      "text/plain": [
       "<Figure size 1080x720 with 1 Axes>"
      ]
     },
     "metadata": {
      "needs_background": "light"
     },
     "output_type": "display_data"
    }
   ],
   "source": [
    "fig = plt.figure(figsize=(15,10))\n",
    "width = 0.2\n",
    "for i, item, in enumerate([('Masked', 'masked_conc_attacks'), ('Pipelined', 'multi_counter_pipeline'), ('Joint', 'multi_counter_joint'), ('Shared', 'pred_counter_arguments_no_stance')]):\n",
    "    app = item[0]\n",
    "    app_scores = sorted(all_ann_df[all_ann_df.app_name == item[1]]['avg_rank'].value_counts().to_dict().items(), key=lambda x: -x[0])\n",
    "    print(app_scores)\n",
    "    xs, ys = zip(*app_scores)\n",
    "    plt.bar([x + (i * width) for x in range(0, len(xs))], ys, width=width , label=app,)\n",
    "\n",
    "plt.xticks(range(0, len(xs)), xs)\n",
    "plt.legend()\n",
    "plt.savefig('./figures/manual_ranking_scores.pdf')\n",
    "plt.show()"
   ]
  },
  {
   "cell_type": "markdown",
   "metadata": {},
   "source": [
    "#### Conclusions quality:"
   ]
  },
  {
   "cell_type": "code",
   "execution_count": 69,
   "metadata": {},
   "outputs": [],
   "source": [
    "fs_results_df = pd.read_excel('../data/manual_evaluation/results/conclusion_eval_fs.xlsx')\n",
    "ji_results_df = pd.read_excel('../data/manual_evaluation/results/conclusion_eval_ji.xlsx')\n",
    "\n",
    "conclusion_eval_df = pd.read_csv('../data/manual_evaluation/eval_conclusion_sample.csv')\n",
    "\n",
    "all_ann_df = ji_results_df\n",
    "all_ann_df['Valid2']    = fs_results_df['Valid'].tolist()\n",
    "all_ann_df['app_name'] = conclusion_eval_df['Approach name'].tolist()\n",
    "all_ann_df['avg_score'] = all_ann_df.apply(lambda row: (row['Valid'] + row['Valid2'])/2, axis=1)"
   ]
  },
  {
   "cell_type": "code",
   "execution_count": 70,
   "metadata": {},
   "outputs": [
    {
     "data": {
      "text/html": [
       "<div>\n",
       "<style scoped>\n",
       "    .dataframe tbody tr th:only-of-type {\n",
       "        vertical-align: middle;\n",
       "    }\n",
       "\n",
       "    .dataframe tbody tr th {\n",
       "        vertical-align: top;\n",
       "    }\n",
       "\n",
       "    .dataframe thead th {\n",
       "        text-align: right;\n",
       "    }\n",
       "</style>\n",
       "<table border=\"1\" class=\"dataframe\">\n",
       "  <thead>\n",
       "    <tr style=\"text-align: right;\">\n",
       "      <th></th>\n",
       "      <th>Unnamed: 0</th>\n",
       "      <th>ID</th>\n",
       "      <th>Argument</th>\n",
       "      <th>Conclusion</th>\n",
       "      <th>Valid</th>\n",
       "      <th>Valid2</th>\n",
       "      <th>app_name</th>\n",
       "      <th>avg_score</th>\n",
       "    </tr>\n",
       "  </thead>\n",
       "  <tbody>\n",
       "    <tr>\n",
       "      <th>0</th>\n",
       "      <td>0</td>\n",
       "      <td>t3_aiwppt</td>\n",
       "      <td>models of climate change predict, in the very near future, existential threats to humanity. in particular are weather effects that will drastically reduce food supplies and access to potable water. in the western hemisphere, it is obvious that this will be far more disastrous to those south of the us border where, even right now, access to food and water is a real issue for millions of people. while the proposed border wall may not be entirely justifiable in its ability to stop current illegal immigration and illicit transport of contraband, in the event of a massive migration, greater in scale by magnitudes than that seen in europe, a border wall will be absolutely necessary to stop the influx. now, one might argue that it is morally unjustifiable to turn away the starving masses, which is a nice sentiment. however, this sentiment fails at practicality: this country s own food supply will also be taxed and to let in millions will only ensure that even more people will starve together as opposed to some living and some dying. if one were to argue that we caused more pollution than they did, and so should not live whilst they die, then the rational answer is to go ahead and commit suicide now so that you will not contribute more pollution or reduce any more resources that you feel others have more right to possess. doing otherwise is only to make the moral judgement for others by removing their agency. would a person who claims that we don t deserve to live instead of these potential refugees feel justified to murder infants now? if not, then how could they argue that an arbitrary amount of time will serve to justify that same death for wrongs committed at the same time that the same person was an infant? or before they were even born since the worst of the pollution caused by the us was done between 40 to 70 years ago ? it is not justifiable because neither the infant nor the potential refugee had a part in the damage done. so, what is left to argue? in the event of a refugee crisis, will a wall stop more refugees than no wall? obviously it will. is the cost of constructing one now less than it will be in the future? yes, it is, and it would have been cheaper still had it been built 5, 10, or 20 years ago. the worst case scenario of building the wall now is that it would be totally ineffective at the stated purpose and it would cost the government money that would otherwise be earmarked off to some other pork barrel project. that is very little risk when considered against the future benefit that can be provided.</td>\n",
       "      <td>Pollution is not morally justified and building a border wall is the best way to stop the immigration crisis.</td>\n",
       "      <td>3</td>\n",
       "      <td>2</td>\n",
       "      <td>joint-learning</td>\n",
       "      <td>2.5</td>\n",
       "    </tr>\n",
       "    <tr>\n",
       "      <th>1</th>\n",
       "      <td>1</td>\n",
       "      <td>NaN</td>\n",
       "      <td>NaN</td>\n",
       "      <td>To believe Climate Change models are correct but to oppose a border wall is an irrational position regardless of politics.</td>\n",
       "      <td>3</td>\n",
       "      <td>3</td>\n",
       "      <td>ground-truth</td>\n",
       "      <td>3.0</td>\n",
       "    </tr>\n",
       "    <tr>\n",
       "      <th>2</th>\n",
       "      <td>2</td>\n",
       "      <td>NaN</td>\n",
       "      <td>NaN</td>\n",
       "      <td>Drinking water and committing suicide at an infant's birth is morally unjustifiable.</td>\n",
       "      <td>1</td>\n",
       "      <td>1</td>\n",
       "      <td>pipeline-learning</td>\n",
       "      <td>1.0</td>\n",
       "    </tr>\n",
       "    <tr>\n",
       "      <th>3</th>\n",
       "      <td>3</td>\n",
       "      <td>NaN</td>\n",
       "      <td>NaN</td>\n",
       "      <td>Climate change is a real issue, and building a border wall is necessary to stop the influx of refugees.</td>\n",
       "      <td>3</td>\n",
       "      <td>3</td>\n",
       "      <td>joint-learning</td>\n",
       "      <td>3.0</td>\n",
       "    </tr>\n",
       "    <tr>\n",
       "      <th>4</th>\n",
       "      <td>4</td>\n",
       "      <td>NaN</td>\n",
       "      <td>NaN</td>\n",
       "      <td>Climate change is far more of an issue than the proposed border wall, it has a much greater risk of increasing the risk of global extinction than a wall.</td>\n",
       "      <td>1</td>\n",
       "      <td>1</td>\n",
       "      <td>pipeline-learning</td>\n",
       "      <td>1.0</td>\n",
       "    </tr>\n",
       "  </tbody>\n",
       "</table>\n",
       "</div>"
      ],
      "text/plain": [
       "   Unnamed: 0         ID  \\\n",
       "0           0  t3_aiwppt   \n",
       "1           1        NaN   \n",
       "2           2        NaN   \n",
       "3           3        NaN   \n",
       "4           4        NaN   \n",
       "\n",
       "                                                                                                                                                                                                                                                                                                                                                                                                                                                                                                                                                                                                                                                                                                                                                                                                                                                                                                                                                                                                                                                                                                                                                                                                                                                                                                                                                                                                                                                                                                                                                                                                                                                                                                                                                                                                                                                                                                                                                                                                                                                                                                                                                                                                                                                                                                                                                                                                                                                                                                                                                                                                                                                         Argument  \\\n",
       "0  models of climate change predict, in the very near future, existential threats to humanity. in particular are weather effects that will drastically reduce food supplies and access to potable water. in the western hemisphere, it is obvious that this will be far more disastrous to those south of the us border where, even right now, access to food and water is a real issue for millions of people. while the proposed border wall may not be entirely justifiable in its ability to stop current illegal immigration and illicit transport of contraband, in the event of a massive migration, greater in scale by magnitudes than that seen in europe, a border wall will be absolutely necessary to stop the influx. now, one might argue that it is morally unjustifiable to turn away the starving masses, which is a nice sentiment. however, this sentiment fails at practicality: this country s own food supply will also be taxed and to let in millions will only ensure that even more people will starve together as opposed to some living and some dying. if one were to argue that we caused more pollution than they did, and so should not live whilst they die, then the rational answer is to go ahead and commit suicide now so that you will not contribute more pollution or reduce any more resources that you feel others have more right to possess. doing otherwise is only to make the moral judgement for others by removing their agency. would a person who claims that we don t deserve to live instead of these potential refugees feel justified to murder infants now? if not, then how could they argue that an arbitrary amount of time will serve to justify that same death for wrongs committed at the same time that the same person was an infant? or before they were even born since the worst of the pollution caused by the us was done between 40 to 70 years ago ? it is not justifiable because neither the infant nor the potential refugee had a part in the damage done. so, what is left to argue? in the event of a refugee crisis, will a wall stop more refugees than no wall? obviously it will. is the cost of constructing one now less than it will be in the future? yes, it is, and it would have been cheaper still had it been built 5, 10, or 20 years ago. the worst case scenario of building the wall now is that it would be totally ineffective at the stated purpose and it would cost the government money that would otherwise be earmarked off to some other pork barrel project. that is very little risk when considered against the future benefit that can be provided.   \n",
       "1                                                                                                                                                                                                                                                                                                                                                                                                                                                                                                                                                                                                                                                                                                                                                                                                                                                                                                                                                                                                                                                                                                                                                                                                                                                                                                                                                                                                                                                                                                                                                                                                                                                                                                                                                                                                                                                                                                                                                                                                                                                                                                                                                                                                                                                                                                                                                                                                                                                                                                                                                                                                                                                             NaN   \n",
       "2                                                                                                                                                                                                                                                                                                                                                                                                                                                                                                                                                                                                                                                                                                                                                                                                                                                                                                                                                                                                                                                                                                                                                                                                                                                                                                                                                                                                                                                                                                                                                                                                                                                                                                                                                                                                                                                                                                                                                                                                                                                                                                                                                                                                                                                                                                                                                                                                                                                                                                                                                                                                                                                             NaN   \n",
       "3                                                                                                                                                                                                                                                                                                                                                                                                                                                                                                                                                                                                                                                                                                                                                                                                                                                                                                                                                                                                                                                                                                                                                                                                                                                                                                                                                                                                                                                                                                                                                                                                                                                                                                                                                                                                                                                                                                                                                                                                                                                                                                                                                                                                                                                                                                                                                                                                                                                                                                                                                                                                                                                             NaN   \n",
       "4                                                                                                                                                                                                                                                                                                                                                                                                                                                                                                                                                                                                                                                                                                                                                                                                                                                                                                                                                                                                                                                                                                                                                                                                                                                                                                                                                                                                                                                                                                                                                                                                                                                                                                                                                                                                                                                                                                                                                                                                                                                                                                                                                                                                                                                                                                                                                                                                                                                                                                                                                                                                                                                             NaN   \n",
       "\n",
       "                                                                                                                                                  Conclusion  \\\n",
       "0                                              Pollution is not morally justified and building a border wall is the best way to stop the immigration crisis.   \n",
       "1                                 To believe Climate Change models are correct but to oppose a border wall is an irrational position regardless of politics.   \n",
       "2                                                                       Drinking water and committing suicide at an infant's birth is morally unjustifiable.   \n",
       "3                                                    Climate change is a real issue, and building a border wall is necessary to stop the influx of refugees.   \n",
       "4  Climate change is far more of an issue than the proposed border wall, it has a much greater risk of increasing the risk of global extinction than a wall.   \n",
       "\n",
       "   Valid  Valid2           app_name  avg_score  \n",
       "0      3       2     joint-learning        2.5  \n",
       "1      3       3       ground-truth        3.0  \n",
       "2      1       1  pipeline-learning        1.0  \n",
       "3      3       3     joint-learning        3.0  \n",
       "4      1       1  pipeline-learning        1.0  "
      ]
     },
     "execution_count": 70,
     "metadata": {},
     "output_type": "execute_result"
    }
   ],
   "source": [
    "all_ann_df.head()"
   ]
  },
  {
   "cell_type": "code",
   "execution_count": 71,
   "metadata": {},
   "outputs": [
    {
     "data": {
      "text/html": [
       "<div>\n",
       "<style scoped>\n",
       "    .dataframe tbody tr th:only-of-type {\n",
       "        vertical-align: middle;\n",
       "    }\n",
       "\n",
       "    .dataframe tbody tr th {\n",
       "        vertical-align: top;\n",
       "    }\n",
       "\n",
       "    .dataframe thead th {\n",
       "        text-align: right;\n",
       "    }\n",
       "</style>\n",
       "<table border=\"1\" class=\"dataframe\">\n",
       "  <thead>\n",
       "    <tr style=\"text-align: right;\">\n",
       "      <th></th>\n",
       "      <th>avg_score</th>\n",
       "    </tr>\n",
       "    <tr>\n",
       "      <th>app_name</th>\n",
       "      <th></th>\n",
       "    </tr>\n",
       "  </thead>\n",
       "  <tbody>\n",
       "    <tr>\n",
       "      <th>ground-truth</th>\n",
       "      <td>2.390</td>\n",
       "    </tr>\n",
       "    <tr>\n",
       "      <th>joint-learning</th>\n",
       "      <td>1.905</td>\n",
       "    </tr>\n",
       "    <tr>\n",
       "      <th>joint-learning-two-decoders</th>\n",
       "      <td>2.025</td>\n",
       "    </tr>\n",
       "    <tr>\n",
       "      <th>pipeline-learning</th>\n",
       "      <td>1.420</td>\n",
       "    </tr>\n",
       "  </tbody>\n",
       "</table>\n",
       "</div>"
      ],
      "text/plain": [
       "                             avg_score\n",
       "app_name                              \n",
       "ground-truth                     2.390\n",
       "joint-learning                   1.905\n",
       "joint-learning-two-decoders      2.025\n",
       "pipeline-learning                1.420"
      ]
     },
     "execution_count": 71,
     "metadata": {},
     "output_type": "execute_result"
    }
   ],
   "source": [
    "all_ann_df[['app_name', 'avg_score']].groupby('app_name').agg({'avg_score': lambda x: np.mean(x)})"
   ]
  },
  {
   "cell_type": "code",
   "execution_count": null,
   "metadata": {},
   "outputs": [],
   "source": []
  }
 ],
 "metadata": {
  "kernelspec": {
   "display_name": "Python 3",
   "language": "python",
   "name": "python3"
  },
  "language_info": {
   "codemirror_mode": {
    "name": "ipython",
    "version": 3
   },
   "file_extension": ".py",
   "mimetype": "text/x-python",
   "name": "python",
   "nbconvert_exporter": "python",
   "pygments_lexer": "ipython3",
   "version": "3.8.10"
  }
 },
 "nbformat": 4,
 "nbformat_minor": 4
}
