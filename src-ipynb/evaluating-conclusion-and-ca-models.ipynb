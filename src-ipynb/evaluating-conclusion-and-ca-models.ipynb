{
 "cells": [
  {
   "cell_type": "code",
   "execution_count": 2,
   "metadata": {},
   "outputs": [],
   "source": [
    "%load_ext autoreload"
   ]
  },
  {
   "cell_type": "code",
   "execution_count": 3,
   "metadata": {},
   "outputs": [],
   "source": [
    "import os\n",
    "import sys\n",
    "import re\n",
    "from argparse import Namespace\n",
    "\n",
    "sys.path.append('../src-py/')"
   ]
  },
  {
   "cell_type": "code",
   "execution_count": 4,
   "metadata": {},
   "outputs": [],
   "source": [
    "%autoreload\n",
    "\n",
    "from utils import *\n",
    "from project_debater_api import *\n",
    "from mt_bart_v2 import *"
   ]
  },
  {
   "cell_type": "code",
   "execution_count": 5,
   "metadata": {},
   "outputs": [],
   "source": [
    "import torch\n",
    "import json\n",
    "\n",
    "import nltk\n",
    "import numpy as np\n",
    "import pandas as pd\n",
    "\n",
    "from pathlib import Path\n",
    "from datasets import load_dataset, load_metric, Dataset\n",
    "\n",
    "from transformers import AutoModelForSeq2SeqLM, DataCollatorForSeq2Seq, Seq2SeqTrainingArguments, Seq2SeqTrainer\n",
    "from transformers import BartTokenizer, BartForConditionalGeneration"
   ]
  },
  {
   "cell_type": "code",
   "execution_count": 6,
   "metadata": {},
   "outputs": [],
   "source": [
    "import pandas as pd\n",
    "pd.set_option('display.max_colwidth', None)"
   ]
  },
  {
   "cell_type": "code",
   "execution_count": 7,
   "metadata": {},
   "outputs": [],
   "source": [
    "device = torch.device('cuda') if torch.cuda.is_available() else torch.device('cpu')"
   ]
  },
  {
   "cell_type": "code",
   "execution_count": 8,
   "metadata": {},
   "outputs": [],
   "source": [
    "ceph_dir = '/home/sile2804/data-ceph/arguana/arg-generation/multi-taks-counter-argument-generation'\n",
    "local_home_dir = '../data'"
   ]
  },
  {
   "cell_type": "code",
   "execution_count": 9,
   "metadata": {},
   "outputs": [],
   "source": [
    "#Evalute ROUGE scores\n",
    "gen_kwargs = {\n",
    "    \"do_sample\": False, \n",
    "    \"max_length\":200,\n",
    "    \"top_p\":0.95, \n",
    "    \"top_k\":50,\n",
    "    \"num_beams\":1\n",
    "}\n",
    "\n",
    "def generate_ds_attacks(ds, model, tokenizer, premises_clm, conclusion_clm, gen_kwargs, skip_special_tokens=True, batch_size=8):\n",
    "    ds = ds.map(lambda x :preprocess_function(x, tokenizer, premises_clm, 'counter', conclusion_clm=conclusion_clm), batched=True)\n",
    "    ds.set_format(type='torch', columns=['input_ids', 'attention_mask', 'labels'])\n",
    "    dataloader = torch.utils.data.DataLoader(ds, batch_size=batch_size)\n",
    "    attacks = generate_counters(model, tokenizer, dataloader, gen_kwargs, skip_special_tokens=skip_special_tokens)\n",
    "    \n",
    "    return attacks"
   ]
  },
  {
   "cell_type": "markdown",
   "metadata": {},
   "source": [
    "#### Load Testing data:"
   ]
  },
  {
   "cell_type": "markdown",
   "metadata": {},
   "source": [
    "##### Loading validation data from Reddit:"
   ]
  },
  {
   "cell_type": "code",
   "execution_count": 10,
   "metadata": {},
   "outputs": [],
   "source": [
    "valid_df = pd.read_pickle(ceph_dir + '/reddit_data/conclusion_and_ca_generation/valid_conclusion_comp_remove_75sem_perc_with_targets.pkl')"
   ]
  },
  {
   "cell_type": "code",
   "execution_count": 12,
   "metadata": {},
   "outputs": [],
   "source": [
    "#drop duplicate posts\n",
    "unique_valid_posts = valid_df.drop_duplicates('post_id')"
   ]
  },
  {
   "cell_type": "code",
   "execution_count": 13,
   "metadata": {},
   "outputs": [
    {
     "data": {
      "application/vnd.jupyter.widget-view+json": {
       "model_id": "084d10090b4946a59852a3ea28bb57bb",
       "version_major": 2,
       "version_minor": 0
      },
      "text/plain": [
       "  0%|          | 0/3 [00:00<?, ?ba/s]"
      ]
     },
     "metadata": {},
     "output_type": "display_data"
    }
   ],
   "source": [
    "valid_ds = Dataset.from_pandas(unique_valid_posts)\n",
    "tmp_ds = valid_ds.train_test_split(0.9)\n",
    "sample_valid_ds = tmp_ds['test']\n",
    "\n",
    "#saving the sample\n",
    "reddit_sample_valid_ds = sample_valid_ds.flatten_indices()\n",
    "reddit_sample_valid_ds.save_to_disk('../data/sample_valid_ds')"
   ]
  },
  {
   "cell_type": "code",
   "execution_count": 14,
   "metadata": {},
   "outputs": [],
   "source": [
    "#loading the random sample of validation dataset with the auto-generated conclusion\n",
    "reddit_sample_valid_ds = Dataset.load_from_disk('../data/sample_valid_ds/')"
   ]
  },
  {
   "cell_type": "code",
   "execution_count": 15,
   "metadata": {},
   "outputs": [
    {
     "data": {
      "text/plain": [
       "2278"
      ]
     },
     "execution_count": 15,
     "metadata": {},
     "output_type": "execute_result"
    }
   ],
   "source": [
    "len(reddit_sample_valid_ds)"
   ]
  },
  {
   "cell_type": "markdown",
   "metadata": {},
   "source": [
    "##### Loading validation data from Kialo:"
   ]
  },
  {
   "cell_type": "code",
   "execution_count": 29,
   "metadata": {},
   "outputs": [],
   "source": [
    "valid_ds = Dataset.from_pandas(pd.read_pickle(ceph_dir + '/kialo_data/kialo_valid_df.pkl'))"
   ]
  },
  {
   "cell_type": "code",
   "execution_count": 10,
   "metadata": {},
   "outputs": [
    {
     "data": {
      "application/vnd.jupyter.widget-view+json": {
       "model_id": "6c03a38a10684d2283d2c15593d19fbe",
       "version_major": 2,
       "version_minor": 0
      },
      "text/plain": [
       "  0%|          | 0/3 [00:00<?, ?ba/s]"
      ]
     },
     "metadata": {},
     "output_type": "display_data"
    }
   ],
   "source": [
    "tmp_ds = valid_ds.train_test_split(0.5)\n",
    "sample_valid_ds = tmp_ds['test']\n",
    "\n",
    "#saving the sample\n",
    "sample_valid_ds = sample_valid_ds.flatten_indices()\n",
    "sample_valid_ds.save_to_disk('../data/kialo_sample_valid_ds')"
   ]
  },
  {
   "cell_type": "code",
   "execution_count": 9,
   "metadata": {},
   "outputs": [],
   "source": [
    "sample_valid_ds = Dataset.load_from_disk('../data/kialo_sample_valid_ds')"
   ]
  },
  {
   "cell_type": "markdown",
   "metadata": {},
   "source": [
    "### Evaluating on Kialo:"
   ]
  },
  {
   "cell_type": "code",
   "execution_count": null,
   "metadata": {},
   "outputs": [],
   "source": [
    "#KIALO models\n",
    "masked_conclusion_kialo_model = BartForConditionalGeneration.from_pretrained(local_home_dir + '/output/masked-conclusion-kialo-model/').to(device)\n",
    "masked_conclusion_kialo_tokenizer = BartTokenizer.from_pretrained(local_home_dir + '/output/masked-conclusion-kialo-model/')\n",
    "known_conclusion_kialo_model = BartForConditionalGeneration.from_pretrained(local_home_dir + '/output/known-conclusion-kialo-model/').to(device)\n",
    "known_conclusion_kialo_tokenizer = BartTokenizer.from_pretrained(local_home_dir + '/output/known-conclusion-kialo-model/')\n",
    "\n",
    "#masked_conclusion_kialo_model = BartForConditionalGeneration.from_pretrained(local_home_dir + '/output/masked-conclusion-kialo-unique-model/').to(device)\n",
    "#known_conclusion_kialo_model = BartForConditionalGeneration.from_pretrained(local_home_dir + '/output/known-conclusion-kialo-unique-model/').to(device)"
   ]
  },
  {
   "cell_type": "code",
   "execution_count": 11,
   "metadata": {},
   "outputs": [
    {
     "data": {
      "application/vnd.jupyter.widget-view+json": {
       "model_id": "b66d28b388f7461c9e099af8505ba55c",
       "version_major": 2,
       "version_minor": 0
      },
      "text/plain": [
       "  0%|          | 0/3 [00:00<?, ?ba/s]"
      ]
     },
     "metadata": {},
     "output_type": "display_data"
    },
    {
     "name": "stderr",
     "output_type": "stream",
     "text": [
      "/usr/local/lib/python3.6/dist-packages/torch/_tensor.py:575: UserWarning: floor_divide is deprecated, and will be removed in a future version of pytorch. It currently rounds toward 0 (like the 'trunc' function NOT 'floor'). This results in incorrect rounding for negative values.\n",
      "To keep the current behavior, use torch.div(a, b, rounding_mode='trunc'), or for actual floor division, use torch.div(a, b, rounding_mode='floor'). (Triggered internally at  /pytorch/aten/src/ATen/native/BinaryOps.cpp:467.)\n",
      "  return torch.floor_divide(self, other)\n"
     ]
    },
    {
     "data": {
      "application/vnd.jupyter.widget-view+json": {
       "model_id": "d91be7cbf01341479ee42193c2e49d5c",
       "version_major": 2,
       "version_minor": 0
      },
      "text/plain": [
       "  0%|          | 0/3 [00:00<?, ?ba/s]"
      ]
     },
     "metadata": {},
     "output_type": "display_data"
    }
   ],
   "source": [
    "known_conc_attacks = generate_ds_attacks(sample_valid_ds, known_conclusion_kialo_model, known_conclusion_kialo_tokenizer, 'premises', 'conclusion_text', gen_kwargs)\n",
    "masked_conc_attacks = generate_ds_attacks(sample_valid_ds, masked_conclusion_kialo_model, masked_conclusion_kialo_tokenizer, 'premises', None, gen_kwargs)\n",
    "#auto_conc_attacks = generate_ds_attacks(sample_valid_ds, known_conclusion_model, tokenizer, 'masked_premises', 'auto_conclusion', gen_kwargs)"
   ]
  },
  {
   "cell_type": "code",
   "execution_count": 12,
   "metadata": {},
   "outputs": [],
   "source": [
    "kialo_pred_df = pd.DataFrame(list(zip(sample_valid_ds['conclusion_text'], sample_valid_ds['premises'], \n",
    "                                   sample_valid_ds['counter'], known_conc_attacks, masked_conc_attacks)), \n",
    "                      columns=['conclusion', 'premises', 'gt', 'known_conc_attacks', 'masked_conc_attacks'])\n",
    "\n",
    "kialo_pred_df['argument'] = kialo_pred_df.apply(lambda row: row['conclusion'] + ' : ' + ' '.join(row['premises']), axis=1)\n",
    "kialo_pred_df['premises'] = kialo_pred_df['premises'].apply(lambda x: ' '.join(x))"
   ]
  },
  {
   "cell_type": "markdown",
   "metadata": {},
   "source": [
    "### Generate predictions on Reddit:"
   ]
  },
  {
   "cell_type": "code",
   "execution_count": 16,
   "metadata": {},
   "outputs": [],
   "source": [
    "# Loading Reddit models\n",
    "\n",
    "#masked_conclusion_tokenizer = BartTokenizer.from_pretrained(local_home_dir + '/output/extended_tokenizer')\n",
    "#masked_conclusion_model = BartForConditionalGeneration.from_pretrained(local_home_dir + '/output/masked-conclusion-bart-model/').to(device)\n",
    "\n",
    "known_conclusion_model = BartForConditionalGeneration.from_pretrained(local_home_dir  + '/output/known-conclusion-bart-model').to(device)\n",
    "known_conclusion_tokenizer = BartTokenizer.from_pretrained(local_home_dir + '/output/extended_tokenizer')\n",
    "\n",
    "pred_conclusion_model = BartForConditionalGeneration.from_pretrained(local_home_dir  + '/output/pred-conclusion-bart-model/').to(device)\n",
    "pred_conclusion_tokenizer = BartTokenizer.from_pretrained(local_home_dir + '/output/pred-conclusion-bart-model/')\n",
    "\n",
    "join_model_tokenizer = BartTokenizer.from_pretrained('../data/output/joint-con-counter-bart-model-no-attention/')\n",
    "join_model  = BartModelV2.from_pretrained('../data/output/joint-con-counter-bart-model-no-attention-finetuned/0-1-1-0/', conc_loss_weight = 0.1, counter_loss_weight=1.0, attention_to_conc=False, conc_decoder=True).to(device)"
   ]
  },
  {
   "cell_type": "code",
   "execution_count": 17,
   "metadata": {},
   "outputs": [
    {
     "name": "stderr",
     "output_type": "stream",
     "text": [
      "Loading cached processed dataset at ../data/sample_valid_ds/cache-31d14c2cedaf9bb0.arrow\n",
      "Loading cached processed dataset at ../data/sample_valid_ds/cache-7b8209c54d589c68.arrow\n"
     ]
    },
    {
     "data": {
      "application/vnd.jupyter.widget-view+json": {
       "model_id": "703fdcd5581a4ed19193369de3f1dea6",
       "version_major": 2,
       "version_minor": 0
      },
      "text/plain": [
       "  0%|          | 0/3 [00:00<?, ?ba/s]"
      ]
     },
     "metadata": {},
     "output_type": "display_data"
    },
    {
     "data": {
      "application/vnd.jupyter.widget-view+json": {
       "model_id": "10a78abfb0a44ac2922f0f97adf8cf0b",
       "version_major": 2,
       "version_minor": 0
      },
      "text/plain": [
       "  0%|          | 0/3 [00:00<?, ?ba/s]"
      ]
     },
     "metadata": {},
     "output_type": "display_data"
    },
    {
     "name": "stderr",
     "output_type": "stream",
     "text": [
      "Loading cached processed dataset at ../data/sample_valid_ds/cache-0d27e46c58959ccd.arrow\n"
     ]
    }
   ],
   "source": [
    "joint_attacks = generate_ds_attacks(reddit_sample_valid_ds, join_model, join_model_tokenizer, 'masked_premises', 'title', gen_kwargs)\n",
    "known_conc_attacks  = generate_ds_attacks(reddit_sample_valid_ds, known_conclusion_model, known_conclusion_tokenizer, 'masked_premises', 'title', gen_kwargs)\n",
    "bart_conc_attacks   = generate_ds_attacks(reddit_sample_valid_ds, known_conclusion_model, known_conclusion_tokenizer, 'masked_premises', 'bart_conclusion', gen_kwargs)\n",
    "masked_conc_attacks = generate_ds_attacks(reddit_sample_valid_ds, known_conclusion_model, known_conclusion_tokenizer, 'masked_premises', None, gen_kwargs)\n",
    "joint_conc_baseline_attacks  = generate_ds_attacks(reddit_sample_valid_ds, pred_conclusion_model, pred_conclusion_tokenizer, 'masked_premises', None, gen_kwargs, skip_special_tokens=False)\n",
    "#This model would predict the conclusion and then the counter in one sequence."
   ]
  },
  {
   "cell_type": "code",
   "execution_count": 18,
   "metadata": {},
   "outputs": [],
   "source": [
    "reddit_pred_df = pd.DataFrame(list(zip(\n",
    "                                       reddit_sample_valid_ds['post_id'],\n",
    "                                       reddit_sample_valid_ds['title'], \n",
    "                                       reddit_sample_valid_ds['conclusion_targets'],\n",
    "                                       reddit_sample_valid_ds['conclusion_stance'],\n",
    "                                       reddit_sample_valid_ds['bart_conclusion'], \n",
    "                                       reddit_sample_valid_ds['masked_premises'],\n",
    "                                       reddit_sample_valid_ds['counter'], \n",
    "                                       known_conc_attacks, masked_conc_attacks, \n",
    "                                       bart_conc_attacks, joint_attacks, joint_conc_baseline_attacks)), \n",
    "                columns=['post_id', 'conclusion', 'conclusion_target', 'conclusion_stance', 'bart_conclusion', 'premises', 'gt_attack', 'known_conc_attacks', \n",
    "                         'masked_conc_attacks', 'bart_conc_attacks', 'joint_conc_attacks', 'joint_conc_baseline_attacks'])\n",
    "\n",
    "reddit_pred_df['argument'] = reddit_pred_df.apply(lambda row: row['conclusion'] + ' : ' + ' '.join(row['premises']), axis=1)\n",
    "reddit_pred_df['premises'] = reddit_pred_df['premises'].apply(lambda x: ' '.join(x))\n",
    "\n",
    "#process the jointly generated conclusion and counter\n",
    "reddit_pred_df['joint_conc_baseline'] = reddit_pred_df['joint_conc_baseline_attacks'].apply (lambda x: x.split('<counter>')[0])\n",
    "reddit_pred_df['joint_conc_baseline_attacks'] = reddit_pred_df['joint_conc_baseline_attacks'].apply (lambda x: x.split('<counter>')[1] if '<counter>' in x else x)\n",
    "reddit_pred_df['joint_conc_baseline'] = reddit_pred_df['joint_conc_baseline'].apply (lambda x: re.sub('<s>|</s>|<conclusion>|<counter>|<pad>', '', x).strip())\n",
    "reddit_pred_df['joint_conc_baseline_attacks'] = reddit_pred_df['joint_conc_baseline_attacks'].apply (lambda x: re.sub('<s>|</s>|<conclusion>|<counter>|<pad>', '', x).strip())\n",
    "\n",
    "#save created pred_df\n",
    "reddit_pred_df.to_pickle('../data/output/reddit_pred_df-nosample.pkl')"
   ]
  },
  {
   "cell_type": "markdown",
   "metadata": {},
   "source": [
    "### Evaluate generated predictions:"
   ]
  },
  {
   "cell_type": "code",
   "execution_count": 11,
   "metadata": {},
   "outputs": [],
   "source": [
    "reddit_pred_df = pd.read_pickle('../data/output/reddit_pred_df-nosample.pkl')"
   ]
  },
  {
   "cell_type": "code",
   "execution_count": 12,
   "metadata": {
    "scrolled": true,
    "tags": []
   },
   "outputs": [
    {
     "data": {
      "text/html": [
       "<div>\n",
       "<style scoped>\n",
       "    .dataframe tbody tr th:only-of-type {\n",
       "        vertical-align: middle;\n",
       "    }\n",
       "\n",
       "    .dataframe tbody tr th {\n",
       "        vertical-align: top;\n",
       "    }\n",
       "\n",
       "    .dataframe thead th {\n",
       "        text-align: right;\n",
       "    }\n",
       "</style>\n",
       "<table border=\"1\" class=\"dataframe\">\n",
       "  <thead>\n",
       "    <tr style=\"text-align: right;\">\n",
       "      <th></th>\n",
       "      <th>argument</th>\n",
       "      <th>conclusion</th>\n",
       "      <th>joint_conc_baseline</th>\n",
       "      <th>masked_conc_attacks</th>\n",
       "      <th>known_conc_attacks</th>\n",
       "      <th>joint_conc_baseline_attacks</th>\n",
       "      <th>joint_conc_attacks</th>\n",
       "    </tr>\n",
       "  </thead>\n",
       "  <tbody>\n",
       "    <tr>\n",
       "      <th>86</th>\n",
       "      <td>I've is not a substitution for 'I have' in some situations : for the record, i am talking colloquially. technically i've is short for i have. however, my point is that the 'have' in i've is supposed to be used for the present perfect usage of i have. for example: i have been to the store. i have never been there. nothing makes me more irked when i see people saying something like 'i've my keys right now' or 'i've a low self esteem', and 'i've a tenuous grasp of the english language'. it is not supposed to be used with have as a verb. cmv i think i've adequately presented my point here but i'm only typing this because i need to fit the 500 character minimum for this this b c mods</td>\n",
       "      <td>I've is not a substitution for 'I have' in some situations</td>\n",
       "      <td>The \"have\" in \"have\", as a verb, is not supposed to be used for the present perfect usage of \"have\".</td>\n",
       "      <td>i'm not sure what you're talking about. i'm talking about the use of have as a verb. i think you're missing the point. i've been to the store, and i've had a few drinks. i have a few beers, and a few glasses of wine. i don't know what i'm saying, but i'm not going to say i've a beer, or i've eaten a meal, or something. i just want to say that i've never been to a store, or to have a drink, or have a beer. i know i've seen a lot of people, but it's not like i've ever been to any store. i can't say i have been to one, but that's not the point of having a beer or a drink. i mean, i've not been to many places, but there are places i've gone to, and there are people who have been there, and they're not going there.</td>\n",
       "      <td>i've been to the store. i've been there. i have been to a store. it's a good experience. i'm not sure if i've ever been to that store.</td>\n",
       "      <td>have is a verb. it's a verb that is used to describe a person. it is used for a specific purpose. it can be used to refer to a person, or to a specific person.</td>\n",
       "      <td>the word'sjr' is used in the same way as 'i'm a bit of a bit more of a 'i have' in the context of 'i can't see the world in the way you are looking at it. '</td>\n",
       "    </tr>\n",
       "    <tr>\n",
       "      <th>1313</th>\n",
       "      <td>CEO salaries should be tied to the wage of their lowest paid worker : something that is often attributed to the success of the modern company and economic growth generally is the tying of ceo salaries to the stocks of their respective companies. this provides a powerful incentive to a ceo to increase the 'value' of their company as it'll improve their stock. the downside of this is that it creates a massive wealth gap and enforces poor wage for low skill workers, with ceos making, in some cases, over 1000x minimum wage. therefore, i think that as well as being tied to stock, ceo salary should also be tied to the wages of their lowest paid workers</td>\n",
       "      <td>CEO salaries should be tied to the wage of their lowest paid worker</td>\n",
       "      <td>Coke salaries should be tied to stock</td>\n",
       "      <td>i think the biggest problem with ceo salaries is that they are tied to the stock of their company. if you want to make a profit, you have to pay them a certain amount of money. if they are paid a certain minimum wage, then they are not paid a minimum wage. if the ceo is paid a higher minimum wage than the minimum wage then they should be paid a lower minimum wage to make the same amount of profit.</td>\n",
       "      <td>i think the problem with this is that it's not tied to the wages of ceos. ceo salaries are tied to their stock, and they are tied by the stock market. the reason ceo's salaries are linked to stock is because they are not tied by their stock market value. the stock markets are not linked to the stock prices of their companies. the only way to get a company to invest in its stock is to have a ceo make a lot of money. this is not a good idea.</td>\n",
       "      <td>i think that the reason ceo salaries should not be tied is because they are tied to the stock of the company. i think that ceo salary should be linked to the company's stock price.</td>\n",
       "      <td>the problem with this is that it's not a 'good' thing. it's a good thing that the company is not a good company, but it's also a good idea to have a good business.</td>\n",
       "    </tr>\n",
       "    <tr>\n",
       "      <th>424</th>\n",
       "      <td>Crypto-currencies that rely on proof-of-work are bad for almost everyone and should be forbidden by law : crypto currencies such as bitcoin which rely on proof of work are bad for several reasons and should be forbidden by law. the environment crypto currency mining uses an ungodly amount of energy. by some estimates as much as denmark. quebec is suspending new power installations for crypo miners to ensure it has enough power for everyone else. as the world is facing catastrophic global climate change, this is an unacceptable use of power since it is totally unnecessary. alternatives such as proof of stake exist which would allow for almost no energy consumption what so ever. if the externalities of pow crypto mining were considered, it would never be profitable. in order to protect the environment, pow crypto should be forbidden. the gpu market pow crypto mining also significantly raises prices of gpus. let's remind ourselves, the work being done on these gpus is rubbish. it has no use, at all, to anyone other than being difficult. meanwhile it stifles both academic and medical research which uses gpus, as well as gamers and other common people who simply want the gpus to do calculations with actual uses. finally, even if pos crypto didn't exist, or despite whatever flaws pos might have, crypto would still be worth outlawing. simply put, it has no positive usefulness to anyone beyond speculation as a commodity and a means of transferring money in a clandestine manner. while its use as a means of transferring money privately could be marginally positive despite its use for funding crime, any benefit is far from outweighing the significant harms it poses to our world and happiness. change my view</td>\n",
       "      <td>Crypto-currencies that rely on proof-of-work are bad for almost everyone and should be forbidden by law</td>\n",
       "      <td>Crypto currencies such as Bitcoin which rely on proof of work are bad for several reasons and should be forbidden by law</td>\n",
       "      <td>i think the problem with the gpu market is that it is a way to get money from people who don't have the means to make money. it is also a way for people to get a better deal out of it.</td>\n",
       "      <td>i think the problem with the current crypto currency is that it is not a good way to transfer money. it is a way to exchange money for other things. it's a way of transferring money.</td>\n",
       "      <td>i think the main reason why you're against crypto is because it's a waste of energy.</td>\n",
       "      <td>i think you're right that the us is a very small country. but the us has a large population. the us can't afford to pay for the us to pay the us for the world. we can't pay for our food. we need to pay us for our services. we have to pay to pay them for the food.</td>\n",
       "    </tr>\n",
       "    <tr>\n",
       "      <th>2185</th>\n",
       "      <td>There isn't scientific litterature proving that transwomen (who are biologically male) have a brain more similar to biological women's brain than men's (and vice-versa) : many people still argue ' why should i treat a man as a woman, they can't change reality ' and i don't think 'you should could respect their feelings' is a good argument, because even if someone feels 10 years old but is 30, we aren't expected to treat that someone as a 10yo no matter how offending it is to that person i'm searching the reason why gender should be different to me : if there's no reason to believe you're the opposite gender, there's no reason to treat you as the opposite gender the fact that transwomen have a brain more similar to biological women than men would be the perfect argument to justify that there is a real, legitimate an very good reason to treat transwomen as women but i can't find any scientific litterature, many people claim it but any article i see is just about 'some study' of which i can't find the source or just hints but not facts. gt ;before anyone makes this point : gt;i'm aware that gender sex, but that doesn't change my point : i could define 'genage' the the social construct around your biological age with many 'age roles' like being old is grumpy,being young is immature, etc gt ;then if i told someone 'genage is a social construct, i feel that my genage is 10yo' that someone still won't be socially expected to treat me as a 10yo. gt ;and if i actually had a 10yo brain and it's scientificaly proved, it would be an excellent reason to treat me as a 10yo gt;hence i'm asking that scientifical proof for transgender</td>\n",
       "      <td>There isn't scientific litterature proving that transwomen (who are biologically male) have a brain more similar to biological women's brain than men's (and vice-versa)</td>\n",
       "      <td>There is no good reason to treat transwomen as women</td>\n",
       "      <td>i think the problem with this is that it's not a scientific proof. it's a social construct. it is a social constructed. it can be used to change reality. it could be used as a social structure. it would be used for the same reason that it is used for gender roles. it doesn't change reality, it's just a social social construct that is used to make people feel different.</td>\n",
       "      <td>i think the problem with this is that it's not scientific litterature. it's just that it is not scientific. it is a social construct. it doesn't change reality. it just changes the way we think about it.</td>\n",
       "      <td>i think you're missing the point. if you're a woman, you're not a man. if a man is a woman and you're an adult, you are not a woman.</td>\n",
       "      <td>i think the problem is that the idea that trans people are a person is not a problem. it's a problem that the people who are trans are not able to change the world. the problem with this is that it's not a issue of the social construct. it is a problem of the physical construct. the reason why people are not allowed to change their mind is because they are not a person. the issue is that people are allowed to be attracted to people who they are attracted to. the difference between the two is that they are the same. the only reason people are able to be able to do this is because of the fact that they have a physical construct that is not the same as the physical. the fact is that there is a social construct that makes it a problem for people to be treated as a person, and that is why people should be allowed to do it.</td>\n",
       "    </tr>\n",
       "    <tr>\n",
       "      <th>1789</th>\n",
       "      <td>I'm pro-life. : hey all. time for another cmv! figured this would be an interesting topic to discuss with you all. so, with regards to abortion, i'm mostly pro life. my basic position is as follows: human life begins at fertilisation. as such, abortion is the killing of a human child. therefore, abortion is wrong in all cases other than the following: the mother's life is in grave danger if she continues with the pregnancy. the child has been pre diagnosed with a genetic problem which will cause them to die at birth or live an extremely short and horribly painful life before dying. in these cases, abortion can be considered the lesser of two evils. i think that basically sums up my position. i'd love to hear your views! have a great day.</td>\n",
       "      <td>I'm pro-life.</td>\n",
       "      <td>Abortion is wrong</td>\n",
       "      <td>i think you're missing the point. the point is that the mother's life is in grave danger if she continues with the pregnancy. the mother is in danger of dying at birth. the child is in mortal danger of death at birth, and the mother has no choice but to terminate the pregnancy at birth or die at birth if she is not able to continue with the pregnancies. the woman is in a grave danger of life at birth and the child has no option but to die at conception. the fetus is in the grave danger at birth because the mother cannot continue with her pregnancy. if the mother can't continue with a pregnancy, the child will die at death. the baby is in imminent danger of being aborted. the person who is in immediate danger of losing their life is the person in the situation. the life of the child begins at conception, and is in serious danger of suffering at birth as well. the human life begins at fertilisation, and it is in dire danger</td>\n",
       "      <td>i'm pro life. i'm pro abortion. i think it's a good idea to have a child. i don't think it is a good thing to have an abortion.</td>\n",
       "      <td>i think you're missing the point. i'm not sure what you're talking about. i think you are missing the whole point of abortion. i don't think you can make a case for it. i would argue that it's wrong to kill a human.</td>\n",
       "      <td>the problem with your view is that it is not a moral issue. it is a moral problem. you are not pro life. you're not pro choice.</td>\n",
       "    </tr>\n",
       "    <tr>\n",
       "      <th>1783</th>\n",
       "      <td>Males under 18 should be able to get a vasectomy and chemically castrated they wish. : roe v. wade said abortions could not be illegal because it restricted a woman's control of her body. however, males under 18 are not allowed to get vasectomy. this is clearly a double standard. if women under 18 can decide what to do with their body's why can't males. if an under 18 male knows that they will never have children they should have every right to get a vasectomy. any male should also be able to get chemically castrated at any age if they wish. this does not negatively impact society in anyway so it should have no restrictions.</td>\n",
       "      <td>Males under 18 should be able to get a vasectomy and chemically castrated they wish.</td>\n",
       "      <td>Under 18 males should not be allowed to get vasectomy</td>\n",
       "      <td>i think the problem with this is that it's not a double standard. it's a doublestandard. the first is that the second is that a woman's body is not the only thing that can be controlled by her body. the second, the second thing is that if a woman is not allowed to have children, she is not able to have a vasectomy. the third is that she is unable to have sex with anyone. the fourth is that women are not allowed in the first place. the fifth is that they are not able or unwilling to have intercourse with anyone, and the third, the third and fourth are not legal. the last is that there is no legal way to have an abortion. the only way to get a vasectomies is to have them legally. the other is to get them legally, which is a very difficult thing to do. the final is to make sure that the woman is able to get the vasectomy, which would be a very</td>\n",
       "      <td>i think the problem with this is that it's not about the rights of the person. it's about the right of the individual to decide what they want to do with their body. if the person wants to have children, they should be able to do so. if they want a vasectomy, they can do so by their choice. if a woman wants to get a vasectomies, they have to have a vasctomy. if she wants to be able have a child, she can do it by her choice.</td>\n",
       "      <td>i think you're missing the point. if you're a woman who wants to have children, you should be able to get a vasectomy.</td>\n",
       "      <td>the problem is that the law is not about the law. it's about the laws. the law has a law that is not a law. the laws are not about what is or is not illegal. the government is not going to force women to have a abortion. the reason why the law isn't illegal is because it is not legal. the only way to make it illegal is to make the law illegal.</td>\n",
       "    </tr>\n",
       "    <tr>\n",
       "      <th>561</th>\n",
       "      <td>Super Mario Brothers 2 is not the best game : i know smb2 has won game of the year for the past 19 years, but i don t think it s that good. the gameplay is decent, the story is non existent, and it feels like the original but with a few new powers and enemies. it s no where near the best mario game nor the best game. i personally find hit games like minecraft, knack 2, and bookworm adventures deluxe being the 3 contenders for game of the year. i have gotten many times more hours of enjoyment out of these games than smb2 has ever been able to give me. these 3 games have each made my childhood and still affect me to this day. the second i started 1 1 in smb2 i felt sad knowing this couldn t live up to my expectations, immediately ruining my day. i regretted ever spending money on smb2 since it only made me worse feeling. minecraft, knack 2, and bookworm adventures deluxe are much better games than the game known as smb2. but hey, i m now willing to open my ears to everyone here reasons why this game is so good.</td>\n",
       "      <td>Super Mario Brothers 2 is not the best game</td>\n",
       "      <td>Smb2 is the best game of the year</td>\n",
       "      <td>i think the best game of the year is smb2. it's a game that's been around for a long time. it has been around since the early 90s. it was a game with a lot of fun and a lot to do with the way it was made. it had a lot more fun than the original, and it was much more fun to play. it also had a great story and a great character. it is a game of great fun. it really is a good game. it just has a lot that's going on. it doesn't have a lot going on, but it's still a good story. it does have a great plot and a good character. i think it's the best story in the world. it makes you feel like you're in a game where you're playing a game you're not really in. it gives you a lot. it can be a good experience, but you're also playing a bad game.</td>\n",
       "      <td>i think the best game of the year is smb2. it's a game that's been around for a long time. it has been around since the first game of mario. it was a game with a lot of fun and a lot to do with the characters and the story. it is a game of fun, but it's not the best. it isn't the best, but the best of the best is the best that's out there. it doesn't have the same story, but that's not to say it's the best either. it just has a lot more fun and has a much more interesting story.</td>\n",
       "      <td>i think it's a bit of a stretch to say that smb2 has won the game of year for the past 19 years.</td>\n",
       "      <td>the best game of the year is the best game that has been used for the past 10 years. the best games of the day are the best. the only game that is not the best is the one that is the most popular. the game is the only one that has a good game of a game that can be used for a game of any kind. the games that are the most interesting are the games like the one you've seen in the first place. the one i've seen is the game that was the best of the time. the thing is, the game was the only games that were the best in the world. the world was the most important game of all time. it was the one where the game of your life was the first game that you had to play. the story was the worst of all the games you've ever seen. the show was the biggest game of my life. the video games were the most fun. the characters were the only ones that</td>\n",
       "    </tr>\n",
       "    <tr>\n",
       "      <th>370</th>\n",
       "      <td>If public schools are truly focused on giving students a foundation for their futures, public schools should teach the science of emotion and mental health as a major part of the base curriculum. : final post due to past technical glitches. this topic will only appear this final time. disclaimer: as it says at the end of the post, the use of math and english as examples is not specific. if you disagree with those subjects as examples, simply replace them with other core classes . the opinion being presented here is just that room should be made in the base curriculum for the science of emotion and mental health. also, i m talking about a true approach to the topic throughout all most years of public school like how the other core subjects are taught. i m not talking about teaching kids a few basic social skills. we experience our entire existence through our minds, and the chemical and electrical signals going off in our brain largely dictate what experiences we have, how those experiences feel to us, and how we react to them. mental health and emotion is an enormous scientific field which can potentially encompass the entirety of that human experience, which leads to the simple question: how is such a massive field, one that influences so much of what human beings do, not being taught to some extent in our society as a core requirement? core subjects like science, math, and history are similarly large, and obviously can't ever be taught in full to students in a matter of only twelve years, which is why paid professionals spend so much time and money deciding what to teach, when to teach it, and how. none of that implementation, however, is necessary to establish before first accepting that schools should teach the subject as a major part of the base curriculum. i'm asserting that they should. a student gaining substantial knowledge on the science of emotion and mental health is far more likely to be important for their life after school ends than knowing how to find the base of a triangle or where to place the semicolon in a sentence. mental health affects literally everything in a person's life to a much greater extent than most things taught in public schools. productivity, stability, cooperation, families and relationships are all greatly dependent on having a healthy understanding of one's own perceptions and emotions and emotional reactions and an understanding of how perceptions, emotions and emotional reactions work in others and how chemicals in the brain affect those things . i've mentioned this opinion to people in the past and many people try to argue mistakenly, in my opinion that teaching mental health and emotion should be the parents' responsibility. this makes very little sense to anyone even remotely educated on the subjects of mental health and emotion because it's obvious that the students who are most in need of education on mental health are the students who aren't getting a proper emotional connection upbringing from their parents to begin with. those parents are unlikely to have much knowledge on the subject to begin with, either. if anything, based on that logic, it would make more sense to have the parents teach math and english and have the schools teach subjects of mental health. i don't agree with that logic, though. the only idea i'm officially presenting here is that public schools should teach the science of emotion and mental health as a main part of the base curriculum. obviously, as with any change of such a large scale, the transition would be very difficult and there would be generational gaps that would be a challenge to overcome. but none of the challenges involved with implementing the changes to the curriculum are a logical reason to be against the change itself. public schools should teach the science of emotion and mental health and if such a transition is difficult, then it would be best to start making steps toward this change as soon as possible. this is a change that would likely take decades to fully implement and structure, but it should be done and would be worth it. if the base curriculum is about giving students the tools to make a positive and productive life in society, then an understanding of mental health and emotion is a necessity. for those asking or wondering how could someone possibly apply information about how mental health and emotion function? the answer is really quite simple: many people live life as if emotions are some sort of mysterious phenomenon that can t be understood, or as if it s so simple as one comment essentially put it: when you cry you get sad, there s nothing more to learn! that they forget how much of our perceptions and experiences are not actually based on what is truly happening externally, or what our genuine reaction to something is, but on physical surpluses and deficits of all sorts of signals in our brain. the culture of ignorance surrounding these topics leads people to live somewhat blindly in regard to how themselves and other people function, which is not ideal for a satisfied and productive society for obvious reasons. for those asking or wondering 'could you give some random examples of possible specific areas of study? ' sure. with no particular order or level of importance, because it would take a giant team of professionals to actually design this curriculum: chemical signals in the brain, electrical signals in the brain, the experiences that we have, how those experiences feel to us, how we react to them, how we perceive those reactions feelings experiences, how these elements function in society, how these elements relate to productivity, how these elements relate to our perception of 'well being' and 'satisfaction' in relation to what objective 'mental well being' could be in the sense of what is sustainable and scientifically healthy for a person's life in society , how these elements dictate our goals and decisions in society, how these desires, goals and decisions can fluctuate based on both external events and stimuli and personal chemistry and cycles in the brain, how external events and stimuli can influence the brain's chemical and electrical behavior, etc. a final note: sciences have to start somewhere. no one would imply that medicine just never should have been taught because some of the views taught in the past have been proven false or inadequate using the knowledge that we currently have and building from that is a natural part of the cycle of progression in different fields of science and this progression will continue to happen in the future. mental health is a massive scientific field and as such there will be a lot of evolution that will take place in the future, but we can't fast forward to then, and 'then' will never come unless we have a societal foundation to build off of, just like in any other scientific field. we should start teaching this subject and provide future generations a solid foundation to build off of like we've done with every other core subject in public schools' base curriculums. i should also note that saying 'math and english' was not specific. i was just bringing up two random subjects taught in base curriculums. interchange them with other core classes if you disagree with that example it's not really relevant to the opinion itself. also remember not to confuse the science of mental health with the field of psychiatry. psychiatry is only one small aspect of mental health.</td>\n",
       "      <td>If public schools are truly focused on giving students a foundation for their futures, public schools should teach the science of emotion and mental health as a major part of the base curriculum.</td>\n",
       "      <td>Mental Health and Emotions should be part of the curriculum</td>\n",
       "      <td>i think you're missing the point. i think the main point of your post is that you're not going to be able to change your view on the subject. i'm not going on a rant about how you should change your views on the topic. i am going to argue that you should not change your opinion on the issue. i don't think you should be changing your view. i would argue that the issue is that the subject is not a core requirement of the curriculum. it's a core subject that is taught in a way that is not taught in the curriculum, and that is why it's not taught as a core curriculum.</td>\n",
       "      <td>i think the problem with this is that it's not a core curriculum. it's a core subject that is taught in a way that is not taught in the classroom. it is a core topic that is meant to be taught in schools. it isn't a core class, it's meant to teach a core field. it doesn't have to be a core course. it can be taught as a core component of a curriculum.</td>\n",
       "      <td>i think you're missing the point. i think the main point is that the science of emotion and mental health is a very important subject in a society that is very much in need of education. i don't think it's a good idea to teach it in a school that is not in need to be taught in full.</td>\n",
       "      <td>i think the problem is that the idea of 'the science of happiness' is not a good idea. it's a good thing that schools are not doing it because it's the most important thing to the students.</td>\n",
       "    </tr>\n",
       "    <tr>\n",
       "      <th>820</th>\n",
       "      <td>College is a waste of time. People’s time would be better spent building connections and using the internet to educate themselves on whatever career path they choose and think will make them successful in life. College is simply another form of consumerism. : taken from a comment i made on another post and ed as i thought it s a pretty valid argument in my honest opinion, college is worthless and doesn t secure you anything in life. it s the biggest scam of the 21st century and you re better off getting your own education from the internet. using the internet is definitely a better alternative than paying off the debt from college for most of your adult life. there s a multitude of directions you could go in life that will be more successful than pursuing a degree. sure, there s jobs that require a degree, but jobs like that give you a pretty standard income that people that went to college only got with additional effort. that same additional effort could ve been given four years earlier had they not gone to college. the majority of people are scared of the risks they face without a degree. you are taught from a very young age that college is important and that information was passed down for generations without anyone asking why? those people who went to college without a second thought deep down only did it because they didn t want their parents to look at them funny. college just makes people feel more secure that they ll be successful in life because they feel scared and exposed without it. those people can t handle the reality of life just yet, and that s also why so many young people go to college; to delay having to go out into the real world. now, it isn t really their fault though, mind you, it s the fault of the education system. the united states want people to think in a way that makes them money, and if people think that college is absolutely necessary and that they ll flop without it, they make more money. for example, in school you get taught about stone tools from ten thousand years ago when you could be getting taught about modern politics instead, something that s actually useful. but, that wouldn t help the economy, so instead they numb everybody s minds on useless knowledge so that those people fall for their tricks and become consumers. and college is a prime example of consumerism. experience is the driving force for most people s success, and a simple google search can confirm that statement. people should spend their time getting that success for free with the internet as an alternative to wasting your time and money on college. sure, many billionaires went to college, but i assure you they would ve been billionaires anyways without their degrees. they were just feeling young and scared and they needed that extra little bit of security to get them going on the path to riches. they also didn t have access to the same vast amount of knowledge youth has today, the internet. in the 21st century, there s no more excuses for going to college.</td>\n",
       "      <td>College is a waste of time. People’s time would be better spent building connections and using the internet to educate themselves on whatever career path they choose and think will make them successful in life. College is simply another form of consumerism.</td>\n",
       "      <td>College is worthless and doesn't secure you anything in life</td>\n",
       "      <td>i think you're missing the point. i think the main reason that college is so important is that it's a way to get people to think in a way that makes them money. it's not a way of getting people to believe in the idea that they're going to be successful in life. it is a way for people to get them to believe that they are going to succeed in life, and that they will be successful.</td>\n",
       "      <td>i think the main reason that college is a waste of time is because it's a waste for people to spend their time on something that they don't like. i think that's a good thing, but i think it's also a waste to spend your time on things that you don't enjoy.</td>\n",
       "      <td>i think you're missing the point. i think you are missing the whole point of the argument. i don't think you can argue that college is worthless because it's a waste of time and money. i'm not sure you can really argue that it's worthless because you're not going to get a degree.</td>\n",
       "      <td>i think you're right that college is a waste of time. it's a waste. it is a bad thing. it isn't a good thing.</td>\n",
       "    </tr>\n",
       "    <tr>\n",
       "      <th>1479</th>\n",
       "      <td>Muslim women who wear a hijab for the sake of modesty shouldn't wear makeup. : it seems to be a pretty obvious contradiction to me that someone would cover their neck and hair out of modesty but then wear makeup which is supposed to make you stand out. some might say that they wear makeup for themselves not to get anybodys attention. honestly this doesnt make sense to me at all. i dont know how you can wear makeup for yourself. you dont get to see your face all day. other people do. its going to affect other people more than its gonna affect you. also those priorities seem kinda backwards. ive never wanted to have sex with a girl because i saw her neck and hair. but i certainly have after seeing their red lipstick. im not arguing that immodesty is necessarilly bad thats another debate. if you want to wear makeup thats fine. but i dont think you can do it while claiming modesty. i think girls who wear makeup while they while they wear a hijab, are simply virtue signalling.</td>\n",
       "      <td>Muslim women who wear a hijab for the sake of modesty shouldn't wear makeup.</td>\n",
       "      <td>I think girls who wear makeup while they are wearing a hijab are virtue signalling.</td>\n",
       "      <td>i think you're missing the point. i think you are missing the whole point of modesty. i'm not saying that you should cover your face out of modesty, but i think that you are making a mistake. i don't think you should be covering your face because you are not wearing makeup. i mean, i'm a woman and i'm wearing makeup because i'm in a relationship with a woman. i have a boyfriend and i have sex with her. i am not wearing a hijab because i want to be with her, but because i think she's attractive. i also think that i'm being a bit too sensitive to her. she's not wearing anything that i don t like. i've never seen her in a dress, and i dont think i've ever seen her wear makeup. she is wearing makeup to be attractive. she has a lot of hair and she's wearing makeup for her.</td>\n",
       "      <td>i think you're missing the point. i'm not saying that women who wear makeup for the sake of modesty shouldn't wear makeup. i think that's a good thing.</td>\n",
       "      <td>i think it's a bit of a stretch to say that you're not wearing makeup for modesty. i'm not sure if you're right or wrong, but i think you're missing the point. i think it is a bit silly to say you're wearing makeup because you're a girl.</td>\n",
       "      <td>the problem is that you are not saying that the people who wear a burry are not 'good' or 'good'. you are saying that they are not good at being good at their job. you are talking about people who are not happy with their job, and you are arguing that they should be able to do it.</td>\n",
       "    </tr>\n",
       "  </tbody>\n",
       "</table>\n",
       "</div>"
      ],
      "text/plain": [
       "                                                                                                                                                                                                                                                                                                                                                                                                                                                                                                                                                                                                                                                                                                                                                                                                                                                                                                                                                                                                                                                                                                                                                                                                                                                                                                                                                                                                                                                                                                                                                                                                                                                                                                                                                                                                                                                                                                                                                                                                                                                                                                                                                                                                                                                                                                                                                                                                                                                                                                                                                                                                                                                                                                                                                                                                                                                                                                                                                                                                                                                                                                                                                                                                                                                                                                                                                                                                                                                                                                                                                                                                                                                                                                                                                                                                                                                                                                                                                                                                                                                                                                                                                                                                                                                                                                                                                                                                                                                                                                                                                                                                                                                                                                                                                                                                                                                                                                                                                                                                                                                                                                                                                                                                                                                                                                                                                                                                                                                                                                                                                                                                                                                                                                                                                                                                                                                                                                                                                                                                                                                                                                                                                                                                                                                                                                                                                                                                                                                                                                                                                                                                                                                                                                                                                                                                                                                                                                                                                                                                                                                                                                                                                                                                                                                                                                                                                                                                                                                                                                                                                                                                                                                                                                                                                               argument  \\\n",
       "86                                                                                                                                                                                                                                                                                                                                                                                                                                                                                                                                                                                                                                                                                                                                                                                                                                                                                                                                                                                                                                                                                                                                                                                                                                                                                                                                                                                                                                                                                                                                                                                                                                                                                                                                                                                                                                                                                                                                                                                                                                                                                                                                                                                                                                                                                                                                                                                                                                                                                                                                                                                                                                                                                                                                                                                                                                                                                                                                                                                                                                                                                                                                                                                                                                                                                                                                                                                                                                                                                                                                                                                                                                                                                                                                                                                                                                                                                                                                                                                                                                                                                                                                                                                                                                                                                                                                                                                                                                                                                                                                                                                                                                                                                                                                                                                                                                                                                                                                                                                                                                                                                                                                                                                                                                                                                                                                                                                                                                                                                                                                                                                                                                                                                                                                                                                                                                                                                                                                                                                                                                                                                                                                                                                                                                                                                                                                                                                                                                                                                                                                                                                                                                                                                                                                                                                                                                                                                                                                                                                                                                                      I've is not a substitution for 'I have' in some situations : for the record, i am talking colloquially. technically i've is short for i have. however, my point is that the 'have' in i've is supposed to be used for the present perfect usage of i have. for example: i have been to the store. i have never been there. nothing makes me more irked when i see people saying something like 'i've my keys right now' or 'i've a low self esteem', and 'i've a tenuous grasp of the english language'. it is not supposed to be used with have as a verb. cmv i think i've adequately presented my point here but i'm only typing this because i need to fit the 500 character minimum for this this b c mods   \n",
       "1313                                                                                                                                                                                                                                                                                                                                                                                                                                                                                                                                                                                                                                                                                                                                                                                                                                                                                                                                                                                                                                                                                                                                                                                                                                                                                                                                                                                                                                                                                                                                                                                                                                                                                                                                                                                                                                                                                                                                                                                                                                                                                                                                                                                                                                                                                                                                                                                                                                                                                                                                                                                                                                                                                                                                                                                                                                                                                                                                                                                                                                                                                                                                                                                                                                                                                                                                                                                                                                                                                                                                                                                                                                                                                                                                                                                                                                                                                                                                                                                                                                                                                                                                                                                                                                                                                                                                                                                                                                                                                                                                                                                                                                                                                                                                                                                                                                                                                                                                                                                                                                                                                                                                                                                                                                                                                                                                                                                                                                                                                                                                                                                                                                                                                                                                                                                                                                                                                                                                                                                                                                                                                                                                                                                                                                                                                                                                                                                                                                                                                                                                                                                                                                                                                                                                                                                                                                                                                                                                                                                                                                                                                     CEO salaries should be tied to the wage of their lowest paid worker : something that is often attributed to the success of the modern company and economic growth generally is the tying of ceo salaries to the stocks of their respective companies. this provides a powerful incentive to a ceo to increase the 'value' of their company as it'll improve their stock. the downside of this is that it creates a massive wealth gap and enforces poor wage for low skill workers, with ceos making, in some cases, over 1000x minimum wage. therefore, i think that as well as being tied to stock, ceo salary should also be tied to the wages of their lowest paid workers   \n",
       "424                                                                                                                                                                                                                                                                                                                                                                                                                                                                                                                                                                                                                                                                                                                                                                                                                                                                                                                                                                                                                                                                                                                                                                                                                                                                                                                                                                                                                                                                                                                                                                                                                                                                                                                                                                                                                                                                                                                                                                                                                                                                                                                                                                                                                                                                                                                                                                                                                                                                                                                                                                                                                                                                                                                                                                                                                                                                                                                                                                                                                                                                                                                                                                                                                                                                                                                                                                                                                                                                                                                                                                                                                                                                                                                                                                                                                                                                                                                                                                                                                                                                                                                                                                                                                                                                                                                                                                                                                                                                                                                                                                                                                                                                                                                                                                                                                                                                                                                                                                                                                                                                                                                                                                                                                                                                                                                                                                                                                                                                                                                                                                                                                                                                                                                                                                                                                                                                                                                                                                       Crypto-currencies that rely on proof-of-work are bad for almost everyone and should be forbidden by law : crypto currencies such as bitcoin which rely on proof of work are bad for several reasons and should be forbidden by law. the environment crypto currency mining uses an ungodly amount of energy. by some estimates as much as denmark. quebec is suspending new power installations for crypo miners to ensure it has enough power for everyone else. as the world is facing catastrophic global climate change, this is an unacceptable use of power since it is totally unnecessary. alternatives such as proof of stake exist which would allow for almost no energy consumption what so ever. if the externalities of pow crypto mining were considered, it would never be profitable. in order to protect the environment, pow crypto should be forbidden. the gpu market pow crypto mining also significantly raises prices of gpus. let's remind ourselves, the work being done on these gpus is rubbish. it has no use, at all, to anyone other than being difficult. meanwhile it stifles both academic and medical research which uses gpus, as well as gamers and other common people who simply want the gpus to do calculations with actual uses. finally, even if pos crypto didn't exist, or despite whatever flaws pos might have, crypto would still be worth outlawing. simply put, it has no positive usefulness to anyone beyond speculation as a commodity and a means of transferring money in a clandestine manner. while its use as a means of transferring money privately could be marginally positive despite its use for funding crime, any benefit is far from outweighing the significant harms it poses to our world and happiness. change my view   \n",
       "2185                                                                                                                                                                                                                                                                                                                                                                                                                                                                                                                                                                                                                                                                                                                                                                                                                                                                                                                                                                                                                                                                                                                                                                                                                                                                                                                                                                                                                                                                                                                                                                                                                                                                                                                                                                                                                                                                                                                                                                                                                                                                                                                                                                                                                                                                                                                                                                                                                                                                                                                                                                                                                                                                                                                                                                                                                                                                                                                                                                                                                                                                                                                                                                                                                                                                                                                                                                                                                                                                                                                                                                                                                                                                                                                                                                                                                                                                                                                                                                                                                                                                                                                                                                                                                                                                                                                                                                                                                                                                                                                                                                                                                                                                                                                                                                                                                                                                                                                                                                                                                                                                                                                                                                                                                                                                                                                                                                                                                                                                                                                                                                                                                                                                                                                                                                                                                                                                                                                                                                                                                                                      There isn't scientific litterature proving that transwomen (who are biologically male) have a brain more similar to biological women's brain than men's (and vice-versa) : many people still argue ' why should i treat a man as a woman, they can't change reality ' and i don't think 'you should could respect their feelings' is a good argument, because even if someone feels 10 years old but is 30, we aren't expected to treat that someone as a 10yo no matter how offending it is to that person i'm searching the reason why gender should be different to me : if there's no reason to believe you're the opposite gender, there's no reason to treat you as the opposite gender the fact that transwomen have a brain more similar to biological women than men would be the perfect argument to justify that there is a real, legitimate an very good reason to treat transwomen as women but i can't find any scientific litterature, many people claim it but any article i see is just about 'some study' of which i can't find the source or just hints but not facts. gt ;before anyone makes this point : gt;i'm aware that gender sex, but that doesn't change my point : i could define 'genage' the the social construct around your biological age with many 'age roles' like being old is grumpy,being young is immature, etc gt ;then if i told someone 'genage is a social construct, i feel that my genage is 10yo' that someone still won't be socially expected to treat me as a 10yo. gt ;and if i actually had a 10yo brain and it's scientificaly proved, it would be an excellent reason to treat me as a 10yo gt;hence i'm asking that scientifical proof for transgender   \n",
       "1789                                                                                                                                                                                                                                                                                                                                                                                                                                                                                                                                                                                                                                                                                                                                                                                                                                                                                                                                                                                                                                                                                                                                                                                                                                                                                                                                                                                                                                                                                                                                                                                                                                                                                                                                                                                                                                                                                                                                                                                                                                                                                                                                                                                                                                                                                                                                                                                                                                                                                                                                                                                                                                                                                                                                                                                                                                                                                                                                                                                                                                                                                                                                                                                                                                                                                                                                                                                                                                                                                                                                                                                                                                                                                                                                                                                                                                                                                                                                                                                                                                                                                                                                                                                                                                                                                                                                                                                                                                                                                                                                                                                                                                                                                                                                                                                                                                                                                                                                                                                                                                                                                                                                                                                                                                                                                                                                                                                                                                                                                                                                                                                                                                                                                                                                                                                                                                                                                                                                                                                                                                                                                                                                                                                                                                                                                                                                                                                                                                                                                                                                                                                                                                                                                                                                                                                                                                                                                                                                                                                        I'm pro-life. : hey all. time for another cmv! figured this would be an interesting topic to discuss with you all. so, with regards to abortion, i'm mostly pro life. my basic position is as follows: human life begins at fertilisation. as such, abortion is the killing of a human child. therefore, abortion is wrong in all cases other than the following: the mother's life is in grave danger if she continues with the pregnancy. the child has been pre diagnosed with a genetic problem which will cause them to die at birth or live an extremely short and horribly painful life before dying. in these cases, abortion can be considered the lesser of two evils. i think that basically sums up my position. i'd love to hear your views! have a great day.   \n",
       "1783                                                                                                                                                                                                                                                                                                                                                                                                                                                                                                                                                                                                                                                                                                                                                                                                                                                                                                                                                                                                                                                                                                                                                                                                                                                                                                                                                                                                                                                                                                                                                                                                                                                                                                                                                                                                                                                                                                                                                                                                                                                                                                                                                                                                                                                                                                                                                                                                                                                                                                                                                                                                                                                                                                                                                                                                                                                                                                                                                                                                                                                                                                                                                                                                                                                                                                                                                                                                                                                                                                                                                                                                                                                                                                                                                                                                                                                                                                                                                                                                                                                                                                                                                                                                                                                                                                                                                                                                                                                                                                                                                                                                                                                                                                                                                                                                                                                                                                                                                                                                                                                                                                                                                                                                                                                                                                                                                                                                                                                                                                                                                                                                                                                                                                                                                                                                                                                                                                                                                                                                                                                                                                                                                                                                                                                                                                                                                                                                                                                                                                                                                                                                                                                                                                                                                                                                                                                                                                                                                                                                                                                                                                           Males under 18 should be able to get a vasectomy and chemically castrated they wish. : roe v. wade said abortions could not be illegal because it restricted a woman's control of her body. however, males under 18 are not allowed to get vasectomy. this is clearly a double standard. if women under 18 can decide what to do with their body's why can't males. if an under 18 male knows that they will never have children they should have every right to get a vasectomy. any male should also be able to get chemically castrated at any age if they wish. this does not negatively impact society in anyway so it should have no restrictions.   \n",
       "561                                                                                                                                                                                                                                                                                                                                                                                                                                                                                                                                                                                                                                                                                                                                                                                                                                                                                                                                                                                                                                                                                                                                                                                                                                                                                                                                                                                                                                                                                                                                                                                                                                                                                                                                                                                                                                                                                                                                                                                                                                                                                                                                                                                                                                                                                                                                                                                                                                                                                                                                                                                                                                                                                                                                                                                                                                                                                                                                                                                                                                                                                                                                                                                                                                                                                                                                                                                                                                                                                                                                                                                                                                                                                                                                                                                                                                                                                                                                                                                                                                                                                                                                                                                                                                                                                                                                                                                                                                                                                                                                                                                                                                                                                                                                                                                                                                                                                                                                                                                                                                                                                                                                                                                                                                                                                                                                                                                                                                                                                                                                                                                                                                                                                                                                                                                                                                                                                                                                                                                                                                                                                                                                                                                                                                                                                                                                                                                                                                                                                                                                                                                                                                                                                                    Super Mario Brothers 2 is not the best game : i know smb2 has won game of the year for the past 19 years, but i don t think it s that good. the gameplay is decent, the story is non existent, and it feels like the original but with a few new powers and enemies. it s no where near the best mario game nor the best game. i personally find hit games like minecraft, knack 2, and bookworm adventures deluxe being the 3 contenders for game of the year. i have gotten many times more hours of enjoyment out of these games than smb2 has ever been able to give me. these 3 games have each made my childhood and still affect me to this day. the second i started 1 1 in smb2 i felt sad knowing this couldn t live up to my expectations, immediately ruining my day. i regretted ever spending money on smb2 since it only made me worse feeling. minecraft, knack 2, and bookworm adventures deluxe are much better games than the game known as smb2. but hey, i m now willing to open my ears to everyone here reasons why this game is so good.   \n",
       "370    If public schools are truly focused on giving students a foundation for their futures, public schools should teach the science of emotion and mental health as a major part of the base curriculum. : final post due to past technical glitches. this topic will only appear this final time. disclaimer: as it says at the end of the post, the use of math and english as examples is not specific. if you disagree with those subjects as examples, simply replace them with other core classes . the opinion being presented here is just that room should be made in the base curriculum for the science of emotion and mental health. also, i m talking about a true approach to the topic throughout all most years of public school like how the other core subjects are taught. i m not talking about teaching kids a few basic social skills. we experience our entire existence through our minds, and the chemical and electrical signals going off in our brain largely dictate what experiences we have, how those experiences feel to us, and how we react to them. mental health and emotion is an enormous scientific field which can potentially encompass the entirety of that human experience, which leads to the simple question: how is such a massive field, one that influences so much of what human beings do, not being taught to some extent in our society as a core requirement? core subjects like science, math, and history are similarly large, and obviously can't ever be taught in full to students in a matter of only twelve years, which is why paid professionals spend so much time and money deciding what to teach, when to teach it, and how. none of that implementation, however, is necessary to establish before first accepting that schools should teach the subject as a major part of the base curriculum. i'm asserting that they should. a student gaining substantial knowledge on the science of emotion and mental health is far more likely to be important for their life after school ends than knowing how to find the base of a triangle or where to place the semicolon in a sentence. mental health affects literally everything in a person's life to a much greater extent than most things taught in public schools. productivity, stability, cooperation, families and relationships are all greatly dependent on having a healthy understanding of one's own perceptions and emotions and emotional reactions and an understanding of how perceptions, emotions and emotional reactions work in others and how chemicals in the brain affect those things . i've mentioned this opinion to people in the past and many people try to argue mistakenly, in my opinion that teaching mental health and emotion should be the parents' responsibility. this makes very little sense to anyone even remotely educated on the subjects of mental health and emotion because it's obvious that the students who are most in need of education on mental health are the students who aren't getting a proper emotional connection upbringing from their parents to begin with. those parents are unlikely to have much knowledge on the subject to begin with, either. if anything, based on that logic, it would make more sense to have the parents teach math and english and have the schools teach subjects of mental health. i don't agree with that logic, though. the only idea i'm officially presenting here is that public schools should teach the science of emotion and mental health as a main part of the base curriculum. obviously, as with any change of such a large scale, the transition would be very difficult and there would be generational gaps that would be a challenge to overcome. but none of the challenges involved with implementing the changes to the curriculum are a logical reason to be against the change itself. public schools should teach the science of emotion and mental health and if such a transition is difficult, then it would be best to start making steps toward this change as soon as possible. this is a change that would likely take decades to fully implement and structure, but it should be done and would be worth it. if the base curriculum is about giving students the tools to make a positive and productive life in society, then an understanding of mental health and emotion is a necessity. for those asking or wondering how could someone possibly apply information about how mental health and emotion function? the answer is really quite simple: many people live life as if emotions are some sort of mysterious phenomenon that can t be understood, or as if it s so simple as one comment essentially put it: when you cry you get sad, there s nothing more to learn! that they forget how much of our perceptions and experiences are not actually based on what is truly happening externally, or what our genuine reaction to something is, but on physical surpluses and deficits of all sorts of signals in our brain. the culture of ignorance surrounding these topics leads people to live somewhat blindly in regard to how themselves and other people function, which is not ideal for a satisfied and productive society for obvious reasons. for those asking or wondering 'could you give some random examples of possible specific areas of study? ' sure. with no particular order or level of importance, because it would take a giant team of professionals to actually design this curriculum: chemical signals in the brain, electrical signals in the brain, the experiences that we have, how those experiences feel to us, how we react to them, how we perceive those reactions feelings experiences, how these elements function in society, how these elements relate to productivity, how these elements relate to our perception of 'well being' and 'satisfaction' in relation to what objective 'mental well being' could be in the sense of what is sustainable and scientifically healthy for a person's life in society , how these elements dictate our goals and decisions in society, how these desires, goals and decisions can fluctuate based on both external events and stimuli and personal chemistry and cycles in the brain, how external events and stimuli can influence the brain's chemical and electrical behavior, etc. a final note: sciences have to start somewhere. no one would imply that medicine just never should have been taught because some of the views taught in the past have been proven false or inadequate using the knowledge that we currently have and building from that is a natural part of the cycle of progression in different fields of science and this progression will continue to happen in the future. mental health is a massive scientific field and as such there will be a lot of evolution that will take place in the future, but we can't fast forward to then, and 'then' will never come unless we have a societal foundation to build off of, just like in any other scientific field. we should start teaching this subject and provide future generations a solid foundation to build off of like we've done with every other core subject in public schools' base curriculums. i should also note that saying 'math and english' was not specific. i was just bringing up two random subjects taught in base curriculums. interchange them with other core classes if you disagree with that example it's not really relevant to the opinion itself. also remember not to confuse the science of mental health with the field of psychiatry. psychiatry is only one small aspect of mental health.   \n",
       "820                                                                                                                                                                                                                                                                                                                                                                                                                                                                                                                                                                                                                                                                                                                                                                                                                                                                                                                                                                                                                                                                                                                                                                                                                                                                                                                                                                                                                                                                                                                                                                                                                                                                                                                                                                                                                                                                                                                                                                                                                                                                                                                                                                                                                                                                                                                                                                                                                                                                                                                                                                                                                                                                                                                                                                                                                                                                                                                                                                                                                                                                                                                                                                                                                                                                                                                                                                                                                                                                                                                                                                                                                                                                                                                                                                                                                                                                                                                                                                                                                                                                                                                                                                                                                                                                                                                                                                                                                                                                                                                                                                                                                             College is a waste of time. People’s time would be better spent building connections and using the internet to educate themselves on whatever career path they choose and think will make them successful in life. College is simply another form of consumerism. : taken from a comment i made on another post and ed as i thought it s a pretty valid argument in my honest opinion, college is worthless and doesn t secure you anything in life. it s the biggest scam of the 21st century and you re better off getting your own education from the internet. using the internet is definitely a better alternative than paying off the debt from college for most of your adult life. there s a multitude of directions you could go in life that will be more successful than pursuing a degree. sure, there s jobs that require a degree, but jobs like that give you a pretty standard income that people that went to college only got with additional effort. that same additional effort could ve been given four years earlier had they not gone to college. the majority of people are scared of the risks they face without a degree. you are taught from a very young age that college is important and that information was passed down for generations without anyone asking why? those people who went to college without a second thought deep down only did it because they didn t want their parents to look at them funny. college just makes people feel more secure that they ll be successful in life because they feel scared and exposed without it. those people can t handle the reality of life just yet, and that s also why so many young people go to college; to delay having to go out into the real world. now, it isn t really their fault though, mind you, it s the fault of the education system. the united states want people to think in a way that makes them money, and if people think that college is absolutely necessary and that they ll flop without it, they make more money. for example, in school you get taught about stone tools from ten thousand years ago when you could be getting taught about modern politics instead, something that s actually useful. but, that wouldn t help the economy, so instead they numb everybody s minds on useless knowledge so that those people fall for their tricks and become consumers. and college is a prime example of consumerism. experience is the driving force for most people s success, and a simple google search can confirm that statement. people should spend their time getting that success for free with the internet as an alternative to wasting your time and money on college. sure, many billionaires went to college, but i assure you they would ve been billionaires anyways without their degrees. they were just feeling young and scared and they needed that extra little bit of security to get them going on the path to riches. they also didn t have access to the same vast amount of knowledge youth has today, the internet. in the 21st century, there s no more excuses for going to college.   \n",
       "1479                                                                                                                                                                                                                                                                                                                                                                                                                                                                                                                                                                                                                                                                                                                                                                                                                                                                                                                                                                                                                                                                                                                                                                                                                                                                                                                                                                                                                                                                                                                                                                                                                                                                                                                                                                                                                                                                                                                                                                                                                                                                                                                                                                                                                                                                                                                                                                                                                                                                                                                                                                                                                                                                                                                                                                                                                                                                                                                                                                                                                                                                                                                                                                                                                                                                                                                                                                                                                                                                                                                                                                                                                                                                                                                                                                                                                                                                                                                                                                                                                                                                                                                                                                                                                                                                                                                                                                                                                                                                                                                                                                                                                                                                                                                                                                                                                                                                                                                                                                                                                                                                                                                                                                                                                                                                                                                                                                                                                                                                                                                                                                                                                                                                                                                                                                                                                                                                                                                                                                                                                                                                                                                                                                                                                                                                                                                                                                                                                                                                                                                                                                                                                                                                                                                                         Muslim women who wear a hijab for the sake of modesty shouldn't wear makeup. : it seems to be a pretty obvious contradiction to me that someone would cover their neck and hair out of modesty but then wear makeup which is supposed to make you stand out. some might say that they wear makeup for themselves not to get anybodys attention. honestly this doesnt make sense to me at all. i dont know how you can wear makeup for yourself. you dont get to see your face all day. other people do. its going to affect other people more than its gonna affect you. also those priorities seem kinda backwards. ive never wanted to have sex with a girl because i saw her neck and hair. but i certainly have after seeing their red lipstick. im not arguing that immodesty is necessarilly bad thats another debate. if you want to wear makeup thats fine. but i dont think you can do it while claiming modesty. i think girls who wear makeup while they while they wear a hijab, are simply virtue signalling.   \n",
       "\n",
       "                                                                                                                                                                                                                                                              conclusion  \\\n",
       "86                                                                                                                                                                                                            I've is not a substitution for 'I have' in some situations   \n",
       "1313                                                                                                                                                                                                 CEO salaries should be tied to the wage of their lowest paid worker   \n",
       "424                                                                                                                                                              Crypto-currencies that rely on proof-of-work are bad for almost everyone and should be forbidden by law   \n",
       "2185                                                                                            There isn't scientific litterature proving that transwomen (who are biologically male) have a brain more similar to biological women's brain than men's (and vice-versa)   \n",
       "1789                                                                                                                                                                                                                                                       I'm pro-life.   \n",
       "1783                                                                                                                                                                                Males under 18 should be able to get a vasectomy and chemically castrated they wish.   \n",
       "561                                                                                                                                                                                                                          Super Mario Brothers 2 is not the best game   \n",
       "370                                                                  If public schools are truly focused on giving students a foundation for their futures, public schools should teach the science of emotion and mental health as a major part of the base curriculum.   \n",
       "820    College is a waste of time. People’s time would be better spent building connections and using the internet to educate themselves on whatever career path they choose and think will make them successful in life. College is simply another form of consumerism.   \n",
       "1479                                                                                                                                                                                        Muslim women who wear a hijab for the sake of modesty shouldn't wear makeup.   \n",
       "\n",
       "                                                                                                           joint_conc_baseline  \\\n",
       "86                        The \"have\" in \"have\", as a verb, is not supposed to be used for the present perfect usage of \"have\".   \n",
       "1313                                                                                     Coke salaries should be tied to stock   \n",
       "424   Crypto currencies such as Bitcoin which rely on proof of work are bad for several reasons and should be forbidden by law   \n",
       "2185                                                                      There is no good reason to treat transwomen as women   \n",
       "1789                                                                                                         Abortion is wrong   \n",
       "1783                                                                     Under 18 males should not be allowed to get vasectomy   \n",
       "561                                                                                          Smb2 is the best game of the year   \n",
       "370                                                                Mental Health and Emotions should be part of the curriculum   \n",
       "820                                                               College is worthless and doesn't secure you anything in life   \n",
       "1479                                       I think girls who wear makeup while they are wearing a hijab are virtue signalling.   \n",
       "\n",
       "                                                                                                                                                                                                                                                                                                                                                                                                                                                                                                                                                                                                                                                                                                                                                                                                                                                                                                                                                          masked_conc_attacks  \\\n",
       "86                                                                                                                                                                                                                            i'm not sure what you're talking about. i'm talking about the use of have as a verb. i think you're missing the point. i've been to the store, and i've had a few drinks. i have a few beers, and a few glasses of wine. i don't know what i'm saying, but i'm not going to say i've a beer, or i've eaten a meal, or something. i just want to say that i've never been to a store, or to have a drink, or have a beer. i know i've seen a lot of people, but it's not like i've ever been to any store. i can't say i have been to one, but that's not the point of having a beer or a drink. i mean, i've not been to many places, but there are places i've gone to, and there are people who have been there, and they're not going there.   \n",
       "1313                                                                                                                                                                                                                                                                                                                                                                                                                                                                                                                                                         i think the biggest problem with ceo salaries is that they are tied to the stock of their company. if you want to make a profit, you have to pay them a certain amount of money. if they are paid a certain minimum wage, then they are not paid a minimum wage. if the ceo is paid a higher minimum wage than the minimum wage then they should be paid a lower minimum wage to make the same amount of profit.   \n",
       "424                                                                                                                                                                                                                                                                                                                                                                                                                                                                                                                                                                                                                                                                                                                                                                                  i think the problem with the gpu market is that it is a way to get money from people who don't have the means to make money. it is also a way for people to get a better deal out of it.   \n",
       "2185                                                                                                                                                                                                                                                                                                                                                                                                                                                                                                                                                                                      i think the problem with this is that it's not a scientific proof. it's a social construct. it is a social constructed. it can be used to change reality. it could be used as a social structure. it would be used for the same reason that it is used for gender roles. it doesn't change reality, it's just a social social construct that is used to make people feel different.   \n",
       "1789  i think you're missing the point. the point is that the mother's life is in grave danger if she continues with the pregnancy. the mother is in danger of dying at birth. the child is in mortal danger of death at birth, and the mother has no choice but to terminate the pregnancy at birth or die at birth if she is not able to continue with the pregnancies. the woman is in a grave danger of life at birth and the child has no option but to die at conception. the fetus is in the grave danger at birth because the mother cannot continue with her pregnancy. if the mother can't continue with a pregnancy, the child will die at death. the baby is in imminent danger of being aborted. the person who is in immediate danger of losing their life is the person in the situation. the life of the child begins at conception, and is in serious danger of suffering at birth as well. the human life begins at fertilisation, and it is in dire danger   \n",
       "1783                                                                                     i think the problem with this is that it's not a double standard. it's a doublestandard. the first is that the second is that a woman's body is not the only thing that can be controlled by her body. the second, the second thing is that if a woman is not allowed to have children, she is not able to have a vasectomy. the third is that she is unable to have sex with anyone. the fourth is that women are not allowed in the first place. the fifth is that they are not able or unwilling to have intercourse with anyone, and the third, the third and fourth are not legal. the last is that there is no legal way to have an abortion. the only way to get a vasectomies is to have them legally. the other is to get them legally, which is a very difficult thing to do. the final is to make sure that the woman is able to get the vasectomy, which would be a very   \n",
       "561                                                                                                                                                                                                    i think the best game of the year is smb2. it's a game that's been around for a long time. it has been around since the early 90s. it was a game with a lot of fun and a lot to do with the way it was made. it had a lot more fun than the original, and it was much more fun to play. it also had a great story and a great character. it is a game of great fun. it really is a good game. it just has a lot that's going on. it doesn't have a lot going on, but it's still a good story. it does have a great plot and a good character. i think it's the best story in the world. it makes you feel like you're in a game where you're playing a game you're not really in. it gives you a lot. it can be a good experience, but you're also playing a bad game.   \n",
       "370                                                                                                                                                                                                                                                                                                                                                                                i think you're missing the point. i think the main point of your post is that you're not going to be able to change your view on the subject. i'm not going on a rant about how you should change your views on the topic. i am going to argue that you should not change your opinion on the issue. i don't think you should be changing your view. i would argue that the issue is that the subject is not a core requirement of the curriculum. it's a core subject that is taught in a way that is not taught in the curriculum, and that is why it's not taught as a core curriculum.   \n",
       "820                                                                                                                                                                                                                                                                                                                                                                                                                                                                                                                                                                             i think you're missing the point. i think the main reason that college is so important is that it's a way to get people to think in a way that makes them money. it's not a way of getting people to believe in the idea that they're going to be successful in life. it is a way for people to get them to believe that they are going to succeed in life, and that they will be successful.   \n",
       "1479                                                                                                                                                               i think you're missing the point. i think you are missing the whole point of modesty. i'm not saying that you should cover your face out of modesty, but i think that you are making a mistake. i don't think you should be covering your face because you are not wearing makeup. i mean, i'm a woman and i'm wearing makeup because i'm in a relationship with a woman. i have a boyfriend and i have sex with her. i am not wearing a hijab because i want to be with her, but because i think she's attractive. i also think that i'm being a bit too sensitive to her. she's not wearing anything that i don t like. i've never seen her in a dress, and i dont think i've ever seen her wear makeup. she is wearing makeup to be attractive. she has a lot of hair and she's wearing makeup for her.   \n",
       "\n",
       "                                                                                                                                                                                                                                                                                                                                                                                                                                                                                       known_conc_attacks  \\\n",
       "86                                                                                                                                                                                                                                                                                                                                                                 i've been to the store. i've been there. i have been to a store. it's a good experience. i'm not sure if i've ever been to that store.   \n",
       "1313                                          i think the problem with this is that it's not tied to the wages of ceos. ceo salaries are tied to their stock, and they are tied by the stock market. the reason ceo's salaries are linked to stock is because they are not tied by their stock market value. the stock markets are not linked to the stock prices of their companies. the only way to get a company to invest in its stock is to have a ceo make a lot of money. this is not a good idea.   \n",
       "424                                                                                                                                                                                                                                                                                                                i think the problem with the current crypto currency is that it is not a good way to transfer money. it is a way to exchange money for other things. it's a way of transferring money.   \n",
       "2185                                                                                                                                                                                                                                                                                          i think the problem with this is that it's not scientific litterature. it's just that it is not scientific. it is a social construct. it doesn't change reality. it just changes the way we think about it.   \n",
       "1789                                                                                                                                                                                                                                                                                                                                                                      i'm pro life. i'm pro abortion. i think it's a good idea to have a child. i don't think it is a good thing to have an abortion.   \n",
       "1783                                                          i think the problem with this is that it's not about the rights of the person. it's about the right of the individual to decide what they want to do with their body. if the person wants to have children, they should be able to do so. if they want a vasectomy, they can do so by their choice. if a woman wants to get a vasectomies, they have to have a vasctomy. if she wants to be able have a child, she can do it by her choice.   \n",
       "561   i think the best game of the year is smb2. it's a game that's been around for a long time. it has been around since the first game of mario. it was a game with a lot of fun and a lot to do with the characters and the story. it is a game of fun, but it's not the best. it isn't the best, but the best of the best is the best that's out there. it doesn't have the same story, but that's not to say it's the best either. it just has a lot more fun and has a much more interesting story.   \n",
       "370                                                                                                                                      i think the problem with this is that it's not a core curriculum. it's a core subject that is taught in a way that is not taught in the classroom. it is a core topic that is meant to be taught in schools. it isn't a core class, it's meant to teach a core field. it doesn't have to be a core course. it can be taught as a core component of a curriculum.   \n",
       "820                                                                                                                                                                                                                                       i think the main reason that college is a waste of time is because it's a waste for people to spend their time on something that they don't like. i think that's a good thing, but i think it's also a waste to spend your time on things that you don't enjoy.   \n",
       "1479                                                                                                                                                                                                                                                                                                                                              i think you're missing the point. i'm not saying that women who wear makeup for the sake of modesty shouldn't wear makeup. i think that's a good thing.   \n",
       "\n",
       "                                                                                                                                                                                                                                                                      joint_conc_baseline_attacks  \\\n",
       "86                                                                                                                                have is a verb. it's a verb that is used to describe a person. it is used for a specific purpose. it can be used to refer to a person, or to a specific person.   \n",
       "1313                                                                                                         i think that the reason ceo salaries should not be tied is because they are tied to the stock of the company. i think that ceo salary should be linked to the company's stock price.   \n",
       "424                                                                                                                                                                                                          i think the main reason why you're against crypto is because it's a waste of energy.   \n",
       "2185                                                                                                                                                         i think you're missing the point. if you're a woman, you're not a man. if a man is a woman and you're an adult, you are not a woman.   \n",
       "1789                                                                      i think you're missing the point. i'm not sure what you're talking about. i think you are missing the whole point of abortion. i don't think you can make a case for it. i would argue that it's wrong to kill a human.   \n",
       "1783                                                                                                                                                                       i think you're missing the point. if you're a woman who wants to have children, you should be able to get a vasectomy.   \n",
       "561                                                                                                                                                                                              i think it's a bit of a stretch to say that smb2 has won the game of year for the past 19 years.   \n",
       "370   i think you're missing the point. i think the main point is that the science of emotion and mental health is a very important subject in a society that is very much in need of education. i don't think it's a good idea to teach it in a school that is not in need to be taught in full.   \n",
       "820      i think you're missing the point. i think you are missing the whole point of the argument. i don't think you can argue that college is worthless because it's a waste of time and money. i'm not sure you can really argue that it's worthless because you're not going to get a degree.   \n",
       "1479                                                i think it's a bit of a stretch to say that you're not wearing makeup for modesty. i'm not sure if you're right or wrong, but i think you're missing the point. i think it is a bit silly to say you're wearing makeup because you're a girl.   \n",
       "\n",
       "                                                                                                                                                                                                                                                                                                                                                                                                                                                                                                                                                                                                                                                                                                                                                                                                                                                          joint_conc_attacks  \n",
       "86                                                                                                                                                                                                                                                                                                                                                                                                                                                                                                                                                                                                                                                                                                              the word'sjr' is used in the same way as 'i'm a bit of a bit more of a 'i have' in the context of 'i can't see the world in the way you are looking at it. '  \n",
       "1313                                                                                                                                                                                                                                                                                                                                                                                                                                                                                                                                                                                                                                                                                                     the problem with this is that it's not a 'good' thing. it's a good thing that the company is not a good company, but it's also a good idea to have a good business.  \n",
       "424                                                                                                                                                                                                                                                                                                                                                                                                                                                                                                                                                                                                  i think you're right that the us is a very small country. but the us has a large population. the us can't afford to pay for the us to pay the us for the world. we can't pay for our food. we need to pay us for our services. we have to pay to pay them for the food.  \n",
       "2185           i think the problem is that the idea that trans people are a person is not a problem. it's a problem that the people who are trans are not able to change the world. the problem with this is that it's not a issue of the social construct. it is a problem of the physical construct. the reason why people are not allowed to change their mind is because they are not a person. the issue is that people are allowed to be attracted to people who they are attracted to. the difference between the two is that they are the same. the only reason people are able to be able to do this is because of the fact that they have a physical construct that is not the same as the physical. the fact is that there is a social construct that makes it a problem for people to be treated as a person, and that is why people should be allowed to do it.  \n",
       "1789                                                                                                                                                                                                                                                                                                                                                                                                                                                                                                                                                                                                                                                                                                                                         the problem with your view is that it is not a moral issue. it is a moral problem. you are not pro life. you're not pro choice.  \n",
       "1783                                                                                                                                                                                                                                                                                                                                                                                                                                                                                                               the problem is that the law is not about the law. it's about the laws. the law has a law that is not a law. the laws are not about what is or is not illegal. the government is not going to force women to have a abortion. the reason why the law isn't illegal is because it is not legal. the only way to make it illegal is to make the law illegal.  \n",
       "561   the best game of the year is the best game that has been used for the past 10 years. the best games of the day are the best. the only game that is not the best is the one that is the most popular. the game is the only one that has a good game of a game that can be used for a game of any kind. the games that are the most interesting are the games like the one you've seen in the first place. the one i've seen is the game that was the best of the time. the thing is, the game was the only games that were the best in the world. the world was the most important game of all time. it was the one where the game of your life was the first game that you had to play. the story was the worst of all the games you've ever seen. the show was the biggest game of my life. the video games were the most fun. the characters were the only ones that  \n",
       "370                                                                                                                                                                                                                                                                                                                                                                                                                                                                                                                                                                                                                                                                            i think the problem is that the idea of 'the science of happiness' is not a good idea. it's a good thing that schools are not doing it because it's the most important thing to the students.  \n",
       "820                                                                                                                                                                                                                                                                                                                                                                                                                                                                                                                                                                                                                                                                                                                                                            i think you're right that college is a waste of time. it's a waste. it is a bad thing. it isn't a good thing.  \n",
       "1479                                                                                                                                                                                                                                                                                                                                                                                                                                                                                                                                                                               the problem is that you are not saying that the people who wear a burry are not 'good' or 'good'. you are saying that they are not good at being good at their job. you are talking about people who are not happy with their job, and you are arguing that they should be able to do it.  "
      ]
     },
     "execution_count": 12,
     "metadata": {},
     "output_type": "execute_result"
    }
   ],
   "source": [
    "reddit_pred_df[['argument', 'conclusion' , 'joint_conc_baseline', 'masked_conc_attacks', 'known_conc_attacks', 'joint_conc_baseline_attacks', 'joint_conc_attacks']].sample(10).head(n=10)"
   ]
  },
  {
   "cell_type": "code",
   "execution_count": 13,
   "metadata": {},
   "outputs": [],
   "source": [
    "#collect references\n",
    "arg_counters = valid_df.groupby('post_id').agg({\n",
    "    'counter': lambda x: [' '.join(c) for c in x]\n",
    "}).reset_index()\n",
    "arg_counters = pd.Series(arg_counters.counter.values, index=arg_counters.post_id).to_dict()\n",
    "\n",
    "reddit_pred_df['gt_attack'] = reddit_pred_df['gt_attack'].apply(lambda x: str(x))\n",
    "reddit_pred_df['all_counters'] = reddit_pred_df['post_id'].apply(lambda x: arg_counters[x])"
   ]
  },
  {
   "cell_type": "code",
   "execution_count": 14,
   "metadata": {},
   "outputs": [],
   "source": [
    "reddit_pred_df = reddit_pred_df[reddit_pred_df.all_counters.map(len) > 0]"
   ]
  },
  {
   "cell_type": "code",
   "execution_count": 15,
   "metadata": {
    "scrolled": true,
    "tags": []
   },
   "outputs": [
    {
     "name": "stderr",
     "output_type": "stream",
     "text": [
      "Warning: Empty reference sentence detected; setting recall to be 0.\n",
      "Warning: Empty reference sentence detected; setting recall to be 0.\n",
      "Warning: Empty reference sentence detected; setting recall to be 0.\n",
      "Warning: Empty reference sentence detected; setting recall to be 0.\n",
      "Warning: Empty reference sentence detected; setting recall to be 0.\n",
      "Warning: Empty reference sentence detected; setting recall to be 0.\n",
      "Warning: Empty reference sentence detected; setting recall to be 0.\n",
      "Warning: Empty reference sentence detected; setting recall to be 0.\n",
      "Warning: Empty reference sentence detected; setting recall to be 0.\n",
      "Warning: Empty reference sentence detected; setting recall to be 0.\n",
      "Warning: Empty reference sentence detected; setting recall to be 0.\n",
      "Warning: Empty reference sentence detected; setting recall to be 0.\n",
      "Warning: Empty reference sentence detected; setting recall to be 0.\n",
      "Warning: Empty reference sentence detected; setting recall to be 0.\n",
      "Warning: Empty reference sentence detected; setting recall to be 0.\n",
      "Warning: Empty reference sentence detected; setting recall to be 0.\n",
      "Warning: Empty reference sentence detected; setting recall to be 0.\n",
      "Warning: Empty reference sentence detected; setting recall to be 0.\n",
      "Warning: Empty reference sentence detected; setting recall to be 0.\n",
      "Warning: Empty reference sentence detected; setting recall to be 0.\n",
      "Warning: Empty reference sentence detected; setting recall to be 0.\n",
      "Warning: Empty reference sentence detected; setting recall to be 0.\n",
      "Warning: Empty reference sentence detected; setting recall to be 0.\n",
      "Warning: Empty reference sentence detected; setting recall to be 0.\n",
      "Warning: Empty reference sentence detected; setting recall to be 0.\n",
      "Warning: Empty reference sentence detected; setting recall to be 0.\n",
      "Warning: Empty reference sentence detected; setting recall to be 0.\n",
      "Warning: Empty reference sentence detected; setting recall to be 0.\n",
      "Warning: Empty reference sentence detected; setting recall to be 0.\n",
      "Warning: Empty reference sentence detected; setting recall to be 0.\n",
      "Warning: Empty reference sentence detected; setting recall to be 0.\n",
      "Warning: Empty reference sentence detected; setting recall to be 0.\n",
      "Warning: Empty reference sentence detected; setting recall to be 0.\n",
      "Warning: Empty reference sentence detected; setting recall to be 0.\n",
      "Warning: Empty reference sentence detected; setting recall to be 0.\n",
      "Warning: Empty reference sentence detected; setting recall to be 0.\n"
     ]
    }
   ],
   "source": [
    "masked_conc_eval = evaluate_gen_attacks(reddit_pred_df['masked_conc_attacks'].tolist(), reddit_pred_df['all_counters'].tolist())\n",
    "known_conc_eval = evaluate_gen_attacks(reddit_pred_df['known_conc_attacks'].tolist(), reddit_pred_df['all_counters'].tolist())\n",
    "bart_conc_eval = evaluate_gen_attacks(reddit_pred_df['bart_conc_attacks'].tolist(), reddit_pred_df['all_counters'].tolist())\n",
    "pred_conc_eval = evaluate_gen_attacks(reddit_pred_df['joint_conc_baseline_attacks'].tolist(), reddit_pred_df['all_counters'].tolist())\n",
    "joint_conc_eval = evaluate_gen_attacks(reddit_pred_df['joint_conc_attacks'].tolist(), reddit_pred_df['all_counters'].tolist())"
   ]
  },
  {
   "cell_type": "markdown",
   "metadata": {},
   "source": [
    "##### Test stance correcteness:"
   ]
  },
  {
   "cell_type": "code",
   "execution_count": 16,
   "metadata": {},
   "outputs": [],
   "source": [
    "filtered_reddit_pred_df = reddit_pred_df[pd.notna(reddit_pred_df.conclusion_target)]"
   ]
  },
  {
   "cell_type": "code",
   "execution_count": 17,
   "metadata": {
    "scrolled": true,
    "tags": []
   },
   "outputs": [
    {
     "name": "stderr",
     "output_type": "stream",
     "text": [
      "ProConClient: 100%|██████████| 2172/2172 [00:31<00:00, 63.00it/s]/usr/local/lib/python3.6/dist-packages/ipykernel_launcher.py:2: SettingWithCopyWarning: \n",
      "A value is trying to be set on a copy of a slice from a DataFrame.\n",
      "Try using .loc[row_indexer,col_indexer] = value instead\n",
      "\n",
      "See the caveats in the documentation: https://pandas.pydata.org/pandas-docs/stable/user_guide/indexing.html#returning-a-view-versus-a-copy\n",
      "  \n",
      "ProConClient: 100%|██████████| 2172/2172 [00:31<00:00, 68.04it/s]\n",
      "ProConClient: 100%|██████████| 2172/2172 [00:40<00:00, 52.73it/s]/usr/local/lib/python3.6/dist-packages/ipykernel_launcher.py:3: SettingWithCopyWarning: \n",
      "A value is trying to be set on a copy of a slice from a DataFrame.\n",
      "Try using .loc[row_indexer,col_indexer] = value instead\n",
      "\n",
      "See the caveats in the documentation: https://pandas.pydata.org/pandas-docs/stable/user_guide/indexing.html#returning-a-view-versus-a-copy\n",
      "  This is separate from the ipykernel package so we can avoid doing imports until\n",
      "\n",
      "ProConClient:   0%|          | 0/2172 [00:00<?, ?it/s]\u001b[A\n",
      "ProConClient:  23%|██▎       | 500/2172 [00:10<00:36, 45.47it/s]\u001b[A\n",
      "ProConClient: 100%|██████████| 2172/2172 [00:54<00:00, 39.52it/s]\u001b[A\n",
      "\n",
      "ProConClient:  69%|██████▉   | 1500/2172 [00:25<00:11, 57.24it/s]\u001b[A\n",
      "ProConClient:  92%|█████████▏| 2000/2172 [00:34<00:03, 56.54it/s]\u001b[A\n",
      "ProConClient: 100%|██████████| 2172/2172 [00:36<00:00, 60.69it/s]\u001b[A/usr/local/lib/python3.6/dist-packages/ipykernel_launcher.py:4: SettingWithCopyWarning: \n",
      "A value is trying to be set on a copy of a slice from a DataFrame.\n",
      "Try using .loc[row_indexer,col_indexer] = value instead\n",
      "\n",
      "See the caveats in the documentation: https://pandas.pydata.org/pandas-docs/stable/user_guide/indexing.html#returning-a-view-versus-a-copy\n",
      "  after removing the cwd from sys.path.\n",
      "ProConClient:  23%|██▎       | 500/2172 [00:07<00:26, 63.27it/s]\n",
      "ProConClient: 100%|██████████| 2172/2172 [00:36<00:00, 60.65it/s]\u001b[A/usr/local/lib/python3.6/dist-packages/ipykernel_launcher.py:5: SettingWithCopyWarning: \n",
      "A value is trying to be set on a copy of a slice from a DataFrame.\n",
      "Try using .loc[row_indexer,col_indexer] = value instead\n",
      "\n",
      "See the caveats in the documentation: https://pandas.pydata.org/pandas-docs/stable/user_guide/indexing.html#returning-a-view-versus-a-copy\n",
      "  \"\"\"\n",
      "ProConClient: 100%|██████████| 2172/2172 [00:36<00:00, 59.48it/s]\n",
      "ProConClient: 100%|██████████| 2172/2172 [00:40<00:00, 56.86it/s]/usr/local/lib/python3.6/dist-packages/ipykernel_launcher.py:6: SettingWithCopyWarning: \n",
      "A value is trying to be set on a copy of a slice from a DataFrame.\n",
      "Try using .loc[row_indexer,col_indexer] = value instead\n",
      "\n",
      "See the caveats in the documentation: https://pandas.pydata.org/pandas-docs/stable/user_guide/indexing.html#returning-a-view-versus-a-copy\n",
      "  \n"
     ]
    }
   ],
   "source": [
    "#compute the stance of the generated counters towards the conclusion target\n",
    "filtered_reddit_pred_df['masked_conc_stances'] = get_stances(filtered_reddit_pred_df.conclusion_target.tolist(), filtered_reddit_pred_df.masked_conc_attacks.tolist())\n",
    "filtered_reddit_pred_df['known_conc_stances']  = get_stances(filtered_reddit_pred_df.conclusion_target.tolist(), filtered_reddit_pred_df.known_conc_attacks.tolist())\n",
    "filtered_reddit_pred_df['bart_conc_stances']   = get_stances(filtered_reddit_pred_df.conclusion_target.tolist(), filtered_reddit_pred_df.bart_conc_attacks.tolist())\n",
    "filtered_reddit_pred_df['pred_conc_stances']  = get_stances(filtered_reddit_pred_df.conclusion_target.tolist(), filtered_reddit_pred_df.joint_conc_baseline_attacks.tolist())\n",
    "filtered_reddit_pred_df['joint_conc_stances']  = get_stances(filtered_reddit_pred_df.conclusion_target.tolist(), filtered_reddit_pred_df.joint_conc_attacks.tolist())"
   ]
  },
  {
   "cell_type": "code",
   "execution_count": 18,
   "metadata": {},
   "outputs": [],
   "source": [
    "#compute the distance between the conclusion stance and the attack stance: the bigger the distance the better...\n",
    "masked_conc_stance_score1 = round(np.mean([abs(x[0] - x[1]) for x in zip(filtered_reddit_pred_df.masked_conc_stances.tolist(), filtered_reddit_pred_df.conclusion_stance.tolist())]), 2)\n",
    "known_conc_stance_score1 = round(np.mean([abs(x[0] - x[1]) for x in zip(filtered_reddit_pred_df.known_conc_stances.tolist(), filtered_reddit_pred_df.conclusion_stance.tolist())]), 2)\n",
    "bart_conc_stance_score1 = round(np.mean([abs(x[0] - x[1]) for x in zip(filtered_reddit_pred_df.bart_conc_stances.tolist(), filtered_reddit_pred_df.conclusion_stance.tolist())]), 2)\n",
    "pred_conc_stance_score1 = round(np.mean([abs(x[0] - x[1]) for x in zip(filtered_reddit_pred_df.pred_conc_stances.tolist(), filtered_reddit_pred_df.conclusion_stance.tolist())]), 2)\n",
    "joint_conc_stance_score1 = round(np.mean([abs(x[0] - x[1]) for x in zip(filtered_reddit_pred_df.joint_conc_stances.tolist(), filtered_reddit_pred_df.conclusion_stance.tolist())]), 2)\n",
    "\n",
    "#check if the two stances are contradicotry\n",
    "masked_conc_stance_score2 = round(sum([int(x[0] * x[1] < 0) for x in zip(filtered_reddit_pred_df.masked_conc_stances.tolist(), filtered_reddit_pred_df.conclusion_stance.tolist())])/len(filtered_reddit_pred_df), 2)\n",
    "known_conc_stance_score2  = round(sum([int(x[0] * x[1] < 0) for x in zip(filtered_reddit_pred_df.known_conc_stances.tolist(), filtered_reddit_pred_df.conclusion_stance.tolist())])/len(filtered_reddit_pred_df), 2)\n",
    "bart_conc_stance_score2   = round(sum([int(x[0] * x[1] < 0) for x in zip(filtered_reddit_pred_df.bart_conc_stances.tolist(), filtered_reddit_pred_df.conclusion_stance.tolist())])/len(filtered_reddit_pred_df), 2)\n",
    "pred_conc_stance_score2  = round(sum([int(x[0] * x[1] < 0) for x in zip(filtered_reddit_pred_df.pred_conc_stances.tolist(), filtered_reddit_pred_df.conclusion_stance.tolist())])/len(filtered_reddit_pred_df), 2)\n",
    "joint_conc_stance_score2  = round(sum([int(x[0] * x[1] < 0) for x in zip(filtered_reddit_pred_df.joint_conc_stances.tolist(), filtered_reddit_pred_df.conclusion_stance.tolist())])/len(filtered_reddit_pred_df), 2)"
   ]
  },
  {
   "cell_type": "code",
   "execution_count": 19,
   "metadata": {},
   "outputs": [
    {
     "name": "stdout",
     "output_type": "stream",
     "text": [
      "                               bleu    bert-f1score    stance-score (diff)    stance-score (agreement)\n",
      "---------------------------  ------  --------------  ---------------------  --------------------------\n",
      "Masked Conclusion              0.13            0.11                   0.85                        0.55\n",
      "BART Conclusion                0.13            0.12                   0.84                        0.54\n",
      "Joint Prediction (baseline)    0.15            0.15                   0.79                        0.54\n",
      "Joint Prediction               0.12            0.09                   0.79                        0.54\n",
      "Known Conclusion               0.14            0.13                   0.87                        0.55\n"
     ]
    }
   ],
   "source": [
    "from tabulate import tabulate\n",
    "\n",
    "print(tabulate([['Masked Conclusion'] + [round(masked_conc_eval['bleu'], 2), masked_conc_eval['bert-fscore'], masked_conc_stance_score1, masked_conc_stance_score2],\n",
    "                ['BART Conclusion'] + [round(bart_conc_eval['bleu'], 2), bart_conc_eval['bert-fscore'], bart_conc_stance_score1, bart_conc_stance_score2],\n",
    "                ['Joint Prediction (baseline)'] + [round(pred_conc_eval['bleu'], 2), pred_conc_eval['bert-fscore'], joint_conc_stance_score1, joint_conc_stance_score2],\n",
    "                ['Joint Prediction'] + [round(joint_conc_eval['bleu'], 2), joint_conc_eval['bert-fscore'], joint_conc_stance_score1, joint_conc_stance_score2],\n",
    "                ['Known Conclusion'] + [round(known_conc_eval['bleu'], 2), known_conc_eval['bert-fscore'], known_conc_stance_score1, known_conc_stance_score2],\n",
    "    ], headers=['bleu', 'bert-f1score', 'stance-score (diff)', 'stance-score (agreement)']))"
   ]
  },
  {
   "cell_type": "code",
   "execution_count": 47,
   "metadata": {},
   "outputs": [
    {
     "name": "stdout",
     "output_type": "stream",
     "text": [
      "                               bleu    bert-f1score    stance-score (diff)    stance-score (agreement)\n",
      "---------------------------  ------  --------------  ---------------------  --------------------------\n",
      "Masked Conclusion              0.12            0.11                   0.85                        0.55\n",
      "BART Conclusion                0.13            0.12                   0.84                        0.54\n",
      "Joint Prediction (baseline)    0.15            0.15                   0.77                        0.55\n",
      "Joint Prediction               0.12            0.06                   0.77                        0.55\n",
      "Known Conclusion               0.14            0.13                   0.87                        0.55\n"
     ]
    },
    {
     "name": "stderr",
     "output_type": "stream",
     "text": [
      "ProConClient: 100%|██████████| 2172/2172 [00:50<00:00, 58.32it/s]"
     ]
    }
   ],
   "source": [
    "from tabulate import tabulate\n",
    "\n",
    "print(tabulate([['Masked Conclusion'] + [round(masked_conc_eval['bleu'], 2), masked_conc_eval['bert-fscore'], masked_conc_stance_score1, masked_conc_stance_score2],\n",
    "                ['BART Conclusion'] + [round(bart_conc_eval['bleu'], 2), bart_conc_eval['bert-fscore'], bart_conc_stance_score1, bart_conc_stance_score2],\n",
    "                ['Joint Prediction (baseline)'] + [round(pred_conc_eval['bleu'], 2), pred_conc_eval['bert-fscore'], joint_conc_stance_score1, joint_conc_stance_score2],\n",
    "                ['Joint Prediction'] + [round(joint_conc_eval['bleu'], 2), joint_conc_eval['bert-fscore'], joint_conc_stance_score1, joint_conc_stance_score2],\n",
    "                ['Known Conclusion'] + [round(known_conc_eval['bleu'], 2), known_conc_eval['bert-fscore'], known_conc_stance_score1, known_conc_stance_score2],\n",
    "    ], headers=['bleu', 'bert-f1score', 'stance-score (diff)', 'stance-score (agreement)']))"
   ]
  },
  {
   "cell_type": "markdown",
   "metadata": {},
   "source": [
    "##### Similarity to conclusion:"
   ]
  },
  {
   "cell_type": "code",
   "execution_count": 15,
   "metadata": {},
   "outputs": [],
   "source": [
    "masked_conc_eval = evaluate_gen_attacks(reddit_pred_df['conclusion'], reddit_pred_df['masked_conc_attacks'].tolist())\n",
    "known_conc_eval  = evaluate_gen_attacks(reddit_pred_df['conclusion'], reddit_pred_df['known_conc_attacks'].tolist())\n",
    "#auto_conc_eval   = evaluate_gen_attacks(reddit_pred_df['conclusion'], reddit_pred_df['auto_conc_attacks'].tolist())\n",
    "pred_conc_eval   = evaluate_gen_attacks(reddit_pred_df['conclusion'], reddit_pred_df['pred_conc_attacks'].tolist())\n",
    "gt_attack_conc_eval = evaluate_gen_attacks(reddit_pred_df['conclusion'], reddit_pred_df['gt'].tolist())"
   ]
  },
  {
   "cell_type": "code",
   "execution_count": 17,
   "metadata": {},
   "outputs": [
    {
     "name": "stdout",
     "output_type": "stream",
     "text": [
      "             bleu    bert-f1score\n",
      "---------  ------  --------------\n",
      "masked       0               0.16\n",
      "pred         0.01            0.18\n",
      "known        0.03            0.33\n",
      "gt_attack    0              -0.03\n"
     ]
    }
   ],
   "source": [
    "from tabulate import tabulate\n",
    "\n",
    "print(tabulate([['masked'] + [round(masked_conc_eval['bleu'], 2), masked_conc_eval['bert-fscore']],\n",
    "                #['auto'] + list(auto_conc_eval.values()),\n",
    "                ['pred'] + [round(pred_conc_eval['bleu'], 2), pred_conc_eval['bert-fscore']],\n",
    "                ['known'] + [round(known_conc_eval['bleu'], 2), known_conc_eval['bert-fscore']],\n",
    "                ['gt_attack'] + [round(gt_attack_conc_eval['bleu'], 2), gt_attack_conc_eval['bert-fscore']]\n",
    "    ], headers=['bleu', 'bert-f1score']))"
   ]
  },
  {
   "cell_type": "code",
   "execution_count": null,
   "metadata": {},
   "outputs": [],
   "source": []
  }
 ],
 "metadata": {
  "kernelspec": {
   "display_name": "Python 3",
   "language": "python",
   "name": "python3"
  },
  "language_info": {
   "codemirror_mode": {
    "name": "ipython",
    "version": 3
   },
   "file_extension": ".py",
   "mimetype": "text/x-python",
   "name": "python",
   "nbconvert_exporter": "python",
   "pygments_lexer": "ipython3",
   "version": "3.6.9"
  }
 },
 "nbformat": 4,
 "nbformat_minor": 4
}
