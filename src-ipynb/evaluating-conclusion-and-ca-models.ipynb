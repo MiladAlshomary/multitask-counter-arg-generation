{
 "cells": [
  {
   "cell_type": "code",
   "execution_count": 1,
   "metadata": {},
   "outputs": [],
   "source": [
    "%load_ext autoreload"
   ]
  },
  {
   "cell_type": "code",
   "execution_count": 2,
   "metadata": {},
   "outputs": [],
   "source": [
    "import os\n",
    "import sys\n",
    "import re\n",
    "from argparse import Namespace\n",
    "\n",
    "sys.path.append('../src-py/')\n",
    "\n",
    "os.environ[\"CUDA_VISIBLE_DEVICES\"]=\"1\""
   ]
  },
  {
   "cell_type": "code",
   "execution_count": 3,
   "metadata": {},
   "outputs": [],
   "source": [
    "%autoreload\n",
    "\n",
    "from utils import *\n",
    "from project_debater_api import *\n",
    "from mt_bart_v2 import *"
   ]
  },
  {
   "cell_type": "code",
   "execution_count": 4,
   "metadata": {},
   "outputs": [],
   "source": [
    "import torch\n",
    "import json\n",
    "\n",
    "import nltk\n",
    "import numpy as np\n",
    "import pandas as pd\n",
    "\n",
    "from pathlib import Path\n",
    "from datasets import load_dataset, load_metric, Dataset\n",
    "\n",
    "from transformers import AutoModelForSeq2SeqLM, DataCollatorForSeq2Seq, Seq2SeqTrainingArguments, Seq2SeqTrainer\n",
    "from transformers import BartTokenizer, BartForConditionalGeneration"
   ]
  },
  {
   "cell_type": "code",
   "execution_count": 5,
   "metadata": {},
   "outputs": [],
   "source": [
    "import pandas as pd\n",
    "pd.set_option('display.max_colwidth', None)"
   ]
  },
  {
   "cell_type": "code",
   "execution_count": 6,
   "metadata": {},
   "outputs": [],
   "source": [
    "device = torch.device('cuda') if torch.cuda.is_available() else torch.device('cpu')"
   ]
  },
  {
   "cell_type": "code",
   "execution_count": 7,
   "metadata": {},
   "outputs": [
    {
     "data": {
      "text/plain": [
       "device(type='cuda')"
      ]
     },
     "execution_count": 7,
     "metadata": {},
     "output_type": "execute_result"
    }
   ],
   "source": [
    "device"
   ]
  },
  {
   "cell_type": "code",
   "execution_count": 8,
   "metadata": {},
   "outputs": [],
   "source": [
    "ceph_dir = '/home/sile2804/data-ceph/arguana/arg-generation/multi-taks-counter-argument-generation'\n",
    "local_home_dir = '../data'"
   ]
  },
  {
   "cell_type": "code",
   "execution_count": 9,
   "metadata": {},
   "outputs": [],
   "source": [
    "#Evalute ROUGE scores\n",
    "gen_kwargs = {\n",
    "    \"do_sample\": False, \n",
    "    \"max_length\":200,\n",
    "    \"top_p\":0.95, \n",
    "    \"top_k\":50,\n",
    "    \"num_beams\":1\n",
    "}\n",
    "\n",
    "def generate_ds_attacks(ds, model, tokenizer, premises_clm, conclusion_clm, gen_kwargs, skip_special_tokens=True, batch_size=8):\n",
    "    ds = ds.map(lambda x :preprocess_function(x, tokenizer, premises_clm, 'counter', conclusion_clm=conclusion_clm), batched=True)\n",
    "    ds.set_format(type='torch', columns=['input_ids', 'attention_mask', 'labels'])\n",
    "    dataloader = torch.utils.data.DataLoader(ds, batch_size=batch_size)\n",
    "    attacks = generate_counters(model, tokenizer, dataloader, gen_kwargs, skip_special_tokens=skip_special_tokens)\n",
    "    \n",
    "    return attacks"
   ]
  },
  {
   "cell_type": "markdown",
   "metadata": {},
   "source": [
    "#### Load Testing data:"
   ]
  },
  {
   "cell_type": "markdown",
   "metadata": {},
   "source": [
    "##### Loading validation data from Reddit:"
   ]
  },
  {
   "cell_type": "code",
   "execution_count": 10,
   "metadata": {},
   "outputs": [],
   "source": [
    "valid_df = pd.read_pickle(ceph_dir + '/reddit_data/conclusion_and_ca_generation/valid_conclusion_comp_remove_75sem_perc_with_targets.pkl')"
   ]
  },
  {
   "cell_type": "code",
   "execution_count": 11,
   "metadata": {},
   "outputs": [],
   "source": [
    "#drop duplicate posts\n",
    "unique_valid_posts = valid_df.drop_duplicates('post_id')"
   ]
  },
  {
   "cell_type": "code",
   "execution_count": 12,
   "metadata": {},
   "outputs": [
    {
     "data": {
      "application/vnd.jupyter.widget-view+json": {
       "model_id": "65697961440342b687f1a5a671c4eb6c",
       "version_major": 2,
       "version_minor": 0
      },
      "text/plain": [
       "  0%|          | 0/3 [00:00<?, ?ba/s]"
      ]
     },
     "metadata": {},
     "output_type": "display_data"
    }
   ],
   "source": [
    "valid_ds = Dataset.from_pandas(unique_valid_posts)\n",
    "tmp_ds = valid_ds.train_test_split(0.9)\n",
    "sample_valid_ds = tmp_ds['test']\n",
    "\n",
    "#saving the sample\n",
    "reddit_sample_valid_ds = sample_valid_ds.flatten_indices()\n",
    "reddit_sample_valid_ds.save_to_disk('../data/sample_valid_ds')"
   ]
  },
  {
   "cell_type": "code",
   "execution_count": 13,
   "metadata": {},
   "outputs": [],
   "source": [
    "#loading the random sample of validation dataset with the auto-generated conclusion\n",
    "reddit_sample_valid_ds = Dataset.load_from_disk('../data/sample_valid_ds/')"
   ]
  },
  {
   "cell_type": "code",
   "execution_count": 14,
   "metadata": {},
   "outputs": [
    {
     "data": {
      "text/plain": [
       "2278"
      ]
     },
     "execution_count": 14,
     "metadata": {},
     "output_type": "execute_result"
    }
   ],
   "source": [
    "len(reddit_sample_valid_ds)"
   ]
  },
  {
   "cell_type": "markdown",
   "metadata": {},
   "source": [
    "##### Loading validation data from Kialo:"
   ]
  },
  {
   "cell_type": "code",
   "execution_count": 29,
   "metadata": {},
   "outputs": [],
   "source": [
    "valid_ds = Dataset.from_pandas(pd.read_pickle(ceph_dir + '/kialo_data/kialo_valid_df.pkl'))"
   ]
  },
  {
   "cell_type": "code",
   "execution_count": 10,
   "metadata": {},
   "outputs": [
    {
     "data": {
      "application/vnd.jupyter.widget-view+json": {
       "model_id": "6c03a38a10684d2283d2c15593d19fbe",
       "version_major": 2,
       "version_minor": 0
      },
      "text/plain": [
       "  0%|          | 0/3 [00:00<?, ?ba/s]"
      ]
     },
     "metadata": {},
     "output_type": "display_data"
    }
   ],
   "source": [
    "tmp_ds = valid_ds.train_test_split(0.5)\n",
    "sample_valid_ds = tmp_ds['test']\n",
    "\n",
    "#saving the sample\n",
    "sample_valid_ds = sample_valid_ds.flatten_indices()\n",
    "sample_valid_ds.save_to_disk('../data/kialo_sample_valid_ds')"
   ]
  },
  {
   "cell_type": "code",
   "execution_count": 9,
   "metadata": {},
   "outputs": [],
   "source": [
    "sample_valid_ds = Dataset.load_from_disk('../data/kialo_sample_valid_ds')"
   ]
  },
  {
   "cell_type": "markdown",
   "metadata": {},
   "source": [
    "### Evaluating on Kialo:"
   ]
  },
  {
   "cell_type": "code",
   "execution_count": 12,
   "metadata": {},
   "outputs": [],
   "source": [
    "#KIALO models\n",
    "masked_conclusion_kialo_model = BartForConditionalGeneration.from_pretrained(local_home_dir + '/output/masked-conclusion-kialo-model/').to(device)\n",
    "masked_conclusion_kialo_tokenizer = BartTokenizer.from_pretrained(local_home_dir + '/output/masked-conclusion-kialo-model/')\n",
    "known_conclusion_kialo_model = BartForConditionalGeneration.from_pretrained(local_home_dir + '/output/known-conclusion-kialo-model/').to(device)\n",
    "known_conclusion_kialo_tokenizer = BartTokenizer.from_pretrained(local_home_dir + '/output/known-conclusion-kialo-model/')\n",
    "\n",
    "#masked_conclusion_kialo_model = BartForConditionalGeneration.from_pretrained(local_home_dir + '/output/masked-conclusion-kialo-unique-model/').to(device)\n",
    "#known_conclusion_kialo_model = BartForConditionalGeneration.from_pretrained(local_home_dir + '/output/known-conclusion-kialo-unique-model/').to(device)"
   ]
  },
  {
   "cell_type": "code",
   "execution_count": 15,
   "metadata": {},
   "outputs": [],
   "source": [
    "#known_conc_attacks = generate_ds_attacks(sample_valid_ds, known_conclusion_kialo_model, known_conclusion_kialo_tokenizer, 'premises', 'conclusion_text', gen_kwargs)\n",
    "#masked_conc_attacks = generate_ds_attacks(sample_valid_ds, masked_conclusion_kialo_model, masked_conclusion_kialo_tokenizer, 'premises', None, gen_kwargs)\n",
    "#auto_conc_attacks = generate_ds_attacks(sample_valid_ds, known_conclusion_model, tokenizer, 'masked_premises', 'auto_conclusion', gen_kwargs)"
   ]
  },
  {
   "cell_type": "code",
   "execution_count": 12,
   "metadata": {},
   "outputs": [],
   "source": [
    "kialo_pred_df = pd.DataFrame(list(zip(sample_valid_ds['conclusion_text'], sample_valid_ds['premises'], \n",
    "                                   sample_valid_ds['counter'], known_conc_attacks, masked_conc_attacks)), \n",
    "                      columns=['conclusion', 'premises', 'gt', 'known_conc_attacks', 'masked_conc_attacks'])\n",
    "\n",
    "kialo_pred_df['argument'] = kialo_pred_df.apply(lambda row: row['conclusion'] + ' : ' + ' '.join(row['premises']), axis=1)\n",
    "kialo_pred_df['premises'] = kialo_pred_df['premises'].apply(lambda x: ' '.join(x))"
   ]
  },
  {
   "cell_type": "markdown",
   "metadata": {},
   "source": [
    "### Generate predictions on Reddit:"
   ]
  },
  {
   "cell_type": "code",
   "execution_count": 15,
   "metadata": {},
   "outputs": [],
   "source": [
    "# Loading Reddit models\n",
    "\n",
    "#masked_conclusion_tokenizer = BartTokenizer.from_pretrained(local_home_dir + '/output/extended_tokenizer')\n",
    "#masked_conclusion_model = BartForConditionalGeneration.from_pretrained(local_home_dir + '/output/masked-conclusion-bart-model/').to(device)\n",
    "\n",
    "known_conclusion_model = BartForConditionalGeneration.from_pretrained(local_home_dir  + '/output/known-conclusion-bart-model').to(device)\n",
    "known_conclusion_tokenizer = BartTokenizer.from_pretrained(local_home_dir + '/output/extended_tokenizer')\n",
    "\n",
    "pred_conclusion_model = BartForConditionalGeneration.from_pretrained(local_home_dir  + '/output/pred-conclusion-bart-model/').to(device)\n",
    "pred_conclusion_tokenizer = BartTokenizer.from_pretrained(local_home_dir + '/output/pred-conclusion-bart-model/')\n",
    "\n",
    "join_model_tokenizer = BartTokenizer.from_pretrained('../data/output/joint-con-counter-bart-model-no-attention/')\n",
    "#join_model  = BartModelV2.from_pretrained('../data/output/joint-con-counter-bart-model-no-attention-finetuned/0-1-1-0/', conc_loss_weight = 0.1, counter_loss_weight=1.0, attention_to_conc=False, conc_decoder=True).to(device)\n",
    "join_model  = BartModelV2.from_pretrained('../data/output/joint-con-counter-bart-model-no-attention-finetuned/dynamic-weight', compute_dynamic_weights=True, conc_decoder=True).to(device)"
   ]
  },
  {
   "cell_type": "code",
   "execution_count": 26,
   "metadata": {},
   "outputs": [
    {
     "name": "stderr",
     "output_type": "stream",
     "text": [
      "ProConClient: 100%|██████████| 2172/2172 [13:07:21<00:00, 21.75s/it]\n"
     ]
    },
    {
     "data": {
      "application/vnd.jupyter.widget-view+json": {
       "model_id": "49d8717fbf55413cba56a356bda9b121",
       "version_major": 2,
       "version_minor": 0
      },
      "text/plain": [
       "  0%|          | 0/3 [00:00<?, ?ba/s]"
      ]
     },
     "metadata": {},
     "output_type": "display_data"
    },
    {
     "name": "stderr",
     "output_type": "stream",
     "text": [
      "ERROR:root:Internal Python error in the inspect module.\n",
      "Below is the traceback from this internal error.\n",
      "\n"
     ]
    },
    {
     "name": "stdout",
     "output_type": "stream",
     "text": [
      "Traceback (most recent call last):\n",
      "  File \"/usr/local/lib/python3.6/dist-packages/IPython/core/interactiveshell.py\", line 3343, in run_code\n",
      "    exec(code_obj, self.user_global_ns, self.user_ns)\n",
      "  File \"<ipython-input-27-a75c0a296a25>\", line 1, in <module>\n",
      "    joint_attacks = generate_ds_attacks(reddit_sample_valid_ds, join_model, join_model_tokenizer, 'masked_premises', None, gen_kwargs)\n",
      "  File \"<ipython-input-26-c90060ca9cd2>\", line 11, in generate_ds_attacks\n",
      "    ds = ds.map(lambda x :preprocess_function(x, tokenizer, premises_clm, 'counter', conclusion_clm=conclusion_clm), batched=True)\n",
      "  File \"/usr/local/lib/python3.6/dist-packages/datasets/arrow_dataset.py\", line 1679, in map\n",
      "    desc=desc,\n",
      "  File \"/usr/local/lib/python3.6/dist-packages/datasets/arrow_dataset.py\", line 185, in wrapper\n",
      "    out: Union[\"Dataset\", \"DatasetDict\"] = func(self, *args, **kwargs)\n",
      "  File \"/usr/local/lib/python3.6/dist-packages/datasets/fingerprint.py\", line 397, in wrapper\n",
      "    out = func(self, *args, **kwargs)\n",
      "  File \"/usr/local/lib/python3.6/dist-packages/datasets/arrow_dataset.py\", line 2014, in _map_single\n",
      "    offset=offset,\n",
      "  File \"/usr/local/lib/python3.6/dist-packages/datasets/arrow_dataset.py\", line 1900, in apply_function_on_filtered_inputs\n",
      "    function(*fn_args, effective_indices, **fn_kwargs) if with_indices else function(*fn_args, **fn_kwargs)\n",
      "  File \"<ipython-input-26-c90060ca9cd2>\", line 11, in <lambda>\n",
      "    ds = ds.map(lambda x :preprocess_function(x, tokenizer, premises_clm, 'counter', conclusion_clm=conclusion_clm), batched=True)\n",
      "  File \"../src-py/utils.py\", line 267, in preprocess_function\n",
      "    model_inputs = tokenizer(text_inputs, max_length=max_input_length, truncation=True, padding='max_length')\n",
      "  File \"/usr/local/lib/python3.6/dist-packages/transformers/tokenization_utils_base.py\", line 2385, in __call__\n",
      "    **kwargs,\n",
      "  File \"/usr/local/lib/python3.6/dist-packages/transformers/tokenization_utils_base.py\", line 2570, in batch_encode_plus\n",
      "    **kwargs,\n",
      "  File \"/usr/local/lib/python3.6/dist-packages/transformers/tokenization_utils.py\", line 545, in _batch_encode_plus\n",
      "    first_ids = get_input_ids(ids)\n",
      "  File \"/usr/local/lib/python3.6/dist-packages/transformers/tokenization_utils.py\", line 512, in get_input_ids\n",
      "    tokens = self.tokenize(text, **kwargs)\n",
      "  File \"/usr/local/lib/python3.6/dist-packages/transformers/tokenization_utils.py\", line 362, in tokenize\n",
      "    tokenized_text = split_on_tokens(no_split_token, text)\n",
      "  File \"/usr/local/lib/python3.6/dist-packages/transformers/tokenization_utils.py\", line 356, in split_on_tokens\n",
      "    for token in tokenized_text\n",
      "  File \"/usr/local/lib/python3.6/dist-packages/transformers/tokenization_utils.py\", line 356, in <genexpr>\n",
      "    for token in tokenized_text\n",
      "  File \"/usr/local/lib/python3.6/dist-packages/transformers/models/gpt2/tokenization_gpt2.py\", line 247, in _tokenize\n",
      "    for token in re.findall(self.pat, text):\n",
      "  File \"/usr/local/lib/python3.6/dist-packages/regex/regex.py\", line 338, in findall\n",
      "    return pat.findall(string, pos, endpos, overlapped, concurrent, timeout)\n",
      "KeyboardInterrupt\n",
      "\n",
      "During handling of the above exception, another exception occurred:\n",
      "\n",
      "Traceback (most recent call last):\n",
      "  File \"/usr/local/lib/python3.6/dist-packages/IPython/core/interactiveshell.py\", line 2044, in showtraceback\n",
      "    stb = value._render_traceback_()\n",
      "AttributeError: 'KeyboardInterrupt' object has no attribute '_render_traceback_'\n",
      "\n",
      "During handling of the above exception, another exception occurred:\n",
      "\n",
      "Traceback (most recent call last):\n",
      "  File \"/usr/local/lib/python3.6/dist-packages/IPython/core/ultratb.py\", line 1169, in get_records\n",
      "    return _fixed_getinnerframes(etb, number_of_lines_of_context, tb_offset)\n",
      "  File \"/usr/local/lib/python3.6/dist-packages/IPython/core/ultratb.py\", line 316, in wrapped\n",
      "    return f(*args, **kwargs)\n",
      "  File \"/usr/local/lib/python3.6/dist-packages/IPython/core/ultratb.py\", line 350, in _fixed_getinnerframes\n",
      "    records = fix_frame_records_filenames(inspect.getinnerframes(etb, context))\n",
      "  File \"/usr/lib/python3.6/inspect.py\", line 1490, in getinnerframes\n",
      "    frameinfo = (tb.tb_frame,) + getframeinfo(tb, context)\n",
      "  File \"/usr/lib/python3.6/inspect.py\", line 1448, in getframeinfo\n",
      "    filename = getsourcefile(frame) or getfile(frame)\n",
      "  File \"/usr/lib/python3.6/inspect.py\", line 696, in getsourcefile\n",
      "    if getattr(getmodule(object, filename), '__loader__', None) is not None:\n",
      "  File \"/usr/lib/python3.6/inspect.py\", line 739, in getmodule\n",
      "    f = getabsfile(module)\n",
      "  File \"/usr/lib/python3.6/inspect.py\", line 708, in getabsfile\n",
      "    _filename = getsourcefile(object) or getfile(object)\n",
      "  File \"/usr/lib/python3.6/inspect.py\", line 693, in getsourcefile\n",
      "    if os.path.exists(filename):\n",
      "  File \"/usr/lib/python3.6/genericpath.py\", line 19, in exists\n",
      "    os.stat(path)\n",
      "KeyboardInterrupt\n"
     ]
    },
    {
     "name": "stderr",
     "output_type": "stream",
     "text": [
      "ERROR:root:Internal Python error in the inspect module.\n",
      "Below is the traceback from this internal error.\n",
      "\n"
     ]
    },
    {
     "name": "stdout",
     "output_type": "stream",
     "text": [
      "Traceback (most recent call last):\n",
      "  File \"/usr/local/lib/python3.6/dist-packages/IPython/core/interactiveshell.py\", line 3343, in run_code\n",
      "    exec(code_obj, self.user_global_ns, self.user_ns)\n",
      "  File \"<ipython-input-27-a75c0a296a25>\", line 1, in <module>\n",
      "    joint_attacks = generate_ds_attacks(reddit_sample_valid_ds, join_model, join_model_tokenizer, 'masked_premises', None, gen_kwargs)\n",
      "  File \"<ipython-input-26-c90060ca9cd2>\", line 11, in generate_ds_attacks\n",
      "    ds = ds.map(lambda x :preprocess_function(x, tokenizer, premises_clm, 'counter', conclusion_clm=conclusion_clm), batched=True)\n",
      "  File \"/usr/local/lib/python3.6/dist-packages/datasets/arrow_dataset.py\", line 1679, in map\n",
      "    desc=desc,\n",
      "  File \"/usr/local/lib/python3.6/dist-packages/datasets/arrow_dataset.py\", line 185, in wrapper\n",
      "    out: Union[\"Dataset\", \"DatasetDict\"] = func(self, *args, **kwargs)\n",
      "  File \"/usr/local/lib/python3.6/dist-packages/datasets/fingerprint.py\", line 397, in wrapper\n",
      "    out = func(self, *args, **kwargs)\n",
      "  File \"/usr/local/lib/python3.6/dist-packages/datasets/arrow_dataset.py\", line 2014, in _map_single\n",
      "    offset=offset,\n",
      "  File \"/usr/local/lib/python3.6/dist-packages/datasets/arrow_dataset.py\", line 1900, in apply_function_on_filtered_inputs\n",
      "    function(*fn_args, effective_indices, **fn_kwargs) if with_indices else function(*fn_args, **fn_kwargs)\n",
      "  File \"<ipython-input-26-c90060ca9cd2>\", line 11, in <lambda>\n",
      "    ds = ds.map(lambda x :preprocess_function(x, tokenizer, premises_clm, 'counter', conclusion_clm=conclusion_clm), batched=True)\n",
      "  File \"../src-py/utils.py\", line 267, in preprocess_function\n",
      "    model_inputs = tokenizer(text_inputs, max_length=max_input_length, truncation=True, padding='max_length')\n",
      "  File \"/usr/local/lib/python3.6/dist-packages/transformers/tokenization_utils_base.py\", line 2385, in __call__\n",
      "    **kwargs,\n",
      "  File \"/usr/local/lib/python3.6/dist-packages/transformers/tokenization_utils_base.py\", line 2570, in batch_encode_plus\n",
      "    **kwargs,\n",
      "  File \"/usr/local/lib/python3.6/dist-packages/transformers/tokenization_utils.py\", line 545, in _batch_encode_plus\n",
      "    first_ids = get_input_ids(ids)\n",
      "  File \"/usr/local/lib/python3.6/dist-packages/transformers/tokenization_utils.py\", line 512, in get_input_ids\n",
      "    tokens = self.tokenize(text, **kwargs)\n",
      "  File \"/usr/local/lib/python3.6/dist-packages/transformers/tokenization_utils.py\", line 362, in tokenize\n",
      "    tokenized_text = split_on_tokens(no_split_token, text)\n",
      "  File \"/usr/local/lib/python3.6/dist-packages/transformers/tokenization_utils.py\", line 356, in split_on_tokens\n",
      "    for token in tokenized_text\n",
      "  File \"/usr/local/lib/python3.6/dist-packages/transformers/tokenization_utils.py\", line 356, in <genexpr>\n",
      "    for token in tokenized_text\n",
      "  File \"/usr/local/lib/python3.6/dist-packages/transformers/models/gpt2/tokenization_gpt2.py\", line 247, in _tokenize\n",
      "    for token in re.findall(self.pat, text):\n",
      "  File \"/usr/local/lib/python3.6/dist-packages/regex/regex.py\", line 338, in findall\n",
      "    return pat.findall(string, pos, endpos, overlapped, concurrent, timeout)\n",
      "KeyboardInterrupt\n",
      "\n",
      "During handling of the above exception, another exception occurred:\n",
      "\n",
      "Traceback (most recent call last):\n",
      "  File \"/usr/local/lib/python3.6/dist-packages/IPython/core/interactiveshell.py\", line 2044, in showtraceback\n",
      "    stb = value._render_traceback_()\n",
      "AttributeError: 'KeyboardInterrupt' object has no attribute '_render_traceback_'\n",
      "\n",
      "During handling of the above exception, another exception occurred:\n",
      "\n",
      "Traceback (most recent call last):\n",
      "  File \"/usr/local/lib/python3.6/dist-packages/IPython/core/interactiveshell.py\", line 3263, in run_ast_nodes\n",
      "    if (await self.run_code(code, result,  async_=asy)):\n",
      "  File \"/usr/local/lib/python3.6/dist-packages/IPython/core/interactiveshell.py\", line 3360, in run_code\n",
      "    self.showtraceback(running_compiled_code=True)\n",
      "  File \"/usr/local/lib/python3.6/dist-packages/IPython/core/interactiveshell.py\", line 2047, in showtraceback\n",
      "    value, tb, tb_offset=tb_offset)\n",
      "  File \"/usr/local/lib/python3.6/dist-packages/IPython/core/ultratb.py\", line 1436, in structured_traceback\n",
      "    self, etype, value, tb, tb_offset, number_of_lines_of_context)\n",
      "  File \"/usr/local/lib/python3.6/dist-packages/IPython/core/ultratb.py\", line 1336, in structured_traceback\n",
      "    self, etype, value, tb, tb_offset, number_of_lines_of_context\n",
      "  File \"/usr/local/lib/python3.6/dist-packages/IPython/core/ultratb.py\", line 1193, in structured_traceback\n",
      "    tb_offset)\n",
      "  File \"/usr/local/lib/python3.6/dist-packages/IPython/core/ultratb.py\", line 1150, in format_exception_as_a_whole\n",
      "    last_unique, recursion_repeat = find_recursion(orig_etype, evalue, records)\n",
      "  File \"/usr/local/lib/python3.6/dist-packages/IPython/core/ultratb.py\", line 451, in find_recursion\n",
      "    return len(records), 0\n",
      "TypeError: object of type 'NoneType' has no len()\n",
      "\n",
      "During handling of the above exception, another exception occurred:\n",
      "\n",
      "Traceback (most recent call last):\n",
      "  File \"/usr/local/lib/python3.6/dist-packages/IPython/core/interactiveshell.py\", line 2044, in showtraceback\n",
      "    stb = value._render_traceback_()\n",
      "AttributeError: 'TypeError' object has no attribute '_render_traceback_'\n",
      "\n",
      "During handling of the above exception, another exception occurred:\n",
      "\n",
      "Traceback (most recent call last):\n",
      "  File \"/usr/local/lib/python3.6/dist-packages/IPython/core/ultratb.py\", line 1169, in get_records\n",
      "    return _fixed_getinnerframes(etb, number_of_lines_of_context, tb_offset)\n",
      "  File \"/usr/local/lib/python3.6/dist-packages/IPython/core/ultratb.py\", line 316, in wrapped\n",
      "    return f(*args, **kwargs)\n",
      "  File \"/usr/local/lib/python3.6/dist-packages/IPython/core/ultratb.py\", line 350, in _fixed_getinnerframes\n",
      "    records = fix_frame_records_filenames(inspect.getinnerframes(etb, context))\n",
      "  File \"/usr/lib/python3.6/inspect.py\", line 1490, in getinnerframes\n",
      "    frameinfo = (tb.tb_frame,) + getframeinfo(tb, context)\n",
      "  File \"/usr/lib/python3.6/inspect.py\", line 1448, in getframeinfo\n",
      "    filename = getsourcefile(frame) or getfile(frame)\n",
      "  File \"/usr/lib/python3.6/inspect.py\", line 696, in getsourcefile\n",
      "    if getattr(getmodule(object, filename), '__loader__', None) is not None:\n",
      "  File \"/usr/lib/python3.6/inspect.py\", line 739, in getmodule\n",
      "    f = getabsfile(module)\n",
      "  File \"/usr/lib/python3.6/inspect.py\", line 708, in getabsfile\n",
      "    _filename = getsourcefile(object) or getfile(object)\n",
      "  File \"/usr/lib/python3.6/inspect.py\", line 693, in getsourcefile\n",
      "    if os.path.exists(filename):\n",
      "  File \"/usr/lib/python3.6/genericpath.py\", line 19, in exists\n",
      "    os.stat(path)\n",
      "KeyboardInterrupt\n"
     ]
    },
    {
     "ename": "TypeError",
     "evalue": "object of type 'NoneType' has no len()",
     "output_type": "error",
     "traceback": [
      "\u001b[0;31m---------------------------------------------------------------------------\u001b[0m",
      "\u001b[0;31mKeyboardInterrupt\u001b[0m                         Traceback (most recent call last)",
      "    \u001b[0;31m[... skipping hidden 1 frame]\u001b[0m\n",
      "\u001b[0;32m<ipython-input-27-a75c0a296a25>\u001b[0m in \u001b[0;36m<module>\u001b[0;34m\u001b[0m\n\u001b[0;32m----> 1\u001b[0;31m \u001b[0mjoint_attacks\u001b[0m \u001b[0;34m=\u001b[0m \u001b[0mgenerate_ds_attacks\u001b[0m\u001b[0;34m(\u001b[0m\u001b[0mreddit_sample_valid_ds\u001b[0m\u001b[0;34m,\u001b[0m \u001b[0mjoin_model\u001b[0m\u001b[0;34m,\u001b[0m \u001b[0mjoin_model_tokenizer\u001b[0m\u001b[0;34m,\u001b[0m \u001b[0;34m'masked_premises'\u001b[0m\u001b[0;34m,\u001b[0m \u001b[0;32mNone\u001b[0m\u001b[0;34m,\u001b[0m \u001b[0mgen_kwargs\u001b[0m\u001b[0;34m)\u001b[0m\u001b[0;34m\u001b[0m\u001b[0;34m\u001b[0m\u001b[0m\n\u001b[0m\u001b[1;32m      2\u001b[0m \u001b[0mknown_conc_attacks\u001b[0m  \u001b[0;34m=\u001b[0m \u001b[0mgenerate_ds_attacks\u001b[0m\u001b[0;34m(\u001b[0m\u001b[0mreddit_sample_valid_ds\u001b[0m\u001b[0;34m,\u001b[0m \u001b[0mknown_conclusion_model\u001b[0m\u001b[0;34m,\u001b[0m \u001b[0mknown_conclusion_tokenizer\u001b[0m\u001b[0;34m,\u001b[0m \u001b[0;34m'masked_premises'\u001b[0m\u001b[0;34m,\u001b[0m \u001b[0;34m'title'\u001b[0m\u001b[0;34m,\u001b[0m \u001b[0mgen_kwargs\u001b[0m\u001b[0;34m)\u001b[0m\u001b[0;34m\u001b[0m\u001b[0;34m\u001b[0m\u001b[0m\n\u001b[1;32m      3\u001b[0m \u001b[0mbart_conc_attacks\u001b[0m   \u001b[0;34m=\u001b[0m \u001b[0mgenerate_ds_attacks\u001b[0m\u001b[0;34m(\u001b[0m\u001b[0mreddit_sample_valid_ds\u001b[0m\u001b[0;34m,\u001b[0m \u001b[0mknown_conclusion_model\u001b[0m\u001b[0;34m,\u001b[0m \u001b[0mknown_conclusion_tokenizer\u001b[0m\u001b[0;34m,\u001b[0m \u001b[0;34m'masked_premises'\u001b[0m\u001b[0;34m,\u001b[0m \u001b[0;34m'bart_conclusion'\u001b[0m\u001b[0;34m,\u001b[0m \u001b[0mgen_kwargs\u001b[0m\u001b[0;34m)\u001b[0m\u001b[0;34m\u001b[0m\u001b[0;34m\u001b[0m\u001b[0m\n",
      "\u001b[0;32m<ipython-input-26-c90060ca9cd2>\u001b[0m in \u001b[0;36mgenerate_ds_attacks\u001b[0;34m(ds, model, tokenizer, premises_clm, conclusion_clm, gen_kwargs, skip_special_tokens, batch_size)\u001b[0m\n\u001b[1;32m     10\u001b[0m \u001b[0;32mdef\u001b[0m \u001b[0mgenerate_ds_attacks\u001b[0m\u001b[0;34m(\u001b[0m\u001b[0mds\u001b[0m\u001b[0;34m,\u001b[0m \u001b[0mmodel\u001b[0m\u001b[0;34m,\u001b[0m \u001b[0mtokenizer\u001b[0m\u001b[0;34m,\u001b[0m \u001b[0mpremises_clm\u001b[0m\u001b[0;34m,\u001b[0m \u001b[0mconclusion_clm\u001b[0m\u001b[0;34m,\u001b[0m \u001b[0mgen_kwargs\u001b[0m\u001b[0;34m,\u001b[0m \u001b[0mskip_special_tokens\u001b[0m\u001b[0;34m=\u001b[0m\u001b[0;32mTrue\u001b[0m\u001b[0;34m,\u001b[0m \u001b[0mbatch_size\u001b[0m\u001b[0;34m=\u001b[0m\u001b[0;36m8\u001b[0m\u001b[0;34m)\u001b[0m\u001b[0;34m:\u001b[0m\u001b[0;34m\u001b[0m\u001b[0;34m\u001b[0m\u001b[0m\n\u001b[0;32m---> 11\u001b[0;31m     \u001b[0mds\u001b[0m \u001b[0;34m=\u001b[0m \u001b[0mds\u001b[0m\u001b[0;34m.\u001b[0m\u001b[0mmap\u001b[0m\u001b[0;34m(\u001b[0m\u001b[0;32mlambda\u001b[0m \u001b[0mx\u001b[0m \u001b[0;34m:\u001b[0m\u001b[0mpreprocess_function\u001b[0m\u001b[0;34m(\u001b[0m\u001b[0mx\u001b[0m\u001b[0;34m,\u001b[0m \u001b[0mtokenizer\u001b[0m\u001b[0;34m,\u001b[0m \u001b[0mpremises_clm\u001b[0m\u001b[0;34m,\u001b[0m \u001b[0;34m'counter'\u001b[0m\u001b[0;34m,\u001b[0m \u001b[0mconclusion_clm\u001b[0m\u001b[0;34m=\u001b[0m\u001b[0mconclusion_clm\u001b[0m\u001b[0;34m)\u001b[0m\u001b[0;34m,\u001b[0m \u001b[0mbatched\u001b[0m\u001b[0;34m=\u001b[0m\u001b[0;32mTrue\u001b[0m\u001b[0;34m)\u001b[0m\u001b[0;34m\u001b[0m\u001b[0;34m\u001b[0m\u001b[0m\n\u001b[0m\u001b[1;32m     12\u001b[0m     \u001b[0mds\u001b[0m\u001b[0;34m.\u001b[0m\u001b[0mset_format\u001b[0m\u001b[0;34m(\u001b[0m\u001b[0mtype\u001b[0m\u001b[0;34m=\u001b[0m\u001b[0;34m'torch'\u001b[0m\u001b[0;34m,\u001b[0m \u001b[0mcolumns\u001b[0m\u001b[0;34m=\u001b[0m\u001b[0;34m[\u001b[0m\u001b[0;34m'input_ids'\u001b[0m\u001b[0;34m,\u001b[0m \u001b[0;34m'attention_mask'\u001b[0m\u001b[0;34m,\u001b[0m \u001b[0;34m'labels'\u001b[0m\u001b[0;34m]\u001b[0m\u001b[0;34m)\u001b[0m\u001b[0;34m\u001b[0m\u001b[0;34m\u001b[0m\u001b[0m\n",
      "\u001b[0;32m/usr/local/lib/python3.6/dist-packages/datasets/arrow_dataset.py\u001b[0m in \u001b[0;36mmap\u001b[0;34m(self, function, with_indices, input_columns, batched, batch_size, drop_last_batch, remove_columns, keep_in_memory, load_from_cache_file, cache_file_name, writer_batch_size, features, disable_nullable, fn_kwargs, num_proc, suffix_template, new_fingerprint, desc)\u001b[0m\n\u001b[1;32m   1678\u001b[0m                 \u001b[0mnew_fingerprint\u001b[0m\u001b[0;34m=\u001b[0m\u001b[0mnew_fingerprint\u001b[0m\u001b[0;34m,\u001b[0m\u001b[0;34m\u001b[0m\u001b[0;34m\u001b[0m\u001b[0m\n\u001b[0;32m-> 1679\u001b[0;31m                 \u001b[0mdesc\u001b[0m\u001b[0;34m=\u001b[0m\u001b[0mdesc\u001b[0m\u001b[0;34m,\u001b[0m\u001b[0;34m\u001b[0m\u001b[0;34m\u001b[0m\u001b[0m\n\u001b[0m\u001b[1;32m   1680\u001b[0m             )\n",
      "\u001b[0;32m/usr/local/lib/python3.6/dist-packages/datasets/arrow_dataset.py\u001b[0m in \u001b[0;36mwrapper\u001b[0;34m(*args, **kwargs)\u001b[0m\n\u001b[1;32m    184\u001b[0m         \u001b[0;31m# apply actual function\u001b[0m\u001b[0;34m\u001b[0m\u001b[0;34m\u001b[0m\u001b[0;34m\u001b[0m\u001b[0m\n\u001b[0;32m--> 185\u001b[0;31m         \u001b[0mout\u001b[0m\u001b[0;34m:\u001b[0m \u001b[0mUnion\u001b[0m\u001b[0;34m[\u001b[0m\u001b[0;34m\"Dataset\"\u001b[0m\u001b[0;34m,\u001b[0m \u001b[0;34m\"DatasetDict\"\u001b[0m\u001b[0;34m]\u001b[0m \u001b[0;34m=\u001b[0m \u001b[0mfunc\u001b[0m\u001b[0;34m(\u001b[0m\u001b[0mself\u001b[0m\u001b[0;34m,\u001b[0m \u001b[0;34m*\u001b[0m\u001b[0margs\u001b[0m\u001b[0;34m,\u001b[0m \u001b[0;34m**\u001b[0m\u001b[0mkwargs\u001b[0m\u001b[0;34m)\u001b[0m\u001b[0;34m\u001b[0m\u001b[0;34m\u001b[0m\u001b[0m\n\u001b[0m\u001b[1;32m    186\u001b[0m         \u001b[0mdatasets\u001b[0m\u001b[0;34m:\u001b[0m \u001b[0mList\u001b[0m\u001b[0;34m[\u001b[0m\u001b[0;34m\"Dataset\"\u001b[0m\u001b[0;34m]\u001b[0m \u001b[0;34m=\u001b[0m \u001b[0mlist\u001b[0m\u001b[0;34m(\u001b[0m\u001b[0mout\u001b[0m\u001b[0;34m.\u001b[0m\u001b[0mvalues\u001b[0m\u001b[0;34m(\u001b[0m\u001b[0;34m)\u001b[0m\u001b[0;34m)\u001b[0m \u001b[0;32mif\u001b[0m \u001b[0misinstance\u001b[0m\u001b[0;34m(\u001b[0m\u001b[0mout\u001b[0m\u001b[0;34m,\u001b[0m \u001b[0mdict\u001b[0m\u001b[0;34m)\u001b[0m \u001b[0;32melse\u001b[0m \u001b[0;34m[\u001b[0m\u001b[0mout\u001b[0m\u001b[0;34m]\u001b[0m\u001b[0;34m\u001b[0m\u001b[0;34m\u001b[0m\u001b[0m\n",
      "\u001b[0;32m/usr/local/lib/python3.6/dist-packages/datasets/fingerprint.py\u001b[0m in \u001b[0;36mwrapper\u001b[0;34m(*args, **kwargs)\u001b[0m\n\u001b[1;32m    396\u001b[0m \u001b[0;34m\u001b[0m\u001b[0m\n\u001b[0;32m--> 397\u001b[0;31m             \u001b[0mout\u001b[0m \u001b[0;34m=\u001b[0m \u001b[0mfunc\u001b[0m\u001b[0;34m(\u001b[0m\u001b[0mself\u001b[0m\u001b[0;34m,\u001b[0m \u001b[0;34m*\u001b[0m\u001b[0margs\u001b[0m\u001b[0;34m,\u001b[0m \u001b[0;34m**\u001b[0m\u001b[0mkwargs\u001b[0m\u001b[0;34m)\u001b[0m\u001b[0;34m\u001b[0m\u001b[0;34m\u001b[0m\u001b[0m\n\u001b[0m\u001b[1;32m    398\u001b[0m \u001b[0;34m\u001b[0m\u001b[0m\n",
      "\u001b[0;32m/usr/local/lib/python3.6/dist-packages/datasets/arrow_dataset.py\u001b[0m in \u001b[0;36m_map_single\u001b[0;34m(self, function, with_indices, input_columns, batched, batch_size, drop_last_batch, remove_columns, keep_in_memory, load_from_cache_file, cache_file_name, writer_batch_size, features, disable_nullable, fn_kwargs, new_fingerprint, rank, offset, desc)\u001b[0m\n\u001b[1;32m   2013\u001b[0m                                 \u001b[0mcheck_same_num_examples\u001b[0m\u001b[0;34m=\u001b[0m\u001b[0mlen\u001b[0m\u001b[0;34m(\u001b[0m\u001b[0minput_dataset\u001b[0m\u001b[0;34m.\u001b[0m\u001b[0mlist_indexes\u001b[0m\u001b[0;34m(\u001b[0m\u001b[0;34m)\u001b[0m\u001b[0;34m)\u001b[0m \u001b[0;34m>\u001b[0m \u001b[0;36m0\u001b[0m\u001b[0;34m,\u001b[0m\u001b[0;34m\u001b[0m\u001b[0;34m\u001b[0m\u001b[0m\n\u001b[0;32m-> 2014\u001b[0;31m                                 \u001b[0moffset\u001b[0m\u001b[0;34m=\u001b[0m\u001b[0moffset\u001b[0m\u001b[0;34m,\u001b[0m\u001b[0;34m\u001b[0m\u001b[0;34m\u001b[0m\u001b[0m\n\u001b[0m\u001b[1;32m   2015\u001b[0m                             )\n",
      "\u001b[0;32m/usr/local/lib/python3.6/dist-packages/datasets/arrow_dataset.py\u001b[0m in \u001b[0;36mapply_function_on_filtered_inputs\u001b[0;34m(inputs, indices, check_same_num_examples, offset)\u001b[0m\n\u001b[1;32m   1899\u001b[0m             processed_inputs = (\n\u001b[0;32m-> 1900\u001b[0;31m                 \u001b[0mfunction\u001b[0m\u001b[0;34m(\u001b[0m\u001b[0;34m*\u001b[0m\u001b[0mfn_args\u001b[0m\u001b[0;34m,\u001b[0m \u001b[0meffective_indices\u001b[0m\u001b[0;34m,\u001b[0m \u001b[0;34m**\u001b[0m\u001b[0mfn_kwargs\u001b[0m\u001b[0;34m)\u001b[0m \u001b[0;32mif\u001b[0m \u001b[0mwith_indices\u001b[0m \u001b[0;32melse\u001b[0m \u001b[0mfunction\u001b[0m\u001b[0;34m(\u001b[0m\u001b[0;34m*\u001b[0m\u001b[0mfn_args\u001b[0m\u001b[0;34m,\u001b[0m \u001b[0;34m**\u001b[0m\u001b[0mfn_kwargs\u001b[0m\u001b[0;34m)\u001b[0m\u001b[0;34m\u001b[0m\u001b[0;34m\u001b[0m\u001b[0m\n\u001b[0m\u001b[1;32m   1901\u001b[0m             )\n",
      "\u001b[0;32m<ipython-input-26-c90060ca9cd2>\u001b[0m in \u001b[0;36m<lambda>\u001b[0;34m(x)\u001b[0m\n\u001b[1;32m     10\u001b[0m \u001b[0;32mdef\u001b[0m \u001b[0mgenerate_ds_attacks\u001b[0m\u001b[0;34m(\u001b[0m\u001b[0mds\u001b[0m\u001b[0;34m,\u001b[0m \u001b[0mmodel\u001b[0m\u001b[0;34m,\u001b[0m \u001b[0mtokenizer\u001b[0m\u001b[0;34m,\u001b[0m \u001b[0mpremises_clm\u001b[0m\u001b[0;34m,\u001b[0m \u001b[0mconclusion_clm\u001b[0m\u001b[0;34m,\u001b[0m \u001b[0mgen_kwargs\u001b[0m\u001b[0;34m,\u001b[0m \u001b[0mskip_special_tokens\u001b[0m\u001b[0;34m=\u001b[0m\u001b[0;32mTrue\u001b[0m\u001b[0;34m,\u001b[0m \u001b[0mbatch_size\u001b[0m\u001b[0;34m=\u001b[0m\u001b[0;36m8\u001b[0m\u001b[0;34m)\u001b[0m\u001b[0;34m:\u001b[0m\u001b[0;34m\u001b[0m\u001b[0;34m\u001b[0m\u001b[0m\n\u001b[0;32m---> 11\u001b[0;31m     \u001b[0mds\u001b[0m \u001b[0;34m=\u001b[0m \u001b[0mds\u001b[0m\u001b[0;34m.\u001b[0m\u001b[0mmap\u001b[0m\u001b[0;34m(\u001b[0m\u001b[0;32mlambda\u001b[0m \u001b[0mx\u001b[0m \u001b[0;34m:\u001b[0m\u001b[0mpreprocess_function\u001b[0m\u001b[0;34m(\u001b[0m\u001b[0mx\u001b[0m\u001b[0;34m,\u001b[0m \u001b[0mtokenizer\u001b[0m\u001b[0;34m,\u001b[0m \u001b[0mpremises_clm\u001b[0m\u001b[0;34m,\u001b[0m \u001b[0;34m'counter'\u001b[0m\u001b[0;34m,\u001b[0m \u001b[0mconclusion_clm\u001b[0m\u001b[0;34m=\u001b[0m\u001b[0mconclusion_clm\u001b[0m\u001b[0;34m)\u001b[0m\u001b[0;34m,\u001b[0m \u001b[0mbatched\u001b[0m\u001b[0;34m=\u001b[0m\u001b[0;32mTrue\u001b[0m\u001b[0;34m)\u001b[0m\u001b[0;34m\u001b[0m\u001b[0;34m\u001b[0m\u001b[0m\n\u001b[0m\u001b[1;32m     12\u001b[0m     \u001b[0mds\u001b[0m\u001b[0;34m.\u001b[0m\u001b[0mset_format\u001b[0m\u001b[0;34m(\u001b[0m\u001b[0mtype\u001b[0m\u001b[0;34m=\u001b[0m\u001b[0;34m'torch'\u001b[0m\u001b[0;34m,\u001b[0m \u001b[0mcolumns\u001b[0m\u001b[0;34m=\u001b[0m\u001b[0;34m[\u001b[0m\u001b[0;34m'input_ids'\u001b[0m\u001b[0;34m,\u001b[0m \u001b[0;34m'attention_mask'\u001b[0m\u001b[0;34m,\u001b[0m \u001b[0;34m'labels'\u001b[0m\u001b[0;34m]\u001b[0m\u001b[0;34m)\u001b[0m\u001b[0;34m\u001b[0m\u001b[0;34m\u001b[0m\u001b[0m\n",
      "\u001b[0;32m/home/sile2804/data-tmp/multitask-counter-arg-generation/src-py/utils.py\u001b[0m in \u001b[0;36mpreprocess_function\u001b[0;34m(examples, tokenizer, premises_clm, counter_clm, conclusion_clm, conclusion_in_output, max_input_length, max_target_length)\u001b[0m\n\u001b[1;32m    266\u001b[0m \u001b[0;34m\u001b[0m\u001b[0m\n\u001b[0;32m--> 267\u001b[0;31m     \u001b[0mmodel_inputs\u001b[0m \u001b[0;34m=\u001b[0m \u001b[0mtokenizer\u001b[0m\u001b[0;34m(\u001b[0m\u001b[0mtext_inputs\u001b[0m\u001b[0;34m,\u001b[0m \u001b[0mmax_length\u001b[0m\u001b[0;34m=\u001b[0m\u001b[0mmax_input_length\u001b[0m\u001b[0;34m,\u001b[0m \u001b[0mtruncation\u001b[0m\u001b[0;34m=\u001b[0m\u001b[0;32mTrue\u001b[0m\u001b[0;34m,\u001b[0m \u001b[0mpadding\u001b[0m\u001b[0;34m=\u001b[0m\u001b[0;34m'max_length'\u001b[0m\u001b[0;34m)\u001b[0m\u001b[0;34m\u001b[0m\u001b[0;34m\u001b[0m\u001b[0m\n\u001b[0m\u001b[1;32m    268\u001b[0m \u001b[0;34m\u001b[0m\u001b[0m\n",
      "\u001b[0;32m/usr/local/lib/python3.6/dist-packages/transformers/tokenization_utils_base.py\u001b[0m in \u001b[0;36m__call__\u001b[0;34m(self, text, text_pair, add_special_tokens, padding, truncation, max_length, stride, is_split_into_words, pad_to_multiple_of, return_tensors, return_token_type_ids, return_attention_mask, return_overflowing_tokens, return_special_tokens_mask, return_offsets_mapping, return_length, verbose, **kwargs)\u001b[0m\n\u001b[1;32m   2384\u001b[0m                 \u001b[0mverbose\u001b[0m\u001b[0;34m=\u001b[0m\u001b[0mverbose\u001b[0m\u001b[0;34m,\u001b[0m\u001b[0;34m\u001b[0m\u001b[0;34m\u001b[0m\u001b[0m\n\u001b[0;32m-> 2385\u001b[0;31m                 \u001b[0;34m**\u001b[0m\u001b[0mkwargs\u001b[0m\u001b[0;34m,\u001b[0m\u001b[0;34m\u001b[0m\u001b[0;34m\u001b[0m\u001b[0m\n\u001b[0m\u001b[1;32m   2386\u001b[0m             )\n",
      "\u001b[0;32m/usr/local/lib/python3.6/dist-packages/transformers/tokenization_utils_base.py\u001b[0m in \u001b[0;36mbatch_encode_plus\u001b[0;34m(self, batch_text_or_text_pairs, add_special_tokens, padding, truncation, max_length, stride, is_split_into_words, pad_to_multiple_of, return_tensors, return_token_type_ids, return_attention_mask, return_overflowing_tokens, return_special_tokens_mask, return_offsets_mapping, return_length, verbose, **kwargs)\u001b[0m\n\u001b[1;32m   2569\u001b[0m             \u001b[0mverbose\u001b[0m\u001b[0;34m=\u001b[0m\u001b[0mverbose\u001b[0m\u001b[0;34m,\u001b[0m\u001b[0;34m\u001b[0m\u001b[0;34m\u001b[0m\u001b[0m\n\u001b[0;32m-> 2570\u001b[0;31m             \u001b[0;34m**\u001b[0m\u001b[0mkwargs\u001b[0m\u001b[0;34m,\u001b[0m\u001b[0;34m\u001b[0m\u001b[0;34m\u001b[0m\u001b[0m\n\u001b[0m\u001b[1;32m   2571\u001b[0m         )\n",
      "\u001b[0;32m/usr/local/lib/python3.6/dist-packages/transformers/tokenization_utils.py\u001b[0m in \u001b[0;36m_batch_encode_plus\u001b[0;34m(self, batch_text_or_text_pairs, add_special_tokens, padding_strategy, truncation_strategy, max_length, stride, is_split_into_words, pad_to_multiple_of, return_tensors, return_token_type_ids, return_attention_mask, return_overflowing_tokens, return_special_tokens_mask, return_offsets_mapping, return_length, verbose, **kwargs)\u001b[0m\n\u001b[1;32m    544\u001b[0m \u001b[0;34m\u001b[0m\u001b[0m\n\u001b[0;32m--> 545\u001b[0;31m             \u001b[0mfirst_ids\u001b[0m \u001b[0;34m=\u001b[0m \u001b[0mget_input_ids\u001b[0m\u001b[0;34m(\u001b[0m\u001b[0mids\u001b[0m\u001b[0;34m)\u001b[0m\u001b[0;34m\u001b[0m\u001b[0;34m\u001b[0m\u001b[0m\n\u001b[0m\u001b[1;32m    546\u001b[0m             \u001b[0msecond_ids\u001b[0m \u001b[0;34m=\u001b[0m \u001b[0mget_input_ids\u001b[0m\u001b[0;34m(\u001b[0m\u001b[0mpair_ids\u001b[0m\u001b[0;34m)\u001b[0m \u001b[0;32mif\u001b[0m \u001b[0mpair_ids\u001b[0m \u001b[0;32mis\u001b[0m \u001b[0;32mnot\u001b[0m \u001b[0;32mNone\u001b[0m \u001b[0;32melse\u001b[0m \u001b[0;32mNone\u001b[0m\u001b[0;34m\u001b[0m\u001b[0;34m\u001b[0m\u001b[0m\n",
      "\u001b[0;32m/usr/local/lib/python3.6/dist-packages/transformers/tokenization_utils.py\u001b[0m in \u001b[0;36mget_input_ids\u001b[0;34m(text)\u001b[0m\n\u001b[1;32m    511\u001b[0m             \u001b[0;32mif\u001b[0m \u001b[0misinstance\u001b[0m\u001b[0;34m(\u001b[0m\u001b[0mtext\u001b[0m\u001b[0;34m,\u001b[0m \u001b[0mstr\u001b[0m\u001b[0;34m)\u001b[0m\u001b[0;34m:\u001b[0m\u001b[0;34m\u001b[0m\u001b[0;34m\u001b[0m\u001b[0m\n\u001b[0;32m--> 512\u001b[0;31m                 \u001b[0mtokens\u001b[0m \u001b[0;34m=\u001b[0m \u001b[0mself\u001b[0m\u001b[0;34m.\u001b[0m\u001b[0mtokenize\u001b[0m\u001b[0;34m(\u001b[0m\u001b[0mtext\u001b[0m\u001b[0;34m,\u001b[0m \u001b[0;34m**\u001b[0m\u001b[0mkwargs\u001b[0m\u001b[0;34m)\u001b[0m\u001b[0;34m\u001b[0m\u001b[0;34m\u001b[0m\u001b[0m\n\u001b[0m\u001b[1;32m    513\u001b[0m                 \u001b[0;32mreturn\u001b[0m \u001b[0mself\u001b[0m\u001b[0;34m.\u001b[0m\u001b[0mconvert_tokens_to_ids\u001b[0m\u001b[0;34m(\u001b[0m\u001b[0mtokens\u001b[0m\u001b[0;34m)\u001b[0m\u001b[0;34m\u001b[0m\u001b[0;34m\u001b[0m\u001b[0m\n",
      "\u001b[0;32m/usr/local/lib/python3.6/dist-packages/transformers/tokenization_utils.py\u001b[0m in \u001b[0;36mtokenize\u001b[0;34m(self, text, **kwargs)\u001b[0m\n\u001b[1;32m    361\u001b[0m         \u001b[0mno_split_token\u001b[0m \u001b[0;34m=\u001b[0m \u001b[0mself\u001b[0m\u001b[0;34m.\u001b[0m\u001b[0munique_no_split_tokens\u001b[0m\u001b[0;34m\u001b[0m\u001b[0;34m\u001b[0m\u001b[0m\n\u001b[0;32m--> 362\u001b[0;31m         \u001b[0mtokenized_text\u001b[0m \u001b[0;34m=\u001b[0m \u001b[0msplit_on_tokens\u001b[0m\u001b[0;34m(\u001b[0m\u001b[0mno_split_token\u001b[0m\u001b[0;34m,\u001b[0m \u001b[0mtext\u001b[0m\u001b[0;34m)\u001b[0m\u001b[0;34m\u001b[0m\u001b[0;34m\u001b[0m\u001b[0m\n\u001b[0m\u001b[1;32m    363\u001b[0m         \u001b[0;32mreturn\u001b[0m \u001b[0mtokenized_text\u001b[0m\u001b[0;34m\u001b[0m\u001b[0;34m\u001b[0m\u001b[0m\n",
      "\u001b[0;32m/usr/local/lib/python3.6/dist-packages/transformers/tokenization_utils.py\u001b[0m in \u001b[0;36msplit_on_tokens\u001b[0;34m(tok_list, text)\u001b[0m\n\u001b[1;32m    355\u001b[0m                         \u001b[0mself\u001b[0m\u001b[0;34m.\u001b[0m\u001b[0m_tokenize\u001b[0m\u001b[0;34m(\u001b[0m\u001b[0mtoken\u001b[0m\u001b[0;34m)\u001b[0m \u001b[0;32mif\u001b[0m \u001b[0mtoken\u001b[0m \u001b[0;32mnot\u001b[0m \u001b[0;32min\u001b[0m \u001b[0mself\u001b[0m\u001b[0;34m.\u001b[0m\u001b[0munique_no_split_tokens\u001b[0m \u001b[0;32melse\u001b[0m \u001b[0;34m[\u001b[0m\u001b[0mtoken\u001b[0m\u001b[0;34m]\u001b[0m\u001b[0;34m\u001b[0m\u001b[0;34m\u001b[0m\u001b[0m\n\u001b[0;32m--> 356\u001b[0;31m                         \u001b[0;32mfor\u001b[0m \u001b[0mtoken\u001b[0m \u001b[0;32min\u001b[0m \u001b[0mtokenized_text\u001b[0m\u001b[0;34m\u001b[0m\u001b[0;34m\u001b[0m\u001b[0m\n\u001b[0m\u001b[1;32m    357\u001b[0m                     )\n",
      "\u001b[0;32m/usr/local/lib/python3.6/dist-packages/transformers/tokenization_utils.py\u001b[0m in \u001b[0;36m<genexpr>\u001b[0;34m(.0)\u001b[0m\n\u001b[1;32m    355\u001b[0m                         \u001b[0mself\u001b[0m\u001b[0;34m.\u001b[0m\u001b[0m_tokenize\u001b[0m\u001b[0;34m(\u001b[0m\u001b[0mtoken\u001b[0m\u001b[0;34m)\u001b[0m \u001b[0;32mif\u001b[0m \u001b[0mtoken\u001b[0m \u001b[0;32mnot\u001b[0m \u001b[0;32min\u001b[0m \u001b[0mself\u001b[0m\u001b[0;34m.\u001b[0m\u001b[0munique_no_split_tokens\u001b[0m \u001b[0;32melse\u001b[0m \u001b[0;34m[\u001b[0m\u001b[0mtoken\u001b[0m\u001b[0;34m]\u001b[0m\u001b[0;34m\u001b[0m\u001b[0;34m\u001b[0m\u001b[0m\n\u001b[0;32m--> 356\u001b[0;31m                         \u001b[0;32mfor\u001b[0m \u001b[0mtoken\u001b[0m \u001b[0;32min\u001b[0m \u001b[0mtokenized_text\u001b[0m\u001b[0;34m\u001b[0m\u001b[0;34m\u001b[0m\u001b[0m\n\u001b[0m\u001b[1;32m    357\u001b[0m                     )\n",
      "\u001b[0;32m/usr/local/lib/python3.6/dist-packages/transformers/models/gpt2/tokenization_gpt2.py\u001b[0m in \u001b[0;36m_tokenize\u001b[0;34m(self, text)\u001b[0m\n\u001b[1;32m    246\u001b[0m         \u001b[0mbpe_tokens\u001b[0m \u001b[0;34m=\u001b[0m \u001b[0;34m[\u001b[0m\u001b[0;34m]\u001b[0m\u001b[0;34m\u001b[0m\u001b[0;34m\u001b[0m\u001b[0m\n\u001b[0;32m--> 247\u001b[0;31m         \u001b[0;32mfor\u001b[0m \u001b[0mtoken\u001b[0m \u001b[0;32min\u001b[0m \u001b[0mre\u001b[0m\u001b[0;34m.\u001b[0m\u001b[0mfindall\u001b[0m\u001b[0;34m(\u001b[0m\u001b[0mself\u001b[0m\u001b[0;34m.\u001b[0m\u001b[0mpat\u001b[0m\u001b[0;34m,\u001b[0m \u001b[0mtext\u001b[0m\u001b[0;34m)\u001b[0m\u001b[0;34m:\u001b[0m\u001b[0;34m\u001b[0m\u001b[0;34m\u001b[0m\u001b[0m\n\u001b[0m\u001b[1;32m    248\u001b[0m             token = \"\".join(\n",
      "\u001b[0;32m/usr/local/lib/python3.6/dist-packages/regex/regex.py\u001b[0m in \u001b[0;36mfindall\u001b[0;34m(pattern, string, flags, pos, endpos, overlapped, concurrent, timeout, ignore_unused, **kwargs)\u001b[0m\n\u001b[1;32m    337\u001b[0m     \u001b[0mpat\u001b[0m \u001b[0;34m=\u001b[0m \u001b[0m_compile\u001b[0m\u001b[0;34m(\u001b[0m\u001b[0mpattern\u001b[0m\u001b[0;34m,\u001b[0m \u001b[0mflags\u001b[0m\u001b[0;34m,\u001b[0m \u001b[0mignore_unused\u001b[0m\u001b[0;34m,\u001b[0m \u001b[0mkwargs\u001b[0m\u001b[0;34m,\u001b[0m \u001b[0;32mTrue\u001b[0m\u001b[0;34m)\u001b[0m\u001b[0;34m\u001b[0m\u001b[0;34m\u001b[0m\u001b[0m\n\u001b[0;32m--> 338\u001b[0;31m     \u001b[0;32mreturn\u001b[0m \u001b[0mpat\u001b[0m\u001b[0;34m.\u001b[0m\u001b[0mfindall\u001b[0m\u001b[0;34m(\u001b[0m\u001b[0mstring\u001b[0m\u001b[0;34m,\u001b[0m \u001b[0mpos\u001b[0m\u001b[0;34m,\u001b[0m \u001b[0mendpos\u001b[0m\u001b[0;34m,\u001b[0m \u001b[0moverlapped\u001b[0m\u001b[0;34m,\u001b[0m \u001b[0mconcurrent\u001b[0m\u001b[0;34m,\u001b[0m \u001b[0mtimeout\u001b[0m\u001b[0;34m)\u001b[0m\u001b[0;34m\u001b[0m\u001b[0;34m\u001b[0m\u001b[0m\n\u001b[0m\u001b[1;32m    339\u001b[0m \u001b[0;34m\u001b[0m\u001b[0m\n",
      "\u001b[0;31mKeyboardInterrupt\u001b[0m: ",
      "\nDuring handling of the above exception, another exception occurred:\n",
      "\u001b[0;31mAttributeError\u001b[0m                            Traceback (most recent call last)",
      "\u001b[0;32m/usr/local/lib/python3.6/dist-packages/IPython/core/interactiveshell.py\u001b[0m in \u001b[0;36mshowtraceback\u001b[0;34m(self, exc_tuple, filename, tb_offset, exception_only, running_compiled_code)\u001b[0m\n\u001b[1;32m   2043\u001b[0m                         \u001b[0;31m# in the engines. This should return a list of strings.\u001b[0m\u001b[0;34m\u001b[0m\u001b[0;34m\u001b[0m\u001b[0;34m\u001b[0m\u001b[0m\n\u001b[0;32m-> 2044\u001b[0;31m                         \u001b[0mstb\u001b[0m \u001b[0;34m=\u001b[0m \u001b[0mvalue\u001b[0m\u001b[0;34m.\u001b[0m\u001b[0m_render_traceback_\u001b[0m\u001b[0;34m(\u001b[0m\u001b[0;34m)\u001b[0m\u001b[0;34m\u001b[0m\u001b[0;34m\u001b[0m\u001b[0m\n\u001b[0m\u001b[1;32m   2045\u001b[0m                     \u001b[0;32mexcept\u001b[0m \u001b[0mException\u001b[0m\u001b[0;34m:\u001b[0m\u001b[0;34m\u001b[0m\u001b[0;34m\u001b[0m\u001b[0m\n",
      "\u001b[0;31mAttributeError\u001b[0m: 'KeyboardInterrupt' object has no attribute '_render_traceback_'",
      "\nDuring handling of the above exception, another exception occurred:\n",
      "\u001b[0;31mTypeError\u001b[0m                                 Traceback (most recent call last)",
      "\u001b[0;32m/usr/local/lib/python3.6/dist-packages/IPython/core/interactiveshell.py\u001b[0m in \u001b[0;36mrun_ast_nodes\u001b[0;34m(self, nodelist, cell_name, interactivity, compiler, result)\u001b[0m\n\u001b[1;32m   3262\u001b[0m                         \u001b[0masy\u001b[0m \u001b[0;34m=\u001b[0m \u001b[0mcompare\u001b[0m\u001b[0;34m(\u001b[0m\u001b[0mcode\u001b[0m\u001b[0;34m)\u001b[0m\u001b[0;34m\u001b[0m\u001b[0;34m\u001b[0m\u001b[0m\n\u001b[0;32m-> 3263\u001b[0;31m                     \u001b[0;32mif\u001b[0m \u001b[0;34m(\u001b[0m\u001b[0mawait\u001b[0m \u001b[0mself\u001b[0m\u001b[0;34m.\u001b[0m\u001b[0mrun_code\u001b[0m\u001b[0;34m(\u001b[0m\u001b[0mcode\u001b[0m\u001b[0;34m,\u001b[0m \u001b[0mresult\u001b[0m\u001b[0;34m,\u001b[0m  \u001b[0masync_\u001b[0m\u001b[0;34m=\u001b[0m\u001b[0masy\u001b[0m\u001b[0;34m)\u001b[0m\u001b[0;34m)\u001b[0m\u001b[0;34m:\u001b[0m\u001b[0;34m\u001b[0m\u001b[0;34m\u001b[0m\u001b[0m\n\u001b[0m\u001b[1;32m   3264\u001b[0m                         \u001b[0;32mreturn\u001b[0m \u001b[0;32mTrue\u001b[0m\u001b[0;34m\u001b[0m\u001b[0;34m\u001b[0m\u001b[0m\n",
      "    \u001b[0;31m[... skipping hidden 1 frame]\u001b[0m\n",
      "\u001b[0;32m/usr/local/lib/python3.6/dist-packages/IPython/core/interactiveshell.py\u001b[0m in \u001b[0;36mshowtraceback\u001b[0;34m(self, exc_tuple, filename, tb_offset, exception_only, running_compiled_code)\u001b[0m\n\u001b[1;32m   2046\u001b[0m                         stb = self.InteractiveTB.structured_traceback(etype,\n\u001b[0;32m-> 2047\u001b[0;31m                                             value, tb, tb_offset=tb_offset)\n\u001b[0m\u001b[1;32m   2048\u001b[0m \u001b[0;34m\u001b[0m\u001b[0m\n",
      "\u001b[0;32m/usr/local/lib/python3.6/dist-packages/IPython/core/ultratb.py\u001b[0m in \u001b[0;36mstructured_traceback\u001b[0;34m(self, etype, value, tb, tb_offset, number_of_lines_of_context)\u001b[0m\n\u001b[1;32m   1435\u001b[0m         return FormattedTB.structured_traceback(\n\u001b[0;32m-> 1436\u001b[0;31m             self, etype, value, tb, tb_offset, number_of_lines_of_context)\n\u001b[0m\u001b[1;32m   1437\u001b[0m \u001b[0;34m\u001b[0m\u001b[0m\n",
      "\u001b[0;32m/usr/local/lib/python3.6/dist-packages/IPython/core/ultratb.py\u001b[0m in \u001b[0;36mstructured_traceback\u001b[0;34m(self, etype, value, tb, tb_offset, number_of_lines_of_context)\u001b[0m\n\u001b[1;32m   1335\u001b[0m             return VerboseTB.structured_traceback(\n\u001b[0;32m-> 1336\u001b[0;31m                 \u001b[0mself\u001b[0m\u001b[0;34m,\u001b[0m \u001b[0metype\u001b[0m\u001b[0;34m,\u001b[0m \u001b[0mvalue\u001b[0m\u001b[0;34m,\u001b[0m \u001b[0mtb\u001b[0m\u001b[0;34m,\u001b[0m \u001b[0mtb_offset\u001b[0m\u001b[0;34m,\u001b[0m \u001b[0mnumber_of_lines_of_context\u001b[0m\u001b[0;34m\u001b[0m\u001b[0;34m\u001b[0m\u001b[0m\n\u001b[0m\u001b[1;32m   1337\u001b[0m             )\n",
      "\u001b[0;32m/usr/local/lib/python3.6/dist-packages/IPython/core/ultratb.py\u001b[0m in \u001b[0;36mstructured_traceback\u001b[0;34m(self, etype, evalue, etb, tb_offset, number_of_lines_of_context)\u001b[0m\n\u001b[1;32m   1192\u001b[0m         formatted_exception = self.format_exception_as_a_whole(etype, evalue, etb, number_of_lines_of_context,\n\u001b[0;32m-> 1193\u001b[0;31m                                                                tb_offset)\n\u001b[0m\u001b[1;32m   1194\u001b[0m \u001b[0;34m\u001b[0m\u001b[0m\n",
      "\u001b[0;32m/usr/local/lib/python3.6/dist-packages/IPython/core/ultratb.py\u001b[0m in \u001b[0;36mformat_exception_as_a_whole\u001b[0;34m(self, etype, evalue, etb, number_of_lines_of_context, tb_offset)\u001b[0m\n\u001b[1;32m   1149\u001b[0m \u001b[0;34m\u001b[0m\u001b[0m\n\u001b[0;32m-> 1150\u001b[0;31m         \u001b[0mlast_unique\u001b[0m\u001b[0;34m,\u001b[0m \u001b[0mrecursion_repeat\u001b[0m \u001b[0;34m=\u001b[0m \u001b[0mfind_recursion\u001b[0m\u001b[0;34m(\u001b[0m\u001b[0morig_etype\u001b[0m\u001b[0;34m,\u001b[0m \u001b[0mevalue\u001b[0m\u001b[0;34m,\u001b[0m \u001b[0mrecords\u001b[0m\u001b[0;34m)\u001b[0m\u001b[0;34m\u001b[0m\u001b[0;34m\u001b[0m\u001b[0m\n\u001b[0m\u001b[1;32m   1151\u001b[0m \u001b[0;34m\u001b[0m\u001b[0m\n",
      "\u001b[0;32m/usr/local/lib/python3.6/dist-packages/IPython/core/ultratb.py\u001b[0m in \u001b[0;36mfind_recursion\u001b[0;34m(etype, value, records)\u001b[0m\n\u001b[1;32m    450\u001b[0m     \u001b[0;32mif\u001b[0m \u001b[0;32mnot\u001b[0m \u001b[0mis_recursion_error\u001b[0m\u001b[0;34m(\u001b[0m\u001b[0metype\u001b[0m\u001b[0;34m,\u001b[0m \u001b[0mvalue\u001b[0m\u001b[0;34m,\u001b[0m \u001b[0mrecords\u001b[0m\u001b[0;34m)\u001b[0m\u001b[0;34m:\u001b[0m\u001b[0;34m\u001b[0m\u001b[0;34m\u001b[0m\u001b[0m\n\u001b[0;32m--> 451\u001b[0;31m         \u001b[0;32mreturn\u001b[0m \u001b[0mlen\u001b[0m\u001b[0;34m(\u001b[0m\u001b[0mrecords\u001b[0m\u001b[0;34m)\u001b[0m\u001b[0;34m,\u001b[0m \u001b[0;36m0\u001b[0m\u001b[0;34m\u001b[0m\u001b[0;34m\u001b[0m\u001b[0m\n\u001b[0m\u001b[1;32m    452\u001b[0m \u001b[0;34m\u001b[0m\u001b[0m\n",
      "\u001b[0;31mTypeError\u001b[0m: object of type 'NoneType' has no len()",
      "\nDuring handling of the above exception, another exception occurred:\n",
      "\u001b[0;31mAttributeError\u001b[0m                            Traceback (most recent call last)",
      "\u001b[0;32m/usr/local/lib/python3.6/dist-packages/IPython/core/interactiveshell.py\u001b[0m in \u001b[0;36mshowtraceback\u001b[0;34m(self, exc_tuple, filename, tb_offset, exception_only, running_compiled_code)\u001b[0m\n\u001b[1;32m   2043\u001b[0m                         \u001b[0;31m# in the engines. This should return a list of strings.\u001b[0m\u001b[0;34m\u001b[0m\u001b[0;34m\u001b[0m\u001b[0;34m\u001b[0m\u001b[0m\n\u001b[0;32m-> 2044\u001b[0;31m                         \u001b[0mstb\u001b[0m \u001b[0;34m=\u001b[0m \u001b[0mvalue\u001b[0m\u001b[0;34m.\u001b[0m\u001b[0m_render_traceback_\u001b[0m\u001b[0;34m(\u001b[0m\u001b[0;34m)\u001b[0m\u001b[0;34m\u001b[0m\u001b[0;34m\u001b[0m\u001b[0m\n\u001b[0m\u001b[1;32m   2045\u001b[0m                     \u001b[0;32mexcept\u001b[0m \u001b[0mException\u001b[0m\u001b[0;34m:\u001b[0m\u001b[0;34m\u001b[0m\u001b[0;34m\u001b[0m\u001b[0m\n",
      "\u001b[0;31mAttributeError\u001b[0m: 'TypeError' object has no attribute '_render_traceback_'",
      "\nDuring handling of the above exception, another exception occurred:\n",
      "\u001b[0;31mTypeError\u001b[0m                                 Traceback (most recent call last)",
      "\u001b[0;32m/usr/local/lib/python3.6/dist-packages/IPython/core/async_helpers.py\u001b[0m in \u001b[0;36m_pseudo_sync_runner\u001b[0;34m(coro)\u001b[0m\n\u001b[1;32m     66\u001b[0m     \"\"\"\n\u001b[1;32m     67\u001b[0m     \u001b[0;32mtry\u001b[0m\u001b[0;34m:\u001b[0m\u001b[0;34m\u001b[0m\u001b[0;34m\u001b[0m\u001b[0m\n\u001b[0;32m---> 68\u001b[0;31m         \u001b[0mcoro\u001b[0m\u001b[0;34m.\u001b[0m\u001b[0msend\u001b[0m\u001b[0;34m(\u001b[0m\u001b[0;32mNone\u001b[0m\u001b[0;34m)\u001b[0m\u001b[0;34m\u001b[0m\u001b[0;34m\u001b[0m\u001b[0m\n\u001b[0m\u001b[1;32m     69\u001b[0m     \u001b[0;32mexcept\u001b[0m \u001b[0mStopIteration\u001b[0m \u001b[0;32mas\u001b[0m \u001b[0mexc\u001b[0m\u001b[0;34m:\u001b[0m\u001b[0;34m\u001b[0m\u001b[0;34m\u001b[0m\u001b[0m\n\u001b[1;32m     70\u001b[0m         \u001b[0;32mreturn\u001b[0m \u001b[0mexc\u001b[0m\u001b[0;34m.\u001b[0m\u001b[0mvalue\u001b[0m\u001b[0;34m\u001b[0m\u001b[0;34m\u001b[0m\u001b[0m\n",
      "\u001b[0;32m/usr/local/lib/python3.6/dist-packages/IPython/core/interactiveshell.py\u001b[0m in \u001b[0;36mrun_cell_async\u001b[0;34m(self, raw_cell, store_history, silent, shell_futures)\u001b[0m\n\u001b[1;32m   3070\u001b[0m \u001b[0;34m\u001b[0m\u001b[0m\n\u001b[1;32m   3071\u001b[0m                 has_raised = await self.run_ast_nodes(code_ast.body, cell_name,\n\u001b[0;32m-> 3072\u001b[0;31m                        interactivity=interactivity, compiler=compiler, result=result)\n\u001b[0m\u001b[1;32m   3073\u001b[0m \u001b[0;34m\u001b[0m\u001b[0m\n\u001b[1;32m   3074\u001b[0m                 \u001b[0mself\u001b[0m\u001b[0;34m.\u001b[0m\u001b[0mlast_execution_succeeded\u001b[0m \u001b[0;34m=\u001b[0m \u001b[0;32mnot\u001b[0m \u001b[0mhas_raised\u001b[0m\u001b[0;34m\u001b[0m\u001b[0;34m\u001b[0m\u001b[0m\n",
      "\u001b[0;32m/usr/local/lib/python3.6/dist-packages/IPython/core/interactiveshell.py\u001b[0m in \u001b[0;36mrun_ast_nodes\u001b[0;34m(self, nodelist, cell_name, interactivity, compiler, result)\u001b[0m\n\u001b[1;32m   3280\u001b[0m             \u001b[0;32mif\u001b[0m \u001b[0mresult\u001b[0m\u001b[0;34m:\u001b[0m\u001b[0;34m\u001b[0m\u001b[0;34m\u001b[0m\u001b[0m\n\u001b[1;32m   3281\u001b[0m                 \u001b[0mresult\u001b[0m\u001b[0;34m.\u001b[0m\u001b[0merror_before_exec\u001b[0m \u001b[0;34m=\u001b[0m \u001b[0msys\u001b[0m\u001b[0;34m.\u001b[0m\u001b[0mexc_info\u001b[0m\u001b[0;34m(\u001b[0m\u001b[0;34m)\u001b[0m\u001b[0;34m[\u001b[0m\u001b[0;36m1\u001b[0m\u001b[0;34m]\u001b[0m\u001b[0;34m\u001b[0m\u001b[0;34m\u001b[0m\u001b[0m\n\u001b[0;32m-> 3282\u001b[0;31m             \u001b[0mself\u001b[0m\u001b[0;34m.\u001b[0m\u001b[0mshowtraceback\u001b[0m\u001b[0;34m(\u001b[0m\u001b[0;34m)\u001b[0m\u001b[0;34m\u001b[0m\u001b[0;34m\u001b[0m\u001b[0m\n\u001b[0m\u001b[1;32m   3283\u001b[0m             \u001b[0;32mreturn\u001b[0m \u001b[0;32mTrue\u001b[0m\u001b[0;34m\u001b[0m\u001b[0;34m\u001b[0m\u001b[0m\n\u001b[1;32m   3284\u001b[0m \u001b[0;34m\u001b[0m\u001b[0m\n",
      "\u001b[0;32m/usr/local/lib/python3.6/dist-packages/IPython/core/interactiveshell.py\u001b[0m in \u001b[0;36mshowtraceback\u001b[0;34m(self, exc_tuple, filename, tb_offset, exception_only, running_compiled_code)\u001b[0m\n\u001b[1;32m   2045\u001b[0m                     \u001b[0;32mexcept\u001b[0m \u001b[0mException\u001b[0m\u001b[0;34m:\u001b[0m\u001b[0;34m\u001b[0m\u001b[0;34m\u001b[0m\u001b[0m\n\u001b[1;32m   2046\u001b[0m                         stb = self.InteractiveTB.structured_traceback(etype,\n\u001b[0;32m-> 2047\u001b[0;31m                                             value, tb, tb_offset=tb_offset)\n\u001b[0m\u001b[1;32m   2048\u001b[0m \u001b[0;34m\u001b[0m\u001b[0m\n\u001b[1;32m   2049\u001b[0m                     \u001b[0mself\u001b[0m\u001b[0;34m.\u001b[0m\u001b[0m_showtraceback\u001b[0m\u001b[0;34m(\u001b[0m\u001b[0metype\u001b[0m\u001b[0;34m,\u001b[0m \u001b[0mvalue\u001b[0m\u001b[0;34m,\u001b[0m \u001b[0mstb\u001b[0m\u001b[0;34m)\u001b[0m\u001b[0;34m\u001b[0m\u001b[0;34m\u001b[0m\u001b[0m\n",
      "\u001b[0;32m/usr/local/lib/python3.6/dist-packages/IPython/core/ultratb.py\u001b[0m in \u001b[0;36mstructured_traceback\u001b[0;34m(self, etype, value, tb, tb_offset, number_of_lines_of_context)\u001b[0m\n\u001b[1;32m   1434\u001b[0m             \u001b[0mself\u001b[0m\u001b[0;34m.\u001b[0m\u001b[0mtb\u001b[0m \u001b[0;34m=\u001b[0m \u001b[0mtb\u001b[0m\u001b[0;34m\u001b[0m\u001b[0;34m\u001b[0m\u001b[0m\n\u001b[1;32m   1435\u001b[0m         return FormattedTB.structured_traceback(\n\u001b[0;32m-> 1436\u001b[0;31m             self, etype, value, tb, tb_offset, number_of_lines_of_context)\n\u001b[0m\u001b[1;32m   1437\u001b[0m \u001b[0;34m\u001b[0m\u001b[0m\n\u001b[1;32m   1438\u001b[0m \u001b[0;34m\u001b[0m\u001b[0m\n",
      "\u001b[0;32m/usr/local/lib/python3.6/dist-packages/IPython/core/ultratb.py\u001b[0m in \u001b[0;36mstructured_traceback\u001b[0;34m(self, etype, value, tb, tb_offset, number_of_lines_of_context)\u001b[0m\n\u001b[1;32m   1334\u001b[0m             \u001b[0;31m# Verbose modes need a full traceback\u001b[0m\u001b[0;34m\u001b[0m\u001b[0;34m\u001b[0m\u001b[0;34m\u001b[0m\u001b[0m\n\u001b[1;32m   1335\u001b[0m             return VerboseTB.structured_traceback(\n\u001b[0;32m-> 1336\u001b[0;31m                 \u001b[0mself\u001b[0m\u001b[0;34m,\u001b[0m \u001b[0metype\u001b[0m\u001b[0;34m,\u001b[0m \u001b[0mvalue\u001b[0m\u001b[0;34m,\u001b[0m \u001b[0mtb\u001b[0m\u001b[0;34m,\u001b[0m \u001b[0mtb_offset\u001b[0m\u001b[0;34m,\u001b[0m \u001b[0mnumber_of_lines_of_context\u001b[0m\u001b[0;34m\u001b[0m\u001b[0;34m\u001b[0m\u001b[0m\n\u001b[0m\u001b[1;32m   1337\u001b[0m             )\n\u001b[1;32m   1338\u001b[0m         \u001b[0;32melif\u001b[0m \u001b[0mmode\u001b[0m \u001b[0;34m==\u001b[0m \u001b[0;34m'Minimal'\u001b[0m\u001b[0;34m:\u001b[0m\u001b[0;34m\u001b[0m\u001b[0;34m\u001b[0m\u001b[0m\n",
      "\u001b[0;32m/usr/local/lib/python3.6/dist-packages/IPython/core/ultratb.py\u001b[0m in \u001b[0;36mstructured_traceback\u001b[0;34m(self, etype, evalue, etb, tb_offset, number_of_lines_of_context)\u001b[0m\n\u001b[1;32m   1209\u001b[0m         \u001b[0;32mwhile\u001b[0m \u001b[0mevalue\u001b[0m\u001b[0;34m:\u001b[0m\u001b[0;34m\u001b[0m\u001b[0;34m\u001b[0m\u001b[0m\n\u001b[1;32m   1210\u001b[0m             formatted_exceptions += self.format_exception_as_a_whole(etype, evalue, etb, lines_of_context,\n\u001b[0;32m-> 1211\u001b[0;31m                                                                      chained_exceptions_tb_offset)\n\u001b[0m\u001b[1;32m   1212\u001b[0m             \u001b[0mexception\u001b[0m \u001b[0;34m=\u001b[0m \u001b[0mself\u001b[0m\u001b[0;34m.\u001b[0m\u001b[0mget_parts_of_chained_exception\u001b[0m\u001b[0;34m(\u001b[0m\u001b[0mevalue\u001b[0m\u001b[0;34m)\u001b[0m\u001b[0;34m\u001b[0m\u001b[0;34m\u001b[0m\u001b[0m\n\u001b[1;32m   1213\u001b[0m \u001b[0;34m\u001b[0m\u001b[0m\n",
      "\u001b[0;32m/usr/local/lib/python3.6/dist-packages/IPython/core/ultratb.py\u001b[0m in \u001b[0;36mformat_exception_as_a_whole\u001b[0;34m(self, etype, evalue, etb, number_of_lines_of_context, tb_offset)\u001b[0m\n\u001b[1;32m   1148\u001b[0m \u001b[0;34m\u001b[0m\u001b[0m\n\u001b[1;32m   1149\u001b[0m \u001b[0;34m\u001b[0m\u001b[0m\n\u001b[0;32m-> 1150\u001b[0;31m         \u001b[0mlast_unique\u001b[0m\u001b[0;34m,\u001b[0m \u001b[0mrecursion_repeat\u001b[0m \u001b[0;34m=\u001b[0m \u001b[0mfind_recursion\u001b[0m\u001b[0;34m(\u001b[0m\u001b[0morig_etype\u001b[0m\u001b[0;34m,\u001b[0m \u001b[0mevalue\u001b[0m\u001b[0;34m,\u001b[0m \u001b[0mrecords\u001b[0m\u001b[0;34m)\u001b[0m\u001b[0;34m\u001b[0m\u001b[0;34m\u001b[0m\u001b[0m\n\u001b[0m\u001b[1;32m   1151\u001b[0m \u001b[0;34m\u001b[0m\u001b[0m\n\u001b[1;32m   1152\u001b[0m         \u001b[0mframes\u001b[0m \u001b[0;34m=\u001b[0m \u001b[0mself\u001b[0m\u001b[0;34m.\u001b[0m\u001b[0mformat_records\u001b[0m\u001b[0;34m(\u001b[0m\u001b[0mrecords\u001b[0m\u001b[0;34m,\u001b[0m \u001b[0mlast_unique\u001b[0m\u001b[0;34m,\u001b[0m \u001b[0mrecursion_repeat\u001b[0m\u001b[0;34m)\u001b[0m\u001b[0;34m\u001b[0m\u001b[0;34m\u001b[0m\u001b[0m\n",
      "\u001b[0;32m/usr/local/lib/python3.6/dist-packages/IPython/core/ultratb.py\u001b[0m in \u001b[0;36mfind_recursion\u001b[0;34m(etype, value, records)\u001b[0m\n\u001b[1;32m    449\u001b[0m     \u001b[0;31m# first frame (from in to out) that looks different.\u001b[0m\u001b[0;34m\u001b[0m\u001b[0;34m\u001b[0m\u001b[0;34m\u001b[0m\u001b[0m\n\u001b[1;32m    450\u001b[0m     \u001b[0;32mif\u001b[0m \u001b[0;32mnot\u001b[0m \u001b[0mis_recursion_error\u001b[0m\u001b[0;34m(\u001b[0m\u001b[0metype\u001b[0m\u001b[0;34m,\u001b[0m \u001b[0mvalue\u001b[0m\u001b[0;34m,\u001b[0m \u001b[0mrecords\u001b[0m\u001b[0;34m)\u001b[0m\u001b[0;34m:\u001b[0m\u001b[0;34m\u001b[0m\u001b[0;34m\u001b[0m\u001b[0m\n\u001b[0;32m--> 451\u001b[0;31m         \u001b[0;32mreturn\u001b[0m \u001b[0mlen\u001b[0m\u001b[0;34m(\u001b[0m\u001b[0mrecords\u001b[0m\u001b[0;34m)\u001b[0m\u001b[0;34m,\u001b[0m \u001b[0;36m0\u001b[0m\u001b[0;34m\u001b[0m\u001b[0;34m\u001b[0m\u001b[0m\n\u001b[0m\u001b[1;32m    452\u001b[0m \u001b[0;34m\u001b[0m\u001b[0m\n\u001b[1;32m    453\u001b[0m     \u001b[0;31m# Select filename, lineno, func_name to track frames with\u001b[0m\u001b[0;34m\u001b[0m\u001b[0;34m\u001b[0m\u001b[0;34m\u001b[0m\u001b[0m\n",
      "\u001b[0;31mTypeError\u001b[0m: object of type 'NoneType' has no len()"
     ]
    }
   ],
   "source": [
    "joint_attacks = generate_ds_attacks(reddit_sample_valid_ds, join_model, join_model_tokenizer, 'masked_premises', None, gen_kwargs)\n",
    "known_conc_attacks  = generate_ds_attacks(reddit_sample_valid_ds, known_conclusion_model, known_conclusion_tokenizer, 'masked_premises', 'title', gen_kwargs)\n",
    "bart_conc_attacks   = generate_ds_attacks(reddit_sample_valid_ds, known_conclusion_model, known_conclusion_tokenizer, 'masked_premises', 'bart_conclusion', gen_kwargs)\n",
    "masked_conc_attacks = generate_ds_attacks(reddit_sample_valid_ds, known_conclusion_model, known_conclusion_tokenizer, 'masked_premises', None, gen_kwargs)\n",
    "joint_conc_baseline_attacks  = generate_ds_attacks(reddit_sample_valid_ds, pred_conclusion_model, pred_conclusion_tokenizer, 'masked_premises', None, gen_kwargs, skip_special_tokens=False)\n",
    "#This model would predict the conclusion and then the counter in one sequence."
   ]
  },
  {
   "cell_type": "code",
   "execution_count": 18,
   "metadata": {},
   "outputs": [],
   "source": [
    "reddit_pred_df = pd.DataFrame(list(zip(\n",
    "                                       reddit_sample_valid_ds['post_id'],\n",
    "                                       reddit_sample_valid_ds['title'], \n",
    "                                       reddit_sample_valid_ds['conclusion_targets'],\n",
    "                                       reddit_sample_valid_ds['conclusion_stance'],\n",
    "                                       reddit_sample_valid_ds['bart_conclusion'], \n",
    "                                       reddit_sample_valid_ds['masked_premises'],\n",
    "                                       reddit_sample_valid_ds['counter'], \n",
    "                                       known_conc_attacks, masked_conc_attacks, \n",
    "                                       bart_conc_attacks, joint_attacks, joint_conc_baseline_attacks)), \n",
    "                columns=['post_id', 'conclusion', 'conclusion_target', 'conclusion_stance', 'bart_conclusion', 'premises', 'gt_attack', 'known_conc_attacks', \n",
    "                         'masked_conc_attacks', 'bart_conc_attacks', 'joint_conc_attacks', 'joint_conc_baseline_attacks'])\n",
    "\n",
    "reddit_pred_df['argument'] = reddit_pred_df.apply(lambda row: row['conclusion'] + ' : ' + ' '.join(row['premises']), axis=1)\n",
    "reddit_pred_df['premises'] = reddit_pred_df['premises'].apply(lambda x: ' '.join(x))\n",
    "\n",
    "#process the jointly generated conclusion and counter\n",
    "reddit_pred_df['joint_conc_baseline'] = reddit_pred_df['joint_conc_baseline_attacks'].apply (lambda x: x.split('<counter>')[0])\n",
    "reddit_pred_df['joint_conc_baseline_attacks'] = reddit_pred_df['joint_conc_baseline_attacks'].apply (lambda x: x.split('<counter>')[1] if '<counter>' in x else x)\n",
    "reddit_pred_df['joint_conc_baseline'] = reddit_pred_df['joint_conc_baseline'].apply (lambda x: re.sub('<s>|</s>|<conclusion>|<counter>|<pad>', '', x).strip())\n",
    "reddit_pred_df['joint_conc_baseline_attacks'] = reddit_pred_df['joint_conc_baseline_attacks'].apply (lambda x: re.sub('<s>|</s>|<conclusion>|<counter>|<pad>', '', x).strip())\n",
    "\n",
    "#save created pred_df\n",
    "reddit_pred_df.to_pickle('../data/output/reddit_pred_df-nosample.pkl')"
   ]
  },
  {
   "cell_type": "markdown",
   "metadata": {},
   "source": [
    "### Evaluate generated predictions:"
   ]
  },
  {
   "cell_type": "code",
   "execution_count": 16,
   "metadata": {},
   "outputs": [],
   "source": [
    "reddit_pred_df = pd.read_pickle('../data/output/reddit_pred_df-nosample.pkl')"
   ]
  },
  {
   "cell_type": "code",
   "execution_count": 17,
   "metadata": {
    "scrolled": true,
    "tags": []
   },
   "outputs": [
    {
     "data": {
      "text/html": [
       "<div>\n",
       "<style scoped>\n",
       "    .dataframe tbody tr th:only-of-type {\n",
       "        vertical-align: middle;\n",
       "    }\n",
       "\n",
       "    .dataframe tbody tr th {\n",
       "        vertical-align: top;\n",
       "    }\n",
       "\n",
       "    .dataframe thead th {\n",
       "        text-align: right;\n",
       "    }\n",
       "</style>\n",
       "<table border=\"1\" class=\"dataframe\">\n",
       "  <thead>\n",
       "    <tr style=\"text-align: right;\">\n",
       "      <th></th>\n",
       "      <th>argument</th>\n",
       "      <th>conclusion</th>\n",
       "      <th>joint_conc_baseline</th>\n",
       "      <th>masked_conc_attacks</th>\n",
       "      <th>known_conc_attacks</th>\n",
       "      <th>joint_conc_baseline_attacks</th>\n",
       "      <th>joint_conc_attacks</th>\n",
       "    </tr>\n",
       "  </thead>\n",
       "  <tbody>\n",
       "    <tr>\n",
       "      <th>1682</th>\n",
       "      <td>The LGBTQ+ reaction to Rita Ora's 'Girls' shows they just look for any excuse to be annoyed with the world : the lgbtq crowd have spent the last few years on social media complaining they are ignored, now rita ora released a song somewhat related to them and she sings about how she likes to drink wine and kiss girls they complain about this and state she shouldn't be mentioning anything about their sexuality. so many think of lgbtq people are being constant drama queens, addicted to complaining for any small thing and just generally like to make people who are not saying they are lgbtq feel terrible how is this latest episode supposed to change that perception?</td>\n",
       "      <td>The LGBTQ+ reaction to Rita Ora's 'Girls' shows they just look for any excuse to be annoyed with the world</td>\n",
       "      <td>Rita ora's latest episode is a good thing</td>\n",
       "      <td>i think the lgbtq crowd is a bit of a dickhead. they are not the only people who are lgq. they're the ones who are not lggbt. they aren't the only ones who aren't lgbq.</td>\n",
       "      <td>i think the problem with this is that it's a very common thing for people to complain about. it's not like they're complaining about anything, it's that they're annoyed with the world. it is like they are complaining about the world, but they're not complaining about it.</td>\n",
       "      <td>i think it's important to note that rita oras is a very vocal vocalist and has a very strong voice. she's a vocalist who has a strong voice and is very vocal about her sexuality. she has a lot of support from her fans and has been very vocal in her support of the LGBTQ community. i think she's been very successful in getting people to listen to her and her voice. i'm not sure if she's going to be able to change the perception of the lgbtq community, but i think it is important to remember that she's not a vocal vocalizer.</td>\n",
       "      <td>i think you're missing the point. i think you've already mentioned that the lgbtq community is a very vocal group. i don't think it's a group that is trying to make a statement about their sexuality. i'm not sure if you're aware of the fact that they're a group, but i think it is a group.</td>\n",
       "    </tr>\n",
       "    <tr>\n",
       "      <th>1562</th>\n",
       "      <td>An overweight personal trainer is a big red flag and should generally be avoided : the title is a generality and there are more nuances to my position, so please read before responding i feel like it would take a long time to precisely refine my position, so i will refine it a bit in the comments 1 i am speaking specifically of personal trainers whose focus is on general fitness, which involves maintaining a healthy body compositions this is often the primary goal among the general population who might seek out a personal trainer 2 i am not talking about strength training coaches or other coaches who may have deep knowledge about lifting weights gymnastics, etc. but may also be quite fat 3 i am also not talking about a type of person who has a condition where extra fat can't be helped this is rare and does not account for the majority of fat trainers i have no defined 'fat' here, but for now, let's just say that we know it when we see it having a substantially beer belly or being clinically obese would definitely qualify as fat in my estimation that said, you don't need to have six pack abs to be a healthy weight they may, for example, have post pregnancy weight or just generally be a thicker person if a fat person is a personal trainer who advertises themself as someone who can help their client maintain a healthy body composition, it leads to the question, 'why can't or why don't they maintain a healthy body weight themself? ' generally, there are a few reasons: 1 the program that they promote does not work 2 the program that they promote is too hard to adhere to 3 the program that they promote is effective not too hard to adhere to, but the trainer has low personal ability to adhere 4 the trainer is inexperienced and a newcomer to fitness themself, in which case they are probably not a good fitness advisor of the above, number 3 would be the best case scenario, but it's still bad and would make many clients question the efficacy of the program and knowledge of the trainer i realize that body composition is largely a factor of what you eat, but most personal trainers include some advising on that as well even the fattest among us should be free to seek training certification i would just say that it is a red flag for a potential client if their personal trainer fat and out of shape without extenuating circumstances . to convince me otherwise, you'd have to show how a personal trainer being fat barring medical or similar reasons is not a poor reflection of their practices</td>\n",
       "      <td>An overweight personal trainer is a big red flag and should generally be avoided</td>\n",
       "      <td>I believe that a personal trainer who advertises themself as a fitness advisor is a bad fitness advisor.</td>\n",
       "      <td>i think you're missing the point. i'm not saying that a personal trainer is bad, but that they are bad. i think that they're bad at their job.</td>\n",
       "      <td>i think the problem with your view is that it's not a red flag. it's a red flags that you're not aware of.</td>\n",
       "      <td>i think you're missing the point. if you're a personal trainers, you're not going to be able to get a good personal trainer.</td>\n",
       "      <td>i think it's important to note that a personal trainer is not a doctor. they are a personal coach. they have a job. they do not have a personal training program. they don't have a training program that they promote. they just have a program that is not designed for them. they also have a specific training program for them that they are not trained for. they're not trained to be a doctor, they're trained to do what they're told. they aren't trained to teach you how to do. they teach you about how to be healthy. they can teach you to be good at it. they know how to teach. they've been trained to help you. they'll teach you what to do, they'll help you learn how to use your body. they will teach you the basics of how to get healthy.</td>\n",
       "    </tr>\n",
       "    <tr>\n",
       "      <th>1809</th>\n",
       "      <td>I think homosexuality is/ should be classified as a mental disorder. : i recently posted on r nostupidquestions and got a lot of replies that didn't change my mind, but they suggested i try here. just to be clear i don't hate or judge homosexuals, i just believe it to be a mental disorder. in my mind, i believe that the biological purpose of all living things, humans included, is to survive and reproduce. i also believe that the primary purpose of sex sexual attraction is to reproduce. with that being said i acknowledge that homosexuality is not considered a choice, i wouldn't know because i am not a homosexual, but i agree with that premise. in final, i believe that if a human is born with the lack of attraction to a suitable mating partner, that it would have to be caused by some misdevelopment or chemical unbalance in the individual's brain. further more, i have learned that the definition of a mental disorder must include some form of harm to the individual suffering, and i believe homosexuality is no different. aside from lacking the means to reproduce mentally, not physically , i understand that homosexuals are at risk for higher suicide rates and are more susceptible to specific std i's. lastly i would like to reiterate that i mean no hate or insults, this is just my view on the situation. that being said i am happy to see if anyone can help change my view :</td>\n",
       "      <td>I think homosexuality is/ should be classified as a mental disorder.</td>\n",
       "      <td>Homosexuality is a mental disorder</td>\n",
       "      <td>i think you're missing the point. i think the main problem with your view is that it's not a choice. it's a choice, and it's the choice of the person. if you're a homosexual, you're not a person. you're just a person who is attracted to a certain group of people. if a person is attracted, they're not attracted to that group of individuals. if they're attracted to someone, they are attracted to them. if someone is attracted and they're interested in that person, they will be attracted to the person, and they will have a lot of fun with that person.</td>\n",
       "      <td>i think homosexuality is a mental disorder. it's not a mental illness. it is a disorder.</td>\n",
       "      <td>i think you're missing the point. i think you are missing the whole point of the argument. i'm not sure why you think that's a problem. i don't think that it's a mental illness. i mean, i think it's not a mental disease. i do think that there are some mental disorders that are caused by the lack of sexual attraction. i would say that it is a psychological disorder. i am not sure if you're aware of any mental disorders, but i think that you're right. i have a lot of questions about the mental disorder.</td>\n",
       "      <td>i think it's important to note that i'm not a homosexual, but i think it is a mental disorder. i think that it's a mental illness, and i think the problem is that it is not a biological disorder. it's not a mental disease. it is just a mental condition.</td>\n",
       "    </tr>\n",
       "    <tr>\n",
       "      <th>15</th>\n",
       "      <td>The relative progressiveness and acceptance that most diasporic Judaism supports is the result of historical marginalization, not fundamental differences from other Abrahamic religions. : i write this as a jew, a fairly observant one. i love that judaism, particularly diaspora judaism, supports acceptance and tolerance. however, i believe that these good qualities are the result of historic marginalization, not fundamental differences in doctrine compared to other abrahamic religions. while it is absolutely true that jewish religious texts support charity and kindness, so do the texts of christianity and islam. it can also be seen that in the instances where a jewish kingdom or majority society has been established, these principals of kindness are often ignored. this can be seen as far back as the hasmonean dynasty founded by the maccabees . the maccabees did not rebel to create religious freedom. they rebeled to impose judaism on those in the kingdom. you see similar trends in many states that are dominated by christians and muslims. that is to say, in nations with a heavy majority of any abrahamic religion, features of religious doctrines that call for charity and acceptance are often ignored. rather, i propose that the acceptance that much of mainstream diasporic judaism promotes is the result of historic marginalization and discrimination suffered until the mid twentieth century.</td>\n",
       "      <td>The relative progressiveness and acceptance that most diasporic Judaism supports is the result of historical marginalization, not fundamental differences from other Abrahamic religions.</td>\n",
       "      <td>The acceptance of Judaism is the result of historic marginalization and discrimination suffered until the mid-20th century</td>\n",
       "      <td>i think you're missing the point. judaism is a religion that promotes kindness and tolerance. it's a religion which promotes kindness, tolerance, and tolerance, but it's not a religion of tolerance. judas are not a religious religion. they are a religion, and they are not religious. they're a religion. judsa is a religious movement that promotes tolerance and tolerance and is a way of promoting tolerance and acceptance. it is a movement that is not a movement. it isn't a movement, it's an ideology. it doesn't have a specific ideology, but a specific set of values. it has a specific purpose. it can be a religion or a religion and it can have a particular purpose. judanism is not about tolerance or tolerance.</td>\n",
       "      <td>i think you're missing the point. judaism is a religion that promotes tolerance and acceptance. it's a religion which promotes tolerance, acceptance, and tolerance. it is a religious religion that encourages tolerance and tolerance, and it's not a religion of tolerance. judanism is not a religious movement. it isn't a religion. it just promotes tolerance.</td>\n",
       "      <td>i think that the judaism you are describing is a very different kind of juda. it is a religion that is based on the teachings of the abrahamic religion. it has a very specific set of teachings that are based on a very narrow set of beliefs. i think that juda is a good example of this.</td>\n",
       "      <td>i think that the main difference between judaism and other judaisms is that it is a very different religion than the other religions. i think that it's a very important distinction between the two. i don't think that judaists are the same as other religions, but i think they are the opposite of the other two.</td>\n",
       "    </tr>\n",
       "    <tr>\n",
       "      <th>2061</th>\n",
       "      <td>The twitch community is sexist : i think it's widely 'accepted' among the twitch community that twitch as a company is a bit sexist in favor of females. giving grants to women streamers, not banning women for the same mistakes a male streamer made, allowing 'titty streamers' to prosper on their site. i won't disagree that it definitely seems like some favoritism is going on here. however, i think the twitch community, in retaliation of twitch's forced 'progressiveness,' has become increasingly sexist. it's one thing to not like the female streamers who get all of their views solely off of suggestive clothing or suggestive actions. that, imo, is a very real problem on twitch. but it seems like for many users, this has been bastardized and basically morphed into hating all women streamers. example a, livestreamfail thread about female streamer pokimane 'physically abusing' a man' physically abuses fedmyster live on there's a mirror in the comments : many of the comments on that thread are saying shit like 'if the roles were reversed ' 'wow i can't believe she got away with that', or 'the behavior of a female who lives life on tutorial mode and doesn't think the same rules apply to her. with large amounts of upvotes. if you watch the video, it was a playful punch on the shoulder. example b, livestreamfail thread about female streamer fauxre making comments on other 'titty streamers' gives her opinion about why amouranth : upvoted comments in the thread: 'ironically this girl only has views because she is pretty and sitting in irl showing off her cute face and appeals to men, and that's about it. think she would have 200 viewers if she was a dude? no. hardly ever plays a video game. ' or 'i wonder if she tells people that what she 'does' on twitch is sitting in front of camera looking pretty and talking to lonely guys who give her money. ' if you watch the video, she is a modestly dressed woman streaming in the appropriate section of twitch irl and is being ridiculed solely because she's pretty. whether or not you think her content is entertaining is one thing, but this is literally just putting her down because she's a girl. and that's what it boils down to: if you're a female streamer it seems to be a lose lose. you're either 'only popular because of your looks' or you'll get ridiculed by twitch users for being unattractive. hell, even pretty attractive females on twitch are still made fun of for their looks. tyler1's girlfriend macaiyla gets roasted all the time for having a big chin, and she's not even a streamer maybe she i ? i could be wrong while i do thing twitch is taking things a bit too far by playing favorites with some of the female streamers, i think the users have become even more sexist, because many are at a point where they equate attractive female to 'titty streamer' rather than looking at a female streamer in an objective wa . cm</td>\n",
       "      <td>The twitch community is sexist</td>\n",
       "      <td>I think the Twitch community has become increasingly sexist.</td>\n",
       "      <td>i think the problem with this is that it's not just about the female streamer. it's about the male streamer who is the most popular. the female is the one who is most popular because of her looks. the male is the only one who has the ability to be popular because he is attractive. the women are the ones who are the most successful because they are the only ones who have the ability and the ability for the most popularity. the men are the people who are most popular, and the women who are popular are the women that are the best. the only thing that is not popular is the female. the majority of people who watch the female streams are the men who are not popular because they have the same looks as the male. the people that watch the male streams are not the ones that are popular because the male ones are popular.</td>\n",
       "      <td>i think the thread is sexist because it's a male dominated subreddit. it's not sexist because the majority of the people who are on the subreddit are male. it is sexist for the majority to be male dominated.</td>\n",
       "      <td>i think it's important to note that the thread is not a discussion of the gender of the streamer. it's a discussion about the gender roles of the female streamer, and the gender role of the male streamer is a matter of opinion.</td>\n",
       "      <td>i think you're missing the point. i think the reason that the twitch community is sexist is because it's a company. it's not a company that is sexist. it is a company, and it's the company that has the power to make a change. it has the ability to make changes to the way it works. it can make a difference in how people view the world. it could make a huge difference in the way people view things.</td>\n",
       "    </tr>\n",
       "    <tr>\n",
       "      <th>1000</th>\n",
       "      <td>I find it somewhat suspicious that when feminists/progressives/liberals talk about gender parity/equality in the workplace seem to focus almost exclusively on STEM, politics, and CEO/high-level leadership positions. : just to define terms, 'gender parity equality in the workplace' here refers to having an equal amount of men and women in the workplace, or at least representation that reflects the gender demographics of the surrounding area. i understand that equality in the workplace is sometimes used to refer to, say, the issue of workplace harassment, and i take no issue with that, but it's not what i'm looking to address here. also just to clarify, this post isn't about the value of having more women in certain fields be it from a social justice point of view, a profit driven motive, or both and it isn't about the reasons why there might be more women in some fields and more men in others e. g. life work balance, women more interested in people men more interested in things, etc. . there's a lot of good discussion to be had over those two subjects, but i feel they'd be fairly off topic here. correct me if i'm wrong about that. right, so, pretty much every time i hear about the lack of gender equality in the workplace, the workplaces in question are almost invariably stem, politics, or ceo high level leadership positions which i'll shorten to just 'ceo' for the remainder of this post . when i specifically look for evidence that there's a push to get more women into other areas, like, say, construction, i can sometimes find evidence of it. but it seems far less prevalent and reported on discussed by less mainstream outlets companies than stem politics and ceo positions. and this makes me suspicious of the motives of people who claim to care about gender equality in the workplace while only focusing on these fields. as far as professions go, the three in question don't tend to employ large numbers of people. as far as gender disparities go the three fields in question aren't even the most egregious offenders: there's been much lamentation about how women only account for about a quarter of all stem positions, so surely there should be even greater outrage over the fact they only make up 1 of, say auto mechanics. well, where is it? where are all the forbes and cnbc and apa articles about the lack of female auto mechanics? where's the un initiative to get more women working on cars for a living? now to my main point straightens tin foil hat : call me crazy but i think those people who claim to care about gender equality in the workplace but focus primarily if not exclusively on stem, politics, and ceo positions have some ulterior motives. what those three fields all have in common is that they're some combination of high earning, high prestige, and high influence. if you want workplace equality in principle, it'd make sense to target pretty much any field with an imbalance, and arguably those fields that employ larger numbers of people with more egregious gender disparities than stem, politics, and ceos. there are much bigger fish out there in need of frying. and i think the reason these three smaller fish have been chosen has less to do with true gender equality and more with wanting to shoehorn women into positions that garner wealth, status, and or power. do you think, for example, that the reason feminists progressives liberals tend to focus on the lack of female ceos and not the lack of female electricians might, just might have something to do with the fact ceos average annual takehome is like 15x what electricians make? do you think the comparative repute and power that comes with working in politics might be the reason they've honed in on politics and not sewage treatment? in short, when feminists progressives liberals focus on the three fields in question beyond all others, the message they're sending out isn't that they care about workplace equality, it's that they want women to have the good jobs. the dangerous, physically demanding, thankless, low paying, low influence jobs? nahh. men can keep those. as a semi related aside i think it's also rather telling that people who claim to care about gender equality generally only seem to care about fields that are male dominated. there doesn't seem to be a lot of effort to, say, get more men into nursing, or even facets of stem that women dominate. one counterargument i've thought of might be that if we want to enact more gender equality at the 'top level,' so to speak, in order to enact change throughout the workforce as a whole. 'trickle down gender equality,' if you will. i think this is unconvincing for two reasons: first, because ime trickle down anything rarely seems to work, but second, and mainly, because while i could see how getting more female ceos or stem professionals is a great first step to getting even more female ceos or stem professionals aspiring women would have more female role models, like minded mentors mentors, see the fields as less hostile to women, etc. , i don't see how that could or would translate across professions. in short i don't see how getting more women in stem will automatically result in more female truckers, or how getting more female ceos will increase the female presence in mining. to cmv i'm basically looking for some reason why it's justified for those claiming to champion workplace equality to be so laser locked on three specific fields. if they claim to care about workplace equality and think it's not just a good thing for social justice reasons but also just makes good business sense, why are those the three fields that they focus on almost exclusively? or, of course, some other cmving explanation i haven't thought of. but that's why you're here. y'all know what to do. cheers.</td>\n",
       "      <td>I find it somewhat suspicious that when feminists/progressives/liberals talk about gender parity/equality in the workplace seem to focus almost exclusively on STEM, politics, and CEO/high-level leadership positions.</td>\n",
       "      <td>People who claim to care about gender equality in the workplace have some ulterior motives</td>\n",
       "      <td>i think you're missing the point. i think the main point is that there are a lot of things that are important to the advancement of women in the workplace. for example, if you want to be a doctor, you have to be able to get a job. if you're going to be an engineer, you need to be willing to work in a field that is not dominated by men. if your job is to be in a position where you're not able to be the doctor, then you have a job that you have no control over. if a doctor is not able or willing to be involved in a job, then they have to hire you. if they are able to hire someone, they have a responsibility to make sure that they are not doing something that is harmful to the environment. if the doctor is able to make a decision that is detrimental to the health of the patient, then that is a good thing. if he is able, he can make a choice</td>\n",
       "      <td>i think you're missing the point. i think the main point of feminism is to focus on the issues that are most important to women. i'm not sure if you're aware of the issue of gender equality in the workplace, but i think it's important to note that the issue is not about gender equality. it's about the issue that women are more likely to be in the workforce than men. the issue isn't that women aren't in the job, but that men are more often in the position of leadership. the problem is that women don't have the same opportunities as men. women are often more likely than men to be involved in the work of men. this is a problem that is not unique to feminism. it is a symptom of the problem that women have in the field of engineering. it isn't about the lack of women in the industry, but rather the lack in the number of women who are in the profession. the problems with this are that women tend</td>\n",
       "      <td>i think you're missing the point. i think it's important to note that the majority of people who claim that they care about the gender equality of the workplace are actually just trying to make a profit.</td>\n",
       "      <td>i think you're missing the point. i think it's important to note that the term 'gender parity' is not a specific term. it's a term that is used to refer to a specific group of people, and it's not a general term. i don't think it is a specific word, but it's used to describe a group of individuals, and i think that's a pretty common term.</td>\n",
       "    </tr>\n",
       "    <tr>\n",
       "      <th>1566</th>\n",
       "      <td>Imperialism is completely inevitable, if not desirable. : tl;dr anti imperialism is an impossible ideology, not all nations are equal and thus not all nations deserve power, territory and resources, and imperialism is the only way for a country to grow, prosper and dominate effectively . now of course, i take a slightly more broader definition of 'imperialism', as i define it as basically synonymous with hegemony and one country controlling another country by force or through threat of force rather than simply the acquisition of territory . i've heard a lot recently about left leaning people and even right leaning people being fiercely anti war, anti imperial, anti interventionist, pro self deterimination and so on. my personal opinion is that imperialism is inevitable, if not desirable. for the first part, i'll explain why i think it is inevitable: i believe that a world without countries violently coercing each other is impossible, as different countries have different cultures, ideologies and ideas. countries are also inherently unequal, and some are more powerful than others. most countries also have a sense of self preservation. thus, you will always have one country violently coercing another and forcing it to adopt certain ideas in order to survive. the relationships between states are completely anarchistic, as there is no world government to enforce international rules. there are international agreements, but they aren't the same thing. there is also the simple fact that imperialism has had massive positive benefits that obviously can't be ignored, as coercing other countries to do what is good for your own country, yet bad for theirs, is still good for yours, regardless. even today, among supposedly 'anti imperialistic' countries such as the us, china, russia etc, they are imperialistic in every single way imaginable even communist china, ironically . they have to be, otherwise they themselves would become weaker and taken advantage of by another state that was imperialistic. there is no 'third option'. they must continue to puppet, coerce, sanction and expand in order to survive. as to why it is desirable: i personally don't believe in 'self determination', as it is an ideology that assumes that all nations deserve equal power, resources and territory, which i strongly disagree with. in order to preserve and expand the best cultures, ideologies and ideas, you have to get them to compete, and the ultimate competition is war. thus in this winner takes all world, the country with the most effective culture, ideology, government etc can conquer territory and resources so as to keep expanding that ideology and allow humanity to develop. treating all nations equally is a mistake and a waste of limited resources.</td>\n",
       "      <td>Imperialism is completely inevitable, if not desirable.</td>\n",
       "      <td>Imperialism is inevitable, if not desirable.</td>\n",
       "      <td>i think you're missing the point. i think the problem with imperialism is that it's not about the individual, but rather the group of people that are the most powerful. the idea that all nations deserve equal power is not a good one. it's about the group that is the strongest. the group is the group which is the most strong. the people who are the strongest are the ones who are most powerful, and the group who are strongest are those who are weakest. the groups that are strongest and strongest are also the ones that are most strong, and are the people that have the most power. the problem is that the group you're talking about is the one that is strongest, and that is what is the problem. the thing is that you're not talking about the people in the group, but the people you're referring to. the world is a very complex place. the only way to get to the point where you can get to that point is to have a</td>\n",
       "      <td>i think you're missing the point. i think the problem with imperialism is that it's not about the people, it's about the countries. the people are the people. the countries are the ones that are the most powerful. the only way to stop imperialism is to force them to do what they want. the problem is that the people who are the strongest are the only ones who are able to do it. the world is a very complex place. the us is a huge power. it's a very large power. the vast majority of the world's population is not able to control the world. the majority of people in the world are not able or willing to do anything to stop it. so, the world has to be a very different place.</td>\n",
       "      <td>i think you're missing the point. i think the point is that the idea of 'imperialism' is a very complex one. it's not a very complicated one. i'm not sure if you're aware of the fact that the concept of 'emperialism', or that it's a very difficult one to define. i don't think it's an impossible one.</td>\n",
       "      <td>i think you're missing the point. i think you are missing the whole point. the point is that the world is not a 'world' but a 'nation'. the world isn't a 'one world'. it's a 'great' world. it's not a world. the world has a great place. it is a world where we can have a great time. it has a lot of great things to offer. it can be a great world.</td>\n",
       "    </tr>\n",
       "    <tr>\n",
       "      <th>492</th>\n",
       "      <td>Society inherently favors the majority, and that isn’t a problem : society is inherently biased towards the majority, but this isn t a problem because we have certain obligations in place. many groups, such as people with allergies, disabilities, and non traditional gender identities require special treatment, but are very small. society has a duty to accommodate them, but within practical limits. as long as we uphold each individual s freedom to express their identity free of prejudice and harassment, we fulfill our responsibilities to these groups. religion is one example: though the u. s. has freedom of religion, it s overwhelmingly christian, which seeps into culture and attitudes. you don t have to celebrate christmas, but you still have to put up with all the christmas decorations and music all over the place. does this result in true religious equality? i would say no: although we ve become more secular, there is significant cultural pressure in favor of christianity. but, if you want to be a muslim or hindu, you are free to do so the majority culture at large doesn t and shouldn t infringe on this freedom. let s take gender and pronouns as another example here. the majority of us are heterosexual cisgender men and women. like with religion, our cultural norms reflect that. but, that isn t inherently a bad thing. now, i am totally in favor of passive solutions, such as gender neutral bathrooms, pronoun friendly designated spaces, and other options alongside male and female for gender information. these are great things acknowledging that not everyone fits our norms, and that s ok. but i think in everyday interactions, abolishing all gender pronoun assumptions is extreme. for context, i m in the military, and we address each other as sir ma am based on appearance. this is a rule, but we also respect each other. i m sure if anyone had an issue with these titles, they could speak up and we d accommodate them. i don t see why this approach shouldn t work for society at large: create a respectful environment, but solve on a case by case basis. thus, there s no need to dismantle societal norms to deal with a few rare cases. nearly all the time, a person s gender identity matches their appearance. this is empirically true. if there s ambiguity, sure, don t assume. if you make a mistake, apologize and move on. case by case. simple as a name correction. someone else s identity is none of your business. but a few exceptions don t justify changing well established rules. to be clear, i m not advocating to do nothing. i m advocating for education, tolerance, and respect for all people. reasonable assumptions that are incorrect are misunderstandings, not disrespect. aside from the practicality of assumptions, some people want their gender assumed. philosophically, that s just as valid, and we can t have it both ways. i take issue with the idea that we must make drastic changes to our social norms for the benefit of a few people. not only is this unnecessary to achieve our goals and illogical, but it is also impractical: pressure from the majority will always exist, and isn t a problem as long as we uphold our obligations of tolerance. we didn t need to adopt marxism to establish worker protections or welfare. i think the belief that adopting radical ideas is necessary is, at best, overzealous, and at worst, completely misguided. cmv! i talked specifically about gender, but this applies to other social issues as well.</td>\n",
       "      <td>Society inherently favors the majority, and that isn’t a problem</td>\n",
       "      <td>Gender and pronouns are inherently biased towards the majority</td>\n",
       "      <td>i think the problem with this is that it's not a problem. it's a problem that people are not allowed to express their identity. it is a problem because people are allowed to make their own choices. it isn't a problem for people to make choices based on their appearance. it can be a problem if people are forced to make decisions based on the appearance of their appearance, or if they are forced by society to make a choice based on what they want to do.</td>\n",
       "      <td>i think the problem with this is that it's not a problem. it's a problem that society is inherently biased towards the majority, but that's not the problem.</td>\n",
       "      <td>i think it's important to note that the majority of people are not gender neutral. i think it is important to recognize that the minority is not gender specific. i don't think it should be a problem to change gender pronouns, but it should not be a burden on society.</td>\n",
       "      <td>i think it's important to note that the majority of people are not religious. they are not a minority. they have a right to express their identity. they can express their beliefs and beliefs. they don't have to be religious.</td>\n",
       "    </tr>\n",
       "    <tr>\n",
       "      <th>2155</th>\n",
       "      <td>Pansexual is a fancy way of saying Bisexual : i m an 18 year old bisexual female, and i find it kind of annoying how widespread the term pansexual is becoming. both bisexual and pansexual seem to be practically the same except that bisexual if woman and man , while pansexual is for all genders and how it s not about the gender but the person. i don t understand why a new term is needed. if the word pan is used just be more exclusive, well that seems a bit ridiculous as i ve also researched that the definition of bisexual can also mean same and other genders which would make it nearly identify to pan. and just creating a whole new sexuality for trans or for other genders seems redundant, and like a way to showcase how open minded you are. same for the idea than pan means that the focus is on the person and not the gender. seems like a way to show off how inclusive you are, that you re more progressive. it irks me because in comparison, bisexuals can be seen as less open than pan. they both mean you can be attracted to the same or other genders. it s redundant to create a whole new sexuality, which i think is just used to be progressive.</td>\n",
       "      <td>Pansexual is a fancy way of saying Bisexual</td>\n",
       "      <td>The term \"Pansexual\" is redundant</td>\n",
       "      <td>i'm a pansexual, and i'm not pansexual. i'm bisexual because i'm attracted to the same sex as my male counterpart. i don't think that's a problem with the term pansexual because it's used to describe the same gender. it's just that the term is used to refer to the opposite gender.</td>\n",
       "      <td>i think the problem with pansexual is that it's a fancy way of saying bisexual. it's not a fancy term for bisexuals, it's just a fancy word for bisexual people.</td>\n",
       "      <td>i think it's a bit redundant to use the word pansexual. it's not about the gender, it's about the person. it is about the people. it doesn't matter if you're pansexual or not.</td>\n",
       "      <td>i think it's a bit confusing to use the word pansexual in a way that doesn't really mean anything. it's just a way to say that you're bisexual.</td>\n",
       "    </tr>\n",
       "    <tr>\n",
       "      <th>771</th>\n",
       "      <td>If porn is \"bad\", then everything is : porn is bad! slap. bad! slap. young men unable to maintain erection because of porn! slap. death grip syndrome! slap. brain on porn is brain on drugs! slap. watching porn causes serious mental issues, prevents from building a healthy relationship with partner! slap. rapists, serial killers and domestic offenders have one thing in common, guess which one! slap. real men don't watch porn! slap. porn is bad! slap. if you ever tried googling about porn being possibly bad for you, you'd be slapped in your face by hundreds of pages claiming porn addiction as a serious disease and dangerous as much as any other, drugs, alcohol, tobacco or gambling. you might even get really disturbed by what you read and spend the sleepless night thinking how you are doomed for the rest of your life because you are either an addict or, worse, potential rapist and psychopath. it's fairly obvious who funds those kinds of articles, but anyway, let's pretend they are right. not 'excessive porn consumption might lead to numerous unhealthy consequences' , but pure 'porn is evil altogether' right. by that logic, reading books is really, really bad. it's scientifically proven people's sight becomes worse by focusing on lines of text regularly. even worse, it can cause an addiction so one stops caring about outside world, loses interest in studying or eating and starts dwelling inside fantasy world. are books bad? should we stop reading them whatsoever? eating fruits is really, really bad. it's scientifically proven fruits are loaded with sugar and, by consuming them, one can make his blood sugar levels skyrocket. furthermore, high sugar levels cause acne breakouts, breakouts cause depression. even worse, there are countless accounts of poisoning because of pesticides used in food industry myself included . are fruits bad? should we stop eating them whatsoever? love is really, really dangerous. it's scientifically proven that people in love have trouble focusing on work, tend not to pay attention to signs and don't sleep well. even worse, love can lead to serious complications, both physical and psychological, it can cause serious depression, despair, even suicide. is love bad? should we stop loving whatsoever? i guess it's enough now to make a point. anyway, what is so bad about a single guy or woman to treat their natural urges by watching porn and having fun with themselves? what is so bad about it happening on a daily basis even? what harm is done? young men have difficulties maintaining erection because of porn. no, young men have difficulties maintaining erection because they are just starting their sex lives, they are insecure and inexperienced and, in most cases, they don't always have a free room and unlimited time for proper sexy time with their girlfriends but have to rely on two hour opportunity when their parents aren't at home and presenting erection on demand doesn't always work. porn isn't real and expecting women to look like goddesses and behave like sex slaves can lead to many serious issues. good lord, of course porn isn't real! it's a fantasy! of course women are made to look like sex bombs with a single purpose to satisfy you! forbid anyone to watch harry potter because it's not real and expecting yourself to fly on a broom and cast spells with your magic wand can lead to many serious issues! porn offers unreal presentation of sex. of course it does, again, it's a fantasy. it's meant to look perfect. if porn was about real, uned sex, with guys having problems putting on condom and not being able to 'pound' endlessly and girls having dry and hurts problems and their parts making funny noises almost no one would watch it. porn is about visual pleasure, not physical. does it mean there are no men out there who struggle with erection and performance during intercourse because their arousal is tied to porn? of course not. but just because one kid discovers his murder tendencies by watching a teacher dissect a frog doesn't mean biology shouldn't be taught at schools because it's bad. porn is meant to be an addition, not a substitute for a sex life.</td>\n",
       "      <td>If porn is \"bad\", then everything is</td>\n",
       "      <td>Porn is bad! slap!</td>\n",
       "      <td>i think you're missing the point. i think you are missing the main point. if you're a man who is addicted to porn, you're not going to be able to maintain erection. you're going to have to work hard to maintain an erection.</td>\n",
       "      <td>i think you're missing the point. porn is bad. it's not a bad thing. it is a bad bad thing, but it's a bad one.</td>\n",
       "      <td>i think you're missing the point. i think you are missing the whole point. if you're a guy who likes to watch porn, you're probably not going to be able to maintain erection.</td>\n",
       "      <td>i think you're missing the point. i think you are missing the whole point. if you're a guy who likes to watch movies, then you're not a guy that likes to enjoy them. if i'm a guy, i'm not going to watch them. i'm going to enjoy watching them.</td>\n",
       "    </tr>\n",
       "  </tbody>\n",
       "</table>\n",
       "</div>"
      ],
      "text/plain": [
       "                                                                                                                                                                                                                                                                                                                                                                                                                                                                                                                                                                                                                                                                                                                                                                                                                                                                                                                                                                                                                                                                                                                                                                                                                                                                                                                                                                                                                                                                                                                                                                                                                                                                                                                                                                                                                                                                                                                                                                                                                                                                                                                                                                                                                                                                                                                                                                                                                                                                                                                                                                                                                                                                                                                                                                                                                                                                                                                                                                                                                                                                                                                                                                                                                                                                                                                                                                                                                                                                                                                                                                                                                                                                                                                                                                                                                                                                                                                                                                                                                                                                                                                                                                                                                                                                                                                                                                                                                                                                                                                                                                                                                                                                                                                                                                                                                                                                                                                                                                                                                                                                                                                                                                                                                                                                                                                                                                                                                                                                                                                                                                                                                                                                                                                                                                                                                                                                                                                                                                                                                      argument  \\\n",
       "1682                                                                                                                                                                                                                                                                                                                                                                                                                                                                                                                                                                                                                                                                                                                                                                                                                                                                                                                                                                                                                                                                                                                                                                                                                                                                                                                                                                                                                                                                                                                                                                                                                                                                                                                                                                                                                                                                                                                                                                                                                                                                                                                                                                                                                                                                                                                                                                                                                                                                                                                                                                                                                                                                                                                                                                                                                                                                                                                                                                                                                                                                                                                                                                                                                                                                                                                                                                                                                                                                                                                                                                                                                                                                                                                                                                                                                                                                                                                                                                                                                                                                                                                                                                                                                                                                                                                                                                                                                                                                                                                                                                                                                                                                                                                                                                                                                                                                                                                                                                                                                                                                                                                                                                                                                                                                                                                             The LGBTQ+ reaction to Rita Ora's 'Girls' shows they just look for any excuse to be annoyed with the world : the lgbtq crowd have spent the last few years on social media complaining they are ignored, now rita ora released a song somewhat related to them and she sings about how she likes to drink wine and kiss girls they complain about this and state she shouldn't be mentioning anything about their sexuality. so many think of lgbtq people are being constant drama queens, addicted to complaining for any small thing and just generally like to make people who are not saying they are lgbtq feel terrible how is this latest episode supposed to change that perception?   \n",
       "1562                                                                                                                                                                                                                                                                                                                                                                                                                                                                                                                                                                                                                                                                                                                                                                                                                                                                                                                                                                                                                                                                                                                                                                                                                                                                                                                                                                                                                                                                                                                                                                                                                                                                                                                                                                                                                                                                                                                                                                                                                                                                                                                                                                                                                                                                                                                                                                                                                                                                                                                                                                                                                                                                                                                                                                                                                                                                                                                                                                                                                                                                                                                                                                                                                                                                                                                                                                                                     An overweight personal trainer is a big red flag and should generally be avoided : the title is a generality and there are more nuances to my position, so please read before responding i feel like it would take a long time to precisely refine my position, so i will refine it a bit in the comments 1 i am speaking specifically of personal trainers whose focus is on general fitness, which involves maintaining a healthy body compositions this is often the primary goal among the general population who might seek out a personal trainer 2 i am not talking about strength training coaches or other coaches who may have deep knowledge about lifting weights gymnastics, etc. but may also be quite fat 3 i am also not talking about a type of person who has a condition where extra fat can't be helped this is rare and does not account for the majority of fat trainers i have no defined 'fat' here, but for now, let's just say that we know it when we see it having a substantially beer belly or being clinically obese would definitely qualify as fat in my estimation that said, you don't need to have six pack abs to be a healthy weight they may, for example, have post pregnancy weight or just generally be a thicker person if a fat person is a personal trainer who advertises themself as someone who can help their client maintain a healthy body composition, it leads to the question, 'why can't or why don't they maintain a healthy body weight themself? ' generally, there are a few reasons: 1 the program that they promote does not work 2 the program that they promote is too hard to adhere to 3 the program that they promote is effective not too hard to adhere to, but the trainer has low personal ability to adhere 4 the trainer is inexperienced and a newcomer to fitness themself, in which case they are probably not a good fitness advisor of the above, number 3 would be the best case scenario, but it's still bad and would make many clients question the efficacy of the program and knowledge of the trainer i realize that body composition is largely a factor of what you eat, but most personal trainers include some advising on that as well even the fattest among us should be free to seek training certification i would just say that it is a red flag for a potential client if their personal trainer fat and out of shape without extenuating circumstances . to convince me otherwise, you'd have to show how a personal trainer being fat barring medical or similar reasons is not a poor reflection of their practices   \n",
       "1809                                                                                                                                                                                                                                                                                                                                                                                                                                                                                                                                                                                                                                                                                                                                                                                                                                                                                                                                                                                                                                                                                                                                                                                                                                                                                                                                                                                                                                                                                                                                                                                                                                                                                                                                                                                                                                                                                                                                                                                                                                                                                                                                                                                                                                                                                                                                                                                                                                                                                                                                                                                                                                                                                                                                                                                                                                                                                                                                                                                                                                                                                                                                                                                                                                                                                                                                                                                                                                                                                                                                                                                                                                                                                                                                                                                                                                                                                                                                                                                                                                                                                                                                                                                                                                                                                                                                                                                                                                                                                                                                                                               I think homosexuality is/ should be classified as a mental disorder. : i recently posted on r nostupidquestions and got a lot of replies that didn't change my mind, but they suggested i try here. just to be clear i don't hate or judge homosexuals, i just believe it to be a mental disorder. in my mind, i believe that the biological purpose of all living things, humans included, is to survive and reproduce. i also believe that the primary purpose of sex sexual attraction is to reproduce. with that being said i acknowledge that homosexuality is not considered a choice, i wouldn't know because i am not a homosexual, but i agree with that premise. in final, i believe that if a human is born with the lack of attraction to a suitable mating partner, that it would have to be caused by some misdevelopment or chemical unbalance in the individual's brain. further more, i have learned that the definition of a mental disorder must include some form of harm to the individual suffering, and i believe homosexuality is no different. aside from lacking the means to reproduce mentally, not physically , i understand that homosexuals are at risk for higher suicide rates and are more susceptible to specific std i's. lastly i would like to reiterate that i mean no hate or insults, this is just my view on the situation. that being said i am happy to see if anyone can help change my view :   \n",
       "15                                                                                                                                                                                                                                                                                                                                                                                                                                                                                                                                                                                                                                                                                                                                                                                                                                                                                                                                                                                                                                                                                                                                                                                                                                                                                                                                                                                                                                                                                                                                                                                                                                                                                                                                                                                                                                                                                                                                                                                                                                                                                                                                                                                                                                                                                                                                                                                                                                                                                                                                                                                                                                                                                                                                                                                                                                                                                                                                                                                                                                                                                                                                                                                                                                                                                                                                                                                                                                                                                                                                                                                                                                                                                                                                                                                                                                                                                                                                                                                                                                                                                                                                                                                                                                                                                                                                                                                                                                                                                                                                                             The relative progressiveness and acceptance that most diasporic Judaism supports is the result of historical marginalization, not fundamental differences from other Abrahamic religions. : i write this as a jew, a fairly observant one. i love that judaism, particularly diaspora judaism, supports acceptance and tolerance. however, i believe that these good qualities are the result of historic marginalization, not fundamental differences in doctrine compared to other abrahamic religions. while it is absolutely true that jewish religious texts support charity and kindness, so do the texts of christianity and islam. it can also be seen that in the instances where a jewish kingdom or majority society has been established, these principals of kindness are often ignored. this can be seen as far back as the hasmonean dynasty founded by the maccabees . the maccabees did not rebel to create religious freedom. they rebeled to impose judaism on those in the kingdom. you see similar trends in many states that are dominated by christians and muslims. that is to say, in nations with a heavy majority of any abrahamic religion, features of religious doctrines that call for charity and acceptance are often ignored. rather, i propose that the acceptance that much of mainstream diasporic judaism promotes is the result of historic marginalization and discrimination suffered until the mid twentieth century.   \n",
       "2061                                                                                                                                                                                                                                                                                                                                                                                                                                                                                                                                                                                                                                                                                                                                                                                                                                                                                                                                                                                                                                                                                                                                                                                                                                                                                                                                                                                                                                                                                                                                                                                                                                                                                                                                                                                                                                                                                                                                                                                                                                                                                                                                                                                                                                                                                                                                                                                                                                                                                                                                                                                                                                                                                                                                                                                                                                                                                                                                                                                                         The twitch community is sexist : i think it's widely 'accepted' among the twitch community that twitch as a company is a bit sexist in favor of females. giving grants to women streamers, not banning women for the same mistakes a male streamer made, allowing 'titty streamers' to prosper on their site. i won't disagree that it definitely seems like some favoritism is going on here. however, i think the twitch community, in retaliation of twitch's forced 'progressiveness,' has become increasingly sexist. it's one thing to not like the female streamers who get all of their views solely off of suggestive clothing or suggestive actions. that, imo, is a very real problem on twitch. but it seems like for many users, this has been bastardized and basically morphed into hating all women streamers. example a, livestreamfail thread about female streamer pokimane 'physically abusing' a man' physically abuses fedmyster live on there's a mirror in the comments : many of the comments on that thread are saying shit like 'if the roles were reversed ' 'wow i can't believe she got away with that', or 'the behavior of a female who lives life on tutorial mode and doesn't think the same rules apply to her. with large amounts of upvotes. if you watch the video, it was a playful punch on the shoulder. example b, livestreamfail thread about female streamer fauxre making comments on other 'titty streamers' gives her opinion about why amouranth : upvoted comments in the thread: 'ironically this girl only has views because she is pretty and sitting in irl showing off her cute face and appeals to men, and that's about it. think she would have 200 viewers if she was a dude? no. hardly ever plays a video game. ' or 'i wonder if she tells people that what she 'does' on twitch is sitting in front of camera looking pretty and talking to lonely guys who give her money. ' if you watch the video, she is a modestly dressed woman streaming in the appropriate section of twitch irl and is being ridiculed solely because she's pretty. whether or not you think her content is entertaining is one thing, but this is literally just putting her down because she's a girl. and that's what it boils down to: if you're a female streamer it seems to be a lose lose. you're either 'only popular because of your looks' or you'll get ridiculed by twitch users for being unattractive. hell, even pretty attractive females on twitch are still made fun of for their looks. tyler1's girlfriend macaiyla gets roasted all the time for having a big chin, and she's not even a streamer maybe she i ? i could be wrong while i do thing twitch is taking things a bit too far by playing favorites with some of the female streamers, i think the users have become even more sexist, because many are at a point where they equate attractive female to 'titty streamer' rather than looking at a female streamer in an objective wa . cm   \n",
       "1000   I find it somewhat suspicious that when feminists/progressives/liberals talk about gender parity/equality in the workplace seem to focus almost exclusively on STEM, politics, and CEO/high-level leadership positions. : just to define terms, 'gender parity equality in the workplace' here refers to having an equal amount of men and women in the workplace, or at least representation that reflects the gender demographics of the surrounding area. i understand that equality in the workplace is sometimes used to refer to, say, the issue of workplace harassment, and i take no issue with that, but it's not what i'm looking to address here. also just to clarify, this post isn't about the value of having more women in certain fields be it from a social justice point of view, a profit driven motive, or both and it isn't about the reasons why there might be more women in some fields and more men in others e. g. life work balance, women more interested in people men more interested in things, etc. . there's a lot of good discussion to be had over those two subjects, but i feel they'd be fairly off topic here. correct me if i'm wrong about that. right, so, pretty much every time i hear about the lack of gender equality in the workplace, the workplaces in question are almost invariably stem, politics, or ceo high level leadership positions which i'll shorten to just 'ceo' for the remainder of this post . when i specifically look for evidence that there's a push to get more women into other areas, like, say, construction, i can sometimes find evidence of it. but it seems far less prevalent and reported on discussed by less mainstream outlets companies than stem politics and ceo positions. and this makes me suspicious of the motives of people who claim to care about gender equality in the workplace while only focusing on these fields. as far as professions go, the three in question don't tend to employ large numbers of people. as far as gender disparities go the three fields in question aren't even the most egregious offenders: there's been much lamentation about how women only account for about a quarter of all stem positions, so surely there should be even greater outrage over the fact they only make up 1 of, say auto mechanics. well, where is it? where are all the forbes and cnbc and apa articles about the lack of female auto mechanics? where's the un initiative to get more women working on cars for a living? now to my main point straightens tin foil hat : call me crazy but i think those people who claim to care about gender equality in the workplace but focus primarily if not exclusively on stem, politics, and ceo positions have some ulterior motives. what those three fields all have in common is that they're some combination of high earning, high prestige, and high influence. if you want workplace equality in principle, it'd make sense to target pretty much any field with an imbalance, and arguably those fields that employ larger numbers of people with more egregious gender disparities than stem, politics, and ceos. there are much bigger fish out there in need of frying. and i think the reason these three smaller fish have been chosen has less to do with true gender equality and more with wanting to shoehorn women into positions that garner wealth, status, and or power. do you think, for example, that the reason feminists progressives liberals tend to focus on the lack of female ceos and not the lack of female electricians might, just might have something to do with the fact ceos average annual takehome is like 15x what electricians make? do you think the comparative repute and power that comes with working in politics might be the reason they've honed in on politics and not sewage treatment? in short, when feminists progressives liberals focus on the three fields in question beyond all others, the message they're sending out isn't that they care about workplace equality, it's that they want women to have the good jobs. the dangerous, physically demanding, thankless, low paying, low influence jobs? nahh. men can keep those. as a semi related aside i think it's also rather telling that people who claim to care about gender equality generally only seem to care about fields that are male dominated. there doesn't seem to be a lot of effort to, say, get more men into nursing, or even facets of stem that women dominate. one counterargument i've thought of might be that if we want to enact more gender equality at the 'top level,' so to speak, in order to enact change throughout the workforce as a whole. 'trickle down gender equality,' if you will. i think this is unconvincing for two reasons: first, because ime trickle down anything rarely seems to work, but second, and mainly, because while i could see how getting more female ceos or stem professionals is a great first step to getting even more female ceos or stem professionals aspiring women would have more female role models, like minded mentors mentors, see the fields as less hostile to women, etc. , i don't see how that could or would translate across professions. in short i don't see how getting more women in stem will automatically result in more female truckers, or how getting more female ceos will increase the female presence in mining. to cmv i'm basically looking for some reason why it's justified for those claiming to champion workplace equality to be so laser locked on three specific fields. if they claim to care about workplace equality and think it's not just a good thing for social justice reasons but also just makes good business sense, why are those the three fields that they focus on almost exclusively? or, of course, some other cmving explanation i haven't thought of. but that's why you're here. y'all know what to do. cheers.   \n",
       "1566                                                                                                                                                                                                                                                                                                                                                                                                                                                                                                                                                                                                                                                                                                                                                                                                                                                                                                                                                                                                                                                                                                                                                                                                                                                                                                                                                                                                                                                                                                                                                                                                                                                                                                                                                                                                                                                                                                                                                                                                                                                                                                                                                                                                                                                                                                                                                                                                                                                                                                                                                                                                                                                                                                                                                                                                                                                                                                                                                                                                                                                                                                                                            Imperialism is completely inevitable, if not desirable. : tl;dr anti imperialism is an impossible ideology, not all nations are equal and thus not all nations deserve power, territory and resources, and imperialism is the only way for a country to grow, prosper and dominate effectively . now of course, i take a slightly more broader definition of 'imperialism', as i define it as basically synonymous with hegemony and one country controlling another country by force or through threat of force rather than simply the acquisition of territory . i've heard a lot recently about left leaning people and even right leaning people being fiercely anti war, anti imperial, anti interventionist, pro self deterimination and so on. my personal opinion is that imperialism is inevitable, if not desirable. for the first part, i'll explain why i think it is inevitable: i believe that a world without countries violently coercing each other is impossible, as different countries have different cultures, ideologies and ideas. countries are also inherently unequal, and some are more powerful than others. most countries also have a sense of self preservation. thus, you will always have one country violently coercing another and forcing it to adopt certain ideas in order to survive. the relationships between states are completely anarchistic, as there is no world government to enforce international rules. there are international agreements, but they aren't the same thing. there is also the simple fact that imperialism has had massive positive benefits that obviously can't be ignored, as coercing other countries to do what is good for your own country, yet bad for theirs, is still good for yours, regardless. even today, among supposedly 'anti imperialistic' countries such as the us, china, russia etc, they are imperialistic in every single way imaginable even communist china, ironically . they have to be, otherwise they themselves would become weaker and taken advantage of by another state that was imperialistic. there is no 'third option'. they must continue to puppet, coerce, sanction and expand in order to survive. as to why it is desirable: i personally don't believe in 'self determination', as it is an ideology that assumes that all nations deserve equal power, resources and territory, which i strongly disagree with. in order to preserve and expand the best cultures, ideologies and ideas, you have to get them to compete, and the ultimate competition is war. thus in this winner takes all world, the country with the most effective culture, ideology, government etc can conquer territory and resources so as to keep expanding that ideology and allow humanity to develop. treating all nations equally is a mistake and a waste of limited resources.   \n",
       "492                                                                                                                                                                                                                                                                                                                                                                                                                                                                                                                                                                                                                                                                                                                                                                                                                                                                                                                                                                                                                                                                                                                                                                                                                                                                                                                                                                                                                                                                                                                                                                                                                                                                                                                                                                                                                                                                                                                                                                                                                                                                                                                                                                                                                                                                                                                                                                                                         Society inherently favors the majority, and that isn’t a problem : society is inherently biased towards the majority, but this isn t a problem because we have certain obligations in place. many groups, such as people with allergies, disabilities, and non traditional gender identities require special treatment, but are very small. society has a duty to accommodate them, but within practical limits. as long as we uphold each individual s freedom to express their identity free of prejudice and harassment, we fulfill our responsibilities to these groups. religion is one example: though the u. s. has freedom of religion, it s overwhelmingly christian, which seeps into culture and attitudes. you don t have to celebrate christmas, but you still have to put up with all the christmas decorations and music all over the place. does this result in true religious equality? i would say no: although we ve become more secular, there is significant cultural pressure in favor of christianity. but, if you want to be a muslim or hindu, you are free to do so the majority culture at large doesn t and shouldn t infringe on this freedom. let s take gender and pronouns as another example here. the majority of us are heterosexual cisgender men and women. like with religion, our cultural norms reflect that. but, that isn t inherently a bad thing. now, i am totally in favor of passive solutions, such as gender neutral bathrooms, pronoun friendly designated spaces, and other options alongside male and female for gender information. these are great things acknowledging that not everyone fits our norms, and that s ok. but i think in everyday interactions, abolishing all gender pronoun assumptions is extreme. for context, i m in the military, and we address each other as sir ma am based on appearance. this is a rule, but we also respect each other. i m sure if anyone had an issue with these titles, they could speak up and we d accommodate them. i don t see why this approach shouldn t work for society at large: create a respectful environment, but solve on a case by case basis. thus, there s no need to dismantle societal norms to deal with a few rare cases. nearly all the time, a person s gender identity matches their appearance. this is empirically true. if there s ambiguity, sure, don t assume. if you make a mistake, apologize and move on. case by case. simple as a name correction. someone else s identity is none of your business. but a few exceptions don t justify changing well established rules. to be clear, i m not advocating to do nothing. i m advocating for education, tolerance, and respect for all people. reasonable assumptions that are incorrect are misunderstandings, not disrespect. aside from the practicality of assumptions, some people want their gender assumed. philosophically, that s just as valid, and we can t have it both ways. i take issue with the idea that we must make drastic changes to our social norms for the benefit of a few people. not only is this unnecessary to achieve our goals and illogical, but it is also impractical: pressure from the majority will always exist, and isn t a problem as long as we uphold our obligations of tolerance. we didn t need to adopt marxism to establish worker protections or welfare. i think the belief that adopting radical ideas is necessary is, at best, overzealous, and at worst, completely misguided. cmv! i talked specifically about gender, but this applies to other social issues as well.   \n",
       "2155                                                                                                                                                                                                                                                                                                                                                                                                                                                                                                                                                                                                                                                                                                                                                                                                                                                                                                                                                                                                                                                                                                                                                                                                                                                                                                                                                                                                                                                                                                                                                                                                                                                                                                                                                                                                                                                                                                                                                                                                                                                                                                                                                                                                                                                                                                                                                                                                                                                                                                                                                                                                                                                                                                                                                                                                                                                                                                                                                                                                                                                                                                                                                                                                                                                                                                                                                                                                                                                                                                                                                                                                                                                                                                                                                                                                                                                                                                                                                                                                                                                                                                                                                                                                                                                                                                                                                                                                                                                                                                                                                                                                                                                                                                                                                                                                                         Pansexual is a fancy way of saying Bisexual : i m an 18 year old bisexual female, and i find it kind of annoying how widespread the term pansexual is becoming. both bisexual and pansexual seem to be practically the same except that bisexual if woman and man , while pansexual is for all genders and how it s not about the gender but the person. i don t understand why a new term is needed. if the word pan is used just be more exclusive, well that seems a bit ridiculous as i ve also researched that the definition of bisexual can also mean same and other genders which would make it nearly identify to pan. and just creating a whole new sexuality for trans or for other genders seems redundant, and like a way to showcase how open minded you are. same for the idea than pan means that the focus is on the person and not the gender. seems like a way to show off how inclusive you are, that you re more progressive. it irks me because in comparison, bisexuals can be seen as less open than pan. they both mean you can be attracted to the same or other genders. it s redundant to create a whole new sexuality, which i think is just used to be progressive.   \n",
       "771                                                                                                                                                                                                                                                                                                                                                                                                                                                                                                                                                                                                                                                                                                                                                                                                                                                                                                                                                                                                                                                                                                                                                                                                                                                                                                                                                                                                                                                                                                                                                                                                                                                                                                         If porn is \"bad\", then everything is : porn is bad! slap. bad! slap. young men unable to maintain erection because of porn! slap. death grip syndrome! slap. brain on porn is brain on drugs! slap. watching porn causes serious mental issues, prevents from building a healthy relationship with partner! slap. rapists, serial killers and domestic offenders have one thing in common, guess which one! slap. real men don't watch porn! slap. porn is bad! slap. if you ever tried googling about porn being possibly bad for you, you'd be slapped in your face by hundreds of pages claiming porn addiction as a serious disease and dangerous as much as any other, drugs, alcohol, tobacco or gambling. you might even get really disturbed by what you read and spend the sleepless night thinking how you are doomed for the rest of your life because you are either an addict or, worse, potential rapist and psychopath. it's fairly obvious who funds those kinds of articles, but anyway, let's pretend they are right. not 'excessive porn consumption might lead to numerous unhealthy consequences' , but pure 'porn is evil altogether' right. by that logic, reading books is really, really bad. it's scientifically proven people's sight becomes worse by focusing on lines of text regularly. even worse, it can cause an addiction so one stops caring about outside world, loses interest in studying or eating and starts dwelling inside fantasy world. are books bad? should we stop reading them whatsoever? eating fruits is really, really bad. it's scientifically proven fruits are loaded with sugar and, by consuming them, one can make his blood sugar levels skyrocket. furthermore, high sugar levels cause acne breakouts, breakouts cause depression. even worse, there are countless accounts of poisoning because of pesticides used in food industry myself included . are fruits bad? should we stop eating them whatsoever? love is really, really dangerous. it's scientifically proven that people in love have trouble focusing on work, tend not to pay attention to signs and don't sleep well. even worse, love can lead to serious complications, both physical and psychological, it can cause serious depression, despair, even suicide. is love bad? should we stop loving whatsoever? i guess it's enough now to make a point. anyway, what is so bad about a single guy or woman to treat their natural urges by watching porn and having fun with themselves? what is so bad about it happening on a daily basis even? what harm is done? young men have difficulties maintaining erection because of porn. no, young men have difficulties maintaining erection because they are just starting their sex lives, they are insecure and inexperienced and, in most cases, they don't always have a free room and unlimited time for proper sexy time with their girlfriends but have to rely on two hour opportunity when their parents aren't at home and presenting erection on demand doesn't always work. porn isn't real and expecting women to look like goddesses and behave like sex slaves can lead to many serious issues. good lord, of course porn isn't real! it's a fantasy! of course women are made to look like sex bombs with a single purpose to satisfy you! forbid anyone to watch harry potter because it's not real and expecting yourself to fly on a broom and cast spells with your magic wand can lead to many serious issues! porn offers unreal presentation of sex. of course it does, again, it's a fantasy. it's meant to look perfect. if porn was about real, uned sex, with guys having problems putting on condom and not being able to 'pound' endlessly and girls having dry and hurts problems and their parts making funny noises almost no one would watch it. porn is about visual pleasure, not physical. does it mean there are no men out there who struggle with erection and performance during intercourse because their arousal is tied to porn? of course not. but just because one kid discovers his murder tendencies by watching a teacher dissect a frog doesn't mean biology shouldn't be taught at schools because it's bad. porn is meant to be an addition, not a substitute for a sex life.   \n",
       "\n",
       "                                                                                                                                                                                                                    conclusion  \\\n",
       "1682                                                                                                                The LGBTQ+ reaction to Rita Ora's 'Girls' shows they just look for any excuse to be annoyed with the world   \n",
       "1562                                                                                                                                          An overweight personal trainer is a big red flag and should generally be avoided   \n",
       "1809                                                                                                                                                      I think homosexuality is/ should be classified as a mental disorder.   \n",
       "15                                   The relative progressiveness and acceptance that most diasporic Judaism supports is the result of historical marginalization, not fundamental differences from other Abrahamic religions.   \n",
       "2061                                                                                                                                                                                            The twitch community is sexist   \n",
       "1000   I find it somewhat suspicious that when feminists/progressives/liberals talk about gender parity/equality in the workplace seem to focus almost exclusively on STEM, politics, and CEO/high-level leadership positions.   \n",
       "1566                                                                                                                                                                   Imperialism is completely inevitable, if not desirable.   \n",
       "492                                                                                                                                                           Society inherently favors the majority, and that isn’t a problem   \n",
       "2155                                                                                                                                                                               Pansexual is a fancy way of saying Bisexual   \n",
       "771                                                                                                                                                                                       If porn is \"bad\", then everything is   \n",
       "\n",
       "                                                                                                             joint_conc_baseline  \\\n",
       "1682                                                                                   Rita ora's latest episode is a good thing   \n",
       "1562                    I believe that a personal trainer who advertises themself as a fitness advisor is a bad fitness advisor.   \n",
       "1809                                                                                          Homosexuality is a mental disorder   \n",
       "15    The acceptance of Judaism is the result of historic marginalization and discrimination suffered until the mid-20th century   \n",
       "2061                                                                I think the Twitch community has become increasingly sexist.   \n",
       "1000                                  People who claim to care about gender equality in the workplace have some ulterior motives   \n",
       "1566                                                                                Imperialism is inevitable, if not desirable.   \n",
       "492                                                               Gender and pronouns are inherently biased towards the majority   \n",
       "2155                                                                                           The term \"Pansexual\" is redundant   \n",
       "771                                                                                                           Porn is bad! slap!   \n",
       "\n",
       "                                                                                                                                                                                                                                                                                                                                                                                                                                                                                                                                                                                                                                                                                                                                                                                                                                                                                                                                     masked_conc_attacks  \\\n",
       "1682                                                                                                                                                                                                                                                                                                                                                                                                                                                                                                                                                                                                                                                                                                                                                                            i think the lgbtq crowd is a bit of a dickhead. they are not the only people who are lgq. they're the ones who are not lggbt. they aren't the only ones who aren't lgbq.   \n",
       "1562                                                                                                                                                                                                                                                                                                                                                                                                                                                                                                                                                                                                                                                                                                                                                                                                      i think you're missing the point. i'm not saying that a personal trainer is bad, but that they are bad. i think that they're bad at their job.   \n",
       "1809                                                                                                                                                                                                                                                                                                                                                                           i think you're missing the point. i think the main problem with your view is that it's not a choice. it's a choice, and it's the choice of the person. if you're a homosexual, you're not a person. you're just a person who is attracted to a certain group of people. if a person is attracted, they're not attracted to that group of individuals. if they're attracted to someone, they are attracted to them. if someone is attracted and they're interested in that person, they will be attracted to the person, and they will have a lot of fun with that person.   \n",
       "15                                                                                                                                                                                                          i think you're missing the point. judaism is a religion that promotes kindness and tolerance. it's a religion which promotes kindness, tolerance, and tolerance, but it's not a religion of tolerance. judas are not a religious religion. they are a religion, and they are not religious. they're a religion. judsa is a religious movement that promotes tolerance and tolerance and is a way of promoting tolerance and acceptance. it is a movement that is not a movement. it isn't a movement, it's an ideology. it doesn't have a specific ideology, but a specific set of values. it has a specific purpose. it can be a religion or a religion and it can have a particular purpose. judanism is not about tolerance or tolerance.   \n",
       "2061                                                                                               i think the problem with this is that it's not just about the female streamer. it's about the male streamer who is the most popular. the female is the one who is most popular because of her looks. the male is the only one who has the ability to be popular because he is attractive. the women are the ones who are the most successful because they are the only ones who have the ability and the ability for the most popularity. the men are the people who are most popular, and the women who are popular are the women that are the best. the only thing that is not popular is the female. the majority of people who watch the female streams are the men who are not popular because they have the same looks as the male. the people that watch the male streams are not the ones that are popular because the male ones are popular.   \n",
       "1000                                                                   i think you're missing the point. i think the main point is that there are a lot of things that are important to the advancement of women in the workplace. for example, if you want to be a doctor, you have to be able to get a job. if you're going to be an engineer, you need to be willing to work in a field that is not dominated by men. if your job is to be in a position where you're not able to be the doctor, then you have a job that you have no control over. if a doctor is not able or willing to be involved in a job, then they have to hire you. if they are able to hire someone, they have a responsibility to make sure that they are not doing something that is harmful to the environment. if the doctor is able to make a decision that is detrimental to the health of the patient, then that is a good thing. if he is able, he can make a choice   \n",
       "1566  i think you're missing the point. i think the problem with imperialism is that it's not about the individual, but rather the group of people that are the most powerful. the idea that all nations deserve equal power is not a good one. it's about the group that is the strongest. the group is the group which is the most strong. the people who are the strongest are the ones who are most powerful, and the group who are strongest are those who are weakest. the groups that are strongest and strongest are also the ones that are most strong, and are the people that have the most power. the problem is that the group you're talking about is the one that is strongest, and that is what is the problem. the thing is that you're not talking about the people in the group, but the people you're referring to. the world is a very complex place. the only way to get to the point where you can get to that point is to have a   \n",
       "492                                                                                                                                                                                                                                                                                                                                                                                                                                                                              i think the problem with this is that it's not a problem. it's a problem that people are not allowed to express their identity. it is a problem because people are allowed to make their own choices. it isn't a problem for people to make choices based on their appearance. it can be a problem if people are forced to make decisions based on the appearance of their appearance, or if they are forced by society to make a choice based on what they want to do.   \n",
       "2155                                                                                                                                                                                                                                                                                                                                                                                                                                                                                                                                                                                                                                                           i'm a pansexual, and i'm not pansexual. i'm bisexual because i'm attracted to the same sex as my male counterpart. i don't think that's a problem with the term pansexual because it's used to describe the same gender. it's just that the term is used to refer to the opposite gender.   \n",
       "771                                                                                                                                                                                                                                                                                                                                                                                                                                                                                                                                                                                                                                                                                                                      i think you're missing the point. i think you are missing the main point. if you're a man who is addicted to porn, you're not going to be able to maintain erection. you're going to have to work hard to maintain an erection.   \n",
       "\n",
       "                                                                                                                                                                                                                                                                                                                                                                                                                                                                                                                                                                                                                                                                                                                                                                                                                                                                                                                          known_conc_attacks  \\\n",
       "1682                                                                                                                                                                                                                                                                                                                                                                                                                                                                                                                                                                                                                                                         i think the problem with this is that it's a very common thing for people to complain about. it's not like they're complaining about anything, it's that they're annoyed with the world. it is like they are complaining about the world, but they're not complaining about it.   \n",
       "1562                                                                                                                                                                                                                                                                                                                                                                                                                                                                                                                                                                                                                                                                                                                                                                                                                              i think the problem with your view is that it's not a red flag. it's a red flags that you're not aware of.   \n",
       "1809                                                                                                                                                                                                                                                                                                                                                                                                                                                                                                                                                                                                                                                                                                                                                                                                                                                i think homosexuality is a mental disorder. it's not a mental illness. it is a disorder.   \n",
       "15                                                                                                                                                                                                                                                                                                                                                                                                                                                                                                                                                                     i think you're missing the point. judaism is a religion that promotes tolerance and acceptance. it's a religion which promotes tolerance, acceptance, and tolerance. it is a religious religion that encourages tolerance and tolerance, and it's not a religion of tolerance. judanism is not a religious movement. it isn't a religion. it just promotes tolerance.   \n",
       "2061                                                                                                                                                                                                                                                                                                                                                                                                                                                                                                                                                                                                                                                                                                                         i think the thread is sexist because it's a male dominated subreddit. it's not sexist because the majority of the people who are on the subreddit are male. it is sexist for the majority to be male dominated.   \n",
       "1000  i think you're missing the point. i think the main point of feminism is to focus on the issues that are most important to women. i'm not sure if you're aware of the issue of gender equality in the workplace, but i think it's important to note that the issue is not about gender equality. it's about the issue that women are more likely to be in the workforce than men. the issue isn't that women aren't in the job, but that men are more often in the position of leadership. the problem is that women don't have the same opportunities as men. women are often more likely than men to be involved in the work of men. this is a problem that is not unique to feminism. it is a symptom of the problem that women have in the field of engineering. it isn't about the lack of women in the industry, but rather the lack in the number of women who are in the profession. the problems with this are that women tend   \n",
       "1566                                                                                                                                                                                                                                    i think you're missing the point. i think the problem with imperialism is that it's not about the people, it's about the countries. the people are the people. the countries are the ones that are the most powerful. the only way to stop imperialism is to force them to do what they want. the problem is that the people who are the strongest are the only ones who are able to do it. the world is a very complex place. the us is a huge power. it's a very large power. the vast majority of the world's population is not able to control the world. the majority of people in the world are not able or willing to do anything to stop it. so, the world has to be a very different place.   \n",
       "492                                                                                                                                                                                                                                                                                                                                                                                                                                                                                                                                                                                                                                                                                                                                                                             i think the problem with this is that it's not a problem. it's a problem that society is inherently biased towards the majority, but that's not the problem.   \n",
       "2155                                                                                                                                                                                                                                                                                                                                                                                                                                                                                                                                                                                                                                                                                                                                                                        i think the problem with pansexual is that it's a fancy way of saying bisexual. it's not a fancy term for bisexuals, it's just a fancy word for bisexual people.   \n",
       "771                                                                                                                                                                                                                                                                                                                                                                                                                                                                                                                                                                                                                                                                                                                                                                                                                          i think you're missing the point. porn is bad. it's not a bad thing. it is a bad bad thing, but it's a bad one.   \n",
       "\n",
       "                                                                                                                                                                                                                                                                                                                                                                                                                                                                                                                          joint_conc_baseline_attacks  \\\n",
       "1682  i think it's important to note that rita oras is a very vocal vocalist and has a very strong voice. she's a vocalist who has a strong voice and is very vocal about her sexuality. she has a lot of support from her fans and has been very vocal in her support of the LGBTQ community. i think she's been very successful in getting people to listen to her and her voice. i'm not sure if she's going to be able to change the perception of the lgbtq community, but i think it is important to remember that she's not a vocal vocalizer.   \n",
       "1562                                                                                                                                                                                                                                                                                                                                                                                                                     i think you're missing the point. if you're a personal trainers, you're not going to be able to get a good personal trainer.   \n",
       "1809                       i think you're missing the point. i think you are missing the whole point of the argument. i'm not sure why you think that's a problem. i don't think that it's a mental illness. i mean, i think it's not a mental disease. i do think that there are some mental disorders that are caused by the lack of sexual attraction. i would say that it is a psychological disorder. i am not sure if you're aware of any mental disorders, but i think that you're right. i have a lot of questions about the mental disorder.   \n",
       "15                                                                                                                                                                                                                                                      i think that the judaism you are describing is a very different kind of juda. it is a religion that is based on the teachings of the abrahamic religion. it has a very specific set of teachings that are based on a very narrow set of beliefs. i think that juda is a good example of this.   \n",
       "2061                                                                                                                                                                                                                                                                                                              i think it's important to note that the thread is not a discussion of the gender of the streamer. it's a discussion about the gender roles of the female streamer, and the gender role of the male streamer is a matter of opinion.   \n",
       "1000                                                                                                                                                                                                                                                                                                                                      i think you're missing the point. i think it's important to note that the majority of people who claim that they care about the gender equality of the workplace are actually just trying to make a profit.   \n",
       "1566                                                                                                                                                                                                                                     i think you're missing the point. i think the point is that the idea of 'imperialism' is a very complex one. it's not a very complicated one. i'm not sure if you're aware of the fact that the concept of 'emperialism', or that it's a very difficult one to define. i don't think it's an impossible one.   \n",
       "492                                                                                                                                                                                                                                                                       i think it's important to note that the majority of people are not gender neutral. i think it is important to recognize that the minority is not gender specific. i don't think it should be a problem to change gender pronouns, but it should not be a burden on society.   \n",
       "2155                                                                                                                                                                                                                                                                                                                                                                  i think it's a bit redundant to use the word pansexual. it's not about the gender, it's about the person. it is about the people. it doesn't matter if you're pansexual or not.   \n",
       "771                                                                                                                                                                                                                                                                                                                                                                    i think you're missing the point. i think you are missing the whole point. if you're a guy who likes to watch porn, you're probably not going to be able to maintain erection.   \n",
       "\n",
       "                                                                                                                                                                                                                                                                                                                                                                                                                                                                                                                                                                                                                                                                                                                                                       joint_conc_attacks  \n",
       "1682                                                                                                                                                                                                                                                                                                                                                                                                                                                                    i think you're missing the point. i think you've already mentioned that the lgbtq community is a very vocal group. i don't think it's a group that is trying to make a statement about their sexuality. i'm not sure if you're aware of the fact that they're a group, but i think it is a group.  \n",
       "1562  i think it's important to note that a personal trainer is not a doctor. they are a personal coach. they have a job. they do not have a personal training program. they don't have a training program that they promote. they just have a program that is not designed for them. they also have a specific training program for them that they are not trained for. they're not trained to be a doctor, they're trained to do what they're told. they aren't trained to teach you how to do. they teach you about how to be healthy. they can teach you to be good at it. they know how to teach. they've been trained to help you. they'll teach you what to do, they'll help you learn how to use your body. they will teach you the basics of how to get healthy.  \n",
       "1809                                                                                                                                                                                                                                                                                                                                                                                                                                                                                                        i think it's important to note that i'm not a homosexual, but i think it is a mental disorder. i think that it's a mental illness, and i think the problem is that it is not a biological disorder. it's not a mental disease. it is just a mental condition.  \n",
       "15                                                                                                                                                                                                                                                                                                                                                                                                                                                 i think that the main difference between judaism and other judaisms is that it is a very different religion than the other religions. i think that it's a very important distinction between the two. i don't think that judaists are the same as other religions, but i think they are the opposite of the other two.  \n",
       "2061                                                                                                                                                                                                                                                                                                                                                      i think you're missing the point. i think the reason that the twitch community is sexist is because it's a company. it's not a company that is sexist. it is a company, and it's the company that has the power to make a change. it has the ability to make changes to the way it works. it can make a difference in how people view the world. it could make a huge difference in the way people view things.  \n",
       "1000                                                                                                                                                                                                                                                                                                                                                                                                                 i think you're missing the point. i think it's important to note that the term 'gender parity' is not a specific term. it's a term that is used to refer to a specific group of people, and it's not a general term. i don't think it is a specific word, but it's used to describe a group of individuals, and i think that's a pretty common term.  \n",
       "1566                                                                                                                                                                                                                                                                                                                                                                                                            i think you're missing the point. i think you are missing the whole point. the point is that the world is not a 'world' but a 'nation'. the world isn't a 'one world'. it's a 'great' world. it's not a world. the world has a great place. it is a world where we can have a great time. it has a lot of great things to offer. it can be a great world.  \n",
       "492                                                                                                                                                                                                                                                                                                                                                                                                                                                                                                                                      i think it's important to note that the majority of people are not religious. they are not a minority. they have a right to express their identity. they can express their beliefs and beliefs. they don't have to be religious.  \n",
       "2155                                                                                                                                                                                                                                                                                                                                                                                                                                                                                                                                                                                                                      i think it's a bit confusing to use the word pansexual in a way that doesn't really mean anything. it's just a way to say that you're bisexual.  \n",
       "771                                                                                                                                                                                                                                                                                                                                                                                                                                                                                                                    i think you're missing the point. i think you are missing the whole point. if you're a guy who likes to watch movies, then you're not a guy that likes to enjoy them. if i'm a guy, i'm not going to watch them. i'm going to enjoy watching them.  "
      ]
     },
     "execution_count": 17,
     "metadata": {},
     "output_type": "execute_result"
    }
   ],
   "source": [
    "reddit_pred_df[['argument', 'conclusion' , 'joint_conc_baseline', 'masked_conc_attacks', 'known_conc_attacks', 'joint_conc_baseline_attacks', 'joint_conc_attacks']].sample(10).head(n=10)"
   ]
  },
  {
   "cell_type": "code",
   "execution_count": 18,
   "metadata": {},
   "outputs": [],
   "source": [
    "#collect references\n",
    "arg_counters = valid_df.groupby('post_id').agg({\n",
    "    'counter': lambda x: [' '.join(c) for c in x]\n",
    "}).reset_index()\n",
    "arg_counters = pd.Series(arg_counters.counter.values, index=arg_counters.post_id).to_dict()\n",
    "\n",
    "reddit_pred_df['gt_attack'] = reddit_pred_df['gt_attack'].apply(lambda x: str(x))\n",
    "reddit_pred_df['all_counters'] = reddit_pred_df['post_id'].apply(lambda x: arg_counters[x])"
   ]
  },
  {
   "cell_type": "code",
   "execution_count": 19,
   "metadata": {},
   "outputs": [],
   "source": [
    "reddit_pred_df = reddit_pred_df[reddit_pred_df.all_counters.map(len) > 0]"
   ]
  },
  {
   "cell_type": "code",
   "execution_count": 20,
   "metadata": {
    "scrolled": true,
    "tags": []
   },
   "outputs": [
    {
     "name": "stderr",
     "output_type": "stream",
     "text": [
      "Warning: Empty reference sentence detected; setting recall to be 0.\n",
      "Warning: Empty reference sentence detected; setting recall to be 0.\n",
      "Warning: Empty reference sentence detected; setting recall to be 0.\n",
      "Warning: Empty reference sentence detected; setting recall to be 0.\n",
      "Warning: Empty reference sentence detected; setting recall to be 0.\n",
      "Warning: Empty reference sentence detected; setting recall to be 0.\n",
      "Warning: Empty reference sentence detected; setting recall to be 0.\n",
      "Warning: Empty reference sentence detected; setting recall to be 0.\n",
      "Warning: Empty reference sentence detected; setting recall to be 0.\n",
      "Warning: Empty reference sentence detected; setting recall to be 0.\n",
      "Warning: Empty reference sentence detected; setting recall to be 0.\n",
      "Warning: Empty reference sentence detected; setting recall to be 0.\n",
      "Warning: Empty reference sentence detected; setting recall to be 0.\n",
      "Warning: Empty reference sentence detected; setting recall to be 0.\n",
      "Warning: Empty reference sentence detected; setting recall to be 0.\n",
      "Warning: Empty reference sentence detected; setting recall to be 0.\n",
      "Warning: Empty reference sentence detected; setting recall to be 0.\n",
      "Warning: Empty reference sentence detected; setting recall to be 0.\n",
      "Warning: Empty reference sentence detected; setting recall to be 0.\n",
      "Warning: Empty reference sentence detected; setting recall to be 0.\n",
      "Warning: Empty reference sentence detected; setting recall to be 0.\n",
      "Warning: Empty reference sentence detected; setting recall to be 0.\n",
      "Warning: Empty reference sentence detected; setting recall to be 0.\n",
      "Warning: Empty reference sentence detected; setting recall to be 0.\n",
      "Warning: Empty reference sentence detected; setting recall to be 0.\n",
      "Warning: Empty reference sentence detected; setting recall to be 0.\n",
      "Warning: Empty reference sentence detected; setting recall to be 0.\n",
      "Warning: Empty reference sentence detected; setting recall to be 0.\n",
      "Warning: Empty reference sentence detected; setting recall to be 0.\n",
      "Warning: Empty reference sentence detected; setting recall to be 0.\n",
      "Warning: Empty reference sentence detected; setting recall to be 0.\n",
      "Warning: Empty reference sentence detected; setting recall to be 0.\n",
      "Warning: Empty reference sentence detected; setting recall to be 0.\n",
      "Warning: Empty reference sentence detected; setting recall to be 0.\n",
      "Warning: Empty reference sentence detected; setting recall to be 0.\n",
      "Warning: Empty reference sentence detected; setting recall to be 0.\n",
      "Warning: Empty reference sentence detected; setting recall to be 0.\n",
      "Warning: Empty reference sentence detected; setting recall to be 0.\n",
      "Warning: Empty reference sentence detected; setting recall to be 0.\n",
      "Warning: Empty reference sentence detected; setting recall to be 0.\n",
      "Warning: Empty reference sentence detected; setting recall to be 0.\n",
      "Warning: Empty reference sentence detected; setting recall to be 0.\n",
      "Warning: Empty reference sentence detected; setting recall to be 0.\n",
      "Warning: Empty reference sentence detected; setting recall to be 0.\n",
      "Warning: Empty reference sentence detected; setting recall to be 0.\n"
     ]
    }
   ],
   "source": [
    "masked_conc_eval = evaluate_gen_attacks(reddit_pred_df['masked_conc_attacks'].tolist(), reddit_pred_df['all_counters'].tolist())\n",
    "known_conc_eval = evaluate_gen_attacks(reddit_pred_df['known_conc_attacks'].tolist(), reddit_pred_df['all_counters'].tolist())\n",
    "bart_conc_eval = evaluate_gen_attacks(reddit_pred_df['bart_conc_attacks'].tolist(), reddit_pred_df['all_counters'].tolist())\n",
    "pred_conc_eval = evaluate_gen_attacks(reddit_pred_df['joint_conc_baseline_attacks'].tolist(), reddit_pred_df['all_counters'].tolist())\n",
    "joint_conc_eval = evaluate_gen_attacks(reddit_pred_df['joint_conc_attacks'].tolist(), reddit_pred_df['all_counters'].tolist())"
   ]
  },
  {
   "cell_type": "markdown",
   "metadata": {},
   "source": [
    "##### Test stance correcteness:"
   ]
  },
  {
   "cell_type": "code",
   "execution_count": 21,
   "metadata": {},
   "outputs": [],
   "source": [
    "filtered_reddit_pred_df = reddit_pred_df[pd.notna(reddit_pred_df.conclusion_target)]"
   ]
  },
  {
   "cell_type": "code",
   "execution_count": 22,
   "metadata": {
    "scrolled": true,
    "tags": []
   },
   "outputs": [
    {
     "name": "stderr",
     "output_type": "stream",
     "text": [
      "ProConClient: 100%|██████████| 2172/2172 [01:07<00:00, 32.13it/s]/usr/local/lib/python3.6/dist-packages/ipykernel_launcher.py:2: SettingWithCopyWarning: \n",
      "A value is trying to be set on a copy of a slice from a DataFrame.\n",
      "Try using .loc[row_indexer,col_indexer] = value instead\n",
      "\n",
      "See the caveats in the documentation: https://pandas.pydata.org/pandas-docs/stable/user_guide/indexing.html#returning-a-view-versus-a-copy\n",
      "  \n",
      "\n",
      "ProConClient:   0%|          | 0/2172 [00:00<?, ?it/s]\u001b[A\n",
      "ProConClient: 100%|██████████| 2172/2172 [01:19<00:00, 32.13it/s][A\n",
      "ProConClient:  46%|████▌     | 1000/2172 [00:15<00:18, 64.58it/s]\u001b[A\n",
      "ProConClient:  69%|██████▉   | 1500/2172 [00:20<00:09, 72.69it/s]\u001b[A\n",
      "ProConClient:  69%|██████▉   | 1500/2172 [00:32<00:09, 72.69it/s]\u001b[A\n",
      "ProConClient:  92%|█████████▏| 2000/2172 [00:38<00:03, 45.34it/s]\u001b[A\n",
      "ProConClient: 100%|██████████| 2172/2172 [00:42<00:00, 43.94it/s]\u001b[A/usr/local/lib/python3.6/dist-packages/ipykernel_launcher.py:3: SettingWithCopyWarning: \n",
      "A value is trying to be set on a copy of a slice from a DataFrame.\n",
      "Try using .loc[row_indexer,col_indexer] = value instead\n",
      "\n",
      "See the caveats in the documentation: https://pandas.pydata.org/pandas-docs/stable/user_guide/indexing.html#returning-a-view-versus-a-copy\n",
      "  This is separate from the ipykernel package so we can avoid doing imports until\n",
      "\n",
      "\n",
      "ProConClient:   0%|          | 0/2172 [00:00<?, ?it/s]\u001b[A\u001b[A\n",
      "ProConClient: 100%|██████████| 2172/2172 [00:54<00:00, 43.94it/s]\u001b[A\n",
      "\n",
      "ProConClient:  23%|██▎       | 500/2172 [00:17<00:59, 28.25it/s]\u001b[A\u001b[A\n",
      "\n",
      "ProConClient:  23%|██▎       | 500/2172 [00:29<00:59, 28.25it/s]\u001b[A\u001b[A\n",
      "\n",
      "ProConClient:  46%|████▌     | 1000/2172 [00:34<00:39, 29.38it/s]\u001b[A\u001b[A\n",
      "\n",
      "ProConClient:  69%|██████▉   | 1500/2172 [00:39<00:15, 42.49it/s]\u001b[A\u001b[A\n",
      "\n",
      "ProConClient:  69%|██████▉   | 1500/2172 [00:49<00:15, 42.49it/s]\u001b[A\u001b[A\n",
      "\n",
      "ProConClient:  92%|█████████▏| 2000/2172 [00:55<00:04, 36.99it/s]\u001b[A\u001b[A\n",
      "\n",
      "ProConClient: 100%|██████████| 2172/2172 [01:07<00:00, 29.77it/s]\u001b[A\u001b[A/usr/local/lib/python3.6/dist-packages/ipykernel_launcher.py:4: SettingWithCopyWarning: \n",
      "A value is trying to be set on a copy of a slice from a DataFrame.\n",
      "Try using .loc[row_indexer,col_indexer] = value instead\n",
      "\n",
      "See the caveats in the documentation: https://pandas.pydata.org/pandas-docs/stable/user_guide/indexing.html#returning-a-view-versus-a-copy\n",
      "  after removing the cwd from sys.path.\n",
      "ProConClient: 100%|██████████| 2172/2172 [01:07<00:00, 32.15it/s]\n",
      "\n",
      "\n",
      "ProConClient:   0%|          | 0/2172 [00:00<?, ?it/s]\u001b[A\u001b[A\n",
      "\n",
      "ProConClient:  23%|██▎       | 500/2172 [00:06<00:23, 72.11it/s]\u001b[A\u001b[A\n",
      "\n",
      "ProConClient:  46%|████▌     | 1000/2172 [00:10<00:11, 99.06it/s]\u001b[A\u001b[A\n",
      "\n",
      "ProConClient:  46%|████▌     | 1000/2172 [00:22<00:11, 99.06it/s]\u001b[A\u001b[A\n",
      "\n",
      "ProConClient:  69%|██████▉   | 1500/2172 [00:23<00:11, 56.68it/s]\u001b[A\u001b[A\n",
      "\n",
      "ProConClient:  69%|██████▉   | 1500/2172 [00:34<00:11, 56.68it/s]\u001b[A\u001b[A\n",
      "\n",
      "ProConClient:  92%|█████████▏| 2000/2172 [00:40<00:04, 42.51it/s]\u001b[A\u001b[A\n",
      "\n",
      "ProConClient: 100%|██████████| 2172/2172 [00:51<00:00, 32.74it/s]\u001b[A\u001b[A/usr/local/lib/python3.6/dist-packages/ipykernel_launcher.py:5: SettingWithCopyWarning: \n",
      "A value is trying to be set on a copy of a slice from a DataFrame.\n",
      "Try using .loc[row_indexer,col_indexer] = value instead\n",
      "\n",
      "See the caveats in the documentation: https://pandas.pydata.org/pandas-docs/stable/user_guide/indexing.html#returning-a-view-versus-a-copy\n",
      "  \"\"\"\n",
      "ProConClient: 100%|██████████| 2172/2172 [00:51<00:00, 41.99it/s]\n",
      "\n",
      "\n",
      "ProConClient:   0%|          | 0/2172 [00:00<?, ?it/s]\u001b[A\u001b[A\n",
      "\n",
      "ProConClient:  23%|██▎       | 500/2172 [00:17<00:59, 27.92it/s]\u001b[A\u001b[A\n",
      "\n",
      "ProConClient:  46%|████▌     | 1000/2172 [00:21<00:22, 51.95it/s]\u001b[A\u001b[A\n",
      "\n",
      "ProConClient:  69%|██████▉   | 1500/2172 [00:27<00:10, 62.43it/s]\u001b[A\u001b[A\n",
      "\n",
      "ProConClient:  92%|█████████▏| 2000/2172 [00:33<00:02, 69.31it/s]\u001b[A\u001b[A\n",
      "\n",
      "ProConClient: 100%|██████████| 2172/2172 [00:46<00:00, 41.13it/s]\u001b[A\u001b[A/usr/local/lib/python3.6/dist-packages/ipykernel_launcher.py:6: SettingWithCopyWarning: \n",
      "A value is trying to be set on a copy of a slice from a DataFrame.\n",
      "Try using .loc[row_indexer,col_indexer] = value instead\n",
      "\n",
      "See the caveats in the documentation: https://pandas.pydata.org/pandas-docs/stable/user_guide/indexing.html#returning-a-view-versus-a-copy\n",
      "  \n"
     ]
    }
   ],
   "source": [
    "#compute the stance of the generated counters towards the conclusion target\n",
    "filtered_reddit_pred_df['masked_conc_stances'] = get_stances(filtered_reddit_pred_df.conclusion_target.tolist(), filtered_reddit_pred_df.masked_conc_attacks.tolist())\n",
    "filtered_reddit_pred_df['known_conc_stances']  = get_stances(filtered_reddit_pred_df.conclusion_target.tolist(), filtered_reddit_pred_df.known_conc_attacks.tolist())\n",
    "filtered_reddit_pred_df['bart_conc_stances']   = get_stances(filtered_reddit_pred_df.conclusion_target.tolist(), filtered_reddit_pred_df.bart_conc_attacks.tolist())\n",
    "filtered_reddit_pred_df['pred_conc_stances']  = get_stances(filtered_reddit_pred_df.conclusion_target.tolist(), filtered_reddit_pred_df.joint_conc_baseline_attacks.tolist())\n",
    "filtered_reddit_pred_df['joint_conc_stances']  = get_stances(filtered_reddit_pred_df.conclusion_target.tolist(), filtered_reddit_pred_df.joint_conc_attacks.tolist())"
   ]
  },
  {
   "cell_type": "code",
   "execution_count": 23,
   "metadata": {},
   "outputs": [],
   "source": [
    "#compute the distance between the conclusion stance and the attack stance: the bigger the distance the better...\n",
    "masked_conc_stance_score1 = round(np.mean([abs(x[0] - x[1]) for x in zip(filtered_reddit_pred_df.masked_conc_stances.tolist(), filtered_reddit_pred_df.conclusion_stance.tolist())]), 2)\n",
    "known_conc_stance_score1 = round(np.mean([abs(x[0] - x[1]) for x in zip(filtered_reddit_pred_df.known_conc_stances.tolist(), filtered_reddit_pred_df.conclusion_stance.tolist())]), 2)\n",
    "bart_conc_stance_score1 = round(np.mean([abs(x[0] - x[1]) for x in zip(filtered_reddit_pred_df.bart_conc_stances.tolist(), filtered_reddit_pred_df.conclusion_stance.tolist())]), 2)\n",
    "pred_conc_stance_score1 = round(np.mean([abs(x[0] - x[1]) for x in zip(filtered_reddit_pred_df.pred_conc_stances.tolist(), filtered_reddit_pred_df.conclusion_stance.tolist())]), 2)\n",
    "joint_conc_stance_score1 = round(np.mean([abs(x[0] - x[1]) for x in zip(filtered_reddit_pred_df.joint_conc_stances.tolist(), filtered_reddit_pred_df.conclusion_stance.tolist())]), 2)\n",
    "\n",
    "#check if the two stances are contradicotry\n",
    "masked_conc_stance_score2 = round(sum([int(x[0] * x[1] < 0) for x in zip(filtered_reddit_pred_df.masked_conc_stances.tolist(), filtered_reddit_pred_df.conclusion_stance.tolist())])/len(filtered_reddit_pred_df), 2)\n",
    "known_conc_stance_score2  = round(sum([int(x[0] * x[1] < 0) for x in zip(filtered_reddit_pred_df.known_conc_stances.tolist(), filtered_reddit_pred_df.conclusion_stance.tolist())])/len(filtered_reddit_pred_df), 2)\n",
    "bart_conc_stance_score2   = round(sum([int(x[0] * x[1] < 0) for x in zip(filtered_reddit_pred_df.bart_conc_stances.tolist(), filtered_reddit_pred_df.conclusion_stance.tolist())])/len(filtered_reddit_pred_df), 2)\n",
    "pred_conc_stance_score2  = round(sum([int(x[0] * x[1] < 0) for x in zip(filtered_reddit_pred_df.pred_conc_stances.tolist(), filtered_reddit_pred_df.conclusion_stance.tolist())])/len(filtered_reddit_pred_df), 2)\n",
    "joint_conc_stance_score2  = round(sum([int(x[0] * x[1] < 0) for x in zip(filtered_reddit_pred_df.joint_conc_stances.tolist(), filtered_reddit_pred_df.conclusion_stance.tolist())])/len(filtered_reddit_pred_df), 2)"
   ]
  },
  {
   "cell_type": "code",
   "execution_count": 24,
   "metadata": {},
   "outputs": [
    {
     "name": "stdout",
     "output_type": "stream",
     "text": [
      "                               bleu    bert-f1score    stance-score (diff)    stance-score (agreement)\n",
      "---------------------------  ------  --------------  ---------------------  --------------------------\n",
      "Masked Conclusion              0.13            0.11                   0.85                        0.55\n",
      "BART Conclusion                0.13            0.12                   0.84                        0.54\n",
      "Joint Prediction (baseline)    0.15            0.15                   0.86                        0.55\n",
      "Joint Prediction               0.15            0.13                   0.86                        0.55\n",
      "Known Conclusion               0.14            0.13                   0.87                        0.55\n"
     ]
    }
   ],
   "source": [
    "from tabulate import tabulate\n",
    "\n",
    "print(tabulate([['Masked Conclusion'] + [round(masked_conc_eval['bleu'], 2), masked_conc_eval['bert-fscore'], masked_conc_stance_score1, masked_conc_stance_score2],\n",
    "                ['BART Conclusion'] + [round(bart_conc_eval['bleu'], 2), bart_conc_eval['bert-fscore'], bart_conc_stance_score1, bart_conc_stance_score2],\n",
    "                ['Joint Prediction (baseline)'] + [round(pred_conc_eval['bleu'], 2), pred_conc_eval['bert-fscore'], joint_conc_stance_score1, joint_conc_stance_score2],\n",
    "                ['Joint Prediction'] + [round(joint_conc_eval['bleu'], 2), joint_conc_eval['bert-fscore'], joint_conc_stance_score1, joint_conc_stance_score2],\n",
    "                ['Known Conclusion'] + [round(known_conc_eval['bleu'], 2), known_conc_eval['bert-fscore'], known_conc_stance_score1, known_conc_stance_score2],\n",
    "    ], headers=['bleu', 'bert-f1score', 'stance-score (diff)', 'stance-score (agreement)']))"
   ]
  },
  {
   "cell_type": "code",
   "execution_count": 25,
   "metadata": {},
   "outputs": [
    {
     "name": "stdout",
     "output_type": "stream",
     "text": [
      "                               bleu    bert-f1score    stance-score (diff)    stance-score (agreement)\n",
      "---------------------------  ------  --------------  ---------------------  --------------------------\n",
      "Masked Conclusion              0.13            0.11                   0.85                        0.55\n",
      "BART Conclusion                0.13            0.12                   0.84                        0.54\n",
      "Joint Prediction (baseline)    0.15            0.15                   0.78                        0.54\n",
      "Joint Prediction               0.12            0.09                   0.78                        0.54\n",
      "Known Conclusion               0.14            0.13                   0.87                        0.55\n"
     ]
    }
   ],
   "source": [
    "from tabulate import tabulate\n",
    "\n",
    "print(tabulate([['Masked Conclusion'] + [round(masked_conc_eval['bleu'], 2), masked_conc_eval['bert-fscore'], masked_conc_stance_score1, masked_conc_stance_score2],\n",
    "                ['BART Conclusion'] + [round(bart_conc_eval['bleu'], 2), bart_conc_eval['bert-fscore'], bart_conc_stance_score1, bart_conc_stance_score2],\n",
    "                ['Joint Prediction (baseline)'] + [round(pred_conc_eval['bleu'], 2), pred_conc_eval['bert-fscore'], joint_conc_stance_score1, joint_conc_stance_score2],\n",
    "                ['Joint Prediction'] + [round(joint_conc_eval['bleu'], 2), joint_conc_eval['bert-fscore'], joint_conc_stance_score1, joint_conc_stance_score2],\n",
    "                ['Known Conclusion'] + [round(known_conc_eval['bleu'], 2), known_conc_eval['bert-fscore'], known_conc_stance_score1, known_conc_stance_score2],\n",
    "    ], headers=['bleu', 'bert-f1score', 'stance-score (diff)', 'stance-score (agreement)']))"
   ]
  },
  {
   "cell_type": "markdown",
   "metadata": {},
   "source": [
    "##### Similarity to conclusion:"
   ]
  },
  {
   "cell_type": "code",
   "execution_count": 15,
   "metadata": {},
   "outputs": [],
   "source": [
    "masked_conc_eval = evaluate_gen_attacks(reddit_pred_df['conclusion'], reddit_pred_df['masked_conc_attacks'].tolist())\n",
    "known_conc_eval  = evaluate_gen_attacks(reddit_pred_df['conclusion'], reddit_pred_df['known_conc_attacks'].tolist())\n",
    "#auto_conc_eval   = evaluate_gen_attacks(reddit_pred_df['conclusion'], reddit_pred_df['auto_conc_attacks'].tolist())\n",
    "pred_conc_eval   = evaluate_gen_attacks(reddit_pred_df['conclusion'], reddit_pred_df['pred_conc_attacks'].tolist())\n",
    "gt_attack_conc_eval = evaluate_gen_attacks(reddit_pred_df['conclusion'], reddit_pred_df['gt'].tolist())"
   ]
  },
  {
   "cell_type": "code",
   "execution_count": 17,
   "metadata": {},
   "outputs": [
    {
     "name": "stdout",
     "output_type": "stream",
     "text": [
      "             bleu    bert-f1score\n",
      "---------  ------  --------------\n",
      "masked       0               0.16\n",
      "pred         0.01            0.18\n",
      "known        0.03            0.33\n",
      "gt_attack    0              -0.03\n"
     ]
    }
   ],
   "source": [
    "from tabulate import tabulate\n",
    "\n",
    "print(tabulate([['masked'] + [round(masked_conc_eval['bleu'], 2), masked_conc_eval['bert-fscore']],\n",
    "                #['auto'] + list(auto_conc_eval.values()),\n",
    "                ['pred'] + [round(pred_conc_eval['bleu'], 2), pred_conc_eval['bert-fscore']],\n",
    "                ['known'] + [round(known_conc_eval['bleu'], 2), known_conc_eval['bert-fscore']],\n",
    "                ['gt_attack'] + [round(gt_attack_conc_eval['bleu'], 2), gt_attack_conc_eval['bert-fscore']]\n",
    "    ], headers=['bleu', 'bert-f1score']))"
   ]
  },
  {
   "cell_type": "code",
   "execution_count": null,
   "metadata": {},
   "outputs": [],
   "source": []
  }
 ],
 "metadata": {
  "kernelspec": {
   "display_name": "Python 3",
   "language": "python",
   "name": "python3"
  },
  "language_info": {
   "codemirror_mode": {
    "name": "ipython",
    "version": 3
   },
   "file_extension": ".py",
   "mimetype": "text/x-python",
   "name": "python",
   "nbconvert_exporter": "python",
   "pygments_lexer": "ipython3",
   "version": "3.6.9"
  }
 },
 "nbformat": 4,
 "nbformat_minor": 4
}
