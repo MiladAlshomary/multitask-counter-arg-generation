{
 "cells": [
  {
   "cell_type": "code",
   "execution_count": 1,
   "metadata": {},
   "outputs": [],
   "source": [
    "%load_ext autoreload"
   ]
  },
  {
   "cell_type": "code",
   "execution_count": 2,
   "metadata": {},
   "outputs": [],
   "source": [
    "import os\n",
    "import sys\n",
    "import re\n",
    "from argparse import Namespace\n",
    "\n",
    "sys.path.append('../src-py/')\n",
    "\n",
    "os.environ[\"CUDA_VISIBLE_DEVICES\"]=\"1\""
   ]
  },
  {
   "cell_type": "code",
   "execution_count": 3,
   "metadata": {},
   "outputs": [],
   "source": [
    "%autoreload\n",
    "\n",
    "from utils import *\n",
    "from project_debater_api import *\n",
    "from mt_bart_v2 import *"
   ]
  },
  {
   "cell_type": "code",
   "execution_count": 4,
   "metadata": {},
   "outputs": [],
   "source": [
    "import torch\n",
    "import json\n",
    "\n",
    "import nltk\n",
    "import numpy as np\n",
    "import pandas as pd\n",
    "\n",
    "from pathlib import Path\n",
    "from datasets import load_dataset, load_metric, Dataset\n",
    "\n",
    "from transformers import AutoModelForSeq2SeqLM, DataCollatorForSeq2Seq, Seq2SeqTrainingArguments, Seq2SeqTrainer\n",
    "from transformers import BartTokenizer, BartForConditionalGeneration"
   ]
  },
  {
   "cell_type": "code",
   "execution_count": 5,
   "metadata": {},
   "outputs": [],
   "source": [
    "from tabulate import tabulate"
   ]
  },
  {
   "cell_type": "code",
   "execution_count": 6,
   "metadata": {},
   "outputs": [],
   "source": [
    "import pandas as pd\n",
    "pd.set_option('display.max_colwidth', None)"
   ]
  },
  {
   "cell_type": "code",
   "execution_count": 7,
   "metadata": {},
   "outputs": [],
   "source": [
    "device = torch.device('cuda') if torch.cuda.is_available() else torch.device('cpu')"
   ]
  },
  {
   "cell_type": "code",
   "execution_count": 8,
   "metadata": {},
   "outputs": [
    {
     "data": {
      "text/plain": [
       "device(type='cuda')"
      ]
     },
     "execution_count": 8,
     "metadata": {},
     "output_type": "execute_result"
    }
   ],
   "source": [
    "device"
   ]
  },
  {
   "cell_type": "code",
   "execution_count": 9,
   "metadata": {},
   "outputs": [],
   "source": [
    "ceph_dir = '/home/sile2804/data-ceph/arguana/arg-generation/multi-taks-counter-argument-generation'\n",
    "local_home_dir = '../data'"
   ]
  },
  {
   "cell_type": "code",
   "execution_count": 10,
   "metadata": {},
   "outputs": [],
   "source": [
    "def generate_ds_attacks(ds, model, tokenizer, premises_clm, conclusion_clm, gen_kwargs, skip_special_tokens=True, batch_size=8):\n",
    "    ds = ds.map(lambda x :preprocess_function(x, tokenizer, premises_clm, 'counter', conclusion_clm=conclusion_clm), batched=True)\n",
    "    ds.set_format(type='torch', columns=['input_ids', 'attention_mask', 'labels'])\n",
    "    dataloader = torch.utils.data.DataLoader(ds, batch_size=batch_size)\n",
    "    attacks = generate_counters(model, tokenizer, dataloader, gen_kwargs, skip_special_tokens=skip_special_tokens)\n",
    "    \n",
    "    return attacks"
   ]
  },
  {
   "cell_type": "markdown",
   "metadata": {},
   "source": [
    "#### Load Testing data:"
   ]
  },
  {
   "cell_type": "markdown",
   "metadata": {},
   "source": [
    "##### Loading validation data from Reddit:"
   ]
  },
  {
   "cell_type": "code",
   "execution_count": 11,
   "metadata": {},
   "outputs": [],
   "source": [
    "valid_df = pd.read_pickle(ceph_dir + '/reddit_data/conclusion_and_ca_generation/valid_conclusion_comp_remove_75sem_perc_unique_posts_with_arglexrank_conclusions.pkl')"
   ]
  },
  {
   "cell_type": "code",
   "execution_count": 15,
   "metadata": {},
   "outputs": [],
   "source": [
    "#drop duplicate posts\n",
    "unique_valid_posts = valid_df.drop_duplicates('post_id')"
   ]
  },
  {
   "cell_type": "code",
   "execution_count": 16,
   "metadata": {},
   "outputs": [
    {
     "data": {
      "application/vnd.jupyter.widget-view+json": {
       "model_id": "173bf3a130b746ea8b8bee5d08d5de2f",
       "version_major": 2,
       "version_minor": 0
      },
      "text/plain": [
       "  0%|          | 0/3 [00:00<?, ?ba/s]"
      ]
     },
     "metadata": {},
     "output_type": "display_data"
    }
   ],
   "source": [
    "valid_ds = Dataset.from_pandas(unique_valid_posts)\n",
    "tmp_ds = valid_ds.train_test_split(0.9)\n",
    "sample_valid_ds = tmp_ds['test']\n",
    "\n",
    "#saving the sample\n",
    "reddit_sample_valid_ds = sample_valid_ds.flatten_indices()\n",
    "reddit_sample_valid_ds.save_to_disk('../data/sample_valid_ds')"
   ]
  },
  {
   "cell_type": "code",
   "execution_count": 30,
   "metadata": {},
   "outputs": [],
   "source": [
    "#loading the random sample of validation dataset with the auto-generated conclusion\n",
    "reddit_sample_valid_ds = Dataset.load_from_disk('../data/sample_valid_ds/')"
   ]
  },
  {
   "cell_type": "code",
   "execution_count": 31,
   "metadata": {},
   "outputs": [
    {
     "data": {
      "text/plain": [
       "2278"
      ]
     },
     "execution_count": 31,
     "metadata": {},
     "output_type": "execute_result"
    }
   ],
   "source": [
    "len(reddit_sample_valid_ds)"
   ]
  },
  {
   "cell_type": "markdown",
   "metadata": {},
   "source": [
    "### Generate predictions on Reddit:"
   ]
  },
  {
   "cell_type": "code",
   "execution_count": 14,
   "metadata": {},
   "outputs": [],
   "source": [
    "# Loading Reddit models\n",
    "\n",
    "#masked_conclusion_tokenizer = BartTokenizer.from_pretrained(local_home_dir + '/output/extended_tokenizer')\n",
    "#masked_conclusion_model = BartForConditionalGeneration.from_pretrained(local_home_dir + '/output/masked-conclusion-bart-model/').to(device)\n",
    "\n",
    "known_conclusion_model = BartForConditionalGeneration.from_pretrained(local_home_dir  + '/output/known-conclusion-bart-model').to(device)\n",
    "known_conclusion_tokenizer = BartTokenizer.from_pretrained(local_home_dir + '/output/extended_tokenizer')\n",
    "\n",
    "pred_conclusion_model = BartForConditionalGeneration.from_pretrained(local_home_dir  + '/output/pred-conclusion-bart-model/').to(device)\n",
    "pred_conclusion_tokenizer = BartTokenizer.from_pretrained(local_home_dir + '/output/pred-conclusion-bart-model/')\n",
    "\n",
    "join_model_tokenizer = BartTokenizer.from_pretrained('../data/output/joint-con-counter-bart-model-no-attention/')\n",
    "#join_model  = BartModelV2.from_pretrained('../data/output/joint-con-counter-bart-model-no-attention-finetuned/0-1-1-0/', conc_loss_weight = 0.1, counter_loss_weight=1.0, attention_to_conc=False, conc_decoder=True).to(device)\n",
    "join_model  = BartModelV2.from_pretrained('../data/output/joint-con-counter-bart-model-no-attention-finetuned/dynamic-weight', compute_dynamic_weights=True, conc_decoder=True).to(device)"
   ]
  },
  {
   "cell_type": "code",
   "execution_count": 32,
   "metadata": {},
   "outputs": [],
   "source": [
    "def create_predictions_df(reddit_sample_valid_ds, gen_kwargs):\n",
    "    \n",
    "    joint_attacks       = generate_ds_attacks(reddit_sample_valid_ds, join_model, join_model_tokenizer, 'masked_premises', None, gen_kwargs)\n",
    "    known_conc_attacks  = generate_ds_attacks(reddit_sample_valid_ds, known_conclusion_model, known_conclusion_tokenizer, 'masked_premises', 'title', gen_kwargs)\n",
    "    bart_conc_attacks   = generate_ds_attacks(reddit_sample_valid_ds, known_conclusion_model, known_conclusion_tokenizer, 'masked_premises', 'bart_conclusion', gen_kwargs)\n",
    "    arglex_conc_attacks = generate_ds_attacks(reddit_sample_valid_ds, known_conclusion_model, known_conclusion_tokenizer, 'masked_premises', 'arglex_rank_conclusion', gen_kwargs)\n",
    "    masked_conc_attacks = generate_ds_attacks(reddit_sample_valid_ds, known_conclusion_model, known_conclusion_tokenizer, 'masked_premises', None, gen_kwargs)\n",
    "    joint_conc_baseline_attacks  = generate_ds_attacks(reddit_sample_valid_ds, pred_conclusion_model, pred_conclusion_tokenizer, 'masked_premises', None, gen_kwargs, skip_special_tokens=False)\n",
    "    #This model would predict the conclusion and then the counter in one sequence.\n",
    "\n",
    "    reddit_pred_df = pd.DataFrame(list(zip(\n",
    "                                           reddit_sample_valid_ds['post_id'],\n",
    "                                           reddit_sample_valid_ds['title'], \n",
    "                                           reddit_sample_valid_ds['conclusion_targets'],\n",
    "                                           reddit_sample_valid_ds['conclusion_stance'],\n",
    "                                           reddit_sample_valid_ds['bart_conclusion'], \n",
    "                                           reddit_sample_valid_ds['arglex_rank_conclusion'], \n",
    "                                           reddit_sample_valid_ds['masked_premises'],\n",
    "                                           reddit_sample_valid_ds['counter'], \n",
    "                                           known_conc_attacks, masked_conc_attacks, \n",
    "                                           bart_conc_attacks, arglex_conc_attacks, joint_attacks, joint_conc_baseline_attacks)), \n",
    "                    columns=['post_id', 'conclusion', 'conclusion_target', 'conclusion_stance', 'bart_conclusion', 'arglex_rank_conclusion', 'premises', 'gt_attack', 'known_conc_attacks', \n",
    "                             'masked_conc_attacks', 'bart_conc_attacks', 'arglex_conc_attacks', 'joint_conc_attacks', 'joint_conc_baseline_attacks'])\n",
    "\n",
    "    reddit_pred_df['argument'] = reddit_pred_df.apply(lambda row: row['conclusion'] + ' : ' + ' '.join(row['premises']), axis=1)\n",
    "    reddit_pred_df['premises'] = reddit_pred_df['premises'].apply(lambda x: ' '.join(x))\n",
    "\n",
    "    #process the jointly generated conclusion and counter\n",
    "    reddit_pred_df['joint_conc_baseline'] = reddit_pred_df['joint_conc_baseline_attacks'].apply (lambda x: x.split('<counter>')[0])\n",
    "    reddit_pred_df['joint_conc_baseline_attacks'] = reddit_pred_df['joint_conc_baseline_attacks'].apply (lambda x: x.split('<counter>')[1] if '<counter>' in x else x)\n",
    "    reddit_pred_df['joint_conc_baseline'] = reddit_pred_df['joint_conc_baseline'].apply (lambda x: re.sub('<s>|</s>|<conclusion>|<counter>|<pad>', '', x).strip())\n",
    "    reddit_pred_df['joint_conc_baseline_attacks'] = reddit_pred_df['joint_conc_baseline_attacks'].apply (lambda x: re.sub('<s>|</s>|<conclusion>|<counter>|<pad>', '', x).strip())\n",
    "\n",
    "    return reddit_pred_df"
   ]
  },
  {
   "cell_type": "code",
   "execution_count": 33,
   "metadata": {
    "scrolled": true,
    "tags": []
   },
   "outputs": [
    {
     "name": "stderr",
     "output_type": "stream",
     "text": [
      "ProConClient: 100%|██████████| 2172/2172 [39:23<00:00,  1.09s/it]\n",
      "WARNING:datasets.arrow_dataset:Loading cached processed dataset at ../data/sample_valid_ds/cache-1e7d573549dd277f.arrow\n",
      "ProConClient: 100%|██████████| 2172/2172 [40:38<00:00,  1.12s/it]\n"
     ]
    },
    {
     "data": {
      "application/vnd.jupyter.widget-view+json": {
       "model_id": "b186575c3959453191de9684946318c3",
       "version_major": 2,
       "version_minor": 0
      },
      "text/plain": [
       "  0%|          | 0/3 [00:00<?, ?ba/s]"
      ]
     },
     "metadata": {},
     "output_type": "display_data"
    },
    {
     "data": {
      "application/vnd.jupyter.widget-view+json": {
       "model_id": "add290b13a404aa6b635aa73da583c63",
       "version_major": 2,
       "version_minor": 0
      },
      "text/plain": [
       "  0%|          | 0/3 [00:00<?, ?ba/s]"
      ]
     },
     "metadata": {},
     "output_type": "display_data"
    },
    {
     "name": "stderr",
     "output_type": "stream",
     "text": [
      "WARNING:datasets.arrow_dataset:Loading cached processed dataset at ../data/sample_valid_ds/cache-38514b27a2265428.arrow\n",
      "WARNING:datasets.arrow_dataset:Loading cached processed dataset at ../data/sample_valid_ds/cache-ed0d0f12024b0595.arrow\n",
      "WARNING:datasets.arrow_dataset:Loading cached processed dataset at ../data/sample_valid_ds/cache-7d96e78e8af53f88.arrow\n",
      "WARNING:datasets.arrow_dataset:Loading cached processed dataset at ../data/sample_valid_ds/cache-1e7d573549dd277f.arrow\n",
      "WARNING:datasets.arrow_dataset:Loading cached processed dataset at ../data/sample_valid_ds/cache-ff979b1509d2229c.arrow\n",
      "WARNING:datasets.arrow_dataset:Loading cached processed dataset at ../data/sample_valid_ds/cache-42e5c8f1e52e5bdf.arrow\n",
      "WARNING:datasets.arrow_dataset:Loading cached processed dataset at ../data/sample_valid_ds/cache-38514b27a2265428.arrow\n",
      "WARNING:datasets.arrow_dataset:Loading cached processed dataset at ../data/sample_valid_ds/cache-ed0d0f12024b0595.arrow\n",
      "WARNING:datasets.arrow_dataset:Loading cached processed dataset at ../data/sample_valid_ds/cache-7d96e78e8af53f88.arrow\n"
     ]
    }
   ],
   "source": [
    "gen_kwargs = {\n",
    "    \"do_sample\": False, \n",
    "    \"max_length\":100,\n",
    "    \"top_p\":0.95, \n",
    "    \"top_k\":50,\n",
    "    \"num_beams\":4\n",
    "}\n",
    "\n",
    "reddit_pred_df = create_predictions_df(reddit_sample_valid_ds, gen_kwargs)\n",
    "reddit_pred_df.to_pickle('../data/output/reddit_pred_df-nosample-beamsize-4.pkl')\n",
    "\n",
    "gen_kwargs = {\n",
    "    \"do_sample\": True, \n",
    "    \"max_length\":100,\n",
    "    \"top_p\":0.95, \n",
    "    \"top_k\":50,\n",
    "    \"num_beams\":4\n",
    "}\n",
    "\n",
    "reddit_pred_df = create_predictions_df(reddit_sample_valid_ds, gen_kwargs)\n",
    "reddit_pred_df.to_pickle('../data/output/reddit_pred_df-sample-beamsize-4.pkl')"
   ]
  },
  {
   "cell_type": "markdown",
   "metadata": {},
   "source": [
    "### Evaluate generated predictions:"
   ]
  },
  {
   "cell_type": "code",
   "execution_count": 12,
   "metadata": {},
   "outputs": [],
   "source": [
    "reddit_pred_df = pd.read_pickle('../data/output/reddit_pred_df-nosample-beamsize-4.pkl')"
   ]
  },
  {
   "cell_type": "code",
   "execution_count": 13,
   "metadata": {
    "scrolled": true,
    "tags": []
   },
   "outputs": [
    {
     "data": {
      "text/html": [
       "<div>\n",
       "<style scoped>\n",
       "    .dataframe tbody tr th:only-of-type {\n",
       "        vertical-align: middle;\n",
       "    }\n",
       "\n",
       "    .dataframe tbody tr th {\n",
       "        vertical-align: top;\n",
       "    }\n",
       "\n",
       "    .dataframe thead th {\n",
       "        text-align: right;\n",
       "    }\n",
       "</style>\n",
       "<table border=\"1\" class=\"dataframe\">\n",
       "  <thead>\n",
       "    <tr style=\"text-align: right;\">\n",
       "      <th></th>\n",
       "      <th>conclusion</th>\n",
       "      <th>masked_conc_attacks</th>\n",
       "      <th>known_conc_attacks</th>\n",
       "      <th>joint_conc_baseline_attacks</th>\n",
       "      <th>joint_conc_attacks</th>\n",
       "    </tr>\n",
       "  </thead>\n",
       "  <tbody>\n",
       "    <tr>\n",
       "      <th>0</th>\n",
       "      <td>Britons should be proud of the Empire</td>\n",
       "      <td>i don't think it's a good thing that britain is a part of the world, but it's not a bad thing.</td>\n",
       "      <td>i don't think you should be proud of britain, but i think it's important to remember that the empire was founded on the principles of democracy and individualism. it's not just that the people who built the empire were pro democracy, it's that they were pro individualism and anti individualism as well.</td>\n",
       "      <td>i don't think the empire did much good, but i think it was a big step in the development of the world.</td>\n",
       "      <td>i don't think the empire is evil, but i think it is. i think we should be proud of our culture, our history, and our history.</td>\n",
       "    </tr>\n",
       "    <tr>\n",
       "      <th>1</th>\n",
       "      <td>Moral Consequentialism is the only rational basis of evaluating actions in discussions of morality</td>\n",
       "      <td>the problem with consequentialism is that it doesn't have to do with the consequences of an action. it's about the consequences. the consequences are the ultimate basis for any judgment about the rightness or wrongness of that conduct. consequentialism does not have to deal with the moral consequences of the action.</td>\n",
       "      <td>the problem with consequentialism is that it is not the only rational basis of evaluating actions in discussions of morality. it is the only logical basis for determining whether or not an action benefits a group of people where 'right' means beneficial to their well being and 'wrong' means harmful. the problem with this is that there is no rational basis for evaluating an action that benefits the group. if you want to determine whether an action is beneficial to a group, you have to make sure that</td>\n",
       "      <td>there is no such thing as a 'good' or 'bad' moral evaluation, but there is a good moral evaluation of the consequences of an action.</td>\n",
       "      <td>there is no such thing as 'rightness wrongness' or 'wrongness rightness'. it's just that there is no way to determine whether or not an action is wrong or not.</td>\n",
       "    </tr>\n",
       "    <tr>\n",
       "      <th>2</th>\n",
       "      <td>ASAP Ferg’s new song is awful</td>\n",
       "      <td>i don't think asap ferg's new song is really really bad.</td>\n",
       "      <td>asap ferg's new song is awful. it's not that he's bad, it's just that he doesn't have the ability to make good music.</td>\n",
       "      <td>asap ferg's new song has nothing to do with music. it's just a song that he wrote.</td>\n",
       "      <td>i don't know what you're talking about, but i think you're missing the point. asap ferg's new song is really really bad. it's not a good song, it's a bad song, but it doesn't have the qualities of good music in any genre.</td>\n",
       "    </tr>\n",
       "    <tr>\n",
       "      <th>3</th>\n",
       "      <td>I think hijab is good for the society and for women.</td>\n",
       "      <td>i'm a muslim, and i think it's a good idea to wear a hijab. i'm not saying that everyone is free to wear whatever he she wants just to make that clear.</td>\n",
       "      <td>i think hijab is good for the society and for women. i don't think it's a good way to reduce rape and harassment.</td>\n",
       "      <td>i don't think you're right, but i think it's a good idea to change your view.</td>\n",
       "      <td>i don't think hijab is a good approach to reduce rape and harassment.</td>\n",
       "    </tr>\n",
       "    <tr>\n",
       "      <th>4</th>\n",
       "      <td>State lines in the United States are drawn unfairly</td>\n",
       "      <td>i don't think it's fair to have two senators in the house of representatives.</td>\n",
       "      <td>i don't think it's fair to draw the state lines based on the population of the state, but it's not unfair to draw them based on their population.</td>\n",
       "      <td>i think it's unfair that each state has two senators, given the way state lines are drawn now.</td>\n",
       "      <td>i think it's unfair for each state to have two senators.</td>\n",
       "    </tr>\n",
       "    <tr>\n",
       "      <th>5</th>\n",
       "      <td>There is no viable alternative to government welfare that offers same level of coverage</td>\n",
       "      <td>the problem with government welfare is that it is not a waste. it is a waste of resources. the problem is that there is no viable alternative that can cover all those people to the same degree as they are taxed.</td>\n",
       "      <td>there is no viable alternative to government welfare that offers same level of coverage as government welfare.</td>\n",
       "      <td>i think you're missing the point. government welfare is a waste of money.</td>\n",
       "      <td>i don't think it's a waste, but i think it is a waste. if you take away government welfare, there is no viable alternative.</td>\n",
       "    </tr>\n",
       "    <tr>\n",
       "      <th>6</th>\n",
       "      <td>Jews should be allowed to circumcise their babies</td>\n",
       "      <td>i don't think it's a good idea to force circumcision on a child, but i think it should be allowed.</td>\n",
       "      <td>i don't think you should be allowed to circumcise your babies, but i think it's a good idea.</td>\n",
       "      <td>i don't think jews have the right to do so, but i do think they should be able to do it.</td>\n",
       "      <td>i don't think it's a good idea to force people to circumcise their babies, but i think you're missing the point. if you're a jew, you should be able to do it without medical reason.</td>\n",
       "    </tr>\n",
       "    <tr>\n",
       "      <th>7</th>\n",
       "      <td>The volume control sliders on video players is a poor method of adjusting the volume.</td>\n",
       "      <td>i'm not sure what you're talking about, but i think you're missing the point. i'm not saying that the sliders are a poor way of adjusting the volume, but they are a good way to adjust the volume.</td>\n",
       "      <td>i'm not sure what you're talking about, but i think you're missing the point. the volume control sliders are a good way of adjusting the volume of a tv, but they're not the best way to do it.</td>\n",
       "      <td>i don't think the sliders are the best way to adjust the volume.</td>\n",
       "      <td>i don't think it's a good way to adjust the volume, but i do think that it's not a bad way to change the volume.</td>\n",
       "    </tr>\n",
       "    <tr>\n",
       "      <th>8</th>\n",
       "      <td>The entirety of the modern liberal platform is immoral.</td>\n",
       "      <td>i don't think that the modern liberal platform is immoral. they advocate for abortion which is murdering babies. they support gun control which is taking away my natural right to protect myself and my family.</td>\n",
       "      <td>i don't think that the modern liberal platform is immoral. i think that it is immoral to support abortion, and to support gun control.</td>\n",
       "      <td>i don't think it's immoral to vote for a candidate who is against the 1. i think it is immoral to support a candidate that is not against the 2.</td>\n",
       "      <td>i don't think that the modern liberal platform is immoral. i think it's immoral because it's not immoral.</td>\n",
       "    </tr>\n",
       "    <tr>\n",
       "      <th>9</th>\n",
       "      <td>Teachers should not be allowed to conceal carry in school.</td>\n",
       "      <td>if teachers were allowed to carry, would they also be paid a higher salary for not only teaching but acting as a security guard?</td>\n",
       "      <td>i don't think you should be allowed to conceal carry in school. i think it's a good idea for teachers to be able to carry a gun.</td>\n",
       "      <td>If teachers were allowed to carry, would they also be paid a higher salary for not only teaching but acting as a security guard? police offers who have gone through years of training often crumble under the pressure of a crisis.</td>\n",
       "      <td>i don't think it's fair to say that teachers should be allowed to carry a gun.</td>\n",
       "    </tr>\n",
       "  </tbody>\n",
       "</table>\n",
       "</div>"
      ],
      "text/plain": [
       "                                                                                            conclusion  \\\n",
       "0                                                                Britons should be proud of the Empire   \n",
       "1   Moral Consequentialism is the only rational basis of evaluating actions in discussions of morality   \n",
       "2                                                                        ASAP Ferg’s new song is awful   \n",
       "3                                                 I think hijab is good for the society and for women.   \n",
       "4                                                  State lines in the United States are drawn unfairly   \n",
       "5              There is no viable alternative to government welfare that offers same level of coverage   \n",
       "6                                                    Jews should be allowed to circumcise their babies   \n",
       "7                The volume control sliders on video players is a poor method of adjusting the volume.   \n",
       "8                                              The entirety of the modern liberal platform is immoral.   \n",
       "9                                           Teachers should not be allowed to conceal carry in school.   \n",
       "\n",
       "                                                                                                                                                                                                                                                                                                             masked_conc_attacks  \\\n",
       "0                                                                                                                                                                                                                                 i don't think it's a good thing that britain is a part of the world, but it's not a bad thing.   \n",
       "1  the problem with consequentialism is that it doesn't have to do with the consequences of an action. it's about the consequences. the consequences are the ultimate basis for any judgment about the rightness or wrongness of that conduct. consequentialism does not have to deal with the moral consequences of the action.   \n",
       "2                                                                                                                                                                                                                                                                       i don't think asap ferg's new song is really really bad.   \n",
       "3                                                                                                                                                                        i'm a muslim, and i think it's a good idea to wear a hijab. i'm not saying that everyone is free to wear whatever he she wants just to make that clear.   \n",
       "4                                                                                                                                                                                                                                                  i don't think it's fair to have two senators in the house of representatives.   \n",
       "5                                                                                                            the problem with government welfare is that it is not a waste. it is a waste of resources. the problem is that there is no viable alternative that can cover all those people to the same degree as they are taxed.   \n",
       "6                                                                                                                                                                                                                             i don't think it's a good idea to force circumcision on a child, but i think it should be allowed.   \n",
       "7                                                                                                                            i'm not sure what you're talking about, but i think you're missing the point. i'm not saying that the sliders are a poor way of adjusting the volume, but they are a good way to adjust the volume.   \n",
       "8                                                                                                               i don't think that the modern liberal platform is immoral. they advocate for abortion which is murdering babies. they support gun control which is taking away my natural right to protect myself and my family.   \n",
       "9                                                                                                                                                                                               if teachers were allowed to carry, would they also be paid a higher salary for not only teaching but acting as a security guard?   \n",
       "\n",
       "                                                                                                                                                                                                                                                                                                                                                                                                                                                                                                        known_conc_attacks  \\\n",
       "0                                                                                                                                                                                                          i don't think you should be proud of britain, but i think it's important to remember that the empire was founded on the principles of democracy and individualism. it's not just that the people who built the empire were pro democracy, it's that they were pro individualism and anti individualism as well.   \n",
       "1  the problem with consequentialism is that it is not the only rational basis of evaluating actions in discussions of morality. it is the only logical basis for determining whether or not an action benefits a group of people where 'right' means beneficial to their well being and 'wrong' means harmful. the problem with this is that there is no rational basis for evaluating an action that benefits the group. if you want to determine whether an action is beneficial to a group, you have to make sure that   \n",
       "2                                                                                                                                                                                                                                                                                                                                                                                                    asap ferg's new song is awful. it's not that he's bad, it's just that he doesn't have the ability to make good music.   \n",
       "3                                                                                                                                                                                                                                                                                                                                                                                                        i think hijab is good for the society and for women. i don't think it's a good way to reduce rape and harassment.   \n",
       "4                                                                                                                                                                                                                                                                                                                                                                        i don't think it's fair to draw the state lines based on the population of the state, but it's not unfair to draw them based on their population.   \n",
       "5                                                                                                                                                                                                                                                                                                                                                                                                           there is no viable alternative to government welfare that offers same level of coverage as government welfare.   \n",
       "6                                                                                                                                                                                                                                                                                                                                                                                                                             i don't think you should be allowed to circumcise your babies, but i think it's a good idea.   \n",
       "7                                                                                                                                                                                                                                                                                                                          i'm not sure what you're talking about, but i think you're missing the point. the volume control sliders are a good way of adjusting the volume of a tv, but they're not the best way to do it.   \n",
       "8                                                                                                                                                                                                                                                                                                                                                                                   i don't think that the modern liberal platform is immoral. i think that it is immoral to support abortion, and to support gun control.   \n",
       "9                                                                                                                                                                                                                                                                                                                                                                                         i don't think you should be allowed to conceal carry in school. i think it's a good idea for teachers to be able to carry a gun.   \n",
       "\n",
       "                                                                                                                                                                                                            joint_conc_baseline_attacks  \\\n",
       "0                                                                                                                                i don't think the empire did much good, but i think it was a big step in the development of the world.   \n",
       "1                                                                                                  there is no such thing as a 'good' or 'bad' moral evaluation, but there is a good moral evaluation of the consequences of an action.   \n",
       "2                                                                                                                                                    asap ferg's new song has nothing to do with music. it's just a song that he wrote.   \n",
       "3                                                                                                                                                         i don't think you're right, but i think it's a good idea to change your view.   \n",
       "4                                                                                                                                        i think it's unfair that each state has two senators, given the way state lines are drawn now.   \n",
       "5                                                                                                                                                             i think you're missing the point. government welfare is a waste of money.   \n",
       "6                                                                                                                                              i don't think jews have the right to do so, but i do think they should be able to do it.   \n",
       "7                                                                                                                                                                      i don't think the sliders are the best way to adjust the volume.   \n",
       "8                                                                                      i don't think it's immoral to vote for a candidate who is against the 1. i think it is immoral to support a candidate that is not against the 2.   \n",
       "9  If teachers were allowed to carry, would they also be paid a higher salary for not only teaching but acting as a security guard? police offers who have gone through years of training often crumble under the pressure of a crisis.   \n",
       "\n",
       "                                                                                                                                                                                                              joint_conc_attacks  \n",
       "0                                                                                                  i don't think the empire is evil, but i think it is. i think we should be proud of our culture, our history, and our history.  \n",
       "1                                                                there is no such thing as 'rightness wrongness' or 'wrongness rightness'. it's just that there is no way to determine whether or not an action is wrong or not.  \n",
       "2  i don't know what you're talking about, but i think you're missing the point. asap ferg's new song is really really bad. it's not a good song, it's a bad song, but it doesn't have the qualities of good music in any genre.  \n",
       "3                                                                                                                                                          i don't think hijab is a good approach to reduce rape and harassment.  \n",
       "4                                                                                                                                                                       i think it's unfair for each state to have two senators.  \n",
       "5                                                                                                    i don't think it's a waste, but i think it is a waste. if you take away government welfare, there is no viable alternative.  \n",
       "6                                          i don't think it's a good idea to force people to circumcise their babies, but i think you're missing the point. if you're a jew, you should be able to do it without medical reason.  \n",
       "7                                                                                                               i don't think it's a good way to adjust the volume, but i do think that it's not a bad way to change the volume.  \n",
       "8                                                                                                                      i don't think that the modern liberal platform is immoral. i think it's immoral because it's not immoral.  \n",
       "9                                                                                                                                                 i don't think it's fair to say that teachers should be allowed to carry a gun.  "
      ]
     },
     "execution_count": 13,
     "metadata": {},
     "output_type": "execute_result"
    }
   ],
   "source": [
    "reddit_pred_df[['conclusion', 'masked_conc_attacks', 'known_conc_attacks', 'joint_conc_baseline_attacks', 'joint_conc_attacks']].head(n=10)"
   ]
  },
  {
   "cell_type": "code",
   "execution_count": 14,
   "metadata": {},
   "outputs": [
    {
     "data": {
      "text/plain": [
       "Index(['post_id', 'conclusion', 'conclusion_target', 'conclusion_stance',\n",
       "       'bart_conclusion', 'arglex_rank_conclusion', 'premises', 'gt_attack',\n",
       "       'known_conc_attacks', 'masked_conc_attacks', 'bart_conc_attacks',\n",
       "       'arglex_conc_attacks', 'joint_conc_attacks',\n",
       "       'joint_conc_baseline_attacks', 'argument', 'joint_conc_baseline'],\n",
       "      dtype='object')"
      ]
     },
     "execution_count": 14,
     "metadata": {},
     "output_type": "execute_result"
    }
   ],
   "source": [
    "reddit_pred_df.columns"
   ]
  },
  {
   "cell_type": "code",
   "execution_count": 15,
   "metadata": {},
   "outputs": [],
   "source": [
    "manual_inspec_sample_df = reddit_pred_df.sample(50)\n",
    "manual_inspec_sample_df[['premises', 'conclusion', 'masked_conc_attacks', 'bart_conc_attacks', 'joint_conc_baseline_attacks', 'joint_conc_attacks']].to_csv('../data/output/valid_sample_manual_inspection.csv')"
   ]
  },
  {
   "cell_type": "code",
   "execution_count": 20,
   "metadata": {
    "scrolled": true,
    "tags": []
   },
   "outputs": [],
   "source": [
    "def get_evaluation_results(reddit_pred_df, df_path):\n",
    "    \n",
    "    #collect references\n",
    "    df = pd.read_pickle(df_path)\n",
    "    arg_counters = df.groupby('post_id').agg({\n",
    "        'counter': lambda x: [' '.join(c) for c in x[0:10]]\n",
    "    }).reset_index()\n",
    "\n",
    "    arg_counters = pd.Series(arg_counters.counter.values, index=arg_counters.post_id).to_dict()\n",
    "\n",
    "    reddit_pred_df['gt_attack'] = reddit_pred_df['gt_attack'].apply(lambda x: str(x))\n",
    "    reddit_pred_df['all_counters'] = reddit_pred_df['post_id'].apply(lambda x: arg_counters[x])\n",
    "    reddit_pred_df = reddit_pred_df[reddit_pred_df.all_counters.map(len) > 0]\n",
    "\n",
    "    masked_conc_eval = evaluate_gen_attacks(reddit_pred_df['masked_conc_attacks'].tolist(), reddit_pred_df['all_counters'].tolist())\n",
    "    known_conc_eval  = evaluate_gen_attacks(reddit_pred_df['known_conc_attacks'].tolist(), reddit_pred_df['all_counters'].tolist())\n",
    "    bart_conc_eval   = evaluate_gen_attacks(reddit_pred_df['bart_conc_attacks'].tolist(), reddit_pred_df['all_counters'].tolist())\n",
    "    arglex_conc_eval = evaluate_gen_attacks(reddit_pred_df['arglex_conc_attacks'].tolist(), reddit_pred_df['all_counters'].tolist())\n",
    "    pred_conc_eval   = evaluate_gen_attacks(reddit_pred_df['joint_conc_baseline_attacks'].tolist(), reddit_pred_df['all_counters'].tolist())\n",
    "    joint_conc_eval  = evaluate_gen_attacks(reddit_pred_df['joint_conc_attacks'].tolist(), reddit_pred_df['all_counters'].tolist())\n",
    "    \n",
    "    #Test stance correctness\n",
    "    filtered_reddit_pred_df = reddit_pred_df[pd.notna(reddit_pred_df.conclusion_target)]\n",
    "    \n",
    "    #compute the stance of the generated counters towards the conclusion target\n",
    "    filtered_reddit_pred_df['masked_conc_stances'] = get_stances(filtered_reddit_pred_df.conclusion_target.tolist(), filtered_reddit_pred_df.masked_conc_attacks.tolist())\n",
    "    filtered_reddit_pred_df['known_conc_stances']  = get_stances(filtered_reddit_pred_df.conclusion_target.tolist(), filtered_reddit_pred_df.known_conc_attacks.tolist())\n",
    "    filtered_reddit_pred_df['bart_conc_stances']   = get_stances(filtered_reddit_pred_df.conclusion_target.tolist(), filtered_reddit_pred_df.bart_conc_attacks.tolist())\n",
    "    filtered_reddit_pred_df['arglex_conc_stances'] = get_stances(filtered_reddit_pred_df.conclusion_target.tolist(), filtered_reddit_pred_df.arglex_conc_attacks.tolist())\n",
    "    filtered_reddit_pred_df['pred_conc_stances']   = get_stances(filtered_reddit_pred_df.conclusion_target.tolist(), filtered_reddit_pred_df.joint_conc_baseline_attacks.tolist())\n",
    "    filtered_reddit_pred_df['joint_conc_stances']  = get_stances(filtered_reddit_pred_df.conclusion_target.tolist(), filtered_reddit_pred_df.joint_conc_attacks.tolist())\n",
    "    \n",
    "    #compute the distance between the conclusion stance and the attack stance: the bigger the distance the better...\n",
    "    masked_conc_eval['stance_score'] = round(np.mean([abs(x[0] - x[1]) for x in zip(filtered_reddit_pred_df.masked_conc_stances.tolist(), filtered_reddit_pred_df.conclusion_stance.tolist())]), 2)\n",
    "    known_conc_eval['stance_score']  = round(np.mean([abs(x[0] - x[1]) for x in zip(filtered_reddit_pred_df.known_conc_stances.tolist(), filtered_reddit_pred_df.conclusion_stance.tolist())]), 2)\n",
    "    bart_conc_eval['stance_score']   = round(np.mean([abs(x[0] - x[1]) for x in zip(filtered_reddit_pred_df.bart_conc_stances.tolist(), filtered_reddit_pred_df.conclusion_stance.tolist())]), 2)\n",
    "    arglex_conc_eval['stance_score'] = round(np.mean([abs(x[0] - x[1]) for x in zip(filtered_reddit_pred_df.arglex_conc_stances.tolist(), filtered_reddit_pred_df.conclusion_stance.tolist())]), 2)\n",
    "    pred_conc_eval['stance_score']   = round(np.mean([abs(x[0] - x[1]) for x in zip(filtered_reddit_pred_df.pred_conc_stances.tolist(), filtered_reddit_pred_df.conclusion_stance.tolist())]), 2)\n",
    "    joint_conc_eval['stance_score']  = round(np.mean([abs(x[0] - x[1]) for x in zip(filtered_reddit_pred_df.joint_conc_stances.tolist(), filtered_reddit_pred_df.conclusion_stance.tolist())]), 2)\n",
    "\n",
    "    #check if the two stances are contradicotry\n",
    "    #masked_conc_stance_score2 = round(sum([int(x[0] * x[1] < 0) for x in zip(filtered_reddit_pred_df.masked_conc_stances.tolist(), filtered_reddit_pred_df.conclusion_stance.tolist())])/len(filtered_reddit_pred_df), 2)\n",
    "    #known_conc_stance_score2  = round(sum([int(x[0] * x[1] < 0) for x in zip(filtered_reddit_pred_df.known_conc_stances.tolist(), filtered_reddit_pred_df.conclusion_stance.tolist())])/len(filtered_reddit_pred_df), 2)\n",
    "    #bart_conc_stance_score2   = round(sum([int(x[0] * x[1] < 0) for x in zip(filtered_reddit_pred_df.bart_conc_stances.tolist(), filtered_reddit_pred_df.conclusion_stance.tolist())])/len(filtered_reddit_pred_df), 2)\n",
    "    #pred_conc_stance_score2  = round(sum([int(x[0] * x[1] < 0) for x in zip(filtered_reddit_pred_df.pred_conc_stances.tolist(), filtered_reddit_pred_df.conclusion_stance.tolist())])/len(filtered_reddit_pred_df), 2)\n",
    "    #joint_conc_stance_score2  = round(sum([int(x[0] * x[1] < 0) for x in zip(filtered_reddit_pred_df.joint_conc_stances.tolist(), filtered_reddit_pred_df.conclusion_stance.tolist())])/len(filtered_reddit_pred_df), 2)\n",
    "    return {'Masked Conclusion': masked_conc_eval,\n",
    "            'BART Conclusion': bart_conc_eval,\n",
    "            'ArgLexRank Conclusion': arglex_conc_eval,\n",
    "            'Joint Prediction (baseline)': pred_conc_eval,\n",
    "            'Joint Prediction': joint_conc_eval,\n",
    "            'Known Conclusion': known_conc_eval,\n",
    "            'preds_df' : reddit_pred_df,\n",
    "            'stances_df': filtered_reddit_pred_df}"
   ]
  },
  {
   "cell_type": "code",
   "execution_count": 21,
   "metadata": {
    "scrolled": true,
    "tags": []
   },
   "outputs": [
    {
     "name": "stderr",
     "output_type": "stream",
     "text": [
      "Warning: Empty reference sentence detected; setting recall to be 0.\n",
      "Warning: Empty reference sentence detected; setting recall to be 0.\n",
      "Warning: Empty reference sentence detected; setting recall to be 0.\n",
      "Warning: Empty reference sentence detected; setting recall to be 0.\n",
      "Warning: Empty reference sentence detected; setting recall to be 0.\n",
      "Warning: Empty reference sentence detected; setting recall to be 0.\n",
      "Warning: Empty reference sentence detected; setting recall to be 0.\n",
      "Warning: Empty reference sentence detected; setting recall to be 0.\n",
      "Warning: Empty reference sentence detected; setting recall to be 0.\n",
      "Warning: Empty reference sentence detected; setting recall to be 0.\n",
      "Warning: Empty reference sentence detected; setting recall to be 0.\n",
      "Warning: Empty reference sentence detected; setting recall to be 0.\n",
      "Warning: Empty reference sentence detected; setting recall to be 0.\n",
      "Warning: Empty reference sentence detected; setting recall to be 0.\n",
      "Warning: Empty reference sentence detected; setting recall to be 0.\n",
      "Warning: Empty reference sentence detected; setting recall to be 0.\n",
      "Warning: Empty reference sentence detected; setting recall to be 0.\n",
      "Warning: Empty reference sentence detected; setting recall to be 0.\n",
      "Warning: Empty reference sentence detected; setting recall to be 0.\n",
      "Warning: Empty reference sentence detected; setting recall to be 0.\n",
      "Warning: Empty reference sentence detected; setting recall to be 0.\n",
      "Warning: Empty reference sentence detected; setting recall to be 0.\n",
      "Warning: Empty reference sentence detected; setting recall to be 0.\n",
      "Warning: Empty reference sentence detected; setting recall to be 0.\n",
      "ProConClient: 100%|██████████| 2172/2172 [00:24<00:00, 70.11it/s] /usr/local/lib/python3.6/dist-packages/ipykernel_launcher.py:26: SettingWithCopyWarning: \n",
      "A value is trying to be set on a copy of a slice from a DataFrame.\n",
      "Try using .loc[row_indexer,col_indexer] = value instead\n",
      "\n",
      "See the caveats in the documentation: https://pandas.pydata.org/pandas-docs/stable/user_guide/indexing.html#returning-a-view-versus-a-copy\n",
      "\n",
      "ProConClient:   0%|          | 0/2172 [00:00<?, ?it/s]\u001b[A\n",
      "ProConClient:  23%|██▎       | 500/2172 [00:06<00:20, 81.45it/s]\u001b[A\n",
      "ProConClient: 100%|██████████| 2172/2172 [00:39<00:00, 70.11it/s]\u001b[A\n",
      "ProConClient: 100%|██████████| 2172/2172 [00:51<00:00, 41.77it/s]\u001b[A\n",
      "\n",
      "ProConClient:  92%|█████████▏| 2000/2172 [00:27<00:02, 69.89it/s]\u001b[A\n",
      "ProConClient: 100%|██████████| 2172/2172 [00:33<00:00, 56.70it/s]\u001b[A/usr/local/lib/python3.6/dist-packages/ipykernel_launcher.py:27: SettingWithCopyWarning: \n",
      "A value is trying to be set on a copy of a slice from a DataFrame.\n",
      "Try using .loc[row_indexer,col_indexer] = value instead\n",
      "\n",
      "See the caveats in the documentation: https://pandas.pydata.org/pandas-docs/stable/user_guide/indexing.html#returning-a-view-versus-a-copy\n",
      "ProConClient:  23%|██▎       | 500/2172 [00:06<00:20, 83.17it/s]\n",
      "ProConClient: 100%|██████████| 2172/2172 [00:33<00:00, 58.91it/s]\u001b[A/usr/local/lib/python3.6/dist-packages/ipykernel_launcher.py:28: SettingWithCopyWarning: \n",
      "A value is trying to be set on a copy of a slice from a DataFrame.\n",
      "Try using .loc[row_indexer,col_indexer] = value instead\n",
      "\n",
      "See the caveats in the documentation: https://pandas.pydata.org/pandas-docs/stable/user_guide/indexing.html#returning-a-view-versus-a-copy\n",
      "ProConClient: 100%|██████████| 2172/2172 [00:33<00:00, 65.39it/s]\n",
      "ProConClient: 100%|██████████| 2172/2172 [00:30<00:00, 68.98it/s]/usr/local/lib/python3.6/dist-packages/ipykernel_launcher.py:29: SettingWithCopyWarning: \n",
      "A value is trying to be set on a copy of a slice from a DataFrame.\n",
      "Try using .loc[row_indexer,col_indexer] = value instead\n",
      "\n",
      "See the caveats in the documentation: https://pandas.pydata.org/pandas-docs/stable/user_guide/indexing.html#returning-a-view-versus-a-copy\n",
      "ProConClient: 100%|██████████| 2172/2172 [00:30<00:00, 71.17it/s]\n",
      "ProConClient: 100%|██████████| 2172/2172 [00:34<00:00, 62.36it/s]/usr/local/lib/python3.6/dist-packages/ipykernel_launcher.py:30: SettingWithCopyWarning: \n",
      "A value is trying to be set on a copy of a slice from a DataFrame.\n",
      "Try using .loc[row_indexer,col_indexer] = value instead\n",
      "\n",
      "See the caveats in the documentation: https://pandas.pydata.org/pandas-docs/stable/user_guide/indexing.html#returning-a-view-versus-a-copy\n",
      "\n",
      "\n",
      "ProConClient:   0%|          | 0/2172 [00:00<?, ?it/s]\u001b[A\u001b[A\n",
      "\n",
      "ProConClient:  23%|██▎       | 500/2172 [00:07<00:26, 63.48it/s]\u001b[A\u001b[A\n",
      "\n",
      "ProConClient: 100%|██████████| 2172/2172 [00:48<00:00, 62.36it/s]\u001b[A\u001b[A\n",
      "\n",
      "ProConClient: 100%|██████████| 2172/2172 [00:57<00:00, 37.90it/s]\u001b[A\u001b[A\n",
      "\n",
      "\n",
      "ProConClient:  92%|█████████▏| 2000/2172 [00:23<00:01, 90.69it/s]\u001b[A\u001b[A\n",
      "\n",
      "ProConClient: 100%|██████████| 2172/2172 [00:32<00:00, 56.96it/s]\u001b[A\u001b[A/usr/local/lib/python3.6/dist-packages/ipykernel_launcher.py:31: SettingWithCopyWarning: \n",
      "A value is trying to be set on a copy of a slice from a DataFrame.\n",
      "Try using .loc[row_indexer,col_indexer] = value instead\n",
      "\n",
      "See the caveats in the documentation: https://pandas.pydata.org/pandas-docs/stable/user_guide/indexing.html#returning-a-view-versus-a-copy\n"
     ]
    }
   ],
   "source": [
    "reddit_pred_df = pd.read_pickle('../data/output/reddit_pred_df-sample-beamsize-4.pkl')\n",
    "pred_df_scores = get_evaluation_results(reddit_pred_df, \n",
    "                                        ceph_dir + '/reddit_data/conclusion_and_ca_generation/valid_conclusion_comp_remove_75sem_perc.pkl')"
   ]
  },
  {
   "cell_type": "code",
   "execution_count": 22,
   "metadata": {},
   "outputs": [
    {
     "name": "stdout",
     "output_type": "stream",
     "text": [
      "Sample technique\n",
      "                               bleu    bert-f1score    stance-score (diff)\n",
      "---------------------------  ------  --------------  ---------------------\n",
      "Masked Conclusion              0.14            0.14                   0.85\n",
      "BART Conclusion                0.16            0.16                   0.86\n",
      "ArgLexRank Conclusion          0.13            0.13                   0.84\n",
      "Joint Prediction (baseline)    0.14            0.16                   0.86\n",
      "Joint Prediction               0.15            0.16                   0.84\n",
      "Known Conclusion               0.17            0.17                   0.87\n"
     ]
    }
   ],
   "source": [
    "print('Sample technique')\n",
    "print(tabulate([['Masked Conclusion'] + [round(pred_df_scores['Masked Conclusion']['bleu'], 2), pred_df_scores['Masked Conclusion']['bert-fscore'], pred_df_scores['Masked Conclusion']['stance_score']],\n",
    "                ['BART Conclusion'] + [round(pred_df_scores['BART Conclusion']['bleu'], 2), pred_df_scores['BART Conclusion']['bert-fscore'], pred_df_scores['BART Conclusion']['stance_score']],\n",
    "                ['ArgLexRank Conclusion'] + [round(pred_df_scores['ArgLexRank Conclusion']['bleu'], 2), pred_df_scores['ArgLexRank Conclusion']['bert-fscore'], pred_df_scores['ArgLexRank Conclusion']['stance_score']],\n",
    "                ['Joint Prediction (baseline)'] + [round(pred_df_scores['Joint Prediction (baseline)']['bleu'], 2), pred_df_scores['Joint Prediction (baseline)']['bert-fscore'], pred_df_scores['Joint Prediction (baseline)']['stance_score']],\n",
    "                ['Joint Prediction'] + [round(pred_df_scores['Joint Prediction']['bleu'], 2), pred_df_scores['Joint Prediction']['bert-fscore'], pred_df_scores['Joint Prediction']['stance_score']],\n",
    "                ['Known Conclusion'] + [round(pred_df_scores['Known Conclusion']['bleu'], 2), pred_df_scores['Known Conclusion']['bert-fscore'], pred_df_scores['Known Conclusion']['stance_score']],\n",
    "    ], headers=['bleu', 'bert-f1score', 'stance-score (diff)']))"
   ]
  },
  {
   "cell_type": "code",
   "execution_count": 23,
   "metadata": {
    "scrolled": true,
    "tags": []
   },
   "outputs": [
    {
     "name": "stderr",
     "output_type": "stream",
     "text": [
      "ProConClient: 100%|██████████| 2172/2172 [02:43<00:00, 13.27it/s]\n",
      "ProConClient: 100%|██████████| 2172/2172 [00:32<00:00, 66.32it/s]\n",
      "Warning: Empty reference sentence detected; setting recall to be 0.\n",
      "Warning: Empty reference sentence detected; setting recall to be 0.\n",
      "Warning: Empty reference sentence detected; setting recall to be 0.\n",
      "Warning: Empty reference sentence detected; setting recall to be 0.\n",
      "Warning: Empty reference sentence detected; setting recall to be 0.\n",
      "Warning: Empty reference sentence detected; setting recall to be 0.\n",
      "Warning: Empty reference sentence detected; setting recall to be 0.\n",
      "Warning: Empty reference sentence detected; setting recall to be 0.\n",
      "Warning: Empty reference sentence detected; setting recall to be 0.\n",
      "Warning: Empty reference sentence detected; setting recall to be 0.\n",
      "Warning: Empty reference sentence detected; setting recall to be 0.\n",
      "Warning: Empty reference sentence detected; setting recall to be 0.\n",
      "Warning: Empty reference sentence detected; setting recall to be 0.\n",
      "Warning: Empty reference sentence detected; setting recall to be 0.\n",
      "Warning: Empty reference sentence detected; setting recall to be 0.\n",
      "Warning: Empty reference sentence detected; setting recall to be 0.\n",
      "Warning: Empty reference sentence detected; setting recall to be 0.\n",
      "Warning: Empty reference sentence detected; setting recall to be 0.\n",
      "Warning: Empty reference sentence detected; setting recall to be 0.\n",
      "Warning: Empty reference sentence detected; setting recall to be 0.\n",
      "Warning: Empty reference sentence detected; setting recall to be 0.\n",
      "Warning: Empty reference sentence detected; setting recall to be 0.\n",
      "Warning: Empty reference sentence detected; setting recall to be 0.\n",
      "Warning: Empty reference sentence detected; setting recall to be 0.\n",
      "ProConClient: 100%|██████████| 2172/2172 [00:25<00:00, 71.85it/s] /usr/local/lib/python3.6/dist-packages/ipykernel_launcher.py:26: SettingWithCopyWarning: \n",
      "A value is trying to be set on a copy of a slice from a DataFrame.\n",
      "Try using .loc[row_indexer,col_indexer] = value instead\n",
      "\n",
      "See the caveats in the documentation: https://pandas.pydata.org/pandas-docs/stable/user_guide/indexing.html#returning-a-view-versus-a-copy\n",
      "ProConClient: 100%|██████████| 2172/2172 [00:25<00:00, 86.74it/s]\n",
      "ProConClient: 100%|██████████| 2172/2172 [00:34<00:00, 64.14it/s]/usr/local/lib/python3.6/dist-packages/ipykernel_launcher.py:27: SettingWithCopyWarning: \n",
      "A value is trying to be set on a copy of a slice from a DataFrame.\n",
      "Try using .loc[row_indexer,col_indexer] = value instead\n",
      "\n",
      "See the caveats in the documentation: https://pandas.pydata.org/pandas-docs/stable/user_guide/indexing.html#returning-a-view-versus-a-copy\n",
      "ProConClient: 100%|██████████| 2172/2172 [00:34<00:00, 62.98it/s]\n",
      "ProConClient: 100%|██████████| 2172/2172 [00:30<00:00, 63.92it/s]/usr/local/lib/python3.6/dist-packages/ipykernel_launcher.py:28: SettingWithCopyWarning: \n",
      "A value is trying to be set on a copy of a slice from a DataFrame.\n",
      "Try using .loc[row_indexer,col_indexer] = value instead\n",
      "\n",
      "See the caveats in the documentation: https://pandas.pydata.org/pandas-docs/stable/user_guide/indexing.html#returning-a-view-versus-a-copy\n",
      "\n",
      "ProConClient: 100%|██████████| 2172/2172 [00:36<00:00, 59.88it/s]\n",
      "\n",
      "ProConClient:  23%|██▎       | 500/2172 [00:06<00:20, 81.47it/s]\u001b[A\n",
      "ProConClient:  46%|████▌     | 1000/2172 [00:12<00:14, 82.35it/s]\u001b[A\n",
      "ProConClient:  69%|██████▉   | 1500/2172 [00:18<00:08, 78.51it/s]\u001b[A\n",
      "ProConClient:  92%|█████████▏| 2000/2172 [00:24<00:02, 83.90it/s]\u001b[A\n",
      "ProConClient: 100%|██████████| 2172/2172 [00:30<00:00, 64.22it/s]\u001b[A/usr/local/lib/python3.6/dist-packages/ipykernel_launcher.py:29: SettingWithCopyWarning: \n",
      "A value is trying to be set on a copy of a slice from a DataFrame.\n",
      "Try using .loc[row_indexer,col_indexer] = value instead\n",
      "\n",
      "See the caveats in the documentation: https://pandas.pydata.org/pandas-docs/stable/user_guide/indexing.html#returning-a-view-versus-a-copy\n",
      "ProConClient:  46%|████▌     | 1000/2172 [00:12<00:14, 82.24it/s]\n",
      "ProConClient: 100%|██████████| 2172/2172 [00:30<00:00, 63.83it/s]\u001b[A/usr/local/lib/python3.6/dist-packages/ipykernel_launcher.py:30: SettingWithCopyWarning: \n",
      "A value is trying to be set on a copy of a slice from a DataFrame.\n",
      "Try using .loc[row_indexer,col_indexer] = value instead\n",
      "\n",
      "See the caveats in the documentation: https://pandas.pydata.org/pandas-docs/stable/user_guide/indexing.html#returning-a-view-versus-a-copy\n",
      "ProConClient: 100%|██████████| 2172/2172 [00:30<00:00, 72.11it/s]\n",
      "ProConClient: 100%|██████████| 2172/2172 [00:30<00:00, 63.65it/s]/usr/local/lib/python3.6/dist-packages/ipykernel_launcher.py:31: SettingWithCopyWarning: \n",
      "A value is trying to be set on a copy of a slice from a DataFrame.\n",
      "Try using .loc[row_indexer,col_indexer] = value instead\n",
      "\n",
      "See the caveats in the documentation: https://pandas.pydata.org/pandas-docs/stable/user_guide/indexing.html#returning-a-view-versus-a-copy\n"
     ]
    }
   ],
   "source": [
    "reddit_pred_df = pd.read_pickle('../data/output/reddit_pred_df-nosample-beamsize-4.pkl')\n",
    "pred_df_scores = get_evaluation_results(reddit_pred_df,\n",
    "                                       ceph_dir + '/reddit_data/conclusion_and_ca_generation/valid_conclusion_comp_remove_75sem_perc.pkl')"
   ]
  },
  {
   "cell_type": "code",
   "execution_count": 24,
   "metadata": {},
   "outputs": [
    {
     "name": "stdout",
     "output_type": "stream",
     "text": [
      "No sample technique:\n",
      "                               bleu    bert-f1score    stance-score (diff)\n",
      "---------------------------  ------  --------------  ---------------------\n",
      "Masked Conclusion              0.15            0.15                   0.85\n",
      "BART Conclusion                0.18            0.18                   0.85\n",
      "ArgLexRank Conclusion          0.15            0.14                   0.84\n",
      "Joint Prediction (baseline)    0.13            0.17                   0.87\n",
      "Joint Prediction               0.17            0.17                   0.86\n",
      "Known Conclusion               0.19            0.18                   0.86\n"
     ]
    },
    {
     "name": "stderr",
     "output_type": "stream",
     "text": [
      "ProConClient: 100%|██████████| 2172/2172 [00:46<00:00, 63.65it/s]"
     ]
    }
   ],
   "source": [
    "print('No sample technique:')\n",
    "print(tabulate([['Masked Conclusion'] + [round(pred_df_scores['Masked Conclusion']['bleu'], 2), pred_df_scores['Masked Conclusion']['bert-fscore'], pred_df_scores['Masked Conclusion']['stance_score']],\n",
    "                ['BART Conclusion'] + [round(pred_df_scores['BART Conclusion']['bleu'], 2), pred_df_scores['BART Conclusion']['bert-fscore'], pred_df_scores['BART Conclusion']['stance_score']],\n",
    "                ['ArgLexRank Conclusion'] + [round(pred_df_scores['ArgLexRank Conclusion']['bleu'], 2), pred_df_scores['ArgLexRank Conclusion']['bert-fscore'], pred_df_scores['ArgLexRank Conclusion']['stance_score']],\n",
    "                ['Joint Prediction (baseline)'] + [round(pred_df_scores['Joint Prediction (baseline)']['bleu'], 2), pred_df_scores['Joint Prediction (baseline)']['bert-fscore'], pred_df_scores['Joint Prediction (baseline)']['stance_score']],\n",
    "                ['Joint Prediction'] + [round(pred_df_scores['Joint Prediction']['bleu'], 2), pred_df_scores['Joint Prediction']['bert-fscore'], pred_df_scores['Joint Prediction']['stance_score']],\n",
    "                ['Known Conclusion'] + [round(pred_df_scores['Known Conclusion']['bleu'], 2), pred_df_scores['Known Conclusion']['bert-fscore'], pred_df_scores['Known Conclusion']['stance_score']],\n",
    "    ], headers=['bleu', 'bert-f1score', 'stance-score (diff)']))"
   ]
  },
  {
   "cell_type": "code",
   "execution_count": 29,
   "metadata": {
    "scrolled": true,
    "tags": []
   },
   "outputs": [
    {
     "data": {
      "text/html": [
       "<div>\n",
       "<style scoped>\n",
       "    .dataframe tbody tr th:only-of-type {\n",
       "        vertical-align: middle;\n",
       "    }\n",
       "\n",
       "    .dataframe tbody tr th {\n",
       "        vertical-align: top;\n",
       "    }\n",
       "\n",
       "    .dataframe thead th {\n",
       "        text-align: right;\n",
       "    }\n",
       "</style>\n",
       "<table border=\"1\" class=\"dataframe\">\n",
       "  <thead>\n",
       "    <tr style=\"text-align: right;\">\n",
       "      <th></th>\n",
       "      <th>conclusion</th>\n",
       "      <th>conclusion_stance</th>\n",
       "      <th>conclusion_target</th>\n",
       "      <th>known_conc_stances</th>\n",
       "      <th>known_conc_attacks</th>\n",
       "      <th>joint_conc_baseline_attacks</th>\n",
       "      <th>joint_conc_attacks</th>\n",
       "    </tr>\n",
       "  </thead>\n",
       "  <tbody>\n",
       "    <tr>\n",
       "      <th>0</th>\n",
       "      <td>Britons should be proud of the Empire</td>\n",
       "      <td>0.973527</td>\n",
       "      <td>the Empire</td>\n",
       "      <td>0.370406</td>\n",
       "      <td>i don't think you should be proud of britain, but i think it's important to remember that the empire was founded on the principles of democracy and individualism. it's not just that the people who built the empire were pro democracy, it's that they were pro individualism and anti individualism as well.</td>\n",
       "      <td>i don't think the empire did much good, but i think it was a big step in the development of the world.</td>\n",
       "      <td>i don't think the empire is evil, but i think it is. i think we should be proud of our culture, our history, and our history.</td>\n",
       "    </tr>\n",
       "    <tr>\n",
       "      <th>1</th>\n",
       "      <td>Moral Consequentialism is the only rational basis of evaluating actions in discussions of morality</td>\n",
       "      <td>0.998206</td>\n",
       "      <td>Moral Consequentialism</td>\n",
       "      <td>0.942047</td>\n",
       "      <td>the problem with consequentialism is that it is not the only rational basis of evaluating actions in discussions of morality. it is the only logical basis for determining whether or not an action benefits a group of people where 'right' means beneficial to their well being and 'wrong' means harmful. the problem with this is that there is no rational basis for evaluating an action that benefits the group. if you want to determine whether an action is beneficial to a group, you have to make sure that the group is not harmed by the action.</td>\n",
       "      <td>there is no such thing as a 'good' or 'bad' moral evaluation, but there is a good moral evaluation of the consequences of an action.</td>\n",
       "      <td>there is no such thing as 'rightness wrongness' or 'wrongness rightness'. it's just that there is no way to determine whether or not an action is wrong or not.</td>\n",
       "    </tr>\n",
       "    <tr>\n",
       "      <th>2</th>\n",
       "      <td>ASAP Ferg’s new song is awful</td>\n",
       "      <td>-0.160894</td>\n",
       "      <td>Ferg</td>\n",
       "      <td>0.062374</td>\n",
       "      <td>asap ferg's new song is awful. it's not that he's bad, it's just that he doesn't have the ability to make good music.</td>\n",
       "      <td>asap ferg's new song has nothing to do with music. it's just a song that he wrote.</td>\n",
       "      <td>i don't know what you're talking about, but i think you're missing the point. asap ferg's new song is really really bad. it's not a good song, it's a bad song, but it doesn't have the qualities of good music in any genre.</td>\n",
       "    </tr>\n",
       "    <tr>\n",
       "      <th>3</th>\n",
       "      <td>I think hijab is good for the society and for women.</td>\n",
       "      <td>0.998132</td>\n",
       "      <td>hijab</td>\n",
       "      <td>0.566873</td>\n",
       "      <td>i think hijab is good for the society and for women. i don't think it's a good way to reduce rape and harassment.</td>\n",
       "      <td>i don't think you're right, but i think it's a good idea to change your view.</td>\n",
       "      <td>i don't think hijab is a good approach to reduce rape and harassment.</td>\n",
       "    </tr>\n",
       "    <tr>\n",
       "      <th>4</th>\n",
       "      <td>State lines in the United States are drawn unfairly</td>\n",
       "      <td>-0.846689</td>\n",
       "      <td>State lines in the United States</td>\n",
       "      <td>0.055674</td>\n",
       "      <td>i don't think it's fair to draw the state lines based on the population of the state, but it's not unfair to draw them based on their population.</td>\n",
       "      <td>i think it's unfair that each state has two senators, given the way state lines are drawn now.</td>\n",
       "      <td>i think it's unfair for each state to have two senators.</td>\n",
       "    </tr>\n",
       "  </tbody>\n",
       "</table>\n",
       "</div>"
      ],
      "text/plain": [
       "                                                                                            conclusion  \\\n",
       "0                                                                Britons should be proud of the Empire   \n",
       "1   Moral Consequentialism is the only rational basis of evaluating actions in discussions of morality   \n",
       "2                                                                        ASAP Ferg’s new song is awful   \n",
       "3                                                 I think hijab is good for the society and for women.   \n",
       "4                                                  State lines in the United States are drawn unfairly   \n",
       "\n",
       "   conclusion_stance                 conclusion_target  known_conc_stances  \\\n",
       "0           0.973527                        the Empire            0.370406   \n",
       "1           0.998206            Moral Consequentialism            0.942047   \n",
       "2          -0.160894                              Ferg            0.062374   \n",
       "3           0.998132                             hijab            0.566873   \n",
       "4          -0.846689  State lines in the United States            0.055674   \n",
       "\n",
       "                                                                                                                                                                                                                                                                                                                                                                                                                                                                                                                                               known_conc_attacks  \\\n",
       "0                                                                                                                                                                                                                                                 i don't think you should be proud of britain, but i think it's important to remember that the empire was founded on the principles of democracy and individualism. it's not just that the people who built the empire were pro democracy, it's that they were pro individualism and anti individualism as well.   \n",
       "1  the problem with consequentialism is that it is not the only rational basis of evaluating actions in discussions of morality. it is the only logical basis for determining whether or not an action benefits a group of people where 'right' means beneficial to their well being and 'wrong' means harmful. the problem with this is that there is no rational basis for evaluating an action that benefits the group. if you want to determine whether an action is beneficial to a group, you have to make sure that the group is not harmed by the action.   \n",
       "2                                                                                                                                                                                                                                                                                                                                                                                                                                           asap ferg's new song is awful. it's not that he's bad, it's just that he doesn't have the ability to make good music.   \n",
       "3                                                                                                                                                                                                                                                                                                                                                                                                                                               i think hijab is good for the society and for women. i don't think it's a good way to reduce rape and harassment.   \n",
       "4                                                                                                                                                                                                                                                                                                                                                                                                               i don't think it's fair to draw the state lines based on the population of the state, but it's not unfair to draw them based on their population.   \n",
       "\n",
       "                                                                                                            joint_conc_baseline_attacks  \\\n",
       "0                                i don't think the empire did much good, but i think it was a big step in the development of the world.   \n",
       "1  there is no such thing as a 'good' or 'bad' moral evaluation, but there is a good moral evaluation of the consequences of an action.   \n",
       "2                                                    asap ferg's new song has nothing to do with music. it's just a song that he wrote.   \n",
       "3                                                         i don't think you're right, but i think it's a good idea to change your view.   \n",
       "4                                        i think it's unfair that each state has two senators, given the way state lines are drawn now.   \n",
       "\n",
       "                                                                                                                                                                                                              joint_conc_attacks  \n",
       "0                                                                                                  i don't think the empire is evil, but i think it is. i think we should be proud of our culture, our history, and our history.  \n",
       "1                                                                there is no such thing as 'rightness wrongness' or 'wrongness rightness'. it's just that there is no way to determine whether or not an action is wrong or not.  \n",
       "2  i don't know what you're talking about, but i think you're missing the point. asap ferg's new song is really really bad. it's not a good song, it's a bad song, but it doesn't have the qualities of good music in any genre.  \n",
       "3                                                                                                                                                          i don't think hijab is a good approach to reduce rape and harassment.  \n",
       "4                                                                                                                                                                       i think it's unfair for each state to have two senators.  "
      ]
     },
     "execution_count": 29,
     "metadata": {},
     "output_type": "execute_result"
    }
   ],
   "source": [
    "x = pred_df_scores['stances_df']\n",
    "x[['conclusion', 'conclusion_stance', 'conclusion_target', 'known_conc_stances', 'known_conc_attacks', 'joint_conc_baseline_attacks', 'joint_conc_attacks']].head()"
   ]
  },
  {
   "cell_type": "markdown",
   "metadata": {},
   "source": [
    "### Similarity to conclusion:"
   ]
  },
  {
   "cell_type": "code",
   "execution_count": 15,
   "metadata": {},
   "outputs": [],
   "source": [
    "masked_conc_eval = evaluate_gen_attacks(reddit_pred_df['conclusion'], reddit_pred_df['masked_conc_attacks'].tolist())\n",
    "known_conc_eval  = evaluate_gen_attacks(reddit_pred_df['conclusion'], reddit_pred_df['known_conc_attacks'].tolist())\n",
    "#auto_conc_eval   = evaluate_gen_attacks(reddit_pred_df['conclusion'], reddit_pred_df['auto_conc_attacks'].tolist())\n",
    "pred_conc_eval   = evaluate_gen_attacks(reddit_pred_df['conclusion'], reddit_pred_df['pred_conc_attacks'].tolist())\n",
    "gt_attack_conc_eval = evaluate_gen_attacks(reddit_pred_df['conclusion'], reddit_pred_df['gt'].tolist())"
   ]
  },
  {
   "cell_type": "code",
   "execution_count": 17,
   "metadata": {},
   "outputs": [
    {
     "name": "stdout",
     "output_type": "stream",
     "text": [
      "             bleu    bert-f1score\n",
      "---------  ------  --------------\n",
      "masked       0               0.16\n",
      "pred         0.01            0.18\n",
      "known        0.03            0.33\n",
      "gt_attack    0              -0.03\n"
     ]
    }
   ],
   "source": [
    "from tabulate import tabulate\n",
    "\n",
    "print(tabulate([['masked'] + [round(masked_conc_eval['bleu'], 2), masked_conc_eval['bert-fscore']],\n",
    "                #['auto'] + list(auto_conc_eval.values()),\n",
    "                ['pred'] + [round(pred_conc_eval['bleu'], 2), pred_conc_eval['bert-fscore']],\n",
    "                ['known'] + [round(known_conc_eval['bleu'], 2), known_conc_eval['bert-fscore']],\n",
    "                ['gt_attack'] + [round(gt_attack_conc_eval['bleu'], 2), gt_attack_conc_eval['bert-fscore']]\n",
    "    ], headers=['bleu', 'bert-f1score']))"
   ]
  },
  {
   "cell_type": "code",
   "execution_count": null,
   "metadata": {},
   "outputs": [],
   "source": []
  }
 ],
 "metadata": {
  "kernelspec": {
   "display_name": "Python 3",
   "language": "python",
   "name": "python3"
  },
  "language_info": {
   "codemirror_mode": {
    "name": "ipython",
    "version": 3
   },
   "file_extension": ".py",
   "mimetype": "text/x-python",
   "name": "python",
   "nbconvert_exporter": "python",
   "pygments_lexer": "ipython3",
   "version": "3.6.9"
  }
 },
 "nbformat": 4,
 "nbformat_minor": 4
}
