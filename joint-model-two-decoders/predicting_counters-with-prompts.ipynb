{
 "cells": [
  {
   "cell_type": "code",
   "execution_count": 1,
   "metadata": {},
   "outputs": [],
   "source": [
    "import os\n",
    "import sys\n",
    "\n",
    "sys.path.append('../src-py/')\n",
    "os.environ['CUDA_VISIBLE_DEVICES']='0'"
   ]
  },
  {
   "cell_type": "code",
   "execution_count": null,
   "metadata": {},
   "outputs": [],
   "source": [
    "import csv\n",
    "import random\n",
    "import torch\n",
    "import numpy as np\n",
    "from torch.utils.data import DataLoader\n",
    "from transformers import AdamW\n",
    "from transformers import BertTokenizer, BertForSequenceClassification\n",
    "from transformers import AutoTokenizer, AutoModelForSequenceClassification, TextClassificationPipeline\n",
    "import torch\n",
    "import transformers\n",
    "from rouge_score import rouge_scorer\n",
    "from transformers import BartTokenizer, BartForConditionalGeneration\n",
    "from torch.nn import CrossEntropyLoss, MSELoss\n",
    "import os\n",
    "from model import MultiTaskBart\n",
    "from model import OurModel\n",
    "from utils import parse_df\n",
    "import time\n",
    "import sys\n",
    "import tqdm\n",
    "import pandas as pd\n",
    "from datasets import load_dataset, load_metric, Dataset\n",
    "\n",
    "import nltk\n",
    "pd.set_option('display.max_colwidth', None)"
   ]
  },
  {
   "cell_type": "code",
   "execution_count": null,
   "metadata": {},
   "outputs": [],
   "source": [
    "import prompted_conclusion_utils as conc_utils\n",
    "from prompted_conclusion_utils import *\n",
    "\n",
    "from transformers.generation_logits_process import * "
   ]
  },
  {
   "cell_type": "code",
   "execution_count": null,
   "metadata": {},
   "outputs": [],
   "source": [
    "device = torch.device('cuda') if torch.cuda.is_available() else torch.device('cpu')\n",
    "print(\"Using GPU? \", torch.cuda.is_available())\n",
    "print(\"Device name:\", torch.cuda.get_device_name(0))\n",
    "\n",
    "\n",
    "data_dir = '../data-ceph/arguana/arg-generation/multi-taks-counter-argument-generation/reddit_data/conclusion_and_ca_generation/'\n",
    "teacher_model_path='../data/output/stance_classification/best_model/'\n",
    "\n",
    "batch_size=4"
   ]
  },
  {
   "cell_type": "code",
   "execution_count": null,
   "metadata": {},
   "outputs": [],
   "source": [
    "#Teacher model\n",
    "stance_classifier_teacher_tokenizer = AutoTokenizer.from_pretrained(teacher_model_path)\n",
    "stance_classifier_teacher_model     = AutoModelForSequenceClassification.from_pretrained(teacher_model_path)\n",
    "arg_stance_pipeline = TextClassificationPipeline(model=stance_classifier_teacher_model, tokenizer=stance_classifier_teacher_tokenizer, framework='pt', task='stance_classification', device=0)"
   ]
  },
  {
   "cell_type": "code",
   "execution_count": null,
   "metadata": {},
   "outputs": [],
   "source": [
    "#Our model versions with the best performing checkpoint on the validation set..\n",
    "model_without_stance    = OurModel.load('../data/output/ca-final-models/mt-v4.baseline_1/trained_models/models-global-step-5000', 'facebook/bart-large',  model_config=transformers.AutoConfig.from_pretrained('facebook/bart-large'))\n",
    "model_with_stance = OurModel.load('../data/output/ca-final-models/mt-v4.baseline_2/trained_models/models-global-step-4000', 'facebook/bart-large',  model_config=transformers.AutoConfig.from_pretrained('facebook/bart-large'))"
   ]
  },
  {
   "cell_type": "code",
   "execution_count": 25,
   "metadata": {
    "scrolled": true,
    "tags": []
   },
   "outputs": [],
   "source": [
    "tokenizer = transformers.AutoTokenizer.from_pretrained('facebook/bart-large')\n",
    "\n",
    "model_without_stance.to(device)\n",
    "model_with_stance.to(device)\n",
    "\n",
    "_ = model_with_stance.eval()\n",
    "_ = model_without_stance.eval()"
   ]
  },
  {
   "cell_type": "code",
   "execution_count": 26,
   "metadata": {},
   "outputs": [],
   "source": [
    "def chunks(lst, n):\n",
    "    \"\"\"Yield successive n-sized chunks from lst.\"\"\"\n",
    "    for i in range(0, len(lst), n):\n",
    "        yield lst[i:i + n]\n",
    "        \n",
    "def get_stance_scores(sents1, sents2):\n",
    "    #compute stance score using our trained model\n",
    "    text_inputs = [x[0] + ' </s> ' + x[1] for x in zip(sents1, sents2)]\n",
    "    stance_results = arg_stance_pipeline(text_inputs, truncation=True)\n",
    "    stance_labels = [int(x['label'].split('_')[-1]) for x in stance_results]\n",
    "    stance_scores = [x['score'] for x in stance_results]\n",
    "    return sum(stance_labels)/len(stance_labels), stance_labels, stance_scores  #The score is the percentage of cases we generated a counter\n",
    "\n",
    "def counters_coherence(post_conclusions, post_counters):\n",
    "    post_counters = [nltk.sent_tokenize(x) for x in post_counters]\n",
    "    conclusion_counter_sent_pairs = [(x[1], s) for x in zip(post_counters, post_conclusions) for s in x[0]]\n",
    "    #print(conclusion_counter_sent_pairs)\n",
    "    conclusions, counter_sents = zip(*conclusion_counter_sent_pairs)\n",
    "    _, stance_labels, stance_scores = get_stance_scores(conclusions, counter_sents)\n",
    "    stance_scores = [x[0] * -1 if x[1] == 0 else x[0] for x in zip(stance_scores, stance_labels)]\n",
    "\n",
    "    #collect counter_scores\n",
    "    counter_scores = []\n",
    "    idx = 0\n",
    "    #print(len(stance_scores))\n",
    "    for i, post_counter in enumerate(post_counters):\n",
    "        #print(len(post_counter))\n",
    "        counter_scores.append(stance_scores[idx: idx + len(post_counter)])\n",
    "        idx+=len(post_counter)\n",
    "    \n",
    "    #print(counter_scores)\n",
    "    return [np.mean(s) for s in counter_scores]\n",
    "\n",
    "def get_best_counters(conclusions, counters):\n",
    "    #choose best counter\n",
    "    best_counters = []\n",
    "    for post_conclusions, post_counters  in zip(conclusions, counters):\n",
    "        scores = counters_coherence(post_conclusions, post_counters)\n",
    "        best_counters.append((post_conclusions[np.argmax(scores)], post_counters[np.argmax(scores)]))\n",
    "        \n",
    "    return best_counters\n",
    "\n",
    "def generate_multiple_counters(model, tokenizer, df, conclusion_gen_kwargs, argument_gen_kwargs, \n",
    "                               output_clm='post_counters', post_concepts_clm='post_concepts', num_candidates=6, batch_size=8):\n",
    "    \n",
    "    post_counters = []\n",
    "    for i in range(num_candidates):\n",
    "        control_codes = [x[i] if i < len(x) else '' for x in df[post_concepts_clm].tolist()]\n",
    "        premises = df['post'].tolist()\n",
    "        \n",
    "        print(control_codes[:3])\n",
    "        conclusions, counters   = generate_two_seq_prompted_counters(model, tokenizer, premises, \n",
    "                                                                     control_codes, conclusion_gen_kwargs, argument_gen_kwargs, \n",
    "                                                                     batch_size=batch_size)\n",
    "                \n",
    "        post_counters.append(zip(control_codes, conclusions, counters))\n",
    "\n",
    "    df[output_clm] = list(map(list, zip(*post_counters))) # transpose\n",
    "\n",
    "    return df\n",
    "\n",
    "\n",
    "def generate_counters(model, tokenizer, data_loader, argument_gen_kwargs, conclusion_gen_kwargs, skip_special_tokens=True):\n",
    "    processors = LogitsProcessorList()\n",
    "    generated_counter_arguments = []\n",
    "    generated_conclusions = []\n",
    "    model.eval()\n",
    "    with torch.no_grad():\n",
    "        for batch in data_loader:\n",
    "            input_ids = batch['input_ids'].to(device)\n",
    "            attention_mask = batch['attention_mask'].to(device)\n",
    "            \n",
    "            generated_argument_tokens   = model.generate_counter_argument(input_ids, attention_mask, argument_gen_kwargs, processors)\n",
    "            generated_conclusion_tokens = model.generate_conclusion(input_ids, attention_mask, conclusion_gen_kwargs, processors)\n",
    "                        \n",
    "            generated_argument_tokens = generated_argument_tokens.cpu().numpy()\n",
    "            decoded_arguments = tokenizer.batch_decode(generated_argument_tokens, skip_special_tokens=skip_special_tokens)\n",
    "            \n",
    "            generated_conclusion_tokens = generated_conclusion_tokens.cpu().numpy()\n",
    "            decoded_conclusions = tokenizer.batch_decode(generated_conclusion_tokens, skip_special_tokens=skip_special_tokens)\n",
    "            \n",
    "            generated_counter_arguments +=decoded_arguments\n",
    "            generated_conclusions +=decoded_conclusions\n",
    "            \n",
    "    return generated_conclusions, generated_counter_arguments"
   ]
  },
  {
   "cell_type": "code",
   "execution_count": 27,
   "metadata": {},
   "outputs": [],
   "source": [
    "conclusion_gen_kwargs = {\n",
    "    \"do_sample\": True, \n",
    "    \"max_length\":50,\n",
    "    \"top_p\":0.95, \n",
    "    \"num_beams\":1,\n",
    "}\n",
    "\n",
    "argument_gen_kwargs = {\n",
    "    \"do_sample\": True, \n",
    "    \"max_length\":100,\n",
    "    \"min_length\":50,\n",
    "    \"top_p\":0.95, \n",
    "    \"no_repeat_ngram_size\":3,\n",
    "    \"top_k\": 50,\n",
    "    \"num_beams\":1,\n",
    "}"
   ]
  },
  {
   "cell_type": "code",
   "execution_count": 28,
   "metadata": {},
   "outputs": [],
   "source": [
    "#df = pd.read_pickle(data_dir + 'test_conclusion_all_preprocessed.pkl')[['post_id', 'title', 'post', 'counter']]\n",
    "#df = pd.read_pickle('../../data-ceph/arguana/arg-generation/multi-taks-counter-argument-generation/reddit_data/conclusion_and_ca_generation/sample_test_conclusion_all_preprocessed_multi_conclusions.pkl')[['post_id', 'title', 'post_concepts2', 'post', 'counter']]\n",
    "df = pd.read_pickle('../../data-ceph/arguana/arg-generation/multi-taks-counter-argument-generation/reddit_data/conclusion_and_ca_generation/test_conclusion_all_preprocessed_multi_conclusions.pkl')[['post_id', 'title', 'post_concepts2', 'post', 'counter']]\n",
    "df['post'] = df.post.apply(lambda x: ' '.join(x))"
   ]
  },
  {
   "cell_type": "code",
   "execution_count": 36,
   "metadata": {
    "scrolled": true,
    "tags": []
   },
   "outputs": [
    {
     "data": {
      "text/html": [
       "<div>\n",
       "<style scoped>\n",
       "    .dataframe tbody tr th:only-of-type {\n",
       "        vertical-align: middle;\n",
       "    }\n",
       "\n",
       "    .dataframe tbody tr th {\n",
       "        vertical-align: top;\n",
       "    }\n",
       "\n",
       "    .dataframe thead th {\n",
       "        text-align: right;\n",
       "    }\n",
       "</style>\n",
       "<table border=\"1\" class=\"dataframe\">\n",
       "  <thead>\n",
       "    <tr style=\"text-align: right;\">\n",
       "      <th></th>\n",
       "      <th>post_id</th>\n",
       "      <th>title</th>\n",
       "      <th>post_concepts2</th>\n",
       "      <th>post</th>\n",
       "      <th>counter</th>\n",
       "      <th>single_pred_counter_arguments_no_stance</th>\n",
       "      <th>single_pred_conclusion_no_stance</th>\n",
       "    </tr>\n",
       "  </thead>\n",
       "  <tbody>\n",
       "    <tr>\n",
       "      <th>410850</th>\n",
       "      <td>t3_a20l8s</td>\n",
       "      <td>people should come with instructions</td>\n",
       "      <td>[Algorithm, Extraversion and introversion, People, Secrecy, Recommender system, Existential crisis]</td>\n",
       "      <td>cmv. when you meet people, the introduction should come with an electronic signature that informs us of that person s perceived disposition. that way you can efficiently engage them as they would like to be engaged. i would for example put things like introvert but likes to have fun and sing karaoke and write on reddit dislikes sports, random acts of kindness and illogical thinking that way people can easily deal with me without spending time trying to figure that stuff out. we can keep our deepest darkest secrets to ourselves, but a quick cheat sheet would be helpful we can be as forthcoming as we feel comfortable. algorithms could help is pair like minded souls. there would recommendations like amazon ads josh in appt a might be a good friend. he too is pondering his existential crisis i think like would be more efficient and satisfying if we could just instantly avoid people or gravitate toward some.</td>\n",
       "      <td>[so you're looking to establish an immensely personal database of everyone's likes and dislikes and whatnot, and we're all supposed to keep it updated, right?, and it'll never be abused by a stalker, right?, and it'll never be used by law enforcement to profile law abiding citizens, right?, and it'll never be used to help representatives gerrymander a district, right?, you're looking to avoid small talk, a casual activity that to most people isn't even a nuisance, and to do it, you're proposing a massive amount of infrastructure and a dangerous erosion of privacy while exposing people and their info to those who would abuse it., yeah, no thank you.]</td>\n",
       "      <td>i think you're missing out on a lot of the benefits of social interaction. first off, social interaction is not the only way to meet people, but it's the most efficient way to find them. if you're looking for a relationship, you're not going to be able to find one that suits you because you're going to have to be a little more selective about the people you meet. second, you'll be more likely to meet someone who doesn't like you</td>\n",
       "      <td>We should just recognize people’s temperament.</td>\n",
       "    </tr>\n",
       "    <tr>\n",
       "      <th>410858</th>\n",
       "      <td>t3_a22bn2</td>\n",
       "      <td>People should not be heavily criticized for things they put on social media in the distant past</td>\n",
       "      <td>[Internet, Black and white, Adolescence, Time, Reason, Belief, People, Person, Opinion, Jame]</td>\n",
       "      <td>i think that it is unfair for the internet to come down hard on people for things they put on social media a long time ago. i'm talking about cases such as james gunn getting fired over tweets he made a long time ago 2009 2010 , and doja cat getting criticized for using the word 'faggot' in tweets from a few years back too. here's why i hold this view: 1 people change. i think we can all say that the person you are today is not the person you were 10 years ago. your beliefs and values change as time goes by, shaped by your varying life experiences. 10 years is a long time, in which many things can happen that drastically change your view on things. this is especially true throughout adolescence, when your thinking matures and your life is rapidly changing. personally, many of my views were black and white years ago, but as i've gone through more experiences, my views have changed into something more grey. i think it would be really unreasonable if you treated me as if the only views i hold today were the views i held 10 years ago, many of which i would find abhorrent today. 2 people's lives don't revolve around social media. building on the first point, people's views could change without them having to their social media history to reflect that. if my opinion on a subject matter changes, i'm probably not going to dig through my entire post history to delete every post that goes against my newly formed opinion. i think it's unreasonable to expect anyone to do that. now, i don't know for sure if people like james gunn's views on things have changed since he first made the comments that he did. even if those views were changed, i don't expect him to dig through 10 years worth of tweets to delete offensive tweets. now i'm not denying that people should be responsible for what they put online, but i do think that others ought to be more understanding instead of simply dismissing a person for a distant mistake in the past. cmv.</td>\n",
       "      <td>[if i kill someone, ten years later i shouldn't be let out of jail, just because i changed doesn't mean it effects what i've done., however, i highly agree that people getting fired from their jobs is disgusting, everyone should have freedom of speech, not just because it's right, but also because it helps against governments going completely authoritorian, and the entire nature of democracy relies on views not intrinsically being better than others., i am all for james getting criticised foe what he said although i don't think he did anything wrong, but freedom of speech is vital to maintain]</td>\n",
       "      <td>people change all the time. people change their views on a lot of things. their views change over time, and change as they get older. you can't expect someone to change in 10 years. you have to wait until the person you are today to change your view. if you don't change your views today, you will not be able to change them in the future.</td>\n",
       "      <td>It's unfair that we shouldn't expect people to delete hateful/misogynistic/etc. posts they made 10 years ago, then say they didn't want to be accused of it.</td>\n",
       "    </tr>\n",
       "    <tr>\n",
       "      <th>410902</th>\n",
       "      <td>t3_a22nv4</td>\n",
       "      <td>We shouldn't focus on slowing climate change</td>\n",
       "      <td>[Climate change, Economics, Health, Environmental issues, People, Cutting]</td>\n",
       "      <td>first of all: climate change is real happening and in large part caused by human activity. climate change will damage many ecosystems extremely and will make a lot of things humans do right now more dangerous expensive difficult. there are also many other environmental issues especially regarding pollution, local ecosystems and local human livability. many people call for a global solution that involves all countries reducing co2 emissions. but cutting co2 emissions drastically will hurt the economies and human ability to progress. higher economic activity on earth leads to more and better research and enables humans to defend better against the changing environment than cutting co2 emissions and thus slowing climate change would. in short: healthy and sustainable economic growth worldwide is more important than slowing climate change.</td>\n",
       "      <td>[there is an estimate of 12 years before climate change results in irreversible and catastrophic consequences., i would rather have the economy suffer than the cataclysmic effects of climate change.]</td>\n",
       "      <td>climate change is real, but it's not a bad thing. the problem is that we don't know what to do about it. we can't predict what will happen in the future, and we have no way of knowing if it will happen at all. the best we can do is try to mitigate it as much as we can. we need to be prepared for it, but we can only do so much. if we want to fight climate change, we have to</td>\n",
       "      <td>The global CO2 emissions issue is more important than the global economy</td>\n",
       "    </tr>\n",
       "    <tr>\n",
       "      <th>410910</th>\n",
       "      <td>t3_a22xd0</td>\n",
       "      <td>The Australian PM was right to tell students to stop activism around global warming</td>\n",
       "      <td>[Climate change, Science, Activism, Government, Economist, Poverty, Scientist, Planet, Public policy, Fat]</td>\n",
       "      <td>first things first, just so i don't get mauled alive, i believe in climate change. i am not a skeptic. and yes, i know the science is clear although it's dangerous to subscribe to a dogmatic view as i'll explain later i am, however, a big believer it has become difficult to seperate the science from politics these days and that people are in over their heads in terms of what we can do about it. for one, activism is definitely not the right move, especially when they confirm nietzsche's stance on moral self exculpation pretentious . yes, i am referring to the case that just happened in australia. the government spokesperson or whoever it was, was an idiot for wording it the way he did but it doesn't change the fact that not all activism is going to change things or have any real utility you can't just bring up the civil rights movement to justify every movement you decide to be apart of i'm going to go on a tangent for a second to look at bjorn lombergs research where he took the millenial goals of the un 200 of them and ranked order them in terms of return on investment with a team of nobel prize winning economics only to find that global warming wasn't even on the list? ! due to the fact all the complex models required to combat climate change had such large error margins that we couldn't even measure the positive or negative effects of what we do right now? that's important! at its nucleus, science is attempting to prove hypotheses wrong. however, when things become government policy, only studies trying to confirm the research gets approved. we need the best people looking at this without policy getting involved. and people's understandable yet misguided outrage only gives politicians power the last people on earth you want handling this shit look at nutrition for example. today, we understand the importance of dietary fats. in the late 70s however, it became government policy that dietary fats were the main culprits of heart attacks. as a result, any researchers looking to prove the lipid theory wrong were denied funding. the public was led to believe this was true. the food industry developed low fat products and the result was metabolic issues and obesity. that policy turned out to be dead wrong and contributed to the massive healthcare issues that threaten to bankrupt this country to this day. that's not a trivial matter. we have to think big picture no? why is combating climate change our 1 priority? what about world starvation? why should we dump billions and trillions of dollars to combat something we don't know will work? 'we got to try' yea, of course, if there weren't 1000 other global issues that needs just as much funding and research. but nope, climate change is all the rage these days and we feel good standing up for that despite having no knowledge on the complexities of the issues surely global starvation is just as important as climate change? easy to say global warming is the bigger issue sitting on your bed watching netflix but tell that to people starving around the world so how can you be confident, that investing into these policies is the right move on a higher resolution plane of thinking. is it the right move? does it take priority? how does it fit with trying to make the best possible move to best serve our planet? i guess it's almost impossible to answer that but i believe it can be done by combining the top scientists, engineers, economists and statisians around the world and letting them get to work without politics driving them. and guess what, climate change might not be their number 1 priority. or looking at the problem from the bottom up rather than top down might be the best way? ? maybe investing in getting the world out of poverty is the precursor to combating climate change in the most effective manner and that might mean climate change has to take a back seat for awhile. this seems very reasonable to me if you take a step back and do your best to drop your biases and rationalizations impossible but we can try . but if someone were to suggest that certain economists already have , there would be outrage and the media would eat it up the point is, the systems of the world are complicated. and i mean that. you're 12. you don't know what you are even protesting. even the average adult is way in over their heads. the best thing to do is to invest in yourself. research, study and become competent to the point where you can have real impact on the world. change my view</td>\n",
       "      <td>[solving climate change is easier than solving world hunger or world poverty, because we know what we have to do to stop it: stop carbon emissions., now, totally stopping carbon emissions would be impossible., even stopping most carbon emissions would be quite difficult., the trouble is that the government refuses to take meaningful steps toward addressing climate change because doing so would be unprofitable., it's not going to be economical to fix climate change right now., it may never be economical., but it's the right thing to do, and it will make the world a better place., even if there's scientific debate about the exact nature of climate change, every reputable scientist agrees that it's happening, it's a problem, it's accelerating, and the longer we ignore it the worse of a problem it will be.]</td>\n",
       "      <td>i think you're missing a few things:1. climate change is not something that will happen in the near future. 2. we have no way of knowing if it will happen or not. if it does, we can't do anything about it except wait and see. 3. it is not going to happen until the middle of the 20th century. there is no way to know if climate change will happen before then. 4. we are not in a position to</td>\n",
       "      <td>Scientists, politics, and all else is too big to fail in dealing with climate change</td>\n",
       "    </tr>\n",
       "    <tr>\n",
       "      <th>410916</th>\n",
       "      <td>t3_a22y6n</td>\n",
       "      <td>Feeding cats or dogs a diet with meat is indefensible.</td>\n",
       "      <td>[Animal, Dog, Cat, Veganism, People, Animal feed]</td>\n",
       "      <td>dogs can be perfectly healthy with a vegetarian diet. and while cats can thrive on a vegetarian diet, it takes more effort. if you feed your cat dog meat, you'll be responsible for the deaths of 100s of smarter animals such as pigs. you're killing 100s of animals smarter than cats dogs to sustain just one of them. it doesn't make sense. even if a vegan diet killed a cat dog immediately which it doesn't , it'd still be the more moral thing to do because you'd kill only 1 animal instead of 100s. so calling people who feed their pets vegan diets shit like 'animal abusers' is hypocritical.</td>\n",
       "      <td>[no it's actually animal abuse for cats., cats are carnivores., please feed them cat food.]</td>\n",
       "      <td>i'm a vegan, but i don't think veganism is the answer. veganism doesn't make sense to me. it's a lifestyle choice, not a moral choice. i'm not sure why you're trying to make a distinction between veganism and veganism.</td>\n",
       "      <td>Vegan food is better for the animals that it consumes. Vegans who eat cat/dog meat are animal abusers.</td>\n",
       "    </tr>\n",
       "  </tbody>\n",
       "</table>\n",
       "</div>"
      ],
      "text/plain": [
       "          post_id  \\\n",
       "410850  t3_a20l8s   \n",
       "410858  t3_a22bn2   \n",
       "410902  t3_a22nv4   \n",
       "410910  t3_a22xd0   \n",
       "410916  t3_a22y6n   \n",
       "\n",
       "                                                                                                   title  \\\n",
       "410850                                                              people should come with instructions   \n",
       "410858   People should not be heavily criticized for things they put on social media in the distant past   \n",
       "410902                                                      We shouldn't focus on slowing climate change   \n",
       "410910               The Australian PM was right to tell students to stop activism around global warming   \n",
       "410916                                            Feeding cats or dogs a diet with meat is indefensible.   \n",
       "\n",
       "                                                                                                    post_concepts2  \\\n",
       "410850         [Algorithm, Extraversion and introversion, People, Secrecy, Recommender system, Existential crisis]   \n",
       "410858               [Internet, Black and white, Adolescence, Time, Reason, Belief, People, Person, Opinion, Jame]   \n",
       "410902                                  [Climate change, Economics, Health, Environmental issues, People, Cutting]   \n",
       "410910  [Climate change, Science, Activism, Government, Economist, Poverty, Scientist, Planet, Public policy, Fat]   \n",
       "410916                                                           [Animal, Dog, Cat, Veganism, People, Animal feed]   \n",
       "\n",
       "                                                                                                                                                                                                                                                                                                                                                                                                                                                                                                                                                                                                                                                                                                                                                                                                                                                                                                                                                                                                                                                                                                                                                                                                                                                                                                                                                                                                                                                                                                                                                                                                                                                                                                                                                                                                                                                                                                                                                                                                                                                                                                                                                                                                                                                                                                                                                                                                                                                                                                                                                                                                                                                                                                                                                                                                                                                                                                                                                                                                                                                                                                                                                                                                                                                                                                                                                                                                                                                                                                                                                                                                                                                                                                                                                                                                                                                                                                                                                                                                                                                                                                                                                                                                                                                                                                                                                                                                                                                                                                                                                                                                                                                                         post  \\\n",
       "410850                                                                                                                                                                                                                                                                                                                                                                                                                                                                                                                                                                                                                                                                                                                                                                                                                                                                                                                                                                                                                                                                                                                                                                                                                                                                                                                                                                                                                                                                                                                                                                                                                                                                                                                                                                                                                                                                                                                                                                                                                                                                                                                                                                                                                                                                                                                                                                                                                                                                                                                                                                                                                                                                                                                                                                                                                                                                                                                                                                                                                                                                                                                                                                                                                                                                                                                                                                                                                                                                                                                                                                                                                                                                                                                   cmv. when you meet people, the introduction should come with an electronic signature that informs us of that person s perceived disposition. that way you can efficiently engage them as they would like to be engaged. i would for example put things like introvert but likes to have fun and sing karaoke and write on reddit dislikes sports, random acts of kindness and illogical thinking that way people can easily deal with me without spending time trying to figure that stuff out. we can keep our deepest darkest secrets to ourselves, but a quick cheat sheet would be helpful we can be as forthcoming as we feel comfortable. algorithms could help is pair like minded souls. there would recommendations like amazon ads josh in appt a might be a good friend. he too is pondering his existential crisis i think like would be more efficient and satisfying if we could just instantly avoid people or gravitate toward some.   \n",
       "410858                                                                                                                                                                                                                                                                                                                                                                                                                                                                                                                                                                                                                                                                                                                                                                                                                                                                                                                                                                                                                                                                                                                                                                                                                                                                                                                                                                                                                                                                                                                                                                                                                                                                                                                                                                                                                                                                                                                                                                                                                                                                                                                                                                                                                                                                                                                                                                                                                                                                                                                                                                                                                                   i think that it is unfair for the internet to come down hard on people for things they put on social media a long time ago. i'm talking about cases such as james gunn getting fired over tweets he made a long time ago 2009 2010 , and doja cat getting criticized for using the word 'faggot' in tweets from a few years back too. here's why i hold this view: 1 people change. i think we can all say that the person you are today is not the person you were 10 years ago. your beliefs and values change as time goes by, shaped by your varying life experiences. 10 years is a long time, in which many things can happen that drastically change your view on things. this is especially true throughout adolescence, when your thinking matures and your life is rapidly changing. personally, many of my views were black and white years ago, but as i've gone through more experiences, my views have changed into something more grey. i think it would be really unreasonable if you treated me as if the only views i hold today were the views i held 10 years ago, many of which i would find abhorrent today. 2 people's lives don't revolve around social media. building on the first point, people's views could change without them having to their social media history to reflect that. if my opinion on a subject matter changes, i'm probably not going to dig through my entire post history to delete every post that goes against my newly formed opinion. i think it's unreasonable to expect anyone to do that. now, i don't know for sure if people like james gunn's views on things have changed since he first made the comments that he did. even if those views were changed, i don't expect him to dig through 10 years worth of tweets to delete offensive tweets. now i'm not denying that people should be responsible for what they put online, but i do think that others ought to be more understanding instead of simply dismissing a person for a distant mistake in the past. cmv.   \n",
       "410902                                                                                                                                                                                                                                                                                                                                                                                                                                                                                                                                                                                                                                                                                                                                                                                                                                                                                                                                                                                                                                                                                                                                                                                                                                                                                                                                                                                                                                                                                                                                                                                                                                                                                                                                                                                                                                                                                                                                                                                                                                                                                                                                                                                                                                                                                                                                                                                                                                                                                                                                                                                                                                                                                                                                                                                                                                                                                                                                                                                                                                                                                                                                                                                                                                                                                                                                                                                                                                                                                                                                                                                                                                                                                                                                                                                        first of all: climate change is real happening and in large part caused by human activity. climate change will damage many ecosystems extremely and will make a lot of things humans do right now more dangerous expensive difficult. there are also many other environmental issues especially regarding pollution, local ecosystems and local human livability. many people call for a global solution that involves all countries reducing co2 emissions. but cutting co2 emissions drastically will hurt the economies and human ability to progress. higher economic activity on earth leads to more and better research and enables humans to defend better against the changing environment than cutting co2 emissions and thus slowing climate change would. in short: healthy and sustainable economic growth worldwide is more important than slowing climate change.   \n",
       "410910  first things first, just so i don't get mauled alive, i believe in climate change. i am not a skeptic. and yes, i know the science is clear although it's dangerous to subscribe to a dogmatic view as i'll explain later i am, however, a big believer it has become difficult to seperate the science from politics these days and that people are in over their heads in terms of what we can do about it. for one, activism is definitely not the right move, especially when they confirm nietzsche's stance on moral self exculpation pretentious . yes, i am referring to the case that just happened in australia. the government spokesperson or whoever it was, was an idiot for wording it the way he did but it doesn't change the fact that not all activism is going to change things or have any real utility you can't just bring up the civil rights movement to justify every movement you decide to be apart of i'm going to go on a tangent for a second to look at bjorn lombergs research where he took the millenial goals of the un 200 of them and ranked order them in terms of return on investment with a team of nobel prize winning economics only to find that global warming wasn't even on the list? ! due to the fact all the complex models required to combat climate change had such large error margins that we couldn't even measure the positive or negative effects of what we do right now? that's important! at its nucleus, science is attempting to prove hypotheses wrong. however, when things become government policy, only studies trying to confirm the research gets approved. we need the best people looking at this without policy getting involved. and people's understandable yet misguided outrage only gives politicians power the last people on earth you want handling this shit look at nutrition for example. today, we understand the importance of dietary fats. in the late 70s however, it became government policy that dietary fats were the main culprits of heart attacks. as a result, any researchers looking to prove the lipid theory wrong were denied funding. the public was led to believe this was true. the food industry developed low fat products and the result was metabolic issues and obesity. that policy turned out to be dead wrong and contributed to the massive healthcare issues that threaten to bankrupt this country to this day. that's not a trivial matter. we have to think big picture no? why is combating climate change our 1 priority? what about world starvation? why should we dump billions and trillions of dollars to combat something we don't know will work? 'we got to try' yea, of course, if there weren't 1000 other global issues that needs just as much funding and research. but nope, climate change is all the rage these days and we feel good standing up for that despite having no knowledge on the complexities of the issues surely global starvation is just as important as climate change? easy to say global warming is the bigger issue sitting on your bed watching netflix but tell that to people starving around the world so how can you be confident, that investing into these policies is the right move on a higher resolution plane of thinking. is it the right move? does it take priority? how does it fit with trying to make the best possible move to best serve our planet? i guess it's almost impossible to answer that but i believe it can be done by combining the top scientists, engineers, economists and statisians around the world and letting them get to work without politics driving them. and guess what, climate change might not be their number 1 priority. or looking at the problem from the bottom up rather than top down might be the best way? ? maybe investing in getting the world out of poverty is the precursor to combating climate change in the most effective manner and that might mean climate change has to take a back seat for awhile. this seems very reasonable to me if you take a step back and do your best to drop your biases and rationalizations impossible but we can try . but if someone were to suggest that certain economists already have , there would be outrage and the media would eat it up the point is, the systems of the world are complicated. and i mean that. you're 12. you don't know what you are even protesting. even the average adult is way in over their heads. the best thing to do is to invest in yourself. research, study and become competent to the point where you can have real impact on the world. change my view   \n",
       "410916                                                                                                                                                                                                                                                                                                                                                                                                                                                                                                                                                                                                                                                                                                                                                                                                                                                                                                                                                                                                                                                                                                                                                                                                                                                                                                                                                                                                                                                                                                                                                                                                                                                                                                                                                                                                                                                                                                                                                                                                                                                                                                                                                                                                                                                                                                                                                                                                                                                                                                                                                                                                                                                                                                                                                                                                                                                                                                                                                                                                                                                                                                                                                                                                                                                                                                                                                                                                                                                                                                                                                                                                                                                                                                                                                                                                                                                                                                                                                                                                                                                       dogs can be perfectly healthy with a vegetarian diet. and while cats can thrive on a vegetarian diet, it takes more effort. if you feed your cat dog meat, you'll be responsible for the deaths of 100s of smarter animals such as pigs. you're killing 100s of animals smarter than cats dogs to sustain just one of them. it doesn't make sense. even if a vegan diet killed a cat dog immediately which it doesn't , it'd still be the more moral thing to do because you'd kill only 1 animal instead of 100s. so calling people who feed their pets vegan diets shit like 'animal abusers' is hypocritical.   \n",
       "\n",
       "                                                                                                                                                                                                                                                                                                                                                                                                                                                                                                                                                                                                                                                                                                                                                                                                                                               counter  \\\n",
       "410850                                                                                                                                                               [so you're looking to establish an immensely personal database of everyone's likes and dislikes and whatnot, and we're all supposed to keep it updated, right?, and it'll never be abused by a stalker, right?, and it'll never be used by law enforcement to profile law abiding citizens, right?, and it'll never be used to help representatives gerrymander a district, right?, you're looking to avoid small talk, a casual activity that to most people isn't even a nuisance, and to do it, you're proposing a massive amount of infrastructure and a dangerous erosion of privacy while exposing people and their info to those who would abuse it., yeah, no thank you.]   \n",
       "410858                                                                                                                                                                                                                        [if i kill someone, ten years later i shouldn't be let out of jail, just because i changed doesn't mean it effects what i've done., however, i highly agree that people getting fired from their jobs is disgusting, everyone should have freedom of speech, not just because it's right, but also because it helps against governments going completely authoritorian, and the entire nature of democracy relies on views not intrinsically being better than others., i am all for james getting criticised foe what he said although i don't think he did anything wrong, but freedom of speech is vital to maintain]   \n",
       "410902                                                                                                                                                                                                                                                                                                                                                                                                                                                                                                                                                                                                                                         [there is an estimate of 12 years before climate change results in irreversible and catastrophic consequences., i would rather have the economy suffer than the cataclysmic effects of climate change.]   \n",
       "410910  [solving climate change is easier than solving world hunger or world poverty, because we know what we have to do to stop it: stop carbon emissions., now, totally stopping carbon emissions would be impossible., even stopping most carbon emissions would be quite difficult., the trouble is that the government refuses to take meaningful steps toward addressing climate change because doing so would be unprofitable., it's not going to be economical to fix climate change right now., it may never be economical., but it's the right thing to do, and it will make the world a better place., even if there's scientific debate about the exact nature of climate change, every reputable scientist agrees that it's happening, it's a problem, it's accelerating, and the longer we ignore it the worse of a problem it will be.]   \n",
       "410916                                                                                                                                                                                                                                                                                                                                                                                                                                                                                                                                                                                                                                                                                                                                                     [no it's actually animal abuse for cats., cats are carnivores., please feed them cat food.]   \n",
       "\n",
       "                                                                                                                                                                                                                                                                                                                                                                                                                 single_pred_counter_arguments_no_stance  \\\n",
       "410850  i think you're missing out on a lot of the benefits of social interaction. first off, social interaction is not the only way to meet people, but it's the most efficient way to find them. if you're looking for a relationship, you're not going to be able to find one that suits you because you're going to have to be a little more selective about the people you meet. second, you'll be more likely to meet someone who doesn't like you   \n",
       "410858                                                                                               people change all the time. people change their views on a lot of things. their views change over time, and change as they get older. you can't expect someone to change in 10 years. you have to wait until the person you are today to change your view. if you don't change your views today, you will not be able to change them in the future.   \n",
       "410902                                                           climate change is real, but it's not a bad thing. the problem is that we don't know what to do about it. we can't predict what will happen in the future, and we have no way of knowing if it will happen at all. the best we can do is try to mitigate it as much as we can. we need to be prepared for it, but we can only do so much. if we want to fight climate change, we have to   \n",
       "410910                                            i think you're missing a few things:1. climate change is not something that will happen in the near future. 2. we have no way of knowing if it will happen or not. if it does, we can't do anything about it except wait and see. 3. it is not going to happen until the middle of the 20th century. there is no way to know if climate change will happen before then. 4. we are not in a position to   \n",
       "410916                                                                                                                                                                                                                        i'm a vegan, but i don't think veganism is the answer. veganism doesn't make sense to me. it's a lifestyle choice, not a moral choice. i'm not sure why you're trying to make a distinction between veganism and veganism.   \n",
       "\n",
       "                                                                                                                                     single_pred_conclusion_no_stance  \n",
       "410850                                                                                                                 We should just recognize people’s temperament.  \n",
       "410858   It's unfair that we shouldn't expect people to delete hateful/misogynistic/etc. posts they made 10 years ago, then say they didn't want to be accused of it.  \n",
       "410902                                                                                       The global CO2 emissions issue is more important than the global economy  \n",
       "410910                                                                           Scientists, politics, and all else is too big to fail in dealing with climate change  \n",
       "410916                                                         Vegan food is better for the animals that it consumes. Vegans who eat cat/dog meat are animal abusers.  "
      ]
     },
     "execution_count": 36,
     "metadata": {},
     "output_type": "execute_result"
    }
   ],
   "source": [
    "df.head()"
   ]
  },
  {
   "cell_type": "code",
   "execution_count": null,
   "metadata": {
    "scrolled": true,
    "tags": []
   },
   "outputs": [
    {
     "name": "stdout",
     "output_type": "stream",
     "text": [
      "['Science', 'Law', 'Military']\n"
     ]
    },
    {
     "name": "stderr",
     "output_type": "stream",
     "text": [
      "Parameter 'function'=<function generate_two_seq_prompted_counters.<locals>.<lambda> at 0x7f8d4c1ce940> of the transform datasets.arrow_dataset.Dataset._map_single couldn't be hashed properly, a random hash was used instead. Make sure your transforms and parameters are serializable with pickle or dill for the dataset fingerprinting and caching to work. If you reuse this transform, the caching mechanism will consider it to be different from the previous calls and recompute everything. This warning is only showed once. Subsequent hashing failures won't be showed.\n"
     ]
    },
    {
     "data": {
      "application/vnd.jupyter.widget-view+json": {
       "model_id": "9ca0e671a8fd43bc8f8af3e013518a74",
       "version_major": 2,
       "version_minor": 0
      },
      "text/plain": [
       "  0%|          | 0/2 [00:00<?, ?ba/s]"
      ]
     },
     "metadata": {},
     "output_type": "display_data"
    },
    {
     "name": "stderr",
     "output_type": "stream",
     "text": [
      "100%|██████████| 125/125 [05:02<00:00,  2.42s/it]"
     ]
    },
    {
     "name": "stdout",
     "output_type": "stream",
     "text": [
      "['Religion', 'Sovereignty', 'Transgender']\n"
     ]
    },
    {
     "name": "stderr",
     "output_type": "stream",
     "text": [
      "\n"
     ]
    },
    {
     "data": {
      "application/vnd.jupyter.widget-view+json": {
       "model_id": "65eeb89a55674f158147aed1e5da3be0",
       "version_major": 2,
       "version_minor": 0
      },
      "text/plain": [
       "  0%|          | 0/2 [00:00<?, ?ba/s]"
      ]
     },
     "metadata": {},
     "output_type": "display_data"
    },
    {
     "name": "stderr",
     "output_type": "stream",
     "text": [
      "100%|██████████| 125/125 [05:00<00:00,  2.40s/it]"
     ]
    },
    {
     "name": "stdout",
     "output_type": "stream",
     "text": [
      "['Fact', 'European Union law', 'Surgery']\n"
     ]
    },
    {
     "name": "stderr",
     "output_type": "stream",
     "text": [
      "\n"
     ]
    },
    {
     "data": {
      "application/vnd.jupyter.widget-view+json": {
       "model_id": "7b12468345364b5aa02ef3c61a2902d2",
       "version_major": 2,
       "version_minor": 0
      },
      "text/plain": [
       "  0%|          | 0/2 [00:00<?, ?ba/s]"
      ]
     },
     "metadata": {},
     "output_type": "display_data"
    },
    {
     "name": "stderr",
     "output_type": "stream",
     "text": [
      "100%|██████████| 125/125 [05:00<00:00,  2.41s/it]"
     ]
    },
    {
     "name": "stdout",
     "output_type": "stream",
     "text": [
      "['Idiot', 'Border', 'Torture']\n"
     ]
    },
    {
     "name": "stderr",
     "output_type": "stream",
     "text": [
      "\n"
     ]
    },
    {
     "data": {
      "application/vnd.jupyter.widget-view+json": {
       "model_id": "c41ba41fd07c41d3a29c78551859a62d",
       "version_major": 2,
       "version_minor": 0
      },
      "text/plain": [
       "  0%|          | 0/2 [00:00<?, ?ba/s]"
      ]
     },
     "metadata": {},
     "output_type": "display_data"
    },
    {
     "name": "stderr",
     "output_type": "stream",
     "text": [
      "100%|██████████| 125/125 [05:06<00:00,  2.45s/it]"
     ]
    },
    {
     "name": "stdout",
     "output_type": "stream",
     "text": [
      "['Parking violation', 'People', 'Headquarters']\n"
     ]
    },
    {
     "name": "stderr",
     "output_type": "stream",
     "text": [
      "\n"
     ]
    },
    {
     "data": {
      "application/vnd.jupyter.widget-view+json": {
       "model_id": "9900260b03844be480a9ee07986ca77d",
       "version_major": 2,
       "version_minor": 0
      },
      "text/plain": [
       "  0%|          | 0/2 [00:00<?, ?ba/s]"
      ]
     },
     "metadata": {},
     "output_type": "display_data"
    },
    {
     "name": "stderr",
     "output_type": "stream",
     "text": [
      "100%|██████████| 125/125 [05:01<00:00,  2.41s/it]"
     ]
    },
    {
     "name": "stdout",
     "output_type": "stream",
     "text": [
      "['', 'Idea', 'United States Secretary of Defense']\n"
     ]
    },
    {
     "name": "stderr",
     "output_type": "stream",
     "text": [
      "\n"
     ]
    },
    {
     "data": {
      "application/vnd.jupyter.widget-view+json": {
       "model_id": "48d303ea6fda4f068c393099e5baf827",
       "version_major": 2,
       "version_minor": 0
      },
      "text/plain": [
       "  0%|          | 0/2 [00:00<?, ?ba/s]"
      ]
     },
     "metadata": {},
     "output_type": "display_data"
    },
    {
     "name": "stderr",
     "output_type": "stream",
     "text": [
      "100%|██████████| 125/125 [05:02<00:00,  2.42s/it]"
     ]
    },
    {
     "name": "stdout",
     "output_type": "stream",
     "text": [
      "['', 'Trade bloc', 'Presidency of Barack Obama']\n"
     ]
    },
    {
     "name": "stderr",
     "output_type": "stream",
     "text": [
      "\n"
     ]
    },
    {
     "data": {
      "application/vnd.jupyter.widget-view+json": {
       "model_id": "7f5ce60d40b540068f4cc00d635f3247",
       "version_major": 2,
       "version_minor": 0
      },
      "text/plain": [
       "  0%|          | 0/2 [00:00<?, ?ba/s]"
      ]
     },
     "metadata": {},
     "output_type": "display_data"
    },
    {
     "name": "stderr",
     "output_type": "stream",
     "text": [
      "100%|██████████| 125/125 [04:58<00:00,  2.38s/it]"
     ]
    },
    {
     "name": "stdout",
     "output_type": "stream",
     "text": [
      "['', 'Sign', 'Citizenship of the United States']\n"
     ]
    },
    {
     "name": "stderr",
     "output_type": "stream",
     "text": [
      "\n"
     ]
    },
    {
     "data": {
      "application/vnd.jupyter.widget-view+json": {
       "model_id": "cf03fe61d849454d9f0b1ada1b2ee3c3",
       "version_major": 2,
       "version_minor": 0
      },
      "text/plain": [
       "  0%|          | 0/2 [00:00<?, ?ba/s]"
      ]
     },
     "metadata": {},
     "output_type": "display_data"
    },
    {
     "name": "stderr",
     "output_type": "stream",
     "text": [
      "100%|██████████| 125/125 [04:54<00:00,  2.35s/it]"
     ]
    },
    {
     "name": "stdout",
     "output_type": "stream",
     "text": [
      "['', '', 'Senate']\n"
     ]
    },
    {
     "name": "stderr",
     "output_type": "stream",
     "text": [
      "\n"
     ]
    },
    {
     "data": {
      "application/vnd.jupyter.widget-view+json": {
       "model_id": "dc05eeb8c9ab46a5ba455253cf03d531",
       "version_major": 2,
       "version_minor": 0
      },
      "text/plain": [
       "  0%|          | 0/2 [00:00<?, ?ba/s]"
      ]
     },
     "metadata": {},
     "output_type": "display_data"
    },
    {
     "name": "stderr",
     "output_type": "stream",
     "text": [
      "100%|██████████| 125/125 [04:53<00:00,  2.35s/it]"
     ]
    },
    {
     "name": "stdout",
     "output_type": "stream",
     "text": [
      "['', '', 'Secretary']\n"
     ]
    },
    {
     "name": "stderr",
     "output_type": "stream",
     "text": [
      "\n"
     ]
    },
    {
     "data": {
      "application/vnd.jupyter.widget-view+json": {
       "model_id": "174342fdb9c244aebe45dd0e5c0ff892",
       "version_major": 2,
       "version_minor": 0
      },
      "text/plain": [
       "  0%|          | 0/2 [00:00<?, ?ba/s]"
      ]
     },
     "metadata": {},
     "output_type": "display_data"
    },
    {
     "name": "stderr",
     "output_type": "stream",
     "text": [
      " 40%|████      | 50/125 [01:57<02:53,  2.32s/it]"
     ]
    }
   ],
   "source": [
    "df = generate_multiple_counters(model_without_stance, \n",
    "                                                   tokenizer, df, conclusion_gen_kwargs, argument_gen_kwargs, \n",
    "                                                   output_clm='post_counters', \n",
    "                                                   post_concepts_clm='post_concepts2', \n",
    "                                                   num_candidates=10, \n",
    "                                                   batch_size=16)"
   ]
  },
  {
   "cell_type": "code",
   "execution_count": null,
   "metadata": {
    "scrolled": true,
    "tags": []
   },
   "outputs": [],
   "source": [
    "df[['title', 'post_concepts2', 'post_counters']].head()"
   ]
  },
  {
   "cell_type": "code",
   "execution_count": null,
   "metadata": {},
   "outputs": [],
   "source": [
    "conclusions = [[x[1] for x in row] for row in df.post_counters.tolist()]\n",
    "counters = [[x[2] for x in row] for row in df.post_counters.tolist()]"
   ]
  },
  {
   "cell_type": "code",
   "execution_count": null,
   "metadata": {
    "tags": []
   },
   "outputs": [],
   "source": [
    "best_conclusions, best_counters = zip(*get_best_counters(conclusions, counters))"
   ]
  },
  {
   "cell_type": "code",
   "execution_count": null,
   "metadata": {},
   "outputs": [],
   "source": [
    "df['pred_counter_arguments_no_stance'] = best_counters\n",
    "df['pred_conclusions_no_stance'] = best_conclusions"
   ]
  },
  {
   "cell_type": "code",
   "execution_count": null,
   "metadata": {
    "scrolled": true,
    "tags": []
   },
   "outputs": [],
   "source": [
    "df[['title', 'post_counters', 'pred_conclusions_no_stance', 'pred_counter_arguments_no_stance']].head()"
   ]
  },
  {
   "cell_type": "code",
   "execution_count": null,
   "metadata": {},
   "outputs": [],
   "source": [
    "df.to_pickle('../multitask-counter-arg-generation/data/output/ca-final-models/mt-v4/results/test_prompts_preds_df.pkl')"
   ]
  },
  {
   "cell_type": "markdown",
   "metadata": {},
   "source": [
    "#### Predict single counters:"
   ]
  },
  {
   "cell_type": "code",
   "execution_count": 30,
   "metadata": {},
   "outputs": [],
   "source": [
    "conclusion_gen_kwargs = {\n",
    "    \"do_sample\": True, \n",
    "    \"max_length\":50,\n",
    "    \"top_p\":0.95, \n",
    "    \"num_beams\":1,\n",
    "}\n",
    "\n",
    "argument_gen_kwargs = {\n",
    "    \"do_sample\": True, \n",
    "    \"max_length\":100,\n",
    "    \"min_length\":50,\n",
    "    \"top_p\":0.95, \n",
    "    \"no_repeat_ngram_size\":3,\n",
    "    \"top_k\": 50,\n",
    "    \"num_beams\":4,\n",
    "}"
   ]
  },
  {
   "cell_type": "code",
   "execution_count": 31,
   "metadata": {},
   "outputs": [
    {
     "data": {
      "application/vnd.jupyter.widget-view+json": {
       "model_id": "97012de33f9942f69a29a336d93df8ee",
       "version_major": 2,
       "version_minor": 0
      },
      "text/plain": [
       "  0%|          | 0/9 [00:00<?, ?ba/s]"
      ]
     },
     "metadata": {},
     "output_type": "display_data"
    }
   ],
   "source": [
    "ds = Dataset.from_pandas(df[['post']])\n",
    "ds = ds.map(lambda a: tokenizer(a['post'], padding='max_length', max_length=512, truncation=True), \n",
    "                                   remove_columns=[ '__index_level_0__'], batched=True)\n",
    "\n",
    "ds.set_format(type='torch', columns=['input_ids', 'attention_mask'])\n",
    "dataloader = torch.utils.data.DataLoader(ds, batch_size=batch_size)"
   ]
  },
  {
   "cell_type": "code",
   "execution_count": 32,
   "metadata": {},
   "outputs": [],
   "source": [
    "no_stance_conclusions, no_stance_counter_arguments = generate_counters(model_without_stance, tokenizer, dataloader, argument_gen_kwargs, conclusion_gen_kwargs)"
   ]
  },
  {
   "cell_type": "code",
   "execution_count": 33,
   "metadata": {},
   "outputs": [],
   "source": [
    "df['single_pred_counter_arguments_no_stance'] = no_stance_counter_arguments\n",
    "df['single_pred_conclusion_no_stance'] = no_stance_conclusions"
   ]
  },
  {
   "cell_type": "code",
   "execution_count": 35,
   "metadata": {
    "scrolled": true,
    "tags": []
   },
   "outputs": [
    {
     "data": {
      "text/html": [
       "<div>\n",
       "<style scoped>\n",
       "    .dataframe tbody tr th:only-of-type {\n",
       "        vertical-align: middle;\n",
       "    }\n",
       "\n",
       "    .dataframe tbody tr th {\n",
       "        vertical-align: top;\n",
       "    }\n",
       "\n",
       "    .dataframe thead th {\n",
       "        text-align: right;\n",
       "    }\n",
       "</style>\n",
       "<table border=\"1\" class=\"dataframe\">\n",
       "  <thead>\n",
       "    <tr style=\"text-align: right;\">\n",
       "      <th></th>\n",
       "      <th>title</th>\n",
       "      <th>single_pred_counter_arguments_no_stance</th>\n",
       "    </tr>\n",
       "  </thead>\n",
       "  <tbody>\n",
       "    <tr>\n",
       "      <th>410850</th>\n",
       "      <td>people should come with instructions</td>\n",
       "      <td>i think you're missing out on a lot of the benefits of social interaction. first off, social interaction is not the only way to meet people, but it's the most efficient way to find them. if you're looking for a relationship, you're not going to be able to find one that suits you because you're going to have to be a little more selective about the people you meet. second, you'll be more likely to meet someone who doesn't like you</td>\n",
       "    </tr>\n",
       "    <tr>\n",
       "      <th>410858</th>\n",
       "      <td>People should not be heavily criticized for things they put on social media in the distant past</td>\n",
       "      <td>people change all the time. people change their views on a lot of things. their views change over time, and change as they get older. you can't expect someone to change in 10 years. you have to wait until the person you are today to change your view. if you don't change your views today, you will not be able to change them in the future.</td>\n",
       "    </tr>\n",
       "    <tr>\n",
       "      <th>410902</th>\n",
       "      <td>We shouldn't focus on slowing climate change</td>\n",
       "      <td>climate change is real, but it's not a bad thing. the problem is that we don't know what to do about it. we can't predict what will happen in the future, and we have no way of knowing if it will happen at all. the best we can do is try to mitigate it as much as we can. we need to be prepared for it, but we can only do so much. if we want to fight climate change, we have to</td>\n",
       "    </tr>\n",
       "    <tr>\n",
       "      <th>410910</th>\n",
       "      <td>The Australian PM was right to tell students to stop activism around global warming</td>\n",
       "      <td>i think you're missing a few things:1. climate change is not something that will happen in the near future. 2. we have no way of knowing if it will happen or not. if it does, we can't do anything about it except wait and see. 3. it is not going to happen until the middle of the 20th century. there is no way to know if climate change will happen before then. 4. we are not in a position to</td>\n",
       "    </tr>\n",
       "    <tr>\n",
       "      <th>410916</th>\n",
       "      <td>Feeding cats or dogs a diet with meat is indefensible.</td>\n",
       "      <td>i'm a vegan, but i don't think veganism is the answer. veganism doesn't make sense to me. it's a lifestyle choice, not a moral choice. i'm not sure why you're trying to make a distinction between veganism and veganism.</td>\n",
       "    </tr>\n",
       "  </tbody>\n",
       "</table>\n",
       "</div>"
      ],
      "text/plain": [
       "                                                                                                   title  \\\n",
       "410850                                                              people should come with instructions   \n",
       "410858   People should not be heavily criticized for things they put on social media in the distant past   \n",
       "410902                                                      We shouldn't focus on slowing climate change   \n",
       "410910               The Australian PM was right to tell students to stop activism around global warming   \n",
       "410916                                            Feeding cats or dogs a diet with meat is indefensible.   \n",
       "\n",
       "                                                                                                                                                                                                                                                                                                                                                                                                                 single_pred_counter_arguments_no_stance  \n",
       "410850  i think you're missing out on a lot of the benefits of social interaction. first off, social interaction is not the only way to meet people, but it's the most efficient way to find them. if you're looking for a relationship, you're not going to be able to find one that suits you because you're going to have to be a little more selective about the people you meet. second, you'll be more likely to meet someone who doesn't like you  \n",
       "410858                                                                                               people change all the time. people change their views on a lot of things. their views change over time, and change as they get older. you can't expect someone to change in 10 years. you have to wait until the person you are today to change your view. if you don't change your views today, you will not be able to change them in the future.  \n",
       "410902                                                           climate change is real, but it's not a bad thing. the problem is that we don't know what to do about it. we can't predict what will happen in the future, and we have no way of knowing if it will happen at all. the best we can do is try to mitigate it as much as we can. we need to be prepared for it, but we can only do so much. if we want to fight climate change, we have to  \n",
       "410910                                            i think you're missing a few things:1. climate change is not something that will happen in the near future. 2. we have no way of knowing if it will happen or not. if it does, we can't do anything about it except wait and see. 3. it is not going to happen until the middle of the 20th century. there is no way to know if climate change will happen before then. 4. we are not in a position to  \n",
       "410916                                                                                                                                                                                                                        i'm a vegan, but i don't think veganism is the answer. veganism doesn't make sense to me. it's a lifestyle choice, not a moral choice. i'm not sure why you're trying to make a distinction between veganism and veganism.  "
      ]
     },
     "execution_count": 35,
     "metadata": {},
     "output_type": "execute_result"
    }
   ],
   "source": [
    "df[['title', 'single_pred_counter_arguments_no_stance']].head()"
   ]
  },
  {
   "cell_type": "code",
   "execution_count": 26,
   "metadata": {},
   "outputs": [],
   "source": [
    "df.to_pickle('../multitask-counter-arg-generation/data/output/ca-final-models/mt-v4/results/test_prompts_preds_df.pkl')"
   ]
  },
  {
   "cell_type": "markdown",
   "metadata": {},
   "source": [
    "----------"
   ]
  },
  {
   "cell_type": "code",
   "execution_count": 10,
   "metadata": {},
   "outputs": [],
   "source": [
    "df = pd.read_pickle('../multitask-counter-arg-generation/data/output/ca-final-models/mt-v4/results/test_prompts_preds_df.pkl')"
   ]
  }
 ],
 "metadata": {
  "kernelspec": {
   "display_name": "Python 3",
   "language": "python",
   "name": "python3"
  },
  "language_info": {
   "codemirror_mode": {
    "name": "ipython",
    "version": 3
   },
   "file_extension": ".py",
   "mimetype": "text/x-python",
   "name": "python",
   "nbconvert_exporter": "python",
   "pygments_lexer": "ipython3",
   "version": "3.8.10"
  }
 },
 "nbformat": 4,
 "nbformat_minor": 4
}
