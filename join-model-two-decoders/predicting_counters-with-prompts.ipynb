{
 "cells": [
  {
   "cell_type": "code",
   "execution_count": 1,
   "metadata": {},
   "outputs": [],
   "source": [
    "import os\n",
    "import sys\n",
    "\n",
    "sys.path.append('../multitask-counter-arg-generation/src-py/')\n",
    "os.environ['CUDA_VISIBLE_DEVICES']='1'"
   ]
  },
  {
   "cell_type": "code",
   "execution_count": 2,
   "metadata": {},
   "outputs": [],
   "source": [
    "import csv\n",
    "import random\n",
    "import torch\n",
    "import numpy as np\n",
    "from torch.utils.data import DataLoader\n",
    "from transformers import AdamW\n",
    "from transformers import BertTokenizer, BertForSequenceClassification\n",
    "from transformers import AutoTokenizer, AutoModelForSequenceClassification, TextClassificationPipeline\n",
    "import torch\n",
    "import transformers\n",
    "from rouge_score import rouge_scorer\n",
    "from transformers import BartTokenizer, BartForConditionalGeneration\n",
    "from torch.nn import CrossEntropyLoss, MSELoss\n",
    "import os\n",
    "from model import MultiTaskBart\n",
    "from model import OurModel\n",
    "from utils import parse_df\n",
    "import time\n",
    "import sys\n",
    "import tqdm\n",
    "import pandas as pd\n",
    "from datasets import load_dataset, load_metric, Dataset\n",
    "\n",
    "import nltk\n",
    "pd.set_option('display.max_colwidth', None)"
   ]
  },
  {
   "cell_type": "code",
   "execution_count": 20,
   "metadata": {},
   "outputs": [],
   "source": [
    "import prompted_conclusion_utils as conc_utils\n",
    "from prompted_conclusion_utils import *\n",
    "\n",
    "from transformers.generation_logits_process import * "
   ]
  },
  {
   "cell_type": "code",
   "execution_count": 4,
   "metadata": {},
   "outputs": [
    {
     "name": "stdout",
     "output_type": "stream",
     "text": [
      "Using GPU?  True\n",
      "Device name: NVIDIA A100-SXM4-40GB\n"
     ]
    }
   ],
   "source": [
    "device = torch.device('cuda') if torch.cuda.is_available() else torch.device('cpu')\n",
    "print(\"Using GPU? \", torch.cuda.is_available())\n",
    "print(\"Device name:\", torch.cuda.get_device_name(0))\n",
    "\n",
    "\n",
    "data_dir = '../data-ceph/arguana/arg-generation/multi-taks-counter-argument-generation/reddit_data/conclusion_and_ca_generation/'\n",
    "teacher_model_path='../multitask-counter-arg-generation/data/output/stance_classification/best_model/'\n",
    "\n",
    "batch_size=4"
   ]
  },
  {
   "cell_type": "code",
   "execution_count": 5,
   "metadata": {},
   "outputs": [],
   "source": [
    "#Teacher model\n",
    "stance_classifier_teacher_tokenizer = AutoTokenizer.from_pretrained(teacher_model_path)\n",
    "stance_classifier_teacher_model     = AutoModelForSequenceClassification.from_pretrained(teacher_model_path)\n",
    "arg_stance_pipeline = TextClassificationPipeline(model=stance_classifier_teacher_model, tokenizer=stance_classifier_teacher_tokenizer, framework='pt', task='stance_classification', device=0)"
   ]
  },
  {
   "cell_type": "code",
   "execution_count": 6,
   "metadata": {},
   "outputs": [],
   "source": [
    "#Our model versions with the best performing checkpoint on the validation set..\n",
    "model_without_stance    = OurModel.load('../multitask-counter-arg-generation/data/output/ca-final-models/mt-v4.baseline_1/trained_models/models-global-step-5500', 'facebook/bart-large',  model_config=transformers.AutoConfig.from_pretrained('facebook/bart-large'))\n",
    "model_with_stance = OurModel.load('../multitask-counter-arg-generation/data/output/ca-final-models/mt-v4.baseline_2/trained_models/models-global-step-4000', 'facebook/bart-large',  model_config=transformers.AutoConfig.from_pretrained('facebook/bart-large'))"
   ]
  },
  {
   "cell_type": "code",
   "execution_count": 7,
   "metadata": {
    "scrolled": true,
    "tags": []
   },
   "outputs": [],
   "source": [
    "tokenizer = transformers.AutoTokenizer.from_pretrained('facebook/bart-large')\n",
    "\n",
    "model_without_stance.to(device)\n",
    "model_with_stance.to(device)\n",
    "\n",
    "_ = model_with_stance.eval()\n",
    "_ = model_without_stance.eval()"
   ]
  },
  {
   "cell_type": "code",
   "execution_count": 21,
   "metadata": {},
   "outputs": [],
   "source": [
    "def chunks(lst, n):\n",
    "    \"\"\"Yield successive n-sized chunks from lst.\"\"\"\n",
    "    for i in range(0, len(lst), n):\n",
    "        yield lst[i:i + n]\n",
    "        \n",
    "def get_stance_scores(sents1, sents2):\n",
    "    #compute stance score using our trained model\n",
    "    text_inputs = [x[0] + ' </s> ' + x[1] for x in zip(sents1, sents2)]\n",
    "    stance_results = arg_stance_pipeline(text_inputs, truncation=True)\n",
    "    stance_labels = [int(x['label'].split('_')[-1]) for x in stance_results]\n",
    "    stance_scores = [x['score'] for x in stance_results]\n",
    "    return sum(stance_labels)/len(stance_labels), stance_labels, stance_scores  #The score is the percentage of cases we generated a counter\n",
    "\n",
    "def counters_coherence(post_conclusions, post_counters):\n",
    "    post_counters = [nltk.sent_tokenize(x) for x in post_counters]\n",
    "    conclusion_counter_sent_pairs = [(x[1], s) for x in zip(post_counters, post_conclusions) for s in x[0]]\n",
    "    #print(conclusion_counter_sent_pairs)\n",
    "    conclusions, counter_sents = zip(*conclusion_counter_sent_pairs)\n",
    "    _, stance_labels, stance_scores = get_stance_scores(conclusions, counter_sents)\n",
    "    stance_scores = [x[0] * -1 if x[1] == 0 else x[0] for x in zip(stance_scores, stance_labels)]\n",
    "\n",
    "    #collect counter_scores\n",
    "    counter_scores = []\n",
    "    idx = 0\n",
    "    #print(len(stance_scores))\n",
    "    for i, post_counter in enumerate(post_counters):\n",
    "        #print(len(post_counter))\n",
    "        counter_scores.append(stance_scores[idx: idx + len(post_counter)])\n",
    "        idx+=len(post_counter)\n",
    "    \n",
    "    #print(counter_scores)\n",
    "    return [np.mean(s) for s in counter_scores]\n",
    "\n",
    "def get_best_counters(conclusions, counters):\n",
    "    #choose best counter\n",
    "    best_counters = []\n",
    "    for post_conclusions, post_counters  in zip(conclusions, counters):\n",
    "        scores = counters_coherence(post_conclusions, post_counters)\n",
    "        best_counters.append((post_conclusions[np.argmax(scores)], post_counters[np.argmax(scores)]))\n",
    "        \n",
    "    return best_counters\n",
    "\n",
    "def generate_multiple_counters(model, tokenizer, df, conclusion_gen_kwargs, argument_gen_kwargs, \n",
    "                               output_clm='post_counters', post_concepts_clm='post_concepts', num_candidates=6, batch_size=8):\n",
    "    \n",
    "    post_counters = []\n",
    "    for i in range(num_candidates):\n",
    "        control_codes = [x[i] if i < len(x) else '' for x in df[post_concepts_clm].tolist()]\n",
    "        premises = df['post'].tolist()\n",
    "        \n",
    "        print(control_codes[:3])\n",
    "        conclusions, counters   = generate_two_seq_prompted_counters(model, tokenizer, premises, \n",
    "                                                                     control_codes, conclusion_gen_kwargs, argument_gen_kwargs, \n",
    "                                                                     batch_size=batch_size)\n",
    "                \n",
    "        post_counters.append(zip(control_codes, conclusions, counters))\n",
    "\n",
    "    df[output_clm] = list(map(list, zip(*post_counters))) # transpose\n",
    "\n",
    "    return df\n",
    "\n",
    "\n",
    "def generate_counters(model, tokenizer, data_loader, argument_gen_kwargs, conclusion_gen_kwargs, skip_special_tokens=True):\n",
    "    processors = LogitsProcessorList()\n",
    "    generated_counter_arguments = []\n",
    "    generated_conclusions = []\n",
    "    model.eval()\n",
    "    with torch.no_grad():\n",
    "        for batch in data_loader:\n",
    "            input_ids = batch['input_ids'].to(device)\n",
    "            attention_mask = batch['attention_mask'].to(device)\n",
    "            \n",
    "            generated_argument_tokens   = model.generate_counter_argument(input_ids, attention_mask, argument_gen_kwargs, processors)\n",
    "            generated_conclusion_tokens = model.generate_conclusion(input_ids, attention_mask, conclusion_gen_kwargs, processors)\n",
    "                        \n",
    "            generated_argument_tokens = generated_argument_tokens.cpu().numpy()\n",
    "            decoded_arguments = tokenizer.batch_decode(generated_argument_tokens, skip_special_tokens=skip_special_tokens)\n",
    "            \n",
    "            generated_conclusion_tokens = generated_conclusion_tokens.cpu().numpy()\n",
    "            decoded_conclusions = tokenizer.batch_decode(generated_conclusion_tokens, skip_special_tokens=skip_special_tokens)\n",
    "            \n",
    "            generated_counter_arguments +=decoded_arguments\n",
    "            generated_conclusions +=decoded_conclusions\n",
    "            \n",
    "    return generated_conclusions, generated_counter_arguments"
   ]
  },
  {
   "cell_type": "code",
   "execution_count": 9,
   "metadata": {},
   "outputs": [],
   "source": [
    "conclusion_gen_kwargs = {\n",
    "    \"do_sample\": True, \n",
    "    \"max_length\":50,\n",
    "    \"top_p\":0.95, \n",
    "    \"num_beams\":1,\n",
    "}\n",
    "\n",
    "argument_gen_kwargs = {\n",
    "    \"do_sample\": True, \n",
    "    \"max_length\":100,\n",
    "    \"min_length\":50,\n",
    "    \"top_p\":0.95, \n",
    "    \"no_repeat_ngram_size\":3,\n",
    "    \"top_k\": 50,\n",
    "    \"num_beams\":1,\n",
    "}"
   ]
  },
  {
   "cell_type": "code",
   "execution_count": 10,
   "metadata": {},
   "outputs": [],
   "source": [
    "#df = pd.read_pickle(data_dir + 'test_conclusion_all_preprocessed.pkl')[['post_id', 'title', 'post', 'counter']]\n",
    "df = pd.read_pickle('../data-ceph/arguana/arg-generation/multi-taks-counter-argument-generation/reddit_data/conclusion_and_ca_generation/sample_test_conclusion_all_preprocessed_multi_conclusions.pkl')[['post_id', 'title', 'post_concepts2', 'post', 'counter']]\n",
    "df['post'] = df.post.apply(lambda x: ' '.join(x))"
   ]
  },
  {
   "cell_type": "code",
   "execution_count": 11,
   "metadata": {
    "scrolled": true,
    "tags": []
   },
   "outputs": [
    {
     "data": {
      "text/html": [
       "<div>\n",
       "<style scoped>\n",
       "    .dataframe tbody tr th:only-of-type {\n",
       "        vertical-align: middle;\n",
       "    }\n",
       "\n",
       "    .dataframe tbody tr th {\n",
       "        vertical-align: top;\n",
       "    }\n",
       "\n",
       "    .dataframe thead th {\n",
       "        text-align: right;\n",
       "    }\n",
       "</style>\n",
       "<table border=\"1\" class=\"dataframe\">\n",
       "  <thead>\n",
       "    <tr style=\"text-align: right;\">\n",
       "      <th></th>\n",
       "      <th>post_id</th>\n",
       "      <th>title</th>\n",
       "      <th>post_concepts2</th>\n",
       "      <th>post</th>\n",
       "      <th>counter</th>\n",
       "    </tr>\n",
       "  </thead>\n",
       "  <tbody>\n",
       "    <tr>\n",
       "      <th>500025</th>\n",
       "      <td>t3_c92t5g</td>\n",
       "      <td>I Don't Believe in the Big Bang</td>\n",
       "      <td>[Science, Religion, Fact, Idiot, Parking violation]</td>\n",
       "      <td>first things first, i am religious, i believe god created the world in 6 days and rested on the 7th. but that doesn't change the fact that i personally see so many loop holes in the big bang, like what created the molecules for the big bang, and how would that ever result in life, how does that make any more sense then a god? something has to be above science for it to be created. amp; x200b; i'm posting this because i have never gotten any actual response to this. everyone either just calls me an idiot, or 'cause science'. right now, i find no standing what so ever to call the big bang a fact.</td>\n",
       "      <td>[why would the big bang be incompatible with the existence of god?]</td>\n",
       "    </tr>\n",
       "    <tr>\n",
       "      <th>534021</th>\n",
       "      <td>t3_d3cv11</td>\n",
       "      <td>There is no reason for Britain to remain in the EU.</td>\n",
       "      <td>[Law, Sovereignty, European Union law, Border, People, Idea, Trade bloc, Sign]</td>\n",
       "      <td>what does britain actually gain by being in the eu? the trade bloc? well why doesn't britain just leave the eu and stay in the eec? the open movement of people? a nice idea on paper, but britain is an island nation. britain doesn't have borders that you can easily cross aside from the one in ireland. and even if one day the english channel is drained or something, why can't britain sign separate treaties with each nation? why does it have to concede part of its sovereignty? the laws? most eu laws are pretty troublesome but even if they are good, why can't britain just copy them and not concede her sovereignty?</td>\n",
       "      <td>[being from the states, i can only see these things from a distance, so perhaps i'm really far off., but i'd say the number one reason for britain to remain in the eu is because that can't get out of it in a suitable for anyone fashion., if you can't get out, you might as well be happy to stay in.]</td>\n",
       "    </tr>\n",
       "    <tr>\n",
       "      <th>415645</th>\n",
       "      <td>t3_a50c29</td>\n",
       "      <td>The Trump Administration Would Be Significantly More Harmful to US Domestic and International Policy W/out Moderates Like Mattis</td>\n",
       "      <td>[Military, Transgender, Surgery, Torture, Headquarters, United States Secretary of Defense, Presidency of Barack Obama, Citizenship of the United States, Senate, Secretary]</td>\n",
       "      <td>i am not going to argue trump's intellectual capacity but i will say that he is extremely ignorant on the issues due to his background and unwillingness to read about and study them. that being said, general mattis and other moderate forces in the administration have prevented significantly more from harm being committed to us domestic and foreign policy by trump and his supporters in the administration. mattis opposed trump's ban on transgender people in the military and worked to subvert it. gt;but woodward reports that mattis was also caught by surprise while vacationing on the west coast and was concerned about the effects the tweet might have on service members. sally donnelly, an aide to mattis at the time, called bannon and said the defense secretary opposed the decision by trump and would try to reverse it. hey, we've got a problem with the boss, she reportedly said. 'we can't stand by this transgender decision. this is just not right. they are american citizens. these guys are coming over to get full surgery. we're supposed to pay for that? ' bannon told her. you've got to take one for the team. mattis convened a working group to study the issue and, earlier this year, unveiled a new proposed policy that would prohibit service by many transgender people. that remains on hold due to the legal fight in federal court. trump wanted a more expanded strike on syria, including striking iranian and russian forces. this could have lead to 1. mission creep. 2. a direct response from iran and russia or 3. the escalation and potential direct conflict with iran and russia. all of these potentialities would have been disastrous and were largely avoided because of mattis the pentagon. i think you can objectively agree that a more restrained response because of mattis is a positive result. gt;while mr. trump pressed his team to also consider strikes on russian and iranian targets in syria if necessary to get at the assad regime s military equipment, mr. mattis pushed back, those familiar with the decision making said. united nations ambassador nikki haley had joined mr. trump in calling for more forceful response, while mr. mattis warned about the risks that a more expansive strike could trigger a dangerous response from moscow and tehran, according to the people. more syria articles: mattis restrained trump from actually carpet bombing isis, which would have led to major humanitarian violations, needless deaths of civilians and a whole host of other issues. gt;rather than authorizing the carpet bombing against isis that trump talked about during his campaign, or encouraging the president s desire to pull out of afghanistan, mattis largely maintained the strategies the military was already pursuing in both theaters, with some tweaks such as giving field commanders more authority for air strikes. allies and democrats alike view mattis as the more restrained and measured voice in the wh, able to stand up to and prevent trump for carrying out his worst instincts. gt;'secretary mattis is one of the only reassuring figures in the trump administration, and i don t mean that as a democratic partisan,' said senator brian schatz d hawaii , a member of the appropriations committee's defense panel. 'i mean when our partners and our adversaries think about the united states and the department of defense, knowing that secretary mattis is there strengthens our hand. ' senator tim kaine d va 'secretary mattis and gen. dunford are the real pillars of protecting american national security right now,' he said. 'either of them going, i think, would be extremely damaging to american defense and the credibility of our national security team. ' gt;'his departure definitely wouldn't be a positive message for us,'' said retired gen. ants laaneots, who commanded the armed forces of estonia, one of nato's three small baltic state members, from 2006 to 2011. mattis, he said, 'knows what is happening here and knows there is a russian threat. 'there's no immediate indication the defense secretary's job is in danger. still, whether his days are numbered is among the big questions doing the rounds at nato's shiny new brussels headquarters, according to two alliance officials, who asked not to be named due to the sensitivity of the issue. they described mattis as one of the last remaining atlanticists in the trump administration, and the main interlocutor for european allies. mattis changed trump view on torture: gt;he won a huge one on friday, when mr. trump, in a remarkable show of deference, said that he would let mr. mattis override his view that torture could be effective in interrogations. mr. mattis is a strong opponent of such techniques. mattis opposed the muslim ban but trump ignored him. gt;but mr. mattis was also outflanked by the white house, which chose the pentagon to unveil mr. trump s executive order on immigration, a sharply divisive move in front of military leaders who view themselves as apolitical. two people close to mr. mattis, who spoke on the condition of anonymity because they said they were wary of undercutting him, said he was still sharply opposed to the muslim ban. mattis has essentially continued more moderate policies. gt;mattis is widely viewed as a force for continuity from the obama administration on some of the biggest national security issues, including iran policy and the wars in afghanistan, iraq and syria. on afghanistan and the fight against isis in iraq and syria, mattis successfully championed strategies that broadly echoed the obama administrations approaches to the campaigns and rejected trump s own impulses toward more drastic changes. in short, trump has tendencies to use the military more often and more forceful than he has, distance the us from our allies, put civilians at greater risk and generally risk starting major conflicts or greatly escalating existing conflicts. regardless of trump's knowledge of policy issues, he does have the ability to unilaterally order a lot of military actions based on nothing more than his whims. mattis is the only reason why trump has not carried out awful policies based on some of his worst tendencies.</td>\n",
       "      <td>[i don t think you can categorically say mattis is the only reason., other reasons may exist., it is difficult to believe one man has prevented the president from doing all things you listed., just to rephrase my point, im not commenting on the trump administration in any form and am not sharing my opinion on it, im just pointing out that mattis is unlikely to be the sole cause of these supposed changes]</td>\n",
       "    </tr>\n",
       "    <tr>\n",
       "      <th>507298</th>\n",
       "      <td>t3_cetf5h</td>\n",
       "      <td>Poisoning the well against fascists is a dishonest and therefore ineffective way of combating fascists</td>\n",
       "      <td>[Fascism, Nationalism, White supremacy, Video, Videotelephony, YouTuber, Sophist, Validity (logic), Dishonesty, ContraPoints]</td>\n",
       "      <td>everyone seems to be a fascist these days, at least to everyone who disagrees with them. a prominent 'anti fascist' youtuber called 'contrapoints' has a video that purports to provide methods for identifying fascists, especially fascists that are keen on keeping themselves hidden. in this video, a large segment is dedicated to the ways in which fascists obfuscate their true intentions and dog whistle to each other in order to remain hidden from the larger public aka 'normies' . largely, this segment of the video is framed in such a way to suggest that fascists will go to great lengths to publicly denounce all elements of fascism, but in private are still fascists and work to promote fascism. she the youtuber then delivers the coup de grace in the form of this statement: 'after all, 'i'm not a fascist' is exactly something a fascist would say. ' my view is in direct contention to this sentiment. 'fascism' has become somewhat of a nebulous, ever changing term these days. it seems that anytime someone disagrees with someone else, the accusation of being a 'fascist' isn't far behind. for example, contrapoints begins her video with segment called 'what fascists believe' wherein she 'informs the viewer' that the three elements of fascism all relate to the protection, preservation, and advancement of the 'white race. ' in other words, she has constructed a method of identifying fascists and has redefined 'fascism' as straight up white supremacism. now, while the ultra nationalist tenet of fascism may lead to ideas of racial supremacy, it is in no way the only thing that makes a fascist a fascist, as contrapoints suggests. a white supremacist white nationalist may certainly be a fascist, but not all fascists are white nationalists. fascism has a number of tenets that are concerned with many things outside of race. what contrapoints has done is significantly poisoned the well by using her influence and prominence to re define 'fascism' as 'white supremacism' and offer the extremely presumptuous 'protip' that ''i'm not a fascist' is exactly something a fascist would say' thereby making it virtually impossible for someone to ever truly denounce fascism. it is my view that this kind of dishonest rhetoric and redefinition is an ineffective way of combating fascism, an ideology that ought to be combated. the transparent sophistry only creates sympathy in the minds of those that value honest discourse for those whose ideas would otherwise deserve no sympathy. there are perfectly valid arguments to be made against fascism without needing to redefine what it is and without needing to poison the well to make it impossible for anyone we disagree with to prove they aren't a fascist. cmv. note: video link here.</td>\n",
       "      <td>[well said!]</td>\n",
       "    </tr>\n",
       "    <tr>\n",
       "      <th>505763</th>\n",
       "      <td>t3_cdupvi</td>\n",
       "      <td>Women have an easier time finding romantic partners than men</td>\n",
       "      <td>[Female, Western world, Society, Time, Woman, Youth, Industry (economics), Belief, Friendship, Man]</td>\n",
       "      <td>in my misspent youth i was a proto incel. thankfully the incel community didn't exist back then, nor did the word itself. but i held beliefs that were dangerously close to those often spouted by incels today. i had placed women on a pedestal and was blind to my own flaws when it came to my lack of success in finding a romantic partner. i blamed it all on women not seeing what a great catch i was. all of this was internal, though. i never harassed anybody nor did i spread my views in any public space. still it took me a long time and a lot of maturing to see that women are just people like everybody else. and that if you want to have more than a friendship with somebody then you need to take a look at yourself and consider what you can bring to the table. when i held my proto incel beliefs i didn't have much to offer anybody. i wouldn't have dated the person i was, so why would anybody else have dated me? however, even though i have grown out of most of my past beliefs there is one that i still can't shake, and that's that women have an easier time finding romantic partners than men. i think it's just in how society is set up. i feel and do note that i feel , i don't know that men need to work harder. they need to be charming, be able to carry a conversation, be physically fit, be good looking and have a decent job. sure, a lot of those attributes are indicative of a decent personality. a man that is charming conversationalist and has a good job is probably a pretty decent guy to hang out with. and a man that has put the effort into being physically fit takes their health seriously. but these guys are everywhere. women can just pick and choose from a vast pool of decent partners and i mean actually decent, not nice guys . in the dating scene men are expendable. none of my female friends have ever been single for any significant amount of time. it's always been 'easy' to find somebody else. and while i've never used tinder i'm familiar with how men swipe on all women they find hoping they match with somebody . while society shits on women in a lot of ways i do firmly believe that the arena of romance is skewed to women's benefit. there are even whole industries based around men's desire for some form of intimacy. so many men clamour for the attention of women that it's possible for a decently attractive woman to sell her bath water ! this is all based on the western world, though. in places like india and china where there is a literal surplus of men i can imagine that it's even easier for women to find a partner. although, unfortunately, i'm guessing it's also more common for a woman's partner to not have been a person of her own choosing in some of those places. ultimately, however, i'm sure the issue is more complicated than i believe. so please, change my view.</td>\n",
       "      <td>[all studies i have seen show that men and woman are about equally happy with the state of their romantic lives., i don't have the time to find sources atm, but a quick google scholar should give you the stats.]</td>\n",
       "    </tr>\n",
       "  </tbody>\n",
       "</table>\n",
       "</div>"
      ],
      "text/plain": [
       "          post_id  \\\n",
       "500025  t3_c92t5g   \n",
       "534021  t3_d3cv11   \n",
       "415645  t3_a50c29   \n",
       "507298  t3_cetf5h   \n",
       "505763  t3_cdupvi   \n",
       "\n",
       "                                                                                                                                    title  \\\n",
       "500025                                                                                                    I Don't Believe in the Big Bang   \n",
       "534021                                                                                There is no reason for Britain to remain in the EU.   \n",
       "415645   The Trump Administration Would Be Significantly More Harmful to US Domestic and International Policy W/out Moderates Like Mattis   \n",
       "507298                             Poisoning the well against fascists is a dishonest and therefore ineffective way of combating fascists   \n",
       "505763                                                                       Women have an easier time finding romantic partners than men   \n",
       "\n",
       "                                                                                                                                                                      post_concepts2  \\\n",
       "500025                                                                                                                           [Science, Religion, Fact, Idiot, Parking violation]   \n",
       "534021                                                                                                [Law, Sovereignty, European Union law, Border, People, Idea, Trade bloc, Sign]   \n",
       "415645  [Military, Transgender, Surgery, Torture, Headquarters, United States Secretary of Defense, Presidency of Barack Obama, Citizenship of the United States, Senate, Secretary]   \n",
       "507298                                                 [Fascism, Nationalism, White supremacy, Video, Videotelephony, YouTuber, Sophist, Validity (logic), Dishonesty, ContraPoints]   \n",
       "505763                                                                           [Female, Western world, Society, Time, Woman, Youth, Industry (economics), Belief, Friendship, Man]   \n",
       "\n",
       "                                                                                                                                                                                                                                                                                                                                                                                                                                                                                                                                                                                                                                                                                                                                                                                                                                                                                                                                                                                                                                                                                                                                                                                                                                                                                                                                                                                                                                                                                                                                                                                                                                                                                                                                                                                                                                                                                                                                                                                                                                                                                                                                                                                                                                                                                                                                                                                                                                                                                                                                                                                                                                                                                                                                                                                                                                                                                                                                                                                                                                                                                                                                                                                                                                                                                                                                                                                                                                                                                                                                                                                                                                                                                                                                                                                                                                                                                                                                                                                                                                                                                                                                                                                                                                                                                                                                                                                                                                                                                                                                                                                                                                                                                                                                                                                                                                                                                                                                                                                                                                                                                                                                                                                                                                                                                                                                                                                                                                                                                                                                                                                                                                                                                                                                                                                                                                                                                                                                                                                                                                                                                                                                                                                                                                                                                                                                                                                                                     post  \\\n",
       "500025                                                                                                                                                                                                                                                                                                                                                                                                                                                                                                                                                                                                                                                                                                                                                                                                                                                                                                                                                                                                                                                                                                                                                                                                                                                                                                                                                                                                                                                                                                                                                                                                                                                                                                                                                                                                                                                                                                                                                                                                                                                                                                                                                                                                                                                                                                                                                                                                                                                                                                                                                                                                                                                                                                                                                                                                                                                                                                                                                                                                                                                                                                                                                                                                                                                                                                                                                                                                                                                                                                                                                                                                                                                                                                                                                                                                                                                                                                                                                                                                                                                                                                                                                                                                                                                                                                                                                                                                                                                                                                                                                                                                                                                                                                                                                                                                                                                                                                                                                                                                                                                                                                                                                                                                                                                                                                                                                                                                                                                                                                                                                                                                                                                                                                                                                                                          first things first, i am religious, i believe god created the world in 6 days and rested on the 7th. but that doesn't change the fact that i personally see so many loop holes in the big bang, like what created the molecules for the big bang, and how would that ever result in life, how does that make any more sense then a god? something has to be above science for it to be created. amp; x200b; i'm posting this because i have never gotten any actual response to this. everyone either just calls me an idiot, or 'cause science'. right now, i find no standing what so ever to call the big bang a fact.   \n",
       "534021                                                                                                                                                                                                                                                                                                                                                                                                                                                                                                                                                                                                                                                                                                                                                                                                                                                                                                                                                                                                                                                                                                                                                                                                                                                                                                                                                                                                                                                                                                                                                                                                                                                                                                                                                                                                                                                                                                                                                                                                                                                                                                                                                                                                                                                                                                                                                                                                                                                                                                                                                                                                                                                                                                                                                                                                                                                                                                                                                                                                                                                                                                                                                                                                                                                                                                                                                                                                                                                                                                                                                                                                                                                                                                                                                                                                                                                                                                                                                                                                                                                                                                                                                                                                                                                                                                                                                                                                                                                                                                                                                                                                                                                                                                                                                                                                                                                                                                                                                                                                                                                                                                                                                                                                                                                                                                                                                                                                                                                                                                                                                                                                                                                                                                                                                                          what does britain actually gain by being in the eu? the trade bloc? well why doesn't britain just leave the eu and stay in the eec? the open movement of people? a nice idea on paper, but britain is an island nation. britain doesn't have borders that you can easily cross aside from the one in ireland. and even if one day the english channel is drained or something, why can't britain sign separate treaties with each nation? why does it have to concede part of its sovereignty? the laws? most eu laws are pretty troublesome but even if they are good, why can't britain just copy them and not concede her sovereignty?   \n",
       "415645  i am not going to argue trump's intellectual capacity but i will say that he is extremely ignorant on the issues due to his background and unwillingness to read about and study them. that being said, general mattis and other moderate forces in the administration have prevented significantly more from harm being committed to us domestic and foreign policy by trump and his supporters in the administration. mattis opposed trump's ban on transgender people in the military and worked to subvert it. gt;but woodward reports that mattis was also caught by surprise while vacationing on the west coast and was concerned about the effects the tweet might have on service members. sally donnelly, an aide to mattis at the time, called bannon and said the defense secretary opposed the decision by trump and would try to reverse it. hey, we've got a problem with the boss, she reportedly said. 'we can't stand by this transgender decision. this is just not right. they are american citizens. these guys are coming over to get full surgery. we're supposed to pay for that? ' bannon told her. you've got to take one for the team. mattis convened a working group to study the issue and, earlier this year, unveiled a new proposed policy that would prohibit service by many transgender people. that remains on hold due to the legal fight in federal court. trump wanted a more expanded strike on syria, including striking iranian and russian forces. this could have lead to 1. mission creep. 2. a direct response from iran and russia or 3. the escalation and potential direct conflict with iran and russia. all of these potentialities would have been disastrous and were largely avoided because of mattis the pentagon. i think you can objectively agree that a more restrained response because of mattis is a positive result. gt;while mr. trump pressed his team to also consider strikes on russian and iranian targets in syria if necessary to get at the assad regime s military equipment, mr. mattis pushed back, those familiar with the decision making said. united nations ambassador nikki haley had joined mr. trump in calling for more forceful response, while mr. mattis warned about the risks that a more expansive strike could trigger a dangerous response from moscow and tehran, according to the people. more syria articles: mattis restrained trump from actually carpet bombing isis, which would have led to major humanitarian violations, needless deaths of civilians and a whole host of other issues. gt;rather than authorizing the carpet bombing against isis that trump talked about during his campaign, or encouraging the president s desire to pull out of afghanistan, mattis largely maintained the strategies the military was already pursuing in both theaters, with some tweaks such as giving field commanders more authority for air strikes. allies and democrats alike view mattis as the more restrained and measured voice in the wh, able to stand up to and prevent trump for carrying out his worst instincts. gt;'secretary mattis is one of the only reassuring figures in the trump administration, and i don t mean that as a democratic partisan,' said senator brian schatz d hawaii , a member of the appropriations committee's defense panel. 'i mean when our partners and our adversaries think about the united states and the department of defense, knowing that secretary mattis is there strengthens our hand. ' senator tim kaine d va 'secretary mattis and gen. dunford are the real pillars of protecting american national security right now,' he said. 'either of them going, i think, would be extremely damaging to american defense and the credibility of our national security team. ' gt;'his departure definitely wouldn't be a positive message for us,'' said retired gen. ants laaneots, who commanded the armed forces of estonia, one of nato's three small baltic state members, from 2006 to 2011. mattis, he said, 'knows what is happening here and knows there is a russian threat. 'there's no immediate indication the defense secretary's job is in danger. still, whether his days are numbered is among the big questions doing the rounds at nato's shiny new brussels headquarters, according to two alliance officials, who asked not to be named due to the sensitivity of the issue. they described mattis as one of the last remaining atlanticists in the trump administration, and the main interlocutor for european allies. mattis changed trump view on torture: gt;he won a huge one on friday, when mr. trump, in a remarkable show of deference, said that he would let mr. mattis override his view that torture could be effective in interrogations. mr. mattis is a strong opponent of such techniques. mattis opposed the muslim ban but trump ignored him. gt;but mr. mattis was also outflanked by the white house, which chose the pentagon to unveil mr. trump s executive order on immigration, a sharply divisive move in front of military leaders who view themselves as apolitical. two people close to mr. mattis, who spoke on the condition of anonymity because they said they were wary of undercutting him, said he was still sharply opposed to the muslim ban. mattis has essentially continued more moderate policies. gt;mattis is widely viewed as a force for continuity from the obama administration on some of the biggest national security issues, including iran policy and the wars in afghanistan, iraq and syria. on afghanistan and the fight against isis in iraq and syria, mattis successfully championed strategies that broadly echoed the obama administrations approaches to the campaigns and rejected trump s own impulses toward more drastic changes. in short, trump has tendencies to use the military more often and more forceful than he has, distance the us from our allies, put civilians at greater risk and generally risk starting major conflicts or greatly escalating existing conflicts. regardless of trump's knowledge of policy issues, he does have the ability to unilaterally order a lot of military actions based on nothing more than his whims. mattis is the only reason why trump has not carried out awful policies based on some of his worst tendencies.   \n",
       "507298                                                                                                                                                                                                                                                                                                                                                                                                                                                                                                                                                                                                                                                                                                                                                                                                                                                                                                                                                                                                                                                                                                                                                                                                                                                                                                                                                                                                                                                                                                                                                                                                                                                                                                                                                                                                                                                                                                                                                                                                                                                                                                                                                                                                                                                                                                                                                                                                                                                                                                                                                                                                                                                                                                                                                                                                                                                                                                                                                                                                                                                                                                                                                                                                                                                                                                                                                                                                                                                                                                                                                               everyone seems to be a fascist these days, at least to everyone who disagrees with them. a prominent 'anti fascist' youtuber called 'contrapoints' has a video that purports to provide methods for identifying fascists, especially fascists that are keen on keeping themselves hidden. in this video, a large segment is dedicated to the ways in which fascists obfuscate their true intentions and dog whistle to each other in order to remain hidden from the larger public aka 'normies' . largely, this segment of the video is framed in such a way to suggest that fascists will go to great lengths to publicly denounce all elements of fascism, but in private are still fascists and work to promote fascism. she the youtuber then delivers the coup de grace in the form of this statement: 'after all, 'i'm not a fascist' is exactly something a fascist would say. ' my view is in direct contention to this sentiment. 'fascism' has become somewhat of a nebulous, ever changing term these days. it seems that anytime someone disagrees with someone else, the accusation of being a 'fascist' isn't far behind. for example, contrapoints begins her video with segment called 'what fascists believe' wherein she 'informs the viewer' that the three elements of fascism all relate to the protection, preservation, and advancement of the 'white race. ' in other words, she has constructed a method of identifying fascists and has redefined 'fascism' as straight up white supremacism. now, while the ultra nationalist tenet of fascism may lead to ideas of racial supremacy, it is in no way the only thing that makes a fascist a fascist, as contrapoints suggests. a white supremacist white nationalist may certainly be a fascist, but not all fascists are white nationalists. fascism has a number of tenets that are concerned with many things outside of race. what contrapoints has done is significantly poisoned the well by using her influence and prominence to re define 'fascism' as 'white supremacism' and offer the extremely presumptuous 'protip' that ''i'm not a fascist' is exactly something a fascist would say' thereby making it virtually impossible for someone to ever truly denounce fascism. it is my view that this kind of dishonest rhetoric and redefinition is an ineffective way of combating fascism, an ideology that ought to be combated. the transparent sophistry only creates sympathy in the minds of those that value honest discourse for those whose ideas would otherwise deserve no sympathy. there are perfectly valid arguments to be made against fascism without needing to redefine what it is and without needing to poison the well to make it impossible for anyone we disagree with to prove they aren't a fascist. cmv. note: video link here.    \n",
       "505763                                                                                                                                                                                                                                                                                                                                                                                                                                                                                                                                                                                                                                                                                                                                                                                                                                                                                                                                                                                                                                                                                                                                                                                                                                                                                                                                                                                                                                                                                                                                                                                                                                                                                                                                                                                                                                                                                                                                                                                                                                                                                                                                                                                                                                                                                                                                                                                                                                                                                                                                                                                                                                                                                                                                                                                                                                                                                                                                                                                                                                                                                                                                                                                                                                                                                                                                                                                                                                                                                      in my misspent youth i was a proto incel. thankfully the incel community didn't exist back then, nor did the word itself. but i held beliefs that were dangerously close to those often spouted by incels today. i had placed women on a pedestal and was blind to my own flaws when it came to my lack of success in finding a romantic partner. i blamed it all on women not seeing what a great catch i was. all of this was internal, though. i never harassed anybody nor did i spread my views in any public space. still it took me a long time and a lot of maturing to see that women are just people like everybody else. and that if you want to have more than a friendship with somebody then you need to take a look at yourself and consider what you can bring to the table. when i held my proto incel beliefs i didn't have much to offer anybody. i wouldn't have dated the person i was, so why would anybody else have dated me? however, even though i have grown out of most of my past beliefs there is one that i still can't shake, and that's that women have an easier time finding romantic partners than men. i think it's just in how society is set up. i feel and do note that i feel , i don't know that men need to work harder. they need to be charming, be able to carry a conversation, be physically fit, be good looking and have a decent job. sure, a lot of those attributes are indicative of a decent personality. a man that is charming conversationalist and has a good job is probably a pretty decent guy to hang out with. and a man that has put the effort into being physically fit takes their health seriously. but these guys are everywhere. women can just pick and choose from a vast pool of decent partners and i mean actually decent, not nice guys . in the dating scene men are expendable. none of my female friends have ever been single for any significant amount of time. it's always been 'easy' to find somebody else. and while i've never used tinder i'm familiar with how men swipe on all women they find hoping they match with somebody . while society shits on women in a lot of ways i do firmly believe that the arena of romance is skewed to women's benefit. there are even whole industries based around men's desire for some form of intimacy. so many men clamour for the attention of women that it's possible for a decently attractive woman to sell her bath water ! this is all based on the western world, though. in places like india and china where there is a literal surplus of men i can imagine that it's even easier for women to find a partner. although, unfortunately, i'm guessing it's also more common for a woman's partner to not have been a person of her own choosing in some of those places. ultimately, however, i'm sure the issue is more complicated than i believe. so please, change my view.   \n",
       "\n",
       "                                                                                                                                                                                                                                                                                                                                                                                                                        counter  \n",
       "500025                                                                                                                                                                                                                                                                                                                                                      [why would the big bang be incompatible with the existence of god?]  \n",
       "534021                                                                                                              [being from the states, i can only see these things from a distance, so perhaps i'm really far off., but i'd say the number one reason for britain to remain in the eu is because that can't get out of it in a suitable for anyone fashion., if you can't get out, you might as well be happy to stay in.]  \n",
       "415645  [i don t think you can categorically say mattis is the only reason., other reasons may exist., it is difficult to believe one man has prevented the president from doing all things you listed., just to rephrase my point, im not commenting on the trump administration in any form and am not sharing my opinion on it, im just pointing out that mattis is unlikely to be the sole cause of these supposed changes]  \n",
       "507298                                                                                                                                                                                                                                                                                                                                                                                                             [well said!]  \n",
       "505763                                                                                                                                                                                                      [all studies i have seen show that men and woman are about equally happy with the state of their romantic lives., i don't have the time to find sources atm, but a quick google scholar should give you the stats.]  "
      ]
     },
     "execution_count": 11,
     "metadata": {},
     "output_type": "execute_result"
    }
   ],
   "source": [
    "df.head()"
   ]
  },
  {
   "cell_type": "code",
   "execution_count": null,
   "metadata": {
    "scrolled": true,
    "tags": []
   },
   "outputs": [
    {
     "name": "stdout",
     "output_type": "stream",
     "text": [
      "['Science', 'Law', 'Military']\n"
     ]
    },
    {
     "name": "stderr",
     "output_type": "stream",
     "text": [
      "Parameter 'function'=<function generate_two_seq_prompted_counters.<locals>.<lambda> at 0x7f8d4c1ce940> of the transform datasets.arrow_dataset.Dataset._map_single couldn't be hashed properly, a random hash was used instead. Make sure your transforms and parameters are serializable with pickle or dill for the dataset fingerprinting and caching to work. If you reuse this transform, the caching mechanism will consider it to be different from the previous calls and recompute everything. This warning is only showed once. Subsequent hashing failures won't be showed.\n"
     ]
    },
    {
     "data": {
      "application/vnd.jupyter.widget-view+json": {
       "model_id": "9ca0e671a8fd43bc8f8af3e013518a74",
       "version_major": 2,
       "version_minor": 0
      },
      "text/plain": [
       "  0%|          | 0/2 [00:00<?, ?ba/s]"
      ]
     },
     "metadata": {},
     "output_type": "display_data"
    },
    {
     "name": "stderr",
     "output_type": "stream",
     "text": [
      "100%|██████████| 125/125 [05:02<00:00,  2.42s/it]"
     ]
    },
    {
     "name": "stdout",
     "output_type": "stream",
     "text": [
      "['Religion', 'Sovereignty', 'Transgender']\n"
     ]
    },
    {
     "name": "stderr",
     "output_type": "stream",
     "text": [
      "\n"
     ]
    },
    {
     "data": {
      "application/vnd.jupyter.widget-view+json": {
       "model_id": "65eeb89a55674f158147aed1e5da3be0",
       "version_major": 2,
       "version_minor": 0
      },
      "text/plain": [
       "  0%|          | 0/2 [00:00<?, ?ba/s]"
      ]
     },
     "metadata": {},
     "output_type": "display_data"
    },
    {
     "name": "stderr",
     "output_type": "stream",
     "text": [
      "100%|██████████| 125/125 [05:00<00:00,  2.40s/it]"
     ]
    },
    {
     "name": "stdout",
     "output_type": "stream",
     "text": [
      "['Fact', 'European Union law', 'Surgery']\n"
     ]
    },
    {
     "name": "stderr",
     "output_type": "stream",
     "text": [
      "\n"
     ]
    },
    {
     "data": {
      "application/vnd.jupyter.widget-view+json": {
       "model_id": "7b12468345364b5aa02ef3c61a2902d2",
       "version_major": 2,
       "version_minor": 0
      },
      "text/plain": [
       "  0%|          | 0/2 [00:00<?, ?ba/s]"
      ]
     },
     "metadata": {},
     "output_type": "display_data"
    },
    {
     "name": "stderr",
     "output_type": "stream",
     "text": [
      "100%|██████████| 125/125 [05:00<00:00,  2.41s/it]"
     ]
    },
    {
     "name": "stdout",
     "output_type": "stream",
     "text": [
      "['Idiot', 'Border', 'Torture']\n"
     ]
    },
    {
     "name": "stderr",
     "output_type": "stream",
     "text": [
      "\n"
     ]
    },
    {
     "data": {
      "application/vnd.jupyter.widget-view+json": {
       "model_id": "c41ba41fd07c41d3a29c78551859a62d",
       "version_major": 2,
       "version_minor": 0
      },
      "text/plain": [
       "  0%|          | 0/2 [00:00<?, ?ba/s]"
      ]
     },
     "metadata": {},
     "output_type": "display_data"
    },
    {
     "name": "stderr",
     "output_type": "stream",
     "text": [
      "100%|██████████| 125/125 [05:06<00:00,  2.45s/it]"
     ]
    },
    {
     "name": "stdout",
     "output_type": "stream",
     "text": [
      "['Parking violation', 'People', 'Headquarters']\n"
     ]
    },
    {
     "name": "stderr",
     "output_type": "stream",
     "text": [
      "\n"
     ]
    },
    {
     "data": {
      "application/vnd.jupyter.widget-view+json": {
       "model_id": "9900260b03844be480a9ee07986ca77d",
       "version_major": 2,
       "version_minor": 0
      },
      "text/plain": [
       "  0%|          | 0/2 [00:00<?, ?ba/s]"
      ]
     },
     "metadata": {},
     "output_type": "display_data"
    },
    {
     "name": "stderr",
     "output_type": "stream",
     "text": [
      "100%|██████████| 125/125 [05:01<00:00,  2.41s/it]"
     ]
    },
    {
     "name": "stdout",
     "output_type": "stream",
     "text": [
      "['', 'Idea', 'United States Secretary of Defense']\n"
     ]
    },
    {
     "name": "stderr",
     "output_type": "stream",
     "text": [
      "\n"
     ]
    },
    {
     "data": {
      "application/vnd.jupyter.widget-view+json": {
       "model_id": "48d303ea6fda4f068c393099e5baf827",
       "version_major": 2,
       "version_minor": 0
      },
      "text/plain": [
       "  0%|          | 0/2 [00:00<?, ?ba/s]"
      ]
     },
     "metadata": {},
     "output_type": "display_data"
    },
    {
     "name": "stderr",
     "output_type": "stream",
     "text": [
      "100%|██████████| 125/125 [05:02<00:00,  2.42s/it]"
     ]
    },
    {
     "name": "stdout",
     "output_type": "stream",
     "text": [
      "['', 'Trade bloc', 'Presidency of Barack Obama']\n"
     ]
    },
    {
     "name": "stderr",
     "output_type": "stream",
     "text": [
      "\n"
     ]
    },
    {
     "data": {
      "application/vnd.jupyter.widget-view+json": {
       "model_id": "7f5ce60d40b540068f4cc00d635f3247",
       "version_major": 2,
       "version_minor": 0
      },
      "text/plain": [
       "  0%|          | 0/2 [00:00<?, ?ba/s]"
      ]
     },
     "metadata": {},
     "output_type": "display_data"
    },
    {
     "name": "stderr",
     "output_type": "stream",
     "text": [
      "100%|██████████| 125/125 [04:58<00:00,  2.38s/it]"
     ]
    },
    {
     "name": "stdout",
     "output_type": "stream",
     "text": [
      "['', 'Sign', 'Citizenship of the United States']\n"
     ]
    },
    {
     "name": "stderr",
     "output_type": "stream",
     "text": [
      "\n"
     ]
    },
    {
     "data": {
      "application/vnd.jupyter.widget-view+json": {
       "model_id": "cf03fe61d849454d9f0b1ada1b2ee3c3",
       "version_major": 2,
       "version_minor": 0
      },
      "text/plain": [
       "  0%|          | 0/2 [00:00<?, ?ba/s]"
      ]
     },
     "metadata": {},
     "output_type": "display_data"
    },
    {
     "name": "stderr",
     "output_type": "stream",
     "text": [
      "100%|██████████| 125/125 [04:54<00:00,  2.35s/it]"
     ]
    },
    {
     "name": "stdout",
     "output_type": "stream",
     "text": [
      "['', '', 'Senate']\n"
     ]
    },
    {
     "name": "stderr",
     "output_type": "stream",
     "text": [
      "\n"
     ]
    },
    {
     "data": {
      "application/vnd.jupyter.widget-view+json": {
       "model_id": "dc05eeb8c9ab46a5ba455253cf03d531",
       "version_major": 2,
       "version_minor": 0
      },
      "text/plain": [
       "  0%|          | 0/2 [00:00<?, ?ba/s]"
      ]
     },
     "metadata": {},
     "output_type": "display_data"
    },
    {
     "name": "stderr",
     "output_type": "stream",
     "text": [
      "100%|██████████| 125/125 [04:53<00:00,  2.35s/it]"
     ]
    },
    {
     "name": "stdout",
     "output_type": "stream",
     "text": [
      "['', '', 'Secretary']\n"
     ]
    },
    {
     "name": "stderr",
     "output_type": "stream",
     "text": [
      "\n"
     ]
    },
    {
     "data": {
      "application/vnd.jupyter.widget-view+json": {
       "model_id": "174342fdb9c244aebe45dd0e5c0ff892",
       "version_major": 2,
       "version_minor": 0
      },
      "text/plain": [
       "  0%|          | 0/2 [00:00<?, ?ba/s]"
      ]
     },
     "metadata": {},
     "output_type": "display_data"
    },
    {
     "name": "stderr",
     "output_type": "stream",
     "text": [
      " 40%|████      | 50/125 [01:57<02:53,  2.32s/it]"
     ]
    }
   ],
   "source": [
    "df = generate_multiple_counters(model_without_stance, \n",
    "                                                   tokenizer, df, conclusion_gen_kwargs, argument_gen_kwargs, \n",
    "                                                   output_clm='post_counters', \n",
    "                                                   post_concepts_clm='post_concepts2', \n",
    "                                                   num_candidates=10, \n",
    "                                                   batch_size=16)"
   ]
  },
  {
   "cell_type": "code",
   "execution_count": null,
   "metadata": {
    "scrolled": true,
    "tags": []
   },
   "outputs": [],
   "source": [
    "df[['title', 'post_concepts2', 'post_counters']].head()"
   ]
  },
  {
   "cell_type": "code",
   "execution_count": null,
   "metadata": {},
   "outputs": [],
   "source": [
    "conclusions = [[x[1] for x in row] for row in df.post_counters.tolist()]\n",
    "counters = [[x[2] for x in row] for row in df.post_counters.tolist()]"
   ]
  },
  {
   "cell_type": "code",
   "execution_count": null,
   "metadata": {
    "tags": []
   },
   "outputs": [],
   "source": [
    "best_conclusions, best_counters = zip(*get_best_counters(conclusions, counters))"
   ]
  },
  {
   "cell_type": "code",
   "execution_count": null,
   "metadata": {},
   "outputs": [],
   "source": [
    "df['pred_counter_arguments_no_stance'] = best_counters\n",
    "df['pred_conclusions_no_stance'] = best_conclusions"
   ]
  },
  {
   "cell_type": "code",
   "execution_count": null,
   "metadata": {
    "scrolled": true,
    "tags": []
   },
   "outputs": [],
   "source": [
    "df[['title', 'post_counters', 'pred_conclusions_no_stance', 'pred_counter_arguments_no_stance']].head()"
   ]
  },
  {
   "cell_type": "code",
   "execution_count": null,
   "metadata": {},
   "outputs": [],
   "source": [
    "df.to_pickle('../multitask-counter-arg-generation/data/output/ca-final-models/mt-v4/results/test_prompts_preds_df.pkl')"
   ]
  },
  {
   "cell_type": "markdown",
   "metadata": {},
   "source": [
    "#### Predict single counters:"
   ]
  },
  {
   "cell_type": "code",
   "execution_count": 16,
   "metadata": {},
   "outputs": [],
   "source": [
    "conclusion_gen_kwargs = {\n",
    "    \"do_sample\": True, \n",
    "    \"max_length\":50,\n",
    "    \"top_p\":0.95, \n",
    "    \"num_beams\":1,\n",
    "}\n",
    "\n",
    "argument_gen_kwargs = {\n",
    "    \"do_sample\": True, \n",
    "    \"max_length\":100,\n",
    "    \"min_length\":50,\n",
    "    \"top_p\":0.95, \n",
    "    \"no_repeat_ngram_size\":3,\n",
    "    \"top_k\": 50,\n",
    "    \"num_beams\":4,\n",
    "}"
   ]
  },
  {
   "cell_type": "code",
   "execution_count": 18,
   "metadata": {},
   "outputs": [
    {
     "name": "stderr",
     "output_type": "stream",
     "text": [
      "Parameter 'function'=<function <lambda> at 0x7fe4dc16c040> of the transform datasets.arrow_dataset.Dataset._map_single couldn't be hashed properly, a random hash was used instead. Make sure your transforms and parameters are serializable with pickle or dill for the dataset fingerprinting and caching to work. If you reuse this transform, the caching mechanism will consider it to be different from the previous calls and recompute everything. This warning is only showed once. Subsequent hashing failures won't be showed.\n"
     ]
    },
    {
     "data": {
      "application/vnd.jupyter.widget-view+json": {
       "model_id": "d0cc06f657b84798afdbf466d9d18cad",
       "version_major": 2,
       "version_minor": 0
      },
      "text/plain": [
       "  0%|          | 0/2 [00:00<?, ?ba/s]"
      ]
     },
     "metadata": {},
     "output_type": "display_data"
    }
   ],
   "source": [
    "ds = Dataset.from_pandas(df[['post']])\n",
    "ds = ds.map(lambda a: tokenizer(a['post'], padding='max_length', max_length=256, truncation=True), \n",
    "                                   remove_columns=[ '__index_level_0__'], batched=True)\n",
    "\n",
    "ds.set_format(type='torch', columns=['input_ids', 'attention_mask'])\n",
    "dataloader = torch.utils.data.DataLoader(ds, batch_size=batch_size)"
   ]
  },
  {
   "cell_type": "code",
   "execution_count": 22,
   "metadata": {},
   "outputs": [
    {
     "name": "stderr",
     "output_type": "stream",
     "text": [
      "/usr/local/lib/python3.8/dist-packages/transformers/generation_utils.py:2259: UserWarning: __floordiv__ is deprecated, and its behavior will change in a future version of pytorch. It currently rounds toward 0 (like the 'trunc' function NOT 'floor'). This results in incorrect rounding for negative values. To keep the current behavior, use torch.div(a, b, rounding_mode='trunc'), or for actual floor division, use torch.div(a, b, rounding_mode='floor').\n",
      "  next_indices = next_tokens // vocab_size\n"
     ]
    }
   ],
   "source": [
    "no_stance_conclusions, no_stance_counter_arguments = generate_counters(model_without_stance, tokenizer, dataloader, argument_gen_kwargs, conclusion_gen_kwargs)"
   ]
  },
  {
   "cell_type": "code",
   "execution_count": 23,
   "metadata": {},
   "outputs": [],
   "source": [
    "df['single_pred_counter_arguments_no_stance'] = no_stance_counter_arguments\n",
    "df['single_pred_conclusion_no_stance'] = no_stance_conclusions"
   ]
  },
  {
   "cell_type": "code",
   "execution_count": 24,
   "metadata": {
    "scrolled": true,
    "tags": []
   },
   "outputs": [
    {
     "data": {
      "text/html": [
       "<div>\n",
       "<style scoped>\n",
       "    .dataframe tbody tr th:only-of-type {\n",
       "        vertical-align: middle;\n",
       "    }\n",
       "\n",
       "    .dataframe tbody tr th {\n",
       "        vertical-align: top;\n",
       "    }\n",
       "\n",
       "    .dataframe thead th {\n",
       "        text-align: right;\n",
       "    }\n",
       "</style>\n",
       "<table border=\"1\" class=\"dataframe\">\n",
       "  <thead>\n",
       "    <tr style=\"text-align: right;\">\n",
       "      <th></th>\n",
       "      <th>title</th>\n",
       "      <th>single_pred_counter_arguments_no_stance</th>\n",
       "      <th>pred_counter_arguments_no_stance</th>\n",
       "    </tr>\n",
       "  </thead>\n",
       "  <tbody>\n",
       "    <tr>\n",
       "      <th>500025</th>\n",
       "      <td>I Don't Believe in the Big Bang</td>\n",
       "      <td>the big bang is just a scientific theory. we have no way to prove or disprove the existence of the big bang. it's just a theory. if we accept it as a fact, then we have to accept that it is true. the only way to disprove it is to find a way to test it.</td>\n",
       "      <td>the big bang was never a fact, its an idea, and science can't prove it; it just means the universe itself wasn't able to reproduce in a consistent way. it is a scientific hypothesis, not a solid one at least. it has all the components of science, yet still can't be proven.</td>\n",
       "    </tr>\n",
       "    <tr>\n",
       "      <th>534021</th>\n",
       "      <td>There is no reason for Britain to remain in the EU.</td>\n",
       "      <td>the eu is a single market. britain has a single currency, and british citizens have the right to travel to european countries, and europeans have a right to come to the eu to do the same. it is not a free trade zone, it is a customs union.</td>\n",
       "      <td>Idea for british independence is to give up everything in order to build a country that people want and use to their advantage. they are entitled to those ideals, even if they are not in fact what they want. a huge part of that freedom of movement is freedom not allowing people from another country to visit each other or from others to the rest of the world to contact each other.</td>\n",
       "    </tr>\n",
       "    <tr>\n",
       "      <th>415645</th>\n",
       "      <td>The Trump Administration Would Be Significantly More Harmful to US Domestic and International Policy W/out Moderates Like Mattis</td>\n",
       "      <td>i don't think mattis is the only one who should be held accountable for the actions of the president. mattis has done a lot of good things for the country, but i don't see him being held accountable. the president is responsible for his actions, but he can't be held responsible for every decision he makes. for example, the decision to ban transgender people from entering the military did not come from mattis, it came from the president, and mattis</td>\n",
       "      <td>Surgery on transgender people is an incredibly dangerous decision. let's face it, surgery has an already high risk of suicide even after all the precautions, even if there's no risk to you, at best the potential for death and serious physical consequences is pretty high. the other risk is a potential war against a country without a president if the people make a choice to not serve or refuse to serve. for a lot of people, the only choice between hating the person or supporting him is</td>\n",
       "    </tr>\n",
       "    <tr>\n",
       "      <th>507298</th>\n",
       "      <td>Poisoning the well against fascists is a dishonest and therefore ineffective way of combating fascists</td>\n",
       "      <td>i think you're missing the point of fascism in the first place. it's a term that is used to describe a collection of people who want to impose their views on the rest of the world. fascism is not a movement, it's an ideology. a fascist is a person who wants to be a part of a group of people that wants to impose those ideas on the world, and a fascist who is opposed to that group because they don't want to be part of that</td>\n",
       "      <td>Fascism, at its best, can be described as a belief system defined with an explicit, objective, unambiguous way to judge, and even an idea itself. to describe it as being a totalitarian state or a fascist regime is to confuse one's self, as the movement can be viewed as a symptom of an underlying cause. fascism has always been the driving force of racism. fascism is the reason that black people were forced to choose between white and minority.</td>\n",
       "    </tr>\n",
       "    <tr>\n",
       "      <th>505763</th>\n",
       "      <td>Women have an easier time finding romantic partners than men</td>\n",
       "      <td>i don't think that women have a harder time finding a romantic partner than men. i think it's just a matter of how you look at it, and how you approach it. women are much more likely to date incels than men, and i think that is a result of societal pressures, rather than a lack of a desire to date at all. i'm not saying that women are better at finding romantic partners than men are, but i do think that they</td>\n",
       "      <td>Industry (economics) is all about economics in the first place. if the rich could buy off any man as a'man', society would say'man's worth' would be zero. since you're not getting into my head, here goes: it's true you seem like a self interested idiot, but what if you know people like you and are really someone who would be perfectly happy together? that sounds like you are looking for that, too, right?</td>\n",
       "    </tr>\n",
       "  </tbody>\n",
       "</table>\n",
       "</div>"
      ],
      "text/plain": [
       "                                                                                                                                    title  \\\n",
       "500025                                                                                                    I Don't Believe in the Big Bang   \n",
       "534021                                                                                There is no reason for Britain to remain in the EU.   \n",
       "415645   The Trump Administration Would Be Significantly More Harmful to US Domestic and International Policy W/out Moderates Like Mattis   \n",
       "507298                             Poisoning the well against fascists is a dishonest and therefore ineffective way of combating fascists   \n",
       "505763                                                                       Women have an easier time finding romantic partners than men   \n",
       "\n",
       "                                                                                                                                                                                                                                                                                                                                                                                                                                    single_pred_counter_arguments_no_stance  \\\n",
       "500025                                                                                                                                                                                                         the big bang is just a scientific theory. we have no way to prove or disprove the existence of the big bang. it's just a theory. if we accept it as a fact, then we have to accept that it is true. the only way to disprove it is to find a way to test it.   \n",
       "534021                                                                                                                                                                                                                      the eu is a single market. britain has a single currency, and british citizens have the right to travel to european countries, and europeans have a right to come to the eu to do the same. it is not a free trade zone, it is a customs union.   \n",
       "415645  i don't think mattis is the only one who should be held accountable for the actions of the president. mattis has done a lot of good things for the country, but i don't see him being held accountable. the president is responsible for his actions, but he can't be held responsible for every decision he makes. for example, the decision to ban transgender people from entering the military did not come from mattis, it came from the president, and mattis   \n",
       "507298                             i think you're missing the point of fascism in the first place. it's a term that is used to describe a collection of people who want to impose their views on the rest of the world. fascism is not a movement, it's an ideology. a fascist is a person who wants to be a part of a group of people that wants to impose those ideas on the world, and a fascist who is opposed to that group because they don't want to be part of that   \n",
       "505763                                          i don't think that women have a harder time finding a romantic partner than men. i think it's just a matter of how you look at it, and how you approach it. women are much more likely to date incels than men, and i think that is a result of societal pressures, rather than a lack of a desire to date at all. i'm not saying that women are better at finding romantic partners than men are, but i do think that they   \n",
       "\n",
       "                                                                                                                                                                                                                                                                                                                                                                                                                                                                                pred_counter_arguments_no_stance  \n",
       "500025                                                                                                                                                                                                                         the big bang was never a fact, its an idea, and science can't prove it; it just means the universe itself wasn't able to reproduce in a consistent way. it is a scientific hypothesis, not a solid one at least. it has all the components of science, yet still can't be proven.  \n",
       "534021                                                                                                            Idea for british independence is to give up everything in order to build a country that people want and use to their advantage. they are entitled to those ideals, even if they are not in fact what they want. a huge part of that freedom of movement is freedom not allowing people from another country to visit each other or from others to the rest of the world to contact each other.  \n",
       "415645  Surgery on transgender people is an incredibly dangerous decision. let's face it, surgery has an already high risk of suicide even after all the precautions, even if there's no risk to you, at best the potential for death and serious physical consequences is pretty high. the other risk is a potential war against a country without a president if the people make a choice to not serve or refuse to serve. for a lot of people, the only choice between hating the person or supporting him is  \n",
       "507298                                            Fascism, at its best, can be described as a belief system defined with an explicit, objective, unambiguous way to judge, and even an idea itself. to describe it as being a totalitarian state or a fascist regime is to confuse one's self, as the movement can be viewed as a symptom of an underlying cause. fascism has always been the driving force of racism. fascism is the reason that black people were forced to choose between white and minority.  \n",
       "505763                                                                                   Industry (economics) is all about economics in the first place. if the rich could buy off any man as a'man', society would say'man's worth' would be zero. since you're not getting into my head, here goes: it's true you seem like a self interested idiot, but what if you know people like you and are really someone who would be perfectly happy together? that sounds like you are looking for that, too, right?  "
      ]
     },
     "execution_count": 24,
     "metadata": {},
     "output_type": "execute_result"
    }
   ],
   "source": [
    "df[['title', 'single_pred_counter_arguments_no_stance' , 'pred_counter_arguments_no_stance']].head()"
   ]
  },
  {
   "cell_type": "code",
   "execution_count": 26,
   "metadata": {},
   "outputs": [],
   "source": [
    "df.to_pickle('../multitask-counter-arg-generation/data/output/ca-final-models/mt-v4/results/test_prompts_preds_df.pkl')"
   ]
  },
  {
   "cell_type": "markdown",
   "metadata": {},
   "source": [
    "----------"
   ]
  },
  {
   "cell_type": "code",
   "execution_count": 10,
   "metadata": {},
   "outputs": [],
   "source": [
    "df = pd.read_pickle('../multitask-counter-arg-generation/data/output/ca-final-models/mt-v4/results/test_prompts_preds_df.pkl')"
   ]
  }
 ],
 "metadata": {
  "kernelspec": {
   "display_name": "Python 3",
   "language": "python",
   "name": "python3"
  },
  "language_info": {
   "codemirror_mode": {
    "name": "ipython",
    "version": 3
   },
   "file_extension": ".py",
   "mimetype": "text/x-python",
   "name": "python",
   "nbconvert_exporter": "python",
   "pygments_lexer": "ipython3",
   "version": "3.8.10"
  }
 },
 "nbformat": 4,
 "nbformat_minor": 4
}
