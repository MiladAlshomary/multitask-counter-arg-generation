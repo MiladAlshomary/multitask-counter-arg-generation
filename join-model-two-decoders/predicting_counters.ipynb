{
 "cells": [
  {
   "cell_type": "code",
   "execution_count": 1,
   "metadata": {},
   "outputs": [],
   "source": [
    "import os\n",
    "import sys\n",
    "\n",
    "os.environ['CUDA_VISIBLE_DEVICES']='1'"
   ]
  },
  {
   "cell_type": "code",
   "execution_count": null,
   "metadata": {},
   "outputs": [],
   "source": [
    "import csv\n",
    "import random\n",
    "import torch\n",
    "import numpy as np\n",
    "from torch.utils.data import DataLoader\n",
    "from transformers import AdamW\n",
    "from transformers import BertTokenizer, BertForSequenceClassification\n",
    "from transformers import AutoTokenizer, AutoModelForSequenceClassification, TextClassificationPipeline\n",
    "import torch\n",
    "import transformers\n",
    "from rouge_score import rouge_scorer\n",
    "from transformers import BartTokenizer, BartForConditionalGeneration\n",
    "from torch.nn import CrossEntropyLoss, MSELoss\n",
    "import os\n",
    "from model import MultiTaskBart\n",
    "from model import OurModel\n",
    "from utils import parse_df\n",
    "import time\n",
    "import sys\n",
    "import tqdm\n",
    "import pandas as pd\n",
    "from datasets import load_dataset, load_metric, Dataset\n",
    "\n",
    "import nltk\n",
    "pd.set_option('display.max_colwidth', None)"
   ]
  },
  {
   "cell_type": "code",
   "execution_count": null,
   "metadata": {},
   "outputs": [],
   "source": [
    "device = torch.device('cuda') if torch.cuda.is_available() else torch.device('cpu')\n",
    "print(\"Using GPU? \", torch.cuda.is_available())\n",
    "print(\"Device name:\", torch.cuda.get_device_name(0))\n",
    "\n",
    "\n",
    "data_dir = '../../data-ceph/arguana/arg-generation/multi-taks-counter-argument-generation/reddit_data/conclusion_and_ca_generation/'\n",
    "teacher_model_path='../multitask-counter-arg-generation/data/output/stance_classification/best_model/'\n",
    "\n",
    "batch_size=4"
   ]
  },
  {
   "cell_type": "code",
   "execution_count": null,
   "metadata": {},
   "outputs": [],
   "source": [
    "#Teacher model\n",
    "stance_classifier_teacher_tokenizer = AutoTokenizer.from_pretrained(teacher_model_path)\n",
    "stance_classifier_teacher_model     = AutoModelForSequenceClassification.from_pretrained(teacher_model_path)\n",
    "arg_stance_pipeline = TextClassificationPipeline(model=stance_classifier_teacher_model, tokenizer=stance_classifier_teacher_tokenizer, framework='pt', task='stance_classification', device=0)"
   ]
  },
  {
   "cell_type": "code",
   "execution_count": 5,
   "metadata": {},
   "outputs": [],
   "source": [
    "#Our model versions with the best performing checkpoint on the validation set..\n",
    "model_without_stance    = OurModel.load('../multitask-counter-arg-generation/data/output/ca-final-models/mt-v4.baseline_1/trained_models/models-global-step-5500', 'facebook/bart-large',  model_config=transformers.AutoConfig.from_pretrained('facebook/bart-large'))\n",
    "model_with_stance = OurModel.load('../multitask-counter-arg-generation/data/output/ca-final-models/mt-v4.baseline_2/trained_models/models-global-step-4000', 'facebook/bart-large',  model_config=transformers.AutoConfig.from_pretrained('facebook/bart-large'))"
   ]
  },
  {
   "cell_type": "code",
   "execution_count": 6,
   "metadata": {
    "scrolled": true,
    "tags": []
   },
   "outputs": [],
   "source": [
    "tokenizer = transformers.AutoTokenizer.from_pretrained('facebook/bart-large')\n",
    "\n",
    "model_without_stance.to(device)\n",
    "model_with_stance.to(device)\n",
    "\n",
    "_ = model_with_stance.eval()\n",
    "_ = model_without_stance.eval()"
   ]
  },
  {
   "cell_type": "code",
   "execution_count": 7,
   "metadata": {},
   "outputs": [],
   "source": [
    "def chunks(lst, n):\n",
    "    \"\"\"Yield successive n-sized chunks from lst.\"\"\"\n",
    "    for i in range(0, len(lst), n):\n",
    "        yield lst[i:i + n]\n",
    "        \n",
    "def get_stance_scores(sents1, sents2):\n",
    "    #compute stance score using our trained model\n",
    "    text_inputs = [x[0] + ' </s> ' + x[1] for x in zip(sents1, sents2)]\n",
    "    stance_results = arg_stance_pipeline(text_inputs, truncation=True)\n",
    "    stance_labels = [int(x['label'].split('_')[-1]) for x in stance_results]\n",
    "    stance_scores = [x['score'] for x in stance_results]\n",
    "    return sum(stance_labels)/len(stance_labels), stance_labels, stance_scores  #The score is the percentage of cases we generated a counter\n",
    "\n",
    "def counters_coherence(post_conclusions, post_counters):\n",
    "    post_counters = [nltk.sent_tokenize(x) for x in post_counters]\n",
    "    conclusion_counter_sent_pairs = [(x[1], s) for x in zip(post_counters, post_conclusions) for s in x[0]]\n",
    "    #print(conclusion_counter_sent_pairs)\n",
    "    conclusions, counter_sents = zip(*conclusion_counter_sent_pairs)\n",
    "    _, stance_labels, stance_scores = get_stance_scores(conclusions, counter_sents)\n",
    "    stance_scores = [x[0] * -1 if x[1] == 0 else x[0] for x in zip(stance_scores, stance_labels)]\n",
    "\n",
    "    #collect counter_scores\n",
    "    counter_scores = []\n",
    "    idx = 0\n",
    "    #print(len(stance_scores))\n",
    "    for i, post_counter in enumerate(post_counters):\n",
    "        #print(len(post_counter))\n",
    "        counter_scores.append(stance_scores[idx: idx + len(post_counter)])\n",
    "        idx+=len(post_counter)\n",
    "    \n",
    "    #print(counter_scores)\n",
    "    return [np.mean(s) for s in counter_scores]\n",
    "\n",
    "def get_best_counters(conclusions, counters, num_sequences):\n",
    "    #choose best counter\n",
    "    best_counters = []\n",
    "    for chunk in chunks(list(zip(conclusions, counters)), num_sequences):\n",
    "        chunk_conclusions, chunk_counters = zip(*chunk)\n",
    "        scores = counters_coherence(chunk_conclusions, chunk_counters)\n",
    "        best_counters.append((chunk_conclusions[np.argmax(scores)], chunk_counters[np.argmax(scores)]))\n",
    "        \n",
    "    return best_counters\n",
    "\n",
    "def generate_counters(model, tokenizer, data_loader, argument_gen_kwargs, conclusion_gen_kwargs, skip_special_tokens=True):\n",
    "    \n",
    "    generated_counter_arguments = []\n",
    "    generated_conclusions = []\n",
    "    model.eval()\n",
    "    with torch.no_grad():\n",
    "        for batch in data_loader:\n",
    "            input_ids = batch['input_ids'].to(device)\n",
    "            attention_mask = batch['attention_mask'].to(device)\n",
    "            \n",
    "            generated_argument_tokens   = model.generate_counter_argument(input_ids, attention_mask, argument_gen_kwargs)\n",
    "            generated_conclusion_tokens = model.generate_conclusion(input_ids, attention_mask, conclusion_gen_kwargs)\n",
    "                        \n",
    "            generated_argument_tokens = generated_argument_tokens.cpu().numpy()\n",
    "            decoded_arguments = tokenizer.batch_decode(generated_argument_tokens, skip_special_tokens=skip_special_tokens)\n",
    "            \n",
    "            generated_conclusion_tokens = generated_conclusion_tokens.cpu().numpy()\n",
    "            decoded_conclusions = tokenizer.batch_decode(generated_conclusion_tokens, skip_special_tokens=skip_special_tokens)\n",
    "            \n",
    "            generated_counter_arguments +=decoded_arguments\n",
    "            generated_conclusions +=decoded_conclusions\n",
    "            \n",
    "    return generated_conclusions, generated_counter_arguments"
   ]
  },
  {
   "cell_type": "code",
   "execution_count": 8,
   "metadata": {},
   "outputs": [],
   "source": [
    "conclusion_gen_kwargs = {\n",
    "    \"do_sample\": False, \n",
    "    #\"max_length\":20,\n",
    "    \"min_length\":30,\n",
    "    \"top_p\":0.95, \n",
    "    \"num_beams\":10,\n",
    "    \"num_return_sequences\":10\n",
    "}\n",
    "\n",
    "# argument_gen_kwargs = {\n",
    "#     \"do_sample\": True, \n",
    "#     \"max_length\":100,\n",
    "#     \"min_length\":50,\n",
    "#     \"top_p\":0.95, \n",
    "#     \"num_beams\":5,\n",
    "#     \"num_return_sequences\":5\n",
    "# }\n",
    "\n",
    "argument_gen_kwargs = {\n",
    "    \"do_sample\": True, \n",
    "    \"max_length\":100,\n",
    "    \"min_length\":50,\n",
    "    \"top_p\":0.95, \n",
    "    \"no_repeat_ngram_size\":3,\n",
    "    \"top_k\": 50,\n",
    "    \"num_beams\":10,\n",
    "    \"num_return_sequences\":10\n",
    "}"
   ]
  },
  {
   "cell_type": "code",
   "execution_count": 9,
   "metadata": {},
   "outputs": [],
   "source": [
    "#df = pd.read_pickle(data_dir + 'test_conclusion_all_preprocessed.pkl')[['post_id', 'title', 'post', 'counter']]\n",
    "df = pd.read_pickle(data_dir + 'sample_test_conclusion_all_preprocessed.pkl')[['post_id', 'title', 'post', 'counter']]\n",
    "df['post'] = df.post.apply(lambda x: ' '.join(x))"
   ]
  },
  {
   "cell_type": "code",
   "execution_count": 10,
   "metadata": {},
   "outputs": [
    {
     "data": {
      "application/vnd.jupyter.widget-view+json": {
       "model_id": "d03249824ffb4a0cadede0973f467db2",
       "version_major": 2,
       "version_minor": 0
      },
      "text/plain": [
       "  0%|          | 0/2 [00:00<?, ?ba/s]"
      ]
     },
     "metadata": {},
     "output_type": "display_data"
    }
   ],
   "source": [
    "ds = Dataset.from_pandas(df[['post']])\n",
    "ds = ds.map(lambda a: tokenizer(a['post'], padding='max_length', max_length=256, truncation=True), \n",
    "                                   remove_columns=[ '__index_level_0__'], batched=True)\n",
    "\n",
    "ds.set_format(type='torch', columns=['input_ids', 'attention_mask'])\n",
    "dataloader = torch.utils.data.DataLoader(ds, batch_size=batch_size)"
   ]
  },
  {
   "cell_type": "code",
   "execution_count": 11,
   "metadata": {
    "scrolled": true,
    "tags": []
   },
   "outputs": [
    {
     "name": "stderr",
     "output_type": "stream",
     "text": [
      "/usr/local/lib/python3.6/dist-packages/transformers/generation_utils.py:2049: UserWarning: __floordiv__ is deprecated, and its behavior will change in a future version of pytorch. It currently rounds toward 0 (like the 'trunc' function NOT 'floor'). This results in incorrect rounding for negative values. To keep the current behavior, use torch.div(a, b, rounding_mode='trunc'), or for actual floor division, use torch.div(a, b, rounding_mode='floor').\n",
      "  next_indices = next_tokens // vocab_size\n",
      "/usr/local/lib/python3.6/dist-packages/transformers/generation_utils.py:1777: UserWarning: __floordiv__ is deprecated, and its behavior will change in a future version of pytorch. It currently rounds toward 0 (like the 'trunc' function NOT 'floor'). This results in incorrect rounding for negative values. To keep the current behavior, use torch.div(a, b, rounding_mode='trunc'), or for actual floor division, use torch.div(a, b, rounding_mode='floor').\n",
      "  next_indices = next_tokens // vocab_size\n"
     ]
    }
   ],
   "source": [
    "no_stance_conclusions, no_stance_counter_arguments = generate_counters(model_without_stance, tokenizer, dataloader, argument_gen_kwargs, conclusion_gen_kwargs)\n",
    "#stance_conclusions, stance_counter_arguments = generate_counters(model_with_stance, tokenizer, dataloader, argument_gen_kwargs, conclusion_gen_kwargs)"
   ]
  },
  {
   "cell_type": "code",
   "execution_count": 12,
   "metadata": {},
   "outputs": [],
   "source": [
    "best_no_stance_conclusions, best_no_stance_counters = zip(*get_best_counters(no_stance_conclusions, no_stance_counter_arguments, argument_gen_kwargs['num_return_sequences']))\n",
    "#best_stance_conclusions, best_stance_counters = zip(*get_best_counters(stance_conclusions, stance_counter_arguments, argument_gen_kwargs['num_return_sequences']))"
   ]
  },
  {
   "cell_type": "code",
   "execution_count": 13,
   "metadata": {},
   "outputs": [],
   "source": [
    "df['all_pred_counter_arguments_no_stance'] = list(chunks(no_stance_counter_arguments, argument_gen_kwargs['num_return_sequences']))\n",
    "df['all_pred_conclusions_no_stance'] = list(chunks(no_stance_conclusions, argument_gen_kwargs['num_return_sequences']))\n",
    "\n",
    "#df['all_pred_counter_arguments_stance'] = list(chunks(stance_counter_arguments, argument_gen_kwargs['num_return_sequences']))\n",
    "#df['all_pred_conclusions_stance'] = list(chunks(stance_conclusions, argument_gen_kwargs['num_return_sequences']))\n",
    "\n",
    "#-----------------\n",
    "\n",
    "df['pred_counter_arguments_no_stance'] = best_no_stance_counters\n",
    "df['pred_conclusions_no_stance'] = best_no_stance_conclusions\n",
    "\n",
    "#df['pred_counter_arguments_stance'] = best_stance_counters\n",
    "#df['pred_conclusions_stance'] = best_stance_conclusions"
   ]
  },
  {
   "cell_type": "code",
   "execution_count": 16,
   "metadata": {
    "scrolled": true,
    "tags": []
   },
   "outputs": [
    {
     "data": {
      "text/html": [
       "<div>\n",
       "<style scoped>\n",
       "    .dataframe tbody tr th:only-of-type {\n",
       "        vertical-align: middle;\n",
       "    }\n",
       "\n",
       "    .dataframe tbody tr th {\n",
       "        vertical-align: top;\n",
       "    }\n",
       "\n",
       "    .dataframe thead th {\n",
       "        text-align: right;\n",
       "    }\n",
       "</style>\n",
       "<table border=\"1\" class=\"dataframe\">\n",
       "  <thead>\n",
       "    <tr style=\"text-align: right;\">\n",
       "      <th></th>\n",
       "      <th>title</th>\n",
       "      <th>pred_conclusions_no_stance</th>\n",
       "      <th>pred_counter_arguments_no_stance</th>\n",
       "    </tr>\n",
       "  </thead>\n",
       "  <tbody>\n",
       "    <tr>\n",
       "      <th>500025</th>\n",
       "      <td>I Don't Believe in the Big Bang</td>\n",
       "      <td>I don't think the Big Bang is a fact, and don't believe it's</td>\n",
       "      <td>the big bang is a scientific theory, not a fact. it can't be proven or disproved, but it can be argued that the universe was created in 6 days and rested on the 7th. there is no reason to doubt the existence of the big bang.</td>\n",
       "    </tr>\n",
       "    <tr>\n",
       "      <th>534021</th>\n",
       "      <td>There is no reason for Britain to remain in the EU.</td>\n",
       "      <td>The UK should leave the EU and stay in the EEC. Why should</td>\n",
       "      <td>i don't think britain has any interest in leaving the eu. british sovereignty is not an issue, it's a matter of national sovereignty. it's not like the uk has the right to tell you what you can and can't do, or what you are allowed to do, and how you can get around them. if you want to be an island nation, you have to be able to make your own laws, and if you don't</td>\n",
       "    </tr>\n",
       "    <tr>\n",
       "      <th>415645</th>\n",
       "      <td>The Trump Administration Would Be Significantly More Harmful to US Domestic and International Policy W/out Moderates Like Mattis</td>\n",
       "      <td>Donald Trump's decision to ban on transgender people in the military is a good thing</td>\n",
       "      <td>i don't think that mattis should be held accountable for the actions of the president. the president has every right to do whatever he wants, but that doesn't mean that he has a moral obligation to follow through on his campaign promises.</td>\n",
       "    </tr>\n",
       "    <tr>\n",
       "      <th>507298</th>\n",
       "      <td>Poisoning the well against fascists is a dishonest and therefore ineffective way of combating fascists</td>\n",
       "      <td>Everyone seems to be a fascist these days, at least to the \"normies\"</td>\n",
       "      <td>i think it's important to note that fascism is a very broad term. it can be applied to a wide range of political movements and ideologies, and it can also be used to refer to any group of people who have a particular set of beliefs. the definition of 'fascism' has changed a lot in the past few decades, but that doesn't mean that it's no longer a useful term. i don't think you have to be a fascist to be an</td>\n",
       "    </tr>\n",
       "    <tr>\n",
       "      <th>505763</th>\n",
       "      <td>Women have an easier time finding romantic partners than men</td>\n",
       "      <td>Women have an easier time finding a romantic partner than men. I don't think</td>\n",
       "      <td>i think you're looking at it the wrong way. it's not that women have an easier time finding romantic partners than men, it's that women are much more likely to date incels than men. i'm not saying that men have a harder time finding a romantic partner than women, i'm just saying that they are less likely to be able to find a partner who isn't an incel.</td>\n",
       "    </tr>\n",
       "  </tbody>\n",
       "</table>\n",
       "</div>"
      ],
      "text/plain": [
       "                                                                                                                                    title  \\\n",
       "500025                                                                                                    I Don't Believe in the Big Bang   \n",
       "534021                                                                                There is no reason for Britain to remain in the EU.   \n",
       "415645   The Trump Administration Would Be Significantly More Harmful to US Domestic and International Policy W/out Moderates Like Mattis   \n",
       "507298                             Poisoning the well against fascists is a dishonest and therefore ineffective way of combating fascists   \n",
       "505763                                                                       Women have an easier time finding romantic partners than men   \n",
       "\n",
       "                                                                   pred_conclusions_no_stance  \\\n",
       "500025                           I don't think the Big Bang is a fact, and don't believe it's   \n",
       "534021                             The UK should leave the EU and stay in the EEC. Why should   \n",
       "415645   Donald Trump's decision to ban on transgender people in the military is a good thing   \n",
       "507298                   Everyone seems to be a fascist these days, at least to the \"normies\"   \n",
       "505763           Women have an easier time finding a romantic partner than men. I don't think   \n",
       "\n",
       "                                                                                                                                                                                                                                                                                                                                                                                                pred_counter_arguments_no_stance  \n",
       "500025                                                                                                                                                                                          the big bang is a scientific theory, not a fact. it can't be proven or disproved, but it can be argued that the universe was created in 6 days and rested on the 7th. there is no reason to doubt the existence of the big bang.  \n",
       "534021                                           i don't think britain has any interest in leaving the eu. british sovereignty is not an issue, it's a matter of national sovereignty. it's not like the uk has the right to tell you what you can and can't do, or what you are allowed to do, and how you can get around them. if you want to be an island nation, you have to be able to make your own laws, and if you don't  \n",
       "415645                                                                                                                                                                            i don't think that mattis should be held accountable for the actions of the president. the president has every right to do whatever he wants, but that doesn't mean that he has a moral obligation to follow through on his campaign promises.  \n",
       "507298  i think it's important to note that fascism is a very broad term. it can be applied to a wide range of political movements and ideologies, and it can also be used to refer to any group of people who have a particular set of beliefs. the definition of 'fascism' has changed a lot in the past few decades, but that doesn't mean that it's no longer a useful term. i don't think you have to be a fascist to be an  \n",
       "505763                                                        i think you're looking at it the wrong way. it's not that women have an easier time finding romantic partners than men, it's that women are much more likely to date incels than men. i'm not saying that men have a harder time finding a romantic partner than women, i'm just saying that they are less likely to be able to find a partner who isn't an incel.  "
      ]
     },
     "execution_count": 16,
     "metadata": {},
     "output_type": "execute_result"
    }
   ],
   "source": [
    "df[['title', 'pred_conclusions_no_stance', 'pred_counter_arguments_no_stance']].head()"
   ]
  },
  {
   "cell_type": "code",
   "execution_count": 17,
   "metadata": {},
   "outputs": [],
   "source": [
    "df.to_pickle('../multitask-counter-arg-generation/data/output/ca-final-models/mt-v4/results/test_preds_df.pkl')"
   ]
  },
  {
   "cell_type": "markdown",
   "metadata": {},
   "source": [
    "#### Predict single counters:"
   ]
  },
  {
   "cell_type": "code",
   "execution_count": 18,
   "metadata": {},
   "outputs": [],
   "source": [
    "conclusion_gen_kwargs = {\n",
    "    \"do_sample\": False, \n",
    "    #\"max_length\":20,\n",
    "    \"min_length\":30,\n",
    "    \"top_p\":0.95, \n",
    "    \"num_beams\":1,\n",
    "    \"num_return_sequences\":1\n",
    "}\n",
    "\n",
    "argument_gen_kwargs = {\n",
    "    \"do_sample\": True, \n",
    "    \"max_length\":100,\n",
    "    \"min_length\":50,\n",
    "    \"top_p\":0.95, \n",
    "    \"top_k\": 50,\n",
    "    \"no_repeat_ngram_size\":3,\n",
    "    \"num_beams\":4,\n",
    "    \"num_return_sequences\":1\n",
    "}"
   ]
  },
  {
   "cell_type": "code",
   "execution_count": 19,
   "metadata": {},
   "outputs": [
    {
     "name": "stderr",
     "output_type": "stream",
     "text": [
      "/usr/local/lib/python3.6/dist-packages/transformers/generation_utils.py:2049: UserWarning: __floordiv__ is deprecated, and its behavior will change in a future version of pytorch. It currently rounds toward 0 (like the 'trunc' function NOT 'floor'). This results in incorrect rounding for negative values. To keep the current behavior, use torch.div(a, b, rounding_mode='trunc'), or for actual floor division, use torch.div(a, b, rounding_mode='floor').\n",
      "  next_indices = next_tokens // vocab_size\n"
     ]
    }
   ],
   "source": [
    "no_stance_conclusions, no_stance_counter_arguments = generate_counters(model_without_stance, tokenizer, dataloader, argument_gen_kwargs, conclusion_gen_kwargs)\n",
    "#stance_conclusions, stance_counter_arguments       = generate_counters(model_with_stance, tokenizer, dataloader, argument_gen_kwargs, conclusion_gen_kwargs)"
   ]
  },
  {
   "cell_type": "code",
   "execution_count": 20,
   "metadata": {},
   "outputs": [],
   "source": [
    "df['single_pred_counter_arguments_no_stance'] = no_stance_counter_arguments\n",
    "#df['single_pred_counter_arguments_stance'] = stance_counter_arguments"
   ]
  },
  {
   "cell_type": "code",
   "execution_count": 21,
   "metadata": {
    "scrolled": true,
    "tags": []
   },
   "outputs": [
    {
     "data": {
      "text/html": [
       "<div>\n",
       "<style scoped>\n",
       "    .dataframe tbody tr th:only-of-type {\n",
       "        vertical-align: middle;\n",
       "    }\n",
       "\n",
       "    .dataframe tbody tr th {\n",
       "        vertical-align: top;\n",
       "    }\n",
       "\n",
       "    .dataframe thead th {\n",
       "        text-align: right;\n",
       "    }\n",
       "</style>\n",
       "<table border=\"1\" class=\"dataframe\">\n",
       "  <thead>\n",
       "    <tr style=\"text-align: right;\">\n",
       "      <th></th>\n",
       "      <th>title</th>\n",
       "      <th>single_pred_counter_arguments_no_stance</th>\n",
       "      <th>pred_counter_arguments_no_stance</th>\n",
       "    </tr>\n",
       "  </thead>\n",
       "  <tbody>\n",
       "    <tr>\n",
       "      <th>500025</th>\n",
       "      <td>I Don't Believe in the Big Bang</td>\n",
       "      <td>science is the best we have to go off of. the big bang theory is the only thing that can explain the existence of the universe. if there is a god, then the universe can't be true. the universe is just a simulation, and nothing more.</td>\n",
       "      <td>the big bang is a scientific theory, not a fact. it can't be proven or disproved, but it can be argued that the universe was created in 6 days and rested on the 7th. there is no reason to doubt the existence of the big bang.</td>\n",
       "    </tr>\n",
       "    <tr>\n",
       "      <th>534021</th>\n",
       "      <td>There is no reason for Britain to remain in the EU.</td>\n",
       "      <td>the eu is not a single entity. britain is a part of the eu, but it does not have the right to take part in it. if british citizens want to live in europe, they are free to do so, but that doesn't mean that they have a say in how they live their lives.</td>\n",
       "      <td>i don't think britain has any interest in leaving the eu. british sovereignty is not an issue, it's a matter of national sovereignty. it's not like the uk has the right to tell you what you can and can't do, or what you are allowed to do, and how you can get around them. if you want to be an island nation, you have to be able to make your own laws, and if you don't</td>\n",
       "    </tr>\n",
       "    <tr>\n",
       "      <th>415645</th>\n",
       "      <td>The Trump Administration Would Be Significantly More Harmful to US Domestic and International Policy W/out Moderates Like Mattis</td>\n",
       "      <td>i think you're missing a few things. first of all, he is a narcissist. he's a sociopath. second, he's an idiot. third, he can't be trusted to be a good president. fourth, he has shown that he is not capable of being a president. fifth, he doesn't care about the military. sixth, he isn't a good commander in chief. seventh, he hates his own country. eighth, he believes that the</td>\n",
       "      <td>i don't think that mattis should be held accountable for the actions of the president. the president has every right to do whatever he wants, but that doesn't mean that he has a moral obligation to follow through on his campaign promises.</td>\n",
       "    </tr>\n",
       "    <tr>\n",
       "      <th>507298</th>\n",
       "      <td>Poisoning the well against fascists is a dishonest and therefore ineffective way of combating fascists</td>\n",
       "      <td>fascism is not a movement, it's a term. it is a movement. fascism is a political movement. it's not an ideology, it is an ideology. fascism isn't a movement; it's an ideology that exists and has existed for as long as humans have existed, and it still exists today. there's no reason to believe that it will change in the near future.</td>\n",
       "      <td>i think it's important to note that fascism is a very broad term. it can be applied to a wide range of political movements and ideologies, and it can also be used to refer to any group of people who have a particular set of beliefs. the definition of 'fascism' has changed a lot in the past few decades, but that doesn't mean that it's no longer a useful term. i don't think you have to be a fascist to be an</td>\n",
       "    </tr>\n",
       "    <tr>\n",
       "      <th>505763</th>\n",
       "      <td>Women have an easier time finding romantic partners than men</td>\n",
       "      <td>women have a harder time finding a partner than men, because they are more likely to be in a relationship with someone who is anorexic. that's because women are less likely to want to date someone who has an incel mindset. i'm not saying that men have a hard time finding romantic partners because they have an ancel mindset, but i am saying that a lot of people who are incel have a much harder time in finding a romantic partner because they</td>\n",
       "      <td>i think you're looking at it the wrong way. it's not that women have an easier time finding romantic partners than men, it's that women are much more likely to date incels than men. i'm not saying that men have a harder time finding a romantic partner than women, i'm just saying that they are less likely to be able to find a partner who isn't an incel.</td>\n",
       "    </tr>\n",
       "  </tbody>\n",
       "</table>\n",
       "</div>"
      ],
      "text/plain": [
       "                                                                                                                                    title  \\\n",
       "500025                                                                                                    I Don't Believe in the Big Bang   \n",
       "534021                                                                                There is no reason for Britain to remain in the EU.   \n",
       "415645   The Trump Administration Would Be Significantly More Harmful to US Domestic and International Policy W/out Moderates Like Mattis   \n",
       "507298                             Poisoning the well against fascists is a dishonest and therefore ineffective way of combating fascists   \n",
       "505763                                                                       Women have an easier time finding romantic partners than men   \n",
       "\n",
       "                                                                                                                                                                                                                                                                                                                                                                                                                            single_pred_counter_arguments_no_stance  \\\n",
       "500025                                                                                                                                                                                                                     science is the best we have to go off of. the big bang theory is the only thing that can explain the existence of the universe. if there is a god, then the universe can't be true. the universe is just a simulation, and nothing more.   \n",
       "534021                                                                                                                                                                                                  the eu is not a single entity. britain is a part of the eu, but it does not have the right to take part in it. if british citizens want to live in europe, they are free to do so, but that doesn't mean that they have a say in how they live their lives.   \n",
       "415645                                                                   i think you're missing a few things. first of all, he is a narcissist. he's a sociopath. second, he's an idiot. third, he can't be trusted to be a good president. fourth, he has shown that he is not capable of being a president. fifth, he doesn't care about the military. sixth, he isn't a good commander in chief. seventh, he hates his own country. eighth, he believes that the   \n",
       "507298                                                                                                               fascism is not a movement, it's a term. it is a movement. fascism is a political movement. it's not an ideology, it is an ideology. fascism isn't a movement; it's an ideology that exists and has existed for as long as humans have existed, and it still exists today. there's no reason to believe that it will change in the near future.   \n",
       "505763  women have a harder time finding a partner than men, because they are more likely to be in a relationship with someone who is anorexic. that's because women are less likely to want to date someone who has an incel mindset. i'm not saying that men have a hard time finding romantic partners because they have an ancel mindset, but i am saying that a lot of people who are incel have a much harder time in finding a romantic partner because they   \n",
       "\n",
       "                                                                                                                                                                                                                                                                                                                                                                                                pred_counter_arguments_no_stance  \n",
       "500025                                                                                                                                                                                          the big bang is a scientific theory, not a fact. it can't be proven or disproved, but it can be argued that the universe was created in 6 days and rested on the 7th. there is no reason to doubt the existence of the big bang.  \n",
       "534021                                           i don't think britain has any interest in leaving the eu. british sovereignty is not an issue, it's a matter of national sovereignty. it's not like the uk has the right to tell you what you can and can't do, or what you are allowed to do, and how you can get around them. if you want to be an island nation, you have to be able to make your own laws, and if you don't  \n",
       "415645                                                                                                                                                                            i don't think that mattis should be held accountable for the actions of the president. the president has every right to do whatever he wants, but that doesn't mean that he has a moral obligation to follow through on his campaign promises.  \n",
       "507298  i think it's important to note that fascism is a very broad term. it can be applied to a wide range of political movements and ideologies, and it can also be used to refer to any group of people who have a particular set of beliefs. the definition of 'fascism' has changed a lot in the past few decades, but that doesn't mean that it's no longer a useful term. i don't think you have to be a fascist to be an  \n",
       "505763                                                        i think you're looking at it the wrong way. it's not that women have an easier time finding romantic partners than men, it's that women are much more likely to date incels than men. i'm not saying that men have a harder time finding a romantic partner than women, i'm just saying that they are less likely to be able to find a partner who isn't an incel.  "
      ]
     },
     "execution_count": 21,
     "metadata": {},
     "output_type": "execute_result"
    }
   ],
   "source": [
    "df[['title', 'single_pred_counter_arguments_no_stance' , 'pred_counter_arguments_no_stance']].head()"
   ]
  },
  {
   "cell_type": "code",
   "execution_count": 22,
   "metadata": {},
   "outputs": [],
   "source": [
    "df.to_pickle('../multitask-counter-arg-generation/data/output/ca-final-models/mt-v4/results/test_preds_df.pkl')"
   ]
  },
  {
   "cell_type": "code",
   "execution_count": 24,
   "metadata": {},
   "outputs": [
    {
     "name": "stdout",
     "output_type": "stream",
     "text": [
      "Am done...\n"
     ]
    }
   ],
   "source": [
    "print('Am done...')"
   ]
  },
  {
   "cell_type": "code",
   "execution_count": null,
   "metadata": {},
   "outputs": [],
   "source": []
  }
 ],
 "metadata": {
  "kernelspec": {
   "display_name": "Python 3",
   "language": "python",
   "name": "python3"
  },
  "language_info": {
   "codemirror_mode": {
    "name": "ipython",
    "version": 3
   },
   "file_extension": ".py",
   "mimetype": "text/x-python",
   "name": "python",
   "nbconvert_exporter": "python",
   "pygments_lexer": "ipython3",
   "version": "3.8.10"
  }
 },
 "nbformat": 4,
 "nbformat_minor": 4
}
