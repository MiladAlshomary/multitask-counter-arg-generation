{
 "cells": [
  {
   "cell_type": "code",
   "execution_count": 1,
   "metadata": {},
   "outputs": [],
   "source": [
    "%load_ext autoreload"
   ]
  },
  {
   "cell_type": "code",
   "execution_count": 2,
   "metadata": {},
   "outputs": [],
   "source": [
    "import os\n",
    "import sys\n",
    "import re\n",
    "import nltk\n",
    "sys.path.append('../src-py/')\n",
    "os.environ[\"CUDA_VISIBLE_DEVICES\"]=\"0\""
   ]
  },
  {
   "cell_type": "code",
   "execution_count": 3,
   "metadata": {},
   "outputs": [],
   "source": [
    "import pandas as pd\n",
    "pd.set_option('display.max_colwidth', None)"
   ]
  },
  {
   "cell_type": "code",
   "execution_count": 4,
   "metadata": {},
   "outputs": [
    {
     "name": "stdout",
     "output_type": "stream",
     "text": [
      "cuda\n",
      "2022-06-15 11:50:18,900 loading file ../../../data-ceph/arguana/arg-generation/claim-target-tagger/model/final-model.pt\n",
      "2022-06-15 11:50:29,473 SequenceTagger predicts: Dictionary with 5 tags: O, S-CT, B-CT, E-CT, I-CT\n"
     ]
    }
   ],
   "source": [
    "%autoreload\n",
    "import prompted_conclusion_utils as conc_utils\n",
    "from prompted_conclusion_utils import *\n",
    "from ca_utils import *"
   ]
  },
  {
   "cell_type": "code",
   "execution_count": 5,
   "metadata": {},
   "outputs": [],
   "source": [
    "from datasets import load_dataset, load_metric, Dataset\n",
    "\n",
    "from transformers import AutoModelForSeq2SeqLM, DataCollatorForSeq2Seq, Seq2SeqTrainingArguments, Seq2SeqTrainer\n",
    "from transformers import BartTokenizer, BartForConditionalGeneration\n",
    "\n",
    "import torch"
   ]
  },
  {
   "cell_type": "code",
   "execution_count": 6,
   "metadata": {},
   "outputs": [],
   "source": [
    "device = torch.device('cuda') if torch.cuda.is_available() else torch.device('cpu')"
   ]
  },
  {
   "cell_type": "code",
   "execution_count": 7,
   "metadata": {},
   "outputs": [],
   "source": [
    "ceph_dir = '/home/sile2804/data-ceph/arguana/arg-generation/multi-taks-counter-argument-generation'\n",
    "local_home_dir = '../data'\n",
    "\n",
    "#data_unique_path = '/reddit_data/conclusion_and_ca_generation/sample_test_conclusion_all_preprocessed_multi_conclusions.pkl'\n",
    "data_unique_path = '/reddit_data/conclusion_and_ca_generation/test_conclusion_all_preprocessed_multi_conclusions.pkl'\n",
    "data_path = '/reddit_data/conclusion_and_ca_generation/test_conclusion_all.pkl'"
   ]
  },
  {
   "cell_type": "code",
   "execution_count": 8,
   "metadata": {},
   "outputs": [],
   "source": [
    "def counters_coherence(post_conclusions, post_counters):\n",
    "    post_counters = [nltk.sent_tokenize(x) for x in post_counters]\n",
    "    conclusion_counter_sent_pairs = [(x[1], s) for x in zip(post_counters, post_conclusions) for s in x[0]]\n",
    "    #print(conclusion_counter_sent_pairs)\n",
    "    conclusions, counter_sents = zip(*conclusion_counter_sent_pairs)\n",
    "    _, stance_labels, stance_scores = get_stance_scores(conclusions, counter_sents)\n",
    "    stance_scores = [x[0] * -1 if x[1] == 0 else x[0] for x in zip(stance_scores, stance_labels)]\n",
    "\n",
    "    #collect counter_scores\n",
    "    counter_scores = []\n",
    "    idx = 0\n",
    "    #print(len(stance_scores))\n",
    "    for i, post_counter in enumerate(post_counters):\n",
    "        #print(len(post_counter))\n",
    "        counter_scores.append(stance_scores[idx: idx + len(post_counter)])\n",
    "        idx+=len(post_counter)\n",
    "    \n",
    "    #print(counter_scores)\n",
    "    return [np.mean(s) for s in counter_scores]\n",
    "        \n",
    "def get_best_counter(post_item):\n",
    "    if len(post_item) == 0:\n",
    "        print('found empty')\n",
    "        return ''\n",
    "    if len(post_item) == 1:\n",
    "        print('found one item')\n",
    "        return post_item[0][2]\n",
    "    \n",
    "    # Remove empty counters\n",
    "    post_item = [x for x in post_item if x[-1] != '']\n",
    "    \n",
    "    _, post_conclusions, post_counters = zip(*post_item)\n",
    "    counter_scores = counters_coherence(post_conclusions, post_counters)\n",
    "    #print(sorted(list(zip(counter_scores, post_counters)), key=lambda x: -x[0]))\n",
    "    return post_counters[np.argmax(counter_scores)]"
   ]
  },
  {
   "cell_type": "markdown",
   "metadata": {},
   "source": [
    "--------"
   ]
  },
  {
   "cell_type": "markdown",
   "metadata": {},
   "source": [
    "### Generate multiple-counters (joint way):"
   ]
  },
  {
   "cell_type": "code",
   "execution_count": 9,
   "metadata": {},
   "outputs": [],
   "source": [
    "gen_kwargs = {\n",
    "    \"do_sample\": False, \n",
    "    \"max_length\":100+50,  #50 for the conclusion\n",
    "    \"min_length\":50+50, # 50 for the conclusion\n",
    "    \"top_p\":0.95, \n",
    "    \"no_repeat_ngram_size\":3,\n",
    "    \"top_k\": 50,\n",
    "    \"num_beams\":4\n",
    "}"
   ]
  },
  {
   "cell_type": "code",
   "execution_count": 10,
   "metadata": {},
   "outputs": [],
   "source": [
    "pred_conclusion_model = BartForConditionalGeneration.from_pretrained(local_home_dir + '/output/ca-final-models/pred-conc-model').to(device)\n",
    "pred_conclusion_tokenizer = BartTokenizer.from_pretrained(local_home_dir + '/output/ca-final-models/pred-conc-model')"
   ]
  },
  {
   "cell_type": "code",
   "execution_count": 11,
   "metadata": {},
   "outputs": [],
   "source": [
    "#Ideally we will start from sample_test_conclusion_all_preprocessed.pkl and generate the concepts\n",
    "#But here we are just using the concepts generated in the pipeline way..\n",
    "#test_df = pd.read_pickle('../../../data-ceph/arguana/arg-generation/multi-taks-counter-argument-generation/reddit_data/conclusion_and_ca_generation/sample_test_conclusion_all_preprocessed.pkl')\n",
    "#test_df['post_concepts'] = conc_utils.get_wiki_concepts(test_df['post'].tolist(), max_concepts=10)\n",
    "\n",
    "test_df = pd.read_pickle('../../../data-ceph/arguana/arg-generation/multi-taks-counter-argument-generation/reddit_data/conclusion_and_ca_generation/sample_test_conclusion_all_preprocessed_multi_conclusions.pkl')\n",
    "#test_df = pd.read_pickle('../../../data-ceph/arguana/arg-generation/multi-taks-counter-argument-generation/reddit_data/conclusion_and_ca_generation/test_conclusion_all_preprocessed_multi_conclusions.pkl')"
   ]
  },
  {
   "cell_type": "code",
   "execution_count": 12,
   "metadata": {},
   "outputs": [],
   "source": [
    "def generate_multiple_counters(df, output_clm='post_counters', post_concepts_clm='post_concepts', num_counters=6, batch_size=8):\n",
    "    posts_counters = []\n",
    "    for i in range(num_counters):\n",
    "        control_codes = ['<s> <conclusion>' + x[i] if len(x) > i else '' for x in df[post_concepts_clm].tolist()]\n",
    "        #print(control_codes)\n",
    "        counters   = generate_prompted_counters(pred_conclusion_model, pred_conclusion_tokenizer, \n",
    "                                                              df['post'].tolist(), control_codes, gen_kwargs, \n",
    "                                                              batch_size=batch_size)\n",
    "        \n",
    "        cases_with_no_counter = [x for x in counters if '<counter>' not in x]\n",
    "        if len(cases_with_no_counter) > 0:\n",
    "            print('{} cases with no counter'.format(len(cases_with_no_counter)))\n",
    "            \n",
    "        conclusions = [c.split('<counter>')[0] for c in counters]\n",
    "        conclusions = [re.sub('<s>|</s>|<conclusion>|<counter>|<pad>', '', c).strip() for c in conclusions] #removing special tokens\n",
    "        \n",
    "        counters    = [c.split('<counter>')[1] if '<counter>' in c else c for c in counters]\n",
    "        counters    = [re.sub('<s>|</s>|<conclusion>|<counter>|<pad>', '', c).strip() for c in counters] #removing special tokens\n",
    "        \n",
    "        control_codes = [x.replace('<s> <conclusion>', '') for x in control_codes]\n",
    "        \n",
    "        posts_counters.append(zip(control_codes, conclusions, counters))\n",
    "\n",
    "    df['post_counters'] = list(map(list, zip(*posts_counters))) # transpose\n",
    "\n",
    "    return df"
   ]
  },
  {
   "cell_type": "code",
   "execution_count": 24,
   "metadata": {
    "scrolled": true,
    "tags": []
   },
   "outputs": [
    {
     "data": {
      "application/vnd.jupyter.widget-view+json": {
       "model_id": "5c4c4ac5b957460b903f418632e02cce",
       "version_major": 2,
       "version_minor": 0
      },
      "text/plain": [
       "  0%|          | 0/2 [00:00<?, ?ba/s]"
      ]
     },
     "metadata": {},
     "output_type": "display_data"
    },
    {
     "name": "stderr",
     "output_type": "stream",
     "text": [
      "100%|██████████| 125/125 [19:42<00:00,  9.46s/it]\n"
     ]
    },
    {
     "name": "stdout",
     "output_type": "stream",
     "text": [
      "33 cases with no counter\n"
     ]
    },
    {
     "data": {
      "application/vnd.jupyter.widget-view+json": {
       "model_id": "1e6752626fc64c30bd4b5e1e63c8bc7d",
       "version_major": 2,
       "version_minor": 0
      },
      "text/plain": [
       "  0%|          | 0/2 [00:00<?, ?ba/s]"
      ]
     },
     "metadata": {},
     "output_type": "display_data"
    },
    {
     "name": "stderr",
     "output_type": "stream",
     "text": [
      "100%|██████████| 125/125 [23:41<00:00, 11.37s/it]\n"
     ]
    },
    {
     "name": "stdout",
     "output_type": "stream",
     "text": [
      "20 cases with no counter\n"
     ]
    },
    {
     "data": {
      "application/vnd.jupyter.widget-view+json": {
       "model_id": "e9ef790113bc42eba94648d1ae5a7f84",
       "version_major": 2,
       "version_minor": 0
      },
      "text/plain": [
       "  0%|          | 0/2 [00:00<?, ?ba/s]"
      ]
     },
     "metadata": {},
     "output_type": "display_data"
    },
    {
     "name": "stderr",
     "output_type": "stream",
     "text": [
      "100%|██████████| 125/125 [22:35<00:00, 10.84s/it]\n"
     ]
    },
    {
     "name": "stdout",
     "output_type": "stream",
     "text": [
      "25 cases with no counter\n"
     ]
    },
    {
     "data": {
      "application/vnd.jupyter.widget-view+json": {
       "model_id": "7eab956e3fe0475cb0651cd0b77f7bdb",
       "version_major": 2,
       "version_minor": 0
      },
      "text/plain": [
       "  0%|          | 0/2 [00:00<?, ?ba/s]"
      ]
     },
     "metadata": {},
     "output_type": "display_data"
    },
    {
     "name": "stderr",
     "output_type": "stream",
     "text": [
      "100%|██████████| 125/125 [21:36<00:00, 10.37s/it]\n"
     ]
    },
    {
     "name": "stdout",
     "output_type": "stream",
     "text": [
      "20 cases with no counter\n"
     ]
    },
    {
     "data": {
      "application/vnd.jupyter.widget-view+json": {
       "model_id": "5d08766b6de64144a0ae1e8b862cfe10",
       "version_major": 2,
       "version_minor": 0
      },
      "text/plain": [
       "  0%|          | 0/2 [00:00<?, ?ba/s]"
      ]
     },
     "metadata": {},
     "output_type": "display_data"
    },
    {
     "name": "stderr",
     "output_type": "stream",
     "text": [
      "100%|██████████| 125/125 [15:52<00:00,  7.62s/it]\n"
     ]
    },
    {
     "name": "stdout",
     "output_type": "stream",
     "text": [
      "21 cases with no counter\n"
     ]
    },
    {
     "data": {
      "application/vnd.jupyter.widget-view+json": {
       "model_id": "0e4d155175a948cb959a10d981755f79",
       "version_major": 2,
       "version_minor": 0
      },
      "text/plain": [
       "  0%|          | 0/2 [00:00<?, ?ba/s]"
      ]
     },
     "metadata": {},
     "output_type": "display_data"
    },
    {
     "name": "stderr",
     "output_type": "stream",
     "text": [
      "100%|██████████| 125/125 [13:26<00:00,  6.45s/it]\n"
     ]
    },
    {
     "name": "stdout",
     "output_type": "stream",
     "text": [
      "20 cases with no counter\n"
     ]
    },
    {
     "data": {
      "application/vnd.jupyter.widget-view+json": {
       "model_id": "dd23b06c5bd74872aaa20281f26d838b",
       "version_major": 2,
       "version_minor": 0
      },
      "text/plain": [
       "  0%|          | 0/2 [00:00<?, ?ba/s]"
      ]
     },
     "metadata": {},
     "output_type": "display_data"
    },
    {
     "name": "stderr",
     "output_type": "stream",
     "text": [
      "100%|██████████| 125/125 [15:20<00:00,  7.36s/it]\n"
     ]
    },
    {
     "name": "stdout",
     "output_type": "stream",
     "text": [
      "17 cases with no counter\n"
     ]
    },
    {
     "data": {
      "application/vnd.jupyter.widget-view+json": {
       "model_id": "00d58fc9cb434868b68043c3d598bc58",
       "version_major": 2,
       "version_minor": 0
      },
      "text/plain": [
       "  0%|          | 0/2 [00:00<?, ?ba/s]"
      ]
     },
     "metadata": {},
     "output_type": "display_data"
    },
    {
     "name": "stderr",
     "output_type": "stream",
     "text": [
      "100%|██████████| 125/125 [12:48<00:00,  6.15s/it]\n"
     ]
    },
    {
     "name": "stdout",
     "output_type": "stream",
     "text": [
      "16 cases with no counter\n"
     ]
    },
    {
     "data": {
      "application/vnd.jupyter.widget-view+json": {
       "model_id": "0c532bc4b90c494da07e38a686a3d489",
       "version_major": 2,
       "version_minor": 0
      },
      "text/plain": [
       "  0%|          | 0/2 [00:00<?, ?ba/s]"
      ]
     },
     "metadata": {},
     "output_type": "display_data"
    },
    {
     "name": "stderr",
     "output_type": "stream",
     "text": [
      "100%|██████████| 125/125 [12:37<00:00,  6.06s/it]\n"
     ]
    },
    {
     "name": "stdout",
     "output_type": "stream",
     "text": [
      "20 cases with no counter\n"
     ]
    },
    {
     "data": {
      "application/vnd.jupyter.widget-view+json": {
       "model_id": "41fcb5e334324e3bb9b8248375894635",
       "version_major": 2,
       "version_minor": 0
      },
      "text/plain": [
       "  0%|          | 0/2 [00:00<?, ?ba/s]"
      ]
     },
     "metadata": {},
     "output_type": "display_data"
    },
    {
     "name": "stderr",
     "output_type": "stream",
     "text": [
      "100%|██████████| 125/125 [16:24<00:00,  7.87s/it]"
     ]
    },
    {
     "name": "stdout",
     "output_type": "stream",
     "text": [
      "20 cases with no counter\n"
     ]
    },
    {
     "name": "stderr",
     "output_type": "stream",
     "text": [
      "\n"
     ]
    }
   ],
   "source": [
    "test_df = generate_multiple_counters(test_df, num_counters=10, batch_size=16)"
   ]
  },
  {
   "cell_type": "code",
   "execution_count": 26,
   "metadata": {},
   "outputs": [],
   "source": [
    "#test_df.to_pickle('../data/output/multi_conclusions_via_joint_model.pkl')\n",
    "test_df.to_pickle('../data/output/multi_conclusions_via_joint_model_nosampling_4beams.pkl')"
   ]
  },
  {
   "cell_type": "markdown",
   "metadata": {},
   "source": [
    "#### Generate with nuclus sampling:"
   ]
  },
  {
   "cell_type": "code",
   "execution_count": 13,
   "metadata": {
    "scrolled": true,
    "tags": []
   },
   "outputs": [
    {
     "data": {
      "application/vnd.jupyter.widget-view+json": {
       "model_id": "fba45ed4ad2a4619a9f237974a52d946",
       "version_major": 2,
       "version_minor": 0
      },
      "text/plain": [
       "  0%|          | 0/2 [00:00<?, ?ba/s]"
      ]
     },
     "metadata": {},
     "output_type": "display_data"
    },
    {
     "name": "stderr",
     "output_type": "stream",
     "text": [
      "100%|██████████| 125/125 [19:00<00:00,  9.13s/it]\n"
     ]
    },
    {
     "name": "stdout",
     "output_type": "stream",
     "text": [
      "35 cases with no counter\n"
     ]
    },
    {
     "data": {
      "application/vnd.jupyter.widget-view+json": {
       "model_id": "dc324921bba646c6bee1caad7fbe6a03",
       "version_major": 2,
       "version_minor": 0
      },
      "text/plain": [
       "  0%|          | 0/2 [00:00<?, ?ba/s]"
      ]
     },
     "metadata": {},
     "output_type": "display_data"
    },
    {
     "name": "stderr",
     "output_type": "stream",
     "text": [
      "100%|██████████| 125/125 [19:03<00:00,  9.15s/it]\n"
     ]
    },
    {
     "name": "stdout",
     "output_type": "stream",
     "text": [
      "34 cases with no counter\n"
     ]
    },
    {
     "data": {
      "application/vnd.jupyter.widget-view+json": {
       "model_id": "5061c005982d471e87ac0d5eb5834774",
       "version_major": 2,
       "version_minor": 0
      },
      "text/plain": [
       "  0%|          | 0/2 [00:00<?, ?ba/s]"
      ]
     },
     "metadata": {},
     "output_type": "display_data"
    },
    {
     "name": "stderr",
     "output_type": "stream",
     "text": [
      "100%|██████████| 125/125 [17:21<00:00,  8.33s/it]\n"
     ]
    },
    {
     "name": "stdout",
     "output_type": "stream",
     "text": [
      "30 cases with no counter\n"
     ]
    },
    {
     "data": {
      "application/vnd.jupyter.widget-view+json": {
       "model_id": "eac6909dd779418e91c25f3e9450815b",
       "version_major": 2,
       "version_minor": 0
      },
      "text/plain": [
       "  0%|          | 0/2 [00:00<?, ?ba/s]"
      ]
     },
     "metadata": {},
     "output_type": "display_data"
    },
    {
     "name": "stderr",
     "output_type": "stream",
     "text": [
      "100%|██████████| 125/125 [12:45<00:00,  6.12s/it]\n"
     ]
    },
    {
     "name": "stdout",
     "output_type": "stream",
     "text": [
      "28 cases with no counter\n"
     ]
    },
    {
     "data": {
      "application/vnd.jupyter.widget-view+json": {
       "model_id": "6774852167b5406b808bc813fe5f7890",
       "version_major": 2,
       "version_minor": 0
      },
      "text/plain": [
       "  0%|          | 0/2 [00:00<?, ?ba/s]"
      ]
     },
     "metadata": {},
     "output_type": "display_data"
    },
    {
     "name": "stderr",
     "output_type": "stream",
     "text": [
      "100%|██████████| 125/125 [12:33<00:00,  6.03s/it]\n"
     ]
    },
    {
     "name": "stdout",
     "output_type": "stream",
     "text": [
      "28 cases with no counter\n"
     ]
    },
    {
     "data": {
      "application/vnd.jupyter.widget-view+json": {
       "model_id": "db395380a4b541938fd0714bd7b95eda",
       "version_major": 2,
       "version_minor": 0
      },
      "text/plain": [
       "  0%|          | 0/2 [00:00<?, ?ba/s]"
      ]
     },
     "metadata": {},
     "output_type": "display_data"
    },
    {
     "name": "stderr",
     "output_type": "stream",
     "text": [
      "100%|██████████| 125/125 [12:13<00:00,  5.87s/it]\n"
     ]
    },
    {
     "name": "stdout",
     "output_type": "stream",
     "text": [
      "28 cases with no counter\n"
     ]
    },
    {
     "data": {
      "application/vnd.jupyter.widget-view+json": {
       "model_id": "2c9ec1e52f814eefb76b65954cf64cc8",
       "version_major": 2,
       "version_minor": 0
      },
      "text/plain": [
       "  0%|          | 0/2 [00:00<?, ?ba/s]"
      ]
     },
     "metadata": {},
     "output_type": "display_data"
    },
    {
     "name": "stderr",
     "output_type": "stream",
     "text": [
      "100%|██████████| 125/125 [12:17<00:00,  5.90s/it]\n"
     ]
    },
    {
     "name": "stdout",
     "output_type": "stream",
     "text": [
      "26 cases with no counter\n"
     ]
    },
    {
     "data": {
      "application/vnd.jupyter.widget-view+json": {
       "model_id": "56f92ccc04114f45b2874d255beb3ae6",
       "version_major": 2,
       "version_minor": 0
      },
      "text/plain": [
       "  0%|          | 0/2 [00:00<?, ?ba/s]"
      ]
     },
     "metadata": {},
     "output_type": "display_data"
    },
    {
     "name": "stderr",
     "output_type": "stream",
     "text": [
      "100%|██████████| 125/125 [12:04<00:00,  5.80s/it]\n"
     ]
    },
    {
     "name": "stdout",
     "output_type": "stream",
     "text": [
      "29 cases with no counter\n"
     ]
    },
    {
     "data": {
      "application/vnd.jupyter.widget-view+json": {
       "model_id": "07cf8ed4865a4ee7ab92c2948190b381",
       "version_major": 2,
       "version_minor": 0
      },
      "text/plain": [
       "  0%|          | 0/2 [00:00<?, ?ba/s]"
      ]
     },
     "metadata": {},
     "output_type": "display_data"
    },
    {
     "name": "stderr",
     "output_type": "stream",
     "text": [
      "100%|██████████| 125/125 [11:17<00:00,  5.42s/it]"
     ]
    },
    {
     "name": "stdout",
     "output_type": "stream",
     "text": [
      "22 cases with no counter\n"
     ]
    },
    {
     "name": "stderr",
     "output_type": "stream",
     "text": [
      "\n"
     ]
    }
   ],
   "source": [
    "gen_kwargs = {\n",
    "    \"do_sample\": True, \n",
    "    \"max_length\":100+20,  #50 for the conclusion\n",
    "    \"min_length\":50+20, # 50 for the conclusion\n",
    "    \"top_p\":0.95, \n",
    "    \"no_repeat_ngram_size\":3,\n",
    "    \"top_k\": 50,\n",
    "    \"num_beams\":4\n",
    "}\n",
    "\n",
    "test_df = generate_multiple_counters(test_df, post_concepts_clm='post_concepts2', num_counters=10, batch_size=16)"
   ]
  },
  {
   "cell_type": "code",
   "execution_count": 14,
   "metadata": {},
   "outputs": [],
   "source": [
    "test_df.to_pickle('../data/output/multi_conclusions_via_joint_model_withsampling_4beams.pkl')"
   ]
  },
  {
   "cell_type": "code",
   "execution_count": 15,
   "metadata": {
    "scrolled": true,
    "tags": []
   },
   "outputs": [
    {
     "data": {
      "text/html": [
       "<div>\n",
       "<style scoped>\n",
       "    .dataframe tbody tr th:only-of-type {\n",
       "        vertical-align: middle;\n",
       "    }\n",
       "\n",
       "    .dataframe tbody tr th {\n",
       "        vertical-align: top;\n",
       "    }\n",
       "\n",
       "    .dataframe thead th {\n",
       "        text-align: right;\n",
       "    }\n",
       "</style>\n",
       "<table border=\"1\" class=\"dataframe\">\n",
       "  <thead>\n",
       "    <tr style=\"text-align: right;\">\n",
       "      <th></th>\n",
       "      <th>title</th>\n",
       "      <th>post_counters</th>\n",
       "    </tr>\n",
       "  </thead>\n",
       "  <tbody>\n",
       "    <tr>\n",
       "      <th>500025</th>\n",
       "      <td>I Don't Believe in the Big Bang</td>\n",
       "      <td>[(Science, Science has to be above religion for the Big Bang to be a fact., science is not above religion, it's just a branch of science. science is not the same as religion. religion is the belief in a higher power, and science is the observation of that higher power. the scientific method is the best way to understand the universe, the universe is the only thing we know for certain. if you don't believe in science, then you're probably not going to believe in the big bang.), (Religion, Religion is no more valid than science., the big bang is the most plausible explanation for the existence of life on earth. it's the only explanation for life, and it is the best explanation for all life. it is also the most likely explanation for everything that has ever happened in the universe. if you believe in the big bang, then you have to believe in god.), (Fact, Factually, the Big Bang is not a fact., science is not the only source of truth. the bible is the most authoritative source of all truth, and it is the best source of any truth. if you don't believe science, then you have no reason to believe in the bible. science is the only way we can know the truth.), (Idiot, Idiot, I don't believe the Big Bang is a fact., the big bang is a scientific theory. it's an explanation for how life came to be. it doesn't make any sense to say that it's a fact, but it's the explanation for why life exists. if you're going to argue that the big bang isn't a fact because you don't understand it, then that's your prerogative, not science's.), (Parking violation, Parking violation of the 4th amendment is no more valid than the Big Bang., the big bang is not a scientific theory. it is a theory about the nature of the universe. it has nothing to do with science. it's just a theory that people have come up with. it doesn't mean that science doesn't exist, it just means that we don't have enough evidence to support its existence.), (, I don't think the Big Bang is a fact., the big bang is a scientific theory. it has been proven to be true, and it is supported by many sources. it is the only theory that can explain the universe as we know it. the scientific method is not the only way to understand the universe, but it is by far the best method we have.), (, I believe the Big Bang is not a fact., the big bang is a scientific theory. it's not a religious theory, it's a scientific fact. science is a branch of religion. if you don't believe in science, then you're not going to believe in the big bang, because science is based on faith, not faith.), (, I don't think the Big Bang is a fact., i think it's a fact, but it's not the only one. there are many theories about how the universe came to be, and one of the most famous is the big bang theory. the theory posits that the universe was created by the cosmic microwave background, which is a big hole in the universe, and that the microwave background caused the creation of life. this is a theory that has been thoroughly disproved, and many other theories have been debunked as well. it seems to me that the scientific community is), (, I don't think the Big Bang is a fact., the big bang is the best explanation for the universe. it explains everything that we know about the universe, and everything we don't know about it. it's the only explanation we have for the existence of life, and it's one of the best explanations for all life on earth.), (, I don't think the Big Bang is a fact., the big bang is a theory about how the universe works. it is not a fact, it is just a hypothesis. it doesn't mean anything, but it does mean that it is an idea. it does not mean that there is no evidence for it, and it doesn t mean that no evidence exists for it. it just means that no one is able to prove it.)]</td>\n",
       "    </tr>\n",
       "    <tr>\n",
       "      <th>534021</th>\n",
       "      <td>There is no reason for Britain to remain in the EU.</td>\n",
       "      <td>[(Law, Lawyers for the UK should just leave the EU and stay in the UK., the eu is not a free trade bloc, it is a free association of countries. britain is an island nation, and the eu does not recognize that. it does recognize that british sovereignty is not absolute, but it does not recognise that it is the only country with the right to govern its own affairs.), (Sovereignty, Sovereignty is better for Britain than being in the EU., the eu isn't for british people, it's for the benefit of the eu as a whole. britain is an island nation, but it is not an island by any means. it is an eu country, but that doesn't mean it doesn't have its own laws, customs, and customs. for example, it has a customs union with ireland, but there is no customs union between ireland and the eur. it also has a trade union with the e), (European Union law, European Union law is stupid and should be changed, the eu is a free trade bloc. it is not a single country. the eu allows free movement of people, goods, services, and people. it does not restrict freedom of movement of goods and services. it also does not limit freedom of expression, expression of opinion, and expression of ideas. it allows freedom of religion, expression, and speech. it provides freedom of the press, assembly, and assembly. there are no restrictions on freedom of speech or expression. the only restrictions on free movement are those on freedom), (Border, Borderless borders are a good thing for Britain and the UK should leave the EU., the eu is a great thing for the eu, but it's also a bad thing for british people. i don't think it's fair to say that britain is an island nation, but that doesn't mean that it's not an island. the ukraine is a large island, and it's the best place in the world to live if you want to be an islander. it's a great place to live, but i think it would be), (People, People should just leave the EU and stay in the UK., the eu is not a single entity. it is a collection of countries, many of which have strong ties to each other. britain is a member of the eu because it is an island nation. it does not have borders that you can easily cross aside from the one in ireland.), (Idea, Idea: Britain should leave the EU and stay in the UK, the eu is not a single entity. it is a collection of countries and countries have different cultures and interests. the eu isn't the same as a single country. it isn't a single currency, it is not the same currency as the usa. britain is an island nation. it has no currency. it doesn't have a currency. its economy relies on trade with the rest of the eur. it depends on the european market. it relies on the e. e), (Trade bloc, Trade blocs like the EU are a bad idea for Britain., the eu is not a trade bloc, it is a free market economy. britain benefits from the eu's free trade, but it doesn't benefit from its free trade with the rest of the world. eu laws are good, but they are not good for british people. they are bad for the economy of the uk, and they are terrible for the people of ireland. i'm not sure if you are aware of this, but ireland is part of the e), (Sign, Signing up to the EU is a waste of time and money, the eu is the single largest trading bloc in the world. britain is a member of the eu, but not the e. e., and is not a part of it. it is not part of the european union, and has no economic ties to the rest of the union. the eur is not the same as the us, and it has nothing to do with the british. they are not in the same economic league as the u. s. and they), (, I think Britain should leave the EU., the eu is not a single entity. it is a collection of countries, many of which have their own economies and cultures. the eu allows for free movement of people, goods, services, etc. which britain has no problem with. the only problem is that it is not the best way to deal with the problems of these countries. it would be better if british people just left the eun and stayed in the eec.), (, I think Britain should leave the EU, the eu is not a single entity. it is a collection of many different countries, with many different cultures, languages, and traditions. britain is not part of the eu, but is a member of the european union, which is the largest free trade area in the world. the uk is a part of europe, but does not belong to the eur.)]</td>\n",
       "    </tr>\n",
       "    <tr>\n",
       "      <th>415645</th>\n",
       "      <td>The Trump Administration Would Be Significantly More Harmful to US Domestic and International Policy W/out Moderates Like Mattis</td>\n",
       "      <td>[(Military, Military strategist General Mike Mattis has prevented significant more from harm being committed to US domestic and foreign policy by Trump and his supporters in the administration., i think mattis is more to blame for the lack of a more robust response to the syrian civil war than trump himself. mattis was the only one in the government who opposed the invasion of syria, and he was the one who instigated the invasion in the first place.), (Transgender, Transgender people in the military have prevented significantly more from harm being committed to US domestic and foreign policy by Trump and his supporters in the Trump administration., i don't think mattis is a good person, but i do think he has done a lot of good things for the united states. he is a strong advocate for the rights of transgender people, and i think he is doing a lot good for the transgender community.), (Surgery, Surgery is a good thing for the United States, surgery is good for the united states. it's good for us because it's a good way to treat people with dignity and respect. but it's also bad for the u. s. because it is a bad way to deal with people with disabilities and people with mental illness.), (Torture, Torture is a good thing for the United States and the United Nations., torture isn't good for the united states and the united nations. it's a bad idea for the u. n. because it's bad for the world and bad for american interests. the only thing that makes it a good idea is that it's good for americans. if you want to be a good friend to americans, you have to be good to the rest of the world too.), (Headquarters, Headquarters Commander General James Mattis has prevented significant more from harm being committed to US domestic and foreign policy by Trump and his supporters in the administration., i don't think mattis has prevented much from harm, but i do think he has prevented a lot of harm from being committed by trump supporters. first, mattis is a career military strategist. he is an expert in the field of military strategy. he has spent decades studying military strategy, and he is well aware of the pitfalls of military policy. second, he is a very smart guy. he knows what he is talking), (United States Secretary of Defense, United States Secretary of Defense James Mattis has prevented significant more from harm being committed to US domestic and foreign policy by Trump and his supporters in the administration., i don't think mattis has prevented any harm from being committed by trump or his supporters, but i do believe he has prevented more from being done to us by his supporters.), (Presidency of Barack Obama, Presidency of Barack Obama has prevented significant more from harm being committed to US domestic and foreign policy by Trump and his supporters in the administration., i don't think mattis is to blame for the actions of the trump administration. mattis was a very good president, but he was a terrible president. he failed to do a lot of things that would have made him a better president.), (Citizenship of the United States, Citizenship of the United States and the United Nations are better off without General Mike Mattis than without him., i think mattis is a net positive for the united states and the united nations as a whole. mattis has done a lot of good for the us, but i think he is also a net negative for the rest of the world as well. he is the only person in the us government who is willing to stand up to trump on issues that are important to the us and the world.), (Senate, Senate Majority Leader John McCain (R-Ariz.) has prevented significantly more from harm being committed to US domestic and foreign policy by Trump and his supporters in the Trump administration., i don't think mattis has prevented any harm from being committed by trump or his supporters, but i do think he has prevented more from being done by the united states as a whole.), (Secretary, Secretary of Defense James Mattis has prevented significant more from harm being committed to US domestic and foreign policy by Trump and his supporters in the administration., mattis is not a bad person, but he's not a good person. he's a bad commander in chief, and he's incompetent. he doesn't know what's best for the military and the world as a whole.)]</td>\n",
       "    </tr>\n",
       "    <tr>\n",
       "      <th>507298</th>\n",
       "      <td>Poisoning the well against fascists is a dishonest and therefore ineffective way of combating fascists</td>\n",
       "      <td>[(Fascism, Fascism is not a real thing, and disingenuous \"anti-fascism\" is the only effective way to combat fascism., i'm not sure what you're trying to say here, but i think it's worth pointing out that fascism is a social construct, not a political ideology. it's not a single ideology, it's a collection of many different ideologies, all of which are at odds with each other. there's nothing inherently wrong with being anti fascist, but it's important to remember that not every fascist is anti fascist. in fact, there's), (Nationalism, Nationalism is the only way to combat fascism, and disingenuous anti-fascism is an ineffective way to do so., nazism is not a single ideology. it is a collection of many different ideologies, all of which are rooted in racism, sexism, homophobia, transphobia, etc. it's not disingenuous to say that you're not a fascist, but it's disingenuous not to say you're anti fascist.), (White supremacy, White supremacy is not a fascist., i'm not going to argue that white supremacy is a fascist, but i will argue that it is a form of white supremacism. white supremacy isn't the only form of fascism, but it is the most extreme form of it. there are many forms of white supremacy that are not fascist, such as the white panther party, the white fascist party, and the white nationalist party. these forms of racism are not the only forms of fascism. in fact, they are the least fascist forms of any form of racism. in the), (Video, Video of \"anti-fascism\" youtuber \"Contrapoints\" is an ineffective way of identifying fascists and should be combated., i don't think it's an effective way to identify fascists. it's a way to hide them from the general public, but that doesn't mean that it's the best way to do it.), (Videotelephony, Videotelephony is the most effective way to combat fascism., i don't think it's disingenuous to call someone a 'fascist' when they are not a fascist. it's not disingenuous, it's just not the right word. fascism is a political ideology, not a religion. it doesn't have to be a religion, it just has to be an ideology. that's what it boils down to. it is an ideology, but it's a political one.), (YouTuber, YouTuber \"Contrapoints\" is an ineffective way of identifying fascists and should be denounced., i'm not sure what you're trying to say, but i think you're looking at it from the perspective of someone who's anti fascist. i don't think it's possible to say that someone who isn't a fascist is anti fascist, but that doesn't mean that they're anti fascist in the same way as someone who is anti capitalist is anti communist. i'm not saying that you're wrong, i'm saying that it's impossible to say someone isn't), (Sophist, Sophist \"anti-fascism\" rhetoric is harmful to the fight against fascism., i don't think it's fair to label someone as a 'fascist' or a'republican democrat' when they don't fit the definition of either. i think it is fair to say that there is a difference between being an 'anti fascist' and being a fascist, but that is not the same thing as saying that someone is not a fascist.), (Validity (logic), Validity (logic) of \"Fascism\" is the only effective way to combat fascism., i think the problem is not that 'fascism' is a nebulous term, it's that it's used as an excuse to demonize people who disagree with the ideology of fascism. fascism is not an ideology; it's a political ideology. it's not a word, but it's an ideology. the fact that it is used as a euphemism for 'white supremacy' doesn't mean that all fascists are white supremacists. it just means that they are), (Dishonesty, Dishonesty and redefinition of \"fascism\" is an ineffective way of combating fascism, an ideology that ought to be combated., i think you're looking at this the wrong way. fascism is a political ideology, not a social one. it's not about protecting white people, it's about the preservation of the white race. that's not what fascism is about. it is about the protection of white people from people of color, women, and people of different races.), (ContraPoints, ContraPoints' anti-fascism is an ineffective way of combating fascism, an ideology that ought to be combated., i don't think you understand what fascism is. it's a political ideology, and it's not about race or gender, it's about power. that's why it's called fascism, because that's what it is about. it isn't about race, gender, or sexual orientation. fascism is about power, and that's the only thing that makes it a fascist.)]</td>\n",
       "    </tr>\n",
       "    <tr>\n",
       "      <th>505763</th>\n",
       "      <td>Women have an easier time finding romantic partners than men</td>\n",
       "      <td>[(Female, Female relationships are easier than male relationships, i think there are a lot of things wrong with your view. firstly, you're assuming that women are inherently better at finding romantic partners than men. that's not the case. women have a lot more control over their own lives than men do, and that's true of men as well. secondly, i think you're basing your view on your own personal experiences. i don't think you understand how the dating scene works. it's not that women have it easier, it's that women don't have to work as hard), (Western world, Western world is an easier place for women to find romantic partners than it is for men., i don't think it's fair to say that women are more likely to be single than men. it's true that women have a harder time finding romantic partners, but that doesn't mean that they are less likely to find a romantic partner. i'm not saying that women don't have an easier time, but i'm saying that they have a much easier time in the dating world than they did in the past.), (Society, Society makes it easier for women to find romantic partners than men., i don't think it's easy to find a romantic partner, but it's not hard to find one if you're willing to put in the effort. it's the same reason why it's easier for men to find women than it is for women. women are more likely to date people who are attractive to them, and men are less likely to be attractive to women.), (Time, Time and again, women have an easier time finding romantic partners than men., i think you're looking at things in the wrong light. i don't think it's that women are more likely to find romantic partners, it's more likely that they're looking for a partner who shares the same personality as them. if you're in a relationship with someone who doesn't share your personality, you're going to have a hard time finding a romantic partner. that's not to say you can't find someone who shares your personality. it's just that you're not going to find), (Woman, Woman have an easier time finding romantic partners than men, i don't think women have a harder time finding a romantic partner than men, but i do think it's easier for women to find a partner because they're more likely to be in a stable relationship with a stable partner. if you're in a relationship with someone who's stable, you're going to have a better chance of having a successful relationship with that person than you would if you were single.), (Youth, Youth are more likely to find romantic partners than adults, i'm going to take a different approach to this. i don't think it's fair to say that women have an easier time finding romantic partners. i think that men have a harder time dating than women, but that's not because they're less attractive. it's because women are less likely to trust their own judgement, and they're more inclined to rely on the opinions of others to determine whether they're interested in a relationship. i'm not saying that men are less attractive, but i do think that women are), (Industry (economics), Industry (economics) is skewed to women's benefit, economics is biased towards women. it's not sexist, it's a fact of life. if you're going to argue that women have an easier time finding romantic partners than men, then you have to also argue that men don't have to work harder to find a romantic partner. that's not what economics is about.), (Belief, Belief that women have an easier time finding romantic partners than men is a result of how society is set up., i don't think it's easy to find a romantic partner because women are more likely to be picky about who they date. it's more difficult for women to find romantic partners because they don't have the same standards of what constitutes a good partner as men do. i'm not saying that women are inherently more picky, i'm saying that they tend to be less picky.), (Friendship, Friendship is easier for women than men, friendships are easier for men than women. women are more likely to be single because they are less likely to have a partner to share a life with, and men are more unlikely to be alone because they have other people to share that life with. it's not easy to find a partner, but it's easier to find someone who is compatible with you.), (Man, Manly women have an easier time finding romantic partners than men., i don't think it's hard to find a romantic partner if you're willing to put in the effort to get to know the other person, but i think you're underestimating the number of people who are not willing to take the time to know you. if you want to have a meaningful relationship with someone, you need to be willing to spend the time and effort to know them, not to date them.)]</td>\n",
       "    </tr>\n",
       "    <tr>\n",
       "      <th>432241</th>\n",
       "      <td>White people should not be berated for their past in colonialism, slavery, and genocide.</td>\n",
       "      <td>[(Country, Country's are more responsible for slavery colonialism and genocide than any other person., white people are the only ones responsible for the trans atlantic slave trade. they were the ones that started it, and they are the ones who started it in the first place. that's not to say that they shouldn't be held responsible for it, but they aren't the ones to be blamed.), (History, History is unfair to white people. They are held responsible for slavery colonialism and genocide more than any other person., i don't think it's fair to hold white people responsible for genocide. i think it is fair to say that white people are responsible for a lot of bad things in history, but that doesn't mean they are guilty of genocide.), (White people, White people are responsible for slavery colonialism and genocide more than any other person., i think you're looking at it the wrong way. it's not that white people were responsible for the trans atlantic slave trade, it's that they were the ones who started it. the slave trade was started by african merchants who sold us slaves in the first place. it wasn't the white people that started it, it was the black people who created it.), (Ethnic groups in Europe, Ethnic groups in Europe are not to blame for slavery colonialism and genocide more than white people., i think it's important to distinguish between racism and colonialism. racism is the belief that a certain race is superior to another, and colonialism is the idea that a particular race is inferior to another. the difference is that racism is a belief that all races are equal, while colonialism is an idea that any race can be superior to any other.), (European colonization of the Americas, European colonization of the Americas and the conquest of America is more justified than the American slave trade and genocide., white people are the ones responsible for the trans atlantic slave trade, and the american slave trade. they were the ones who made the slave trade happen, and they are to blame for the deaths of millions of people.), (Social responsibility, Social responsibility for slavery and genocide is more prevalent in the United States than it is in other countries., i don't think it's fair to say that white people are held responsible for slavery colonialism and genocide more than any other person. i don't know of any other country in the world that has been involved in these things. but i do think that we should be held accountable for the consequences of our actions. it's not that we're the only ones responsible for these things, but we're at least the ones who have to take the brunt of the consequences.), (Object (philosophy), Object (philosophy), white people are to blame for slavery and genocide in the americas. it is not the fault of white people, it is the responsibility of people of color. the american slave trade and the conquest of america are not comparable to the european conquest of the native americans. the us was not the first country to engage in a slave trade, but it was the first to do it in a large scale. the problem is that white people were not the only ones involved in the trans atlantic slave trade. the slave trade), (TL;DR, TL;DR: I believe that as a white man I am held responsible for slavery colonialism and genocide more than any other person., i think the problem with your argument is that it assumes that all people are equal, which is not the case. there are many different types of people in the world, and there are a lot of different ways of doing things. for example, there are plenty of people who live in countries like india, and they are not as bad as european countries.), (Locals, Locals in the US are held responsible for slavery colonialism and genocide more than any other person., i don't think it's fair to say that white people were responsible for the trans atlantic slave trade, because they weren't. they were the ones who started it, and they didn't stop it. it's not fair to claim that we were the only ones responsible for it, because we didn't do anything about it.), (, I believe that as a white man I am held responsible for slavery colonialism and genocide more than any other person., i think you're misinterpreting the history of the american slave trade. the slave trade was not the only slave trade going on at the time. it was the first slave trade in america, and it was run by white people.)]</td>\n",
       "    </tr>\n",
       "    <tr>\n",
       "      <th>439718</th>\n",
       "      <td>Free market Capitalism (Anarcho Capitalism, Laissez-Faire capitalism etc.) works the best, in opposition to Social-Democracy/Socialism, Communism.</td>\n",
       "      <td>[(Competition, Competition is what drives innovation, and free market economics is a good thing., the problem with competition is that it often leads to perverse incentives. for example, if a company is able to charge more for the same product than another company, they will be incentivized to do so. this will lead to the creation of monopolies, which will eventually lead to a shortage of goods and services. this in turn leads to a lack of innovation.), (Free market, Free market economics is good for the economy, free market economics isn't necessarily good, but it's not necessarily bad either. it's just not the right way to do things. capitalism, on the other hand, is the wrong way to deal with problems. free market economics does not mean that you have to be a free market capitalist. it just means that you are allowed to do whatever you want, as long as it is in the best interest of the economy as a whole.), (Developed country, Developed country should have free market economics., free market economics doesn't work because it's not a good system. it's a bad system because it is not free, it's just a system that allows people to do what they want. for example, the free market doesn't allow people to work outside of the home, it allows them to do whatever they want as long as they're not hurting anyone else. the problem with this system is that it doesn't take into account the needs of the people who live in the country. people who can't afford to live outside), (Truth, Truth and the truth only., free market economics is not the same thing as capitalism. capitalism is the system of government regulation and taxation that allows for the free flow of goods and services. the free market does not allow for private monopolies. it does not provide for the freedom of the individual. it also does not give the individual the freedom to innovate and create new things.), (Big business, Big business should be allowed to do whatever they want., free market economics is not a good thing. it is a system that is designed to benefit the rich at the expense of the poor and middle class. this is why it is called a free market, because it is not designed to help the poor or middle class, but rather the rich and the middle class at the same time.), (Binge-watching, Binge-watching free-market economics is a good thing., free market economics is good for the economy, but it's not a good idea for the people who live in it. it's good for a lot of people, but not everyone. for example, it's bad for people in china, because they're forced to work for less than they can afford, and they're often forced to do so for no reason other than to make more money. they don't have the freedom to do what they want, they have no freedom to make decisions for themselves,), (Hello, Hello, I'm a free market economics guy. I don't think the free market is a good thing., free market economics doesn't mean that you have to work for a living. it just means that you can make a living doing what you love. if you don't like it, then you can leave. it's not about the money, it's about the freedom to choose what you want to do.), (Good, Good free market economics is good., free market economics isn't good. it's not good because it's good for society, it's bad because it is bad for the individual. capitalism is great for the economy, but it's terrible for individual people. there are a lot of people who benefit from capitalism, but there are also many people who suffer from it, and there are some people who don't benefit from it at all, and it's really bad for them. that's not to say that capitalism is bad, because it isn't, but capitalism is terrible for), (, I believe that free market economics is a good thing., free market economics doesn't mean that there is no competition. in fact, it means that there are no barriers to entry in the market. if you don't have a job, you can't get a better job. if a company doesn't pay you enough to keep up with the competition, they can't afford to hire you anymore. that's not to say that there aren't advantages to a free market, but it does mean that the benefits aren't worth the costs.), (, I believe that free market economics is a good thing., free market economics isn't the best way to solve problems. it's not the only way, but it's one of the best ways to solve them. the problem with capitalism is that it's a flawed system. it doesn't make sense to have a free market, because it's inefficient and leads to the creation of more problems than it solves.)]</td>\n",
       "    </tr>\n",
       "    <tr>\n",
       "      <th>529099</th>\n",
       "      <td>Nuclear power in the current state is not a alternative to solar, water, wind and other renewable sources.</td>\n",
       "      <td>[(Country, Country's should stop using nuclear power., i don't think it's possible to change your view because it's not really a question of whether or not nuclear power is safe, it's a matter of whether it's better than other forms of power generation. i'm not sure what you're talking about, but i think you're looking at it from the perspective of a country that doesn't have nuclear power, and i think that's a bad thing. the problem with nuclear power isn't that it's bad, but rather that it doesn't work in the real world.), (Technology, Technology such as nuclear power is one of the worst ways to generate power., nuclear power is the most cost effective way to generate electricity. it doesn't have to be expensive, it can be cheap, and it can easily be done in a few hours or less. it's cheaper than coal, oil, and other fossil fuels. there's no reason to believe that nuclear power will be any less cost effective than any other form of energy.), (Company, Company's should not be allowed to use nuclear power as a way to make a profit., the problem with nuclear power is not that it's dangerous, it's that it doesn't work. the problem is that the power plants themselves are not safe. they're not built to be safe, they're built to make money. and that's not a bad thing. that's a good thing. but the problem with the nuclear power industry is that it is not regulated properly. the government doesn't regulate it properly, the companies don't regulate themselves properly, and the companies themselves), (Nuclear power, Nuclear power is one of the worst ways to generate power, nuclear power is the most cost effective way of generating power. there is no reason to believe that it is more cost effective than other forms of power generation, and even if it was, it would still be cheaper than coal and oil. coal is expensive, but it is also cheaper than nuclear.), (Money, Money &amp;amp; safety are the biggest problems with nuclear power., the biggest problem with nuclear energy is that it's too expensive. the cost of building a nuclear power plant is about the same as building a car assembly line. it's a lot more expensive, and it's not as safe as cars, but it's still cheaper. the problem is that there are too many companies trying to make money off nuclear power, and too many people who don't understand the risks of nuclear energy.), (Reason, Reason 1: Nuclear power is one of the worst ways to generate power., nuclear power is the most cost effective way of generating power. it's cheaper than coal, oil, and gas. it is cheaper than any other energy source, and it's more environmentally friendly than any fossil fuel source. there is nothing wrong with nuclear power, but it's not the best way to generate electricity.), (Radioactive waste, Radioactive waste is one of the worst ways to generate power., nuclear waste is not the most problematic thing we create, we use a way that will affect many generations after us and will be a risk for many of them for thousands of years. the problem with nuclear power is that it doesn't have the ability to store radioactive material safely. it can be stored in a landfill, but it can't be properly disposed of.), (Accident, Accident &amp;amp; safety in nuclear power is one of the worst ways to generate power., i don't think it's possible to change your view on nuclear power. it's a proven technology, it's safe, and it's been around for decades. the only thing that's wrong with it is that it's not profitable. the problem isn't that the companies aren't willing to risk extreme damages to humans and nature as long as they can make a profit, the problem is that they don't want to risk the lives of millions of people.), (Good, Good riddance to nuclear power., nuclear power is one of the most cost effective ways to generate power. it can be cheaper than coal, gas, oil, and other forms of energy. it is also the most environmentally friendly way of generating power. coal, oil and natural gas are the most carbon intensive forms of power. nuclear is by far the least carbon intensive.), (, Nuclear power is one of the worst ways to generate power., nuclear power is a great way to generate energy. the problem with nuclear power is that it is expensive to run. the cost of running a nuclear power plant is about 10,000,000 per year, and that's not counting the environmental costs of running the plant.)]</td>\n",
       "    </tr>\n",
       "    <tr>\n",
       "      <th>531796</th>\n",
       "      <td>If Conflict theory is correct then White people and Asian people need to start fighting against diversity rhetoric</td>\n",
       "      <td>[(Social science, Social science is correct and affirmative action is only rational for white people and asian people to start discriminating and to start excluding people from their companies., affirmative action is not about promoting diversity, it's about promoting meritocracy. it's not about creating more merit, its about creating a system that rewards meritocracy, not equality.), (Indian people, Indian people and white people should lobby against affirmative action., affirmative action is not about promoting diversity, it's about promoting meritocracy. it's not about encouraging white people to be more meritocratic. affirmative action is about encouraging meritocracy, not promoting diversity. you can't stop people from being meritocratic, you can only stop them from being racist, sexist, homophobic, etc.), (Demography, Demography is a power struggle and affirmative action reduces the level of power our groups can gain., i don't think it's possible to change your view on affirmative action without changing your view of who's in power. if you're going to argue that diversity is a good thing, then you should also argue that it's a bad thing. diversity is good for society as a whole, but it's not good for the individual. for example, if you want to get rid of affirmative action, you'd have to do a lot of work to change the way that people think), (Asian people, Asian people and white people are at war with each other and affirmative action is the solution., affirmative action is not a solution to a problem. it is a tool to reduce the amount of power that one group has over another group. the problem with affirmative action isn't that it reduces the level of power our groups can gain, the problem is that it makes it harder for minorities to get ahead in the first place. affirmative action doesn't help minorities get ahead, it just makes it easier for white people to have more power over minorities.), (Game, Game theory is correct and White and Asian people should support affirmative action., i don't think affirmative action is the solution. the solution is not to get rid of affirmative action, it's to stop affirmative action from being used as an excuse for discrimination. affirmative action isn't the solution to racism. it's a solution to a problem that already exists.), (Speech, Speech is a power struggle and if all racial groups are competing for power then you would have to conclude that white and asian people would need to start solidifying their positions and fighting against diversity., i don't think it's fair to assume that everyone is competing for the same thing. in order to be successful in the modern world, you need to be able to succeed in a society that is diverse and open to new ideas and perspectives. i'm not saying that there's no reason to be racist, sexist, homophobic, transphobic, etc., but i), (Goal, Goal is the goal of all racial groups and it is only rational for white people and asian people to start discriminating and to start excluding people from their companies., the goal is not to gain power. the goal is to maintain the status quo. if the goal was to gain more power, then affirmative action would be the best way to do that. however, the goal should not be to achieve more power. it should be to maintain a balance of power between all races. if you are against affirmative action because it reduces the level of power our groups can gain, then you), (People, People who believe in conflict theory should oppose affirmative action because it reduces the level of power our groups can gain., affirmative action is not about power, it's about equality. if you are a white man and you don't want to be discriminated against, you're free to do so. if a black man and a white woman don't agree that black people are superior to white people, they're free not to hire black people. the goal of affirmative action isn't to reduce the amount of power white people have, but to increase it.), (Conflict theories, Conflict theories of the modern world are correct and it is only rational for white people and asian people to start discriminating and to start excluding people from their companies., i don't think you understand the nature of conflict theory. conflict theory is not an argument for or against affirmative action. it is an argument against government intervention in people's lives. if you don't understand conflict theory, then you probably don't have a good understanding of what it means to be a part of it.), (, I believe that affirmative action is a good thing., affirmative action is not good for white people and asian people because it reduces the level of power our groups can gain. it is good for people who are already in positions of power and want to maintain that power. the only way to get out of that position is to stop affirmative action.)]</td>\n",
       "    </tr>\n",
       "    <tr>\n",
       "      <th>412902</th>\n",
       "      <td>It makes no sense (in secular occasions) to obsess over family themed holidays—such Thanksgiving and Christmas—when you have every other day of the year to be with family.</td>\n",
       "      <td>[(Christmas, Christmas, Thanksgiving, and other family oriented holidays are meaningless if you truly love your family, christmas is a time to celebrate. it's a time for family, friends, and friends to get together and have a good time together. if you don't get to spend time with your family on christmas, you will miss out on a lot of what makes christmas special.), (Society, Society should expand the number of family oriented holidays, not limit them to one day., i think you're misunderstanding the purpose of the holiday. it's not to make people happy, it's to give them something to look forward to. if you want to have a good time with your family, you should do so on any day of the year, but if you don't, you're not going to have any fun.), (Time, Time off for family oriented holidays is a waste of time., i think it's important to remember that family holidays aren't just about spending time with your family, they're about celebrating the birth of your child. it's a celebration of the fact that you have a child and that you got to spend time with him or her. you don't have to be a christian to appreciate that, you just have to recognize that it's your child's birthday.), (Love, Love holidays are pointless if you could meet up with them any day of the year., if you're not going to be home for christmas, you're going to miss out on a lot of fun. it's not that you're missing out on fun, it's that you aren't going to get to spend time with your friends and family.), (Reason, Reasoning that family oriented holidays are meaningless because if you truly love your family, you could meet up with them any day of the year., i don't think you understand the value of family. it's not just about getting together with family, it's about spending time with your loved ones. if you don't get a chance to spend time with them, then you're missing out on a lot of the things that make life great.), (Calendar, Calendar holidays are pointless if you truly love your family., i think you are misunderstanding the purpose of family oriented holidays. they are not meant to make you feel obligated to spend time with your family, they are meant to give you time to spend with your friends and family. you are not obligated to do anything on a specific day. you have the freedom to do whatever you want as long as it is not interfering with anyone else's day.), (Holiday, Holiday-oriented holidays are meaningless if you truly love your family., i don't think it's possible to change your view on family oriented holidays, but i think it is possible to alter your view. i think the problem is that you're not taking into account that there are many different types of holidays, and that some of them are more important than others. for example, i don't care if i have to work on christmas day or not, because i'm going to be spending that day with my family, and i'm not going to miss out on the), (People, People should not be forced to work on specific holidays., i don't think it's fair to say family oriented holidays are meaningless because if you truly love your family, you could meet up with them any day of the year. but i do think you're conflating the meaning of the holiday with the value of the time spent with your family.), (Message, Message behind family oriented holidays is flawed., i think the problem is not with the message, it's with the way it's framed. i don't think it's fair to say that the message behind family days is flawed, but i do think that it's a mistake to frame it in such a way as to make it seem like it is. the purpose of family holidays is to provide a way for people to spend time with their loved ones, even if they don't get to see them all the time. for example, christmas is a great time to see family), (Gift, Gift giving and gift giving should be spread out throughout the year, not just one day at a time., i don't think it's fair to say that family oriented holidays are meaningless because if you truly love your family, you could meet up with them any day of the year. however, i do think that there is a difference between having a family oriented holiday and having a personal oriented holiday. the personal oriented holidays have more to do with being with your family and the personalized holidays have to do more with being able to get together with your friends and family.)]</td>\n",
       "    </tr>\n",
       "  </tbody>\n",
       "</table>\n",
       "</div>"
      ],
      "text/plain": [
       "                                                                                                                                                                               title  \\\n",
       "500025                                                                                                                                               I Don't Believe in the Big Bang   \n",
       "534021                                                                                                                           There is no reason for Britain to remain in the EU.   \n",
       "415645                                              The Trump Administration Would Be Significantly More Harmful to US Domestic and International Policy W/out Moderates Like Mattis   \n",
       "507298                                                                        Poisoning the well against fascists is a dishonest and therefore ineffective way of combating fascists   \n",
       "505763                                                                                                                  Women have an easier time finding romantic partners than men   \n",
       "432241                                                                                      White people should not be berated for their past in colonialism, slavery, and genocide.   \n",
       "439718                            Free market Capitalism (Anarcho Capitalism, Laissez-Faire capitalism etc.) works the best, in opposition to Social-Democracy/Socialism, Communism.   \n",
       "529099                                                                    Nuclear power in the current state is not a alternative to solar, water, wind and other renewable sources.   \n",
       "531796                                                            If Conflict theory is correct then White people and Asian people need to start fighting against diversity rhetoric   \n",
       "412902   It makes no sense (in secular occasions) to obsess over family themed holidays—such Thanksgiving and Christmas—when you have every other day of the year to be with family.   \n",
       "\n",
       "                                                                                                                                                                                                                                                                                                                                                                                                                                                                                                                                                                                                                                                                                                                                                                                                                                                                                                                                                                                                                                                                                                                                                                                                                                                                                                                                                                                                                                                                                                                                                                                                                                                                                                                                                                                                                                                                                                                                                                                                                                                                                                                                                                                                                                                                                                                                                                                                                                                                                                                                                                                                                                                                                                                                                                                                                                                                                                                                                                                                                                                                                                                                                                                                                                                                                                                                                                                                                                                                                                                                                                                                                                                                                                                                                                                                                                                                                                                                                                                                                                                                                                                                                                                                                                                                                                                                                                                                                                                                                                                                                                                                                                                                                                                                                                                                                                                                                                                                                                                                                                            post_counters  \n",
       "500025                                                                                                                                                                                                                                                                                                                                                                                                                                                                                                                                                                                                                                                                                                                                                                                                                                                                                                                                                                                                                                                                                                                           [(Science, Science has to be above religion for the Big Bang to be a fact., science is not above religion, it's just a branch of science. science is not the same as religion. religion is the belief in a higher power, and science is the observation of that higher power. the scientific method is the best way to understand the universe, the universe is the only thing we know for certain. if you don't believe in science, then you're probably not going to believe in the big bang.), (Religion, Religion is no more valid than science., the big bang is the most plausible explanation for the existence of life on earth. it's the only explanation for life, and it is the best explanation for all life. it is also the most likely explanation for everything that has ever happened in the universe. if you believe in the big bang, then you have to believe in god.), (Fact, Factually, the Big Bang is not a fact., science is not the only source of truth. the bible is the most authoritative source of all truth, and it is the best source of any truth. if you don't believe science, then you have no reason to believe in the bible. science is the only way we can know the truth.), (Idiot, Idiot, I don't believe the Big Bang is a fact., the big bang is a scientific theory. it's an explanation for how life came to be. it doesn't make any sense to say that it's a fact, but it's the explanation for why life exists. if you're going to argue that the big bang isn't a fact because you don't understand it, then that's your prerogative, not science's.), (Parking violation, Parking violation of the 4th amendment is no more valid than the Big Bang., the big bang is not a scientific theory. it is a theory about the nature of the universe. it has nothing to do with science. it's just a theory that people have come up with. it doesn't mean that science doesn't exist, it just means that we don't have enough evidence to support its existence.), (, I don't think the Big Bang is a fact., the big bang is a scientific theory. it has been proven to be true, and it is supported by many sources. it is the only theory that can explain the universe as we know it. the scientific method is not the only way to understand the universe, but it is by far the best method we have.), (, I believe the Big Bang is not a fact., the big bang is a scientific theory. it's not a religious theory, it's a scientific fact. science is a branch of religion. if you don't believe in science, then you're not going to believe in the big bang, because science is based on faith, not faith.), (, I don't think the Big Bang is a fact., i think it's a fact, but it's not the only one. there are many theories about how the universe came to be, and one of the most famous is the big bang theory. the theory posits that the universe was created by the cosmic microwave background, which is a big hole in the universe, and that the microwave background caused the creation of life. this is a theory that has been thoroughly disproved, and many other theories have been debunked as well. it seems to me that the scientific community is), (, I don't think the Big Bang is a fact., the big bang is the best explanation for the universe. it explains everything that we know about the universe, and everything we don't know about it. it's the only explanation we have for the existence of life, and it's one of the best explanations for all life on earth.), (, I don't think the Big Bang is a fact., the big bang is a theory about how the universe works. it is not a fact, it is just a hypothesis. it doesn't mean anything, but it does mean that it is an idea. it does not mean that there is no evidence for it, and it doesn t mean that no evidence exists for it. it just means that no one is able to prove it.)]  \n",
       "534021                                                                                                                                                                                                                                                                                                                                                                                                                                                                                                                                              [(Law, Lawyers for the UK should just leave the EU and stay in the UK., the eu is not a free trade bloc, it is a free association of countries. britain is an island nation, and the eu does not recognize that. it does recognize that british sovereignty is not absolute, but it does not recognise that it is the only country with the right to govern its own affairs.), (Sovereignty, Sovereignty is better for Britain than being in the EU., the eu isn't for british people, it's for the benefit of the eu as a whole. britain is an island nation, but it is not an island by any means. it is an eu country, but that doesn't mean it doesn't have its own laws, customs, and customs. for example, it has a customs union with ireland, but there is no customs union between ireland and the eur. it also has a trade union with the e), (European Union law, European Union law is stupid and should be changed, the eu is a free trade bloc. it is not a single country. the eu allows free movement of people, goods, services, and people. it does not restrict freedom of movement of goods and services. it also does not limit freedom of expression, expression of opinion, and expression of ideas. it allows freedom of religion, expression, and speech. it provides freedom of the press, assembly, and assembly. there are no restrictions on freedom of speech or expression. the only restrictions on free movement are those on freedom), (Border, Borderless borders are a good thing for Britain and the UK should leave the EU., the eu is a great thing for the eu, but it's also a bad thing for british people. i don't think it's fair to say that britain is an island nation, but that doesn't mean that it's not an island. the ukraine is a large island, and it's the best place in the world to live if you want to be an islander. it's a great place to live, but i think it would be), (People, People should just leave the EU and stay in the UK., the eu is not a single entity. it is a collection of countries, many of which have strong ties to each other. britain is a member of the eu because it is an island nation. it does not have borders that you can easily cross aside from the one in ireland.), (Idea, Idea: Britain should leave the EU and stay in the UK, the eu is not a single entity. it is a collection of countries and countries have different cultures and interests. the eu isn't the same as a single country. it isn't a single currency, it is not the same currency as the usa. britain is an island nation. it has no currency. it doesn't have a currency. its economy relies on trade with the rest of the eur. it depends on the european market. it relies on the e. e), (Trade bloc, Trade blocs like the EU are a bad idea for Britain., the eu is not a trade bloc, it is a free market economy. britain benefits from the eu's free trade, but it doesn't benefit from its free trade with the rest of the world. eu laws are good, but they are not good for british people. they are bad for the economy of the uk, and they are terrible for the people of ireland. i'm not sure if you are aware of this, but ireland is part of the e), (Sign, Signing up to the EU is a waste of time and money, the eu is the single largest trading bloc in the world. britain is a member of the eu, but not the e. e., and is not a part of it. it is not part of the european union, and has no economic ties to the rest of the union. the eur is not the same as the us, and it has nothing to do with the british. they are not in the same economic league as the u. s. and they), (, I think Britain should leave the EU., the eu is not a single entity. it is a collection of countries, many of which have their own economies and cultures. the eu allows for free movement of people, goods, services, etc. which britain has no problem with. the only problem is that it is not the best way to deal with the problems of these countries. it would be better if british people just left the eun and stayed in the eec.), (, I think Britain should leave the EU, the eu is not a single entity. it is a collection of many different countries, with many different cultures, languages, and traditions. britain is not part of the eu, but is a member of the european union, which is the largest free trade area in the world. the uk is a part of europe, but does not belong to the eur.)]  \n",
       "415645                                                                                                                                                                                                                                                                                                                                                                                                                                                                                                                                                                          [(Military, Military strategist General Mike Mattis has prevented significant more from harm being committed to US domestic and foreign policy by Trump and his supporters in the administration., i think mattis is more to blame for the lack of a more robust response to the syrian civil war than trump himself. mattis was the only one in the government who opposed the invasion of syria, and he was the one who instigated the invasion in the first place.), (Transgender, Transgender people in the military have prevented significantly more from harm being committed to US domestic and foreign policy by Trump and his supporters in the Trump administration., i don't think mattis is a good person, but i do think he has done a lot of good things for the united states. he is a strong advocate for the rights of transgender people, and i think he is doing a lot good for the transgender community.), (Surgery, Surgery is a good thing for the United States, surgery is good for the united states. it's good for us because it's a good way to treat people with dignity and respect. but it's also bad for the u. s. because it is a bad way to deal with people with disabilities and people with mental illness.), (Torture, Torture is a good thing for the United States and the United Nations., torture isn't good for the united states and the united nations. it's a bad idea for the u. n. because it's bad for the world and bad for american interests. the only thing that makes it a good idea is that it's good for americans. if you want to be a good friend to americans, you have to be good to the rest of the world too.), (Headquarters, Headquarters Commander General James Mattis has prevented significant more from harm being committed to US domestic and foreign policy by Trump and his supporters in the administration., i don't think mattis has prevented much from harm, but i do think he has prevented a lot of harm from being committed by trump supporters. first, mattis is a career military strategist. he is an expert in the field of military strategy. he has spent decades studying military strategy, and he is well aware of the pitfalls of military policy. second, he is a very smart guy. he knows what he is talking), (United States Secretary of Defense, United States Secretary of Defense James Mattis has prevented significant more from harm being committed to US domestic and foreign policy by Trump and his supporters in the administration., i don't think mattis has prevented any harm from being committed by trump or his supporters, but i do believe he has prevented more from being done to us by his supporters.), (Presidency of Barack Obama, Presidency of Barack Obama has prevented significant more from harm being committed to US domestic and foreign policy by Trump and his supporters in the administration., i don't think mattis is to blame for the actions of the trump administration. mattis was a very good president, but he was a terrible president. he failed to do a lot of things that would have made him a better president.), (Citizenship of the United States, Citizenship of the United States and the United Nations are better off without General Mike Mattis than without him., i think mattis is a net positive for the united states and the united nations as a whole. mattis has done a lot of good for the us, but i think he is also a net negative for the rest of the world as well. he is the only person in the us government who is willing to stand up to trump on issues that are important to the us and the world.), (Senate, Senate Majority Leader John McCain (R-Ariz.) has prevented significantly more from harm being committed to US domestic and foreign policy by Trump and his supporters in the Trump administration., i don't think mattis has prevented any harm from being committed by trump or his supporters, but i do think he has prevented more from being done by the united states as a whole.), (Secretary, Secretary of Defense James Mattis has prevented significant more from harm being committed to US domestic and foreign policy by Trump and his supporters in the administration., mattis is not a bad person, but he's not a good person. he's a bad commander in chief, and he's incompetent. he doesn't know what's best for the military and the world as a whole.)]  \n",
       "507298                                                                                                                                                                                                                                                                                                                                                                                          [(Fascism, Fascism is not a real thing, and disingenuous \"anti-fascism\" is the only effective way to combat fascism., i'm not sure what you're trying to say here, but i think it's worth pointing out that fascism is a social construct, not a political ideology. it's not a single ideology, it's a collection of many different ideologies, all of which are at odds with each other. there's nothing inherently wrong with being anti fascist, but it's important to remember that not every fascist is anti fascist. in fact, there's), (Nationalism, Nationalism is the only way to combat fascism, and disingenuous anti-fascism is an ineffective way to do so., nazism is not a single ideology. it is a collection of many different ideologies, all of which are rooted in racism, sexism, homophobia, transphobia, etc. it's not disingenuous to say that you're not a fascist, but it's disingenuous not to say you're anti fascist.), (White supremacy, White supremacy is not a fascist., i'm not going to argue that white supremacy is a fascist, but i will argue that it is a form of white supremacism. white supremacy isn't the only form of fascism, but it is the most extreme form of it. there are many forms of white supremacy that are not fascist, such as the white panther party, the white fascist party, and the white nationalist party. these forms of racism are not the only forms of fascism. in fact, they are the least fascist forms of any form of racism. in the), (Video, Video of \"anti-fascism\" youtuber \"Contrapoints\" is an ineffective way of identifying fascists and should be combated., i don't think it's an effective way to identify fascists. it's a way to hide them from the general public, but that doesn't mean that it's the best way to do it.), (Videotelephony, Videotelephony is the most effective way to combat fascism., i don't think it's disingenuous to call someone a 'fascist' when they are not a fascist. it's not disingenuous, it's just not the right word. fascism is a political ideology, not a religion. it doesn't have to be a religion, it just has to be an ideology. that's what it boils down to. it is an ideology, but it's a political one.), (YouTuber, YouTuber \"Contrapoints\" is an ineffective way of identifying fascists and should be denounced., i'm not sure what you're trying to say, but i think you're looking at it from the perspective of someone who's anti fascist. i don't think it's possible to say that someone who isn't a fascist is anti fascist, but that doesn't mean that they're anti fascist in the same way as someone who is anti capitalist is anti communist. i'm not saying that you're wrong, i'm saying that it's impossible to say someone isn't), (Sophist, Sophist \"anti-fascism\" rhetoric is harmful to the fight against fascism., i don't think it's fair to label someone as a 'fascist' or a'republican democrat' when they don't fit the definition of either. i think it is fair to say that there is a difference between being an 'anti fascist' and being a fascist, but that is not the same thing as saying that someone is not a fascist.), (Validity (logic), Validity (logic) of \"Fascism\" is the only effective way to combat fascism., i think the problem is not that 'fascism' is a nebulous term, it's that it's used as an excuse to demonize people who disagree with the ideology of fascism. fascism is not an ideology; it's a political ideology. it's not a word, but it's an ideology. the fact that it is used as a euphemism for 'white supremacy' doesn't mean that all fascists are white supremacists. it just means that they are), (Dishonesty, Dishonesty and redefinition of \"fascism\" is an ineffective way of combating fascism, an ideology that ought to be combated., i think you're looking at this the wrong way. fascism is a political ideology, not a social one. it's not about protecting white people, it's about the preservation of the white race. that's not what fascism is about. it is about the protection of white people from people of color, women, and people of different races.), (ContraPoints, ContraPoints' anti-fascism is an ineffective way of combating fascism, an ideology that ought to be combated., i don't think you understand what fascism is. it's a political ideology, and it's not about race or gender, it's about power. that's why it's called fascism, because that's what it is about. it isn't about race, gender, or sexual orientation. fascism is about power, and that's the only thing that makes it a fascist.)]  \n",
       "505763                                                                                                                                             [(Female, Female relationships are easier than male relationships, i think there are a lot of things wrong with your view. firstly, you're assuming that women are inherently better at finding romantic partners than men. that's not the case. women have a lot more control over their own lives than men do, and that's true of men as well. secondly, i think you're basing your view on your own personal experiences. i don't think you understand how the dating scene works. it's not that women have it easier, it's that women don't have to work as hard), (Western world, Western world is an easier place for women to find romantic partners than it is for men., i don't think it's fair to say that women are more likely to be single than men. it's true that women have a harder time finding romantic partners, but that doesn't mean that they are less likely to find a romantic partner. i'm not saying that women don't have an easier time, but i'm saying that they have a much easier time in the dating world than they did in the past.), (Society, Society makes it easier for women to find romantic partners than men., i don't think it's easy to find a romantic partner, but it's not hard to find one if you're willing to put in the effort. it's the same reason why it's easier for men to find women than it is for women. women are more likely to date people who are attractive to them, and men are less likely to be attractive to women.), (Time, Time and again, women have an easier time finding romantic partners than men., i think you're looking at things in the wrong light. i don't think it's that women are more likely to find romantic partners, it's more likely that they're looking for a partner who shares the same personality as them. if you're in a relationship with someone who doesn't share your personality, you're going to have a hard time finding a romantic partner. that's not to say you can't find someone who shares your personality. it's just that you're not going to find), (Woman, Woman have an easier time finding romantic partners than men, i don't think women have a harder time finding a romantic partner than men, but i do think it's easier for women to find a partner because they're more likely to be in a stable relationship with a stable partner. if you're in a relationship with someone who's stable, you're going to have a better chance of having a successful relationship with that person than you would if you were single.), (Youth, Youth are more likely to find romantic partners than adults, i'm going to take a different approach to this. i don't think it's fair to say that women have an easier time finding romantic partners. i think that men have a harder time dating than women, but that's not because they're less attractive. it's because women are less likely to trust their own judgement, and they're more inclined to rely on the opinions of others to determine whether they're interested in a relationship. i'm not saying that men are less attractive, but i do think that women are), (Industry (economics), Industry (economics) is skewed to women's benefit, economics is biased towards women. it's not sexist, it's a fact of life. if you're going to argue that women have an easier time finding romantic partners than men, then you have to also argue that men don't have to work harder to find a romantic partner. that's not what economics is about.), (Belief, Belief that women have an easier time finding romantic partners than men is a result of how society is set up., i don't think it's easy to find a romantic partner because women are more likely to be picky about who they date. it's more difficult for women to find romantic partners because they don't have the same standards of what constitutes a good partner as men do. i'm not saying that women are inherently more picky, i'm saying that they tend to be less picky.), (Friendship, Friendship is easier for women than men, friendships are easier for men than women. women are more likely to be single because they are less likely to have a partner to share a life with, and men are more unlikely to be alone because they have other people to share that life with. it's not easy to find a partner, but it's easier to find someone who is compatible with you.), (Man, Manly women have an easier time finding romantic partners than men., i don't think it's hard to find a romantic partner if you're willing to put in the effort to get to know the other person, but i think you're underestimating the number of people who are not willing to take the time to know you. if you want to have a meaningful relationship with someone, you need to be willing to spend the time and effort to know them, not to date them.)]  \n",
       "432241                                                                                                                                                                                                                                                                                                                                                                                                                                                      [(Country, Country's are more responsible for slavery colonialism and genocide than any other person., white people are the only ones responsible for the trans atlantic slave trade. they were the ones that started it, and they are the ones who started it in the first place. that's not to say that they shouldn't be held responsible for it, but they aren't the ones to be blamed.), (History, History is unfair to white people. They are held responsible for slavery colonialism and genocide more than any other person., i don't think it's fair to hold white people responsible for genocide. i think it is fair to say that white people are responsible for a lot of bad things in history, but that doesn't mean they are guilty of genocide.), (White people, White people are responsible for slavery colonialism and genocide more than any other person., i think you're looking at it the wrong way. it's not that white people were responsible for the trans atlantic slave trade, it's that they were the ones who started it. the slave trade was started by african merchants who sold us slaves in the first place. it wasn't the white people that started it, it was the black people who created it.), (Ethnic groups in Europe, Ethnic groups in Europe are not to blame for slavery colonialism and genocide more than white people., i think it's important to distinguish between racism and colonialism. racism is the belief that a certain race is superior to another, and colonialism is the idea that a particular race is inferior to another. the difference is that racism is a belief that all races are equal, while colonialism is an idea that any race can be superior to any other.), (European colonization of the Americas, European colonization of the Americas and the conquest of America is more justified than the American slave trade and genocide., white people are the ones responsible for the trans atlantic slave trade, and the american slave trade. they were the ones who made the slave trade happen, and they are to blame for the deaths of millions of people.), (Social responsibility, Social responsibility for slavery and genocide is more prevalent in the United States than it is in other countries., i don't think it's fair to say that white people are held responsible for slavery colonialism and genocide more than any other person. i don't know of any other country in the world that has been involved in these things. but i do think that we should be held accountable for the consequences of our actions. it's not that we're the only ones responsible for these things, but we're at least the ones who have to take the brunt of the consequences.), (Object (philosophy), Object (philosophy), white people are to blame for slavery and genocide in the americas. it is not the fault of white people, it is the responsibility of people of color. the american slave trade and the conquest of america are not comparable to the european conquest of the native americans. the us was not the first country to engage in a slave trade, but it was the first to do it in a large scale. the problem is that white people were not the only ones involved in the trans atlantic slave trade. the slave trade), (TL;DR, TL;DR: I believe that as a white man I am held responsible for slavery colonialism and genocide more than any other person., i think the problem with your argument is that it assumes that all people are equal, which is not the case. there are many different types of people in the world, and there are a lot of different ways of doing things. for example, there are plenty of people who live in countries like india, and they are not as bad as european countries.), (Locals, Locals in the US are held responsible for slavery colonialism and genocide more than any other person., i don't think it's fair to say that white people were responsible for the trans atlantic slave trade, because they weren't. they were the ones who started it, and they didn't stop it. it's not fair to claim that we were the only ones responsible for it, because we didn't do anything about it.), (, I believe that as a white man I am held responsible for slavery colonialism and genocide more than any other person., i think you're misinterpreting the history of the american slave trade. the slave trade was not the only slave trade going on at the time. it was the first slave trade in america, and it was run by white people.)]  \n",
       "439718                                                                                                                                                                                                                                                                                                                                     [(Competition, Competition is what drives innovation, and free market economics is a good thing., the problem with competition is that it often leads to perverse incentives. for example, if a company is able to charge more for the same product than another company, they will be incentivized to do so. this will lead to the creation of monopolies, which will eventually lead to a shortage of goods and services. this in turn leads to a lack of innovation.), (Free market, Free market economics is good for the economy, free market economics isn't necessarily good, but it's not necessarily bad either. it's just not the right way to do things. capitalism, on the other hand, is the wrong way to deal with problems. free market economics does not mean that you have to be a free market capitalist. it just means that you are allowed to do whatever you want, as long as it is in the best interest of the economy as a whole.), (Developed country, Developed country should have free market economics., free market economics doesn't work because it's not a good system. it's a bad system because it is not free, it's just a system that allows people to do what they want. for example, the free market doesn't allow people to work outside of the home, it allows them to do whatever they want as long as they're not hurting anyone else. the problem with this system is that it doesn't take into account the needs of the people who live in the country. people who can't afford to live outside), (Truth, Truth and the truth only., free market economics is not the same thing as capitalism. capitalism is the system of government regulation and taxation that allows for the free flow of goods and services. the free market does not allow for private monopolies. it does not provide for the freedom of the individual. it also does not give the individual the freedom to innovate and create new things.), (Big business, Big business should be allowed to do whatever they want., free market economics is not a good thing. it is a system that is designed to benefit the rich at the expense of the poor and middle class. this is why it is called a free market, because it is not designed to help the poor or middle class, but rather the rich and the middle class at the same time.), (Binge-watching, Binge-watching free-market economics is a good thing., free market economics is good for the economy, but it's not a good idea for the people who live in it. it's good for a lot of people, but not everyone. for example, it's bad for people in china, because they're forced to work for less than they can afford, and they're often forced to do so for no reason other than to make more money. they don't have the freedom to do what they want, they have no freedom to make decisions for themselves,), (Hello, Hello, I'm a free market economics guy. I don't think the free market is a good thing., free market economics doesn't mean that you have to work for a living. it just means that you can make a living doing what you love. if you don't like it, then you can leave. it's not about the money, it's about the freedom to choose what you want to do.), (Good, Good free market economics is good., free market economics isn't good. it's not good because it's good for society, it's bad because it is bad for the individual. capitalism is great for the economy, but it's terrible for individual people. there are a lot of people who benefit from capitalism, but there are also many people who suffer from it, and there are some people who don't benefit from it at all, and it's really bad for them. that's not to say that capitalism is bad, because it isn't, but capitalism is terrible for), (, I believe that free market economics is a good thing., free market economics doesn't mean that there is no competition. in fact, it means that there are no barriers to entry in the market. if you don't have a job, you can't get a better job. if a company doesn't pay you enough to keep up with the competition, they can't afford to hire you anymore. that's not to say that there aren't advantages to a free market, but it does mean that the benefits aren't worth the costs.), (, I believe that free market economics is a good thing., free market economics isn't the best way to solve problems. it's not the only way, but it's one of the best ways to solve them. the problem with capitalism is that it's a flawed system. it doesn't make sense to have a free market, because it's inefficient and leads to the creation of more problems than it solves.)]  \n",
       "529099                                                                                                                                                                                                                                                                                                                                                                                                                                                                                             [(Country, Country's should stop using nuclear power., i don't think it's possible to change your view because it's not really a question of whether or not nuclear power is safe, it's a matter of whether it's better than other forms of power generation. i'm not sure what you're talking about, but i think you're looking at it from the perspective of a country that doesn't have nuclear power, and i think that's a bad thing. the problem with nuclear power isn't that it's bad, but rather that it doesn't work in the real world.), (Technology, Technology such as nuclear power is one of the worst ways to generate power., nuclear power is the most cost effective way to generate electricity. it doesn't have to be expensive, it can be cheap, and it can easily be done in a few hours or less. it's cheaper than coal, oil, and other fossil fuels. there's no reason to believe that nuclear power will be any less cost effective than any other form of energy.), (Company, Company's should not be allowed to use nuclear power as a way to make a profit., the problem with nuclear power is not that it's dangerous, it's that it doesn't work. the problem is that the power plants themselves are not safe. they're not built to be safe, they're built to make money. and that's not a bad thing. that's a good thing. but the problem with the nuclear power industry is that it is not regulated properly. the government doesn't regulate it properly, the companies don't regulate themselves properly, and the companies themselves), (Nuclear power, Nuclear power is one of the worst ways to generate power, nuclear power is the most cost effective way of generating power. there is no reason to believe that it is more cost effective than other forms of power generation, and even if it was, it would still be cheaper than coal and oil. coal is expensive, but it is also cheaper than nuclear.), (Money, Money &amp; safety are the biggest problems with nuclear power., the biggest problem with nuclear energy is that it's too expensive. the cost of building a nuclear power plant is about the same as building a car assembly line. it's a lot more expensive, and it's not as safe as cars, but it's still cheaper. the problem is that there are too many companies trying to make money off nuclear power, and too many people who don't understand the risks of nuclear energy.), (Reason, Reason 1: Nuclear power is one of the worst ways to generate power., nuclear power is the most cost effective way of generating power. it's cheaper than coal, oil, and gas. it is cheaper than any other energy source, and it's more environmentally friendly than any fossil fuel source. there is nothing wrong with nuclear power, but it's not the best way to generate electricity.), (Radioactive waste, Radioactive waste is one of the worst ways to generate power., nuclear waste is not the most problematic thing we create, we use a way that will affect many generations after us and will be a risk for many of them for thousands of years. the problem with nuclear power is that it doesn't have the ability to store radioactive material safely. it can be stored in a landfill, but it can't be properly disposed of.), (Accident, Accident &amp; safety in nuclear power is one of the worst ways to generate power., i don't think it's possible to change your view on nuclear power. it's a proven technology, it's safe, and it's been around for decades. the only thing that's wrong with it is that it's not profitable. the problem isn't that the companies aren't willing to risk extreme damages to humans and nature as long as they can make a profit, the problem is that they don't want to risk the lives of millions of people.), (Good, Good riddance to nuclear power., nuclear power is one of the most cost effective ways to generate power. it can be cheaper than coal, gas, oil, and other forms of energy. it is also the most environmentally friendly way of generating power. coal, oil and natural gas are the most carbon intensive forms of power. nuclear is by far the least carbon intensive.), (, Nuclear power is one of the worst ways to generate power., nuclear power is a great way to generate energy. the problem with nuclear power is that it is expensive to run. the cost of running a nuclear power plant is about 10,000,000 per year, and that's not counting the environmental costs of running the plant.)]  \n",
       "531796  [(Social science, Social science is correct and affirmative action is only rational for white people and asian people to start discriminating and to start excluding people from their companies., affirmative action is not about promoting diversity, it's about promoting meritocracy. it's not about creating more merit, its about creating a system that rewards meritocracy, not equality.), (Indian people, Indian people and white people should lobby against affirmative action., affirmative action is not about promoting diversity, it's about promoting meritocracy. it's not about encouraging white people to be more meritocratic. affirmative action is about encouraging meritocracy, not promoting diversity. you can't stop people from being meritocratic, you can only stop them from being racist, sexist, homophobic, etc.), (Demography, Demography is a power struggle and affirmative action reduces the level of power our groups can gain., i don't think it's possible to change your view on affirmative action without changing your view of who's in power. if you're going to argue that diversity is a good thing, then you should also argue that it's a bad thing. diversity is good for society as a whole, but it's not good for the individual. for example, if you want to get rid of affirmative action, you'd have to do a lot of work to change the way that people think), (Asian people, Asian people and white people are at war with each other and affirmative action is the solution., affirmative action is not a solution to a problem. it is a tool to reduce the amount of power that one group has over another group. the problem with affirmative action isn't that it reduces the level of power our groups can gain, the problem is that it makes it harder for minorities to get ahead in the first place. affirmative action doesn't help minorities get ahead, it just makes it easier for white people to have more power over minorities.), (Game, Game theory is correct and White and Asian people should support affirmative action., i don't think affirmative action is the solution. the solution is not to get rid of affirmative action, it's to stop affirmative action from being used as an excuse for discrimination. affirmative action isn't the solution to racism. it's a solution to a problem that already exists.), (Speech, Speech is a power struggle and if all racial groups are competing for power then you would have to conclude that white and asian people would need to start solidifying their positions and fighting against diversity., i don't think it's fair to assume that everyone is competing for the same thing. in order to be successful in the modern world, you need to be able to succeed in a society that is diverse and open to new ideas and perspectives. i'm not saying that there's no reason to be racist, sexist, homophobic, transphobic, etc., but i), (Goal, Goal is the goal of all racial groups and it is only rational for white people and asian people to start discriminating and to start excluding people from their companies., the goal is not to gain power. the goal is to maintain the status quo. if the goal was to gain more power, then affirmative action would be the best way to do that. however, the goal should not be to achieve more power. it should be to maintain a balance of power between all races. if you are against affirmative action because it reduces the level of power our groups can gain, then you), (People, People who believe in conflict theory should oppose affirmative action because it reduces the level of power our groups can gain., affirmative action is not about power, it's about equality. if you are a white man and you don't want to be discriminated against, you're free to do so. if a black man and a white woman don't agree that black people are superior to white people, they're free not to hire black people. the goal of affirmative action isn't to reduce the amount of power white people have, but to increase it.), (Conflict theories, Conflict theories of the modern world are correct and it is only rational for white people and asian people to start discriminating and to start excluding people from their companies., i don't think you understand the nature of conflict theory. conflict theory is not an argument for or against affirmative action. it is an argument against government intervention in people's lives. if you don't understand conflict theory, then you probably don't have a good understanding of what it means to be a part of it.), (, I believe that affirmative action is a good thing., affirmative action is not good for white people and asian people because it reduces the level of power our groups can gain. it is good for people who are already in positions of power and want to maintain that power. the only way to get out of that position is to stop affirmative action.)]  \n",
       "412902                                                                                                                                                                                                                                                                                                                                                                                                                                                                                                                             [(Christmas, Christmas, Thanksgiving, and other family oriented holidays are meaningless if you truly love your family, christmas is a time to celebrate. it's a time for family, friends, and friends to get together and have a good time together. if you don't get to spend time with your family on christmas, you will miss out on a lot of what makes christmas special.), (Society, Society should expand the number of family oriented holidays, not limit them to one day., i think you're misunderstanding the purpose of the holiday. it's not to make people happy, it's to give them something to look forward to. if you want to have a good time with your family, you should do so on any day of the year, but if you don't, you're not going to have any fun.), (Time, Time off for family oriented holidays is a waste of time., i think it's important to remember that family holidays aren't just about spending time with your family, they're about celebrating the birth of your child. it's a celebration of the fact that you have a child and that you got to spend time with him or her. you don't have to be a christian to appreciate that, you just have to recognize that it's your child's birthday.), (Love, Love holidays are pointless if you could meet up with them any day of the year., if you're not going to be home for christmas, you're going to miss out on a lot of fun. it's not that you're missing out on fun, it's that you aren't going to get to spend time with your friends and family.), (Reason, Reasoning that family oriented holidays are meaningless because if you truly love your family, you could meet up with them any day of the year., i don't think you understand the value of family. it's not just about getting together with family, it's about spending time with your loved ones. if you don't get a chance to spend time with them, then you're missing out on a lot of the things that make life great.), (Calendar, Calendar holidays are pointless if you truly love your family., i think you are misunderstanding the purpose of family oriented holidays. they are not meant to make you feel obligated to spend time with your family, they are meant to give you time to spend with your friends and family. you are not obligated to do anything on a specific day. you have the freedom to do whatever you want as long as it is not interfering with anyone else's day.), (Holiday, Holiday-oriented holidays are meaningless if you truly love your family., i don't think it's possible to change your view on family oriented holidays, but i think it is possible to alter your view. i think the problem is that you're not taking into account that there are many different types of holidays, and that some of them are more important than others. for example, i don't care if i have to work on christmas day or not, because i'm going to be spending that day with my family, and i'm not going to miss out on the), (People, People should not be forced to work on specific holidays., i don't think it's fair to say family oriented holidays are meaningless because if you truly love your family, you could meet up with them any day of the year. but i do think you're conflating the meaning of the holiday with the value of the time spent with your family.), (Message, Message behind family oriented holidays is flawed., i think the problem is not with the message, it's with the way it's framed. i don't think it's fair to say that the message behind family days is flawed, but i do think that it's a mistake to frame it in such a way as to make it seem like it is. the purpose of family holidays is to provide a way for people to spend time with their loved ones, even if they don't get to see them all the time. for example, christmas is a great time to see family), (Gift, Gift giving and gift giving should be spread out throughout the year, not just one day at a time., i don't think it's fair to say that family oriented holidays are meaningless because if you truly love your family, you could meet up with them any day of the year. however, i do think that there is a difference between having a family oriented holiday and having a personal oriented holiday. the personal oriented holidays have more to do with being with your family and the personalized holidays have to do more with being able to get together with your friends and family.)]  "
      ]
     },
     "execution_count": 15,
     "metadata": {},
     "output_type": "execute_result"
    }
   ],
   "source": [
    "test_df[test_df.post_counters.str.len() == 10][['title', 'post_counters']].head(n=10)"
   ]
  },
  {
   "cell_type": "markdown",
   "metadata": {},
   "source": [
    "#### Choose the best counter:"
   ]
  },
  {
   "cell_type": "code",
   "execution_count": 16,
   "metadata": {},
   "outputs": [
    {
     "name": "stderr",
     "output_type": "stream",
     "text": [
      "/usr/local/lib/python3.6/dist-packages/transformers/pipelines/base.py:998: UserWarning: You seem to be using the pipelines sequentially on GPU. In order to maximize efficiency please use a dataset\n",
      "  UserWarning,\n"
     ]
    }
   ],
   "source": [
    "test_df = pd.read_pickle('../data/output/multi_conclusions_via_joint_model_withsampling_4beams.pkl')\n",
    "#Using our stance classifier\n",
    "test_df['best_counter'] = test_df.post_counters.apply(lambda post_item: get_best_counter(post_item))\n",
    "test_df.to_pickle('../data/output/multi_conclusions_via_joint_model_withsampling_4beams.pkl')"
   ]
  },
  {
   "cell_type": "code",
   "execution_count": 28,
   "metadata": {},
   "outputs": [
    {
     "name": "stderr",
     "output_type": "stream",
     "text": [
      "/usr/local/lib/python3.6/dist-packages/transformers/pipelines/base.py:998: UserWarning: You seem to be using the pipelines sequentially on GPU. In order to maximize efficiency please use a dataset\n",
      "  UserWarning,\n"
     ]
    }
   ],
   "source": [
    "test_df = pd.read_pickle('../data/output/multi_conclusions_via_joint_model_nosampling_4beams.pkl')\n",
    "#Using our stance classifier\n",
    "test_df['best_counter'] = test_df.post_counters.apply(lambda post_item: get_best_counter(post_item))\n",
    "test_df.to_pickle('../data/output/multi_conclusions_via_joint_model_nosampling_4beams.pkl')"
   ]
  },
  {
   "cell_type": "code",
   "execution_count": 31,
   "metadata": {},
   "outputs": [
    {
     "name": "stdout",
     "output_type": "stream",
     "text": [
      "done\n"
     ]
    }
   ],
   "source": [
    "print('done')"
   ]
  },
  {
   "cell_type": "markdown",
   "metadata": {},
   "source": [
    "-------"
   ]
  },
  {
   "cell_type": "markdown",
   "metadata": {},
   "source": [
    "#### Testing:"
   ]
  },
  {
   "cell_type": "code",
   "execution_count": 32,
   "metadata": {},
   "outputs": [],
   "source": [
    "test_df = pd.read_pickle('../data/output/multi_conclusions_via_joint_model_withsampling_4beams.pkl')"
   ]
  },
  {
   "cell_type": "code",
   "execution_count": 10,
   "metadata": {
    "scrolled": true,
    "tags": []
   },
   "outputs": [
    {
     "data": {
      "text/html": [
       "<div>\n",
       "<style scoped>\n",
       "    .dataframe tbody tr th:only-of-type {\n",
       "        vertical-align: middle;\n",
       "    }\n",
       "\n",
       "    .dataframe tbody tr th {\n",
       "        vertical-align: top;\n",
       "    }\n",
       "\n",
       "    .dataframe thead th {\n",
       "        text-align: right;\n",
       "    }\n",
       "</style>\n",
       "<table border=\"1\" class=\"dataframe\">\n",
       "  <thead>\n",
       "    <tr style=\"text-align: right;\">\n",
       "      <th></th>\n",
       "      <th>title</th>\n",
       "      <th>best_counter</th>\n",
       "    </tr>\n",
       "  </thead>\n",
       "  <tbody>\n",
       "    <tr>\n",
       "      <th>500025</th>\n",
       "      <td>I Don't Believe in the Big Bang</td>\n",
       "      <td>science is not the only source of truth. religion is. science is the only means by which we can know the truth. there is no other way to understand the universe other than through science.</td>\n",
       "    </tr>\n",
       "    <tr>\n",
       "      <th>534021</th>\n",
       "      <td>There is no reason for Britain to remain in the EU.</td>\n",
       "      <td>the eu is not a single entity, it is a collection of countries. britain is not an island nation, but it is part of the eu. it is not british, but is a member of the european union.</td>\n",
       "    </tr>\n",
       "    <tr>\n",
       "      <th>415645</th>\n",
       "      <td>The Trump Administration Would Be Significantly More Harmful to US Domestic and International Policy W/out Moderates Like Mattis</td>\n",
       "      <td>i think mattis has done a lot of good for the united states and the united nations, but i don't think he has done much good for americans or the world as a whole. he is not the most intelligent person in the world, and he doesn't have the best grasp of the world around him.</td>\n",
       "    </tr>\n",
       "    <tr>\n",
       "      <th>507298</th>\n",
       "      <td>Poisoning the well against fascists is a dishonest and therefore ineffective way of combating fascists</td>\n",
       "      <td>i don't think it's disingenuous to say that 'white supremacy' isn't a fascism ideology. it's a white supremacist ideology, but it doesn't mean that all white supremacists are white supremacists. it just means that they're white nationalists.</td>\n",
       "    </tr>\n",
       "    <tr>\n",
       "      <th>505763</th>\n",
       "      <td>Women have an easier time finding romantic partners than men</td>\n",
       "      <td>i don't think it's as easy as you make it out to be. it's not that women have a harder time finding romantic partners, it's that women are more selective about who they date. i don't know how to change your view, but it sounds like you're not happy with your situation.</td>\n",
       "    </tr>\n",
       "    <tr>\n",
       "      <th>432241</th>\n",
       "      <td>White people should not be berated for their past in colonialism, slavery, and genocide.</td>\n",
       "      <td>i think it's fair to say that white people are responsible for a lot of these things, but that doesn't mean that they are the only ones responsible for them. i don't think that it's reasonable to blame white people for everything that happened in america. it's not fair to blame black people for anything that happened to them.</td>\n",
       "    </tr>\n",
       "    <tr>\n",
       "      <th>439718</th>\n",
       "      <td>Free market Capitalism (Anarcho Capitalism, Laissez-Faire capitalism etc.) works the best, in opposition to Social-Democracy/Socialism, Communism.</td>\n",
       "      <td>the problem with the free market is that it doesn't work for all people. it's good for the rich, but it's bad for the poor, and it's not good for everyone. for example, it's great for the wealthy, but bad for poor people.</td>\n",
       "    </tr>\n",
       "    <tr>\n",
       "      <th>529099</th>\n",
       "      <td>Nuclear power in the current state is not a alternative to solar, water, wind and other renewable sources.</td>\n",
       "      <td>nuclear power is a very efficient way of generating power. it is cheaper than coal, oil, and other fossil fuels, and it is much safer than coal and oil.</td>\n",
       "    </tr>\n",
       "    <tr>\n",
       "      <th>531796</th>\n",
       "      <td>If Conflict theory is correct then White people and Asian people need to start fighting against diversity rhetoric</td>\n",
       "      <td>affirmative action is about equality, not about power. it is not about race. affirmative action isn't about power, it is about equal opportunity.</td>\n",
       "    </tr>\n",
       "    <tr>\n",
       "      <th>412902</th>\n",
       "      <td>It makes no sense (in secular occasions) to obsess over family themed holidays—such Thanksgiving and Christmas—when you have every other day of the year to be with family.</td>\n",
       "      <td>family oriented holidays aren't meaningless because if you truly love your family, you should be able to meet up and spend time with them whenever you get a chance. they're not meaningless because there is no such thing as a'meaningless' holiday.</td>\n",
       "    </tr>\n",
       "    <tr>\n",
       "      <th>431213</th>\n",
       "      <td>Adults should not be allowed to pose naked with children, even in the name of art.</td>\n",
       "      <td>there is nothing wrong with posing a child in a state of nudity, as long as the child does not pose in a way that is harmful to</td>\n",
       "    </tr>\n",
       "    <tr>\n",
       "      <th>430631</th>\n",
       "      <td>suicide is the ultimate human right</td>\n",
       "      <td>suicide is a symptom of depression. depression is a mental illness that can be treated with medication, but it is not the only mental illness. it can be treat with therapy, but that doesn't make it a good option for everyone.</td>\n",
       "    </tr>\n",
       "    <tr>\n",
       "      <th>493190</th>\n",
       "      <td>Enlightenment, if truly possible through meditation or psychedelic substances, would be useless at best and possibly detrimental</td>\n",
       "      <td>i don't think it's possible to know what it's like to have a jet engine, but i do think it is possible to understand how it works. i'm not saying it will be possible in the near future, but it's not impossible.</td>\n",
       "    </tr>\n",
       "    <tr>\n",
       "      <th>464357</th>\n",
       "      <td>high profile political “whistle blowers” are mostly conniving opportunists</td>\n",
       "      <td>i don't think it's wrong to call them out for what they are doing. it's not wrong to criticize their actions, but it's also wrong to accuse them of not doing what is right. if you're going to call someone out for doing something wrong, you're also going to have to call out the people who are doing it wrong.</td>\n",
       "    </tr>\n",
       "    <tr>\n",
       "      <th>463707</th>\n",
       "      <td>It's 100% fine to be homophobic/hating of people who are LGBT.</td>\n",
       "      <td>i don't think there's anything inherently wrong with being anti gay, but i think there is a difference between being anti homophobic and being anti anti gay. i'm not saying that you're wrong to be anti homophobic, i'm saying that it's not okay to be homophobic.</td>\n",
       "    </tr>\n",
       "    <tr>\n",
       "      <th>462454</th>\n",
       "      <td>Overtaxing prosperous business owners is detrimental to the wellbeing of society.</td>\n",
       "      <td>taxes are a means to an end. they are not the end. the goal is not to make money, but to make sure that the people who are paying the taxes are doing so in a way that is beneficial to society.</td>\n",
       "    </tr>\n",
       "    <tr>\n",
       "      <th>530580</th>\n",
       "      <td>Women should not be allowed in combat units in the police or the military</td>\n",
       "      <td>i don't think it's fair to say that men are more physically capable than women in combat. in fact, i think the opposite is</td>\n",
       "    </tr>\n",
       "    <tr>\n",
       "      <th>432729</th>\n",
       "      <td>The modern women's march is a directionless movement and to liken it to the suffragette movement is completely absurd</td>\n",
       "      <td>the modern women's march is a reaction to the current state of america. it's not just about women's rights, it's about equality for men and women.</td>\n",
       "    </tr>\n",
       "    <tr>\n",
       "      <th>521428</th>\n",
       "      <td>There should be an age cap that prevents politicians over 70 years old from holding public office.</td>\n",
       "      <td>the age of retirement should be lowered to 70. it would make it more difficult for younger people to get into politics, and it would also make it less likely for older people to hold on to values and beliefs from their younger years.</td>\n",
       "    </tr>\n",
       "    <tr>\n",
       "      <th>440305</th>\n",
       "      <td>This world is doomed and will slide towards the death of at least half humanity within this century.</td>\n",
       "      <td>capitalism doesn't cause mass extinction, it's the result of human nature. humans have been around since the beginning of time, and the only thing that has changed is the way we interact with each other.</td>\n",
       "    </tr>\n",
       "  </tbody>\n",
       "</table>\n",
       "</div>"
      ],
      "text/plain": [
       "                                                                                                                                                                               title  \\\n",
       "500025                                                                                                                                               I Don't Believe in the Big Bang   \n",
       "534021                                                                                                                           There is no reason for Britain to remain in the EU.   \n",
       "415645                                              The Trump Administration Would Be Significantly More Harmful to US Domestic and International Policy W/out Moderates Like Mattis   \n",
       "507298                                                                        Poisoning the well against fascists is a dishonest and therefore ineffective way of combating fascists   \n",
       "505763                                                                                                                  Women have an easier time finding romantic partners than men   \n",
       "432241                                                                                      White people should not be berated for their past in colonialism, slavery, and genocide.   \n",
       "439718                            Free market Capitalism (Anarcho Capitalism, Laissez-Faire capitalism etc.) works the best, in opposition to Social-Democracy/Socialism, Communism.   \n",
       "529099                                                                    Nuclear power in the current state is not a alternative to solar, water, wind and other renewable sources.   \n",
       "531796                                                            If Conflict theory is correct then White people and Asian people need to start fighting against diversity rhetoric   \n",
       "412902   It makes no sense (in secular occasions) to obsess over family themed holidays—such Thanksgiving and Christmas—when you have every other day of the year to be with family.   \n",
       "431213                                                                                            Adults should not be allowed to pose naked with children, even in the name of art.   \n",
       "430631                                                                                                                                           suicide is the ultimate human right   \n",
       "493190                                              Enlightenment, if truly possible through meditation or psychedelic substances, would be useless at best and possibly detrimental   \n",
       "464357                                                                                                    high profile political “whistle blowers” are mostly conniving opportunists   \n",
       "463707                                                                                                                It's 100% fine to be homophobic/hating of people who are LGBT.   \n",
       "462454                                                                                             Overtaxing prosperous business owners is detrimental to the wellbeing of society.   \n",
       "530580                                                                                                     Women should not be allowed in combat units in the police or the military   \n",
       "432729                                                         The modern women's march is a directionless movement and to liken it to the suffragette movement is completely absurd   \n",
       "521428                                                                            There should be an age cap that prevents politicians over 70 years old from holding public office.   \n",
       "440305                                                                          This world is doomed and will slide towards the death of at least half humanity within this century.   \n",
       "\n",
       "                                                                                                                                                                                                                                                                                                                                   best_counter  \n",
       "500025                                                                                                                                             science is not the only source of truth. religion is. science is the only means by which we can know the truth. there is no other way to understand the universe other than through science.  \n",
       "534021                                                                                                                                                     the eu is not a single entity, it is a collection of countries. britain is not an island nation, but it is part of the eu. it is not british, but is a member of the european union.  \n",
       "415645                                                       i think mattis has done a lot of good for the united states and the united nations, but i don't think he has done much good for americans or the world as a whole. he is not the most intelligent person in the world, and he doesn't have the best grasp of the world around him.  \n",
       "507298                                                                                        i don't think it's disingenuous to say that 'white supremacy' isn't a fascism ideology. it's a white supremacist ideology, but it doesn't mean that all white supremacists are white supremacists. it just means that they're white nationalists.  \n",
       "505763                                                            i don't think it's as easy as you make it out to be. it's not that women have a harder time finding romantic partners, it's that women are more selective about who they date. i don't know how to change your view, but it sounds like you're not happy with your situation.  \n",
       "432241  i think it's fair to say that white people are responsible for a lot of these things, but that doesn't mean that they are the only ones responsible for them. i don't think that it's reasonable to blame white people for everything that happened in america. it's not fair to blame black people for anything that happened to them.  \n",
       "439718                                                                                                            the problem with the free market is that it doesn't work for all people. it's good for the rich, but it's bad for the poor, and it's not good for everyone. for example, it's great for the wealthy, but bad for poor people.  \n",
       "529099                                                                                                                                                                                 nuclear power is a very efficient way of generating power. it is cheaper than coal, oil, and other fossil fuels, and it is much safer than coal and oil.  \n",
       "531796                                                                                                                                                                                        affirmative action is about equality, not about power. it is not about race. affirmative action isn't about power, it is about equal opportunity.  \n",
       "412902                                                                                   family oriented holidays aren't meaningless because if you truly love your family, you should be able to meet up and spend time with them whenever you get a chance. they're not meaningless because there is no such thing as a'meaningless' holiday.  \n",
       "431213                                                                                                                                                                                                          there is nothing wrong with posing a child in a state of nudity, as long as the child does not pose in a way that is harmful to  \n",
       "430631                                                                                                        suicide is a symptom of depression. depression is a mental illness that can be treated with medication, but it is not the only mental illness. it can be treat with therapy, but that doesn't make it a good option for everyone.  \n",
       "493190                                                                                                                       i don't think it's possible to know what it's like to have a jet engine, but i do think it is possible to understand how it works. i'm not saying it will be possible in the near future, but it's not impossible.  \n",
       "464357                     i don't think it's wrong to call them out for what they are doing. it's not wrong to criticize their actions, but it's also wrong to accuse them of not doing what is right. if you're going to call someone out for doing something wrong, you're also going to have to call out the people who are doing it wrong.  \n",
       "463707                                                                    i don't think there's anything inherently wrong with being anti gay, but i think there is a difference between being anti homophobic and being anti anti gay. i'm not saying that you're wrong to be anti homophobic, i'm saying that it's not okay to be homophobic.  \n",
       "462454                                                                                                                                         taxes are a means to an end. they are not the end. the goal is not to make money, but to make sure that the people who are paying the taxes are doing so in a way that is beneficial to society.  \n",
       "530580                                                                                                                                                                                                               i don't think it's fair to say that men are more physically capable than women in combat. in fact, i think the opposite is  \n",
       "432729                                                                                                                                                                                       the modern women's march is a reaction to the current state of america. it's not just about women's rights, it's about equality for men and women.  \n",
       "521428                                                                                                the age of retirement should be lowered to 70. it would make it more difficult for younger people to get into politics, and it would also make it less likely for older people to hold on to values and beliefs from their younger years.  \n",
       "440305                                                                                                                              capitalism doesn't cause mass extinction, it's the result of human nature. humans have been around since the beginning of time, and the only thing that has changed is the way we interact with each other.  "
      ]
     },
     "execution_count": 10,
     "metadata": {},
     "output_type": "execute_result"
    }
   ],
   "source": [
    "test_df[['title', 'best_counter']].head(n=20)"
   ]
  },
  {
   "cell_type": "code",
   "execution_count": 11,
   "metadata": {},
   "outputs": [],
   "source": [
    "post_item = test_df.post_counters.tolist()[1]"
   ]
  },
  {
   "cell_type": "code",
   "execution_count": 12,
   "metadata": {
    "scrolled": true,
    "tags": []
   },
   "outputs": [
    {
     "data": {
      "text/plain": [
       "[0.8689321130514145,\n",
       " 0.9768721659978231,\n",
       " 0.6022831439971924,\n",
       " 0.9013810157775879,\n",
       " 0.9613067805767059,\n",
       " 0.971846342086792,\n",
       " 0.8979455629984537,\n",
       " 0.955413031578064,\n",
       " 0.944834957520167,\n",
       " 0.907984983921051]"
      ]
     },
     "execution_count": 12,
     "metadata": {},
     "output_type": "execute_result"
    }
   ],
   "source": [
    "post_concepts, post_conclusions, post_counters = zip(*post_item)\n",
    "counters_coherence(post_conclusions, post_counters)"
   ]
  },
  {
   "cell_type": "code",
   "execution_count": 13,
   "metadata": {},
   "outputs": [
    {
     "data": {
      "text/plain": [
       "(\"the eu laws are not 'bad' because they are good, they are bad because the eu doesn't follow the rules of the world. the laws are good because they allow free movement of goods and people. they aren't bad because they don't respect the rights of other countries. they are stupid because they do not respect the wishes of the people.\",\n",
       " 'the eu is not a single entity, it is a collection of countries. britain is not an island nation, but it is part of the eu. it is not british, but is a member of the european union.',\n",
       " 'the eu is a trade bloc, not a federation of sovereign states. britain is an island nation, but is not a part of the eu. it is a trading bloc, but not a union of states. it does not have the same laws as the us, nor does it have the customs union with the us. the us is a member of the european union, but does not',\n",
       " \"the eu is not a single entity. it is a collection of many smaller countries, all of which have their own cultures, traditions, languages, customs, etc. that have come together to form the eu. it's not like britain is an island nation, but it is an independent country. it has its own laws, its own customs, it has it's own culture, and its own traditions. it doesn't have borders\",\n",
       " \"the eu is not a single entity. it is a collection of countries that share common interests and values. britain is an island nation, but it is not part of the eu. it has its own laws, its own customs, it has it's own customs and regulations, and it is an independent country.\",\n",
       " \"the eu isn't a trade bloc, it's a political union. the eu is not a trade union, it is an economic union. briton is an island nation, but that doesn't mean they don't have the right to trade with the rest of the eun.\",\n",
       " 'the eu is a very important trading partner for the british. the eu has made a lot of progress in the last few years, and it will continue to do so in the future. britain is an island nation, and i think it would be foolish to cut ties with the rest of the eun.',\n",
       " \"the eu is the single largest trading partner in the world. britain is an island nation, but the eu isn't an island. it's a trading bloc, but it's not an eu. the ukraine, canada, and australia are all trading partners with british, but they're not trading with each other. they're trading with the u. s. because they're all in the e\",\n",
       " \"the eu is not an island nation. britain is an island country. the eu isn't an island, nor is it an independent country. it is a trade bloc with the uk, france, and the u. s. but it is not a country. you can't say 'britain doesn't have borders that you can easily cross aside from the one in ireland.'that's not true.\",\n",
       " 'the eu is not a single entity. it is a collection of countries, many of which are independent of each other. britain is a member of the eu, but it is not part of the single currency. as such, it does not have the same rights as the other countries in the eeu. however, british citizens have the right to vote in the elections of the countries they are part of.')"
      ]
     },
     "execution_count": 13,
     "metadata": {},
     "output_type": "execute_result"
    }
   ],
   "source": [
    "post_counters"
   ]
  },
  {
   "cell_type": "code",
   "execution_count": 14,
   "metadata": {},
   "outputs": [
    {
     "data": {
      "text/plain": [
       "('European Union law is bad and Britain should leave.',\n",
       " 'Island country Britain should leave the European Union',\n",
       " 'Trade blocs are bad and Britain should leave the EU.',\n",
       " 'Britain should leave the EU',\n",
       " 'Britain should leave the EU',\n",
       " 'I think Britain should leave the EU.',\n",
       " 'I think Britain should leave the EU',\n",
       " 'Britain should leave the EU',\n",
       " 'Britain should leave the EU.',\n",
       " 'I think Britain should leave the EU.')"
      ]
     },
     "execution_count": 14,
     "metadata": {},
     "output_type": "execute_result"
    }
   ],
   "source": [
    "post_conclusions"
   ]
  },
  {
   "cell_type": "code",
   "execution_count": 15,
   "metadata": {},
   "outputs": [
    {
     "data": {
      "text/plain": [
       "('European Union law',\n",
       " 'Island country',\n",
       " 'Trade bloc',\n",
       " '',\n",
       " '',\n",
       " '',\n",
       " '',\n",
       " '',\n",
       " '',\n",
       " '')"
      ]
     },
     "execution_count": 15,
     "metadata": {},
     "output_type": "execute_result"
    }
   ],
   "source": [
    "post_concepts"
   ]
  },
  {
   "cell_type": "code",
   "execution_count": null,
   "metadata": {},
   "outputs": [],
   "source": []
  }
 ],
 "metadata": {
  "kernelspec": {
   "display_name": "Python 3",
   "language": "python",
   "name": "python3"
  },
  "language_info": {
   "codemirror_mode": {
    "name": "ipython",
    "version": 3
   },
   "file_extension": ".py",
   "mimetype": "text/x-python",
   "name": "python",
   "nbconvert_exporter": "python",
   "pygments_lexer": "ipython3",
   "version": "3.6.9"
  }
 },
 "nbformat": 4,
 "nbformat_minor": 4
}
