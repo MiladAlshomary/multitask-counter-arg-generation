{
 "cells": [
  {
   "cell_type": "code",
   "execution_count": 1,
   "metadata": {},
   "outputs": [],
   "source": [
    "%load_ext autoreload"
   ]
  },
  {
   "cell_type": "code",
   "execution_count": 2,
   "metadata": {},
   "outputs": [],
   "source": [
    "import os\n",
    "import sys\n",
    "import re\n",
    "import nltk\n",
    "sys.path.append('../src-py/')\n",
    "os.environ[\"CUDA_VISIBLE_DEVICES\"]=\"0\""
   ]
  },
  {
   "cell_type": "code",
   "execution_count": 3,
   "metadata": {},
   "outputs": [],
   "source": [
    "import pandas as pd\n",
    "pd.set_option('display.max_colwidth', None)"
   ]
  },
  {
   "cell_type": "code",
   "execution_count": 4,
   "metadata": {},
   "outputs": [
    {
     "name": "stdout",
     "output_type": "stream",
     "text": [
      "cuda\n",
      "2022-07-27 14:20:05,394 loading file ../../data-ceph/arguana/arg-generation/claim-target-tagger/model/final-model.pt\n",
      "2022-07-27 14:20:33,961 SequenceTagger predicts: Dictionary with 4 tags: <unk>, B-CT, I-CT, O\n"
     ]
    }
   ],
   "source": [
    "%autoreload\n",
    "import prompted_conclusion_utils as conc_utils\n",
    "from prompted_conclusion_utils import *\n",
    "from ca_utils import *"
   ]
  },
  {
   "cell_type": "code",
   "execution_count": 5,
   "metadata": {},
   "outputs": [],
   "source": [
    "from datasets import load_dataset, load_metric, Dataset\n",
    "\n",
    "from transformers import AutoModelForSeq2SeqLM, DataCollatorForSeq2Seq, Seq2SeqTrainingArguments, Seq2SeqTrainer\n",
    "from transformers import BartTokenizer, BartForConditionalGeneration\n",
    "\n",
    "import torch"
   ]
  },
  {
   "cell_type": "code",
   "execution_count": 6,
   "metadata": {},
   "outputs": [],
   "source": [
    "device = torch.device('cuda') if torch.cuda.is_available() else torch.device('cpu')"
   ]
  },
  {
   "cell_type": "code",
   "execution_count": 7,
   "metadata": {},
   "outputs": [],
   "source": [
    "ceph_dir = '/home/sile2804/data-ceph/arguana/arg-generation/multi-taks-counter-argument-generation'\n",
    "local_home_dir = '../data'\n",
    "\n",
    "#data_unique_path = '/reddit_data/conclusion_and_ca_generation/sample_test_conclusion_all_preprocessed_multi_conclusions.pkl'\n",
    "data_unique_path = '/reddit_data/conclusion_and_ca_generation/test_conclusion_all_preprocessed_multi_conclusions.pkl'\n",
    "data_path = '/reddit_data/conclusion_and_ca_generation/test_conclusion_all.pkl'"
   ]
  },
  {
   "cell_type": "code",
   "execution_count": 8,
   "metadata": {},
   "outputs": [],
   "source": [
    "def counters_coherence(post_conclusions, post_counters):\n",
    "    post_counters = [nltk.sent_tokenize(x) for x in post_counters]\n",
    "    conclusion_counter_sent_pairs = [(x[1], s) for x in zip(post_counters, post_conclusions) for s in x[0]]\n",
    "    #print(conclusion_counter_sent_pairs)\n",
    "    conclusions, counter_sents = zip(*conclusion_counter_sent_pairs)\n",
    "    _, stance_labels, stance_scores = get_stance_scores(conclusions, counter_sents)\n",
    "    stance_scores = [x[0] * -1 if x[1] == 0 else x[0] for x in zip(stance_scores, stance_labels)]\n",
    "\n",
    "    #collect counter_scores\n",
    "    counter_scores = []\n",
    "    idx = 0\n",
    "    #print(len(stance_scores))\n",
    "    for i, post_counter in enumerate(post_counters):\n",
    "        #print(len(post_counter))\n",
    "        counter_scores.append(stance_scores[idx: idx + len(post_counter)])\n",
    "        idx+=len(post_counter)\n",
    "    \n",
    "    #print(counter_scores)\n",
    "    return [np.mean(s) for s in counter_scores]\n",
    "        \n",
    "def get_best_counter(post_item):\n",
    "    if len(post_item) == 0:\n",
    "        print('found empty')\n",
    "        return ''\n",
    "    if len(post_item) == 1:\n",
    "        print('found one item')\n",
    "        return post_item[0][2]\n",
    "    \n",
    "    # Remove empty counters\n",
    "    post_item = [x for x in post_item if x[-1] != '']\n",
    "    \n",
    "    _, post_conclusions, post_counters = zip(*post_item)\n",
    "    counter_scores = counters_coherence(post_conclusions, post_counters)\n",
    "    #print(sorted(list(zip(counter_scores, post_counters)), key=lambda x: -x[0]))\n",
    "    return post_counters[np.argmax(counter_scores)]"
   ]
  },
  {
   "cell_type": "markdown",
   "metadata": {},
   "source": [
    "--------"
   ]
  },
  {
   "cell_type": "markdown",
   "metadata": {},
   "source": [
    "### Generate multiple-counters (joint way):"
   ]
  },
  {
   "cell_type": "code",
   "execution_count": 9,
   "metadata": {},
   "outputs": [],
   "source": [
    "gen_kwargs = {\n",
    "    \"do_sample\": False, \n",
    "    \"max_length\":100+50,  #50 for the conclusion\n",
    "    \"min_length\":50+50, # 50 for the conclusion\n",
    "    \"top_p\":0.95, \n",
    "    \"no_repeat_ngram_size\":3,\n",
    "    \"top_k\": 50,\n",
    "    \"num_beams\":4\n",
    "}"
   ]
  },
  {
   "cell_type": "code",
   "execution_count": 10,
   "metadata": {},
   "outputs": [],
   "source": [
    "pred_conclusion_model = BartForConditionalGeneration.from_pretrained(local_home_dir + '/output/ca-final-models/pred-conc-model').to(device)\n",
    "pred_conclusion_tokenizer = BartTokenizer.from_pretrained(local_home_dir + '/output/ca-final-models/pred-conc-model')"
   ]
  },
  {
   "cell_type": "code",
   "execution_count": 12,
   "metadata": {},
   "outputs": [],
   "source": [
    "#Ideally we will start from sample_test_conclusion_all_preprocessed.pkl and generate the concepts\n",
    "#But here we are just using the concepts generated in the pipeline way..\n",
    "#test_df = pd.read_pickle('../../../data-ceph/arguana/arg-generation/multi-taks-counter-argument-generation/reddit_data/conclusion_and_ca_generation/sample_test_conclusion_all_preprocessed.pkl')\n",
    "#test_df['post_concepts'] = conc_utils.get_wiki_concepts(test_df['post'].tolist(), max_concepts=10)\n",
    "\n",
    "#test_df = pd.read_pickle('../../data-ceph/arguana/arg-generation/multi-taks-counter-argument-generation/reddit_data/conclusion_and_ca_generation/sample_test_conclusion_all_preprocessed_multi_conclusions.pkl')\n",
    "test_df = pd.read_pickle('../../data-ceph/arguana/arg-generation/multi-taks-counter-argument-generation/reddit_data/conclusion_and_ca_generation/test_conclusion_all_preprocessed_multi_conclusions.pkl')"
   ]
  },
  {
   "cell_type": "code",
   "execution_count": 13,
   "metadata": {},
   "outputs": [],
   "source": [
    "def generate_multiple_counters(df, output_clm='post_counters', post_concepts_clm='post_concepts', num_counters=6, batch_size=8):\n",
    "    posts_counters = []\n",
    "    for i in range(num_counters):\n",
    "        control_codes = ['<s> <conclusion>' + x[i] if len(x) > i else '' for x in df[post_concepts_clm].tolist()]\n",
    "        #print(control_codes)\n",
    "        counters   = generate_prompted_counters(pred_conclusion_model, pred_conclusion_tokenizer, \n",
    "                                                              df['post'].tolist(), control_codes, gen_kwargs, \n",
    "                                                              batch_size=batch_size)\n",
    "        \n",
    "        cases_with_no_counter = [x for x in counters if '<counter>' not in x]\n",
    "        if len(cases_with_no_counter) > 0:\n",
    "            print('{} cases with no counter'.format(len(cases_with_no_counter)))\n",
    "            \n",
    "        conclusions = [c.split('<counter>')[0] for c in counters]\n",
    "        conclusions = [re.sub('<s>|</s>|<conclusion>|<counter>|<pad>', '', c).strip() for c in conclusions] #removing special tokens\n",
    "        \n",
    "        counters    = [c.split('<counter>')[1] if '<counter>' in c else c for c in counters]\n",
    "        counters    = [re.sub('<s>|</s>|<conclusion>|<counter>|<pad>', '', c).strip() for c in counters] #removing special tokens\n",
    "        \n",
    "        control_codes = [x.replace('<s> <conclusion>', '') for x in control_codes]\n",
    "        \n",
    "        posts_counters.append(zip(control_codes, conclusions, counters))\n",
    "\n",
    "    df['post_counters'] = list(map(list, zip(*posts_counters))) # transpose\n",
    "\n",
    "    return df"
   ]
  },
  {
   "cell_type": "code",
   "execution_count": 14,
   "metadata": {},
   "outputs": [],
   "source": [
    "#test_df_sample = generate_multiple_counters(test_df.sample(5), num_counters=2, batch_size=16)"
   ]
  },
  {
   "cell_type": "code",
   "execution_count": null,
   "metadata": {
    "scrolled": true,
    "tags": []
   },
   "outputs": [],
   "source": [
    "test_df = generate_multiple_counters(test_df, num_counters=10, batch_size=16)"
   ]
  },
  {
   "cell_type": "code",
   "execution_count": null,
   "metadata": {},
   "outputs": [],
   "source": [
    "#test_df.to_pickle('../data/output/multi_conclusions_via_joint_model.pkl')\n",
    "test_df.to_pickle('../data/output/test_all_multi_conclusions_via_joint_model_nosampling_4beams.pkl')"
   ]
  },
  {
   "cell_type": "markdown",
   "metadata": {},
   "source": [
    "#### Generate with nuclus sampling:"
   ]
  },
  {
   "cell_type": "code",
   "execution_count": 15,
   "metadata": {
    "scrolled": true,
    "tags": []
   },
   "outputs": [
    {
     "name": "stderr",
     "output_type": "stream",
     "text": [
      "Parameter 'function'=<function generate_prompted_counters.<locals>.<lambda> at 0x7fb12f7d69d0> of the transform datasets.arrow_dataset.Dataset._map_single couldn't be hashed properly, a random hash was used instead. Make sure your transforms and parameters are serializable with pickle or dill for the dataset fingerprinting and caching to work. If you reuse this transform, the caching mechanism will consider it to be different from the previous calls and recompute everything. This warning is only showed once. Subsequent hashing failures won't be showed.\n"
     ]
    },
    {
     "data": {
      "application/vnd.jupyter.widget-view+json": {
       "model_id": "4d65ee82ab6a4fcda11ddc38f8147834",
       "version_major": 2,
       "version_minor": 0
      },
      "text/plain": [
       "  0%|          | 0/9 [00:00<?, ?ba/s]"
      ]
     },
     "metadata": {},
     "output_type": "display_data"
    },
    {
     "name": "stderr",
     "output_type": "stream",
     "text": [
      "100%|██████████| 534/534 [51:57<00:00,  5.84s/it]\n"
     ]
    },
    {
     "name": "stdout",
     "output_type": "stream",
     "text": [
      "130 cases with no counter\n"
     ]
    },
    {
     "data": {
      "application/vnd.jupyter.widget-view+json": {
       "model_id": "c233105a2110419ea95312b83484bfdf",
       "version_major": 2,
       "version_minor": 0
      },
      "text/plain": [
       "  0%|          | 0/9 [00:00<?, ?ba/s]"
      ]
     },
     "metadata": {},
     "output_type": "display_data"
    },
    {
     "name": "stderr",
     "output_type": "stream",
     "text": [
      "100%|██████████| 534/534 [51:59<00:00,  5.84s/it]\n"
     ]
    },
    {
     "name": "stdout",
     "output_type": "stream",
     "text": [
      "129 cases with no counter\n"
     ]
    },
    {
     "data": {
      "application/vnd.jupyter.widget-view+json": {
       "model_id": "7e0b37958309441d81d0b4c8e81a758d",
       "version_major": 2,
       "version_minor": 0
      },
      "text/plain": [
       "  0%|          | 0/9 [00:00<?, ?ba/s]"
      ]
     },
     "metadata": {},
     "output_type": "display_data"
    },
    {
     "name": "stderr",
     "output_type": "stream",
     "text": [
      "100%|██████████| 534/534 [51:54<00:00,  5.83s/it]\n"
     ]
    },
    {
     "name": "stdout",
     "output_type": "stream",
     "text": [
      "107 cases with no counter\n"
     ]
    },
    {
     "data": {
      "application/vnd.jupyter.widget-view+json": {
       "model_id": "29ff374f95144c8f9c2727ef200e4d6c",
       "version_major": 2,
       "version_minor": 0
      },
      "text/plain": [
       "  0%|          | 0/9 [00:00<?, ?ba/s]"
      ]
     },
     "metadata": {},
     "output_type": "display_data"
    },
    {
     "name": "stderr",
     "output_type": "stream",
     "text": [
      "100%|██████████| 534/534 [51:23<00:00,  5.78s/it]\n"
     ]
    },
    {
     "name": "stdout",
     "output_type": "stream",
     "text": [
      "118 cases with no counter\n"
     ]
    },
    {
     "data": {
      "application/vnd.jupyter.widget-view+json": {
       "model_id": "c43d3cadd5e449cc8d214adc762b6d50",
       "version_major": 2,
       "version_minor": 0
      },
      "text/plain": [
       "  0%|          | 0/9 [00:00<?, ?ba/s]"
      ]
     },
     "metadata": {},
     "output_type": "display_data"
    },
    {
     "name": "stderr",
     "output_type": "stream",
     "text": [
      "100%|██████████| 534/534 [50:28<00:00,  5.67s/it]\n"
     ]
    },
    {
     "name": "stdout",
     "output_type": "stream",
     "text": [
      "122 cases with no counter\n"
     ]
    },
    {
     "data": {
      "application/vnd.jupyter.widget-view+json": {
       "model_id": "fa4115cbd082472da2d9e1626ee0dbc0",
       "version_major": 2,
       "version_minor": 0
      },
      "text/plain": [
       "  0%|          | 0/9 [00:00<?, ?ba/s]"
      ]
     },
     "metadata": {},
     "output_type": "display_data"
    },
    {
     "name": "stderr",
     "output_type": "stream",
     "text": [
      "100%|██████████| 534/534 [49:11<00:00,  5.53s/it]\n"
     ]
    },
    {
     "name": "stdout",
     "output_type": "stream",
     "text": [
      "114 cases with no counter\n"
     ]
    },
    {
     "data": {
      "application/vnd.jupyter.widget-view+json": {
       "model_id": "40f234bb9c0c4645a7ec8c31c4b3b301",
       "version_major": 2,
       "version_minor": 0
      },
      "text/plain": [
       "  0%|          | 0/9 [00:00<?, ?ba/s]"
      ]
     },
     "metadata": {},
     "output_type": "display_data"
    },
    {
     "name": "stderr",
     "output_type": "stream",
     "text": [
      "100%|██████████| 534/534 [47:46<00:00,  5.37s/it]\n"
     ]
    },
    {
     "name": "stdout",
     "output_type": "stream",
     "text": [
      "110 cases with no counter\n"
     ]
    },
    {
     "data": {
      "application/vnd.jupyter.widget-view+json": {
       "model_id": "c053eb6c395a412baf5be8419c46c6be",
       "version_major": 2,
       "version_minor": 0
      },
      "text/plain": [
       "  0%|          | 0/9 [00:00<?, ?ba/s]"
      ]
     },
     "metadata": {},
     "output_type": "display_data"
    },
    {
     "name": "stderr",
     "output_type": "stream",
     "text": [
      "100%|██████████| 534/534 [46:35<00:00,  5.23s/it]\n"
     ]
    },
    {
     "name": "stdout",
     "output_type": "stream",
     "text": [
      "104 cases with no counter\n"
     ]
    },
    {
     "data": {
      "application/vnd.jupyter.widget-view+json": {
       "model_id": "667a4d67e04a4321918abc357093350f",
       "version_major": 2,
       "version_minor": 0
      },
      "text/plain": [
       "  0%|          | 0/9 [00:00<?, ?ba/s]"
      ]
     },
     "metadata": {},
     "output_type": "display_data"
    },
    {
     "name": "stderr",
     "output_type": "stream",
     "text": [
      "  0%|          | 2/534 [00:10<44:37,  5.03s/it]IOPub message rate exceeded.\n",
      "The Jupyter server will temporarily stop sending output\n",
      "to the client in order to avoid crashing it.\n",
      "To change this limit, set the config variable\n",
      "`--ServerApp.iopub_msg_rate_limit`.\n",
      "\n",
      "Current values:\n",
      "ServerApp.iopub_msg_rate_limit=1000.0 (msgs/sec)\n",
      "ServerApp.rate_limit_window=3.0 (secs)\n",
      "\n"
     ]
    }
   ],
   "source": [
    "gen_kwargs = {\n",
    "    \"do_sample\": True, \n",
    "    \"max_length\":100+20,  #50 for the conclusion\n",
    "    \"min_length\":50+20, # 50 for the conclusion\n",
    "    \"top_p\":0.95, \n",
    "    \"no_repeat_ngram_size\":3,\n",
    "    \"top_k\": 50,\n",
    "    \"num_beams\":4\n",
    "}\n",
    "\n",
    "test_df = generate_multiple_counters(test_df, post_concepts_clm='post_concepts2', num_counters=10, batch_size=16)"
   ]
  },
  {
   "cell_type": "code",
   "execution_count": 16,
   "metadata": {},
   "outputs": [],
   "source": [
    "#test_df.to_pickle('../data/output/multi_conclusions_via_joint_model_withsampling_4beams.pkl')\n",
    "test_df.to_pickle('../data/output/test_all_multi_conclusions_via_joint_model_withsampling_4beams.pkl')"
   ]
  },
  {
   "cell_type": "code",
   "execution_count": 17,
   "metadata": {
    "scrolled": true,
    "tags": []
   },
   "outputs": [
    {
     "data": {
      "text/html": [
       "<div>\n",
       "<style scoped>\n",
       "    .dataframe tbody tr th:only-of-type {\n",
       "        vertical-align: middle;\n",
       "    }\n",
       "\n",
       "    .dataframe tbody tr th {\n",
       "        vertical-align: top;\n",
       "    }\n",
       "\n",
       "    .dataframe thead th {\n",
       "        text-align: right;\n",
       "    }\n",
       "</style>\n",
       "<table border=\"1\" class=\"dataframe\">\n",
       "  <thead>\n",
       "    <tr style=\"text-align: right;\">\n",
       "      <th></th>\n",
       "      <th>title</th>\n",
       "      <th>post_counters</th>\n",
       "    </tr>\n",
       "  </thead>\n",
       "  <tbody>\n",
       "    <tr>\n",
       "      <th>410850</th>\n",
       "      <td>people should come with instructions</td>\n",
       "      <td>[(Algorithm, Algorithm based personality assessments should be available to all people., i don't think it's fair to generalize about people based on their personality assessments. there are so many different personality types that it would be unfair to generalise about one person based on his or her personality assessment alone. also, personality assessments aren't just about personality, they're about how well you fit in with others and how well the other person fits in with you. it's not just about being an introvert, it's about how you fit into other people's lives.), (Extraversion and introversion, Extraversion and introversion should be included in a person’s personality profile., i don't think it's a good idea to label someone as introverted or extroverted. introverts tend to be more introverted than extroverts, and they tend to have more extrovert tendencies. i don't know about you, but i think introverts are more likely to be introverts. i'm not saying that introverts aren't introverts, but it's not a good thing to label them as such.), (People, People should be able to easily pick out personality traits from an algorithm., i'm not sure how this would work, but i think it's a good idea to have some sort of online personality assessment system. if you're an introvert, and you don't like sports, you're probably not going to be a very good conversationalist. but if you are an extrovert, you might be a great conversationaliser, because you enjoy the company of other people and have a good sense of humor. a person who is introverted might not be a good convers), (Secrecy, Secrecy and honesty should be an automatic part of meeting people., i don't think it's a good idea to label someone as introverted or extroverted, because it doesn't make sense to do so. introverts and extroverts are not the same thing. they are different people with different interests, hobbies, hobbies and interests. i don't know about you, but i'm an extrovert and introvert. i'm not sure how you would categorize me as an introvert, and i'm sure you wouldn't be able to tell if i), (Recommender system, Recommender system for meeting people is a good idea., i think it would be a lot more efficient if people were able to easily filter out people based on their personality. for example, if you are an introvert, you are less likely to meet people who are more extroverted, and more likely to encounter people who aren't. i don't know about you, but i think that would make it a lot easier to pick up on someone's personality.), (Existential crisis, Existential crisis: I think people should be able to easily predict their personality., there is a difference between being introverted and being extroverted. extroverts tend to be more introverted, and introverts are more extrovert. introverts tend not to be introverted at all, and they tend to find extroversion boring. introverted people tend to seek out social interaction and be more outgoing, and extrovers tend to shy away from social interaction. this is why introverts have a harder time meeting people, because they don't have to), (, People should be able to instantly avoid people or gravitate toward some., i think the biggest issue i have with this is that it would make it easier for people to pick up on other people's personality traits, which would be a very bad thing. for example, if i'm an introvert, i wouldn't want to date someone who is more extroverted than i am, because i don't know what they're like, and i'm not sure how i'd interact with them.), (, People should have an electronic signature that informs us of their perceived personality., i think it's important to remember that personality is a social construct, not a biological one. personality is just a collection of personality traits that are shared by people of different ages, genders, ethnicities, socioeconomic statuses, and sexual orientations. you can't change someone's personality, but you can change how they feel about it.), (, People should be able to sign up for an online dating service., i don't think it's fair to label someone as an introvert or an extrovert simply because they like to have fun and sing karaoke. introverts and extroverts tend to have different personalities, and there's no reason to label them as such.), (, I think people should be able to easily tell you about their personality.., i don't think it's a good idea to know someone's personality before you meet them. it's not like there's anything wrong with being introverted or extroverted, it's just not a good way to meet new people. i think it would be more efficient to just ask people what they like and don't like about them, rather than having to spend a lot of time trying to figure out who they like.)]</td>\n",
       "    </tr>\n",
       "    <tr>\n",
       "      <th>410858</th>\n",
       "      <td>People should not be heavily criticized for things they put on social media in the distant past</td>\n",
       "      <td>[(Internet, Internet users shouldn't be judged for things they put on social media a long time ago., i think it's fair to judge people based on things they said 10 years ago, but that's not the same as judging them based on what they've done in the past. i think the internet is a place where people can share their views, and that's a good thing. however, i don't think that the internet should be judged based on the things that they've said in a certain time frame, because that's just not how the internet works. the internet isn't), (Black and white, Black and white people shouldn't be judged for things they said a long time ago., i think it's important to recognize that there are different types of people, and that people's opinions can change over the course of their lives. that's not to say we shouldn't judge people for things that they said 10 years ago, but that it's not unreasonable to do so.), (Adolescence, Adolescence is not a good enough reason to criticize people for things they put on social media a long time ago., i think it's fair to criticize someone for what they said 10 years ago. however, i don't agree that it's unreasonable to criticize them for the things they said in the past. it's not unreasonable to criticise someone for their actions, but not for the way they said those actions. i'm not saying that you shouldn't be criticized, but i'm saying that it is not fair to blame someone for the actions of someone else.), (Time, Time doesn't change people's views and it is unreasonable for the internet to come down hard on people for things they put on social media a long time ago., i think it's important to remember that the internet is not a perfect system. it's not perfect, but it's better than the alternatives. the internet allows people to express their views in a way that doesn't have the potential to be taken too seriously. for example, it allows you to post whatever you want on the internet, even if it doesn't reflect your current views. that said, i don't), (Reason, Reasoning against people for things they put on social media a long time ago is unreasonable., i don't think it's unreasonable to expect people to dig through their social media history to delete offensive tweets. i think it would be unreasonable for the internet to come down hard on people for offensive tweets that they made a few years ago.), (Belief, Beliefs and values change over time, and it is unfair for the internet to come down hard on people for things they put on social media a long time ago., i think it's important to remember that the internet is not the only source of information about a person's beliefs and values. it is also not the best way to gauge whether or not someone's beliefs or values have changed over time.), (People, People shouldn't be criticized for things they put on social media a long time ago., i don't think it's unreasonable to criticize someone for something they said 10 years ago. it's not unreasonable to criticise someone for what they said in a different context. however, i don't agree that it's fair to criticize a person for something that happened a decade ago.), (Person, Person's views on social media shouldn't be judged as harshly as they were 10 years ago., you're right that people change. however, social media is not the only way to change one's views. the internet is a tool, not a person. there is no reason to judge someone based on what they say on twitter, facebook, or anywhere else on the internet.), (Opinion, Opinion is not as important as people make it out to be, i think it's fair to say that opinions change, but that doesn't mean that the opinions of people today are any more or less valid than those of people 10 years ago. the fact that we're talking about the internet and not the person you are today, doesn't make it any less fair.), (Jame, Jame Gunner getting fired for using the word \"faggot\" a few years ago is not a big deal., i think it's important to remember that the internet is not the same as the person you were 10 years ago. it's not a place where you can change your views, it's a place that you can be held accountable for your actions.)]</td>\n",
       "    </tr>\n",
       "    <tr>\n",
       "      <th>410902</th>\n",
       "      <td>We shouldn't focus on slowing climate change</td>\n",
       "      <td>[(Climate change, Climate change is a serious issue and cutting CO2 emissions is more important than slowing climate change., climate change is not a real issue. it's not even a big deal. the only thing that is real about climate change is that it's happening right now, and it's going to continue to happen for the rest of our lives.), (Economics, Economics is more important than Climate Change, climate change is a very real issue, but economic growth is not the only thing that is important. it's not even the most important thing, it's the least important thing. if you're talking about economic growth, then yes, climate change will have a huge impact on that, but that doesn't mean that economic growth isn't important.), (Health, Healthy and sustainable economic growth worldwide is more important than slowing climate change., climate change is not real. it's a hoax invented by humans to make economic growth more profitable. that's not to say it's not happening, but we're not going to be able to do anything about it for a very, very long time.), (Environmental issues, Environmental issues are more important than economic growth, climate change is not an issue of economic growth. economic growth is not the only thing that is important. it is also not the most important thing. there are many other factors that are important to economic growth that are not climate change related. for example, we live in a world that is becoming more and more energy efficient. we are able to use more energy now than ever before in human history. we can use less fossil fuels and use more renewable sources of energy. we have the technology to produce more energy, but we are not), (People, People should not care about climate change., climate change is a real thing, but it's not something that's going to happen in the near future. the effects of climate change have been going on for a while now, and we're just starting to see the consequences of it. in fact, we're already seeing the effects. if we don't do anything about it, it will continue to get worse, and it will be worse than it is now. we need to do something about it now, before it gets worse.), (Cutting, Cutting CO2 emissions is more important than slowing climate change., global warming is one of the biggest threats to human health and well being in the 21st century. if we don't take steps now to reduce co2 emissions, we will be in serious trouble in the near future. we are already seeing the effects of climate change in the form of rising sea levels, increased sea levels and increased sea level rise. there is no reason to believe that we will not see the same effects in the future.), (, I believe that reducing CO2 emissions is more important than slowing climate change., climate change is a serious issue, but it's not the only issue. there are a lot of other issues, but climate change is one of the biggest. for example, we're going to have to adapt to the changing weather patterns of the world in the next few decades, and it's going to be a lot harder to do so than we are right now. it's also going to change how we interact with each other. the more we interact, the more likely it is that we'll), (, I believe that reducing CO2 emissions is more important than slowing climate change, global warming is a huge problem, but it's not the only one. there's also the issue of global warming. in fact, global warming is one of the leading causes of death in the world, and it's going to get worse for a long time to come. there are many reasons for this, but i think it's important to point out that global warming isn't the only thing that's causing global warming, it's just one of many.), (, Global warming is more important than global economic growth, climate change is a problem, but it's not the only one. there are other environmental issues that are worse than climate change, but they're more difficult to address. for example, there's the issue of sea level rise, which is bad for the economy of coastal cities. there's also the problem of coastal erosion. coastal erosion is a huge issue in many parts of the world, and it's going to continue to be for the rest of our lifetimes. there is no way to address these issues without addressing climate change), (, Cutting CO2 emissions is more important than slowing climate change., climate change is a real thing, and it is going to change the way we live for the better. however, there is no reason to believe that it will slow down economic growth. if anything, it will accelerate it. we are going to have more money to spend on things like food, water, and air quality in the future than we have in the past, so we will have more time to invest in things like clean energy.)]</td>\n",
       "    </tr>\n",
       "    <tr>\n",
       "      <th>410910</th>\n",
       "      <td>The Australian PM was right to tell students to stop activism around global warming</td>\n",
       "      <td>[(Climate change, Climate change is not an issue that can be solved by activism., climate change isn't an issue, it's a problem with human behavior. it's not a matter of whether or not we should do something about it. it is a problem that we need to solve. if we don't do anything about it, it will just get worse, not better.), (Science, Science is becoming more politicized than it used to be., science has always been politicized, it's just that it's more so now than it was in the past. it's not that science is becoming less politicized it's that we don't have the resources to do so. science is the best tool we have to figure out what's best for the world. we have the technology to do it, we just haven't figured out how to use it.), (Activism, Activism is not the best way to fight climate change., i don't think it's possible to change your view if you don't know what it is you're talking about. i'm not saying that climate change isn't a real issue, but i think you're conflating it with activism. climate change is real, but it's not a big deal. it's a problem that we can fix, and we have the technology to do so. the only thing stopping us from doing so is that we don't understand how to fix it.), (Government, Government activism has become more and more partisan., climate change is not a partisan issue. it's a scientific issue. there are many ways to deal with it, and many people have different opinions about what to do about it. i don't think there's anything wrong with activism, but i do think it's becoming less and less partisan.), (Economist, Economist-led activism is more important than science when it comes to combating climate change., climate change is a serious issue, but it is not a single issue. it is a complex issue, and it is difficult to separate science from politics. for example, we know that global warming is a problem, but we don't know how to combat it. the best we can do is try to reduce our carbon footprint. this is a tough thing to do, and we have to do it in a way that is cost effective. the only way to do this is to reduce), (Poverty, Poverty, starvation, and climate change are all things we can do to combat climate change, but not all activism is going to be effective., climate change is one of the most pressing issues facing humanity right now, and we need to be doing everything we can to combat it. we can't just ignore it, we have to do it now. if we don't do anything now, we will not do it in the future. the only way to stop climate change is to do something now.), (Scientist, Scientist activism is becoming too partisan, science is not partisan. it is based on the best available evidence and the best tools available to us to do so. scientists are not trying to be partisan. they are trying to do the best they can to advance knowledge and understand the world around them. it's not a partisan issue, it's a scientific issue.), (Planet, Planet-warming is a non-issue and people are over-politicizing the science., climate change is a real issue, but it is not the only issue that needs to be addressed. it is also not the most important issue in the world right now, and it will not be for a very long time. climate change is an issue that is not going away, and we need to do everything we can to combat it. i don't think there is anything wrong with being concerned about climate change, but we are not going to be able to do anything about it), (Public policy, Public policy is becoming more and more politicized., climate change is not a partisan issue. it is a scientific issue, and the government has the authority to regulate the scientific community. it's not the government's job to tell scientists what to do, it's the scientists' job to inform the public. science is not the same as politics.), (Fat, Fat shaming and activism are not the way to combat climate change., i think the problem with fat shaming is not that it's a bad thing, it's that it makes it harder for people to think critically about their food choices, and it makes people think about how much they have control over their own food choices. that's not to say that all activism is bad, but it is important to recognize that there are a lot of people who don't have the time, money, or wherewithal to do much of anything about it. it's also important to remember that)]</td>\n",
       "    </tr>\n",
       "    <tr>\n",
       "      <th>410916</th>\n",
       "      <td>Feeding cats or dogs a diet with meat is indefensible.</td>\n",
       "      <td>[(Animal, Animal abusers are hypocrites if they feed their pets vegan diets., vegetarianism is not the same as being an animal abuser. veganism is a lifestyle choice, not an action. it is not a crime, it is a choice to eat meat. there is nothing wrong with eating meat as long as you don't eat it in excess.), (Dog, Dog meat is better than vegetarian meat, vegetarianism is not the same as veganism. vegetarianism is a lifestyle choice, not an end to an animal's life. veganism does not mean that you eat the meat of an animal, it just means that you do not eat the animal's flesh. it is not a choice to kill an animal.), (Cat, Cat/Dogs eating vegetarian diets is hypocritical., vegetarianism is not the same thing as animal abuse. it is a lifestyle choice. it does not mean that you are responsible for the deaths of 100s of animals such as pigs or dogs. it means that you do not eat the meat of the animals you are eating.), (Veganism, Veganism is more moral than eating a vegetarian diet., vegetarianism is not more moral. it is more ethical because it reduces the amount of animal suffering in the world. it also reduces the environmental impact of meat consumption. in fact, it is one of the best ways to reduce environmental suffering. you don't have to be vegan to do this. you just have to eat less meat.), (People, People who feed their pets vegan diets are hypocrites., vegetarianism is not a moral choice, it's a lifestyle choice. it's not a choice to kill or eat an animal, it is a personal choice to eat or not eat that animal. i'm not saying it's the right thing to do, i'm just saying that it's an option.), (Animal feed, Animal feeders are hypocrites., there is no such thing as an animal abuser. an animal is an animal. it's not a person, it's a living thing. it doesn't matter if you're a vegetarian or a vegan, it is still an animal, and it has the same rights and responsibilities as any other living being.), (, People who feed their pets vegan diets are hypocrites., vegetarianism is the only way to have a balanced diet, and it is the best way to be healthy. veganism doesn't mean that you're eating a vegetarian diet, it means that you are eating a diet that is balanced with a balanced source of protein.), (, Vegetarianism is the more moral way to feed your pets., vegetarian diets are more expensive than vegan diets. vegetarian diets tend to be cheaper and healthier. vegan diets are cheaper, healthier, and healthier than vegetarian diets. the only difference is that vegetarian diets have the option of being vegan, vegan diets have no choice, and vegan diets don't have the choice to be vegan.), (, Vegetarianism is more moral than veganism., veganism is not the only way to eat meat. it is the most ethical way to consume meat. vegans are eating meat for the health benefits of the animal, not the cost of the meat itself. they are eating the meat because it tastes good and tastes good for them.), (, I think people who feed their pets vegan diets are hypocrites., vegetarianism is healthier than veganism. vegetarianism is the best way to eat meat. veganism is not the only way, but it is the most effective. you can have a vegetarian diet and not be a hypocrite. also, eating meat is not a bad thing. if you eat meat and don't feel guilty about it, you are not an animal abuser.)]</td>\n",
       "    </tr>\n",
       "    <tr>\n",
       "      <th>410927</th>\n",
       "      <td>For a government to allow Hate Speech on the basis of Free Speech they must also abolish Copyright.</td>\n",
       "      <td>[(Film, Film, music, paintings, games, poetry, dance, etc. should be protected under the first amendment of the US Constitution., i don't think it's fair to say that free speech and copyright are incompatible. free speech is the right to express one's opinions without interference. copyright is a right to be protected by the state, not by the individual.), (First Amendment to the United States Constitution, First Amendment to the United States Constitution is incompatible with the Universal Declaration of Human Rights., the first amendment is not inconsistent with the universal declaration of human rights, it is inconsistent with freedom of expression. the us constitution is not an international document. it is a republican document. the u. s. constitution is a democracy. the constitution is the supreme law of the land. it does not say anything about freedom of speech, expression, or expression.), (Freedom of speech, Freedom of speech and freedom of expression should include the right to freedom of hate speech., free speech is not a right, it is a privilege. the first amendment guarantees the freedom of speech, but that doesn't mean that you have to agree with every word of the speech. the second amendment guarantees freedom of thought, but it doesn't guarantee freedom of free speech.), (Copyright, Copyright should be abolished in the United States., copyright is not the same as freedom of expression. it is the right to use another person's work for your own benefit. you have no right to take someone else's work and use it for your benefit. if you want to use someone's work, you have to pay for it. you don't get to use their work, and they don't have to give you permission to use it.), (Habeas corpus, Habeas corpus and copyright are incompatible with freedom of speech and expression., free speech doesn't mean that you have the right to say whatever you want, it means that the government doesn't have to stop you from saying what you want. if the government can't stop me from saying whatever i want, then i don't have the freedom to say what i want.), (Nation, Nation-States should not have the right to prohibit hate speech., in the united states, hate speech is not illegal. in fact, it is a protected class under the first amendment. in the us, the constitution protects hate speech, but that does not mean that the government has the authority to suppress it. it just means that the people have the ability to speak their mind, and the government cannot stop them from doing so.), (Speech, Speech and Freedom of Speech are incompatible, and copyright should be abolished., the first amendment guarantees freedom of speech, but not freedom of expression. the first amendment does not guarantee the right to hate speech, and it does not require the government to protect hate speech. the second amendment, however, does grant the government the power to regulate speech and expression.), (Advocacy, Advocacy of hate speech is not protected under the first amendment of the US Constitution., the first amendment protects free speech, not freedom of speech. freedom of expression is the right to hold opinions without interference and to seek, receive and impart information and ideas through any media and regardless of frontiers. hate speech does not fall under the definition of free speech.), (Hate speech, Hate speech should not be protected under the first amendment., the first amendment protects freedom of speech, not freedom from hate speech. hate speech is speech that incites violence, which is not protected by the 1st amendment. freedom of expression is the right to hold opinions without interference and to seek out information and ideas through any media and regardless of frontiers.), (Argument, Argument for freedom of speech and freedom of expression is incompatible with the United States Constitution., the first amendment protects the right to free speech, not free expression. the first amendment does not mean that you can't say whatever you want, it just means that you have to follow the rules of the game. if you don't follow the game, then you won't be allowed to say what you want.)]</td>\n",
       "    </tr>\n",
       "    <tr>\n",
       "      <th>410940</th>\n",
       "      <td>Cmv: if you are against legal abortion then you are for illegal abortion.</td>\n",
       "      <td>[(Sex education, Sex education and increased access to contraceptives will lead to a reduction in unplanned pregnancies but abortion will not be completely eliminated in the near future or economically feasible., i think the biggest issue with your argument is that it assumes that sex education and access to birth control will reduce the number of unplanned pregnancy. i don't think that is the case. sex education, access to contraception, and better access to health care will all lead to an increase in the overall number of pregnancies, but they will not eliminate the demand for abortion. if anything, they will increase the supply of abortions), (Reality, Reality is that abortion will always be a demand for abortion and it should not be outlawed., the black market abortion clinics will have increased demand for abortions because of the black market clinics. they will have more money to spend on medical care, so they will be more likely to provide abortions to people who would otherwise not have access to medical care. banning abortion will result in more abortions, which will increase demand for medical care and will lead to more abortions.), (Demand, Demand for abortion will always exist, and it should not be illegal., the demand for abortion is always there, and the supply will always be there. it's not a question of supply and demand, it's a matter of demand and demand. demand is what drives demand, supply is what determines demand. the supply of abortion is very low, and demand is very high, and there is no reason to believe that demand will change anytime soon.), (, I believe abortion should be legal., there is no evidence that legalizing abortion will significantly reduce the number of unplanned pregnancies. in fact, there is evidence that it will increase them. the only thing that will change is that people will no longer be able to get abortions. that is the only way to stop the black market abortion clinics.), (, There will always be a demand for abortion and it should be regulated not outlawed., the demand for abortions will always exist. the supply will never be the same as the demand. the demand will always exceed the supply. the best way to reduce the demand is to lower the supply, not to increase it. there is no way to regulate the supply of abortion.), (, I believe that abortion should be legal., the black market abortion clinics will have increased demand for abortions, which will result in an increase in demand for abortion clinics. this will lead to more abortions being performed by people who are not legally allowed to perform abortions. the black market clinics will also have more abortions performed by women who are legally not allowed to have abortions. thus, banning abortion will not result in more abortions, but rather will cause more abortions to be performed.), (, I believe that abortion should be legal and not illegal., abortion is a fundamental human right, and should be treated as such. the government should not be allowed to regulate a woman's right to make her own decisions about her own body. it should be up to the woman to decide for herself what she wants to do with her body, and if she doesn't want to have a child, she should be free to do so.), (, I believe abortion should be legal and regulated., i don't think it's fair to say that banning abortion will be a win for the black market abortion clinics who will have increased demand. i think it'll be a loss for the government, which will have to find other ways to deal with the increased demand for abortion, and will likely have to increase taxes to pay for it. i don't see how that will help.), (, I believe abortion should not be illegal., the demand for abortion is the same as the demand for contraceptives. if you have access to contraceptives, you will be able to have more children, but if you don't, you won't have enough money to support a growing population. this will lead to more unplanned pregnancies, which will result in more abortions.), (, I believe abortion should be legal., i agree with you that abortion should not be legal, but i disagree that it should be illegal. abortion is a medical procedure, and it is not illegal to perform it. there is no reason to ban it. it is a woman's right to make her own decisions about her own body, and she has every right to do so. the government has no right to dictate what she does with her body.)]</td>\n",
       "    </tr>\n",
       "    <tr>\n",
       "      <th>410964</th>\n",
       "      <td>The job market in the US has never been better.</td>\n",
       "      <td>[(Americans, Americans complaining about jobs and wages makes no sense., it's not that people are complaining about wages, it's that they're complaining about the lack of jobs in the economy. the economy is improving, but it's not good enough for people to complain about wages. the median wage is going up, but that's not because people are making more money. it's because the unemployment rate is the lowest it's been since 1969, and that's a good thing.), (Unemployment, Unemployment is the lowest its been since 1969, and the median wage in the US is the highest its ever been since we've been collecting data., the unemployment rate is not the lowest it has ever been. it is the best it has been in over 50 years. it's not just because of part time jobs or discouraged workers, it's because of a lack of jobs.), (Median, Median real wage in the US is the highest its been since we've been collecting data., the median wage is not a good measure of how much a person is making. it's a measure of whether they are making enough money to live off of, which is not the same thing as how much they are worth. the median wage also doesn't take into account the cost of living, so it doesn't really make sense to say that the median person is earning more than they need to.), (Reason, Reasoning about jobs and wages makes no sense., jobs and wages are not mutually exclusive. if you don't have a job, you can't make a living wage. that's it. you can make money by working for minimum wage, but that doesn't mean you have to make any money at all. it's not like you can get a job that pays you more than minimum wage. you're going to have to work harder to make more money, and that's not going to be easy.), (Wage, Wage growth in the US is the best its been in decades., i think you're looking at it the wrong way. yes, the median wage is the highest it's been since we've been collecting data, but that doesn't mean that it's the best it's ever been. it just means that the number of jobs is higher than it has been for decades.), (Number, Number of jobs in the US is the highest its been since we've been collecting data., the unemployment rate is the lowest it has been since 1969, and it's been rising for over a decade. that's not a good thing. it means that people are losing their jobs, and those jobs are going to be replaced by the same people who are doing the same job. it also means that a lot of the people who lost their jobs are now unemployed.), (Social inequality, Social inequality in the job market is not a big deal., i don't think it's fair to say that the median wage is the highest it's been since we've been collecting data. it's not even close to that, but it's a good indicator of how much money is being made in the us. it also shows how much people have to work to make ends meet, which is a good indication that the economy is doing better than it was in the past.), (Cost, Costs of living are not a major issue in the US, and the median real wage is the highest its been since we've been collecting data., the median wage is not a good measure of the cost of living in the us. it is a measure of how much a person is making, not how much they are making. it's not a great measure, but it's the best measure we have.), (Notice, Notice that the median real wage in the US is the highest its been since we've been collecting data., the median wage is the lowest it's been since the cpi began collecting data in 1973, and it's not even close to being the best it's ever been. it's actually the worst it has ever been in terms of inflation adjusted for inflation. the real wage has been rising steadily for the past few decades, but it's still nowhere near the highest it has been in the history of the world.), (Linear trend estimation, Linear trend estimation of wages in the US makes no sense., i think it is important to note that the median wage in the us is the highest its been since we've been collecting data. it is not the same as the cpi, which is the price of goods and services. the real wage is not adjusted for inflation, it is adjusted for the cost of living. if you want to talk about wages, you have to look at how much the top 1 are earning. that is, how much rich people are making, and how much poor people are earning,)]</td>\n",
       "    </tr>\n",
       "    <tr>\n",
       "      <th>410971</th>\n",
       "      <td>Men and women should not be treated the same when it comes to sexual harrassment</td>\n",
       "      <td>[(Cat, Cat-calling is sexual harassment and should be treated as such., i think it's important to distinguish between cat calling and sexual harassment. cat calling is a sexual act that is done with the intention of coercing or coercing a person into having sex with you. sexual harassment is the act of having sex or engaging in sexual activity with another person without their consent.), (Time, Time and again, men who have been cat-called are treated equally as women who are sexually harassed. I don’t think that’s a bad thing., i think there is a difference between cat calling a woman and sexual harassment. sexual harassment is when someone sexually harasses you. cat calling someone is when you sexually harass them. it is not sexual harassment if you are not sexually harassing them.), (Woman, Woman being cat-called by two 180 pound men while she sits at a 135 pounds is sexual harassment and should be treated as such., i don't think it's fair to say that women are more likely to be cat called than men, but i do think that there is a double standard when it comes to cat calling. i'm not saying that cat calling is always a bad thing, but it's important to remember that it's not always a good thing. i don't know where you're from, but in the u. s. it's illegal to cat call), (Gun, Gun laws are more strict for women because women have a very real reason to feel threatened. I don’t think it’s a double standard., gun laws aren't more strict because women are more likely to be threatened by guns. they're stricter because guns are more expensive and more dangerous to use. the difference is that guns are cheaper and easier to use, and they are easier to get. a gun costs a lot of money, and it's easy to get if you don't know where it is. a woman walking down the street is going to be), (Walking, Walking down the street cat-calling a woman is sexual harassment and should be treated as such., i think the difference between cat calling a woman and being cat called by a man is that cat calling is an act of sexual harassment. cat calling isn't. it's an act that is done with the intention of sexually harassing a woman.), (Man, Man cat-callers should be treated equally as women who are sexually harassed., i don't think it's fair to treat a woman cat calling a man the same as a man being cat called by a woman. it's not the same thing. the difference is that the cat calling is done with the expectation that the woman will be sexually assaulted by the man. the woman is being cat harassed because she's being catcalled by a man, not because she is being sexually assaulted. if the man cat calls a woman, he's doing it because he thinks she's attractive), (Pitch (sports field), Pitch (sports field) men who have been cat-called by women should be treated equally as a women who is sexually harassed., i think it's important to distinguish between what is and is not sexual harassment, and what is not. for example, it's not the same thing as being cat called in the same way as being harassed in a similar way. i don't know about you, but i've been cat called by people of all sizes and shapes. i'm not going to say that it's always going to boil down to the rules being more strict for), (Outlier, Outlier cases of cat-calling are not sexual harassment and should not be treated as such., the difference between cat calling and sexual harassment is that cat calling is an assault. it is an attack on the person who is being cat called, and it is a form of sexual harassment. in the case of cat calling, the victim is not being catcalled, she is being sexually assaulted.), (Double standard, Double standard against men in sexual harassment cases is bad for society., i don't think it's a double standard at all. it's just that there is a difference between men being cat called and women being cat harassed. in the case of cat calling, the woman is being catcalled because of her size, not because she is being sexually harassed. if she is cat called because she's overweight, that's not sexual harassment. the difference is that she's getting cat called for being overweight, and the man is getting catcalled for being a man. this is not a), (Boil, Boilers of double standards about women being cat-called by men are harmful to society and men should be treated equally., i don't think it's fair to say that women are more likely to be cat harassed than men, but i do think that it's important to remember that there's a difference between being cat harassed and being sexually harassed.)]</td>\n",
       "    </tr>\n",
       "    <tr>\n",
       "      <th>410991</th>\n",
       "      <td>All couples must undergo standarized tests in order to conceive and have children</td>\n",
       "      <td>[(Human rights, Human rights should be extended to those who want to have children and those who don't., in america, the right to have a child is one of the most basic human rights there is. it's a fundamental human right. it doesn't matter if the child is poor, if the parents are abusive, or if the children are abused in some way. it is a basic human right, and it should be respected.), (Statistics, Statistics show that children are more likely to be abused by their parents than adults, and that parents should be forced to pass a rigorous test to adopt their children., i think it's important to recognize that there is a difference between a child and an adult. an adult is a human being with the rights and responsibilities of a child. a child does not have the rights or responsibilities of an adult, and is therefore not entitled to those rights.), (Hell, Hell, I think it should be illegal to have children if you don't have the ability to pass some sort of rigorous test., the problem with this is that it's not really a test. it's just a way to regulate who can and can't have children. there's nothing wrong with having a system, but i don't think it's a good idea to have a system that limits who can have children and who can't.), (Child, Child Protective Services (CPS) should be mandatory for all people who want to have children., i'm not sure what you're trying to say here, but i'm going to try anyway. the problem with child protective services is that they're not really there to help the parents. they're there to protect the children from the parents, which is what they're supposed to do. the only way to do that is to get the parents to stop abusing their children. if the parents don't stop, the children are going to be better off without them, and if the), (Sexual abuse, Sexual abuse and neglect of children should be illegal., i'm not sure if you're familiar with the legal definition of child abuse. child abuse is when a child is being physically or sexually abused by a parent. i'm not saying it's legal, but it's a legal definition. i don't think it's wrong for parents to be abusive to their children, but that doesn't mean it's ok for them to do it to their kids.), (Interview, Interviewed parents should be allowed to have children., the problem with this is that it would be a huge burden on the child's parents. they would have to prove that they are capable of taking care of the child, which in turn would be an enormous burden on them. the best way to do this is to give them the resources they need to take care of their child. the more resources they have, the easier it will be for the child to be taken care of, and the more likely the child will grow up in a loving home.), (Adult, Adult children should have to pass some sort of test before being allowed to have children., there is no such thing as a child's right to life. the right to live is the right of the individual. it is not the responsibility of the state to determine whether or not a person is fit to have a child. the state has no right to determine who is fit for a child and who isn't.), (Number, Number of children should be based on who is willing to adopt and who is not., i'm not really sure what you're trying to argue, but i'll try anyway. it seems like you're saying that the government should be able to decide who can and can't have children, but that's not really how it works. the government doesn't have the power to determine who can have children and who can't. the only thing the government can do is make sure that the people who want to have children are able to have them, and that the child is raised in), (Parent, Parental rights should be extended to children., i think the problem with this is that it creates a double standard. if a child is being raised by an abusive parent, then the child will grow up to be a bad parent. if the child is raised by a good parent, it will be raised in a way that makes it happy and healthy. if it is raised in an abusive way, then it will likely be raised poorly. i don't think it's fair to say that the lives and well-being of these children are worth more than the lives of the parents), (Well-being, Well-being of children is more important than the rights of parents., the right to have children is a basic human right, not a right to be able to have a child. the right to a child is a fundamental human right. it is the right of a child to be raised by a loving, caring, and well intentioned parent. there is no reason to deny a child the rights to a parent because they are poor. the only reason to deprive a child of those rights is because of the actions of the parents.)]</td>\n",
       "    </tr>\n",
       "  </tbody>\n",
       "</table>\n",
       "</div>"
      ],
      "text/plain": [
       "                                                                                                       title  \\\n",
       "410850                                                                  people should come with instructions   \n",
       "410858       People should not be heavily criticized for things they put on social media in the distant past   \n",
       "410902                                                          We shouldn't focus on slowing climate change   \n",
       "410910                   The Australian PM was right to tell students to stop activism around global warming   \n",
       "410916                                                Feeding cats or dogs a diet with meat is indefensible.   \n",
       "410927   For a government to allow Hate Speech on the basis of Free Speech they must also abolish Copyright.   \n",
       "410940                             Cmv: if you are against legal abortion then you are for illegal abortion.   \n",
       "410964                                                       The job market in the US has never been better.   \n",
       "410971                      Men and women should not be treated the same when it comes to sexual harrassment   \n",
       "410991                     All couples must undergo standarized tests in order to conceive and have children   \n",
       "\n",
       "                                                                                                                                                                                                                                                                                                                                                                                                                                                                                                                                                                                                                                                                                                                                                                                                                                                                                                                                                                                                                                                                                                                                                                                                                                                                                                                                                                                                                                                                                                                                                                                                                                                                                                                                                                                                                                                                                                                                                                                                                                                                                                                                                                                                                                                                                                                                                                                                                                                                                                                                                                                                                                                                                                                                                                                                                                                                                                                                                                                                                                                                                                                                                                                                                                                                                                                                                                                                                                                                                                                                                                                                                                                                                                                                                                                                                                                                                                                                                                                                                                                                                                                                                                                                                                                                                                                                                                                                                                                                                                                                                                                                                                                                                                                                                                                                                                                                                                                                      post_counters  \n",
       "410850  [(Algorithm, Algorithm based personality assessments should be available to all people., i don't think it's fair to generalize about people based on their personality assessments. there are so many different personality types that it would be unfair to generalise about one person based on his or her personality assessment alone. also, personality assessments aren't just about personality, they're about how well you fit in with others and how well the other person fits in with you. it's not just about being an introvert, it's about how you fit into other people's lives.), (Extraversion and introversion, Extraversion and introversion should be included in a person’s personality profile., i don't think it's a good idea to label someone as introverted or extroverted. introverts tend to be more introverted than extroverts, and they tend to have more extrovert tendencies. i don't know about you, but i think introverts are more likely to be introverts. i'm not saying that introverts aren't introverts, but it's not a good thing to label them as such.), (People, People should be able to easily pick out personality traits from an algorithm., i'm not sure how this would work, but i think it's a good idea to have some sort of online personality assessment system. if you're an introvert, and you don't like sports, you're probably not going to be a very good conversationalist. but if you are an extrovert, you might be a great conversationaliser, because you enjoy the company of other people and have a good sense of humor. a person who is introverted might not be a good convers), (Secrecy, Secrecy and honesty should be an automatic part of meeting people., i don't think it's a good idea to label someone as introverted or extroverted, because it doesn't make sense to do so. introverts and extroverts are not the same thing. they are different people with different interests, hobbies, hobbies and interests. i don't know about you, but i'm an extrovert and introvert. i'm not sure how you would categorize me as an introvert, and i'm sure you wouldn't be able to tell if i), (Recommender system, Recommender system for meeting people is a good idea., i think it would be a lot more efficient if people were able to easily filter out people based on their personality. for example, if you are an introvert, you are less likely to meet people who are more extroverted, and more likely to encounter people who aren't. i don't know about you, but i think that would make it a lot easier to pick up on someone's personality.), (Existential crisis, Existential crisis: I think people should be able to easily predict their personality., there is a difference between being introverted and being extroverted. extroverts tend to be more introverted, and introverts are more extrovert. introverts tend not to be introverted at all, and they tend to find extroversion boring. introverted people tend to seek out social interaction and be more outgoing, and extrovers tend to shy away from social interaction. this is why introverts have a harder time meeting people, because they don't have to), (, People should be able to instantly avoid people or gravitate toward some., i think the biggest issue i have with this is that it would make it easier for people to pick up on other people's personality traits, which would be a very bad thing. for example, if i'm an introvert, i wouldn't want to date someone who is more extroverted than i am, because i don't know what they're like, and i'm not sure how i'd interact with them.), (, People should have an electronic signature that informs us of their perceived personality., i think it's important to remember that personality is a social construct, not a biological one. personality is just a collection of personality traits that are shared by people of different ages, genders, ethnicities, socioeconomic statuses, and sexual orientations. you can't change someone's personality, but you can change how they feel about it.), (, People should be able to sign up for an online dating service., i don't think it's fair to label someone as an introvert or an extrovert simply because they like to have fun and sing karaoke. introverts and extroverts tend to have different personalities, and there's no reason to label them as such.), (, I think people should be able to easily tell you about their personality.., i don't think it's a good idea to know someone's personality before you meet them. it's not like there's anything wrong with being introverted or extroverted, it's just not a good way to meet new people. i think it would be more efficient to just ask people what they like and don't like about them, rather than having to spend a lot of time trying to figure out who they like.)]  \n",
       "410858                                                                                                                                                                                                                                                                                                                                                                                                                                                                                                                                                                                                                 [(Internet, Internet users shouldn't be judged for things they put on social media a long time ago., i think it's fair to judge people based on things they said 10 years ago, but that's not the same as judging them based on what they've done in the past. i think the internet is a place where people can share their views, and that's a good thing. however, i don't think that the internet should be judged based on the things that they've said in a certain time frame, because that's just not how the internet works. the internet isn't), (Black and white, Black and white people shouldn't be judged for things they said a long time ago., i think it's important to recognize that there are different types of people, and that people's opinions can change over the course of their lives. that's not to say we shouldn't judge people for things that they said 10 years ago, but that it's not unreasonable to do so.), (Adolescence, Adolescence is not a good enough reason to criticize people for things they put on social media a long time ago., i think it's fair to criticize someone for what they said 10 years ago. however, i don't agree that it's unreasonable to criticize them for the things they said in the past. it's not unreasonable to criticise someone for their actions, but not for the way they said those actions. i'm not saying that you shouldn't be criticized, but i'm saying that it is not fair to blame someone for the actions of someone else.), (Time, Time doesn't change people's views and it is unreasonable for the internet to come down hard on people for things they put on social media a long time ago., i think it's important to remember that the internet is not a perfect system. it's not perfect, but it's better than the alternatives. the internet allows people to express their views in a way that doesn't have the potential to be taken too seriously. for example, it allows you to post whatever you want on the internet, even if it doesn't reflect your current views. that said, i don't), (Reason, Reasoning against people for things they put on social media a long time ago is unreasonable., i don't think it's unreasonable to expect people to dig through their social media history to delete offensive tweets. i think it would be unreasonable for the internet to come down hard on people for offensive tweets that they made a few years ago.), (Belief, Beliefs and values change over time, and it is unfair for the internet to come down hard on people for things they put on social media a long time ago., i think it's important to remember that the internet is not the only source of information about a person's beliefs and values. it is also not the best way to gauge whether or not someone's beliefs or values have changed over time.), (People, People shouldn't be criticized for things they put on social media a long time ago., i don't think it's unreasonable to criticize someone for something they said 10 years ago. it's not unreasonable to criticise someone for what they said in a different context. however, i don't agree that it's fair to criticize a person for something that happened a decade ago.), (Person, Person's views on social media shouldn't be judged as harshly as they were 10 years ago., you're right that people change. however, social media is not the only way to change one's views. the internet is a tool, not a person. there is no reason to judge someone based on what they say on twitter, facebook, or anywhere else on the internet.), (Opinion, Opinion is not as important as people make it out to be, i think it's fair to say that opinions change, but that doesn't mean that the opinions of people today are any more or less valid than those of people 10 years ago. the fact that we're talking about the internet and not the person you are today, doesn't make it any less fair.), (Jame, Jame Gunner getting fired for using the word \"faggot\" a few years ago is not a big deal., i think it's important to remember that the internet is not the same as the person you were 10 years ago. it's not a place where you can change your views, it's a place that you can be held accountable for your actions.)]  \n",
       "410902                          [(Climate change, Climate change is a serious issue and cutting CO2 emissions is more important than slowing climate change., climate change is not a real issue. it's not even a big deal. the only thing that is real about climate change is that it's happening right now, and it's going to continue to happen for the rest of our lives.), (Economics, Economics is more important than Climate Change, climate change is a very real issue, but economic growth is not the only thing that is important. it's not even the most important thing, it's the least important thing. if you're talking about economic growth, then yes, climate change will have a huge impact on that, but that doesn't mean that economic growth isn't important.), (Health, Healthy and sustainable economic growth worldwide is more important than slowing climate change., climate change is not real. it's a hoax invented by humans to make economic growth more profitable. that's not to say it's not happening, but we're not going to be able to do anything about it for a very, very long time.), (Environmental issues, Environmental issues are more important than economic growth, climate change is not an issue of economic growth. economic growth is not the only thing that is important. it is also not the most important thing. there are many other factors that are important to economic growth that are not climate change related. for example, we live in a world that is becoming more and more energy efficient. we are able to use more energy now than ever before in human history. we can use less fossil fuels and use more renewable sources of energy. we have the technology to produce more energy, but we are not), (People, People should not care about climate change., climate change is a real thing, but it's not something that's going to happen in the near future. the effects of climate change have been going on for a while now, and we're just starting to see the consequences of it. in fact, we're already seeing the effects. if we don't do anything about it, it will continue to get worse, and it will be worse than it is now. we need to do something about it now, before it gets worse.), (Cutting, Cutting CO2 emissions is more important than slowing climate change., global warming is one of the biggest threats to human health and well being in the 21st century. if we don't take steps now to reduce co2 emissions, we will be in serious trouble in the near future. we are already seeing the effects of climate change in the form of rising sea levels, increased sea levels and increased sea level rise. there is no reason to believe that we will not see the same effects in the future.), (, I believe that reducing CO2 emissions is more important than slowing climate change., climate change is a serious issue, but it's not the only issue. there are a lot of other issues, but climate change is one of the biggest. for example, we're going to have to adapt to the changing weather patterns of the world in the next few decades, and it's going to be a lot harder to do so than we are right now. it's also going to change how we interact with each other. the more we interact, the more likely it is that we'll), (, I believe that reducing CO2 emissions is more important than slowing climate change, global warming is a huge problem, but it's not the only one. there's also the issue of global warming. in fact, global warming is one of the leading causes of death in the world, and it's going to get worse for a long time to come. there are many reasons for this, but i think it's important to point out that global warming isn't the only thing that's causing global warming, it's just one of many.), (, Global warming is more important than global economic growth, climate change is a problem, but it's not the only one. there are other environmental issues that are worse than climate change, but they're more difficult to address. for example, there's the issue of sea level rise, which is bad for the economy of coastal cities. there's also the problem of coastal erosion. coastal erosion is a huge issue in many parts of the world, and it's going to continue to be for the rest of our lifetimes. there is no way to address these issues without addressing climate change), (, Cutting CO2 emissions is more important than slowing climate change., climate change is a real thing, and it is going to change the way we live for the better. however, there is no reason to believe that it will slow down economic growth. if anything, it will accelerate it. we are going to have more money to spend on things like food, water, and air quality in the future than we have in the past, so we will have more time to invest in things like clean energy.)]  \n",
       "410910                                                                                                                                                                                                                                                                                                                                                                                                                                             [(Climate change, Climate change is not an issue that can be solved by activism., climate change isn't an issue, it's a problem with human behavior. it's not a matter of whether or not we should do something about it. it is a problem that we need to solve. if we don't do anything about it, it will just get worse, not better.), (Science, Science is becoming more politicized than it used to be., science has always been politicized, it's just that it's more so now than it was in the past. it's not that science is becoming less politicized it's that we don't have the resources to do so. science is the best tool we have to figure out what's best for the world. we have the technology to do it, we just haven't figured out how to use it.), (Activism, Activism is not the best way to fight climate change., i don't think it's possible to change your view if you don't know what it is you're talking about. i'm not saying that climate change isn't a real issue, but i think you're conflating it with activism. climate change is real, but it's not a big deal. it's a problem that we can fix, and we have the technology to do so. the only thing stopping us from doing so is that we don't understand how to fix it.), (Government, Government activism has become more and more partisan., climate change is not a partisan issue. it's a scientific issue. there are many ways to deal with it, and many people have different opinions about what to do about it. i don't think there's anything wrong with activism, but i do think it's becoming less and less partisan.), (Economist, Economist-led activism is more important than science when it comes to combating climate change., climate change is a serious issue, but it is not a single issue. it is a complex issue, and it is difficult to separate science from politics. for example, we know that global warming is a problem, but we don't know how to combat it. the best we can do is try to reduce our carbon footprint. this is a tough thing to do, and we have to do it in a way that is cost effective. the only way to do this is to reduce), (Poverty, Poverty, starvation, and climate change are all things we can do to combat climate change, but not all activism is going to be effective., climate change is one of the most pressing issues facing humanity right now, and we need to be doing everything we can to combat it. we can't just ignore it, we have to do it now. if we don't do anything now, we will not do it in the future. the only way to stop climate change is to do something now.), (Scientist, Scientist activism is becoming too partisan, science is not partisan. it is based on the best available evidence and the best tools available to us to do so. scientists are not trying to be partisan. they are trying to do the best they can to advance knowledge and understand the world around them. it's not a partisan issue, it's a scientific issue.), (Planet, Planet-warming is a non-issue and people are over-politicizing the science., climate change is a real issue, but it is not the only issue that needs to be addressed. it is also not the most important issue in the world right now, and it will not be for a very long time. climate change is an issue that is not going away, and we need to do everything we can to combat it. i don't think there is anything wrong with being concerned about climate change, but we are not going to be able to do anything about it), (Public policy, Public policy is becoming more and more politicized., climate change is not a partisan issue. it is a scientific issue, and the government has the authority to regulate the scientific community. it's not the government's job to tell scientists what to do, it's the scientists' job to inform the public. science is not the same as politics.), (Fat, Fat shaming and activism are not the way to combat climate change., i think the problem with fat shaming is not that it's a bad thing, it's that it makes it harder for people to think critically about their food choices, and it makes people think about how much they have control over their own food choices. that's not to say that all activism is bad, but it is important to recognize that there are a lot of people who don't have the time, money, or wherewithal to do much of anything about it. it's also important to remember that)]  \n",
       "410916                                                                                                                                                                                                                                                                                                                                                                                                                                                                                                                                                                                                                                                                                                                                                                                                                                                                                                                                                                                                                                                                                                                                                                                                                                                                                                                                                                                                                                                                                          [(Animal, Animal abusers are hypocrites if they feed their pets vegan diets., vegetarianism is not the same as being an animal abuser. veganism is a lifestyle choice, not an action. it is not a crime, it is a choice to eat meat. there is nothing wrong with eating meat as long as you don't eat it in excess.), (Dog, Dog meat is better than vegetarian meat, vegetarianism is not the same as veganism. vegetarianism is a lifestyle choice, not an end to an animal's life. veganism does not mean that you eat the meat of an animal, it just means that you do not eat the animal's flesh. it is not a choice to kill an animal.), (Cat, Cat/Dogs eating vegetarian diets is hypocritical., vegetarianism is not the same thing as animal abuse. it is a lifestyle choice. it does not mean that you are responsible for the deaths of 100s of animals such as pigs or dogs. it means that you do not eat the meat of the animals you are eating.), (Veganism, Veganism is more moral than eating a vegetarian diet., vegetarianism is not more moral. it is more ethical because it reduces the amount of animal suffering in the world. it also reduces the environmental impact of meat consumption. in fact, it is one of the best ways to reduce environmental suffering. you don't have to be vegan to do this. you just have to eat less meat.), (People, People who feed their pets vegan diets are hypocrites., vegetarianism is not a moral choice, it's a lifestyle choice. it's not a choice to kill or eat an animal, it is a personal choice to eat or not eat that animal. i'm not saying it's the right thing to do, i'm just saying that it's an option.), (Animal feed, Animal feeders are hypocrites., there is no such thing as an animal abuser. an animal is an animal. it's not a person, it's a living thing. it doesn't matter if you're a vegetarian or a vegan, it is still an animal, and it has the same rights and responsibilities as any other living being.), (, People who feed their pets vegan diets are hypocrites., vegetarianism is the only way to have a balanced diet, and it is the best way to be healthy. veganism doesn't mean that you're eating a vegetarian diet, it means that you are eating a diet that is balanced with a balanced source of protein.), (, Vegetarianism is the more moral way to feed your pets., vegetarian diets are more expensive than vegan diets. vegetarian diets tend to be cheaper and healthier. vegan diets are cheaper, healthier, and healthier than vegetarian diets. the only difference is that vegetarian diets have the option of being vegan, vegan diets have no choice, and vegan diets don't have the choice to be vegan.), (, Vegetarianism is more moral than veganism., veganism is not the only way to eat meat. it is the most ethical way to consume meat. vegans are eating meat for the health benefits of the animal, not the cost of the meat itself. they are eating the meat because it tastes good and tastes good for them.), (, I think people who feed their pets vegan diets are hypocrites., vegetarianism is healthier than veganism. vegetarianism is the best way to eat meat. veganism is not the only way, but it is the most effective. you can have a vegetarian diet and not be a hypocrite. also, eating meat is not a bad thing. if you eat meat and don't feel guilty about it, you are not an animal abuser.)]  \n",
       "410927                                                                                                                                                                                                                                                                                                                                                                                                                                                                                                                                                                                                                           [(Film, Film, music, paintings, games, poetry, dance, etc. should be protected under the first amendment of the US Constitution., i don't think it's fair to say that free speech and copyright are incompatible. free speech is the right to express one's opinions without interference. copyright is a right to be protected by the state, not by the individual.), (First Amendment to the United States Constitution, First Amendment to the United States Constitution is incompatible with the Universal Declaration of Human Rights., the first amendment is not inconsistent with the universal declaration of human rights, it is inconsistent with freedom of expression. the us constitution is not an international document. it is a republican document. the u. s. constitution is a democracy. the constitution is the supreme law of the land. it does not say anything about freedom of speech, expression, or expression.), (Freedom of speech, Freedom of speech and freedom of expression should include the right to freedom of hate speech., free speech is not a right, it is a privilege. the first amendment guarantees the freedom of speech, but that doesn't mean that you have to agree with every word of the speech. the second amendment guarantees freedom of thought, but it doesn't guarantee freedom of free speech.), (Copyright, Copyright should be abolished in the United States., copyright is not the same as freedom of expression. it is the right to use another person's work for your own benefit. you have no right to take someone else's work and use it for your benefit. if you want to use someone's work, you have to pay for it. you don't get to use their work, and they don't have to give you permission to use it.), (Habeas corpus, Habeas corpus and copyright are incompatible with freedom of speech and expression., free speech doesn't mean that you have the right to say whatever you want, it means that the government doesn't have to stop you from saying what you want. if the government can't stop me from saying whatever i want, then i don't have the freedom to say what i want.), (Nation, Nation-States should not have the right to prohibit hate speech., in the united states, hate speech is not illegal. in fact, it is a protected class under the first amendment. in the us, the constitution protects hate speech, but that does not mean that the government has the authority to suppress it. it just means that the people have the ability to speak their mind, and the government cannot stop them from doing so.), (Speech, Speech and Freedom of Speech are incompatible, and copyright should be abolished., the first amendment guarantees freedom of speech, but not freedom of expression. the first amendment does not guarantee the right to hate speech, and it does not require the government to protect hate speech. the second amendment, however, does grant the government the power to regulate speech and expression.), (Advocacy, Advocacy of hate speech is not protected under the first amendment of the US Constitution., the first amendment protects free speech, not freedom of speech. freedom of expression is the right to hold opinions without interference and to seek, receive and impart information and ideas through any media and regardless of frontiers. hate speech does not fall under the definition of free speech.), (Hate speech, Hate speech should not be protected under the first amendment., the first amendment protects freedom of speech, not freedom from hate speech. hate speech is speech that incites violence, which is not protected by the 1st amendment. freedom of expression is the right to hold opinions without interference and to seek out information and ideas through any media and regardless of frontiers.), (Argument, Argument for freedom of speech and freedom of expression is incompatible with the United States Constitution., the first amendment protects the right to free speech, not free expression. the first amendment does not mean that you can't say whatever you want, it just means that you have to follow the rules of the game. if you don't follow the game, then you won't be allowed to say what you want.)]  \n",
       "410940                                                                                                                                                                                                                                                                                                                                                     [(Sex education, Sex education and increased access to contraceptives will lead to a reduction in unplanned pregnancies but abortion will not be completely eliminated in the near future or economically feasible., i think the biggest issue with your argument is that it assumes that sex education and access to birth control will reduce the number of unplanned pregnancy. i don't think that is the case. sex education, access to contraception, and better access to health care will all lead to an increase in the overall number of pregnancies, but they will not eliminate the demand for abortion. if anything, they will increase the supply of abortions), (Reality, Reality is that abortion will always be a demand for abortion and it should not be outlawed., the black market abortion clinics will have increased demand for abortions because of the black market clinics. they will have more money to spend on medical care, so they will be more likely to provide abortions to people who would otherwise not have access to medical care. banning abortion will result in more abortions, which will increase demand for medical care and will lead to more abortions.), (Demand, Demand for abortion will always exist, and it should not be illegal., the demand for abortion is always there, and the supply will always be there. it's not a question of supply and demand, it's a matter of demand and demand. demand is what drives demand, supply is what determines demand. the supply of abortion is very low, and demand is very high, and there is no reason to believe that demand will change anytime soon.), (, I believe abortion should be legal., there is no evidence that legalizing abortion will significantly reduce the number of unplanned pregnancies. in fact, there is evidence that it will increase them. the only thing that will change is that people will no longer be able to get abortions. that is the only way to stop the black market abortion clinics.), (, There will always be a demand for abortion and it should be regulated not outlawed., the demand for abortions will always exist. the supply will never be the same as the demand. the demand will always exceed the supply. the best way to reduce the demand is to lower the supply, not to increase it. there is no way to regulate the supply of abortion.), (, I believe that abortion should be legal., the black market abortion clinics will have increased demand for abortions, which will result in an increase in demand for abortion clinics. this will lead to more abortions being performed by people who are not legally allowed to perform abortions. the black market clinics will also have more abortions performed by women who are legally not allowed to have abortions. thus, banning abortion will not result in more abortions, but rather will cause more abortions to be performed.), (, I believe that abortion should be legal and not illegal., abortion is a fundamental human right, and should be treated as such. the government should not be allowed to regulate a woman's right to make her own decisions about her own body. it should be up to the woman to decide for herself what she wants to do with her body, and if she doesn't want to have a child, she should be free to do so.), (, I believe abortion should be legal and regulated., i don't think it's fair to say that banning abortion will be a win for the black market abortion clinics who will have increased demand. i think it'll be a loss for the government, which will have to find other ways to deal with the increased demand for abortion, and will likely have to increase taxes to pay for it. i don't see how that will help.), (, I believe abortion should not be illegal., the demand for abortion is the same as the demand for contraceptives. if you have access to contraceptives, you will be able to have more children, but if you don't, you won't have enough money to support a growing population. this will lead to more unplanned pregnancies, which will result in more abortions.), (, I believe abortion should be legal., i agree with you that abortion should not be legal, but i disagree that it should be illegal. abortion is a medical procedure, and it is not illegal to perform it. there is no reason to ban it. it is a woman's right to make her own decisions about her own body, and she has every right to do so. the government has no right to dictate what she does with her body.)]  \n",
       "410964                                                                                                                                                                                                                                                                                                                                                                                                                                                                                                   [(Americans, Americans complaining about jobs and wages makes no sense., it's not that people are complaining about wages, it's that they're complaining about the lack of jobs in the economy. the economy is improving, but it's not good enough for people to complain about wages. the median wage is going up, but that's not because people are making more money. it's because the unemployment rate is the lowest it's been since 1969, and that's a good thing.), (Unemployment, Unemployment is the lowest its been since 1969, and the median wage in the US is the highest its ever been since we've been collecting data., the unemployment rate is not the lowest it has ever been. it is the best it has been in over 50 years. it's not just because of part time jobs or discouraged workers, it's because of a lack of jobs.), (Median, Median real wage in the US is the highest its been since we've been collecting data., the median wage is not a good measure of how much a person is making. it's a measure of whether they are making enough money to live off of, which is not the same thing as how much they are worth. the median wage also doesn't take into account the cost of living, so it doesn't really make sense to say that the median person is earning more than they need to.), (Reason, Reasoning about jobs and wages makes no sense., jobs and wages are not mutually exclusive. if you don't have a job, you can't make a living wage. that's it. you can make money by working for minimum wage, but that doesn't mean you have to make any money at all. it's not like you can get a job that pays you more than minimum wage. you're going to have to work harder to make more money, and that's not going to be easy.), (Wage, Wage growth in the US is the best its been in decades., i think you're looking at it the wrong way. yes, the median wage is the highest it's been since we've been collecting data, but that doesn't mean that it's the best it's ever been. it just means that the number of jobs is higher than it has been for decades.), (Number, Number of jobs in the US is the highest its been since we've been collecting data., the unemployment rate is the lowest it has been since 1969, and it's been rising for over a decade. that's not a good thing. it means that people are losing their jobs, and those jobs are going to be replaced by the same people who are doing the same job. it also means that a lot of the people who lost their jobs are now unemployed.), (Social inequality, Social inequality in the job market is not a big deal., i don't think it's fair to say that the median wage is the highest it's been since we've been collecting data. it's not even close to that, but it's a good indicator of how much money is being made in the us. it also shows how much people have to work to make ends meet, which is a good indication that the economy is doing better than it was in the past.), (Cost, Costs of living are not a major issue in the US, and the median real wage is the highest its been since we've been collecting data., the median wage is not a good measure of the cost of living in the us. it is a measure of how much a person is making, not how much they are making. it's not a great measure, but it's the best measure we have.), (Notice, Notice that the median real wage in the US is the highest its been since we've been collecting data., the median wage is the lowest it's been since the cpi began collecting data in 1973, and it's not even close to being the best it's ever been. it's actually the worst it has ever been in terms of inflation adjusted for inflation. the real wage has been rising steadily for the past few decades, but it's still nowhere near the highest it has been in the history of the world.), (Linear trend estimation, Linear trend estimation of wages in the US makes no sense., i think it is important to note that the median wage in the us is the highest its been since we've been collecting data. it is not the same as the cpi, which is the price of goods and services. the real wage is not adjusted for inflation, it is adjusted for the cost of living. if you want to talk about wages, you have to look at how much the top 1 are earning. that is, how much rich people are making, and how much poor people are earning,)]  \n",
       "410971                                                                                                                                                                                                                                            [(Cat, Cat-calling is sexual harassment and should be treated as such., i think it's important to distinguish between cat calling and sexual harassment. cat calling is a sexual act that is done with the intention of coercing or coercing a person into having sex with you. sexual harassment is the act of having sex or engaging in sexual activity with another person without their consent.), (Time, Time and again, men who have been cat-called are treated equally as women who are sexually harassed. I don’t think that’s a bad thing., i think there is a difference between cat calling a woman and sexual harassment. sexual harassment is when someone sexually harasses you. cat calling someone is when you sexually harass them. it is not sexual harassment if you are not sexually harassing them.), (Woman, Woman being cat-called by two 180 pound men while she sits at a 135 pounds is sexual harassment and should be treated as such., i don't think it's fair to say that women are more likely to be cat called than men, but i do think that there is a double standard when it comes to cat calling. i'm not saying that cat calling is always a bad thing, but it's important to remember that it's not always a good thing. i don't know where you're from, but in the u. s. it's illegal to cat call), (Gun, Gun laws are more strict for women because women have a very real reason to feel threatened. I don’t think it’s a double standard., gun laws aren't more strict because women are more likely to be threatened by guns. they're stricter because guns are more expensive and more dangerous to use. the difference is that guns are cheaper and easier to use, and they are easier to get. a gun costs a lot of money, and it's easy to get if you don't know where it is. a woman walking down the street is going to be), (Walking, Walking down the street cat-calling a woman is sexual harassment and should be treated as such., i think the difference between cat calling a woman and being cat called by a man is that cat calling is an act of sexual harassment. cat calling isn't. it's an act that is done with the intention of sexually harassing a woman.), (Man, Man cat-callers should be treated equally as women who are sexually harassed., i don't think it's fair to treat a woman cat calling a man the same as a man being cat called by a woman. it's not the same thing. the difference is that the cat calling is done with the expectation that the woman will be sexually assaulted by the man. the woman is being cat harassed because she's being catcalled by a man, not because she is being sexually assaulted. if the man cat calls a woman, he's doing it because he thinks she's attractive), (Pitch (sports field), Pitch (sports field) men who have been cat-called by women should be treated equally as a women who is sexually harassed., i think it's important to distinguish between what is and is not sexual harassment, and what is not. for example, it's not the same thing as being cat called in the same way as being harassed in a similar way. i don't know about you, but i've been cat called by people of all sizes and shapes. i'm not going to say that it's always going to boil down to the rules being more strict for), (Outlier, Outlier cases of cat-calling are not sexual harassment and should not be treated as such., the difference between cat calling and sexual harassment is that cat calling is an assault. it is an attack on the person who is being cat called, and it is a form of sexual harassment. in the case of cat calling, the victim is not being catcalled, she is being sexually assaulted.), (Double standard, Double standard against men in sexual harassment cases is bad for society., i don't think it's a double standard at all. it's just that there is a difference between men being cat called and women being cat harassed. in the case of cat calling, the woman is being catcalled because of her size, not because she is being sexually harassed. if she is cat called because she's overweight, that's not sexual harassment. the difference is that she's getting cat called for being overweight, and the man is getting catcalled for being a man. this is not a), (Boil, Boilers of double standards about women being cat-called by men are harmful to society and men should be treated equally., i don't think it's fair to say that women are more likely to be cat harassed than men, but i do think that it's important to remember that there's a difference between being cat harassed and being sexually harassed.)]  \n",
       "410991                                                                                              [(Human rights, Human rights should be extended to those who want to have children and those who don't., in america, the right to have a child is one of the most basic human rights there is. it's a fundamental human right. it doesn't matter if the child is poor, if the parents are abusive, or if the children are abused in some way. it is a basic human right, and it should be respected.), (Statistics, Statistics show that children are more likely to be abused by their parents than adults, and that parents should be forced to pass a rigorous test to adopt their children., i think it's important to recognize that there is a difference between a child and an adult. an adult is a human being with the rights and responsibilities of a child. a child does not have the rights or responsibilities of an adult, and is therefore not entitled to those rights.), (Hell, Hell, I think it should be illegal to have children if you don't have the ability to pass some sort of rigorous test., the problem with this is that it's not really a test. it's just a way to regulate who can and can't have children. there's nothing wrong with having a system, but i don't think it's a good idea to have a system that limits who can have children and who can't.), (Child, Child Protective Services (CPS) should be mandatory for all people who want to have children., i'm not sure what you're trying to say here, but i'm going to try anyway. the problem with child protective services is that they're not really there to help the parents. they're there to protect the children from the parents, which is what they're supposed to do. the only way to do that is to get the parents to stop abusing their children. if the parents don't stop, the children are going to be better off without them, and if the), (Sexual abuse, Sexual abuse and neglect of children should be illegal., i'm not sure if you're familiar with the legal definition of child abuse. child abuse is when a child is being physically or sexually abused by a parent. i'm not saying it's legal, but it's a legal definition. i don't think it's wrong for parents to be abusive to their children, but that doesn't mean it's ok for them to do it to their kids.), (Interview, Interviewed parents should be allowed to have children., the problem with this is that it would be a huge burden on the child's parents. they would have to prove that they are capable of taking care of the child, which in turn would be an enormous burden on them. the best way to do this is to give them the resources they need to take care of their child. the more resources they have, the easier it will be for the child to be taken care of, and the more likely the child will grow up in a loving home.), (Adult, Adult children should have to pass some sort of test before being allowed to have children., there is no such thing as a child's right to life. the right to live is the right of the individual. it is not the responsibility of the state to determine whether or not a person is fit to have a child. the state has no right to determine who is fit for a child and who isn't.), (Number, Number of children should be based on who is willing to adopt and who is not., i'm not really sure what you're trying to argue, but i'll try anyway. it seems like you're saying that the government should be able to decide who can and can't have children, but that's not really how it works. the government doesn't have the power to determine who can have children and who can't. the only thing the government can do is make sure that the people who want to have children are able to have them, and that the child is raised in), (Parent, Parental rights should be extended to children., i think the problem with this is that it creates a double standard. if a child is being raised by an abusive parent, then the child will grow up to be a bad parent. if the child is raised by a good parent, it will be raised in a way that makes it happy and healthy. if it is raised in an abusive way, then it will likely be raised poorly. i don't think it's fair to say that the lives and well-being of these children are worth more than the lives of the parents), (Well-being, Well-being of children is more important than the rights of parents., the right to have children is a basic human right, not a right to be able to have a child. the right to a child is a fundamental human right. it is the right of a child to be raised by a loving, caring, and well intentioned parent. there is no reason to deny a child the rights to a parent because they are poor. the only reason to deprive a child of those rights is because of the actions of the parents.)]  "
      ]
     },
     "execution_count": 17,
     "metadata": {},
     "output_type": "execute_result"
    }
   ],
   "source": [
    "test_df[test_df.post_counters.str.len() == 10][['title', 'post_counters']].head(n=10)"
   ]
  },
  {
   "cell_type": "markdown",
   "metadata": {},
   "source": [
    "#### Choose the best counter:"
   ]
  },
  {
   "cell_type": "code",
   "execution_count": 20,
   "metadata": {},
   "outputs": [
    {
     "name": "stderr",
     "output_type": "stream",
     "text": [
      "/usr/local/lib/python3.8/dist-packages/transformers/pipelines/base.py:996: UserWarning: You seem to be using the pipelines sequentially on GPU. In order to maximize efficiency please use a dataset\n",
      "  warnings.warn(\n"
     ]
    }
   ],
   "source": [
    "test_df = pd.read_pickle('../data/output/multi_conclusions_via_joint_model_withsampling_4beams.pkl')\n",
    "#Using our stance classifier\n",
    "test_df['best_counter'] = test_df.post_counters.apply(lambda post_item: get_best_counter(post_item))\n",
    "test_df.to_pickle('../data/output/multi_conclusions_via_joint_model_withsampling_4beams.pkl')"
   ]
  },
  {
   "cell_type": "code",
   "execution_count": 28,
   "metadata": {},
   "outputs": [
    {
     "name": "stderr",
     "output_type": "stream",
     "text": [
      "/usr/local/lib/python3.6/dist-packages/transformers/pipelines/base.py:998: UserWarning: You seem to be using the pipelines sequentially on GPU. In order to maximize efficiency please use a dataset\n",
      "  UserWarning,\n"
     ]
    }
   ],
   "source": [
    "test_df = pd.read_pickle('../data/output/multi_conclusions_via_joint_model_nosampling_4beams.pkl')\n",
    "#Using our stance classifier\n",
    "test_df['best_counter'] = test_df.post_counters.apply(lambda post_item: get_best_counter(post_item))\n",
    "test_df.to_pickle('../data/output/multi_conclusions_via_joint_model_nosampling_4beams.pkl')"
   ]
  },
  {
   "cell_type": "code",
   "execution_count": 21,
   "metadata": {},
   "outputs": [
    {
     "name": "stdout",
     "output_type": "stream",
     "text": [
      "done\n"
     ]
    }
   ],
   "source": [
    "print('done')"
   ]
  },
  {
   "cell_type": "markdown",
   "metadata": {},
   "source": [
    "-------"
   ]
  },
  {
   "cell_type": "markdown",
   "metadata": {},
   "source": [
    "#### Testing:"
   ]
  },
  {
   "cell_type": "code",
   "execution_count": 32,
   "metadata": {},
   "outputs": [],
   "source": [
    "test_df = pd.read_pickle('../data/output/multi_conclusions_via_joint_model_withsampling_4beams.pkl')"
   ]
  },
  {
   "cell_type": "code",
   "execution_count": 10,
   "metadata": {
    "scrolled": true,
    "tags": []
   },
   "outputs": [
    {
     "data": {
      "text/html": [
       "<div>\n",
       "<style scoped>\n",
       "    .dataframe tbody tr th:only-of-type {\n",
       "        vertical-align: middle;\n",
       "    }\n",
       "\n",
       "    .dataframe tbody tr th {\n",
       "        vertical-align: top;\n",
       "    }\n",
       "\n",
       "    .dataframe thead th {\n",
       "        text-align: right;\n",
       "    }\n",
       "</style>\n",
       "<table border=\"1\" class=\"dataframe\">\n",
       "  <thead>\n",
       "    <tr style=\"text-align: right;\">\n",
       "      <th></th>\n",
       "      <th>title</th>\n",
       "      <th>best_counter</th>\n",
       "    </tr>\n",
       "  </thead>\n",
       "  <tbody>\n",
       "    <tr>\n",
       "      <th>500025</th>\n",
       "      <td>I Don't Believe in the Big Bang</td>\n",
       "      <td>science is not the only source of truth. religion is. science is the only means by which we can know the truth. there is no other way to understand the universe other than through science.</td>\n",
       "    </tr>\n",
       "    <tr>\n",
       "      <th>534021</th>\n",
       "      <td>There is no reason for Britain to remain in the EU.</td>\n",
       "      <td>the eu is not a single entity, it is a collection of countries. britain is not an island nation, but it is part of the eu. it is not british, but is a member of the european union.</td>\n",
       "    </tr>\n",
       "    <tr>\n",
       "      <th>415645</th>\n",
       "      <td>The Trump Administration Would Be Significantly More Harmful to US Domestic and International Policy W/out Moderates Like Mattis</td>\n",
       "      <td>i think mattis has done a lot of good for the united states and the united nations, but i don't think he has done much good for americans or the world as a whole. he is not the most intelligent person in the world, and he doesn't have the best grasp of the world around him.</td>\n",
       "    </tr>\n",
       "    <tr>\n",
       "      <th>507298</th>\n",
       "      <td>Poisoning the well against fascists is a dishonest and therefore ineffective way of combating fascists</td>\n",
       "      <td>i don't think it's disingenuous to say that 'white supremacy' isn't a fascism ideology. it's a white supremacist ideology, but it doesn't mean that all white supremacists are white supremacists. it just means that they're white nationalists.</td>\n",
       "    </tr>\n",
       "    <tr>\n",
       "      <th>505763</th>\n",
       "      <td>Women have an easier time finding romantic partners than men</td>\n",
       "      <td>i don't think it's as easy as you make it out to be. it's not that women have a harder time finding romantic partners, it's that women are more selective about who they date. i don't know how to change your view, but it sounds like you're not happy with your situation.</td>\n",
       "    </tr>\n",
       "    <tr>\n",
       "      <th>432241</th>\n",
       "      <td>White people should not be berated for their past in colonialism, slavery, and genocide.</td>\n",
       "      <td>i think it's fair to say that white people are responsible for a lot of these things, but that doesn't mean that they are the only ones responsible for them. i don't think that it's reasonable to blame white people for everything that happened in america. it's not fair to blame black people for anything that happened to them.</td>\n",
       "    </tr>\n",
       "    <tr>\n",
       "      <th>439718</th>\n",
       "      <td>Free market Capitalism (Anarcho Capitalism, Laissez-Faire capitalism etc.) works the best, in opposition to Social-Democracy/Socialism, Communism.</td>\n",
       "      <td>the problem with the free market is that it doesn't work for all people. it's good for the rich, but it's bad for the poor, and it's not good for everyone. for example, it's great for the wealthy, but bad for poor people.</td>\n",
       "    </tr>\n",
       "    <tr>\n",
       "      <th>529099</th>\n",
       "      <td>Nuclear power in the current state is not a alternative to solar, water, wind and other renewable sources.</td>\n",
       "      <td>nuclear power is a very efficient way of generating power. it is cheaper than coal, oil, and other fossil fuels, and it is much safer than coal and oil.</td>\n",
       "    </tr>\n",
       "    <tr>\n",
       "      <th>531796</th>\n",
       "      <td>If Conflict theory is correct then White people and Asian people need to start fighting against diversity rhetoric</td>\n",
       "      <td>affirmative action is about equality, not about power. it is not about race. affirmative action isn't about power, it is about equal opportunity.</td>\n",
       "    </tr>\n",
       "    <tr>\n",
       "      <th>412902</th>\n",
       "      <td>It makes no sense (in secular occasions) to obsess over family themed holidays—such Thanksgiving and Christmas—when you have every other day of the year to be with family.</td>\n",
       "      <td>family oriented holidays aren't meaningless because if you truly love your family, you should be able to meet up and spend time with them whenever you get a chance. they're not meaningless because there is no such thing as a'meaningless' holiday.</td>\n",
       "    </tr>\n",
       "    <tr>\n",
       "      <th>431213</th>\n",
       "      <td>Adults should not be allowed to pose naked with children, even in the name of art.</td>\n",
       "      <td>there is nothing wrong with posing a child in a state of nudity, as long as the child does not pose in a way that is harmful to</td>\n",
       "    </tr>\n",
       "    <tr>\n",
       "      <th>430631</th>\n",
       "      <td>suicide is the ultimate human right</td>\n",
       "      <td>suicide is a symptom of depression. depression is a mental illness that can be treated with medication, but it is not the only mental illness. it can be treat with therapy, but that doesn't make it a good option for everyone.</td>\n",
       "    </tr>\n",
       "    <tr>\n",
       "      <th>493190</th>\n",
       "      <td>Enlightenment, if truly possible through meditation or psychedelic substances, would be useless at best and possibly detrimental</td>\n",
       "      <td>i don't think it's possible to know what it's like to have a jet engine, but i do think it is possible to understand how it works. i'm not saying it will be possible in the near future, but it's not impossible.</td>\n",
       "    </tr>\n",
       "    <tr>\n",
       "      <th>464357</th>\n",
       "      <td>high profile political “whistle blowers” are mostly conniving opportunists</td>\n",
       "      <td>i don't think it's wrong to call them out for what they are doing. it's not wrong to criticize their actions, but it's also wrong to accuse them of not doing what is right. if you're going to call someone out for doing something wrong, you're also going to have to call out the people who are doing it wrong.</td>\n",
       "    </tr>\n",
       "    <tr>\n",
       "      <th>463707</th>\n",
       "      <td>It's 100% fine to be homophobic/hating of people who are LGBT.</td>\n",
       "      <td>i don't think there's anything inherently wrong with being anti gay, but i think there is a difference between being anti homophobic and being anti anti gay. i'm not saying that you're wrong to be anti homophobic, i'm saying that it's not okay to be homophobic.</td>\n",
       "    </tr>\n",
       "    <tr>\n",
       "      <th>462454</th>\n",
       "      <td>Overtaxing prosperous business owners is detrimental to the wellbeing of society.</td>\n",
       "      <td>taxes are a means to an end. they are not the end. the goal is not to make money, but to make sure that the people who are paying the taxes are doing so in a way that is beneficial to society.</td>\n",
       "    </tr>\n",
       "    <tr>\n",
       "      <th>530580</th>\n",
       "      <td>Women should not be allowed in combat units in the police or the military</td>\n",
       "      <td>i don't think it's fair to say that men are more physically capable than women in combat. in fact, i think the opposite is</td>\n",
       "    </tr>\n",
       "    <tr>\n",
       "      <th>432729</th>\n",
       "      <td>The modern women's march is a directionless movement and to liken it to the suffragette movement is completely absurd</td>\n",
       "      <td>the modern women's march is a reaction to the current state of america. it's not just about women's rights, it's about equality for men and women.</td>\n",
       "    </tr>\n",
       "    <tr>\n",
       "      <th>521428</th>\n",
       "      <td>There should be an age cap that prevents politicians over 70 years old from holding public office.</td>\n",
       "      <td>the age of retirement should be lowered to 70. it would make it more difficult for younger people to get into politics, and it would also make it less likely for older people to hold on to values and beliefs from their younger years.</td>\n",
       "    </tr>\n",
       "    <tr>\n",
       "      <th>440305</th>\n",
       "      <td>This world is doomed and will slide towards the death of at least half humanity within this century.</td>\n",
       "      <td>capitalism doesn't cause mass extinction, it's the result of human nature. humans have been around since the beginning of time, and the only thing that has changed is the way we interact with each other.</td>\n",
       "    </tr>\n",
       "  </tbody>\n",
       "</table>\n",
       "</div>"
      ],
      "text/plain": [
       "                                                                                                                                                                               title  \\\n",
       "500025                                                                                                                                               I Don't Believe in the Big Bang   \n",
       "534021                                                                                                                           There is no reason for Britain to remain in the EU.   \n",
       "415645                                              The Trump Administration Would Be Significantly More Harmful to US Domestic and International Policy W/out Moderates Like Mattis   \n",
       "507298                                                                        Poisoning the well against fascists is a dishonest and therefore ineffective way of combating fascists   \n",
       "505763                                                                                                                  Women have an easier time finding romantic partners than men   \n",
       "432241                                                                                      White people should not be berated for their past in colonialism, slavery, and genocide.   \n",
       "439718                            Free market Capitalism (Anarcho Capitalism, Laissez-Faire capitalism etc.) works the best, in opposition to Social-Democracy/Socialism, Communism.   \n",
       "529099                                                                    Nuclear power in the current state is not a alternative to solar, water, wind and other renewable sources.   \n",
       "531796                                                            If Conflict theory is correct then White people and Asian people need to start fighting against diversity rhetoric   \n",
       "412902   It makes no sense (in secular occasions) to obsess over family themed holidays—such Thanksgiving and Christmas—when you have every other day of the year to be with family.   \n",
       "431213                                                                                            Adults should not be allowed to pose naked with children, even in the name of art.   \n",
       "430631                                                                                                                                           suicide is the ultimate human right   \n",
       "493190                                              Enlightenment, if truly possible through meditation or psychedelic substances, would be useless at best and possibly detrimental   \n",
       "464357                                                                                                    high profile political “whistle blowers” are mostly conniving opportunists   \n",
       "463707                                                                                                                It's 100% fine to be homophobic/hating of people who are LGBT.   \n",
       "462454                                                                                             Overtaxing prosperous business owners is detrimental to the wellbeing of society.   \n",
       "530580                                                                                                     Women should not be allowed in combat units in the police or the military   \n",
       "432729                                                         The modern women's march is a directionless movement and to liken it to the suffragette movement is completely absurd   \n",
       "521428                                                                            There should be an age cap that prevents politicians over 70 years old from holding public office.   \n",
       "440305                                                                          This world is doomed and will slide towards the death of at least half humanity within this century.   \n",
       "\n",
       "                                                                                                                                                                                                                                                                                                                                   best_counter  \n",
       "500025                                                                                                                                             science is not the only source of truth. religion is. science is the only means by which we can know the truth. there is no other way to understand the universe other than through science.  \n",
       "534021                                                                                                                                                     the eu is not a single entity, it is a collection of countries. britain is not an island nation, but it is part of the eu. it is not british, but is a member of the european union.  \n",
       "415645                                                       i think mattis has done a lot of good for the united states and the united nations, but i don't think he has done much good for americans or the world as a whole. he is not the most intelligent person in the world, and he doesn't have the best grasp of the world around him.  \n",
       "507298                                                                                        i don't think it's disingenuous to say that 'white supremacy' isn't a fascism ideology. it's a white supremacist ideology, but it doesn't mean that all white supremacists are white supremacists. it just means that they're white nationalists.  \n",
       "505763                                                            i don't think it's as easy as you make it out to be. it's not that women have a harder time finding romantic partners, it's that women are more selective about who they date. i don't know how to change your view, but it sounds like you're not happy with your situation.  \n",
       "432241  i think it's fair to say that white people are responsible for a lot of these things, but that doesn't mean that they are the only ones responsible for them. i don't think that it's reasonable to blame white people for everything that happened in america. it's not fair to blame black people for anything that happened to them.  \n",
       "439718                                                                                                            the problem with the free market is that it doesn't work for all people. it's good for the rich, but it's bad for the poor, and it's not good for everyone. for example, it's great for the wealthy, but bad for poor people.  \n",
       "529099                                                                                                                                                                                 nuclear power is a very efficient way of generating power. it is cheaper than coal, oil, and other fossil fuels, and it is much safer than coal and oil.  \n",
       "531796                                                                                                                                                                                        affirmative action is about equality, not about power. it is not about race. affirmative action isn't about power, it is about equal opportunity.  \n",
       "412902                                                                                   family oriented holidays aren't meaningless because if you truly love your family, you should be able to meet up and spend time with them whenever you get a chance. they're not meaningless because there is no such thing as a'meaningless' holiday.  \n",
       "431213                                                                                                                                                                                                          there is nothing wrong with posing a child in a state of nudity, as long as the child does not pose in a way that is harmful to  \n",
       "430631                                                                                                        suicide is a symptom of depression. depression is a mental illness that can be treated with medication, but it is not the only mental illness. it can be treat with therapy, but that doesn't make it a good option for everyone.  \n",
       "493190                                                                                                                       i don't think it's possible to know what it's like to have a jet engine, but i do think it is possible to understand how it works. i'm not saying it will be possible in the near future, but it's not impossible.  \n",
       "464357                     i don't think it's wrong to call them out for what they are doing. it's not wrong to criticize their actions, but it's also wrong to accuse them of not doing what is right. if you're going to call someone out for doing something wrong, you're also going to have to call out the people who are doing it wrong.  \n",
       "463707                                                                    i don't think there's anything inherently wrong with being anti gay, but i think there is a difference between being anti homophobic and being anti anti gay. i'm not saying that you're wrong to be anti homophobic, i'm saying that it's not okay to be homophobic.  \n",
       "462454                                                                                                                                         taxes are a means to an end. they are not the end. the goal is not to make money, but to make sure that the people who are paying the taxes are doing so in a way that is beneficial to society.  \n",
       "530580                                                                                                                                                                                                               i don't think it's fair to say that men are more physically capable than women in combat. in fact, i think the opposite is  \n",
       "432729                                                                                                                                                                                       the modern women's march is a reaction to the current state of america. it's not just about women's rights, it's about equality for men and women.  \n",
       "521428                                                                                                the age of retirement should be lowered to 70. it would make it more difficult for younger people to get into politics, and it would also make it less likely for older people to hold on to values and beliefs from their younger years.  \n",
       "440305                                                                                                                              capitalism doesn't cause mass extinction, it's the result of human nature. humans have been around since the beginning of time, and the only thing that has changed is the way we interact with each other.  "
      ]
     },
     "execution_count": 10,
     "metadata": {},
     "output_type": "execute_result"
    }
   ],
   "source": [
    "test_df[['title', 'best_counter']].head(n=20)"
   ]
  },
  {
   "cell_type": "code",
   "execution_count": 11,
   "metadata": {},
   "outputs": [],
   "source": [
    "post_item = test_df.post_counters.tolist()[1]"
   ]
  },
  {
   "cell_type": "code",
   "execution_count": 12,
   "metadata": {
    "scrolled": true,
    "tags": []
   },
   "outputs": [
    {
     "data": {
      "text/plain": [
       "[0.8689321130514145,\n",
       " 0.9768721659978231,\n",
       " 0.6022831439971924,\n",
       " 0.9013810157775879,\n",
       " 0.9613067805767059,\n",
       " 0.971846342086792,\n",
       " 0.8979455629984537,\n",
       " 0.955413031578064,\n",
       " 0.944834957520167,\n",
       " 0.907984983921051]"
      ]
     },
     "execution_count": 12,
     "metadata": {},
     "output_type": "execute_result"
    }
   ],
   "source": [
    "post_concepts, post_conclusions, post_counters = zip(*post_item)\n",
    "counters_coherence(post_conclusions, post_counters)"
   ]
  },
  {
   "cell_type": "code",
   "execution_count": 13,
   "metadata": {},
   "outputs": [
    {
     "data": {
      "text/plain": [
       "(\"the eu laws are not 'bad' because they are good, they are bad because the eu doesn't follow the rules of the world. the laws are good because they allow free movement of goods and people. they aren't bad because they don't respect the rights of other countries. they are stupid because they do not respect the wishes of the people.\",\n",
       " 'the eu is not a single entity, it is a collection of countries. britain is not an island nation, but it is part of the eu. it is not british, but is a member of the european union.',\n",
       " 'the eu is a trade bloc, not a federation of sovereign states. britain is an island nation, but is not a part of the eu. it is a trading bloc, but not a union of states. it does not have the same laws as the us, nor does it have the customs union with the us. the us is a member of the european union, but does not',\n",
       " \"the eu is not a single entity. it is a collection of many smaller countries, all of which have their own cultures, traditions, languages, customs, etc. that have come together to form the eu. it's not like britain is an island nation, but it is an independent country. it has its own laws, its own customs, it has it's own culture, and its own traditions. it doesn't have borders\",\n",
       " \"the eu is not a single entity. it is a collection of countries that share common interests and values. britain is an island nation, but it is not part of the eu. it has its own laws, its own customs, it has it's own customs and regulations, and it is an independent country.\",\n",
       " \"the eu isn't a trade bloc, it's a political union. the eu is not a trade union, it is an economic union. briton is an island nation, but that doesn't mean they don't have the right to trade with the rest of the eun.\",\n",
       " 'the eu is a very important trading partner for the british. the eu has made a lot of progress in the last few years, and it will continue to do so in the future. britain is an island nation, and i think it would be foolish to cut ties with the rest of the eun.',\n",
       " \"the eu is the single largest trading partner in the world. britain is an island nation, but the eu isn't an island. it's a trading bloc, but it's not an eu. the ukraine, canada, and australia are all trading partners with british, but they're not trading with each other. they're trading with the u. s. because they're all in the e\",\n",
       " \"the eu is not an island nation. britain is an island country. the eu isn't an island, nor is it an independent country. it is a trade bloc with the uk, france, and the u. s. but it is not a country. you can't say 'britain doesn't have borders that you can easily cross aside from the one in ireland.'that's not true.\",\n",
       " 'the eu is not a single entity. it is a collection of countries, many of which are independent of each other. britain is a member of the eu, but it is not part of the single currency. as such, it does not have the same rights as the other countries in the eeu. however, british citizens have the right to vote in the elections of the countries they are part of.')"
      ]
     },
     "execution_count": 13,
     "metadata": {},
     "output_type": "execute_result"
    }
   ],
   "source": [
    "post_counters"
   ]
  },
  {
   "cell_type": "code",
   "execution_count": 14,
   "metadata": {},
   "outputs": [
    {
     "data": {
      "text/plain": [
       "('European Union law is bad and Britain should leave.',\n",
       " 'Island country Britain should leave the European Union',\n",
       " 'Trade blocs are bad and Britain should leave the EU.',\n",
       " 'Britain should leave the EU',\n",
       " 'Britain should leave the EU',\n",
       " 'I think Britain should leave the EU.',\n",
       " 'I think Britain should leave the EU',\n",
       " 'Britain should leave the EU',\n",
       " 'Britain should leave the EU.',\n",
       " 'I think Britain should leave the EU.')"
      ]
     },
     "execution_count": 14,
     "metadata": {},
     "output_type": "execute_result"
    }
   ],
   "source": [
    "post_conclusions"
   ]
  },
  {
   "cell_type": "code",
   "execution_count": 15,
   "metadata": {},
   "outputs": [
    {
     "data": {
      "text/plain": [
       "('European Union law',\n",
       " 'Island country',\n",
       " 'Trade bloc',\n",
       " '',\n",
       " '',\n",
       " '',\n",
       " '',\n",
       " '',\n",
       " '',\n",
       " '')"
      ]
     },
     "execution_count": 15,
     "metadata": {},
     "output_type": "execute_result"
    }
   ],
   "source": [
    "post_concepts"
   ]
  },
  {
   "cell_type": "code",
   "execution_count": null,
   "metadata": {},
   "outputs": [],
   "source": []
  }
 ],
 "metadata": {
  "kernelspec": {
   "display_name": "Python 3",
   "language": "python",
   "name": "python3"
  },
  "language_info": {
   "codemirror_mode": {
    "name": "ipython",
    "version": 3
   },
   "file_extension": ".py",
   "mimetype": "text/x-python",
   "name": "python",
   "nbconvert_exporter": "python",
   "pygments_lexer": "ipython3",
   "version": "3.8.10"
  }
 },
 "nbformat": 4,
 "nbformat_minor": 4
}
