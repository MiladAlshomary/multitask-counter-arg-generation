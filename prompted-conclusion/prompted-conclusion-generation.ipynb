{
 "cells": [
  {
   "cell_type": "code",
   "execution_count": 2,
   "metadata": {},
   "outputs": [],
   "source": [
    "%load_ext autoreload"
   ]
  },
  {
   "cell_type": "code",
   "execution_count": 3,
   "metadata": {},
   "outputs": [],
   "source": [
    "import os\n",
    "import sys\n",
    "sys.path.append('../src-py/')\n",
    "os.environ[\"CUDA_VISIBLE_DEVICES\"]=\"0\""
   ]
  },
  {
   "cell_type": "code",
   "execution_count": 4,
   "metadata": {},
   "outputs": [],
   "source": [
    "import pandas as pd\n",
    "pd.set_option('display.max_colwidth', None)"
   ]
  },
  {
   "cell_type": "code",
   "execution_count": 5,
   "metadata": {},
   "outputs": [],
   "source": [
    "%autoreload\n",
    "import prompted_conclusion_utils as conc_utils"
   ]
  },
  {
   "cell_type": "code",
   "execution_count": 6,
   "metadata": {},
   "outputs": [],
   "source": [
    "valid_df = pd.read_pickle('../../../data-ceph/arguana/arg-generation/multi-taks-counter-argument-generation/reddit_data/conclusion_and_ca_generation/valid_conclusion_all_sample_with_targets_with_arglexrank_conclusions.pkl')"
   ]
  },
  {
   "cell_type": "markdown",
   "metadata": {},
   "source": [
    "#### Mining important concepts from posts (EXAMPLE):"
   ]
  },
  {
   "cell_type": "code",
   "execution_count": 6,
   "metadata": {},
   "outputs": [],
   "source": [
    "post = ['while i ve been pro choice for as long as i have been aware of the existence of abortion, i can somewhat sympathize with elements of the pro life mindset.',\n",
    " 'after all, if you truly believed that a fertilized egg is the same thing as a baby, then naturally you d regard abortion as child murder, and being angry hateful towards perceived murderers of children is pretty understandable.',\n",
    " 'under that mindset, taking political action to ensure as few abortions as possible is sensible and relatable.',\n",
    " 'where i lose that sympathy is in seeing the sum total of their political goals, related back to the idea that abortion is essentially child murder.',\n",
    " 'for example, expanded access to contraceptives and comprehensive sex education are both shown to reduce the rates of both unintended pregnancy and abortion.',\n",
    " 'if i truly believed that every abortion was a murdered baby, one could reasonably expect me to support pretty much any policy that would decrease the number of abortions, including these two.',\n",
    " 'yet most of the same people who equate abortion with murder also support policies that restrict sex education and access to contraceptives, which go against the fundamental idea of preventing abortions.',\n",
    " 'my belief is that pro lifers want fewer abortions only in the context of an overall socially conservative atmosphere, of which fewer abortions is just one small part.',\n",
    " 'i believe that this worldview is more concerned with not being the sort of society where on demand abortion is legal than it is with the actual abortions themselves.']"
   ]
  },
  {
   "cell_type": "code",
   "execution_count": 7,
   "metadata": {
    "scrolled": true,
    "tags": []
   },
   "outputs": [
    {
     "name": "stderr",
     "output_type": "stream",
     "text": [
      "TermWikifierClient: 100%|██████████| 71/71 [00:00<00:00, 139.72it/s]"
     ]
    }
   ],
   "source": [
    "post_nps = conc_utils.get_wiki_concepts([post])"
   ]
  },
  {
   "cell_type": "code",
   "execution_count": 9,
   "metadata": {},
   "outputs": [
    {
     "data": {
      "text/plain": [
       "[['Birth control', 'Social conservatism', 'Anti-abortion movement']]"
      ]
     },
     "execution_count": 9,
     "metadata": {},
     "output_type": "execute_result"
    },
    {
     "name": "stderr",
     "output_type": "stream",
     "text": [
      "TermWikifierClient: 100%|██████████| 71/71 [00:20<00:00, 132.04it/s]"
     ]
    }
   ],
   "source": [
    "post_nps"
   ]
  },
  {
   "cell_type": "markdown",
   "metadata": {},
   "source": [
    "#### Generate multiple conclusions (EXAMPLE):"
   ]
  },
  {
   "cell_type": "code",
   "execution_count": 15,
   "metadata": {},
   "outputs": [],
   "source": [
    "gen_kwargs = {\n",
    "    \"do_sample\": True, \n",
    "    \"max_length\":20,\n",
    "    \"top_p\":0.95, \n",
    "    \"num_beams\":1\n",
    "}"
   ]
  },
  {
   "cell_type": "code",
   "execution_count": 27,
   "metadata": {
    "scrolled": true,
    "tags": []
   },
   "outputs": [
    {
     "data": {
      "application/vnd.jupyter.widget-view+json": {
       "model_id": "e41bd3842a3f4b12a20d38bba7a4afc7",
       "version_major": 2,
       "version_minor": 0
      },
      "text/plain": [
       "  0%|          | 0/1 [00:00<?, ?ba/s]"
      ]
     },
     "metadata": {},
     "output_type": "display_data"
    },
    {
     "data": {
      "text/plain": [
       "['hop musicipH with someones rythms is generic and boring']"
      ]
     },
     "execution_count": 27,
     "metadata": {},
     "output_type": "execute_result"
    }
   ],
   "source": [
    "conc_utils.generate_prompted_conclusions([post],['It is'], gen_kwargs)"
   ]
  },
  {
   "cell_type": "code",
   "execution_count": 16,
   "metadata": {},
   "outputs": [],
   "source": [
    "post = ['i find most rap so incredibly mindnumbingly boring',\n",
    " \"it's mostly repetitive beats with some poetry rapped over it and maybe a sung chorus in it for good measure\",\n",
    " \"problem is that for the most part it just lacks any real sense of melody and the rythms are incredibly basic 4 4 beats that never change throughout the song and as such there really isn't anything interesting or earcatching to latch onto musically\",\n",
    " \"amp; x200b; i've heard some people say that rap is supposed to be about the lyrics and not the music, but that just begs the question why it couldn't be published as some poetry record or spoken word album if the music simply is just filler to get some poetry out there\",\n",
    " 'of course there are some exceptions to this, some rap artists have more interesting beats that actually have something going on musically, the flow changes depending on the mood that section of the song is trying to convey and sometimes they just use a real band for the actual music but this feels like a rarity for the genre in general',\n",
    " \"most of the lyrics also feel really basic and childish, even some of the more 'deeper' and well written lyrics that others recommend me just end up boiling down to the most baseline social critiques and an unhealthy obsession with penises in some tired and childish sexual metaphor\",\n",
    " \"amp; x200b; i've even heard people say that it's not about the music or the lyrics that's the point in some of these songs but that they try to get you pumped up and hype but i don't really find that kinda music very hype inducing, especially when it's just some simple beat that my dj friend could throw together in ten minutes that they just mumble or lazily yell over\",\n",
    " \"even the live shows are lame with the actual album track, vocals and all, being used as the backtrack while the rapper kinda half hardheartedly yells or mumbles and tries to get the crowd to be hyped, that's not hype, screaming into a guitar or bass mic on the fly to get a weird vocal effect is hype, screaming your lungs out to be heard over the band backtrack cause the mic broke is hype, having just the album track playing is not hype, it's lazy and it feels like people are just celebrating mediocrity\"]"
   ]
  },
  {
   "cell_type": "code",
   "execution_count": 17,
   "metadata": {},
   "outputs": [
    {
     "data": {
      "application/vnd.jupyter.widget-view+json": {
       "model_id": "fcfc448c7f214b3eba3bc89482b250cd",
       "version_major": 2,
       "version_minor": 0
      },
      "text/plain": [
       "  0%|          | 0/1 [00:00<?, ?ba/s]"
      ]
     },
     "metadata": {},
     "output_type": "display_data"
    },
    {
     "data": {
      "text/plain": [
       "['Hip hop music is a really boring, uninteresting music, and should not be crit']"
      ]
     },
     "execution_count": 17,
     "metadata": {},
     "output_type": "execute_result"
    }
   ],
   "source": [
    "conc_utils.generate_prompted_conclusions([post],['Hip hop music'], gen_kwargs)"
   ]
  },
  {
   "cell_type": "markdown",
   "metadata": {},
   "source": [
    "### Generate multiple conclusions for development dataset:"
   ]
  },
  {
   "cell_type": "code",
   "execution_count": 13,
   "metadata": {},
   "outputs": [],
   "source": [
    "#sample_df = valid_df[valid_df.post.str.len() < 50].sample(10)"
   ]
  },
  {
   "cell_type": "code",
   "execution_count": 13,
   "metadata": {
    "scrolled": true,
    "tags": []
   },
   "outputs": [],
   "source": [
    "gen_kwargs = {\n",
    "    \"do_sample\": True, \n",
    "    \"max_length\":20,\n",
    "    \"top_p\":0.95, \n",
    "    \"num_beams\":1\n",
    "}\n",
    "\n",
    "def generate_multiple_conclusions(df):\n",
    "    posts_conclusions = []\n",
    "    for i in range(6):\n",
    "        control_codes = [x[i] if len(x) > i else '' for x in df['post_concepts'].tolist()]\n",
    "        conclusions   = conc_utils.generate_prompted_conclusions(df['post'].tolist(), control_codes, gen_kwargs, batch_size=2)\n",
    "        posts_conclusions.append(zip(control_codes, conclusions))\n",
    "\n",
    "    df['post_conclusions'] = list(map(list, zip(*posts_conclusions))) # transpose\n",
    "    \n",
    "    return df"
   ]
  },
  {
   "cell_type": "code",
   "execution_count": null,
   "metadata": {},
   "outputs": [],
   "source": [
    "df['post_concepts'] = conc_utils.get_wiki_concepts(df['post'].tolist(), max_concepts=5)\n",
    "df = generate_multiple_conclusions(df)"
   ]
  },
  {
   "cell_type": "code",
   "execution_count": 53,
   "metadata": {
    "scrolled": true,
    "tags": []
   },
   "outputs": [
    {
     "data": {
      "text/html": [
       "<div>\n",
       "<style scoped>\n",
       "    .dataframe tbody tr th:only-of-type {\n",
       "        vertical-align: middle;\n",
       "    }\n",
       "\n",
       "    .dataframe tbody tr th {\n",
       "        vertical-align: top;\n",
       "    }\n",
       "\n",
       "    .dataframe thead th {\n",
       "        text-align: right;\n",
       "    }\n",
       "</style>\n",
       "<table border=\"1\" class=\"dataframe\">\n",
       "  <thead>\n",
       "    <tr style=\"text-align: right;\">\n",
       "      <th></th>\n",
       "      <th>title</th>\n",
       "      <th>post</th>\n",
       "      <th>post_concepts</th>\n",
       "      <th>post_conclusions</th>\n",
       "    </tr>\n",
       "  </thead>\n",
       "  <tbody>\n",
       "    <tr>\n",
       "      <th>365212</th>\n",
       "      <td>It is understandable that people put their religious rules above the law.</td>\n",
       "      <td>[it is understandable that people put their religious rules above the law., when looking to christianity, people have only got this lifetime to live by their god's rules and after which their faith will be decided., a christian wants to live by god's rules and an islam wants to live by the rules created by allah because they believe their rules are the right one and that nobody can create rules better than them because he knows god allah what's best., if the christians and islams don't live by their god's rules they can be forgiven., but you can't really say: 'meh, i won't do this, i'll be forgiven anyway'., even when you are forced not to live by god's rules, as a believer in god, you know that god's rules are better and therefore you follow them.]</td>\n",
       "      <td>[]</td>\n",
       "      <td>[(, A religion should not give a voice to religion if their beliefs go against the law), (, you shouldn't have to live by a god's rules), (, it's understandable that people put their religious rules above the law.), (, I believe people should be free to choose the religion they choose), (, i generis and the other religion and then are for good reason.), (, You have to live by god's rules (or your faith).)]</td>\n",
       "    </tr>\n",
       "    <tr>\n",
       "      <th>364114</th>\n",
       "      <td>the world will enter an era of practically eternal oppression</td>\n",
       "      <td>[people who are motivated to help others tend to enter fields where they can help others such as medicine., people who are sociopathic and selfish tend to enter fields where they can gain power such as politics and business., unethical and evil tactics such as blackmail, lying, and killing give massive advantages towards rising to the top and gaining power., therefore, sociopathic and evil people tend to rise to positions of power as genuinely good people are not capable of competing., in the past, dictatorships have been overturned through revolutions, wars, and the death of leaders., most people are inherently followers so in order to start a revolution there must be a leader figure., it also takes planning to start a revolution., with modern day technology, the government can spy on people through cell phones and computers., facial recognition technology combined with gps on cell phones can ensure that they have information on the whereabouts of everyone at any time., for that reason, it is impossible for a leader figure to incite a revolution because the leader figure will be silenced before they can do anything., but what if a revolution does get going?, if it does, it has no hope of succeeding against an authoritatian government in the future., automated drones, tanks, and missiles already exist., the direction we are headed in is automated warfare., the government need only have control of an army of automated weapons to completely destroy any sort of civilian uprising., in the past, there was a possibility of the police and military also turning on the government., that possibility will not exist once the military is comprised mainly of machines., but what about the natural death of dictators?, given enough time someone better should come along and change things?, in the future, it is entirely possible that near immortality will be achievable through better medicine and genetic ing., leaders will stay in power for very long periods of time.]</td>\n",
       "      <td>[Mobile phone, Manner of death, Facial recognition system]</td>\n",
       "      <td>[(Mobile phone, Mobile phone in the classroom would drastically improve the ability of leadership figures to cause a revolution.), (Manner of death, Manner of death and medicine is the ultimate cause of humanity), (Facial recognition system, Facial recognition system's advancement in technology will lead to practically never a revolution.), (, i Ammoral people are the gatekeepers to our society), (, i think that people will rise to the top by killing, manipulating, and), (, people will continue to remain in power (long after they die).)]</td>\n",
       "    </tr>\n",
       "    <tr>\n",
       "      <th>351525</th>\n",
       "      <td>political correctness has gone too far, and become dangerous.</td>\n",
       "      <td>[i think when when people hear this they get caught up in the weeds and think people are complaining about having to be too nice to minorities., but i think that we have gotten to the point where it s unacceptable to have or discuss ideas that might be problematic when taken to their logical extreme., for example a lot of people will dismiss every opinion you have as sexist if you say out loud that there are inherent biological differences between men and women although of course there are always numerous individual exceptions ., but we know from people on hormone replacement therapy that their feeling and motivations can change., why is it wrong to ask if these differences might be partially responsible for some of the quantifiable differences between men and women as groups?, even here, i have to be very deliberate about my choice of words because i know there are people who won t give me the benefit of the doubt., it s almost like thought stopping which is a technique cults rely on., we are at the point where it s hard to even think about sensitive issues much less debate them.]</td>\n",
       "      <td>[Hormone replacement therapy, Logical extreme]</td>\n",
       "      <td>[(Hormone replacement therapy, Hormone replacement therapy has replaced a more nuanced and rational discussion of sexism and racism.), (Logical extreme, Logical extreme views should be allowed but not banned), (, i think that the recent culture has gone too far), (, i think the tendency to dismiss arguments based on overly political issues has been completely overblown.), (, i think the recent trend of \"slimming voices\" has gone to the point where), (, i think that the use of \"no one can argue\" has gone too far)]</td>\n",
       "    </tr>\n",
       "    <tr>\n",
       "      <th>385227</th>\n",
       "      <td>Garbage-men are heroes.</td>\n",
       "      <td>[it has recently come to my attention that nobody respects trash collectors as much as most children do., lots of children love garbage men., some children idolize trash collectors, and even aspire to be them., however, something happens as we grow up., for the most part, trash collectors lose their magic., we no longer support them like children do., why is this?, trash collectors are still heroes., they deal with our waste; they are a pivotal part of society., they are essentially dealing with all the things we deem useless, and have no problem taking these things away from us., this often leads to them taking many things we would deem disgusting., some although, i understand it's probably not most trash collectors even go through our disgusting trash and take out our recyclables for us., while that practice probably isn't a majority yet, it's still highlighting a potential that trash collectors have., it takes a very special type of person to be a garbage man; they have to be able to deal with our sometimes disgusting waste., they are heroes., given the definition of heroes: 'a person who is admired or idealized for courage, outstanding achievements, or noble qualities. ', trash collectors provide and service us with outstanding and pivotal achievements, as part of their jobs., their noble qualities and courage comes with their ability to deal with our waste., the only reason why they don't fit the definition of heroes per se is because they are not typically admired by or idealized for the heroic qualities they possess., however, i argue that our collective perceptions of garbage men are flawed, as they are in fact deserving of being called heroes.]</td>\n",
       "      <td>[Waste collector, Very special episode, No problem]</td>\n",
       "      <td>[(Waste collector, Waste collector as much as children. They are in fact deserving of being called a hero), (Very special episode, Very special episode of trash collectors being idolized as children or adults are actually deserving of the), (No problem, No problem, trash collectors are heroes! (not children)), (, i think the fact that we idolize trash collectors as much as our children is wrong that), (, People view trash collectors as heroes, and are in fact not only not heroes, but), (, I believe that trash collector are heroes and deserve to be regarded as if they had the same)]</td>\n",
       "    </tr>\n",
       "    <tr>\n",
       "      <th>327900</th>\n",
       "      <td>: I believe that responding to hatred (racism, intolerance or bullying) with hatred, is a perfectly acceptable and effective reaction.</td>\n",
       "      <td>[i believe that when met with hatred of any kind, it is perfectly understandable and even effective to respond in kind., my view is that human kind will always have conflict, this conflict can take many forms and it isn't always justified, but when met with an aggressor of any kind, it is in our nature and in the nature of all living things to fight, so if someone is attacking you, verbally or physically, on the grounds of your race, religion or really for any reason, you are justified in responding in kind., though turning the other cheek can be respectable, i do not believe it is an effective long term solution and only leads others to believe you can be victimized further., eye for an eye basically.]</td>\n",
       "      <td>[Turning the other cheek]</td>\n",
       "      <td>[(Turning the other cheek, Turning the other cheek in you in a violent way is an valid response), (, i believe it is perfectly reasonable and effective to respond in-kind when attacked), (, i believe in respond to receiving hatred of any kind, even if that doesnt any more), (, i believe it is perfectly acceptable to respond with violence in the face of violence), (, i believe it is perfectly okay to respond in kind to being attacked by any kind), (, i believe it's perfectly okay to respond in kind, even if that means insulting other people)]</td>\n",
       "    </tr>\n",
       "    <tr>\n",
       "      <th>312123</th>\n",
       "      <td>Millennials are justified in killing the industries we don't find value in.</td>\n",
       "      <td>[for a couple years, article after article have come out crying millennials are killing x!, chiefly it's the mass produced beer, middle priced chain restaurant, and diamond industries., i only have a few points surrounding these things, and what i'm looking for is for someone to convince me i'm wrong either on moral ethical grounds or from a standpoint of harm vs benefit, on any one or all of my points., 1., we have, as a group, determined that these things either aren't of the quality we require, and have gone toward craft beer and local food sources, or in the case of valuable gemstones that no amount of craftsmanship or quality can warrant the ridiculous prices you'd pay for a piece of earth that has no function., all these things are smart and sustainable spending trends., 2., this is capitalism working as intended., and i like to think that when we see these headlines painting us as the bad guys, we remember the bailouts from a decade ago and are proud to be the ones with enough guts to let failing industries die., we are strawmanned as the harbingers of socialism, but in this we are far less socialist than the previous generations., 3., it shows a pattern that will carry over into our politics for decades to come., we are not beholden to big product., we realize that virtually the same amount of goods and services will be exchanged no matter who gets our money, so the economy will remain strong in the long run., and since we have begun to favor quality over branding, we are insuring that, after some growing pains and death knells, these trends will actually be beneficial., i think it's plausible to suggest that this mindset will carry into policies that have traditionally been extra friendly to our nation's largest sellers and employers, and sacrifice that in favor of being friendlier to small to middle sized businesses., so again, you may want to dispute one or all of my points, or just a facet of them., my position is i think all these things are beneficial, and i am proud of them., that's my thesis if you want a broader point to refute., very sorry, seems as though my reddit machine is busted for the night., i will do my absolute best to get back to you all in the morning when i can get to a proper computer., i don't want to neglect these conversations, and i appreciate the effort you've put into them.]</td>\n",
       "      <td>[Gastrointestinal tract, Mass production, Craft brewery and microbrewery, Industry (economics), Local food]</td>\n",
       "      <td>[(Gastrointestinal tract, Gastrointestinal tracthes, glass ceiling, plastic straws and big game packaging are), (Mass production, Mass production and sales are not synonymous bad things.), (Craft brewery and microbrewery, Craft brewery and microbrewery killings are not something to be feared by generations.), (Industry (economics), Industry (economics) is inherently harmful, and we are beginning to do it now), (Local food, Local food trends and clothing trends are holding humanity back), (, Millennials are acting in the best interest of society)]</td>\n",
       "    </tr>\n",
       "    <tr>\n",
       "      <th>345521</th>\n",
       "      <td>Donald Trump, so far, has performed well as a president</td>\n",
       "      <td>[so i m not a republican or avid trump supporter, i m not even from the united states, i m just hoping someone far more informed on us politics can justify the constant negative press directed towards him through mainstream media bar various right wing outlets i. e fox news ., i think he has done a fantastic job with the situation in korea, despite his rather bullish approach, it seems to have worked better than any attempt obama made who, during his presidency, declared that they were the greatest threat facing them at the time ., i understand he has made concessions, but to assume peace could be brokered with no ground being lost would be foolish., the south korean president has lauded trump for his efforts, yet i ve still seen very little positive press for him on this issue., the issue of morality has been raised, yet mr obama s hundred billion dollar arms deals with saudi arabia went mostly uncriticised., his economic policies are very positive., unemployment is falling, the dollar is very strong, american manufacturing is being revitalised, taxes have been cut leading to greater consumer spending., the tariffs being imposed upon the eu i feel are absolutely justified., american products are imposed with heavy tariffs, whether it s electrical appliances, vehicles or confectionary, yet we could export to the us with minimal or no tariffs imposed upon us., surely the revision of such one sided deals is justified?, the us has covered financially for many european nations for many years, whether it be nato defence spending or unbalanced trade deals., he has weakened another global threat in isis to the point where they find themselves in existential limbo., this was another issue mr obama and secretary of state clinton failed to tackle comprehensively, though i feel the air strikes on syria used so far in the trump presidency have been unjustified., i can also understand the criticism regarding his approach when it comes to both domestic and foreign policy., tweeting about how much of a loser your opponent is, or how everyone who does criticise you is a washed up liar, coming from a president, is rather abnormal., despite this, it seems the media are more concerned about whether he slept with a porn star 10 years ago or if the russians made extra twitter accounts to prop him up., it seems fashionable to despise him, and abhorrent to support him., robert deniro, rather embarrassingly, shouted f trump at an awards show, for which he was given a standing ovation and labelled brave ., had mr deniro shouted f obama during his presidency, would he be attributed the same traits of nobility and courage?, or would he be painted as an old, bigoted, racist white supremacist?, almost how trump is often portrayed., as i said, these are simply the views i ve gathered personally, but i hope to learn about the issues his presidency has either created or exacerbated.]</td>\n",
       "      <td>[Politics of the United States, Presidency of Donald Trump, Pornographic film actor, Home appliance, Economic policy]</td>\n",
       "      <td>[(Politics of the United States, Politics of the United States has been a very positive success.), (Presidency of Donald Trump, Presidency of Donald Trump seems to be on a par with a good side of history with), (Pornographic film actor, Pornographic film actor / / r/obama has done a fantastic job as president), (Home appliance, Home appliance, i dont care if anyone hates trump.), (Economic policy, Economic policy is fine for america president, and reddit and reddit are simply giving him much), (, Donald Trump has been doing a good job as president)]</td>\n",
       "    </tr>\n",
       "    <tr>\n",
       "      <th>308068</th>\n",
       "      <td>History is not a science</td>\n",
       "      <td>[okay, so i have a problem understanding why history is called a science., in my opinion, it isn't., let's start with the definition of science the only one consistent with what we generally consider a science imho : 'science is any activity aimed at understanding the general principles i. e. laws of nature of the world around us. ', history does not fit this definition for several reasons: 1 i've often heard the claim that history uses logic and evidence to find out what happened in humanity's past., while that's true, that isn't sufficient to make something a science., just an example: i've often heard people describing the controversy around jesus's existence a 'scientific question'., which it isn't., whether jesus actually existed is just about whether a concrete person existed at a concrete time in history., that in and of itself doesn't tell us how the universe operates., it might be of use to us in leading us closer to the truth about that, but in and of itself isn't about how the universe operates ., think about a detective's job: his job is to solve a concrete case e. g. whether x committed a crime , and he uses logic and evidence to arrive at a conclusion about the case., yet nobody would dare call a detective's job a science., he is a detective, plain and simple., similarly, historians trying to solve concrete historical cases are just that detectives, but not scientists., 2 when it comes to discovering the guiding principles of history one that could actually be called science , historians are pretty bad., as far as i am aware, no historical 'laws' have ever been rigorously established to exist by historians., why?, mainly because history cannot be replicated in a lab experiment which could weed out the many zillions of factors playing into historical events and human history in general., 3 also, historical hypotheses whether they be concrete or more general can never be falsified and yet, historians are still drawn to giving an explanation for everything that happened., i've rarely seen a historical textbook openly admitting: 'this and this happened., exactly why it happened lies outside of our understanding '., in reality, history is very much unpredictable., on the eve of ww1, who knew what would ensue?, no one., that's because most historical events cannot be predicted and are often the result of pure randomness what trader and philosopher nassim taleb calls a black swan ., historians severely underestimate the role of luck in history., why?, because if they admitted they know very little about the invisible hand of history, what would they possibly fill all those history textbooks with?]</td>\n",
       "      <td>[Black swan, Human history, Invisible hand, Indefinite and fictitious numbers]</td>\n",
       "      <td>[(Black swan, Black swan event does not make History a science), (Human history, Human history is not a science, it's just a thought experiment), (Invisible hand, Invisible hand (history/history) cannot be called a science), (Indefinite and fictitious numbers, Indefinite and fictitious numbers of events in human history are not science.), (, I believe that history is a science, but not a science.), (, History isn't a science. please read before you judge the record)]</td>\n",
       "    </tr>\n",
       "    <tr>\n",
       "      <th>363897</th>\n",
       "      <td>Some art, music, movies, etc. are objectively better than others</td>\n",
       "      <td>[terms to define: masterful created skillfully, utilizing a mastery of a given art form, accomplishing the intentions of the artist untrained created with some skill, without a mastery of a given art form if i look at two works of art, i might be inclined to like one more than another., however, a friend might like the other more than the first., a large portion of the time, this can be chalked up to personal preference., maybe i prefer neo classical sculptures to abstract paintings., my preference is informed by many things: my upbringing, past experiences, culture, nature nurture stuff, etc., my friend has had a different life than i have, and prefers different things as a result., this is good and fine., however, there is a such thing as masterful art and untrained or purposeless art., as someone who really enjoys films, i believe some movies are better than others at an objective level., right now, i m working on a film and i promise it s not as masterful as 2001: a space odyssey., my movie is worse than 2001., a lot of things are like apples and oranges, and are difficult or impossible to compare, or are at a similar enough level of mastery that comparison becomes completely subjective., i can t say that the statue of david is better or worse than the mona lisa because they are so different., comparing things can be difficult., there are many different reasons one thing may be considered better than another, but there are some things that should not be factored in to a value judgement., if something made cost more to produce, that doesn t mean it s better., if it made more money, that doesn t mean it s better., it is also possible for someone to subjectively prefer an objectively worse thing to an objectively good thing., 2001: a space odyssey isn t everyone s cup of tea, but it is more masterful than some student film i made., my family might prefer my films because i made them and because they didn t understand 2001., the purpose of having art schools is to train people to make objectively better art., art teachers teach students the rules of composition, color, movement, and pattern so students can make their art more meaningful and bring their imagination to fruition better., mastery allows for artists to accomplish their intentions for a piece., a child might make a painting that happens to look like some abstract artist s magnum opus, but it wasn t conveying a message, and it wasn t as intentional as the artist s., when talking about the quality of an art piece, a lot of the conversation will be subjective., i am merely arguing that there is an objective layer to the value of something, and it s not 100 subjective.]</td>\n",
       "      <td>[Abstract art, Mona Lisa, Art school, Visual arts education, 2001: A Space Odyssey]</td>\n",
       "      <td>[(Abstract art, Abstract art is better than the other, and should always be valued above education), (Mona Lisa, Mona Lisa may be superior to 2001: A space odyssey.), (Art school, Art school system creates a lot of unjustifiable subjective preference), (Visual arts education, Visual arts education is pointless compared to art in general), (2001: A Space Odyssey, 2001: A Space Odyssey is NOT \"better\" than some of 2001; there is no), (, a masterful piece of art is a skill in the art form, and)]</td>\n",
       "    </tr>\n",
       "    <tr>\n",
       "      <th>339917</th>\n",
       "      <td>Antifa and their tactics, in certain situations, can be a necessary evil.</td>\n",
       "      <td>[before i get into my view, i'd like to say that i am not in favor of violence, no matter what political affiliation you have., that being said, i am pro confrontation., i believe that if enough people make their voices heard and stand up, you can accomplish great things., and given the rise of hate speech in recent years, this is especially important., there are many things i'd condemn antifa for direct violence, damage to private property and attacks on peaceful demonstrators and police., however, antifa is anything but non confrontational., they have proven though the use of confrontational protest like at charlottesvile, berkeley, and curtis m. phillips center for the performing arts that if enough people show that they are against hate speech, the hate speakers will eventually back down.]</td>\n",
       "      <td>[Political party, Human voice, Performing arts, Private property, Hate speech]</td>\n",
       "      <td>[(Political party, Political party Antifa is just an anti-fascist movement, and can accomplish great things.), (Human voice, Human voice, voice, and knowledge are all important to the development of violent organized rallies and), (Performing arts, Performing arts in the case of antifa is a just cause.), (Private property, Private property, even with a very small degree of social support, can be used to show), (Hate speech, Hate speech is a fundamental human right, and any form of nonviolent protest is an inherently), (, Antifa is a force for good (long-term) and a viable alternative)]</td>\n",
       "    </tr>\n",
       "  </tbody>\n",
       "</table>\n",
       "</div>"
      ],
      "text/plain": [
       "                                                                                                                                          title  \\\n",
       "365212                                                                It is understandable that people put their religious rules above the law.   \n",
       "364114                                                                            the world will enter an era of practically eternal oppression   \n",
       "351525                                                                            political correctness has gone too far, and become dangerous.   \n",
       "385227                                                                                                                  Garbage-men are heroes.   \n",
       "327900   : I believe that responding to hatred (racism, intolerance or bullying) with hatred, is a perfectly acceptable and effective reaction.   \n",
       "312123                                                              Millennials are justified in killing the industries we don't find value in.   \n",
       "345521                                                                                  Donald Trump, so far, has performed well as a president   \n",
       "308068                                                                                                                 History is not a science   \n",
       "363897                                                                         Some art, music, movies, etc. are objectively better than others   \n",
       "339917                                                                Antifa and their tactics, in certain situations, can be a necessary evil.   \n",
       "\n",
       "                                                                                                                                                                                                                                                                                                                                                                                                                                                                                                                                                                                                                                                                                                                                                                                                                                                                                                                                                                                                                                                                                                                                                                                                                                                                                                                                                                                                                                                                                                                                                                                                                                                                                                                                                                                                                                                                                                                                                                                                                                                                                                                                                                                                                                                                                                                                                                                                                                                                                                                                                                                                                                                                                                                                                                                                                                                                                                                                                                                                                            post  \\\n",
       "365212                                                                                                                                                                                                                                                                                                                                                                                                                                                                                                                                                                                                                                                                                                                                                                                                                                                                                                                                                                                                                                                                                                                                                                                                                                                                                                                                                                                                                                                                                                                                                                                                                                                                                                                                                                                                                                                                                                                                                                                                                                                                                                                                                                                                                                   [it is understandable that people put their religious rules above the law., when looking to christianity, people have only got this lifetime to live by their god's rules and after which their faith will be decided., a christian wants to live by god's rules and an islam wants to live by the rules created by allah because they believe their rules are the right one and that nobody can create rules better than them because he knows god allah what's best., if the christians and islams don't live by their god's rules they can be forgiven., but you can't really say: 'meh, i won't do this, i'll be forgiven anyway'., even when you are forced not to live by god's rules, as a believer in god, you know that god's rules are better and therefore you follow them.]   \n",
       "364114                                                                                                                                                                                                                                                                                                                                                                                                                                                                                                                                                                                                                                                                                                                                                                                                                                                                                                                                                           [people who are motivated to help others tend to enter fields where they can help others such as medicine., people who are sociopathic and selfish tend to enter fields where they can gain power such as politics and business., unethical and evil tactics such as blackmail, lying, and killing give massive advantages towards rising to the top and gaining power., therefore, sociopathic and evil people tend to rise to positions of power as genuinely good people are not capable of competing., in the past, dictatorships have been overturned through revolutions, wars, and the death of leaders., most people are inherently followers so in order to start a revolution there must be a leader figure., it also takes planning to start a revolution., with modern day technology, the government can spy on people through cell phones and computers., facial recognition technology combined with gps on cell phones can ensure that they have information on the whereabouts of everyone at any time., for that reason, it is impossible for a leader figure to incite a revolution because the leader figure will be silenced before they can do anything., but what if a revolution does get going?, if it does, it has no hope of succeeding against an authoritatian government in the future., automated drones, tanks, and missiles already exist., the direction we are headed in is automated warfare., the government need only have control of an army of automated weapons to completely destroy any sort of civilian uprising., in the past, there was a possibility of the police and military also turning on the government., that possibility will not exist once the military is comprised mainly of machines., but what about the natural death of dictators?, given enough time someone better should come along and change things?, in the future, it is entirely possible that near immortality will be achievable through better medicine and genetic ing., leaders will stay in power for very long periods of time.]   \n",
       "351525                                                                                                                                                                                                                                                                                                                                                                                                                                                                                                                                                                                                                                                                                                                                                                                                                                                                                                                                                                                                                                                                                                                                                                                                                                                                                                                                                                                                                                                                                                                                                                                                                                                                                                                                                                                                                                                                                [i think when when people hear this they get caught up in the weeds and think people are complaining about having to be too nice to minorities., but i think that we have gotten to the point where it s unacceptable to have or discuss ideas that might be problematic when taken to their logical extreme., for example a lot of people will dismiss every opinion you have as sexist if you say out loud that there are inherent biological differences between men and women although of course there are always numerous individual exceptions ., but we know from people on hormone replacement therapy that their feeling and motivations can change., why is it wrong to ask if these differences might be partially responsible for some of the quantifiable differences between men and women as groups?, even here, i have to be very deliberate about my choice of words because i know there are people who won t give me the benefit of the doubt., it s almost like thought stopping which is a technique cults rely on., we are at the point where it s hard to even think about sensitive issues much less debate them.]   \n",
       "385227                                                                                                                                                                                                                                                                                                                                                                                                                                                                                                                                                                                                                                                                                                                                                                                                                                                                                                                                                                                                                                                                                                                                                                                                                                                                         [it has recently come to my attention that nobody respects trash collectors as much as most children do., lots of children love garbage men., some children idolize trash collectors, and even aspire to be them., however, something happens as we grow up., for the most part, trash collectors lose their magic., we no longer support them like children do., why is this?, trash collectors are still heroes., they deal with our waste; they are a pivotal part of society., they are essentially dealing with all the things we deem useless, and have no problem taking these things away from us., this often leads to them taking many things we would deem disgusting., some although, i understand it's probably not most trash collectors even go through our disgusting trash and take out our recyclables for us., while that practice probably isn't a majority yet, it's still highlighting a potential that trash collectors have., it takes a very special type of person to be a garbage man; they have to be able to deal with our sometimes disgusting waste., they are heroes., given the definition of heroes: 'a person who is admired or idealized for courage, outstanding achievements, or noble qualities. ', trash collectors provide and service us with outstanding and pivotal achievements, as part of their jobs., their noble qualities and courage comes with their ability to deal with our waste., the only reason why they don't fit the definition of heroes per se is because they are not typically admired by or idealized for the heroic qualities they possess., however, i argue that our collective perceptions of garbage men are flawed, as they are in fact deserving of being called heroes.]   \n",
       "327900                                                                                                                                                                                                                                                                                                                                                                                                                                                                                                                                                                                                                                                                                                                                                                                                                                                                                                                                                                                                                                                                                                                                                                                                                                                                                                                                                                                                                                                                                                                                                                                                                                                                                                                                                                                                                                                                                                                                                                                                                                                                                                                                                                                                                                                                                  [i believe that when met with hatred of any kind, it is perfectly understandable and even effective to respond in kind., my view is that human kind will always have conflict, this conflict can take many forms and it isn't always justified, but when met with an aggressor of any kind, it is in our nature and in the nature of all living things to fight, so if someone is attacking you, verbally or physically, on the grounds of your race, religion or really for any reason, you are justified in responding in kind., though turning the other cheek can be respectable, i do not believe it is an effective long term solution and only leads others to believe you can be victimized further., eye for an eye basically.]   \n",
       "312123                                                                                                                                                                                                                                                                                                                                                                                                                                                                                                                                                                         [for a couple years, article after article have come out crying millennials are killing x!, chiefly it's the mass produced beer, middle priced chain restaurant, and diamond industries., i only have a few points surrounding these things, and what i'm looking for is for someone to convince me i'm wrong either on moral ethical grounds or from a standpoint of harm vs benefit, on any one or all of my points., 1., we have, as a group, determined that these things either aren't of the quality we require, and have gone toward craft beer and local food sources, or in the case of valuable gemstones that no amount of craftsmanship or quality can warrant the ridiculous prices you'd pay for a piece of earth that has no function., all these things are smart and sustainable spending trends., 2., this is capitalism working as intended., and i like to think that when we see these headlines painting us as the bad guys, we remember the bailouts from a decade ago and are proud to be the ones with enough guts to let failing industries die., we are strawmanned as the harbingers of socialism, but in this we are far less socialist than the previous generations., 3., it shows a pattern that will carry over into our politics for decades to come., we are not beholden to big product., we realize that virtually the same amount of goods and services will be exchanged no matter who gets our money, so the economy will remain strong in the long run., and since we have begun to favor quality over branding, we are insuring that, after some growing pains and death knells, these trends will actually be beneficial., i think it's plausible to suggest that this mindset will carry into policies that have traditionally been extra friendly to our nation's largest sellers and employers, and sacrifice that in favor of being friendlier to small to middle sized businesses., so again, you may want to dispute one or all of my points, or just a facet of them., my position is i think all these things are beneficial, and i am proud of them., that's my thesis if you want a broader point to refute., very sorry, seems as though my reddit machine is busted for the night., i will do my absolute best to get back to you all in the morning when i can get to a proper computer., i don't want to neglect these conversations, and i appreciate the effort you've put into them.]   \n",
       "345521  [so i m not a republican or avid trump supporter, i m not even from the united states, i m just hoping someone far more informed on us politics can justify the constant negative press directed towards him through mainstream media bar various right wing outlets i. e fox news ., i think he has done a fantastic job with the situation in korea, despite his rather bullish approach, it seems to have worked better than any attempt obama made who, during his presidency, declared that they were the greatest threat facing them at the time ., i understand he has made concessions, but to assume peace could be brokered with no ground being lost would be foolish., the south korean president has lauded trump for his efforts, yet i ve still seen very little positive press for him on this issue., the issue of morality has been raised, yet mr obama s hundred billion dollar arms deals with saudi arabia went mostly uncriticised., his economic policies are very positive., unemployment is falling, the dollar is very strong, american manufacturing is being revitalised, taxes have been cut leading to greater consumer spending., the tariffs being imposed upon the eu i feel are absolutely justified., american products are imposed with heavy tariffs, whether it s electrical appliances, vehicles or confectionary, yet we could export to the us with minimal or no tariffs imposed upon us., surely the revision of such one sided deals is justified?, the us has covered financially for many european nations for many years, whether it be nato defence spending or unbalanced trade deals., he has weakened another global threat in isis to the point where they find themselves in existential limbo., this was another issue mr obama and secretary of state clinton failed to tackle comprehensively, though i feel the air strikes on syria used so far in the trump presidency have been unjustified., i can also understand the criticism regarding his approach when it comes to both domestic and foreign policy., tweeting about how much of a loser your opponent is, or how everyone who does criticise you is a washed up liar, coming from a president, is rather abnormal., despite this, it seems the media are more concerned about whether he slept with a porn star 10 years ago or if the russians made extra twitter accounts to prop him up., it seems fashionable to despise him, and abhorrent to support him., robert deniro, rather embarrassingly, shouted f trump at an awards show, for which he was given a standing ovation and labelled brave ., had mr deniro shouted f obama during his presidency, would he be attributed the same traits of nobility and courage?, or would he be painted as an old, bigoted, racist white supremacist?, almost how trump is often portrayed., as i said, these are simply the views i ve gathered personally, but i hope to learn about the issues his presidency has either created or exacerbated.]   \n",
       "308068                                                                                                                                                                                                                                                               [okay, so i have a problem understanding why history is called a science., in my opinion, it isn't., let's start with the definition of science the only one consistent with what we generally consider a science imho : 'science is any activity aimed at understanding the general principles i. e. laws of nature of the world around us. ', history does not fit this definition for several reasons: 1 i've often heard the claim that history uses logic and evidence to find out what happened in humanity's past., while that's true, that isn't sufficient to make something a science., just an example: i've often heard people describing the controversy around jesus's existence a 'scientific question'., which it isn't., whether jesus actually existed is just about whether a concrete person existed at a concrete time in history., that in and of itself doesn't tell us how the universe operates., it might be of use to us in leading us closer to the truth about that, but in and of itself isn't about how the universe operates ., think about a detective's job: his job is to solve a concrete case e. g. whether x committed a crime , and he uses logic and evidence to arrive at a conclusion about the case., yet nobody would dare call a detective's job a science., he is a detective, plain and simple., similarly, historians trying to solve concrete historical cases are just that detectives, but not scientists., 2 when it comes to discovering the guiding principles of history one that could actually be called science , historians are pretty bad., as far as i am aware, no historical 'laws' have ever been rigorously established to exist by historians., why?, mainly because history cannot be replicated in a lab experiment which could weed out the many zillions of factors playing into historical events and human history in general., 3 also, historical hypotheses whether they be concrete or more general can never be falsified and yet, historians are still drawn to giving an explanation for everything that happened., i've rarely seen a historical textbook openly admitting: 'this and this happened., exactly why it happened lies outside of our understanding '., in reality, history is very much unpredictable., on the eve of ww1, who knew what would ensue?, no one., that's because most historical events cannot be predicted and are often the result of pure randomness what trader and philosopher nassim taleb calls a black swan ., historians severely underestimate the role of luck in history., why?, because if they admitted they know very little about the invisible hand of history, what would they possibly fill all those history textbooks with?]   \n",
       "363897                                                                                                                                                                                                                                        [terms to define: masterful created skillfully, utilizing a mastery of a given art form, accomplishing the intentions of the artist untrained created with some skill, without a mastery of a given art form if i look at two works of art, i might be inclined to like one more than another., however, a friend might like the other more than the first., a large portion of the time, this can be chalked up to personal preference., maybe i prefer neo classical sculptures to abstract paintings., my preference is informed by many things: my upbringing, past experiences, culture, nature nurture stuff, etc., my friend has had a different life than i have, and prefers different things as a result., this is good and fine., however, there is a such thing as masterful art and untrained or purposeless art., as someone who really enjoys films, i believe some movies are better than others at an objective level., right now, i m working on a film and i promise it s not as masterful as 2001: a space odyssey., my movie is worse than 2001., a lot of things are like apples and oranges, and are difficult or impossible to compare, or are at a similar enough level of mastery that comparison becomes completely subjective., i can t say that the statue of david is better or worse than the mona lisa because they are so different., comparing things can be difficult., there are many different reasons one thing may be considered better than another, but there are some things that should not be factored in to a value judgement., if something made cost more to produce, that doesn t mean it s better., if it made more money, that doesn t mean it s better., it is also possible for someone to subjectively prefer an objectively worse thing to an objectively good thing., 2001: a space odyssey isn t everyone s cup of tea, but it is more masterful than some student film i made., my family might prefer my films because i made them and because they didn t understand 2001., the purpose of having art schools is to train people to make objectively better art., art teachers teach students the rules of composition, color, movement, and pattern so students can make their art more meaningful and bring their imagination to fruition better., mastery allows for artists to accomplish their intentions for a piece., a child might make a painting that happens to look like some abstract artist s magnum opus, but it wasn t conveying a message, and it wasn t as intentional as the artist s., when talking about the quality of an art piece, a lot of the conversation will be subjective., i am merely arguing that there is an objective layer to the value of something, and it s not 100 subjective.]   \n",
       "339917                                                                                                                                                                                                                                                                                                                                                                                                                                                                                                                                                                                                                                                                                                                                                                                                                                                                                                                                                                                                                                                                                                                                                                                                                                                                                                                                                                                                                                                                                                                                                                                                                                                                                                                                                                                                                                                                                                                                                                                                                                                                                                                                                                                      [before i get into my view, i'd like to say that i am not in favor of violence, no matter what political affiliation you have., that being said, i am pro confrontation., i believe that if enough people make their voices heard and stand up, you can accomplish great things., and given the rise of hate speech in recent years, this is especially important., there are many things i'd condemn antifa for direct violence, damage to private property and attacks on peaceful demonstrators and police., however, antifa is anything but non confrontational., they have proven though the use of confrontational protest like at charlottesvile, berkeley, and curtis m. phillips center for the performing arts that if enough people show that they are against hate speech, the hate speakers will eventually back down.]   \n",
       "\n",
       "                                                                                                                post_concepts  \\\n",
       "365212                                                                                                                     []   \n",
       "364114                                                             [Mobile phone, Manner of death, Facial recognition system]   \n",
       "351525                                                                         [Hormone replacement therapy, Logical extreme]   \n",
       "385227                                                                    [Waste collector, Very special episode, No problem]   \n",
       "327900                                                                                              [Turning the other cheek]   \n",
       "312123            [Gastrointestinal tract, Mass production, Craft brewery and microbrewery, Industry (economics), Local food]   \n",
       "345521  [Politics of the United States, Presidency of Donald Trump, Pornographic film actor, Home appliance, Economic policy]   \n",
       "308068                                         [Black swan, Human history, Invisible hand, Indefinite and fictitious numbers]   \n",
       "363897                                    [Abstract art, Mona Lisa, Art school, Visual arts education, 2001: A Space Odyssey]   \n",
       "339917                                         [Political party, Human voice, Performing arts, Private property, Hate speech]   \n",
       "\n",
       "                                                                                                                                                                                                                                                                                                                                                                                                                                                                                                                                                                                                        post_conclusions  \n",
       "365212                                                                                                                                                                                         [(, A religion should not give a voice to religion if their beliefs go against the law), (, you shouldn't have to live by a god's rules), (, it's understandable that people put their religious rules above the law.), (, I believe people should be free to choose the religion they choose), (, i generis and the other religion and then are for good reason.), (, You have to live by god's rules (or your faith).)]  \n",
       "364114                                                   [(Mobile phone, Mobile phone in the classroom would drastically improve the ability of leadership figures to cause a revolution.), (Manner of death, Manner of death and medicine is the ultimate cause of humanity), (Facial recognition system, Facial recognition system's advancement in technology will lead to practically never a revolution.), (, i Ammoral people are the gatekeepers to our society), (, i think that people will rise to the top by killing, manipulating, and), (, people will continue to remain in power (long after they die).)]  \n",
       "351525                                                                            [(Hormone replacement therapy, Hormone replacement therapy has replaced a more nuanced and rational discussion of sexism and racism.), (Logical extreme, Logical extreme views should be allowed but not banned), (, i think that the recent culture has gone too far), (, i think the tendency to dismiss arguments based on overly political issues has been completely overblown.), (, i think the recent trend of \"slimming voices\" has gone to the point where), (, i think that the use of \"no one can argue\" has gone too far)]  \n",
       "385227      [(Waste collector, Waste collector as much as children. They are in fact deserving of being called a hero), (Very special episode, Very special episode of trash collectors being idolized as children or adults are actually deserving of the), (No problem, No problem, trash collectors are heroes! (not children)), (, i think the fact that we idolize trash collectors as much as our children is wrong that), (, People view trash collectors as heroes, and are in fact not only not heroes, but), (, I believe that trash collector are heroes and deserve to be regarded as if they had the same)]  \n",
       "327900                                               [(Turning the other cheek, Turning the other cheek in you in a violent way is an valid response), (, i believe it is perfectly reasonable and effective to respond in-kind when attacked), (, i believe in respond to receiving hatred of any kind, even if that doesnt any more), (, i believe it is perfectly acceptable to respond with violence in the face of violence), (, i believe it is perfectly okay to respond in kind to being attacked by any kind), (, i believe it's perfectly okay to respond in kind, even if that means insulting other people)]  \n",
       "312123                                          [(Gastrointestinal tract, Gastrointestinal tracthes, glass ceiling, plastic straws and big game packaging are), (Mass production, Mass production and sales are not synonymous bad things.), (Craft brewery and microbrewery, Craft brewery and microbrewery killings are not something to be feared by generations.), (Industry (economics), Industry (economics) is inherently harmful, and we are beginning to do it now), (Local food, Local food trends and clothing trends are holding humanity back), (, Millennials are acting in the best interest of society)]  \n",
       "345521                                       [(Politics of the United States, Politics of the United States has been a very positive success.), (Presidency of Donald Trump, Presidency of Donald Trump seems to be on a par with a good side of history with), (Pornographic film actor, Pornographic film actor / / r/obama has done a fantastic job as president), (Home appliance, Home appliance, i dont care if anyone hates trump.), (Economic policy, Economic policy is fine for america president, and reddit and reddit are simply giving him much), (, Donald Trump has been doing a good job as president)]  \n",
       "308068                                                                                                                           [(Black swan, Black swan event does not make History a science), (Human history, Human history is not a science, it's just a thought experiment), (Invisible hand, Invisible hand (history/history) cannot be called a science), (Indefinite and fictitious numbers, Indefinite and fictitious numbers of events in human history are not science.), (, I believe that history is a science, but not a science.), (, History isn't a science. please read before you judge the record)]  \n",
       "363897                                                                                                 [(Abstract art, Abstract art is better than the other, and should always be valued above education), (Mona Lisa, Mona Lisa may be superior to 2001: A space odyssey.), (Art school, Art school system creates a lot of unjustifiable subjective preference), (Visual arts education, Visual arts education is pointless compared to art in general), (2001: A Space Odyssey, 2001: A Space Odyssey is NOT \"better\" than some of 2001; there is no), (, a masterful piece of art is a skill in the art form, and)]  \n",
       "339917  [(Political party, Political party Antifa is just an anti-fascist movement, and can accomplish great things.), (Human voice, Human voice, voice, and knowledge are all important to the development of violent organized rallies and), (Performing arts, Performing arts in the case of antifa is a just cause.), (Private property, Private property, even with a very small degree of social support, can be used to show), (Hate speech, Hate speech is a fundamental human right, and any form of nonviolent protest is an inherently), (, Antifa is a force for good (long-term) and a viable alternative)]  "
      ]
     },
     "execution_count": 53,
     "metadata": {},
     "output_type": "execute_result"
    }
   ],
   "source": [
    "df[['title', 'post', 'post_concepts', 'post_conclusions']].head(n=100)"
   ]
  },
  {
   "cell_type": "code",
   "execution_count": 31,
   "metadata": {},
   "outputs": [
    {
     "data": {
      "text/plain": [
       "1499"
      ]
     },
     "execution_count": 31,
     "metadata": {},
     "output_type": "execute_result"
    }
   ],
   "source": [
    "df.to_pickle('../../../data-ceph/arguana/arg-generation/multi-taks-counter-argument-generation/reddit_data/conclusion_and_ca_generation/valid_conclusion_all_sample_multi_conclusions.pkl')"
   ]
  },
  {
   "cell_type": "markdown",
   "metadata": {},
   "source": [
    "### Run on Test:"
   ]
  },
  {
   "cell_type": "code",
   "execution_count": 17,
   "metadata": {},
   "outputs": [],
   "source": [
    "test_df = pd.read_pickle('../../../data-ceph/arguana/arg-generation/multi-taks-counter-argument-generation/reddit_data/conclusion_and_ca_generation/test_conclusion_all_sample_with_targets_with_arglexrank_conclusions.pkl')"
   ]
  },
  {
   "cell_type": "code",
   "execution_count": null,
   "metadata": {
    "scrolled": true,
    "tags": []
   },
   "outputs": [
    {
     "name": "stderr",
     "output_type": "stream",
     "text": [
      "\n",
      "TermWikifierClient:   0%|          | 0/28 [00:00<?, ?it/s]\u001b[A\n",
      "TermWikifierClient: 100%|██████████| 28/28 [00:00<00:00, 88.46it/s]\u001b[A\n",
      "\n",
      "TermWikifierClient:   0%|          | 0/15 [00:00<?, ?it/s]\u001b[A\u001b[A\n",
      "\n",
      "TermWikifierClient: 100%|██████████| 28/28 [00:01<00:00, 15.85it/s]\u001b[A\u001b[A\n",
      "TermWikifierClient: 100%|██████████| 15/15 [00:01<00:00, 10.83it/s]\n",
      "\n",
      "TermWikifierClient:   0%|          | 0/121 [00:00<?, ?it/s]\u001b[A\n",
      "TermWikifierClient: 100%|██████████| 121/121 [00:00<00:00, 187.39it/s]\u001b[A\n",
      "\n",
      "TermWikifierClient:   0%|          | 0/25 [00:00<?, ?it/s]\u001b[A\u001b[A\n",
      "\n",
      "TermWikifierClient: 100%|██████████| 25/25 [00:00<00:00, 31.47it/s]\u001b[A\u001b[A\n",
      "\n",
      "\n",
      "TermWikifierClient:   0%|          | 0/65 [00:00<?, ?it/s]\u001b[A\u001b[A\u001b[A\n",
      "\n",
      "\n",
      "TermWikifierClient: 100%|██████████| 65/65 [00:00<00:00, 73.63it/s]\u001b[A\u001b[A\u001b[A\n",
      "\n",
      "\n",
      "\n",
      "TermWikifierClient:   0%|          | 0/50 [00:00<?, ?it/s]\u001b[A\u001b[A\u001b[A\u001b[A\n",
      "\n",
      "\n",
      "\n",
      "TermWikifierClient: 100%|██████████| 50/50 [00:00<00:00, 73.02it/s]\u001b[A\u001b[A\u001b[A\u001b[A\n",
      "\n",
      "\n",
      "\n",
      "\n",
      "TermWikifierClient:   0%|          | 0/19 [00:00<?, ?it/s]\u001b[A\u001b[A\u001b[A\u001b[A\u001b[A\n",
      "\n",
      "\n",
      "\n",
      "\n",
      "TermWikifierClient: 100%|██████████| 19/19 [00:00<00:00, 20.82it/s]\u001b[A\u001b[A\u001b[A\u001b[A\u001b[A\n",
      "\n",
      "\n",
      "\n",
      "\n",
      "\n",
      "TermWikifierClient:   0%|          | 0/24 [00:00<?, ?it/s]\u001b[A\u001b[A\u001b[A\u001b[A\u001b[A\u001b[A\n",
      "\n",
      "\n",
      "\n",
      "\n",
      "\n",
      "TermWikifierClient: 100%|██████████| 24/24 [00:00<00:00, 26.91it/s]\u001b[A\u001b[A\u001b[A\u001b[A\u001b[A\u001b[A\n",
      "\n",
      "\n",
      "\n",
      "\n",
      "\n",
      "\n",
      "TermWikifierClient:   0%|          | 0/51 [00:00<?, ?it/s]\u001b[A\u001b[A\u001b[A\u001b[A\u001b[A\u001b[A\u001b[A\n",
      "\n",
      "\n",
      "\n",
      "\n",
      "\n",
      "\n",
      "TermWikifierClient: 100%|██████████| 51/51 [00:00<00:00, 62.95it/s]\u001b[A\u001b[A\u001b[A\u001b[A\u001b[A\u001b[A\u001b[A\n",
      "\n",
      "\n",
      "\n",
      "\n",
      "\n",
      "\n",
      "\n",
      "TermWikifierClient:   0%|          | 0/36 [00:00<?, ?it/s]\u001b[A\u001b[A\u001b[A\u001b[A\u001b[A\u001b[A\u001b[A\u001b[A"
     ]
    }
   ],
   "source": [
    "test_df['post_concepts'] = conc_utils.get_wiki_concepts(test_df['post'].tolist(), max_concepts=5)\n",
    "test_df = generate_multiple_conclusions(test_df)"
   ]
  },
  {
   "cell_type": "code",
   "execution_count": 22,
   "metadata": {
    "scrolled": true,
    "tags": []
   },
   "outputs": [
    {
     "data": {
      "text/html": [
       "<div>\n",
       "<style scoped>\n",
       "    .dataframe tbody tr th:only-of-type {\n",
       "        vertical-align: middle;\n",
       "    }\n",
       "\n",
       "    .dataframe tbody tr th {\n",
       "        vertical-align: top;\n",
       "    }\n",
       "\n",
       "    .dataframe thead th {\n",
       "        text-align: right;\n",
       "    }\n",
       "</style>\n",
       "<table border=\"1\" class=\"dataframe\">\n",
       "  <thead>\n",
       "    <tr style=\"text-align: right;\">\n",
       "      <th></th>\n",
       "      <th>title</th>\n",
       "      <th>post</th>\n",
       "      <th>post_concepts</th>\n",
       "      <th>post_conclusions</th>\n",
       "    </tr>\n",
       "  </thead>\n",
       "  <tbody>\n",
       "    <tr>\n",
       "      <th>533361</th>\n",
       "      <td>all drugs should be legalized, manufactured, and available for public use.</td>\n",
       "      <td>[my view here stems from 2 ideals, a personal one and a logical one., the more succinct ideal is a personal view that it is not, nor should ever be up to the government to decide what i can or can't do to my body., my logical and more detailed part of this view is on how society would benefit., drugs are currently being used at a staggering rate., and yet these drugs are illegal., as prohibition of alcohol has shown us, making something illegal doesn't erase the market, but instead creates a black market for that product., with black markets come crime, corruption and violence which adds stress on our healthcare and justice systems., as well, overdose due to drugs cut with unknown and dangerous substances and the spread of diseases through sharing needles is an epidemic that is a further tax on our healthcare system., by manufacturing these drugs and having them available for public consumption we could eliminate the spread of diseases, and prevent overdoses by controlling the whole process of drug addiction., and by this extent we're able to even help people out of addiction, instead of letting them fend for themselves.]</td>\n",
       "      <td>[Health care, Black market, Dangerous goods, Health system, Logical conjunction]</td>\n",
       "      <td>[(Health care, Health care and enforcement should be accompanied by the introduction of drugs available for public consumption), (Black market, Black market drugs should be legal with all the restrictions.), (Dangerous goods, Dangerous goods (e.g. \"sharing needles\", cocaine) should be), (Health system, Health system should be more open to use andjection), (Logical conjunction, Logical conjunction of Health and Drug Policy should result in reintegration into society), (, all drugs should be legal and available for public consumption)]</td>\n",
       "    </tr>\n",
       "    <tr>\n",
       "      <th>496733</th>\n",
       "      <td>Illegal immigrants broke the law, they should be treated as such not saints.</td>\n",
       "      <td>[i don t understand why they re used as a political sympathy and emotional pawn., these people broke the law at there own risk and now they re paying the price for it simple as that., there are laws for a reason we re not an open border country for a reason., as a immigrant who spent thousands of dollars and many hours working to come legally i find it highly irritating that they re being defended for breaking a law., it s a different story when people seek asylum for actual reasons., this political agenda people use only makes it worse for them.]</td>\n",
       "      <td>[Open border, Political agenda]</td>\n",
       "      <td>[(Open border, Open border laws only hurt illegal immigrants, because they re-sso-mediculate), (Political agenda, Political agenda re-emerged in america i am against the re-open border immigration), (, I think illegal immigrants should be charged with immigration related to a felony and dont be forced to), (, I find the immigration situation frustrating and disruptive to non-citizens seeking asylum in the US), (, immigration people who bring legally into the US as children are in ICE for political sympathizers.), (, I dont understand why illegals in the US are being treated as a burden and not)]</td>\n",
       "    </tr>\n",
       "    <tr>\n",
       "      <th>487043</th>\n",
       "      <td>It is valid for a man to be more jealous of men then of women (in sexual context).</td>\n",
       "      <td>[it is quite common for people in nonmonogamous relationships be it open relationships, polyamorous ones, etc. , especially for 'newbies' to have gender specific rules about who their so is allowed to be intimate with and under what conditions., the most infamous of such rules is the 'one penis poilicy' i hope the name is self explanatory ., in general, for a woman in a heterosexual relationships, contacts with other women are almost always more permissible than with men., this also comes up in monogamous context just a couple of days ago i run into a thread in r amitheasshole where the op, who is in a relationship with a bisexual woman, got in trouble for saying he would not mind if she had sex with other women but was vehemently opposed to her having sex with another man just to be clear, ihmo he still was a bit of an asshole but that's not the point ., amp; x200b; rules and preferences like the ones described above often come under heavy criticism from the bi community and from the poly community., the reasoning is generally that if you're a man who doesn't mind his so having sex with women as much as with men, then you must be viewing lesbian relationships as less valid., i certainly agree with this line of reasoning if we replace 'must' with 'might'., definitely, a sexist biphobic?, homophobic?, take your pick man who believes lesbian sex is somehow lesser would be in favour of the one penis policy, and if a man advocates for one penis policy it's a reason to suspect he might be sexists., but i don't think the implication goes in the other direction: apart from sexism, there are valid reasons for a man to be more jealous of men than of women., amp; x200b; 1., different niches., sex with women is different than sex with men., at the risk of stating the obvious, both are valid, both are valuable, both can be lots of fun but they're not the same., as an analogy, if i were regularly playing football with a friend and he joined another football group, i think it would be a cause for concern: is this football group not enough for him?, are we not fun to play with?, what if the other football group is better than ours?, if he joined a basketball group, there would not be much to worry about he enjoys both sports, cool., i can see the argument going the other direction here: maybe he's not into football at all now?, depending on the personality, one line of reasoning will be more compelling than the other, and all i'm arguing is that there is a valid why someone might hold certain view, not that anyone should hold the same view., 2., different people., sorry if this sounds sexist, but women and men are different, and i believe it is valid to be more or less jealous of people based on their character., again, i'm not saying that women are in any way worse or that the differences are inherent, or that there are no outliers., but we do live in a society that treats men and women differently in their formative years and is overall quite genedered it would be a miracle if these differences in treatment did not translate to some differences in character., in fact, where there are relevant differences, it seems to me that women are superior it's quite rare to see a woman displaying toxic masculinity and women on average seem to be more introspective and have greater emotional intelligence., and when i think of my so having sex with someone else, toxic masculinity is close to the top of the traits i don't want them to have., 3., visceral responses., i think a huge part of why we feel bad about the possibility of our sos being intimate with others is social conditioning., i don't necessarily think it's right see below but i also don't think feelings are invalid just because of their origin., it also seems to me that men are very strongly conditioned to be jealous of other men, while the same conditioning does not really happen for jealousy of women now, this can very well be because whatever forces gave rise to this conditioning were in some way sexist to the extent that abstract concepts can be sexist but that does not affect my point ., of course, people might want to reshape themselves, but this is a process that takes both time and energy., so, i don't think it's unreasonable for a man to have a strong negative visceral response to his so having sex with men, have no such response in the case of women, and while not necessarily endorsing these responses or lack thereof , expect his so to be mindful of them., 4., dating experience., i'm not sure if this would be the case in a perfect society, but in the world as it is now it is a fact of life that men and women have a notably different experience when it comes to dating, relationships and sex., it's enough to have a look at any dating site., in particular, it is much easier for a woman to find a man to have casual sex with than it is for a man to find a woman to have casual sex with., it also seems that it's pretty hard for a woman to find a woman, and pretty easy for a man to find a man., it's easy to see how this would lead to more jealousy in some cases than in others., amp; x200b; in the interest of full disclosure: i'm a bisexual man significantly more into women but definitely also into men in a polyamorish it's complicated relationship with a bisexual woman., we don't have a one penis policy, nor would i want it.]</td>\n",
       "      <td>[Organ (anatomy), Online dating service, Casual sex, Emotional intelligence, Open relationship]</td>\n",
       "      <td>[(Organ (anatomy), Organ (anatomy) is sometimes a synonym for 'heteronormativity'), (Online dating service, Online dating service provider should not be exclusionary to straight partners), (Casual sex, Casual sex/relationships between consenting parties should be monogamous and not be socially), (Emotional intelligence, Emotional intelligence aside, i do not think being in a nonmonogamous relationship is), (Open relationship, Open relationship is better for men than non Monogamous one.), (, it makes sense for men to agree with and even think that women are not capable of choosing)]</td>\n",
       "    </tr>\n",
       "    <tr>\n",
       "      <th>511391</th>\n",
       "      <td>Monarchy have no reason to exist in modern world</td>\n",
       "      <td>[the british crown is an obsolete system of government and should be abolished, their land and wealth stripped for the good of the people., taxes are spent to pay for their lavish lifestyle, pay for their marriage ceremony and travel expenses even when they are not diplomatic., they were born into a position of power they have no right to be in., they are not voted into the position and have no merit to prove it to be in the position., someone can say that the monarchy attracts tourist, but to be honest, france is the most visited place on the planet and they cancelled their monarchy long ago., also, some land in britain is still owned by the ruling family but that's not what abolishment should look like oh yeah, you don't rule anymore but you control a large amount of the land they should be stripped of their own property because everything they own was obtained by their ancestors that claimed the land and murder everyone that didn't accept that.]</td>\n",
       "      <td>[The Crown, Operating expense]</td>\n",
       "      <td>[(The Crown, The Crown should be abolished and the land kept to their people.), (Operating expense, Operating expense without good is selfish and should be abolished), (, the british crown should be abolished.), (, The British monarchy should be abolished. The country's wealth and country's identity should change to), (, the british crown should be abolished. The land and money should be stripped for the), (, the british crown should be abolished. The land and their wealth should be stripped for)]</td>\n",
       "    </tr>\n",
       "    <tr>\n",
       "      <th>500768</th>\n",
       "      <td>Homosexuality is a fetish and nothing truly romantic.</td>\n",
       "      <td>[i will start by saying that i am heavily drawing from my own flawed, anecdotal observations, which is why i am attempting to broaden my viewpoint on this with your assistance., i've had four close male friends come out as gay within the last ten years, and i live around and work with other homosexuals., each of them routinely post pictures on social media with ever changing groups of other gay men., only one of my friends has entered into exclusive relationships, and even then his endeavors haven't been particularly committed there was one period where he had 3 break ups in a four month span., from what i have observed, gay men tend to switch partners quite frequently, and it seems to me that they often roll around with multiple partners at once., why is this?, in my mind, homosexuality and by extension, most of the lgbtq subtypes is in fact just a sexual fetish., i am well aware that there are any number of pseudoscientific social science articles saying otherwise, but i find it hard to fully buy into social science because of it's sampling and implicit biases., not to mention that any academic who explored this idea honestly would likely end up lambasted by his peers in the current climate., anyways, just so we're all on the same page a fetish, by definition, is 'a form of sexual desire in which gratification is linked to an abnormal degree to a particular object, item of clothing, part of the body, etc. ' a sexuality or sexual orientation is 'a person's sexual identity in relation to the gender to which they are attracted; the fact of being heterosexual, homosexual, or bisexual. ', ponder this: what is it that a gay man is attracted to?, is it the gender identity of his partner, or the physical form of his partner?, i choose to believe it's the latter., there are plenty of manly women, there are plenty of womanly men, and there are plenty of trans people that gay people simply are not dating., i have to believe it's because homosexuals are attracted to the physical form i. e. , the body parts of his her chosen partner s ., in my mind, this is why they're always sleeping around with a large number of partners, and why so many of them never enter into truly committed romantic relationships., this is why so many pride parades feature dildos and bdsm gear and nipple pasties and any other degree of erotic paraphernalia, because it's not about the romantic aspects at the end of the day., it's about the sex., would love to have my views challenged on this stance.]</td>\n",
       "      <td>[Social media, Social science, Sexual orientation, Human sexuality, Romance (love)]</td>\n",
       "      <td>[(Social media, Social media makes gay men feel like they can multiple partners at once and is a sign of), (Social science, Social science should not be based off ideology; as homosexuality is a sexual fetish, so is), (Sexual orientation, Sexual orientation is simply a response to a desire for physical attraction.), (Human sexuality, Human sexuality/sexuality is a sexual fetish.), (Romance (love), Romance (love) plays a part in homosexuality.), (, I believe homosexuality is a fetish.?, please!)]</td>\n",
       "    </tr>\n",
       "  </tbody>\n",
       "</table>\n",
       "</div>"
      ],
      "text/plain": [
       "                                                                                      title  \\\n",
       "533361           all drugs should be legalized, manufactured, and available for public use.   \n",
       "496733         Illegal immigrants broke the law, they should be treated as such not saints.   \n",
       "487043   It is valid for a man to be more jealous of men then of women (in sexual context).   \n",
       "511391                                     Monarchy have no reason to exist in modern world   \n",
       "500768                                Homosexuality is a fetish and nothing truly romantic.   \n",
       "\n",
       "                                                                                                                                                                                                                                                                                                                                                                                                                                                                                                                                                                                                                                                                                                                                                                                                                                                                                                                                                                                                                                                                                                                                                                                                                                                                                                                                                                                                                                                                                                                                                                                                                                                                                                                                                                                                                                                                                                                                                                                                                                                                                                                                                                                                                                                                                                                                                                                                                                                                                                                                                                                                                                                                                                                                                                                                                                                                                                                                                                                                                                                                                                                                                                                                                                                                                                                                                                                                                                                                                                                                                                                                                                                                                                                                                                                                                                                                                                                                                                                                                                                                                                                                                                                                                                                                                                                                                                                                                                                                                                                                                                                                                                                                                                                                                                                                                                                                                                                                                                                                                                                                                                                                                                                                                                                                                                                                                                                                                                                                                                                                                                                      post  \\\n",
       "533361                                                                                                                                                                                                                                                                                                                                                                                                                                                                                                                                                                                                                                                                                                                                                                                                                                                                                                                                                                                                                                                                                                                                                                                                                                                                                                                                                                                                                                                                                                                                                                                                                                                                                                                                                                                                                                                                                                                                                                                                                                                                                                                                                                                                                                                                                                                                                                                                                                                                                                                                                                                                                                                                                                                                                                                                                                                                                                                                                                                                                                                                                                                                                                                                                                                                                                                                                                                                                                                                                                                                                                                                                                                                                                                                                                                                                                                                                                                                                                                                                                                                                                                                                                                                                                                                                                                                                                                                 [my view here stems from 2 ideals, a personal one and a logical one., the more succinct ideal is a personal view that it is not, nor should ever be up to the government to decide what i can or can't do to my body., my logical and more detailed part of this view is on how society would benefit., drugs are currently being used at a staggering rate., and yet these drugs are illegal., as prohibition of alcohol has shown us, making something illegal doesn't erase the market, but instead creates a black market for that product., with black markets come crime, corruption and violence which adds stress on our healthcare and justice systems., as well, overdose due to drugs cut with unknown and dangerous substances and the spread of diseases through sharing needles is an epidemic that is a further tax on our healthcare system., by manufacturing these drugs and having them available for public consumption we could eliminate the spread of diseases, and prevent overdoses by controlling the whole process of drug addiction., and by this extent we're able to even help people out of addiction, instead of letting them fend for themselves.]   \n",
       "496733                                                                                                                                                                                                                                                                                                                                                                                                                                                                                                                                                                                                                                                                                                                                                                                                                                                                                                                                                                                                                                                                                                                                                                                                                                                                                                                                                                                                                                                                                                                                                                                                                                                                                                                                                                                                                                                                                                                                                                                                                                                                                                                                                                                                                                                                                                                                                                                                                                                                                                                                                                                                                                                                                                                                                                                                                                                                                                                                                                                                                                                                                                                                                                                                                                                                                                                                                                                                                                                                                                                                                                                                                                                                                                                                                                                                                                                                                                                                                                                                                                                                                                                                                                                                                                                                                                                                                                                                                                                                                                                                                                                                                                                                                                                                                                                                                                                                                                                                                                                                           [i don t understand why they re used as a political sympathy and emotional pawn., these people broke the law at there own risk and now they re paying the price for it simple as that., there are laws for a reason we re not an open border country for a reason., as a immigrant who spent thousands of dollars and many hours working to come legally i find it highly irritating that they re being defended for breaking a law., it s a different story when people seek asylum for actual reasons., this political agenda people use only makes it worse for them.]   \n",
       "487043  [it is quite common for people in nonmonogamous relationships be it open relationships, polyamorous ones, etc. , especially for 'newbies' to have gender specific rules about who their so is allowed to be intimate with and under what conditions., the most infamous of such rules is the 'one penis poilicy' i hope the name is self explanatory ., in general, for a woman in a heterosexual relationships, contacts with other women are almost always more permissible than with men., this also comes up in monogamous context just a couple of days ago i run into a thread in r amitheasshole where the op, who is in a relationship with a bisexual woman, got in trouble for saying he would not mind if she had sex with other women but was vehemently opposed to her having sex with another man just to be clear, ihmo he still was a bit of an asshole but that's not the point ., amp; x200b; rules and preferences like the ones described above often come under heavy criticism from the bi community and from the poly community., the reasoning is generally that if you're a man who doesn't mind his so having sex with women as much as with men, then you must be viewing lesbian relationships as less valid., i certainly agree with this line of reasoning if we replace 'must' with 'might'., definitely, a sexist biphobic?, homophobic?, take your pick man who believes lesbian sex is somehow lesser would be in favour of the one penis policy, and if a man advocates for one penis policy it's a reason to suspect he might be sexists., but i don't think the implication goes in the other direction: apart from sexism, there are valid reasons for a man to be more jealous of men than of women., amp; x200b; 1., different niches., sex with women is different than sex with men., at the risk of stating the obvious, both are valid, both are valuable, both can be lots of fun but they're not the same., as an analogy, if i were regularly playing football with a friend and he joined another football group, i think it would be a cause for concern: is this football group not enough for him?, are we not fun to play with?, what if the other football group is better than ours?, if he joined a basketball group, there would not be much to worry about he enjoys both sports, cool., i can see the argument going the other direction here: maybe he's not into football at all now?, depending on the personality, one line of reasoning will be more compelling than the other, and all i'm arguing is that there is a valid why someone might hold certain view, not that anyone should hold the same view., 2., different people., sorry if this sounds sexist, but women and men are different, and i believe it is valid to be more or less jealous of people based on their character., again, i'm not saying that women are in any way worse or that the differences are inherent, or that there are no outliers., but we do live in a society that treats men and women differently in their formative years and is overall quite genedered it would be a miracle if these differences in treatment did not translate to some differences in character., in fact, where there are relevant differences, it seems to me that women are superior it's quite rare to see a woman displaying toxic masculinity and women on average seem to be more introspective and have greater emotional intelligence., and when i think of my so having sex with someone else, toxic masculinity is close to the top of the traits i don't want them to have., 3., visceral responses., i think a huge part of why we feel bad about the possibility of our sos being intimate with others is social conditioning., i don't necessarily think it's right see below but i also don't think feelings are invalid just because of their origin., it also seems to me that men are very strongly conditioned to be jealous of other men, while the same conditioning does not really happen for jealousy of women now, this can very well be because whatever forces gave rise to this conditioning were in some way sexist to the extent that abstract concepts can be sexist but that does not affect my point ., of course, people might want to reshape themselves, but this is a process that takes both time and energy., so, i don't think it's unreasonable for a man to have a strong negative visceral response to his so having sex with men, have no such response in the case of women, and while not necessarily endorsing these responses or lack thereof , expect his so to be mindful of them., 4., dating experience., i'm not sure if this would be the case in a perfect society, but in the world as it is now it is a fact of life that men and women have a notably different experience when it comes to dating, relationships and sex., it's enough to have a look at any dating site., in particular, it is much easier for a woman to find a man to have casual sex with than it is for a man to find a woman to have casual sex with., it also seems that it's pretty hard for a woman to find a woman, and pretty easy for a man to find a man., it's easy to see how this would lead to more jealousy in some cases than in others., amp; x200b; in the interest of full disclosure: i'm a bisexual man significantly more into women but definitely also into men in a polyamorish it's complicated relationship with a bisexual woman., we don't have a one penis policy, nor would i want it.]   \n",
       "511391                                                                                                                                                                                                                                                                                                                                                                                                                                                                                                                                                                                                                                                                                                                                                                                                                                                                                                                                                                                                                                                                                                                                                                                                                                                                                                                                                                                                                                                                                                                                                                                                                                                                                                                                                                                                                                                                                                                                                                                                                                                                                                                                                                                                                                                                                                                                                                                                                                                                                                                                                                                                                                                                                                                                                                                                                                                                                                                                                                                                                                                                                                                                                                                                                                                                                                                                                                                                                                                                                                                                                                                                                                                                                                                                                                                                                                                                                                                                                                                                                                                                                                                                                                                                                                                                                                                                                                                                                                                                                                                                                                                  [the british crown is an obsolete system of government and should be abolished, their land and wealth stripped for the good of the people., taxes are spent to pay for their lavish lifestyle, pay for their marriage ceremony and travel expenses even when they are not diplomatic., they were born into a position of power they have no right to be in., they are not voted into the position and have no merit to prove it to be in the position., someone can say that the monarchy attracts tourist, but to be honest, france is the most visited place on the planet and they cancelled their monarchy long ago., also, some land in britain is still owned by the ruling family but that's not what abolishment should look like oh yeah, you don't rule anymore but you control a large amount of the land they should be stripped of their own property because everything they own was obtained by their ancestors that claimed the land and murder everyone that didn't accept that.]   \n",
       "500768                                                                                                                                                                                                                                                                                                                                                                                                                                                                                                                                                                                                                                                                                                                                                                                                                                                                                                                                                                                                                                                                                                                                                                                                                                                                                                                                                                                                                                                                                                                                                                                                                                                                                                                                                                                                                                                                                                                                                                                                                                                                                                                                                                                                                                                                                                                                                                                                                                                                                                                                                                                                                                                                                                                                                                                                                                                                                                                                                                           [i will start by saying that i am heavily drawing from my own flawed, anecdotal observations, which is why i am attempting to broaden my viewpoint on this with your assistance., i've had four close male friends come out as gay within the last ten years, and i live around and work with other homosexuals., each of them routinely post pictures on social media with ever changing groups of other gay men., only one of my friends has entered into exclusive relationships, and even then his endeavors haven't been particularly committed there was one period where he had 3 break ups in a four month span., from what i have observed, gay men tend to switch partners quite frequently, and it seems to me that they often roll around with multiple partners at once., why is this?, in my mind, homosexuality and by extension, most of the lgbtq subtypes is in fact just a sexual fetish., i am well aware that there are any number of pseudoscientific social science articles saying otherwise, but i find it hard to fully buy into social science because of it's sampling and implicit biases., not to mention that any academic who explored this idea honestly would likely end up lambasted by his peers in the current climate., anyways, just so we're all on the same page a fetish, by definition, is 'a form of sexual desire in which gratification is linked to an abnormal degree to a particular object, item of clothing, part of the body, etc. ' a sexuality or sexual orientation is 'a person's sexual identity in relation to the gender to which they are attracted; the fact of being heterosexual, homosexual, or bisexual. ', ponder this: what is it that a gay man is attracted to?, is it the gender identity of his partner, or the physical form of his partner?, i choose to believe it's the latter., there are plenty of manly women, there are plenty of womanly men, and there are plenty of trans people that gay people simply are not dating., i have to believe it's because homosexuals are attracted to the physical form i. e. , the body parts of his her chosen partner s ., in my mind, this is why they're always sleeping around with a large number of partners, and why so many of them never enter into truly committed romantic relationships., this is why so many pride parades feature dildos and bdsm gear and nipple pasties and any other degree of erotic paraphernalia, because it's not about the romantic aspects at the end of the day., it's about the sex., would love to have my views challenged on this stance.]   \n",
       "\n",
       "                                                                                          post_concepts  \\\n",
       "533361                 [Health care, Black market, Dangerous goods, Health system, Logical conjunction]   \n",
       "496733                                                                  [Open border, Political agenda]   \n",
       "487043  [Organ (anatomy), Online dating service, Casual sex, Emotional intelligence, Open relationship]   \n",
       "511391                                                                   [The Crown, Operating expense]   \n",
       "500768              [Social media, Social science, Sexual orientation, Human sexuality, Romance (love)]   \n",
       "\n",
       "                                                                                                                                                                                                                                                                                                                                                                                                                                                                                                                                                                                                                  post_conclusions  \n",
       "533361                                                                 [(Health care, Health care and enforcement should be accompanied by the introduction of drugs available for public consumption), (Black market, Black market drugs should be legal with all the restrictions.), (Dangerous goods, Dangerous goods (e.g. \"sharing needles\", cocaine) should be), (Health system, Health system should be more open to use andjection), (Logical conjunction, Logical conjunction of Health and Drug Policy should result in reintegration into society), (, all drugs should be legal and available for public consumption)]  \n",
       "496733  [(Open border, Open border laws only hurt illegal immigrants, because they re-sso-mediculate), (Political agenda, Political agenda re-emerged in america i am against the re-open border immigration), (, I think illegal immigrants should be charged with immigration related to a felony and dont be forced to), (, I find the immigration situation frustrating and disruptive to non-citizens seeking asylum in the US), (, immigration people who bring legally into the US as children are in ICE for political sympathizers.), (, I dont understand why illegals in the US are being treated as a burden and not)]  \n",
       "487043                [(Organ (anatomy), Organ (anatomy) is sometimes a synonym for 'heteronormativity'), (Online dating service, Online dating service provider should not be exclusionary to straight partners), (Casual sex, Casual sex/relationships between consenting parties should be monogamous and not be socially), (Emotional intelligence, Emotional intelligence aside, i do not think being in a nonmonogamous relationship is), (Open relationship, Open relationship is better for men than non Monogamous one.), (, it makes sense for men to agree with and even think that women are not capable of choosing)]  \n",
       "511391                                                                                                      [(The Crown, The Crown should be abolished and the land kept to their people.), (Operating expense, Operating expense without good is selfish and should be abolished), (, the british crown should be abolished.), (, The British monarchy should be abolished. The country's wealth and country's identity should change to), (, the british crown should be abolished. The land and money should be stripped for the), (, the british crown should be abolished. The land and their wealth should be stripped for)]  \n",
       "500768                                                                                                        [(Social media, Social media makes gay men feel like they can multiple partners at once and is a sign of), (Social science, Social science should not be based off ideology; as homosexuality is a sexual fetish, so is), (Sexual orientation, Sexual orientation is simply a response to a desire for physical attraction.), (Human sexuality, Human sexuality/sexuality is a sexual fetish.), (Romance (love), Romance (love) plays a part in homosexuality.), (, I believe homosexuality is a fetish.?, please!)]  "
      ]
     },
     "execution_count": 22,
     "metadata": {},
     "output_type": "execute_result"
    }
   ],
   "source": [
    "test_df[['title', 'post', 'post_concepts', 'post_conclusions']].head(n=5)"
   ]
  },
  {
   "cell_type": "code",
   "execution_count": null,
   "metadata": {},
   "outputs": [],
   "source": [
    "test_df.to_pickle('../../../data-ceph/arguana/arg-generation/multi-taks-counter-argument-generation/reddit_data/conclusion_and_ca_generation/test_conclusion_all_multi_conclusions.pkl')"
   ]
  },
  {
   "cell_type": "markdown",
   "metadata": {},
   "source": [
    "### Manually evaluate whether prompt-conclusions are valid conclusions:"
   ]
  },
  {
   "cell_type": "code",
   "execution_count": 23,
   "metadata": {},
   "outputs": [],
   "source": [
    "sample_test = test_df.sample(50)"
   ]
  },
  {
   "cell_type": "code",
   "execution_count": 25,
   "metadata": {},
   "outputs": [],
   "source": [
    "sample_test['conclusions'] = sample_test.post_conclusions.apply(lambda concs: [x[1] for x in concs if x[0] != ''])"
   ]
  },
  {
   "cell_type": "code",
   "execution_count": 28,
   "metadata": {},
   "outputs": [
    {
     "data": {
      "text/html": [
       "<div>\n",
       "<style scoped>\n",
       "    .dataframe tbody tr th:only-of-type {\n",
       "        vertical-align: middle;\n",
       "    }\n",
       "\n",
       "    .dataframe tbody tr th {\n",
       "        vertical-align: top;\n",
       "    }\n",
       "\n",
       "    .dataframe thead th {\n",
       "        text-align: right;\n",
       "    }\n",
       "</style>\n",
       "<table border=\"1\" class=\"dataframe\">\n",
       "  <thead>\n",
       "    <tr style=\"text-align: right;\">\n",
       "      <th></th>\n",
       "      <th>post</th>\n",
       "      <th>title</th>\n",
       "      <th>conclusions</th>\n",
       "    </tr>\n",
       "  </thead>\n",
       "  <tbody>\n",
       "    <tr>\n",
       "      <th>512794</th>\n",
       "      <td>[i recently got in an argument with someone defending loli's and i was shocked., loli's are sexual drawings of very underage girls where guys usually above 18 obsess over them, adore them, and just do weird things to them., for me it's not that much different than child porn., these are drawings of young girls and degenerate neck beards jerk off to them and like those specific pics because they are so young., why can't they just jerk off to any other hentai?, because they enjoy how young these girls are., i also see the argument of how it's just fantasy and not real., yes they are fake thank god but these guys are still jerking off to them because of there age., these guys still have the fantasy of having sex with underage girls and use loli's as a way to please that desire., how come the furry community out right bans bestiality drawings because they find it disgusting and horrible but the hentai community still supports drawings of underage girls?, i also hear the argument 'oh we don't want to have sex with them we just adore them and find them so cute! ', that's still weird for me., 30 year olds adoring drawings of 9 year olds., honestly i don't think there is something right in the head if you adore those pics., for me loli's serve no good for anyone and appeal to weird neck beards., i would love to hear what people have to defend loli's and actually see if you guys change my views on them.]</td>\n",
       "      <td>Loli hentai is disgusting, creepy, and should be banned</td>\n",
       "      <td>[Child pornography is bad because loli is disgusting., Minor (law) Adults in the Hentai community do not deserve praise or adoration, Ban (law) Hentai.(def.i) loli!, Furry fandom shouldn't allow loli's to be adored.]</td>\n",
       "    </tr>\n",
       "    <tr>\n",
       "      <th>540248</th>\n",
       "      <td>[humans have been adapting to earth for hundreds of thousands of years., it's air, it's water, it's weather, it's day night cycle ect., even before 'modern' humans arrived our ancestors from which we evolved roamed this planet and did the same., so you could say we have spent over a billion years 'synchronizing' with this planet and it's soil., if you suddenly were to go to mars , it would completely throw everything out of whack., human's did not grow to live on that alien planet., the first generation of people living on mars will probably suffer great emotional, psychological and even physical pain attempting to live on this unfamiliar celestial body., stay here, where you have literally been born to live.]</td>\n",
       "      <td>You Shouldn't Want To Live On Mars Or Any Other Planet</td>\n",
       "      <td>[Astronomical objectification is wrong and human impulse to explore Mars is wrong.]</td>\n",
       "    </tr>\n",
       "    <tr>\n",
       "      <th>489096</th>\n",
       "      <td>[in my opinion, the ownership of a company should always lie with the people employed by that company., the profit of the company should be given to those employees, and they should be able to elect the management., reason 1: it would democratise one of the most important aspects in most people s lives., people at hugely influenced by their workplace, yet those workplaces are almost always authoritarian in nature., we should instead expand the democracy to more parts of our lives, including the workplace., reason 2: it creates a fairer distribution of wealth., at the moment, you can buy shares of a company, and then get a part of the companies profit., but you have done no work to get those profits, you have added nothing to society., you are essentially getting money for already having money in the first place., on the other hand, you could give the profits to the people who actually worked for the money, who actually added value to society., reason 3: it would help with things like automation in the future., if the result of automation was not people losing their jobs, but instead people being able to work less while still having their job, that would be better., in our current economic system, automation will only benefit the few people who own parts in companies where jobs can be automated., if instead of losing jobs due to automation, we would lower the work times at a company, and if the profits of automation would the get distributed across the workers, then you have a system where automation benefits all, which in turn would result in less resistance against automation., because in theory, automation is always a good thing, because it results in less work having to be done in society in general., but at the moment, lots of people resists because they will not benefit from that automation, and will may even be actively harmed by losing their jobs., and before anyone now argues that what i am suggesting is pure communism, let me say that yeah, i m a socialist, and this is my view of how society should change.]</td>\n",
       "      <td>Companies should be owned by the people who work at that company, not some shareholders.</td>\n",
       "      <td>[Economic system should be changed. In particular, capitalism should be the primary system, with significant, Working time should not be at the discretion of shareholders, but the business owner, Communist society would work better with automation. for the worse.]</td>\n",
       "    </tr>\n",
       "    <tr>\n",
       "      <th>459352</th>\n",
       "      <td>[now to be fair, i waffle on this., i do believe that if someone feels their outward gender appearance is so detrimental to their mental health that they need to do something about it, they should., i have no problem with giving an adult yes, only an adult hormones to make them appear more like the opposite sex., i understand that it is easier to transition when you interrupt the hormones of puberty, but i don't believe we should allow medical science to do that, even if it makes transitioning easier., i do feel that we should consider transgender people a third gender and not necessarily 'trans women are women'., there are a myriad of morphological differences between male and female bodies., our bones are different, our hips, our ability to create striated muscle., women's weightlifting tournaments have begun to ban transgender women for that reason alone transgender women still create muscle mass like a biological male., in addition, i think that the surgery is still kind of barbaric., as gloria steinem said a while ago: 'if the shoe doesn't fit, the solution is not to change the foot', and i do find it sad that people feel so forced into gender binaries that they will essentially mutilate themselves., there are a few articles i have read about folks whom have undergone sex reassignment surgery and regretted it., i believe in the message of progression and liberalism on the whole, but these things i have a lot of trouble getting in line with., i know innocent and beautiful people have killed themselves over it., please help me expand my understanding of this topic.]</td>\n",
       "      <td>Sex reassignment surgery is barbaric and misses the point.</td>\n",
       "      <td>[Olympic weightlifting events and sports shouldn't be allowed to allow trans people, Mental health issues justify sex reassignment. on the whole, Sex reassignment surgery is barbaric and should not be legal, Trans woman who has undergone sex reassignment surgery become disgusted by how their bodies align with their, Gender binary theory is barbaric.and shouldn't be debated by medical science]</td>\n",
       "    </tr>\n",
       "    <tr>\n",
       "      <th>459587</th>\n",
       "      <td>[i've been doing some reading about how transgender female people are competing in women sports events., in the majority of cases, they tend to do pretty well., unsurprisingly., however, there's a big difference between barely winning and totally dominating, which is what seems to be happening., i linked a story about 2 transgender sprinters competing at state in track and field they won first and second by an enormous margin, which is a theme that holds when it comes to the issue as a whole., amp; x200b; if a transgender woman wants to compete in womens sports even as early as a high school level, you effectively have biological females competing against a trained male athlete on hormone therapy., i've met some incredibly talented female athletes in life so far, and there are seperate male and female sporting events for good reason it keeps the playing field fair for both sexes., if usain bolt suddenly decided to undergo gender transition therapy, started taking hormones, the whole nine yards, he would still be the most dominant sprinter by a very long shot., his biologically female counterparts would stand no chance whatsoever at getting first place., amp; x200b; cmv]</td>\n",
       "      <td>allowing trans people to compete in womens events will only marginalize women</td>\n",
       "      <td>[Secondary school-level trans athletes should compete in womens events and keep their gender out, Trans woman's athletes shouldn't be allowed to compete in womens events, Gender transitioning (gIR: transgendered women competing in womens events) only changes, Hormone therapy should not be used in trans athletes in womens events, Women's sports should be seperated from Male leagues]</td>\n",
       "    </tr>\n",
       "  </tbody>\n",
       "</table>\n",
       "</div>"
      ],
      "text/plain": [
       "                                                                                                                                                                                                                                                                                                                                                                                                                                                                                                                                                                                                                                                                                                                                                                                                                                                                                                                                                                                                                                                                                                                                                                                                                                                                                                                                                                                                                                                                                                                                                                                                                                                                                                                                                                                                                                                                                                                                                                                                                                                                                                                                       post  \\\n",
       "512794                                                                                                                                                                                                                                                                                                                                                                                                                                                                                                                                                                                                                                                           [i recently got in an argument with someone defending loli's and i was shocked., loli's are sexual drawings of very underage girls where guys usually above 18 obsess over them, adore them, and just do weird things to them., for me it's not that much different than child porn., these are drawings of young girls and degenerate neck beards jerk off to them and like those specific pics because they are so young., why can't they just jerk off to any other hentai?, because they enjoy how young these girls are., i also see the argument of how it's just fantasy and not real., yes they are fake thank god but these guys are still jerking off to them because of there age., these guys still have the fantasy of having sex with underage girls and use loli's as a way to please that desire., how come the furry community out right bans bestiality drawings because they find it disgusting and horrible but the hentai community still supports drawings of underage girls?, i also hear the argument 'oh we don't want to have sex with them we just adore them and find them so cute! ', that's still weird for me., 30 year olds adoring drawings of 9 year olds., honestly i don't think there is something right in the head if you adore those pics., for me loli's serve no good for anyone and appeal to weird neck beards., i would love to hear what people have to defend loli's and actually see if you guys change my views on them.]   \n",
       "540248                                                                                                                                                                                                                                                                                                                                                                                                                                                                                                                                                                                                                                                                                                                                                                                                                                                                                                                                                                                                                                                                                                                                                                                                                                                                                                                                                                                      [humans have been adapting to earth for hundreds of thousands of years., it's air, it's water, it's weather, it's day night cycle ect., even before 'modern' humans arrived our ancestors from which we evolved roamed this planet and did the same., so you could say we have spent over a billion years 'synchronizing' with this planet and it's soil., if you suddenly were to go to mars , it would completely throw everything out of whack., human's did not grow to live on that alien planet., the first generation of people living on mars will probably suffer great emotional, psychological and even physical pain attempting to live on this unfamiliar celestial body., stay here, where you have literally been born to live.]   \n",
       "489096  [in my opinion, the ownership of a company should always lie with the people employed by that company., the profit of the company should be given to those employees, and they should be able to elect the management., reason 1: it would democratise one of the most important aspects in most people s lives., people at hugely influenced by their workplace, yet those workplaces are almost always authoritarian in nature., we should instead expand the democracy to more parts of our lives, including the workplace., reason 2: it creates a fairer distribution of wealth., at the moment, you can buy shares of a company, and then get a part of the companies profit., but you have done no work to get those profits, you have added nothing to society., you are essentially getting money for already having money in the first place., on the other hand, you could give the profits to the people who actually worked for the money, who actually added value to society., reason 3: it would help with things like automation in the future., if the result of automation was not people losing their jobs, but instead people being able to work less while still having their job, that would be better., in our current economic system, automation will only benefit the few people who own parts in companies where jobs can be automated., if instead of losing jobs due to automation, we would lower the work times at a company, and if the profits of automation would the get distributed across the workers, then you have a system where automation benefits all, which in turn would result in less resistance against automation., because in theory, automation is always a good thing, because it results in less work having to be done in society in general., but at the moment, lots of people resists because they will not benefit from that automation, and will may even be actively harmed by losing their jobs., and before anyone now argues that what i am suggesting is pure communism, let me say that yeah, i m a socialist, and this is my view of how society should change.]   \n",
       "459352                                                                                                                                                                                                                                                                                                                                                                                                                                                                          [now to be fair, i waffle on this., i do believe that if someone feels their outward gender appearance is so detrimental to their mental health that they need to do something about it, they should., i have no problem with giving an adult yes, only an adult hormones to make them appear more like the opposite sex., i understand that it is easier to transition when you interrupt the hormones of puberty, but i don't believe we should allow medical science to do that, even if it makes transitioning easier., i do feel that we should consider transgender people a third gender and not necessarily 'trans women are women'., there are a myriad of morphological differences between male and female bodies., our bones are different, our hips, our ability to create striated muscle., women's weightlifting tournaments have begun to ban transgender women for that reason alone transgender women still create muscle mass like a biological male., in addition, i think that the surgery is still kind of barbaric., as gloria steinem said a while ago: 'if the shoe doesn't fit, the solution is not to change the foot', and i do find it sad that people feel so forced into gender binaries that they will essentially mutilate themselves., there are a few articles i have read about folks whom have undergone sex reassignment surgery and regretted it., i believe in the message of progression and liberalism on the whole, but these things i have a lot of trouble getting in line with., i know innocent and beautiful people have killed themselves over it., please help me expand my understanding of this topic.]   \n",
       "459587                                                                                                                                                                                                                                                                                                                                                                                                                                                                                                                                                                                                                                                                                                                                                                                                                                                                                                 [i've been doing some reading about how transgender female people are competing in women sports events., in the majority of cases, they tend to do pretty well., unsurprisingly., however, there's a big difference between barely winning and totally dominating, which is what seems to be happening., i linked a story about 2 transgender sprinters competing at state in track and field they won first and second by an enormous margin, which is a theme that holds when it comes to the issue as a whole., amp; x200b; if a transgender woman wants to compete in womens sports even as early as a high school level, you effectively have biological females competing against a trained male athlete on hormone therapy., i've met some incredibly talented female athletes in life so far, and there are seperate male and female sporting events for good reason it keeps the playing field fair for both sexes., if usain bolt suddenly decided to undergo gender transition therapy, started taking hormones, the whole nine yards, he would still be the most dominant sprinter by a very long shot., his biologically female counterparts would stand no chance whatsoever at getting first place., amp; x200b; cmv]   \n",
       "\n",
       "                                                                                            title  \\\n",
       "512794                                    Loli hentai is disgusting, creepy, and should be banned   \n",
       "540248                                     You Shouldn't Want To Live On Mars Or Any Other Planet   \n",
       "489096   Companies should be owned by the people who work at that company, not some shareholders.   \n",
       "459352                                 Sex reassignment surgery is barbaric and misses the point.   \n",
       "459587              allowing trans people to compete in womens events will only marginalize women   \n",
       "\n",
       "                                                                                                                                                                                                                                                                                                                                                                                                        conclusions  \n",
       "512794                                                                                                                                                                                     [Child pornography is bad because loli is disgusting., Minor (law) Adults in the Hentai community do not deserve praise or adoration, Ban (law) Hentai.(def.i) loli!, Furry fandom shouldn't allow loli's to be adored.]  \n",
       "540248                                                                                                                                                                                                                                                                                                                          [Astronomical objectification is wrong and human impulse to explore Mars is wrong.]  \n",
       "489096                                                                                                                                     [Economic system should be changed. In particular, capitalism should be the primary system, with significant, Working time should not be at the discretion of shareholders, but the business owner, Communist society would work better with automation. for the worse.]  \n",
       "459352  [Olympic weightlifting events and sports shouldn't be allowed to allow trans people, Mental health issues justify sex reassignment. on the whole, Sex reassignment surgery is barbaric and should not be legal, Trans woman who has undergone sex reassignment surgery become disgusted by how their bodies align with their, Gender binary theory is barbaric.and shouldn't be debated by medical science]  \n",
       "459587             [Secondary school-level trans athletes should compete in womens events and keep their gender out, Trans woman's athletes shouldn't be allowed to compete in womens events, Gender transitioning (gIR: transgendered women competing in womens events) only changes, Hormone therapy should not be used in trans athletes in womens events, Women's sports should be seperated from Male leagues]  "
      ]
     },
     "execution_count": 28,
     "metadata": {},
     "output_type": "execute_result"
    }
   ],
   "source": [
    "sample_test[['post', 'title', 'conclusions']].head()"
   ]
  },
  {
   "cell_type": "code",
   "execution_count": 29,
   "metadata": {},
   "outputs": [],
   "source": [
    "sample_test[['post', 'title', 'conclusions']].to_csv('../data/prompted-conclusion-sample.csv')"
   ]
  }
 ],
 "metadata": {
  "kernelspec": {
   "display_name": "Python 3",
   "language": "python",
   "name": "python3"
  },
  "language_info": {
   "codemirror_mode": {
    "name": "ipython",
    "version": 3
   },
   "file_extension": ".py",
   "mimetype": "text/x-python",
   "name": "python",
   "nbconvert_exporter": "python",
   "pygments_lexer": "ipython3",
   "version": "3.6.9"
  }
 },
 "nbformat": 4,
 "nbformat_minor": 4
}
