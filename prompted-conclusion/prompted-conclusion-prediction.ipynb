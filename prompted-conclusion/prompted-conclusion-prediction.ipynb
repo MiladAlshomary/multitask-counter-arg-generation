{
 "cells": [
  {
   "cell_type": "code",
   "execution_count": 1,
   "metadata": {},
   "outputs": [],
   "source": [
    "%load_ext autoreload"
   ]
  },
  {
   "cell_type": "code",
   "execution_count": 2,
   "metadata": {},
   "outputs": [],
   "source": [
    "import os\n",
    "import sys\n",
    "import re\n",
    "from argparse import Namespace\n",
    "\n",
    "sys.path.append('../src-py/')\n",
    "\n",
    "os.environ[\"CUDA_VISIBLE_DEVICES\"]=\"1\""
   ]
  },
  {
   "cell_type": "code",
   "execution_count": 43,
   "metadata": {},
   "outputs": [],
   "source": [
    "%autoreload\n",
    "\n",
    "from utils import *\n",
    "from project_debater_api import *\n",
    "from mt_bart_v2 import *"
   ]
  },
  {
   "cell_type": "code",
   "execution_count": 68,
   "metadata": {},
   "outputs": [],
   "source": [
    "import torch\n",
    "import json\n",
    "\n",
    "import nltk\n",
    "import numpy as np\n",
    "import pandas as pd\n",
    "\n",
    "from pathlib import Path\n",
    "from datasets import load_dataset, load_metric, Dataset\n",
    "\n",
    "from transformers import AutoModelForSeq2SeqLM, DataCollatorForSeq2Seq, Seq2SeqTrainingArguments, Seq2SeqTrainer\n",
    "from transformers import BartTokenizer, BartForConditionalGeneration\n",
    "\n",
    "import matplotlib.pyplot as plt"
   ]
  },
  {
   "cell_type": "code",
   "execution_count": 5,
   "metadata": {},
   "outputs": [],
   "source": [
    "from tabulate import tabulate"
   ]
  },
  {
   "cell_type": "code",
   "execution_count": 6,
   "metadata": {},
   "outputs": [],
   "source": [
    "import pandas as pd\n",
    "pd.set_option('display.max_colwidth', None)"
   ]
  },
  {
   "cell_type": "code",
   "execution_count": 7,
   "metadata": {},
   "outputs": [],
   "source": [
    "device = torch.device('cuda') if torch.cuda.is_available() else torch.device('cpu')"
   ]
  },
  {
   "cell_type": "code",
   "execution_count": 8,
   "metadata": {},
   "outputs": [
    {
     "data": {
      "text/plain": [
       "device(type='cuda')"
      ]
     },
     "execution_count": 8,
     "metadata": {},
     "output_type": "execute_result"
    }
   ],
   "source": [
    "device"
   ]
  },
  {
   "cell_type": "code",
   "execution_count": 9,
   "metadata": {},
   "outputs": [],
   "source": [
    "ceph_dir = '/home/sile2804/data-ceph/arguana/arg-generation/multi-taks-counter-argument-generation'\n",
    "local_home_dir = '../data'"
   ]
  },
  {
   "cell_type": "code",
   "execution_count": 90,
   "metadata": {},
   "outputs": [],
   "source": [
    "def generate_ds_multi_attacks(ds, model, tokenizer, premises_clm, conclusion_clm, gen_kwargs, skip_special_tokens=True, batch_size=16, nb_counters=5):\n",
    "    multi_attacks = []\n",
    "    for i in range(nb_counters):\n",
    "        proc_ds = ds.map(lambda x :preprocess_function(x, tokenizer, premises_clm, 'counter', conclusion_clm=conclusion_clm, conclusion_idx=i), batched=True)\n",
    "        proc_ds.set_format(type='torch', columns=['input_ids', 'attention_mask', 'labels'])\n",
    "        dataloader = torch.utils.data.DataLoader(proc_ds, batch_size=batch_size)\n",
    "        attacks = generate_counters(model, tokenizer, dataloader, gen_kwargs, skip_special_tokens=skip_special_tokens)\n",
    "        multi_attacks.append(attacks)\n",
    "        \n",
    "    multi_conc_attacks = list(zip(*multi_conc_attacks)) #convert into a list of tuples, each tuple contains nb_counters\n",
    "    return multi_attacks"
   ]
  },
  {
   "cell_type": "code",
   "execution_count": 96,
   "metadata": {},
   "outputs": [
    {
     "data": {
      "text/html": [
       "<div>\n",
       "<style scoped>\n",
       "    .dataframe tbody tr th:only-of-type {\n",
       "        vertical-align: middle;\n",
       "    }\n",
       "\n",
       "    .dataframe tbody tr th {\n",
       "        vertical-align: top;\n",
       "    }\n",
       "\n",
       "    .dataframe thead th {\n",
       "        text-align: right;\n",
       "    }\n",
       "</style>\n",
       "<table border=\"1\" class=\"dataframe\">\n",
       "  <thead>\n",
       "    <tr style=\"text-align: right;\">\n",
       "      <th></th>\n",
       "      <th>post_counters</th>\n",
       "    </tr>\n",
       "  </thead>\n",
       "  <tbody>\n",
       "    <tr>\n",
       "      <th>533361</th>\n",
       "      <td>[(all drugs should be legal and available for public consumption, i agree with you, but i don't think it would be a good idea to make all drugs legal and available for public consumption.), (Health care and enforcement should be accompanied by the introduction of drugs available for public consumption, the problem with this is that it creates a black market for drugs. the problem with the black market is that there is no way to stop it from happening.), (Black market drugs should be legal with all the restrictions., i agree with you, but i don't think it would be a good idea to have a black market for drugs.), (Dangerous goods (e.g. \"sharing needles\", cocaine) should be, i agree with you, but i don't think it's a good idea to make drugs illegal. i think it would be better to make them illegal in the first place, and make them legal in the second place.), (Health system should be more open to use andjection, i agree with you, but i don't think it's possible to change your view. i think the problem with your view is that it's not the government's responsibility to decide what is and isn't illegal. it's the people who make the decisions, and the people that make those decisions. the problem is that the government doesn't have the power to determine what is, or isn't, illegal, and what is not. if the government decides what is illegal, then it)]</td>\n",
       "    </tr>\n",
       "    <tr>\n",
       "      <th>496733</th>\n",
       "      <td>[(I dont understand why illegals in the US are being treated as a burden and not, i don't understand why illegals in the us are being treated as a burden and not a burden.), (Open border laws only hurt illegal immigrants, because they re-sso-mediculate, the problem with open borders is that they only hurt illegal immigrants, because they re re-sso-mediculate. the problem is that it's not just illegal immigrants that are hurt by open borders, it's people who are hurt because of open borders.), (Political agenda re-emerged in america i am against the re-open border immigration, i don't understand why they re used as a political sympathy and emotional pawn.)]</td>\n",
       "    </tr>\n",
       "    <tr>\n",
       "      <th>487043</th>\n",
       "      <td>[(it makes sense for men to agree with and even think that women are not capable of choosing, it makes sense for men to agree with and even think that women are not capable of choosing to have sex with other men.), (Organ (anatomy) is sometimes a synonym for 'heteronormativity', anatomy is not a synonym for 'heteronormativity' it is a term that is used to refer to a group of people who do not want to have sex with other people.), (Online dating service provider should not be exclusionary to straight partners, i'm not sure what you mean by exclusionary, but i think it's important to note that there are a lot of people who don't want to have sex with other people. for example, if you're in a relationship with a man who doesn't mind his so having sex with another man, then you shouldn't be excluding him from that relationship.), (Casual sex/relationships between consenting parties should be monogamous and not be socially, i'm not sure what you mean by'monogamous', but i think it's important to note that there are a lot of people who don't want to have sex with other people. for example, i'm in a monogamous relationship with a woman, and she is in a polyamorous relationship with another woman. i don't think that's the same thing as having sex with a man, but i do think that there is a difference between monogamous and polyam), (Emotional intelligence aside, i do not think being in a nonmonogamous relationship is, i'm not sure what you mean by 'emotional intelligence', but i think it's important to note that there are a lot of different types of emotional intelligence. for example, if you're in a monogamous relationship with a woman, you might not be attracted to her as much as you are attracted to a man. if you are in a polyamorous relationship with someone who is attracted to you, then you're attracted to them more than you are to any other person.)]</td>\n",
       "    </tr>\n",
       "    <tr>\n",
       "      <th>511391</th>\n",
       "      <td>[(the british crown should be abolished. The land and their wealth should be stripped for, the british crown is an obsolete system of government. the land and their wealth should be stripped for the good of the people.), (The Crown should be abolished and the land kept to their people., i agree with you that the monarchy should be abolished and the land kept to their people. however, i disagree with the idea that the land should be kept to the people.), (Operating expense without good is selfish and should be abolished, i don't think it's selfish to abolish the monarchy, but i do think it should be abolished for the good of the people.)]</td>\n",
       "    </tr>\n",
       "    <tr>\n",
       "      <th>500768</th>\n",
       "      <td>[(I believe homosexuality is a fetish.?, please!, i don't think it's a fetish, but i think you're missing the point. it's not just about the physical appearance of a person, it's about the sexual characteristics of their partner.), (Social media makes gay men feel like they can multiple partners at once and is a sign of, i'm not sure what you mean by'social media makes gay men feel like they can multiple partners at once and is a sign of sexual orientation. '), (Social science should not be based off ideology; as homosexuality is a sexual fetish, so is, i'm not sure what you mean by'sexual fetish', but i think you're missing the point. i think it's important to note that there are a lot of people who believe that homosexuality is a sexual fetish, but i don't think that's what you're talking about. it's not like you're saying that it's a fetish, it's just that you think it is.), (Sexual orientation is simply a response to a desire for physical attraction., i'm not sure what you mean by'sexual orientation', but i think you're missing the point. it's not just a desire for physical attraction, it's a desire to be in a relationship with someone who is attracted to you. if you're not attracted to someone you are attracted to, then you're attracted to them.), (Human sexuality/sexuality is a sexual fetish., i don't think it's a sexual fetish, but i do think it is a fetish.)]</td>\n",
       "    </tr>\n",
       "  </tbody>\n",
       "</table>\n",
       "</div>"
      ],
      "text/plain": [
       "                                                                                                                                                                                                                                                                                                                                                                                                                                                                                                                                                                                                                                                                                                                                                                                                                                                                                                                                                                                                                                                                                                                                                                                                                                                                                                                                                                                                                                                                                                                                                                                                                                                                                                                                                                                                                                                                                                                                                  post_counters\n",
       "533361                                                                                                                                                                                                                                                                                                                                                                                                                                                                                                                                      [(all drugs should be legal and available for public consumption, i agree with you, but i don't think it would be a good idea to make all drugs legal and available for public consumption.), (Health care and enforcement should be accompanied by the introduction of drugs available for public consumption, the problem with this is that it creates a black market for drugs. the problem with the black market is that there is no way to stop it from happening.), (Black market drugs should be legal with all the restrictions., i agree with you, but i don't think it would be a good idea to have a black market for drugs.), (Dangerous goods (e.g. \"sharing needles\", cocaine) should be, i agree with you, but i don't think it's a good idea to make drugs illegal. i think it would be better to make them illegal in the first place, and make them legal in the second place.), (Health system should be more open to use andjection, i agree with you, but i don't think it's possible to change your view. i think the problem with your view is that it's not the government's responsibility to decide what is and isn't illegal. it's the people who make the decisions, and the people that make those decisions. the problem is that the government doesn't have the power to determine what is, or isn't, illegal, and what is not. if the government decides what is illegal, then it)]\n",
       "496733                                                                                                                                                                                                                                                                                                                                                                                                                                                                                                                                                                                                                                                                                                                                                                                                                                                                                                                                                                                                                                                                                                                                                                                                                                                                 [(I dont understand why illegals in the US are being treated as a burden and not, i don't understand why illegals in the us are being treated as a burden and not a burden.), (Open border laws only hurt illegal immigrants, because they re-sso-mediculate, the problem with open borders is that they only hurt illegal immigrants, because they re re-sso-mediculate. the problem is that it's not just illegal immigrants that are hurt by open borders, it's people who are hurt because of open borders.), (Political agenda re-emerged in america i am against the re-open border immigration, i don't understand why they re used as a political sympathy and emotional pawn.)]\n",
       "487043  [(it makes sense for men to agree with and even think that women are not capable of choosing, it makes sense for men to agree with and even think that women are not capable of choosing to have sex with other men.), (Organ (anatomy) is sometimes a synonym for 'heteronormativity', anatomy is not a synonym for 'heteronormativity' it is a term that is used to refer to a group of people who do not want to have sex with other people.), (Online dating service provider should not be exclusionary to straight partners, i'm not sure what you mean by exclusionary, but i think it's important to note that there are a lot of people who don't want to have sex with other people. for example, if you're in a relationship with a man who doesn't mind his so having sex with another man, then you shouldn't be excluding him from that relationship.), (Casual sex/relationships between consenting parties should be monogamous and not be socially, i'm not sure what you mean by'monogamous', but i think it's important to note that there are a lot of people who don't want to have sex with other people. for example, i'm in a monogamous relationship with a woman, and she is in a polyamorous relationship with another woman. i don't think that's the same thing as having sex with a man, but i do think that there is a difference between monogamous and polyam), (Emotional intelligence aside, i do not think being in a nonmonogamous relationship is, i'm not sure what you mean by 'emotional intelligence', but i think it's important to note that there are a lot of different types of emotional intelligence. for example, if you're in a monogamous relationship with a woman, you might not be attracted to her as much as you are attracted to a man. if you are in a polyamorous relationship with someone who is attracted to you, then you're attracted to them more than you are to any other person.)]\n",
       "511391                                                                                                                                                                                                                                                                                                                                                                                                                                                                                                                                                                                                                                                                                                                                                                                                                                                                                                                                                                                                                                                                                                                                                                                                                                                                                    [(the british crown should be abolished. The land and their wealth should be stripped for, the british crown is an obsolete system of government. the land and their wealth should be stripped for the good of the people.), (The Crown should be abolished and the land kept to their people., i agree with you that the monarchy should be abolished and the land kept to their people. however, i disagree with the idea that the land should be kept to the people.), (Operating expense without good is selfish and should be abolished, i don't think it's selfish to abolish the monarchy, but i do think it should be abolished for the good of the people.)]\n",
       "500768                                                                                                                                                                                                                                                                                                                                                                                                                                                                                                            [(I believe homosexuality is a fetish.?, please!, i don't think it's a fetish, but i think you're missing the point. it's not just about the physical appearance of a person, it's about the sexual characteristics of their partner.), (Social media makes gay men feel like they can multiple partners at once and is a sign of, i'm not sure what you mean by'social media makes gay men feel like they can multiple partners at once and is a sign of sexual orientation. '), (Social science should not be based off ideology; as homosexuality is a sexual fetish, so is, i'm not sure what you mean by'sexual fetish', but i think you're missing the point. i think it's important to note that there are a lot of people who believe that homosexuality is a sexual fetish, but i don't think that's what you're talking about. it's not like you're saying that it's a fetish, it's just that you think it is.), (Sexual orientation is simply a response to a desire for physical attraction., i'm not sure what you mean by'sexual orientation', but i think you're missing the point. it's not just a desire for physical attraction, it's a desire to be in a relationship with someone who is attracted to you. if you're not attracted to someone you are attracted to, then you're attracted to them.), (Human sexuality/sexuality is a sexual fetish., i don't think it's a sexual fetish, but i do think it is a fetish.)]"
      ]
     },
     "execution_count": 96,
     "metadata": {},
     "output_type": "execute_result"
    }
   ],
   "source": [
    "valid_df[['post_counters']].head()"
   ]
  },
  {
   "cell_type": "code",
   "execution_count": 97,
   "metadata": {},
   "outputs": [],
   "source": [
    "all_counters = valid_df.post_counters.tolist()"
   ]
  },
  {
   "cell_type": "code",
   "execution_count": null,
   "metadata": {},
   "outputs": [],
   "source": []
  },
  {
   "cell_type": "code",
   "execution_count": 11,
   "metadata": {},
   "outputs": [],
   "source": [
    "def get_evaluation_results(reddit_pred_df, df_path):\n",
    "    \n",
    "    #collect references\n",
    "    df = pd.read_pickle(df_path)\n",
    "    arg_counters = df.groupby('post_id').agg({\n",
    "        'counter': lambda x: [' '.join(c) for c in x]\n",
    "    }).reset_index()\n",
    "\n",
    "    arg_counters = pd.Series(arg_counters.counter.values, index=arg_counters.post_id).to_dict()\n",
    "\n",
    "    reddit_pred_df['all_counters'] = reddit_pred_df['post_id'].apply(lambda x: arg_counters[x])\n",
    "    reddit_pred_df['all_counters'] = reddit_pred_df.all_counters.apply(lambda claims: [c for c in claims if c !=''])\n",
    "    reddit_pred_df = reddit_pred_df[reddit_pred_df.all_counters.map(len) > 0]\n",
    "\n",
    "    \n",
    "    bart_conc_eval   = evaluate_gen_attacks(reddit_pred_df['bart_conc_attacks'].tolist(), reddit_pred_df['all_counters'].tolist(), detailed=True)\n",
    "    \n",
    "    \n",
    "    #Test stance correctness\n",
    "    filtered_reddit_pred_df = reddit_pred_df[pd.notna(reddit_pred_df.conclusion_target)]\n",
    "    \n",
    "    \n",
    "    #compute the stance of the generated counters towards the conclusion target\n",
    "    filtered_reddit_pred_df['masked_conc_stances'] = get_stances(filtered_reddit_pred_df.conclusion_target.tolist(), filtered_reddit_pred_df.masked_conc_attacks.tolist())\n",
    "    filtered_reddit_pred_df['known_conc_stances']  = get_stances(filtered_reddit_pred_df.conclusion_target.tolist(), filtered_reddit_pred_df.known_conc_attacks.tolist())\n",
    "    filtered_reddit_pred_df['bart_conc_stances']   = get_stances(filtered_reddit_pred_df.conclusion_target.tolist(), filtered_reddit_pred_df.bart_conc_attacks.tolist())\n",
    "    filtered_reddit_pred_df['arglex_conc_stances'] = get_stances(filtered_reddit_pred_df.conclusion_target.tolist(), filtered_reddit_pred_df.arglex_conc_attacks.tolist())\n",
    "    filtered_reddit_pred_df['pred_conc_stances']   = get_stances(filtered_reddit_pred_df.conclusion_target.tolist(), filtered_reddit_pred_df.joint_conc_baseline_attacks.tolist())\n",
    "    filtered_reddit_pred_df['joint_conc_stances']  = get_stances(filtered_reddit_pred_df.conclusion_target.tolist(), filtered_reddit_pred_df.joint_conc_attacks.tolist())\n",
    "    \n",
    "    #compute the distance between the conclusion stance and the attack stance: the bigger the distance the better...\n",
    "    masked_conc_eval['stance_score'] = round(np.mean([abs(x[0] - x[1]) for x in zip(filtered_reddit_pred_df.masked_conc_stances.tolist(), filtered_reddit_pred_df.conclusion_stance.tolist())]), 2)\n",
    "    known_conc_eval['stance_score']  = round(np.mean([abs(x[0] - x[1]) for x in zip(filtered_reddit_pred_df.known_conc_stances.tolist(), filtered_reddit_pred_df.conclusion_stance.tolist())]), 2)\n",
    "    bart_conc_eval['stance_score']   = round(np.mean([abs(x[0] - x[1]) for x in zip(filtered_reddit_pred_df.bart_conc_stances.tolist(), filtered_reddit_pred_df.conclusion_stance.tolist())]), 2)\n",
    "    arglex_conc_eval['stance_score'] = round(np.mean([abs(x[0] - x[1]) for x in zip(filtered_reddit_pred_df.arglex_conc_stances.tolist(), filtered_reddit_pred_df.conclusion_stance.tolist())]), 2)\n",
    "    pred_conc_eval['stance_score']   = round(np.mean([abs(x[0] - x[1]) for x in zip(filtered_reddit_pred_df.pred_conc_stances.tolist(), filtered_reddit_pred_df.conclusion_stance.tolist())]), 2)\n",
    "    joint_conc_eval['stance_score']  = round(np.mean([abs(x[0] - x[1]) for x in zip(filtered_reddit_pred_df.joint_conc_stances.tolist(), filtered_reddit_pred_df.conclusion_stance.tolist())]), 2)\n",
    "\n",
    "    #check if the two stances are contradicotry\n",
    "    #masked_conc_stance_score2 = round(sum([int(x[0] * x[1] < 0) for x in zip(filtered_reddit_pred_df.masked_conc_stances.tolist(), filtered_reddit_pred_df.conclusion_stance.tolist())])/len(filtered_reddit_pred_df), 2)\n",
    "    #known_conc_stance_score2  = round(sum([int(x[0] * x[1] < 0) for x in zip(filtered_reddit_pred_df.known_conc_stances.tolist(), filtered_reddit_pred_df.conclusion_stance.tolist())])/len(filtered_reddit_pred_df), 2)\n",
    "    #bart_conc_stance_score2   = round(sum([int(x[0] * x[1] < 0) for x in zip(filtered_reddit_pred_df.bart_conc_stances.tolist(), filtered_reddit_pred_df.conclusion_stance.tolist())])/len(filtered_reddit_pred_df), 2)\n",
    "    #pred_conc_stance_score2  = round(sum([int(x[0] * x[1] < 0) for x in zip(filtered_reddit_pred_df.pred_conc_stances.tolist(), filtered_reddit_pred_df.conclusion_stance.tolist())])/len(filtered_reddit_pred_df), 2)\n",
    "    #joint_conc_stance_score2  = round(sum([int(x[0] * x[1] < 0) for x in zip(filtered_reddit_pred_df.joint_conc_stances.tolist(), filtered_reddit_pred_df.conclusion_stance.tolist())])/len(filtered_reddit_pred_df), 2)\n",
    "    return {'Masked Conclusion': masked_conc_eval,\n",
    "            'BART Conclusion': bart_conc_eval,\n",
    "            'ArgLexRank Conclusion': arglex_conc_eval,\n",
    "            'Joint Prediction (baseline)': pred_conc_eval,\n",
    "            'Joint Prediction': joint_conc_eval,\n",
    "            'Known Conclusion': known_conc_eval,\n",
    "            'preds_df' : reddit_pred_df,\n",
    "            'stances_df': filtered_reddit_pred_df}\n",
    "\n",
    "\n",
    "def print_results(pred_df_scores, print_sig=False, sig_lvl=0.05):\n",
    "    for key in ['Masked Conclusion', 'BART Conclusion', 'ArgLexRank Conclusion', 'Joint Prediction (baseline)', 'Joint Prediction', 'Known Conclusion']:\n",
    "        for key2 in ['bleu', 'bert-fscore']:\n",
    "            pred_df_scores[key][key2] = round(pred_df_scores[key][key2], 2)\n",
    "            \n",
    "    res_table = tabulate([['Masked Conclusion'] + [pred_df_scores['Masked Conclusion']['bleu'], pred_df_scores['Masked Conclusion']['bert-fscore'], pred_df_scores['Masked Conclusion']['stance_score']],\n",
    "                    ['BART Conclusion'] + [pred_df_scores['BART Conclusion']['bleu'], pred_df_scores['BART Conclusion']['bert-fscore'], pred_df_scores['BART Conclusion']['stance_score']],\n",
    "                    ['ArgLexRank Conclusion'] + [pred_df_scores['ArgLexRank Conclusion']['bleu'], pred_df_scores['ArgLexRank Conclusion']['bert-fscore'], pred_df_scores['ArgLexRank Conclusion']['stance_score']],\n",
    "                    ['Joint Prediction (baseline)'] + [pred_df_scores['Joint Prediction (baseline)']['bleu'], pred_df_scores['Joint Prediction (baseline)']['bert-fscore'], pred_df_scores['Joint Prediction (baseline)']['stance_score']],\n",
    "                    ['Joint Prediction'] + [pred_df_scores['Joint Prediction']['bleu'], pred_df_scores['Joint Prediction']['bert-fscore'], pred_df_scores['Joint Prediction']['stance_score']],\n",
    "                    ['Known Conclusion'] + [pred_df_scores['Known Conclusion']['bleu'], pred_df_scores['Known Conclusion']['bert-fscore'], pred_df_scores['Known Conclusion']['stance_score']],\n",
    "        ], headers=['bleu', 'bert-f1score', 'stance-score (diff)'])\n",
    "    \n",
    "    print(res_table)\n",
    "\n",
    "    if print_sig:\n",
    "        print('=======')\n",
    "        #Check significancy:\n",
    "        print('BART vs baseline (BLEU):', check_sig(pred_df_scores['Joint Prediction']['bleu_scores'], pred_df_scores['Masked Conclusion']['bleu_scores'], alpha=sig_lvl))\n",
    "        print('BART vs baseline (BERT):', check_sig(pred_df_scores['Joint Prediction']['bert-fscores'], pred_df_scores['Masked Conclusion']['bert-fscores'], alpha=sig_lvl))\n",
    "        print('-------')\n",
    "        print('Joint Prediction (baseline) vs baseline (BLEU):', check_sig(pred_df_scores['Joint Prediction (baseline)']['bleu_scores'], pred_df_scores['Masked Conclusion']['bleu_scores'], alpha=sig_lvl))\n",
    "        print('Joint Prediction (baseline) vs baseline (BERT):', check_sig(pred_df_scores['Joint Prediction (baseline)']['bert-fscores'], pred_df_scores['Masked Conclusion']['bert-fscores'], alpha=sig_lvl))\n",
    "        print('-------')\n",
    "        print('Joint Prediction vs baseline (BLEU):', check_sig(pred_df_scores['Joint Prediction']['bleu_scores'], pred_df_scores['Masked Conclusion']['bleu_scores'], alpha=sig_lvl))\n",
    "        print('Joint Prediction vs baseline (BERT):', check_sig(pred_df_scores['Joint Prediction']['bert-fscores'], pred_df_scores['Masked Conclusion']['bert-fscores'], alpha=sig_lvl))\n",
    "        print('-------')\n",
    "        print('Known Conclusion vs baseline (BLEU):', check_sig(pred_df_scores['Known Conclusion']['bleu_scores'], pred_df_scores['Masked Conclusion']['bleu_scores'], alpha=sig_lvl))\n",
    "        print('Known Conclusion vs baseline (BERT):', check_sig(pred_df_scores['Known Conclusion']['bert-fscores'], pred_df_scores['Masked Conclusion']['bert-fscores'], alpha=sig_lvl))\n",
    "        \n",
    "    return res_table"
   ]
  },
  {
   "cell_type": "markdown",
   "metadata": {},
   "source": [
    "----------------------"
   ]
  },
  {
   "cell_type": "markdown",
   "metadata": {},
   "source": [
    "## Test Models trained on all data for different levels of conclusion masking:"
   ]
  },
  {
   "cell_type": "code",
   "execution_count": 62,
   "metadata": {},
   "outputs": [],
   "source": [
    "data_unique_path = '/reddit_data/conclusion_and_ca_generation/test_conclusion_all_multi_conclusions.pkl'\n",
    "data_path = '/reddit_data/conclusion_and_ca_generation/test_concusion_all.pkl'"
   ]
  },
  {
   "cell_type": "code",
   "execution_count": 23,
   "metadata": {},
   "outputs": [],
   "source": [
    "# Loading Reddit models\n",
    "known_conclusion_model = BartForConditionalGeneration.from_pretrained(local_home_dir  + '/output/valid-ft-all/known-conc-model-2e-05-32').to(device)\n",
    "known_conclusion_tokenizer = BartTokenizer.from_pretrained(local_home_dir + '/output/valid-ft-all/known-conc-model-2e-05-32')"
   ]
  },
  {
   "cell_type": "code",
   "execution_count": 63,
   "metadata": {},
   "outputs": [],
   "source": [
    "valid_df = pd.read_pickle(ceph_dir + data_unique_path)"
   ]
  },
  {
   "cell_type": "code",
   "execution_count": 64,
   "metadata": {},
   "outputs": [
    {
     "data": {
      "text/plain": [
       "1901"
      ]
     },
     "execution_count": 64,
     "metadata": {},
     "output_type": "execute_result"
    }
   ],
   "source": [
    "len(valid_df)"
   ]
  },
  {
   "cell_type": "code",
   "execution_count": 65,
   "metadata": {},
   "outputs": [],
   "source": [
    "def get_n_conclusions(post_conclusions, n=5):\n",
    "    d = {x[0]: x[1] for x in post_conclusions}\n",
    "    original_conc_without_prompt = d.pop('', None)\n",
    "    return [original_conc_without_prompt] + list(d.values())[:n-1]\n",
    "\n",
    "valid_df['post_conclusions'] = valid_df.post_conclusions.apply(lambda x: get_n_conclusions(x))"
   ]
  },
  {
   "cell_type": "code",
   "execution_count": 66,
   "metadata": {
    "scrolled": true,
    "tags": []
   },
   "outputs": [
    {
     "data": {
      "text/html": [
       "<div>\n",
       "<style scoped>\n",
       "    .dataframe tbody tr th:only-of-type {\n",
       "        vertical-align: middle;\n",
       "    }\n",
       "\n",
       "    .dataframe tbody tr th {\n",
       "        vertical-align: top;\n",
       "    }\n",
       "\n",
       "    .dataframe thead th {\n",
       "        text-align: right;\n",
       "    }\n",
       "</style>\n",
       "<table border=\"1\" class=\"dataframe\">\n",
       "  <thead>\n",
       "    <tr style=\"text-align: right;\">\n",
       "      <th></th>\n",
       "      <th>post</th>\n",
       "      <th>title</th>\n",
       "      <th>post_concepts</th>\n",
       "      <th>post_conclusions</th>\n",
       "    </tr>\n",
       "  </thead>\n",
       "  <tbody>\n",
       "    <tr>\n",
       "      <th>533361</th>\n",
       "      <td>[my view here stems from 2 ideals, a personal one and a logical one., the more succinct ideal is a personal view that it is not, nor should ever be up to the government to decide what i can or can't do to my body., my logical and more detailed part of this view is on how society would benefit., drugs are currently being used at a staggering rate., and yet these drugs are illegal., as prohibition of alcohol has shown us, making something illegal doesn't erase the market, but instead creates a black market for that product., with black markets come crime, corruption and violence which adds stress on our healthcare and justice systems., as well, overdose due to drugs cut with unknown and dangerous substances and the spread of diseases through sharing needles is an epidemic that is a further tax on our healthcare system., by manufacturing these drugs and having them available for public consumption we could eliminate the spread of diseases, and prevent overdoses by controlling the whole process of drug addiction., and by this extent we're able to even help people out of addiction, instead of letting them fend for themselves.]</td>\n",
       "      <td>all drugs should be legalized, manufactured, and available for public use.</td>\n",
       "      <td>[Health care, Black market, Dangerous goods, Health system, Logical conjunction]</td>\n",
       "      <td>[all drugs should be legal and available for public consumption, Health care and enforcement should be accompanied by the introduction of drugs available for public consumption, Black market drugs should be legal with all the restrictions., Dangerous goods (e.g. \"sharing needles\", cocaine) should be, Health system should be more open to use andjection]</td>\n",
       "    </tr>\n",
       "    <tr>\n",
       "      <th>496733</th>\n",
       "      <td>[i don t understand why they re used as a political sympathy and emotional pawn., these people broke the law at there own risk and now they re paying the price for it simple as that., there are laws for a reason we re not an open border country for a reason., as a immigrant who spent thousands of dollars and many hours working to come legally i find it highly irritating that they re being defended for breaking a law., it s a different story when people seek asylum for actual reasons., this political agenda people use only makes it worse for them.]</td>\n",
       "      <td>Illegal immigrants broke the law, they should be treated as such not saints.</td>\n",
       "      <td>[Open border, Political agenda]</td>\n",
       "      <td>[I dont understand why illegals in the US are being treated as a burden and not, Open border laws only hurt illegal immigrants, because they re-sso-mediculate, Political agenda re-emerged in america i am against the re-open border immigration]</td>\n",
       "    </tr>\n",
       "    <tr>\n",
       "      <th>487043</th>\n",
       "      <td>[it is quite common for people in nonmonogamous relationships be it open relationships, polyamorous ones, etc. , especially for 'newbies' to have gender specific rules about who their so is allowed to be intimate with and under what conditions., the most infamous of such rules is the 'one penis poilicy' i hope the name is self explanatory ., in general, for a woman in a heterosexual relationships, contacts with other women are almost always more permissible than with men., this also comes up in monogamous context just a couple of days ago i run into a thread in r amitheasshole where the op, who is in a relationship with a bisexual woman, got in trouble for saying he would not mind if she had sex with other women but was vehemently opposed to her having sex with another man just to be clear, ihmo he still was a bit of an asshole but that's not the point ., amp; x200b; rules and preferences like the ones described above often come under heavy criticism from the bi community and from the poly community., the reasoning is generally that if you're a man who doesn't mind his so having sex with women as much as with men, then you must be viewing lesbian relationships as less valid., i certainly agree with this line of reasoning if we replace 'must' with 'might'., definitely, a sexist biphobic?, homophobic?, take your pick man who believes lesbian sex is somehow lesser would be in favour of the one penis policy, and if a man advocates for one penis policy it's a reason to suspect he might be sexists., but i don't think the implication goes in the other direction: apart from sexism, there are valid reasons for a man to be more jealous of men than of women., amp; x200b; 1., different niches., sex with women is different than sex with men., at the risk of stating the obvious, both are valid, both are valuable, both can be lots of fun but they're not the same., as an analogy, if i were regularly playing football with a friend and he joined another football group, i think it would be a cause for concern: is this football group not enough for him?, are we not fun to play with?, what if the other football group is better than ours?, if he joined a basketball group, there would not be much to worry about he enjoys both sports, cool., i can see the argument going the other direction here: maybe he's not into football at all now?, depending on the personality, one line of reasoning will be more compelling than the other, and all i'm arguing is that there is a valid why someone might hold certain view, not that anyone should hold the same view., 2., different people., sorry if this sounds sexist, but women and men are different, and i believe it is valid to be more or less jealous of people based on their character., again, i'm not saying that women are in any way worse or that the differences are inherent, or that there are no outliers., but we do live in a society that treats men and women differently in their formative years and is overall quite genedered it would be a miracle if these differences in treatment did not translate to some differences in character., in fact, where there are relevant differences, it seems to me that women are superior it's quite rare to see a woman displaying toxic masculinity and women on average seem to be more introspective and have greater emotional intelligence., and when i think of my so having sex with someone else, toxic masculinity is close to the top of the traits i don't want them to have., 3., visceral responses., i think a huge part of why we feel bad about the possibility of our sos being intimate with others is social conditioning., i don't necessarily think it's right see below but i also don't think feelings are invalid just because of their origin., it also seems to me that men are very strongly conditioned to be jealous of other men, while the same conditioning does not really happen for jealousy of women now, this can very well be because whatever forces gave rise to this conditioning were in some way sexist to the extent that abstract concepts can be sexist but that does not affect my point ., of course, people might want to reshape themselves, but this is a process that takes both time and energy., so, i don't think it's unreasonable for a man to have a strong negative visceral response to his so having sex with men, have no such response in the case of women, and while not necessarily endorsing these responses or lack thereof , expect his so to be mindful of them., 4., dating experience., i'm not sure if this would be the case in a perfect society, but in the world as it is now it is a fact of life that men and women have a notably different experience when it comes to dating, relationships and sex., it's enough to have a look at any dating site., in particular, it is much easier for a woman to find a man to have casual sex with than it is for a man to find a woman to have casual sex with., it also seems that it's pretty hard for a woman to find a woman, and pretty easy for a man to find a man., it's easy to see how this would lead to more jealousy in some cases than in others., amp; x200b; in the interest of full disclosure: i'm a bisexual man significantly more into women but definitely also into men in a polyamorish it's complicated relationship with a bisexual woman., we don't have a one penis policy, nor would i want it.]</td>\n",
       "      <td>It is valid for a man to be more jealous of men then of women (in sexual context).</td>\n",
       "      <td>[Organ (anatomy), Online dating service, Casual sex, Emotional intelligence, Open relationship]</td>\n",
       "      <td>[it makes sense for men to agree with and even think that women are not capable of choosing, Organ (anatomy) is sometimes a synonym for 'heteronormativity', Online dating service provider should not be exclusionary to straight partners, Casual sex/relationships between consenting parties should be monogamous and not be socially, Emotional intelligence aside, i do not think being in a nonmonogamous relationship is]</td>\n",
       "    </tr>\n",
       "    <tr>\n",
       "      <th>511391</th>\n",
       "      <td>[the british crown is an obsolete system of government and should be abolished, their land and wealth stripped for the good of the people., taxes are spent to pay for their lavish lifestyle, pay for their marriage ceremony and travel expenses even when they are not diplomatic., they were born into a position of power they have no right to be in., they are not voted into the position and have no merit to prove it to be in the position., someone can say that the monarchy attracts tourist, but to be honest, france is the most visited place on the planet and they cancelled their monarchy long ago., also, some land in britain is still owned by the ruling family but that's not what abolishment should look like oh yeah, you don't rule anymore but you control a large amount of the land they should be stripped of their own property because everything they own was obtained by their ancestors that claimed the land and murder everyone that didn't accept that.]</td>\n",
       "      <td>Monarchy have no reason to exist in modern world</td>\n",
       "      <td>[The Crown, Operating expense]</td>\n",
       "      <td>[the british crown should be abolished. The land and their wealth should be stripped for, The Crown should be abolished and the land kept to their people., Operating expense without good is selfish and should be abolished]</td>\n",
       "    </tr>\n",
       "    <tr>\n",
       "      <th>500768</th>\n",
       "      <td>[i will start by saying that i am heavily drawing from my own flawed, anecdotal observations, which is why i am attempting to broaden my viewpoint on this with your assistance., i've had four close male friends come out as gay within the last ten years, and i live around and work with other homosexuals., each of them routinely post pictures on social media with ever changing groups of other gay men., only one of my friends has entered into exclusive relationships, and even then his endeavors haven't been particularly committed there was one period where he had 3 break ups in a four month span., from what i have observed, gay men tend to switch partners quite frequently, and it seems to me that they often roll around with multiple partners at once., why is this?, in my mind, homosexuality and by extension, most of the lgbtq subtypes is in fact just a sexual fetish., i am well aware that there are any number of pseudoscientific social science articles saying otherwise, but i find it hard to fully buy into social science because of it's sampling and implicit biases., not to mention that any academic who explored this idea honestly would likely end up lambasted by his peers in the current climate., anyways, just so we're all on the same page a fetish, by definition, is 'a form of sexual desire in which gratification is linked to an abnormal degree to a particular object, item of clothing, part of the body, etc. ' a sexuality or sexual orientation is 'a person's sexual identity in relation to the gender to which they are attracted; the fact of being heterosexual, homosexual, or bisexual. ', ponder this: what is it that a gay man is attracted to?, is it the gender identity of his partner, or the physical form of his partner?, i choose to believe it's the latter., there are plenty of manly women, there are plenty of womanly men, and there are plenty of trans people that gay people simply are not dating., i have to believe it's because homosexuals are attracted to the physical form i. e. , the body parts of his her chosen partner s ., in my mind, this is why they're always sleeping around with a large number of partners, and why so many of them never enter into truly committed romantic relationships., this is why so many pride parades feature dildos and bdsm gear and nipple pasties and any other degree of erotic paraphernalia, because it's not about the romantic aspects at the end of the day., it's about the sex., would love to have my views challenged on this stance.]</td>\n",
       "      <td>Homosexuality is a fetish and nothing truly romantic.</td>\n",
       "      <td>[Social media, Social science, Sexual orientation, Human sexuality, Romance (love)]</td>\n",
       "      <td>[I believe homosexuality is a fetish.?, please!, Social media makes gay men feel like they can multiple partners at once and is a sign of, Social science should not be based off ideology; as homosexuality is a sexual fetish, so is, Sexual orientation is simply a response to a desire for physical attraction., Human sexuality/sexuality is a sexual fetish.]</td>\n",
       "    </tr>\n",
       "  </tbody>\n",
       "</table>\n",
       "</div>"
      ],
      "text/plain": [
       "                                                                                                                                                                                                                                                                                                                                                                                                                                                                                                                                                                                                                                                                                                                                                                                                                                                                                                                                                                                                                                                                                                                                                                                                                                                                                                                                                                                                                                                                                                                                                                                                                                                                                                                                                                                                                                                                                                                                                                                                                                                                                                                                                                                                                                                                                                                                                                                                                                                                                                                                                                                                                                                                                                                                                                                                                                                                                                                                                                                                                                                                                                                                                                                                                                                                                                                                                                                                                                                                                                                                                                                                                                                                                                                                                                                                                                                                                                                                                                                                                                                                                                                                                                                                                                                                                                                                                                                                                                                                                                                                                                                                                                                                                                                                                                                                                                                                                                                                                                                                                                                                                                                                                                                                                                                                                                                                                                                                                                                                                                                                                                                      post  \\\n",
       "533361                                                                                                                                                                                                                                                                                                                                                                                                                                                                                                                                                                                                                                                                                                                                                                                                                                                                                                                                                                                                                                                                                                                                                                                                                                                                                                                                                                                                                                                                                                                                                                                                                                                                                                                                                                                                                                                                                                                                                                                                                                                                                                                                                                                                                                                                                                                                                                                                                                                                                                                                                                                                                                                                                                                                                                                                                                                                                                                                                                                                                                                                                                                                                                                                                                                                                                                                                                                                                                                                                                                                                                                                                                                                                                                                                                                                                                                                                                                                                                                                                                                                                                                                                                                                                                                                                                                                                                                                 [my view here stems from 2 ideals, a personal one and a logical one., the more succinct ideal is a personal view that it is not, nor should ever be up to the government to decide what i can or can't do to my body., my logical and more detailed part of this view is on how society would benefit., drugs are currently being used at a staggering rate., and yet these drugs are illegal., as prohibition of alcohol has shown us, making something illegal doesn't erase the market, but instead creates a black market for that product., with black markets come crime, corruption and violence which adds stress on our healthcare and justice systems., as well, overdose due to drugs cut with unknown and dangerous substances and the spread of diseases through sharing needles is an epidemic that is a further tax on our healthcare system., by manufacturing these drugs and having them available for public consumption we could eliminate the spread of diseases, and prevent overdoses by controlling the whole process of drug addiction., and by this extent we're able to even help people out of addiction, instead of letting them fend for themselves.]   \n",
       "496733                                                                                                                                                                                                                                                                                                                                                                                                                                                                                                                                                                                                                                                                                                                                                                                                                                                                                                                                                                                                                                                                                                                                                                                                                                                                                                                                                                                                                                                                                                                                                                                                                                                                                                                                                                                                                                                                                                                                                                                                                                                                                                                                                                                                                                                                                                                                                                                                                                                                                                                                                                                                                                                                                                                                                                                                                                                                                                                                                                                                                                                                                                                                                                                                                                                                                                                                                                                                                                                                                                                                                                                                                                                                                                                                                                                                                                                                                                                                                                                                                                                                                                                                                                                                                                                                                                                                                                                                                                                                                                                                                                                                                                                                                                                                                                                                                                                                                                                                                                                                           [i don t understand why they re used as a political sympathy and emotional pawn., these people broke the law at there own risk and now they re paying the price for it simple as that., there are laws for a reason we re not an open border country for a reason., as a immigrant who spent thousands of dollars and many hours working to come legally i find it highly irritating that they re being defended for breaking a law., it s a different story when people seek asylum for actual reasons., this political agenda people use only makes it worse for them.]   \n",
       "487043  [it is quite common for people in nonmonogamous relationships be it open relationships, polyamorous ones, etc. , especially for 'newbies' to have gender specific rules about who their so is allowed to be intimate with and under what conditions., the most infamous of such rules is the 'one penis poilicy' i hope the name is self explanatory ., in general, for a woman in a heterosexual relationships, contacts with other women are almost always more permissible than with men., this also comes up in monogamous context just a couple of days ago i run into a thread in r amitheasshole where the op, who is in a relationship with a bisexual woman, got in trouble for saying he would not mind if she had sex with other women but was vehemently opposed to her having sex with another man just to be clear, ihmo he still was a bit of an asshole but that's not the point ., amp; x200b; rules and preferences like the ones described above often come under heavy criticism from the bi community and from the poly community., the reasoning is generally that if you're a man who doesn't mind his so having sex with women as much as with men, then you must be viewing lesbian relationships as less valid., i certainly agree with this line of reasoning if we replace 'must' with 'might'., definitely, a sexist biphobic?, homophobic?, take your pick man who believes lesbian sex is somehow lesser would be in favour of the one penis policy, and if a man advocates for one penis policy it's a reason to suspect he might be sexists., but i don't think the implication goes in the other direction: apart from sexism, there are valid reasons for a man to be more jealous of men than of women., amp; x200b; 1., different niches., sex with women is different than sex with men., at the risk of stating the obvious, both are valid, both are valuable, both can be lots of fun but they're not the same., as an analogy, if i were regularly playing football with a friend and he joined another football group, i think it would be a cause for concern: is this football group not enough for him?, are we not fun to play with?, what if the other football group is better than ours?, if he joined a basketball group, there would not be much to worry about he enjoys both sports, cool., i can see the argument going the other direction here: maybe he's not into football at all now?, depending on the personality, one line of reasoning will be more compelling than the other, and all i'm arguing is that there is a valid why someone might hold certain view, not that anyone should hold the same view., 2., different people., sorry if this sounds sexist, but women and men are different, and i believe it is valid to be more or less jealous of people based on their character., again, i'm not saying that women are in any way worse or that the differences are inherent, or that there are no outliers., but we do live in a society that treats men and women differently in their formative years and is overall quite genedered it would be a miracle if these differences in treatment did not translate to some differences in character., in fact, where there are relevant differences, it seems to me that women are superior it's quite rare to see a woman displaying toxic masculinity and women on average seem to be more introspective and have greater emotional intelligence., and when i think of my so having sex with someone else, toxic masculinity is close to the top of the traits i don't want them to have., 3., visceral responses., i think a huge part of why we feel bad about the possibility of our sos being intimate with others is social conditioning., i don't necessarily think it's right see below but i also don't think feelings are invalid just because of their origin., it also seems to me that men are very strongly conditioned to be jealous of other men, while the same conditioning does not really happen for jealousy of women now, this can very well be because whatever forces gave rise to this conditioning were in some way sexist to the extent that abstract concepts can be sexist but that does not affect my point ., of course, people might want to reshape themselves, but this is a process that takes both time and energy., so, i don't think it's unreasonable for a man to have a strong negative visceral response to his so having sex with men, have no such response in the case of women, and while not necessarily endorsing these responses or lack thereof , expect his so to be mindful of them., 4., dating experience., i'm not sure if this would be the case in a perfect society, but in the world as it is now it is a fact of life that men and women have a notably different experience when it comes to dating, relationships and sex., it's enough to have a look at any dating site., in particular, it is much easier for a woman to find a man to have casual sex with than it is for a man to find a woman to have casual sex with., it also seems that it's pretty hard for a woman to find a woman, and pretty easy for a man to find a man., it's easy to see how this would lead to more jealousy in some cases than in others., amp; x200b; in the interest of full disclosure: i'm a bisexual man significantly more into women but definitely also into men in a polyamorish it's complicated relationship with a bisexual woman., we don't have a one penis policy, nor would i want it.]   \n",
       "511391                                                                                                                                                                                                                                                                                                                                                                                                                                                                                                                                                                                                                                                                                                                                                                                                                                                                                                                                                                                                                                                                                                                                                                                                                                                                                                                                                                                                                                                                                                                                                                                                                                                                                                                                                                                                                                                                                                                                                                                                                                                                                                                                                                                                                                                                                                                                                                                                                                                                                                                                                                                                                                                                                                                                                                                                                                                                                                                                                                                                                                                                                                                                                                                                                                                                                                                                                                                                                                                                                                                                                                                                                                                                                                                                                                                                                                                                                                                                                                                                                                                                                                                                                                                                                                                                                                                                                                                                                                                                                                                                                                                  [the british crown is an obsolete system of government and should be abolished, their land and wealth stripped for the good of the people., taxes are spent to pay for their lavish lifestyle, pay for their marriage ceremony and travel expenses even when they are not diplomatic., they were born into a position of power they have no right to be in., they are not voted into the position and have no merit to prove it to be in the position., someone can say that the monarchy attracts tourist, but to be honest, france is the most visited place on the planet and they cancelled their monarchy long ago., also, some land in britain is still owned by the ruling family but that's not what abolishment should look like oh yeah, you don't rule anymore but you control a large amount of the land they should be stripped of their own property because everything they own was obtained by their ancestors that claimed the land and murder everyone that didn't accept that.]   \n",
       "500768                                                                                                                                                                                                                                                                                                                                                                                                                                                                                                                                                                                                                                                                                                                                                                                                                                                                                                                                                                                                                                                                                                                                                                                                                                                                                                                                                                                                                                                                                                                                                                                                                                                                                                                                                                                                                                                                                                                                                                                                                                                                                                                                                                                                                                                                                                                                                                                                                                                                                                                                                                                                                                                                                                                                                                                                                                                                                                                                                                           [i will start by saying that i am heavily drawing from my own flawed, anecdotal observations, which is why i am attempting to broaden my viewpoint on this with your assistance., i've had four close male friends come out as gay within the last ten years, and i live around and work with other homosexuals., each of them routinely post pictures on social media with ever changing groups of other gay men., only one of my friends has entered into exclusive relationships, and even then his endeavors haven't been particularly committed there was one period where he had 3 break ups in a four month span., from what i have observed, gay men tend to switch partners quite frequently, and it seems to me that they often roll around with multiple partners at once., why is this?, in my mind, homosexuality and by extension, most of the lgbtq subtypes is in fact just a sexual fetish., i am well aware that there are any number of pseudoscientific social science articles saying otherwise, but i find it hard to fully buy into social science because of it's sampling and implicit biases., not to mention that any academic who explored this idea honestly would likely end up lambasted by his peers in the current climate., anyways, just so we're all on the same page a fetish, by definition, is 'a form of sexual desire in which gratification is linked to an abnormal degree to a particular object, item of clothing, part of the body, etc. ' a sexuality or sexual orientation is 'a person's sexual identity in relation to the gender to which they are attracted; the fact of being heterosexual, homosexual, or bisexual. ', ponder this: what is it that a gay man is attracted to?, is it the gender identity of his partner, or the physical form of his partner?, i choose to believe it's the latter., there are plenty of manly women, there are plenty of womanly men, and there are plenty of trans people that gay people simply are not dating., i have to believe it's because homosexuals are attracted to the physical form i. e. , the body parts of his her chosen partner s ., in my mind, this is why they're always sleeping around with a large number of partners, and why so many of them never enter into truly committed romantic relationships., this is why so many pride parades feature dildos and bdsm gear and nipple pasties and any other degree of erotic paraphernalia, because it's not about the romantic aspects at the end of the day., it's about the sex., would love to have my views challenged on this stance.]   \n",
       "\n",
       "                                                                                      title  \\\n",
       "533361           all drugs should be legalized, manufactured, and available for public use.   \n",
       "496733         Illegal immigrants broke the law, they should be treated as such not saints.   \n",
       "487043   It is valid for a man to be more jealous of men then of women (in sexual context).   \n",
       "511391                                     Monarchy have no reason to exist in modern world   \n",
       "500768                                Homosexuality is a fetish and nothing truly romantic.   \n",
       "\n",
       "                                                                                          post_concepts  \\\n",
       "533361                 [Health care, Black market, Dangerous goods, Health system, Logical conjunction]   \n",
       "496733                                                                  [Open border, Political agenda]   \n",
       "487043  [Organ (anatomy), Online dating service, Casual sex, Emotional intelligence, Open relationship]   \n",
       "511391                                                                   [The Crown, Operating expense]   \n",
       "500768              [Social media, Social science, Sexual orientation, Human sexuality, Romance (love)]   \n",
       "\n",
       "                                                                                                                                                                                                                                                                                                                                                                                                                         post_conclusions  \n",
       "533361                                                                 [all drugs should be legal and available for public consumption, Health care and enforcement should be accompanied by the introduction of drugs available for public consumption, Black market drugs should be legal with all the restrictions., Dangerous goods (e.g. \"sharing needles\", cocaine) should be, Health system should be more open to use andjection]  \n",
       "496733                                                                                                                                                                                [I dont understand why illegals in the US are being treated as a burden and not, Open border laws only hurt illegal immigrants, because they re-sso-mediculate, Political agenda re-emerged in america i am against the re-open border immigration]  \n",
       "487043  [it makes sense for men to agree with and even think that women are not capable of choosing, Organ (anatomy) is sometimes a synonym for 'heteronormativity', Online dating service provider should not be exclusionary to straight partners, Casual sex/relationships between consenting parties should be monogamous and not be socially, Emotional intelligence aside, i do not think being in a nonmonogamous relationship is]  \n",
       "511391                                                                                                                                                                                                     [the british crown should be abolished. The land and their wealth should be stripped for, The Crown should be abolished and the land kept to their people., Operating expense without good is selfish and should be abolished]  \n",
       "500768                                                               [I believe homosexuality is a fetish.?, please!, Social media makes gay men feel like they can multiple partners at once and is a sign of, Social science should not be based off ideology; as homosexuality is a sexual fetish, so is, Sexual orientation is simply a response to a desire for physical attraction., Human sexuality/sexuality is a sexual fetish.]  "
      ]
     },
     "execution_count": 66,
     "metadata": {},
     "output_type": "execute_result"
    }
   ],
   "source": [
    "valid_df[['post', 'title', 'post_concepts', 'post_conclusions']].head()"
   ]
  },
  {
   "cell_type": "code",
   "execution_count": 69,
   "metadata": {
    "scrolled": true,
    "tags": []
   },
   "outputs": [
    {
     "name": "stdout",
     "output_type": "stream",
     "text": [
      "Testing on 1901 posts\n"
     ]
    },
    {
     "data": {
      "application/vnd.jupyter.widget-view+json": {
       "model_id": "8fce61fca35b4dbca207f5553882610c",
       "version_major": 2,
       "version_minor": 0
      },
      "text/plain": [
       "  0%|          | 0/2 [00:00<?, ?ba/s]"
      ]
     },
     "metadata": {},
     "output_type": "display_data"
    }
   ],
   "source": [
    "gen_kwargs = {\n",
    "    \"do_sample\": False, \n",
    "    \"max_length\":100,\n",
    "    \"num_beams\":10\n",
    "}\n",
    "\n",
    "#Create a dataset\n",
    "unique_valid_posts = valid_df.drop_duplicates('post_id')\n",
    "print('Testing on {} posts'.format(len(unique_valid_posts)))\n",
    "valid_ds = Dataset.from_pandas(unique_valid_posts)\n",
    "valid_ds = valid_ds.flatten_indices()"
   ]
  },
  {
   "cell_type": "code",
   "execution_count": 70,
   "metadata": {
    "scrolled": true,
    "tags": []
   },
   "outputs": [
    {
     "data": {
      "application/vnd.jupyter.widget-view+json": {
       "model_id": "184218bf9716419fad88f47f12c10e09",
       "version_major": 2,
       "version_minor": 0
      },
      "text/plain": [
       "  0%|          | 0/2 [00:00<?, ?ba/s]"
      ]
     },
     "metadata": {},
     "output_type": "display_data"
    },
    {
     "name": "stdout",
     "output_type": "stream",
     "text": [
      "['all drugs should be legal and available for public consumption', 'I dont understand why illegals in the US are being treated as a burden and not', 'it makes sense for men to agree with and even think that women are not capable of choosing']\n",
      "['i think it is wrong to lie about someone who is \"pro-choice\"', 'People who openly engage in personal afflictions (such as false statements) do not', 'i find no reason for college professors to be able to teach out of textbooks.']\n"
     ]
    },
    {
     "data": {
      "application/vnd.jupyter.widget-view+json": {
       "model_id": "3c145794668247ffacefefd9de79e15e",
       "version_major": 2,
       "version_minor": 0
      },
      "text/plain": [
       "  0%|          | 0/2 [00:00<?, ?ba/s]"
      ]
     },
     "metadata": {},
     "output_type": "display_data"
    },
    {
     "name": "stdout",
     "output_type": "stream",
     "text": [
      "['Health care and enforcement should be accompanied by the introduction of drugs available for public consumption', 'Open border laws only hurt illegal immigrants, because they re-sso-mediculate', \"Organ (anatomy) is sometimes a synonym for 'heteronormativity'\"]\n",
      "['Abortion-rights movements by women are a joke', 'Volition (psychology) is only as bigoted as some people say it is', 'Online and offline textbooks should not be considered loans by college professors.']\n"
     ]
    },
    {
     "data": {
      "application/vnd.jupyter.widget-view+json": {
       "model_id": "804e10c1d13c4fb0bb482de649849b8c",
       "version_major": 2,
       "version_minor": 0
      },
      "text/plain": [
       "  0%|          | 0/2 [00:00<?, ?ba/s]"
      ]
     },
     "metadata": {},
     "output_type": "display_data"
    },
    {
     "name": "stdout",
     "output_type": "stream",
     "text": [
      "['Black market drugs should be legal with all the restrictions.', 'Political agenda re-emerged in america i am against the re-open border immigration', 'Online dating service provider should not be exclusionary to straight partners']\n",
      "['', '', 'No problem with spending money on textbooks if professors teach out of textbooks.']\n"
     ]
    },
    {
     "data": {
      "application/vnd.jupyter.widget-view+json": {
       "model_id": "91352fa220af46699fc32dd69859d2f7",
       "version_major": 2,
       "version_minor": 0
      },
      "text/plain": [
       "  0%|          | 0/2 [00:00<?, ?ba/s]"
      ]
     },
     "metadata": {},
     "output_type": "display_data"
    },
    {
     "name": "stdout",
     "output_type": "stream",
     "text": [
      "['Dangerous goods (e.g. \"sharing needles\", cocaine) should be', '', 'Casual sex/relationships between consenting parties should be monogamous and not be socially']\n",
      "['', '', '']\n"
     ]
    },
    {
     "data": {
      "application/vnd.jupyter.widget-view+json": {
       "model_id": "d49a1922933941aa81017956183c2e20",
       "version_major": 2,
       "version_minor": 0
      },
      "text/plain": [
       "  0%|          | 0/2 [00:00<?, ?ba/s]"
      ]
     },
     "metadata": {},
     "output_type": "display_data"
    },
    {
     "name": "stdout",
     "output_type": "stream",
     "text": [
      "['Health system should be more open to use andjection', '', 'Emotional intelligence aside, i do not think being in a nonmonogamous relationship is']\n",
      "['', '', '']\n"
     ]
    }
   ],
   "source": [
    "multi_conc_attacks = generate_ds_multi_attacks(valid_ds, known_conclusion_model, known_conclusion_tokenizer, 'post', 'post_conclusions', gen_kwargs)"
   ]
  },
  {
   "cell_type": "code",
   "execution_count": 92,
   "metadata": {},
   "outputs": [],
   "source": [
    "post_concs = valid_df.post_conclusions.tolist()\n",
    "valid_df['post_counters'] = [list(zip(x[0], x[1])) for x in zip(post_concs, multi_conc_attacks)]"
   ]
  },
  {
   "cell_type": "code",
   "execution_count": 93,
   "metadata": {
    "scrolled": true,
    "tags": []
   },
   "outputs": [
    {
     "data": {
      "text/html": [
       "<div>\n",
       "<style scoped>\n",
       "    .dataframe tbody tr th:only-of-type {\n",
       "        vertical-align: middle;\n",
       "    }\n",
       "\n",
       "    .dataframe tbody tr th {\n",
       "        vertical-align: top;\n",
       "    }\n",
       "\n",
       "    .dataframe thead th {\n",
       "        text-align: right;\n",
       "    }\n",
       "</style>\n",
       "<table border=\"1\" class=\"dataframe\">\n",
       "  <thead>\n",
       "    <tr style=\"text-align: right;\">\n",
       "      <th></th>\n",
       "      <th>post</th>\n",
       "      <th>title</th>\n",
       "      <th>post_concepts</th>\n",
       "      <th>post_conclusions</th>\n",
       "      <th>post_counters</th>\n",
       "    </tr>\n",
       "  </thead>\n",
       "  <tbody>\n",
       "    <tr>\n",
       "      <th>533361</th>\n",
       "      <td>[my view here stems from 2 ideals, a personal one and a logical one., the more succinct ideal is a personal view that it is not, nor should ever be up to the government to decide what i can or can't do to my body., my logical and more detailed part of this view is on how society would benefit., drugs are currently being used at a staggering rate., and yet these drugs are illegal., as prohibition of alcohol has shown us, making something illegal doesn't erase the market, but instead creates a black market for that product., with black markets come crime, corruption and violence which adds stress on our healthcare and justice systems., as well, overdose due to drugs cut with unknown and dangerous substances and the spread of diseases through sharing needles is an epidemic that is a further tax on our healthcare system., by manufacturing these drugs and having them available for public consumption we could eliminate the spread of diseases, and prevent overdoses by controlling the whole process of drug addiction., and by this extent we're able to even help people out of addiction, instead of letting them fend for themselves.]</td>\n",
       "      <td>all drugs should be legalized, manufactured, and available for public use.</td>\n",
       "      <td>[Health care, Black market, Dangerous goods, Health system, Logical conjunction]</td>\n",
       "      <td>[all drugs should be legal and available for public consumption, Health care and enforcement should be accompanied by the introduction of drugs available for public consumption, Black market drugs should be legal with all the restrictions., Dangerous goods (e.g. \"sharing needles\", cocaine) should be, Health system should be more open to use andjection]</td>\n",
       "      <td>[(all drugs should be legal and available for public consumption, i agree with you, but i don't think it would be a good idea to make all drugs legal and available for public consumption.), (Health care and enforcement should be accompanied by the introduction of drugs available for public consumption, the problem with this is that it creates a black market for drugs. the problem with the black market is that there is no way to stop it from happening.), (Black market drugs should be legal with all the restrictions., i agree with you, but i don't think it would be a good idea to have a black market for drugs.), (Dangerous goods (e.g. \"sharing needles\", cocaine) should be, i agree with you, but i don't think it's a good idea to make drugs illegal. i think it would be better to make them illegal in the first place, and make them legal in the second place.), (Health system should be more open to use andjection, i agree with you, but i don't think it's possible to change your view. i think the problem with your view is that it's not the government's responsibility to decide what is and isn't illegal. it's the people who make the decisions, and the people that make those decisions. the problem is that the government doesn't have the power to determine what is, or isn't, illegal, and what is not. if the government decides what is illegal, then it)]</td>\n",
       "    </tr>\n",
       "    <tr>\n",
       "      <th>496733</th>\n",
       "      <td>[i don t understand why they re used as a political sympathy and emotional pawn., these people broke the law at there own risk and now they re paying the price for it simple as that., there are laws for a reason we re not an open border country for a reason., as a immigrant who spent thousands of dollars and many hours working to come legally i find it highly irritating that they re being defended for breaking a law., it s a different story when people seek asylum for actual reasons., this political agenda people use only makes it worse for them.]</td>\n",
       "      <td>Illegal immigrants broke the law, they should be treated as such not saints.</td>\n",
       "      <td>[Open border, Political agenda]</td>\n",
       "      <td>[I dont understand why illegals in the US are being treated as a burden and not, Open border laws only hurt illegal immigrants, because they re-sso-mediculate, Political agenda re-emerged in america i am against the re-open border immigration]</td>\n",
       "      <td>[(I dont understand why illegals in the US are being treated as a burden and not, i don't understand why illegals in the us are being treated as a burden and not a burden.), (Open border laws only hurt illegal immigrants, because they re-sso-mediculate, the problem with open borders is that they only hurt illegal immigrants, because they re re-sso-mediculate. the problem is that it's not just illegal immigrants that are hurt by open borders, it's people who are hurt because of open borders.), (Political agenda re-emerged in america i am against the re-open border immigration, i don't understand why they re used as a political sympathy and emotional pawn.)]</td>\n",
       "    </tr>\n",
       "    <tr>\n",
       "      <th>487043</th>\n",
       "      <td>[it is quite common for people in nonmonogamous relationships be it open relationships, polyamorous ones, etc. , especially for 'newbies' to have gender specific rules about who their so is allowed to be intimate with and under what conditions., the most infamous of such rules is the 'one penis poilicy' i hope the name is self explanatory ., in general, for a woman in a heterosexual relationships, contacts with other women are almost always more permissible than with men., this also comes up in monogamous context just a couple of days ago i run into a thread in r amitheasshole where the op, who is in a relationship with a bisexual woman, got in trouble for saying he would not mind if she had sex with other women but was vehemently opposed to her having sex with another man just to be clear, ihmo he still was a bit of an asshole but that's not the point ., amp; x200b; rules and preferences like the ones described above often come under heavy criticism from the bi community and from the poly community., the reasoning is generally that if you're a man who doesn't mind his so having sex with women as much as with men, then you must be viewing lesbian relationships as less valid., i certainly agree with this line of reasoning if we replace 'must' with 'might'., definitely, a sexist biphobic?, homophobic?, take your pick man who believes lesbian sex is somehow lesser would be in favour of the one penis policy, and if a man advocates for one penis policy it's a reason to suspect he might be sexists., but i don't think the implication goes in the other direction: apart from sexism, there are valid reasons for a man to be more jealous of men than of women., amp; x200b; 1., different niches., sex with women is different than sex with men., at the risk of stating the obvious, both are valid, both are valuable, both can be lots of fun but they're not the same., as an analogy, if i were regularly playing football with a friend and he joined another football group, i think it would be a cause for concern: is this football group not enough for him?, are we not fun to play with?, what if the other football group is better than ours?, if he joined a basketball group, there would not be much to worry about he enjoys both sports, cool., i can see the argument going the other direction here: maybe he's not into football at all now?, depending on the personality, one line of reasoning will be more compelling than the other, and all i'm arguing is that there is a valid why someone might hold certain view, not that anyone should hold the same view., 2., different people., sorry if this sounds sexist, but women and men are different, and i believe it is valid to be more or less jealous of people based on their character., again, i'm not saying that women are in any way worse or that the differences are inherent, or that there are no outliers., but we do live in a society that treats men and women differently in their formative years and is overall quite genedered it would be a miracle if these differences in treatment did not translate to some differences in character., in fact, where there are relevant differences, it seems to me that women are superior it's quite rare to see a woman displaying toxic masculinity and women on average seem to be more introspective and have greater emotional intelligence., and when i think of my so having sex with someone else, toxic masculinity is close to the top of the traits i don't want them to have., 3., visceral responses., i think a huge part of why we feel bad about the possibility of our sos being intimate with others is social conditioning., i don't necessarily think it's right see below but i also don't think feelings are invalid just because of their origin., it also seems to me that men are very strongly conditioned to be jealous of other men, while the same conditioning does not really happen for jealousy of women now, this can very well be because whatever forces gave rise to this conditioning were in some way sexist to the extent that abstract concepts can be sexist but that does not affect my point ., of course, people might want to reshape themselves, but this is a process that takes both time and energy., so, i don't think it's unreasonable for a man to have a strong negative visceral response to his so having sex with men, have no such response in the case of women, and while not necessarily endorsing these responses or lack thereof , expect his so to be mindful of them., 4., dating experience., i'm not sure if this would be the case in a perfect society, but in the world as it is now it is a fact of life that men and women have a notably different experience when it comes to dating, relationships and sex., it's enough to have a look at any dating site., in particular, it is much easier for a woman to find a man to have casual sex with than it is for a man to find a woman to have casual sex with., it also seems that it's pretty hard for a woman to find a woman, and pretty easy for a man to find a man., it's easy to see how this would lead to more jealousy in some cases than in others., amp; x200b; in the interest of full disclosure: i'm a bisexual man significantly more into women but definitely also into men in a polyamorish it's complicated relationship with a bisexual woman., we don't have a one penis policy, nor would i want it.]</td>\n",
       "      <td>It is valid for a man to be more jealous of men then of women (in sexual context).</td>\n",
       "      <td>[Organ (anatomy), Online dating service, Casual sex, Emotional intelligence, Open relationship]</td>\n",
       "      <td>[it makes sense for men to agree with and even think that women are not capable of choosing, Organ (anatomy) is sometimes a synonym for 'heteronormativity', Online dating service provider should not be exclusionary to straight partners, Casual sex/relationships between consenting parties should be monogamous and not be socially, Emotional intelligence aside, i do not think being in a nonmonogamous relationship is]</td>\n",
       "      <td>[(it makes sense for men to agree with and even think that women are not capable of choosing, it makes sense for men to agree with and even think that women are not capable of choosing to have sex with other men.), (Organ (anatomy) is sometimes a synonym for 'heteronormativity', anatomy is not a synonym for 'heteronormativity' it is a term that is used to refer to a group of people who do not want to have sex with other people.), (Online dating service provider should not be exclusionary to straight partners, i'm not sure what you mean by exclusionary, but i think it's important to note that there are a lot of people who don't want to have sex with other people. for example, if you're in a relationship with a man who doesn't mind his so having sex with another man, then you shouldn't be excluding him from that relationship.), (Casual sex/relationships between consenting parties should be monogamous and not be socially, i'm not sure what you mean by'monogamous', but i think it's important to note that there are a lot of people who don't want to have sex with other people. for example, i'm in a monogamous relationship with a woman, and she is in a polyamorous relationship with another woman. i don't think that's the same thing as having sex with a man, but i do think that there is a difference between monogamous and polyam), (Emotional intelligence aside, i do not think being in a nonmonogamous relationship is, i'm not sure what you mean by 'emotional intelligence', but i think it's important to note that there are a lot of different types of emotional intelligence. for example, if you're in a monogamous relationship with a woman, you might not be attracted to her as much as you are attracted to a man. if you are in a polyamorous relationship with someone who is attracted to you, then you're attracted to them more than you are to any other person.)]</td>\n",
       "    </tr>\n",
       "    <tr>\n",
       "      <th>511391</th>\n",
       "      <td>[the british crown is an obsolete system of government and should be abolished, their land and wealth stripped for the good of the people., taxes are spent to pay for their lavish lifestyle, pay for their marriage ceremony and travel expenses even when they are not diplomatic., they were born into a position of power they have no right to be in., they are not voted into the position and have no merit to prove it to be in the position., someone can say that the monarchy attracts tourist, but to be honest, france is the most visited place on the planet and they cancelled their monarchy long ago., also, some land in britain is still owned by the ruling family but that's not what abolishment should look like oh yeah, you don't rule anymore but you control a large amount of the land they should be stripped of their own property because everything they own was obtained by their ancestors that claimed the land and murder everyone that didn't accept that.]</td>\n",
       "      <td>Monarchy have no reason to exist in modern world</td>\n",
       "      <td>[The Crown, Operating expense]</td>\n",
       "      <td>[the british crown should be abolished. The land and their wealth should be stripped for, The Crown should be abolished and the land kept to their people., Operating expense without good is selfish and should be abolished]</td>\n",
       "      <td>[(the british crown should be abolished. The land and their wealth should be stripped for, the british crown is an obsolete system of government. the land and their wealth should be stripped for the good of the people.), (The Crown should be abolished and the land kept to their people., i agree with you that the monarchy should be abolished and the land kept to their people. however, i disagree with the idea that the land should be kept to the people.), (Operating expense without good is selfish and should be abolished, i don't think it's selfish to abolish the monarchy, but i do think it should be abolished for the good of the people.)]</td>\n",
       "    </tr>\n",
       "    <tr>\n",
       "      <th>500768</th>\n",
       "      <td>[i will start by saying that i am heavily drawing from my own flawed, anecdotal observations, which is why i am attempting to broaden my viewpoint on this with your assistance., i've had four close male friends come out as gay within the last ten years, and i live around and work with other homosexuals., each of them routinely post pictures on social media with ever changing groups of other gay men., only one of my friends has entered into exclusive relationships, and even then his endeavors haven't been particularly committed there was one period where he had 3 break ups in a four month span., from what i have observed, gay men tend to switch partners quite frequently, and it seems to me that they often roll around with multiple partners at once., why is this?, in my mind, homosexuality and by extension, most of the lgbtq subtypes is in fact just a sexual fetish., i am well aware that there are any number of pseudoscientific social science articles saying otherwise, but i find it hard to fully buy into social science because of it's sampling and implicit biases., not to mention that any academic who explored this idea honestly would likely end up lambasted by his peers in the current climate., anyways, just so we're all on the same page a fetish, by definition, is 'a form of sexual desire in which gratification is linked to an abnormal degree to a particular object, item of clothing, part of the body, etc. ' a sexuality or sexual orientation is 'a person's sexual identity in relation to the gender to which they are attracted; the fact of being heterosexual, homosexual, or bisexual. ', ponder this: what is it that a gay man is attracted to?, is it the gender identity of his partner, or the physical form of his partner?, i choose to believe it's the latter., there are plenty of manly women, there are plenty of womanly men, and there are plenty of trans people that gay people simply are not dating., i have to believe it's because homosexuals are attracted to the physical form i. e. , the body parts of his her chosen partner s ., in my mind, this is why they're always sleeping around with a large number of partners, and why so many of them never enter into truly committed romantic relationships., this is why so many pride parades feature dildos and bdsm gear and nipple pasties and any other degree of erotic paraphernalia, because it's not about the romantic aspects at the end of the day., it's about the sex., would love to have my views challenged on this stance.]</td>\n",
       "      <td>Homosexuality is a fetish and nothing truly romantic.</td>\n",
       "      <td>[Social media, Social science, Sexual orientation, Human sexuality, Romance (love)]</td>\n",
       "      <td>[I believe homosexuality is a fetish.?, please!, Social media makes gay men feel like they can multiple partners at once and is a sign of, Social science should not be based off ideology; as homosexuality is a sexual fetish, so is, Sexual orientation is simply a response to a desire for physical attraction., Human sexuality/sexuality is a sexual fetish.]</td>\n",
       "      <td>[(I believe homosexuality is a fetish.?, please!, i don't think it's a fetish, but i think you're missing the point. it's not just about the physical appearance of a person, it's about the sexual characteristics of their partner.), (Social media makes gay men feel like they can multiple partners at once and is a sign of, i'm not sure what you mean by'social media makes gay men feel like they can multiple partners at once and is a sign of sexual orientation. '), (Social science should not be based off ideology; as homosexuality is a sexual fetish, so is, i'm not sure what you mean by'sexual fetish', but i think you're missing the point. i think it's important to note that there are a lot of people who believe that homosexuality is a sexual fetish, but i don't think that's what you're talking about. it's not like you're saying that it's a fetish, it's just that you think it is.), (Sexual orientation is simply a response to a desire for physical attraction., i'm not sure what you mean by'sexual orientation', but i think you're missing the point. it's not just a desire for physical attraction, it's a desire to be in a relationship with someone who is attracted to you. if you're not attracted to someone you are attracted to, then you're attracted to them.), (Human sexuality/sexuality is a sexual fetish., i don't think it's a sexual fetish, but i do think it is a fetish.)]</td>\n",
       "    </tr>\n",
       "  </tbody>\n",
       "</table>\n",
       "</div>"
      ],
      "text/plain": [
       "                                                                                                                                                                                                                                                                                                                                                                                                                                                                                                                                                                                                                                                                                                                                                                                                                                                                                                                                                                                                                                                                                                                                                                                                                                                                                                                                                                                                                                                                                                                                                                                                                                                                                                                                                                                                                                                                                                                                                                                                                                                                                                                                                                                                                                                                                                                                                                                                                                                                                                                                                                                                                                                                                                                                                                                                                                                                                                                                                                                                                                                                                                                                                                                                                                                                                                                                                                                                                                                                                                                                                                                                                                                                                                                                                                                                                                                                                                                                                                                                                                                                                                                                                                                                                                                                                                                                                                                                                                                                                                                                                                                                                                                                                                                                                                                                                                                                                                                                                                                                                                                                                                                                                                                                                                                                                                                                                                                                                                                                                                                                                                                      post  \\\n",
       "533361                                                                                                                                                                                                                                                                                                                                                                                                                                                                                                                                                                                                                                                                                                                                                                                                                                                                                                                                                                                                                                                                                                                                                                                                                                                                                                                                                                                                                                                                                                                                                                                                                                                                                                                                                                                                                                                                                                                                                                                                                                                                                                                                                                                                                                                                                                                                                                                                                                                                                                                                                                                                                                                                                                                                                                                                                                                                                                                                                                                                                                                                                                                                                                                                                                                                                                                                                                                                                                                                                                                                                                                                                                                                                                                                                                                                                                                                                                                                                                                                                                                                                                                                                                                                                                                                                                                                                                                                 [my view here stems from 2 ideals, a personal one and a logical one., the more succinct ideal is a personal view that it is not, nor should ever be up to the government to decide what i can or can't do to my body., my logical and more detailed part of this view is on how society would benefit., drugs are currently being used at a staggering rate., and yet these drugs are illegal., as prohibition of alcohol has shown us, making something illegal doesn't erase the market, but instead creates a black market for that product., with black markets come crime, corruption and violence which adds stress on our healthcare and justice systems., as well, overdose due to drugs cut with unknown and dangerous substances and the spread of diseases through sharing needles is an epidemic that is a further tax on our healthcare system., by manufacturing these drugs and having them available for public consumption we could eliminate the spread of diseases, and prevent overdoses by controlling the whole process of drug addiction., and by this extent we're able to even help people out of addiction, instead of letting them fend for themselves.]   \n",
       "496733                                                                                                                                                                                                                                                                                                                                                                                                                                                                                                                                                                                                                                                                                                                                                                                                                                                                                                                                                                                                                                                                                                                                                                                                                                                                                                                                                                                                                                                                                                                                                                                                                                                                                                                                                                                                                                                                                                                                                                                                                                                                                                                                                                                                                                                                                                                                                                                                                                                                                                                                                                                                                                                                                                                                                                                                                                                                                                                                                                                                                                                                                                                                                                                                                                                                                                                                                                                                                                                                                                                                                                                                                                                                                                                                                                                                                                                                                                                                                                                                                                                                                                                                                                                                                                                                                                                                                                                                                                                                                                                                                                                                                                                                                                                                                                                                                                                                                                                                                                                                           [i don t understand why they re used as a political sympathy and emotional pawn., these people broke the law at there own risk and now they re paying the price for it simple as that., there are laws for a reason we re not an open border country for a reason., as a immigrant who spent thousands of dollars and many hours working to come legally i find it highly irritating that they re being defended for breaking a law., it s a different story when people seek asylum for actual reasons., this political agenda people use only makes it worse for them.]   \n",
       "487043  [it is quite common for people in nonmonogamous relationships be it open relationships, polyamorous ones, etc. , especially for 'newbies' to have gender specific rules about who their so is allowed to be intimate with and under what conditions., the most infamous of such rules is the 'one penis poilicy' i hope the name is self explanatory ., in general, for a woman in a heterosexual relationships, contacts with other women are almost always more permissible than with men., this also comes up in monogamous context just a couple of days ago i run into a thread in r amitheasshole where the op, who is in a relationship with a bisexual woman, got in trouble for saying he would not mind if she had sex with other women but was vehemently opposed to her having sex with another man just to be clear, ihmo he still was a bit of an asshole but that's not the point ., amp; x200b; rules and preferences like the ones described above often come under heavy criticism from the bi community and from the poly community., the reasoning is generally that if you're a man who doesn't mind his so having sex with women as much as with men, then you must be viewing lesbian relationships as less valid., i certainly agree with this line of reasoning if we replace 'must' with 'might'., definitely, a sexist biphobic?, homophobic?, take your pick man who believes lesbian sex is somehow lesser would be in favour of the one penis policy, and if a man advocates for one penis policy it's a reason to suspect he might be sexists., but i don't think the implication goes in the other direction: apart from sexism, there are valid reasons for a man to be more jealous of men than of women., amp; x200b; 1., different niches., sex with women is different than sex with men., at the risk of stating the obvious, both are valid, both are valuable, both can be lots of fun but they're not the same., as an analogy, if i were regularly playing football with a friend and he joined another football group, i think it would be a cause for concern: is this football group not enough for him?, are we not fun to play with?, what if the other football group is better than ours?, if he joined a basketball group, there would not be much to worry about he enjoys both sports, cool., i can see the argument going the other direction here: maybe he's not into football at all now?, depending on the personality, one line of reasoning will be more compelling than the other, and all i'm arguing is that there is a valid why someone might hold certain view, not that anyone should hold the same view., 2., different people., sorry if this sounds sexist, but women and men are different, and i believe it is valid to be more or less jealous of people based on their character., again, i'm not saying that women are in any way worse or that the differences are inherent, or that there are no outliers., but we do live in a society that treats men and women differently in their formative years and is overall quite genedered it would be a miracle if these differences in treatment did not translate to some differences in character., in fact, where there are relevant differences, it seems to me that women are superior it's quite rare to see a woman displaying toxic masculinity and women on average seem to be more introspective and have greater emotional intelligence., and when i think of my so having sex with someone else, toxic masculinity is close to the top of the traits i don't want them to have., 3., visceral responses., i think a huge part of why we feel bad about the possibility of our sos being intimate with others is social conditioning., i don't necessarily think it's right see below but i also don't think feelings are invalid just because of their origin., it also seems to me that men are very strongly conditioned to be jealous of other men, while the same conditioning does not really happen for jealousy of women now, this can very well be because whatever forces gave rise to this conditioning were in some way sexist to the extent that abstract concepts can be sexist but that does not affect my point ., of course, people might want to reshape themselves, but this is a process that takes both time and energy., so, i don't think it's unreasonable for a man to have a strong negative visceral response to his so having sex with men, have no such response in the case of women, and while not necessarily endorsing these responses or lack thereof , expect his so to be mindful of them., 4., dating experience., i'm not sure if this would be the case in a perfect society, but in the world as it is now it is a fact of life that men and women have a notably different experience when it comes to dating, relationships and sex., it's enough to have a look at any dating site., in particular, it is much easier for a woman to find a man to have casual sex with than it is for a man to find a woman to have casual sex with., it also seems that it's pretty hard for a woman to find a woman, and pretty easy for a man to find a man., it's easy to see how this would lead to more jealousy in some cases than in others., amp; x200b; in the interest of full disclosure: i'm a bisexual man significantly more into women but definitely also into men in a polyamorish it's complicated relationship with a bisexual woman., we don't have a one penis policy, nor would i want it.]   \n",
       "511391                                                                                                                                                                                                                                                                                                                                                                                                                                                                                                                                                                                                                                                                                                                                                                                                                                                                                                                                                                                                                                                                                                                                                                                                                                                                                                                                                                                                                                                                                                                                                                                                                                                                                                                                                                                                                                                                                                                                                                                                                                                                                                                                                                                                                                                                                                                                                                                                                                                                                                                                                                                                                                                                                                                                                                                                                                                                                                                                                                                                                                                                                                                                                                                                                                                                                                                                                                                                                                                                                                                                                                                                                                                                                                                                                                                                                                                                                                                                                                                                                                                                                                                                                                                                                                                                                                                                                                                                                                                                                                                                                                                  [the british crown is an obsolete system of government and should be abolished, their land and wealth stripped for the good of the people., taxes are spent to pay for their lavish lifestyle, pay for their marriage ceremony and travel expenses even when they are not diplomatic., they were born into a position of power they have no right to be in., they are not voted into the position and have no merit to prove it to be in the position., someone can say that the monarchy attracts tourist, but to be honest, france is the most visited place on the planet and they cancelled their monarchy long ago., also, some land in britain is still owned by the ruling family but that's not what abolishment should look like oh yeah, you don't rule anymore but you control a large amount of the land they should be stripped of their own property because everything they own was obtained by their ancestors that claimed the land and murder everyone that didn't accept that.]   \n",
       "500768                                                                                                                                                                                                                                                                                                                                                                                                                                                                                                                                                                                                                                                                                                                                                                                                                                                                                                                                                                                                                                                                                                                                                                                                                                                                                                                                                                                                                                                                                                                                                                                                                                                                                                                                                                                                                                                                                                                                                                                                                                                                                                                                                                                                                                                                                                                                                                                                                                                                                                                                                                                                                                                                                                                                                                                                                                                                                                                                                                           [i will start by saying that i am heavily drawing from my own flawed, anecdotal observations, which is why i am attempting to broaden my viewpoint on this with your assistance., i've had four close male friends come out as gay within the last ten years, and i live around and work with other homosexuals., each of them routinely post pictures on social media with ever changing groups of other gay men., only one of my friends has entered into exclusive relationships, and even then his endeavors haven't been particularly committed there was one period where he had 3 break ups in a four month span., from what i have observed, gay men tend to switch partners quite frequently, and it seems to me that they often roll around with multiple partners at once., why is this?, in my mind, homosexuality and by extension, most of the lgbtq subtypes is in fact just a sexual fetish., i am well aware that there are any number of pseudoscientific social science articles saying otherwise, but i find it hard to fully buy into social science because of it's sampling and implicit biases., not to mention that any academic who explored this idea honestly would likely end up lambasted by his peers in the current climate., anyways, just so we're all on the same page a fetish, by definition, is 'a form of sexual desire in which gratification is linked to an abnormal degree to a particular object, item of clothing, part of the body, etc. ' a sexuality or sexual orientation is 'a person's sexual identity in relation to the gender to which they are attracted; the fact of being heterosexual, homosexual, or bisexual. ', ponder this: what is it that a gay man is attracted to?, is it the gender identity of his partner, or the physical form of his partner?, i choose to believe it's the latter., there are plenty of manly women, there are plenty of womanly men, and there are plenty of trans people that gay people simply are not dating., i have to believe it's because homosexuals are attracted to the physical form i. e. , the body parts of his her chosen partner s ., in my mind, this is why they're always sleeping around with a large number of partners, and why so many of them never enter into truly committed romantic relationships., this is why so many pride parades feature dildos and bdsm gear and nipple pasties and any other degree of erotic paraphernalia, because it's not about the romantic aspects at the end of the day., it's about the sex., would love to have my views challenged on this stance.]   \n",
       "\n",
       "                                                                                      title  \\\n",
       "533361           all drugs should be legalized, manufactured, and available for public use.   \n",
       "496733         Illegal immigrants broke the law, they should be treated as such not saints.   \n",
       "487043   It is valid for a man to be more jealous of men then of women (in sexual context).   \n",
       "511391                                     Monarchy have no reason to exist in modern world   \n",
       "500768                                Homosexuality is a fetish and nothing truly romantic.   \n",
       "\n",
       "                                                                                          post_concepts  \\\n",
       "533361                 [Health care, Black market, Dangerous goods, Health system, Logical conjunction]   \n",
       "496733                                                                  [Open border, Political agenda]   \n",
       "487043  [Organ (anatomy), Online dating service, Casual sex, Emotional intelligence, Open relationship]   \n",
       "511391                                                                   [The Crown, Operating expense]   \n",
       "500768              [Social media, Social science, Sexual orientation, Human sexuality, Romance (love)]   \n",
       "\n",
       "                                                                                                                                                                                                                                                                                                                                                                                                                         post_conclusions  \\\n",
       "533361                                                                 [all drugs should be legal and available for public consumption, Health care and enforcement should be accompanied by the introduction of drugs available for public consumption, Black market drugs should be legal with all the restrictions., Dangerous goods (e.g. \"sharing needles\", cocaine) should be, Health system should be more open to use andjection]   \n",
       "496733                                                                                                                                                                                [I dont understand why illegals in the US are being treated as a burden and not, Open border laws only hurt illegal immigrants, because they re-sso-mediculate, Political agenda re-emerged in america i am against the re-open border immigration]   \n",
       "487043  [it makes sense for men to agree with and even think that women are not capable of choosing, Organ (anatomy) is sometimes a synonym for 'heteronormativity', Online dating service provider should not be exclusionary to straight partners, Casual sex/relationships between consenting parties should be monogamous and not be socially, Emotional intelligence aside, i do not think being in a nonmonogamous relationship is]   \n",
       "511391                                                                                                                                                                                                     [the british crown should be abolished. The land and their wealth should be stripped for, The Crown should be abolished and the land kept to their people., Operating expense without good is selfish and should be abolished]   \n",
       "500768                                                               [I believe homosexuality is a fetish.?, please!, Social media makes gay men feel like they can multiple partners at once and is a sign of, Social science should not be based off ideology; as homosexuality is a sexual fetish, so is, Sexual orientation is simply a response to a desire for physical attraction., Human sexuality/sexuality is a sexual fetish.]   \n",
       "\n",
       "                                                                                                                                                                                                                                                                                                                                                                                                                                                                                                                                                                                                                                                                                                                                                                                                                                                                                                                                                                                                                                                                                                                                                                                                                                                                                                                                                                                                                                                                                                                                                                                                                                                                                                                                                                                                                                                                                                                                                  post_counters  \n",
       "533361                                                                                                                                                                                                                                                                                                                                                                                                                                                                                                                                      [(all drugs should be legal and available for public consumption, i agree with you, but i don't think it would be a good idea to make all drugs legal and available for public consumption.), (Health care and enforcement should be accompanied by the introduction of drugs available for public consumption, the problem with this is that it creates a black market for drugs. the problem with the black market is that there is no way to stop it from happening.), (Black market drugs should be legal with all the restrictions., i agree with you, but i don't think it would be a good idea to have a black market for drugs.), (Dangerous goods (e.g. \"sharing needles\", cocaine) should be, i agree with you, but i don't think it's a good idea to make drugs illegal. i think it would be better to make them illegal in the first place, and make them legal in the second place.), (Health system should be more open to use andjection, i agree with you, but i don't think it's possible to change your view. i think the problem with your view is that it's not the government's responsibility to decide what is and isn't illegal. it's the people who make the decisions, and the people that make those decisions. the problem is that the government doesn't have the power to determine what is, or isn't, illegal, and what is not. if the government decides what is illegal, then it)]  \n",
       "496733                                                                                                                                                                                                                                                                                                                                                                                                                                                                                                                                                                                                                                                                                                                                                                                                                                                                                                                                                                                                                                                                                                                                                                                                                                                                 [(I dont understand why illegals in the US are being treated as a burden and not, i don't understand why illegals in the us are being treated as a burden and not a burden.), (Open border laws only hurt illegal immigrants, because they re-sso-mediculate, the problem with open borders is that they only hurt illegal immigrants, because they re re-sso-mediculate. the problem is that it's not just illegal immigrants that are hurt by open borders, it's people who are hurt because of open borders.), (Political agenda re-emerged in america i am against the re-open border immigration, i don't understand why they re used as a political sympathy and emotional pawn.)]  \n",
       "487043  [(it makes sense for men to agree with and even think that women are not capable of choosing, it makes sense for men to agree with and even think that women are not capable of choosing to have sex with other men.), (Organ (anatomy) is sometimes a synonym for 'heteronormativity', anatomy is not a synonym for 'heteronormativity' it is a term that is used to refer to a group of people who do not want to have sex with other people.), (Online dating service provider should not be exclusionary to straight partners, i'm not sure what you mean by exclusionary, but i think it's important to note that there are a lot of people who don't want to have sex with other people. for example, if you're in a relationship with a man who doesn't mind his so having sex with another man, then you shouldn't be excluding him from that relationship.), (Casual sex/relationships between consenting parties should be monogamous and not be socially, i'm not sure what you mean by'monogamous', but i think it's important to note that there are a lot of people who don't want to have sex with other people. for example, i'm in a monogamous relationship with a woman, and she is in a polyamorous relationship with another woman. i don't think that's the same thing as having sex with a man, but i do think that there is a difference between monogamous and polyam), (Emotional intelligence aside, i do not think being in a nonmonogamous relationship is, i'm not sure what you mean by 'emotional intelligence', but i think it's important to note that there are a lot of different types of emotional intelligence. for example, if you're in a monogamous relationship with a woman, you might not be attracted to her as much as you are attracted to a man. if you are in a polyamorous relationship with someone who is attracted to you, then you're attracted to them more than you are to any other person.)]  \n",
       "511391                                                                                                                                                                                                                                                                                                                                                                                                                                                                                                                                                                                                                                                                                                                                                                                                                                                                                                                                                                                                                                                                                                                                                                                                                                                                                    [(the british crown should be abolished. The land and their wealth should be stripped for, the british crown is an obsolete system of government. the land and their wealth should be stripped for the good of the people.), (The Crown should be abolished and the land kept to their people., i agree with you that the monarchy should be abolished and the land kept to their people. however, i disagree with the idea that the land should be kept to the people.), (Operating expense without good is selfish and should be abolished, i don't think it's selfish to abolish the monarchy, but i do think it should be abolished for the good of the people.)]  \n",
       "500768                                                                                                                                                                                                                                                                                                                                                                                                                                                                                                            [(I believe homosexuality is a fetish.?, please!, i don't think it's a fetish, but i think you're missing the point. it's not just about the physical appearance of a person, it's about the sexual characteristics of their partner.), (Social media makes gay men feel like they can multiple partners at once and is a sign of, i'm not sure what you mean by'social media makes gay men feel like they can multiple partners at once and is a sign of sexual orientation. '), (Social science should not be based off ideology; as homosexuality is a sexual fetish, so is, i'm not sure what you mean by'sexual fetish', but i think you're missing the point. i think it's important to note that there are a lot of people who believe that homosexuality is a sexual fetish, but i don't think that's what you're talking about. it's not like you're saying that it's a fetish, it's just that you think it is.), (Sexual orientation is simply a response to a desire for physical attraction., i'm not sure what you mean by'sexual orientation', but i think you're missing the point. it's not just a desire for physical attraction, it's a desire to be in a relationship with someone who is attracted to you. if you're not attracted to someone you are attracted to, then you're attracted to them.), (Human sexuality/sexuality is a sexual fetish., i don't think it's a sexual fetish, but i do think it is a fetish.)]  "
      ]
     },
     "execution_count": 93,
     "metadata": {},
     "output_type": "execute_result"
    }
   ],
   "source": [
    "valid_df[['post', 'title', 'post_concepts', 'post_conclusions', 'post_counters']].head()"
   ]
  },
  {
   "cell_type": "code",
   "execution_count": 94,
   "metadata": {},
   "outputs": [],
   "source": [
    "valid_df.to_pickle('../data/output/multi_counter_preds.pkl')"
   ]
  },
  {
   "cell_type": "markdown",
   "metadata": {},
   "source": [
    "#### Analyze effectiveness for different levels of similarity to conclusion:"
   ]
  },
  {
   "cell_type": "code",
   "execution_count": 27,
   "metadata": {},
   "outputs": [],
   "source": [
    "reddit_pred_df = split_dataframe_per_conc_similarity(reddit_pred_df)"
   ]
  },
  {
   "cell_type": "code",
   "execution_count": 28,
   "metadata": {},
   "outputs": [
    {
     "data": {
      "text/plain": [
       "<matplotlib.axes._subplots.AxesSubplot at 0x7fe7203dc8d0>"
      ]
     },
     "execution_count": 28,
     "metadata": {},
     "output_type": "execute_result"
    },
    {
     "data": {
      "image/png": "[encoded data removed]",
      "text/plain": [
       "<Figure size 432x288 with 1 Axes>"
      ]
     },
     "metadata": {
      "needs_background": "light"
     },
     "output_type": "display_data"
    }
   ],
   "source": [
    "reddit_pred_df['max_sim_to_conclusion'].hist()"
   ]
  },
  {
   "cell_type": "code",
   "execution_count": 29,
   "metadata": {
    "scrolled": true,
    "tags": []
   },
   "outputs": [
    {
     "name": "stderr",
     "output_type": "stream",
     "text": [
      "Warning: Empty reference sentence detected; setting recall to be 0.\n",
      "Warning: Empty reference sentence detected; setting recall to be 0.\n",
      "Warning: Empty reference sentence detected; setting recall to be 0.\n",
      "Warning: Empty reference sentence detected; setting recall to be 0.\n",
      "Warning: Empty reference sentence detected; setting recall to be 0.\n",
      "Warning: Empty reference sentence detected; setting recall to be 0.\n",
      "Warning: Empty reference sentence detected; setting recall to be 0.\n",
      "Warning: Empty reference sentence detected; setting recall to be 0.\n",
      "Warning: Empty reference sentence detected; setting recall to be 0.\n",
      "Warning: Empty reference sentence detected; setting recall to be 0.\n",
      "Warning: Empty reference sentence detected; setting recall to be 0.\n",
      "Warning: Empty reference sentence detected; setting recall to be 0.\n",
      "Warning: Empty reference sentence detected; setting recall to be 0.\n",
      "Warning: Empty reference sentence detected; setting recall to be 0.\n",
      "Warning: Empty reference sentence detected; setting recall to be 0.\n",
      "Warning: Empty reference sentence detected; setting recall to be 0.\n",
      "Warning: Empty reference sentence detected; setting recall to be 0.\n",
      "Warning: Empty reference sentence detected; setting recall to be 0.\n",
      "Warning: Empty reference sentence detected; setting recall to be 0.\n",
      "Warning: Empty reference sentence detected; setting recall to be 0.\n",
      "Warning: Empty reference sentence detected; setting recall to be 0.\n",
      "Warning: Empty reference sentence detected; setting recall to be 0.\n",
      "Warning: Empty reference sentence detected; setting recall to be 0.\n",
      "Warning: Empty reference sentence detected; setting recall to be 0.\n",
      "Warning: Empty reference sentence detected; setting recall to be 0.\n",
      "Warning: Empty reference sentence detected; setting recall to be 0.\n",
      "Warning: Empty reference sentence detected; setting recall to be 0.\n",
      "Warning: Empty reference sentence detected; setting recall to be 0.\n",
      "Warning: Empty reference sentence detected; setting recall to be 0.\n",
      "Warning: Empty reference sentence detected; setting recall to be 0.\n",
      "Warning: Empty reference sentence detected; setting recall to be 0.\n",
      "Warning: Empty reference sentence detected; setting recall to be 0.\n",
      "Warning: Empty reference sentence detected; setting recall to be 0.\n",
      "Warning: Empty reference sentence detected; setting recall to be 0.\n",
      "Warning: Empty reference sentence detected; setting recall to be 0.\n",
      "Warning: Empty reference sentence detected; setting recall to be 0.\n",
      "Warning: Empty reference sentence detected; setting recall to be 0.\n",
      "Warning: Empty reference sentence detected; setting recall to be 0.\n",
      "Warning: Empty reference sentence detected; setting recall to be 0.\n",
      "Warning: Empty reference sentence detected; setting recall to be 0.\n",
      "Warning: Empty reference sentence detected; setting recall to be 0.\n",
      "Warning: Empty reference sentence detected; setting recall to be 0.\n",
      "ProConClient: 100%|██████████| 945/945 [00:16<00:00, 55.78it/s]\n",
      "ProConClient: 100%|██████████| 945/945 [00:16<00:00, 58.93it/s]\n",
      "ProConClient:   0%|          | 0/945 [00:00<?, ?it/s]\u001b[A\n",
      "ProConClient: 100%|██████████| 945/945 [00:29<00:00, 58.93it/s]\u001b[A\n",
      "ProConClient: 100%|██████████| 945/945 [00:15<00:00, 60.82it/s]\u001b[A\n",
      "\n",
      "ProConClient:   0%|          | 0/945 [00:00<?, ?it/s]\u001b[A\u001b[A\n",
      "\n",
      "ProConClient:  53%|█████▎    | 500/945 [00:08<00:07, 57.90it/s]\u001b[A\u001b[A\n",
      "ProConClient: 100%|██████████| 945/945 [00:26<00:00, 60.82it/s]\u001b[A\n",
      "\n",
      "ProConClient: 100%|██████████| 945/945 [00:48<00:00, 19.67it/s]\u001b[A\u001b[A\n",
      "ProConClient: 100%|██████████| 945/945 [00:32<00:00, 29.53it/s]\n",
      "ProConClient: 100%|██████████| 945/945 [00:16<00:00, 57.46it/s]\n",
      "ProConClient: 100%|██████████| 945/945 [00:16<00:00, 58.64it/s]\n",
      "ProConClient:   0%|          | 0/945 [00:00<?, ?it/s]\u001b[A\n",
      "ProConClient: 100%|██████████| 945/945 [00:31<00:00, 58.64it/s]\u001b[A\n",
      "ProConClient: 100%|██████████| 945/945 [00:33<00:00, 28.52it/s]\u001b[A\n",
      "ProConClient: 100%|██████████| 945/945 [00:17<00:00, 55.39it/s]"
     ]
    },
    {
     "name": "stdout",
     "output_type": "stream",
     "text": [
      "                                 bleu    bert-f1score    stance-score (diff)\n",
      "---------------------------  --------  --------------  ---------------------\n",
      "Masked Conclusion            0.147855        0.135021                   0.79\n",
      "BART Conclusion              0.157927        0.174805                   0.72\n",
      "ArgLexRank Conclusion        0.126133        0.123041                   0.77\n",
      "Joint Prediction (baseline)  0.152781        0.158605                   0.75\n",
      "Joint Prediction             0.148699        0.131461                   0.77\n",
      "Known Conclusion             0.207776        0.185653                   0.64\n",
      "=======\n",
      "Distribution is not normal, so using wilcoxon\n",
      "BART vs baseline (BLEU): False\n",
      "Distribution is not normal, so using wilcoxon\n",
      "BART vs baseline (BERT): False\n",
      "-------\n",
      "Distribution is not normal, so using wilcoxon\n",
      "Joint Prediction (baseline) vs baseline (BLEU): False\n",
      "Distribution is not normal, so using wilcoxon\n",
      "Joint Prediction (baseline) vs baseline (BERT): True\n",
      "-------\n",
      "Distribution is not normal, so using wilcoxon\n",
      "Joint Prediction vs baseline (BLEU): False\n",
      "Distribution is not normal, so using wilcoxon\n",
      "Joint Prediction vs baseline (BERT): False\n",
      "-------\n",
      "Distribution is not normal, so using wilcoxon\n",
      "Known Conclusion vs baseline (BLEU): True\n",
      "Distribution is not normal, so using wilcoxon\n",
      "Known Conclusion vs baseline (BERT): True\n"
     ]
    },
    {
     "name": "stderr",
     "output_type": "stream",
     "text": [
      "\n",
      "Warning: Empty reference sentence detected; setting recall to be 0.\n",
      "Warning: Empty reference sentence detected; setting recall to be 0.\n",
      "Warning: Empty reference sentence detected; setting recall to be 0.\n",
      "Warning: Empty reference sentence detected; setting recall to be 0.\n",
      "Warning: Empty reference sentence detected; setting recall to be 0.\n",
      "Warning: Empty reference sentence detected; setting recall to be 0.\n",
      "Warning: Empty reference sentence detected; setting recall to be 0.\n",
      "Warning: Empty reference sentence detected; setting recall to be 0.\n",
      "Warning: Empty reference sentence detected; setting recall to be 0.\n",
      "Warning: Empty reference sentence detected; setting recall to be 0.\n",
      "Warning: Empty reference sentence detected; setting recall to be 0.\n",
      "Warning: Empty reference sentence detected; setting recall to be 0.\n",
      "Warning: Empty reference sentence detected; setting recall to be 0.\n",
      "Warning: Empty reference sentence detected; setting recall to be 0.\n",
      "Warning: Empty reference sentence detected; setting recall to be 0.\n",
      "Warning: Empty reference sentence detected; setting recall to be 0.\n",
      "Warning: Empty reference sentence detected; setting recall to be 0.\n",
      "Warning: Empty reference sentence detected; setting recall to be 0.\n",
      "Warning: Empty reference sentence detected; setting recall to be 0.\n",
      "Warning: Empty reference sentence detected; setting recall to be 0.\n",
      "Warning: Empty reference sentence detected; setting recall to be 0.\n",
      "Warning: Empty reference sentence detected; setting recall to be 0.\n",
      "Warning: Empty reference sentence detected; setting recall to be 0.\n",
      "Warning: Empty reference sentence detected; setting recall to be 0.\n",
      "Warning: Empty reference sentence detected; setting recall to be 0.\n",
      "Warning: Empty reference sentence detected; setting recall to be 0.\n",
      "Warning: Empty reference sentence detected; setting recall to be 0.\n",
      "Warning: Empty reference sentence detected; setting recall to be 0.\n",
      "Warning: Empty reference sentence detected; setting recall to be 0.\n",
      "Warning: Empty reference sentence detected; setting recall to be 0.\n",
      "Warning: Empty reference sentence detected; setting recall to be 0.\n",
      "Warning: Empty reference sentence detected; setting recall to be 0.\n",
      "Warning: Empty reference sentence detected; setting recall to be 0.\n",
      "Warning: Empty reference sentence detected; setting recall to be 0.\n",
      "Warning: Empty reference sentence detected; setting recall to be 0.\n",
      "Warning: Empty reference sentence detected; setting recall to be 0.\n",
      "Warning: Empty reference sentence detected; setting recall to be 0.\n",
      "Warning: Empty reference sentence detected; setting recall to be 0.\n",
      "Warning: Empty reference sentence detected; setting recall to be 0.\n",
      "Warning: Empty reference sentence detected; setting recall to be 0.\n",
      "Warning: Empty reference sentence detected; setting recall to be 0.\n",
      "Warning: Empty reference sentence detected; setting recall to be 0.\n",
      "Warning: Empty reference sentence detected; setting recall to be 0.\n",
      "Warning: Empty reference sentence detected; setting recall to be 0.\n",
      "Warning: Empty reference sentence detected; setting recall to be 0.\n",
      "Warning: Empty reference sentence detected; setting recall to be 0.\n",
      "Warning: Empty reference sentence detected; setting recall to be 0.\n",
      "Warning: Empty reference sentence detected; setting recall to be 0.\n",
      "ProConClient: 100%|██████████| 919/919 [00:16<00:00, 56.28it/s]\n",
      "ProConClient:   0%|          | 0/919 [00:00<?, ?it/s]\u001b[A\n",
      "ProConClient: 100%|██████████| 919/919 [00:27<00:00, 56.28it/s]\u001b[A\n",
      "ProConClient: 100%|██████████| 919/919 [00:15<00:00, 58.83it/s]\u001b[A\n",
      "\n",
      "ProConClient:   0%|          | 0/919 [00:00<?, ?it/s]\u001b[A\u001b[A\n",
      "\n",
      "ProConClient:  54%|█████▍    | 500/919 [00:07<00:06, 64.13it/s]\u001b[A\u001b[A\n",
      "\n",
      "ProConClient: 100%|██████████| 919/919 [00:14<00:00, 62.92it/s]\u001b[A\u001b[A\n",
      "\n",
      "\n",
      "ProConClient:   0%|          | 0/919 [00:00<?, ?it/s]\u001b[A\u001b[A\u001b[A\n",
      "ProConClient: 100%|██████████| 919/919 [00:55<00:00, 16.61it/s]\u001b[A\n",
      "ProConClient: 100%|██████████| 919/919 [00:39<00:00, 23.53it/s]\n",
      "ProConClient: 100%|██████████| 919/919 [00:23<00:00, 39.16it/s]\n",
      "\n",
      "\n",
      "\n",
      "ProConClient:  54%|█████▍    | 500/919 [00:08<00:07, 56.18it/s]\u001b[A\u001b[A\u001b[A\n",
      "\n",
      "\n",
      "ProConClient:  54%|█████▍    | 500/919 [00:08<00:07, 58.79it/s]\u001b[A\u001b[A\u001b[A\n",
      "\n",
      "\n",
      "ProConClient: 100%|██████████| 919/919 [00:15<00:00, 58.21it/s]\u001b[A\u001b[A\u001b[A\n",
      "ProConClient:   0%|          | 0/919 [00:00<?, ?it/s]\u001b[A\n",
      "ProConClient: 100%|██████████| 919/919 [00:26<00:00, 58.21it/s]\u001b[A\n",
      "ProConClient: 100%|██████████| 919/919 [00:32<00:00, 28.50it/s]\u001b[A\n",
      "ProConClient: 100%|██████████| 919/919 [00:16<00:00, 55.75it/s]"
     ]
    },
    {
     "name": "stdout",
     "output_type": "stream",
     "text": [
      "                                 bleu    bert-f1score    stance-score (diff)\n",
      "---------------------------  --------  --------------  ---------------------\n",
      "Masked Conclusion            0.154162        0.155869                   0.75\n",
      "BART Conclusion              0.190544        0.191916                   0.68\n",
      "ArgLexRank Conclusion        0.141532        0.144348                   0.72\n",
      "Joint Prediction (baseline)  0.161747        0.174215                   0.75\n",
      "Joint Prediction             0.191842        0.157951                   0.75\n",
      "Known Conclusion             0.208531        0.194491                   0.59\n",
      "=======\n",
      "Distribution is not normal, so using wilcoxon\n",
      "BART vs baseline (BLEU): True\n",
      "Distribution is not normal, so using wilcoxon\n",
      "BART vs baseline (BERT): False\n",
      "-------\n",
      "Distribution is not normal, so using wilcoxon\n",
      "Joint Prediction (baseline) vs baseline (BLEU): False\n",
      "Distribution is not normal, so using wilcoxon\n",
      "Joint Prediction (baseline) vs baseline (BERT): True\n",
      "-------\n",
      "Distribution is not normal, so using wilcoxon\n",
      "Joint Prediction vs baseline (BLEU): True\n",
      "Distribution is not normal, so using wilcoxon\n",
      "Joint Prediction vs baseline (BERT): False\n",
      "-------\n",
      "Distribution is not normal, so using wilcoxon\n",
      "Known Conclusion vs baseline (BLEU): True\n",
      "Distribution is not normal, so using wilcoxon\n",
      "Known Conclusion vs baseline (BERT): True\n"
     ]
    },
    {
     "name": "stderr",
     "output_type": "stream",
     "text": [
      "\n",
      "ProConClient: 100%|██████████| 919/919 [00:48<00:00, 18.79it/s]\n",
      "ProConClient: 100%|██████████| 37/37 [00:00<00:00, 38.33it/s]\n",
      "ProConClient:   0%|          | 0/37 [00:00<?, ?it/s]\u001b[A\n",
      "ProConClient: 100%|██████████| 37/37 [00:05<00:00,  6.21it/s]\u001b[A\n",
      "\n",
      "ProConClient: 100%|██████████| 37/37 [00:11<00:00, 38.33it/s]\n",
      "\n",
      "ProConClient: 100%|██████████| 37/37 [00:06<00:00,  6.08it/s]\u001b[A\u001b[A\n",
      "\n",
      "\n",
      "ProConClient:   0%|          | 0/37 [00:00<?, ?it/s]\u001b[A\u001b[A\u001b[A\n",
      "\n",
      "\n",
      "ProConClient: 100%|██████████| 37/37 [00:06<00:00,  6.14it/s]\u001b[A\u001b[A\u001b[A\n",
      "\n",
      "\n",
      "\n",
      "ProConClient:   0%|          | 0/37 [00:00<?, ?it/s]\u001b[A\u001b[A\u001b[A\u001b[A\n",
      "\n",
      "\n",
      "\n",
      "ProConClient: 100%|██████████| 37/37 [00:05<00:00,  6.23it/s]\u001b[A\u001b[A\u001b[A\u001b[A\n",
      "\n",
      "\n",
      "\n",
      "\n",
      "ProConClient:   0%|          | 0/37 [00:00<?, ?it/s]\u001b[A\u001b[A\u001b[A\u001b[A\u001b[A\n",
      "\n",
      "\n",
      "\n",
      "\n",
      "ProConClient: 100%|██████████| 37/37 [00:31<00:00,  1.18it/s]\u001b[A\u001b[A\u001b[A\u001b[A\u001b[A\n",
      "ProConClient: 100%|██████████| 37/37 [00:30<00:00,  1.22it/s]\n",
      "ProConClient: 100%|██████████| 37/37 [00:24<00:00,  1.52it/s]\n",
      "ProConClient: 100%|██████████| 37/37 [00:18<00:00,  2.03it/s]\n",
      "ProConClient: 100%|██████████| 37/37 [00:12<00:00,  3.02it/s]\n",
      "ProConClient: 100%|██████████| 37/37 [00:06<00:00,  5.88it/s]"
     ]
    },
    {
     "name": "stdout",
     "output_type": "stream",
     "text": [
      "                                 bleu    bert-f1score    stance-score (diff)\n",
      "---------------------------  --------  --------------  ---------------------\n",
      "Masked Conclusion            0.172278        0.153294                   0.54\n",
      "BART Conclusion              0.172618        0.178094                   0.72\n",
      "ArgLexRank Conclusion        0.141577        0.13783                    0.53\n",
      "Joint Prediction (baseline)  0.171952        0.185987                   0.6\n",
      "Joint Prediction             0.296713        0.223745                   0.76\n",
      "Known Conclusion             0.192484        0.168208                   0.48\n",
      "=======\n",
      "Distribution is not normal, so using wilcoxon\n",
      "BART vs baseline (BLEU): False\n",
      "Distribution is not normal, so using wilcoxon\n",
      "BART vs baseline (BERT): False\n",
      "-------\n",
      "Distribution is not normal, so using wilcoxon\n",
      "Joint Prediction (baseline) vs baseline (BLEU): False\n",
      "Distribution is not normal, so using wilcoxon\n",
      "Joint Prediction (baseline) vs baseline (BERT): True\n",
      "-------\n",
      "Distribution is not normal, so using wilcoxon\n",
      "Joint Prediction vs baseline (BLEU): False\n",
      "Distribution is not normal, so using wilcoxon\n",
      "Joint Prediction vs baseline (BERT): False\n",
      "-------\n",
      "Distribution is normal, so using ttest_rel\n",
      "Known Conclusion vs baseline (BLEU): False\n",
      "Distribution is not normal, so using wilcoxon\n",
      "Known Conclusion vs baseline (BERT): False\n"
     ]
    },
    {
     "name": "stderr",
     "output_type": "stream",
     "text": [
      "\n",
      "Warning: Empty reference sentence detected; setting recall to be 0.\n",
      "Warning: Empty reference sentence detected; setting recall to be 0.\n",
      "Warning: Empty reference sentence detected; setting recall to be 0.\n",
      "Warning: Empty reference sentence detected; setting recall to be 0.\n",
      "Warning: Empty reference sentence detected; setting recall to be 0.\n",
      "Warning: Empty reference sentence detected; setting recall to be 0.\n",
      "Warning: Empty reference sentence detected; setting recall to be 0.\n",
      "Warning: Empty reference sentence detected; setting recall to be 0.\n",
      "Warning: Empty reference sentence detected; setting recall to be 0.\n",
      "Warning: Empty reference sentence detected; setting recall to be 0.\n",
      "Warning: Empty reference sentence detected; setting recall to be 0.\n",
      "Warning: Empty reference sentence detected; setting recall to be 0.\n",
      "Warning: Empty reference sentence detected; setting recall to be 0.\n",
      "Warning: Empty reference sentence detected; setting recall to be 0.\n",
      "Warning: Empty reference sentence detected; setting recall to be 0.\n",
      "Warning: Empty reference sentence detected; setting recall to be 0.\n",
      "Warning: Empty reference sentence detected; setting recall to be 0.\n",
      "Warning: Empty reference sentence detected; setting recall to be 0.\n",
      "Warning: Empty reference sentence detected; setting recall to be 0.\n",
      "Warning: Empty reference sentence detected; setting recall to be 0.\n",
      "Warning: Empty reference sentence detected; setting recall to be 0.\n",
      "Warning: Empty reference sentence detected; setting recall to be 0.\n",
      "Warning: Empty reference sentence detected; setting recall to be 0.\n",
      "Warning: Empty reference sentence detected; setting recall to be 0.\n",
      "Warning: Empty reference sentence detected; setting recall to be 0.\n",
      "Warning: Empty reference sentence detected; setting recall to be 0.\n",
      "Warning: Empty reference sentence detected; setting recall to be 0.\n",
      "Warning: Empty reference sentence detected; setting recall to be 0.\n",
      "Warning: Empty reference sentence detected; setting recall to be 0.\n",
      "Warning: Empty reference sentence detected; setting recall to be 0.\n",
      "Warning: Empty reference sentence detected; setting recall to be 0.\n",
      "Warning: Empty reference sentence detected; setting recall to be 0.\n",
      "Warning: Empty reference sentence detected; setting recall to be 0.\n",
      "Warning: Empty reference sentence detected; setting recall to be 0.\n",
      "Warning: Empty reference sentence detected; setting recall to be 0.\n",
      "Warning: Empty reference sentence detected; setting recall to be 0.\n",
      "Warning: Empty reference sentence detected; setting recall to be 0.\n",
      "Warning: Empty reference sentence detected; setting recall to be 0.\n",
      "Warning: Empty reference sentence detected; setting recall to be 0.\n",
      "Warning: Empty reference sentence detected; setting recall to be 0.\n",
      "Warning: Empty reference sentence detected; setting recall to be 0.\n",
      "Warning: Empty reference sentence detected; setting recall to be 0.\n",
      "Warning: Empty reference sentence detected; setting recall to be 0.\n",
      "Warning: Empty reference sentence detected; setting recall to be 0.\n",
      "Warning: Empty reference sentence detected; setting recall to be 0.\n",
      "Warning: Empty reference sentence detected; setting recall to be 0.\n",
      "Warning: Empty reference sentence detected; setting recall to be 0.\n",
      "Warning: Empty reference sentence detected; setting recall to be 0.\n",
      "Warning: Empty reference sentence detected; setting recall to be 0.\n",
      "Warning: Empty reference sentence detected; setting recall to be 0.\n",
      "Warning: Empty reference sentence detected; setting recall to be 0.\n",
      "Warning: Empty reference sentence detected; setting recall to be 0.\n",
      "Warning: Empty reference sentence detected; setting recall to be 0.\n",
      "Warning: Empty reference sentence detected; setting recall to be 0.\n",
      "Warning: Empty reference sentence detected; setting recall to be 0.\n",
      "Warning: Empty reference sentence detected; setting recall to be 0.\n",
      "Warning: Empty reference sentence detected; setting recall to be 0.\n",
      "Warning: Empty reference sentence detected; setting recall to be 0.\n",
      "Warning: Empty reference sentence detected; setting recall to be 0.\n",
      "Warning: Empty reference sentence detected; setting recall to be 0.\n",
      "Warning: Empty reference sentence detected; setting recall to be 0.\n",
      "Warning: Empty reference sentence detected; setting recall to be 0.\n",
      "Warning: Empty reference sentence detected; setting recall to be 0.\n",
      "Warning: Empty reference sentence detected; setting recall to be 0.\n",
      "Warning: Empty reference sentence detected; setting recall to be 0.\n",
      "Warning: Empty reference sentence detected; setting recall to be 0.\n",
      "Warning: Empty reference sentence detected; setting recall to be 0.\n",
      "Warning: Empty reference sentence detected; setting recall to be 0.\n",
      "Warning: Empty reference sentence detected; setting recall to be 0.\n",
      "Warning: Empty reference sentence detected; setting recall to be 0.\n",
      "Warning: Empty reference sentence detected; setting recall to be 0.\n",
      "Warning: Empty reference sentence detected; setting recall to be 0.\n",
      "Warning: Empty reference sentence detected; setting recall to be 0.\n",
      "Warning: Empty reference sentence detected; setting recall to be 0.\n",
      "Warning: Empty reference sentence detected; setting recall to be 0.\n",
      "Warning: Empty reference sentence detected; setting recall to be 0.\n",
      "Warning: Empty reference sentence detected; setting recall to be 0.\n",
      "Warning: Empty reference sentence detected; setting recall to be 0.\n",
      "Warning: Empty reference sentence detected; setting recall to be 0.\n",
      "Warning: Empty reference sentence detected; setting recall to be 0.\n",
      "Warning: Empty reference sentence detected; setting recall to be 0.\n",
      "Warning: Empty reference sentence detected; setting recall to be 0.\n",
      "Warning: Empty reference sentence detected; setting recall to be 0.\n",
      "Warning: Empty reference sentence detected; setting recall to be 0.\n",
      "ProConClient: 100%|██████████| 1901/1901 [00:19<00:00, 95.74it/s] \n",
      "ProConClient:   0%|          | 0/1901 [00:00<?, ?it/s]\u001b[A\n",
      "ProConClient: 100%|██████████| 1901/1901 [00:32<00:00, 95.74it/s][A\n",
      "ProConClient:  53%|█████▎    | 1000/1901 [00:15<00:13, 67.74it/s]\u001b[A\n",
      "ProConClient: 100%|██████████| 1901/1901 [00:51<00:00, 37.04it/s]\u001b[A\n",
      "\n",
      "ProConClient:  53%|█████▎    | 1000/1901 [00:10<00:10, 90.07it/s]\u001b[A\n",
      "ProConClient: 100%|██████████| 1901/1901 [00:24<00:00, 76.99it/s] [A\n",
      "ProConClient: 100%|██████████| 1901/1901 [00:22<00:00, 73.76it/s] \n",
      "\n",
      "ProConClient:   0%|          | 0/1901 [00:00<?, ?it/s]\u001b[A\u001b[A\n",
      "\n",
      "ProConClient: 100%|██████████| 1901/1901 [00:32<00:00, 73.76it/s][A\u001b[A\n",
      "\n",
      "ProConClient:  53%|█████▎    | 1000/1901 [00:12<00:10, 82.10it/s]\u001b[A\u001b[A\n",
      "\n",
      "ProConClient: 100%|██████████| 1901/1901 [00:45<00:00, 42.21it/s]\u001b[A\u001b[A\n",
      "\n",
      "\n",
      "ProConClient:  26%|██▋       | 500/1901 [00:06<00:17, 81.43it/s]]\u001b[A\u001b[A\n",
      "\n",
      "ProConClient: 100%|██████████| 1901/1901 [00:24<00:00, 77.29it/s]\u001b[A\u001b[A"
     ]
    },
    {
     "name": "stdout",
     "output_type": "stream",
     "text": [
      "                                 bleu    bert-f1score    stance-score (diff)\n",
      "---------------------------  --------  --------------  ---------------------\n",
      "Masked Conclusion            0.151418        0.145457                   0.77\n",
      "BART Conclusion              0.174852        0.183144                   0.7\n",
      "ArgLexRank Conclusion        0.133795        0.133631                   0.74\n",
      "Joint Prediction (baseline)  0.157331        0.166682                   0.75\n",
      "Joint Prediction             0.173105        0.146069                   0.76\n",
      "Known Conclusion             0.207872        0.189583                   0.61\n",
      "=======\n",
      "Distribution is not normal, so using wilcoxon\n",
      "BART vs baseline (BLEU): True\n",
      "Distribution is not normal, so using wilcoxon\n",
      "BART vs baseline (BERT): False\n",
      "-------\n",
      "Distribution is not normal, so using wilcoxon\n",
      "Joint Prediction (baseline) vs baseline (BLEU): False\n",
      "Distribution is not normal, so using wilcoxon\n",
      "Joint Prediction (baseline) vs baseline (BERT): True\n",
      "-------\n",
      "Distribution is not normal, so using wilcoxon\n",
      "Joint Prediction vs baseline (BLEU): True\n",
      "Distribution is not normal, so using wilcoxon\n",
      "Joint Prediction vs baseline (BERT): False\n",
      "-------\n",
      "Distribution is not normal, so using wilcoxon\n",
      "Known Conclusion vs baseline (BLEU): True\n",
      "Distribution is not normal, so using wilcoxon\n",
      "Known Conclusion vs baseline (BERT): True\n"
     ]
    },
    {
     "name": "stderr",
     "output_type": "stream",
     "text": [
      "ProConClient: 100%|██████████| 1901/1901 [00:37<00:00, 77.29it/s]"
     ]
    }
   ],
   "source": [
    "all_pred_scores = []\n",
    "for lvl in [[0, 0.6], [0.6, 0.8], [0.8, 1.1], [0, 1.1]]:\n",
    "    reddit_pred_df_part = reddit_pred_df[(reddit_pred_df['max_sim_to_conclusion'] >= lvl[0]) & (reddit_pred_df['max_sim_to_conclusion'] < lvl[1])].copy()\n",
    "    pred_df_scores = get_evaluation_results(reddit_pred_df_part, ceph_dir + data_path)\n",
    "    print_results(pred_df_scores)\n",
    "    all_pred_scores.append(pred_df_scores)"
   ]
  },
  {
   "cell_type": "code",
   "execution_count": 32,
   "metadata": {
    "scrolled": true,
    "tags": []
   },
   "outputs": [
    {
     "name": "stdout",
     "output_type": "stream",
     "text": [
      "                                 bleu    bert-f1score    stance-score (diff)\n",
      "---------------------------  --------  --------------  ---------------------\n",
      "Masked Conclusion            0.147855        0.135021                   0.79\n",
      "BART Conclusion              0.157927        0.174805                   0.72\n",
      "ArgLexRank Conclusion        0.126133        0.123041                   0.77\n",
      "Joint Prediction (baseline)  0.152781        0.158605                   0.75\n",
      "Joint Prediction             0.148699        0.131461                   0.77\n",
      "Known Conclusion             0.207776        0.185653                   0.64\n",
      "=======\n",
      "Distribution is not normal, so using wilcoxon\n",
      "BART vs baseline (BLEU): False\n",
      "Distribution is not normal, so using wilcoxon\n",
      "BART vs baseline (BERT): False\n",
      "-------\n",
      "Distribution is not normal, so using wilcoxon\n",
      "Joint Prediction (baseline) vs baseline (BLEU): False\n",
      "Distribution is not normal, so using wilcoxon\n",
      "Joint Prediction (baseline) vs baseline (BERT): True\n",
      "-------\n",
      "Distribution is not normal, so using wilcoxon\n",
      "Joint Prediction vs baseline (BLEU): False\n",
      "Distribution is not normal, so using wilcoxon\n",
      "Joint Prediction vs baseline (BERT): False\n",
      "-------\n",
      "Distribution is not normal, so using wilcoxon\n",
      "Known Conclusion vs baseline (BLEU): True\n",
      "Distribution is not normal, so using wilcoxon\n",
      "Known Conclusion vs baseline (BERT): True\n",
      "                                 bleu    bert-f1score    stance-score (diff)\n",
      "---------------------------  --------  --------------  ---------------------\n",
      "Masked Conclusion            0.154162        0.155869                   0.75\n",
      "BART Conclusion              0.190544        0.191916                   0.68\n",
      "ArgLexRank Conclusion        0.141532        0.144348                   0.72\n",
      "Joint Prediction (baseline)  0.161747        0.174215                   0.75\n",
      "Joint Prediction             0.191842        0.157951                   0.75\n",
      "Known Conclusion             0.208531        0.194491                   0.59\n",
      "=======\n",
      "Distribution is not normal, so using wilcoxon\n",
      "BART vs baseline (BLEU): True\n",
      "Distribution is not normal, so using wilcoxon\n",
      "BART vs baseline (BERT): False\n",
      "-------\n",
      "Distribution is not normal, so using wilcoxon\n",
      "Joint Prediction (baseline) vs baseline (BLEU): False\n",
      "Distribution is not normal, so using wilcoxon\n",
      "Joint Prediction (baseline) vs baseline (BERT): True\n",
      "-------\n",
      "Distribution is not normal, so using wilcoxon\n",
      "Joint Prediction vs baseline (BLEU): True\n",
      "Distribution is not normal, so using wilcoxon\n",
      "Joint Prediction vs baseline (BERT): False\n",
      "-------\n",
      "Distribution is not normal, so using wilcoxon\n",
      "Known Conclusion vs baseline (BLEU): True\n",
      "Distribution is not normal, so using wilcoxon\n",
      "Known Conclusion vs baseline (BERT): True\n",
      "                                 bleu    bert-f1score    stance-score (diff)\n",
      "---------------------------  --------  --------------  ---------------------\n",
      "Masked Conclusion            0.172278        0.153294                   0.54\n",
      "BART Conclusion              0.172618        0.178094                   0.72\n",
      "ArgLexRank Conclusion        0.141577        0.13783                    0.53\n",
      "Joint Prediction (baseline)  0.171952        0.185987                   0.6\n",
      "Joint Prediction             0.296713        0.223745                   0.76\n",
      "Known Conclusion             0.192484        0.168208                   0.48\n",
      "=======\n",
      "Distribution is not normal, so using wilcoxon\n",
      "BART vs baseline (BLEU): False\n",
      "Distribution is not normal, so using wilcoxon\n",
      "BART vs baseline (BERT): False\n",
      "-------\n",
      "Distribution is not normal, so using wilcoxon\n",
      "Joint Prediction (baseline) vs baseline (BLEU): False\n",
      "Distribution is not normal, so using wilcoxon\n",
      "Joint Prediction (baseline) vs baseline (BERT): True\n",
      "-------\n",
      "Distribution is not normal, so using wilcoxon\n",
      "Joint Prediction vs baseline (BLEU): False\n",
      "Distribution is not normal, so using wilcoxon\n",
      "Joint Prediction vs baseline (BERT): False\n",
      "-------\n",
      "Distribution is normal, so using ttest_rel\n",
      "Known Conclusion vs baseline (BLEU): False\n",
      "Distribution is not normal, so using wilcoxon\n",
      "Known Conclusion vs baseline (BERT): False\n",
      "                                 bleu    bert-f1score    stance-score (diff)\n",
      "---------------------------  --------  --------------  ---------------------\n",
      "Masked Conclusion            0.151418        0.145457                   0.77\n",
      "BART Conclusion              0.174852        0.183144                   0.7\n",
      "ArgLexRank Conclusion        0.133795        0.133631                   0.74\n",
      "Joint Prediction (baseline)  0.157331        0.166682                   0.75\n",
      "Joint Prediction             0.173105        0.146069                   0.76\n",
      "Known Conclusion             0.207872        0.189583                   0.61\n",
      "=======\n",
      "Distribution is not normal, so using wilcoxon\n",
      "BART vs baseline (BLEU): True\n",
      "Distribution is not normal, so using wilcoxon\n",
      "BART vs baseline (BERT): False\n",
      "-------\n",
      "Distribution is not normal, so using wilcoxon\n",
      "Joint Prediction (baseline) vs baseline (BLEU): False\n",
      "Distribution is not normal, so using wilcoxon\n",
      "Joint Prediction (baseline) vs baseline (BERT): True\n",
      "-------\n",
      "Distribution is not normal, so using wilcoxon\n",
      "Joint Prediction vs baseline (BLEU): True\n",
      "Distribution is not normal, so using wilcoxon\n",
      "Joint Prediction vs baseline (BERT): False\n",
      "-------\n",
      "Distribution is not normal, so using wilcoxon\n",
      "Known Conclusion vs baseline (BLEU): True\n",
      "Distribution is not normal, so using wilcoxon\n",
      "Known Conclusion vs baseline (BERT): True\n"
     ]
    }
   ],
   "source": [
    "for s in all_pred_scores:\n",
    "    print_results(s)"
   ]
  },
  {
   "cell_type": "markdown",
   "metadata": {},
   "source": [
    "#### Analyze effectiveness for different levels of argument length:"
   ]
  },
  {
   "cell_type": "code",
   "execution_count": 30,
   "metadata": {},
   "outputs": [],
   "source": [
    "reddit_pred_df['arg_len'] = reddit_pred_df.premises.apply(lambda x: len(nltk.word_tokenize(x)))"
   ]
  },
  {
   "cell_type": "code",
   "execution_count": 33,
   "metadata": {},
   "outputs": [
    {
     "data": {
      "text/plain": [
       "<matplotlib.axes._subplots.AxesSubplot at 0x7fe610e25588>"
      ]
     },
     "execution_count": 33,
     "metadata": {},
     "output_type": "execute_result"
    },
    {
     "data": {
      "image/png": "[encoded data removed]",
      "text/plain": [
       "<Figure size 432x288 with 1 Axes>"
      ]
     },
     "metadata": {
      "needs_background": "light"
     },
     "output_type": "display_data"
    }
   ],
   "source": [
    "reddit_pred_df['arg_len'].hist()"
   ]
  },
  {
   "cell_type": "code",
   "execution_count": 37,
   "metadata": {
    "scrolled": true,
    "tags": []
   },
   "outputs": [
    {
     "name": "stdout",
     "output_type": "stream",
     "text": [
      "Number of samples 656\n"
     ]
    },
    {
     "name": "stderr",
     "output_type": "stream",
     "text": [
      "ProConClient: 100%|██████████| 1901/1901 [18:37:06<00:00, 35.26s/it]\n",
      "ProConClient: 100%|██████████| 1901/1901 [18:35:46<00:00, 35.22s/it]\n",
      "/usr/local/lib/python3.6/dist-packages/ipykernel_launcher.py:57: SettingWithCopyWarning: \n",
      "A value is trying to be set on a copy of a slice from a DataFrame.\n",
      "Try using .loc[row_indexer,col_indexer] = value instead\n",
      "\n",
      "See the caveats in the documentation: https://pandas.pydata.org/pandas-docs/stable/user_guide/indexing.html#returning-a-view-versus-a-copy\n",
      "/usr/local/lib/python3.6/dist-packages/ipykernel_launcher.py:58: SettingWithCopyWarning: \n",
      "A value is trying to be set on a copy of a slice from a DataFrame.\n",
      "Try using .loc[row_indexer,col_indexer] = value instead\n",
      "\n",
      "See the caveats in the documentation: https://pandas.pydata.org/pandas-docs/stable/user_guide/indexing.html#returning-a-view-versus-a-copy\n",
      "Warning: Empty reference sentence detected; setting recall to be 0.\n",
      "Warning: Empty reference sentence detected; setting recall to be 0.\n",
      "Warning: Empty reference sentence detected; setting recall to be 0.\n",
      "Warning: Empty reference sentence detected; setting recall to be 0.\n",
      "Warning: Empty reference sentence detected; setting recall to be 0.\n",
      "Warning: Empty reference sentence detected; setting recall to be 0.\n",
      "Warning: Empty reference sentence detected; setting recall to be 0.\n",
      "Warning: Empty reference sentence detected; setting recall to be 0.\n",
      "Warning: Empty reference sentence detected; setting recall to be 0.\n",
      "Warning: Empty reference sentence detected; setting recall to be 0.\n",
      "Warning: Empty reference sentence detected; setting recall to be 0.\n",
      "Warning: Empty reference sentence detected; setting recall to be 0.\n",
      "Warning: Empty reference sentence detected; setting recall to be 0.\n",
      "Warning: Empty reference sentence detected; setting recall to be 0.\n",
      "Warning: Empty reference sentence detected; setting recall to be 0.\n",
      "Warning: Empty reference sentence detected; setting recall to be 0.\n",
      "Warning: Empty reference sentence detected; setting recall to be 0.\n",
      "Warning: Empty reference sentence detected; setting recall to be 0.\n",
      "Warning: Empty reference sentence detected; setting recall to be 0.\n",
      "Warning: Empty reference sentence detected; setting recall to be 0.\n",
      "Warning: Empty reference sentence detected; setting recall to be 0.\n",
      "Warning: Empty reference sentence detected; setting recall to be 0.\n",
      "Warning: Empty reference sentence detected; setting recall to be 0.\n",
      "Warning: Empty reference sentence detected; setting recall to be 0.\n",
      "Warning: Empty reference sentence detected; setting recall to be 0.\n",
      "Warning: Empty reference sentence detected; setting recall to be 0.\n",
      "Warning: Empty reference sentence detected; setting recall to be 0.\n",
      "Warning: Empty reference sentence detected; setting recall to be 0.\n",
      "Warning: Empty reference sentence detected; setting recall to be 0.\n",
      "Warning: Empty reference sentence detected; setting recall to be 0.\n",
      "ProConClient: 100%|██████████| 656/656 [00:06<00:00, 83.39it/s] \n",
      "ProConClient:   0%|          | 0/656 [00:00<?, ?it/s]\u001b[A\n",
      "ProConClient: 100%|██████████| 656/656 [00:18<00:00, 83.39it/s]\u001b[A\n",
      "ProConClient: 100%|██████████| 656/656 [00:12<00:00, 54.61it/s]\u001b[A\n",
      "\n",
      "ProConClient: 100%|██████████| 656/656 [00:28<00:00, 23.32it/s]\n",
      "ProConClient: 100%|██████████| 656/656 [00:21<00:00, 30.77it/s]\n",
      "\n",
      "\n",
      "ProConClient:  76%|███████▌  | 500/656 [00:09<00:02, 53.98it/s]\u001b[A\u001b[A\n",
      "\n",
      "ProConClient: 100%|██████████| 656/656 [00:12<00:00, 46.86it/s]\u001b[A\u001b[A\n",
      "ProConClient:   0%|          | 0/656 [00:00<?, ?it/s]\u001b[A\n",
      "\n",
      "ProConClient: 100%|██████████| 656/656 [00:26<00:00, 52.01it/s]\u001b[A\u001b[A\n",
      "ProConClient:  76%|███████▌  | 500/656 [00:08<00:02, 59.81it/s]\u001b[A\n",
      "ProConClient: 100%|██████████| 656/656 [00:11<00:00, 58.65it/s]\u001b[A\n",
      "\n",
      "\n",
      "ProConClient: 100%|██████████| 656/656 [00:23<00:00, 46.86it/s]\n",
      "\n",
      "\n",
      "ProConClient:  76%|███████▌  | 500/656 [00:08<00:02, 61.98it/s]\u001b[A\u001b[A\u001b[A\n",
      "ProConClient: 100%|██████████| 656/656 [00:21<00:00, 58.65it/s]\u001b[A\n",
      "\n",
      "\n",
      "ProConClient: 100%|██████████| 656/656 [00:38<00:00, 17.04it/s]\u001b[A\u001b[A\u001b[A\n",
      "ProConClient: 100%|██████████| 656/656 [00:26<00:00, 25.23it/s]\n",
      "ProConClient: 100%|██████████| 656/656 [00:14<00:00, 44.14it/s]"
     ]
    },
    {
     "name": "stdout",
     "output_type": "stream",
     "text": [
      "                                 bleu    bert-f1score    stance-score (diff)\n",
      "---------------------------  --------  --------------  ---------------------\n",
      "Masked Conclusion            0.151658        0.151095                   0.75\n",
      "BART Conclusion              0.169289        0.189602                   0.69\n",
      "ArgLexRank Conclusion        0.136987        0.139877                   0.74\n",
      "Joint Prediction (baseline)  0.150047        0.173574                   0.75\n",
      "Joint Prediction             0.170702        0.153879                   0.74\n",
      "Known Conclusion             0.207252        0.195973                   0.58\n",
      "=======\n",
      "Distribution is not normal, so using wilcoxon\n",
      "BART vs baseline (BLEU): True\n",
      "Distribution is not normal, so using wilcoxon\n",
      "BART vs baseline (BERT): False\n",
      "-------\n",
      "Distribution is not normal, so using wilcoxon\n",
      "Joint Prediction (baseline) vs baseline (BLEU): False\n",
      "Distribution is not normal, so using wilcoxon\n",
      "Joint Prediction (baseline) vs baseline (BERT): True\n",
      "-------\n",
      "Distribution is not normal, so using wilcoxon\n",
      "Joint Prediction vs baseline (BLEU): True\n",
      "Distribution is not normal, so using wilcoxon\n",
      "Joint Prediction vs baseline (BERT): False\n",
      "-------\n",
      "Distribution is not normal, so using wilcoxon\n",
      "Known Conclusion vs baseline (BLEU): True\n",
      "Distribution is not normal, so using wilcoxon\n",
      "Known Conclusion vs baseline (BERT): True\n",
      "Number of samples 771\n"
     ]
    },
    {
     "name": "stderr",
     "output_type": "stream",
     "text": [
      "\n",
      "ProConClient: 100%|██████████| 656/656 [00:52<00:00, 12.51it/s]\n",
      "/usr/local/lib/python3.6/dist-packages/ipykernel_launcher.py:57: SettingWithCopyWarning: \n",
      "A value is trying to be set on a copy of a slice from a DataFrame.\n",
      "Try using .loc[row_indexer,col_indexer] = value instead\n",
      "\n",
      "See the caveats in the documentation: https://pandas.pydata.org/pandas-docs/stable/user_guide/indexing.html#returning-a-view-versus-a-copy\n",
      "/usr/local/lib/python3.6/dist-packages/ipykernel_launcher.py:58: SettingWithCopyWarning: \n",
      "A value is trying to be set on a copy of a slice from a DataFrame.\n",
      "Try using .loc[row_indexer,col_indexer] = value instead\n",
      "\n",
      "See the caveats in the documentation: https://pandas.pydata.org/pandas-docs/stable/user_guide/indexing.html#returning-a-view-versus-a-copy\n",
      "Warning: Empty reference sentence detected; setting recall to be 0.\n",
      "Warning: Empty reference sentence detected; setting recall to be 0.\n",
      "Warning: Empty reference sentence detected; setting recall to be 0.\n",
      "Warning: Empty reference sentence detected; setting recall to be 0.\n",
      "Warning: Empty reference sentence detected; setting recall to be 0.\n",
      "Warning: Empty reference sentence detected; setting recall to be 0.\n",
      "Warning: Empty reference sentence detected; setting recall to be 0.\n",
      "Warning: Empty reference sentence detected; setting recall to be 0.\n",
      "Warning: Empty reference sentence detected; setting recall to be 0.\n",
      "Warning: Empty reference sentence detected; setting recall to be 0.\n",
      "Warning: Empty reference sentence detected; setting recall to be 0.\n",
      "Warning: Empty reference sentence detected; setting recall to be 0.\n",
      "Warning: Empty reference sentence detected; setting recall to be 0.\n",
      "Warning: Empty reference sentence detected; setting recall to be 0.\n",
      "Warning: Empty reference sentence detected; setting recall to be 0.\n",
      "Warning: Empty reference sentence detected; setting recall to be 0.\n",
      "Warning: Empty reference sentence detected; setting recall to be 0.\n",
      "Warning: Empty reference sentence detected; setting recall to be 0.\n",
      "Warning: Empty reference sentence detected; setting recall to be 0.\n",
      "Warning: Empty reference sentence detected; setting recall to be 0.\n",
      "Warning: Empty reference sentence detected; setting recall to be 0.\n",
      "Warning: Empty reference sentence detected; setting recall to be 0.\n",
      "Warning: Empty reference sentence detected; setting recall to be 0.\n",
      "Warning: Empty reference sentence detected; setting recall to be 0.\n",
      "ProConClient: 100%|██████████| 771/771 [00:06<00:00, 103.56it/s]\n",
      "ProConClient:   0%|          | 0/771 [00:00<?, ?it/s]\u001b[A\n",
      "ProConClient:  65%|██████▍   | 500/771 [00:06<00:03, 80.34it/s]\u001b[A\n",
      "ProConClient: 100%|██████████| 771/771 [00:12<00:00, 60.98it/s]\u001b[A\n",
      "\n",
      "ProConClient: 100%|██████████| 771/771 [00:18<00:00, 103.56it/s]\n",
      "\n",
      "ProConClient: 100%|██████████| 771/771 [00:28<00:00, 26.61it/s] [A\u001b[A\n",
      "ProConClient: 100%|██████████| 771/771 [00:22<00:00, 34.66it/s]\n",
      "\n",
      "\n",
      "ProConClient:   0%|          | 0/771 [00:00<?, ?it/s]58.24it/s]\u001b[A\u001b[A\n",
      "\n",
      "ProConClient: 100%|██████████| 771/771 [00:13<00:00, 62.51it/s]\u001b[A\u001b[A\n",
      "ProConClient:   0%|          | 0/771 [00:00<?, ?it/s]\u001b[A\n",
      "ProConClient:  65%|██████▍   | 500/771 [00:07<00:04, 62.98it/s]\u001b[A\n",
      "ProConClient: 100%|██████████| 771/771 [00:10<00:00, 73.66it/s]\u001b[A\n",
      "\n",
      "\n",
      "ProConClient: 100%|██████████| 771/771 [00:26<00:00, 62.51it/s]\n",
      "\n",
      "\n",
      "ProConClient:  65%|██████▍   | 500/771 [00:07<00:04, 63.69it/s]\u001b[A\u001b[A\u001b[A\n",
      "\n",
      "\n",
      "ProConClient: 100%|██████████| 771/771 [00:36<00:00, 21.03it/s]\u001b[A\u001b[A\u001b[A\n",
      "ProConClient: 100%|██████████| 771/771 [00:23<00:00, 33.17it/s]\n",
      "ProConClient: 100%|██████████| 771/771 [00:12<00:00, 62.04it/s]"
     ]
    },
    {
     "name": "stdout",
     "output_type": "stream",
     "text": [
      "                                 bleu    bert-f1score    stance-score (diff)\n",
      "---------------------------  --------  --------------  ---------------------\n",
      "Masked Conclusion            0.14884         0.147862                   0.77\n",
      "BART Conclusion              0.175515        0.188097                   0.69\n",
      "ArgLexRank Conclusion        0.131798        0.138812                   0.76\n",
      "Joint Prediction (baseline)  0.165626        0.172195                   0.76\n",
      "Joint Prediction             0.173109        0.149326                   0.79\n",
      "Known Conclusion             0.20674         0.192137                   0.62\n",
      "=======\n",
      "Distribution is not normal, so using wilcoxon\n",
      "BART vs baseline (BLEU): True\n",
      "Distribution is not normal, so using wilcoxon\n",
      "BART vs baseline (BERT): False\n",
      "-------\n",
      "Distribution is not normal, so using wilcoxon\n",
      "Joint Prediction (baseline) vs baseline (BLEU): False\n",
      "Distribution is not normal, so using wilcoxon\n",
      "Joint Prediction (baseline) vs baseline (BERT): True\n",
      "-------\n",
      "Distribution is not normal, so using wilcoxon\n",
      "Joint Prediction vs baseline (BLEU): True\n",
      "Distribution is not normal, so using wilcoxon\n",
      "Joint Prediction vs baseline (BERT): False\n",
      "-------\n",
      "Distribution is not normal, so using wilcoxon\n",
      "Known Conclusion vs baseline (BLEU): True\n",
      "Distribution is not normal, so using wilcoxon\n",
      "Known Conclusion vs baseline (BERT): True\n",
      "Number of samples 474\n"
     ]
    },
    {
     "name": "stderr",
     "output_type": "stream",
     "text": [
      "\n",
      "ProConClient: 100%|██████████| 771/771 [00:50<00:00, 15.15it/s]\n",
      "/usr/local/lib/python3.6/dist-packages/ipykernel_launcher.py:57: SettingWithCopyWarning: \n",
      "A value is trying to be set on a copy of a slice from a DataFrame.\n",
      "Try using .loc[row_indexer,col_indexer] = value instead\n",
      "\n",
      "See the caveats in the documentation: https://pandas.pydata.org/pandas-docs/stable/user_guide/indexing.html#returning-a-view-versus-a-copy\n",
      "/usr/local/lib/python3.6/dist-packages/ipykernel_launcher.py:58: SettingWithCopyWarning: \n",
      "A value is trying to be set on a copy of a slice from a DataFrame.\n",
      "Try using .loc[row_indexer,col_indexer] = value instead\n",
      "\n",
      "See the caveats in the documentation: https://pandas.pydata.org/pandas-docs/stable/user_guide/indexing.html#returning-a-view-versus-a-copy\n",
      "Warning: Empty reference sentence detected; setting recall to be 0.\n",
      "Warning: Empty reference sentence detected; setting recall to be 0.\n",
      "Warning: Empty reference sentence detected; setting recall to be 0.\n",
      "Warning: Empty reference sentence detected; setting recall to be 0.\n",
      "Warning: Empty reference sentence detected; setting recall to be 0.\n",
      "Warning: Empty reference sentence detected; setting recall to be 0.\n",
      "Warning: Empty reference sentence detected; setting recall to be 0.\n",
      "Warning: Empty reference sentence detected; setting recall to be 0.\n",
      "Warning: Empty reference sentence detected; setting recall to be 0.\n",
      "Warning: Empty reference sentence detected; setting recall to be 0.\n",
      "Warning: Empty reference sentence detected; setting recall to be 0.\n",
      "Warning: Empty reference sentence detected; setting recall to be 0.\n",
      "Warning: Empty reference sentence detected; setting recall to be 0.\n",
      "Warning: Empty reference sentence detected; setting recall to be 0.\n",
      "Warning: Empty reference sentence detected; setting recall to be 0.\n",
      "Warning: Empty reference sentence detected; setting recall to be 0.\n",
      "Warning: Empty reference sentence detected; setting recall to be 0.\n",
      "Warning: Empty reference sentence detected; setting recall to be 0.\n",
      "Warning: Empty reference sentence detected; setting recall to be 0.\n",
      "Warning: Empty reference sentence detected; setting recall to be 0.\n",
      "Warning: Empty reference sentence detected; setting recall to be 0.\n",
      "Warning: Empty reference sentence detected; setting recall to be 0.\n",
      "Warning: Empty reference sentence detected; setting recall to be 0.\n",
      "Warning: Empty reference sentence detected; setting recall to be 0.\n",
      "Warning: Empty reference sentence detected; setting recall to be 0.\n",
      "Warning: Empty reference sentence detected; setting recall to be 0.\n",
      "Warning: Empty reference sentence detected; setting recall to be 0.\n",
      "Warning: Empty reference sentence detected; setting recall to be 0.\n",
      "Warning: Empty reference sentence detected; setting recall to be 0.\n",
      "Warning: Empty reference sentence detected; setting recall to be 0.\n",
      "Warning: Empty reference sentence detected; setting recall to be 0.\n",
      "Warning: Empty reference sentence detected; setting recall to be 0.\n",
      "Warning: Empty reference sentence detected; setting recall to be 0.\n",
      "Warning: Empty reference sentence detected; setting recall to be 0.\n",
      "Warning: Empty reference sentence detected; setting recall to be 0.\n",
      "Warning: Empty reference sentence detected; setting recall to be 0.\n",
      "ProConClient: 100%|██████████| 474/474 [00:05<00:00, 88.46it/s]\n",
      "ProConClient:   0%|          | 0/474 [00:00<?, ?it/s]\u001b[A\n",
      "ProConClient: 100%|██████████| 474/474 [00:03<00:00, 148.32it/s]\u001b[A\n",
      "\n",
      "ProConClient:   0%|          | 0/474 [00:00<?, ?it/s]\u001b[A\n",
      "ProConClient: 100%|██████████| 474/474 [00:06<00:00, 69.07it/s]\u001b[A\n",
      "\n",
      "ProConClient: 100%|██████████| 474/474 [00:16<00:00, 88.46it/s]\n",
      "ProConClient: 100%|██████████| 474/474 [00:04<00:00, 117.94it/s]\u001b[A\n",
      "\n",
      "ProConClient:   0%|          | 0/474 [00:00<?, ?it/s]\u001b[A\n",
      "ProConClient: 100%|██████████| 474/474 [00:05<00:00, 85.03it/s]\u001b[A\n",
      "\n",
      "ProConClient:   0%|          | 0/474 [00:00<?, ?it/s]\u001b[A\n",
      "ProConClient: 100%|██████████| 474/474 [00:09<00:00, 50.29it/s]\u001b[A"
     ]
    },
    {
     "name": "stdout",
     "output_type": "stream",
     "text": [
      "                                 bleu    bert-f1score    stance-score (diff)\n",
      "---------------------------  --------  --------------  ---------------------\n",
      "Masked Conclusion            0.154739        0.133753                   0.8\n",
      "BART Conclusion              0.180904        0.166134                   0.73\n",
      "ArgLexRank Conclusion        0.132421        0.116553                   0.72\n",
      "Joint Prediction (baseline)  0.153303        0.14819                    0.73\n",
      "Joint Prediction             0.17614         0.129934                   0.76\n",
      "Known Conclusion             0.210407        0.176572                   0.66\n",
      "=======\n",
      "Distribution is not normal, so using wilcoxon\n",
      "BART vs baseline (BLEU): False\n",
      "Distribution is not normal, so using wilcoxon\n",
      "BART vs baseline (BERT): False\n",
      "-------\n",
      "Distribution is not normal, so using wilcoxon\n",
      "Joint Prediction (baseline) vs baseline (BLEU): False\n",
      "Distribution is not normal, so using wilcoxon\n",
      "Joint Prediction (baseline) vs baseline (BERT): True\n",
      "-------\n",
      "Distribution is not normal, so using wilcoxon\n",
      "Joint Prediction vs baseline (BLEU): False\n",
      "Distribution is not normal, so using wilcoxon\n",
      "Joint Prediction vs baseline (BERT): False\n",
      "-------\n",
      "Distribution is not normal, so using wilcoxon\n",
      "Known Conclusion vs baseline (BLEU): True\n",
      "Distribution is not normal, so using wilcoxon\n",
      "Known Conclusion vs baseline (BERT): True\n"
     ]
    }
   ],
   "source": [
    "all_pred_scores_per_len = []\n",
    "for lvl in [[0, 200], [200, 400], [400, 100000]]:\n",
    "    reddit_pred_df_part = reddit_pred_df[(reddit_pred_df['arg_len'] >= lvl[0]) & (reddit_pred_df['arg_len'] < lvl[1])]\n",
    "    print('Number of samples {}'.format(len(reddit_pred_df_part)))\n",
    "    \n",
    "    pred_df_scores = get_evaluation_results(reddit_pred_df_part, ceph_dir + data_path)\n",
    "    print_results(pred_df_scores)\n",
    "    all_pred_scores_per_len.append(pred_df_scores)"
   ]
  },
  {
   "cell_type": "code",
   "execution_count": 38,
   "metadata": {},
   "outputs": [
    {
     "name": "stderr",
     "output_type": "stream",
     "text": [
      "ProConClient: 100%|██████████| 474/474 [00:09<00:00, 49.10it/s]\n",
      "ProConClient: 100%|██████████| 474/474 [00:34<00:00, 13.67it/s]\n"
     ]
    },
    {
     "ename": "TypeError",
     "evalue": "'list' object is not callable",
     "output_type": "error",
     "traceback": [
      "\u001b[0;31m---------------------------------------------------------------------------\u001b[0m",
      "\u001b[0;31mTypeError\u001b[0m                                 Traceback (most recent call last)",
      "\u001b[0;32m<ipython-input-38-686cfb1922da>\u001b[0m in \u001b[0;36m<module>\u001b[0;34m\u001b[0m\n\u001b[1;32m      1\u001b[0m \u001b[0;32mfor\u001b[0m \u001b[0ms\u001b[0m \u001b[0;32min\u001b[0m \u001b[0mall_pred_scores\u001b[0m\u001b[0;34m:\u001b[0m\u001b[0;34m\u001b[0m\u001b[0;34m\u001b[0m\u001b[0m\n\u001b[0;32m----> 2\u001b[0;31m     \u001b[0mall_pred_scores_per_len\u001b[0m\u001b[0;34m(\u001b[0m\u001b[0ms\u001b[0m\u001b[0;34m)\u001b[0m\u001b[0;34m\u001b[0m\u001b[0;34m\u001b[0m\u001b[0m\n\u001b[0m",
      "\u001b[0;31mTypeError\u001b[0m: 'list' object is not callable"
     ]
    }
   ],
   "source": [
    "for s in all_pred_scores:\n",
    "    all_pred_scores_per_len(s)"
   ]
  },
  {
   "cell_type": "markdown",
   "metadata": {},
   "source": [
    "### Run experiments by removing premises that are similar to the conclusion:"
   ]
  },
  {
   "cell_type": "code",
   "execution_count": 17,
   "metadata": {
    "scrolled": true,
    "tags": []
   },
   "outputs": [
    {
     "data": {
      "application/vnd.jupyter.widget-view+json": {
       "model_id": "dcea714622b34fd09ac0b8d97d4e1a76",
       "version_major": 2,
       "version_minor": 0
      },
      "text/plain": [
       "  0%|          | 0/2 [00:00<?, ?ba/s]"
      ]
     },
     "metadata": {},
     "output_type": "display_data"
    },
    {
     "data": {
      "application/vnd.jupyter.widget-view+json": {
       "model_id": "d05f9d030f1d4c449b66197c7c3eaec1",
       "version_major": 2,
       "version_minor": 0
      },
      "text/plain": [
       "  0%|          | 0/2 [00:00<?, ?ba/s]"
      ]
     },
     "metadata": {},
     "output_type": "display_data"
    },
    {
     "data": {
      "application/vnd.jupyter.widget-view+json": {
       "model_id": "7e3dba23ddcf4b17b779247289bcb828",
       "version_major": 2,
       "version_minor": 0
      },
      "text/plain": [
       "  0%|          | 0/2 [00:00<?, ?ba/s]"
      ]
     },
     "metadata": {},
     "output_type": "display_data"
    },
    {
     "data": {
      "application/vnd.jupyter.widget-view+json": {
       "model_id": "9b86ad7987ec4198ac336a287e3ef40b",
       "version_major": 2,
       "version_minor": 0
      },
      "text/plain": [
       "  0%|          | 0/2 [00:00<?, ?ba/s]"
      ]
     },
     "metadata": {},
     "output_type": "display_data"
    },
    {
     "data": {
      "application/vnd.jupyter.widget-view+json": {
       "model_id": "4a98cdfb1e634acabe800ec8c25b7bdf",
       "version_major": 2,
       "version_minor": 0
      },
      "text/plain": [
       "  0%|          | 0/2 [00:00<?, ?ba/s]"
      ]
     },
     "metadata": {},
     "output_type": "display_data"
    },
    {
     "data": {
      "application/vnd.jupyter.widget-view+json": {
       "model_id": "f6dea89a1cf647e98eee4bb6e46b504b",
       "version_major": 2,
       "version_minor": 0
      },
      "text/plain": [
       "  0%|          | 0/2 [00:00<?, ?ba/s]"
      ]
     },
     "metadata": {},
     "output_type": "display_data"
    },
    {
     "data": {
      "application/vnd.jupyter.widget-view+json": {
       "model_id": "e0f51fc50c3a49b79330db2fb21966bb",
       "version_major": 2,
       "version_minor": 0
      },
      "text/plain": [
       "  0%|          | 0/2 [00:00<?, ?ba/s]"
      ]
     },
     "metadata": {},
     "output_type": "display_data"
    },
    {
     "name": "stderr",
     "output_type": "stream",
     "text": [
      "Warning: Empty reference sentence detected; setting recall to be 0.\n",
      "Warning: Empty reference sentence detected; setting recall to be 0.\n",
      "Warning: Empty reference sentence detected; setting recall to be 0.\n",
      "Warning: Empty reference sentence detected; setting recall to be 0.\n",
      "Warning: Empty reference sentence detected; setting recall to be 0.\n",
      "Warning: Empty reference sentence detected; setting recall to be 0.\n",
      "Warning: Empty reference sentence detected; setting recall to be 0.\n",
      "Warning: Empty reference sentence detected; setting recall to be 0.\n",
      "Warning: Empty reference sentence detected; setting recall to be 0.\n",
      "Warning: Empty reference sentence detected; setting recall to be 0.\n",
      "Warning: Empty reference sentence detected; setting recall to be 0.\n",
      "Warning: Empty reference sentence detected; setting recall to be 0.\n",
      "Warning: Empty reference sentence detected; setting recall to be 0.\n",
      "Warning: Empty reference sentence detected; setting recall to be 0.\n",
      "Warning: Empty reference sentence detected; setting recall to be 0.\n",
      "Warning: Empty reference sentence detected; setting recall to be 0.\n",
      "Warning: Empty reference sentence detected; setting recall to be 0.\n",
      "Warning: Empty reference sentence detected; setting recall to be 0.\n",
      "Warning: Empty reference sentence detected; setting recall to be 0.\n",
      "Warning: Empty reference sentence detected; setting recall to be 0.\n",
      "Warning: Empty reference sentence detected; setting recall to be 0.\n",
      "Warning: Empty reference sentence detected; setting recall to be 0.\n",
      "Warning: Empty reference sentence detected; setting recall to be 0.\n",
      "Warning: Empty reference sentence detected; setting recall to be 0.\n",
      "ProConClient: 100%|██████████| 1499/1499 [00:26<00:00, 57.36it/s]\n",
      "ProConClient:   0%|          | 0/1499 [00:00<?, ?it/s]\u001b[A\n",
      "ProConClient: 100%|██████████| 1499/1499 [00:37<00:00, 57.36it/s][A\n",
      "ProConClient:  67%|██████▋   | 1000/1499 [00:16<00:08, 59.95it/s]\u001b[A\n",
      "ProConClient: 100%|██████████| 1499/1499 [00:51<00:00, 29.17it/s]\u001b[A\n",
      "ProConClient: 100%|██████████| 1499/1499 [00:25<00:00, 59.65it/s]\n",
      "ProConClient: 100%|██████████| 1499/1499 [00:24<00:00, 61.75it/s]\n",
      "ProConClient:   0%|          | 0/1499 [00:00<?, ?it/s]\u001b[A\n",
      "ProConClient: 100%|██████████| 1499/1499 [00:36<00:00, 61.75it/s][A\n",
      "ProConClient:  67%|██████▋   | 1000/1499 [00:17<00:08, 56.58it/s]\u001b[A\n",
      "ProConClient: 100%|██████████| 1499/1499 [00:50<00:00, 29.66it/s]\u001b[A\n",
      "ProConClient: 100%|██████████| 1499/1499 [00:26<00:00, 57.47it/s]\n",
      "ProConClient: 100%|██████████| 1499/1499 [00:25<00:00, 58.61it/s]\n",
      "ProConClient:   0%|          | 0/1499 [00:00<?, ?it/s]\u001b[A\n",
      "ProConClient: 100%|██████████| 1499/1499 [00:35<00:00, 58.61it/s][A\n",
      "ProConClient:  67%|██████▋   | 1000/1499 [00:17<00:08, 56.42it/s]\u001b[A\n",
      "ProConClient: 100%|██████████| 1499/1499 [00:26<00:00, 56.92it/s]\u001b[A"
     ]
    },
    {
     "name": "stdout",
     "output_type": "stream",
     "text": [
      "                                 bleu    bert-f1score    stance-score (diff)\n",
      "---------------------------  --------  --------------  ---------------------\n",
      "Masked Conclusion            0.133543        0.117534                   0.74\n",
      "BART Conclusion              0.136626        0.166914                   0.89\n",
      "ArgLexRank Conclusion        0.127403        0.120435                   0.77\n",
      "Joint Prediction (baseline)  0.143528        0.140205                   0.81\n",
      "Joint Prediction             0.152893        0.119865                   0.73\n",
      "Known Conclusion             0.196081        0.167839                   0.87\n",
      "=======\n",
      "Distribution is not normal, so using wilcoxon\n",
      "BART vs baseline (BLEU): True\n",
      "Distribution is not normal, so using wilcoxon\n",
      "BART vs baseline (BERT): False\n",
      "-------\n",
      "Distribution is not normal, so using wilcoxon\n",
      "Joint Prediction (baseline) vs baseline (BLEU): False\n",
      "Distribution is not normal, so using wilcoxon\n",
      "Joint Prediction (baseline) vs baseline (BERT): True\n",
      "-------\n",
      "Distribution is not normal, so using wilcoxon\n",
      "Joint Prediction vs baseline (BLEU): True\n",
      "Distribution is not normal, so using wilcoxon\n",
      "Joint Prediction vs baseline (BERT): False\n",
      "-------\n",
      "Distribution is not normal, so using wilcoxon\n",
      "Known Conclusion vs baseline (BLEU): True\n",
      "Distribution is not normal, so using wilcoxon\n",
      "Known Conclusion vs baseline (BERT): True\n"
     ]
    },
    {
     "name": "stderr",
     "output_type": "stream",
     "text": [
      "ProConClient: 100%|██████████| 1499/1499 [00:59<00:00, 25.13it/s]\n",
      "ProConClient: 100%|██████████| 1499/1499 [00:34<00:00, 43.94it/s]\n"
     ]
    },
    {
     "data": {
      "application/vnd.jupyter.widget-view+json": {
       "model_id": "3faa0ef9d06f431ebb7fb17b631d94ca",
       "version_major": 2,
       "version_minor": 0
      },
      "text/plain": [
       "  0%|          | 0/2 [00:00<?, ?ba/s]"
      ]
     },
     "metadata": {},
     "output_type": "display_data"
    },
    {
     "data": {
      "application/vnd.jupyter.widget-view+json": {
       "model_id": "34344d22c1b74c7294986423836c852b",
       "version_major": 2,
       "version_minor": 0
      },
      "text/plain": [
       "  0%|          | 0/2 [00:00<?, ?ba/s]"
      ]
     },
     "metadata": {},
     "output_type": "display_data"
    },
    {
     "data": {
      "application/vnd.jupyter.widget-view+json": {
       "model_id": "a203794b19d44e5ab0f21c854f573445",
       "version_major": 2,
       "version_minor": 0
      },
      "text/plain": [
       "  0%|          | 0/2 [00:00<?, ?ba/s]"
      ]
     },
     "metadata": {},
     "output_type": "display_data"
    },
    {
     "data": {
      "application/vnd.jupyter.widget-view+json": {
       "model_id": "ec3d5af445634a71aa6375ee5b35c844",
       "version_major": 2,
       "version_minor": 0
      },
      "text/plain": [
       "  0%|          | 0/2 [00:00<?, ?ba/s]"
      ]
     },
     "metadata": {},
     "output_type": "display_data"
    },
    {
     "data": {
      "application/vnd.jupyter.widget-view+json": {
       "model_id": "ca86e2354f644311a5aa94871b3fedd5",
       "version_major": 2,
       "version_minor": 0
      },
      "text/plain": [
       "  0%|          | 0/2 [00:00<?, ?ba/s]"
      ]
     },
     "metadata": {},
     "output_type": "display_data"
    },
    {
     "data": {
      "application/vnd.jupyter.widget-view+json": {
       "model_id": "a80bd7af4d2f48318e3127466f6dab20",
       "version_major": 2,
       "version_minor": 0
      },
      "text/plain": [
       "  0%|          | 0/2 [00:00<?, ?ba/s]"
      ]
     },
     "metadata": {},
     "output_type": "display_data"
    },
    {
     "data": {
      "application/vnd.jupyter.widget-view+json": {
       "model_id": "08d3d5684b9141ae9f58554fba59af84",
       "version_major": 2,
       "version_minor": 0
      },
      "text/plain": [
       "  0%|          | 0/2 [00:00<?, ?ba/s]"
      ]
     },
     "metadata": {},
     "output_type": "display_data"
    },
    {
     "name": "stderr",
     "output_type": "stream",
     "text": [
      "Warning: Empty reference sentence detected; setting recall to be 0.\n",
      "Warning: Empty reference sentence detected; setting recall to be 0.\n",
      "Warning: Empty reference sentence detected; setting recall to be 0.\n",
      "Warning: Empty reference sentence detected; setting recall to be 0.\n",
      "Warning: Empty reference sentence detected; setting recall to be 0.\n",
      "Warning: Empty reference sentence detected; setting recall to be 0.\n",
      "Warning: Empty reference sentence detected; setting recall to be 0.\n",
      "Warning: Empty reference sentence detected; setting recall to be 0.\n",
      "Warning: Empty reference sentence detected; setting recall to be 0.\n",
      "Warning: Empty reference sentence detected; setting recall to be 0.\n",
      "Warning: Empty reference sentence detected; setting recall to be 0.\n",
      "Warning: Empty reference sentence detected; setting recall to be 0.\n",
      "Warning: Empty reference sentence detected; setting recall to be 0.\n",
      "Warning: Empty reference sentence detected; setting recall to be 0.\n",
      "Warning: Empty reference sentence detected; setting recall to be 0.\n",
      "Warning: Empty reference sentence detected; setting recall to be 0.\n",
      "Warning: Empty reference sentence detected; setting recall to be 0.\n",
      "Warning: Empty reference sentence detected; setting recall to be 0.\n",
      "Warning: Empty reference sentence detected; setting recall to be 0.\n",
      "Warning: Empty reference sentence detected; setting recall to be 0.\n",
      "Warning: Empty reference sentence detected; setting recall to be 0.\n",
      "Warning: Empty reference sentence detected; setting recall to be 0.\n",
      "Warning: Empty reference sentence detected; setting recall to be 0.\n",
      "Warning: Empty reference sentence detected; setting recall to be 0.\n",
      "ProConClient: 100%|██████████| 1499/1499 [00:25<00:00, 57.55it/s]\n",
      "ProConClient:   0%|          | 0/1499 [00:00<?, ?it/s]\u001b[A\n",
      "ProConClient:  33%|███▎      | 500/1499 [00:05<00:10, 97.78it/s]\u001b[A\n",
      "ProConClient: 100%|██████████| 1499/1499 [00:43<00:00, 57.55it/s]\u001b[A\n",
      "ProConClient: 100%|██████████| 1499/1499 [00:46<00:00, 32.08it/s]\u001b[A\n",
      "ProConClient: 100%|██████████| 1499/1499 [00:20<00:00, 72.29it/s]\n",
      "ProConClient: 100%|██████████| 1499/1499 [00:20<00:00, 66.73it/s] \n",
      "ProConClient:   0%|          | 0/1499 [00:00<?, ?it/s]\u001b[A\n",
      "ProConClient:  33%|███▎      | 500/1499 [00:08<00:17, 57.76it/s]\u001b[A\n",
      "ProConClient: 100%|██████████| 1499/1499 [00:36<00:00, 66.73it/s]\u001b[A\n",
      "ProConClient: 100%|██████████| 1499/1499 [00:43<00:00, 34.36it/s]\u001b[A\n",
      "ProConClient: 100%|██████████| 1499/1499 [00:23<00:00, 64.05it/s]\n",
      "ProConClient: 100%|██████████| 1499/1499 [00:22<00:00, 68.06it/s]\n",
      "ProConClient:   0%|          | 0/1499 [00:00<?, ?it/s]\u001b[A\n",
      "ProConClient: 100%|██████████| 1499/1499 [00:33<00:00, 68.06it/s][A\n",
      "ProConClient:  67%|██████▋   | 1000/1499 [00:15<00:07, 66.08it/s]\u001b[A\n",
      "ProConClient: 100%|██████████| 1499/1499 [00:22<00:00, 69.14it/s]\u001b[A"
     ]
    },
    {
     "name": "stdout",
     "output_type": "stream",
     "text": [
      "                                 bleu    bert-f1score    stance-score (diff)\n",
      "---------------------------  --------  --------------  ---------------------\n",
      "Masked Conclusion            0.126556        0.109075                   0.76\n",
      "BART Conclusion              0.134031        0.167167                   0.89\n",
      "ArgLexRank Conclusion        0.127082        0.11991                    0.78\n",
      "Joint Prediction (baseline)  0.139894        0.129912                   0.82\n",
      "Joint Prediction             0.139065        0.109321                   0.72\n",
      "Known Conclusion             0.19497         0.167571                   0.88\n",
      "=======\n",
      "Distribution is not normal, so using wilcoxon\n",
      "BART vs baseline (BLEU): True\n",
      "Distribution is not normal, so using wilcoxon\n",
      "BART vs baseline (BERT): False\n",
      "-------\n",
      "Distribution is not normal, so using wilcoxon\n",
      "Joint Prediction (baseline) vs baseline (BLEU): False\n",
      "Distribution is not normal, so using wilcoxon\n",
      "Joint Prediction (baseline) vs baseline (BERT): True\n",
      "-------\n",
      "Distribution is not normal, so using wilcoxon\n",
      "Joint Prediction vs baseline (BLEU): True\n",
      "Distribution is not normal, so using wilcoxon\n",
      "Joint Prediction vs baseline (BERT): False\n",
      "-------\n",
      "Distribution is not normal, so using wilcoxon\n",
      "Known Conclusion vs baseline (BLEU): True\n",
      "Distribution is not normal, so using wilcoxon\n",
      "Known Conclusion vs baseline (BERT): True\n"
     ]
    },
    {
     "name": "stderr",
     "output_type": "stream",
     "text": [
      "\n",
      "ProConClient: 100%|██████████| 1499/1499 [00:40<00:00, 69.14it/s]\u001b[A"
     ]
    }
   ],
   "source": [
    "levels_of_masking = [1.0, 0.75, 0.6, 0.5]\n",
    "\n",
    "gen_kwargs = {\n",
    "    \"do_sample\": False, \n",
    "    \"max_length\":100,\n",
    "    \"num_beams\":10\n",
    "}\n",
    "\n",
    "all_pred_scores = []\n",
    "for lvl in levels_of_masking:\n",
    "    masked_clm = '{}_perc_masked_premises'.format(lvl*10)\n",
    "    valid_df = remove_similar_sents(valid_df, threshold=lvl, masked_clm = masked_clm)\n",
    "\n",
    "    #Create a dataset\n",
    "    unique_valid_posts = valid_df.drop_duplicates('post_id')\n",
    "    valid_ds = Dataset.from_pandas(unique_valid_posts)\n",
    "    #If we want to take a small sample..\n",
    "    #valid_ds = valid_ds.train_test_split(0.5)\n",
    "    #valid_ds = valid_ds['test']\n",
    "    valid_ds = valid_ds.flatten_indices()\n",
    "\n",
    "    #generate predictions\n",
    "    reddit_pred_df = create_predictions_df(valid_ds, gen_kwargs, premises_clm=masked_clm)\n",
    "    reddit_pred_df.to_pickle('../data/output/reddit_pred_df_{}.pkl'.format(masked_clm))\n",
    "    \n",
    "    pred_df_scores = get_evaluation_results(reddit_pred_df, ceph_dir + data_path)\n",
    "    print_results(pred_df_scores)\n",
    "    all_pred_scores.append(pred_df_scores)"
   ]
  }
 ],
 "metadata": {
  "kernelspec": {
   "display_name": "Python 3",
   "language": "python",
   "name": "python3"
  },
  "language_info": {
   "codemirror_mode": {
    "name": "ipython",
    "version": 3
   },
   "file_extension": ".py",
   "mimetype": "text/x-python",
   "name": "python",
   "nbconvert_exporter": "python",
   "pygments_lexer": "ipython3",
   "version": "3.6.9"
  }
 },
 "nbformat": 4,
 "nbformat_minor": 4
}
